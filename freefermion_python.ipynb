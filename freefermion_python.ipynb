{
 "cells": [
  {
   "cell_type": "code",
   "execution_count": 2,
   "metadata": {},
   "outputs": [],
   "source": [
    "import numpy as np\n",
    "import scipy as sp\n",
    "from scipy.linalg import block_diag\n",
    "import random\n",
    "from math import pi, sqrt\n",
    "import sys\n",
    "import os.path\n",
    "import matplotlib.pyplot as plt\n",
    "import time"
   ]
  },
  {
   "cell_type": "code",
   "execution_count": 3,
   "metadata": {},
   "outputs": [],
   "source": [
    "def renyi_calc(r,GA,epsilon=1e-9):\n",
    "    \"\"\"computes von Renyi entropy of 1d free fermions\"\"\"\n",
    "    \"\"\"GA: correlation matrix\"\"\"\n",
    "   \n",
    "    chi0, _ =np.linalg.eigh(GA)\n",
    "    chi1=chi0[np.nonzero(np.abs(chi0)>epsilon)]\n",
    "    chi2=chi1[np.nonzero(np.abs(chi1-1)>epsilon)]\n",
    "#     return -np.sum((1-chi2)*np.log(1-chi2)+chi2*np.log(chi2))\n",
    "    return np.sum(np.log((1-chi2)**r+chi2**r))/(1-r)\n",
    "\n",
    "def EE_calc(GA,epsilon=1e-9):\n",
    "    \"\"\"computes von Neumann entanglement entropy of 1d free fermions\"\"\"\n",
    "    \"\"\"GA: correlation matrix\"\"\"\n",
    "    chi0, _ =np.linalg.eigh(GA)\n",
    "    chi1=chi0[np.nonzero(np.abs(chi0)>epsilon)]\n",
    "    chi2=chi1[np.nonzero(np.abs(chi1-1)>epsilon)]\n",
    "    return -np.sum((1-chi2)*np.log(1-chi2)+chi2*np.log(chi2))\n",
    "\n",
    "\n",
    "def mut_inf_calc(Na,Nb,GA,epsilon=1e-9):\n",
    "    \"\"\"computes mutual information of 1d free fermions\"\"\"\n",
    "    \"\"\"GA: correlation matrix\"\"\"\n",
    "    Nt=Na+Nb\n",
    "    S12 = EE_calc(GA)\n",
    "    S1 = EE_calc(GA[:Na,:Na])\n",
    "    S2 = EE_calc(GA[Na:,Na:])\n",
    "    return S1+S2-S12\n",
    "\n",
    "def log_neg_calc(Na,Nb,Gm,epsilon=1e-9):\n",
    "    \"\"\"computes log negativity of 1d free fermions\"\"\"\n",
    "    \"\"\"Gm: covariance matrix of A and B\"\"\"\n",
    "    \"\"\"Na, Nb: number of complex fermions in A and B\"\"\"\n",
    "    Nt=Na+Nb\n",
    "\n",
    "    Gm_1= np.block([\n",
    "        [-Gm[:2*Na,:2*Na], -1j*Gm[:2*Na,2*Na:]],\n",
    "        [-1j*Gm[2*Na:,:2*Na], Gm[2*Na:,2*Na:]]\n",
    "    ])\n",
    "    Gm_2= np.block([\n",
    "        [-Gm[:2*Na,:2*Na], 1j*Gm[:2*Na,2*Na:]],\n",
    "        [1j*Gm[2*Na:,:2*Na], Gm[2*Na:,2*Na:]]\n",
    "    ])\n",
    "    Gx=np.eye(2*Nt)- np.dot(np.eye(2*Nt)+1j*Gm_2,np.dot(np.linalg.inv(np.eye(2*Nt)-np.dot(Gm_1,Gm_2)),np.eye(2*Nt)+1j*Gm_1))\n",
    "    Gx=(Gx+np.transpose(Gx).conj())/2 # make sure it is hermitian\n",
    "\n",
    "    chi0 =np.linalg.eigvalsh(Gx)\n",
    "    i0=np.nonzero(np.abs(chi0-1)>epsilon)[0]\n",
    "    chi1=chi0[i0]\n",
    "    i1=np.nonzero(np.abs(chi1+1)>epsilon)[0]\n",
    "    nu=chi1[i1]\n",
    "    eA=np.sum(np.log(((1+nu+1j*0)/2)**0.5+((1-nu+1j*0)/2)**0.5))/2\n",
    "    \n",
    "    chi =np.linalg.eigvalsh(1j*Gm)\n",
    "    sA=np.sum(np.log(((1+chi)/2)**2+((1-chi)/2)**2))/4    \n",
    "\n",
    "    return np.real(eA+sA)\n"
   ]
  },
  {
   "cell_type": "code",
   "execution_count": 3,
   "metadata": {},
   "outputs": [],
   "source": [
    "#### SSH chain sanity checks\n",
    "\n",
    "N = 100\n",
    "Lsub_list=np.arange(2,int(N/2)+1)\n",
    "N_pt = int(N/2)\n",
    "r=0.5\n",
    "\n",
    "t=1.0\n",
    "BC = -1\n",
    "hop= np.diag(np.ones(N-1),1)\n",
    "hop[N-1,0]= t*BC\n",
    "H_t= -(hop+ np.matrix(hop).H)/2 \n",
    "energies, evecs= np.linalg.eigh(H_t)\n",
    "V1 =  evecs[:,:N_pt]\n",
    "Gmat=np.dot(V1,np.matrix(V1).H)\n",
    "\n",
    "Rr=np.zeros(len(Lsub_list)) # Renyi entropy\n",
    "LN=np.zeros(len(Lsub_list)) # log neg\n",
    "\n",
    "for i_L in range(len(Lsub_list)):\n",
    "    Lsub=Lsub_list[i_L]\n",
    "    inds_A= np.arange(0,Lsub_list[i_L])\n",
    "    inds_AB= np.arange(0,int(2*Lsub_list[i_L]))\n",
    "\n",
    "    Rr[i_L]=renyi_calc(r,Gmat[np.ix_(inds_A,inds_A)])\n",
    "    Γ = np.kron(np.eye(2*Lsub)-2*Gmat[np.ix_(inds_AB,inds_AB)],[[0,1],[0,0]]) \\\n",
    "        -np.kron(np.eye(2*Lsub)-2*Gmat[np.ix_(inds_AB,inds_AB)],[[0,0],[1,0]])\n",
    "    LN[i_L]=log_neg_calc(Lsub,Lsub,Γ)\n",
    "#     LN[i_L]=log_neg_calc(Lsub,N-Lsub,Gmat)"
   ]
  },
  {
   "cell_type": "code",
   "execution_count": 4,
   "metadata": {},
   "outputs": [
    {
     "data": {
      "image/png": "[encoded data removed]",
      "text/plain": [
       "<Figure size 432x288 with 1 Axes>"
      ]
     },
     "metadata": {
      "needs_background": "light"
     },
     "output_type": "display_data"
    }
   ],
   "source": [
    "plt.figure()\n",
    "#     plt.plot(Lsub_list,-Rr_ex,'o',label='(-1) Renyi Entropy')\n",
    "plt.plot(Lsub_list,(Rr),'v',label='Renyi')\n",
    "plt.plot(Lsub_list,(LN),'x',label='log neg')\n",
    "plt.title('r=%d Renyi index' % (r))\n",
    "plt.xlabel('$\\ell$')\n",
    "plt.legend()\n",
    "plt.show()"
   ]
  },
  {
   "cell_type": "code",
   "execution_count": 11,
   "metadata": {},
   "outputs": [],
   "source": [
    "### Kitaev chain Hamiltonian\n",
    "\n",
    "def BdG_Hamiltonian(N,t,Δ,μ, Tm,BC):\n",
    "    hopping = np.diag(np.ones(N-1),-1)\n",
    "    hopping[0,N-1]=BC\n",
    "    H = np.block([[-t*(hopping+hopping.T)-μ*np.eye(N), Δ*(hopping-hopping.T)],\\\n",
    "        [-Δ*(hopping-hopping.T),t*(hopping+hopping.T)+μ*np.eye(N)]])\n",
    "    \n",
    "    En, Vn = np.linalg.eigh(H/2)\n",
    "    nF = np.diag(1/(1+np.exp(En/Tm)))\n",
    "#     Uvec = np.matrix(Vn[:N,:N])\n",
    "#     Vvec = np.matrix(Vn[N:,:N])\n",
    "    Uvec = np.matrix(Vn[:N,:])\n",
    "    Vvec = np.matrix(Vn[N:,:])\n",
    "    Fmat = Uvec.dot(nF.dot(Vvec.H))\n",
    "    Cmat = Vvec.dot(nF.dot(Vvec.H))\n",
    "    Γ = 1j*np.kron(Fmat.H+Fmat+Cmat-Cmat.T,[[1,0],[0,0]])\\\n",
    "        -1j*np.kron(Fmat.H+Fmat-Cmat+Cmat.T,[[0,0],[0,1]])\\\n",
    "        +np.kron(np.eye(N)+Fmat.H-Fmat-Cmat-Cmat.T,[[0,1],[0,0]])\\\n",
    "        -np.kron(np.eye(N)+Fmat.H-Fmat-Cmat-Cmat.T,[[0,1],[0,0]]).T\n",
    "    return Γ\n"
   ]
  },
  {
   "cell_type": "markdown",
   "metadata": {},
   "source": [
    "# Adjacent intervals"
   ]
  },
  {
   "cell_type": "code",
   "execution_count": 23,
   "metadata": {},
   "outputs": [],
   "source": [
    "δ = 0.\n",
    "Tm = 5e-3\n",
    "# from Haining's notes\n",
    "t = -(1+δ)/2\n",
    "Δ = t\n",
    "μ = (1-δ)\n",
    "Nc = 100\n",
    "N = 2*Nc # number of majoranas\n",
    "BC = -1\n",
    "\n",
    "Gm = BdG_Hamiltonian(Nc,t,Δ,μ,Tm,BC)\n",
    "Lsub_list=np.arange(2,int(N/3),2)\n",
    "LN=np.zeros(len(Lsub_list)) # log neg\n",
    "\n",
    "for i_L in range(len(Lsub_list)):\n",
    "    Lsub=Lsub_list[i_L]\n",
    "    inds_A= np.arange(0,Lsub_list[i_L])\n",
    "    inds_AB= np.arange(0,int(2*Lsub_list[i_L]))\n",
    "\n",
    "    LN[i_L]=log_neg_calc(int(Lsub/2),int(Lsub/2),Gm[np.ix_(inds_AB,inds_AB)])\n"
   ]
  },
  {
   "cell_type": "code",
   "execution_count": 13,
   "metadata": {},
   "outputs": [
    {
     "data": {
      "image/png": "[encoded data removed]",
      "text/plain": [
       "<Figure size 432x288 with 1 Axes>"
      ]
     },
     "metadata": {
      "needs_background": "light"
     },
     "output_type": "display_data"
    }
   ],
   "source": [
    "plt.figure()\n",
    "plt.plot(Lsub_list,(LN)/np.log(2),'x',label='log neg')\n",
    "plt.xlabel('$\\ell$')\n",
    "plt.legend()\n",
    "plt.show()"
   ]
  },
  {
   "cell_type": "code",
   "execution_count": 24,
   "metadata": {},
   "outputs": [
    {
     "data": {
      "image/png": "[encoded data removed]",
      "text/plain": [
       "<Figure size 432x288 with 1 Axes>"
      ]
     },
     "metadata": {
      "needs_background": "light"
     },
     "output_type": "display_data"
    }
   ],
   "source": [
    "plt.figure()\n",
    "# plt.plot(Lsub_list,(LN)/np.log(2),'x',label='log neg')\n",
    "plt.plot(np.tan(pi*Lsub_list/N),(LN),'x',label='log neg')\n",
    "xx = np.logspace(-1.5,0.8)\n",
    "plt.plot(xx,np.log(xx)/8+0.65, label=\"CFT, c=1/2\")\n",
    "plt.xlabel('$\\ell$')\n",
    "plt.xscale(\"log\")\n",
    "plt.legend()\n",
    "plt.show()"
   ]
  },
  {
   "cell_type": "code",
   "execution_count": 26,
   "metadata": {},
   "outputs": [
    {
     "data": {
      "image/png": "[encoded data removed]",
      "text/plain": [
       "<Figure size 432x288 with 1 Axes>"
      ]
     },
     "metadata": {
      "needs_background": "light"
     },
     "output_type": "display_data"
    }
   ],
   "source": [
    "plt.figure()\n",
    "# plt.plot(Lsub_list,(LN)/np.log(2),'x',label='log neg')\n",
    "plt.plot(np.tanh(pi*Lsub_list*Tm),(LN),'x',label='log neg')\n",
    "xx = np.logspace(-1.5,0.8)\n",
    "plt.plot(xx,np.log(xx)/8+0.65, label=\"CFT, c=1/2\")\n",
    "plt.xlabel('$\\ell$')\n",
    "plt.xscale(\"log\")\n",
    "plt.legend()\n",
    "plt.show()"
   ]
  },
  {
   "cell_type": "markdown",
   "metadata": {},
   "source": [
    "# Bipartite negativity"
   ]
  },
  {
   "cell_type": "code",
   "execution_count": 49,
   "metadata": {},
   "outputs": [],
   "source": [
    "δlist = np.linspace(-1,1,201)\n",
    "Tm = 5e-3\n",
    "Nc = 64\n",
    "N = 2*Nc # number of majoranas\n",
    "BC = -1\n",
    "\n",
    "Lsub_list=np.array([8,16,32,64])\n",
    "LN=np.zeros((len(δlist),len(Lsub_list))) # log neg\n",
    "\n",
    "for i_d in range(len(δlist)):\n",
    "    δ = δlist[i_d]\n",
    "    t = -(1+δ)/2\n",
    "    Δ = t\n",
    "    μ = (1-δ)\n",
    "    Gm = BdG_Hamiltonian(Nc,t,Δ,μ,Tm,BC)\n",
    "    \n",
    "    for i_L in range(len(Lsub_list)):\n",
    "        Lsub=Lsub_list[i_L]\n",
    "        inds_A= np.arange(0,Lsub)\n",
    "#         inds_AB= np.arange(0,int(2*Lsub_list[i_L]))\n",
    "        inds_AB= np.arange(0,N)\n",
    "\n",
    "        LN[i_d,i_L]=log_neg_calc(int(Lsub/2),Nc-int(Lsub/2),Gm[np.ix_(inds_AB,inds_AB)])\n"
   ]
  },
  {
   "cell_type": "code",
   "execution_count": 50,
   "metadata": {},
   "outputs": [
    {
     "data": {
      "image/png": "[encoded data removed]",
      "text/plain": [
       "<Figure size 432x288 with 1 Axes>"
      ]
     },
     "metadata": {
      "needs_background": "light"
     },
     "output_type": "display_data"
    }
   ],
   "source": [
    "for i_L in range(len(Lsub_list)):\n",
    "    plt.plot(δlist, LN[:,i_L],label=r\"$ |A| = %d$\" % (Lsub_list[i_L]))\n",
    "plt.legend()\n",
    "plt.show()"
   ]
  },
  {
   "cell_type": "code",
   "execution_count": null,
   "metadata": {},
   "outputs": [],
   "source": []
  }
 ],
 "metadata": {
  "@webio": {
   "lastCommId": null,
   "lastKernelId": null
  },
  "kernelspec": {
   "display_name": "Python 3",
   "language": "python",
   "name": "python3"
  },
  "language_info": {
   "codemirror_mode": {
    "name": "ipython",
    "version": 3
   },
   "file_extension": ".py",
   "mimetype": "text/x-python",
   "name": "python",
   "nbconvert_exporter": "python",
   "pygments_lexer": "ipython3",
   "version": "3.8.6"
  }
 },
 "nbformat": 4,
 "nbformat_minor": 4
}
