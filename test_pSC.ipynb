{
 "cells": [
  {
   "cell_type": "markdown",
   "metadata": {},
   "source": [
    "# API"
   ]
  },
  {
   "cell_type": "code",
   "execution_count": 36,
   "metadata": {},
   "outputs": [],
   "source": [
    "import numpy as np\n",
    "import scipy.sparse as sp\n",
    "import scipy.sparse.linalg as sla\n",
    "import scipy.linalg as la\n",
    "import scipy.stats\n",
    "import matplotlib.pyplot as plt\n",
    "import time\n",
    "import pickle\n",
    "from copy import copy\n",
    "# %load_ext line_profiler"
   ]
  },
  {
   "cell_type": "code",
   "execution_count": 38,
   "metadata": {},
   "outputs": [],
   "source": [
    "plt.rcParams['text.usetex']=True\n",
    "plt.rcParams['font.family']='serif'\n",
    "plt.rcParams['font.size']=9\n",
    "plt.rcParams['axes.titlesize']=plt.rcParams['font.size']\n",
    "plt.rcParams['figure.figsize']=(6.8,4)"
   ]
  },
  {
   "cell_type": "code",
   "execution_count": 39,
   "metadata": {},
   "outputs": [
    {
     "data": {
      "text/plain": [
       "<AsyncResult: execute>"
      ]
     },
     "execution_count": 39,
     "metadata": {},
     "output_type": "execute_result"
    }
   ],
   "source": [
    "# ipcluster start --engines=MPI -n 4\n",
    "import ipyparallel as ipp\n",
    "rc = ipp.Client()\n",
    "rc[:].execute(\"from pSC import *\")\n",
    "rc[:].execute(\"import numpy as np\")"
   ]
  },
  {
   "cell_type": "code",
   "execution_count": 37,
   "metadata": {},
   "outputs": [
    {
     "name": "stdout",
     "output_type": "stream",
     "text": [
      "Overwriting pSC.py\n"
     ]
    }
   ],
   "source": [
    "%%writefile pSC.py\n",
    "import numpy as np\n",
    "import scipy.linalg as la\n",
    "import numpy.linalg as nla\n",
    "import numpy.matlib\n",
    "\n",
    "class Params:\n",
    "    def __init__(self,\n",
    "            Lx=4,\n",
    "            Ly=16,\n",
    "            Delta=1,\n",
    "            t=1,\n",
    "            m=1,\n",
    "            bcx=-1,\n",
    "            bcy=1,\n",
    "            T=0,\n",
    "            dxmax=16,\n",
    "            dymax=16,\n",
    "            history=False,\n",
    "            ):\n",
    "        self.Lx = Lx\n",
    "        self.Ly = Ly\n",
    "        self.Delta = Delta\n",
    "        self.t = t\n",
    "        self.m = m\n",
    "        self.bcx = bcx\n",
    "        self.bcy = bcy\n",
    "        self.T = T\n",
    "        self.history = history\n",
    "        self.sigmax = np.array([[0, 1], [1, 0]])\n",
    "        self.sigmay = np.array([[0, -1j], [1j, 0]])\n",
    "        self.sigmaz = np.array([[1, 0], [0, -1]])\n",
    "        # check which one is faster, use sparse or dense?\n",
    "        if Lx<np.inf and Ly<np.inf:\n",
    "            hopx = np.diag(np.ones(Lx-1), -1)\n",
    "            hopx[0, -1] = bcx\n",
    "            hopy = np.diag(np.ones(Ly-1), -1)\n",
    "            hopy[0, -1] = bcy\n",
    "            hopxmat = np.kron( np.eye(Ly),hopx)\n",
    "            hopymat = np.kron(hopy,np.eye(Lx))\n",
    "            onsitemat = np.eye(Lx*Ly)\n",
    "            self.Hamiltonian = ((np.kron(hopxmat-hopxmat.T, self.sigmax)+np.kron(hopymat-hopymat.T, self.sigmay))* 1j*Delta-t*np.kron(hopxmat+hopxmat.T+hopymat+hopymat.T, self.sigmaz))/2+m*np.kron(onsitemat, self.sigmaz)\n",
    "        elif Lx==np.inf and Ly==np.inf:\n",
    "            pass\n",
    "            # self.dxmax=dxmax\n",
    "            # self.dymax=dymax\n",
    "            # self.dx=lambda kx: Delta*np.sin(kx)\n",
    "            # self.dy=lambda ky: Delta*np.sin(ky)\n",
    "            # self.dz=lambda kx,ky: m-t*np.cos(kx)-t*np.cos(ky)\n",
    "        else:\n",
    "            raise ValueError('The size of system {:d,:d} is not supported.'.format(Lx,Ly))\n",
    "\n",
    "    def bandstructure(self):\n",
    "        val, vec = nla.eigh(self.Hamiltonian)\n",
    "        sortindex = np.argsort(val)\n",
    "        self.val = val[sortindex]\n",
    "        self.vec = vec[:, sortindex]\n",
    "\n",
    "    def fermi_dist_k(self,kx,ky,branch,E_F=0):\n",
    "        pass\n",
    "        # if self.T==0:\n",
    "        #     return np.heaviside(E_F-self.E_k(kx,ky,branch),0)\n",
    "        # else:\n",
    "        #     return 1/(1+np.exp((self.E_k(kx,ky,branch)-E_F)/self.T))\n",
    "\n",
    "    def fermi_dist(self, energy, E_F):\n",
    "        if self.T == 0:\n",
    "            return np.heaviside(E_F-energy, 0)\n",
    "        else:\n",
    "            return 1/(1+np.exp((energy-E_F)/self.T))\n",
    "    \n",
    "    def correlation_matrix(self, E_F=0):\n",
    "        '''\n",
    "        \n",
    "        '''\n",
    "        if not (hasattr(self, 'val') and hasattr(self, 'vec')):\n",
    "            self.bandstructure()\n",
    "        occupancy_mat = np.matlib.repmat(self.fermi_dist(self.val, E_F), self.vec.shape[0], 1)\n",
    "        self.C_f=((occupancy_mat*self.vec)@self.vec.T.conj())\n",
    "        \n",
    "    def covariance_matrix(self, E_F=0):\n",
    "        '''\n",
    "        c.f. notes\n",
    "        Maybe differs by a minus sign\n",
    "        '''\n",
    "        if not hasattr(self, 'C_f'):\n",
    "            if self.Lx < np.inf and self.Ly<np.inf:\n",
    "                self.correlation_matrix()\n",
    "            else:\n",
    "                self.correlation_matrix_inf_fft()\n",
    "        # G=self.C_f[::2,::2]\n",
    "        # F=self.C_f[::2,1::2]\n",
    "        G=self.C_f[1::2,1::2]\n",
    "        F=self.C_f[1::2,::2]\n",
    "        self.G,self.F=G,F\n",
    "        Gamma_11 = 1j*(F.conj().T+F+G-G.T)\n",
    "        Gamma_21 = -(np.eye(G.shape[0])+F.conj().T-F-G-G.T)\n",
    "        Gamma_12 = -Gamma_21.T\n",
    "        Gamma_22 = -1j*(F.conj().T+F+G.T-G)\n",
    "        Gamma = np.zeros((2*G.shape[0], 2*G.shape[0]), dtype=complex)\n",
    "        even = np.arange(2*G.shape[0])[::2]\n",
    "        odd = np.arange(2*G.shape[0])[1::2]\n",
    "        Gamma[np.ix_(even, even)] = Gamma_11\n",
    "        Gamma[np.ix_(even, odd)] = Gamma_12\n",
    "        Gamma[np.ix_(odd, even)] = Gamma_21\n",
    "        Gamma[np.ix_(odd, odd)] = Gamma_22\n",
    "        assert np.abs(np.imag(Gamma)).max() < 1e-10, \"Covariance matrix not real {:.5f}\".format(np.abs(np.imag(Gamma)).max())\n",
    "        self.C_m = np.real(Gamma-Gamma.T.conj())/2\n",
    "        self.C_m_history = [self.C_m]\n",
    "\n",
    "    def linearize_index(self, subregion, n, proj=False):\n",
    "        '''\n",
    "        If proj ==True, then the index used for projection operator will be returned\n",
    "        '''\n",
    "        subregion_x, subregion_y = (subregion)\n",
    "        subregion_x = np.array(subregion_x)\n",
    "        subregion_y = np.array(subregion_y)\n",
    "        X, Y = np.meshgrid(subregion_x, subregion_y)\n",
    "        if self.Ly<np.inf:\n",
    "            linear_index = ((X+Y*self.Lx).flatten('F'))\n",
    "        else:\n",
    "            linear_index = ((X+Y*self.dxmax).flatten('F'))\n",
    "        if proj:\n",
    "            return sorted(np.concatenate([n*linear_index+i for i in range(0, n, 2)]))\n",
    "        else:\n",
    "            return sorted(np.concatenate([n*linear_index+i for i in range(n)]))\n",
    "\n",
    "    def square_index(self, subregion):\n",
    "        subregion=np.unique(np.array(subregion)//2)\n",
    "        if self.Lx<np.inf and self.Ly<np.inf:\n",
    "            assert subregion_x.max()<self.Lx and subregion_y.max()<self.Ly, 'Range exceeds'\n",
    "            return subregion%self.Lx,subregion//self.Lx\n",
    "        else:\n",
    "            assert subregion_x.max()<self.dxmax and subregion_y.max()<self.dymax, 'Range exceeds'\n",
    "            return subregion%self.dxmax,subregion//self.dxmax\n",
    "            \n",
    "    def c_subregion_f(self, subregion, linear=True):\n",
    "        '''\n",
    "        subregion: [subregoin_x, subregion_y] index of unit cell\n",
    "        '''\n",
    "        if not hasattr(self, 'C_f'):\n",
    "            self.correlation_matrix()\n",
    "        try:\n",
    "            subregion = list(subregion)\n",
    "        except:\n",
    "            raise ValueError(\"The subregion is ill-defined\"+subregion)\n",
    "\n",
    "        if len(subregion) == 2:\n",
    "            if isinstance(subregion[0], int) and isinstance(subregion[1], int):\n",
    "                linear = True\n",
    "            elif (not isinstance(subregion[0], int)) and (not isinstance(subregion[1], int)):\n",
    "                linear = False\n",
    "            else:\n",
    "                raise ValueError('Illegal subregion')\n",
    "        else:\n",
    "            linear = True\n",
    "        if linear:\n",
    "            # linearized index\n",
    "            subregion_index = subregion\n",
    "        else:\n",
    "            # 2D index\n",
    "            subregion_index = self.linearize_index(subregion, 2)\n",
    "        # This is a dumb way...\n",
    "        return self.C_f[np.ix_(subregion_index, subregion_index)]\n",
    "\n",
    "    def von_Neumann_entropy_f(self, subregion):\n",
    "        c_A = self.c_subregion_f(subregion)\n",
    "        val = nla.eigvalsh(c_A)\n",
    "        self.val_sh = val\n",
    "        val = np.sort(val)\n",
    "        val=np.sort(val)[:val.shape[0]//2]\n",
    "        return np.real(-np.sum(val*np.log(val+1e-18j))-np.sum((1-val)*np.log(1-val+1e-18j)))\n",
    "\n",
    "    def c_subregion_m(self, subregion, Gamma=None):\n",
    "        '''\n",
    "        subregion: [subregoin_x, subregion_y] index of unit cell\n",
    "        '''\n",
    "        if not hasattr(self, 'C_m'):\n",
    "            self.covariance_matrix()\n",
    "        if Gamma is None:\n",
    "            Gamma = self.C_m_history[-1]\n",
    "        try:\n",
    "            subregion = list(subregion)\n",
    "        except:\n",
    "            raise ValueError(\"The subregion is ill-defined\"+subregion)\n",
    "\n",
    "        if len(subregion) == 2:\n",
    "            if isinstance(subregion[0], int) and isinstance(subregion[1], int):\n",
    "                linear = True\n",
    "            elif (not isinstance(subregion[0], int)) and (not isinstance(subregion[1], int)):\n",
    "                linear = False\n",
    "            else:\n",
    "                raise ValueError('Illegal subregion')\n",
    "        else:\n",
    "            linear = True\n",
    "        if linear:\n",
    "            # linearized index\n",
    "            subregion_index = subregion\n",
    "        else:\n",
    "            # 2D index\n",
    "            subregion_index = self.linearize_index(subregion, 2)\n",
    "\n",
    "        return Gamma[np.ix_(subregion_index, subregion_index)]\n",
    "\n",
    "    def von_Neumann_entropy_m(self, subregion):\n",
    "        c_A = self.c_subregion_m(subregion)\n",
    "        val = nla.eigvalsh(1j*c_A)\n",
    "        self.val_sh = val\n",
    "        val = np.sort(val)\n",
    "        val = (1-val)/2+1e-18j  # \\lambda=(1-\\xi)/2\n",
    "        return np.real(-np.sum(val*np.log(val))-np.sum((1-val)*np.log(1-val)))/2\n",
    "\n",
    "    def mutual_information_f(self, subregion_A, subregion_B):\n",
    "        subregion_A = self.linearize_index(subregion_A, 2)\n",
    "        subregion_B = self.linearize_index(subregion_B, 2)\n",
    "        s_A = self.von_Neumann_entropy_f(subregion_A)\n",
    "        s_B = self.von_Neumann_entropy_f(subregion_B)\n",
    "        assert np.intersect1d(\n",
    "            subregion_A, subregion_B).size == 0, \"Subregion A and B overlap\"\n",
    "        subregion_AB = np.concatenate([subregion_A, subregion_B])\n",
    "        s_AB = self.von_Neumann_entropy_f(subregion_AB)\n",
    "        return s_A+s_B-s_AB\n",
    "\n",
    "    def mutual_information_m(self, subregion_A, subregion_B,linear=False):\n",
    "        if not linear:\n",
    "            subregion_A = self.linearize_index(subregion_A, 2)\n",
    "            subregion_B = self.linearize_index(subregion_B, 2)\n",
    "        assert np.intersect1d(\n",
    "            subregion_A, subregion_B).size == 0, \"Subregion A and B overlap\"\n",
    "        s_A = self.von_Neumann_entropy_m(subregion_A)\n",
    "        s_B = self.von_Neumann_entropy_m(subregion_B)\n",
    "        subregion_AB = np.concatenate([subregion_A, subregion_B])\n",
    "        s_AB = self.von_Neumann_entropy_m(subregion_AB)\n",
    "        return s_A+s_B-s_AB  \n",
    "\n",
    "    def log_neg(self, subregion_A, subregion_B, Gamma=None,linear=False):\n",
    "        if not linear:\n",
    "            subregion_A = self.linearize_index(subregion_A, 2)\n",
    "            subregion_B = self.linearize_index(subregion_B, 2)\n",
    "        assert np.intersect1d(\n",
    "            subregion_A, subregion_B).size == 0, \"Subregion A and B overlap\"\n",
    "        if not hasattr(self, 'C_m'):\n",
    "            self.covariance_matrix()\n",
    "\n",
    "        if Gamma is None:\n",
    "            Gamma = self.C_m_history[-1]\n",
    "        subregion_A = np.array(subregion_A)\n",
    "        subregion_B = np.array(subregion_B)\n",
    "        Gm_p = np.block([\n",
    "            [-Gamma[np.ix_(subregion_A, subregion_A)], 1j *\n",
    "             Gamma[np.ix_(subregion_A, subregion_B)]],\n",
    "            [1j*Gamma[np.ix_(subregion_B, subregion_A)],\n",
    "             Gamma[np.ix_(subregion_B, subregion_B)]]\n",
    "        ])\n",
    "        Gm_n = np.block([\n",
    "            [-Gamma[np.ix_(subregion_A, subregion_A)], -1j *\n",
    "             Gamma[np.ix_(subregion_A, subregion_B)]],\n",
    "            [-1j*Gamma[np.ix_(subregion_B, subregion_A)],\n",
    "             Gamma[np.ix_(subregion_B, subregion_B)]]\n",
    "        ])\n",
    "        idm = np.eye(Gm_p.shape[0])\n",
    "        # Gm_x=idm-(idm+1j*Gm_p)@nla.inv(idm-Gm_n@Gm_p)@(idm+1j*Gm_n)\n",
    "        Gm_x = idm-(idm+1j*Gm_p)@(la.solve((idm-Gm_n@Gm_p), (idm+1j*Gm_n)))\n",
    "        Gm_x = (Gm_x+Gm_x.T.conj())/2\n",
    "        xi = nla.eigvalsh(Gm_x)\n",
    "        subregion_AB = np.concatenate([subregion_A, subregion_B])\n",
    "        eA = np.sum(np.log(((1+xi+0j)/2)**0.5+((1-xi+0j)/2)**0.5))/2\n",
    "        chi = nla.eigvalsh(1j*Gamma[np.ix_(subregion_AB, subregion_AB)])\n",
    "        sA = np.sum(np.log(((1+chi)/2)**2+((1-chi)/2)**2))/4\n",
    "        self.eA=eA\n",
    "        self.sA=sA\n",
    "        return np.real(eA+sA)\n",
    "\n",
    "    def projection(self, s):\n",
    "        '''\n",
    "        For type:'onsite'\n",
    "            occupancy number: s= 0,1 \n",
    "            (-1)^0 even parity, (-1)^1 odd parity\n",
    "        '''\n",
    "        assert (s == 0 or s == 1), \"s={} is either 0 or 1\".format(s)\n",
    "        blkmat = np.array([[0, -(-1)**s, 0, 0],\n",
    "                           [(-1)**s, 0, 0, 0],\n",
    "                           [0, 0, 0, (-1)**s],\n",
    "                           [0, 0, -(-1)**s, 0]])\n",
    "        return blkmat\n",
    "\n",
    "    def measure(self, s, ix):\n",
    "        if not hasattr(self, 'C_m'):\n",
    "            self.covariance_matrix()\n",
    "        if not hasattr(self, 's_history'):\n",
    "            self.s_history = []\n",
    "        if not hasattr(self, 'i_history'):\n",
    "            self.i_history = []\n",
    "\n",
    "        mat = self.C_m_history[-1].copy()\n",
    "\n",
    "        for i_ind, i in enumerate(ix):\n",
    "            mat[[i, -(len(ix)-i_ind)]] = mat[[-(len(ix)-i_ind), i]]\n",
    "            mat[:, [i, -(len(ix)-i_ind)]] = mat[:, [-(len(ix)-i_ind), i]]\n",
    "\n",
    "        self.mat = mat\n",
    "\n",
    "        Gamma_LL = mat[:-len(ix), :-len(ix)]\n",
    "        Gamma_LR = mat[:-len(ix), -len(ix):]\n",
    "        Gamma_RR = mat[-len(ix):, -len(ix):]\n",
    "\n",
    "        proj = self.projection(s)\n",
    "        Upsilon_LL = proj[:-len(ix), :-len(ix)]\n",
    "        Upsilon_RR = proj[-len(ix):, -len(ix):]\n",
    "        Upsilon_RL = proj[-len(ix):, :-len(ix)]\n",
    "        zero = np.zeros((mat.shape[0]-len(ix), len(ix)))\n",
    "        zero0 = np.zeros((len(ix), len(ix)))\n",
    "        mat1 = np.block([[Gamma_LL, zero], [zero.T, Upsilon_RR]])\n",
    "        mat2 = np.block([[Gamma_LR, zero], [zero0, Upsilon_RL]])\n",
    "        mat3 = np.block([[Gamma_RR, np.eye(len(ix))],\n",
    "                        [-np.eye(len(ix)), Upsilon_LL]])\n",
    "        self.mat2 = mat2\n",
    "        if np.count_nonzero(mat2):\n",
    "            Psi = mat1+mat2@(la.solve(mat3, mat2.T))\n",
    "            # Psi=mat1+mat2@(la.lstsq(mat3,mat2.T)[0])\n",
    "            assert np.abs(\n",
    "                np.trace(Psi)) < 1e-5, \"Not trace zero {:e}\".format(np.trace(Psi))\n",
    "        else:\n",
    "            Psi = mat1\n",
    "\n",
    "        for i_ind, i in enumerate(ix):\n",
    "            Psi[[i, -(len(ix)-i_ind)]] = Psi[[-(len(ix)-i_ind), i]]\n",
    "            Psi[:, [i, -(len(ix)-i_ind)]] = Psi[:, [-(len(ix)-i_ind), i]]\n",
    "        Psi = (Psi-Psi.T)/2   # Anti-symmetrize\n",
    "        if self.history:\n",
    "            self.C_m_history.append(Psi)\n",
    "            self.s_history.append(s)\n",
    "            self.i_history.append(ix[0])\n",
    "        else:\n",
    "            self.C_m_history = [Psi]\n",
    "            self.s_history = [s]\n",
    "            self.i_history = [ix[0]]\n",
    "\n",
    "    def measure_all_Born(self, proj_range,prob=None,linear=False):\n",
    "        if not linear:\n",
    "            proj_range = self.linearize_index(proj_range, 2, proj=True)\n",
    "        self.proj_range=proj_range\n",
    "        # print(proj_range)\n",
    "        self.P_0_list = []\n",
    "        self.f_parity= []\n",
    "        self.covariance_matrix()\n",
    "        for i in proj_range:\n",
    "            if prob is None:\n",
    "                P_0 = (self.C_m_history[-1][i, i+1]+1)/2    # Use Born rule\n",
    "            else:\n",
    "                P_0=prob\n",
    "            self.P_0_list.append(P_0)\n",
    "            if np.random.rand() < P_0:\n",
    "                self.measure(0, [i, i+1])\n",
    "                self.f_parity.append(0)\n",
    "            else:\n",
    "                self.measure(1, [i, i+1])\n",
    "                self.f_parity.append(1)\n",
    "        return self\n",
    "\n",
    "def cross_ratio(x,L):\n",
    "    if L<np.inf:\n",
    "        xx=lambda i,j: (np.sin(np.pi/(L)*np.abs(x[i]-x[j])))\n",
    "    else:\n",
    "        xx=lambda i,j: np.abs(x[i]-x[j])\n",
    "    eta=(xx(0,1)*xx(2,3))/(xx(0,2)*xx(1,3))\n",
    "    return eta\n"
   ]
  },
  {
   "cell_type": "code",
   "execution_count": 23,
   "metadata": {},
   "outputs": [],
   "source": [
    "params=Params(m=1,Lx=64,Ly=8,bcx=-1,bcy=1,history=True)"
   ]
  },
  {
   "cell_type": "code",
   "execution_count": 24,
   "metadata": {},
   "outputs": [],
   "source": [
    "params.covariance_matrix()"
   ]
  },
  {
   "cell_type": "code",
   "execution_count": 33,
   "metadata": {},
   "outputs": [],
   "source": [
    "zz=params.C_f[0,params.linearize_index([np.arange(params.Lx),[0]],4)[::4]]"
   ]
  },
  {
   "cell_type": "code",
   "execution_count": 34,
   "metadata": {},
   "outputs": [
    {
     "data": {
      "text/plain": [
       "[<matplotlib.lines.Line2D at 0x7fec2f0ad490>]"
      ]
     },
     "execution_count": 34,
     "metadata": {},
     "output_type": "execute_result"
    },
    {
     "data": {
      "image/png": "[encoded data removed]",
      "text/plain": [
       "<Figure size 489.6x288 with 1 Axes>"
      ]
     },
     "metadata": {
      "needs_background": "light"
     },
     "output_type": "display_data"
    }
   ],
   "source": [
    "plt.plot(np.real(zz))"
   ]
  },
  {
   "cell_type": "code",
   "execution_count": 141,
   "metadata": {},
   "outputs": [
    {
     "data": {
      "text/plain": [
       "array([[ 0.  , -0.49, -0.33, ..., -0.03, -0.06, -0.18],\n",
       "       [ 0.49,  0.  , -0.23, ..., -0.01,  0.06,  0.06],\n",
       "       [ 0.33,  0.23,  0.  , ..., -0.01,  0.01, -0.03],\n",
       "       ...,\n",
       "       [ 0.03,  0.01,  0.01, ...,  0.  , -0.23,  0.33],\n",
       "       [ 0.06, -0.06, -0.01, ...,  0.23,  0.  , -0.49],\n",
       "       [ 0.18, -0.06,  0.03, ..., -0.33,  0.49,  0.  ]])"
      ]
     },
     "execution_count": 141,
     "metadata": {},
     "output_type": "execute_result"
    }
   ],
   "source": [
    "np.round(np.real(params.C_m),2)"
   ]
  },
  {
   "cell_type": "code",
   "execution_count": 142,
   "metadata": {},
   "outputs": [],
   "source": [
    "Gmat_real=np.loadtxt('Gmat_real.txt')\n",
    "Gmat_imag=np.loadtxt('Gmat_imag.txt')"
   ]
  },
  {
   "cell_type": "code",
   "execution_count": 144,
   "metadata": {},
   "outputs": [
    {
     "data": {
      "text/plain": [
       "4.775174699842074e-15"
      ]
     },
     "execution_count": 144,
     "metadata": {},
     "output_type": "execute_result"
    }
   ],
   "source": [
    "np.abs(Gmat_real+1j*Gmat_imag-params.C_m).max()"
   ]
  },
  {
   "cell_type": "code",
   "execution_count": 53,
   "metadata": {},
   "outputs": [
    {
     "data": {
      "text/plain": [
       "array([[ 0.  , -0.93, -0.16,  0.02],\n",
       "       [ 0.93,  0.  , -0.02,  0.16],\n",
       "       [ 0.16,  0.02,  0.  , -0.93],\n",
       "       [-0.02, -0.16,  0.93,  0.  ]])"
      ]
     },
     "execution_count": 53,
     "metadata": {},
     "output_type": "execute_result"
    }
   ],
   "source": [
    "(np.round(np.real(params.C_m[:4,:4]),2))"
   ]
  },
  {
   "cell_type": "code",
   "execution_count": 42,
   "metadata": {},
   "outputs": [
    {
     "data": {
      "text/plain": [
       "array([[ 1.,  0., -1.,  0.,  0., -1.,  0.,  0.],\n",
       "       [ 0., -1.,  0.,  1.,  1.,  0.,  0.,  0.],\n",
       "       [-1.,  0.,  1.,  0.,  0.,  0.,  0., -1.],\n",
       "       [ 0.,  1.,  0., -1.,  0.,  0.,  1.,  0.],\n",
       "       [ 0.,  1.,  0.,  0.,  1.,  0., -1.,  0.],\n",
       "       [-1.,  0.,  0.,  0.,  0., -1.,  0.,  1.],\n",
       "       [ 0.,  0.,  0.,  1., -1.,  0.,  1.,  0.],\n",
       "       [ 0.,  0., -1.,  0.,  0.,  1.,  0., -1.]])"
      ]
     },
     "execution_count": 42,
     "metadata": {},
     "output_type": "execute_result"
    }
   ],
   "source": [
    "np.real(params.Hamiltonian)"
   ]
  },
  {
   "cell_type": "code",
   "execution_count": 149,
   "metadata": {},
   "outputs": [],
   "source": [
    "total=params.linearize_index([np.arange(params.Lx),np.arange(params.Ly)],2)\n",
    "subA=params.linearize_index([np.arange(params.Lx//4),np.arange(params.Ly)],2)\n",
    "proj_range=params.linearize_index([np.arange(params.Lx//4)+params.Lx//4,np.arange(params.Ly)],2,proj=True)\n",
    "subB=params.linearize_index([np.arange(params.Lx//4)+params.Lx//2,np.arange(params.Ly)],2)\n"
   ]
  },
  {
   "cell_type": "code",
   "execution_count": 150,
   "metadata": {},
   "outputs": [
    {
     "data": {
      "text/plain": [
       "<matplotlib.collections.PathCollection at 0x7fa47ef31730>"
      ]
     },
     "execution_count": 150,
     "metadata": {},
     "output_type": "execute_result"
    },
    {
     "data": {
      "image/png": "[encoded data removed]",
      "text/plain": [
       "<Figure size 489.6x288 with 1 Axes>"
      ]
     },
     "metadata": {
      "needs_background": "light"
     },
     "output_type": "display_data"
    }
   ],
   "source": [
    "plt.scatter(*params.square_index(total),color='k')\n",
    "plt.scatter(*params.square_index(subA),color='c')\n",
    "plt.scatter(*params.square_index(subB),color='r')\n",
    "plt.scatter(*params.square_index(proj_range),color='b')"
   ]
  },
  {
   "cell_type": "code",
   "execution_count": 151,
   "metadata": {},
   "outputs": [
    {
     "data": {
      "text/plain": [
       "<__main__.Params at 0x7fa47efd9610>"
      ]
     },
     "execution_count": 151,
     "metadata": {},
     "output_type": "execute_result"
    }
   ],
   "source": [
    "params.measure_all_Born(proj_range,linear=True)"
   ]
  },
  {
   "cell_type": "code",
   "execution_count": null,
   "metadata": {},
   "outputs": [],
   "source": [
    "params.i_history"
   ]
  },
  {
   "cell_type": "code",
   "execution_count": 153,
   "metadata": {},
   "outputs": [
    {
     "data": {
      "text/plain": [
       "0.9701903382986599"
      ]
     },
     "execution_count": 153,
     "metadata": {},
     "output_type": "execute_result"
    }
   ],
   "source": [
    "params.log_neg(subA,subB,linear=True)"
   ]
  },
  {
   "cell_type": "code",
   "execution_count": 154,
   "metadata": {},
   "outputs": [
    {
     "data": {
      "text/plain": [
       "array([[ 0.,  1.,  0.,  0.],\n",
       "       [-1.,  0.,  0.,  0.],\n",
       "       [ 0.,  0.,  0., -1.],\n",
       "       [ 0.,  0.,  1.,  0.]])"
      ]
     },
     "execution_count": 154,
     "metadata": {},
     "output_type": "execute_result"
    }
   ],
   "source": [
    "params.C_m_history[-1][proj_range[0]:proj_range[0]+4,proj_range[0]:proj_range[0]+4]"
   ]
  },
  {
   "cell_type": "code",
   "execution_count": null,
   "metadata": {},
   "outputs": [],
   "source": [
    "params.s_history"
   ]
  },
  {
   "cell_type": "code",
   "execution_count": null,
   "metadata": {},
   "outputs": [],
   "source": [
    "params.P_0_list"
   ]
  },
  {
   "cell_type": "markdown",
   "metadata": {},
   "source": [
    "# No measurement"
   ]
  },
  {
   "cell_type": "code",
   "execution_count": 157,
   "metadata": {},
   "outputs": [],
   "source": [
    "m_list=(lambda x:(x-2)**3+2 )(np.linspace(1,3,20))\n",
    "# m_list=(np.linspace(1,3,10))\n",
    "LN_no_list=[]\n",
    "MI_no_list=[]\n",
    "for m in m_list:\n",
    "    params=Params(m=m,Lx=16,Ly=16)\n",
    "    # MI_no_list.append(params.mutual_information_m(subA,subB,linear=True))\n",
    "    LN_no_list.append(params.log_neg(subA,subB,linear=True))\n"
   ]
  },
  {
   "cell_type": "code",
   "execution_count": 158,
   "metadata": {},
   "outputs": [
    {
     "data": {
      "text/plain": [
       "Text(0.5, 1.0, 'Finite system')"
      ]
     },
     "execution_count": 158,
     "metadata": {},
     "output_type": "execute_result"
    },
    {
     "data": {
      "image/png": "[encoded data removed]",
      "text/plain": [
       "<Figure size 489.6x288 with 1 Axes>"
      ]
     },
     "metadata": {
      "needs_background": "light"
     },
     "output_type": "display_data"
    }
   ],
   "source": [
    "fig,ax=plt.subplots()\n",
    "ax.plot(m_list,LN_no_list/np.log(2),'.-',label='LN')\n",
    "# ax.plot(m_list,MI_no_list/np.log(2),'.-',label='MI')\n",
    "ax.legend()\n",
    "ax.set_xlabel('m')\n",
    "ax.set_title('Finite system')"
   ]
  },
  {
   "cell_type": "markdown",
   "metadata": {},
   "source": [
    "# Onsite measurement"
   ]
  },
  {
   "cell_type": "code",
   "execution_count": 42,
   "metadata": {},
   "outputs": [
    {
     "name": "stdout",
     "output_type": "stream",
     "text": [
      "0:31.9\n",
      "1:31.6\n",
      "2:31.8\n",
      "3:35.4\n",
      "4:32.9\n",
      "5:31.5\n",
      "6:32.8\n",
      "7:34.7\n",
      "8:31.5\n",
      "9:32.7\n"
     ]
    }
   ],
   "source": [
    "# m_list=(lambda x:(x-2)**3+2 )(np.linspace(1,3,10))\n",
    "m_list=(np.linspace(1,3,10))\n",
    "es=20\n",
    "LN_Born_list=np.zeros((len(m_list),es))\n",
    "MI_Born_list=np.zeros((len(m_list),es))\n",
    "Lx,Ly=64,8\n",
    "\n",
    "def run(p):\n",
    "    m,Lx,Ly=p\n",
    "    params=Params(m=m,Lx=Lx,Ly=Ly,bcx=-1,bcy=1)\n",
    "    total=params.linearize_index([np.arange(params.Lx),np.arange(params.Ly)],2)\n",
    "    subA=params.linearize_index([np.arange(params.Lx//4),np.arange(params.Ly)],2)\n",
    "    proj_range=params.linearize_index([np.arange(params.Lx//4)+params.Lx//4,np.arange(params.Ly)],2,proj=True)\n",
    "    subB=params.linearize_index([np.arange(params.Lx//4)+params.Lx//2,np.arange(params.Ly)],2)\n",
    "\n",
    "    params.measure_all_Born(proj_range,linear=True)\n",
    "    LN=params.log_neg(subA,subB,linear=True)\n",
    "    MI=params.mutual_information_m(subA,subB,linear=True)\n",
    "    return MI,LN\n",
    "\n",
    "for m_i,m in enumerate(m_list):\n",
    "    st=time.time()\n",
    "    # # Serial\n",
    "    # params0=Params(m=m,Lx=Lx,Ly=Ly,bcx=-1,bcy=1)\n",
    "    # for es_i in range(es):\n",
    "    #     params=copy(params0)\n",
    "    #     params.measure_all_Born(proj_range,linear=True)\n",
    "    #     MI_Born_list[m_i,es_i]=params.mutual_information_m(subA,subB,linear=True)\n",
    "    #     LN_Born_list[m_i,es_i]=params.log_neg(subA,subB,linear=True)\n",
    "\n",
    "    # Parallel\n",
    "    inputs=[(m,Lx,Ly) for _ in range(es)]\n",
    "    async_result=rc[:].map_sync(run,inputs)\n",
    "    for index,results in enumerate(async_result):\n",
    "        MI_Born_list[m_i,index],LN_Born_list[m_i,index]=results\n",
    "    # async_result=rc[:].map_sync((lambda p:Params(m=p[0],Lx=p[1],Ly=p[2]).measure_all_Born([np.arange(p[1]//4,p[1]//2),np.arange(p[2])]).log_neg([np.arange(p[1]//4),np.arange(p[2])],[np.arange(p[1]//4)+p[1]//2,np.arange(p[2])])),[(m,Lx,Ly) for _ in range(es)])\n",
    "    # LN_Born_list[m_i,:]=async_result \n",
    "\n",
    "    # async_result=rc[:].map_sync((lambda p:Params(m=p[0],Lx=p[1],Ly=p[2]).measure_all_Born([np.arange(p[1]//4,p[1]//2),np.arange(p[2])]).mutual_information_m([np.arange(p[1]//4),np.arange(p[2])],[np.arange(p[1]//4)+p[1]//2,np.arange(p[2])])),[(m,Lx,Ly) for _ in range(es)])\n",
    "    # MI_Born_list[m_i,:]=async_result\n",
    "\n",
    "    print('{:d}:{:.1f}'.format(m_i,time.time()-st))\n"
   ]
  },
  {
   "cell_type": "code",
   "execution_count": 43,
   "metadata": {},
   "outputs": [
    {
     "data": {
      "text/plain": [
       "Text(0.5, 1.0, 'Ensemble Size=20, Lx=64, Ly=8')"
      ]
     },
     "execution_count": 43,
     "metadata": {},
     "output_type": "execute_result"
    },
    {
     "data": {
      "image/png": "[encoded data removed]",
      "text/plain": [
       "<Figure size 489.6x288 with 1 Axes>"
      ]
     },
     "metadata": {
      "needs_background": "light"
     },
     "output_type": "display_data"
    }
   ],
   "source": [
    "fig,ax=plt.subplots()\n",
    "# ax.plot(m_list,LN_no_list,'.-',label='No measurement')\n",
    "\n",
    "ax.errorbar(m_list,LN_Born_list.mean(axis=1)/np.log(2),LN_Born_list.std(axis=1)/np.log(2)/np.sqrt(es-1),capsize=3,fmt='.-',label='Onsite measurement (LN)')\n",
    "ax.errorbar(m_list,MI_Born_list.mean(axis=1)/np.log(2),MI_Born_list.std(axis=1)/np.log(2)/np.sqrt(es-1),capsize=3,fmt='.-',label='Onsite measurement (MI)')\n",
    "\n",
    "ax.legend()\n",
    "ax.grid('on')\n",
    "ax.set_yticks([0,0.5,1])\n",
    "ax.set_xlabel(r'm')\n",
    "ax.set_ylabel(r'log neg [log(2)]')\n",
    "ax.margins(x=0)\n",
    "ax.set_title('Ensemble Size={:d}, Lx={:d}, Ly={:d}'.format(es,Lx,Ly))\n",
    "# fig.savefig('/mnt/d/KITP/Rp_SPT/8/LN_CI_Born_En{:d}_Lx{:d}_Ly{:d}.pdf'.format(es,Lx,Ly),bbox_inches='tight')"
   ]
  },
  {
   "cell_type": "code",
   "execution_count": 344,
   "metadata": {},
   "outputs": [
    {
     "name": "stdout",
     "output_type": "stream",
     "text": [
      "0:4.5\n",
      "1:4.5\n",
      "2:4.6\n",
      "3:4.6\n",
      "4:4.6\n",
      "5:4.5\n",
      "6:4.5\n",
      "7:4.6\n",
      "8:4.6\n",
      "9:4.5\n"
     ]
    }
   ],
   "source": [
    "# m_list=(lambda x:(x-2)**3+2 )(np.linspace(1,3,10))\n",
    "m_list=(np.linspace(1,3,10))\n",
    "es=20\n",
    "LN_Born_list=np.zeros((len(m_list),es))\n",
    "MI_Born_list=np.zeros((len(m_list),es))\n",
    "Lx,Ly=16,16\n",
    "for m_i,m in enumerate(m_list):\n",
    "    st=time.time()\n",
    "    # Serial\n",
    "    params0=Params(m=m,Lx=Lx,Ly=Ly)\n",
    "    for es_i in range(es):\n",
    "        params=copy(params0)\n",
    "        params.measure_all_Born(proj_range,prob=1,linear=True)\n",
    "        # MI_Born_list[m_i,es_i]=params.mutual_information_m([np.arange(params.Lx//4),np.arange(params.Ly)],[np.arange(params.Lx//4)+params.Lx//2,np.arange(params.Ly)])\n",
    "        LN_Born_list[m_i,es_i]=params.log_neg(subA,subB,linear=True)\n",
    "\n",
    "    # Parallel\n",
    "    # async_result=rc[:].map_sync((lambda p:Params(m=p[0],Lx=p[1],Ly=p[2]).measure_all_Born([np.arange(p[1]//4,p[1]//2),np.arange(p[2])]).log_neg([np.arange(p[1]//4),np.arange(p[2])],[np.arange(p[1]//4)+p[1]//2,np.arange(p[2])])),[(m,Lx,Ly) for _ in range(es)])\n",
    "    # LN_Born_list[m_i,:]=async_result \n",
    "\n",
    "    # async_result=rc[:].map_sync((lambda p:Params(m=p[0],Lx=p[1],Ly=p[2]).measure_all_Born([np.arange(p[1]//4,p[1]//2),np.arange(p[2])]).mutual_information_m([np.arange(p[1]//4),np.arange(p[2])],[np.arange(p[1]//4)+p[1]//2,np.arange(p[2])])),[(m,Lx,Ly) for _ in range(es)])\n",
    "    # MI_Born_list[m_i,:]=async_result\n",
    "\n",
    "    print('{:d}:{:.1f}'.format(m_i,time.time()-st))\n"
   ]
  },
  {
   "cell_type": "code",
   "execution_count": 326,
   "metadata": {},
   "outputs": [],
   "source": [
    "params=Params(m=1,Lx=16,Ly=16,history=True)"
   ]
  },
  {
   "cell_type": "code",
   "execution_count": 327,
   "metadata": {},
   "outputs": [],
   "source": [
    "params.covariance_matrix()"
   ]
  },
  {
   "cell_type": "code",
   "execution_count": 328,
   "metadata": {},
   "outputs": [
    {
     "data": {
      "text/plain": [
       "array([[ 0.25442+0.j, -0.11675-0.j,  0.00641-0.j, -0.0003 -0.j],\n",
       "       [-0.11675+0.j,  0.25442+0.j, -0.11675+0.j,  0.00641+0.j],\n",
       "       [ 0.00641+0.j, -0.11675-0.j,  0.25442+0.j, -0.11675+0.j],\n",
       "       [-0.0003 +0.j,  0.00641-0.j, -0.11675-0.j,  0.25442+0.j]])"
      ]
     },
     "execution_count": 328,
     "metadata": {},
     "output_type": "execute_result"
    }
   ],
   "source": [
    "np.round(params.C_f[1::2,1::2][:4,:4],5)"
   ]
  },
  {
   "cell_type": "code",
   "execution_count": 329,
   "metadata": {},
   "outputs": [
    {
     "data": {
      "text/plain": [
       "array([[ 0.     , -0.49117,  0.     ,  0.09949],\n",
       "       [ 0.49117,  0.     ,  0.56648, -0.     ],\n",
       "       [-0.     , -0.56648,  0.     , -0.49117],\n",
       "       [-0.09949,  0.     ,  0.49117,  0.     ]])"
      ]
     },
     "execution_count": 329,
     "metadata": {},
     "output_type": "execute_result"
    }
   ],
   "source": [
    "np.round(params.C_m[:4,:4],5)"
   ]
  },
  {
   "cell_type": "code",
   "execution_count": 330,
   "metadata": {},
   "outputs": [],
   "source": [
    "params.measure(1,[0,1])"
   ]
  },
  {
   "cell_type": "code",
   "execution_count": 331,
   "metadata": {},
   "outputs": [
    {
     "data": {
      "text/plain": [
       "array([[ 0.     , -1.     ,  0.     ,  0.     ],\n",
       "       [ 1.     ,  0.     ,  0.     ,  0.     ],\n",
       "       [ 0.     ,  0.     ,  0.     , -0.52896],\n",
       "       [ 0.     ,  0.     ,  0.52896,  0.     ]])"
      ]
     },
     "execution_count": 331,
     "metadata": {},
     "output_type": "execute_result"
    }
   ],
   "source": [
    "np.round(params.C_m_history[-1][:4,:4],5)"
   ]
  },
  {
   "cell_type": "code",
   "execution_count": 332,
   "metadata": {},
   "outputs": [
    {
     "data": {
      "text/plain": [
       "array([[ 0.00000000e+00, -4.91169158e-01, -4.98732999e-17,\n",
       "         9.94865932e-02],\n",
       "       [ 4.91169158e-01,  0.00000000e+00,  5.66478153e-01,\n",
       "        -4.72712147e-17],\n",
       "       [ 4.98732999e-17, -5.66478153e-01,  0.00000000e+00,\n",
       "        -4.91169158e-01],\n",
       "       [-9.94865932e-02,  4.72712147e-17,  4.91169158e-01,\n",
       "         0.00000000e+00]])"
      ]
     },
     "execution_count": 332,
     "metadata": {},
     "output_type": "execute_result"
    }
   ],
   "source": [
    "params.C_m[128:132,128:132]"
   ]
  },
  {
   "cell_type": "code",
   "execution_count": 333,
   "metadata": {},
   "outputs": [
    {
     "data": {
      "text/plain": [
       "<__main__.Params at 0x7f0640e95c10>"
      ]
     },
     "execution_count": 333,
     "metadata": {},
     "output_type": "execute_result"
    }
   ],
   "source": [
    "params.measure_all_Born(proj_range,linear=True)"
   ]
  },
  {
   "cell_type": "code",
   "execution_count": 334,
   "metadata": {},
   "outputs": [
    {
     "data": {
      "text/plain": [
       "array([[ 0., -1.,  0.,  0.,  0.,  0.,  0.,  0.],\n",
       "       [ 1.,  0.,  0.,  0.,  0.,  0.,  0.,  0.],\n",
       "       [ 0.,  0.,  0.,  1.,  0.,  0.,  0.,  0.],\n",
       "       [ 0.,  0., -1.,  0.,  0.,  0.,  0.,  0.],\n",
       "       [ 0.,  0.,  0.,  0.,  0.,  1.,  0.,  0.],\n",
       "       [ 0.,  0.,  0.,  0., -1.,  0.,  0.,  0.],\n",
       "       [ 0.,  0.,  0.,  0.,  0.,  0.,  0., -1.],\n",
       "       [ 0.,  0.,  0.,  0.,  0.,  0.,  1.,  0.]])"
      ]
     },
     "execution_count": 334,
     "metadata": {},
     "output_type": "execute_result"
    }
   ],
   "source": [
    "params.C_m_history[-1][128:136,128:136]"
   ]
  },
  {
   "cell_type": "code",
   "execution_count": 121,
   "metadata": {},
   "outputs": [
    {
     "data": {
      "text/plain": [
       "array([[ 0.00000000e+00, -1.40332999e-05,  9.55510877e-06, ...,\n",
       "        -2.31595239e-07,  9.12932671e-07, -2.70529264e-06],\n",
       "       [ 1.40332999e-05,  0.00000000e+00, -6.15784870e-06, ...,\n",
       "        -3.62788206e-06,  3.23214004e-06,  3.86324930e-06],\n",
       "       [-9.55510877e-06,  6.15784870e-06,  0.00000000e+00, ...,\n",
       "         2.57180680e-06, -2.60132336e-06, -1.44335150e-06],\n",
       "       ...,\n",
       "       [ 2.31595239e-07,  3.62788206e-06, -2.57180680e-06, ...,\n",
       "         0.00000000e+00, -1.82670066e-07,  7.63127196e-07],\n",
       "       [-9.12932671e-07, -3.23214004e-06,  2.60132336e-06, ...,\n",
       "         1.82670066e-07,  0.00000000e+00, -8.74403829e-07],\n",
       "       [ 2.70529264e-06, -3.86324930e-06,  1.44335150e-06, ...,\n",
       "        -7.63127196e-07,  8.74403829e-07,  0.00000000e+00]])"
      ]
     },
     "execution_count": 121,
     "metadata": {},
     "output_type": "execute_result"
    }
   ],
   "source": [
    "params.C_m_history[0]-params.C_m_history[1]"
   ]
  },
  {
   "cell_type": "code",
   "execution_count": 105,
   "metadata": {},
   "outputs": [
    {
     "data": {
      "text/plain": [
       "4.087646341702329"
      ]
     },
     "execution_count": 105,
     "metadata": {},
     "output_type": "execute_result"
    }
   ],
   "source": [
    "params.von_Neumann_entropy_m([np.arange(params.Lx//4),np.arange(params.Ly)])"
   ]
  },
  {
   "cell_type": "code",
   "execution_count": 42,
   "metadata": {},
   "outputs": [
    {
     "data": {
      "text/plain": [
       "(128, 128)"
      ]
     },
     "execution_count": 42,
     "metadata": {},
     "output_type": "execute_result"
    }
   ],
   "source": [
    "params.C_f.shape"
   ]
  },
  {
   "cell_type": "code",
   "execution_count": 340,
   "metadata": {},
   "outputs": [
    {
     "data": {
      "text/plain": [
       "0.0"
      ]
     },
     "execution_count": 340,
     "metadata": {},
     "output_type": "execute_result"
    }
   ],
   "source": [
    "np.abs(params.C_m).min()"
   ]
  },
  {
   "cell_type": "code",
   "execution_count": 343,
   "metadata": {},
   "outputs": [
    {
     "data": {
      "text/plain": [
       "<matplotlib.image.AxesImage at 0x7f064288d2b0>"
      ]
     },
     "execution_count": 343,
     "metadata": {},
     "output_type": "execute_result"
    },
    {
     "data": {
      "image/png": "[encoded data removed]",
      "text/plain": [
       "<Figure size 489.6x288 with 1 Axes>"
      ]
     },
     "metadata": {
      "needs_background": "light"
     },
     "output_type": "display_data"
    }
   ],
   "source": [
    "plt.imshow(params.C_m)"
   ]
  },
  {
   "cell_type": "code",
   "execution_count": 89,
   "metadata": {},
   "outputs": [
    {
     "data": {
      "text/plain": [
       "8.881784197001252e-16"
      ]
     },
     "execution_count": 89,
     "metadata": {},
     "output_type": "execute_result"
    }
   ],
   "source": [
    "np.abs(params.C_m@params.C_m+np.eye(params.C_m.shape[0])).max()"
   ]
  },
  {
   "cell_type": "code",
   "execution_count": 114,
   "metadata": {},
   "outputs": [],
   "source": [
    "params=Params()\n",
    "params.covariance_matrix()"
   ]
  },
  {
   "cell_type": "code",
   "execution_count": 113,
   "metadata": {},
   "outputs": [
    {
     "data": {
      "text/plain": [
       "<__main__.Params at 0x7f54e2d7f070>"
      ]
     },
     "execution_count": 113,
     "metadata": {},
     "output_type": "execute_result"
    }
   ],
   "source": [
    "params.measure_all_Born([np.arange(1,3),np.arange(16)])"
   ]
  },
  {
   "cell_type": "code",
   "execution_count": 115,
   "metadata": {},
   "outputs": [
    {
     "data": {
      "text/plain": [
       "array([[ 0.   ,  0.492, -0.   ,  0.101, -0.   ,  0.033, -0.   ,  0.012],\n",
       "       [-0.492,  0.   ,  0.573,  0.   ,  0.053,  0.   ,  0.014,  0.   ],\n",
       "       [ 0.   , -0.573,  0.   ,  0.492, -0.   ,  0.101,  0.   ,  0.033],\n",
       "       [-0.101, -0.   , -0.492,  0.   ,  0.573,  0.   ,  0.053, -0.   ],\n",
       "       [ 0.   , -0.053,  0.   , -0.573,  0.   ,  0.492,  0.   ,  0.101],\n",
       "       [-0.033, -0.   , -0.101, -0.   , -0.492,  0.   ,  0.573, -0.   ],\n",
       "       [ 0.   , -0.014, -0.   , -0.053, -0.   , -0.573,  0.   ,  0.492],\n",
       "       [-0.012, -0.   , -0.033,  0.   , -0.101,  0.   , -0.492,  0.   ]])"
      ]
     },
     "execution_count": 115,
     "metadata": {},
     "output_type": "execute_result"
    }
   ],
   "source": [
    "np.round(params.C_m[:8,:8],3)"
   ]
  },
  {
   "cell_type": "code",
   "execution_count": 111,
   "metadata": {},
   "outputs": [
    {
     "data": {
      "text/plain": [
       "[32,\n",
       " 34,\n",
       " 36,\n",
       " 38,\n",
       " 40,\n",
       " 42,\n",
       " 44,\n",
       " 46,\n",
       " 48,\n",
       " 50,\n",
       " 52,\n",
       " 54,\n",
       " 56,\n",
       " 58,\n",
       " 60,\n",
       " 62,\n",
       " 64,\n",
       " 66,\n",
       " 68,\n",
       " 70,\n",
       " 72,\n",
       " 74,\n",
       " 76,\n",
       " 78,\n",
       " 80,\n",
       " 82,\n",
       " 84,\n",
       " 86,\n",
       " 88,\n",
       " 90,\n",
       " 92,\n",
       " 94]"
      ]
     },
     "execution_count": 111,
     "metadata": {},
     "output_type": "execute_result"
    }
   ],
   "source": [
    "params.proj_range"
   ]
  },
  {
   "cell_type": "code",
   "execution_count": 106,
   "metadata": {},
   "outputs": [
    {
     "data": {
      "text/plain": [
       "array([[ 0.   ,  0.866,  0.   ,  0.183],\n",
       "       [-0.866,  0.   ,  0.283, -0.   ],\n",
       "       [-0.   , -0.283,  0.   ,  0.866],\n",
       "       [-0.183,  0.   , -0.866,  0.   ]])"
      ]
     },
     "execution_count": 106,
     "metadata": {},
     "output_type": "execute_result"
    }
   ],
   "source": [
    "np.round(params.C_m[:4,:4],3)"
   ]
  },
  {
   "cell_type": "code",
   "execution_count": null,
   "metadata": {},
   "outputs": [],
   "source": []
  }
 ],
 "metadata": {
  "interpreter": {
   "hash": "6aee4f39eba147985a2c1cbf1db4ebecc02362fa8877deaa860706b7b1b97f3d"
  },
  "kernelspec": {
   "display_name": "Python 3.8.8 64-bit ('base': conda)",
   "name": "python3"
  },
  "language_info": {
   "codemirror_mode": {
    "name": "ipython",
    "version": 3
   },
   "file_extension": ".py",
   "mimetype": "text/x-python",
   "name": "python",
   "nbconvert_exporter": "python",
   "pygments_lexer": "ipython3",
   "version": "3.8.8"
  },
  "orig_nbformat": 4
 },
 "nbformat": 4,
 "nbformat_minor": 2
}