{
 "cells": [
  {
   "cell_type": "markdown",
   "metadata": {},
   "source": [
    "# API"
   ]
  },
  {
   "cell_type": "code",
   "execution_count": 1,
   "metadata": {},
   "outputs": [],
   "source": [
    "import numpy as np\n",
    "import scipy.sparse as sp\n",
    "import scipy.sparse.linalg as sla\n",
    "import scipy.linalg as la\n",
    "import scipy.stats\n",
    "import matplotlib.pyplot as plt\n",
    "import time\n",
    "import pickle\n",
    "from copy import copy\n",
    "# %load_ext line_profiler"
   ]
  },
  {
   "cell_type": "code",
   "execution_count": 2,
   "metadata": {},
   "outputs": [],
   "source": [
    "plt.rcParams['text.usetex']=True\n",
    "plt.rcParams['font.family']='serif'\n",
    "plt.rcParams['font.size']=9\n",
    "plt.rcParams['axes.titlesize']=plt.rcParams['font.size']\n",
    "plt.rcParams['figure.figsize']=(6.8,4)"
   ]
  },
  {
   "cell_type": "code",
   "execution_count": 20,
   "metadata": {},
   "outputs": [
    {
     "data": {
      "text/plain": [
       "<AsyncResult: execute>"
      ]
     },
     "execution_count": 20,
     "metadata": {},
     "output_type": "execute_result"
    }
   ],
   "source": [
    "# ipcluster start --engines=MPI -n 4\n",
    "import ipyparallel as ipp\n",
    "rc = ipp.Client()\n",
    "rc[:].execute(\"from pSC import *\")\n",
    "rc[:].execute(\"import numpy as np\")"
   ]
  },
  {
   "cell_type": "code",
   "execution_count": 3,
   "metadata": {},
   "outputs": [],
   "source": [
    "# %%writefile pSC.py\n",
    "import numpy as np\n",
    "import scipy.linalg as la\n",
    "import numpy.linalg as nla\n",
    "import numpy.matlib\n",
    "\n",
    "class Params:\n",
    "    def __init__(self,\n",
    "            Lx=4,\n",
    "            Ly=16,\n",
    "            Delta=1,\n",
    "            t=1,\n",
    "            m=1,\n",
    "            bcx=-1,\n",
    "            bcy=1,\n",
    "            T=0,\n",
    "            dxmax=16,\n",
    "            dymax=16,\n",
    "            history=False,\n",
    "            ):\n",
    "        self.Lx = Lx\n",
    "        self.Ly = Ly\n",
    "        self.Delta = Delta\n",
    "        self.t = t\n",
    "        self.m = m\n",
    "        self.bcx = bcx\n",
    "        self.bcy = bcy\n",
    "        self.T = T\n",
    "        self.history = history\n",
    "        self.sigmax = np.array([[0, 1], [1, 0]])\n",
    "        self.sigmay = np.array([[0, -1j], [1j, 0]])\n",
    "        self.sigmaz = np.array([[1, 0], [0, -1]])\n",
    "        # check which one is faster, use sparse or dense?\n",
    "        if Lx<np.inf and Ly<np.inf:\n",
    "            hopx = np.diag(np.ones(Lx-1), -1)\n",
    "            hopx[0, -1] = bcx\n",
    "            hopy = np.diag(np.ones(Ly-1), -1)\n",
    "            hopy[0, -1] = bcy\n",
    "            hopxmat = np.kron( np.eye(Ly),hopx)\n",
    "            hopymat = np.kron(hopy,np.eye(Lx))\n",
    "            onsitemat = np.eye(Lx*Ly)\n",
    "            self.Hamiltonian = ((np.kron(hopxmat-hopxmat.T, self.sigmax)+np.kron(hopymat-hopymat.T, self.sigmay))* 1j*Delta-t*np.kron(hopxmat+hopxmat.T+hopymat+hopymat.T, self.sigmaz))/2+m*np.kron(onsitemat, self.sigmaz)\n",
    "        elif Lx==np.inf and Ly==np.inf:\n",
    "            self.dxmax=dxmax\n",
    "            self.dymax=dymax\n",
    "            self.dx=lambda kx: Delta*np.sin(kx)\n",
    "            self.dy=lambda ky: Delta*np.sin(ky)\n",
    "            self.dz=lambda kx,ky: m-t*np.cos(kx)-t*np.cos(ky)\n",
    "        else:\n",
    "            raise ValueError('The size of system {:d,:d} is not supported.'.format(Lx,Ly))\n",
    "\n",
    "    def bandstructure(self):\n",
    "        val, vec = nla.eigh(self.Hamiltonian)\n",
    "        sortindex = np.argsort(val)\n",
    "        self.val = val[sortindex]\n",
    "        self.vec = vec[:, sortindex]\n",
    "\n",
    "    def fermi_dist_k(self,kx,ky,branch,E_F=0):\n",
    "        if self.T==0:\n",
    "            return np.heaviside(E_F-self.E_k(kx,ky,branch),0)\n",
    "        else:\n",
    "            return 1/(1+np.exp((self.E_k(kx,ky,branch)-E_F)/self.T))\n",
    "\n",
    "    def fermi_dist(self, energy, E_F):\n",
    "        if self.T == 0:\n",
    "            return np.heaviside(E_F-energy, 0)\n",
    "        else:\n",
    "            return 1/(1+np.exp((energy-E_F)/self.T))\n",
    "\n",
    "    def correlation_matrix_inf_fft(self,threshold=[1024,512]):\n",
    "        '''\n",
    "        self.dxmax/self.dymax: the maximal distance in x/y direction (in terms of unit cell) \n",
    "        Directly call fft to evaluate the integral\n",
    "        '''\n",
    "        assert self.Lx==np.inf and self.Ly==np.inf, \"Wire length should be inf\"\n",
    "        # cov_mat=[]\n",
    "        Nxmax=max(2*self.dxmax,threshold[0])\n",
    "        Nymax=max(2*self.dymax,threshold[1])\n",
    "        if self.T>0:\n",
    "            pass    #to be filled\n",
    "        else:\n",
    "            kxlist=np.arange(0,2*np.pi,2*np.pi/Nxmax)\n",
    "            kylist=np.arange(0,2*np.pi,2*np.pi/Nymax)\n",
    "            kxmap,kymap=np.meshgrid(kxlist,kylist)\n",
    "            dxmap=self.dx(kxmap)\n",
    "            dymap=self.dy(kymap)\n",
    "            dzmap=self.dz(kxmap,kymap)\n",
    "            Ekmap=np.sqrt(dxmap**2+dymap**2+dzmap**2)\n",
    "            Ekxymap=np.sqrt(dxmap**2+dymap**2)\n",
    "            costheta=dzmap/Ekmap\n",
    "            sintheta=Ekxymap/Ekmap\n",
    "            Ekxymap[0,0]=np.inf #to avoid 0/0 in cos(phi) & sin(phi); the order of this line matters\n",
    "            cosphi=dxmap/Ekxymap\n",
    "            sinphi=dymap/Ekxymap\n",
    "            fftcostheta=np.fft.ifft2(costheta)\n",
    "            constmap=np.zeros((Nymax,Nxmax))\n",
    "            constmap[0,0]=0.5\n",
    "            A_11=constmap-fftcostheta/2\n",
    "            A_22=constmap+fftcostheta/2\n",
    "            A_12=np.fft.ifft2(-(cosphi-1j*sinphi)/2*sintheta)\n",
    "            A_21=np.fft.ifft2(-(cosphi+1j*sinphi)/2*sintheta)\n",
    "            mat=np.stack([[A_11,A_12],[A_21,A_22]])\n",
    "            C_f=np.zeros((2*self.dxmax*self.dymax,2*self.dxmax*self.dymax))*1j\n",
    "            for i in range(self.dxmax*self.dymax):\n",
    "                for j in range(i):\n",
    "                    ix,iy=i%self.dxmax,i//self.dxmax\n",
    "                    jx,jy=j%self.dxmax,j//self.dxmax\n",
    "                    dx,dy=(ix-jx)%Nxmax,(iy-jy)%Nymax\n",
    "                    C_f[2*i:2*i+2,2*j:2*j+2]=mat[:,:,dy,dx]\n",
    "            C_f=C_f+C_f.T.conj()\n",
    "            for i in range(self.dxmax*self.dymax):\n",
    "                C_f[2*i:2*i+2,2*i:2*i+2]=mat[:,:,0,0]\n",
    "            self.C_f=C_f\n",
    "\n",
    "\n",
    "    def correlation_matrix(self, E_F=0):\n",
    "        '''\n",
    "        \n",
    "        '''\n",
    "        if not (hasattr(self, 'val') and hasattr(self, 'vec')):\n",
    "            self.bandstructure()\n",
    "        occupancy_mat = np.matlib.repmat(self.fermi_dist(self.val, E_F), self.vec.shape[0], 1)\n",
    "        self.C_f=((occupancy_mat*self.vec)@self.vec.T.conj())\n",
    "        \n",
    "    def covariance_matrix(self, E_F=0):\n",
    "        '''\n",
    "        c.f. notes\n",
    "        Maybe differs by a minus sign\n",
    "        '''\n",
    "        if not hasattr(self, 'C_f'):\n",
    "            if self.Lx < np.inf and self.Ly<np.inf:\n",
    "                self.correlation_matrix()\n",
    "            else:\n",
    "                self.correlation_matrix_inf_fft()\n",
    "        # G=self.C_f[::2,::2]\n",
    "        # F=self.C_f[::2,1::2]\n",
    "        G=self.C_f[1::2,1::2]\n",
    "        F=self.C_f[1::2,::2]\n",
    "        self.G,self.F=G,F\n",
    "        Gamma_11 = 1j*(F.conj().T+F+G-G.T)\n",
    "        Gamma_21 = -(np.eye(G.shape[0])+F.conj().T-F-G-G.T)\n",
    "        Gamma_12 = -Gamma_21.T\n",
    "        Gamma_22 = -1j*(F.conj().T+F+G.T-G)\n",
    "        Gamma = np.zeros((2*G.shape[0], 2*G.shape[0]), dtype=complex)\n",
    "        even = np.arange(2*G.shape[0])[::2]\n",
    "        odd = np.arange(2*G.shape[0])[1::2]\n",
    "        Gamma[np.ix_(even, even)] = Gamma_11\n",
    "        Gamma[np.ix_(even, odd)] = Gamma_12\n",
    "        Gamma[np.ix_(odd, even)] = Gamma_21\n",
    "        Gamma[np.ix_(odd, odd)] = Gamma_22\n",
    "        assert np.abs(np.imag(Gamma)).max() < 1e-10, \"Covariance matrix not real {:.5f}\".format(np.abs(np.imag(Gamma)).max())\n",
    "        self.C_m = np.real(Gamma-Gamma.T.conj())/2\n",
    "        self.C_m_history = [self.C_m]\n",
    "\n",
    "    def linearize_index(self, subregion, n, proj=False):\n",
    "        '''\n",
    "        If proj ==True, then the index used for projection operator will be returned\n",
    "        '''\n",
    "        subregion_x, subregion_y = (subregion)\n",
    "        subregion_x = np.array(subregion_x)\n",
    "        subregion_y = np.array(subregion_y)\n",
    "        X, Y = np.meshgrid(subregion_x, subregion_y)\n",
    "        if self.Ly<np.inf:\n",
    "            assert subregion_x.max()<self.Lx and subregion_y.max()<self.Ly, '({:d},{:d}) exceed ({:d},{:d})'.format(subregion_x.max(),self.Lx,subregion_y.max(),self.Ly)\n",
    "            linear_index = ((X+Y*self.Lx).flatten('F'))\n",
    "        else:\n",
    "            assert subregion_x.max()<self.dxmax and subregion_y.max()<self.dymax, '({:f},{:f}) exceed ({:f},{:f})'.format(subregion_x.max(),(self.dxmax),subregion_y.max(),(self.dymax))\n",
    "            linear_index = ((X+Y*self.dxmax).flatten('F'))\n",
    "        if proj:\n",
    "            return sorted(np.concatenate([n*linear_index+i for i in range(0, n, 2)]))\n",
    "        else:\n",
    "            return sorted(np.concatenate([n*linear_index+i for i in range(n)]))\n",
    "\n",
    "    def square_index(self, subregion):\n",
    "        subregion=np.unique(np.array(subregion)//2)\n",
    "        if self.Lx<np.inf and self.Ly<np.inf:\n",
    "            return subregion%self.Lx,subregion//self.Lx\n",
    "        else:\n",
    "            return subregion%self.dxmax,subregion//self.dxmax\n",
    "            \n",
    "    def c_subregion_f(self, subregion, linear=True):\n",
    "        '''\n",
    "        subregion: [subregoin_x, subregion_y] index of unit cell\n",
    "        '''\n",
    "        if not hasattr(self, 'C_f'):\n",
    "            self.correlation_matrix()\n",
    "        try:\n",
    "            subregion = list(subregion)\n",
    "        except:\n",
    "            raise ValueError(\"The subregion is ill-defined\"+subregion)\n",
    "\n",
    "        if len(subregion) == 2:\n",
    "            if isinstance(subregion[0], int) and isinstance(subregion[1], int):\n",
    "                linear = True\n",
    "            elif (not isinstance(subregion[0], int)) and (not isinstance(subregion[1], int)):\n",
    "                linear = False\n",
    "            else:\n",
    "                raise ValueError('Illegal subregion')\n",
    "        else:\n",
    "            linear = True\n",
    "        if linear:\n",
    "            # linearized index\n",
    "            subregion_index = subregion\n",
    "        else:\n",
    "            # 2D index\n",
    "            subregion_index = self.linearize_index(subregion, 2)\n",
    "        # This is a dumb way...\n",
    "        return self.C_f[np.ix_(subregion_index, subregion_index)]\n",
    "\n",
    "    def von_Neumann_entropy_f(self, subregion):\n",
    "        c_A = self.c_subregion_f(subregion)\n",
    "        val = nla.eigvalsh(c_A)\n",
    "        self.val_sh = val\n",
    "        val = np.sort(val)\n",
    "        val=np.sort(val)[:val.shape[0]//2]\n",
    "        return np.real(-np.sum(val*np.log(val+1e-18j))-np.sum((1-val)*np.log(1-val+1e-18j)))\n",
    "\n",
    "    def c_subregion_m(self, subregion, Gamma=None):\n",
    "        '''\n",
    "        subregion: [subregoin_x, subregion_y] index of unit cell\n",
    "        '''\n",
    "        if not hasattr(self, 'C_m'):\n",
    "            self.covariance_matrix()\n",
    "        if Gamma is None:\n",
    "            Gamma = self.C_m_history[-1]\n",
    "        try:\n",
    "            subregion = list(subregion)\n",
    "        except:\n",
    "            raise ValueError(\"The subregion is ill-defined\"+subregion)\n",
    "\n",
    "        if len(subregion) == 2:\n",
    "            if isinstance(subregion[0], int) and isinstance(subregion[1], int):\n",
    "                linear = True\n",
    "            elif (not isinstance(subregion[0], int)) and (not isinstance(subregion[1], int)):\n",
    "                linear = False\n",
    "            else:\n",
    "                raise ValueError('Illegal subregion')\n",
    "        else:\n",
    "            linear = True\n",
    "        if linear:\n",
    "            # linearized index\n",
    "            subregion_index = subregion\n",
    "        else:\n",
    "            # 2D index\n",
    "            subregion_index = self.linearize_index(subregion, 2)\n",
    "\n",
    "        return Gamma[np.ix_(subregion_index, subregion_index)]\n",
    "\n",
    "    def von_Neumann_entropy_m(self, subregion):\n",
    "        c_A = self.c_subregion_m(subregion)\n",
    "        val = nla.eigvalsh(1j*c_A)\n",
    "        self.val_sh = val\n",
    "        val = np.sort(val)\n",
    "        val = (1-val)/2+1e-18j  # \\lambda=(1-\\xi)/2\n",
    "        return np.real(-np.sum(val*np.log(val))-np.sum((1-val)*np.log(1-val)))/2\n",
    "\n",
    "    def mutual_information_f(self, subregion_A, subregion_B):\n",
    "        subregion_A = self.linearize_index(subregion_A, 2)\n",
    "        subregion_B = self.linearize_index(subregion_B, 2)\n",
    "        s_A = self.von_Neumann_entropy_f(subregion_A)\n",
    "        s_B = self.von_Neumann_entropy_f(subregion_B)\n",
    "        assert np.intersect1d(\n",
    "            subregion_A, subregion_B).size == 0, \"Subregion A and B overlap\"\n",
    "        subregion_AB = np.concatenate([subregion_A, subregion_B])\n",
    "        s_AB = self.von_Neumann_entropy_f(subregion_AB)\n",
    "        return s_A+s_B-s_AB\n",
    "\n",
    "    def mutual_information_m(self, subregion_A, subregion_B,linear=False):\n",
    "        if not linear:\n",
    "            subregion_A = self.linearize_index(subregion_A, 2)\n",
    "            subregion_B = self.linearize_index(subregion_B, 2)\n",
    "        assert np.intersect1d(\n",
    "            subregion_A, subregion_B).size == 0, \"Subregion A and B overlap\"\n",
    "        s_A = self.von_Neumann_entropy_m(subregion_A)\n",
    "        s_B = self.von_Neumann_entropy_m(subregion_B)\n",
    "        subregion_AB = np.concatenate([subregion_A, subregion_B])\n",
    "        s_AB = self.von_Neumann_entropy_m(subregion_AB)\n",
    "        return s_A+s_B-s_AB  \n",
    "\n",
    "    def log_neg(self, subregion_A, subregion_B, Gamma=None,linear=False):\n",
    "        if not linear:\n",
    "            subregion_A = self.linearize_index(subregion_A, 2)\n",
    "            subregion_B = self.linearize_index(subregion_B, 2)\n",
    "        assert np.intersect1d(\n",
    "            subregion_A, subregion_B).size == 0, \"Subregion A and B overlap\"\n",
    "        if not hasattr(self, 'C_m'):\n",
    "            self.covariance_matrix()\n",
    "\n",
    "        if Gamma is None:\n",
    "            Gamma = self.C_m_history[-1]\n",
    "        subregion_A = np.array(subregion_A)\n",
    "        subregion_B = np.array(subregion_B)\n",
    "        Gm_p = np.block([\n",
    "            [-Gamma[np.ix_(subregion_A, subregion_A)], 1j *\n",
    "             Gamma[np.ix_(subregion_A, subregion_B)]],\n",
    "            [1j*Gamma[np.ix_(subregion_B, subregion_A)],\n",
    "             Gamma[np.ix_(subregion_B, subregion_B)]]\n",
    "        ])\n",
    "        Gm_n = np.block([\n",
    "            [-Gamma[np.ix_(subregion_A, subregion_A)], -1j *\n",
    "             Gamma[np.ix_(subregion_A, subregion_B)]],\n",
    "            [-1j*Gamma[np.ix_(subregion_B, subregion_A)],\n",
    "             Gamma[np.ix_(subregion_B, subregion_B)]]\n",
    "        ])\n",
    "        idm = np.eye(Gm_p.shape[0])\n",
    "        # Gm_x=idm-(idm+1j*Gm_p)@nla.inv(idm-Gm_n@Gm_p)@(idm+1j*Gm_n)\n",
    "        Gm_x = idm-(idm+1j*Gm_p)@(la.solve((idm-Gm_n@Gm_p), (idm+1j*Gm_n)))\n",
    "        Gm_x = (Gm_x+Gm_x.T.conj())/2\n",
    "        xi = nla.eigvalsh(Gm_x)\n",
    "        subregion_AB = np.concatenate([subregion_A, subregion_B])\n",
    "        eA = np.sum(np.log(((1+xi+0j)/2)**0.5+((1-xi+0j)/2)**0.5))/2\n",
    "        chi = nla.eigvalsh(1j*Gamma[np.ix_(subregion_AB, subregion_AB)])\n",
    "        sA = np.sum(np.log(((1+chi)/2)**2+((1-chi)/2)**2))/4\n",
    "        self.eA=eA\n",
    "        self.sA=sA\n",
    "        return np.real(eA+sA)\n",
    "\n",
    "    def projection(self, s):\n",
    "        '''\n",
    "        For type:'onsite'\n",
    "            occupancy number: s= 0,1 \n",
    "            (-1)^0 even parity, (-1)^1 odd parity\n",
    "        '''\n",
    "        assert (s == 0 or s == 1), \"s={} is either 0 or 1\".format(s)\n",
    "        blkmat = np.array([[0, -(-1)**s, 0, 0],\n",
    "                           [(-1)**s, 0, 0, 0],\n",
    "                           [0, 0, 0, (-1)**s],\n",
    "                           [0, 0, -(-1)**s, 0]])\n",
    "        return blkmat\n",
    "\n",
    "    def measure(self, s, ix):\n",
    "        if not hasattr(self, 'C_m'):\n",
    "            self.covariance_matrix()\n",
    "        if not hasattr(self, 's_history'):\n",
    "            self.s_history = []\n",
    "        if not hasattr(self, 'i_history'):\n",
    "            self.i_history = []\n",
    "\n",
    "        mat = self.C_m_history[-1].copy()\n",
    "\n",
    "        for i_ind, i in enumerate(ix):\n",
    "            mat[[i, -(len(ix)-i_ind)]] = mat[[-(len(ix)-i_ind), i]]\n",
    "            mat[:, [i, -(len(ix)-i_ind)]] = mat[:, [-(len(ix)-i_ind), i]]\n",
    "\n",
    "        self.mat = mat\n",
    "\n",
    "        Gamma_LL = mat[:-len(ix), :-len(ix)]\n",
    "        Gamma_LR = mat[:-len(ix), -len(ix):]\n",
    "        Gamma_RR = mat[-len(ix):, -len(ix):]\n",
    "\n",
    "        proj = self.projection(s)\n",
    "        Upsilon_LL = proj[:-len(ix), :-len(ix)]\n",
    "        Upsilon_RR = proj[-len(ix):, -len(ix):]\n",
    "        Upsilon_RL = proj[-len(ix):, :-len(ix)]\n",
    "        zero = np.zeros((mat.shape[0]-len(ix), len(ix)))\n",
    "        zero0 = np.zeros((len(ix), len(ix)))\n",
    "        mat1 = np.block([[Gamma_LL, zero], [zero.T, Upsilon_RR]])\n",
    "        mat2 = np.block([[Gamma_LR, zero], [zero0, Upsilon_RL]])\n",
    "        mat3 = np.block([[Gamma_RR, np.eye(len(ix))],\n",
    "                        [-np.eye(len(ix)), Upsilon_LL]])\n",
    "        self.mat2 = mat2\n",
    "        if np.count_nonzero(mat2):\n",
    "            Psi = mat1+mat2@(la.solve(mat3, mat2.T))\n",
    "            # Psi=mat1+mat2@(la.lstsq(mat3,mat2.T)[0])\n",
    "            assert np.abs(\n",
    "                np.trace(Psi)) < 1e-5, \"Not trace zero {:e}\".format(np.trace(Psi))\n",
    "        else:\n",
    "            Psi = mat1\n",
    "\n",
    "        for i_ind, i in enumerate(ix):\n",
    "            Psi[[i, -(len(ix)-i_ind)]] = Psi[[-(len(ix)-i_ind), i]]\n",
    "            Psi[:, [i, -(len(ix)-i_ind)]] = Psi[:, [-(len(ix)-i_ind), i]]\n",
    "        Psi = (Psi-Psi.T)/2   # Anti-symmetrize\n",
    "        if self.history:\n",
    "            self.C_m_history.append(Psi)\n",
    "            self.s_history.append(s)\n",
    "            self.i_history.append(ix[0])\n",
    "        else:\n",
    "            self.C_m_history = [Psi]\n",
    "            self.s_history = [s]\n",
    "            self.i_history = [ix[0]]\n",
    "\n",
    "    def measure_all_Born(self, proj_range,prob=None,linear=False):\n",
    "        if not linear:\n",
    "            proj_range = self.linearize_index(proj_range, 2, proj=True)\n",
    "        self.proj_range=proj_range\n",
    "        # print(proj_range)\n",
    "        self.P_0_list = []\n",
    "        self.f_parity= []\n",
    "        self.covariance_matrix()\n",
    "        for i in proj_range:\n",
    "            if prob is None:\n",
    "                P_0 = (self.C_m_history[-1][i, i+1]+1)/2    # Use Born rule\n",
    "            else:\n",
    "                P_0=prob\n",
    "            self.P_0_list.append(P_0)\n",
    "            if np.random.rand() < P_0:\n",
    "                self.measure(0, [i, i+1])\n",
    "                self.f_parity.append(0)\n",
    "            else:\n",
    "                self.measure(1, [i, i+1])\n",
    "                self.f_parity.append(1)\n",
    "        return self\n",
    "\n",
    "def cross_ratio(x,L):\n",
    "    if L<np.inf:\n",
    "        xx=lambda i,j: (np.sin(np.pi/(L)*np.abs(x[i]-x[j])))\n",
    "    else:\n",
    "        xx=lambda i,j: np.abs(x[i]-x[j])\n",
    "    eta=(xx(0,1)*xx(2,3))/(xx(0,2)*xx(1,3))\n",
    "    return eta\n"
   ]
  },
  {
   "cell_type": "code",
   "execution_count": null,
   "metadata": {},
   "outputs": [],
   "source": []
  },
  {
   "cell_type": "code",
   "execution_count": 29,
   "metadata": {},
   "outputs": [],
   "source": [
    "params=Params(m=1,Lx=16,Ly=16,bcx=-1,bcy=1,history=True)\n",
    "params.covariance_matrix()"
   ]
  },
  {
   "cell_type": "code",
   "execution_count": 30,
   "metadata": {},
   "outputs": [],
   "source": [
    "params_inf=Params(m=1,dxmax=16,dymax=16,Lx=np.inf,Ly=np.inf,bcx=-1,bcy=1,history=True)\n",
    "params_inf.covariance_matrix()"
   ]
  },
  {
   "cell_type": "code",
   "execution_count": 31,
   "metadata": {},
   "outputs": [
    {
     "data": {
      "text/plain": [
       "array([ 0.00000000e+00, -4.91169158e-01, -3.32982373e-01,  2.33495780e-01,\n",
       "       -4.58724785e-02,  1.28294670e-02, -1.31803029e-02,  6.01180400e-04,\n",
       "       -4.61289080e-03, -5.01747900e-04, -1.77999350e-03, -3.85901000e-04,\n",
       "       -7.42344700e-04, -2.07364700e-04, -3.58312800e-04, -8.59282000e-05,\n",
       "       -2.59725700e-04,  0.00000000e+00, -3.58312800e-04,  8.59282000e-05,\n",
       "       -7.42344700e-04,  2.07364700e-04, -1.77999350e-03,  3.85901000e-04,\n",
       "       -4.61289080e-03,  5.01747900e-04, -1.31803029e-02, -6.01180400e-04,\n",
       "       -4.58724785e-02, -1.28294670e-02, -3.32982373e-01, -2.33495780e-01,\n",
       "       -0.00000000e+00, -9.94869173e-02, -5.80468214e-02,  5.87004312e-02,\n",
       "        1.07615598e-02, -5.84714640e-03,  5.39677430e-03, -2.22585120e-03,\n",
       "        2.37371670e-03, -6.77706200e-04,  1.04481580e-03, -1.86265900e-04,\n",
       "        4.76794800e-04, -4.30499000e-05,  2.46404900e-04, -6.79280000e-06,\n",
       "        1.84515200e-04,  0.00000000e+00,  2.46404900e-04,  6.79280000e-06,\n",
       "        4.76794800e-04,  4.30499000e-05,  1.04481580e-03,  1.86265900e-04,\n",
       "        2.37371670e-03,  6.77706200e-04,  5.39677430e-03,  2.22585120e-03,\n",
       "        1.07615598e-02,  5.84714640e-03, -5.80468214e-02, -5.87004312e-02,\n",
       "        0.00000000e+00, -3.30422837e-02, -1.66077158e-02,  2.15207667e-02,\n",
       "        6.62344210e-03, -4.30873000e-03,  1.41385610e-03, -7.26878400e-04,\n",
       "        1.72714300e-04, -4.75251000e-05, -6.31117000e-05,  3.62829000e-05,\n",
       "       -7.90790000e-05,  2.62654000e-05, -6.27252000e-05,  1.11364000e-05,\n",
       "       -5.50968000e-05,  0.00000000e+00, -6.27252000e-05, -1.11364000e-05,\n",
       "       -7.90790000e-05, -2.62654000e-05, -6.31117000e-05, -3.62829000e-05,\n",
       "        1.72714300e-04,  4.75251000e-05,  1.41385610e-03,  7.26878400e-04,\n",
       "        6.62344210e-03,  4.30873000e-03, -1.66077158e-02, -2.15207667e-02,\n",
       "       -0.00000000e+00, -1.25773103e-02, -5.55266010e-03,  8.72102120e-03,\n",
       "        3.09654950e-03, -2.40752170e-03,  1.46380300e-04, -1.23792000e-04,\n",
       "       -1.21077200e-04,  5.79795000e-05, -7.30342000e-05,  3.08668000e-05,\n",
       "       -2.87338000e-05,  9.91980000e-06, -8.77000000e-06,  2.30560000e-06,\n",
       "       -3.50800000e-06,  0.00000000e+00, -8.77000000e-06, -2.30560000e-06,\n",
       "       -2.87338000e-05, -9.91980000e-06, -7.30342000e-05, -3.08668000e-05,\n",
       "       -1.21077200e-04, -5.79795000e-05,  1.46380300e-04,  1.23792000e-04,\n",
       "        3.09654950e-03,  2.40752170e-03, -5.55266010e-03, -8.72102120e-03,\n",
       "        0.00000000e+00, -5.11028250e-03, -2.01604050e-03,  3.70589610e-03,\n",
       "        1.37728270e-03, -1.24833110e-03, -1.08605200e-04,  4.45419000e-05,\n",
       "       -8.04209000e-05,  4.32679000e-05, -2.21585000e-05,  1.06394000e-05,\n",
       "       -2.11230000e-06,  8.40400000e-07,  2.39100000e-06, -5.24800000e-07,\n",
       "        2.95650000e-06,  0.00000000e+00,  2.39100000e-06,  5.24800000e-07,\n",
       "       -2.11230000e-06, -8.40400000e-07, -2.21585000e-05, -1.06394000e-05,\n",
       "       -8.04209000e-05, -4.32679000e-05, -1.08605200e-04, -4.45419000e-05,\n",
       "        1.37728270e-03,  1.24833110e-03, -2.01604050e-03, -3.70589610e-03,\n",
       "       -0.00000000e+00, -2.15558020e-03, -7.73706100e-04,  1.61825480e-03,\n",
       "        6.08928400e-04, -6.27843100e-04, -1.11236600e-04,  6.74767000e-05,\n",
       "       -3.19903000e-05,  2.00951000e-05, -2.10570000e-06,  1.51900000e-06,\n",
       "        2.18940000e-06, -9.67800000e-07,  1.54870000e-06, -5.47500000e-07,\n",
       "        1.09030000e-06, -0.00000000e+00,  1.54870000e-06,  5.47500000e-07,\n",
       "        2.18940000e-06,  9.67800000e-07, -2.10570000e-06, -1.51900000e-06,\n",
       "       -3.19903000e-05, -2.00951000e-05, -1.11236600e-04, -6.74767000e-05,\n",
       "        6.08928400e-04,  6.27843100e-04, -7.73706100e-04, -1.61825480e-03,\n",
       "       -0.00000000e+00, -9.25105600e-04, -3.14301800e-04,  7.15963000e-04,\n",
       "        2.76010700e-04, -3.12408900e-04, -7.57366000e-05,  5.47917000e-05,\n",
       "       -8.29800000e-06,  6.09480000e-06,  2.26340000e-06, -1.07300000e-06,\n",
       "        1.43460000e-06, -6.79700000e-07,  3.92700000e-07, -1.84900000e-07,\n",
       "        8.91000000e-08,  0.00000000e+00,  3.92700000e-07,  1.84900000e-07,\n",
       "        1.43460000e-06,  6.79700000e-07,  2.26340000e-06,  1.07300000e-06,\n",
       "       -8.29800000e-06, -6.09480000e-06, -7.57366000e-05, -5.47917000e-05,\n",
       "        2.76010700e-04,  3.12408900e-04, -3.14301800e-04, -7.15963000e-04,\n",
       "       -0.00000000e+00, -3.84584600e-04, -1.45958800e-04,  3.11318600e-04,\n",
       "        1.40444300e-04, -1.58658200e-04, -5.03411000e-05,  4.22171000e-05,\n",
       "        5.06200000e-07, -7.85300000e-07,  2.30790000e-06, -1.65000000e-06,\n",
       "        5.50500000e-07, -2.65000000e-07, -2.93000000e-08,  4.04000000e-08,\n",
       "       -1.18700000e-07, -0.00000000e+00, -2.93000000e-08, -4.04000000e-08,\n",
       "        5.50500000e-07,  2.65000000e-07,  2.30790000e-06,  1.65000000e-06,\n",
       "        5.06200000e-07,  7.85300000e-07, -5.03411000e-05, -4.22171000e-05,\n",
       "        1.40444300e-04,  1.58658200e-04, -1.45958800e-04, -3.11318600e-04,\n",
       "        0.00000000e+00, -1.11947500e-04, -1.03217800e-04,  1.13888900e-04,\n",
       "        1.04043500e-04, -9.33861000e-05, -4.18798000e-05,  4.15929000e-05,\n",
       "        2.58930000e-06, -3.67580000e-06,  2.03960000e-06, -2.41350000e-06,\n",
       "        2.56400000e-07, -2.93500000e-07, -1.12700000e-07,  1.01600000e-07,\n",
       "       -1.29700000e-07,  0.00000000e+00, -1.12700000e-07, -1.01600000e-07,\n",
       "        2.56400000e-07,  2.93500000e-07,  2.03960000e-06,  2.41350000e-06,\n",
       "        2.58930000e-06,  3.67580000e-06, -4.18798000e-05, -4.15929000e-05,\n",
       "        1.04043500e-04,  9.33861000e-05, -1.03217800e-04, -1.13888900e-04,\n",
       "        0.00000000e+00,  1.03838500e-04, -1.45958800e-04, -1.34165000e-05,\n",
       "        1.40444300e-04, -9.24032000e-05, -5.03411000e-05,  6.14165000e-05,\n",
       "        5.06200000e-07, -2.24370000e-06,  2.30790000e-06, -4.22520000e-06,\n",
       "        5.50500000e-07, -1.27590000e-06, -2.93000000e-08, -1.78500000e-07,\n",
       "       -1.18700000e-07,  0.00000000e+00, -2.93000000e-08,  1.78500000e-07,\n",
       "        5.50500000e-07,  1.27590000e-06,  2.30790000e-06,  4.22520000e-06,\n",
       "        5.06200000e-07,  2.24370000e-06, -5.03411000e-05, -6.14165000e-05,\n",
       "        1.40444300e-04,  9.24032000e-05, -1.45958800e-04,  1.34165000e-05,\n",
       "        0.00000000e+00,  4.57851200e-04, -3.14301800e-04, -1.60498900e-04,\n",
       "        2.76010700e-04, -1.84946800e-04, -7.57366000e-05,  1.15298200e-04,\n",
       "       -8.29800000e-06,  1.17659000e-05,  2.26340000e-06, -5.55960000e-06,\n",
       "        1.43460000e-06, -3.83560000e-06,  3.92700000e-07, -1.39390000e-06,\n",
       "        8.91000000e-08, -0.00000000e+00,  3.92700000e-07,  1.39390000e-06,\n",
       "        1.43460000e-06,  3.83560000e-06,  2.26340000e-06,  5.55960000e-06,\n",
       "       -8.29800000e-06, -1.17659000e-05, -7.57366000e-05, -1.15298200e-04,\n",
       "        2.76010700e-04,  1.84946800e-04, -3.14301800e-04,  1.60498900e-04,\n",
       "        0.00000000e+00,  1.35848180e-03, -7.73706100e-04, -4.35816900e-04,\n",
       "        6.08928400e-04, -5.17258500e-04, -1.11236600e-04,  2.15948900e-04,\n",
       "       -3.19903000e-05,  6.49424000e-05, -2.10570000e-06,  5.74550000e-06,\n",
       "        2.18940000e-06, -4.96430000e-06,  1.54870000e-06, -3.41490000e-06,\n",
       "        1.09030000e-06,  0.00000000e+00,  1.54870000e-06,  3.41490000e-06,\n",
       "        2.18940000e-06,  4.96430000e-06, -2.10570000e-06, -5.74550000e-06,\n",
       "       -3.19903000e-05, -6.49424000e-05, -1.11236600e-04, -2.15948900e-04,\n",
       "        6.08928400e-04,  5.17258500e-04, -7.73706100e-04,  4.35816900e-04,\n",
       "        0.00000000e+00,  4.09488590e-03, -2.01604050e-03, -1.02472750e-03,\n",
       "        1.37728270e-03, -1.60107050e-03, -1.08605200e-04,  2.89160300e-04,\n",
       "       -8.04209000e-05,  2.05762300e-04, -2.21585000e-05,  7.70840000e-05,\n",
       "       -2.11230000e-06,  2.14778000e-05,  2.39100000e-06,  4.07350000e-06,\n",
       "        2.95650000e-06,  0.00000000e+00,  2.39100000e-06, -4.07350000e-06,\n",
       "       -2.11230000e-06, -2.14778000e-05, -2.21585000e-05, -7.70840000e-05,\n",
       "       -8.04209000e-05, -2.05762300e-04, -1.08605200e-04, -2.89160300e-04,\n",
       "        1.37728270e-03,  1.60107050e-03, -2.01604050e-03,  1.02472750e-03,\n",
       "        0.00000000e+00,  1.37732567e-02, -5.55266010e-03, -2.06558140e-03,\n",
       "        3.09654950e-03, -5.24030540e-03,  1.46380300e-04, -4.18075800e-04,\n",
       "       -1.21077200e-04,  2.70118400e-04, -7.30342000e-05,  2.42853500e-04,\n",
       "       -2.87338000e-05,  1.40152200e-04, -8.77000000e-06,  6.03589000e-05,\n",
       "       -3.50800000e-06, -0.00000000e+00, -8.77000000e-06, -6.03589000e-05,\n",
       "       -2.87338000e-05, -1.40152200e-04, -7.30342000e-05, -2.42853500e-04,\n",
       "       -1.21077200e-04, -2.70118400e-04,  1.46380300e-04,  4.18075800e-04,\n",
       "        3.09654950e-03,  5.24030540e-03, -5.55266010e-03,  2.06558140e-03,\n",
       "        0.00000000e+00,  5.86992014e-02, -1.66077158e-02,  2.07780000e-06,\n",
       "        6.62344210e-03, -1.75555675e-02,  1.41385610e-03, -6.91554660e-03,\n",
       "        1.72714300e-04, -2.79357470e-03, -6.31117000e-05, -1.16279750e-03,\n",
       "       -7.90790000e-05, -4.84084300e-04, -6.27252000e-05, -1.76886800e-04,\n",
       "       -5.50968000e-05, -0.00000000e+00, -6.27252000e-05,  1.76886800e-04,\n",
       "       -7.90790000e-05,  4.84084300e-04, -6.31117000e-05,  1.16279750e-03,\n",
       "        1.72714300e-04,  2.79357470e-03,  1.41385610e-03,  6.91554660e-03,\n",
       "        6.62344210e-03,  1.75555675e-02, -1.66077158e-02, -2.07780000e-06,\n",
       "        0.00000000e+00,  5.66475654e-01, -5.80468214e-02,  1.74794643e-01,\n",
       "        1.07615598e-02,  2.73661103e-02,  5.39677430e-03,  8.87651950e-03,\n",
       "        2.37371670e-03,  3.34723240e-03,  1.04481580e-03,  1.34489450e-03,\n",
       "        4.76794800e-04,  5.48125200e-04,  2.46404900e-04,  1.97836100e-04,\n",
       "        1.84515200e-04,  0.00000000e+00,  2.46404900e-04, -1.97836100e-04,\n",
       "        4.76794800e-04, -5.48125200e-04,  1.04481580e-03, -1.34489450e-03,\n",
       "        2.37371670e-03, -3.34723240e-03,  5.39677430e-03, -8.87651950e-03,\n",
       "        1.07615598e-02, -2.73661103e-02, -5.80468214e-02, -1.74794643e-01])"
      ]
     },
     "execution_count": 31,
     "metadata": {},
     "output_type": "execute_result"
    }
   ],
   "source": [
    "np.round(params.C_m[0,:],10)"
   ]
  },
  {
   "cell_type": "code",
   "execution_count": 37,
   "metadata": {},
   "outputs": [
    {
     "data": {
      "text/plain": [
       "array([ 0.00000000e+00, -4.91169158e-01, -3.32981829e-01,  2.33495074e-01,\n",
       "       -4.58716105e-02,  1.28289629e-02, -1.31777932e-02,  5.99576800e-04,\n",
       "       -4.60773760e-03, -5.04723100e-04, -1.76851230e-03, -3.92225000e-04,\n",
       "       -7.16911700e-04, -2.20495800e-04, -3.01262400e-04, -1.13150400e-04,\n",
       "       -1.29863500e-04, -5.59733000e-05, -5.70525000e-05, -2.72221000e-05,\n",
       "       -2.54357000e-05, -1.31293000e-05, -1.14735000e-05, -6.30660000e-06,\n",
       "       -5.22510000e-06, -3.02400000e-06, -2.39850000e-06, -1.44920000e-06,\n",
       "       -1.10840000e-06, -6.94700000e-07, -5.15100000e-07, -3.33200000e-07,\n",
       "       -0.00000000e+00, -9.94867552e-02, -5.80469637e-02,  5.87005735e-02,\n",
       "        1.07604521e-02, -5.84672000e-03,  5.39503780e-03, -2.22539570e-03,\n",
       "        2.36951430e-03, -6.76581200e-04,  1.03592590e-03, -1.84376600e-04,\n",
       "        4.57513000e-04, -3.98098000e-05,  2.04386500e-04, -1.90040000e-06,\n",
       "        9.22581000e-05,  5.33510000e-06,  4.20191000e-05,  4.89100000e-06,\n",
       "        1.92851000e-05,  3.23930000e-06,  8.90950000e-06,  1.90430000e-06,\n",
       "        4.13960000e-06,  1.05410000e-06,  1.93290000e-06,  5.63300000e-07,\n",
       "        9.06400000e-07,  2.94300000e-07,  4.26700000e-07,  1.51500000e-07,\n",
       "        0.00000000e+00, -3.30426476e-02, -1.66071721e-02,  2.15209042e-02,\n",
       "        6.62343050e-03, -4.30871830e-03,  1.41512400e-03, -7.27121200e-04,\n",
       "        1.74542000e-04, -4.74716000e-05, -5.92020000e-05,  3.63303000e-05,\n",
       "       -7.14051000e-05,  2.67992000e-05, -4.79266000e-05,  1.30250000e-05,\n",
       "       -2.75491000e-05,  5.32840000e-06, -1.48004000e-05,  1.88750000e-06,\n",
       "       -7.67260000e-06,  5.37200000e-07, -3.89540000e-06,  7.34000000e-08,\n",
       "       -1.95210000e-06, -5.31000000e-08, -9.70000000e-07, -6.69000000e-08,\n",
       "       -4.79300000e-07, -5.13000000e-08, -2.35900000e-07, -3.35000000e-08,\n",
       "       -0.00000000e+00, -1.25782164e-02, -5.55192270e-03,  8.72156480e-03,\n",
       "        3.09544180e-03, -2.40743900e-03,  1.46761100e-04, -1.24172800e-04,\n",
       "       -1.21693200e-04,  5.81127000e-05, -7.36351000e-05,  3.06715000e-05,\n",
       "       -2.94934000e-05,  9.61410000e-06, -9.18490000e-06,  1.89040000e-06,\n",
       "       -1.75440000e-06, -1.44600000e-07,  4.14900000e-07, -4.16400000e-07,\n",
       "        7.68200000e-07, -2.96200000e-07,  6.21900000e-07, -1.60300000e-07,\n",
       "        4.10400000e-07, -7.49000000e-08,  2.46600000e-07, -3.08000000e-08,\n",
       "        1.40400000e-07, -1.08000000e-08,  7.72000000e-08, -2.70000000e-09,\n",
       "       -0.00000000e+00, -5.11246060e-03, -2.01425490e-03,  3.70718790e-03,\n",
       "        1.37515380e-03, -1.24808330e-03, -1.07337300e-04,  4.37568000e-05,\n",
       "       -8.08341000e-05,  4.36811000e-05, -2.22911000e-05,  1.05840000e-05,\n",
       "       -2.47400000e-06,  7.36300000e-07,  1.55970000e-06, -7.67300000e-07,\n",
       "        1.47720000e-06, -5.45200000e-07,  8.32100000e-07, -2.40900000e-07,\n",
       "        3.77900000e-07, -7.97000000e-08,  1.43200000e-07, -1.64000000e-08,\n",
       "        4.10000000e-08,  2.50000000e-09,  3.20000000e-09,  5.50000000e-09,\n",
       "       -7.50000000e-09,  4.20000000e-09, -8.30000000e-09,  2.50000000e-09,\n",
       "        0.00000000e+00, -2.16073740e-03, -7.69643100e-04,  1.62119250e-03,\n",
       "        6.04234300e-04, -6.27106000e-04, -1.08614900e-04,  6.56514000e-05,\n",
       "       -3.26063000e-05,  2.08992000e-05, -2.10940000e-06,  1.52280000e-06,\n",
       "        2.21610000e-06, -1.01100000e-06,  1.41730000e-06, -5.90500000e-07,\n",
       "        5.44500000e-07, -1.88900000e-07,  1.37400000e-07, -3.11000000e-08,\n",
       "        2.40000000e-09,  8.60000000e-09, -2.51000000e-08,  1.11000000e-08,\n",
       "       -2.13000000e-08,  6.60000000e-09, -1.28000000e-08,  3.00000000e-09,\n",
       "       -6.40000000e-09,  1.10000000e-09, -2.80000000e-09,  3.00000000e-10,\n",
       "        0.00000000e+00, -9.37407500e-04, -3.04944600e-04,  7.22647800e-04,\n",
       "        2.65592800e-04, -3.10198600e-04, -7.04263000e-05,  5.05470000e-05,\n",
       "       -9.30840000e-06,  7.57070000e-06,  2.13060000e-06, -9.25500000e-07,\n",
       "        1.50550000e-06, -7.53200000e-07,  4.48000000e-07, -2.05100000e-07,\n",
       "        4.69000000e-08, -1.49000000e-08, -3.74000000e-08,  1.73000000e-08,\n",
       "       -3.26000000e-08,  1.22000000e-08, -1.66000000e-08,  5.10000000e-09,\n",
       "       -6.40000000e-09,  1.40000000e-09, -1.70000000e-09,  1.00000000e-10,\n",
       "       -0.00000000e+00, -2.00000000e-10,  4.00000000e-10, -2.00000000e-10,\n",
       "       -0.00000000e+00, -4.14412800e-04, -1.24136600e-04,  3.26622600e-04,\n",
       "        1.17227800e-04, -1.52129400e-04, -3.96838000e-05,  3.23894000e-05,\n",
       "       -8.96800000e-07,  1.68920000e-06,  1.87010000e-06, -1.04330000e-06,\n",
       "        5.76400000e-07, -3.33500000e-07,  4.10000000e-08, -2.67000000e-08,\n",
       "       -4.72000000e-08,  2.11000000e-08, -3.10000000e-08,  1.29000000e-08,\n",
       "       -1.16000000e-08,  4.20000000e-09, -2.50000000e-09,  6.00000000e-10,\n",
       "        3.00000000e-10, -3.00000000e-10,  7.00000000e-10, -3.00000000e-10,\n",
       "        5.00000000e-10, -2.00000000e-10,  2.00000000e-10, -1.00000000e-10,\n",
       "       -0.00000000e+00, -1.85836800e-04, -5.16088000e-05,  1.49202000e-04,\n",
       "        5.20214000e-05, -7.42421000e-05, -2.09401000e-05,  1.90411000e-05,\n",
       "        1.29380000e-06, -3.61800000e-07,  1.01890000e-06, -6.63300000e-07,\n",
       "        1.29200000e-07, -9.72000000e-08, -4.63000000e-08,  2.02000000e-08,\n",
       "       -3.24000000e-08,  1.56000000e-08, -1.00000000e-08,  4.50000000e-09,\n",
       "       -1.00000000e-09,  3.00000000e-10,  9.00000000e-10, -4.00000000e-10,\n",
       "        8.00000000e-10, -3.00000000e-10,  4.00000000e-10, -1.00000000e-10,\n",
       "        1.00000000e-10, -0.00000000e+00,  0.00000000e+00,  0.00000000e+00,\n",
       "        0.00000000e+00, -8.42746000e-05, -2.18221000e-05,  6.87322000e-05,\n",
       "        2.32154000e-05, -3.61283000e-05, -1.06575000e-05,  1.06560000e-05,\n",
       "        1.40210000e-06, -8.10900000e-07,  4.39700000e-07, -3.33500000e-07,\n",
       "       -1.54000000e-08, -4.70000000e-09, -3.83000000e-08,  2.02000000e-08,\n",
       "       -1.21000000e-08,  6.60000000e-09, -9.00000000e-10,  5.00000000e-10,\n",
       "        1.10000000e-09, -5.00000000e-10,  7.00000000e-10, -3.00000000e-10,\n",
       "        3.00000000e-10, -1.00000000e-10,  1.00000000e-10, -0.00000000e+00,\n",
       "       -0.00000000e+00,  0.00000000e+00, -0.00000000e+00,  0.00000000e+00,\n",
       "        0.00000000e+00, -3.85649000e-05, -9.35660000e-06,  3.18809000e-05,\n",
       "        1.04171000e-05, -1.75526000e-05, -5.30760000e-06,  5.77960000e-06,\n",
       "        1.01630000e-06, -7.18100000e-07,  1.49400000e-07, -1.38400000e-07,\n",
       "       -3.92000000e-08,  1.88000000e-08, -1.90000000e-08,  1.15000000e-08,\n",
       "       -2.30000000e-09,  1.60000000e-09,  1.10000000e-09, -5.00000000e-10,\n",
       "        8.00000000e-10, -4.00000000e-10,  2.00000000e-10, -1.00000000e-10,\n",
       "        0.00000000e+00, -0.00000000e+00, -0.00000000e+00,  0.00000000e+00,\n",
       "       -0.00000000e+00,  0.00000000e+00, -0.00000000e+00,  0.00000000e+00,\n",
       "       -0.00000000e+00, -1.77801000e-05, -4.05900000e-06,  1.48728000e-05,\n",
       "        4.69860000e-06, -8.52050000e-06, -2.60700000e-06,  3.06860000e-06,\n",
       "        6.36400000e-07, -5.09500000e-07,  2.93000000e-08, -4.33000000e-08,\n",
       "       -2.94000000e-08,  1.79000000e-08, -6.80000000e-09,  4.90000000e-09,\n",
       "        6.00000000e-10, -1.00000000e-10,  9.00000000e-10, -4.00000000e-10,\n",
       "        3.00000000e-10, -1.00000000e-10,  0.00000000e+00, -0.00000000e+00,\n",
       "       -0.00000000e+00,  0.00000000e+00, -0.00000000e+00,  0.00000000e+00,\n",
       "       -0.00000000e+00,  0.00000000e+00, -0.00000000e+00,  0.00000000e+00,\n",
       "        0.00000000e+00, -8.24910000e-06, -1.77850000e-06,  6.97220000e-06,\n",
       "        2.12950000e-06, -4.13470000e-06, -1.26900000e-06,  1.60460000e-06,\n",
       "        3.69300000e-07, -3.25800000e-07, -1.04000000e-08, -4.20000000e-09,\n",
       "       -1.66000000e-08,  1.17000000e-08, -1.40000000e-09,  1.40000000e-09,\n",
       "        9.00000000e-10, -5.00000000e-10,  4.00000000e-10, -2.00000000e-10,\n",
       "        0.00000000e+00, -0.00000000e+00, -0.00000000e+00,  0.00000000e+00,\n",
       "       -0.00000000e+00,  0.00000000e+00, -0.00000000e+00,  0.00000000e+00,\n",
       "       -0.00000000e+00,  0.00000000e+00,  0.00000000e+00, -0.00000000e+00,\n",
       "        0.00000000e+00, -3.84770000e-06, -7.86000000e-07,  3.28220000e-06,\n",
       "        9.69400000e-07, -2.00630000e-06, -6.13900000e-07,  8.29700000e-07,\n",
       "        2.04700000e-07, -1.96000000e-07, -1.81000000e-08,  8.30000000e-09,\n",
       "       -7.90000000e-09,  6.30000000e-09,  4.00000000e-10,  1.00000000e-10,\n",
       "        6.00000000e-10, -4.00000000e-10,  1.00000000e-10, -1.00000000e-10,\n",
       "       -0.00000000e+00,  0.00000000e+00, -0.00000000e+00,  0.00000000e+00,\n",
       "       -0.00000000e+00,  0.00000000e+00, -0.00000000e+00,  0.00000000e+00,\n",
       "        0.00000000e+00, -0.00000000e+00,  0.00000000e+00, -0.00000000e+00,\n",
       "       -0.00000000e+00, -1.80310000e-06, -3.50000000e-07,  1.55080000e-06,\n",
       "        4.43100000e-07, -9.73700000e-07, -2.95800000e-07,  4.25400000e-07,\n",
       "        1.10000000e-07, -1.13200000e-07, -1.53000000e-08,  1.00000000e-08,\n",
       "       -3.20000000e-09,  3.00000000e-09,  6.00000000e-10, -3.00000000e-10,\n",
       "        3.00000000e-10, -2.00000000e-10,  0.00000000e+00, -0.00000000e+00,\n",
       "       -0.00000000e+00,  0.00000000e+00, -0.00000000e+00,  0.00000000e+00,\n",
       "       -0.00000000e+00,  0.00000000e+00,  0.00000000e+00, -0.00000000e+00,\n",
       "        0.00000000e+00, -0.00000000e+00,  0.00000000e+00, -0.00000000e+00,\n",
       "       -0.00000000e+00, -8.48400000e-07, -1.56900000e-07,  7.35100000e-07,\n",
       "        2.03300000e-07, -4.72700000e-07, -1.42100000e-07,  2.16600000e-07,\n",
       "        5.79000000e-08, -6.36000000e-08, -1.06000000e-08,  8.10000000e-09,\n",
       "       -1.00000000e-09,  1.20000000e-09,  5.00000000e-10, -3.00000000e-10,\n",
       "        1.00000000e-10, -1.00000000e-10, -0.00000000e+00,  0.00000000e+00,\n",
       "       -0.00000000e+00,  0.00000000e+00, -0.00000000e+00,  0.00000000e+00,\n",
       "        0.00000000e+00, -0.00000000e+00,  0.00000000e+00, -0.00000000e+00,\n",
       "        0.00000000e+00, -0.00000000e+00,  0.00000000e+00, -0.00000000e+00])"
      ]
     },
     "execution_count": 37,
     "metadata": {},
     "output_type": "execute_result"
    }
   ],
   "source": [
    "np.round(params_inf.C_m[0,:],10)"
   ]
  },
  {
   "cell_type": "code",
   "execution_count": 83,
   "metadata": {},
   "outputs": [
    {
     "data": {
      "text/plain": [
       "(512,)"
      ]
     },
     "execution_count": 83,
     "metadata": {},
     "output_type": "execute_result"
    }
   ],
   "source": [
    "params_inf.C_f[0,:].shape"
   ]
  },
  {
   "cell_type": "code",
   "execution_count": 73,
   "metadata": {},
   "outputs": [
    {
     "data": {
      "text/plain": [
       "array([[ 1.16747890e-01+3.24209454e-17j,  9.71445147e-17-1.66491187e-01j],\n",
       "       [-2.17744059e-17-1.66491187e-01j, -1.16747890e-01-1.41379963e-16j]])"
      ]
     },
     "execution_count": 73,
     "metadata": {},
     "output_type": "execute_result"
    }
   ],
   "source": [
    "params.C_f[2:4,:2]"
   ]
  },
  {
   "cell_type": "code",
   "execution_count": 102,
   "metadata": {},
   "outputs": [],
   "source": [
    "zz=params_inf.C_f[0,params_inf.linearize_index([np.arange(params_inf.dxmax),[0]],2)[1::2]]"
   ]
  },
  {
   "cell_type": "code",
   "execution_count": 103,
   "metadata": {},
   "outputs": [
    {
     "data": {
      "text/plain": [
       "array([-5.20434225e-19+1.71758160e-18j,  2.01973446e-17+1.66490915e-01j,\n",
       "        5.55987354e-18+2.29358053e-02j,  1.97159191e-18+6.58889661e-03j,\n",
       "        8.47161101e-19+2.30386878e-03j,  3.04500452e-19+8.84256162e-04j,\n",
       "       -7.46377962e-19+3.58455841e-04j,  1.48020639e-19+1.50631198e-04j,\n",
       "        2.35106837e-19+6.49317689e-05j, -2.63734320e-19+2.85262532e-05j,\n",
       "        4.58745006e-19+1.27178477e-05j,  2.95567587e-19+5.73676539e-06j,\n",
       "        7.77563278e-20+2.61256184e-06j,  4.26179263e-19+1.19925355e-06j,\n",
       "        7.76457392e-19+5.54195478e-07j, -1.34701264e-24+2.57573684e-07j,\n",
       "        5.80686508e-20+1.20306937e-07j,  3.46964613e-19+5.64362655e-08j,\n",
       "       -1.65883914e-19+2.65754464e-08j,  6.57167370e-20+1.25565840e-08j,\n",
       "        5.94789075e-20+5.95079086e-09j, -5.93012402e-19+2.82785664e-09j,\n",
       "       -4.44356535e-19+1.34711922e-09j, -3.12819200e-19+6.43165381e-10j,\n",
       "       -7.72568602e-20+3.07696258e-10j,  5.41529068e-20+1.47479058e-10j,\n",
       "       -1.14138994e-19+7.08079054e-11j,  3.66420427e-19+3.40501201e-11j,\n",
       "        2.03874006e-19+1.63979594e-11j, -1.39678061e-19+7.90768726e-12j,\n",
       "        4.94955044e-19+3.81818268e-12j,  1.23010043e-19+1.84575608e-12j])"
      ]
     },
     "execution_count": 103,
     "metadata": {},
     "output_type": "execute_result"
    }
   ],
   "source": [
    "zz"
   ]
  },
  {
   "cell_type": "code",
   "execution_count": 104,
   "metadata": {},
   "outputs": [
    {
     "data": {
      "text/plain": [
       "[<matplotlib.lines.Line2D at 0x7fec2dca0760>]"
      ]
     },
     "execution_count": 104,
     "metadata": {},
     "output_type": "execute_result"
    },
    {
     "data": {
      "image/png": "[encoded data removed]",
      "text/plain": [
       "<Figure size 489.6x288 with 1 Axes>"
      ]
     },
     "metadata": {
      "needs_background": "light"
     },
     "output_type": "display_data"
    }
   ],
   "source": [
    "plt.plot(np.abs(zz),'.')"
   ]
  },
  {
   "cell_type": "code",
   "execution_count": 141,
   "metadata": {},
   "outputs": [
    {
     "data": {
      "text/plain": [
       "array([[ 0.  , -0.49, -0.33, ..., -0.03, -0.06, -0.18],\n",
       "       [ 0.49,  0.  , -0.23, ..., -0.01,  0.06,  0.06],\n",
       "       [ 0.33,  0.23,  0.  , ..., -0.01,  0.01, -0.03],\n",
       "       ...,\n",
       "       [ 0.03,  0.01,  0.01, ...,  0.  , -0.23,  0.33],\n",
       "       [ 0.06, -0.06, -0.01, ...,  0.23,  0.  , -0.49],\n",
       "       [ 0.18, -0.06,  0.03, ..., -0.33,  0.49,  0.  ]])"
      ]
     },
     "execution_count": 141,
     "metadata": {},
     "output_type": "execute_result"
    }
   ],
   "source": [
    "np.round(np.real(params.C_m),2)"
   ]
  },
  {
   "cell_type": "code",
   "execution_count": 142,
   "metadata": {},
   "outputs": [],
   "source": [
    "Gmat_real=np.loadtxt('Gmat_real.txt')\n",
    "Gmat_imag=np.loadtxt('Gmat_imag.txt')"
   ]
  },
  {
   "cell_type": "code",
   "execution_count": 144,
   "metadata": {},
   "outputs": [
    {
     "data": {
      "text/plain": [
       "4.775174699842074e-15"
      ]
     },
     "execution_count": 144,
     "metadata": {},
     "output_type": "execute_result"
    }
   ],
   "source": [
    "np.abs(Gmat_real+1j*Gmat_imag-params.C_m).max()"
   ]
  },
  {
   "cell_type": "code",
   "execution_count": 53,
   "metadata": {},
   "outputs": [
    {
     "data": {
      "text/plain": [
       "array([[ 0.  , -0.93, -0.16,  0.02],\n",
       "       [ 0.93,  0.  , -0.02,  0.16],\n",
       "       [ 0.16,  0.02,  0.  , -0.93],\n",
       "       [-0.02, -0.16,  0.93,  0.  ]])"
      ]
     },
     "execution_count": 53,
     "metadata": {},
     "output_type": "execute_result"
    }
   ],
   "source": [
    "(np.round(np.real(params.C_m[:4,:4]),2))"
   ]
  },
  {
   "cell_type": "code",
   "execution_count": 42,
   "metadata": {},
   "outputs": [
    {
     "data": {
      "text/plain": [
       "array([[ 1.,  0., -1.,  0.,  0., -1.,  0.,  0.],\n",
       "       [ 0., -1.,  0.,  1.,  1.,  0.,  0.,  0.],\n",
       "       [-1.,  0.,  1.,  0.,  0.,  0.,  0., -1.],\n",
       "       [ 0.,  1.,  0., -1.,  0.,  0.,  1.,  0.],\n",
       "       [ 0.,  1.,  0.,  0.,  1.,  0., -1.,  0.],\n",
       "       [-1.,  0.,  0.,  0.,  0., -1.,  0.,  1.],\n",
       "       [ 0.,  0.,  0.,  1., -1.,  0.,  1.,  0.],\n",
       "       [ 0.,  0., -1.,  0.,  0.,  1.,  0., -1.]])"
      ]
     },
     "execution_count": 42,
     "metadata": {},
     "output_type": "execute_result"
    }
   ],
   "source": [
    "np.real(params.Hamiltonian)"
   ]
  },
  {
   "cell_type": "code",
   "execution_count": 111,
   "metadata": {},
   "outputs": [],
   "source": [
    "params=Params(m=1,Lx=128,Ly=4,bcx=-1,bcy=1)"
   ]
  },
  {
   "cell_type": "code",
   "execution_count": 112,
   "metadata": {},
   "outputs": [],
   "source": [
    "total=params.linearize_index([np.arange(params.Lx),np.arange(params.Ly)],2)\n",
    "subA=params.linearize_index([np.arange(params.Lx//4),np.arange(params.Ly)],2)\n",
    "proj_range=params.linearize_index([np.arange(params.Lx//4)+params.Lx//4,np.arange(params.Ly)],2,proj=True)\n",
    "subB=params.linearize_index([np.arange(params.Lx//4)+params.Lx//2,np.arange(params.Ly)],2)\n"
   ]
  },
  {
   "cell_type": "code",
   "execution_count": 113,
   "metadata": {},
   "outputs": [
    {
     "data": {
      "text/plain": [
       "<matplotlib.collections.PathCollection at 0x7fec2dffc790>"
      ]
     },
     "execution_count": 113,
     "metadata": {},
     "output_type": "execute_result"
    },
    {
     "data": {
      "image/png": "[encoded data removed]",
      "text/plain": [
       "<Figure size 489.6x288 with 1 Axes>"
      ]
     },
     "metadata": {
      "needs_background": "light"
     },
     "output_type": "display_data"
    }
   ],
   "source": [
    "plt.scatter(*params.square_index(total),color='k')\n",
    "plt.scatter(*params.square_index(subA),color='c')\n",
    "plt.scatter(*params.square_index(subB),color='r')\n",
    "plt.scatter(*params.square_index(proj_range),color='b')"
   ]
  },
  {
   "cell_type": "code",
   "execution_count": 151,
   "metadata": {},
   "outputs": [
    {
     "data": {
      "text/plain": [
       "<__main__.Params at 0x7fa47efd9610>"
      ]
     },
     "execution_count": 151,
     "metadata": {},
     "output_type": "execute_result"
    }
   ],
   "source": [
    "params.measure_all_Born(proj_range,linear=True)"
   ]
  },
  {
   "cell_type": "code",
   "execution_count": null,
   "metadata": {},
   "outputs": [],
   "source": [
    "params.i_history"
   ]
  },
  {
   "cell_type": "code",
   "execution_count": 153,
   "metadata": {},
   "outputs": [
    {
     "data": {
      "text/plain": [
       "0.9701903382986599"
      ]
     },
     "execution_count": 153,
     "metadata": {},
     "output_type": "execute_result"
    }
   ],
   "source": [
    "params.log_neg(subA,subB,linear=True)"
   ]
  },
  {
   "cell_type": "code",
   "execution_count": 154,
   "metadata": {},
   "outputs": [
    {
     "data": {
      "text/plain": [
       "array([[ 0.,  1.,  0.,  0.],\n",
       "       [-1.,  0.,  0.,  0.],\n",
       "       [ 0.,  0.,  0., -1.],\n",
       "       [ 0.,  0.,  1.,  0.]])"
      ]
     },
     "execution_count": 154,
     "metadata": {},
     "output_type": "execute_result"
    }
   ],
   "source": [
    "params.C_m_history[-1][proj_range[0]:proj_range[0]+4,proj_range[0]:proj_range[0]+4]"
   ]
  },
  {
   "cell_type": "code",
   "execution_count": null,
   "metadata": {},
   "outputs": [],
   "source": [
    "params.s_history"
   ]
  },
  {
   "cell_type": "code",
   "execution_count": null,
   "metadata": {},
   "outputs": [],
   "source": [
    "params.P_0_list"
   ]
  },
  {
   "cell_type": "markdown",
   "metadata": {},
   "source": [
    "# No measurement-finite"
   ]
  },
  {
   "cell_type": "code",
   "execution_count": 35,
   "metadata": {},
   "outputs": [],
   "source": [
    "m_list=(lambda x:(x-2)**3+2 )(np.linspace(1,3,40))\n",
    "# m_list=(np.linspace(1,3,10))\n",
    "Lx,Ly=128,4\n",
    "LN_no_list=[]\n",
    "MI_no_list=[]\n",
    "for m in m_list:\n",
    "    params=Params(m=m,Lx=Lx,Ly=Ly)\n",
    "    MI_no_list.append(params.mutual_information_m(subA,subB,linear=True))\n",
    "    LN_no_list.append(params.log_neg(subA,subB,linear=True))\n"
   ]
  },
  {
   "cell_type": "code",
   "execution_count": 36,
   "metadata": {},
   "outputs": [
    {
     "data": {
      "image/png": "[encoded data removed]",
      "text/plain": [
       "<Figure size 489.6x288 with 1 Axes>"
      ]
     },
     "metadata": {
      "needs_background": "light"
     },
     "output_type": "display_data"
    }
   ],
   "source": [
    "fig,ax=plt.subplots()\n",
    "ax.plot(m_list,LN_no_list/np.log(2),'.-',label='LN')\n",
    "ax.plot(m_list,MI_no_list/np.log(2),'.-',label='MI')\n",
    "ax.legend()\n",
    "ax.set_xlabel('m')\n",
    "ax.set_ylabel('log(2)')\n",
    "ax.set_title('Finite system, Lx={:d}, Ly={:d}'.format(Lx,Ly))\n",
    "\n",
    "fig.savefig('/mnt/d/kitp/Rp_SPT/9/LN_pSC_no_Lx{:d}_Ly{:d}.pdf'.format(Lx,Ly),bbox_inches='tight')"
   ]
  },
  {
   "cell_type": "markdown",
   "metadata": {},
   "source": [
    "# No measurement-infinite"
   ]
  },
  {
   "cell_type": "code",
   "execution_count": 33,
   "metadata": {},
   "outputs": [],
   "source": [
    "m_list=(lambda x:(x-2)**3+2 )(np.linspace(1,3,40))\n",
    "# m_list=(np.linspace(1,3,10))\n",
    "Lx,Ly=128,4\n",
    "LN_no_inf_list=[]\n",
    "MI_no_inf_list=[]\n",
    "for m in m_list:\n",
    "    params=Params(m=m,dxmax=Lx,dymax=Ly,Lx=np.inf,Ly=np.inf)\n",
    "    MI_no_inf_list.append(params.mutual_information_m(subA,subB,linear=True))\n",
    "    LN_no_inf_list.append(params.log_neg(subA,subB,linear=True))\n"
   ]
  },
  {
   "cell_type": "code",
   "execution_count": 34,
   "metadata": {},
   "outputs": [
    {
     "data": {
      "image/png": "[encoded data removed]",
      "text/plain": [
       "<Figure size 489.6x288 with 1 Axes>"
      ]
     },
     "metadata": {
      "needs_background": "light"
     },
     "output_type": "display_data"
    }
   ],
   "source": [
    "fig,ax=plt.subplots()\n",
    "ax.plot(m_list,LN_no_inf_list/np.log(2),'.-',label='LN')\n",
    "ax.plot(m_list,MI_no_inf_list/np.log(2),'.-',label='MI')\n",
    "ax.legend()\n",
    "ax.set_xlabel('m')\n",
    "ax.set_ylabel('log(2)')\n",
    "ax.set_title('Infinite system, dx={:d}, dy={:d}'.format(Lx,Ly))\n",
    "fig.savefig('/mnt/d/kitp/Rp_SPT/9/LN_pSC_no_inf_Lx{:d}_Ly{:d}.pdf'.format(Lx,Ly),bbox_inches='tight')"
   ]
  },
  {
   "cell_type": "markdown",
   "metadata": {},
   "source": [
    "# Onsite measurement"
   ]
  },
  {
   "cell_type": "code",
   "execution_count": 163,
   "metadata": {},
   "outputs": [
    {
     "data": {
      "text/plain": [
       "(0.693147180559788, 0.3465768140265809)"
      ]
     },
     "execution_count": 163,
     "metadata": {},
     "output_type": "execute_result"
    }
   ],
   "source": [
    "run((1,128,4))"
   ]
  },
  {
   "cell_type": "code",
   "execution_count": 127,
   "metadata": {},
   "outputs": [
    {
     "name": "stdout",
     "output_type": "stream",
     "text": [
      "0:35.1\n",
      "1:33.9\n",
      "2:36.3\n",
      "3:35.0\n",
      "4:32.9\n",
      "5:34.2\n",
      "6:32.9\n",
      "7:34.9\n",
      "8:30.4\n",
      "9:29.7\n",
      "10:29.5\n",
      "11:30.1\n",
      "12:30.1\n",
      "13:29.1\n",
      "14:29.1\n",
      "15:29.0\n",
      "16:29.1\n",
      "17:33.1\n",
      "18:33.3\n",
      "19:32.0\n",
      "20:30.0\n",
      "21:31.5\n",
      "22:33.7\n",
      "23:37.8\n",
      "24:32.4\n"
     ]
    }
   ],
   "source": [
    "m_list=(lambda x:(x-2)**3+2 )(np.linspace(1,3,25))\n",
    "# m_list=(np.linspace(1,3,10))\n",
    "es=20\n",
    "LN_Born_list=np.zeros((len(m_list),es))\n",
    "MI_Born_list=np.zeros((len(m_list),es))\n",
    "Lx,Ly=128,4\n",
    "\n",
    "def run(p):\n",
    "    m,Lx,Ly=p\n",
    "    params=Params(m=m,Lx=Lx,Ly=Ly,bcx=-1,bcy=1)\n",
    "    total=params.linearize_index([np.arange(params.Lx),np.arange(params.Ly)],2)\n",
    "    subA=params.linearize_index([np.arange(params.Lx//4),np.arange(params.Ly)],2)\n",
    "    proj_range=params.linearize_index([np.arange(params.Lx//4)+params.Lx//4,np.arange(params.Ly)],2,proj=True)\n",
    "    subB=params.linearize_index([np.arange(params.Lx//4)+params.Lx//2,np.arange(params.Ly)],2)\n",
    "\n",
    "    params.measure_all_Born(proj_range,linear=True)\n",
    "    LN=params.log_neg(subA,subB,linear=True)\n",
    "    MI=params.mutual_information_m(subA,subB,linear=True)\n",
    "    return MI,LN\n",
    "\n",
    "for m_i,m in enumerate(m_list):\n",
    "    st=time.time()\n",
    "    # # Serial\n",
    "    # params0=Params(m=m,Lx=Lx,Ly=Ly,bcx=-1,bcy=1)\n",
    "    # for es_i in range(es):\n",
    "    #     params=copy(params0)\n",
    "    #     params.measure_all_Born(proj_range,linear=True)\n",
    "    #     MI_Born_list[m_i,es_i]=params.mutual_information_m(subA,subB,linear=True)\n",
    "    #     LN_Born_list[m_i,es_i]=params.log_neg(subA,subB,linear=True)\n",
    "\n",
    "    # Parallel\n",
    "    inputs=[(m,Lx,Ly) for _ in range(es)]\n",
    "    async_result=rc[:].map_sync(run,inputs)\n",
    "    for index,results in enumerate(async_result):\n",
    "        MI_Born_list[m_i,index],LN_Born_list[m_i,index]=results\n",
    "\n",
    "    print('{:d}:{:.1f}'.format(m_i,time.time()-st))\n"
   ]
  },
  {
   "cell_type": "code",
   "execution_count": 129,
   "metadata": {},
   "outputs": [
    {
     "data": {
      "image/png": "[encoded data removed]",
      "text/plain": [
       "<Figure size 489.6x288 with 1 Axes>"
      ]
     },
     "metadata": {
      "needs_background": "light"
     },
     "output_type": "display_data"
    }
   ],
   "source": [
    "fig,ax=plt.subplots()\n",
    "# ax.plot(m_list,LN_no_list,'.-',label='No measurement')\n",
    "\n",
    "ax.errorbar(m_list,LN_Born_list.mean(axis=1)/np.log(2),LN_Born_list.std(axis=1)/np.log(2)/np.sqrt(es-1),capsize=3,fmt='.-',label='Onsite measurement (LN)')\n",
    "ax.errorbar(m_list,MI_Born_list.mean(axis=1)/np.log(2),MI_Born_list.std(axis=1)/np.log(2)/np.sqrt(es-1),capsize=3,fmt='.-',label='Onsite measurement (MI)')\n",
    "\n",
    "ax.legend()\n",
    "ax.grid('on')\n",
    "ax.set_yticks([0,0.5,1])\n",
    "ax.set_xlabel(r'm')\n",
    "ax.set_ylabel(r'log neg [log(2)]')\n",
    "ax.margins(x=0)\n",
    "ax.set_title('Ensemble Size={:d}, Lx={:d}, Ly={:d}'.format(es,Lx,Ly))\n",
    "fig.savefig('/mnt/d/KITP/Rp_SPT/9/LN_pSC_Born_En{:d}_Lx{:d}_Ly{:d}.pdf'.format(es,Lx,Ly),bbox_inches='tight')"
   ]
  },
  {
   "cell_type": "code",
   "execution_count": 39,
   "metadata": {},
   "outputs": [
    {
     "data": {
      "text/plain": [
       "<__main__.Params at 0x7f924c7a6700>"
      ]
     },
     "execution_count": 39,
     "metadata": {},
     "output_type": "execute_result"
    }
   ],
   "source": [
    "Lx,Ly=64,4\n",
    "params=Params(m=1,dxmax=Lx,dymax=Ly,Lx=np.inf,Ly=np.inf,bcx=-1,bcy=1,history=True)\n",
    "total=params.linearize_index([np.arange(params.dxmax),np.arange(params.dymax)],2)\n",
    "subA=params.linearize_index([np.arange(params.dxmax//4),np.arange(params.dymax)],2)\n",
    "proj_range=params.linearize_index([np.arange(params.dxmax//4)+params.dxmax//4,np.arange(params.dymax)],2,proj=True)\n",
    "subB=params.linearize_index([np.arange(params.dxmax//4)+params.dxmax//2,np.arange(params.dymax)],2)\n",
    "params.measure_all_Born(proj_range,linear=True)\n"
   ]
  },
  {
   "cell_type": "code",
   "execution_count": 40,
   "metadata": {},
   "outputs": [
    {
     "data": {
      "text/plain": [
       "0.00031467986715849605"
      ]
     },
     "execution_count": 40,
     "metadata": {},
     "output_type": "execute_result"
    }
   ],
   "source": [
    "params.log_neg(subA,subB,linear=True)"
   ]
  },
  {
   "cell_type": "code",
   "execution_count": 41,
   "metadata": {},
   "outputs": [
    {
     "data": {
      "text/plain": [
       "<matplotlib.collections.PathCollection at 0x7f924c7c8af0>"
      ]
     },
     "execution_count": 41,
     "metadata": {},
     "output_type": "execute_result"
    },
    {
     "data": {
      "image/png": "[encoded data removed]",
      "text/plain": [
       "<Figure size 489.6x288 with 1 Axes>"
      ]
     },
     "metadata": {
      "needs_background": "light"
     },
     "output_type": "display_data"
    }
   ],
   "source": [
    "plt.scatter(*params.square_index(total),color='k')\n",
    "plt.scatter(*params.square_index(subA),color='c')\n",
    "plt.scatter(*params.square_index(subB),color='r')\n",
    "plt.scatter(*params.square_index(proj_range),color='b')"
   ]
  },
  {
   "cell_type": "code",
   "execution_count": 15,
   "metadata": {},
   "outputs": [
    {
     "data": {
      "text/plain": [
       "array([[ 0., -1.,  0.,  0.],\n",
       "       [ 1.,  0.,  0.,  0.],\n",
       "       [ 0.,  0.,  0., -1.],\n",
       "       [ 0.,  0.,  1.,  0.]])"
      ]
     },
     "execution_count": 15,
     "metadata": {},
     "output_type": "execute_result"
    }
   ],
   "source": [
    "params.C_m_history[-1][proj_range[0]:proj_range[0]+4,proj_range[0]:proj_range[0]+4]"
   ]
  },
  {
   "cell_type": "code",
   "execution_count": 49,
   "metadata": {},
   "outputs": [],
   "source": [
    "run((1,128,32))"
   ]
  },
  {
   "cell_type": "code",
   "execution_count": 42,
   "metadata": {},
   "outputs": [
    {
     "name": "stdout",
     "output_type": "stream",
     "text": [
      "0:26.1\n",
      "1:27.6\n",
      "2:26.8\n",
      "3:25.1\n",
      "4:24.6\n",
      "5:26.9\n",
      "6:25.7\n",
      "7:26.0\n",
      "8:26.4\n",
      "9:26.4\n"
     ]
    }
   ],
   "source": [
    "# m_list=(lambda x:(x-2)**3+2 )(np.linspace(1,3,25))\n",
    "m_list=(np.linspace(1,3,10))\n",
    "es=20\n",
    "LN_Born_inf_list=np.zeros((len(m_list),es))\n",
    "MI_Born_inf_list=np.zeros((len(m_list),es))\n",
    "Lx,Ly=64,8\n",
    "\n",
    "def run(p):\n",
    "    m,Lx,Ly=p\n",
    "    params=Params(m=m,dxmax=Lx,dymax=Ly,Lx=np.inf,Ly=np.inf,bcx=-1,bcy=1)\n",
    "    total=params.linearize_index([np.arange(params.dxmax),np.arange(params.dymax)],2)\n",
    "    subA=params.linearize_index([np.arange(params.dxmax//4),np.arange(params.dymax)],2)\n",
    "    proj_range=params.linearize_index([np.arange(params.dxmax//4)+params.dxmax//4,np.arange(params.dymax)],2,proj=True)\n",
    "    subB=params.linearize_index([np.arange(params.dxmax//4)+params.dxmax//2,np.arange(params.dymax)],2)\n",
    "\n",
    "    params.measure_all_Born(proj_range,linear=True)\n",
    "    LN=params.log_neg(subA,subB,linear=True)\n",
    "    MI=params.mutual_information_m(subA,subB,linear=True)\n",
    "    return MI,LN\n",
    "\n",
    "for m_i,m in enumerate(m_list):\n",
    "    st=time.time()\n",
    "    # # Serial\n",
    "    # params0=Params(m=m,Lx=Lx,Ly=Ly,bcx=-1,bcy=1)\n",
    "    # for es_i in range(es):\n",
    "    #     params=copy(params0)\n",
    "    #     params.measure_all_Born(proj_range,linear=True)\n",
    "    #     MI_Born_inf_list[m_i,es_i]=params.mutual_information_m(subA,subB,linear=True)\n",
    "    #     LN_Born_inf_list[m_i,es_i]=params.log_neg(subA,subB,linear=True)\n",
    "\n",
    "    # Parallel\n",
    "    inputs=[(m,Lx,Ly) for _ in range(es)]\n",
    "    async_result=rc[:].map_sync(run,inputs)\n",
    "    for index,results in enumerate(async_result):\n",
    "        MI_Born_inf_list[m_i,index],LN_Born_inf_list[m_i,index]=results\n",
    "\n",
    "    print('{:d}:{:.1f}'.format(m_i,time.time()-st))\n"
   ]
  },
  {
   "cell_type": "code",
   "execution_count": 45,
   "metadata": {},
   "outputs": [
    {
     "data": {
      "text/plain": [
       "Text(0.5, 1.0, 'Ensemble Size=20, dx=64, dy=8')"
      ]
     },
     "execution_count": 45,
     "metadata": {},
     "output_type": "execute_result"
    },
    {
     "data": {
      "image/png": "[encoded data removed]",
      "text/plain": [
       "<Figure size 489.6x288 with 1 Axes>"
      ]
     },
     "metadata": {
      "needs_background": "light"
     },
     "output_type": "display_data"
    }
   ],
   "source": [
    "fig,ax=plt.subplots()\n",
    "# ax.plot(m_list,LN_no_list,'.-',label='No measurement')\n",
    "\n",
    "ax.errorbar(m_list,LN_Born_inf_list.mean(axis=1)/np.log(2),LN_Born_inf_list.std(axis=1)/np.log(2)/np.sqrt(es-1),capsize=3,fmt='.-',label='Onsite measurement (LN)')\n",
    "ax.errorbar(m_list,MI_Born_inf_list.mean(axis=1)/np.log(2),MI_Born_inf_list.std(axis=1)/np.log(2)/np.sqrt(es-1),capsize=3,fmt='.-',label='Onsite measurement (MI)')\n",
    "\n",
    "ax.legend()\n",
    "ax.grid('on')\n",
    "ax.set_yticks([0,0.5,1])\n",
    "ax.set_xlabel(r'm')\n",
    "ax.set_ylabel(r'log neg [log(2)]')\n",
    "ax.margins(x=0)\n",
    "ax.set_title('Ensemble Size={:d}, dx={:d}, dy={:d}'.format(es,Lx,Ly))\n",
    "# fig.savefig('/mnt/d/KITP/Rp_SPT/9/LN_pSC_Born_inf_En{:d}_Lx{:d}_Ly{:d}.pdf'.format(es,Lx,Ly),bbox_inches='tight')"
   ]
  },
  {
   "cell_type": "markdown",
   "metadata": {},
   "source": [
    "# LN scaling behavior"
   ]
  },
  {
   "cell_type": "markdown",
   "metadata": {},
   "source": [
    "## fix dist, |A|_x, increase |A|_y"
   ]
  },
  {
   "cell_type": "code",
   "execution_count": 1,
   "metadata": {},
   "outputs": [],
   "source": [
    "LN_Ay={}"
   ]
  },
  {
   "cell_type": "code",
   "execution_count": 4,
   "metadata": {},
   "outputs": [],
   "source": [
    "Ly_list=np.arange(1,16)\n",
    "Lx=32\n",
    "LN_Ay=[Params(m=1,Lx=Lx,Ly=Ly).log_neg([np.arange(Lx//4),np.arange(Ly)],[np.arange(Lx//4)+Lx//2,np.arange(Ly)]) for Ly in Ly_list]\n"
   ]
  },
  {
   "cell_type": "code",
   "execution_count": 5,
   "metadata": {},
   "outputs": [
    {
     "data": {
      "text/plain": [
       "<matplotlib.legend.Legend at 0x7f79bb5c4e50>"
      ]
     },
     "execution_count": 5,
     "metadata": {},
     "output_type": "execute_result"
    },
    {
     "data": {
      "image/png": "[encoded data removed]",
      "text/plain": [
       "<Figure size 489.6x288 with 1 Axes>"
      ]
     },
     "metadata": {
      "needs_background": "light"
     },
     "output_type": "display_data"
    }
   ],
   "source": [
    "fig,ax=plt.subplots()\n",
    "ax.plot(Ly_list,LN_Ay/np.log(2),'.',label=r'$L_x={:d}$'.format(Lx),color='b')\n",
    "ax.set_xlabel(r'$L_y$')\n",
    "ax.set_ylabel(r'LN [log 2]')\n",
    "lr=scipy.stats.linregress(Ly_list,LN_Ay/np.log(2))\n",
    "xfit=Ly_list[[0,-1]]\n",
    "ax.plot(xfit,lr.slope*xfit+lr.intercept,'c',label=r'LN={:e}~$L_y$+ {:e}'.format(lr.slope,lr.intercept))\n",
    "\n",
    "ax.legend()\n",
    "\n",
    "# fig.savefig('//mnt/d/kitp/Rp_SPT/9/LN_Ay.pdf',bbox_inches='tight')"
   ]
  },
  {
   "cell_type": "code",
   "execution_count": null,
   "metadata": {},
   "outputs": [],
   "source": []
  }
 ],
 "metadata": {
  "interpreter": {
   "hash": "6aee4f39eba147985a2c1cbf1db4ebecc02362fa8877deaa860706b7b1b97f3d"
  },
  "kernelspec": {
   "display_name": "Python 3.8.8 64-bit ('base': conda)",
   "name": "python3"
  },
  "language_info": {
   "codemirror_mode": {
    "name": "ipython",
    "version": 3
   },
   "file_extension": ".py",
   "mimetype": "text/x-python",
   "name": "python",
   "nbconvert_exporter": "python",
   "pygments_lexer": "ipython3",
   "version": "3.8.8"
  },
  "orig_nbformat": 4
 },
 "nbformat": 4,
 "nbformat_minor": 2
}