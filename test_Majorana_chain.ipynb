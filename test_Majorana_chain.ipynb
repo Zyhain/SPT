{
 "cells": [
  {
   "cell_type": "markdown",
   "source": [
    "# API"
   ],
   "metadata": {}
  },
  {
   "cell_type": "code",
   "execution_count": 1,
   "source": [
    "import matplotlib.pyplot as plt\n",
    "import time\n",
    "import pickle\n",
    "import scipy.stats\n",
    "from scipy import interpolate\n",
    "from copy import copy\n",
    "# %load_ext line_profiler"
   ],
   "outputs": [],
   "metadata": {}
  },
  {
   "cell_type": "code",
   "execution_count": 2,
   "source": [
    "plt.rcParams['text.usetex']=True\n",
    "plt.rcParams['font.family']='serif'\n",
    "plt.rcParams['font.size']=9\n",
    "plt.rcParams['axes.titlesize']=plt.rcParams['font.size']\n",
    "plt.rcParams['figure.figsize']=(6.8,4)"
   ],
   "outputs": [],
   "metadata": {}
  },
  {
   "cell_type": "code",
   "execution_count": 26,
   "source": [
    "# ipcluster start --engines=MPI\n",
    "import ipyparallel as ipp\n",
    "rc = ipp.Client()\n",
    "rc[:].execute(\"from Majorana_chain import *\")\n",
    "rc[:].execute(\"import numpy as np\")"
   ],
   "outputs": [
    {
     "output_type": "execute_result",
     "data": {
      "text/plain": [
       "<AsyncResult: execute>"
      ]
     },
     "metadata": {},
     "execution_count": 26
    }
   ],
   "metadata": {}
  },
  {
   "cell_type": "code",
   "execution_count": 101,
   "source": [
    "# %%writefile Majorana_chain.py\n",
    "import numpy as np\n",
    "import scipy.linalg as la\n",
    "import numpy.linalg as nla\n",
    "import numpy.matlib\n",
    "import itertools\n",
    "\n",
    "class Params:\n",
    "    '''\n",
    "    example: params=Params(delta=2)\n",
    "    '''\n",
    "    def __init__(self,\n",
    "    delta=0,    \n",
    "    L=100,\n",
    "    T=0,\n",
    "    bc=-1,    # 0: open boundary condition; +1: PBC; -1: APBC\n",
    "    basis='f',    # 'generate Hamiltonian of fermionic ('f') and Majorana basis ('m') or both ('mf')\n",
    "    dE=None,\n",
    "    E0=None,\n",
    "    kappa=0.5,\n",
    "    history=True\n",
    "    ):\n",
    "        self.delta=delta\n",
    "        self.mu=2*(1-delta)\n",
    "        self.t=-(1+delta)\n",
    "        self.Delta=-(1+delta)\n",
    "        self.L=L\n",
    "        self.tau_z=np.array([[1,0],[0,-1]])\n",
    "        self.tau_y=np.array([[0,-1j],[1j,0]])\n",
    "        self.bc=bc\n",
    "        self.T=T\n",
    "        self.dE=dE\n",
    "        self.E0=E0\n",
    "        self.kappa=kappa\n",
    "        self.history=history\n",
    "        if self.T==np.inf:\n",
    "            self.once=0\n",
    "        if 'f' in basis:\n",
    "            band1sm=np.diag(np.ones(L-1),1)\n",
    "            band1sm[-1,0]=bc\n",
    "            id_mat=np.eye(L)\n",
    "            # Hamiltonian in the ferimion basis\n",
    "            # self.Hamiltonian_f=np.block([[-self.mu*id_mat-self.t*(band1sm+band1sm.T),-self.Delta*(band1sm-band1sm.T)],\n",
    "            # [self.Delta*(band1sm-band1sm.T),self.mu*id_mat+self.t*(band1sm+band1sm.T)]])\n",
    "            # BdG Hamiltonian back to original        \n",
    "            # self.Hamiltonian_f/=2\n",
    "            A=-(1-delta)*id_mat+(1+delta)/2*(band1sm+band1sm.T)\n",
    "            B=-(1+delta)/2*(band1sm.T-band1sm)\n",
    "            self.Hamiltonian_f=np.block([[A,B],[-B,-A]])\n",
    "\n",
    "\n",
    "        if 'm' in basis:    \n",
    "            # Hamiltonian in the Majorana basis\n",
    "            band=np.vstack([np.ones(L)*(1-delta)*1j,np.ones(L)*(1+delta)*1j]).flatten('F')\n",
    "            Ham=np.diag(band[:-1],-1)\n",
    "            Ham[0,-1]=(1+delta)*1j*bc\n",
    "            Ham=Ham+Ham.conj().T\n",
    "            self.Hamiltonian_m=Ham\n",
    "\n",
    "    def bandstructure(self,basis='mf'):\n",
    "        if 'f' in basis:    \n",
    "            val,vec=nla.eigh(self.Hamiltonian_f)\n",
    "            sortindex=np.argsort(val)\n",
    "            self.val_f=val[sortindex]\n",
    "            self.vec_f=vec[:,sortindex]\n",
    "        if 'm' in basis:\n",
    "            val,vec=nla.eigh(self.Hamiltonian_m) \n",
    "            sortindex=np.argsort(val)\n",
    "            self.val_m=val[sortindex]\n",
    "            self.vec_m=vec[:,sortindex]       \n",
    "\n",
    "    def fermi_dist(self,energy,E_F):      \n",
    "        if self.T==0:\n",
    "            return np.heaviside(E_F-energy,0)\n",
    "        elif self.T<np.inf:\n",
    "            return 1/(1+np.exp((energy-E_F)/self.T))\n",
    "        else:\n",
    "            # occ=np.array([1]*64+[0]*64)\n",
    "            # occ[63],occ[64]=occ[64],occ[63]\n",
    "            # return occ\n",
    "\n",
    "            assert self.dE is not None, 'dE is unspecified when T is inf'\n",
    "            k=int(len(energy)*self.kappa)\n",
    "            if self.L%2==0:\n",
    "                index0=np.arange(0,self.L*2,2)\n",
    "            else:\n",
    "                index0=np.arange(1,self.L*2,2)\n",
    "            index=np.random.choice(index0,k//2,replace=False)\n",
    "            index=np.hstack((index,(index+1)%(2*self.L)))\n",
    "            E_mean=np.sum(energy[index])/self.L\n",
    "            while np.abs(E_mean-self.E0)>self.dE:\n",
    "                if self.L%2==0:\n",
    "                    index0=np.arange(0,self.L*2,2)\n",
    "                else:\n",
    "                    index0=np.arange(1,self.L*2,2)\n",
    "                index=np.random.choice(index0,k//2,replace=False)\n",
    "                index=np.hstack((index,(index+1)%(2*self.L)))\n",
    "                E_mean=np.sum(energy[index])/self.L\n",
    "                # print(Esum)\n",
    "            filt=np.zeros(len(energy),dtype=int)\n",
    "            filt[index]=1\n",
    "            self.filt=filt\n",
    "            self.index=index\n",
    "            self.E_mean=E_mean\n",
    "            return filt\n",
    "\n",
    "\n",
    "    def correlation_matrix(self,E_F=0):\n",
    "        '''\n",
    "        ??? may be wrong by a transpose\n",
    "        G_{ij}=[[<f_i f_j^\\dagger>,<f_i f_j>],\n",
    "                [<f_i^\\dagger f_j^\\dagger>,<f_i^\\dagger f_j>]]\n",
    "        '''\n",
    "        if not (hasattr(self,'val_f') and hasattr(self,'vec_f')):\n",
    "            self.bandstructure('f')\n",
    "        occupancy=self.fermi_dist(self.val_f,E_F)\n",
    "        occupancy_mat=np.matlib.repmat(occupancy,self.vec_f.shape[0],1)\n",
    "        # print('Max of imag {:.2f}'.format(np.abs((occupancy_mat*self.vec_f)@self.vec_f.T.conj()).max()))\n",
    "        self.C_f=((occupancy_mat*self.vec_f)@self.vec_f.T.conj())\n",
    "\n",
    "    def covariance_matrix_f(self,E_F=0):\n",
    "        '''\n",
    "        Gamma from fermionic basis\n",
    "        Gamma_ij=i<gamma_i gamma_j>/2\n",
    "        '''\n",
    "        if not (hasattr(self,'C_f')):\n",
    "            self.correlation_matrix(E_F)\n",
    "        # G=self.C_f[self.L:,self.L:]\n",
    "        # F=self.C_f[self.L:,:self.L]\n",
    "        G=self.C_f[:self.L,:self.L]\n",
    "        F=self.C_f[:self.L,self.L:]\n",
    "\n",
    "        self.G=G\n",
    "        self.F=F\n",
    "        A11=1j*(F.T.conj()+F+G-G.T)\n",
    "        A22=-1j*(F.T.conj()+F-G+G.T)\n",
    "        A21=-(np.eye(F.shape[0])+F.T.conj()-F-G-G.T)\n",
    "        A12=-A21.T\n",
    "        A=np.zeros((2*self.L,2*self.L),dtype=complex)\n",
    "        even=np.arange(2*self.L)[::2]\n",
    "        odd=np.arange(2*self.L)[1::2]\n",
    "        A[np.ix_(even,even)]=A11\n",
    "        A[np.ix_(even,odd)]=A12\n",
    "        A[np.ix_(odd,even)]=A21\n",
    "        A[np.ix_(odd,odd)]=A22\n",
    "        assert np.abs(np.imag(A)).max()<1e-10, \"Covariance matrix not real\"\n",
    "        self.C_m=A\n",
    "        self.C_m=np.real(A-A.T.conj())/2   \n",
    "        self.C_m_history=[self.C_m]    \n",
    "\n",
    "    def covariance_matrix_m(self,E_F=0):\n",
    "        '''\n",
    "        Gamma from Majorana basis\n",
    "        '''\n",
    "        if not (hasattr(self,'val_m') and hasattr(self,'vec_m')):\n",
    "            self.bandstructure('m')\n",
    "        occupancy=self.fermi_dist(self.val_m,E_F)\n",
    "        occupancy_mat=np.matlib.repmat(occupancy,self.vec_m.shape[0],1)\n",
    "        self.C_m=(1j*2*(occupancy_mat*self.vec_m)@self.vec_m.T.conj())-1j*np.eye(self.L*2)\n",
    "        assert np.abs(np.imag(self.C_m)).max()<1e-10, \"Covariance matrix not real\"        \n",
    "        self.C_m=np.real(self.C_m-self.C_m.T.conj())/2\n",
    "        self.C_m_history=[self.C_m]\n",
    "    \n",
    "    def projection(self,s):\n",
    "        '''\n",
    "        occupancy number: s= 0,1 \n",
    "        (-1)^0 even parity, (-1)^1 odd parity\n",
    "\n",
    "        '''\n",
    "        assert (s==0 or s==1),\"s={} is either 0 or 1\".format(s)\n",
    "        blkmat=np.array([[0,-(-1)**s,0,0],\n",
    "                        [(-1)**s,0,0,0],\n",
    "                        [0,0,0,(-1)**s],\n",
    "                        [0,0,-(-1)**s,0]])\n",
    "        return blkmat\n",
    "\n",
    "\n",
    "    def measure(self,s,ix):\n",
    "        if not hasattr(self,'C_m'):\n",
    "            self.covariance_matrix_f()\n",
    "        if not hasattr(self,'s_history'):\n",
    "            self.s_history=[]\n",
    "        if not hasattr(self,'i_history'):\n",
    "            self.i_history=[]\n",
    "                \n",
    "        m=self.C_m_history[-1].copy()\n",
    "\n",
    "        for i_ind,i in enumerate(ix):\n",
    "            m[[i,-(len(ix)-i_ind)]]=m[[-(len(ix)-i_ind),i]]\n",
    "            m[:,[i,-(len(ix)-i_ind)]]=m[:,[-(len(ix)-i_ind),i]]\n",
    "\n",
    "        self.m=m\n",
    "\n",
    "        Gamma_LL=m[:-len(ix),:-len(ix)]\n",
    "        Gamma_LR=m[:-len(ix),-len(ix):]\n",
    "        Gamma_RR=m[-len(ix):,-len(ix):]       \n",
    "\n",
    "        proj=self.projection(s)\n",
    "        Upsilon_LL=proj[:-len(ix),:-len(ix)]\n",
    "        Upsilon_RR=proj[-len(ix):,-len(ix):]\n",
    "        Upsilon_RL=proj[-len(ix):,:-len(ix)]\n",
    "        zero=np.zeros((m.shape[0]-len(ix),len(ix)))\n",
    "        zero0=np.zeros((len(ix),len(ix)))\n",
    "        mat1=np.block([[Gamma_LL,zero],[zero.T,Upsilon_RR]])\n",
    "        mat2=np.block([[Gamma_LR,zero],[zero0,Upsilon_RL]])\n",
    "        mat3=np.block([[Gamma_RR,np.eye(len(ix))],[-np.eye(len(ix)),Upsilon_LL]])\n",
    "        self.mat2=mat2\n",
    "        if np.count_nonzero(mat2):\n",
    "            Psi=mat1+mat2@(la.solve(mat3,mat2.T))\n",
    "            # Psi=mat1+mat2@(la.lstsq(mat3,mat2.T)[0])\n",
    "            assert np.abs(np.trace(Psi))<1e-5, \"Not trace zero {:e}\".format(np.trace(Psi))\n",
    "        else:\n",
    "            Psi=mat1\n",
    "        \n",
    "        for i_ind,i in enumerate(ix):\n",
    "            Psi[[i,-(len(ix)-i_ind)]]=Psi[[-(len(ix)-i_ind),i]]\n",
    "            Psi[:,[i,-(len(ix)-i_ind)]]=Psi[:,[-(len(ix)-i_ind),i]]\n",
    "        \n",
    "        Psi=(Psi-Psi.T)/2   # Anti-symmetrize\n",
    "        if self.history:\n",
    "            self.C_m_history.append(Psi)\n",
    "            self.s_history.append(s)\n",
    "            self.i_history.append(i)\n",
    "        else:\n",
    "            self.C_m_history=[Psi]\n",
    "            self.s_history=[s]\n",
    "            self.i_history=[i]\n",
    "\n",
    "    def c_subregion_f(self,subregion):\n",
    "        if not hasattr(self,'C'):\n",
    "            self.correlation_matrix()\n",
    "        try:\n",
    "            subregion=np.array(subregion)\n",
    "        except:\n",
    "            raise ValueError(\"The subregion is ill-defined\"+subregion)\n",
    "        subregion_ph=np.concatenate([subregion,subregion+self.L])\n",
    "        return self.C_f[np.ix_(subregion_ph,subregion_ph)]\n",
    "\n",
    "    def von_Neumann_entropy_f(self,subregion):\n",
    "        c_A=self.c_subregion_f(subregion)\n",
    "        val=nla.eigvalsh(c_A)\n",
    "        self.val_sh=val\n",
    "        val=np.sort(val)[:subregion.shape[0]]\n",
    "        return np.real(-np.sum(val*np.log(val+1e-18j))-np.sum((1-val)*np.log(1-val+1e-18j)))\n",
    "\n",
    "    def linearize_index(self,subregion,n,k=2,proj=False):\n",
    "        try:\n",
    "            subregion=np.array(subregion)\n",
    "        except:\n",
    "            raise ValueError(\"The subregion is ill-defined\"+subregion)\n",
    "        if proj:\n",
    "            return sorted(np.concatenate([n*subregion+i for i in range(0,n,k)]))\n",
    "        else:\n",
    "            return sorted(np.concatenate([n*subregion+i for i in range(n)]))\n",
    "\n",
    "    def c_subregion_m(self,subregion,Gamma=None):\n",
    "        if not hasattr(self,'C_m'):\n",
    "            self.covariance_matrix_f()\n",
    "        if Gamma is None:\n",
    "            Gamma=self.C_m_history[-1]\n",
    "        subregion=self.linearize_index(subregion,2)\n",
    "        return Gamma[np.ix_(subregion,subregion)]\n",
    "        \n",
    "    def von_Neumann_entropy_m(self,subregion):\n",
    "        c_A=self.c_subregion_m(subregion)\n",
    "        val=nla.eigvalsh(1j*c_A)\n",
    "        self.val_sh=val\n",
    "        val=np.sort(val)\n",
    "        val=(1-val)/2+1e-18j   #\\lambda=(1-\\xi)/2\n",
    "        \n",
    "        return np.real(-np.sum(val*np.log(val))-np.sum((1-val)*np.log(1-val)))/2\n",
    "\n",
    "    def mutual_information_f(self,subregion_A,subregion_B):\n",
    "        s_A=self.von_Neumann_entropy_f(subregion_A)\n",
    "        s_B=self.von_Neumann_entropy_f(subregion_B)\n",
    "        assert np.intersect1d(subregion_A,subregion_B).size==0 , \"Subregion A and B overlap\"\n",
    "        subregion_AB=np.concatenate([subregion_A,subregion_B])\n",
    "        s_AB=self.von_Neumann_entropy_f(subregion_AB)\n",
    "        return s_A+s_B-s_AB\n",
    "\n",
    "    def mutual_information_m(self,subregion_A,subregion_B):\n",
    "        assert np.intersect1d(subregion_A,subregion_B).size==0 , \"Subregion A and B overlap\"\n",
    "        s_A=self.von_Neumann_entropy_m(subregion_A)\n",
    "        s_B=self.von_Neumann_entropy_m(subregion_B)\n",
    "        subregion_AB=np.concatenate([subregion_A,subregion_B])\n",
    "        s_AB=self.von_Neumann_entropy_m(subregion_AB)\n",
    "        return s_A+s_B-s_AB\n",
    "\n",
    "    def measure_batch(self,batchsize,proj_range):\n",
    "        for _ in range(batchsize):\n",
    "            i=np.random.randint(*proj_range)\n",
    "            s=np.random.randint(0,2)\n",
    "            self.measure(s,[i,i+1])\n",
    "        return self\n",
    "\n",
    "    def measure_all(self,s_prob,proj_range=None):\n",
    "        '''\n",
    "        The probability of s=0 (unoccupied)\n",
    "        '''\n",
    "        if proj_range is None:\n",
    "            proj_range=np.arange(self.L//4,self.L//2)\n",
    "        proj_range=self.linearize_index(proj_range,2,proj=True,k=2)\n",
    "        for i in proj_range:\n",
    "            if s_prob==0:\n",
    "                s=1\n",
    "            elif s_prob==1:\n",
    "                s=0\n",
    "            else:           \n",
    "                s=s_prob<np.random.rand()\n",
    "            self.measure(s,[i,i+1])\n",
    "        return self\n",
    "    \n",
    "    # def generate_position_list(self,proj_range,s_prob):\n",
    "    #     '''\n",
    "    #     proj_range: the list of first index of the specific projection operator \n",
    "    #     return: a iterator for s=0\n",
    "    #     Generate position list, then feed into measure_list()\n",
    "    #     '''        \n",
    "    #     r=int(len(proj_range)*(s_prob))\n",
    "    #     index_all=range(len(proj_range))\n",
    "    #     index_s_0=itertools.combinations(index_all,r)\n",
    "    #     s_list_list=[]\n",
    "    #     for s_0 in index_s_0:\n",
    "    #         s_list=np.ones(len(proj_range),dtype=int)\n",
    "    #         s_list[list(s_0)]=0\n",
    "    #         s_list_list.append(s_list)\n",
    "    #     return s_list_list\n",
    "        \n",
    "\n",
    "    # def measure_list(self,proj_range,s_list):\n",
    "    #     '''\n",
    "    #     proj_range: the list of first index of the specific projection operator\n",
    "    #     s_list: 0: emtpy; 1: filled; other: no measurement\n",
    "    #     '''\n",
    "    #     assert len(proj_range) == len(s_list), 'Length of proj_range ({}) is not equal to the length of s_list ({})'.format(len(proj_range),len(s_list))\n",
    "    #     for position,s in zip(proj_range,s_list):\n",
    "    #         if s == 0 or s ==1:\n",
    "    #             self.measure(s,[position,position+1])\n",
    "    #     return self\n",
    "\n",
    "    def measure_all_Born(self,proj_range=None,order=None):\n",
    "        # proj_range should be in the format of fermionic sites\n",
    "        if proj_range is None:\n",
    "            proj_range=np.arange(self.L//4,self.L//2)\n",
    "        if order=='e2':\n",
    "            proj_range=np.concatenate((proj_range[::2],proj_range[1::2]))\n",
    "        if order=='e3':\n",
    "            proj_range=np.concatenate((proj_range[::3],proj_range[1::3],proj_range[2::3]))\n",
    "        if order=='e4':\n",
    "            proj_range=np.concatenate((proj_range[::4],proj_range[1::4],proj_range[2::4]+proj_range[3::4]))\n",
    "        proj_range=self.linearize_index(proj_range,2,proj=True,k=2)\n",
    "        self.P_0_list=[]\n",
    "        if not hasattr(self, 'C_m'):\n",
    "            self.covariance_matrix_f()\n",
    "        for i in proj_range:\n",
    "            P_0=(self.C_m_history[-1][i,i+1]+1)/2\n",
    "            self.P_0_list.append(P_0)\n",
    "            if np.random.rand() < P_0:                \n",
    "                self.measure(0,[i,i+1])\n",
    "            else:\n",
    "                self.measure(1,[i,i+1])\n",
    "        return self\n",
    "\n",
    "    # def measure_all_random(self,batchsize,proj_range):\n",
    "    #     choice=np.random.choice(range(*proj_range),batchsize,replace=False)\n",
    "    #     for i in choice:\n",
    "    #         s=np.random.randint(0,2)\n",
    "    #         self.measure(s,[i,i+1])  \n",
    "    #     return self\n",
    "\n",
    "\n",
    "    # def measure_all_random_even(self,batchsize,proj_range):\n",
    "    #     '''\n",
    "    #     proj_range: (start,end) tuple\n",
    "    #     '''       \n",
    "    #     proj_range_even=[i//2 for i in proj_range]\n",
    "    #     choice=np.random.choice(range(*proj_range_even),batchsize,replace=False)\n",
    "    #     for i in choice:\n",
    "    #         s=np.random.randint(0,2)\n",
    "    #         self.measure(s,[2*i,2*i+1])  \n",
    "    #     return self\n",
    "\n",
    "    def log_neg(self,subregionA,subregionB,Gamma=None):\n",
    "        subregionA=self.linearize_index(subregionA,2)\n",
    "        subregionB=self.linearize_index(subregionB,2)\n",
    "        assert np.intersect1d(subregionA,subregionB).size==0 , \"Subregion A and B overlap\"\n",
    "        if not hasattr(self,'C_m'):\n",
    "            self.covariance_matrix_f()\n",
    "        \n",
    "        if Gamma is None:\n",
    "            Gamma=self.C_m_history[-1]\n",
    "        subregionA=np.array(subregionA)\n",
    "        subregionB=np.array(subregionB)\n",
    "        Gm_p= np.block([\n",
    "            [-Gamma[np.ix_(subregionA,subregionA)],1j*Gamma[np.ix_(subregionA,subregionB)]],\n",
    "            [1j*Gamma[np.ix_(subregionB,subregionA)],Gamma[np.ix_(subregionB,subregionB)]]\n",
    "        ])\n",
    "        Gm_n= np.block([\n",
    "            [-Gamma[np.ix_(subregionA,subregionA)],-1j*Gamma[np.ix_(subregionA,subregionB)]],\n",
    "            [-1j*Gamma[np.ix_(subregionB,subregionA)],Gamma[np.ix_(subregionB,subregionB)]]\n",
    "        ])\n",
    "        idm=np.eye(Gm_p.shape[0])\n",
    "        # Gm_x=idm-(idm+1j*Gm_p)@nla.inv(idm-Gm_n@Gm_p)@(idm+1j*Gm_n)\n",
    "        Gm_x=idm-(idm+1j*Gm_p)@(la.solve((idm-Gm_n@Gm_p),(idm+1j*Gm_n)))\n",
    "        Gm_x=(Gm_x+Gm_x.T.conj())/2\n",
    "        xi=nla.eigvalsh(Gm_x)\n",
    "        subregionAB=np.concatenate([subregionA,subregionB])\n",
    "        eA=np.sum(np.log(((1+xi+0j)/2)**0.5+((1-xi+0j)/2)**0.5))/2\n",
    "        chi=nla.eigvalsh(1j*Gamma[np.ix_(subregionAB,subregionAB)])\n",
    "        sA=np.sum(np.log(((1+chi)/2)**2+((1-chi)/2)**2))/4\n",
    "        return np.real(eA+sA)\n",
    "\n",
    "     \n",
    "    \n",
    "def cross_ratio(x,L):\n",
    "        xx=lambda i,j: (np.sin(np.pi/(L)*np.abs(x[i]-x[j])))\n",
    "        eta=(xx(0,1)*xx(2,3))/(xx(0,2)*xx(1,3))\n",
    "        return eta"
   ],
   "outputs": [
    {
     "output_type": "stream",
     "name": "stdout",
     "text": [
      "Overwriting Majorana_chain.py\n"
     ]
    }
   ],
   "metadata": {}
  },
  {
   "cell_type": "markdown",
   "source": [
    "## Obsolete functions\n"
   ],
   "metadata": {}
  },
  {
   "cell_type": "code",
   "execution_count": null,
   "source": [
    "\n",
    "# def __init_obs__(self,\n",
    "    # delta=0,    \n",
    "    # L=100,\n",
    "    # T=0,\n",
    "    # bc=1    # 0: open boundary condition; >0: PBC; <0: APBC\n",
    "    # ):\n",
    "    #     self.delta=delta\n",
    "    #     self.mu=2*(1-delta)\n",
    "    #     self.t=-(1+delta)\n",
    "    #     self.Delta=-(1+delta)\n",
    "    #     self.L=L\n",
    "    #     self.tau_z=sp.dia_matrix(np.diag([1,-1]))\n",
    "    #     self.tau_y=sp.dia_matrix(np.array([[0,-1j],[1j,0]]))\n",
    "    #     self.bc=bc\n",
    "    #     self.T=T\n",
    "    #     self.band1sm=sp.diags([1],[1],(L,L)).tocsr()\n",
    "    #     self.bandm1sm=sp.diags([1],[-1],(L,L)).tocsr()\n",
    "    #     self.band1sm[-1,0]=1*(2*np.heaviside(bc,1/2)-1)\n",
    "    #     self.bandm1sm[0,-1]=1*(2*np.heaviside(bc,1/2)-1)\n",
    "    #     # Hamiltonian in the ferimion basis\n",
    "    #     self.Hamiltonian_f=-self.mu*sp.kron(self.tau_z,sp.identity(self.L))-sp.kron(self.t*self.tau_z+1j*self.Delta*self.tau_y,self.band1sm)-sp.kron(self.t*self.tau_z-1j*self.Delta*self.tau_y,self.bandm1sm)\n",
    "    #     # BdG Hamiltonian back to original\n",
    "        \n",
    "    #     self.Hamiltonian_f/=2\n",
    "    #     # Hamiltonian in the Majorana basis\n",
    "    #     band=np.vstack([np.ones(L)*(1-delta)*1j,np.ones(L)*(1+delta)*1j]).flatten('F')\n",
    "    #     Ham=sp.diags(np.array([band[:-1],band[:-1].conj()]),np.array([-1,1]),shape=(2*L,2*L)).tocsr()\n",
    "    #     Ham[0,-1]=(1+delta)*1j*bc\n",
    "    #     Ham[-1,0]=-(1+delta)*1j*bc\n",
    "    #     self.Hamiltonian_m=Ham\n",
    "\n",
    "    # def bandstructure_obs(self,H_type='f'):    \n",
    "    #     if H_type=='f':    \n",
    "    #         val,vec=la.eigh(self.Hamiltonian_f)\n",
    "    #         sortindex=np.argsort(val)\n",
    "    #         self.val_f=val[sortindex]\n",
    "    #         self.vec_f=vec[:,sortindex]\n",
    "    #     elif H_type=='m':\n",
    "    #         val,vec=la.eigh(self.Hamiltonian_m) \n",
    "    #         sortindex=np.argsort(val)\n",
    "    #         self.val_m=val[sortindex]\n",
    "    #         self.vec_m=vec[:,sortindex]\n",
    "    #     else:\n",
    "    #         raise ValueError('type of Hamiltonian ({}) not found'.format(H_type))\n",
    "\n",
    "    # def projection_obs(self,s):\n",
    "    #     '''\n",
    "    #     s= 0,1 occupancy number\n",
    "    #     '''\n",
    "    #     assert (s==0 or s==1),\"s={} is either 0 or 1\".format(s)\n",
    "    #     blkmat=(np.array([[0,-(-1)**s],[(-1)**s,0]]))\n",
    "    #     return sp.bmat([[blkmat,None],[None,blkmat.T]]).toarray()\n",
    "    # Slower than measure() 8.3x times \n",
    "    # def measure_obs(self,s,i,j):\n",
    "    #     permutation_mat=sp.diags([1],[0],(self.L*2,self.L*2)).tocsr()\n",
    "    #     # i <-> -2\n",
    "    #     permutation_mat[i,i]=0\n",
    "    #     permutation_mat[-2,-2]=0\n",
    "    #     permutation_mat[i,-2]=1\n",
    "    #     permutation_mat[-2,i]=1\n",
    "    #     # j <-> -1\n",
    "    #     permutation_mat[j,j]=0\n",
    "    #     permutation_mat[-1,-1]=0\n",
    "    #     permutation_mat[j,-1]=1\n",
    "    #     permutation_mat[-1,j]=1\n",
    "    #     if not hasattr(self,'C_m'):\n",
    "    #         self.covariance_matrix_m()\n",
    "\n",
    "    #     # m=np.arange(64).reshape((8,8))\n",
    "    #     # C_m_perm=permutation_mat.T@m@permutation_mat.T\n",
    "\n",
    "    #     C_m_perm=permutation_mat.T@self.C_m_history[-1]@permutation_mat.T\n",
    "\n",
    "    #     self.m=C_m_perm\n",
    "    #     Gamma_LL=C_m_perm[:-2,:-2]\n",
    "    #     Gamma_LR=C_m_perm[:-2,-2:]\n",
    "    #     Gamma_RR=C_m_perm[-2:,-2:]\n",
    "\n",
    "    #     proj=self.projection(s)\n",
    "    #     Upsilon_LL=proj[:-2,:-2]\n",
    "    #     Upsilon_LR=proj[:-2,-2:]\n",
    "    #     Upsilon_RR=proj[-2:,-2:]\n",
    "    #     Upsilon_RL=proj[-2:,:-2]\n",
    "    #     zero=np.zeros((self.L*2-2,2))\n",
    "    #     zero0=np.zeros((2,2))\n",
    "    #     mat1=np.block([[Gamma_LL,zero],[zero.T,Upsilon_RR]])\n",
    "    #     mat2=np.block([[Gamma_LR,zero],[zero0,Upsilon_RL]])\n",
    "    #     mat3=np.block([[Gamma_RR,np.eye(2)],[-np.eye(2),Upsilon_LL]])\n",
    "    #     self.mat2=mat2\n",
    "    #     if np.count_nonzero(mat2):\n",
    "    #         Psi=mat1+mat2@(la.solve(mat3,mat2.T))\n",
    "    #     else:\n",
    "    #         Psi=mat1\n",
    "    #     Psi=permutation_mat.T@Psi@permutation_mat\n",
    "        \n",
    "        \n",
    "    #     self.C_m_history.append(Psi)\n",
    "\n",
    "    # Slower than measure() 1.7x times \n",
    "    # def measure_roll(self,s,i,j):\n",
    "    #     if not hasattr(self,'C_m'):\n",
    "    #         self.covariance_matrix_m()\n",
    "        \n",
    "    #     # m=np.arange(64).reshape((8,8))\n",
    "        \n",
    "    #     m=self.C_m_history[-1].copy()\n",
    "    #     m[i:,:]=np.roll(m[i:,:],-1,0)\n",
    "    #     m[:,i:]=np.roll(m[:,i:],-1,1)\n",
    "\n",
    "    #     if j>i:\n",
    "    #         j-=1    #the position of j is rotated by 1 ahead\n",
    "    #     m[j:,:]=np.roll(m[j:,:],-1,0)\n",
    "    #     m[:,j:]=np.roll(m[:,j:],-1,1)\n",
    "    #     self.m=m\n",
    "\n",
    "    #     Gamma_LL=m[:-2,:-2]\n",
    "    #     Gamma_LR=m[:-2,-2:]\n",
    "    #     Gamma_RR=m[-2:,-2:]       \n",
    "\n",
    "    #     proj=self.projection(s)\n",
    "    #     Upsilon_LL=proj[:-2,:-2]\n",
    "    #     Upsilon_LR=proj[:-2,-2:]\n",
    "    #     Upsilon_RR=proj[-2:,-2:]\n",
    "    #     Upsilon_RL=proj[-2:,:-2]\n",
    "    #     zero=np.zeros((self.L*2-2,2))\n",
    "    #     zero0=np.zeros((2,2))\n",
    "    #     mat1=np.block([[Gamma_LL,zero],[zero.T,Upsilon_RR]])\n",
    "    #     mat2=np.block([[Gamma_LR,zero],[zero0,Upsilon_RL]])\n",
    "    #     mat3=np.block([[Gamma_RR,np.eye(2)],[-np.eye(2),Upsilon_LL]])\n",
    "    #     self.mat2=mat2\n",
    "    #     if np.count_nonzero(mat2):\n",
    "    #         Psi=mat1+mat2@(la.solve(mat3,mat2.T))\n",
    "    #     else:\n",
    "    #         Psi=mat1\n",
    "        \n",
    "    #     Psi[j:,:]=np.roll(Psi[j:,:],1,0)\n",
    "    #     Psi[:,j:]=np.roll(Psi[:,j:],1,1)\n",
    "\n",
    "    #     Psi[i:,:]=np.roll(Psi[i:,:],1,0)\n",
    "    #     Psi[:,i:]=np.roll(Psi[:,i:],1,1)\n",
    "    #     # Psi=permutation_mat.T@Psi@permutation_mat        \n",
    "        \n",
    "    #     self.C_m_history.append(Psi) \n",
    "\n",
    "# def c_subregion_f_obs(self,subregion):\n",
    "    #     if not hasattr(self,'C'):\n",
    "    #         self.covariance_matrix_f()\n",
    "    #     try:\n",
    "    #         subregion=np.array(subregion)\n",
    "    #     except:\n",
    "    #         raise ValueError(\"The subregion is ill-defined\"+subregion)\n",
    "    #     XX,YY=np.meshgrid(np.arange(2*self.L),np.arange(2*self.L))\n",
    "    #     mask_hh=np.isin(XX,subregion)*np.isin(YY,subregion)\n",
    "    #     mask_hp=np.isin(XX,subregion)*np.isin(YY,subregion+self.L)\n",
    "    #     mask_ph=np.isin(XX,subregion+self.L)*np.isin(YY,subregion)\n",
    "    #     mask_pp=np.isin(XX,subregion+self.L)*np.isin(YY,subregion+self.L)\n",
    "    #     mask=mask_hh+mask_hp+mask_ph+mask_pp\n",
    "    #     return self.C_f[mask].reshape((2*subregion.shape[0],2*subregion.shape[0]))\n",
    "\n",
    "# def c_subregion_m_obs(self,subregion,Gamma=None):\n",
    "#     if not hasattr(self,'C_m'):\n",
    "#         self.covariance_matrix_m()\n",
    "\n",
    "#     if Gamma is None:\n",
    "#         Gamma=self.C_m_history[-1]\n",
    "#     try:\n",
    "#         subregion=np.array(subregion)\n",
    "#     except:\n",
    "#         raise ValueError(\"The subregion is ill-defined\"+subregion)\n",
    "#     XX,YY=np.meshgrid(np.arange(2*self.L),np.arange(2*self.L))\n",
    "#     mask=np.isin(XX,subregion)*np.isin(YY,subregion)  \n",
    "#     return Gamma[mask].reshape((subregion.shape[0],subregion.shape[0]))\n",
    "\n",
    "# def measure_all_position(self,s_prob):\n",
    "    #     '''\n",
    "    #     The random position, the prob of s=0 (unoccupied)\n",
    "    #     '''\n",
    "    #     proj_range=np.arange(int(self.L/2),self.L,2)\n",
    "    #     if random:\n",
    "    #         s_choice=np.random.choice(range(len(proj_range)),int(s_prob*len(proj_range)),replace=False)\n",
    "    #         s_list=np.ones(len(proj_range),dtype=int)\n",
    "    #         s_list[s_choice]=0\n",
    "    #         for i,s in zip(proj_range,s_list):            \n",
    "    #             self.measure(s,i,i+1)  \n",
    "\n",
    "# def log_neg_obs(self,La,Gamma=None):\n",
    "#     '''\n",
    "#     La: number of Majorana site in A, the corresponding Majorana site in B is 2*L-La\n",
    "#     '''\n",
    "    \n",
    "#     if not hasattr(self,'C_m'):\n",
    "#         self.covariance_matrix_m()\n",
    "#     if La is None:\n",
    "#         La=self.L\n",
    "#     if Gamma is None:\n",
    "#         Gamma=self.C_m_history[-1]\n",
    "\n",
    "#     Gm_1= np.block([\n",
    "#         [-Gamma[:La,:La], -1j*Gamma[:La,La:]],\n",
    "#         [-1j*Gamma[La:,:La], Gamma[La:,La:]]\n",
    "#     ])\n",
    "\n",
    "#     Gm_2= np.block([\n",
    "#     [-Gamma[:La,:La], 1j*Gamma[:La,La:]],\n",
    "#     [1j*Gamma[La:,:La], Gamma[La:,La:]]\n",
    "#     ])\n",
    "\n",
    "#     Gx=np.eye(2*self.L)-np.dot(np.eye(2*self.L)+1j*Gm_2,np.dot(np.linalg.inv(np.eye(2*self.L)-np.dot(Gm_1,Gm_2)),np.eye(2*self.L)+1j*Gm_1))\n",
    "#     Gx=(Gx+Gx.conj().T)/2\n",
    "#     nu=np.linalg.eigvalsh(Gx)\n",
    "#     eA=np.sum(np.log(((1+nu+1j*0)/2)**0.5+((1-nu+1j*0)/2)**0.5))/2\n",
    "#     chi =np.linalg.eigvalsh(1j*Gamma)\n",
    "#     sA=np.sum(np.log(((1+chi)/2)**2+((1-chi)/2)**2))/4\n",
    "#     return np.real(eA+sA)\n",
    "\n",
    "\n",
    "    # def measure(self,s,i,j):\n",
    "    #     if not hasattr(self,'C_m'):\n",
    "    #         self.covariance_matrix_m()\n",
    "    #     if not hasattr(self,'s_history'):\n",
    "    #         self.s_history=[]\n",
    "    #     if not hasattr(self,'i_history'):\n",
    "    #         self.i_history=[]\n",
    "                \n",
    "    #     m=self.C_m_history[-1].copy()\n",
    "    #     # i<-> -2\n",
    "    #     m[[i,-2]]=m[[-2,i]]\n",
    "    #     m[:,[i,-2]]=m[:,[-2,i]]\n",
    "    #     # j<->-1\n",
    "    #     m[[j,-1]]=m[[-1,j]]\n",
    "    #     m[:,[j,-1]]=m[:,[-1,j]]\n",
    "\n",
    "    #     self.m=m\n",
    "\n",
    "    #     Gamma_LL=m[:-2,:-2]\n",
    "    #     Gamma_LR=m[:-2,-2:]\n",
    "    #     Gamma_RR=m[-2:,-2:]       \n",
    "\n",
    "    #     proj=self.projection(s)\n",
    "    #     Upsilon_LL=proj[:-2,:-2]\n",
    "    #     # Upsilon_LR=proj[:-2,-2:]\n",
    "    #     Upsilon_RR=proj[-2:,-2:]\n",
    "    #     Upsilon_RL=proj[-2:,:-2]\n",
    "    #     zero=np.zeros((self.L*2-2,2))\n",
    "    #     zero0=np.zeros((2,2))\n",
    "    #     mat1=np.block([[Gamma_LL,zero],[zero.T,Upsilon_RR]])\n",
    "    #     mat2=np.block([[Gamma_LR,zero],[zero0,Upsilon_RL]])\n",
    "    #     mat3=np.block([[Gamma_RR,np.eye(2)],[-np.eye(2),Upsilon_LL]])\n",
    "    #     self.mat2=mat2\n",
    "    #     if np.count_nonzero(mat2):\n",
    "    #         Psi=mat1+mat2@(la.solve(mat3,mat2.T))\n",
    "    #         # Psi=mat1+mat2@(la.lstsq(mat3,mat2.T)[0])\n",
    "    #         assert np.abs(np.trace(Psi))<1e-5, \"Not trace zero {:e}\".format(np.trace(Psi))\n",
    "    #     else:\n",
    "    #         Psi=mat1\n",
    "        \n",
    "    #     Psi[[j,-1]]=Psi[[-1,j]]\n",
    "    #     Psi[:,[j,-1]]=Psi[:,[-1,j]]\n",
    "\n",
    "    #     Psi[[i,-2]]=Psi[[-2,i]]\n",
    "    #     Psi[:,[i,-2]]=Psi[:,[-2,i]]\n",
    "        \n",
    "    #     Psi=(Psi-Psi.T)/2   # Anti-symmetrize\n",
    "    #     self.C_m_history.append(Psi)\n",
    "    #     self.s_history.append(s)\n",
    "    #     self.i_history.append(i)\n",
    "\n",
    "       # def CFT_correlator(self,x,type='both'):\n",
    "    #     assert type in ['MI','LN','both'], 'output type must be \"MI\" | \"LN\" |\"both\"'\n",
    "    #     xx=lambda i,j: (np.sin(np.pi/(2*self.L)*np.abs(x[i]-x[j])))\n",
    "    #     eta=(xx(0,1)*xx(2,3))/(xx(0,2)*xx(1,3))\n",
    "    #     subregionA=np.arange(x[0],x[1])\n",
    "    #     subregionB=np.arange(x[2],x[3])\n",
    "    #     if type=='both':\n",
    "    #         MI=self.mutual_information_m(subregionA,subregionB)\n",
    "    #         LN=self.log_neg(subregionA,subregionB)\n",
    "    #         return eta, MI,LN\n",
    "    #     if type=='MI':\n",
    "    #         MI=self.mutual_information_m(subregionA,subregionB)\n",
    "    #         return eta,MI\n",
    "    #     if type=='LN':\n",
    "    #         LN=self.log_neg(subregionA,subregionB)\n",
    "    #         return eta,LN    "
   ],
   "outputs": [],
   "metadata": {}
  },
  {
   "cell_type": "markdown",
   "source": [
    "# Band structure"
   ],
   "metadata": {}
  },
  {
   "cell_type": "code",
   "execution_count": null,
   "source": [
    "params_m=Params(delta=0,L=64,bc=-1,basis='mf',T=np.inf)\n",
    "params_m.bandstructure()\n",
    "Esum=[np.random.choice(params_m.val_m,params_m.L,replace=False).sum()/params_m.L for i in range(2000)]"
   ],
   "outputs": [],
   "metadata": {}
  },
  {
   "cell_type": "code",
   "execution_count": null,
   "source": [
    "plt.hist(Esum)"
   ],
   "outputs": [],
   "metadata": {}
  },
  {
   "cell_type": "code",
   "execution_count": null,
   "source": [
    "params_f=Params(delta=-1,L=4,bc=-1,basis='mf')\n",
    "params_f.covariance_matrix_f()"
   ],
   "outputs": [],
   "metadata": {}
  },
  {
   "cell_type": "code",
   "execution_count": null,
   "source": [
    "params_m.von_Neumann_entropy_f(np.arange(4))"
   ],
   "outputs": [],
   "metadata": {}
  },
  {
   "cell_type": "code",
   "execution_count": null,
   "source": [
    "params_f.measure(0,0,1)"
   ],
   "outputs": [],
   "metadata": {}
  },
  {
   "cell_type": "code",
   "execution_count": null,
   "source": [
    "params_f.measure_all_Born()"
   ],
   "outputs": [],
   "metadata": {}
  },
  {
   "cell_type": "code",
   "execution_count": null,
   "source": [
    "params_f.C_f"
   ],
   "outputs": [],
   "metadata": {}
  },
  {
   "cell_type": "code",
   "execution_count": null,
   "source": [
    "params_f.P_0_list"
   ],
   "outputs": [],
   "metadata": {}
  },
  {
   "cell_type": "code",
   "execution_count": null,
   "source": [
    "np.round(params_f.C_m_history[-1],3)"
   ],
   "outputs": [],
   "metadata": {}
  },
  {
   "cell_type": "code",
   "execution_count": null,
   "source": [
    "params.measure_all_Born()"
   ],
   "outputs": [],
   "metadata": {}
  },
  {
   "cell_type": "code",
   "execution_count": null,
   "source": [
    "params.P_0_list"
   ],
   "outputs": [],
   "metadata": {}
  },
  {
   "cell_type": "code",
   "execution_count": null,
   "source": [
    "params.C_m@params.C_m"
   ],
   "outputs": [],
   "metadata": {}
  },
  {
   "cell_type": "code",
   "execution_count": null,
   "source": [
    "params=Params(delta=0,L=64,bc=-1,basis='mf')\n",
    "params.covariance_matrix_f()\n",
    "params.C_m"
   ],
   "outputs": [],
   "metadata": {}
  },
  {
   "cell_type": "code",
   "execution_count": null,
   "source": [
    "params.C_m@params.C_m"
   ],
   "outputs": [],
   "metadata": {}
  },
  {
   "cell_type": "code",
   "execution_count": null,
   "source": [
    "params.C_m"
   ],
   "outputs": [],
   "metadata": {}
  },
  {
   "cell_type": "code",
   "execution_count": null,
   "source": [
    "params.C_f"
   ],
   "outputs": [],
   "metadata": {}
  },
  {
   "cell_type": "code",
   "execution_count": null,
   "source": [
    "params.measure_all_Born()"
   ],
   "outputs": [],
   "metadata": {}
  },
  {
   "cell_type": "code",
   "execution_count": null,
   "source": [
    "params.P_0_list"
   ],
   "outputs": [],
   "metadata": {}
  },
  {
   "cell_type": "code",
   "execution_count": null,
   "source": [
    "params.covariance_matrix_f()"
   ],
   "outputs": [],
   "metadata": {}
  },
  {
   "cell_type": "code",
   "execution_count": null,
   "source": [
    "print(np.round(params.C_m,3))"
   ],
   "outputs": [],
   "metadata": {}
  },
  {
   "cell_type": "code",
   "execution_count": null,
   "source": [
    "params.covariance_matrix_m()"
   ],
   "outputs": [],
   "metadata": {}
  },
  {
   "cell_type": "code",
   "execution_count": null,
   "source": [
    "print(np.round(params.C_f,3))"
   ],
   "outputs": [],
   "metadata": {}
  },
  {
   "cell_type": "code",
   "execution_count": null,
   "source": [
    "params.C_f[1,1]"
   ],
   "outputs": [],
   "metadata": {}
  },
  {
   "cell_type": "code",
   "execution_count": null,
   "source": [
    "params.C_f[1,1]+params.C_f[1+params.L,1+params.L]"
   ],
   "outputs": [],
   "metadata": {}
  },
  {
   "cell_type": "code",
   "execution_count": null,
   "source": [
    "zz=params.projection(1)"
   ],
   "outputs": [],
   "metadata": {}
  },
  {
   "cell_type": "code",
   "execution_count": null,
   "source": [
    "zz@zz"
   ],
   "outputs": [],
   "metadata": {}
  },
  {
   "cell_type": "code",
   "execution_count": null,
   "source": [
    "delta_list=np.linspace(-1,1,100)\n",
    "eigvallist_f=[]\n",
    "eigvallist_m=[]\n",
    "for delta in delta_list:\n",
    "    params=Params(delta,L=64,bc=1,basis='mf')\n",
    "    params.bandstructure('f')\n",
    "    params.bandstructure('m')\n",
    "    eigvallist_f.append(params.val_f)\n",
    "    eigvallist_m.append(params.val_m)\n"
   ],
   "outputs": [],
   "metadata": {}
  },
  {
   "cell_type": "code",
   "execution_count": null,
   "source": [
    "fig,ax=plt.subplots(1,2,sharey=True)\n",
    "for index in range(eigvallist_f[0].shape[0]):\n",
    "    ax[0].plot(delta_list,np.array(eigvallist_m)[:,index],'k')\n",
    "    ax[1].plot(delta_list,np.array(eigvallist_f)[:,index],'k')\n",
    "[ax.set_xlabel(r'$\\delta$') for ax in ax]\n",
    "ax[0].set_ylabel(r'$E$')\n",
    "[ax.text(.5,1,text,transform=ax.transAxes,ha='center',va='bottom') for ax,text in zip(ax,('Majorana basis','Particle-hole basis'))]\n",
    "# ax[0].set_ylim(-1,1)\n",
    "\n",
    "fig.tight_layout()\n",
    "\n",
    "# fig.savefig('/mnt/d/kitp/Rp_SPT/3/bandstructure-apbc.pdf',bbox_inches='tight')\n"
   ],
   "outputs": [],
   "metadata": {}
  },
  {
   "cell_type": "code",
   "execution_count": null,
   "source": [
    "delta_list=np.linspace(-1,1,100)\n",
    "eigvallist_f=[]\n",
    "eigvallist_m=[]\n",
    "for delta in delta_list:\n",
    "    params=Params(delta,L=16,bc=0)\n",
    "    params.bandstructure('f')\n",
    "    params.bandstructure('m')\n",
    "    eigvallist_f.append(params.val_f)\n",
    "    eigvallist_m.append(params.val_m)\n"
   ],
   "outputs": [],
   "metadata": {}
  },
  {
   "cell_type": "code",
   "execution_count": null,
   "source": [
    "fig,ax=plt.subplots(1,2,sharey=True)\n",
    "for index in range(eigvallist_m[0].shape[0]):\n",
    "    ax[0].plot(delta_list,np.array(eigvallist_m)[:,index],'k')\n",
    "    ax[1].plot(delta_list,np.array(eigvallist_f)[:,index],'k')\n",
    "[ax.set_xlabel(r'$\\delta$') for ax in ax]\n",
    "ax[0].set_ylabel(r'$E$')\n",
    "[ax.text(.5,1,text,transform=ax.transAxes,ha='center',va='bottom') for ax,text in zip(ax,('Majorana basis','Particle-hole basis'))]\n",
    "\n",
    "fig.tight_layout()\n",
    "\n",
    "# fig.savefig('/mnt/d/kitp/Rp_SPT/3/bandstructure-obc.pdf',bbox_inches='tight')\n"
   ],
   "outputs": [],
   "metadata": {}
  },
  {
   "cell_type": "markdown",
   "source": [
    "# Covariance and Correlation matrix"
   ],
   "metadata": {}
  },
  {
   "cell_type": "code",
   "execution_count": null,
   "source": [
    "params=Params(delta=-.9,L=4,bc=-1)"
   ],
   "outputs": [],
   "metadata": {}
  },
  {
   "cell_type": "code",
   "execution_count": null,
   "source": [
    "params.bandstructure('f')\n",
    "params.bandstructure('m')\n",
    "\n",
    "# %lprun -f params.covariance_matrix_m params.covariance_matrix_m()\n",
    "# %lprun -f params.covariance_matrix_m_obs params.covariance_matrix_m_obs()\n",
    "# params.correlation_matrix()\n",
    "# params.covariance_matrix_f()"
   ],
   "outputs": [],
   "metadata": {}
  },
  {
   "cell_type": "code",
   "execution_count": null,
   "source": [
    "# Born rule may be incorrect because Gamma is transponsed"
   ],
   "outputs": [],
   "metadata": {}
  },
  {
   "cell_type": "code",
   "execution_count": null,
   "source": [
    "zo=params.C_m"
   ],
   "outputs": [],
   "metadata": {}
  },
  {
   "cell_type": "code",
   "execution_count": null,
   "source": [
    "plt.imshow(zn)"
   ],
   "outputs": [],
   "metadata": {}
  },
  {
   "cell_type": "code",
   "execution_count": null,
   "source": [
    "zn"
   ],
   "outputs": [],
   "metadata": {}
  },
  {
   "cell_type": "code",
   "execution_count": null,
   "source": [
    "zn=(np.real(params.C_m))"
   ],
   "outputs": [],
   "metadata": {}
  },
  {
   "cell_type": "code",
   "execution_count": null,
   "source": [
    "plt.imshow(params.C_f)"
   ],
   "outputs": [],
   "metadata": {}
  },
  {
   "cell_type": "code",
   "execution_count": null,
   "source": [
    "print(params.C_f[:4,:4])"
   ],
   "outputs": [],
   "metadata": {}
  },
  {
   "cell_type": "code",
   "execution_count": null,
   "source": [
    "print(params.C_f[:4,4:])"
   ],
   "outputs": [],
   "metadata": {}
  },
  {
   "cell_type": "code",
   "execution_count": null,
   "source": [
    "params.C_f[4:,:4]"
   ],
   "outputs": [],
   "metadata": {}
  },
  {
   "cell_type": "code",
   "execution_count": null,
   "source": [
    "print(params.C_f[4:,4:])"
   ],
   "outputs": [],
   "metadata": {}
  },
  {
   "cell_type": "code",
   "execution_count": null,
   "source": [
    "l=8\n",
    "val_sub={}\n",
    "val_sub['f']=la.eigh(params.c_subregion_f(np.arange(l)),eigvals_only=True)\n",
    "val_sub['m']=la.eigh(1j*params.c_subregion_m(np.arange(2*l)),eigvals_only=True)"
   ],
   "outputs": [],
   "metadata": {}
  },
  {
   "cell_type": "code",
   "execution_count": null,
   "source": [
    "fig,ax=plt.subplots(2,2,figsize=(6.8,6.8))\n",
    "im0=ax[0,0].imshow(params.C_m,cmap='seismic')\n",
    "im1=ax[0,1].imshow(params.C_m@params.C_m,cmap='hot')\n",
    "ax[0,0].text(0.5,1.1,r'$\\Gamma$',transform=ax[0,0].transAxes,ha='center',va='bottom')\n",
    "ax[0,1].text(0.5,1.1,r'$\\Gamma^2$',transform=ax[0,1].transAxes,ha='center',va='bottom')\n",
    "\n",
    "\n",
    "# [ax.set_box_aspect(1) for ax in ax]\n",
    "\n",
    "axins0=ax[0,0].inset_axes([0.0, -.1, 1, 0.05],transform=ax[0,0].transAxes) \n",
    "cb0=fig.colorbar(im0,cax=axins0,orientation='horizontal')\n",
    "cb0.ax.xaxis.set_tick_params(pad=0)\n",
    "\n",
    "axins1=ax[0,1].inset_axes([0.0, -.1, 1, 0.05],transform=ax[0,1].transAxes) \n",
    "cb1=fig.colorbar(im1,cax=axins1,orientation='horizontal')\n",
    "cb1.ax.xaxis.set_tick_params(pad=0)\n",
    "\n",
    "im2=ax[1,0].imshow(params.C_f,cmap='seismic',vmax=1,vmin=-1)\n",
    "ax[1,0].text(0.5,1.1,r'$G$',transform=ax[1,0].transAxes,ha='center',va='bottom')\n",
    "axins2=ax[1,0].inset_axes([0.0, -.1, 1, 0.05],transform=ax[1,0].transAxes) \n",
    "cb2=fig.colorbar(im2,cax=axins2,orientation='horizontal')\n",
    "cb2.ax.xaxis.set_tick_params(pad=0)\n",
    "\n",
    "color = 'tab:red'\n",
    "ax[1,1].plot(val_sub['f'],'.',marker=\"x\",color=color)\n",
    "ax[1,1].set_xlabel('Number of eigenvalues')\n",
    "ax[1,1].set_ylabel(r'Eigenvalues of $G$', color=color)\n",
    "ax[1,1].tick_params(axis='y', labelcolor=color)\n",
    "\n",
    "\n",
    "ax2=ax[1,1].twinx()\n",
    "color = 'tab:blue'\n",
    "ax2.plot(val_sub['m'],'.',marker=\"+\",color=color)\n",
    "ax2.set_ylabel(r'Eigenvalues of $i\\Gamma$', color=color)  # we already handled the x-label with ax1\n",
    "ax2.tick_params(axis='y', labelcolor=color)\n",
    "\n",
    "[ax.xaxis.set_label_position('top') for ax in ax.flatten()[:3]]\n",
    "[ax.xaxis.tick_top() for ax in ax.flatten()[:3]]\n",
    "[ax.set_xticks([0,15,31]) for ax in ax.flatten()[:3]]\n",
    "[ax.set_yticks([0,15,31]) for ax in ax.flatten()[:3]]\n",
    "[ax.set_xticklabels([1,16,32]) for ax in ax.flatten()[:3]]\n",
    "[ax.set_yticklabels([1,16,32]) for ax in ax.flatten()[:3]]\n",
    "\n",
    "[ax.text(-0.,1.02,'({})'.format(text),transform=ax.transAxes,ha='right',va='bottom') for ax,text in zip(ax.flatten(),'abcd')]\n",
    "ax[1,1].set_box_aspect(1)\n",
    "fig.tight_layout()\n",
    "# fig.savefig('/mnt/d/kitp/Rp_SPT/3/cov.pdf',bbox_inches='tight')\n"
   ],
   "outputs": [],
   "metadata": {}
  },
  {
   "cell_type": "code",
   "execution_count": null,
   "source": [
    "params=Params(delta=0,L=128,bc=-1)\n",
    "# params=Params(delta=1,L=64,bc=-1)\n",
    "params.covariance_matrix_m()\n",
    "params.covariance_matrix_f()\n",
    "l=40\n",
    "val_sub={}\n",
    "val_sub['f']=la.eigh(params.c_subregion_f(np.arange(l)),eigvals_only=True)\n",
    "val_sub['m']=la.eigh(1j*params.c_subregion_m(np.arange(2*l)),eigvals_only=True)"
   ],
   "outputs": [],
   "metadata": {}
  },
  {
   "cell_type": "code",
   "execution_count": null,
   "source": [
    "fig,ax=plt.subplots(2,2,figsize=(6.8,6.8))\n",
    "im0=ax[0,0].imshow(params.C_m,cmap='seismic')\n",
    "im1=ax[0,1].imshow(params.C_m@params.C_m,cmap='hot')\n",
    "ax[0,0].text(0.5,1.1,r'$\\Gamma$',transform=ax[0,0].transAxes,ha='center',va='bottom')\n",
    "ax[0,1].text(0.5,1.1,r'$\\Gamma^2$',transform=ax[0,1].transAxes,ha='center',va='bottom')\n",
    "\n",
    "\n",
    "# [ax.set_box_aspect(1) for ax in ax]\n",
    "\n",
    "axins0=ax[0,0].inset_axes([0.0, -.1, 1, 0.05],transform=ax[0,0].transAxes) \n",
    "cb0=fig.colorbar(im0,cax=axins0,orientation='horizontal')\n",
    "cb0.ax.xaxis.set_tick_params(pad=0)\n",
    "\n",
    "axins1=ax[0,1].inset_axes([0.0, -.1, 1, 0.05],transform=ax[0,1].transAxes) \n",
    "cb1=fig.colorbar(im1,cax=axins1,orientation='horizontal')\n",
    "cb1.ax.xaxis.set_tick_params(pad=0)\n",
    "\n",
    "im2=ax[1,0].imshow(params.C_f,cmap='seismic',vmax=1,vmin=-1)\n",
    "ax[1,0].text(0.5,1.1,r'$G$',transform=ax[1,0].transAxes,ha='center',va='bottom')\n",
    "axins2=ax[1,0].inset_axes([0.0, -.1, 1, 0.05],transform=ax[1,0].transAxes) \n",
    "cb2=fig.colorbar(im2,cax=axins2,orientation='horizontal')\n",
    "cb2.ax.xaxis.set_tick_params(pad=0)\n",
    "\n",
    "color = 'tab:red'\n",
    "ax[1,1].plot(val_sub['f'],'.',marker=\"x\",color=color)\n",
    "ax[1,1].set_xlabel('Number of eigenvalues')\n",
    "ax[1,1].set_ylabel(r'Eigenvalues of $G$', color=color)\n",
    "ax[1,1].tick_params(axis='y', labelcolor=color)\n",
    "\n",
    "\n",
    "ax2=ax[1,1].twinx()\n",
    "color = 'tab:blue'\n",
    "ax2.plot(val_sub['m'],'.',marker=\"+\",color=color)\n",
    "ax2.set_ylabel(r'Eigenvalues of $i\\Gamma$', color=color)  # we already handled the x-label with ax1\n",
    "ax2.tick_params(axis='y', labelcolor=color)\n",
    "\n",
    "[ax.xaxis.set_label_position('top') for ax in ax.flatten()[:3]]\n",
    "[ax.xaxis.tick_top() for ax in ax.flatten()[:3]]\n",
    "[ax.set_xticks([0,params.L-1,2*params.L-1]) for ax in ax.flatten()[:3]]\n",
    "[ax.set_yticks([0,params.L-1,2*params.L-1]) for ax in ax.flatten()[:3]]\n",
    "[ax.set_xticklabels([1,params.L,2*params.L]) for ax in ax.flatten()[:3]]\n",
    "[ax.set_yticklabels([1,params.L,2*params.L]) for ax in ax.flatten()[:3]]\n",
    "\n",
    "[ax.text(-0.,1.02,'({})'.format(text),transform=ax.transAxes,ha='right',va='bottom') for ax,text in zip(ax.flatten(),'abcd')]\n",
    "ax[1,1].set_box_aspect(1)\n",
    "fig.tight_layout()\n",
    "# fig.savefig('/mnt/d/kitp/Rp_SPT/4/cov.pdf',bbox_inches='tight')\n"
   ],
   "outputs": [],
   "metadata": {}
  },
  {
   "cell_type": "code",
   "execution_count": null,
   "source": [
    "# val_sub_f={}\n",
    "# val_sub_m={}\n",
    "for i in (0.02,):\n",
    "    params=Params(delta=i,L=128,bc=-1)\n",
    "    params.covariance_matrix_m()\n",
    "    params.covariance_matrix_f()\n",
    "    l=40\n",
    "    val_sub_f[i]=la.eigh(params.c_subregion_f(np.arange(l)),eigvals_only=True)\n",
    "    val_sub_m[i]=la.eigh(1j*params.c_subregion_m(np.arange(2*l)),eigvals_only=True)"
   ],
   "outputs": [],
   "metadata": {}
  },
  {
   "cell_type": "code",
   "execution_count": null,
   "source": [
    "val_sub_f.keys()"
   ],
   "outputs": [],
   "metadata": {}
  },
  {
   "cell_type": "code",
   "execution_count": null,
   "source": [
    "fig,axs=plt.subplots(3,3,sharex=True,sharey=True)\n",
    "\n",
    "delta_list=(-0.1,-0.05,-0.02,-0.01,0,0.01,0.1,0.02,0.05,0.1)\n",
    "\n",
    "for index,(ax,delta) in enumerate(zip(axs.flatten(),delta_list)):\n",
    "    color = 'tab:red'\n",
    "    ax.plot(val_sub_f[delta],'.',marker=\"x\",color=color)\n",
    "    if index>=6:\n",
    "        ax.set_xlabel('Number of eigenvalues')\n",
    "    ax.tick_params(axis='y', labelcolor=color)\n",
    "    if index % 3==0:\n",
    "        [ax.set_ylabel(r'Eigenvalues of $G$', color=color) for ax in axs[:,0]]\n",
    "\n",
    "    ax.text(.5,1,r'$\\delta$={:.2f}'.format(delta),ha='center',va='bottom',transform=ax.transAxes)\n",
    "\n",
    "    ax2=ax.twinx()\n",
    "    color = 'tab:blue'\n",
    "    ax2.plot(val_sub_m[delta],'.',marker=\"+\",color=color)\n",
    "    if (index-2) %3 ==0:\n",
    "        ax2.set_ylabel(r'Eigenvalues of $i\\Gamma$', color=color)  \n",
    "    ax2.tick_params(axis='y', labelcolor=color)\n",
    "\n",
    "fig.savefig('/mnt/d/kitp/Rp_SPT/5/entanglement_spectrum.pdf',bbox_inches='tight')\n",
    "\n",
    "# [ax.set_ylabel(r'Eigenvalues of $i\\Gamma$', color=color)]"
   ],
   "outputs": [],
   "metadata": {}
  },
  {
   "cell_type": "markdown",
   "source": [
    "# Mutual information"
   ],
   "metadata": {}
  },
  {
   "cell_type": "code",
   "execution_count": null,
   "source": [
    "delta_list=np.linspace(-1,1,100)**5\n",
    "mutual_info_list=[]\n",
    "for delta in delta_list:\n",
    "    params=Params(delta=delta,L=64,bc=-1)\n",
    "    mutual_info_list.append(params.mutual_information_m(np.arange(2),np.arange(2)+30))"
   ],
   "outputs": [],
   "metadata": {}
  },
  {
   "cell_type": "code",
   "execution_count": null,
   "source": [
    "plt.plot(delta_list,mutual_info_list/np.log(2))"
   ],
   "outputs": [],
   "metadata": {}
  },
  {
   "cell_type": "markdown",
   "source": [
    "# Profiling"
   ],
   "metadata": {}
  },
  {
   "cell_type": "code",
   "execution_count": null,
   "source": [
    "p_n.Hamiltonian_m-p_o.Hamiltonian_m"
   ],
   "outputs": [],
   "metadata": {}
  },
  {
   "cell_type": "code",
   "execution_count": null,
   "source": [
    "st=time.time()\n",
    "%lprun -f Params.__init__ p_n=Params(delta=0,L=64,bc=-1,basis='mf')\n",
    "# params.measure_all_random_even(16,(int(params.L/2),params.L))\n",
    "print((time.time()-st))"
   ],
   "outputs": [],
   "metadata": {}
  },
  {
   "cell_type": "code",
   "execution_count": null,
   "source": [
    "st=time.time()\n",
    "%lprun -f Params.__init__ p_o=Params(delta=0,L=64,bc=-1)\n",
    "# params.measure_all_random_even(16,(int(params.L/2),params.L))\n",
    "print(time.time()-st)"
   ],
   "outputs": [],
   "metadata": {}
  },
  {
   "cell_type": "code",
   "execution_count": null,
   "source": [
    "st=time.time()\n",
    "%lprun -f Params.__init__ Params(delta=0,L=64,bc=-1)\n",
    "# params.measure_all_random_even(16,(int(params.L/2),params.L))\n",
    "print(time.time()-st)"
   ],
   "outputs": [],
   "metadata": {}
  },
  {
   "cell_type": "code",
   "execution_count": null,
   "source": [
    "np.sort(params.i_history)"
   ],
   "outputs": [],
   "metadata": {}
  },
  {
   "cell_type": "code",
   "execution_count": null,
   "source": [
    "params.s_history"
   ],
   "outputs": [],
   "metadata": {}
  },
  {
   "cell_type": "code",
   "execution_count": null,
   "source": [
    "params=Params(delta=delta,L=64,bc=-1)\n",
    "%lprun -f params.measure_all_random_even params.measure_all_random_even(12,(int(params.L/2),params.L))"
   ],
   "outputs": [],
   "metadata": {}
  },
  {
   "cell_type": "code",
   "execution_count": null,
   "source": [
    "%%prun\n",
    "delta_dict={}\n",
    "mutual_info_dis_dict={}\n",
    "for i in (12,):\n",
    "    print(i)\n",
    "    delta_dict[i],mutual_info_dis_dict[i]=mutual_info_run(i)"
   ],
   "outputs": [],
   "metadata": {}
  },
  {
   "cell_type": "code",
   "execution_count": null,
   "source": [
    "m = range(25)\n",
    "m =np.reshape(m,(5,5))\n",
    "print(m)"
   ],
   "outputs": [],
   "metadata": {}
  },
  {
   "cell_type": "code",
   "execution_count": null,
   "source": [
    "m[[1,-2],:]"
   ],
   "outputs": [],
   "metadata": {}
  },
  {
   "cell_type": "code",
   "execution_count": null,
   "source": [
    "m[:,[1,-2]]=m[:,[-2,1]]"
   ],
   "outputs": [],
   "metadata": {}
  },
  {
   "cell_type": "code",
   "execution_count": null,
   "source": [
    "print(m)"
   ],
   "outputs": [],
   "metadata": {}
  },
  {
   "cell_type": "code",
   "execution_count": null,
   "source": [
    "idx=1\n",
    "m[idx:,:]=np.roll(m[idx:,:],-1,0)\n",
    "m[:,idx:]=np.roll(m[:,idx:],-1,1)\n",
    "print(m)"
   ],
   "outputs": [],
   "metadata": {}
  },
  {
   "cell_type": "code",
   "execution_count": null,
   "source": [
    "jdx=2\n",
    "m[jdx:,:]=np.roll(m[jdx:,:],-1,0)\n",
    "m[:,jdx:]=np.roll(m[:,jdx:],-1,1)\n",
    "print(m)"
   ],
   "outputs": [],
   "metadata": {}
  },
  {
   "cell_type": "code",
   "execution_count": null,
   "source": [
    "m[jdx:,:]=np.roll(m[jdx:,:],1,0)\n",
    "m[:,jdx:]=np.roll(m[:,jdx:],1,1)\n",
    "print(m)"
   ],
   "outputs": [],
   "metadata": {}
  },
  {
   "cell_type": "code",
   "execution_count": null,
   "source": [
    "m[idx:,:]=np.roll(m[idx:,:],1,0)\n",
    "m[:,idx:]=np.roll(m[:,idx:],1,1)\n",
    "print(m)"
   ],
   "outputs": [],
   "metadata": {}
  },
  {
   "cell_type": "code",
   "execution_count": null,
   "source": [
    "np.roll(m,1,axis=1)"
   ],
   "outputs": [],
   "metadata": {}
  },
  {
   "cell_type": "code",
   "execution_count": null,
   "source": [
    "np.roll(m[row][:column+1], 1)"
   ],
   "outputs": [],
   "metadata": {}
  },
  {
   "cell_type": "code",
   "execution_count": null,
   "source": [
    "params=Params(delta=0.3,L=64,bc=-1)\n",
    "params.covariance_matrix_m()\n",
    "z1=(params.C_m_history)\n",
    "params.measure_obs(0,2,3)\n",
    "params.measure_obs(0,12,13)\n",
    "z11=params.C_m_history"
   ],
   "outputs": [],
   "metadata": {}
  },
  {
   "cell_type": "code",
   "execution_count": null,
   "source": [
    "params2=Params(delta=0.3,L=64,bc=-1)\n",
    "params2.covariance_matrix_m()\n",
    "z2=params2.C_m_history\n",
    "params2.measure(0,2,3)\n",
    "params2.measure(0,12,13)\n",
    "z21=params2.C_m_history"
   ],
   "outputs": [],
   "metadata": {}
  },
  {
   "cell_type": "code",
   "execution_count": null,
   "source": [
    "params3=Params(delta=0.3,L=64,bc=-1)\n",
    "params3.covariance_matrix_m()\n",
    "z3=(params3.C_m_history)\n",
    "params3.measure_new(0,2,3)\n",
    "params3.measure_new(0,12,13)\n",
    "z31=params3.C_m_history"
   ],
   "outputs": [],
   "metadata": {}
  },
  {
   "cell_type": "code",
   "execution_count": null,
   "source": [
    "params.m"
   ],
   "outputs": [],
   "metadata": {}
  },
  {
   "cell_type": "code",
   "execution_count": null,
   "source": [
    "params2.m"
   ],
   "outputs": [],
   "metadata": {}
  },
  {
   "cell_type": "code",
   "execution_count": null,
   "source": [
    "(params.m-params2.m).max()"
   ],
   "outputs": [],
   "metadata": {}
  },
  {
   "cell_type": "code",
   "execution_count": null,
   "source": [
    "z1[0]-z2[0]"
   ],
   "outputs": [],
   "metadata": {}
  },
  {
   "cell_type": "code",
   "execution_count": null,
   "source": [
    "z1[-3]-z2[-3]"
   ],
   "outputs": [],
   "metadata": {}
  },
  {
   "cell_type": "code",
   "execution_count": null,
   "source": [
    "z3[-1]-z2[-1]"
   ],
   "outputs": [],
   "metadata": {}
  },
  {
   "cell_type": "code",
   "execution_count": null,
   "source": [
    "z11[0]-z1[0]"
   ],
   "outputs": [],
   "metadata": {}
  },
  {
   "cell_type": "code",
   "execution_count": null,
   "source": [
    "z21[0]-z2[0]"
   ],
   "outputs": [],
   "metadata": {}
  },
  {
   "cell_type": "code",
   "execution_count": null,
   "source": [
    "(z2[-1]-z1[-1]).max()"
   ],
   "outputs": [],
   "metadata": {}
  },
  {
   "cell_type": "code",
   "execution_count": null,
   "source": [
    "params2.C_m_history[0]-params.C_m_history[0]\n"
   ],
   "outputs": [],
   "metadata": {}
  },
  {
   "cell_type": "code",
   "execution_count": null,
   "source": [
    "params=Params(delta=delta,L=64,bc=-1)\n",
    "%lprun -f params.projection params.projection(1)"
   ],
   "outputs": [],
   "metadata": {}
  },
  {
   "cell_type": "code",
   "execution_count": null,
   "source": [
    "params=Params(delta=delta,L=64,bc=-1)\n",
    "%lprun -f params.projection params.projection(1)"
   ],
   "outputs": [],
   "metadata": {}
  },
  {
   "cell_type": "code",
   "execution_count": null,
   "source": [
    "params=Params(delta=delta,L=64,bc=-1)\n",
    "%lprun -f params.projection params.projection(1)"
   ],
   "outputs": [],
   "metadata": {}
  },
  {
   "cell_type": "code",
   "execution_count": null,
   "source": [
    "pp_o=Params(delta=0.3,L=64,bc=-1)\n",
    "%lprun -f Params.bandstructure_obs pp_o.bandstructure_obs('m')"
   ],
   "outputs": [],
   "metadata": {}
  },
  {
   "cell_type": "code",
   "execution_count": null,
   "source": [
    "pp_n=Params(delta=0.3,L=64,bc=-1)\n",
    "%lprun -f Params.bandstructure pp_n.bandstructure('m')"
   ],
   "outputs": [],
   "metadata": {}
  },
  {
   "cell_type": "code",
   "execution_count": null,
   "source": [
    "params=Params(delta=delta,L=64,bc=-1)\n",
    "# params.covariance_matrix_m()\n",
    "%lprun -f params.covariance_matrix_m params.covariance_matrix_m()"
   ],
   "outputs": [],
   "metadata": {}
  },
  {
   "cell_type": "code",
   "execution_count": null,
   "source": [
    "params=Params(delta=delta,L=64,bc=-1)\n",
    "params.covariance_matrix_m()\n",
    "%lprun -f params.measure_new params.measure_new(0,14,15)"
   ],
   "outputs": [],
   "metadata": {}
  },
  {
   "cell_type": "code",
   "execution_count": null,
   "source": [
    "params=Params(delta=delta,L=64,bc=-1)\n",
    "params.covariance_matrix_m()\n",
    "%lprun -f params.measure params.measure(0,11,12)"
   ],
   "outputs": [],
   "metadata": {}
  },
  {
   "cell_type": "code",
   "execution_count": null,
   "source": [
    "params=Params(delta=delta,L=64,bc=-1)\n",
    "params.covariance_matrix_m()\n",
    "%lprun -f params.measure params.measure(0,14,15)"
   ],
   "outputs": [],
   "metadata": {}
  },
  {
   "cell_type": "code",
   "execution_count": null,
   "source": [
    "params=Params(delta=delta,L=64,bc=-1)\n",
    "params.covariance_matrix_m()\n",
    "%lprun -f params.measure_obs params.measure_obs(0,14,15)"
   ],
   "outputs": [],
   "metadata": {}
  },
  {
   "cell_type": "code",
   "execution_count": null,
   "source": [
    "%lprun -f mutual_info_run mutual_info_run(12)"
   ],
   "outputs": [],
   "metadata": {}
  },
  {
   "cell_type": "code",
   "execution_count": null,
   "source": [
    "%lprun -f mutual_info_run mutual_info_run(12)"
   ],
   "outputs": [],
   "metadata": {}
  },
  {
   "cell_type": "code",
   "execution_count": null,
   "source": [
    "%lprun -f mutual_info_run mutual_info_run(12)"
   ],
   "outputs": [],
   "metadata": {}
  },
  {
   "cell_type": "markdown",
   "source": [
    "# Mutual info - density of operators"
   ],
   "metadata": {}
  },
  {
   "cell_type": "code",
   "execution_count": null,
   "source": [
    "def mutual_info_run(batchsize):\n",
    "    delta_list=np.linspace(-1,1,20)**3\n",
    "    mutual_info_dis_list=[]\n",
    "    if batchsize==0:\n",
    "        ensemblesize=1\n",
    "    else:\n",
    "        ensemblesize=100\n",
    "\n",
    "    for delta in delta_list:\n",
    "        mutual_info_ensemble_list=[]\n",
    "        for ensemble in range(ensemblesize):\n",
    "            params=Params(delta=delta,L=64,bc=-1)\n",
    "            params.measure_all_random_even(batchsize,(int(params.L/2),params.L))\n",
    "            mutual_info_ensemble_list.append(params.mutual_information_m(np.arange(int(params.L/2)),np.arange(int(params.L/2))+params.L))\n",
    "        mutual_info_dis_list.append(mutual_info_ensemble_list)\n",
    "    return delta_list,mutual_info_dis_list"
   ],
   "outputs": [],
   "metadata": {}
  },
  {
   "cell_type": "code",
   "execution_count": null,
   "source": [
    "np.random.rand()"
   ],
   "outputs": [],
   "metadata": {}
  },
  {
   "cell_type": "code",
   "execution_count": null,
   "source": [
    "delta_dict={}\n",
    "mutual_info_dis_dict={}\n",
    "i=12\n",
    "for i in (0,12,13,14,15,16):\n",
    "    print(i)\n",
    "    delta_dict[i],mutual_info_dis_dict[i]=mutual_info_run(i)\n",
    "print(time.time()-st)"
   ],
   "outputs": [],
   "metadata": {}
  },
  {
   "cell_type": "code",
   "execution_count": null,
   "source": [
    "for i in (0,13,14,15,16):\n",
    "    print(i)\n",
    "    delta_dict[i],mutual_info_dis_dict[i]=mutual_info_run(i)"
   ],
   "outputs": [],
   "metadata": {}
  },
  {
   "cell_type": "code",
   "execution_count": null,
   "source": [
    "delta_dict.keys()"
   ],
   "outputs": [],
   "metadata": {}
  },
  {
   "cell_type": "code",
   "execution_count": null,
   "source": [
    "fig,ax=plt.subplots()\n",
    "for i in (0,12,14,15,16):\n",
    "    ax.plot(delta_dict[i],np.array(mutual_info_dis_dict[i]).mean(axis=1)/np.log(2),label='Number of gates: {}'.format(i))\n",
    "\n",
    "ax.legend()\n",
    "ax.set_xlabel(r'$\\delta$')\n",
    "ax.set_ylabel(r'Mutual information between A and B [$\\log2$]')\n",
    "\n",
    "# fig.savefig('/mnt/d/kitp/Rp_SPT/4/mutual_info_Ap_En200.pdf',bbox_inches='tight')\n"
   ],
   "outputs": [],
   "metadata": {}
  },
  {
   "cell_type": "code",
   "execution_count": null,
   "source": [
    "es=1000\n",
    "with open('/mnt/d/KITP/Rp_SPT/5/mutual_info_Ap_En{:d}.pickle'.format(es),'rb') as f:\n",
    "    delta_dict_para,mutual_info_dis_dict_para=pickle.load(f)"
   ],
   "outputs": [],
   "metadata": {}
  },
  {
   "cell_type": "code",
   "execution_count": null,
   "source": [
    "fig,axs=plt.subplots(2,1,figsize=(6.8,6.8),sharex=True)\n",
    "colorlist='bgrcmyk'\n",
    "ax=axs[0]\n",
    "for i,color in zip(delta_dict_para.keys(),colorlist):\n",
    "    ax.plot(delta_dict_para[i],remove_outlier(mutual_info_dis_dict_para[i]).mean(axis=1)/np.log(2),'.-',label='Number of gates: {}'.format(i),color=color)\n",
    "\n",
    "ax.legend()\n",
    "# ax.set_xlabel(r'$\\delta$')\n",
    "ax.set_ylabel(r'Mutual information between A and B [$\\log2$]')\n",
    "\n",
    "ax=axs[1]\n",
    "for i,color in zip(delta_dict_para.keys(),colorlist):\n",
    "    ax.plot(delta_dict_para[i],remove_outlier(mutual_info_dis_dict_para[i]).std(axis=1)/np.log(2),'.-',label='Number of gates: {}'.format(i),color=color)\n",
    "\n",
    "ax.legend()\n",
    "ax.set_xlabel(r'$\\delta$')\n",
    "ax.set_ylabel(r'STD of MI between A and B [$\\log2$]')\n",
    "fig.tight_layout()\n",
    "fig.savefig('/mnt/d/kitp/Rp_SPT/5/mutual_info_Ap_En{:d}.pdf'.format(es),bbox_inches='tight')\n"
   ],
   "outputs": [],
   "metadata": {}
  },
  {
   "cell_type": "code",
   "execution_count": null,
   "source": [
    "es=2000\n",
    "with open('/mnt/d/KITP/Rp_SPT/5/mutual_info_Ap_En{:d}.pickle'.format(es),'rb') as f:\n",
    "    delta_dict_para,mutual_info_dis_dict_para=pickle.load(f)"
   ],
   "outputs": [],
   "metadata": {}
  },
  {
   "cell_type": "code",
   "execution_count": null,
   "source": [
    "fig,axs=plt.subplots(2,1,figsize=(6.8,6.8),sharex=True)\n",
    "colorlist='bgrcmyk'\n",
    "ax=axs[0]\n",
    "for i,color in zip(delta_dict_para.keys(),colorlist):\n",
    "    ax.plot(delta_dict_para[i],remove_outlier(mutual_info_dis_dict_para[i]).mean(axis=1)/np.log(2),'.-',label='Number of gates: {}'.format(i),color=color)\n",
    "\n",
    "ax.legend()\n",
    "# ax.set_xlabel(r'$\\delta$')\n",
    "ax.set_ylabel(r'Mutual information between A and B [$\\log2$]')\n",
    "\n",
    "ax=axs[1]\n",
    "for i,color in zip(delta_dict_para.keys(),colorlist):\n",
    "    ax.plot(delta_dict_para[i],remove_outlier(mutual_info_dis_dict_para[i]).std(axis=1)/np.log(2),'.-',label='Number of gates: {}'.format(i),color=color)\n",
    "\n",
    "ax.legend()\n",
    "ax.set_xlabel(r'$\\delta$')\n",
    "ax.set_ylabel(r'STD of MI between A and B [$\\log2$]')\n",
    "fig.tight_layout()\n",
    "fig.savefig('/mnt/d/kitp/Rp_SPT/5/mutual_info_Ap_En{:d}.pdf'.format(es),bbox_inches='tight')\n"
   ],
   "outputs": [],
   "metadata": {}
  },
  {
   "cell_type": "code",
   "execution_count": null,
   "source": [
    "es=3000\n",
    "with open('/mnt/d/KITP/Rp_SPT/5/mutual_info_Ap_En{:d}.pickle'.format(es),'rb') as f:\n",
    "    delta_dict_para,mutual_info_dis_dict_para=pickle.load(f)"
   ],
   "outputs": [],
   "metadata": {}
  },
  {
   "cell_type": "code",
   "execution_count": null,
   "source": [
    "def remove_outlier(a):\n",
    "    if np.array(a).shape[1]==1:\n",
    "        return np.array(a)\n",
    "    else:\n",
    "        return np.sort(np.array(a),axis=1)[:,1:-1]"
   ],
   "outputs": [],
   "metadata": {}
  },
  {
   "cell_type": "code",
   "execution_count": null,
   "source": [
    "fig,axs=plt.subplots(2,1,figsize=(6.8,6.8),sharex=True)\n",
    "colorlist='bgrcmyk'\n",
    "ax=axs[0]\n",
    "for i,color in zip(delta_dict_para.keys(),colorlist):\n",
    "    ax.plot(delta_dict_para[i],remove_outlier(mutual_info_dis_dict_para[i]).mean(axis=1)/np.log(2),'.-',label='Number of gates: {}'.format(i),color=color)\n",
    "\n",
    "ax.legend()\n",
    "# ax.set_xlabel(r'$\\delta$')\n",
    "ax.set_ylabel(r'Mutual information between A and B [$\\log2$]')\n",
    "\n",
    "ax=axs[1]\n",
    "for i,color in zip(delta_dict_para.keys(),colorlist):\n",
    "    ax.plot(delta_dict_para[i],remove_outlier(mutual_info_dis_dict_para[i]).std(axis=1)/np.log(2),'.-',label='Number of gates: {}'.format(i),color=color)\n",
    "\n",
    "ax.legend()\n",
    "ax.set_xlabel(r'$\\delta$')\n",
    "ax.set_ylabel(r'STD of MI between A and B [$\\log2$]')\n",
    "fig.tight_layout()\n",
    "fig.savefig('/mnt/d/kitp/Rp_SPT/5/mutual_info_Ap_En{:d}.pdf'.format(es),bbox_inches='tight')\n"
   ],
   "outputs": [],
   "metadata": {}
  },
  {
   "cell_type": "code",
   "execution_count": null,
   "source": [
    "es=5000\n",
    "with open('/mnt/d/KITP/Rp_SPT/5/mutual_info_Ap_En{:d}.pickle'.format(es),'rb') as f:\n",
    "    delta_dict_para,mutual_info_dis_dict_para=pickle.load(f)"
   ],
   "outputs": [],
   "metadata": {}
  },
  {
   "cell_type": "code",
   "execution_count": null,
   "source": [
    "fig,axs=plt.subplots(2,1,figsize=(6.8,6.8),sharex=True)\n",
    "colorlist='bgrcmyk'\n",
    "ax=axs[0]\n",
    "for i,color in zip(delta_dict_para.keys(),colorlist):\n",
    "    ax.plot(delta_dict_para[i],remove_outlier(mutual_info_dis_dict_para[i]).mean(axis=1)/np.log(2),'.-',label='Number of gates: {}'.format(i),color=color)\n",
    "\n",
    "ax.legend()\n",
    "# ax.set_xlabel(r'$\\delta$')\n",
    "ax.set_ylabel(r'Mutual information between A and B [$\\log2$]')\n",
    "\n",
    "ax=axs[1]\n",
    "for i,color in zip(delta_dict_para.keys(),colorlist):\n",
    "    ax.plot(delta_dict_para[i],remove_outlier(mutual_info_dis_dict_para[i]).std(axis=1)/np.log(2),'.-',label='Number of gates: {}'.format(i),color=color)\n",
    "\n",
    "ax.legend()\n",
    "ax.set_xlabel(r'$\\delta$')\n",
    "ax.set_ylabel(r'STD of MI between A and B [$\\log2$]')\n",
    "fig.tight_layout()\n",
    "fig.savefig('/mnt/d/kitp/Rp_SPT/5/mutual_info_Ap_En{:d}.pdf'.format(es),bbox_inches='tight')\n"
   ],
   "outputs": [],
   "metadata": {}
  },
  {
   "cell_type": "code",
   "execution_count": null,
   "source": [
    "es=10000\n",
    "with open('/mnt/d/KITP/Rp_SPT/5/mutual_info_Ap_En{:d}.pickle'.format(es),'rb') as f:\n",
    "    delta_dict_para,mutual_info_dis_dict_para=pickle.load(f)"
   ],
   "outputs": [],
   "metadata": {}
  },
  {
   "cell_type": "code",
   "execution_count": null,
   "source": [
    "fig,axs=plt.subplots(2,1,figsize=(6.8,6.8),sharex=True)\n",
    "colorlist='bgrcmyk'\n",
    "ax=axs[0]\n",
    "for i,color in zip(delta_dict_para.keys(),colorlist):\n",
    "    ax.plot(delta_dict_para[i],remove_outlier(mutual_info_dis_dict_para[i]).mean(axis=1)/np.log(2),'.-',label='Number of gates: {}'.format(i),color=color)\n",
    "\n",
    "ax.legend()\n",
    "# ax.set_xlabel(r'$\\delta$')\n",
    "ax.set_ylabel(r'Mutual information between A and B [$\\log2$]')\n",
    "\n",
    "ax=axs[1]\n",
    "for i,color in zip(delta_dict_para.keys(),colorlist):\n",
    "    ax.plot(delta_dict_para[i],remove_outlier(mutual_info_dis_dict_para[i]).std(axis=1)/np.log(2),'.-',label='Number of gates: {}'.format(i),color=color)\n",
    "\n",
    "ax.legend()\n",
    "ax.set_xlabel(r'$\\delta$')\n",
    "ax.set_ylabel(r'STD of MI between A and B [$\\log2$]')\n",
    "fig.tight_layout()\n",
    "fig.savefig('/mnt/d/kitp/Rp_SPT/5/mutual_info_Ap_En{:d}.pdf'.format(es),bbox_inches='tight')\n"
   ],
   "outputs": [],
   "metadata": {}
  },
  {
   "cell_type": "markdown",
   "source": [
    "# Measure all gates to intermedate region with same projection"
   ],
   "metadata": {}
  },
  {
   "cell_type": "markdown",
   "source": [
    "## Measurement on A or B after projection"
   ],
   "metadata": {}
  },
  {
   "cell_type": "markdown",
   "source": [
    "### no measurment"
   ],
   "metadata": {}
  },
  {
   "cell_type": "code",
   "execution_count": 64,
   "source": [
    "params=Params(delta=0,L=64,bc=-1,basis='f')"
   ],
   "outputs": [],
   "metadata": {}
  },
  {
   "cell_type": "code",
   "execution_count": 65,
   "source": [
    "params.mutual_information_m(np.arange(params.L//4),np.arange(params.L//4)+params.L//2)"
   ],
   "outputs": [
    {
     "output_type": "execute_result",
     "data": {
      "text/plain": [
       "0.1154441687082024"
      ]
     },
     "metadata": {},
     "execution_count": 65
    }
   ],
   "metadata": {}
  },
  {
   "cell_type": "code",
   "execution_count": 79,
   "source": [
    "delta_list=np.linspace(-1,1,100)**3\n",
    "MI_list=[]\n",
    "LN_list=[]\n",
    "\n",
    "for delta in delta_list:\n",
    "    params=Params(delta=delta,L=64,bc=-1,basis='f')\n",
    "    MI_list.append(params.mutual_information_m(np.arange(params.L//4),np.arange(params.L//4)+params.L//2))\n",
    "    LN_list.append(params.log_neg(np.arange(params.L//4),np.arange(params.L//4)+params.L//2))"
   ],
   "outputs": [],
   "metadata": {}
  },
  {
   "cell_type": "markdown",
   "source": [
    "### all projections to 0 (emtpy) charge=1\n"
   ],
   "metadata": {}
  },
  {
   "cell_type": "code",
   "execution_count": 90,
   "source": [
    "MI_pos_list=[]\n",
    "LN_pos_list=[]\n",
    "for delta in delta_list:\n",
    "    params=Params(delta=delta,L=64,bc=-1)\n",
    "    params.measure_all(1)\n",
    "    MI_pos_list.append(params.mutual_information_m(np.arange(params.L//4),np.arange(params.L//4)+params.L//2))\n",
    "    LN_pos_list.append(params.log_neg(np.arange(params.L//4),np.arange(params.L//4)+params.L//2))"
   ],
   "outputs": [],
   "metadata": {}
  },
  {
   "cell_type": "code",
   "execution_count": 92,
   "source": [
    "plt.plot(delta_list,LN_pos_list)"
   ],
   "outputs": [
    {
     "output_type": "execute_result",
     "data": {
      "text/plain": [
       "[<matplotlib.lines.Line2D at 0x7f7711f940d0>]"
      ]
     },
     "metadata": {},
     "execution_count": 92
    },
    {
     "output_type": "display_data",
     "data": {
      "text/plain": [
       "<Figure size 489.6x288 with 1 Axes>"
      ],
      "image/png": "[encoded data removed]"
     },
     "metadata": {
      "needs_background": "light"
     }
    }
   ],
   "metadata": {}
  },
  {
   "cell_type": "markdown",
   "source": [
    "### all projections to 1 (occupied) charge=-1\n"
   ],
   "metadata": {}
  },
  {
   "cell_type": "code",
   "execution_count": 93,
   "source": [
    "MI_neg_list=[]\n",
    "LN_neg_list=[]\n",
    "for delta in delta_list:\n",
    "    params=Params(delta=delta,L=64,bc=-1)\n",
    "    params.measure_all(0)\n",
    "    MI_neg_list.append(params.mutual_information_m(np.arange(params.L//4),np.arange(params.L//4)+params.L//2))\n",
    "    LN_neg_list.append(params.log_neg(np.arange(params.L//4),np.arange(params.L//4)+params.L//2))"
   ],
   "outputs": [],
   "metadata": {}
  },
  {
   "cell_type": "code",
   "execution_count": 94,
   "source": [
    "plt.plot(delta_list,LN_neg_list)"
   ],
   "outputs": [
    {
     "output_type": "execute_result",
     "data": {
      "text/plain": [
       "[<matplotlib.lines.Line2D at 0x7f77101a5310>]"
      ]
     },
     "metadata": {},
     "execution_count": 94
    },
    {
     "output_type": "display_data",
     "data": {
      "text/plain": [
       "<Figure size 489.6x288 with 1 Axes>"
      ],
      "image/png": "[encoded data removed]"
     },
     "metadata": {
      "needs_background": "light"
     }
    }
   ],
   "metadata": {}
  },
  {
   "cell_type": "markdown",
   "source": [
    "### all projections to 0 followed by measuring 0 within A "
   ],
   "metadata": {}
  },
  {
   "cell_type": "code",
   "execution_count": null,
   "source": [
    "mutual_info_pos_post0A_list=[]\n",
    "for delta in delta_list:\n",
    "    params=Params(delta=delta,L=64,bc=-1)\n",
    "    params.measure_all(1)\n",
    "    params.measure(0,0,1)\n",
    "    mutual_info_pos_post0A_list.append(params.mutual_information_m(np.arange(int(params.L/2)),np.arange(params.L/2)+params.L))"
   ],
   "outputs": [],
   "metadata": {}
  },
  {
   "cell_type": "code",
   "execution_count": null,
   "source": [
    "LN_pos_post0A_list=[]\n",
    "for delta in delta_list:\n",
    "    params=Params(delta=delta,L=64,bc=-1)\n",
    "    params.measure_all(1)\n",
    "    params.measure(0,0,1)\n",
    "    LN_pos_post0A_list.append(params.log_neg())"
   ],
   "outputs": [],
   "metadata": {}
  },
  {
   "cell_type": "markdown",
   "source": [
    "### all projections to 0 followed by measuring 0 within A and B\n"
   ],
   "metadata": {}
  },
  {
   "cell_type": "code",
   "execution_count": null,
   "source": [
    "mutual_info_pos_post0AB_list=[]\n",
    "for delta in delta_list:\n",
    "    params=Params(delta=delta,L=64,bc=-1)\n",
    "    params.measure_all(1)\n",
    "    params.measure(0,0,1)\n",
    "    params.measure(0,64,65)\n",
    "    mutual_info_pos_post0AB_list.append(params.mutual_information_m(np.arange(int(params.L/2)),np.arange(params.L/2)+params.L))"
   ],
   "outputs": [],
   "metadata": {}
  },
  {
   "cell_type": "code",
   "execution_count": null,
   "source": [
    "LN_pos_post0AB_list=[]\n",
    "for delta in delta_list:\n",
    "    params=Params(delta=delta,L=64,bc=-1)\n",
    "    params.measure_all(1)\n",
    "    params.measure(0,0,1)\n",
    "    params.measure(0,64,65)\n",
    "    LN_pos_post0AB_list.append(params.log_neg())"
   ],
   "outputs": [],
   "metadata": {}
  },
  {
   "cell_type": "code",
   "execution_count": null,
   "source": [
    "plt.plot(delta_list,LN_pos_post1A_B_list)"
   ],
   "outputs": [],
   "metadata": {}
  },
  {
   "cell_type": "markdown",
   "source": [
    "### all projections to 0 followed by measuring 0 within all A"
   ],
   "metadata": {}
  },
  {
   "cell_type": "code",
   "execution_count": null,
   "source": [
    "mutual_info_pos_post0A_all_list=[]\n",
    "for delta in delta_list:\n",
    "    params=Params(delta=delta,L=64,bc=-1)\n",
    "    params.measure_all(1)\n",
    "    [params.measure(0,i,i+1) for i in range(0,int(params.L/2),2)]\n",
    "    mutual_info_pos_post0A_all_list.append(params.mutual_information_m(np.arange(int(params.L/2)),np.arange(params.L/2)+params.L))"
   ],
   "outputs": [],
   "metadata": {}
  },
  {
   "cell_type": "code",
   "execution_count": null,
   "source": [
    "LN_pos_post0A_all_list=[]\n",
    "for delta in delta_list:\n",
    "    params=Params(delta=delta,L=64,bc=-1)\n",
    "    params.measure_all(1)\n",
    "    [params.measure(0,i,i+1) for i in range(0,int(params.L/2),2)]\n",
    "    LN_pos_post0A_all_list.append(params.log_neg())"
   ],
   "outputs": [],
   "metadata": {}
  },
  {
   "cell_type": "markdown",
   "source": [
    "### all projections to 0 followed by measuring 0 within all A & B"
   ],
   "metadata": {}
  },
  {
   "cell_type": "code",
   "execution_count": null,
   "source": [
    "mutual_info_pos_post0AB_all_list=[]\n",
    "for delta in delta_list:\n",
    "    params=Params(delta=delta,L=64,bc=-1)\n",
    "    params.measure_all(1)\n",
    "    [params.measure(0,i,i+1) for i in range(0,int(params.L/2),2)]\n",
    "    [params.measure(0,i+params.L,i+1+params.L) for i in range(0,int(params.L/2),2)]\n",
    "    mutual_info_pos_post0AB_all_list.append(params.mutual_information_m(np.arange(int(params.L/2)),np.arange(params.L/2)+params.L))"
   ],
   "outputs": [],
   "metadata": {}
  },
  {
   "cell_type": "code",
   "execution_count": null,
   "source": [
    "LN_pos_post0AB_all_list=[]\n",
    "for delta in delta_list:\n",
    "    params=Params(delta=delta,L=64,bc=-1)\n",
    "    params.measure_all(1)\n",
    "    [params.measure(0,i,i+1) for i in range(0,int(params.L/2),2)]\n",
    "    [params.measure(0,i+params.L,i+1+params.L) for i in range(0,int(params.L/2),2)]\n",
    "    LN_pos_post0AB_all_list.append(params.log_neg())"
   ],
   "outputs": [],
   "metadata": {}
  },
  {
   "cell_type": "markdown",
   "source": [
    "### all projections to 0 followed by measuring 1 within all A"
   ],
   "metadata": {}
  },
  {
   "cell_type": "code",
   "execution_count": null,
   "source": [
    "mutual_info_pos_post1A_all_list=[]\n",
    "for delta in delta_list:\n",
    "    params=Params(delta=delta,L=64,bc=-1)\n",
    "    params.measure_all(1)\n",
    "    [params.measure(1,i,i+1) for i in range(0,int(params.L/2),2)]\n",
    "    mutual_info_pos_post1A_all_list.append(params.mutual_information_m(np.arange(int(params.L/2)),np.arange(params.L/2)+params.L))"
   ],
   "outputs": [],
   "metadata": {}
  },
  {
   "cell_type": "code",
   "execution_count": null,
   "source": [
    "LN_pos_post1A_all_list=[]\n",
    "for delta in delta_list:\n",
    "    params=Params(delta=delta,L=64,bc=-1)\n",
    "    params.measure_all(1)\n",
    "    [params.measure(1,i,i+1) for i in range(0,int(params.L/2),2)]\n",
    "    LN_pos_post1A_all_list.append(params.log_neg())"
   ],
   "outputs": [],
   "metadata": {}
  },
  {
   "cell_type": "markdown",
   "source": [
    "### all projections to 0 followed by measuring 1 within all A & B"
   ],
   "metadata": {}
  },
  {
   "cell_type": "code",
   "execution_count": null,
   "source": [
    "mutual_info_pos_post1AB_all_list=[]\n",
    "for delta in delta_list:\n",
    "    params=Params(delta=delta,L=64,bc=-1)\n",
    "    params.measure_all(1)\n",
    "    [params.measure(1,i,i+1) for i in range(0,int(params.L/2),2)]\n",
    "    [params.measure(1,i+params.L,i+1+params.L) for i in range(0,int(params.L/2),2)]\n",
    "    mutual_info_pos_post1AB_all_list.append(params.mutual_information_m(np.arange(int(params.L/2)),np.arange(params.L/2)+params.L))"
   ],
   "outputs": [],
   "metadata": {}
  },
  {
   "cell_type": "code",
   "execution_count": null,
   "source": [
    "LN_pos_post1AB_all_list=[]\n",
    "for delta in delta_list:\n",
    "    params=Params(delta=delta,L=64,bc=-1)\n",
    "    params.measure_all(1)\n",
    "    [params.measure(1,i,i+1) for i in range(0,int(params.L/2),2)]\n",
    "    [params.measure(1,i+params.L,i+1+params.L) for i in range(0,int(params.L/2),2)]\n",
    "    LN_pos_post1AB_all_list.append(params.log_neg())"
   ],
   "outputs": [],
   "metadata": {}
  },
  {
   "cell_type": "markdown",
   "source": [
    "### all projections to 0 followed by measuring 1 within A "
   ],
   "metadata": {}
  },
  {
   "cell_type": "code",
   "execution_count": null,
   "source": [
    "mutual_info_pos_post1A_list=[]\n",
    "for delta in delta_list:\n",
    "    params=Params(delta=delta,L=64,bc=-1)\n",
    "    params.measure_all(1)\n",
    "    params.measure(1,0,1)\n",
    "    mutual_info_pos_post1A_list.append(params.mutual_information_m(np.arange(int(params.L/2)),np.arange(params.L/2)+params.L))"
   ],
   "outputs": [],
   "metadata": {}
  },
  {
   "cell_type": "code",
   "execution_count": null,
   "source": [
    "LN_pos_post1A_list=[]\n",
    "for delta in delta_list:\n",
    "    params=Params(delta=delta,L=64,bc=-1)\n",
    "    params.measure_all(1)\n",
    "    params.measure(1,0,1)\n",
    "    LN_pos_post1A_list.append(params.log_neg())"
   ],
   "outputs": [],
   "metadata": {}
  },
  {
   "cell_type": "markdown",
   "source": [
    "### all projections to 0 followed by measuring 1 within A and B"
   ],
   "metadata": {}
  },
  {
   "cell_type": "code",
   "execution_count": null,
   "source": [
    "mutual_info_pos_post1AB_list=[]\n",
    "for delta in delta_list:\n",
    "    params=Params(delta=delta,L=64,bc=-1)\n",
    "    params.measure_all(1)\n",
    "    params.measure(1,0,1)\n",
    "    params.measure(1,64,65)\n",
    "    mutual_info_pos_post1AB_list.append(params.mutual_information_m(np.arange(int(params.L/2)),np.arange(params.L/2)+params.L))"
   ],
   "outputs": [],
   "metadata": {}
  },
  {
   "cell_type": "code",
   "execution_count": null,
   "source": [
    "LN_pos_post1AB_list=[]\n",
    "for delta in delta_list:\n",
    "    params=Params(delta=delta,L=64,bc=-1)\n",
    "    params.measure_all(1)\n",
    "    params.measure(1,0,1)\n",
    "    params.measure(1,64,65)\n",
    "    LN_pos_post1AB_list.append(params.log_neg())"
   ],
   "outputs": [],
   "metadata": {}
  },
  {
   "cell_type": "markdown",
   "source": [
    "### all projections to 0 followed by measuring 0 cross AB"
   ],
   "metadata": {}
  },
  {
   "cell_type": "code",
   "execution_count": null,
   "source": [
    "mutual_info_pos_post0A_B_list=[]\n",
    "for delta in delta_list:\n",
    "    params=Params(delta=delta,L=64,bc=-1)\n",
    "    params.measure_all(1)\n",
    "    params.measure(0,0,64)\n",
    "    mutual_info_pos_post0A_B_list.append(params.mutual_information_m(np.arange(int(params.L/2)),np.arange(params.L/2)+params.L))"
   ],
   "outputs": [],
   "metadata": {}
  },
  {
   "cell_type": "code",
   "execution_count": null,
   "source": [
    "LN_pos_post0A_B_list=[]\n",
    "for delta in delta_list:\n",
    "    params=Params(delta=delta,L=64,bc=-1)\n",
    "    params.measure_all(1)\n",
    "    params.measure(0,0,64)\n",
    "    LN_pos_post0A_B_list.append(params.log_neg())"
   ],
   "outputs": [],
   "metadata": {}
  },
  {
   "cell_type": "markdown",
   "source": [
    "### all projections to 0 followed by measuring 1 cross AB"
   ],
   "metadata": {}
  },
  {
   "cell_type": "code",
   "execution_count": null,
   "source": [
    "mutual_info_pos_post1A_B_list=[]\n",
    "for delta in delta_list:\n",
    "    params=Params(delta=delta,L=64,bc=-1)\n",
    "    params.measure_all(1)\n",
    "    params.measure(1,0,64)\n",
    "    mutual_info_pos_post1A_B_list.append(params.mutual_information_m(np.arange(int(params.L/2)),np.arange(params.L/2)+params.L))"
   ],
   "outputs": [],
   "metadata": {}
  },
  {
   "cell_type": "code",
   "execution_count": null,
   "source": [
    "LN_pos_post1A_B_list=[]\n",
    "for delta in delta_list:\n",
    "    params=Params(delta=delta,L=64,bc=-1)\n",
    "    params.measure_all(1)\n",
    "    params.measure(1,0,64)\n",
    "    LN_pos_post1A_B_list.append(params.log_neg())"
   ],
   "outputs": [],
   "metadata": {}
  },
  {
   "cell_type": "markdown",
   "source": [
    "project to 0/1?\n",
    "project within A, cross A and A', cross A and B, both within A and B sequentially\n"
   ],
   "metadata": {}
  },
  {
   "cell_type": "code",
   "execution_count": null,
   "source": [
    "fig,ax=plt.subplots(figsize=(6.8,4))\n",
    "colorlist=iter('bgrcmyk')\n",
    "ax.plot(delta_list,mutual_info_pos_list/np.log(2),'.-',label='None',color=colorlist.__next__())\n",
    "ax.plot(delta_list,mutual_info_pos_post0A_list/np.log(2),'.-',label=r'$\\Pi_{s=1}^{(1,2)}$',color=colorlist.__next__())\n",
    "ax.plot(delta_list,mutual_info_pos_post1A_list/np.log(2),'.-',label=r'$\\Pi_{s=-1}^{(1,2)}$',color=colorlist.__next__())\n",
    "ax.plot(delta_list,mutual_info_pos_post0AB_list/np.log(2),'.-',label=r'$\\Pi_{s=1}^{(1,2)} \\Pi_{s=1}^{(65,66)}$',color=colorlist.__next__())\n",
    "ax.plot(delta_list,mutual_info_pos_post1AB_list/np.log(2),'.-',label=r'$\\Pi_{s=-1}^{(1,2)} \\Pi_{s=-1}^{(65,66)}$',color=colorlist.__next__())\n",
    "ax.plot(delta_list,mutual_info_pos_post0A_B_list/np.log(2),'.-',label=r'$\\Pi_{s=1}^{(1,65)} $',color=colorlist.__next__())\n",
    "ax.plot(delta_list,mutual_info_pos_post1A_B_list/np.log(2),'.-',label=r'$\\Pi_{s=-1}^{(1,65)} $',color=colorlist.__next__())\n",
    "# ax.plot(delta_list,mutual_info_pos_post0A_all_list/np.log(2),'.-',label=r'measure all +1, $\\Pi_{i=1}^{16}\\Pi_{s=1}^{(2i-1,2i)} $',color='dimgray')\n",
    "# ax.plot(delta_list,mutual_info_pos_post1A_all_list/np.log(2),'.-',label=r'measure all +1, $\\Pi_{i=1}^{16}\\Pi_{s=-1}^{(2i-1,2i)} $',color='silver')\n",
    "\n",
    "ax.set_xlabel(r'$\\delta$')\n",
    "ax.set_ylabel(r'MI [$\\log 2$]')\n",
    "ax.legend(title='measure all +1, then ...')\n",
    "fig.tight_layout()\n",
    "fig.savefig('/mnt/d/kitp/Rp_SPT/5/MI_pos_post.pdf',bbox_inches='tight')"
   ],
   "outputs": [],
   "metadata": {}
  },
  {
   "cell_type": "code",
   "execution_count": null,
   "source": [
    "fig,axs=plt.subplots(2,1,figsize=(6.8,8))\n",
    "\n",
    "ax=axs[0]\n",
    "colorlist=iter('bgrcmyk')\n",
    "ax.plot(delta_list,mutual_info_pos_list/np.log(2),'.-',label='None',color=colorlist.__next__())\n",
    "ax.plot(delta_list,mutual_info_pos_post0A_list/np.log(2),'.-',label=r'$\\Pi_{s=1}^{(1,2)}$',color=colorlist.__next__())\n",
    "ax.plot(delta_list,mutual_info_pos_post1A_list/np.log(2),'.-',label=r'$\\Pi_{s=-1}^{(1,2)}$',color=colorlist.__next__())\n",
    "ax.plot(delta_list,mutual_info_pos_post0AB_list/np.log(2),'.-',label=r'$\\Pi_{s=1}^{(1,2)} \\Pi_{s=1}^{(65,66)}$',color=colorlist.__next__())\n",
    "ax.plot(delta_list,mutual_info_pos_post1AB_list/np.log(2),'.-',label=r'$\\Pi_{s=-1}^{(1,2)} \\Pi_{s=-1}^{(65,66)}$',color=colorlist.__next__())\n",
    "ax.plot(delta_list,mutual_info_pos_post0A_B_list/np.log(2),'.-',label=r'$\\Pi_{s=1}^{(1,65)} $',color=colorlist.__next__())\n",
    "ax.plot(delta_list,mutual_info_pos_post1A_B_list/np.log(2),'.-',label=r'$\\Pi_{s=-1}^{(1,65)} $',color=colorlist.__next__())\n",
    "# ax.plot(delta_list,mutual_info_pos_post0A_all_list/np.log(2),'.-',label=r'measure all +1, $\\Pi_{i=1}^{16}\\Pi_{s=1}^{(2i-1,2i)} $',color='dimgray')\n",
    "# ax.plot(delta_list,mutual_info_pos_post1A_all_list/np.log(2),'.-',label=r'measure all +1, $\\Pi_{i=1}^{16}\\Pi_{s=-1}^{(2i-1,2i)} $',color='silver')\n",
    "\n",
    "ax.set_xlabel(r'$\\delta$')\n",
    "ax.set_ylabel(r'MI [$\\log 2$]')\n",
    "ax.legend(title='measure all +1, then ...',loc=4)\n",
    "ax.grid('on')\n",
    "ax=axs[1]\n",
    "colorlist=iter('bgrcmyk')\n",
    "ax.plot(delta_list,LN_pos_list/np.log(2),'.-',label='None',color=colorlist.__next__())\n",
    "ax.plot(delta_list,LN_pos_post0A_list/np.log(2),'.-',label=r'$\\Pi_{s=1}^{(1,2)}$',color=colorlist.__next__())\n",
    "ax.plot(delta_list,LN_pos_post1A_list/np.log(2),'.-',label=r'$\\Pi_{s=-1}^{(1,2)}$',color=colorlist.__next__())\n",
    "ax.plot(delta_list,LN_pos_post0AB_list/np.log(2),'.-',label=r'$\\Pi_{s=1}^{(1,2)} \\Pi_{s=1}^{(65,66)}$',color=colorlist.__next__())\n",
    "ax.plot(delta_list,LN_pos_post1AB_list/np.log(2),'.-',label=r'$\\Pi_{s=-1}^{(1,2)} \\Pi_{s=-1}^{(65,66)}$',color=colorlist.__next__())\n",
    "ax.plot(delta_list,LN_pos_post0A_B_list/np.log(2),'.-',label=r'$\\Pi_{s=1}^{(1,65)} $',color=colorlist.__next__())\n",
    "ax.plot(delta_list,LN_pos_post1A_B_list/np.log(2),'.-',label=r'$\\Pi_{s=-1}^{(1,65)} $',color=colorlist.__next__())\n",
    "# ax.plot(delta_list,LN_pos_post0A_all_list/np.log(2),'.-',label=r'$\\Pi_{i=1}^{16}\\Pi_{s=1}^{(2i-1,2i)} $',color='dimgray')\n",
    "# ax.plot(delta_list,LN_pos_post1A_all_list/np.log(2),'.-',label=r'$\\Pi_{i=1}^{16}\\Pi_{s=-1}^{(2i-1,2i)} $',color='silver')\n",
    "\n",
    "ax.set_xlabel(r'$\\delta$')\n",
    "ax.set_ylabel(r'LN [$\\log 2$]')\n",
    "ax.legend(title='measure all +1, then ...',loc=4)\n",
    "ax.grid('on')\n",
    "fig.tight_layout()\n",
    "# fig.savefig('/mnt/d/kitp/Rp_SPT/5/MILN_pos_post.pdf',bbox_inches='tight')"
   ],
   "outputs": [],
   "metadata": {}
  },
  {
   "cell_type": "code",
   "execution_count": null,
   "source": [
    "fig,ax=plt.subplots(figsize=(6.8,4))\n",
    "colorlist=iter('bgrcmyk')\n",
    "ax.plot(delta_list,mutual_info_pos_list/np.log(2),'.-',label='measure all +1',color=colorlist.__next__())\n",
    "ax.plot(delta_list,mutual_info_pos_post0A_all_list/np.log(2),'.-',label=r'measure all +1, $\\Pi_{i=1}^{16}\\Pi_{s=1}^{(2i-1,2i)} $',color=colorlist.__next__())\n",
    "ax.plot(delta_list,mutual_info_pos_post1A_all_list/np.log(2),'.-',label=r'measure all +1, $\\Pi_{i=1}^{16}\\Pi_{s=-1}^{(2i-1,2i)} $',color=colorlist.__next__())\n",
    "# ax.plot(delta_list,mutual_info_pos_post0AB_all_list/np.log(2),'.-',label=r'measure all +1, $\\Pi_{i=1}^{16}\\Pi_{s=1}^{(2i-1,2i)} \\Pi_{i=32}^{48}\\Pi_{s=1}^{(2i,2i+1)} $',color=colorlist.__next__())\n",
    "# ax.plot(delta_list,mutual_info_pos_post1AB_all_list/np.log(2),'.-',label=r'measure all +1, $\\Pi_{i=1}^{16}\\Pi_{s=-1}^{(2i-1,2i)} \\Pi_{i=32}^{48}\\Pi_{s=-1}^{(2i,2i+1)}$',color=colorlist.__next__())\n",
    "\n",
    "ax.set_xlabel(r'$\\delta$')\n",
    "ax.set_ylabel(r'Mutual information [$\\log 2$]')\n",
    "ax.legend()\n",
    "fig.tight_layout()\n",
    "fig.savefig('/mnt/d/kitp/Rp_SPT/5/MI_pos_post_all.pdf',bbox_inches='tight')"
   ],
   "outputs": [],
   "metadata": {}
  },
  {
   "cell_type": "markdown",
   "source": [
    "### all projections to 1"
   ],
   "metadata": {}
  },
  {
   "cell_type": "code",
   "execution_count": null,
   "source": [
    "mutual_info_neg_list=[]\n",
    "for delta in delta_list:\n",
    "    params=Params(delta=delta,L=64,bc=-1)\n",
    "    params.measure_all(0)\n",
    "    mutual_info_neg_list.append(params.mutual_information_m(np.arange(int(params.L/2)),np.arange(params.L/2)+params.L))"
   ],
   "outputs": [],
   "metadata": {}
  },
  {
   "cell_type": "code",
   "execution_count": null,
   "source": [
    "LN_neg_list=[]\n",
    "for delta in delta_list:\n",
    "    params=Params(delta=delta,L=64,bc=-1)\n",
    "    params.measure_all(0)\n",
    "    LN_neg_list.append(params.log_neg())"
   ],
   "outputs": [],
   "metadata": {}
  },
  {
   "cell_type": "markdown",
   "source": [
    "### all projections to 1, followed by measuring 0 within A\n"
   ],
   "metadata": {}
  },
  {
   "cell_type": "code",
   "execution_count": null,
   "source": [
    "mutual_info_neg_post0A_list=[]\n",
    "for delta in delta_list:\n",
    "    params=Params(delta=delta,L=64,bc=-1)\n",
    "    params.measure_all(0)\n",
    "    params.measure(0,0,1)\n",
    "    mutual_info_neg_post0A_list.append(params.mutual_information_m(np.arange(int(params.L/2)),np.arange(params.L/2)+params.L))"
   ],
   "outputs": [],
   "metadata": {}
  },
  {
   "cell_type": "code",
   "execution_count": null,
   "source": [
    "LN_neg_post0A_list=[]\n",
    "for delta in delta_list:\n",
    "    params=Params(delta=delta,L=64,bc=-1)\n",
    "    params.measure_all(0)\n",
    "    params.measure(0,0,1)\n",
    "    LN_neg_post0A_list.append(params.log_neg())"
   ],
   "outputs": [],
   "metadata": {}
  },
  {
   "cell_type": "markdown",
   "source": [
    "### all projections to 1 followed by measuring 0 within all A \n"
   ],
   "metadata": {}
  },
  {
   "cell_type": "code",
   "execution_count": null,
   "source": [
    "mutual_info_neg_post0A_all_list=[]\n",
    "for delta in delta_list:\n",
    "    params=Params(delta=delta,L=64,bc=-1)\n",
    "    params.measure_all(0)\n",
    "    [params.measure(0,i,i+1) for i in range(0,int(params.L/2),2)]\n",
    "    mutual_info_neg_post0A_all_list.append(params.mutual_information_m(np.arange(int(params.L/2)),np.arange(params.L/2)+params.L))"
   ],
   "outputs": [],
   "metadata": {}
  },
  {
   "cell_type": "code",
   "execution_count": null,
   "source": [
    "LN_neg_post0A_all_list=[]\n",
    "for delta in delta_list:\n",
    "    params=Params(delta=delta,L=64,bc=-1)\n",
    "    params.measure_all(0)\n",
    "    [params.measure(0,i,i+1) for i in range(0,int(params.L/2),2)]\n",
    "    LN_neg_post0A_all_list.append(params.log_neg())"
   ],
   "outputs": [],
   "metadata": {}
  },
  {
   "cell_type": "markdown",
   "source": [
    "### all projections to 1, followed by measuring 1 within A"
   ],
   "metadata": {}
  },
  {
   "cell_type": "code",
   "execution_count": null,
   "source": [
    "mutual_info_neg_post1A_list=[]\n",
    "for delta in delta_list:\n",
    "    params=Params(delta=delta,L=64,bc=-1)\n",
    "    params.measure_all(0)\n",
    "    params.measure(1,0,1)\n",
    "    mutual_info_neg_post1A_list.append(params.mutual_information_m(np.arange(int(params.L/2)),np.arange(params.L/2)+params.L))"
   ],
   "outputs": [],
   "metadata": {}
  },
  {
   "cell_type": "code",
   "execution_count": null,
   "source": [
    "LN_neg_post1A_list=[]\n",
    "for delta in delta_list:\n",
    "    params=Params(delta=delta,L=64,bc=-1)\n",
    "    params.measure_all(0)\n",
    "    params.measure(1,0,1)\n",
    "    LN_neg_post1A_list.append(params.log_neg())"
   ],
   "outputs": [],
   "metadata": {}
  },
  {
   "cell_type": "markdown",
   "source": [
    "### all projections to 1 followed by measuring 1 within all A \n"
   ],
   "metadata": {}
  },
  {
   "cell_type": "code",
   "execution_count": null,
   "source": [
    "mutual_info_neg_post1A_all_list=[]\n",
    "for delta in delta_list:\n",
    "    params=Params(delta=delta,L=64,bc=-1)\n",
    "    params.measure_all(0)\n",
    "    [params.measure(1,i,i+1) for i in range(0,int(params.L/2),2)]\n",
    "    mutual_info_neg_post1A_all_list.append(params.mutual_information_m(np.arange(int(params.L/2)),np.arange(params.L/2)+params.L))"
   ],
   "outputs": [],
   "metadata": {}
  },
  {
   "cell_type": "code",
   "execution_count": null,
   "source": [
    "LN_neg_post1A_all_list=[]\n",
    "for delta in delta_list:\n",
    "    params=Params(delta=delta,L=64,bc=-1)\n",
    "    params.measure_all(0)\n",
    "    [params.measure(1,i,i+1) for i in range(0,int(params.L/2),2)]\n",
    "    LN_neg_post1A_all_list.append(params.log_neg())"
   ],
   "outputs": [],
   "metadata": {}
  },
  {
   "cell_type": "markdown",
   "source": [
    "### all projections to 1, followed by measuring 0 within A and B\n"
   ],
   "metadata": {}
  },
  {
   "cell_type": "code",
   "execution_count": null,
   "source": [
    "mutual_info_neg_post0AB_list=[]\n",
    "for delta in delta_list:\n",
    "    params=Params(delta=delta,L=64,bc=-1)\n",
    "    params.measure_all(0)\n",
    "    params.measure(0,0,1)\n",
    "    params.measure(0,64,65)\n",
    "    mutual_info_neg_post0AB_list.append(params.mutual_information_m(np.arange(int(params.L/2)),np.arange(params.L/2)+params.L))"
   ],
   "outputs": [],
   "metadata": {}
  },
  {
   "cell_type": "code",
   "execution_count": null,
   "source": [
    "LN_neg_post0AB_list=[]\n",
    "for delta in delta_list:\n",
    "    params=Params(delta=delta,L=64,bc=-1)\n",
    "    params.measure_all(0)\n",
    "    params.measure(0,0,1)\n",
    "    params.measure(0,64,65)\n",
    "    LN_neg_post0AB_list.append(params.log_neg())"
   ],
   "outputs": [],
   "metadata": {}
  },
  {
   "cell_type": "markdown",
   "source": [
    "### all projections to 1, followed by measuring 1 within A and B\n"
   ],
   "metadata": {}
  },
  {
   "cell_type": "code",
   "execution_count": null,
   "source": [
    "mutual_info_neg_post1AB_list=[]\n",
    "for delta in delta_list:\n",
    "    params=Params(delta=delta,L=64,bc=-1)\n",
    "    params.measure_all(0)\n",
    "    params.measure(1,0,1)\n",
    "    params.measure(1,64,65)\n",
    "    mutual_info_neg_post1AB_list.append(params.mutual_information_m(np.arange(int(params.L/2)),np.arange(params.L/2)+params.L))"
   ],
   "outputs": [],
   "metadata": {}
  },
  {
   "cell_type": "code",
   "execution_count": null,
   "source": [
    "LN_neg_post1AB_list=[]\n",
    "for delta in delta_list:\n",
    "    params=Params(delta=delta,L=64,bc=-1)\n",
    "    params.measure_all(0)\n",
    "    params.measure(1,0,1)\n",
    "    params.measure(1,64,65)\n",
    "    LN_neg_post1AB_list.append(params.log_neg())"
   ],
   "outputs": [],
   "metadata": {}
  },
  {
   "cell_type": "markdown",
   "source": [
    "### all projections to 0 followed by measuring 0 cross AB\n"
   ],
   "metadata": {}
  },
  {
   "cell_type": "code",
   "execution_count": null,
   "source": [
    "mutual_info_neg_post0A_B_list=[]\n",
    "for delta in delta_list:\n",
    "    params=Params(delta=delta,L=64,bc=-1)\n",
    "    params.measure_all(0)\n",
    "    params.measure(0,0,64)\n",
    "    mutual_info_neg_post0A_B_list.append(params.mutual_information_m(np.arange(int(params.L/2)),np.arange(params.L/2)+params.L))"
   ],
   "outputs": [],
   "metadata": {}
  },
  {
   "cell_type": "code",
   "execution_count": null,
   "source": [
    "LN_neg_post0A_B_list=[]\n",
    "for delta in delta_list:\n",
    "    params=Params(delta=delta,L=64,bc=-1)\n",
    "    params.measure_all(0)\n",
    "    params.measure(0,0,64)\n",
    "    LN_neg_post0A_B_list.append(params.log_neg())"
   ],
   "outputs": [],
   "metadata": {}
  },
  {
   "cell_type": "markdown",
   "source": [
    "### all projections to 0 followed by measuring 1 cross AB\n"
   ],
   "metadata": {}
  },
  {
   "cell_type": "code",
   "execution_count": null,
   "source": [
    "mutual_info_neg_post1A_B_list=[]\n",
    "for delta in delta_list:\n",
    "    params=Params(delta=delta,L=64,bc=-1)\n",
    "    params.measure_all(0)\n",
    "    params.measure(1,0,64)\n",
    "    mutual_info_neg_post1A_B_list.append(params.mutual_information_m(np.arange(int(params.L/2)),np.arange(params.L/2)+params.L))"
   ],
   "outputs": [],
   "metadata": {}
  },
  {
   "cell_type": "code",
   "execution_count": null,
   "source": [
    "LN_neg_post1A_B_list=[]\n",
    "for delta in delta_list:\n",
    "    params=Params(delta=delta,L=64,bc=-1)\n",
    "    params.measure_all(0)\n",
    "    params.measure(1,0,64)\n",
    "    LN_neg_post1A_B_list.append(params.log_neg())"
   ],
   "outputs": [],
   "metadata": {}
  },
  {
   "cell_type": "code",
   "execution_count": null,
   "source": [
    "fig,ax=plt.subplots(figsize=(6.8,4))\n",
    "colorlist=iter('bgrcmyk')\n",
    "ax.plot(delta_list,mutual_info_neg_list/np.log(2),'.-',label='measure all -1',color=colorlist.__next__())\n",
    "ax.plot(delta_list,mutual_info_neg_post0A_list/np.log(2),'.-',label=r'measure all -1, $\\Pi_{s=1}^{(0,1)}$',color=colorlist.__next__())\n",
    "ax.plot(delta_list,mutual_info_neg_post1A_list/np.log(2),'.-',label=r'measure all -1, $\\Pi_{s=-1}^{(0,1)}$',color=colorlist.__next__())\n",
    "ax.plot(delta_list,mutual_info_neg_post0AB_list/np.log(2),'.-',label=r'measure all -1, $\\Pi_{s=1}^{(0,1)} \\Pi_{s=1}^{(64,65)}$',color=colorlist.__next__())\n",
    "ax.plot(delta_list,mutual_info_neg_post1AB_list/np.log(2),'.-',label=r'measure all -1, $\\Pi_{s=-1}^{(0,1)} \\Pi_{s=-1}^{(64,65)}$',color=colorlist.__next__())\n",
    "ax.plot(delta_list,mutual_info_neg_post0A_B_list/np.log(2),'.-',label=r'measure all -1, $\\Pi_{s=1}^{(0,64)} $',color=colorlist.__next__())\n",
    "ax.plot(delta_list,mutual_info_neg_post1A_B_list/np.log(2),'.-',label=r'measure all -1, $\\Pi_{s=-1}^{(0,64)} $',color=colorlist.__next__())\n",
    "# ax.plot(delta_list,mutual_info_neg_post0A_all_list/np.log(2),'.-',label=r'measure all -1, $\\Pi_{i=1}^{16}\\Pi_{s=1}^{(2i-1,2i)} $',color='dimgray')\n",
    "# ax.plot(delta_list,mutual_info_neg_post1A_all_list/np.log(2),'.-',label=r'measure all -1, $\\Pi_{i=1}^{16}\\Pi_{s=-1}^{(2i-1,2i)} $',color='silver')\n",
    "\n",
    "\n",
    "ax.set_xlabel(r'$\\delta$')\n",
    "ax.set_ylabel(r'Mutual information [$\\log 2$]')\n",
    "ax.legend()\n",
    "fig.tight_layout()\n",
    "# fig.savefig('/mnt/d/kitp/Rp_SPT/5/MI_neg_post.pdf',bbox_inches='tight')"
   ],
   "outputs": [],
   "metadata": {}
  },
  {
   "cell_type": "code",
   "execution_count": null,
   "source": [
    "fig,axs=plt.subplots(2,1,figsize=(6.8,8))\n",
    "ax=axs[0]\n",
    "colorlist=iter('bgrcmyk')\n",
    "ax.plot(delta_list,mutual_info_neg_list/np.log(2),'.-',label='None',color=colorlist.__next__())\n",
    "ax.plot(delta_list,mutual_info_neg_post0A_list/np.log(2),'.-',label=r'$\\Pi_{s=1}^{(1,2)}$',color=colorlist.__next__())\n",
    "ax.plot(delta_list,mutual_info_neg_post1A_list/np.log(2),'.-',label=r'$\\Pi_{s=-1}^{(1,2)}$',color=colorlist.__next__())\n",
    "ax.plot(delta_list,mutual_info_neg_post0AB_list/np.log(2),'.-',label=r'$\\Pi_{s=1}^{(1,2)} \\Pi_{s=1}^{(65,66)}$',color=colorlist.__next__())\n",
    "ax.plot(delta_list,mutual_info_neg_post1AB_list/np.log(2),'.-',label=r'$\\Pi_{s=-1}^{(1,2)} \\Pi_{s=-1}^{(65,66)}$',color=colorlist.__next__())\n",
    "ax.plot(delta_list,mutual_info_neg_post0A_B_list/np.log(2),'.-',label=r'$\\Pi_{s=1}^{(1,65)} $',color=colorlist.__next__())\n",
    "ax.plot(delta_list,mutual_info_neg_post1A_B_list/np.log(2),'.-',label=r'$\\Pi_{s=-1}^{(1,65)} $',color=colorlist.__next__())\n",
    "# ax.plot(delta_list,mutual_info_neg_post0A_all_list/np.log(2),'.-',label=r'measure all -1, $\\Pi_{i=1}^{16}\\Pi_{s=1}^{(2i-1,2i)} $',color='dimgray')\n",
    "# ax.plot(delta_list,mutual_info_neg_post1A_all_list/np.log(2),'.-',label=r'measure all -1, $\\Pi_{i=1}^{16}\\Pi_{s=-1}^{(2i-1,2i)} $',color='silver')\n",
    "\n",
    "\n",
    "ax.set_xlabel(r'$\\delta$')\n",
    "ax.set_ylabel(r'MI [$\\log 2$]')\n",
    "ax.legend(title='measure all -1, then ...',loc=4)\n",
    "\n",
    "\n",
    "ax=axs[1]\n",
    "colorlist=iter('bgrcmyk')\n",
    "ax.plot(delta_list,LN_neg_list/np.log(2),'.-',label='None',color=colorlist.__next__())\n",
    "ax.plot(delta_list,LN_neg_post0A_list/np.log(2),'.-',label=r'$\\Pi_{s=1}^{(1,2)}$',color=colorlist.__next__())\n",
    "ax.plot(delta_list,LN_neg_post1A_list/np.log(2),'.-',label=r'$\\Pi_{s=-1}^{(1,2)}$',color=colorlist.__next__())\n",
    "ax.plot(delta_list,LN_neg_post0AB_list/np.log(2),'.-',label=r'$\\Pi_{s=1}^{(1,2)} \\Pi_{s=1}^{(65,66)}$',color=colorlist.__next__())\n",
    "ax.plot(delta_list,LN_neg_post1AB_list/np.log(2),'.-',label=r'$\\Pi_{s=-1}^{(1,2)} \\Pi_{s=-1}^{(65,66)}$',color=colorlist.__next__())\n",
    "ax.plot(delta_list,LN_neg_post0A_B_list/np.log(2),'.-',label=r'$\\Pi_{s=1}^{(1,65)} $',color=colorlist.__next__())\n",
    "ax.plot(delta_list,LN_neg_post1A_B_list/np.log(2),'.-',label=r'$\\Pi_{s=-1}^{(1,65)} $',color=colorlist.__next__())\n",
    "\n",
    "\n",
    "ax.set_xlabel(r'$\\delta$')\n",
    "ax.set_ylabel(r'LN [$\\log 2$]')\n",
    "ax.legend(title='measure all -1, then ...',loc=4)\n",
    "\n",
    "fig.tight_layout()\n",
    "fig.savefig('/mnt/d/kitp/Rp_SPT/5/MILN_neg_post.pdf',bbox_inches='tight')"
   ],
   "outputs": [],
   "metadata": {}
  },
  {
   "cell_type": "markdown",
   "source": [
    "## Random probabilty"
   ],
   "metadata": {}
  },
  {
   "cell_type": "code",
   "execution_count": null,
   "source": [
    "with open('mutual_info_s_prob_En20.pickle','rb') as f:\n",
    "    delta_s_prob_list,MI_s_prob_list=pickle.load(f)"
   ],
   "outputs": [],
   "metadata": {}
  },
  {
   "cell_type": "code",
   "execution_count": null,
   "source": [
    "fig,ax=plt.subplots()\n",
    "for i in delta_s_prob_list.keys():\n",
    "    ax.plot(delta_s_prob_list[i],np.array(MI_s_prob_list[i]).mean(axis=1)/np.log(2),label='Prob(s=0): {}'.format(i))\n",
    "    # ax.plot(delta_s_prob_list[i],np.array(MI_s_prob_list[i])/np.log(2),label='Number of gates: {}'.format(i))\n",
    "\n",
    "ax.legend()\n",
    "ax.set_xlabel(r'$\\delta$')\n",
    "ax.set_ylabel(r'Mutual information between A and B [$\\log2$]')\n",
    "\n",
    "# fig.savefig('/mnt/d/kitp/Rp_SPT/5/mutual_info_Ap_En200.pdf',bbox_inches='tight')\n"
   ],
   "outputs": [],
   "metadata": {}
  },
  {
   "cell_type": "code",
   "execution_count": null,
   "source": [
    "es=1000\n",
    "with open('/mnt/d/KITP/Rp_SPT/5/mutual_info_s_prob_En{:d}.pickle'.format(es),'rb') as f:\n",
    "    delta_dict_para,mutual_info_dis_dict_para=pickle.load(f)"
   ],
   "outputs": [],
   "metadata": {}
  },
  {
   "cell_type": "code",
   "execution_count": null,
   "source": [
    "fig,axs=plt.subplots(2,1,figsize=(6.8,6.8),sharex=True)\n",
    "colorlist='bgrcmyk'\n",
    "ax=axs[0]\n",
    "for i,color in zip(delta_dict_para.keys(),colorlist):\n",
    "    ax.plot(delta_dict_para[i],np.array(mutual_info_dis_dict_para[i]).mean(axis=1)/np.log(2),'.-',label=r'$P(s=0)={:.1f}$'.format(i),color=color)\n",
    "\n",
    "ax.legend()\n",
    "# ax.set_xlabel(r'$\\delta$')\n",
    "ax.set_ylabel(r'Mutual information between A and B [$\\log2$]')\n",
    "\n",
    "ax=axs[1]\n",
    "for i,color in zip(delta_dict_para.keys(),colorlist):\n",
    "    ax.plot(delta_dict_para[i],np.array(mutual_info_dis_dict_para[i]).std(axis=1)/np.log(2),'.-',label=r'$P(s=0)={:.1f}$'.format(i),color=color)\n",
    "\n",
    "ax.legend()\n",
    "ax.set_xlabel(r'$\\delta$')\n",
    "ax.set_ylabel(r'STD of MI between A and B [$\\log2$]')\n",
    "fig.tight_layout()\n",
    "fig.savefig('/mnt/d/kitp/Rp_SPT/5/mutual_info_s_prob_En{:d}.pdf'.format(es),bbox_inches='tight')\n"
   ],
   "outputs": [],
   "metadata": {}
  },
  {
   "cell_type": "code",
   "execution_count": null,
   "source": [
    "es=2000\n",
    "with open('/mnt/d/KITP/Rp_SPT/5/mutual_info_s_prob_En{:d}.pickle'.format(es),'rb') as f:\n",
    "    delta_dict_para,mutual_info_dis_dict_para=pickle.load(f)"
   ],
   "outputs": [],
   "metadata": {}
  },
  {
   "cell_type": "code",
   "execution_count": null,
   "source": [
    "fig,axs=plt.subplots(2,1,figsize=(6.8,6.8),sharex=True)\n",
    "colorlist='bgrcmyk'\n",
    "ax=axs[0]\n",
    "for i,color in zip(delta_dict_para.keys(),colorlist):\n",
    "    ax.plot(delta_dict_para[i],np.array(mutual_info_dis_dict_para[i]).mean(axis=1)/np.log(2),'.-',label=r'$P(s=0)={:.1f}$'.format(i),color=color)\n",
    "\n",
    "ax.legend()\n",
    "# ax.set_xlabel(r'$\\delta$')\n",
    "ax.set_ylabel(r'Mutual information between A and B [$\\log2$]')\n",
    "\n",
    "ax=axs[1]\n",
    "for i,color in zip(delta_dict_para.keys(),colorlist):\n",
    "    ax.plot(delta_dict_para[i],np.array(mutual_info_dis_dict_para[i]).std(axis=1)/np.log(2),'.-',label=r'$P(s=0)={:.1f}$'.format(i),color=color)\n",
    "\n",
    "ax.legend()\n",
    "ax.set_xlabel(r'$\\delta$')\n",
    "ax.set_ylabel(r'STD of MI between A and B [$\\log2$]')\n",
    "fig.tight_layout()\n",
    "fig.savefig('/mnt/d/kitp/Rp_SPT/5/mutual_info_s_prob_En{:d}.pdf'.format(es),bbox_inches='tight')\n"
   ],
   "outputs": [],
   "metadata": {}
  },
  {
   "cell_type": "code",
   "execution_count": null,
   "source": [
    "es=3000\n",
    "with open('/mnt/d/KITP/Rp_SPT/5/mutual_info_s_prob_En{:d}.pickle'.format(es),'rb') as f:\n",
    "    delta_dict_para,mutual_info_dis_dict_para=pickle.load(f)"
   ],
   "outputs": [],
   "metadata": {}
  },
  {
   "cell_type": "code",
   "execution_count": null,
   "source": [
    "fig,axs=plt.subplots(2,1,figsize=(6.8,6.8),sharex=True)\n",
    "colorlist='bgrcmyk'\n",
    "ax=axs[0]\n",
    "for i,color in zip(delta_dict_para.keys(),colorlist):\n",
    "    ax.plot(delta_dict_para[i],np.array(mutual_info_dis_dict_para[i]).mean(axis=1)/np.log(2),'.-',label=r'$P(s=0)={:.1f}$'.format(i),color=color)\n",
    "\n",
    "ax.legend()\n",
    "# ax.set_xlabel(r'$\\delta$')\n",
    "ax.set_ylabel(r'Mutual information between A and B [$\\log2$]')\n",
    "\n",
    "ax=axs[1]\n",
    "for i,color in zip(delta_dict_para.keys(),colorlist):\n",
    "    ax.plot(delta_dict_para[i],np.array(mutual_info_dis_dict_para[i]).std(axis=1)/np.log(2),'.-',label=r'$P(s=0)={:.1f}$'.format(i),color=color)\n",
    "\n",
    "ax.legend()\n",
    "ax.set_xlabel(r'$\\delta$')\n",
    "ax.set_ylabel(r'STD of MI between A and B [$\\log2$]')\n",
    "fig.tight_layout()\n",
    "fig.savefig('/mnt/d/kitp/Rp_SPT/5/mutual_info_s_prob_En{:d}.pdf'.format(es),bbox_inches='tight')\n"
   ],
   "outputs": [],
   "metadata": {}
  },
  {
   "cell_type": "code",
   "execution_count": null,
   "source": [
    "es=5000\n",
    "with open('/mnt/d/KITP/Rp_SPT/5/mutual_info_s_prob_En{:d}.pickle'.format(es),'rb') as f:\n",
    "    delta_dict_para,mutual_info_dis_dict_para=pickle.load(f)"
   ],
   "outputs": [],
   "metadata": {}
  },
  {
   "cell_type": "code",
   "execution_count": null,
   "source": [
    "fig,axs=plt.subplots(2,1,figsize=(6.8,6.8),sharex=True)\n",
    "colorlist='bgrcmyk'\n",
    "ax=axs[0]\n",
    "for i,color in zip(delta_dict_para.keys(),colorlist):\n",
    "    ax.plot(delta_dict_para[i],np.array(mutual_info_dis_dict_para[i]).mean(axis=1)/np.log(2),'.-',label=r'$P(s=0)={:.1f}$'.format(i),color=color)\n",
    "\n",
    "ax.legend()\n",
    "# ax.set_xlabel(r'$\\delta$')\n",
    "ax.set_ylabel(r'Mutual information between A and B [$\\log2$]')\n",
    "\n",
    "ax=axs[1]\n",
    "for i,color in zip(delta_dict_para.keys(),colorlist):\n",
    "    ax.plot(delta_dict_para[i],np.array(mutual_info_dis_dict_para[i]).std(axis=1)/np.log(2),'.-',label=r'$P(s=0)={:.1f}$'.format(i),color=color)\n",
    "\n",
    "ax.legend()\n",
    "ax.set_xlabel(r'$\\delta$')\n",
    "ax.set_ylabel(r'STD of MI between A and B [$\\log2$]')\n",
    "fig.tight_layout()\n",
    "fig.savefig('/mnt/d/kitp/Rp_SPT/5/mutual_info_s_prob_En{:d}.pdf'.format(es),bbox_inches='tight')\n"
   ],
   "outputs": [],
   "metadata": {}
  },
  {
   "cell_type": "code",
   "execution_count": null,
   "source": [
    "es=10000\n",
    "with open('/mnt/d/KITP/Rp_SPT/5/mutual_info_s_prob_En{:d}.pickle'.format(es),'rb') as f:\n",
    "    delta_dict_para,mutual_info_dis_dict_para=pickle.load(f)"
   ],
   "outputs": [],
   "metadata": {}
  },
  {
   "cell_type": "code",
   "execution_count": null,
   "source": [
    "fig,axs=plt.subplots(2,1,figsize=(6.8,6.8),sharex=True)\n",
    "colorlist='bgrcmyk'\n",
    "ax=axs[0]\n",
    "for i,color in zip(delta_dict_para.keys(),colorlist):\n",
    "    ax.plot(delta_dict_para[i],np.array(mutual_info_dis_dict_para[i]).mean(axis=1)/np.log(2),'.-',label=r'$P(s=0)={:.1f}$'.format(i),color=color)\n",
    "\n",
    "ax.legend()\n",
    "# ax.set_xlabel(r'$\\delta$')\n",
    "ax.set_ylabel(r'Mutual information between A and B [$\\log2$]')\n",
    "\n",
    "ax=axs[1]\n",
    "for i,color in zip(delta_dict_para.keys(),colorlist):\n",
    "    ax.plot(delta_dict_para[i],np.array(mutual_info_dis_dict_para[i]).std(axis=1)/np.log(2),'.-',label=r'$P(s=0)={:.1f}$'.format(i),color=color)\n",
    "\n",
    "ax.legend()\n",
    "ax.set_xlabel(r'$\\delta$')\n",
    "ax.set_ylabel(r'STD of MI between A and B [$\\log2$]')\n",
    "fig.tight_layout()\n",
    "fig.savefig('/mnt/d/kitp/Rp_SPT/5/mutual_info_s_prob_En{:d}.pdf'.format(es),bbox_inches='tight')\n"
   ],
   "outputs": [],
   "metadata": {}
  },
  {
   "cell_type": "code",
   "execution_count": null,
   "source": [
    "es=20000\n",
    "with open('/mnt/d/KITP/Rp_SPT/5/mutual_info_s_prob_En{:d}.pickle'.format(es),'rb') as f:\n",
    "    delta_dict_para,mutual_info_dis_dict_para=pickle.load(f)"
   ],
   "outputs": [],
   "metadata": {}
  },
  {
   "cell_type": "code",
   "execution_count": null,
   "source": [
    "fig,axs=plt.subplots(2,1,figsize=(6.8,6.8),sharex=True)\n",
    "colorlist='bgrcmyk'\n",
    "ax=axs[0]\n",
    "for i,color in zip(delta_dict_para.keys(),colorlist):\n",
    "    ax.plot(delta_dict_para[i],np.array(mutual_info_dis_dict_para[i]).mean(axis=1)/np.log(2),'.-',label=r'$P(s=0)={:.1f}$'.format(i),color=color)\n",
    "\n",
    "ax.legend()\n",
    "# ax.set_xlabel(r'$\\delta$')\n",
    "ax.set_ylabel(r'Mutual information between A and B [$\\log2$]')\n",
    "\n",
    "ax=axs[1]\n",
    "for i,color in zip(delta_dict_para.keys(),colorlist):\n",
    "    ax.plot(delta_dict_para[i],np.array(mutual_info_dis_dict_para[i]).std(axis=1)/np.log(2),'.-',label=r'$P(s=0)={:.1f}$'.format(i),color=color)\n",
    "\n",
    "ax.legend()\n",
    "ax.set_xlabel(r'$\\delta$')\n",
    "ax.set_ylabel(r'STD of MI between A and B [$\\log2$]')\n",
    "fig.tight_layout()\n",
    "fig.savefig('/mnt/d/kitp/Rp_SPT/5/mutual_info_s_prob_En{:d}.pdf'.format(es),bbox_inches='tight')\n"
   ],
   "outputs": [],
   "metadata": {}
  },
  {
   "cell_type": "markdown",
   "source": [
    "## random position"
   ],
   "metadata": {}
  },
  {
   "cell_type": "code",
   "execution_count": null,
   "source": [
    "# all projections to 0\n",
    "mutual_info_pos_list=[]\n",
    "for delta in delta_list:\n",
    "    params=Params(delta=delta,L=64,bc=-1)\n",
    "    params.measure_all_position(1.0)\n",
    "    mutual_info_pos_list.append(params.mutual_information_m(np.arange(int(params.L/2)),np.arange(params.L/2)+params.L))"
   ],
   "outputs": [],
   "metadata": {}
  },
  {
   "cell_type": "code",
   "execution_count": null,
   "source": [
    "# 0.5 projections to 0\n",
    "mutual_info_x_list=[]\n",
    "for delta in delta_list:\n",
    "    params=Params(delta=delta,L=64,bc=-1)\n",
    "    params.measure_all_position(8/(params.L/4))\n",
    "    mutual_info_x_list.append(params.mutual_information_m(np.arange(int(params.L/2)),np.arange(params.L/2)+params.L))"
   ],
   "outputs": [],
   "metadata": {}
  },
  {
   "cell_type": "code",
   "execution_count": null,
   "source": [
    "# all projections to 1\n",
    "mutual_info_neg_list=[]\n",
    "for delta in delta_list:\n",
    "    params=Params(delta=delta,L=64,bc=-1)\n",
    "    params.measure_all_position(0)\n",
    "    mutual_info_neg_list.append(params.mutual_information_m(np.arange(int(params.L/2)),np.arange(params.L/2)+params.L))"
   ],
   "outputs": [],
   "metadata": {}
  },
  {
   "cell_type": "code",
   "execution_count": null,
   "source": [
    "np.linspace(0,16,5)"
   ],
   "outputs": [],
   "metadata": {}
  },
  {
   "cell_type": "code",
   "execution_count": null,
   "source": [
    "fig,ax=plt.subplots(figsize=(6.8,4))\n",
    "# ax.plot(delta_list,mutual_info_list/np.log(2),label='no measurement')\n",
    "ax.plot(delta_list,mutual_info_pos_list/np.log(2),label='measure +1')\n",
    "# ax.plot(delta_list,mutual_info_x_list/np.log(2),label='0.5 measure -1')\n",
    "ax.plot(delta_list,mutual_info_neg_list/np.log(2),label='measure -1')\n",
    "ax.set_xlabel(r'$\\delta$')\n",
    "ax.set_ylabel(r'Mutual information [$\\log 2$]')\n",
    "ax.legend()\n",
    "# fig.savefig('/mnt/d/kitp/Rp_SPT/4/M_L64_ApBp_shared.pdf',bbox_inches='tight')"
   ],
   "outputs": [],
   "metadata": {}
  },
  {
   "cell_type": "code",
   "execution_count": null,
   "source": [
    "es=1000\n",
    "with open('/mnt/d/KITP/Rp_SPT/5/mutual_info_position_En{:d}.pickle'.format(es),'rb') as f:\n",
    "    delta_dict_para,mutual_info_dis_dict_para=pickle.load(f)"
   ],
   "outputs": [],
   "metadata": {}
  },
  {
   "cell_type": "code",
   "execution_count": null,
   "source": [
    "fig,axs=plt.subplots(2,1,figsize=(6.8,6.8),sharex=True)\n",
    "colorlist='bgrcmyk'\n",
    "ax=axs[0]\n",
    "for i,color in zip(delta_dict_para.keys(),colorlist):\n",
    "    ax.plot(delta_dict_para[i],np.array(mutual_info_dis_dict_para[i]).mean(axis=1)/np.log(2),'.-',label=r'$P(s=0)={:.2f}$'.format(i),color=color)\n",
    "\n",
    "ax.legend()\n",
    "# ax.set_xlabel(r'$\\delta$')\n",
    "ax.set_ylabel(r'Mutual information between A and B [$\\log2$]')\n",
    "\n",
    "ax=axs[1]\n",
    "for i,color in zip(delta_dict_para.keys(),colorlist):\n",
    "    ax.plot(delta_dict_para[i],np.array(mutual_info_dis_dict_para[i]).std(axis=1)/np.log(2),'.-',label=r'$P(s=0)={:.2f}$'.format(i),color=color)\n",
    "\n",
    "ax.legend()\n",
    "ax.set_xlabel(r'$\\delta$')\n",
    "ax.set_ylabel(r'STD of MI between A and B [$\\log2$]')\n",
    "fig.tight_layout()\n",
    "fig.savefig('/mnt/d/kitp/Rp_SPT/5/mutual_info_position_En{:d}.pdf'.format(es),bbox_inches='tight')\n"
   ],
   "outputs": [],
   "metadata": {}
  },
  {
   "cell_type": "code",
   "execution_count": null,
   "source": [
    "es=2000\n",
    "with open('/mnt/d/KITP/Rp_SPT/5/mutual_info_position_En{:d}.pickle'.format(es),'rb') as f:\n",
    "    delta_dict_para,mutual_info_dis_dict_para=pickle.load(f)"
   ],
   "outputs": [],
   "metadata": {}
  },
  {
   "cell_type": "code",
   "execution_count": null,
   "source": [
    "fig,axs=plt.subplots(2,1,figsize=(6.8,6.8),sharex=True)\n",
    "colorlist='bgrcmyk'\n",
    "ax=axs[0]\n",
    "for i,color in zip(delta_dict_para.keys(),colorlist):\n",
    "    ax.plot(delta_dict_para[i],np.array(mutual_info_dis_dict_para[i]).mean(axis=1)/np.log(2),'.-',label=r'$P(s=0)={:.2f}$'.format(i),color=color)\n",
    "\n",
    "ax.legend()\n",
    "# ax.set_xlabel(r'$\\delta$')\n",
    "ax.set_ylabel(r'Mutual information between A and B [$\\log2$]')\n",
    "\n",
    "ax=axs[1]\n",
    "for i,color in zip(delta_dict_para.keys(),colorlist):\n",
    "    ax.plot(delta_dict_para[i],np.array(mutual_info_dis_dict_para[i]).std(axis=1)/np.log(2),'.-',label=r'$P(s=0)={:.2f}$'.format(i),color=color)\n",
    "\n",
    "ax.legend()\n",
    "ax.set_xlabel(r'$\\delta$')\n",
    "ax.set_ylabel(r'STD of MI between A and B [$\\log2$]')\n",
    "fig.tight_layout()\n",
    "fig.savefig('/mnt/d/kitp/Rp_SPT/5/mutual_info_position_En{:d}.pdf'.format(es),bbox_inches='tight')\n"
   ],
   "outputs": [],
   "metadata": {}
  },
  {
   "cell_type": "code",
   "execution_count": null,
   "source": [
    "es=3000\n",
    "with open('/mnt/d/KITP/Rp_SPT/5/mutual_info_position_En{:d}.pickle'.format(es),'rb') as f:\n",
    "    delta_dict_para,mutual_info_dis_dict_para=pickle.load(f)"
   ],
   "outputs": [],
   "metadata": {}
  },
  {
   "cell_type": "code",
   "execution_count": null,
   "source": [
    "fig,axs=plt.subplots(2,1,figsize=(6.8,6.8),sharex=True)\n",
    "colorlist='bgrcmyk'\n",
    "ax=axs[0]\n",
    "for i,color in zip(delta_dict_para.keys(),colorlist):\n",
    "    ax.plot(delta_dict_para[i],np.array(mutual_info_dis_dict_para[i]).mean(axis=1)/np.log(2),'.-',label=r'$P(s=0)={:.2f}$'.format(i),color=color)\n",
    "\n",
    "ax.legend()\n",
    "# ax.set_xlabel(r'$\\delta$')\n",
    "ax.set_ylabel(r'Mutual information between A and B [$\\log2$]')\n",
    "\n",
    "ax=axs[1]\n",
    "for i,color in zip(delta_dict_para.keys(),colorlist):\n",
    "    ax.plot(delta_dict_para[i],np.array(mutual_info_dis_dict_para[i]).std(axis=1)/np.log(2),'.-',label=r'$P(s=0)={:.2f}$'.format(i),color=color)\n",
    "\n",
    "ax.legend()\n",
    "ax.set_xlabel(r'$\\delta$')\n",
    "ax.set_ylabel(r'STD of MI between A and B [$\\log2$]')\n",
    "fig.tight_layout()\n",
    "fig.savefig('/mnt/d/kitp/Rp_SPT/5/mutual_info_position_En{:d}.pdf'.format(es),bbox_inches='tight')\n"
   ],
   "outputs": [],
   "metadata": {}
  },
  {
   "cell_type": "code",
   "execution_count": null,
   "source": [
    "es=5000\n",
    "with open('/mnt/d/KITP/Rp_SPT/5/mutual_info_position_En{:d}.pickle'.format(es),'rb') as f:\n",
    "    delta_dict_para,mutual_info_dis_dict_para=pickle.load(f)"
   ],
   "outputs": [],
   "metadata": {}
  },
  {
   "cell_type": "code",
   "execution_count": null,
   "source": [
    "fig,axs=plt.subplots(2,1,figsize=(6.8,6.8),sharex=True)\n",
    "colorlist='bgrcmyk'\n",
    "ax=axs[0]\n",
    "for i,color in zip(delta_dict_para.keys(),colorlist):\n",
    "    ax.plot(delta_dict_para[i],np.array(mutual_info_dis_dict_para[i]).mean(axis=1)/np.log(2),'.-',label=r'$P(s=0)={:.2f}$'.format(i),color=color)\n",
    "\n",
    "ax.legend()\n",
    "# ax.set_xlabel(r'$\\delta$')\n",
    "ax.set_ylabel(r'Mutual information between A and B [$\\log2$]')\n",
    "\n",
    "ax=axs[1]\n",
    "for i,color in zip(delta_dict_para.keys(),colorlist):\n",
    "    ax.plot(delta_dict_para[i],np.array(mutual_info_dis_dict_para[i]).std(axis=1)/np.log(2),'.-',label=r'$P(s=0)={:.2f}$'.format(i),color=color)\n",
    "\n",
    "ax.legend()\n",
    "ax.set_xlabel(r'$\\delta$')\n",
    "ax.set_ylabel(r'STD of MI between A and B [$\\log2$]')\n",
    "fig.tight_layout()\n",
    "fig.savefig('/mnt/d/kitp/Rp_SPT/5/mutual_info_position_En{:d}.pdf'.format(es),bbox_inches='tight')\n"
   ],
   "outputs": [],
   "metadata": {}
  },
  {
   "cell_type": "code",
   "execution_count": null,
   "source": [
    "es=10000\n",
    "with open('/mnt/d/KITP/Rp_SPT/5/mutual_info_position_En{:d}.pickle'.format(es),'rb') as f:\n",
    "    delta_dict_para,mutual_info_dis_dict_para=pickle.load(f)"
   ],
   "outputs": [],
   "metadata": {}
  },
  {
   "cell_type": "code",
   "execution_count": null,
   "source": [
    "fig,axs=plt.subplots(2,1,figsize=(6.8,6.8),sharex=True)\n",
    "colorlist='bgrcmyk'\n",
    "ax=axs[0]\n",
    "for i,color in zip(delta_dict_para.keys(),colorlist):\n",
    "    ax.plot(delta_dict_para[i],np.array(mutual_info_dis_dict_para[i]).mean(axis=1)/np.log(2),'.-',label=r'$P(s=0)={:.2f}$'.format(i),color=color)\n",
    "\n",
    "ax.legend()\n",
    "# ax.set_xlabel(r'$\\delta$')\n",
    "ax.set_ylabel(r'Mutual information between A and B [$\\log2$]')\n",
    "\n",
    "ax=axs[1]\n",
    "for i,color in zip(delta_dict_para.keys(),colorlist):\n",
    "    ax.plot(delta_dict_para[i],np.array(mutual_info_dis_dict_para[i]).std(axis=1)/np.log(2),'.-',label=r'$P(s=0)={:.2f}$'.format(i),color=color)\n",
    "\n",
    "ax.legend()\n",
    "ax.set_xlabel(r'$\\delta$')\n",
    "ax.set_ylabel(r'STD of MI between A and B [$\\log2$]')\n",
    "fig.tight_layout()\n",
    "fig.savefig('/mnt/d/kitp/Rp_SPT/5/mutual_info_position_En{:d}.pdf'.format(es),bbox_inches='tight')\n"
   ],
   "outputs": [],
   "metadata": {}
  },
  {
   "cell_type": "code",
   "execution_count": null,
   "source": [
    "es=20000\n",
    "with open('/mnt/d/KITP/Rp_SPT/5/mutual_info_position_En{:d}.pickle'.format(es),'rb') as f:\n",
    "    delta_dict_para,mutual_info_dis_dict_para=pickle.load(f)"
   ],
   "outputs": [],
   "metadata": {}
  },
  {
   "cell_type": "code",
   "execution_count": null,
   "source": [
    "fig,axs=plt.subplots(2,1,figsize=(6.8,6.8),sharex=True)\n",
    "colorlist='bgrcmyk'\n",
    "ax=axs[0]\n",
    "for i,color in zip(delta_dict_para.keys(),colorlist):\n",
    "    ax.plot(delta_dict_para[i],np.array(mutual_info_dis_dict_para[i]).mean(axis=1)/np.log(2),'.-',label=r'$P(s=0)={:.2f}$'.format(i),color=color)\n",
    "\n",
    "ax.legend()\n",
    "# ax.set_xlabel(r'$\\delta$')\n",
    "ax.set_ylabel(r'Mutual information between A and B [$\\log2$]')\n",
    "\n",
    "ax=axs[1]\n",
    "for i,color in zip(delta_dict_para.keys(),colorlist):\n",
    "    ax.plot(delta_dict_para[i],np.array(mutual_info_dis_dict_para[i]).std(axis=1)/np.log(2),'.-',label=r'$P(s=0)={:.2f}$'.format(i),color=color)\n",
    "\n",
    "ax.legend()\n",
    "ax.set_xlabel(r'$\\delta$')\n",
    "ax.set_ylabel(r'STD of MI between A and B [$\\log2$]')\n",
    "fig.tight_layout()\n",
    "fig.savefig('/mnt/d/kitp/Rp_SPT/5/mutual_info_position_En{:d}.pdf'.format(es),bbox_inches='tight')\n"
   ],
   "outputs": [],
   "metadata": {}
  },
  {
   "cell_type": "markdown",
   "source": [
    "### All configs"
   ],
   "metadata": {}
  },
  {
   "cell_type": "code",
   "execution_count": null,
   "source": [
    "deck = [10,20,30,40] #get deck of cards from 1 to 52\n",
    "# comb = list(itertools.combinations(deck, 3)) # make list  with unic 2 cards combination\n",
    "# len(comb) #output 1326\n",
    "\n",
    "comb=itertools.combinations(deck, 3)"
   ],
   "outputs": [],
   "metadata": {}
  },
  {
   "cell_type": "code",
   "execution_count": null,
   "source": [
    "params=Params(L=64,bc=-1,basis='m')"
   ],
   "outputs": [],
   "metadata": {}
  },
  {
   "cell_type": "code",
   "execution_count": null,
   "source": [
    "s_list_list=params.generate_position_list(np.arange(int(params.L/2),params.L,2),.75)"
   ],
   "outputs": [],
   "metadata": {}
  },
  {
   "cell_type": "code",
   "execution_count": null,
   "source": [
    "params.measure_list(np.arange(int(params.L/2),params.L,2),s_list_list[0])"
   ],
   "outputs": [],
   "metadata": {}
  },
  {
   "cell_type": "code",
   "execution_count": null,
   "source": [
    "params.i_history"
   ],
   "outputs": [],
   "metadata": {}
  },
  {
   "cell_type": "code",
   "execution_count": null,
   "source": [
    "with open('mutual_info_position_exhaust_L32.pickle','rb') as f:\n",
    "    delta_dict_para,mutual_info_dis_dict_para=pickle.load(f)"
   ],
   "outputs": [],
   "metadata": {}
  },
  {
   "cell_type": "code",
   "execution_count": null,
   "source": [
    "fig,axs=plt.subplots(2,1,figsize=(6.8,6.8),sharex=True)\n",
    "colorlist='bgrcmyk'\n",
    "ax=axs[0]\n",
    "for i,color in zip(delta_dict_para.keys(),colorlist):\n",
    "    ax.plot(delta_dict_para[i],np.array(mutual_info_dis_dict_para[i]).mean(axis=1)/np.log(2),'.-',label=r'$P(s=0)={:.2f}$'.format(i),color=color)\n",
    "\n",
    "ax.legend()\n",
    "# ax.set_xlabel(r'$\\delta$')\n",
    "ax.set_ylabel(r'Mutual information between A and B [$\\log2$]')\n",
    "\n",
    "ax=axs[1]\n",
    "for i,color in zip(delta_dict_para.keys(),colorlist):\n",
    "    ax.plot(delta_dict_para[i],np.array(mutual_info_dis_dict_para[i]).std(axis=1)/np.log(2),'.-',label=r'$P(s=0)={:.2f}$'.format(i),color=color)\n",
    "\n",
    "ax.legend()\n",
    "ax.set_xlabel(r'$\\delta$')\n",
    "ax.set_ylabel(r'STD of MI between A and B [$\\log2$]')\n",
    "fig.tight_layout()\n",
    "# fig.savefig('/mnt/d/kitp/Rp_SPT/5/mutual_info_position_En{:d}.pdf'.format(es),bbox_inches='tight')\n"
   ],
   "outputs": [],
   "metadata": {}
  },
  {
   "cell_type": "code",
   "execution_count": null,
   "source": [
    "with open('/mnt/d/kitp/Rp_SPT/5/mutual_info_position_exhaust_L64.pickle','rb') as f:\n",
    "    delta_dict_para,mutual_info_dis_dict_para=pickle.load(f)"
   ],
   "outputs": [],
   "metadata": {}
  },
  {
   "cell_type": "code",
   "execution_count": null,
   "source": [
    "fig,axs=plt.subplots(2,1,figsize=(6.8,6.8),sharex=True)\n",
    "colorlist='bgrcmyk'\n",
    "ax=axs[0]\n",
    "for i,color in zip(delta_dict_para.keys(),colorlist):\n",
    "    ax.plot(delta_dict_para[i],np.array(mutual_info_dis_dict_para[i]).mean(axis=1)/np.log(2),'.-',label=r'$P(s=0)={:.2f}$'.format(i),color=color)\n",
    "\n",
    "ax.legend()\n",
    "# ax.set_xlabel(r'$\\delta$')\n",
    "ax.set_ylabel(r'Mutual information between A and B [$\\log2$]')\n",
    "\n",
    "ax=axs[1]\n",
    "for i,color in zip(delta_dict_para.keys(),colorlist):\n",
    "    ax.plot(delta_dict_para[i],np.array(mutual_info_dis_dict_para[i]).std(axis=1)/np.log(2),'.-',label=r'$P(s=0)={:.2f}$'.format(i),color=color)\n",
    "\n",
    "ax.legend()\n",
    "ax.set_xlabel(r'$\\delta$')\n",
    "ax.set_ylabel(r'STD of MI between A and B [$\\log2$]')\n",
    "fig.tight_layout()\n",
    "fig.savefig('/mnt/d/kitp/Rp_SPT/5/mutual_info_position_exhaust_L64.pdf',bbox_inches='tight')\n"
   ],
   "outputs": [],
   "metadata": {}
  },
  {
   "cell_type": "code",
   "execution_count": null,
   "source": [
    "def mutual_info_all_run(batchsize):\n",
    "    delta_list=np.linspace(-1,1,40)\n",
    "    mutual_info_dis_list=[]\n",
    "    if batchsize==0:\n",
    "        ensemblesize=1\n",
    "    else:\n",
    "        ensemblesize=100\n",
    "\n",
    "    for delta in delta_list:\n",
    "        mutual_info_ensemble_list=[]\n",
    "        for ensemble in range(ensemblesize):\n",
    "            params=Params(delta=delta,L=16,bc=-1)\n",
    "            params.measure_batch(batchsize)    \n",
    "            mutual_info_ensemble_list.append(params.mutual_information_m(np.arange(2),np.arange(2)+30))\n",
    "        mutual_info_dis_list.append(mutual_info_ensemble_list)\n",
    "    return delta_list,mutual_info_dis_list"
   ],
   "outputs": [],
   "metadata": {}
  },
  {
   "cell_type": "markdown",
   "source": [
    "## Born rules"
   ],
   "metadata": {}
  },
  {
   "cell_type": "code",
   "execution_count": null,
   "source": [
    "params=Params(delta=-0.1,L=64,bc=-1,basis='m')"
   ],
   "outputs": [],
   "metadata": {}
  },
  {
   "cell_type": "code",
   "execution_count": null,
   "source": [
    "params.covariance_matrix_m()"
   ],
   "outputs": [],
   "metadata": {}
  },
  {
   "cell_type": "code",
   "execution_count": null,
   "source": [
    "params.measure_all_Born()"
   ],
   "outputs": [],
   "metadata": {}
  },
  {
   "cell_type": "code",
   "execution_count": null,
   "source": [
    "params.i_history"
   ],
   "outputs": [],
   "metadata": {}
  },
  {
   "cell_type": "code",
   "execution_count": null,
   "source": [
    "params.s_history"
   ],
   "outputs": [],
   "metadata": {}
  },
  {
   "cell_type": "code",
   "execution_count": null,
   "source": [
    "print(np.round(params.C_m_history[-1][:6,:6],4))"
   ],
   "outputs": [],
   "metadata": {}
  },
  {
   "cell_type": "code",
   "execution_count": null,
   "source": [
    "params.measure(0,2,3)\n",
    "print(np.round(params.C_m_history[-1][:6,:6],4))"
   ],
   "outputs": [],
   "metadata": {}
  },
  {
   "cell_type": "code",
   "execution_count": null,
   "source": [
    "len(params.C_m_history)"
   ],
   "outputs": [],
   "metadata": {}
  },
  {
   "cell_type": "code",
   "execution_count": null,
   "source": [
    "print(params.C_m_history[-1][:4,:4])"
   ],
   "outputs": [],
   "metadata": {}
  },
  {
   "cell_type": "code",
   "execution_count": null,
   "source": [
    "len(params.C_m_history)"
   ],
   "outputs": [],
   "metadata": {}
  },
  {
   "cell_type": "code",
   "execution_count": null,
   "source": [
    "(1+params.C_m_history[-1][0,1])/2"
   ],
   "outputs": [],
   "metadata": {}
  },
  {
   "cell_type": "code",
   "execution_count": null,
   "source": [
    "(1-params.C_m_history[-1][2,3])/2"
   ],
   "outputs": [],
   "metadata": {}
  },
  {
   "cell_type": "code",
   "execution_count": null,
   "source": [
    "es=1000\n",
    "with open('/mnt/d/kitp/Rp_SPT/5/mutual_info_Born_En{}.pickle'.format(es),'rb') as f:\n",
    "    delta_dict_para,mutual_info_dis_dict_para,s_history_dis_dict_para=pickle.load(f)"
   ],
   "outputs": [],
   "metadata": {}
  },
  {
   "cell_type": "code",
   "execution_count": null,
   "source": [
    "fig,axs=plt.subplots(3,1,figsize=(6.8,6.8),sharex=True)\n",
    "colorlist='bgrcmyk'\n",
    "ax=axs[0]\n",
    "for i,color in zip(delta_dict_para.keys(),colorlist):\n",
    "    ax.plot(delta_dict_para[i],np.array(mutual_info_dis_dict_para[i]).mean(axis=1)/np.log(2),'.-',label='Born rule: mean'.format(i),color=color)\n",
    "\n",
    "ax.legend()\n",
    "# ax.set_xlabel(r'$\\delta$')\n",
    "ax.set_ylabel(r'MI between A and B [$\\log2$]')\n",
    "\n",
    "ax=axs[1]\n",
    "for i,color in zip(delta_dict_para.keys(),colorlist):\n",
    "    ax.plot(delta_dict_para[i],np.array(mutual_info_dis_dict_para[i]).std(axis=1)/np.log(2),'.-',label='Born rule: std'.format(i),color=color)\n",
    "ax.set_ylabel(r'STD of MI between A and B [$\\log2$]')\n",
    "\n",
    "ax.legend()\n",
    "ax=axs[2]\n",
    "for i,color in zip(delta_dict_para.keys(),colorlist):\n",
    "    ax.plot(delta_dict_para[i],np.mean(s_history_dis_dict_para[i],axis=(1,2)),'.-',color=color)\n",
    "\n",
    "ax.set_ylabel(r'Mean of prob to 1')\n",
    "\n",
    "ax.set_xlabel(r'$\\delta$')\n",
    "fig.tight_layout()\n",
    "# fig.savefig('/mnt/d/kitp/Rp_SPT/5/mutual_info_Born_En{:d}.pdf'.format(es),bbox_inches='tight')\n"
   ],
   "outputs": [],
   "metadata": {}
  },
  {
   "cell_type": "code",
   "execution_count": null,
   "source": [
    "with open('/mnt/d/kitp/Rp_SPT/5/mutual_info_Born_En10000.pickle','rb') as f:\n",
    "    delta_dict_para,mutual_info_dis_dict_para,s_history_dis_dict_para=pickle.load(f)"
   ],
   "outputs": [],
   "metadata": {}
  },
  {
   "cell_type": "code",
   "execution_count": null,
   "source": [
    "fig,axs=plt.subplots(3,1,figsize=(6.8,6.8),sharex=True)\n",
    "colorlist='bgrcmyk'\n",
    "ax=axs[0]\n",
    "for i,color in zip(delta_dict_para.keys(),colorlist):\n",
    "    ax.plot(delta_dict_para[i],np.array(mutual_info_dis_dict_para[i]).mean(axis=1)/np.log(2),'.-',label='Born rule: mean'.format(i),color=color)\n",
    "\n",
    "ax.legend()\n",
    "# ax.set_xlabel(r'$\\delta$')\n",
    "ax.set_ylabel(r'MI between A and B [$\\log2$]')\n",
    "\n",
    "ax=axs[1]\n",
    "for i,color in zip(delta_dict_para.keys(),colorlist):\n",
    "    ax.plot(delta_dict_para[i],np.array(mutual_info_dis_dict_para[i]).std(axis=1)/np.log(2),'.-',label='Born rule: std'.format(i),color=color)\n",
    "ax.set_ylabel(r'STD of MI between A and B [$\\log2$]')\n",
    "\n",
    "ax.legend()\n",
    "ax=axs[2]\n",
    "for i,color in zip(delta_dict_para.keys(),colorlist):\n",
    "    ax.plot(delta_dict_para[i],np.mean(s_history_dis_dict_para[i],axis=(1,2)),'.-',color=color)\n",
    "\n",
    "ax.set_ylabel(r'Mean of prob to 1')\n",
    "\n",
    "ax.set_xlabel(r'$\\delta$')\n",
    "fig.tight_layout()\n",
    "fig.savefig('/mnt/d/kitp/Rp_SPT/5/mutual_info_Born_En{:d}.pdf'.format(es),bbox_inches='tight')\n"
   ],
   "outputs": [],
   "metadata": {}
  },
  {
   "cell_type": "code",
   "execution_count": null,
   "source": [
    "es=50000\n",
    "with open('/mnt/d/kitp/Rp_SPT/5/mutual_info_Born_En50000.pickle','rb') as f:\n",
    "    delta_dict_para,mutual_info_dis_dict_para,s_history_dis_dict_para=pickle.load(f)"
   ],
   "outputs": [],
   "metadata": {}
  },
  {
   "cell_type": "code",
   "execution_count": null,
   "source": [
    "fig,axs=plt.subplots(4,1,figsize=(6.8,6.8),sharex=True)\n",
    "colorlist='bgrcmyk'\n",
    "ax=axs[0]\n",
    "for i,color in zip(delta_dict_para.keys(),colorlist):\n",
    "    ax.plot(delta_dict_para[i],np.array(mutual_info_dis_dict_para[i]).mean(axis=1)/np.log(2),'.-',label='Born rule: mean'.format(i),color=color)\n",
    "\n",
    "ax.legend()\n",
    "# ax.set_xlabel(r'$\\delta$')\n",
    "ax.set_ylabel(r'MI between A and B [$\\log2$]')\n",
    "\n",
    "ax=axs[1]\n",
    "for i,color in zip(delta_dict_para.keys(),colorlist):\n",
    "    ax.plot(delta_dict_para[i],np.array(mutual_info_dis_dict_para[i]).std(axis=1)/np.log(2),'.-',label='Born rule: std'.format(i),color=color)\n",
    "ax.set_ylabel(r'STD of MI between A and B [$\\log2$]')\n",
    "\n",
    "ax.legend()\n",
    "\n",
    "ax=axs[2]\n",
    "for i,color in zip(delta_dict_para.keys(),colorlist):\n",
    "    ax.plot(delta_dict_para[i],np.mean(s_history_dis_dict_para[i],axis=(1,2)),'.-',color=color)\n",
    "\n",
    "ax.set_ylabel(r'Mean of prob to 1')\n",
    "\n",
    "ax=axs[3]\n",
    "for i,color in zip(delta_dict_para.keys(),colorlist):\n",
    "    ax.plot(delta_dict_para[i],np.std(s_history_dis_dict_para[i],axis=(1,2)),'.-',color=color)\n",
    "\n",
    "ax.set_ylabel(r'STD of prob to 1')\n",
    "\n",
    "ax.set_xlabel(r'$\\delta$')\n",
    "fig.tight_layout()\n",
    "fig.savefig('/mnt/d/kitp/Rp_SPT/5/mutual_info_Born_En{:d}.pdf'.format(es),bbox_inches='tight')\n"
   ],
   "outputs": [],
   "metadata": {}
  },
  {
   "cell_type": "code",
   "execution_count": null,
   "source": [
    "es=100000\n",
    "with open('/mnt/d/kitp/Rp_SPT/5/mutual_info_Born_En{:d}.pickle'.format(es),'rb') as f:\n",
    "    delta_dict_para,mutual_info_dis_dict_para,s_history_dis_dict_para=pickle.load(f)"
   ],
   "outputs": [],
   "metadata": {}
  },
  {
   "cell_type": "code",
   "execution_count": null,
   "source": [
    "fig,axs=plt.subplots(4,1,figsize=(6.8,6.8),sharex=True)\n",
    "colorlist='bgrcmyk'\n",
    "ax=axs[0]\n",
    "for i,color in zip(delta_dict_para.keys(),colorlist):\n",
    "    ax.plot(delta_dict_para[i],np.array(mutual_info_dis_dict_para[i]).mean(axis=1)/np.log(2),'.-',label='Born rule: mean'.format(i),color=color)\n",
    "\n",
    "ax.legend()\n",
    "# ax.set_xlabel(r'$\\delta$')\n",
    "ax.set_ylabel(r'MI between A and B [$\\log2$]')\n",
    "\n",
    "ax=axs[1]\n",
    "for i,color in zip(delta_dict_para.keys(),colorlist):\n",
    "    ax.plot(delta_dict_para[i],np.array(mutual_info_dis_dict_para[i]).std(axis=1)/np.log(2),'.-',label='Born rule: std'.format(i),color=color)\n",
    "ax.set_ylabel(r'STD of MI between A and B [$\\log2$]')\n",
    "\n",
    "ax.legend()\n",
    "\n",
    "ax=axs[2]\n",
    "for i,color in zip(delta_dict_para.keys(),colorlist):\n",
    "    ax.plot(delta_dict_para[i],np.mean(s_history_dis_dict_para[i],axis=(1,2)),'.-',color=color)\n",
    "\n",
    "ax.set_ylabel(r'Mean of prob to 1')\n",
    "\n",
    "ax=axs[3]\n",
    "for i,color in zip(delta_dict_para.keys(),colorlist):\n",
    "    ax.plot(delta_dict_para[i],np.std(s_history_dis_dict_para[i],axis=(1,2)),'.-',color=color)\n",
    "\n",
    "ax.set_ylabel(r'STD of prob to 1')\n",
    "\n",
    "ax.set_xlabel(r'$\\delta$')\n",
    "fig.tight_layout()\n",
    "fig.savefig('/mnt/d/kitp/Rp_SPT/5/mutual_info_Born_En{:d}.pdf'.format(es),bbox_inches='tight')\n"
   ],
   "outputs": [],
   "metadata": {}
  },
  {
   "cell_type": "markdown",
   "source": [
    "### Decompose even and odd parity"
   ],
   "metadata": {}
  },
  {
   "cell_type": "code",
   "execution_count": null,
   "source": [
    "odd_ensemble_mean=[]\n",
    "odd_ensemble_std=[]\n",
    "odd_ensemble_size=[]\n",
    "even_ensemble_mean=[]\n",
    "even_ensemble_std=[]\n",
    "even_ensemble_size=[]\n",
    "\n",
    "odd_filter=np.array(s_history_dis_dict_para[0]).sum(axis=2)%2==1\n",
    "for odd_index,MI in zip(odd_filter,mutual_info_dis_dict_para[0]):\n",
    "    # MI[odd_index]\n",
    "    odd_ensemble_data=np.array(MI)[odd_index]\n",
    "    even_ensemble_data=np.array(MI)[~odd_index]\n",
    "    if odd_ensemble_data.size<2:\n",
    "        odd_ensemble_size.append(0)\n",
    "        odd_ensemble_mean.append(np.nan)\n",
    "        odd_ensemble_std.append(np.nan)\n",
    "    else:\n",
    "        odd_ensemble_size.append(odd_ensemble_data.size)\n",
    "        odd_ensemble_mean.append(odd_ensemble_data.mean())\n",
    "        odd_ensemble_std.append(odd_ensemble_data.std())\n",
    "\n",
    "    if even_ensemble_data.size<2:\n",
    "        even_ensemble_size.append(0)\n",
    "        even_ensemble_mean.append(np.nan)\n",
    "        even_ensemble_std.append(np.nan)\n",
    "    else:\n",
    "        even_ensemble_size.append(even_ensemble_data.size)\n",
    "        even_ensemble_mean.append(even_ensemble_data.mean())\n",
    "        even_ensemble_std.append(even_ensemble_data.std())   "
   ],
   "outputs": [],
   "metadata": {}
  },
  {
   "cell_type": "code",
   "execution_count": null,
   "source": [
    "fig,axs=plt.subplots(3,1,figsize=(6.8,6),sharex=True)\n",
    "ax=axs[0]\n",
    "ax.plot(delta_dict_para[0],odd_ensemble_mean,'.-',label='Odd parity')\n",
    "ax.plot(delta_dict_para[0],even_ensemble_mean,'.-',label='Even parity')\n",
    "ax.set_ylabel('Mean of MI')\n",
    "ax.legend()\n",
    "\n",
    "ax=axs[1]\n",
    "ax.plot(delta_dict_para[0],odd_ensemble_std,'.-',label='Odd parity')\n",
    "ax.plot(delta_dict_para[0],even_ensemble_std,'.-',label='Even parity')\n",
    "ax.set_ylabel('STD of MI')\n",
    "ax.legend()\n",
    "\n",
    "ax=axs[2]\n",
    "ax.plot(delta_dict_para[0],np.array(odd_ensemble_size)/es,'.-',label='Odd parity')\n",
    "ax.plot(delta_dict_para[0],np.array(even_ensemble_size)/es,'.-',label='Even parity')\n",
    "ax.set_ylabel('Proportions of odd/even')\n",
    "ax.legend()\n",
    "\n",
    "\n",
    "ax.set_xlabel(r'$\\delta$')\n",
    "fig.tight_layout()\n",
    "# fig.savefig('/mnt/d/kitp/Rp_SPT/5/mutual_info_Born_En{:d}_L64_Parity.pdf'.format(es),bbox_inches='tight')"
   ],
   "outputs": [],
   "metadata": {}
  },
  {
   "cell_type": "code",
   "execution_count": null,
   "source": [
    "es=100000\n",
    "with open('/mnt/d/kitp/Rp_SPT/5/mutual_info_Born_En{:d}_L68.pickle'.format(es),'rb') as f:\n",
    "    delta_dict_para,mutual_info_dis_dict_para,s_history_dis_dict_para=pickle.load(f)"
   ],
   "outputs": [],
   "metadata": {}
  },
  {
   "cell_type": "code",
   "execution_count": null,
   "source": [
    "odd_ensemble_mean_=[]\n",
    "odd_ensemble_std=[]\n",
    "odd_ensemble_size=[]\n",
    "even_ensemble_mean=[]\n",
    "even_ensemble_std=[]\n",
    "even_ensemble_size=[]\n",
    "\n",
    "odd_filter=np.array(s_history_dis_dict_para[0]).sum(axis=2)%2==1\n",
    "for odd_index,MI in zip(odd_filter,mutual_info_dis_dict_para[0]):\n",
    "    # MI[odd_index]\n",
    "    odd_ensemble_data=np.array(MI)[odd_index]\n",
    "    even_ensemble_data=np.array(MI)[~odd_index]\n",
    "    if odd_ensemble_data.size<2:\n",
    "        odd_ensemble_size.append(0)\n",
    "        odd_ensemble_mean_.append(np.nan)\n",
    "        odd_ensemble_std.append(np.nan)\n",
    "    else:\n",
    "        odd_ensemble_size.append(odd_ensemble_data.size)\n",
    "        odd_ensemble_mean_.append(odd_ensemble_data.mean())\n",
    "        odd_ensemble_std.append(odd_ensemble_data.std())\n",
    "\n",
    "    if even_ensemble_data.size<2:\n",
    "        even_ensemble_size.append(0)\n",
    "        even_ensemble_mean.append(np.nan)\n",
    "        even_ensemble_std.append(np.nan)\n",
    "    else:\n",
    "        even_ensemble_size.append(even_ensemble_data.size)\n",
    "        even_ensemble_mean.append(even_ensemble_data.mean())\n",
    "        even_ensemble_std.append(even_ensemble_data.std()) "
   ],
   "outputs": [],
   "metadata": {}
  },
  {
   "cell_type": "code",
   "execution_count": null,
   "source": [
    "fig,axs=plt.subplots(3,1,figsize=(6.8,6),sharex=True)\n",
    "ax=axs[0]\n",
    "ax.plot(delta_dict_para[0],odd_ensemble_mean,'.-',label='Odd parity')\n",
    "ax.plot(delta_dict_para[0],even_ensemble_mean,'.-',label='Even parity')\n",
    "ax.set_ylabel('Mean of MI')\n",
    "ax.legend()\n",
    "\n",
    "ax=axs[1]\n",
    "ax.plot(delta_dict_para[0],odd_ensemble_std,'.-',label='Odd parity')\n",
    "ax.plot(delta_dict_para[0],even_ensemble_std,'.-',label='Even parity')\n",
    "ax.set_ylabel('STD of MI')\n",
    "ax.legend()\n",
    "\n",
    "ax=axs[2]\n",
    "ax.plot(delta_dict_para[0],np.array(odd_ensemble_size)/es,'.-',label='Odd parity')\n",
    "ax.plot(delta_dict_para[0],np.array(even_ensemble_size)/es,'.-',label='Even parity')\n",
    "ax.set_ylabel('Proportions of odd/even')\n",
    "ax.legend()\n",
    "\n",
    "\n",
    "ax.set_xlabel(r'$\\delta$')\n",
    "fig.tight_layout()\n",
    "fig.savefig('/mnt/d/kitp/Rp_SPT/5/mutual_info_Born_En{:d}_L68_Parity.pdf'.format(es),bbox_inches='tight')"
   ],
   "outputs": [],
   "metadata": {}
  },
  {
   "cell_type": "code",
   "execution_count": null,
   "source": [
    "es=100000\n",
    "with open('/mnt/d/kitp/Rp_SPT/5/mutual_info_Born_En{:d}_alternating.pickle'.format(es),'rb') as f:\n",
    "    delta_dict_e2,mutual_info_dis_dict_e2,s_history_dis_dict_e2=pickle.load(f)"
   ],
   "outputs": [],
   "metadata": {}
  },
  {
   "cell_type": "code",
   "execution_count": null,
   "source": [
    "odd_ensemble_mean_e2=[]\n",
    "odd_ensemble_std_e2=[]\n",
    "odd_ensemble_size_e2=[]\n",
    "even_ensemble_mean_e2=[]\n",
    "even_ensemble_std_e2=[]\n",
    "even_ensemble_size_e2=[]\n",
    "\n",
    "odd_filter=np.array(s_history_dis_dict_e2[0]).sum(axis=2)%2==1\n",
    "for odd_index,MI in zip(odd_filter,mutual_info_dis_dict_e2[0]):\n",
    "    # MI[odd_index]\n",
    "    odd_ensemble_data=np.array(MI)[odd_index]\n",
    "    even_ensemble_data=np.array(MI)[~odd_index]\n",
    "    if odd_ensemble_data.size<2:\n",
    "        odd_ensemble_size_e2.append(0)\n",
    "        odd_ensemble_mean_e2.append(np.nan)\n",
    "        odd_ensemble_std_e2.append(np.nan)\n",
    "    else:\n",
    "        odd_ensemble_size_e2.append(odd_ensemble_data.size)\n",
    "        odd_ensemble_mean_e2.append(odd_ensemble_data.mean())\n",
    "        odd_ensemble_std_e2.append(odd_ensemble_data.std())\n",
    "\n",
    "    if even_ensemble_data.size<2:\n",
    "        even_ensemble_size_e2.append(0)\n",
    "        even_ensemble_mean_e2.append(np.nan)\n",
    "        even_ensemble_std_e2.append(np.nan)\n",
    "    else:\n",
    "        even_ensemble_size_e2.append(even_ensemble_data.size)\n",
    "        even_ensemble_mean_e2.append(even_ensemble_data.mean())\n",
    "        even_ensemble_std_e2.append(even_ensemble_data.std()) "
   ],
   "outputs": [],
   "metadata": {}
  },
  {
   "cell_type": "code",
   "execution_count": null,
   "source": [
    "fig,axs=plt.subplots(3,1,figsize=(6.8,6),sharex=True)\n",
    "ax=axs[0]\n",
    "ax.plot(delta_dict_alter[0],odd_ensemble_mean_alter,'.-',label='Odd parity')\n",
    "ax.plot(delta_dict_alter[0],even_ensemble_mean_alter,'.-',label='Even parity')\n",
    "ax.set_ylabel('Mean of MI')\n",
    "ax.legend()\n",
    "\n",
    "ax=axs[1]\n",
    "ax.plot(delta_dict_alter[0],odd_ensemble_std_alter,'.-',label='Odd parity')\n",
    "ax.plot(delta_dict_alter[0],even_ensemble_std_alter,'.-',label='Even parity')\n",
    "ax.set_ylabel('STD of MI')\n",
    "ax.legend()\n",
    "\n",
    "ax=axs[2]\n",
    "ax.plot(delta_dict_alter[0],np.array(odd_ensemble_size_alter)/es,'.-',label='Odd parity')\n",
    "ax.plot(delta_dict_alter[0],np.array(even_ensemble_size_alter)/es,'.-',label='Even parity')\n",
    "ax.set_ylabel('Proportions of odd/even')\n",
    "ax.legend()\n",
    "\n",
    "\n",
    "ax.set_xlabel(r'$\\delta$')\n",
    "fig.tight_layout()\n",
    "# fig.savefig('/mnt/d/kitp/Rp_SPT/5/mutual_info_Born_En{:d}_L68_Parity.pdf'.format(es),bbox_inches='tight')"
   ],
   "outputs": [],
   "metadata": {}
  },
  {
   "cell_type": "code",
   "execution_count": null,
   "source": [
    "es=100000\n",
    "with open('/mnt/d/kitp/Rp_SPT/5/mutual_info_Born_En{:d}_e3.pickle'.format(es),'rb') as f:\n",
    "    delta_dict_e3,mutual_info_dis_dict_e3,s_history_dis_dict_e3=pickle.load(f)"
   ],
   "outputs": [],
   "metadata": {}
  },
  {
   "cell_type": "code",
   "execution_count": null,
   "source": [
    "odd_ensemble_mean_e3=[]\n",
    "odd_ensemble_std_e3=[]\n",
    "odd_ensemble_size_e3=[]\n",
    "even_ensemble_mean_e3=[]\n",
    "even_ensemble_std_e3=[]\n",
    "even_ensemble_size_e3=[]\n",
    "\n",
    "odd_filter=np.array(s_history_dis_dict_e3[0]).sum(axis=2)%2==1\n",
    "for odd_index,MI in zip(odd_filter,mutual_info_dis_dict_e3[0]):\n",
    "    # MI[odd_index]\n",
    "    odd_ensemble_data=np.array(MI)[odd_index]\n",
    "    even_ensemble_data=np.array(MI)[~odd_index]\n",
    "    if odd_ensemble_data.size<2:\n",
    "        odd_ensemble_size_e3.append(0)\n",
    "        odd_ensemble_mean_e3.append(np.nan)\n",
    "        odd_ensemble_std_e3.append(np.nan)\n",
    "    else:\n",
    "        odd_ensemble_size_e3.append(odd_ensemble_data.size)\n",
    "        odd_ensemble_mean_e3.append(odd_ensemble_data.mean())\n",
    "        odd_ensemble_std_e3.append(odd_ensemble_data.std())\n",
    "\n",
    "    if even_ensemble_data.size<2:\n",
    "        even_ensemble_size_e3.append(0)\n",
    "        even_ensemble_mean_e3.append(np.nan)\n",
    "        even_ensemble_std_e3.append(np.nan)\n",
    "    else:\n",
    "        even_ensemble_size_e3.append(even_ensemble_data.size)\n",
    "        even_ensemble_mean_e3.append(even_ensemble_data.mean())\n",
    "        even_ensemble_std_e3.append(even_ensemble_data.std()) "
   ],
   "outputs": [],
   "metadata": {}
  },
  {
   "cell_type": "code",
   "execution_count": null,
   "source": [
    "fig,axs=plt.subplots(3,1,figsize=(6.8,6),sharex=True)\n",
    "ax=axs[0]\n",
    "ax.plot(delta_dict_e3[0],odd_ensemble_mean_e3,'.-',label='Odd parity')\n",
    "ax.plot(delta_dict_e3[0],even_ensemble_mean_e3,'.-',label='Even parity')\n",
    "ax.set_ylabel('Mean of MI')\n",
    "ax.legend()\n",
    "\n",
    "ax=axs[1]\n",
    "ax.plot(delta_dict_e3[0],odd_ensemble_std_e3,'.-',label='Odd parity')\n",
    "ax.plot(delta_dict_e3[0],even_ensemble_std_e3,'.-',label='Even parity')\n",
    "ax.set_ylabel('STD of MI')\n",
    "ax.legend()\n",
    "\n",
    "ax=axs[2]\n",
    "ax.plot(delta_dict_e3[0],np.array(odd_ensemble_size_e3)/es,'.-',label='Odd parity')\n",
    "ax.plot(delta_dict_e3[0],np.array(even_ensemble_size_e3)/es,'.-',label='Even parity')\n",
    "ax.set_ylabel('Proportions of odd/even')\n",
    "ax.legend()\n",
    "\n",
    "\n",
    "ax.set_xlabel(r'$\\delta$')\n",
    "fig.tight_layout()\n",
    "# fig.savefig('/mnt/d/kitp/Rp_SPT/5/mutual_info_Born_En{:d}_L68_Parity.pdf'.format(es),bbox_inches='tight')"
   ],
   "outputs": [],
   "metadata": {}
  },
  {
   "cell_type": "code",
   "execution_count": null,
   "source": [
    "fig,ax=plt.subplots()\n",
    "ax.plot(delta_dict_para[0],np.array(odd_ensemble_mean),'-',label='Odd parity:')\n",
    "ax.plot(delta_dict_para[0],np.array(even_ensemble_mean),'-',label='Even parity:')\n",
    "ax.plot(delta_dict_para[0],np.array(odd_ensemble_mean_alter),'-',label='Odd parity: every two')\n",
    "ax.plot(delta_dict_para[0],np.array(even_ensemble_mean_alter),'-',label='Even parity: every two')\n",
    "ax.plot(delta_dict_para[0],np.array(odd_ensemble_mean_e3),'-',label='Odd parity: every three')\n",
    "ax.plot(delta_dict_para[0],np.array(even_ensemble_mean_e3),'-',label='Even parity: every three')\n",
    "\n",
    "ax.legend()\n",
    "\n",
    "# ax.plot(delta_dict_para[0],np.array(odd_ensemble_std)-np.array(odd_ensemble_std_alter),'-',label='Odd parity:')\n",
    "# ax.plot(delta_dict_para[0],np.array(even_ensemble_std)-np.array(even_ensemble_std_alter),'-',label='Even parity:')\n",
    "\n",
    "# ax.plot(delta_dict_para[0],np.array(odd_ensemble_std),'-',label='Odd parity:')\n",
    "# ax.plot(delta_dict_para[0],np.array(even_ensemble_std),'-',label='Even parity:')\n",
    "# ax.plot(delta_dict_para[0],np.array(odd_ensemble_std_alter),'-',label='Odd parity:')\n",
    "# ax.plot(delta_dict_para[0],np.array(even_ensemble_std_alter),'-',label='Even parity:')\n",
    "\n",
    "\n",
    "# ax.plot(delta_dict_para[0],np.array(odd_ensemble_size)-np.array(odd_ensemble_size_alter),'-',label='Odd parity:')\n",
    "# ax.plot(delta_dict_para[0],np.array(even_ensemble_size)-np.array(even_ensemble_size_alter),'-',label='Even parity:')\n",
    "\n",
    "# ax.plot(delta_dict_para[0],np.array(odd_ensemble_size),'-',label='Odd parity:')\n",
    "# ax.plot(delta_dict_para[0],np.array(even_ensemble_size),'-',label='Even parity:')\n",
    "# ax.plot(delta_dict_para[0],np.array(odd_ensemble_size_alter),'-',label='Odd parity:')\n",
    "# ax.plot(delta_dict_para[0],np.array(even_ensemble_size_alter),'-',label='Even parity:')\n",
    "# ax.plot(delta_dict_para[0],np.array(odd_ensemble_size_e3),'-',label='Odd parity:')\n",
    "# ax.plot(delta_dict_para[0],np.array(even_ensemble_size_e3),'-',label='Even parity:')\n",
    "\n",
    "\n"
   ],
   "outputs": [],
   "metadata": {}
  },
  {
   "cell_type": "code",
   "execution_count": null,
   "source": [
    "1+1"
   ],
   "outputs": [],
   "metadata": {}
  },
  {
   "cell_type": "code",
   "execution_count": null,
   "source": [
    "mutual_info_dis_dict_para.keys()"
   ],
   "outputs": [],
   "metadata": {}
  },
  {
   "cell_type": "code",
   "execution_count": null,
   "source": [
    "mutual_info_dis_dict_para\n",
    "mutual_info_dis_dict_e2\n",
    "mutual_info_dis_dict_e3"
   ],
   "outputs": [],
   "metadata": {}
  },
  {
   "cell_type": "code",
   "execution_count": null,
   "source": [
    "wrap_dict={}"
   ],
   "outputs": [],
   "metadata": {}
  },
  {
   "cell_type": "code",
   "execution_count": null,
   "source": [
    "for i,data in enumerate((mutual_info_dis_dict_para,mutual_info_dis_dict_e2,mutual_info_dis_dict_e3)):\n",
    "    wrap_dict[i]={}\n",
    "    wrap_dict[i]['mean']=np.array(data[0]).mean(axis=1)/np.log(2)\n",
    "    wrap_dict[i]['std']=np.array(data[0]).std(axis=1)/np.log(2)\n",
    "wrap_dict['delta']=delta_dict_para[0]"
   ],
   "outputs": [],
   "metadata": {}
  },
  {
   "cell_type": "code",
   "execution_count": null,
   "source": [
    "with open('/mnt/d/kitp/Rp_SPT/5/order.pickle','wb') as f:\n",
    "    pickle.dump(wrap_dict,f)"
   ],
   "outputs": [],
   "metadata": {}
  },
  {
   "cell_type": "code",
   "execution_count": null,
   "source": [
    "with open('/mnt/d/kitp/Rp_SPT/5/order.pickle','rb') as f:\n",
    "    wrap_dict=pickle.load(f)"
   ],
   "outputs": [],
   "metadata": {}
  },
  {
   "cell_type": "code",
   "execution_count": null,
   "source": [
    "np.max(wrap_dict[0]['mean']-wrap_dict[1]['mean'])"
   ],
   "outputs": [],
   "metadata": {}
  },
  {
   "cell_type": "code",
   "execution_count": null,
   "source": [
    "zz=np.array(mutual_info_dis_dict_para[0]).mean(axis=1)/np.log(2)"
   ],
   "outputs": [],
   "metadata": {}
  },
  {
   "cell_type": "code",
   "execution_count": null,
   "source": [
    "xx=delta_dict_para[0]"
   ],
   "outputs": [],
   "metadata": {}
  },
  {
   "cell_type": "code",
   "execution_count": null,
   "source": [
    "fig,axs=plt.subplots(2,1,figsize=(6.8,6.8),sharex=True,tight_layout=True)\n",
    "colorlist='bgrcmyk'\n",
    "labellist=['Sequential','Every 2','Every 3']\n",
    "ax=axs[0]\n",
    "for i,color,label in zip(range(3),colorlist,labellist):\n",
    "    ax.plot(wrap_dict['delta'],wrap_dict[i]['mean'],color=color,label=label)\n",
    "\n",
    "ax.legend()\n",
    "ax.set_ylabel(r'MI between A and B [$\\log2$]')\n",
    "\n",
    "\n",
    "ax=axs[1]\n",
    "for i,color,label in zip(range(3),colorlist,labellist):\n",
    "    ax.plot(wrap_dict['delta'],wrap_dict[i]['std'],color=color,label=label)\n",
    "\n",
    "ax.legend()\n",
    "ax.set_ylabel(r'STD of MI between A and B [$\\log2$]')\n",
    "\n",
    "ax.set_xlabel(r'$\\delta$')\n",
    "fig.savefig('/mnt/d/kitp/Rp_SPT/5/mutual_info_Born_En100000_order.pdf',bbox_inches='tight')\n"
   ],
   "outputs": [],
   "metadata": {}
  },
  {
   "cell_type": "code",
   "execution_count": null,
   "source": [
    "params=Params(delta=.5,L=64,T=0,bc=-1,basis='m')"
   ],
   "outputs": [],
   "metadata": {}
  },
  {
   "cell_type": "code",
   "execution_count": null,
   "source": [
    "params.measure_all_Born(order='alternating')"
   ],
   "outputs": [],
   "metadata": {}
  },
  {
   "cell_type": "code",
   "execution_count": null,
   "source": [
    "params.i_history"
   ],
   "outputs": [],
   "metadata": {}
  },
  {
   "cell_type": "code",
   "execution_count": null,
   "source": [
    "plist=np.mean(s_history_dis_dict_para[0],axis=(1,2))"
   ],
   "outputs": [],
   "metadata": {}
  },
  {
   "cell_type": "code",
   "execution_count": null,
   "source": [
    "paritylist=(1-(1-2*plist)**16)/2"
   ],
   "outputs": [],
   "metadata": {}
  },
  {
   "cell_type": "code",
   "execution_count": null,
   "source": [
    "paritylist2=(1-(1-2*plist)**)/2"
   ],
   "outputs": [],
   "metadata": {}
  },
  {
   "cell_type": "code",
   "execution_count": null,
   "source": [
    "plt.plot(delta_dict_para[0])"
   ],
   "outputs": [],
   "metadata": {}
  },
  {
   "cell_type": "code",
   "execution_count": null,
   "source": [
    "plt.plot(delta_dict_para[0],paritylist)\n",
    "# plt.plot(delta_dict_para[0],paritylist2)\n",
    "# plt.plot(delta_dict_para[0],np.mean(s_history_dis_dict_para[0],axis=(1,2)))\n",
    "plt.plot(delta_dict_para[0],np.array(odd_ensemble_size)/es,'.-',label='Odd parity')\n",
    "\n"
   ],
   "outputs": [],
   "metadata": {}
  },
  {
   "cell_type": "code",
   "execution_count": null,
   "source": [
    "L=16\n",
    "ensemble={}\n",
    "prob_list=np.linspace(0,1,100)\n",
    "for prob in prob_list:\n",
    "    ensemble[prob]=[]\n",
    "    for _ in range(10000):\n",
    "        ensemble[prob].append(np.sum(np.random.rand(L)>prob)%2)"
   ],
   "outputs": [],
   "metadata": {}
  },
  {
   "cell_type": "code",
   "execution_count": null,
   "source": [],
   "outputs": [],
   "metadata": {}
  },
  {
   "cell_type": "code",
   "execution_count": null,
   "source": [
    "prob_odd=[np.mean(ensemble[prob]) for prob in prob_list]"
   ],
   "outputs": [],
   "metadata": {}
  },
  {
   "cell_type": "code",
   "execution_count": null,
   "source": [
    "paritylist=(1-(1-2*prob_list)**16)/2"
   ],
   "outputs": [],
   "metadata": {}
  },
  {
   "cell_type": "code",
   "execution_count": null,
   "source": [
    "plt.plot(prob_list,prob_odd)\n",
    "plt.plot(prob_list,paritylist)"
   ],
   "outputs": [],
   "metadata": {}
  },
  {
   "cell_type": "code",
   "execution_count": null,
   "source": [
    "params=Params(delta=.5,L=64,T=0,bc=-1,basis='m')"
   ],
   "outputs": [],
   "metadata": {}
  },
  {
   "cell_type": "code",
   "execution_count": null,
   "source": [
    "params.covariance_matrix_m()"
   ],
   "outputs": [],
   "metadata": {}
  },
  {
   "cell_type": "code",
   "execution_count": null,
   "source": [
    "(1-params.C_m_history[-1][0,1])/2"
   ],
   "outputs": [],
   "metadata": {}
  },
  {
   "cell_type": "code",
   "execution_count": null,
   "source": [
    "plt.plot([(1-params.C_m_history[-1][0+x,1+x])/2 for x in np.arange(0,128,2)])"
   ],
   "outputs": [],
   "metadata": {}
  },
  {
   "cell_type": "code",
   "execution_count": null,
   "source": [
    "params.measure(1,0+50,1+50)"
   ],
   "outputs": [],
   "metadata": {}
  },
  {
   "cell_type": "code",
   "execution_count": null,
   "source": [
    "(1-params.C_m_history[-1][0+2,1+2])/2"
   ],
   "outputs": [],
   "metadata": {}
  },
  {
   "cell_type": "code",
   "execution_count": null,
   "source": [
    "plt.plot([(1-params.C_m_history[-1][0+x,1+x])/2 for x in np.arange(0,128,2)],'.-')"
   ],
   "outputs": [],
   "metadata": {}
  },
  {
   "cell_type": "markdown",
   "source": [
    "# Logarithmic Negativity"
   ],
   "metadata": {}
  },
  {
   "cell_type": "code",
   "execution_count": null,
   "source": [
    "delta_list=np.linspace(-1,1,100)**3\n",
    "logneg_list={}\n",
    "for L in (8,16,32,64):\n",
    "    logneg_list[L]=[]\n",
    "    for delta in delta_list:\n",
    "        params=Params(delta=delta,L=64,bc=-1)\n",
    "        logneg_list[L].append(params.log_neg(np.arange(L),np.arange(L,2*params.L)))"
   ],
   "outputs": [],
   "metadata": {}
  },
  {
   "cell_type": "code",
   "execution_count": null,
   "source": [
    "fig,ax=plt.subplots()\n",
    "for k,v in logneg_list.items():\n",
    "    ax.plot(delta_list,v/np.log(2),'-',label=k)\n",
    "ax.grid('on')\n",
    "ax.legend()\n",
    "ax.set_xlabel(r'$\\delta$')\n",
    "ax.set_ylabel(r'log neg [log 2]')\n",
    "fig.tight_layout()\n",
    "fig.savefig('/mnt/d/kitp/Rp_SPT/5/Log_Neg.pdf',bbox_inches='tight')"
   ],
   "outputs": [],
   "metadata": {}
  },
  {
   "cell_type": "code",
   "execution_count": null,
   "source": [
    "# no measurment\n",
    "delta_list=np.linspace(-1,1,100)**3\n",
    "log_neg_list=[]\n",
    "for delta in delta_list:\n",
    "    params=Params(delta=delta,L=64,bc=-1)\n",
    "    log_neg_list.append(params.log_neg(np.arange(params.L//2),np.arange(params.L//2)+params.L))"
   ],
   "outputs": [],
   "metadata": {}
  },
  {
   "cell_type": "code",
   "execution_count": null,
   "source": [
    "# all projections to 0\n",
    "log_neg_pos_list=[]\n",
    "for delta in delta_list:\n",
    "    params=Params(delta=delta,L=64,bc=-1)\n",
    "    params.measure_all(1)\n",
    "    log_neg_pos_list.append(params.log_neg(np.arange(params.L//2),np.arange(params.L//2)+L))"
   ],
   "outputs": [],
   "metadata": {}
  },
  {
   "cell_type": "code",
   "execution_count": null,
   "source": [
    "# all projections to 1\n",
    "log_neg_neg_list=[]\n",
    "for delta in delta_list:\n",
    "    params=Params(delta=delta,L=64,bc=-1)\n",
    "    params.measure_all(0)\n",
    "    log_neg_neg_list.append(params.log_neg(np.arange(params.L//2),np.arange(params.L//2)+params.L))"
   ],
   "outputs": [],
   "metadata": {}
  },
  {
   "cell_type": "code",
   "execution_count": null,
   "source": [
    "es=1000\n",
    "L=64\n",
    "log_neg_Born_list=np.zeros((len(delta_list),(es)))\n",
    "delta=0\n",
    "for d_i,delta in enumerate(delta_list):\n",
    "    # # Serial\n",
    "    # for es_i in range(es):\n",
    "    #     log_neg_Born_list[d_i,es_i]=Params(delta=delta,L=L).measure_all_Born().log_neg(np.arange(L//2),np.arange(L//2)+L)\n",
    "    \n",
    "    # Parallel\n",
    "    async_result=rc[:].map_sync((lambda p:Params(delta=p[0],L=p[1]).measure_all_Born().log_neg(np.arange(p[1]//2),np.arange(p[1]//2)+p[1])),[(delta,L) for _ in range(es)])\n",
    "    log_neg_Born_list[d_i,:]=async_result    \n"
   ],
   "outputs": [],
   "metadata": {}
  },
  {
   "cell_type": "code",
   "execution_count": null,
   "source": [
    "plt.plot(delta_list,np.mean(log_neg_Born_list,1)/np.log(2))"
   ],
   "outputs": [],
   "metadata": {}
  },
  {
   "cell_type": "code",
   "execution_count": null,
   "source": [
    "from matplotlib.patches import Rectangle\n",
    "\n"
   ],
   "outputs": [],
   "metadata": {}
  },
  {
   "cell_type": "code",
   "execution_count": null,
   "source": [
    "fig,ax=plt.subplots()\n",
    "# ax.plot(delta_list,LN_no_list,'.-',label='No measurement')\n",
    "\n",
    "es=1000\n",
    "\n",
    "ax.plot(delta_list,log_neg_list/np.log(2),'.-',label='No measure',color='b')\n",
    "\n",
    "# ax.plot(delta_list,log_neg_neg_list/np.log(2),'.-',label='Measure all to s=-1 (occupied)',color='r')\n",
    "\n",
    "# ax.errorbar(delta_list,log_neg_Born_list.mean(axis=1)/np.log(2),log_neg_Born_list.std(axis=1)/np.log(2)/np.sqrt(es-1),capsize=3,fmt='.-',label='Born rules',color='c')\n",
    "\n",
    "ax.legend(loc=2)\n",
    "ax.grid('on')\n",
    "ax.set_xlabel(r'$\\delta$')\n",
    "ax.set_ylabel(r'log neg [log 2]')\n",
    "ax.set_ylim([0,0.55])\n",
    "green=Rectangle((-1,0),1,1,alpha=0.2,color='g')\n",
    "yellow=Rectangle((0,0),1,1,alpha=0.2,color='y')\n",
    "ax.add_patch(green)\n",
    "ax.add_patch(yellow)\n",
    "ax.set_xlim([-1,1])\n",
    "ax.text(.2,.65,'Trivial',transform=ax.transAxes,fontsize=16,ha='center',va='bottom')\n",
    "ax.text(.8,.65,'Topological',transform=ax.transAxes,fontsize=16,ha='center',va='bottom')\n",
    "\n",
    "fig.savefig('/mnt/d/KITP/slides_SPT/Kitaev_1.png',facecolor='w',dpi=1000)"
   ],
   "outputs": [],
   "metadata": {}
  },
  {
   "cell_type": "code",
   "execution_count": null,
   "source": [
    "fig,ax=plt.subplots()\n",
    "colorlist=iter('bgrcmyk')\n",
    "\n",
    "ax.plot(delta_list,log_neg_list/np.log(2),'.-',label='No measure',color=colorlist.__next__())\n",
    "ax.plot(delta_list,log_neg_pos_list/np.log(2),'.-',label='Measure all to s=+1 (empty)',color=colorlist.__next__())\n",
    "ax.plot(delta_list,log_neg_neg_list/np.log(2),'.-',label='Measure all to s=-1 (occupied)',color=colorlist.__next__())\n",
    "ax.plot(delta_list,np.mean(log_neg_Born_list,1)/np.log(2),'.-',label='Born rules',color=colorlist.__next__())\n",
    "\n",
    "ax.legend()\n",
    "ax.grid('on')\n",
    "ax.set_xlabel(r'$\\delta$')\n",
    "ax.set_ylabel(r'log neg [log 2]')\n",
    "fig.tight_layout()\n",
    "# fig.savefig('/mnt/d/kitp/Rp_SPT/5/Log_Neg_Measure.pdf',bbox_inches='tight')\n",
    "# fig.savefig('/mnt/d/kitp/Rp_SPT/6/Log_Neg_Measure.pdf',bbox_inches='tight')\n",
    "\n"
   ],
   "outputs": [],
   "metadata": {}
  },
  {
   "cell_type": "code",
   "execution_count": null,
   "source": [
    "delta_list[np.argmax(log_neg_pos_list)]"
   ],
   "outputs": [],
   "metadata": {}
  },
  {
   "cell_type": "markdown",
   "source": [
    "# Scaling behavior: Peak height and position"
   ],
   "metadata": {}
  },
  {
   "cell_type": "markdown",
   "source": [
    "## Decay length at $ \\delta =0 $"
   ],
   "metadata": {}
  },
  {
   "cell_type": "code",
   "execution_count": null,
   "source": [
    "MI_list=[]\n",
    "AAp=2\n",
    "d_list=np.arange(AAp+2,64,2)\n",
    "for ApB in d_list:\n",
    "    subregionA=np.arange(AAp)\n",
    "    subregionAp=np.arange(AAp,ApB,2)\n",
    "    subregionB=np.arange(ApB,ApB+2)\n",
    "    params=Params(delta=0,L=256,bc=-1,basis='m')\n",
    "    MI_list.append(params.mutual_information_m(subregionA,subregionB))"
   ],
   "outputs": [],
   "metadata": {}
  },
  {
   "cell_type": "code",
   "execution_count": null,
   "source": [
    "fig,ax=plt.subplots()\n",
    "ax.plot(np.log(d_list),np.log(MI_list),'.')\n",
    "mask=np.log(d_list)<4.5\n",
    "lr=scipy.stats.linregress(np.log(d_list)[mask],np.log(MI_list)[mask])\n",
    "ax.plot(np.log(d_list),lr.slope*np.log(d_list)+lr.intercept)\n",
    "ax.text(.1,.1,r'log MI={:.4f}$\\log L$+{:.2f},  $R^2$={:.4f}'.format(lr.slope,lr.intercept,lr.rvalue),transform=ax.transAxes)"
   ],
   "outputs": [],
   "metadata": {}
  },
  {
   "cell_type": "code",
   "execution_count": null,
   "source": [
    "d_list=np.arange(AAp+2,256,2)\n"
   ],
   "outputs": [],
   "metadata": {}
  },
  {
   "cell_type": "code",
   "execution_count": null,
   "source": [
    "# All project to 0\n",
    "MI_pos_list=[]\n",
    "d_list=np.arange(AAp+2,256,2)\n",
    "AAp=2\n",
    "for ApB in d_list:\n",
    "    subregionA=np.arange(AAp)\n",
    "    subregionAp=np.arange(AAp,ApB,2)\n",
    "    subregionB=np.arange(ApB,ApB+2)\n",
    "    params=Params(delta=0,L=1024,bc=-1,basis='m')\n",
    "    params.measure_all(1,subregionAp)\n",
    "    MI_pos_list.append(params.mutual_information_m(subregionA,subregionB))"
   ],
   "outputs": [],
   "metadata": {}
  },
  {
   "cell_type": "code",
   "execution_count": null,
   "source": [
    "fig,ax=plt.subplots()\n",
    "mask=np.arange(len(d_list))[1::2]\n",
    "x=np.log(np.log(d_list))[mask][:-5]\n",
    "y=np.array(MI_pos_list)[mask][:-5]\n",
    "ax.plot(x,y,'.')\n",
    "lr=scipy.stats.linregress(x,y)\n",
    "ax.plot(x,lr.slope*x+lr.intercept)\n",
    "ax.text(.1,.1,r'MI={:.4f}$\\log L$+{:.2f},  $R^2$={:.4f}'.format(lr.slope,lr.intercept,lr.rvalue),transform=ax.transAxes)"
   ],
   "outputs": [],
   "metadata": {}
  },
  {
   "cell_type": "code",
   "execution_count": null,
   "source": [
    "fig,ax=plt.subplots()\n",
    "mask=np.arange(len(d_list))[1::2]\n",
    "x=np.log(d_list)[mask][:-5]\n",
    "y=np.log((MI_pos_list))[mask][:-5]\n",
    "ax.plot(x,y,'.')\n",
    "lr=scipy.stats.linregress(x,y)\n",
    "ax.plot(x,lr.slope*x+lr.intercept)\n",
    "ax.text(.1,.1,r'MI={:.4f}$\\log L$+{:.2f},  $R^2$={:.4f}'.format(lr.slope,lr.intercept,lr.rvalue),transform=ax.transAxes)"
   ],
   "outputs": [],
   "metadata": {}
  },
  {
   "cell_type": "code",
   "execution_count": null,
   "source": [
    "fig,ax=plt.subplots()\n",
    "mask=np.arange(len(d_list))[:]\n",
    "x=np.log(d_list)[mask][:-5]\n",
    "y=np.log((MI_pos_list))[mask][:-5]\n",
    "ax.plot(x,y,'.')\n"
   ],
   "outputs": [],
   "metadata": {}
  },
  {
   "cell_type": "code",
   "execution_count": null,
   "source": [
    "x_0"
   ],
   "outputs": [],
   "metadata": {}
  },
  {
   "cell_type": "code",
   "execution_count": null,
   "source": [
    "fig,axs=plt.subplots(3,1,figsize=(6.8,8))\n",
    "mask_0=np.arange(len(d_list))[::2]\n",
    "mask_1=np.arange(len(d_list))[1::2]\n",
    "ax=axs[0]\n",
    "x_0=np.array(d_list)[mask_0][:-5]\n",
    "x_1=np.array(d_list)[mask_1][:-5]\n",
    "\n",
    "y_0=np.array((MI_pos_list))[mask_0][:-5]\n",
    "y_1=np.array((MI_pos_list))[mask_1][:-5]\n",
    "\n",
    "ax.plot(x_0,y_0/np.log(2),'.',color='b',label='Dist = even ferimoin sites')\n",
    "ax.plot(x_1,y_1/np.log(2),'.',color='r',label='Dist = odd ferimoin sites')\n",
    "ax.legend()\n",
    "\n",
    "ax.set_xlabel(r'L')\n",
    "ax.set_ylabel('MI [log 2]')\n",
    "ax.text(.5,1,'Measure all to +1',ha='center',va='bottom',transform=ax.transAxes)\n",
    "\n",
    "ax=axs[1]\n",
    "mask=np.arange(len(d_list))[1::2]\n",
    "x=np.log(d_list)[mask][:-5]\n",
    "y=np.log((MI_pos_list))[mask][:-5]\n",
    "ax.plot(x,y,'.')\n",
    "lr=scipy.stats.linregress(x,y)\n",
    "ax.plot(x,lr.slope*x+lr.intercept)\n",
    "ax.text(.1,.1,r'log MI={:.4f}$\\log L$+{:.2f},  $R^2$={:.4f}'.format(lr.slope,lr.intercept,lr.rvalue),transform=ax.transAxes)\n",
    "ax.set_xlabel(r'log L')\n",
    "ax.set_ylabel('log MI')\n",
    "\n",
    "ax=axs[2]\n",
    "mask=np.arange(len(d_list))[0::2]\n",
    "x=np.log(d_list)[mask][:-5]\n",
    "y=np.log((MI_pos_list))[mask][:-5]\n",
    "ax.plot(x,y,'.')\n",
    "lr=scipy.stats.linregress(x,y)\n",
    "ax.plot(x,lr.slope*x+lr.intercept)\n",
    "ax.text(.1,.1,r'log MI={:.4f}$\\log L$+{:.2f},  $R^2$={:.4f}'.format(lr.slope,lr.intercept,lr.rvalue),transform=ax.transAxes)\n",
    "ax.set_xlabel(r'log L')\n",
    "ax.set_ylabel('log MI')\n",
    "\n",
    "fig.tight_layout()\n",
    "\n",
    "fig.savefig('/mnt/d/kitp/Rp_SPT/5/MI_delta0_dist_pos.pdf',bbox_inches='tight')"
   ],
   "outputs": [],
   "metadata": {}
  },
  {
   "cell_type": "code",
   "execution_count": null,
   "source": [
    "fig,ax=plt.subplots()\n",
    "mask=np.arange(len(d_list))[1::2]\n",
    "x=np.log(d_list)[mask][:-5]\n",
    "y=np.log((MI_pos_list))[mask][:-5]\n",
    "ax.plot(x,y,'.')\n",
    "lr=scipy.stats.linregress(x,y)\n",
    "ax.plot(x,lr.slope*x+lr.intercept)\n",
    "ax.text(.1,.1,r'MI={:.4f}$\\log L$+{:.2f},  $R^2$={:.4f}'.format(lr.slope,lr.intercept,lr.rvalue),transform=ax.transAxes)\n",
    "ax.set_xlabel(r'log $\\delta$')\n",
    "ax.set_ylabel('log MI')\n"
   ],
   "outputs": [],
   "metadata": {}
  },
  {
   "cell_type": "code",
   "execution_count": null,
   "source": [
    "# All project to 0\n",
    "MI_neg_list=[]\n",
    "d_list=np.arange(AAp+2,64,2)\n",
    "AAp=2\n",
    "for ApB in d_list:\n",
    "    subregionA=np.arange(AAp)\n",
    "    subregionAp=np.arange(AAp,ApB,2)\n",
    "    subregionB=np.arange(ApB,ApB+2)\n",
    "    params=Params(delta=0,L=256,bc=-1,basis='m')\n",
    "    params.measure_all(0,subregionAp)\n",
    "    MI_neg_list.append(params.mutual_information_m(subregionA,subregionB))"
   ],
   "outputs": [],
   "metadata": {}
  },
  {
   "cell_type": "code",
   "execution_count": null,
   "source": [
    "fig,ax=plt.subplots()\n",
    "ax.plot(np.log(d_list),np.log(MI_neg_list),'.')\n",
    "mask=np.log(d_list)<3.5\n",
    "lr=scipy.stats.linregress(np.log(d_list)[mask],np.log(MI_neg_list)[mask])\n",
    "ax.plot(np.log(d_list),lr.slope*np.log(d_list)+lr.intercept)\n",
    "ax.text(.1,.1,r'log MI={:.4f}$\\log L$+{:.2f},  $R^2$={:.4f}'.format(lr.slope,lr.intercept,lr.rvalue),transform=ax.transAxes)"
   ],
   "outputs": [],
   "metadata": {}
  },
  {
   "cell_type": "code",
   "execution_count": null,
   "source": [
    "fig,axs=plt.subplots(2,1,sharex=True,figsize=(6.8,6))\n",
    "ax=axs[0]\n",
    "ax.plot(np.log(d_list),np.log(MI_list),'.')\n",
    "mask=np.log(d_list)<4.5\n",
    "lr=scipy.stats.linregress(np.log(d_list)[mask],np.log(MI_list)[mask])\n",
    "ax.plot(np.log(d_list),lr.slope*np.log(d_list)+lr.intercept)\n",
    "ax.text(.1,.1,r'log MI={:.4f}$\\log L$+{:.2f},  $R^2$={:.4f}'.format(lr.slope,lr.intercept,lr.rvalue),transform=ax.transAxes)\n",
    "ax.set_ylabel('log MI')\n",
    "ax.text(0.5,1,'No measurement',ha='center',va='bottom',transform=ax.transAxes)\n",
    "ax=axs[1]\n",
    "ax.plot(np.log(d_list),np.log(MI_neg_list),'.')\n",
    "mask=np.log(d_list)<3.5\n",
    "lr=scipy.stats.linregress(np.log(d_list)[mask],np.log(MI_neg_list)[mask])\n",
    "ax.plot(np.log(d_list),lr.slope*np.log(d_list)+lr.intercept)\n",
    "ax.text(.1,.1,r'log MI={:.4f}$\\log L$+{:.2f},  $R^2$={:.4f}'.format(lr.slope,lr.intercept,lr.rvalue),transform=ax.transAxes)\n",
    "ax.text(0.5,1,'Measure all to -1',ha='center',va='bottom',transform=ax.transAxes)\n",
    "\n",
    "ax.set_xlabel(r'$\\log L$')\n",
    "ax.set_ylabel('log MI')\n",
    "fig.tight_layout()\n",
    "\n",
    "fig.savefig('/mnt/d/kitp/Rp_SPT/5/MI_delta0_dist.pdf',bbox_inches='tight')"
   ],
   "outputs": [],
   "metadata": {}
  },
  {
   "cell_type": "markdown",
   "source": [
    "## Scale as a function of dist between A & B"
   ],
   "metadata": {}
  },
  {
   "cell_type": "code",
   "execution_count": null,
   "source": [
    "# no measurement\n",
    "mutual_info_list={}\n",
    "delta_list=np.linspace(-1,1,300)**5\n",
    "AAp=2\n",
    "for ApB in np.arange(AAp+2,64,2):\n",
    "    mutual_info_list[ApB]=[]\n",
    "\n",
    "    for delta in delta_list:\n",
    "        params=Params(delta=delta,L=64,bc=-1)\n",
    "        subregionA=np.arange(AAp)\n",
    "        subregionAp=np.arange(AAp,ApB,2)\n",
    "        subregionB=np.arange(ApB,ApB+2)\n",
    "        # subregionBp=np.arange(ApB+32,2*params.L,2)\n",
    "        # params.measure_all(1,subregionAp)\n",
    "        # params.measure_all(1,subregionBp)\n",
    "        mutual_info_list[ApB].append(params.mutual_information_m(subregionA,subregionB))"
   ],
   "outputs": [],
   "metadata": {}
  },
  {
   "cell_type": "code",
   "execution_count": null,
   "source": [
    "mutual_info_pos_list={}"
   ],
   "outputs": [],
   "metadata": {}
  },
  {
   "cell_type": "code",
   "execution_count": null,
   "source": [
    "# all projections to 0\n",
    "delta_list=np.linspace(-1,1,300)**5\n",
    "AAp=2\n",
    "for ApB in np.arange(AAp+2,64,2):\n",
    "    mutual_info_pos_list[ApB]=[]\n",
    "\n",
    "    for delta in delta_list:\n",
    "        params=Params(delta=delta,L=64,bc=-1)\n",
    "        subregionA=np.arange(AAp)\n",
    "        subregionAp=np.arange(AAp,ApB,2)\n",
    "        subregionB=np.arange(ApB,ApB+2)\n",
    "        # subregionBp=np.arange(ApB+32,2*params.L,2)\n",
    "        params.measure_all(1,subregionAp)\n",
    "        # params.measure_all(1,subregionBp)\n",
    "        mutual_info_pos_list[ApB].append(params.mutual_information_m(subregionA,subregionB))"
   ],
   "outputs": [],
   "metadata": {}
  },
  {
   "cell_type": "code",
   "execution_count": null,
   "source": [
    "mutual_info_neg_list={}"
   ],
   "outputs": [],
   "metadata": {}
  },
  {
   "cell_type": "code",
   "execution_count": null,
   "source": [
    "# all projections to 1\n",
    "delta_list=np.linspace(-1,1,300)**5\n",
    "AAp=2\n",
    "for ApB in np.arange(AAp+2,64,2):\n",
    "    mutual_info_neg_list[ApB]=[]\n",
    "\n",
    "    for delta in delta_list:\n",
    "        params=Params(delta=delta,L=64,bc=-1)\n",
    "        subregionA=np.arange(AAp)\n",
    "        subregionAp=np.arange(AAp,ApB,2)\n",
    "        subregionB=np.arange(ApB,ApB+2)\n",
    "        # subregionBp=np.arange(ApB+32,2*params.L,2)\n",
    "        params.measure_all(0,subregionAp)\n",
    "        # params.measure_all(1,subregionBp)\n",
    "        mutual_info_neg_list[ApB].append(params.mutual_information_m(subregionA,subregionB))"
   ],
   "outputs": [],
   "metadata": {}
  },
  {
   "cell_type": "code",
   "execution_count": null,
   "source": [
    "# all projections to 1\n",
    "delta_list=np.linspace(-1,1,300)**5\n",
    "for ApB in np.arange(34,65,2):\n",
    "    mutual_info_neg_list[ApB]=[]\n",
    "\n",
    "    for delta in delta_list:\n",
    "        params=Params(delta=delta,L=64,bc=-1)\n",
    "        subregionA=np.arange(32)\n",
    "        subregionAp=np.arange(32,ApB,2)\n",
    "        subregionB=np.arange(ApB,ApB+32)\n",
    "        subregionBp=np.arange(ApB+32,2*params.L,2)\n",
    "        params.measure_all(0,subregionAp)\n",
    "        mutual_info_neg_list[ApB].append(params.mutual_information_m(subregionA,subregionB))"
   ],
   "outputs": [],
   "metadata": {}
  },
  {
   "cell_type": "code",
   "execution_count": null,
   "source": [
    "ApB=64\n",
    "subregionA=np.arange(32)\n",
    "subregionAp=np.arange(32,ApB,2)\n",
    "subregionB=np.arange(ApB,ApB+32)\n",
    "subregionBp=np.arange(ApB+32,2*params.L,2)"
   ],
   "outputs": [],
   "metadata": {}
  },
  {
   "cell_type": "code",
   "execution_count": null,
   "source": [
    "subregionAp.shape[0]*2"
   ],
   "outputs": [],
   "metadata": {}
  },
  {
   "cell_type": "code",
   "execution_count": null,
   "source": [
    "np.arange(34,64,4)+2"
   ],
   "outputs": [],
   "metadata": {}
  },
  {
   "cell_type": "code",
   "execution_count": null,
   "source": [
    "mutual_info_pos_list.keys()"
   ],
   "outputs": [],
   "metadata": {}
  },
  {
   "cell_type": "code",
   "execution_count": null,
   "source": [
    "colorlist=('bgrcmyk')"
   ],
   "outputs": [],
   "metadata": {}
  },
  {
   "cell_type": "code",
   "execution_count": null,
   "source": [
    "fig,ax=plt.subplots(2,3,figsize=(10,6),sharex=True)\n",
    "colorlist=('bgrcmyk')\n",
    "plotstyle='-'\n",
    "for i,color in zip(np.arange(34,64,4),colorlist):\n",
    "    ax[0,0].plot(delta_list,mutual_info_pos_list[i]/np.log(2),plotstyle,label=r'$L_{{AB}}={}$'.format(i),color=color)\n",
    "    ax[0,1].plot(delta_list,mutual_info_neg_list[i]/np.log(2),plotstyle,label=r'$L_{{AB}}={}$'.format(i),color=color)\n",
    "    ax[0,2].plot(delta_list,mutual_info_list[i]/np.log(2),plotstyle,label=r'$L_{{AB}}={}$'.format(i),color=color)\n",
    "\n",
    "    ax[1,0].plot(delta_list,mutual_info_pos_list[i+2]/np.log(2),plotstyle,label=r'$L_{{AB}}={}$'.format(i+2),color=color)\n",
    "    ax[1,1].plot(delta_list,mutual_info_neg_list[i+2]/np.log(2),plotstyle,label=r'$L_{{AB}}={}$'.format(i+2),color=color)\n",
    "    ax[1,2].plot(delta_list,mutual_info_list[i+2]/np.log(2),plotstyle,label=r'$L_{{AB}}={}$'.format(i+2),color=color)\n",
    "\n",
    "\n",
    "[ax.legend() for ax in ax.flatten()]\n",
    "[ax.set_xlabel('$\\delta$') for ax in ax[1,:]]\n",
    "ax[0,0].set_ylabel('MI between A and B [log 2]')\n",
    "ax[1,0].set_ylabel('MI between A and B [log 2]')\n",
    "\n",
    "ax[0,0].text(.5,1,'Measure +1',transform=ax[0,0].transAxes,ha='center',va='bottom')\n",
    "ax[0,1].text(.5,1,'Measure -1',transform=ax[0,1].transAxes,ha='center',va='bottom')\n",
    "ax[0,2].text(.5,1,'No measurement',transform=ax[0,2].transAxes,ha='center',va='bottom')\n",
    "\n",
    "fig.tight_layout()\n",
    "\n",
    "fig.savefig('/mnt/d/kitp/Rp_SPT/5/MI_scaling_distance.pdf',bbox_inches='tight')"
   ],
   "outputs": [],
   "metadata": {}
  },
  {
   "cell_type": "code",
   "execution_count": null,
   "source": [
    "distance_list=[]\n",
    "peak_list=[]\n",
    "peak_pos_list=[]\n",
    "for i in np.arange(34,64,4):\n",
    "# plt.plot(delta_list,mutual_info_pos_list[i+2]/np.log(2))\n",
    "    peak=(mutual_info_pos_list[i+2]/np.log(2)).max()\n",
    "    peak_pos=delta_list[(np.argmax(mutual_info_pos_list[i+2]/np.log(2)))]\n",
    "    # print('peak: {}, peak position: {}'.format(peak,peak_pos))\n",
    "    distance_list.append(i+2)\n",
    "    peak_list.append(peak)\n",
    "    peak_pos_list.append(peak_pos)"
   ],
   "outputs": [],
   "metadata": {}
  },
  {
   "cell_type": "code",
   "execution_count": null,
   "source": [
    "plt.plot(distance_list,peak_list)"
   ],
   "outputs": [],
   "metadata": {}
  },
  {
   "cell_type": "code",
   "execution_count": null,
   "source": [
    "plt.plot(distance_list,peak_pos_list)"
   ],
   "outputs": [],
   "metadata": {}
  },
  {
   "cell_type": "code",
   "execution_count": null,
   "source": [
    "fig,ax=plt.subplots(2,1,sharex=True,figsize=(6.8,5))\n",
    "ax[0].plot(distance_list,peak_list,'.-')\n",
    "ax[1].plot(distance_list,peak_pos_list,'.-')\n",
    "ax[0].set_ylabel(r'MI Peak height ($\\log 2$)')\n",
    "ax[1].set_ylabel(r'MI Peak position ($\\delta$)')\n",
    "ax[1].set_xlabel('Distance between subregion A and B')\n",
    "\n",
    "fig.tight_layout()\n",
    "fig.savefig('/mnt/d/kitp/Rp_SPT/5/MI_scaling_distance_peakpos.pdf',bbox_inches='tight')"
   ],
   "outputs": [],
   "metadata": {}
  },
  {
   "cell_type": "markdown",
   "source": [
    "## System size "
   ],
   "metadata": {}
  },
  {
   "cell_type": "markdown",
   "source": [
    "### |A|/dist = 1/2"
   ],
   "metadata": {}
  },
  {
   "cell_type": "code",
   "execution_count": null,
   "source": [
    "# no measurment\n",
    "mutual_info_list={}\n",
    "delta_list=np.linspace(-1,1,100)**3\n",
    "L_list=np.arange(16,101,4)\n",
    "for L in L_list:\n",
    "    mutual_info_list[L]=[]\n",
    "    for delta in delta_list:\n",
    "        params=Params(delta=delta,L=L,bc=-1)\n",
    "        mutual_info_list[L].append(params.mutual_information_m(np.arange(int(params.L/2)),np.arange(int(params.L/2))+params.L))"
   ],
   "outputs": [],
   "metadata": {}
  },
  {
   "cell_type": "code",
   "execution_count": null,
   "source": [
    "# all projections to 0\n",
    "mutual_info_pos_list={}\n",
    "for L in L_list:\n",
    "    mutual_info_pos_list[L]=[]\n",
    "    for delta in delta_list:\n",
    "        params=Params(delta=delta,L=L,bc=-1)\n",
    "        params.measure_all(1)\n",
    "        mutual_info_pos_list[L].append(params.mutual_information_m(np.arange(int(params.L/2)),np.arange(params.L/2)+params.L))"
   ],
   "outputs": [],
   "metadata": {}
  },
  {
   "cell_type": "code",
   "execution_count": null,
   "source": [
    "# all projections to 1\n",
    "mutual_info_neg_list={}\n",
    "for L in L_list:\n",
    "    mutual_info_neg_list[L]=[]\n",
    "    for delta in delta_list:\n",
    "        params=Params(delta=delta,L=L,bc=-1)\n",
    "        params.measure_all(0)\n",
    "        mutual_info_neg_list[L].append(params.mutual_information_m(np.arange(int(params.L/2)),np.arange(params.L/2)+params.L))"
   ],
   "outputs": [],
   "metadata": {}
  },
  {
   "cell_type": "code",
   "execution_count": null,
   "source": [
    "L_list"
   ],
   "outputs": [],
   "metadata": {}
  },
  {
   "cell_type": "code",
   "execution_count": null,
   "source": [
    "mutual_info_neg_list.keys()"
   ],
   "outputs": [],
   "metadata": {}
  },
  {
   "cell_type": "code",
   "execution_count": null,
   "source": [
    "fig,ax=plt.subplots(2,1,figsize=(6.8,6),sharex=True)\n",
    "# i=20\n",
    "colorlist=('bgrcmyk')\n",
    "for i,color in zip(range(16,64,8),colorlist):\n",
    "    ax[0].plot(delta_list,mutual_info_list[i]/np.log(2),label=r'$L={}$'.format(i),ls='-',lw=1,color=color)\n",
    "    ax[0].plot(delta_list,mutual_info_pos_list[i]/np.log(2),ls='--',lw=1,color=color)\n",
    "    ax[0].plot(delta_list,mutual_info_neg_list[i]/np.log(2),ls=':',lw=1,color=color)\n",
    "\n",
    "    # i+=2\n",
    "    # ax[0,1].plot(delta_list,mutual_info_list[i]/np.log(2),label=r'$L={}$'.format(i),ls='-',lw=1,color=color)\n",
    "    # ax[0,1].plot(delta_list,mutual_info_pos_list[i]/np.log(2),ls='--',lw=1,color=color)\n",
    "    # ax[0,1].plot(delta_list,mutual_info_neg_list[i]/np.log(2),ls=':',lw=1,color=color)\n",
    "\n",
    "    i+=4\n",
    "    ax[1].plot(delta_list,mutual_info_list[i]/np.log(2),label=r'$L={}$'.format(i),ls='-',lw=1,color=color)\n",
    "    ax[1].plot(delta_list,mutual_info_pos_list[i]/np.log(2),ls='--',lw=1,color=color)\n",
    "    ax[1].plot(delta_list,mutual_info_neg_list[i]/np.log(2),ls=':',lw=1,color=color)\n",
    "\n",
    "    # i+=2\n",
    "    # ax[1,1].plot(delta_list,mutual_info_list[i]/np.log(2),label=r'$L={}$'.format(i),ls='-',lw=1,color=color)\n",
    "    # ax[1,1].plot(delta_list,mutual_info_pos_list[i]/np.log(2),ls='--',lw=1,color=color)\n",
    "    # ax[1,1].plot(delta_list,mutual_info_neg_list[i]/np.log(2),ls=':',lw=1,color=color)\n",
    "\n",
    "    # ax[0,1].plot(delta_list,mutual_info_list[i+2]/np.log(2))\n",
    "\n",
    "[ax.legend() for ax in ax.flatten()]\n",
    "ax[1].set_xlabel(r'$\\delta$')\n",
    "[ax.set_ylabel(r'Mutual information [$\\log 2$]') for ax in ax[:]]\n",
    "[ax.text(-0.1,1,'({})'.format(text),ha='right',va='top',transform=ax.transAxes) for ax,text in zip(ax.flatten(),'abcd')]\n",
    "fig.tight_layout()\n",
    "# fig.savefig('/mnt/d/kitp/Rp_SPT/5/MI_scaling_size.pdf')"
   ],
   "outputs": [],
   "metadata": {}
  },
  {
   "cell_type": "code",
   "execution_count": null,
   "source": [
    "fig,ax=plt.subplots()\n",
    "for i,color in zip(range(16,64,8),colorlist):\n",
    "    ax.plot(delta_list,mutual_info_neg_list[i]/np.log(2),ls=':',lw=1,color=color)\n"
   ],
   "outputs": [],
   "metadata": {}
  },
  {
   "cell_type": "code",
   "execution_count": null,
   "source": [
    "f1=interpolate.interp1d(delta_list,mutual_info_neg_list[16]/np.log(2))\n",
    "f2=interpolate.interp1d(delta_list,mutual_info_neg_list[16+8]/np.log(2))"
   ],
   "outputs": [],
   "metadata": {}
  },
  {
   "cell_type": "code",
   "execution_count": null,
   "source": [
    "def find_intersection(delta_list,d1,d2):\n",
    "    f1=interpolate.interp1d(delta_list,d1)\n",
    "    f2=interpolate.interp1d(delta_list,d2)\n",
    "    x=np.arange(-0.01,0.01,1e-5)\n",
    "    y=f1(x)-f2(x)\n",
    "    x0=x[np.argmin(np.abs(y))]\n",
    "    return x0,f1(x0).item()"
   ],
   "outputs": [],
   "metadata": {}
  },
  {
   "cell_type": "code",
   "execution_count": null,
   "source": [
    "delta0_list=[]\n",
    "f0_list=[]\n",
    "for i in range(16,56,8):\n",
    "    x0,y0=find_intersection(delta_list,mutual_info_neg_list[i]/np.log(2),mutual_info_neg_list[i+8]/np.log(2))\n",
    "    delta0_list.append(x0)\n",
    "    f0_list.append(y0)"
   ],
   "outputs": [],
   "metadata": {}
  },
  {
   "cell_type": "code",
   "execution_count": null,
   "source": [
    "plt.plot(delta0_list,f0_list)"
   ],
   "outputs": [],
   "metadata": {}
  },
  {
   "cell_type": "code",
   "execution_count": null,
   "source": [
    "# all projections to 0\n",
    "mutual_info_pos_fine_list={}\n",
    "delta_list=np.linspace(-.02,.06,100)\n",
    "L_list=np.arange(16,401,8)\n",
    "for L in L_list:\n",
    "    mutual_info_pos_fine_list[L]=[]\n",
    "    for delta in delta_list:\n",
    "        params=Params(delta=delta,L=L,bc=-1)\n",
    "        params.measure_all(1)\n",
    "        mutual_info_pos_fine_list[L].append(params.mutual_information_m(np.arange(int(params.L/2)),np.arange(params.L/2)+params.L))"
   ],
   "outputs": [],
   "metadata": {}
  },
  {
   "cell_type": "code",
   "execution_count": null,
   "source": [
    "# all projections to 1\n",
    "mutual_info_neg_fine_list={}\n",
    "delta_list=np.linspace(-.02,.06,100)\n",
    "L_list=np.arange(16,401,8)\n",
    "for L in L_list:\n",
    "    mutual_info_neg_fine_list[L]=[]\n",
    "    for delta in delta_list:\n",
    "        params=Params(delta=delta,L=L,bc=-1)\n",
    "        params.measure_all(0)\n",
    "        mutual_info_neg_fine_list[L].append(params.mutual_information_m(np.arange(int(params.L/2)),np.arange(params.L/2)+params.L))"
   ],
   "outputs": [],
   "metadata": {}
  },
  {
   "cell_type": "code",
   "execution_count": null,
   "source": [
    "L_list=[]\n",
    "peak_list=[]\n",
    "peak_pos_list=[]\n",
    "for i in range(16,401,8):\n",
    "# plt.plot(delta_list,mutual_info_pos_list[i+2]/np.log(2))\n",
    "    peak=(mutual_info_pos_fine_list[i]/np.log(2)).max()\n",
    "    peak_pos=delta_list[(np.argmax(mutual_info_pos_fine_list[i]/np.log(2)))]\n",
    "    # print('peak: {}, peak position: {}'.format(peak,peak_pos))\n",
    "    L_list.append(i)\n",
    "    peak_list.append(peak)\n",
    "    peak_pos_list.append(peak_pos)"
   ],
   "outputs": [],
   "metadata": {}
  },
  {
   "cell_type": "code",
   "execution_count": null,
   "source": [
    "fig,ax=plt.subplots(2,1,sharex=True,figsize=(6.8,5))\n",
    "ax[0].plot(L_list,peak_list,'.-')\n",
    "ax[1].plot(L_list,peak_pos_list,'.-')\n",
    "ax[0].set_ylabel(r'MI Peak height ($\\log 2$)')\n",
    "ax[1].set_ylabel(r'MI Peak position ($\\delta$)')\n",
    "ax[1].set_xlabel('L')\n",
    "\n",
    "fig.tight_layout()\n",
    "fig.savefig('/mnt/d/kitp/Rp_SPT/5/MI_scaling_size_peakpos.pdf',bbox_inches='tight')"
   ],
   "outputs": [],
   "metadata": {}
  },
  {
   "cell_type": "code",
   "execution_count": null,
   "source": [
    "len(peak_list)"
   ],
   "outputs": [],
   "metadata": {}
  },
  {
   "cell_type": "code",
   "execution_count": null,
   "source": [
    "fig,ax=plt.subplots()\n",
    "ax.plot(np.log(L_list),(peak_list),'.',marker='x')\n",
    "ax.set_xlabel('log L')\n",
    "ax.set_ylabel(r'MI Peak height ($\\log 2$)')\n",
    "lr=scipy.stats.linregress(np.log(L_list),(peak_list))\n",
    "ax.plot(np.log(L_list),lr.slope*np.log(L_list)+lr.intercept)\n",
    "ax.text(.1,.8,r'MI={:.4f}$\\log L$+{:.2f},  $R^2$={:.4f}'.format(lr.slope,lr.intercept,lr.rvalue),transform=ax.transAxes)\n",
    "fig.savefig('/mnt/d/kitp/Rp_SPT/5/MI_scaling_size_peak_log.pdf',bbox_inches='tight')"
   ],
   "outputs": [],
   "metadata": {}
  },
  {
   "cell_type": "code",
   "execution_count": null,
   "source": [
    "lr"
   ],
   "outputs": [],
   "metadata": {}
  },
  {
   "cell_type": "code",
   "execution_count": null,
   "source": [
    "plt.plot(L_list,peak_pos_list,'.-')"
   ],
   "outputs": [],
   "metadata": {}
  },
  {
   "cell_type": "code",
   "execution_count": null,
   "source": [
    "MI_list=[]\n",
    "L_list=np.arange(4,100,2)\n",
    "for dist in L_list:\n",
    "    params=Params(delta=0.,L=400,bc=-1,basis='m')\n",
    "    MI_list.append(params.mutual_information_m(np.arange(2),np.arange(2)+dist))\n"
   ],
   "outputs": [],
   "metadata": {}
  },
  {
   "cell_type": "code",
   "execution_count": null,
   "source": [
    "plt.plot(L_list,MI_list)"
   ],
   "outputs": [],
   "metadata": {}
  },
  {
   "cell_type": "code",
   "execution_count": null,
   "source": [
    "plt.plot(np.log(L_list),np.log(MI_list))"
   ],
   "outputs": [],
   "metadata": {}
  },
  {
   "cell_type": "code",
   "execution_count": null,
   "source": [
    "lr=scipy.stats.linregress(np.log(L_list),np.log(MI_list))"
   ],
   "outputs": [],
   "metadata": {}
  },
  {
   "cell_type": "code",
   "execution_count": null,
   "source": [
    "lr"
   ],
   "outputs": [],
   "metadata": {}
  },
  {
   "cell_type": "code",
   "execution_count": null,
   "source": [
    "MI_list=[]\n",
    "L_list=np.arange(4,100,2)\n",
    "for dist in L_list:    \n",
    "    params=Params(delta=0.,L=400,bc=-1,basis='m')\n",
    "    \n",
    "    MI_list.append(params.mutual_information_m(np.arange(2),np.arange(2)+dist))\n"
   ],
   "outputs": [],
   "metadata": {}
  },
  {
   "cell_type": "markdown",
   "source": [
    "### |A|/dist = 1/4"
   ],
   "metadata": {}
  },
  {
   "cell_type": "code",
   "execution_count": null,
   "source": [
    "# no measurment\n",
    "mutual_info_list={}\n",
    "delta_list=np.linspace(-1,1,100)**3\n",
    "L_list=np.arange(16,101,4)\n",
    "for L in L_list:\n",
    "    mutual_info_list[L]=[]\n",
    "    for delta in delta_list:\n",
    "        params=Params(delta=delta,L=L,bc=-1)\n",
    "        mutual_info_list[L].append(params.mutual_information_m(np.arange(int(params.L/2)),np.arange(int(params.L/2))+params.L))"
   ],
   "outputs": [],
   "metadata": {}
  },
  {
   "cell_type": "code",
   "execution_count": null,
   "source": [
    "# all projections to 0\n",
    "mutual_info_pos_list={}\n",
    "for L in L_list:\n",
    "    mutual_info_pos_list[L]=[]\n",
    "    for delta in delta_list:\n",
    "        params=Params(delta=delta,L=L,bc=-1)\n",
    "        params.measure_all(1)\n",
    "        mutual_info_pos_list[L].append(params.mutual_information_m(np.arange(int(params.L/2)),np.arange(params.L/2)+params.L))"
   ],
   "outputs": [],
   "metadata": {}
  },
  {
   "cell_type": "code",
   "execution_count": null,
   "source": [
    "subregionA.shape"
   ],
   "outputs": [],
   "metadata": {}
  },
  {
   "cell_type": "code",
   "execution_count": null,
   "source": [
    "subregionAp.shape"
   ],
   "outputs": [],
   "metadata": {}
  },
  {
   "cell_type": "code",
   "execution_count": null,
   "source": [
    "subregionB"
   ],
   "outputs": [],
   "metadata": {}
  },
  {
   "cell_type": "code",
   "execution_count": null,
   "source": [
    "ratio=np.array([1,3])"
   ],
   "outputs": [],
   "metadata": {}
  },
  {
   "cell_type": "code",
   "execution_count": null,
   "source": [
    "np.gradient(np.array([1,2,4]))"
   ],
   "outputs": [],
   "metadata": {}
  },
  {
   "cell_type": "code",
   "execution_count": null,
   "source": [
    "np.gradient(ratio)"
   ],
   "outputs": [],
   "metadata": {}
  },
  {
   "cell_type": "code",
   "execution_count": null,
   "source": [
    "# all projections to 1\n",
    "delta_list=np.linspace(-1,1,100)**3\n",
    "mutual_info_neg_list={}\n",
    "ratio=np.array([1,3])\n",
    "L_list=np.arange(2,20)*ratio[1]*2\n",
    "alpha=ratio[0]/ratio[1]\n",
    "for L in L_list:\n",
    "    # print(L)\n",
    "    mutual_info_neg_list[L]=[]\n",
    "    subregionA=np.arange(L*alpha,dtype='int')    \n",
    "    subregionAp=np.arange(L*alpha,L,2,dtype='int')\n",
    "    subregionB=np.arange(L,L*(1+alpha),dtype='int')\n",
    "\n",
    "    for delta in delta_list:\n",
    "        params=Params(delta=delta,L=L,bc=-1)\n",
    "        params.measure_all(0,subregionAp)\n",
    "        mutual_info_neg_list[L].append(params.mutual_information_m(subregionA,subregionB))"
   ],
   "outputs": [],
   "metadata": {}
  },
  {
   "cell_type": "code",
   "execution_count": null,
   "source": [
    "fig,ax=plt.subplots()\n",
    "for i,color in zip(L_list,colorlist):\n",
    "    ax.plot(delta_list,mutual_info_neg_list[i]/np.log(2),ls=':',lw=1,color=color)\n"
   ],
   "outputs": [],
   "metadata": {}
  },
  {
   "cell_type": "code",
   "execution_count": null,
   "source": [
    "# all projections to 1\n",
    "delta_list=np.linspace(-.01,.01,100)\n",
    "mutual_info_neg_finer_list={}\n",
    "L_list=np.arange(2,20)*3*2\n",
    "ratio=np.array([1,3])\n",
    "alpha=ratio[0]/ratio[1]\n",
    "for L in L_list:\n",
    "    # print(L)\n",
    "    mutual_info_neg_finer_list[L]=[]\n",
    "    subregionA=np.arange(L*alpha,dtype='int')    \n",
    "    subregionAp=np.arange(L*alpha,L,2,dtype='int')\n",
    "    subregionB=np.arange(L,L*(1+alpha),dtype='int')\n",
    "\n",
    "    for delta in delta_list:\n",
    "        params=Params(delta=delta,L=L,bc=-1)\n",
    "        params.measure_all(0,subregionAp)\n",
    "        mutual_info_neg_finer_list[L].append(params.mutual_information_m(subregionA,subregionB))"
   ],
   "outputs": [],
   "metadata": {}
  },
  {
   "cell_type": "code",
   "execution_count": null,
   "source": [
    "def find_intersection(delta_list,d1,d2):\n",
    "    f1=interpolate.interp1d(delta_list,d1)\n",
    "    f2=interpolate.interp1d(delta_list,d2)\n",
    "    x=np.arange(-0.01,0.01,1e-5)\n",
    "    y=f1(x)-f2(x)\n",
    "    x0=x[np.argmin(np.abs(y))]\n",
    "    return x0,f1(x0).item()"
   ],
   "outputs": [],
   "metadata": {}
  },
  {
   "cell_type": "code",
   "execution_count": null,
   "source": [
    "mutual_info_neg_finer_list.keys()"
   ],
   "outputs": [],
   "metadata": {}
  },
  {
   "cell_type": "code",
   "execution_count": null,
   "source": [
    "find_intersection(delta_list,mutual_info_neg_finer_list[108],mutual_info_neg_finer_list[114])"
   ],
   "outputs": [],
   "metadata": {}
  },
  {
   "cell_type": "code",
   "execution_count": null,
   "source": [
    "# all projections to 1\n",
    "delta_list=np.linspace(-.01,.01,100)\n",
    "mutual_info_neg_list={}\n",
    "# ratio=(1,3)\n",
    "ratio_list=[(1,x) for x in range(2,10)]\n",
    "for ratio in ratio_list:\n",
    "    L_list=np.arange(10,12)*ratio[1]*2\n",
    "    alpha=ratio[0]/ratio[1]\n",
    "    mutual_info_neg_list[ratio]={}\n",
    "    for L in L_list:\n",
    "        # print(L)\n",
    "        mutual_info_neg_list[ratio][L]=[]\n",
    "        subregionA=np.arange(L*alpha,dtype='int')    \n",
    "        subregionAp=np.arange(L*alpha,L,2,dtype='int')\n",
    "        subregionB=np.arange(L,L*(1+alpha),dtype='int')\n",
    "\n",
    "        for delta in delta_list:\n",
    "            params=Params(delta=delta,L=L,bc=-1)\n",
    "            params.measure_all(0,subregionAp)\n",
    "            mutual_info_neg_list[ratio][L].append(params.mutual_information_m(subregionA,subregionB))"
   ],
   "outputs": [],
   "metadata": {}
  },
  {
   "cell_type": "code",
   "execution_count": null,
   "source": [
    "# mutual_info_neg_list.keys()\n",
    "ratio_list=[(1,x) for x in range(2,10)]\n"
   ],
   "outputs": [],
   "metadata": {}
  },
  {
   "cell_type": "code",
   "execution_count": null,
   "source": [
    "delta_intersection_list=[]\n",
    "MI_intersection_list=[]\n",
    "ratio_float_list=[]\n",
    "for k,v in  mutual_info_neg_list.items():\n",
    "    # print(k,v)\n",
    "    ratio_float_list.append(1/k[1])\n",
    "    delta_intersection,MI_intersection=find_intersection(delta_list,v[10*k[1]*2],v[11*k[1]*2])\n",
    "    delta_intersection_list.append(delta_intersection)\n",
    "    MI_intersection_list.append(MI_intersection)"
   ],
   "outputs": [],
   "metadata": {}
  },
  {
   "cell_type": "code",
   "execution_count": null,
   "source": [
    "[r'$\\frac{}{}$'.format(x[0],x[1]) for x in ratio_list]"
   ],
   "outputs": [],
   "metadata": {}
  },
  {
   "cell_type": "code",
   "execution_count": null,
   "source": [
    "fig,axs=plt.subplots(2,1,figsize=(6.8,6),sharex=True)\n",
    "ax=axs[0]\n",
    "ax.plot(ratio_float_list,delta_intersection_list,'.')\n",
    "ax.set_ylabel('$\\delta$ of the MI intersection')\n",
    "\n",
    "ax=axs[1]\n",
    "ax.plot(ratio_float_list,MI_intersection_list/np.log(2),'.')\n",
    "ax.set_ylabel('MI [log 2] of the MI intersection ')\n",
    "\n",
    "ax.set_xlabel(r'$\\frac{|A|}{dist}$')\n",
    "\n",
    "ax.set_xticks(ratio_float_list)\n",
    "ax.set_xticklabels([r'$\\frac{}{}$'.format(x[0],x[1]) for x in ratio_list])\n",
    "\n",
    "fig.tight_layout()\n",
    "fig.savefig('/mnt/d/kitp/Rp_SPT/5/MI_intersection_ratio.pdf',bbox_inches='tight')\n"
   ],
   "outputs": [],
   "metadata": {}
  },
  {
   "cell_type": "markdown",
   "source": [
    "## cross ratio"
   ],
   "metadata": {}
  },
  {
   "cell_type": "code",
   "execution_count": null,
   "source": [
    "import matplotlib.patches as mpatches\n",
    "def place_region(x,y,fig,ax,color='ybyk'):  \n",
    "    # fig,ax=plt.subplots()\n",
    "    arc=[mpatches.Arc((x,y),50,50,-theta,0,90,transform=None,ec=ec,lw=5) for theta,ec in zip(np.arange(4)*90,color)]\n",
    "    [fig.artists.append(arc) for arc in arc]\n",
    "    ax.text(x+25,y+25,r'$A$',transform=None,ha='center',va='center')\n",
    "    ax.text(x+25,y-25,r'$A^\\prime$',transform=None,ha='center',va='center')\n",
    "    ax.text(x-25,y-25,r'$B$',transform=None,ha='center',va='center')\n",
    "    ax.text(x-25,y+25,r'$B^\\prime$',transform=None,ha='center',va='center')"
   ],
   "outputs": [],
   "metadata": {}
  },
  {
   "cell_type": "markdown",
   "source": [
    "### No Measurement"
   ],
   "metadata": {}
  },
  {
   "cell_type": "code",
   "execution_count": null,
   "source": [
    "eta_no_list=[]\n",
    "MI_no_list=[]\n",
    "LN_no_list=[]\n",
    "L=128\n",
    "params=Params(delta=0.03,L=L,bc=-1,basis='m',T=0.1)\n",
    "for _ in range(200):\n",
    "    x=2*np.random.choice(np.arange(params.L),4,replace=False)\n",
    "    x.sort()\n",
    "    eta=cross_ratio(x,2*params.L)\n",
    "    eta_no_list.append(eta)\n",
    "    subregionA=np.arange(x[0],x[1])\n",
    "    subregionB=np.arange(x[2],x[3])\n",
    "    MI=params.mutual_information_m(subregionA,subregionB)    \n",
    "    MI_no_list.append(MI)\n",
    "    LN=params.log_neg(subregionA,subregionB)\n",
    "    LN_no_list.append(LN)\n",
    "eta_no_list=np.array(eta_no_list)\n",
    "MI_no_list=np.array(MI_no_list)\n",
    "LN_no_list=np.array(LN_no_list)"
   ],
   "outputs": [],
   "metadata": {}
  },
  {
   "cell_type": "code",
   "execution_count": null,
   "source": [
    "fig,ax=plt.subplots()\n",
    "# ax.scatter(eta_no_list,MI_no_list,s=1,color='b',label='L=128, MI')\n",
    "ax.scatter(eta_no_list,LN_no_list,s=1,color='r',label='L=128, LN')\n",
    "\n",
    "ax.set_xscale('log')\n",
    "ax.set_yscale('log')\n",
    "ax.set_xlim([np.min(eta_no_list),1])\n",
    "# ax.set_ylim([1e-10,1])\n",
    "\n",
    "# mask_MI=(MI_no_list>1e-10)&((eta_no_list)<0.1)\n",
    "# lr_MI=scipy.stats.linregress(np.log(eta_no_list[mask_MI]),np.log(MI_no_list[mask_MI]))\n",
    "# x_int=np.linspace(np.min(eta_no_list),1,10)\n",
    "# y_int=np.exp(lr_MI.slope*np.log(x_int)+lr_MI.intercept)\n",
    "# ax.plot(x_int,y_int,'c',label=r'MI$\\propto\\eta^{{{:.2f}}}$'.format(lr_MI.slope))\n",
    "\n",
    "mask_LN=(LN_no_list>1e-10)&((eta_no_list)<0.1)\n",
    "lr_LN=scipy.stats.linregress(np.log(eta_no_list[mask_LN]),np.log(LN_no_list[mask_LN]))\n",
    "x_int=np.linspace(np.min(eta_no_list),1,10)\n",
    "y_int=np.exp(lr_LN.slope*np.log(x_int)+lr_LN.intercept)\n",
    "ax.plot(x_int,y_int,label=r'LN$\\propto\\eta^{{{:.2f}}}$'.format(lr_LN.slope),color='orange')\n",
    "ax.set_xlabel(r'$\\eta$')\n",
    "ax.legend()\n",
    "ax.set_title('R2={:f}'.format(lr_LN.rvalue))\n",
    "place_region(200,200,fig,ax,'ykyk')\n",
    "# fig.savefig('/mnt/d/kitp/Rp_SPT/6/MI_LN_no.pdf')\n",
    "\n",
    "# fig.savefig('/mnt/d/KITP/slides_SPT/MI_LN_no.png')"
   ],
   "outputs": [],
   "metadata": {}
  },
  {
   "cell_type": "code",
   "execution_count": null,
   "source": [
    "def test_powerlaw(delta):\n",
    "    eta_no_list=[]\n",
    "    MI_no_list=[]\n",
    "    LN_no_list=[]\n",
    "    L=128\n",
    "    # delta=0\n",
    "    T=0.1\n",
    "    def run(p):\n",
    "        L,delta,T=p\n",
    "        params=Params(delta=delta,L=L,bc=-1,basis='m',T=T)\n",
    "        x=2*np.random.choice(np.arange(L),4,replace=False)\n",
    "        x.sort()\n",
    "        eta=cross_ratio(x,2*L)\n",
    "        # eta_no_list.append(eta)\n",
    "        subregionA=np.arange(x[0],x[1])\n",
    "        subregionB=np.arange(x[2],x[3])\n",
    "        # MI=params.mutual_information_m(subregionA,subregionB)    \n",
    "        # MI_no_list.append(MI)\n",
    "        LN=params.log_neg(subregionA,subregionB)\n",
    "        # LN_no_list.append(LN)\n",
    "        return eta,LN\n",
    "    inputs=[(L,delta,T) for _ in range(200)]\n",
    "    async_result=rc[:].map_sync(run,inputs)\n",
    "\n",
    "    for results in async_result:\n",
    "        eta,LN=results\n",
    "        eta_no_list.append(eta)\n",
    "        LN_no_list.append(LN)\n",
    "\n",
    "    eta_no_list=np.array(eta_no_list)\n",
    "    LN_no_list=np.array(LN_no_list)\n",
    "    mask_LN=(LN_no_list>1e-10)&((eta_no_list)<0.1)\n",
    "    lr_LN=scipy.stats.linregress(np.log(eta_no_list[mask_LN]),np.log(LN_no_list[mask_LN]))\n",
    "    return lr_LN,eta_no_list,LN_no_list\n",
    "\n"
   ],
   "outputs": [],
   "metadata": {}
  },
  {
   "cell_type": "code",
   "execution_count": null,
   "source": [
    "first=0\n",
    "last=0.06\n",
    "# first=(first+last)/2\n",
    "\n",
    "# last=(first+last)/2\n",
    "\n",
    "delta_candidate_list=(np.linspace(first,last,41))\n",
    "lr_LN_list=[]\n",
    "eta_no_list_list=[]\n",
    "LN_no_list_list=[]\n",
    "for delta in delta_candidate_list:\n",
    "    lr_LN,eta_no_list,LN_no_list=test_powerlaw(delta)\n",
    "    lr_LN_list.append(lr_LN)\n",
    "    eta_no_list_list.append(eta_no_list)\n",
    "    LN_no_list_list.append(LN_no_list)\n",
    "\n",
    "# z=[test_powerlaw(delta) for delta in delta_candidate_list]\n",
    "r2_list=[lr_LN.rvalue for lr_LN in lr_LN_list]"
   ],
   "outputs": [],
   "metadata": {}
  },
  {
   "cell_type": "code",
   "execution_count": null,
   "source": [
    "fig,ax=plt.subplots()\n",
    "ax.plot(delta_candidate_list,r2_list)\n",
    "argmax=delta_candidate_list[np.argmax(r2_list)]\n",
    "ax.axvline(x=argmax)\n",
    "ax.set_title('$\\delta$={:f}, $R^2$={:f}'.format(argmax,np.max(r2_list)))"
   ],
   "outputs": [],
   "metadata": {}
  },
  {
   "cell_type": "code",
   "execution_count": null,
   "source": [
    "np.argmax(r2_list)"
   ],
   "outputs": [],
   "metadata": {}
  },
  {
   "cell_type": "code",
   "execution_count": null,
   "source": [
    "fig,ax=plt.subplots()\n",
    "LN_no_list=LN_no_list_list[np.argmax(r2_list)]\n",
    "eta_no_list=eta_no_list_list[np.argmax(r2_list)]\n",
    "ax.scatter(eta_no_list,LN_no_list,s=1,color='r',label='L=128, LN')\n",
    "\n",
    "ax.set_xscale('log')\n",
    "ax.set_yscale('log')\n",
    "\n",
    "mask_LN=(LN_no_list>1e-10)&((eta_no_list)<0.1)\n",
    "lr_LN=scipy.stats.linregress(np.log(eta_no_list[mask_LN]),np.log(LN_no_list[mask_LN]))\n",
    "x_int=np.linspace(np.min(eta_no_list),1,10)\n",
    "y_int=np.exp(lr_LN.slope*np.log(x_int)+lr_LN.intercept)\n",
    "ax.plot(x_int,y_int,label=r'LN$\\propto\\eta^{{{:.2f}}}$'.format(lr_LN.slope),color='orange')\n",
    "ax.set_xlabel(r'$\\eta$')\n",
    "ax.legend()\n",
    "ax.set_title('R2={:f}'.format(lr_LN.rvalue))"
   ],
   "outputs": [],
   "metadata": {}
  },
  {
   "cell_type": "code",
   "execution_count": null,
   "source": [
    "lr_LN.rvalue"
   ],
   "outputs": [],
   "metadata": {}
  },
  {
   "cell_type": "code",
   "execution_count": null,
   "source": [
    "fig,ax=plt.subplots()\n",
    "ax.scatter(eta_list,MI_list,s=1,color='b',label='L=128, MI')\n",
    "ax.scatter(eta_L_list,LN_L_list,s=1,color='r',label='L=128, LN')\n",
    "\n",
    "ax.set_xscale('log')\n",
    "ax.set_yscale('log')\n",
    "ax.set_xlim([np.min(eta_L_list),1])\n",
    "# ax.set_ylim([1e-10,1])\n",
    "\n",
    "mask=(MI_L_list>1e-10)&((eta_L_list)<0.1)\n",
    "lr=scipy.stats.linregress(np.log(eta_L_list[mask]),np.log(MI_L_list[mask]))\n",
    "x_int=np.linspace(np.min(eta_L_list),1,10)\n",
    "y_int=np.exp(lr.slope*np.log(x_int)+lr.intercept)\n",
    "ax.plot(x_int,y_int,'k')\n",
    "ax.legend()\n",
    "ax.text(0.1,0.5,r'$\\eta^{{{:.2f}}}$'.format(lr.slope),ha='left',va='center',transform=ax.transAxes)\n",
    "ax.set_xlabel(r'$\\eta$')\n",
    "place_region(200,200,fig,ax,'ykyk')\n",
    "\n",
    "fig.savefig('/mnt/d/kitp/Rp_SPT/6/MI_LN_no.pdf')\n"
   ],
   "outputs": [],
   "metadata": {}
  },
  {
   "cell_type": "markdown",
   "source": [
    "### Born measurement"
   ],
   "metadata": {}
  },
  {
   "cell_type": "code",
   "execution_count": null,
   "source": [
    "MI_Born_Ap_list.shape"
   ],
   "outputs": [],
   "metadata": {}
  },
  {
   "cell_type": "code",
   "execution_count": null,
   "source": [
    "with open('/mnt/d/kitp/Rp_SPT/6/MI_LN_Born_es100_pt1000_Ap.pickle','rb') as f:\n",
    "    eta_Born_Ap_list,MI_Born_Ap_list,LN_Born_Ap_list=pickle.load(f)"
   ],
   "outputs": [],
   "metadata": {}
  },
  {
   "cell_type": "code",
   "execution_count": null,
   "source": [
    "with open('/mnt/d/kitp/Rp_SPT/6/MI_LN_Born_es100_pt1000_L256_Ap.pickle','rb') as f:\n",
    "    eta_Born_Ap_list,MI_Born_Ap_list,LN_Born_Ap_list=pickle.load(f)"
   ],
   "outputs": [],
   "metadata": {}
  },
  {
   "cell_type": "code",
   "execution_count": null,
   "source": [
    "eta_Born_Ap_list=[]\n",
    "MI_Born_Ap_list=[]\n",
    "LN_Born_Ap_list=[]\n",
    "# x_list=[]\n",
    "# subregion_list=[]\n",
    "es=100\n",
    "L=128\n",
    "for _ in range(1000):\n",
    "    MI_ensemble_list=[]\n",
    "    LN_ensemble_list=[]\n",
    "    x=sorted(2*np.random.choice(np.arange(1,L),3,replace=False))\n",
    "    x=[0]+x\n",
    "    subregionA=np.arange(x[0],x[1])\n",
    "    subregionB=np.arange(x[2],x[3])\n",
    "    subregionAp=np.arange(x[1],x[2],2)\n",
    "    eta=cross_ratio(x,2*L)\n",
    "    for _ in range(es):\n",
    "        params=Params(delta=0,L=L,bc=-1,basis='m').measure_all_Born(subregionAp)\n",
    "        MI_ensemble_list.append(params.mutual_information_m(subregionA,subregionB))\n",
    "        LN_ensemble_list.append(params.log_neg(subregionA,subregionB))\n",
    "\n",
    "    eta_Born_Ap_list.append(eta)\n",
    "    MI_Born_Ap_list.append(MI_ensemble_list)\n",
    "    LN_Born_Ap_list.append(LN_ensemble_list)\n",
    "eta_Born_Ap_list=np.array(eta_Born_Ap_list)\n",
    "MI_Born_Ap_list=np.array(MI_Born_Ap_list)\n",
    "LN_Born_Ap_list=np.array(LN_Born_Ap_list)"
   ],
   "outputs": [],
   "metadata": {}
  },
  {
   "cell_type": "code",
   "execution_count": null,
   "source": [
    "MI_Born_Ap_list_mean=MI_Born_Ap_list.mean(axis=1)\n",
    "LN_Born_Ap_list_mean=LN_Born_Ap_list.mean(axis=1)\n",
    "fig,ax=plt.subplots()\n",
    "# ax.scatter(eta_Born_Ap_list,MI_Born_Ap_list_mean,s=1,color='b',label='L=256, MI')\n",
    "ax.scatter(eta_Born_Ap_list,LN_Born_Ap_list_mean,s=1,color='r',label='L=256, LN')\n",
    "\n",
    "ax.set_xscale('log')\n",
    "ax.set_yscale('log')\n",
    "ax.set_xlim([np.min(eta_Born_Ap_list),1])\n",
    "# ax.set_ylim([1e-10,1])\n",
    "\n",
    "# mask_MI=(MI_Born_Ap_list_mean>1e-10)&((eta_Born_Ap_list)<0.1)\n",
    "# lr_MI=scipy.stats.linregress(np.log(eta_Born_Ap_list[mask_MI]),np.log(MI_Born_Ap_list_mean[mask_MI]))\n",
    "# x_int=np.linspace(np.min(eta_Born_Ap_list),1,10)\n",
    "# y_int=np.exp(lr_MI.slope*np.log(x_int)+lr_MI.intercept)\n",
    "# ax.plot(x_int,y_int,'c',label=r'MI$\\propto\\eta^{{{:.2f}}}$'.format(lr_MI.slope))\n",
    "\n",
    "mask_LN=(LN_Born_Ap_list_mean>1e-10)&((eta_Born_Ap_list)<0.1)\n",
    "lr_LN=scipy.stats.linregress(np.log(eta_Born_Ap_list[mask_LN]),np.log(LN_Born_Ap_list_mean[mask_LN]))\n",
    "x_int=np.linspace(np.min(eta_Born_Ap_list),1,10)\n",
    "y_int=np.exp(lr_LN.slope*np.log(x_int)+lr_LN.intercept)\n",
    "ax.plot(x_int,y_int,label=r'LN$\\propto\\eta^{{{:.2f}}}$'.format(lr_LN.slope),color='orange')\n",
    "ax.set_xlabel(r'$\\eta$')\n",
    "ax.legend()\n",
    "\n",
    "place_region(200,200,fig,ax,'ycyk')\n",
    "# fig.savefig('/mnt/d/kitp/Rp_SPT/6/MI_LN_Born_Ap.pdf')\n",
    "fig.savefig('/mnt/d/KITP/slides_SPT/MI_LN_Born_Ap.png')"
   ],
   "outputs": [],
   "metadata": {}
  },
  {
   "cell_type": "code",
   "execution_count": null,
   "source": [
    "with open('MI_LN_Born_es100_pt1000_ApBp.pickle','rb') as f:\n",
    "    eta_Born_ApBp_list,MI_Born_ApBp_list,LN_Born_ApBp_list=pickle.load(f)"
   ],
   "outputs": [],
   "metadata": {}
  },
  {
   "cell_type": "code",
   "execution_count": null,
   "source": [
    "with open('/mnt/d/kitp/Rp_SPT/6/MI_LN_Born_es100_pt1000_L256_ApBp.pickle','rb') as f:\n",
    "    eta_Born_ApBp_list,MI_Born_ApBp_list,LN_Born_ApBp_list=pickle.load(f)"
   ],
   "outputs": [],
   "metadata": {}
  },
  {
   "cell_type": "code",
   "execution_count": null,
   "source": [
    "eta_Born_ApBp_list=[]\n",
    "MI_Born_ApBp_list=[]\n",
    "LN_Born_ApBp_list=[]\n",
    "# x_list=[]\n",
    "# subregion_list=[]\n",
    "es=10\n",
    "L=128\n",
    "for _ in range(100):\n",
    "    MI_ensemble_list=[]\n",
    "    LN_ensemble_list=[]\n",
    "    x=sorted(2*np.random.choice(np.arange(1,L),3,replace=False))\n",
    "    x=[0]+x\n",
    "    subregionA=np.arange(x[0],x[1])\n",
    "    subregionB=np.arange(x[2],x[3])\n",
    "    subregionAp=np.arange(x[1],x[2],2)\n",
    "    subregionBp=np.concatenate([np.arange(x[3],2*L,2),np.arange(0,x[0],2)])\n",
    "    eta=cross_ratio(x,L)\n",
    "    for _ in range(es):\n",
    "        params=Params(delta=0,L=L,bc=-1,basis='m').measure_all_Born(subregionAp).measure_all_Born(subregionBp)\n",
    "        MI_ensemble_list.append(params.mutual_information_m(subregionA,subregionB))\n",
    "        LN_ensemble_list.append(params.log_neg(subregionA,subregionB))\n",
    "\n",
    "    eta_Born_ApBp_list.append(eta)\n",
    "    MI_Born_ApBp_list.append(MI_ensemble_list)\n",
    "    LN_Born_ApBp_list.append(LN_ensemble_list)\n",
    "eta_Born_ApBp_list=np.array(eta_Born_ApBp_list)\n",
    "MI_Born_ApBp_list=np.array(MI_Born_ApBp_list)\n",
    "LN_Born_ApBp_list=np.array(LN_Born_ApBp_list)"
   ],
   "outputs": [],
   "metadata": {}
  },
  {
   "cell_type": "code",
   "execution_count": null,
   "source": [
    "MI_Born_ApBp_list_mean=MI_Born_ApBp_list.mean(axis=1)\n",
    "LN_Born_ApBp_list_mean=LN_Born_ApBp_list.mean(axis=1)\n",
    "fig,ax=plt.subplots()\n",
    "ax.scatter(eta_Born_ApBp_list,MI_Born_ApBp_list_mean,s=1,color='b',label='L=256, MI')\n",
    "ax.scatter(eta_Born_ApBp_list,LN_Born_ApBp_list_mean,s=1,color='r',label='L=256, LN')\n",
    "\n",
    "ax.set_xscale('log')\n",
    "ax.set_yscale('log')\n",
    "ax.set_xlim([np.min(eta_Born_ApBp_list),1])\n",
    "# ax.set_ylim([1e-10,1])\n",
    "\n",
    "mask_MI=(MI_Born_ApBp_list_mean>1e-10)&((eta_Born_ApBp_list)<0.1)\n",
    "lr_MI=scipy.stats.linregress(np.log(eta_Born_ApBp_list[mask_MI]),np.log(MI_Born_ApBp_list_mean[mask_MI]))\n",
    "x_int=np.linspace(np.min(eta_Born_ApBp_list),1,10)\n",
    "y_int=np.exp(lr_MI.slope*np.log(x_int)+lr_MI.intercept)\n",
    "ax.plot(x_int,y_int,'c',label=r'MI$\\propto\\eta^{{{:.2f}}}$'.format(lr_MI.slope))\n",
    "\n",
    "mask_LN=(LN_Born_ApBp_list_mean>1e-10)&((eta_Born_ApBp_list)<0.1)\n",
    "lr_LN=scipy.stats.linregress(np.log(eta_Born_ApBp_list[mask_LN]),np.log(LN_Born_ApBp_list_mean[mask_LN]))\n",
    "x_int=np.linspace(np.min(eta_Born_ApBp_list),1,10)\n",
    "y_int=np.exp(lr_LN.slope*np.log(x_int)+lr_LN.intercept)\n",
    "ax.plot(x_int,y_int,label=r'LN$\\propto\\eta^{{{:.2f}}}$'.format(lr_LN.slope),color='orange')\n",
    "ax.set_xlabel(r'$\\eta$')\n",
    "ax.legend()\n",
    "\n",
    "place_region(200,200,fig,ax,'ycyc')\n",
    "fig.savefig('/mnt/d/kitp/Rp_SPT/6/MI_LN_Born_ApBp.pdf')\n"
   ],
   "outputs": [],
   "metadata": {}
  },
  {
   "cell_type": "markdown",
   "source": [
    "### Measure to s=-1"
   ],
   "metadata": {}
  },
  {
   "cell_type": "code",
   "execution_count": null,
   "source": [
    "eta_neg_Ap_list=[]\n",
    "MI_neg_Ap_list=[]\n",
    "LN_neg_Ap_list=[]\n",
    "L=128\n",
    "for _ in range(1000):\n",
    "    params=Params(delta=0,L=L,bc=-1,basis='m')\n",
    "    x=sorted(2*np.random.choice(np.arange(1,L),3,replace=False))\n",
    "    x=[0]+x\n",
    "    subregionA=np.arange(x[0],x[1])\n",
    "    subregionB=np.arange(x[2],x[3])\n",
    "    subregionAp=np.arange(x[1],x[2],2)\n",
    "    params.measure_all(0,subregionAp)\n",
    "    # MI_neg_Ap_list.append(params.mutual_information_m(subregionA,subregionB))\n",
    "    LN_neg_Ap_list.append(params.log_neg(subregionA,subregionB))\n",
    "    eta_neg_Ap_list.append(cross_ratio(x,2*L))\n",
    "eta_neg_Ap_list=np.array(eta_neg_Ap_list)\n",
    "# MI_neg_Ap_list=np.array(MI_neg_Ap_list)\n",
    "LN_neg_Ap_list=np.array(LN_neg_Ap_list)"
   ],
   "outputs": [],
   "metadata": {}
  },
  {
   "cell_type": "code",
   "execution_count": null,
   "source": [
    "fig,ax=plt.subplots()\n",
    "# ax.scatter(eta_neg_Ap_list,MI_neg_Ap_list,s=1,color='b',label='L=128, MI')\n",
    "ax.scatter(eta_neg_Ap_list,LN_neg_Ap_list,s=1,color='r',label='L=128, LN')\n",
    "\n",
    "ax.set_xscale('log')\n",
    "ax.set_yscale('log')\n",
    "ax.set_xlim([np.min(eta_neg_Ap_list),1])\n",
    "# ax.set_ylim([1e-10,1])\n",
    "\n",
    "# mask_MI=(MI_neg_Ap_list>1e-10)&((eta_neg_Ap_list)<0.1)\n",
    "# lr_MI=scipy.stats.linregress(np.log(eta_neg_Ap_list[mask_MI]),np.log(MI_neg_Ap_list[mask_MI]))\n",
    "# x_int=np.linspace(np.min(eta_neg_Ap_list),1,10)\n",
    "# y_int=np.exp(lr_MI.slope*np.log(x_int)+lr_MI.intercept)\n",
    "# ax.plot(x_int,y_int,'c',label=r'MI$\\propto\\eta^{{{:.2f}}}$'.format(lr_MI.slope))\n",
    "\n",
    "mask_LN=(LN_neg_Ap_list>1e-10)&((eta_neg_Ap_list)<0.1)\n",
    "lr_LN=scipy.stats.linregress(np.log(eta_neg_Ap_list[mask_LN]),np.log(LN_neg_Ap_list[mask_LN]))\n",
    "x_int=np.linspace(np.min(eta_neg_Ap_list),1,10)\n",
    "y_int=np.exp(lr_LN.slope*np.log(x_int)+lr_LN.intercept)\n",
    "ax.plot(x_int,y_int,label=r'LN$\\propto\\eta^{{{:.2f}}}$'.format(lr_LN.slope),color='orange')\n",
    "ax.set_xlabel(r'$\\eta$')\n",
    "ax.legend()\n",
    "\n",
    "place_region(200,200,fig,ax,'ycyk')\n",
    "# fig.savefig('/mnt/d/kitp/Rp_SPT/6/MI_LN_neg_Ap.pdf')\n",
    "fig.savefig('/mnt/d/KITP/slides_SPT/MI_LN_neg_Ap.png')\n"
   ],
   "outputs": [],
   "metadata": {}
  },
  {
   "cell_type": "code",
   "execution_count": null,
   "source": [
    "1/np.log(np.sqrt(2)+1)"
   ],
   "outputs": [],
   "metadata": {}
  },
  {
   "cell_type": "code",
   "execution_count": null,
   "source": [
    "eta_neg_ApBp_list=[]\n",
    "MI_neg_ApBp_list=[]\n",
    "LN_neg_ApBp_list=[]\n",
    "L=128\n",
    "for _ in range(1000):\n",
    "    params=Params(delta=0.0,L=L,bc=-1,basis='m')\n",
    "    x=sorted(2*np.random.choice(np.arange(1,L),3,replace=False))\n",
    "    x=[0]+x\n",
    "    subregionA=np.arange(x[0],x[1])\n",
    "    subregionB=np.arange(x[2],x[3])\n",
    "    subregionAp=np.arange(x[1],x[2],2)\n",
    "    subregionBp=np.concatenate([np.arange(x[3],2*params.L,2),np.arange(0,x[0],2)])\n",
    "    params.measure_all(0,subregionAp).measure_all(0,subregionBp)\n",
    "    MI_neg_ApBp_list.append(params.mutual_information_m(subregionA,subregionB))\n",
    "    LN_neg_ApBp_list.append(params.log_neg(subregionA,subregionB))\n",
    "    eta_neg_ApBp_list.append(cross_ratio(x,2*L)\n",
    ")\n",
    "eta_neg_ApBp_list=np.array(eta_neg_ApBp_list)\n",
    "MI_neg_ApBp_list=np.array(MI_neg_ApBp_list)\n",
    "LN_neg_ApBp_list=np.array(LN_neg_ApBp_list)"
   ],
   "outputs": [],
   "metadata": {}
  },
  {
   "cell_type": "code",
   "execution_count": null,
   "source": [
    "fig,ax=plt.subplots()\n",
    "ax.scatter(eta_neg_ApBp_list,MI_neg_ApBp_list,s=1,color='b',label='L=128, MI')\n",
    "ax.scatter(eta_neg_ApBp_list,LN_neg_ApBp_list,s=1,color='r',label='L=128, LN')\n",
    "\n",
    "ax.set_xscale('log')\n",
    "ax.set_yscale('log')\n",
    "ax.set_xlim([np.min(eta_neg_ApBp_list),1])\n",
    "# ax.set_ylim([1e-10,1])\n",
    "\n",
    "mask_MI=(MI_neg_ApBp_list>1e-10)&((eta_neg_ApBp_list)<0.1)\n",
    "lr_MI=scipy.stats.linregress(np.log(eta_neg_ApBp_list[mask_MI]),np.log(MI_neg_ApBp_list[mask_MI]))\n",
    "x_int=np.linspace(np.min(eta_neg_ApBp_list),1,10)\n",
    "y_int=np.exp(lr_MI.slope*np.log(x_int)+lr_MI.intercept)\n",
    "ax.plot(x_int,y_int,'c',label=r'MI$\\propto\\eta^{{{:.2f}}}$'.format(lr_MI.slope))\n",
    "\n",
    "mask_LN=(LN_neg_ApBp_list>1e-10)&((eta_neg_ApBp_list)<0.1)\n",
    "lr_LN=scipy.stats.linregress(np.log(eta_neg_ApBp_list[mask_LN]),np.log(LN_neg_ApBp_list[mask_LN]))\n",
    "x_int=np.linspace(np.min(eta_neg_ApBp_list),1,10)\n",
    "y_int=np.exp(lr_LN.slope*np.log(x_int)+lr_LN.intercept)\n",
    "ax.plot(x_int,y_int,label=r'LN$\\propto\\eta^{{{:.2f}}}$'.format(lr_LN.slope),color='orange')\n",
    "ax.set_xlabel(r'$\\eta$')\n",
    "ax.legend()\n",
    "\n",
    "place_region(200,200,fig,ax,'ycyc')\n",
    "fig.savefig('/mnt/d/kitp/Rp_SPT/6/MI_LN_neg_ApBp.pdf')\n"
   ],
   "outputs": [],
   "metadata": {}
  },
  {
   "cell_type": "markdown",
   "source": [
    "### Measure to s=+1"
   ],
   "metadata": {}
  },
  {
   "cell_type": "code",
   "execution_count": null,
   "source": [
    "eta_pos_Ap_list=[]\n",
    "MI_pos_Ap_list=[]\n",
    "LN_pos_Ap_list=[]\n",
    "L=128\n",
    "# delta=delta_list[np.argmax(log_neg_pos_list)]\n",
    "delta=0.0\n",
    "for _ in range(1000):\n",
    "    x=sorted(2*np.random.choice(np.arange(1,L),3,replace=False))\n",
    "    x=[0]+x\n",
    "    while ((x[2]-x[1])/2)%2==1 or (L-(x[3]-x[0])/2)%2==1:\n",
    "        x=sorted(2*np.random.choice(np.arange(1,L),3,replace=False))\n",
    "        x=[0]+x\n",
    "    params=Params(delta=delta,L=L,bc=-1,basis='m')\n",
    "    subregionA=np.arange(x[0],x[1])\n",
    "    subregionB=np.arange(x[2],x[3])\n",
    "    subregionAp=np.arange(x[1],x[2],2)\n",
    "    params.measure_all(1,subregionAp)\n",
    "    eta_pos_Ap_list.append(cross_ratio(x,2*L))\n",
    "    MI_pos_Ap_list.append(params.mutual_information_m(subregionA,subregionB))\n",
    "    LN_pos_Ap_list.append(params.log_neg(subregionA,subregionB))\n",
    "eta_pos_Ap_list=np.array(eta_pos_Ap_list)\n",
    "MI_pos_Ap_list=np.array(MI_pos_Ap_list)\n",
    "LN_pos_Ap_list=np.array(LN_pos_Ap_list)"
   ],
   "outputs": [],
   "metadata": {}
  },
  {
   "cell_type": "code",
   "execution_count": null,
   "source": [
    "with open('/mnt/d/KITP/Rp_SPT/5/MI_pos_Ap_L1024_es1000.pickle','rb') as f:\n",
    "    eta_pos_Ap_list,MI_pos_Ap_list=pickle.load(f)"
   ],
   "outputs": [],
   "metadata": {}
  },
  {
   "cell_type": "code",
   "execution_count": null,
   "source": [
    "fig,ax=plt.subplots()\n",
    "ax.scatter(eta_pos_Ap_list,MI_pos_Ap_list,s=1,color='b',label='L=128, MI')\n",
    "ax.scatter(eta_pos_Ap_list,LN_pos_Ap_list,s=1,color='r',label='L=128, LN')\n",
    "\n",
    "ax.set_xscale('log')\n",
    "ax.set_yscale('log')\n",
    "ax.set_xlim([np.min(eta_pos_Ap_list),1])\n",
    "# ax.set_ylim([1e-10,1])\n",
    "\n",
    "mask_MI=(MI_pos_Ap_list>1e-10)&((eta_pos_Ap_list)<0.1)\n",
    "lr_MI=scipy.stats.linregress(np.log(eta_pos_Ap_list[mask_MI]),np.log(MI_pos_Ap_list[mask_MI]))\n",
    "x_int=np.linspace(np.min(eta_pos_Ap_list),1,10)\n",
    "y_int=np.exp(lr_MI.slope*np.log(x_int)+lr_MI.intercept)\n",
    "ax.plot(x_int,y_int,'c',label=r'MI$\\propto\\eta^{{{:.2f}}}$'.format(lr_MI.slope))\n",
    "\n",
    "mask_LN=(LN_pos_Ap_list>1e-10)&((eta_pos_Ap_list)<0.1)\n",
    "lr_LN=scipy.stats.linregress(np.log(eta_pos_Ap_list[mask_LN]),np.log(LN_pos_Ap_list[mask_LN]))\n",
    "x_int=np.linspace(np.min(eta_pos_Ap_list),1,10)\n",
    "y_int=np.exp(lr_LN.slope*np.log(x_int)+lr_LN.intercept)\n",
    "ax.plot(x_int,y_int,label=r'LN$\\propto\\eta^{{{:.2f}}}$'.format(lr_LN.slope),color='orange')\n",
    "\n",
    "ax.set_xlabel(r'$\\eta$')\n",
    "ax.legend()\n",
    "\n",
    "place_region(200,200,fig,ax,'ycyk')\n",
    "# fig.savefig('/mnt/d/kitp/Rp_SPT/6/MI_LN_pos_Ap.pdf')\n"
   ],
   "outputs": [],
   "metadata": {}
  },
  {
   "cell_type": "code",
   "execution_count": null,
   "source": [
    "delta_list[np.argmax(log_neg_pos_list)]"
   ],
   "outputs": [],
   "metadata": {}
  },
  {
   "cell_type": "code",
   "execution_count": null,
   "source": [
    "def find_pos_peak_Ap(x,L=128,di=51):\n",
    "    assert ((x[2]-x[1])/2)%2==0, \"The projection region is not even numbered\"\n",
    "    delta_list=np.linspace(-.1,.1,di)\n",
    "    LN_pos_list=[]\n",
    "    MI_pos_list=[]\n",
    "    subregionA=np.arange(x[0],x[1])\n",
    "    subregionB=np.arange(x[2],x[3])\n",
    "    subregionAp=np.arange(x[1],x[2],2)\n",
    "    for delta in delta_list:\n",
    "        params=Params(delta=delta,L=L,bc=-1)\n",
    "        params.measure_all(1,subregionAp)\n",
    "        LN_pos_list.append(params.log_neg(subregionA,subregionB))\n",
    "        # MI_pos_list.append(params.mutual_information_m(subregionA,subregionB))\n",
    "    argmax_LN=delta_list[np.argmax(LN_pos_list)]\n",
    "    # argmax_MI=delta_list[np.argmax(MI_pos_list)]\n",
    "    return argmax_LN\n",
    "    # return delta_list,LN_pos_list,MI_pos_list"
   ],
   "outputs": [],
   "metadata": {}
  },
  {
   "cell_type": "code",
   "execution_count": null,
   "source": [
    "x=sorted(2*np.random.choice(np.arange(1,L),3,replace=False))\n",
    "x=[0]+x\n",
    "while ((x[2]-x[1])/2)%2==1:\n",
    "    x=sorted(2*np.random.choice(np.arange(1,L),3,replace=False))\n",
    "    x=[0]+x"
   ],
   "outputs": [],
   "metadata": {}
  },
  {
   "cell_type": "code",
   "execution_count": null,
   "source": [
    "x"
   ],
   "outputs": [],
   "metadata": {}
  },
  {
   "cell_type": "code",
   "execution_count": null,
   "source": [
    "(x[2]-x[1])/2"
   ],
   "outputs": [],
   "metadata": {}
  },
  {
   "cell_type": "code",
   "execution_count": null,
   "source": [
    "L-(x[3]-x[0])/2"
   ],
   "outputs": [],
   "metadata": {}
  },
  {
   "cell_type": "code",
   "execution_count": null,
   "source": [
    "find_pos_peak(x)"
   ],
   "outputs": [],
   "metadata": {}
  },
  {
   "cell_type": "code",
   "execution_count": null,
   "source": [
    "plt.plot(z_d,z_MI/np.log(2))\n",
    "plt.plot(z_d,z_LN/np.log(2))"
   ],
   "outputs": [],
   "metadata": {}
  },
  {
   "cell_type": "code",
   "execution_count": null,
   "source": [
    "eta_pos_max_Ap_list=[]\n",
    "MI_pos_max_Ap_list=[]\n",
    "LN_pos_max_Ap_list=[]\n",
    "L=128\n",
    "# delta=delta_list[np.argmax(log_neg_pos_list)]\n",
    "delta_LN_pos_max_Ap_list=[]\n",
    "# delta_MI_pos_max_Ap_list=[]\n",
    "\n",
    "x_list=[]\n",
    "for _ in range(1000):\n",
    "    x=sorted(2*np.random.choice(np.arange(1,L),3,replace=False))\n",
    "    x=[0]+x\n",
    "    while ((x[2]-x[1])/2)%2==1 or (L-(x[3]-x[0])/2)%2==1:\n",
    "        x=sorted(2*np.random.choice(np.arange(1,L),3,replace=False))\n",
    "        x=[0]+x\n",
    "    x_list.append(x)\n",
    "    argmax_LN=find_pos_peak_Ap(x)\n",
    "    delta_LN_pos_max_Ap_list.append(argmax_LN)\n",
    "    # delta_MI_pos_max_Ap_list.append(argmax_MI)\n",
    "    params=Params(delta=argmax_LN,L=L,bc=-1,basis='m')    \n",
    "    subregionA=np.arange(x[0],x[1])\n",
    "    subregionB=np.arange(x[2],x[3])\n",
    "    subregionAp=np.arange(x[1],x[2],2)\n",
    "    params.measure_all(1,subregionAp)\n",
    "    eta_pos_max_Ap_list.append(cross_ratio(x,2*L))\n",
    "    MI_pos_max_Ap_list.append(params.mutual_information_m(subregionA,subregionB))\n",
    "    LN_pos_max_Ap_list.append(params.log_neg(subregionA,subregionB))\n",
    "eta_pos_max_Ap_list=np.array(eta_pos_max_Ap_list)\n",
    "MI_pos_max_Ap_list=np.array(MI_pos_max_Ap_list)\n",
    "LN_pos_max_Ap_list=np.array(LN_pos_max_Ap_list)"
   ],
   "outputs": [],
   "metadata": {}
  },
  {
   "cell_type": "code",
   "execution_count": null,
   "source": [
    "x_list[3]"
   ],
   "outputs": [],
   "metadata": {}
  },
  {
   "cell_type": "code",
   "execution_count": null,
   "source": [
    "x_list[3][3]-x_list[3][2]"
   ],
   "outputs": [],
   "metadata": {}
  },
  {
   "cell_type": "code",
   "execution_count": null,
   "source": [
    "delta_pos_max_Ap_list[3]"
   ],
   "outputs": [],
   "metadata": {}
  },
  {
   "cell_type": "code",
   "execution_count": null,
   "source": [
    "eta_list[np.argmax(delta_MI_pos_max_Ap_list)]"
   ],
   "outputs": [],
   "metadata": {}
  },
  {
   "cell_type": "code",
   "execution_count": null,
   "source": [
    "x=x_list[2]"
   ],
   "outputs": [],
   "metadata": {}
  },
  {
   "cell_type": "code",
   "execution_count": null,
   "source": [
    "plt.plot(sorted(delta_LN_pos_max_Ap_list),'.')\n",
    "# plt.plot(sorted(eta_pos_max_Ap_list),'.')\n"
   ],
   "outputs": [],
   "metadata": {}
  },
  {
   "cell_type": "code",
   "execution_count": null,
   "source": [
    "fig,ax=plt.subplots()\n",
    "ax.scatter(eta_pos_max_Ap_list,MI_pos_max_Ap_list,s=1,color='b',label='L=128, MI')\n",
    "ax.scatter(eta_pos_max_Ap_list,LN_pos_max_Ap_list,s=1,color='r',label='L=128, LN')\n",
    "\n",
    "# ax.set_xscale('log')\n",
    "# ax.set_yscale('log')\n",
    "# ax.set_xlim([np.min(eta_pos_max_Ap_list),1])\n",
    "# ax.set_ylim([1e-10,1])\n",
    "\n",
    "# mask_MI=(MI_pos_max_Ap_list>1e-10)&((eta_pos_max_Ap_list)<0.1)\n",
    "# lr_MI=scipy.stats.linregress(np.log(eta_pos_max_Ap_list[mask_MI]),np.log(MI_pos_max_Ap_list[mask_MI]))\n",
    "# x_int=np.linspace(np.min(eta_pos_max_Ap_list),1,10)\n",
    "# y_int=np.exp(lr_MI.slope*np.log(x_int)+lr_MI.intercept)\n",
    "# ax.plot(x_int,y_int,'c',label=r'MI$\\propto\\eta^{{{:.2f}}}$'.format(lr_MI.slope))\n",
    "\n",
    "# mask_LN=(LN_pos_max_Ap_list>1e-10)&((eta_pos_max_Ap_list)<0.1)\n",
    "# lr_LN=scipy.stats.linregress(np.log(eta_pos_max_Ap_list[mask_LN]),np.log(LN_pos_max_Ap_list[mask_LN]))\n",
    "# x_int=np.linspace(np.min(eta_pos_max_Ap_list),1,10)\n",
    "# y_int=np.exp(lr_LN.slope*np.log(x_int)+lr_LN.intercept)\n",
    "# ax.plot(x_int,y_int,label=r'LN$\\propto\\eta^{{{:.2f}}}$'.format(lr_LN.slope),color='orange')\n",
    "ax.set_xlabel(r'$\\eta$')\n",
    "ax.legend()\n",
    "\n",
    "place_region(200,220,fig,ax,'ycyk')\n",
    "fig.savefig('/mnt/d/kitp/Rp_SPT/6/MI_LN_pos_max_Ap.pdf')\n"
   ],
   "outputs": [],
   "metadata": {}
  },
  {
   "cell_type": "code",
   "execution_count": null,
   "source": [
    "with open('MI_LN_Born_es100_pt100_Ap.pickle','rb') as f:\n",
    "    eta_Born_Ap_list,MI_Born_Ap_list,LN_Born_Ap_list=pickle.load(f)"
   ],
   "outputs": [],
   "metadata": {}
  },
  {
   "cell_type": "code",
   "execution_count": null,
   "source": [],
   "outputs": [],
   "metadata": {}
  },
  {
   "cell_type": "code",
   "execution_count": null,
   "source": [
    "x=sorted(2*np.random.choice(np.arange(1,L),3,replace=False))\n",
    "x=[0]+x"
   ],
   "outputs": [],
   "metadata": {}
  },
  {
   "cell_type": "code",
   "execution_count": null,
   "source": [
    "x"
   ],
   "outputs": [],
   "metadata": {}
  },
  {
   "cell_type": "code",
   "execution_count": null,
   "source": [
    "(x[2]-x[1])/2"
   ],
   "outputs": [],
   "metadata": {}
  },
  {
   "cell_type": "code",
   "execution_count": null,
   "source": [
    "z_d,z_LN,z_MI=find_pos_peak(x)"
   ],
   "outputs": [],
   "metadata": {}
  },
  {
   "cell_type": "code",
   "execution_count": null,
   "source": [
    "fig,ax=plt.subplots()\n",
    "ax.plot(z_d,z_LN,color='r')\n",
    "ax.plot(z_d,z_MI,color='b')\n",
    "ax.axvline(x=z_d[np.argmax(z_LN)],color='r')\n",
    "ax.axvline(x=z_d[np.argmax(z_MI)],color='b')\n",
    "\n"
   ],
   "outputs": [],
   "metadata": {}
  },
  {
   "cell_type": "code",
   "execution_count": null,
   "source": [
    "eta_pos_ApBp_list=[]\n",
    "MI_pos_ApBp_list=[]\n",
    "LN_pos_ApBp_list=[]\n",
    "L=128\n",
    "delta=0\n",
    "for _ in range(1000):\n",
    "    x=sorted(2*np.random.choice(np.arange(1,L),3,replace=False))\n",
    "    x=[0]+x\n",
    "    while ((x[2]-x[1])/2)%2==1 or (L-(x[3]-x[0])/2)%2==1:\n",
    "        x=sorted(2*np.random.choice(np.arange(1,L),3,replace=False))\n",
    "        x=[0]+x\n",
    "    params=Params(delta=delta,L=L,bc=-1,basis='m')    \n",
    "    subregionA=np.arange(x[0],x[1])\n",
    "    subregionB=np.arange(x[2],x[3])\n",
    "    subregionAp=np.arange(x[1],x[2],2)\n",
    "    subregionBp=np.concatenate([np.arange(x[3],2*params.L,2),np.arange(0,x[0],2)])\n",
    "    params.measure_all(1,subregionAp).measure_all(1,subregionBp)\n",
    "    eta_pos_ApBp_list.append(cross_ratio(x,2*L))\n",
    "    MI_pos_ApBp_list.append(params.mutual_information_m(subregionA,subregionB))\n",
    "    LN_pos_ApBp_list.append(params.log_neg(subregionA,subregionB))\n",
    "eta_pos_ApBp_list=np.array(eta_pos_ApBp_list)\n",
    "MI_pos_ApBp_list=np.array(MI_pos_ApBp_list)\n",
    "LN_pos_ApBp_list=np.array(LN_pos_ApBp_list)"
   ],
   "outputs": [],
   "metadata": {}
  },
  {
   "cell_type": "code",
   "execution_count": null,
   "source": [
    "with open('/mnt/d/KITP/Rp_SPT/5/MI_pos_ApBp_L1024_es2000.pickle','rb') as f:\n",
    "    eta_pos_ApBp_list,MI_pos_ApBp_list=pickle.load(f)"
   ],
   "outputs": [],
   "metadata": {}
  },
  {
   "cell_type": "code",
   "execution_count": null,
   "source": [
    "fig,ax=plt.subplots()\n",
    "ax.scatter(eta_pos_ApBp_list,MI_pos_ApBp_list,s=1,color='b',label='L=128, MI')\n",
    "ax.scatter(eta_pos_ApBp_list,LN_pos_ApBp_list,s=1,color='r',label='L=128, LN')\n",
    "\n",
    "# ax.set_xscale('log')\n",
    "# ax.set_yscale('log')\n",
    "# ax.set_xlim([np.min(eta_pos_ApBp_list),1])\n",
    "# # ax.set_ylim([1e-10,1])\n",
    "\n",
    "# mask_MI=(MI_pos_ApBp_list>1e-10)&((eta_pos_ApBp_list)<0.1)\n",
    "# lr_MI=scipy.stats.linregress(np.log(eta_pos_ApBp_list[mask_MI]),np.log(MI_pos_ApBp_list[mask_MI]))\n",
    "# x_int=np.linspace(np.min(eta_pos_ApBp_list),1,10)\n",
    "# y_int=np.exp(lr_MI.slope*np.log(x_int)+lr_MI.intercept)\n",
    "# ax.plot(x_int,y_int,'c',label=r'MI$\\propto\\eta^{{{:.2f}}}$'.format(lr_MI.slope))\n",
    "\n",
    "# mask_LN=(LN_pos_ApBp_list>1e-10)&((eta_pos_ApBp_list)<0.1)\n",
    "# lr_LN=scipy.stats.linregress(np.log(eta_pos_ApBp_list[mask_LN]),np.log(LN_pos_ApBp_list[mask_LN]))\n",
    "# x_int=np.linspace(np.min(eta_pos_ApBp_list),1,10)\n",
    "# y_int=np.exp(lr_LN.slope*np.log(x_int)+lr_LN.intercept)\n",
    "# ax.plot(x_int,y_int,label=r'LN$\\propto\\eta^{{{:.2f}}}$'.format(lr_LN.slope),color='orange')\n",
    "\n",
    "ax.set_xlabel(r'$\\eta$')\n",
    "ax.legend()\n",
    "\n",
    "place_region(200,200,fig,ax,'ycyc')\n",
    "fig.savefig('/mnt/d/kitp/Rp_SPT/6/MI_LN_pos_ApBp.pdf')\n"
   ],
   "outputs": [],
   "metadata": {}
  },
  {
   "cell_type": "code",
   "execution_count": null,
   "source": [
    "def find_pos_peak_ApBp(x,L=128,di=51):\n",
    "    assert ((x[2]-x[1])/2)%2==0, \"The projection region is not even numbered\"\n",
    "    delta_list=np.linspace(-.1,.1,di)\n",
    "    LN_pos_list=[]\n",
    "    MI_pos_list=[]\n",
    "    subregionA=np.arange(x[0],x[1])\n",
    "    subregionB=np.arange(x[2],x[3])\n",
    "    subregionAp=np.arange(x[1],x[2],2)\n",
    "    subregionBp=np.concatenate([np.arange(x[3],L,2),np.arange(0,x[0],2)])\n",
    "    for delta in delta_list:\n",
    "        params=Params(delta=delta,L=L,bc=-1)\n",
    "        params.measure_all(1,subregionAp).measure_all(1,subregionBp)\n",
    "        LN_pos_list.append(params.log_neg(subregionA,subregionB))\n",
    "        # MI_pos_list.append(params.mutual_information_m(subregionA,subregionB))\n",
    "    argmax_LN=delta_list[np.argmax(LN_pos_list)]\n",
    "    # argmax_MI=delta_list[np.argmax(MI_pos_list)]\n",
    "    return argmax_LN\n",
    "    # return delta_list,LN_pos_list,MI_pos_list"
   ],
   "outputs": [],
   "metadata": {}
  },
  {
   "cell_type": "code",
   "execution_count": null,
   "source": [
    "z_d,z_MI,z_LN=find_pos_peak_ApBp(x)"
   ],
   "outputs": [],
   "metadata": {}
  },
  {
   "cell_type": "code",
   "execution_count": null,
   "source": [
    "plt.plot(z_d,z_MI,'r')\n",
    "plt.plot(z_d,z_LN,'b')"
   ],
   "outputs": [],
   "metadata": {}
  },
  {
   "cell_type": "code",
   "execution_count": null,
   "source": [
    "eta_pos_max_ApBp_list=[]\n",
    "MI_pos_max_ApBp_list=[]\n",
    "LN_pos_max_ApBp_list=[]\n",
    "L=128\n",
    "# delta=delta_list[np.argmax(log_neg_pos_list)]\n",
    "delta_LN_pos_max_ApBp_list=[]\n",
    "# delta_MI_pos_max_ApBp_list=[]\n",
    "\n",
    "x_list=[]\n",
    "for _ in range(1000):\n",
    "    x=sorted(2*np.random.choice(np.arange(1,L),3,replace=False))\n",
    "    x=[0]+x\n",
    "    while ((x[2]-x[1])/2)%2==1 or (L-(x[3]-x[0])/2)%2==1:\n",
    "        x=sorted(2*np.random.choice(np.arange(1,L),3,replace=False))\n",
    "        x=[0]+x\n",
    "    x_list.append(x)\n",
    "    argmax_LN=find_pos_peak_ApBp(x)\n",
    "    delta_LN_pos_max_ApBp_list.append(argmax_LN)\n",
    "    # delta_MI_pos_max_ApBp_list.append(argmax_MI)\n",
    "    params=Params(delta=argmax_LN,L=L,bc=-1,basis='m')    \n",
    "    subregionA=np.arange(x[0],x[1])\n",
    "    subregionB=np.arange(x[2],x[3])\n",
    "    subregionAp=np.arange(x[1],x[2],2)\n",
    "    params.measure_all(1,subregionAp)\n",
    "    eta_pos_max_ApBp_list.append(cross_ratio(x,2*L))\n",
    "    MI_pos_max_ApBp_list.append(params.mutual_information_m(subregionA,subregionB))\n",
    "    LN_pos_max_ApBp_list.append(params.log_neg(subregionA,subregionB))\n",
    "eta_pos_max_ApBp_list=np.array(eta_pos_max_ApBp_list)\n",
    "MI_pos_max_ApBp_list=np.array(MI_pos_max_ApBp_list)\n",
    "LN_pos_max_ApBp_list=np.array(LN_pos_max_ApBp_list)"
   ],
   "outputs": [],
   "metadata": {}
  },
  {
   "cell_type": "code",
   "execution_count": null,
   "source": [
    "plt.plot(sorted(delta_LN_pos_max_ApBp_list),'.')\n"
   ],
   "outputs": [],
   "metadata": {}
  },
  {
   "cell_type": "code",
   "execution_count": null,
   "source": [
    "fig,ax=plt.subplots()\n",
    "ax.scatter(eta_pos_max_ApBp_list,MI_pos_max_ApBp_list,s=1,color='b',label='L=128, MI')\n",
    "ax.scatter(eta_pos_max_ApBp_list,LN_pos_max_ApBp_list,s=1,color='r',label='L=128, LN')\n",
    "\n",
    "# ax.set_xscale('log')\n",
    "# ax.set_yscale('log')\n",
    "# ax.set_xlim([np.min(eta_pos_max_ApBp_list),1])\n",
    "# ax.set_ylim([1e-10,1])\n",
    "\n",
    "# mask_MI=(MI_pos_max_ApBp_list>1e-10)&((eta_pos_max_ApBp_list)<0.1)\n",
    "# lr_MI=scipy.stats.linregress(np.log(eta_pos_max_ApBp_list[mask_MI]),np.log(MI_pos_max_ApBp_list[mask_MI]))\n",
    "# x_int=np.linspace(np.min(eta_pos_max_ApBp_list),1,10)\n",
    "# y_int=np.exp(lr_MI.slope*np.log(x_int)+lr_MI.intercept)\n",
    "# ax.plot(x_int,y_int,'c',label=r'MI$\\propto\\eta^{{{:.2f}}}$'.format(lr_MI.slope))\n",
    "\n",
    "# mask_LN=(LN_pos_max_ApBp_list>1e-10)&((eta_pos_max_ApBp_list)<0.1)\n",
    "# lr_LN=scipy.stats.linregress(np.log(eta_pos_max_ApBp_list[mask_LN]),np.log(LN_pos_max_ApBp_list[mask_LN]))\n",
    "# x_int=np.linspace(np.min(eta_pos_max_ApBp_list),1,10)\n",
    "# y_int=np.exp(lr_LN.slope*np.log(x_int)+lr_LN.intercept)\n",
    "# ax.plot(x_int,y_int,label=r'LN$\\propto\\eta^{{{:.2f}}}$'.format(lr_LN.slope),color='orange')\n",
    "ax.set_xlabel(r'$\\eta$')\n",
    "ax.legend()\n",
    "\n",
    "place_region(200,220,fig,ax,'ycyc')\n",
    "fig.savefig('/mnt/d/kitp/Rp_SPT/6/MI_LN_pos_max_ApBp.pdf')\n"
   ],
   "outputs": [],
   "metadata": {}
  },
  {
   "cell_type": "code",
   "execution_count": null,
   "source": [
    "mask_parity=np.array([len(x)%2==0 for x in subregion_list])"
   ],
   "outputs": [],
   "metadata": {}
  },
  {
   "cell_type": "code",
   "execution_count": null,
   "source": [
    "mask_parity={}\n",
    "for i in range(4):\n",
    "    mask_parity[i]=np.array([len(x)%4==i for x in subregion_list])"
   ],
   "outputs": [],
   "metadata": {}
  },
  {
   "cell_type": "code",
   "execution_count": null,
   "source": [
    "[np.count_nonzero(mask_parity[i]) for i in range(4)]"
   ],
   "outputs": [],
   "metadata": {}
  },
  {
   "cell_type": "code",
   "execution_count": null,
   "source": [
    "def func_fit(x,a,b,c):\n",
    "    # return a*x**b\n",
    "    return a*(x+b)**c"
   ],
   "outputs": [],
   "metadata": {}
  },
  {
   "cell_type": "code",
   "execution_count": null,
   "source": [
    "mask=eta_pos_list<0.5"
   ],
   "outputs": [],
   "metadata": {}
  },
  {
   "cell_type": "code",
   "execution_count": null,
   "source": [
    "popt, pcov=scipy.optimize.curve_fit(func_fit,eta_pos_list[mask],MI_pos_list[mask]-0.4433)"
   ],
   "outputs": [],
   "metadata": {}
  },
  {
   "cell_type": "code",
   "execution_count": null,
   "source": [
    "popt"
   ],
   "outputs": [],
   "metadata": {}
  },
  {
   "cell_type": "code",
   "execution_count": null,
   "source": [
    "np.min(MI_pos_list)"
   ],
   "outputs": [],
   "metadata": {}
  },
  {
   "cell_type": "code",
   "execution_count": null,
   "source": [
    "eta_pos_list[np.argmin(MI_pos_list)]"
   ],
   "outputs": [],
   "metadata": {}
  },
  {
   "cell_type": "code",
   "execution_count": null,
   "source": [
    "MI_pos_list[np.argmin(eta_pos_list)]"
   ],
   "outputs": [],
   "metadata": {}
  },
  {
   "cell_type": "code",
   "execution_count": null,
   "source": [
    "MI_pos_list"
   ],
   "outputs": [],
   "metadata": {}
  },
  {
   "cell_type": "code",
   "execution_count": null,
   "source": [
    "fig,ax=plt.subplots()\n",
    "ax.scatter(eta_pos_list[mask_parity[0]],MI_pos_list[mask_parity[0]]-np.min(MI_pos_list),s=1,color='b')\n",
    "ax.scatter(eta_pos_list[mask_parity[1]],MI_pos_list[mask_parity[1]]-np.min(MI_pos_list),s=1,color='r')\n",
    "ax.scatter(eta_pos_list[mask_parity[2]],MI_pos_list[mask_parity[2]]-np.min(MI_pos_list),s=1,color='g')\n",
    "ax.scatter(eta_pos_list[mask_parity[3]],MI_pos_list[mask_parity[3]]-np.min(MI_pos_list),s=1,color='y')\n",
    "\n",
    "# ax.scatter(eta_pos_list[~mask_parity],MI_pos_list[~mask_parity]-np.min(MI_pos_list),s=1,color='r')\n",
    "# ax.set_xscale('log')\n",
    "# ax.set_yscale('log')\n",
    "# ax.set_xlim([np.min(eta_list),1])\n",
    "# ax.set_ylim([1e-10,1])\n",
    "\n",
    "# mask=(MI_pos_list>1e-10)&((eta_pos_list)<0.1)\n",
    "# lr=scipy.stats.linregress(np.log(eta_pos_list[mask]),np.log(MI_pos_list[mask]))\n",
    "# x_int=np.linspace(np.min(eta_pos_list),1,10)\n",
    "# y_int=np.exp(lr.slope*np.log(x_int)+lr.intercept)\n",
    "# ax.plot(x_int,y_int,'k')\n",
    "# ax.text(0.1,0.5,r'$\\eta^{{{:.2f}}}$'.format(lr.slope),ha='left',va='center',transform=ax.transAxes)\n",
    "# ax.set_xlabel(r'$\\eta$')\n",
    "# ax.set_ylabel('MI')\n",
    "# fig.savefig('/mnt/d/kitp/Rp_SPT/5/MI_CFT_pos.pdf')\n"
   ],
   "outputs": [],
   "metadata": {}
  },
  {
   "cell_type": "code",
   "execution_count": null,
   "source": [
    "fig,ax=plt.subplots()\n",
    "ax.scatter(eta_pos_list[mask_parity],MI_pos_list[mask_parity],s=1,color='b')\n",
    "ax.set_xscale('log')\n",
    "ax.set_yscale('log')\n",
    "# ax.set_xlim([np.min(eta_list),1])\n",
    "# ax.set_ylim([1e-10,1])\n",
    "\n",
    "# mask=(MI_pos_list>1e-10)&((eta_pos_list)<0.1)\n",
    "# lr=scipy.stats.linregress(np.log(eta_pos_list[mask]),np.log(MI_pos_list[mask]))\n",
    "# x_int=np.linspace(np.min(eta_pos_list),1,10)\n",
    "# y_int=np.exp(lr.slope*np.log(x_int)+lr.intercept)\n",
    "# ax.plot(x_int,y_int,'k')\n",
    "# ax.text(0.1,0.5,r'$\\eta^{{{:.2f}}}$'.format(lr.slope),ha='left',va='center',transform=ax.transAxes)\n",
    "# ax.set_xlabel(r'$\\eta$')\n",
    "# ax.set_ylabel('MI')\n",
    "# fig.savefig('/mnt/d/kitp/Rp_SPT/5/MI_CFT_pos.pdf')\n"
   ],
   "outputs": [],
   "metadata": {}
  },
  {
   "cell_type": "code",
   "execution_count": null,
   "source": [
    "fig,ax=plt.subplots()\n",
    "ax.scatter(eta_pos_list[~mask_parity],MI_pos_list[~mask_parity],s=1,color='b')\n",
    "ax.set_xscale('log')\n",
    "ax.set_yscale('log')\n",
    "# ax.set_xlim([np.min(eta_list),1])\n",
    "# ax.set_ylim([1e-10,1])\n",
    "\n",
    "# mask=(MI_pos_list>1e-10)&((eta_pos_list)<0.1)\n",
    "# lr=scipy.stats.linregress(np.log(eta_pos_list[mask]),np.log(MI_pos_list[mask]))\n",
    "# x_int=np.linspace(np.min(eta_pos_list),1,10)\n",
    "# y_int=np.exp(lr.slope*np.log(x_int)+lr.intercept)\n",
    "# ax.plot(x_int,y_int,'k')\n",
    "# ax.text(0.1,0.5,r'$\\eta^{{{:.2f}}}$'.format(lr.slope),ha='left',va='center',transform=ax.transAxes)\n",
    "# ax.set_xlabel(r'$\\eta$')\n",
    "# ax.set_ylabel('MI')\n",
    "# fig.savefig('/mnt/d/kitp/Rp_SPT/5/MI_CFT_pos.pdf')\n"
   ],
   "outputs": [],
   "metadata": {}
  },
  {
   "cell_type": "code",
   "execution_count": null,
   "source": [
    "(eta_L_list>1e-5)&((eta_L_list)<0.5)"
   ],
   "outputs": [],
   "metadata": {}
  },
  {
   "cell_type": "code",
   "execution_count": null,
   "source": [
    "mask=(MI_L_list>1e-4)&((eta_L_list)<0.5)\n",
    "lr=scipy.stats.linregress(np.log(eta_L_list[mask]),np.log(MI_L_list[mask]))"
   ],
   "outputs": [],
   "metadata": {}
  },
  {
   "cell_type": "code",
   "execution_count": null,
   "source": [
    "lr=scipy.stats.linregress(np.log(eta_L_list[mask]),np.log(MI_L_list[mask]))\n"
   ],
   "outputs": [],
   "metadata": {}
  },
  {
   "cell_type": "code",
   "execution_count": null,
   "source": [
    "mask=(eta_L_list)<0.5"
   ],
   "outputs": [],
   "metadata": {}
  },
  {
   "cell_type": "code",
   "execution_count": null,
   "source": [
    "lr=scipy.stats.linregress(np.log(eta_L_list[mask]),np.log(MI_L_list[mask]))"
   ],
   "outputs": [],
   "metadata": {}
  },
  {
   "cell_type": "code",
   "execution_count": null,
   "source": [
    "lr"
   ],
   "outputs": [],
   "metadata": {}
  },
  {
   "cell_type": "code",
   "execution_count": null,
   "source": [
    "eta_list[1]"
   ],
   "outputs": [],
   "metadata": {}
  },
  {
   "cell_type": "code",
   "execution_count": null,
   "source": [
    "x_list[1]"
   ],
   "outputs": [],
   "metadata": {}
  },
  {
   "cell_type": "code",
   "execution_count": null,
   "source": [
    "np.abs(x_list[0]-x_list[1])"
   ],
   "outputs": [],
   "metadata": {}
  },
  {
   "cell_type": "code",
   "execution_count": null,
   "source": [
    "x01=np.sin(np.pi/(2*params.L)*np.abs(x_list[1][0]-x_list[1][1]))"
   ],
   "outputs": [],
   "metadata": {}
  },
  {
   "cell_type": "code",
   "execution_count": null,
   "source": [
    "x23=np.sin(np.pi/(2*params.L)*np.abs(x_list[1][2]-x_list[1][3]))"
   ],
   "outputs": [],
   "metadata": {}
  },
  {
   "cell_type": "code",
   "execution_count": null,
   "source": [
    "x02=np.sin(np.pi/(2*params.L)*np.abs(x_list[1][0]-x_list[1][2]))"
   ],
   "outputs": [],
   "metadata": {}
  },
  {
   "cell_type": "code",
   "execution_count": null,
   "source": [
    "x13=np.sin(np.pi/(2*params.L)*np.abs(x_list[1][1]-x_list[1][3]))"
   ],
   "outputs": [],
   "metadata": {}
  },
  {
   "cell_type": "code",
   "execution_count": null,
   "source": [
    "x01*x23/(x02*x13)"
   ],
   "outputs": [],
   "metadata": {}
  },
  {
   "cell_type": "code",
   "execution_count": null,
   "source": [
    "eta_list[1]"
   ],
   "outputs": [],
   "metadata": {}
  },
  {
   "cell_type": "code",
   "execution_count": null,
   "source": [
    "eta,MI=params.CFT_correlator(x_list[1])"
   ],
   "outputs": [],
   "metadata": {}
  },
  {
   "cell_type": "code",
   "execution_count": null,
   "source": [
    "eta"
   ],
   "outputs": [],
   "metadata": {}
  },
  {
   "cell_type": "code",
   "execution_count": null,
   "source": [
    "MI_list[1]"
   ],
   "outputs": [],
   "metadata": {}
  },
  {
   "cell_type": "code",
   "execution_count": null,
   "source": [
    "et"
   ],
   "outputs": [],
   "metadata": {}
  },
  {
   "cell_type": "code",
   "execution_count": null,
   "source": [
    "np.where(np.array(eta_list)<0)"
   ],
   "outputs": [],
   "metadata": {}
  },
  {
   "cell_type": "code",
   "execution_count": null,
   "source": [
    "x=lambda x: x**2"
   ],
   "outputs": [],
   "metadata": {}
  },
  {
   "cell_type": "code",
   "execution_count": null,
   "source": [
    "xx=np.random.choice(np.arange(params.L*2),4,replace=False).sort()"
   ],
   "outputs": [],
   "metadata": {}
  },
  {
   "cell_type": "code",
   "execution_count": null,
   "source": [
    "xx"
   ],
   "outputs": [],
   "metadata": {}
  },
  {
   "cell_type": "code",
   "execution_count": null,
   "source": [
    "xx.sort()"
   ],
   "outputs": [],
   "metadata": {}
  },
  {
   "cell_type": "code",
   "execution_count": null,
   "source": [
    "xx"
   ],
   "outputs": [],
   "metadata": {}
  },
  {
   "cell_type": "markdown",
   "source": [
    "### Exhausted sampling"
   ],
   "metadata": {}
  },
  {
   "cell_type": "code",
   "execution_count": null,
   "source": [
    "eta_L_list=[]\n",
    "MI_L_list=[]\n",
    "LN_L_list=[]\n",
    "x_list=[]\n",
    "params=Params(delta=0,L=128,bc=-1,basis='m')\n",
    "for _ in range(10000):\n",
    "    x=2*np.random.choice(np.arange(params.L),4,replace=False)\n",
    "    x.sort()\n",
    "    x_list.append(x)\n",
    "    eta,MI,LN=params.CFT_correlator(x)\n",
    "    eta_L_list.append(eta)\n",
    "    MI_L_list.append(MI)\n",
    "    LN_L_list.append(LN)\n",
    "eta_L_list=np.array(eta_L_list)\n",
    "MI_L_list=np.array(MI_L_list)\n",
    "LN_L_list=np.array(LN_L_list)"
   ],
   "outputs": [],
   "metadata": {}
  },
  {
   "cell_type": "markdown",
   "source": [
    "# Finite temperature"
   ],
   "metadata": {}
  },
  {
   "cell_type": "markdown",
   "source": [
    "## MI"
   ],
   "metadata": {}
  },
  {
   "cell_type": "code",
   "execution_count": null,
   "source": [
    "mutual_info_list={}\n",
    "mutual_info_pos_list={}\n",
    "mutual_info_neg_list={}"
   ],
   "outputs": [],
   "metadata": {}
  },
  {
   "cell_type": "code",
   "execution_count": null,
   "source": [
    "for T0 in (0,0.1e-1,0.2e-1,0.5e-1,1e-1,2e-1,3e-1):\n",
    "    # T_list=np.linspace(0,5e-2,100)\n",
    "    # no measurment\n",
    "    delta_list=np.linspace(-1,1,100)**3\n",
    "    mutual_info_list[T0]=[]\n",
    "    for delta in delta_list:    \n",
    "        params=Params(delta=delta,L=64,bc=-1,T=T0)\n",
    "        mutual_info_list[T0].append(params.mutual_information_m(np.arange((params.L//2)),np.arange((params.L//2))+params.L))\n",
    "\n",
    "    # all projections to 0\n",
    "    mutual_info_pos_list[T0]=[]\n",
    "    for delta in delta_list:    \n",
    "        params=Params(delta=delta,L=64,bc=-1,T=T0)\n",
    "        params.measure_all(1)\n",
    "        mutual_info_pos_list[T0].append(params.mutual_information_m(np.arange((params.L//2)),np.arange((params.L//2))+params.L))\n",
    "\n",
    "    # all projections to 1\n",
    "    mutual_info_neg_list[T0]=[]\n",
    "    for delta in delta_list:\n",
    "        params=Params(delta=delta,L=64,bc=-1,T=T0)\n",
    "        params.measure_all(0)\n",
    "        mutual_info_neg_list[T0].append(params.mutual_information_m(np.arange((params.L//2)),np.arange((params.L//2))+params.L))"
   ],
   "outputs": [],
   "metadata": {}
  },
  {
   "cell_type": "code",
   "execution_count": null,
   "source": [
    "fig,ax=plt.subplots(figsize=(6.8,4))\n",
    "colorlist=iter('bgrcmyk')\n",
    "label_height_pos=0.8\n",
    "for T0,color in zip((0,0.1e-1,0.2e-1,0.5e-1,1e-1,2e-1,3e-1),colorlist):\n",
    "    ax.plot(delta_list,mutual_info_list[T0]/np.log(2),'-',label='no measure, T={:.2f}'.format(T0),color=color,ls='--')\n",
    "    ax.plot(delta_list,mutual_info_pos_list[T0]/np.log(2),'-',label='measure all +1, T={:.2f}'.format(T0),color=color,ls='-')\n",
    "    ax.plot(delta_list,mutual_info_neg_list[T0]/np.log(2),'-',label='measure all -1, T={:.2f}'.format(T0),color=color,ls=':')\n",
    "    # ax.text(0.1,label_height_pos+0.01,'*',color=color,transform=ax.transAxes,ha='right')\n",
    "    ax.text(0.1,label_height_pos,'T={}'.format(T0),color=color,transform=ax.transAxes)\n",
    "    label_height_pos-=0.05\n",
    "\n",
    "ax.set_xlabel(r'$\\delta$')\n",
    "ax.set_ylabel(r'Mutual information [$\\log 2$]')\n",
    "# ax.legend()\n",
    "ax.text(0.2,0.8,'--- all measure to +1',transform=ax.transAxes,ha='left')\n",
    "ax.text(0.2,0.7,'... all measure to -1',transform=ax.transAxes,ha='left')\n",
    "ax.text(0.2,0.6,'- - no measure',transform=ax.transAxes,ha='left')\n",
    "\n",
    "fig.tight_layout()\n",
    "fig.savefig('/mnt/d/kitp/Rp_SPT/6/MI_Finite_T.pdf',bbox_inches='tight')"
   ],
   "outputs": [],
   "metadata": {}
  },
  {
   "cell_type": "code",
   "execution_count": null,
   "source": [
    "delta_list=np.linspace(-1,1,100)**3\n",
    "T_list=np.linspace(0,6e-1,10)\n",
    "# T_list=10*T_list**2\n",
    "\n",
    "mutual_info_map=np.zeros((len(T_list),len(delta_list)))\n",
    "mutual_info_pos_map=np.zeros((len(T_list),len(delta_list)))\n",
    "mutual_info_neg_map=np.zeros((len(T_list),len(delta_list)))\n",
    "\n",
    "for T_i,T in enumerate(T_list):\n",
    "    for delta_i,delta in enumerate(delta_list):    \n",
    "        params=Params(delta=delta,L=64,bc=-1,T=T)\n",
    "        mutual_info_map[T_i,delta_i]=(params.mutual_information_m(np.arange((params.L//2)),np.arange((params.L//2))+params.L))\n",
    "\n",
    "    # all projections to 0\n",
    "    for delta_i,delta in enumerate(delta_list):    \n",
    "        params=Params(delta=delta,L=64,bc=-1,T=T)\n",
    "        params.measure_all(1)\n",
    "        mutual_info_pos_map[T_i,delta_i]=(params.mutual_information_m(np.arange((params.L//2)),np.arange(params.L//2)+params.L))\n",
    "\n",
    "    # all projections to 1\n",
    "    for delta_i,delta in enumerate(delta_list):    \n",
    "        params=Params(delta=delta,L=64,bc=-1,T=T)\n",
    "        params.measure_all(0)\n",
    "        mutual_info_neg_map[T_i,delta_i]=(params.mutual_information_m(np.arange((params.L//2)),np.arange(params.L//2)+params.L))"
   ],
   "outputs": [],
   "metadata": {}
  },
  {
   "cell_type": "code",
   "execution_count": null,
   "source": [
    "T_list=np.linspace(0,6e-1,50)\n",
    "delta_list=np.linspace(-1,1,100)**3\n",
    "# T_list=10*T_list**2\n",
    "\n",
    "mutual_info_map_para=np.zeros((len(T_list),len(delta_list)))\n",
    "mutual_info_pos_map_para=np.zeros((len(T_list),len(delta_list)))\n",
    "mutual_info_neg_map_para=np.zeros((len(T_list),len(delta_list)))\n",
    "\n",
    "# for T,T in enumerate(T_list):\n",
    "def parallel_func(T):\n",
    "    delta_list=np.linspace(-1,1,100)**3\n",
    "    mutual_info_map_slice=np.zeros(len(delta_list))\n",
    "    mutual_info_pos_map_slice=np.zeros(len(delta_list))\n",
    "    mutual_info_neg_map_slice=np.zeros(len(delta_list))\n",
    "    for delta_i,delta in enumerate(delta_list):    \n",
    "        params=Params(delta=delta,L=64,bc=-1,T=T)\n",
    "        mutual_info_map_slice[delta_i]=(params.mutual_information_m(np.arange((params.L//2)),np.arange((params.L//2))+params.L))\n",
    "\n",
    "    # all projections to 0\n",
    "    for delta_i,delta in enumerate(delta_list):    \n",
    "        params=Params(delta=delta,L=64,bc=-1,T=T)\n",
    "        params.measure_all(1)\n",
    "        mutual_info_pos_map_slice[delta_i]=(params.mutual_information_m(np.arange((params.L//2)),np.arange(params.L//2)+params.L))\n",
    "\n",
    "    # all projections to 1\n",
    "    for delta_i,delta in enumerate(delta_list):    \n",
    "        params=Params(delta=delta,L=64,bc=-1,T=T)\n",
    "        params.measure_all(0)\n",
    "        mutual_info_neg_map_slice[delta_i]=(params.mutual_information_m(np.arange((params.L//2)),np.arange(params.L//2)+params.L))\n",
    "    return mutual_info_map_slice,mutual_info_pos_map_slice,mutual_info_neg_map_slice\n",
    "\n",
    "rc[:].execute(\"from Majorana_chain import *\")\n",
    "rc[:].execute(\"import numpy as np\")\n",
    "async_result=rc[:].map_async(parallel_func,T_list)"
   ],
   "outputs": [],
   "metadata": {}
  },
  {
   "cell_type": "code",
   "execution_count": null,
   "source": [
    "T_L128_list=np.linspace(0,6e-1,50)\n",
    "delta_L128_list=np.linspace(-1,1,100)**3\n",
    "# T_L128_list=10*T_L128_list**2\n",
    "\n",
    "mutual_info_map_L128_para=np.zeros((len(T_L128_list),len(delta_L128_list)))\n",
    "mutual_info_pos_map_L128_para=np.zeros((len(T_L128_list),len(delta_L128_list)))\n",
    "mutual_info_neg_map_L128_para=np.zeros((len(T_L128_list),len(delta_L128_list)))\n",
    "\n",
    "# for T,T in enumerate(T_L128_list):\n",
    "def parallel_func(T):\n",
    "    delta_L128_list=np.linspace(-1,1,100)**3\n",
    "    mutual_info_map_slice=np.zeros(len(delta_L128_list))\n",
    "    mutual_info_pos_map_slice=np.zeros(len(delta_L128_list))\n",
    "    mutual_info_neg_map_slice=np.zeros(len(delta_L128_list))\n",
    "    for delta_i,delta in enumerate(delta_L128_list):    \n",
    "        params=Params(delta=delta,L=128,bc=-1,T=T)\n",
    "        mutual_info_map_slice[delta_i]=(params.mutual_information_m(np.arange((params.L//2)),np.arange((params.L//2))+params.L))\n",
    "\n",
    "    # all projections to 0\n",
    "    for delta_i,delta in enumerate(delta_L128_list):    \n",
    "        params=Params(delta=delta,L=128,bc=-1,T=T)\n",
    "        params.measure_all(1)\n",
    "        mutual_info_pos_map_slice[delta_i]=(params.mutual_information_m(np.arange((params.L//2)),np.arange(params.L//2)+params.L))\n",
    "\n",
    "    # all projections to 1\n",
    "    for delta_i,delta in enumerate(delta_L128_list):    \n",
    "        params=Params(delta=delta,L=128,bc=-1,T=T)\n",
    "        params.measure_all(0)\n",
    "        mutual_info_neg_map_slice[delta_i]=(params.mutual_information_m(np.arange((params.L//2)),np.arange(params.L//2)+params.L))\n",
    "    return mutual_info_map_slice,mutual_info_pos_map_slice,mutual_info_neg_map_slice\n",
    "\n",
    "rc[:].execute(\"from Majorana_chain import *\")\n",
    "rc[:].execute(\"import numpy as np\")\n",
    "async_result=rc[:].map_async(parallel_func,T_L128_list)"
   ],
   "outputs": [],
   "metadata": {}
  },
  {
   "cell_type": "code",
   "execution_count": null,
   "source": [
    "async_result.ready()"
   ],
   "outputs": [],
   "metadata": {}
  },
  {
   "cell_type": "code",
   "execution_count": null,
   "source": [
    "async_result.progress"
   ],
   "outputs": [],
   "metadata": {}
  },
  {
   "cell_type": "code",
   "execution_count": null,
   "source": [
    "for idx,results in enumerate(async_result):\n",
    "    MI,MI_pos,MI_neg=results\n",
    "    mutual_info_map_para[idx,:]=(MI)\n",
    "    mutual_info_pos_map_para[idx,:]=(MI_pos)\n",
    "    mutual_info_neg_map_para[idx,:]=(MI_neg)"
   ],
   "outputs": [],
   "metadata": {}
  },
  {
   "cell_type": "code",
   "execution_count": null,
   "source": [
    "for idx,results in enumerate(async_result):\n",
    "    MI,MI_pos,MI_neg=results\n",
    "    mutual_info_map_L128_para[idx,:]=(MI)\n",
    "    mutual_info_pos_map_L128_para[idx,:]=(MI_pos)\n",
    "    mutual_info_neg_map_L128_para[idx,:]=(MI_neg)"
   ],
   "outputs": [],
   "metadata": {}
  },
  {
   "cell_type": "code",
   "execution_count": null,
   "source": [
    "T_list=np.linspace(0,6e-1,200)\n",
    "delta_list=np.linspace(-1,1,100)**3\n",
    "# T_list=10*T_list**2\n",
    "\n",
    "mutual_info_map_ref0_para=np.zeros((len(T_list),len(delta_list)))   # Adjacent AB\n",
    "mutual_info_map_ref1_para=np.zeros((len(T_list),len(delta_list)))   # A and A_complementary\n",
    "\n",
    "\n",
    "# for T,T in enumerate(T_list):\n",
    "def parallel_func(T):\n",
    "    delta_list=np.linspace(-1,1,100)**3\n",
    "    mutual_info_map_ref0_slice=np.zeros(len(delta_list))\n",
    "    mutual_info_map_ref1_slice=np.zeros(len(delta_list))\n",
    "    for delta_i,delta in enumerate(delta_list):    \n",
    "        params=Params(delta=delta,L=64,bc=-1,T=T)\n",
    "        mutual_info_map_ref0_slice[delta_i]=(params.mutual_information_m(np.arange((params.L//2)),np.arange((params.L//2))+params.L//2))\n",
    "        mutual_info_map_ref1_slice[delta_i]=(params.mutual_information_m(np.arange((params.L//2)),np.arange((params.L//2),2*params.L)))\n",
    "\n",
    "    return mutual_info_map_ref0_slice, mutual_info_map_ref1_slice\n",
    "\n",
    "rc[:].execute(\"from Majorana_chain import *\")\n",
    "rc[:].execute(\"import numpy as np\")\n",
    "async_result=rc[:].map_async(parallel_func,T_list)\n",
    "\n"
   ],
   "outputs": [],
   "metadata": {}
  },
  {
   "cell_type": "code",
   "execution_count": null,
   "source": [
    "for idx,results in enumerate(async_result):\n",
    "    MI_ref0,MI_ref1=results\n",
    "    mutual_info_map_ref0_para[idx,:]=(MI_ref0)\n",
    "    mutual_info_map_ref1_para[idx,:]=(MI_ref1)"
   ],
   "outputs": [],
   "metadata": {}
  },
  {
   "cell_type": "code",
   "execution_count": 11,
   "source": [
    "from scipy.interpolate import UnivariateSpline\n",
    "def find_inflection(x,y):\n",
    "    spl=UnivariateSpline(x,y,s=0)\n",
    "    spld=spl.derivative()\n",
    "    x_fit=np.linspace(x.min(),x.max(),500)\n",
    "    y_fit=spld(x_fit)    \n",
    "    # return x_fit,y_fit\n",
    "    return x_fit[np.argmax(y_fit)]"
   ],
   "outputs": [],
   "metadata": {}
  },
  {
   "cell_type": "code",
   "execution_count": null,
   "source": [
    "inflection_list=[find_inflection(delta_list,x/np.log(2)) for x in mutual_info_neg_map_para]"
   ],
   "outputs": [],
   "metadata": {}
  },
  {
   "cell_type": "code",
   "execution_count": null,
   "source": [
    "inflection_L128_list=[find_inflection(delta_L128_list,x/np.log(2)) for x in mutual_info_neg_map_L128_para]"
   ],
   "outputs": [],
   "metadata": {}
  },
  {
   "cell_type": "code",
   "execution_count": null,
   "source": [
    "fig,axs=plt.subplots(4,1,sharex=True,sharey=True,figsize=(6.8,8))\n",
    "color='magma'\n",
    "for ax,x in zip(axs,(mutual_info_map_para,mutual_info_pos_map_para,mutual_info_neg_map_para)):\n",
    "    im=ax.pcolormesh(delta_list,T_list,x/np.log(2),shading='gouraud',cmap=color)\n",
    "    axins=ax.inset_axes([1.02, 0, 0.03, 1],transform=ax.transAxes)\n",
    "    cb=fig.colorbar(im,cax=axins)    \n",
    "im=(axs[-1].pcolormesh(delta_dict_para[0],np.linspace(0,6e-1,50),mutual_info_mean/np.log(2),shading='gouraud',cmap=color))  \n",
    "axins=axs[-1].inset_axes([1.02, 0, 0.03, 1],transform=axs[-1].transAxes)\n",
    "cb=fig.colorbar(im,cax=axins)\n",
    "\n",
    "axs[0].text(1.01,1,'MI (log 2)',transform=axs[0].transAxes,ha='left',va='bottom')\n",
    "[ax.set_ylabel(r'$T$') for ax in axs]\n",
    "axs[2].set_xlabel(r'$\\delta$')\n",
    "axs[0].text(.5,1,'No measure',transform=axs[0].transAxes,ha='center',va='bottom')\n",
    "axs[1].text(.5,1,'Measure all +1',transform=axs[1].transAxes,ha='center',va='bottom')\n",
    "axs[2].text(.5,1,'Measure all -1',transform=axs[2].transAxes,ha='center',va='bottom')\n",
    "axs[-1].text(.5,1,'Born rule',transform=axs[-1].transAxes,ha='center',va='bottom')\n",
    "[ax.plot(delta_list,eigvallist_m[:,16],'c') for ax in axs]\n",
    "[ax.set_xlim(-1,1)]\n",
    "[ax.set_ylim(0,0.6)]\n",
    "axs[2].plot(inflection_list,T_list,'r',lw=2)\n",
    "\n",
    "fig.tight_layout()\n",
    "\n",
    "fig.savefig('/mnt/d/kitp/Rp_SPT/6/MI_T_map.pdf',bbox_inches='tight')"
   ],
   "outputs": [],
   "metadata": {}
  },
  {
   "cell_type": "code",
   "execution_count": null,
   "source": [
    "fig,axs=plt.subplots(4,1,figsize=(6.8,8),sharex=True,tight_layout=True)\n",
    "ax=axs[0]\n",
    "colorlist='bgrcmyk'\n",
    "for i,color in zip((9,19,50,80,90),colorlist):\n",
    "    ax.plot(T_list,mutual_info_map_para[:,i],label=r'$\\delta={:.2f}$'.format(delta_list[i]),color=color)\n",
    "ax.legend()\n",
    "ax.set_title('No Measure')\n",
    "ax.set_ylabel('MI [log 2]')\n",
    "\n",
    "ax=axs[1]\n",
    "for i,color in zip((9,19,50,80,90),colorlist):\n",
    "    ax.plot(T_list,mutual_info_pos_map_para[:,i],label=r'$\\delta={:.2f}$'.format(delta_list[i]),color=color)\n",
    "ax.legend()\n",
    "ax.set_title('Measure all to +1')\n",
    "ax.set_ylabel('MI [log 2]')\n",
    "ax=axs[2]\n",
    "for i,color in zip((9,19,50,80,90),colorlist):\n",
    "    ax.plot(T_list,mutual_info_neg_map_para[:,i],label=r'$\\delta={:.2f}$'.format(delta_list[i]),color=color)\n",
    "ax.legend()\n",
    "ax.set_title('Measure all to -1')\n",
    "ax.set_ylabel('MI [log 2]')\n",
    "ax=axs[3]\n",
    "for i,color in zip((9,19,50,80,90),colorlist):\n",
    "    ax.plot(T_list,mutual_info_mean[:,i],label=r'$\\delta={:.2f}$'.format(delta_list[i]),color=color)\n",
    "ax.legend()\n",
    "ax.set_title('Born rule')\n",
    "ax.set_xlabel(r'T')\n",
    "ax.set_ylabel('MI [log 2]')\n",
    "fig.savefig('/mnt/d/KITP/Rp_SPT/6/MI_T_linecuts.pdf',bbox_inches='tight')"
   ],
   "outputs": [],
   "metadata": {}
  },
  {
   "cell_type": "code",
   "execution_count": null,
   "source": [
    "fig,axs=plt.subplots(3,1,sharex=True,sharey=True,figsize=(6.8,6))\n",
    "color='magma'\n",
    "for ax,x in zip(axs,(mutual_info_map_L128_para,mutual_info_pos_map_L128_para,mutual_info_neg_map_L128_para)):\n",
    "    im=ax.pcolormesh(delta_L128_list,T_L128_list,x/np.log(2),shading='gouraud',cmap=color)\n",
    "    axins=ax.inset_axes([1.02, 0, 0.03, 1],transform=ax.transAxes)\n",
    "    cb=fig.colorbar(im,cax=axins)    \n",
    "# im=(axs[-1].pcolormesh(delta_dict_L128_para[0],np.linspace(0,6e-1,50),mutual_info_mean/np.log(2),shading='gouraud',cmap=color))  \n",
    "# axins=axs[-1].inset_axes([1.02, 0, 0.03, 1],transform=axs[-1].transAxes)\n",
    "# cb=fig.colorbar(im,cax=axins)\n",
    "\n",
    "axs[0].text(1.01,1,'MI (log 2)',transform=axs[0].transAxes,ha='left',va='bottom')\n",
    "[ax.set_ylabel(r'$T$') for ax in axs]\n",
    "axs[2].set_xlabel(r'$\\delta$')\n",
    "axs[0].text(.5,1,'No measure',transform=axs[0].transAxes,ha='center',va='bottom')\n",
    "axs[1].text(.5,1,'Measure all +1',transform=axs[1].transAxes,ha='center',va='bottom')\n",
    "axs[2].text(.5,1,'Measure all -1',transform=axs[2].transAxes,ha='center',va='bottom')\n",
    "# axs[-1].text(.5,1,'Born rule',transform=axs[-1].transAxes,ha='center',va='bottom')\n",
    "\n",
    "axs[2].plot(inflection_L128_list,T_L128_list,'r',lw=2)\n",
    "\n",
    "fig.tight_layout()\n",
    "\n",
    "# fig.savefig('/mnt/d/kitp/Rp_SPT/6/MI_T_map.pdf',bbox_inches='tight')"
   ],
   "outputs": [],
   "metadata": {}
  },
  {
   "cell_type": "code",
   "execution_count": null,
   "source": [
    "fig,axs=plt.subplots(2,1,sharex=True,sharey=True,figsize=(6.8,6))\n",
    "color='magma'\n",
    "for ax,x in zip(axs,(mutual_info_map_ref0_para,mutual_info_map_ref1_para)):\n",
    "    im=ax.pcolormesh(delta_list,T_list,x/np.log(2),shading='gouraud',cmap=color)\n",
    "    axins=ax.inset_axes([1.02, 0, 0.03, 1],transform=ax.transAxes)\n",
    "    cb=fig.colorbar(im,cax=axins)    \n",
    "    \n",
    "axs[0].text(1.01,1,'MI (log 2)',transform=axs[0].transAxes,ha='left',va='bottom')\n",
    "[ax.set_ylabel(r'$T$') for ax in axs]\n",
    "axs[-1].set_xlabel(r'$\\delta$')\n",
    "axs[0].text(.5,1,r'$I(A=[1,32],B=[33;64];T)$',transform=axs[0].transAxes,ha='center',va='bottom')\n",
    "axs[1].text(.5,1,r'$I(A=[1,32],\\bar{A}=[33,128];T)$',transform=axs[1].transAxes,ha='center',va='bottom')\n",
    "\n",
    "\n",
    "fig.tight_layout()\n",
    "\n",
    "fig.savefig('/mnt/d/kitp/Rp_SPT/5/MI_Finite_T_map_reference.pdf',bbox_inches='tight')"
   ],
   "outputs": [],
   "metadata": {}
  },
  {
   "cell_type": "code",
   "execution_count": null,
   "source": [
    "fig,axs=plt.subplots(3,1,sharex=True,sharey=True,figsize=(6.8,6))\n",
    "color='seismic'\n",
    "for ax,x in zip(axs,(mutual_info_map_para,mutual_info_pos_map_para,mutual_info_neg_map_para)):\n",
    "    mm=np.abs((x-mutual_info_map_ref0_para)/np.log(2)).max()\n",
    "    im=ax.pcolormesh(delta_list,T_list,(x-mutual_info_map_ref0_para)/np.log(2),shading='gouraud',cmap=color,vmin=-mm,vmax=mm)\n",
    "    axins=ax.inset_axes([1.02, 0, 0.03, 1],transform=ax.transAxes)\n",
    "    cb=fig.colorbar(im,cax=axins)    \n",
    "    \n",
    "axs[0].text(1.01,1,'MI (log 2)',transform=axs[0].transAxes,ha='left',va='bottom')\n",
    "[ax.set_ylabel(r'$T$') for ax in axs]\n",
    "axs[2].set_xlabel(r'$\\delta$')\n",
    "axs[0].text(.5,1,'No measure',transform=axs[0].transAxes,ha='center',va='bottom')\n",
    "axs[1].text(.5,1,'Measure all +1',transform=axs[1].transAxes,ha='center',va='bottom')\n",
    "axs[2].text(.5,1,'Measure all -1',transform=axs[2].transAxes,ha='center',va='bottom')\n",
    "\n",
    "axs[2].plot(inflection_list,T_list,'r',lw=2)\n",
    "\n",
    "fig.tight_layout()\n",
    "\n",
    "fig.savefig('/mnt/d/kitp/Rp_SPT/5/MI_Finite_T_map_diff.pdf',bbox_inches='tight')"
   ],
   "outputs": [],
   "metadata": {}
  },
  {
   "cell_type": "code",
   "execution_count": null,
   "source": [
    "i=70\n",
    "plt.plot(delta_list,mutual_info_pos_map[i]/np.log(2))\n",
    "plt.title(T_list[i])"
   ],
   "outputs": [],
   "metadata": {}
  },
  {
   "cell_type": "code",
   "execution_count": null,
   "source": [
    "from scipy.interpolate import interp1d\n",
    "spl=UnivariateSpline(delta_list,mutual_info_neg_map[90]/np.log(2),s=0)"
   ],
   "outputs": [],
   "metadata": {}
  },
  {
   "cell_type": "code",
   "execution_count": null,
   "source": [
    "spld=spl.derivative()"
   ],
   "outputs": [],
   "metadata": {}
  },
  {
   "cell_type": "code",
   "execution_count": null,
   "source": [
    "spld2=spl.derivative(n=2)"
   ],
   "outputs": [],
   "metadata": {}
  },
  {
   "cell_type": "code",
   "execution_count": null,
   "source": [
    "plt.plot(np.linspace(-1,1,1000),spl(np.linspace(-1,1,1000)))\n",
    "plt.plot(np.linspace(-1,1,1000),spld(np.linspace(-1,1,1000)))\n",
    "\n",
    "# plt.plot(np.linspace(-1,1,1000),spld2(np.linspace(-1,1,1000)))"
   ],
   "outputs": [],
   "metadata": {}
  },
  {
   "cell_type": "code",
   "execution_count": null,
   "source": [
    "import matplotlib.colors as colors"
   ],
   "outputs": [],
   "metadata": {}
  },
  {
   "cell_type": "code",
   "execution_count": null,
   "source": [
    "plt.pcolormesh(delta_list,T_list,np.real(np.log(mutual_info_neg_map_para/np.log(2)+0j)),shading='gouraud',cmap=color,vmin=-2)"
   ],
   "outputs": [],
   "metadata": {}
  },
  {
   "cell_type": "code",
   "execution_count": null,
   "source": [
    "fig,axs=plt.subplots(3,1,sharex=True,sharey=True,figsize=(6.8,6))\n",
    "color='magma'\n",
    "for ax,x,vmin in zip(axs,(mutual_info_map_para,mutual_info_pos_map_para,mutual_info_neg_map_para),(-40,-1,-1)):\n",
    "    im=ax.pcolormesh(delta_list,T_list,np.real(np.log(x/np.log(2)+0j)),shading='gouraud',cmap=color,vmin=vmin)\n",
    "    axins=ax.inset_axes([1.02, 0, 0.03, 1],transform=ax.transAxes)\n",
    "    cb=fig.colorbar(im,cax=axins)    \n",
    "    \n",
    "axs[0].text(1.0,1.03,r'$\\log(\\rm{MI}/\\log 2)$',transform=axs[0].transAxes,ha='left',va='bottom')\n",
    "[ax.set_ylabel(r'$T$') for ax in axs]\n",
    "axs[2].set_xlabel(r'$\\delta$')\n",
    "axs[0].text(.5,1,'No measure',transform=axs[0].transAxes,ha='center',va='bottom')\n",
    "axs[1].text(.5,1,'Measure all +1',transform=axs[1].transAxes,ha='center',va='bottom')\n",
    "axs[2].text(.5,1,'Measure all -1',transform=axs[2].transAxes,ha='center',va='bottom')\n",
    "\n",
    "fig.tight_layout()\n",
    "axs[2].plot(inflection_list,T_list,'r',lw=2)\n",
    "\n",
    "fig.savefig('/mnt/d/kitp/Rp_SPT/5/MI_Finite_T_map_para_log.pdf',bbox_inches='tight')"
   ],
   "outputs": [],
   "metadata": {}
  },
  {
   "cell_type": "markdown",
   "source": [
    "## LN"
   ],
   "metadata": {}
  },
  {
   "cell_type": "code",
   "execution_count": null,
   "source": [
    "LN_list={}\n",
    "LN_pos_list={}\n",
    "LN_neg_list={}"
   ],
   "outputs": [],
   "metadata": {}
  },
  {
   "cell_type": "code",
   "execution_count": null,
   "source": [
    "# T0=0.1e-1\n",
    "# T_list=np.linspace(0,5e-2,100)\n",
    "for T0 in (0,0.1e-1,0.2e-1,0.5e-1,1e-1,2e-1,3e-1):\n",
    "    delta_list=np.linspace(-1,1,100)**3\n",
    "\n",
    "    # no measurment\n",
    "    LN_list[T0]=[]\n",
    "    for delta in delta_list:    \n",
    "        params=Params(delta=delta,L=64,bc=-1,T=T0)\n",
    "        LN_list[T0].append(params.log_neg(np.arange(params.L//2),np.arange(params.L//2)+params.L))\n",
    "\n",
    "    # all projections to 0\n",
    "    LN_pos_list[T0]=[]\n",
    "    for delta in delta_list:    \n",
    "        params=Params(delta=delta,L=64,bc=-1,T=T0)\n",
    "        params.measure_all(1)\n",
    "        LN_pos_list[T0].append(params.log_neg(np.arange(params.L//2),np.arange(params.L//2)+params.L))\n",
    "\n",
    "    # all projections to 1\n",
    "    LN_neg_list[T0]=[]\n",
    "    for delta in delta_list:\n",
    "        params=Params(delta=delta,L=64,bc=-1,T=T0)\n",
    "        params.measure_all(0)\n",
    "        LN_neg_list[T0].append(params.log_neg(np.arange(params.L//2),np.arange(params.L//2)+params.L))"
   ],
   "outputs": [],
   "metadata": {}
  },
  {
   "cell_type": "code",
   "execution_count": null,
   "source": [
    "fig,ax=plt.subplots(figsize=(6.8,4))\n",
    "colorlist=iter('bgrcmyk')\n",
    "label_height_pos=0.8\n",
    "for T0,color in zip((0,0.1e-1,0.2e-1,0.5e-1,1e-1,2e-1,3e-1),colorlist):\n",
    "    ax.plot(delta_list,LN_list[T0]/np.log(2),'-',label='no measure, T={:.2f}'.format(T0),color=color,ls='--')\n",
    "    ax.plot(delta_list,LN_pos_list[T0]/np.log(2),'-',label='measure all +1, T={:.2f}'.format(T0),color=color,ls='-')\n",
    "    ax.plot(delta_list,LN_neg_list[T0]/np.log(2),'-',label='measure all -1, T={:.2f}'.format(T0),color=color,ls=':')\n",
    "    # ax.text(0.1,label_height_pos+0.01,'*',color=color,transform=ax.transAxes,ha='right')\n",
    "    ax.text(0.1,label_height_pos,'T={}'.format(T0),color=color,transform=ax.transAxes)\n",
    "    label_height_pos-=0.05\n",
    "\n",
    "ax.set_xlabel(r'$\\delta$')\n",
    "ax.set_ylabel(r'LN [$\\log 2$]')\n",
    "# ax.legend()\n",
    "ax.text(0.2,0.8,'--- all measure to +1',transform=ax.transAxes,ha='left')\n",
    "ax.text(0.2,0.7,'... all measure to -1',transform=ax.transAxes,ha='left')\n",
    "ax.text(0.2,0.6,'- - no measure',transform=ax.transAxes,ha='left')\n",
    "\n",
    "fig.tight_layout()\n",
    "fig.savefig('/mnt/d/kitp/Rp_SPT/6/LN_Finite_T.pdf',bbox_inches='tight')"
   ],
   "outputs": [],
   "metadata": {}
  },
  {
   "cell_type": "code",
   "execution_count": null,
   "source": [
    "fig,axs=plt.subplots(2,1,figsize=(6.8,6))\n",
    "colorlist=iter('bgrcmyk')\n",
    "label_height_pos=0.8\n",
    "ax=axs[0]\n",
    "for T0,color in zip((0,0.1e-1,0.2e-1,0.5e-1,1e-1,2e-1,3e-1),colorlist):\n",
    "    ax.plot(delta_list,mutual_info_list[T0]/np.log(2),'-',label='no measure, T={:.2f}'.format(T0),color=color,ls='--')\n",
    "    ax.plot(delta_list,mutual_info_pos_list[T0]/np.log(2),'-',label='measure all +1, T={:.2f}'.format(T0),color=color,ls='-')\n",
    "    ax.plot(delta_list,mutual_info_neg_list[T0]/np.log(2),'-',label='measure all -1, T={:.2f}'.format(T0),color=color,ls=':')\n",
    "    # ax.text(0.1,label_height_pos+0.01,'*',color=color,transform=ax.transAxes,ha='right')\n",
    "    ax.text(0.1,label_height_pos,'T={}'.format(T0),color=color,transform=ax.transAxes)\n",
    "    label_height_pos-=0.05\n",
    "\n",
    "ax.set_xlabel(r'$\\delta$')\n",
    "ax.set_ylabel(r'MI [$\\log 2$]')\n",
    "# ax.legend()\n",
    "ax.text(0.2,0.8,'--- all measure to +1',transform=ax.transAxes,ha='left')\n",
    "ax.text(0.2,0.7,'... all measure to -1',transform=ax.transAxes,ha='left')\n",
    "ax.text(0.2,0.6,'- - no measure',transform=ax.transAxes,ha='left')\n",
    "\n",
    "\n",
    "\n",
    "ax=axs[1]\n",
    "colorlist=iter('bgrcmyk')\n",
    "label_height_pos=0.8\n",
    "for T0,color in zip((0,0.1e-1,0.2e-1,0.5e-1,1e-1,2e-1,3e-1),colorlist):\n",
    "    ax.plot(delta_list,LN_list[T0]/np.log(2),'-',label='no measure, T={:.2f}'.format(T0),color=color,ls='--')\n",
    "    ax.plot(delta_list,LN_pos_list[T0]/np.log(2),'-',label='measure all +1, T={:.2f}'.format(T0),color=color,ls='-')\n",
    "    ax.plot(delta_list,LN_neg_list[T0]/np.log(2),'-',label='measure all -1, T={:.2f}'.format(T0),color=color,ls=':')\n",
    "    # ax.text(0.1,label_height_pos+0.01,'*',color=color,transform=ax.transAxes,ha='right')\n",
    "    ax.text(0.1,label_height_pos,'T={}'.format(T0),color=color,transform=ax.transAxes)\n",
    "    label_height_pos-=0.05\n",
    "\n",
    "ax.set_xlabel(r'$\\delta$')\n",
    "ax.set_ylabel(r'LN [$\\log 2$]')\n",
    "# ax.legend()\n",
    "ax.text(0.2,0.8,'--- all measure to +1',transform=ax.transAxes,ha='left')\n",
    "ax.text(0.2,0.7,'... all measure to -1',transform=ax.transAxes,ha='left')\n",
    "ax.text(0.2,0.6,'- - no measure',transform=ax.transAxes,ha='left')\n",
    "\n",
    "fig.savefig('/mnt/d/kitp/Rp_SPT/6/MI_LN_T.pdf',bbox_inches='tight')"
   ],
   "outputs": [],
   "metadata": {}
  },
  {
   "cell_type": "code",
   "execution_count": null,
   "source": [
    "delta_list=np.linspace(-1,1,100)**3\n",
    "T_list=np.linspace(0,6e-1,50)\n",
    "\n",
    "LN_map=np.zeros((len(T_list),len(delta_list)))\n",
    "LN_pos_map=np.zeros((len(T_list),len(delta_list)))\n",
    "LN_neg_map=np.zeros((len(T_list),len(delta_list)))\n",
    "\n",
    "for T_i,T in enumerate(T_list):\n",
    "    for delta_i,delta in enumerate(delta_list):    \n",
    "        params=Params(delta=delta,L=64,bc=-1,T=T)\n",
    "        LN_map[T_i,delta_i]=(params.log_neg(np.arange(params.L//2),np.arange(params.L//2)+params.L))\n",
    "\n",
    "    # all projections to 0\n",
    "    for delta_i,delta in enumerate(delta_list):    \n",
    "        params=Params(delta=delta,L=64,bc=-1,T=T)\n",
    "        params.measure_all(1)\n",
    "        LN_pos_map[T_i,delta_i]=(params.log_neg(np.arange(params.L//2),np.arange(params.L//2)+params.L))\n",
    "\n",
    "    # all projections to 1\n",
    "    for delta_i,delta in enumerate(delta_list):    \n",
    "        params=Params(delta=delta,L=64,bc=-1,T=T)\n",
    "        params.measure_all(0)\n",
    "        LN_neg_map[T_i,delta_i]=(params.log_neg(np.arange(params.L//2),np.arange(params.L//2)+params.L))"
   ],
   "outputs": [],
   "metadata": {}
  },
  {
   "cell_type": "code",
   "execution_count": null,
   "source": [
    "# delta_list=np.linspace(-1,1,100)\n",
    "# eigvallist_f=[]\n",
    "eigvallist_m=[]\n",
    "for delta in delta_list:\n",
    "    params=Params(delta,L=16,bc=-1,basis='m')\n",
    "    params.bandstructure('m')\n",
    "    eigvallist_m.append(params.val_m)\n",
    "eigvallist_m=np.array(eigvallist_m)"
   ],
   "outputs": [],
   "metadata": {}
  },
  {
   "cell_type": "code",
   "execution_count": null,
   "source": [
    "LN_neg_map_inflection_list=[find_inflection(delta_list,x/np.log(2)) for x in LN_neg_map]\n",
    "log_neg_mean_inflection_list=[find_inflection(delta_list,x/np.log(2)) for x in log_neg_mean]"
   ],
   "outputs": [],
   "metadata": {}
  },
  {
   "cell_type": "code",
   "execution_count": null,
   "source": [
    "fig,axs=plt.subplots(4,1,sharex=True,sharey=True,figsize=(6.8,8))\n",
    "color='magma'\n",
    "\n",
    "for ax,x in zip(axs,(LN_map,LN_pos_map,LN_neg_map,log_neg_mean)):\n",
    "    im=ax.pcolormesh(delta_list,T_list,x/np.log(2),shading='gouraud',cmap=color)\n",
    "    axins=ax.inset_axes([1.02, 0, 0.03, 1],transform=ax.transAxes)\n",
    "    cb=fig.colorbar(im,cax=axins)    \n",
    "\n",
    "axs[0].text(1.01,1,'LN (log 2)',transform=axs[0].transAxes,ha='left',va='bottom')\n",
    "[ax.set_ylabel(r'$T$') for ax in axs]\n",
    "axs[2].set_xlabel(r'$\\delta$')\n",
    "axs[0].text(.5,1,'No measure',transform=axs[0].transAxes,ha='center',va='bottom')\n",
    "axs[1].text(.5,1,'Measure all +1',transform=axs[1].transAxes,ha='center',va='bottom')\n",
    "axs[2].text(.5,1,'Measure all -1',transform=axs[2].transAxes,ha='center',va='bottom')\n",
    "axs[-1].text(.5,1,'Born rule',transform=axs[-1].transAxes,ha='center',va='bottom')\n",
    "[ax.plot(delta_list,eigvallist_m[:,16],'c') for ax in axs]\n",
    "[ax.set_xlim(-1,1)]\n",
    "[ax.set_ylim(0,0.6)]\n",
    "fig.tight_layout()\n",
    "\n",
    "axs[2].plot(LN_neg_map_inflection_list,.4*T_list,'r',lw=2)\n",
    "# axs[3].plot(log_neg_mean_inflection_list,T_list,'r',lw=2)\n",
    "\n",
    "\n",
    "# fig.savefig('/mnt/d/kitp/Rp_SPT/6/LN_T_map.pdf',bbox_inches='tight')"
   ],
   "outputs": [],
   "metadata": {}
  },
  {
   "cell_type": "code",
   "execution_count": null,
   "source": [
    "fig,axs=plt.subplots(4,1,figsize=(6.8,8),sharex=True,tight_layout=True)\n",
    "ax=axs[0]\n",
    "colorlist='bgrcmyk'\n",
    "for i,color in zip((9,19,50,80,90),colorlist):\n",
    "    ax.plot(T_list,LN_map[:,i],label=r'$\\delta={:.2f}$'.format(delta_list[i]),color=color)\n",
    "ax.legend()\n",
    "ax.set_title('No Measure')\n",
    "ax.set_ylabel('MI [log 2]')\n",
    "\n",
    "ax=axs[1]\n",
    "for i,color in zip((9,19,50,80,90),colorlist):\n",
    "    ax.plot(T_list,LN_pos_map[:,i],label=r'$\\delta={:.2f}$'.format(delta_list[i]),color=color)\n",
    "ax.legend()\n",
    "ax.set_title('Measure all to +1')\n",
    "ax.set_ylabel('MI [log 2]')\n",
    "ax=axs[2]\n",
    "for i,color in zip((9,19,50,80,90),colorlist):\n",
    "    ax.plot(T_list,LN_neg_map[:,i],label=r'$\\delta={:.2f}$'.format(delta_list[i]),color=color)\n",
    "ax.legend()\n",
    "ax.set_title('Measure all to -1')\n",
    "ax.set_ylabel('MI [log 2]')\n",
    "ax=axs[3]\n",
    "for i,color in zip((9,19,50,80,90),colorlist):\n",
    "    ax.plot(T_list,log_neg_mean[:,i],label=r'$\\delta={:.2f}$'.format(delta_list[i]),color=color)\n",
    "ax.legend()\n",
    "ax.set_title('Born rule')\n",
    "ax.set_xlabel(r'T')\n",
    "ax.set_ylabel('MI [log 2]')\n",
    "fig.savefig('/mnt/d/KITP/Rp_SPT/6/LN_T_linecuts.pdf',bbox_inches='tight')"
   ],
   "outputs": [],
   "metadata": {}
  },
  {
   "cell_type": "markdown",
   "source": [
    "## Born rule"
   ],
   "metadata": {}
  },
  {
   "cell_type": "code",
   "execution_count": 5,
   "source": [
    "es=1000\n",
    "with open('/mnt/d/KITP/Rp_SPT/5/mutual_info_Born_En{:d}_T.pickle'.format(es),'rb') as f:\n",
    "    delta_dict_para,mutual_info_dis_dict_para,s_history_dis_dict_para=pickle.load(f)"
   ],
   "outputs": [],
   "metadata": {}
  },
  {
   "cell_type": "code",
   "execution_count": 6,
   "source": [
    "fig,axs=plt.subplots(4,1,figsize=(6.8,8),sharex=True)\n",
    "colorlist='bgrcmyk'\n",
    "ax=axs[0]\n",
    "for i,color in zip(delta_dict_para.keys(),colorlist):\n",
    "    ax.plot(delta_dict_para[i],np.mean(mutual_info_dis_dict_para[i],axis=1)/np.log(2),'.-',label='T= {:.2f}'.format(i),color=color)\n",
    "ax.legend()\n",
    "ax.set_ylabel(r'MI [$\\log2$]')\n",
    "\n",
    "ax=axs[1]\n",
    "for i,color in zip(delta_dict_para.keys(),colorlist):\n",
    "    ax.plot(delta_dict_para[i],np.std(mutual_info_dis_dict_para[i],axis=1)/np.log(2),'.-',label='T= {:.2f}'.format(i),color=color)\n",
    "ax.set_ylabel(r'STD of MI [$\\log2$]')\n",
    "\n",
    "ax=axs[2]\n",
    "for i,color in zip(delta_dict_para.keys(),colorlist):\n",
    "    ax.plot(delta_dict_para[i],np.mean(s_history_dis_dict_para[i],axis=(1,2)),'.-',label='T= {:.2f}'.format(i),color=color)\n",
    "# ax.legend()\n",
    "ax.set_ylabel(r'Mean of Prob to +1')\n",
    "\n",
    "ax=axs[3]\n",
    "for i,color in zip(delta_dict_para.keys(),colorlist):\n",
    "    ax.plot(delta_dict_para[i],np.std(s_history_dis_dict_para[i],axis=(1,2)),'.-',label='T= {:.2f}'.format(i),color=color)\n",
    "# ax.legend()\n",
    "ax.set_ylabel(r'STD of Prob to +1')\n",
    "\n",
    "fig.tight_layout()\n",
    "# fig.savefig('/mnt/d/KITP/Rp_SPT/5/MI_Born_Es_{:d}_T.pdf'.format(es),bbox_inches='tight')\n"
   ],
   "outputs": [
    {
     "output_type": "display_data",
     "data": {
      "text/plain": [
       "<Figure size 489.6x576 with 4 Axes>"
      ],
      "image/png": "[encoded data removed]"
     },
     "metadata": {
      "needs_background": "light"
     }
    }
   ],
   "metadata": {}
  },
  {
   "cell_type": "code",
   "execution_count": 7,
   "source": [
    "es=10000\n",
    "with open('/mnt/d/KITP/Rp_SPT/5/mutual_info_Born_En{:d}_T.pickle'.format(es),'rb') as f:\n",
    "    delta_dict_para,mutual_info_dis_dict_para,s_history_dis_dict_para=pickle.load(f)"
   ],
   "outputs": [],
   "metadata": {}
  },
  {
   "cell_type": "code",
   "execution_count": 4,
   "source": [
    "es=1000\n",
    "with open('/mnt/d/KITP/Rp_SPT/6/MI_Born_En{:d}_T.pickle'.format(es),'rb') as f:\n",
    "    delta_dict_para,mutual_info_dis_dict_para,log_neg_dis_dict_para,s_history_dis_dict_para=pickle.load(f)"
   ],
   "outputs": [],
   "metadata": {}
  },
  {
   "cell_type": "code",
   "execution_count": 5,
   "source": [
    "fig,axs=plt.subplots(4,1,figsize=(6.8,8),sharex=True)\n",
    "colorlist='bgrcmyk'\n",
    "ax=axs[0]\n",
    "for i,color in zip(delta_dict_para.keys(),colorlist):\n",
    "    ax.plot(delta_dict_para[i],np.mean(mutual_info_dis_dict_para[i],axis=1)/np.log(2),'.-',label='T= {:.2f}'.format(i),color=color)\n",
    "ax.legend()\n",
    "ax.set_ylabel(r'MI [$\\log2$]')\n",
    "\n",
    "ax=axs[1]\n",
    "for i,color in zip(delta_dict_para.keys(),colorlist):\n",
    "    ax.plot(delta_dict_para[i],np.std(mutual_info_dis_dict_para[i],axis=1)/np.log(2),'.-',label='T= {:.2f}'.format(i),color=color)\n",
    "ax.set_ylabel(r'STD of MI [$\\log2$]')\n",
    "\n",
    "ax=axs[2]\n",
    "for i,color in zip(delta_dict_para.keys(),colorlist):\n",
    "    ax.plot(delta_dict_para[i],np.mean(s_history_dis_dict_para[i],axis=(1,2)),'.-',label='T= {:.2f}'.format(i),color=color)\n",
    "# ax.legend()\n",
    "ax.set_ylabel(r'Mean of Prob to +1')\n",
    "\n",
    "ax=axs[3]\n",
    "for i,color in zip(delta_dict_para.keys(),colorlist):\n",
    "    ax.plot(delta_dict_para[i],np.std(s_history_dis_dict_para[i],axis=(1,2)),'.-',label='T= {:.2f}'.format(i),color=color)\n",
    "# ax.legend()\n",
    "ax.set_ylabel(r'STD of Prob to +1')\n",
    "\n",
    "fig.tight_layout()\n",
    "# fig.savefig('/mnt/d/KITP/Rp_SPT/5/MI_Born_Es_{:d}_T.pdf'.format(es),bbox_inches='tight')\n"
   ],
   "outputs": [
    {
     "output_type": "display_data",
     "data": {
      "text/plain": [
       "<Figure size 489.6x576 with 4 Axes>"
      ],
      "image/png": "[encoded data removed]"
     },
     "metadata": {
      "needs_background": "light"
     }
    }
   ],
   "metadata": {}
  },
  {
   "cell_type": "code",
   "execution_count": 6,
   "source": [
    "fig,axs=plt.subplots(4,1,figsize=(6.8,8),sharex=True)\n",
    "colorlist='bgrcmyk'\n",
    "ax=axs[0]\n",
    "for i,color in zip(delta_dict_para.keys(),colorlist):\n",
    "    ax.plot(delta_dict_para[i],np.mean(log_neg_dis_dict_para[i],axis=1)/np.log(2),'.-',label='T= {:.2f}'.format(i),color=color)\n",
    "ax.legend()\n",
    "ax.set_ylabel(r'MI [$\\log2$]')\n",
    "\n",
    "ax=axs[1]\n",
    "for i,color in zip(delta_dict_para.keys(),colorlist):\n",
    "    ax.plot(delta_dict_para[i],np.std(log_neg_dis_dict_para[i],axis=1)/np.log(2),'.-',label='T= {:.2f}'.format(i),color=color)\n",
    "ax.set_ylabel(r'STD of MI [$\\log2$]')\n",
    "\n",
    "ax=axs[2]\n",
    "for i,color in zip(delta_dict_para.keys(),colorlist):\n",
    "    ax.plot(delta_dict_para[i],np.mean(s_history_dis_dict_para[i],axis=(1,2)),'.-',label='T= {:.2f}'.format(i),color=color)\n",
    "# ax.legend()\n",
    "ax.set_ylabel(r'Mean of Prob to +1')\n",
    "\n",
    "ax=axs[3]\n",
    "for i,color in zip(delta_dict_para.keys(),colorlist):\n",
    "    ax.plot(delta_dict_para[i],np.std(s_history_dis_dict_para[i],axis=(1,2)),'.-',label='T= {:.2f}'.format(i),color=color)\n",
    "# ax.legend()\n",
    "ax.set_ylabel(r'STD of Prob to +1')\n",
    "\n",
    "fig.tight_layout()\n",
    "# fig.savefig('/mnt/d/KITP/Rp_SPT/5/MI_Born_Es_{:d}_T.pdf'.format(es),bbox_inches='tight')\n"
   ],
   "outputs": [
    {
     "output_type": "display_data",
     "data": {
      "text/plain": [
       "<Figure size 489.6x576 with 4 Axes>"
      ],
      "image/png": "[encoded data removed]"
     },
     "metadata": {
      "needs_background": "light"
     }
    }
   ],
   "metadata": {}
  },
  {
   "cell_type": "code",
   "execution_count": 7,
   "source": [
    "fig,axs=plt.subplots(2,1,sharex=True,figsize=(6.8,6),tight_layout=True)\n",
    "ax=axs[0]\n",
    "for i,color in zip(delta_dict_para.keys(),colorlist):\n",
    "    ax.plot(delta_dict_para[i],np.mean(mutual_info_dis_dict_para[i],axis=1)/np.log(2),'.-',label='T= {:.2f}'.format(i),color=color)\n",
    "ax.set_title('Born rule')\n",
    "ax.set_ylabel('MI [log 2]')\n",
    "\n",
    "ax=axs[1]\n",
    "for i,color in zip(delta_dict_para.keys(),colorlist):\n",
    "    ax.plot(delta_dict_para[i],np.mean(log_neg_dis_dict_para[i],axis=1)/np.log(2),'.-',label='T= {:.2f}'.format(i),color=color)\n",
    "ax.legend()\n",
    "\n",
    "ax.legend()\n",
    "ax.set_xlabel(r'$\\delta$')\n",
    "ax.set_ylabel('LN [log 2]')\n",
    "\n",
    "# fig.savefig('/mnt/d/kitp/Rp_SPT/6/MI_LN_T_Born.pdf')"
   ],
   "outputs": [
    {
     "output_type": "execute_result",
     "data": {
      "text/plain": [
       "Text(0, 0.5, 'LN [log 2]')"
      ]
     },
     "metadata": {},
     "execution_count": 7
    },
    {
     "output_type": "display_data",
     "data": {
      "text/plain": [
       "<Figure size 489.6x432 with 2 Axes>"
      ],
      "image/png": "[encoded data removed]"
     },
     "metadata": {
      "needs_background": "light"
     }
    }
   ],
   "metadata": {}
  },
  {
   "cell_type": "code",
   "execution_count": 8,
   "source": [
    "fig,ax=plt.subplots()\n",
    "for i,color in zip(delta_dict_para.keys(),colorlist):\n",
    "    ax.plot(delta_dict_para[i],np.mean(mutual_info_dis_dict_para[i],axis=1)/np.log(2),'.-',label='T= {:.2f}'.format(i),color=color)\n",
    "ax.legend()\n",
    "ax.set_title('Born rule')\n",
    "ax.set_xlabel(r'$\\delta$')\n",
    "ax.set_ylabel('MI')\n",
    "# fig.savefig('/mnt/d/kitp/Rp_SPT/6/MI_T_Born.pdf')"
   ],
   "outputs": [
    {
     "output_type": "execute_result",
     "data": {
      "text/plain": [
       "Text(0, 0.5, 'MI')"
      ]
     },
     "metadata": {},
     "execution_count": 8
    },
    {
     "output_type": "display_data",
     "data": {
      "text/plain": [
       "<Figure size 489.6x288 with 1 Axes>"
      ],
      "image/png": "[encoded data removed]"
     },
     "metadata": {
      "needs_background": "light"
     }
    }
   ],
   "metadata": {}
  },
  {
   "cell_type": "code",
   "execution_count": 9,
   "source": [
    "es=1000\n",
    "with open('/mnt/d/KITP/Rp_SPT/6/MI_Born_En{}_T_map.pickle'.format(es),'rb') as f:\n",
    "    delta_dict_para,mutual_info_dis_dict_para,log_neg_dis_dict_para,s_history_dis_dict_para=pickle.load(f)"
   ],
   "outputs": [],
   "metadata": {}
  },
  {
   "cell_type": "code",
   "execution_count": null,
   "source": [
    "es=3000\n",
    "with open('/mnt/d/KITP/Rp_SPT/6/MI_Born_En{}_T.pickle'.format(es),'rb') as f:\n",
    "    delta_dict_para,log_neg_dis_dict_para,T_list=pickle.load(f)"
   ],
   "outputs": [],
   "metadata": {}
  },
  {
   "cell_type": "code",
   "execution_count": null,
   "source": [
    "mutual_info_mean=np.array(list(mutual_info_dis_dict_para.values())).mean(axis=2)\n",
    "mutual_info_std=np.array(list(mutual_info_dis_dict_para.values())).std(axis=2)"
   ],
   "outputs": [],
   "metadata": {}
  },
  {
   "cell_type": "code",
   "execution_count": null,
   "source": [
    "T_list=np.linspace(0,8e-1,50)"
   ],
   "outputs": [],
   "metadata": {}
  },
  {
   "cell_type": "code",
   "execution_count": null,
   "source": [
    "log_neg_mean=np.array(list(log_neg_dis_dict_para.values())).mean(axis=2)\n",
    "log_neg_std=np.array(list(log_neg_dis_dict_para.values())).std(axis=2)"
   ],
   "outputs": [],
   "metadata": {}
  },
  {
   "cell_type": "code",
   "execution_count": null,
   "source": [
    "z0=np.array(list(mutual_info_dis_dict_para.values()))"
   ],
   "outputs": [],
   "metadata": {}
  },
  {
   "cell_type": "code",
   "execution_count": null,
   "source": [
    "z1=np.array(list(log_neg_dis_dict_para.values()))"
   ],
   "outputs": [],
   "metadata": {}
  },
  {
   "cell_type": "code",
   "execution_count": null,
   "source": [
    "(z1-z0)"
   ],
   "outputs": [],
   "metadata": {}
  },
  {
   "cell_type": "code",
   "execution_count": null,
   "source": [
    "with open('Born.pickle','wb') as f:\n",
    "    pickle.dump([Born_mean,Born_std],f)"
   ],
   "outputs": [],
   "metadata": {}
  },
  {
   "cell_type": "code",
   "execution_count": null,
   "source": [
    "with open('/mnt/d/KITP/Rp_SPT/5/Born.pickle','rb') as f:\n",
    "    Born_mean,Born_std=pickle.load(f)\n"
   ],
   "outputs": [],
   "metadata": {}
  },
  {
   "cell_type": "code",
   "execution_count": null,
   "source": [
    "with open('/mnt/d/KITP/Rp_SPT/5/Born_2.pickle','rb') as f:\n",
    "    Born_mean,Born_std=pickle.load(f)\n"
   ],
   "outputs": [],
   "metadata": {}
  },
  {
   "cell_type": "code",
   "execution_count": 4,
   "source": [
    "fig,axs=plt.subplots(2,1,sharex=True,figsize=(6.8,6))\n",
    "color='magma'\n",
    "ax=axs[0]\n",
    "im=ax.pcolormesh(delta_dict_para[0],T_list,Born_mean/np.log(2),shading='auto',cmap=color)\n",
    "ax.set_ylabel(r'$T$')\n",
    "ax.text(0.5,1,'Mean of MI using Born rule',ha='center',va='bottom',transform=ax.transAxes)\n",
    "axins=ax.inset_axes([1.02, 0, 0.03, 1],transform=ax.transAxes)\n",
    "cb=fig.colorbar(im,cax=axins)    \n",
    "\n",
    "ax=axs[1]\n",
    "im=ax.pcolormesh(delta_dict_para[0],T_list,Born_std/np.log(2),shading='auto',cmap=color)\n",
    "ax.text(0.5,1,'STD of MI using Born rule',ha='center',va='bottom',transform=ax.transAxes)\n",
    "axins=ax.inset_axes([1.02, 0, 0.03, 1],transform=ax.transAxes)\n",
    "cb=fig.colorbar(im,cax=axins) \n",
    "\n",
    "axs[0].text(1.01,1,'MI (log 2)',transform=axs[0].transAxes,ha='left',va='bottom')\n",
    "\n",
    "ax.set_xlabel(r'$\\delta$')\n",
    "ax.set_ylabel(r'$T$')\n",
    "\n",
    "fig.tight_layout()\n",
    "\n",
    "# fig.savefig('/mnt/d/kitp/Rp_SPT/6/MI_Born_Es_1000_T_Map.pdf',bbox_inches='tight')"
   ],
   "outputs": [
    {
     "output_type": "error",
     "ename": "NameError",
     "evalue": "name 'delta_dict_para' is not defined",
     "traceback": [
      "\u001b[0;31m---------------------------------------------------------------------------\u001b[0m",
      "\u001b[0;31mNameError\u001b[0m                                 Traceback (most recent call last)",
      "\u001b[0;32m<ipython-input-4-4be4fedf9ad0>\u001b[0m in \u001b[0;36m<module>\u001b[0;34m\u001b[0m\n\u001b[1;32m      2\u001b[0m \u001b[0mcolor\u001b[0m\u001b[0;34m=\u001b[0m\u001b[0;34m'magma'\u001b[0m\u001b[0;34m\u001b[0m\u001b[0;34m\u001b[0m\u001b[0m\n\u001b[1;32m      3\u001b[0m \u001b[0max\u001b[0m\u001b[0;34m=\u001b[0m\u001b[0maxs\u001b[0m\u001b[0;34m[\u001b[0m\u001b[0;36m0\u001b[0m\u001b[0;34m]\u001b[0m\u001b[0;34m\u001b[0m\u001b[0;34m\u001b[0m\u001b[0m\n\u001b[0;32m----> 4\u001b[0;31m \u001b[0mim\u001b[0m\u001b[0;34m=\u001b[0m\u001b[0max\u001b[0m\u001b[0;34m.\u001b[0m\u001b[0mpcolormesh\u001b[0m\u001b[0;34m(\u001b[0m\u001b[0mdelta_dict_para\u001b[0m\u001b[0;34m[\u001b[0m\u001b[0;36m0\u001b[0m\u001b[0;34m]\u001b[0m\u001b[0;34m,\u001b[0m\u001b[0mT_list\u001b[0m\u001b[0;34m,\u001b[0m\u001b[0mBorn_mean\u001b[0m\u001b[0;34m/\u001b[0m\u001b[0mnp\u001b[0m\u001b[0;34m.\u001b[0m\u001b[0mlog\u001b[0m\u001b[0;34m(\u001b[0m\u001b[0;36m2\u001b[0m\u001b[0;34m)\u001b[0m\u001b[0;34m,\u001b[0m\u001b[0mshading\u001b[0m\u001b[0;34m=\u001b[0m\u001b[0;34m'auto'\u001b[0m\u001b[0;34m,\u001b[0m\u001b[0mcmap\u001b[0m\u001b[0;34m=\u001b[0m\u001b[0mcolor\u001b[0m\u001b[0;34m)\u001b[0m\u001b[0;34m\u001b[0m\u001b[0;34m\u001b[0m\u001b[0m\n\u001b[0m\u001b[1;32m      5\u001b[0m \u001b[0max\u001b[0m\u001b[0;34m.\u001b[0m\u001b[0mset_ylabel\u001b[0m\u001b[0;34m(\u001b[0m\u001b[0;34mr'$T$'\u001b[0m\u001b[0;34m)\u001b[0m\u001b[0;34m\u001b[0m\u001b[0;34m\u001b[0m\u001b[0m\n\u001b[1;32m      6\u001b[0m \u001b[0max\u001b[0m\u001b[0;34m.\u001b[0m\u001b[0mtext\u001b[0m\u001b[0;34m(\u001b[0m\u001b[0;36m0.5\u001b[0m\u001b[0;34m,\u001b[0m\u001b[0;36m1\u001b[0m\u001b[0;34m,\u001b[0m\u001b[0;34m'Mean of MI using Born rule'\u001b[0m\u001b[0;34m,\u001b[0m\u001b[0mha\u001b[0m\u001b[0;34m=\u001b[0m\u001b[0;34m'center'\u001b[0m\u001b[0;34m,\u001b[0m\u001b[0mva\u001b[0m\u001b[0;34m=\u001b[0m\u001b[0;34m'bottom'\u001b[0m\u001b[0;34m,\u001b[0m\u001b[0mtransform\u001b[0m\u001b[0;34m=\u001b[0m\u001b[0max\u001b[0m\u001b[0;34m.\u001b[0m\u001b[0mtransAxes\u001b[0m\u001b[0;34m)\u001b[0m\u001b[0;34m\u001b[0m\u001b[0;34m\u001b[0m\u001b[0m\n",
      "\u001b[0;31mNameError\u001b[0m: name 'delta_dict_para' is not defined"
     ]
    },
    {
     "output_type": "display_data",
     "data": {
      "text/plain": [
       "<Figure size 489.6x432 with 2 Axes>"
      ],
      "image/png": "[encoded data removed]"
     },
     "metadata": {
      "needs_background": "light"
     }
    }
   ],
   "metadata": {}
  },
  {
   "cell_type": "markdown",
   "source": [
    "### proj using Born"
   ],
   "metadata": {}
  },
  {
   "cell_type": "code",
   "execution_count": 5,
   "source": [
    "es=3000\n",
    "#L=64\n",
    "with open('/mnt/d/KITP/Rp_SPT/6/MI_Born_En{}_T.pickle'.format(es),'rb') as f:\n",
    "    delta_dict_para,log_neg_dis_dict_para,T_list=pickle.load(f)"
   ],
   "outputs": [],
   "metadata": {}
  },
  {
   "cell_type": "code",
   "execution_count": 12,
   "source": [
    "inflection_list=[find_inflection(delta_dict_para[0],x/np.log(2)) for x in log_neg_mean]"
   ],
   "outputs": [],
   "metadata": {}
  },
  {
   "cell_type": "code",
   "execution_count": 100,
   "source": [
    "fig,axs=plt.subplots(1,1,sharex=True)\n",
    "color='magma'\n",
    "ax=axs\n",
    "im=ax.pcolormesh(delta_dict_para[0],T_list,log_neg_mean/np.log(2),shading='flat',cmap=color)\n",
    "ax.set_ylabel(r'$T$')\n",
    "ax.text(0.5,1,'Mean of LN using Born rule',ha='center',va='bottom',transform=ax.transAxes)\n",
    "axins=ax.inset_axes([1.02, 0, 0.03, 1],transform=ax.transAxes)\n",
    "cb=fig.colorbar(im,cax=axins)    \n",
    "ax.margins(x=0)\n",
    "ax.plot(inflection_list,T_list,color='r')\n",
    "\n",
    "# ax=axs[1]\n",
    "# im=ax.pcolormesh(delta_dict_para[0],T_list,log_neg_std/np.log(2),shading='flat',cmap=color)\n",
    "# ax.text(0.5,1,'STD of LN using Born rule',ha='center',va='bottom',transform=ax.transAxes)\n",
    "# axins=ax.inset_axes([1.02, 0, 0.03, 1],transform=ax.transAxes)\n",
    "# cb=fig.colorbar(im,cax=axins) \n",
    "\n",
    "# axs[0].text(1.01,1, 'LN (log 2)',transform=axs[0].transAxes,ha='left',va='bottom')\n",
    "\n",
    "ax.set_xlabel(r'$\\delta$')\n",
    "ax.set_ylabel(r'$T$')\n",
    "\n",
    "# fig.tight_layout()\n",
    "\n",
    "# fig.savefig('/mnt/d/kitp/Rp_SPT/6/LN_Born_Es_{:d}_Majorana_T_Map.pdf'.format(es),bbox_inches='tight')"
   ],
   "outputs": [
    {
     "output_type": "stream",
     "name": "stderr",
     "text": [
      "<ipython-input-100-22bd694ef504>:4: MatplotlibDeprecationWarning: shading='flat' when X and Y have the same dimensions as C is deprecated since 3.3.  Either specify the corners of the quadrilaterals with X and Y, or pass shading='auto', 'nearest' or 'gouraud', or set rcParams['pcolor.shading'].  This will become an error two minor releases later.\n",
      "  im=ax.pcolormesh(delta_dict_para[0],T_list,log_neg_mean/np.log(2),shading='flat',cmap=color)\n"
     ]
    },
    {
     "output_type": "execute_result",
     "data": {
      "text/plain": [
       "Text(0, 0.5, '$T$')"
      ]
     },
     "metadata": {},
     "execution_count": 100
    },
    {
     "output_type": "display_data",
     "data": {
      "text/plain": [
       "<Figure size 489.6x288 with 1 Axes>"
      ],
      "image/png": "[encoded data removed]"
     },
     "metadata": {
      "needs_background": "light"
     }
    }
   ],
   "metadata": {}
  },
  {
   "cell_type": "code",
   "execution_count": 14,
   "source": [
    "es=3000\n",
    "with open('/mnt/d/KITP/Rp_SPT/6/MI_Born_En{}_L128_T.pickle'.format(es),'rb') as f:\n",
    "    delta_dict_para,log_neg_dis_dict_para,T_list=pickle.load(f)"
   ],
   "outputs": [],
   "metadata": {}
  },
  {
   "cell_type": "code",
   "execution_count": 15,
   "source": [
    "log_neg_mean=np.array(list(log_neg_dis_dict_para.values())).mean(axis=2)\n",
    "log_neg_std=np.array(list(log_neg_dis_dict_para.values())).std(axis=2)"
   ],
   "outputs": [],
   "metadata": {}
  },
  {
   "cell_type": "code",
   "execution_count": 16,
   "source": [
    "inflection_list=[find_inflection(delta_dict_para[0],x/np.log(2)) for x in log_neg_mean]"
   ],
   "outputs": [],
   "metadata": {}
  },
  {
   "cell_type": "code",
   "execution_count": 17,
   "source": [
    "fig,axs=plt.subplots(1,1,sharex=True)\n",
    "color='magma'\n",
    "ax=axs\n",
    "im=ax.pcolormesh(delta_dict_para[0],T_list,log_neg_mean/np.log(2),shading='flat',cmap=color)\n",
    "ax.set_ylabel(r'$T$')\n",
    "ax.text(0.5,1,'Mean of LN using Born rule',ha='center',va='bottom',transform=ax.transAxes)\n",
    "axins=ax.inset_axes([1.02, 0, 0.03, 1],transform=ax.transAxes)\n",
    "cb=fig.colorbar(im,cax=axins)    \n",
    "ax.margins(x=0)\n",
    "ax.plot(inflection_list,T_list,color='r')\n",
    "\n",
    "ax.set_xlabel(r'$\\delta$')\n",
    "ax.set_ylabel(r'$T$')\n",
    "\n",
    "# fig.savefig('/mnt/d/kitp/Rp_SPT/6/LN_Born_Es_{:d}_Majorana_L128_T_Map.pdf'.format(es),bbox_inches='tight')"
   ],
   "outputs": [
    {
     "output_type": "stream",
     "name": "stderr",
     "text": [
      "<ipython-input-17-d31f1f99ee59>:4: MatplotlibDeprecationWarning: shading='flat' when X and Y have the same dimensions as C is deprecated since 3.3.  Either specify the corners of the quadrilaterals with X and Y, or pass shading='auto', 'nearest' or 'gouraud', or set rcParams['pcolor.shading'].  This will become an error two minor releases later.\n",
      "  im=ax.pcolormesh(delta_dict_para[0],T_list,log_neg_mean/np.log(2),shading='flat',cmap=color)\n"
     ]
    },
    {
     "output_type": "execute_result",
     "data": {
      "text/plain": [
       "Text(0, 0.5, '$T$')"
      ]
     },
     "metadata": {},
     "execution_count": 17
    },
    {
     "output_type": "display_data",
     "data": {
      "text/plain": [
       "<Figure size 489.6x288 with 1 Axes>"
      ],
      "image/png": "[encoded data removed]"
     },
     "metadata": {
      "needs_background": "light"
     }
    }
   ],
   "metadata": {}
  },
  {
   "cell_type": "markdown",
   "source": [
    "### proj to n=1"
   ],
   "metadata": {}
  },
  {
   "cell_type": "code",
   "execution_count": 18,
   "source": [
    "es=2\n",
    "# '/mnt/d/KITP/Rp_SPT/6/'\n",
    "with open('MI_Born_En{}_L64_1_T.pickle'.format(es),'rb') as f:\n",
    "    delta_dict_1,log_neg_dis_dict_1,T_list=pickle.load(f)"
   ],
   "outputs": [],
   "metadata": {}
  },
  {
   "cell_type": "code",
   "execution_count": 19,
   "source": [
    "log_neg_mean_1=np.array(list(log_neg_dis_dict_1.values())).mean(axis=2)\n",
    "log_neg_std_1=np.array(list(log_neg_dis_dict_1.values())).std(axis=2)"
   ],
   "outputs": [],
   "metadata": {}
  },
  {
   "cell_type": "code",
   "execution_count": 20,
   "source": [
    "inflection_1_list=[find_inflection(delta_dict_1[0],x/np.log(2)) for x in log_neg_mean_1]"
   ],
   "outputs": [],
   "metadata": {}
  },
  {
   "cell_type": "code",
   "execution_count": 21,
   "source": [
    "fig,axs=plt.subplots(1,1,sharex=True)\n",
    "color='magma'\n",
    "ax=axs\n",
    "im=ax.pcolormesh(delta_dict_1[0],T_list,log_neg_mean_1/np.log(2),shading='flat',cmap=color)\n",
    "ax.set_ylabel(r'$T$')\n",
    "ax.text(0.5,1,'Mean of LN using Born rule',ha='center',va='bottom',transform=ax.transAxes)\n",
    "axins=ax.inset_axes([1.02, 0, 0.03, 1],transform=ax.transAxes)\n",
    "cb=fig.colorbar(im,cax=axins)    \n",
    "ax.margins(x=0)\n",
    "ax.plot(inflection_1_list,T_list,color='r')\n",
    "\n",
    "ax.set_xlabel(r'$\\delta$')\n",
    "ax.set_ylabel(r'$T$')\n",
    "\n",
    "# fig.savefig('/mnt/d/kitp/Rp_SPT/6/LN_Born_Es_{:d}_Majorana_L128_T_Map.pdf'.format(es),bbox_inches='tight')"
   ],
   "outputs": [
    {
     "output_type": "stream",
     "name": "stderr",
     "text": [
      "<ipython-input-21-a0afd305ee33>:4: MatplotlibDeprecationWarning: shading='flat' when X and Y have the same dimensions as C is deprecated since 3.3.  Either specify the corners of the quadrilaterals with X and Y, or pass shading='auto', 'nearest' or 'gouraud', or set rcParams['pcolor.shading'].  This will become an error two minor releases later.\n",
      "  im=ax.pcolormesh(delta_dict_1[0],T_list,log_neg_mean_1/np.log(2),shading='flat',cmap=color)\n"
     ]
    },
    {
     "output_type": "execute_result",
     "data": {
      "text/plain": [
       "Text(0, 0.5, '$T$')"
      ]
     },
     "metadata": {},
     "execution_count": 21
    },
    {
     "output_type": "display_data",
     "data": {
      "text/plain": [
       "<Figure size 489.6x288 with 1 Axes>"
      ],
      "image/png": "[encoded data removed]"
     },
     "metadata": {
      "needs_background": "light"
     }
    }
   ],
   "metadata": {}
  },
  {
   "cell_type": "code",
   "execution_count": null,
   "source": [
    "T_list[6]"
   ],
   "outputs": [],
   "metadata": {}
  },
  {
   "cell_type": "code",
   "execution_count": null,
   "source": [
    "inflection_list[6]"
   ],
   "outputs": [],
   "metadata": {}
  },
  {
   "cell_type": "code",
   "execution_count": null,
   "source": [
    "inflection_1_list[1]"
   ],
   "outputs": [],
   "metadata": {}
  },
  {
   "cell_type": "code",
   "execution_count": null,
   "source": [
    "fig,ax=plt.subplots()\n",
    "ax.plot(inflection_list,T_list,color='b')\n",
    "ax.plot(inflection_1_list,T_list,color='r')\n"
   ],
   "outputs": [],
   "metadata": {}
  },
  {
   "cell_type": "markdown",
   "source": [
    "## T-dependce at fixed $\\delta$"
   ],
   "metadata": {}
  },
  {
   "cell_type": "code",
   "execution_count": 22,
   "source": [
    "def run(p):\n",
    "    delta,T,LA,LAp,mtype=p\n",
    "    params=Params(delta=delta,L=np.inf,bc=-1,basis='m',T=T)\n",
    "    subregionA=np.arange(0,LA)\n",
    "    subregionAp=np.arange(LA,LA+LB)\n",
    "    subregionB=np.arange(LA+LB,2*LA+LB)\n",
    "    \n",
    "    if mtype=='Born':\n",
    "        params.measure_all_Born(proj_range=subregionAp)\n",
    "    elif mtype=='1':\n",
    "        params.measure_all(0)\n",
    "    LN=params.log_neg(subregionA,subregionB)\n",
    "    return LN"
   ],
   "outputs": [],
   "metadata": {}
  },
  {
   "cell_type": "code",
   "execution_count": 23,
   "source": [
    "run((0.5,0,10,20,'link'))"
   ],
   "outputs": [
    {
     "output_type": "error",
     "ename": "TypeError",
     "evalue": "'float' object cannot be interpreted as an integer",
     "traceback": [
      "\u001b[0;31m---------------------------------------------------------------------------\u001b[0m",
      "\u001b[0;31mTypeError\u001b[0m                                 Traceback (most recent call last)",
      "\u001b[0;32m<ipython-input-23-152ba3dda2f8>\u001b[0m in \u001b[0;36m<module>\u001b[0;34m\u001b[0m\n\u001b[0;32m----> 1\u001b[0;31m \u001b[0mrun\u001b[0m\u001b[0;34m(\u001b[0m\u001b[0;34m(\u001b[0m\u001b[0;36m0.5\u001b[0m\u001b[0;34m,\u001b[0m\u001b[0;36m0\u001b[0m\u001b[0;34m,\u001b[0m\u001b[0;36m10\u001b[0m\u001b[0;34m,\u001b[0m\u001b[0;36m20\u001b[0m\u001b[0;34m,\u001b[0m\u001b[0;34m'link'\u001b[0m\u001b[0;34m)\u001b[0m\u001b[0;34m)\u001b[0m\u001b[0;34m\u001b[0m\u001b[0;34m\u001b[0m\u001b[0m\n\u001b[0m",
      "\u001b[0;32m<ipython-input-22-29bbc940dad9>\u001b[0m in \u001b[0;36mrun\u001b[0;34m(p)\u001b[0m\n\u001b[1;32m      1\u001b[0m \u001b[0;32mdef\u001b[0m \u001b[0mrun\u001b[0m\u001b[0;34m(\u001b[0m\u001b[0mp\u001b[0m\u001b[0;34m)\u001b[0m\u001b[0;34m:\u001b[0m\u001b[0;34m\u001b[0m\u001b[0;34m\u001b[0m\u001b[0m\n\u001b[1;32m      2\u001b[0m     \u001b[0mdelta\u001b[0m\u001b[0;34m,\u001b[0m\u001b[0mT\u001b[0m\u001b[0;34m,\u001b[0m\u001b[0mLA\u001b[0m\u001b[0;34m,\u001b[0m\u001b[0mLAp\u001b[0m\u001b[0;34m,\u001b[0m\u001b[0mmtype\u001b[0m\u001b[0;34m=\u001b[0m\u001b[0mp\u001b[0m\u001b[0;34m\u001b[0m\u001b[0;34m\u001b[0m\u001b[0m\n\u001b[0;32m----> 3\u001b[0;31m     \u001b[0mparams\u001b[0m\u001b[0;34m=\u001b[0m\u001b[0mParams\u001b[0m\u001b[0;34m(\u001b[0m\u001b[0mdelta\u001b[0m\u001b[0;34m=\u001b[0m\u001b[0mdelta\u001b[0m\u001b[0;34m,\u001b[0m\u001b[0mL\u001b[0m\u001b[0;34m=\u001b[0m\u001b[0mnp\u001b[0m\u001b[0;34m.\u001b[0m\u001b[0minf\u001b[0m\u001b[0;34m,\u001b[0m\u001b[0mbc\u001b[0m\u001b[0;34m=\u001b[0m\u001b[0;34m-\u001b[0m\u001b[0;36m1\u001b[0m\u001b[0;34m,\u001b[0m\u001b[0mbasis\u001b[0m\u001b[0;34m=\u001b[0m\u001b[0;34m'm'\u001b[0m\u001b[0;34m,\u001b[0m\u001b[0mT\u001b[0m\u001b[0;34m=\u001b[0m\u001b[0mT\u001b[0m\u001b[0;34m)\u001b[0m\u001b[0;34m\u001b[0m\u001b[0;34m\u001b[0m\u001b[0m\n\u001b[0m\u001b[1;32m      4\u001b[0m     \u001b[0msubregionA\u001b[0m\u001b[0;34m=\u001b[0m\u001b[0mnp\u001b[0m\u001b[0;34m.\u001b[0m\u001b[0marange\u001b[0m\u001b[0;34m(\u001b[0m\u001b[0;36m0\u001b[0m\u001b[0;34m,\u001b[0m\u001b[0mLA\u001b[0m\u001b[0;34m)\u001b[0m\u001b[0;34m\u001b[0m\u001b[0;34m\u001b[0m\u001b[0m\n\u001b[1;32m      5\u001b[0m     \u001b[0msubregionAp\u001b[0m\u001b[0;34m=\u001b[0m\u001b[0mnp\u001b[0m\u001b[0;34m.\u001b[0m\u001b[0marange\u001b[0m\u001b[0;34m(\u001b[0m\u001b[0mLA\u001b[0m\u001b[0;34m,\u001b[0m\u001b[0mLA\u001b[0m\u001b[0;34m+\u001b[0m\u001b[0mLB\u001b[0m\u001b[0;34m)\u001b[0m\u001b[0;34m\u001b[0m\u001b[0;34m\u001b[0m\u001b[0m\n",
      "\u001b[0;32m<ipython-input-3-f6a1b0762ea8>\u001b[0m in \u001b[0;36m__init__\u001b[0;34m(self, delta, L, T, bc, basis, dE, E0, kappa, history)\u001b[0m\n\u001b[1;32m     52\u001b[0m         \u001b[0;32mif\u001b[0m \u001b[0;34m'm'\u001b[0m \u001b[0;32min\u001b[0m \u001b[0mbasis\u001b[0m\u001b[0;34m:\u001b[0m\u001b[0;34m\u001b[0m\u001b[0;34m\u001b[0m\u001b[0m\n\u001b[1;32m     53\u001b[0m             \u001b[0;31m# Hamiltonian in the Majorana basis\u001b[0m\u001b[0;34m\u001b[0m\u001b[0;34m\u001b[0m\u001b[0;34m\u001b[0m\u001b[0m\n\u001b[0;32m---> 54\u001b[0;31m             \u001b[0mband\u001b[0m\u001b[0;34m=\u001b[0m\u001b[0mnp\u001b[0m\u001b[0;34m.\u001b[0m\u001b[0mvstack\u001b[0m\u001b[0;34m(\u001b[0m\u001b[0;34m[\u001b[0m\u001b[0mnp\u001b[0m\u001b[0;34m.\u001b[0m\u001b[0mones\u001b[0m\u001b[0;34m(\u001b[0m\u001b[0mL\u001b[0m\u001b[0;34m)\u001b[0m\u001b[0;34m*\u001b[0m\u001b[0;34m(\u001b[0m\u001b[0;36m1\u001b[0m\u001b[0;34m-\u001b[0m\u001b[0mdelta\u001b[0m\u001b[0;34m)\u001b[0m\u001b[0;34m*\u001b[0m\u001b[0;36m1j\u001b[0m\u001b[0;34m,\u001b[0m\u001b[0mnp\u001b[0m\u001b[0;34m.\u001b[0m\u001b[0mones\u001b[0m\u001b[0;34m(\u001b[0m\u001b[0mL\u001b[0m\u001b[0;34m)\u001b[0m\u001b[0;34m*\u001b[0m\u001b[0;34m(\u001b[0m\u001b[0;36m1\u001b[0m\u001b[0;34m+\u001b[0m\u001b[0mdelta\u001b[0m\u001b[0;34m)\u001b[0m\u001b[0;34m*\u001b[0m\u001b[0;36m1j\u001b[0m\u001b[0;34m]\u001b[0m\u001b[0;34m)\u001b[0m\u001b[0;34m.\u001b[0m\u001b[0mflatten\u001b[0m\u001b[0;34m(\u001b[0m\u001b[0;34m'F'\u001b[0m\u001b[0;34m)\u001b[0m\u001b[0;34m\u001b[0m\u001b[0;34m\u001b[0m\u001b[0m\n\u001b[0m\u001b[1;32m     55\u001b[0m             \u001b[0mHam\u001b[0m\u001b[0;34m=\u001b[0m\u001b[0mnp\u001b[0m\u001b[0;34m.\u001b[0m\u001b[0mdiag\u001b[0m\u001b[0;34m(\u001b[0m\u001b[0mband\u001b[0m\u001b[0;34m[\u001b[0m\u001b[0;34m:\u001b[0m\u001b[0;34m-\u001b[0m\u001b[0;36m1\u001b[0m\u001b[0;34m]\u001b[0m\u001b[0;34m,\u001b[0m\u001b[0;34m-\u001b[0m\u001b[0;36m1\u001b[0m\u001b[0;34m)\u001b[0m\u001b[0;34m\u001b[0m\u001b[0;34m\u001b[0m\u001b[0m\n\u001b[1;32m     56\u001b[0m             \u001b[0mHam\u001b[0m\u001b[0;34m[\u001b[0m\u001b[0;36m0\u001b[0m\u001b[0;34m,\u001b[0m\u001b[0;34m-\u001b[0m\u001b[0;36m1\u001b[0m\u001b[0;34m]\u001b[0m\u001b[0;34m=\u001b[0m\u001b[0;34m(\u001b[0m\u001b[0;36m1\u001b[0m\u001b[0;34m+\u001b[0m\u001b[0mdelta\u001b[0m\u001b[0;34m)\u001b[0m\u001b[0;34m*\u001b[0m\u001b[0;36m1j\u001b[0m\u001b[0;34m*\u001b[0m\u001b[0mbc\u001b[0m\u001b[0;34m\u001b[0m\u001b[0;34m\u001b[0m\u001b[0m\n",
      "\u001b[0;32m~/anaconda3/lib/python3.8/site-packages/numpy/core/numeric.py\u001b[0m in \u001b[0;36mones\u001b[0;34m(shape, dtype, order)\u001b[0m\n\u001b[1;32m    190\u001b[0m \u001b[0;34m\u001b[0m\u001b[0m\n\u001b[1;32m    191\u001b[0m     \"\"\"\n\u001b[0;32m--> 192\u001b[0;31m     \u001b[0ma\u001b[0m \u001b[0;34m=\u001b[0m \u001b[0mempty\u001b[0m\u001b[0;34m(\u001b[0m\u001b[0mshape\u001b[0m\u001b[0;34m,\u001b[0m \u001b[0mdtype\u001b[0m\u001b[0;34m,\u001b[0m \u001b[0morder\u001b[0m\u001b[0;34m)\u001b[0m\u001b[0;34m\u001b[0m\u001b[0;34m\u001b[0m\u001b[0m\n\u001b[0m\u001b[1;32m    193\u001b[0m     \u001b[0mmultiarray\u001b[0m\u001b[0;34m.\u001b[0m\u001b[0mcopyto\u001b[0m\u001b[0;34m(\u001b[0m\u001b[0ma\u001b[0m\u001b[0;34m,\u001b[0m \u001b[0;36m1\u001b[0m\u001b[0;34m,\u001b[0m \u001b[0mcasting\u001b[0m\u001b[0;34m=\u001b[0m\u001b[0;34m'unsafe'\u001b[0m\u001b[0;34m)\u001b[0m\u001b[0;34m\u001b[0m\u001b[0;34m\u001b[0m\u001b[0m\n\u001b[1;32m    194\u001b[0m     \u001b[0;32mreturn\u001b[0m \u001b[0ma\u001b[0m\u001b[0;34m\u001b[0m\u001b[0;34m\u001b[0m\u001b[0m\n",
      "\u001b[0;31mTypeError\u001b[0m: 'float' object cannot be interpreted as an integer"
     ]
    }
   ],
   "metadata": {}
  },
  {
   "cell_type": "code",
   "execution_count": 24,
   "source": [
    "T_list=np.linspace(0,6e-1,20)\n",
    "mtype='Born'\n",
    "L_list=[16,32,64,96,128,128+64,256]\n",
    "es=100\n",
    "LN_map=np.zeros((len(L_list),len(T_list),es))\n",
    "for L_i,L in enumerate(L_list):\n",
    "    for T_i,T in enumerate(T_list):\n",
    "        inputs=[(0.5,T,L,mtype) for _ in range(es)]    \n",
    "        async_results=rc[:].map_sync(run,inputs)\n",
    "        LN_map[L_i,T_i]=async_results\n",
    "    "
   ],
   "outputs": [
    {
     "output_type": "error",
     "ename": "NameError",
     "evalue": "name 'rc' is not defined",
     "traceback": [
      "\u001b[0;31m---------------------------------------------------------------------------\u001b[0m",
      "\u001b[0;31mNameError\u001b[0m                                 Traceback (most recent call last)",
      "\u001b[0;32m<ipython-input-24-90009915e2ca>\u001b[0m in \u001b[0;36m<module>\u001b[0;34m\u001b[0m\n\u001b[1;32m      7\u001b[0m     \u001b[0;32mfor\u001b[0m \u001b[0mT_i\u001b[0m\u001b[0;34m,\u001b[0m\u001b[0mT\u001b[0m \u001b[0;32min\u001b[0m \u001b[0menumerate\u001b[0m\u001b[0;34m(\u001b[0m\u001b[0mT_list\u001b[0m\u001b[0;34m)\u001b[0m\u001b[0;34m:\u001b[0m\u001b[0;34m\u001b[0m\u001b[0;34m\u001b[0m\u001b[0m\n\u001b[1;32m      8\u001b[0m         \u001b[0minputs\u001b[0m\u001b[0;34m=\u001b[0m\u001b[0;34m[\u001b[0m\u001b[0;34m(\u001b[0m\u001b[0;36m0.5\u001b[0m\u001b[0;34m,\u001b[0m\u001b[0mT\u001b[0m\u001b[0;34m,\u001b[0m\u001b[0mL\u001b[0m\u001b[0;34m,\u001b[0m\u001b[0mmtype\u001b[0m\u001b[0;34m)\u001b[0m \u001b[0;32mfor\u001b[0m \u001b[0m_\u001b[0m \u001b[0;32min\u001b[0m \u001b[0mrange\u001b[0m\u001b[0;34m(\u001b[0m\u001b[0mes\u001b[0m\u001b[0;34m)\u001b[0m\u001b[0;34m]\u001b[0m\u001b[0;34m\u001b[0m\u001b[0;34m\u001b[0m\u001b[0m\n\u001b[0;32m----> 9\u001b[0;31m         \u001b[0masync_results\u001b[0m\u001b[0;34m=\u001b[0m\u001b[0mrc\u001b[0m\u001b[0;34m[\u001b[0m\u001b[0;34m:\u001b[0m\u001b[0;34m]\u001b[0m\u001b[0;34m.\u001b[0m\u001b[0mmap_sync\u001b[0m\u001b[0;34m(\u001b[0m\u001b[0mrun\u001b[0m\u001b[0;34m,\u001b[0m\u001b[0minputs\u001b[0m\u001b[0;34m)\u001b[0m\u001b[0;34m\u001b[0m\u001b[0;34m\u001b[0m\u001b[0m\n\u001b[0m\u001b[1;32m     10\u001b[0m         \u001b[0mLN_map\u001b[0m\u001b[0;34m[\u001b[0m\u001b[0mL_i\u001b[0m\u001b[0;34m,\u001b[0m\u001b[0mT_i\u001b[0m\u001b[0;34m]\u001b[0m\u001b[0;34m=\u001b[0m\u001b[0masync_results\u001b[0m\u001b[0;34m\u001b[0m\u001b[0;34m\u001b[0m\u001b[0m\n\u001b[1;32m     11\u001b[0m \u001b[0;34m\u001b[0m\u001b[0m\n",
      "\u001b[0;31mNameError\u001b[0m: name 'rc' is not defined"
     ]
    }
   ],
   "metadata": {}
  },
  {
   "cell_type": "code",
   "execution_count": null,
   "source": [
    "T_list=np.linspace(0,6e-1,20)\n",
    "mtype='Born'\n",
    "L_list=[16,32,64,128,256,512]\n",
    "es=100\n",
    "LN_d1_map=np.zeros((len(L_list),len(T_list),es))\n",
    "for L_i,L in enumerate(L_list):\n",
    "    for T_i,T in enumerate(T_list):\n",
    "        inputs=[(1,T,L,mtype) for _ in range(es)]    \n",
    "        async_results=rc[:].map_sync(run,inputs)\n",
    "        LN_d1_map[L_i,T_i]=async_results\n",
    "    "
   ],
   "outputs": [],
   "metadata": {}
  },
  {
   "cell_type": "code",
   "execution_count": null,
   "source": [
    "fig,ax=plt.subplots()\n",
    "colorlist=('bgrcmyk')\n",
    "for (L_i,L),color in zip(enumerate(L_list),colorlist):\n",
    "    ax.plot(T_list,LN_map.mean(axis=2)[L_i]/np.log(2),label='L={}'.format(L),color=color)\n",
    "ax.legend()\n",
    "ax.set_xlabel('T')\n",
    "ax.set_ylabel('log neg [log 2]')\n",
    "ax.margins(x=0)"
   ],
   "outputs": [],
   "metadata": {}
  },
  {
   "cell_type": "code",
   "execution_count": null,
   "source": [
    "fig,ax=plt.subplots()\n",
    "colorlist=('bgrcmyk')\n",
    "for (L_i,L),color in zip(enumerate(L_list),colorlist):\n",
    "    ax.plot(T_list,LN_d1_map.mean(axis=2)[L_i]/np.log(2),label='L={}'.format(L),color=color)\n",
    "ax.legend()\n",
    "ax.set_xlabel('T')\n",
    "ax.set_ylabel('log neg [log 2]')\n",
    "ax.margins(x=0)"
   ],
   "outputs": [],
   "metadata": {}
  },
  {
   "cell_type": "markdown",
   "source": [
    "## Scaling behavior"
   ],
   "metadata": {}
  },
  {
   "cell_type": "markdown",
   "source": [
    "### Project to occupied"
   ],
   "metadata": {}
  },
  {
   "cell_type": "code",
   "execution_count": 27,
   "source": [
    "T_list=np.linspace(0,6e-1,50)\n",
    "delta_list=np.linspace(-1,1,100)**3\n",
    "\n",
    "\n",
    "def parallel_func(TL):\n",
    "    T,L=TL\n",
    "    delta_list=np.linspace(-1,1,100)**3\n",
    "    mutual_info_neg_map_slice=np.zeros(len(delta_list))\n",
    "\n",
    "    # all projections to s=-1\n",
    "    for delta_i,delta in enumerate(delta_list):    \n",
    "        params=Params(delta=delta,L=L,bc=-1,T=T)\n",
    "        params.measure_all(0)\n",
    "        mutual_info_neg_map_slice[delta_i]=(params.mutual_information_m(np.arange((params.L//2)),np.arange(params.L//2)+params.L))\n",
    "    return mutual_info_neg_map_slice\n",
    "\n",
    "rc[:].execute(\"from Majorana_chain import *\")\n",
    "rc[:].execute(\"import numpy as np\")\n"
   ],
   "outputs": [
    {
     "output_type": "execute_result",
     "data": {
      "text/plain": [
       "<AsyncResult: execute>"
      ]
     },
     "metadata": {},
     "execution_count": 27
    }
   ],
   "metadata": {}
  },
  {
   "cell_type": "code",
   "execution_count": 28,
   "source": [
    "L=64\n",
    "input_list=[(T,L) for T in T_list]\n",
    "async_result_L64=rc[:].map_async(parallel_func,input_list)"
   ],
   "outputs": [],
   "metadata": {}
  },
  {
   "cell_type": "code",
   "execution_count": 29,
   "source": [
    "L=128\n",
    "input_list=[(T,L) for T in T_list]\n",
    "async_result_L128=rc[:].map_async(parallel_func,input_list)"
   ],
   "outputs": [],
   "metadata": {}
  },
  {
   "cell_type": "code",
   "execution_count": 30,
   "source": [
    "L=256\n",
    "input_list=[(T,L) for T in T_list]\n",
    "async_result_L256=rc[:].map_async(parallel_func,input_list)"
   ],
   "outputs": [],
   "metadata": {}
  },
  {
   "cell_type": "code",
   "execution_count": 57,
   "source": [
    "async_result_L256.ready()"
   ],
   "outputs": [
    {
     "output_type": "execute_result",
     "data": {
      "text/plain": [
       "True"
      ]
     },
     "metadata": {},
     "execution_count": 57
    }
   ],
   "metadata": {}
  },
  {
   "cell_type": "code",
   "execution_count": 37,
   "source": [
    "mutual_info_neg_map_para_L64=np.zeros((len(T_list),len(delta_list)))\n",
    "for idx,results in enumerate(async_result_L64):\n",
    "    mutual_info_neg_map_para_L64[idx,:]=(results)"
   ],
   "outputs": [],
   "metadata": {}
  },
  {
   "cell_type": "code",
   "execution_count": 41,
   "source": [
    "mutual_info_neg_map_para_L128=np.zeros((len(T_list),len(delta_list)))\n",
    "for idx,results in enumerate(async_result_L128):\n",
    "    mutual_info_neg_map_para_L128[idx,:]=(results)"
   ],
   "outputs": [],
   "metadata": {}
  },
  {
   "cell_type": "code",
   "execution_count": 58,
   "source": [
    "mutual_info_neg_map_para_L256=np.zeros((len(T_list),len(delta_list)))\n",
    "for idx,results in enumerate(async_result_L256):\n",
    "    mutual_info_neg_map_para_L256[idx,:]=(results)"
   ],
   "outputs": [],
   "metadata": {}
  },
  {
   "cell_type": "code",
   "execution_count": 38,
   "source": [
    "inflection_L64_list=[find_inflection(delta_list,x/np.log(2)) for x in mutual_info_neg_map_para_L64]"
   ],
   "outputs": [],
   "metadata": {}
  },
  {
   "cell_type": "code",
   "execution_count": 43,
   "source": [
    "inflection_L128_list=[find_inflection(delta_list,x/np.log(2)) for x in mutual_info_neg_map_para_L128]"
   ],
   "outputs": [],
   "metadata": {}
  },
  {
   "cell_type": "code",
   "execution_count": 59,
   "source": [
    "inflection_L256_list=[find_inflection(delta_list,x/np.log(2)) for x in mutual_info_neg_map_para_L256]"
   ],
   "outputs": [],
   "metadata": {}
  },
  {
   "cell_type": "code",
   "execution_count": 99,
   "source": [
    "fig,ax=plt.subplots()\n",
    "ax.plot(inflection_L64_list,T_list,label='L=64')\n",
    "ax.plot(inflection_L128_list,T_list,label='L=128')\n",
    "ax.plot(inflection_L256_list,T_list,label='L=256')\n",
    "ax.legend()\n",
    "ax.set_xlabel(r'$\\delta$')\n",
    "ax.set_ylabel('T')\n",
    "\n",
    "ax.set_title('Project to charge = -1 (occupied)')\n",
    "\n",
    "fig.savefig('/mnt/d/kitp/Rp_SPT/12/Maj_Finite_T_occ.pdf')"
   ],
   "outputs": [
    {
     "output_type": "display_data",
     "data": {
      "text/plain": [
       "<Figure size 489.6x288 with 1 Axes>"
      ],
      "image/png": "[encoded data removed]"
     },
     "metadata": {
      "needs_background": "light"
     }
    }
   ],
   "metadata": {}
  },
  {
   "cell_type": "markdown",
   "source": [
    "### Project using Born"
   ],
   "metadata": {}
  },
  {
   "cell_type": "code",
   "execution_count": 27,
   "source": [
    "T_list=np.linspace(0,6e-1,50)\n",
    "es=100\n",
    "\n",
    "def parallel_func(TL):\n",
    "    T,L=TL\n",
    "    delta_list=np.linspace(0,1,100)**3\n",
    "    mutual_info_Born_map_slice=np.zeros(len(delta_list))\n",
    "\n",
    "    for delta_i,delta in enumerate(delta_list):    \n",
    "        params=Params(delta=delta,L=L,bc=-1,T=T)\n",
    "        params.measure_all_Born(0)\n",
    "        mutual_info_Born_map_slice[delta_i]=(params.mutual_information_m(np.arange((params.L//2)),np.arange(params.L//2)+params.L))\n",
    "    return mutual_info_Born_map_slice\n",
    "\n"
   ],
   "outputs": [
    {
     "data": {
      "text/plain": [
       "<AsyncResult: execute>"
      ]
     },
     "metadata": {},
     "output_type": "display_data"
    }
   ],
   "metadata": {}
  },
  {
   "cell_type": "code",
   "execution_count": null,
   "source": [
    "L=64\n",
    "input_list=[(T,L) for T in T_list]\n",
    "async_result_L64=rc[:].map_async(parallel_func,input_list)"
   ],
   "outputs": [],
   "metadata": {}
  },
  {
   "cell_type": "markdown",
   "source": [
    "# Infinite temperature"
   ],
   "metadata": {}
  },
  {
   "cell_type": "code",
   "execution_count": null,
   "source": [
    "params_m=Params(delta=0,L=64,bc=-1,basis='mf',T=np.inf)\n",
    "params_m.bandstructure()\n",
    "Esum=[np.random.choice(params_m.val_m,params_m.L,replace=False).sum()/params_m.L for i in range(2000)]"
   ],
   "outputs": [],
   "metadata": {}
  },
  {
   "cell_type": "code",
   "execution_count": null,
   "source": [
    "fig,ax=plt.subplots(2,1,sharex=True,gridspec_kw=dict(height_ratios=[3,1]),tight_layout=True)\n",
    "ax[0].hist(Esum,bins=11)\n",
    "ax[1].set_xlabel('Mean energy')\n",
    "ax[0].set_ylabel('Occurence')\n",
    "ax[1].set_yticks([])\n",
    "ax[1].scatter(Esum,np.ones(len(Esum)),s=0.1)\n",
    "# fig.savefig('/mnt/d/kitp/Rp_SPT/11/Majorana_d1.pdf')"
   ],
   "outputs": [],
   "metadata": {}
  },
  {
   "cell_type": "code",
   "execution_count": null,
   "source": [
    "params_m=Params(delta=0.5,L=64,bc=-1,basis='mf',T=np.inf)\n",
    "params_m.bandstructure()\n",
    "Esum=[np.random.choice(params_m.val_m,params_m.L,replace=False).sum()/params_m.L for i in range(2000)]"
   ],
   "outputs": [],
   "metadata": {}
  },
  {
   "cell_type": "code",
   "execution_count": null,
   "source": [
    "fig,ax=plt.subplots(2,1,sharex=True,gridspec_kw=dict(height_ratios=[3,1]),tight_layout=True)\n",
    "ax[0].hist(Esum,bins=11)\n",
    "ax[1].set_xlabel('Mean energy')\n",
    "ax[0].set_ylabel('Occurence')\n",
    "ax[1].set_yticks([])\n",
    "ax[1].scatter(Esum,np.ones(len(Esum)),s=0.1)\n",
    "fig.savefig('/mnt/d/kitp/Rp_SPT/6/Majorana_d0.5.pdf')"
   ],
   "outputs": [],
   "metadata": {}
  },
  {
   "cell_type": "code",
   "execution_count": null,
   "source": [
    "params_m=Params(delta=0.,L=64,bc=-1,basis='mf',T=np.inf)\n",
    "params_m.bandstructure()\n",
    "Esum=[np.random.choice(params_m.val_m,params_m.L,replace=False).sum()/params_m.L for i in range(2000)]"
   ],
   "outputs": [],
   "metadata": {}
  },
  {
   "cell_type": "code",
   "execution_count": null,
   "source": [
    "fig,ax=plt.subplots(2,1,sharex=True,gridspec_kw=dict(height_ratios=[3,1]),tight_layout=True)\n",
    "ax[0].hist(Esum,bins=11)\n",
    "ax[1].set_xlabel('Mean energy')\n",
    "ax[0].set_ylabel('Occurence')\n",
    "ax[1].set_yticks([])\n",
    "ax[1].scatter(Esum,np.ones(len(Esum)),s=0.1)\n",
    "fig.savefig('/mnt/d/kitp/Rp_SPT/6/Majorana_d0.pdf')"
   ],
   "outputs": [],
   "metadata": {}
  },
  {
   "cell_type": "code",
   "execution_count": null,
   "source": [
    "params_m=Params(delta=-.5,L=64,bc=-1,basis='mf',T=np.inf)\n",
    "params_m.bandstructure()\n",
    "Esum=[np.random.choice(params_m.val_m,params_m.L,replace=False).sum()/params_m.L for i in range(2000)]"
   ],
   "outputs": [],
   "metadata": {}
  },
  {
   "cell_type": "code",
   "execution_count": null,
   "source": [
    "fig,ax=plt.subplots(2,1,sharex=True,gridspec_kw=dict(height_ratios=[3,1]),tight_layout=True)\n",
    "ax[0].hist(Esum,bins=11)\n",
    "ax[1].set_xlabel('Mean energy')\n",
    "ax[0].set_ylabel('Occurence')\n",
    "ax[1].set_yticks([])\n",
    "ax[1].scatter(Esum,np.ones(len(Esum)),s=0.1)\n",
    "fig.savefig('/mnt/d/kitp/Rp_SPT/6/Majorana_d-0.5.pdf')"
   ],
   "outputs": [],
   "metadata": {}
  },
  {
   "cell_type": "code",
   "execution_count": null,
   "source": [
    "params_m=Params(delta=-1,L=64,bc=-1,basis='mf',T=np.inf)\n",
    "params_m.bandstructure()\n",
    "Esum=[np.random.choice(params_m.val_m,params_m.L,replace=False).sum()/params_m.L for i in range(2000)]"
   ],
   "outputs": [],
   "metadata": {}
  },
  {
   "cell_type": "code",
   "execution_count": null,
   "source": [
    "fig,ax=plt.subplots(2,1,sharex=True,gridspec_kw=dict(height_ratios=[3,1]),tight_layout=True)\n",
    "ax[0].hist(Esum,bins=11)\n",
    "ax[1].set_xlabel('Mean energy')\n",
    "ax[0].set_ylabel('Occurence')\n",
    "ax[1].set_yticks([])\n",
    "ax[1].scatter(Esum,np.ones(len(Esum)),s=0.1)\n",
    "fig.savefig('/mnt/d/kitp/Rp_SPT/6/Majorana_d-1.pdf')"
   ],
   "outputs": [],
   "metadata": {}
  },
  {
   "cell_type": "code",
   "execution_count": null,
   "source": [
    "# params=Params(delta=-1,L=128,bc=-1,basis='mf')\n",
    "params=Params(delta=0.,L=128,bc=-1,basis='mf',T=np.inf,E0=0,dE=0.05,kappa=0.5)"
   ],
   "outputs": [],
   "metadata": {}
  },
  {
   "cell_type": "code",
   "execution_count": null,
   "source": [
    "params.covariance_matrix_f()"
   ],
   "outputs": [],
   "metadata": {}
  },
  {
   "cell_type": "code",
   "execution_count": null,
   "source": [
    "params.mutual_information_m(np.arange(L//2),np.arange(L//2)+L)"
   ],
   "outputs": [],
   "metadata": {}
  },
  {
   "cell_type": "code",
   "execution_count": null,
   "source": [
    "params.log_neg(np.arange(L//2),np.arange(L//2)+L)"
   ],
   "outputs": [],
   "metadata": {}
  },
  {
   "cell_type": "code",
   "execution_count": null,
   "source": [
    "params.von_Neumann_entropy_m(np.arange(params.L))/(params.L)"
   ],
   "outputs": [],
   "metadata": {}
  },
  {
   "cell_type": "code",
   "execution_count": null,
   "source": [
    "LN_dict={}"
   ],
   "outputs": [],
   "metadata": {}
  },
  {
   "cell_type": "code",
   "execution_count": null,
   "source": [
    "es=100\n",
    "L=128\n",
    "m_list=np.arange(1,L+1,10)\n",
    "kappa_list=[.1,.3,.5,.8]\n",
    "for kappa in kappa_list:\n",
    "    LN_dict[kappa]=np.zeros((m_list.shape[0],es))\n",
    "    for m_i,m in enumerate(m_list):\n",
    "        LN=[Params(delta=0,L=L,bc=-1,T=np.inf,E0=0,dE=0.01,kappa=kappa,basis='f').von_Neumann_entropy_m(np.arange(m))/(L) for _ in range(es)]\n",
    "        LN_dict[kappa][m_i,:]=LN"
   ],
   "outputs": [],
   "metadata": {}
  },
  {
   "cell_type": "code",
   "execution_count": null,
   "source": [
    "fig,ax=plt.subplots()\n",
    "color_list='rgby'\n",
    "for kappa,color in zip(kappa_list,color_list):\n",
    "    ax.errorbar(m_list/(2*L),LN_dict[kappa].mean(axis=1),LN_dict[kappa].std(axis=1)/np.sqrt(es),fmt='.',capsize=3,label='$\\kappa$={:.1f}'.format(kappa),color=color)\n",
    "ax.grid('on')\n",
    "ax.legend()\n",
    "for kappa,color in zip(kappa_list,color_list):\n",
    "    ax.plot(m_list/(2*L),analy_dict[kappa],color=color)\n",
    "    # ax.errorbar(m_list,LN_dict[kappa].mean(axis=1),LN_dict[0.1].std(axis=1)/np.sqrt(es),fmt='.',capsize=3,label='{:.1f}'.format(kappa))\n",
    "ax.set_yticks(np.linspace(0,0.2,11))\n",
    "ax.set_xlabel('m/N')\n",
    "ax.set_ylabel('S/N')\n",
    "fig.savefig('/mnt/d/KITP/Rp_SPT/11/EE_Maj.pdf')"
   ],
   "outputs": [],
   "metadata": {}
  },
  {
   "cell_type": "code",
   "execution_count": null,
   "source": [
    "import scipy.integrate as integrate\n",
    "def func(kappa,lamb):\n",
    "    lamb_p=(np.sqrt(kappa*(1-lamb))+np.sqrt(lamb*(1-kappa)))**2\n",
    "    lamb_m=(np.sqrt(kappa*(1-lamb))-np.sqrt(lamb*(1-kappa)))**2\n",
    "    integrand=lambda x:1/(2*np.pi*lamb)*np.sqrt((lamb_p-x)*(x-lamb_m))/(x*(1-x))*(-x*np.log(x)-(1-x)*np.log(1-x))\n",
    "    integral=integrate.quad(integrand,lamb_m,lamb_p)\n",
    "    return integral[0]"
   ],
   "outputs": [],
   "metadata": {}
  },
  {
   "cell_type": "code",
   "execution_count": null,
   "source": [
    "analy_dict={}\n",
    "for kappa in kappa_list:\n",
    "    analy_dict[kappa]=[lamb*func(kappa,lamb) for lamb in m_list/(2*L)]"
   ],
   "outputs": [],
   "metadata": {}
  },
  {
   "cell_type": "markdown",
   "source": [
    "## MI & LN"
   ],
   "metadata": {}
  },
  {
   "cell_type": "code",
   "execution_count": null,
   "source": [
    "with open('/mnt/d/kitp/Rp_SPT/11/inf_T_Maj_no.pickle','rb') as f:\n",
    "    MI_no_dict,LN_no_dict,E_no_mean=pickle.load(f)"
   ],
   "outputs": [],
   "metadata": {}
  },
  {
   "cell_type": "code",
   "execution_count": null,
   "source": [
    "with open('/mnt/d/kitp/Rp_SPT/11/inf_T_Maj_onsite.pickle','rb') as f:\n",
    "    MI_onsite_dict,LN_onsite_dict,E_onsite_mean=pickle.load(f)"
   ],
   "outputs": [],
   "metadata": {}
  },
  {
   "cell_type": "code",
   "execution_count": null,
   "source": [
    "LN_no_mean_E0_list=[]\n",
    "LN_no_std_E0_list=[]\n",
    "MI_no_mean_E0_list=[]\n",
    "MI_no_std_E0_list=[]\n",
    "E=0\n",
    "dE=0.05\n",
    "L_list=np.array([16, 32, 64, 96, 128, 192, 256])\n",
    "for L in L_list:\n",
    "    energy=np.array(E_no_mean[L])\n",
    "    logneg=np.array(LN_no_dict[L])\n",
    "    mutinfo=np.array(MI_no_dict[L])\n",
    "    mask=np.logical_and((E-dE)<energy,energy<(E+dE))\n",
    "    LN_no_mean_E0_list.append(np.mean(logneg[mask]))\n",
    "    LN_no_std_E0_list.append(np.std(logneg[mask]))\n",
    "    MI_no_mean_E0_list.append(np.mean(mutinfo[mask]))\n",
    "    MI_no_std_E0_list.append(np.std(mutinfo[mask]))\n"
   ],
   "outputs": [],
   "metadata": {}
  },
  {
   "cell_type": "code",
   "execution_count": null,
   "source": [
    "LN_onsite_mean_E0_list=[]\n",
    "LN_onsite_std_E0_list=[]\n",
    "MI_onsite_mean_E0_list=[]\n",
    "MI_onsite_std_E0_list=[]\n",
    "E=0\n",
    "dE=0.05\n",
    "L_list=np.array([16, 32, 64, 96, 128, 192, 256])\n",
    "for L in L_list:\n",
    "    energy=np.array(E_onsite_mean[L])\n",
    "    logneg=np.array(LN_onsite_dict[L])\n",
    "    mutinfo=np.array(MI_onsite_dict[L])\n",
    "    mask=np.logical_and((E-dE)<energy,energy<(E+dE))\n",
    "    LN_onsite_mean_E0_list.append(np.mean(logneg[mask]))\n",
    "    LN_onsite_std_E0_list.append(np.std(logneg[mask]))\n",
    "    MI_onsite_mean_E0_list.append(np.mean(mutinfo[mask]))\n",
    "    MI_onsite_std_E0_list.append(np.std(mutinfo[mask]))\n"
   ],
   "outputs": [],
   "metadata": {}
  },
  {
   "cell_type": "code",
   "execution_count": null,
   "source": [
    "fig,ax=plt.subplots()\n",
    "\n",
    "ax.errorbar(L_list,LN_no_mean_E0_list,LN_no_std_E0_list,fmt='.',label='no',color='r')\n",
    "ax.errorbar(L_list,LN_onsite_mean_E0_list,LN_onsite_std_E0_list,fmt='.',label='onsite',color='b')\n",
    "\n",
    "ax.set_xlabel('$N =2L$')\n",
    "ax.set_ylabel('Log negativity')\n",
    "\n",
    "lr_no=scipy.stats.linregress(L_list,LN_no_mean_E0_list)\n",
    "ax.plot(L_list,lr_no.slope*L_list+lr_no.intercept,color='r',label='({:.3f} N+{:.2f})'.format(lr_no.slope,lr_no.intercept))\n",
    "lr_onsite=scipy.stats.linregress(L_list,LN_onsite_mean_E0_list)\n",
    "ax.plot(L_list,lr_onsite.slope*L_list+lr_onsite.intercept,color='b',label='({:.3f} N+{:.2f})'.format(lr_onsite.slope,lr_onsite.intercept))\n",
    "\n",
    "\n",
    "ax.legend()\n",
    "ax.set_title('E/L $\\in$(-0.05,0.05)')\n",
    "fig.savefig('/mnt/d/kitp/Rp_SPT/11/LN_L_delta0_E0_Maj.pdf')"
   ],
   "outputs": [],
   "metadata": {}
  },
  {
   "cell_type": "code",
   "execution_count": null,
   "source": [
    "fig,ax=plt.subplots()\n",
    "\n",
    "ax.errorbar(L_list,MI_no_mean_E0_list,MI_no_std_E0_list,fmt='.',label='no',color='r')\n",
    "ax.errorbar(L_list,MI_onsite_mean_E0_list,MI_onsite_std_E0_list,fmt='.',label='onsite',color='b')\n",
    "\n",
    "ax.set_xlabel('$N =2L$')\n",
    "ax.set_ylabel('Mutual information ')\n",
    "\n",
    "lr_no=scipy.stats.linregress(L_list,MI_no_mean_E0_list)\n",
    "ax.plot(L_list,lr_no.slope*L_list+lr_no.intercept,color='r',label='({:.3f} N+{:.3f})'.format(lr_no.slope,lr_no.intercept))\n",
    "lr_onsite=scipy.stats.linregress(L_list,MI_onsite_mean_E0_list)\n",
    "ax.plot(L_list,lr_onsite.slope*L_list+lr_onsite.intercept,color='b',label='({:.3f} N+{:.3f})'.format(lr_onsite.slope,lr_onsite.intercept))\n",
    "\n",
    "\n",
    "ax.legend()\n",
    "ax.set_title('E/L $\\in$(-0.05,0.05)')\n",
    "fig.savefig('/mnt/d/kitp/Rp_SPT/11/MI_L_delta0_E0_Maj.pdf')"
   ],
   "outputs": [],
   "metadata": {}
  },
  {
   "cell_type": "code",
   "execution_count": null,
   "source": [
    "fig,ax=plt.subplots()\n",
    "L=64\n",
    "ax.scatter(E_no_mean[L],np.array(LN_no_dict[L])/np.log(2),s=1)\n",
    "ax.set_xlabel('$\\\\frac{E_{\\\\rm{tot}}}{L}$')\n",
    "ax.set_ylabel('log neg [log 2]')\n",
    "ax.set_title('L={}, no measurement'.format(L))"
   ],
   "outputs": [],
   "metadata": {}
  },
  {
   "cell_type": "code",
   "execution_count": null,
   "source": [
    "fig,ax=plt.subplots()\n",
    "L=64\n",
    "ax.scatter(E_onsite_mean[L],np.array(LN_onsite_dict[L])/np.log(2),s=1)\n",
    "ax.set_xlabel('$\\\\frac{E_{\\\\rm{tot}}}{L}$')\n",
    "ax.set_ylabel('log neg [log 2]')\n",
    "ax.set_title('L={}, onsite measurement'.format(L))"
   ],
   "outputs": [],
   "metadata": {}
  },
  {
   "cell_type": "code",
   "execution_count": null,
   "source": [
    "E_list=np.arange(-0.2,0.2,0.05)\n",
    "L=256\n",
    "LN_no_mean={}\n",
    "LN_no_std={}\n",
    "ensemble_no={}\n",
    "LN_no_mean[L]=[]\n",
    "LN_no_std[L]=[]\n",
    "ensemble_no[L]=[]\n",
    "LN_no= np.array(LN_no_dict[L])\n",
    "E_no=np.array(E_no_mean[L])\n",
    "for E in E_list:\n",
    "    dE=0.05\n",
    "    mask=np.logical_and((E-dE)<E_no_mean[L],E_no_mean[L]<(E+dE))\n",
    "    ensemble_no[L].append(LN_no[(mask)].shape[0])\n",
    "    LN_no_mean[L].append(LN_no[mask].mean())\n",
    "    LN_no_std[L].append(LN_no[mask].std()/np.sqrt(LN_no[(mask)].shape[0]))"
   ],
   "outputs": [],
   "metadata": {}
  },
  {
   "cell_type": "code",
   "execution_count": null,
   "source": [
    "E_list=np.arange(-0.2,0.2,0.05)\n",
    "# L=128\n",
    "LN_onsite_mean={}\n",
    "LN_onsite_std={}\n",
    "ensemble_onsite={}\n",
    "LN_onsite_mean[L]=[]\n",
    "LN_onsite_std[L]=[]\n",
    "ensemble_onsite[L]=[]\n",
    "LN_onsite= np.array(LN_onsite_dict[L])\n",
    "E_onsite=np.array(E_onsite_mean[L])\n",
    "for E in E_list:\n",
    "    dE=0.05\n",
    "    mask=np.logical_and((E-dE)<E_onsite_mean[L],E_onsite_mean[L]<(E+dE))\n",
    "    ensemble_onsite[L].append(LN_onsite[(mask)].shape[0])\n",
    "    LN_onsite_mean[L].append(LN_onsite[mask].mean())\n",
    "    LN_onsite_std[L].append(LN_onsite[mask].std()/np.sqrt(LN_onsite[(mask)].shape[0]))"
   ],
   "outputs": [],
   "metadata": {}
  },
  {
   "cell_type": "code",
   "execution_count": null,
   "source": [
    "fig,axs=plt.subplots(2,2,figsize=(6.8,4),tight_layout=True)\n",
    "# L=128\n",
    "\n",
    "ax=axs[0,0]\n",
    "ax.scatter(E_no_mean[L],np.array(LN_no_dict[L])/np.log(2),s=1)\n",
    "ax.set_ylabel('log neg [log 2]')\n",
    "ax.set_title('L={}, no measurement'.format(L))\n",
    "\n",
    "ax=axs[1,0]\n",
    "ax.scatter(E_onsite_mean[L],np.array(LN_onsite_dict[L])/np.log(2),s=1)\n",
    "ax.set_ylabel('log neg [log 2]')\n",
    "ax.set_title('L={}, onsite measurement'.format(L))\n",
    "\n",
    "\n",
    "ax=axs[0,1]\n",
    "ax.errorbar(E_list,LN_no_mean[L]/np.log(2),LN_no_std[L]/np.log(2),fmt='.')\n",
    "ax.set_title('L={}, no measurement'.format(L))\n",
    "\n",
    "ax=axs[1,1]\n",
    "ax.errorbar(E_list,LN_onsite_mean[L]/np.log(2),LN_onsite_std[L]/np.log(2),fmt='.')\n",
    "ax.set_title('L={}, onsite measurement'.format(L))\n",
    "\n",
    "\n",
    "\n",
    "fig.savefig('/mnt/d/kitp/Rp_SPT/11/LN_purestate_L{}_Maj.pdf'.format(L))"
   ],
   "outputs": [],
   "metadata": {}
  },
  {
   "cell_type": "markdown",
   "source": [
    "# MI as a function of d(A,B) "
   ],
   "metadata": {}
  },
  {
   "cell_type": "code",
   "execution_count": null,
   "source": [
    "delta_list=np.linspace(-1,1,100)**3\n",
    "dist_list=np.arange(0,32,2)\n",
    "\n",
    "def parallel_func(dist):\n",
    "    T=0\n",
    "    delta_list=np.linspace(-1,1,100)**3\n",
    "    MI_map_slice=np.zeros(len(delta_list))\n",
    "    MI_map_pos_slice=np.zeros(len(delta_list))\n",
    "    MI_map_neg_slice=np.zeros(len(delta_list))\n",
    "\n",
    "    for delta_i,delta in enumerate(delta_list):\n",
    "        params=Params(delta=delta,L=64,bc=-1,T=T)\n",
    "        subregionA=np.arange(params.L//2)\n",
    "        subregionB=subregionA+dist+params.L//2        \n",
    "        MI_map_slice[delta_i]=params.mutual_information_m(subregionA,subregionB)\n",
    "\n",
    "        subregionAp=np.arange(params.L//2,params.L//2+dist,2)\n",
    "        params.measure_all(1,subregionAp)\n",
    "        MI_map_pos_slice[delta_i]=params.mutual_information_m(subregionA,subregionB)\n",
    "\n",
    "        params=Params(delta=delta,L=64,bc=-1,T=T)\n",
    "        params.measure_all(0,subregionAp)\n",
    "        MI_map_neg_slice[delta_i]=params.mutual_information_m(subregionA,subregionB)\n",
    "\n",
    "    return MI_map_slice,MI_map_pos_slice,MI_map_neg_slice\n",
    "\n",
    "rc[:].execute(\"from Majorana_chain import *\")\n",
    "rc[:].execute(\"import numpy as np\")\n",
    "async_result=rc[:].map_sync(parallel_func,dist_list)\n",
    "# z0,z1,z2=parallel_func(32)\n"
   ],
   "outputs": [],
   "metadata": {}
  },
  {
   "cell_type": "code",
   "execution_count": null,
   "source": [],
   "outputs": [],
   "metadata": {}
  },
  {
   "cell_type": "code",
   "execution_count": null,
   "source": [
    "MI_map_para=np.zeros((len(dist_list),len(delta_list)))\n",
    "MI_pos_map_para=np.zeros((len(dist_list),len(delta_list)))\n",
    "MI_neg_map_para=np.zeros((len(dist_list),len(delta_list)))\n",
    "\n",
    "for idx,results in enumerate(async_result):\n",
    "    MI,MI_pos,MI_neg=results\n",
    "    MI_map_para[idx,:]=(MI)\n",
    "    MI_pos_map_para[idx,:]=(MI_pos)\n",
    "    MI_neg_map_para[idx,:]=(MI_neg)"
   ],
   "outputs": [],
   "metadata": {}
  },
  {
   "cell_type": "code",
   "execution_count": null,
   "source": [
    "plt.plot(delta_list,z0/np.log(2))"
   ],
   "outputs": [],
   "metadata": {}
  },
  {
   "cell_type": "code",
   "execution_count": null,
   "source": [
    "plt.pcolor(delta_list,dist_list,MI_pos_map_para)"
   ],
   "outputs": [],
   "metadata": {}
  },
  {
   "cell_type": "code",
   "execution_count": null,
   "source": [
    "plt.plot(delta_list,MI_pos_map_para[1])"
   ],
   "outputs": [],
   "metadata": {}
  },
  {
   "cell_type": "markdown",
   "source": [
    "# Evolution"
   ],
   "metadata": {}
  },
  {
   "cell_type": "code",
   "execution_count": null,
   "source": [
    "params=Params(delta=0.3,L=32,bc=-1)\n",
    "params.mutual_information_m(np.arange(int(params.L/2)),np.arange(int(params.L/2))+params.L)\n",
    "# params.measure_batch(1,(params.L/2,params.L))\n",
    "params.measure(1,20,21)\n",
    "params.measure(0,25,26)\n",
    "params.measure(1,40,41)"
   ],
   "outputs": [],
   "metadata": {}
  },
  {
   "cell_type": "code",
   "execution_count": null,
   "source": [
    "params.mutual_information_m(np.arange(int(params.L/2)),np.arange(int(params.L/2))+params.L)"
   ],
   "outputs": [],
   "metadata": {}
  },
  {
   "cell_type": "code",
   "execution_count": null,
   "source": [
    "params.i_history"
   ],
   "outputs": [],
   "metadata": {}
  },
  {
   "cell_type": "code",
   "execution_count": null,
   "source": [
    "params=Params(delta=0.3,L=32,bc=-1)\n",
    "params.measure(1,40,21)\n",
    "i=1\n",
    "fig,ax=plt.subplots()\n",
    "ax.imshow(params.C_m_history[i],cmap='seismic',vmin=-1,vmax=1)\n",
    "# ax.text(0,1.05,r'Step {}: $\\Upsilon_{}({},{})$'.format(i,'{'+str((-1)**s)+'}',params.i_history[i-1],params.i_history[i-1]+1),transform=ax.transAxes)"
   ],
   "outputs": [],
   "metadata": {}
  },
  {
   "cell_type": "code",
   "execution_count": null,
   "source": [
    "params=Params(delta=0.3,L=32,bc=-1)\n",
    "params.measure(0,40,21)\n",
    "i=1\n",
    "fig,ax=plt.subplots()\n",
    "ax.imshow(params.C_m_history[i],cmap='seismic',vmin=-1,vmax=1)\n",
    "# ax.text(0,1.05,r'Step {}: $\\Upsilon_{}({},{})$'.format(i,'{'+str((-1)**s)+'}',params.i_history[i-1],params.i_history[i-1]+1),transform=ax.transAxes)"
   ],
   "outputs": [],
   "metadata": {}
  },
  {
   "cell_type": "code",
   "execution_count": null,
   "source": [
    "i=0\n",
    "c_m=params.C_m_history[0]\n",
    "fig,ax=plt.subplots(1,2,figsize=(6.8,10))\n",
    "\n",
    "im_1=ax[0].imshow(c_m,cmap='seismic',vmin=-1,vmax=1) \n",
    "im_2=ax[1].imshow(c_m@c_m,cmap='hot',vmin=-1,vmax=0) \n",
    "\n",
    "ax[0].set_xticks([])\n",
    "ax[0].set_yticks([])\n",
    "ax[1].set_xticks([])\n",
    "ax[1].set_yticks([])\n",
    "\n",
    "ax[0].text(0,1.05,'Step 0',transform=ax[0].transAxes)\n",
    "\n",
    "axins0=ax[0].inset_axes([0.0, -.1, 1, 0.05],transform=ax[0].transAxes) \n",
    "cb0=fig.colorbar(im_1,cax=axins0,orientation='horizontal')\n",
    "cb0.ax.xaxis.set_tick_params(pad=0)\n",
    "# cb0.ax.tick_params(labelsize=20)\n",
    "\n",
    "axins1=ax[1].inset_axes([0.0, -.1, 1, 0.05],transform=ax[1].transAxes) \n",
    "cb1=fig.colorbar(im_2,cax=axins1,orientation='horizontal')\n",
    "cb1.ax.xaxis.set_tick_params(pad=0)\n",
    "# cb1.ax.tick_params(labelsize=20)\n",
    "\n",
    "# fig.savefig('/mnt/d/kitp/Rp_SPT/4/evolution_trivial_{}.pdf'.format(i),bbox_inches='tight',dpi=500)"
   ],
   "outputs": [],
   "metadata": {}
  },
  {
   "cell_type": "code",
   "execution_count": null,
   "source": [
    "%%capture\n",
    "for i,c_m,s,ii in zip(range(1,21),params.C_m_history[1:],params.s_history,params.i_history):\n",
    "    \n",
    "    fig,ax=plt.subplots(1,2,figsize=(6.8,10))\n",
    "\n",
    "    im_1=ax[0].imshow(c_m,cmap='seismic',vmin=-1,vmax=1) \n",
    "    im_2=ax[1].imshow(c_m@c_m,cmap='hot',vmin=-1,vmax=0) \n",
    "\n",
    "    ax[0].set_xticks([])\n",
    "    ax[0].set_yticks([])\n",
    "    ax[1].set_xticks([])\n",
    "    ax[1].set_yticks([])\n",
    "    \n",
    "    ax[0].text(0,1.05,r'Step {}: $\\Upsilon_{}({},{})$'.format(i,'{'+str((-1)**s)+'}',ii,ii+1),transform=ax[0].transAxes)\n",
    "\n",
    "    # fig.savefig('/mnt/d/kitp/Rp_SPT/4/evolution_trivial_{}.pdf'.format(i),bbox_inches='tight',dpi=500)"
   ],
   "outputs": [],
   "metadata": {}
  },
  {
   "cell_type": "code",
   "execution_count": null,
   "source": [
    "tex_text=\"\"\"\n",
    "    \\\\begin{{figure}}[h]\n",
    "        \\\\centering\n",
    "        \\\\includegraphics[width=\\\\textwidth]{{evolution_trivial_{}.pdf}}\n",
    "    \\\\end{{figure}}\n",
    "    \"\"\""
   ],
   "outputs": [],
   "metadata": {}
  },
  {
   "cell_type": "code",
   "execution_count": null,
   "source": [
    "string=\"\"\n",
    "for i in range(21):\n",
    "    print(tex_text.format(i))"
   ],
   "outputs": [],
   "metadata": {}
  },
  {
   "cell_type": "code",
   "execution_count": null,
   "source": [],
   "outputs": [],
   "metadata": {}
  },
  {
   "cell_type": "code",
   "execution_count": null,
   "source": [
    "print(string)"
   ],
   "outputs": [],
   "metadata": {}
  },
  {
   "cell_type": "code",
   "execution_count": null,
   "source": [
    "for c_m in params.C_m_history:\n",
    "    fig,ax=plt.subplots()\n",
    "    ax.imshow(c_m@c_m)"
   ],
   "outputs": [],
   "metadata": {}
  },
  {
   "cell_type": "code",
   "execution_count": null,
   "source": [
    "plt.imshow(params.C_m_history[1])"
   ],
   "outputs": [],
   "metadata": {}
  },
  {
   "cell_type": "code",
   "execution_count": null,
   "source": [
    "params.measure(0, 4, 5)"
   ],
   "outputs": [],
   "metadata": {}
  },
  {
   "cell_type": "code",
   "execution_count": null,
   "source": [
    "params.measure(0, 4, 5)"
   ],
   "outputs": [],
   "metadata": {}
  },
  {
   "cell_type": "code",
   "execution_count": null,
   "source": [
    "params.measure(1, 6, 7)"
   ],
   "outputs": [],
   "metadata": {}
  },
  {
   "cell_type": "code",
   "execution_count": null,
   "source": [
    "params.measure(1, 4, 5)"
   ],
   "outputs": [],
   "metadata": {}
  },
  {
   "cell_type": "code",
   "execution_count": null,
   "source": [],
   "outputs": [],
   "metadata": {}
  },
  {
   "cell_type": "code",
   "execution_count": null,
   "source": [
    "params=Params(delta=-0.3,L=16,bc=0)\n",
    "params.mutual_information_m(np.arange(2),np.arange(2)+16)\n",
    "params.measure_batch(100)"
   ],
   "outputs": [],
   "metadata": {}
  },
  {
   "cell_type": "code",
   "execution_count": null,
   "source": [
    "params.mutual_information_m(np.arange(2),np.arange(2)+16)"
   ],
   "outputs": [],
   "metadata": {}
  },
  {
   "cell_type": "code",
   "execution_count": null,
   "source": [
    "len(params.C_m_history)"
   ],
   "outputs": [],
   "metadata": {}
  },
  {
   "cell_type": "code",
   "execution_count": null,
   "source": [
    "params.i_history"
   ],
   "outputs": [],
   "metadata": {}
  },
  {
   "cell_type": "code",
   "execution_count": null,
   "source": [
    "params.s_history"
   ],
   "outputs": [],
   "metadata": {}
  },
  {
   "cell_type": "code",
   "execution_count": null,
   "source": [
    "for c_m in params.C_m_history:\n",
    "    fig,ax=plt.subplots()\n",
    "    ax.imshow(c_m)"
   ],
   "outputs": [],
   "metadata": {}
  },
  {
   "cell_type": "markdown",
   "source": [
    "# Test"
   ],
   "metadata": {}
  },
  {
   "cell_type": "code",
   "execution_count": null,
   "source": [
    "params=Params(delta=-0.3,L=16,bc=0)"
   ],
   "outputs": [],
   "metadata": {}
  },
  {
   "cell_type": "code",
   "execution_count": null,
   "source": [
    "params.c_subregion_m(np.arange(4))"
   ],
   "outputs": [],
   "metadata": {}
  },
  {
   "cell_type": "code",
   "execution_count": null,
   "source": [
    "params.c_subregion_m_obs(np.arange(4))-params.c_subregion_m(np.arange(4))"
   ],
   "outputs": [],
   "metadata": {}
  },
  {
   "cell_type": "code",
   "execution_count": null,
   "source": [
    "params.c_subregion_m([0,1,2,3]+[8,9,10,11])-params.c_subregion_m_obs([0,1,2,3]+[8,9,10,11])"
   ],
   "outputs": [],
   "metadata": {}
  },
  {
   "cell_type": "code",
   "execution_count": null,
   "source": [
    "start_time=time.time()\n",
    "z=params.c_subregion_m(np.concatenate([np.arange(2),np.arange(2)+10]))\n",
    "print(time.time()-start_time)"
   ],
   "outputs": [],
   "metadata": {}
  },
  {
   "cell_type": "code",
   "execution_count": null,
   "source": [
    "start_time=time.time()\n",
    "z_obs=params.c_subregion_m_obs(np.concatenate([np.arange(2),np.arange(2)+10]))\n",
    "print(time.time()-start_time)"
   ],
   "outputs": [],
   "metadata": {}
  },
  {
   "cell_type": "code",
   "execution_count": null,
   "source": [
    "z_obs-z"
   ],
   "outputs": [],
   "metadata": {}
  },
  {
   "cell_type": "code",
   "execution_count": null,
   "source": [
    "np.concatenate([np.arange(20),np.arange(20)+10]).shape"
   ],
   "outputs": [],
   "metadata": {}
  },
  {
   "cell_type": "code",
   "execution_count": null,
   "source": [
    "params.C_m_history"
   ],
   "outputs": [],
   "metadata": {}
  }
 ],
 "metadata": {
  "interpreter": {
   "hash": "6aee4f39eba147985a2c1cbf1db4ebecc02362fa8877deaa860706b7b1b97f3d"
  },
  "kernelspec": {
   "name": "python3",
   "display_name": "Python 3.8.8 64-bit ('base': conda)"
  },
  "language_info": {
   "codemirror_mode": {
    "name": "ipython",
    "version": 3
   },
   "file_extension": ".py",
   "mimetype": "text/x-python",
   "name": "python",
   "nbconvert_exporter": "python",
   "pygments_lexer": "ipython3",
   "version": "3.8.8"
  },
  "orig_nbformat": 3
 },
 "nbformat": 4,
 "nbformat_minor": 2
}