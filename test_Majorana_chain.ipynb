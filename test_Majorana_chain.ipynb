{
 "cells": [
  {
   "cell_type": "markdown",
   "metadata": {},
   "source": [
    "# API"
   ]
  },
  {
   "cell_type": "code",
   "execution_count": 1,
   "metadata": {},
   "outputs": [],
   "source": [
    "import matplotlib.pyplot as plt\n",
    "import numpy.matlib\n",
    "import time\n",
    "import pickle\n",
    "%load_ext line_profiler"
   ]
  },
  {
   "cell_type": "code",
   "execution_count": 2,
   "metadata": {},
   "outputs": [],
   "source": [
    "plt.rcParams['text.usetex']=True\n",
    "plt.rcParams['font.family']='serif'\n",
    "plt.rcParams['font.size']=9\n",
    "plt.rcParams['axes.titlesize']=plt.rcParams['font.size']\n",
    "plt.rcParams['figure.figsize']=(6.8,4)"
   ]
  },
  {
   "cell_type": "code",
   "execution_count": 151,
   "metadata": {},
   "outputs": [
    {
     "name": "stdout",
     "output_type": "stream",
     "text": [
      "Writing Majorana_chain.py\n"
     ]
    }
   ],
   "source": [
    "%%writefile Majorana_chain.py\n",
    "import numpy as np\n",
    "import scipy.sparse as sp\n",
    "import scipy.sparse.linalg as sla\n",
    "import scipy.linalg as la\n",
    "import numpy.matlib\n",
    "\n",
    "class Params:\n",
    "    '''\n",
    "    example: params=Params(mu=2)\n",
    "    '''\n",
    "    def __init__(self,\n",
    "    delta=0,    \n",
    "    L=100,\n",
    "    T=0,\n",
    "    bc=1,    # 0: open boundary condition; >0: PBC; <0: APBC\n",
    "    basis='mf'    # 'generate Hamiltonian of fermionic ('f') and Majorana basis ('m') or both ('mf')\n",
    "    ):\n",
    "        self.delta=delta\n",
    "        self.mu=2*(1-delta)\n",
    "        self.t=-(1+delta)\n",
    "        self.Delta=-(1+delta)\n",
    "        self.L=L\n",
    "        self.tau_z=np.array([[1,0],[0,-1]])\n",
    "        self.tau_y=np.array([[0,-1j],[1j,0]])\n",
    "        self.bc=bc\n",
    "        self.T=T\n",
    "        if 'f' in basis:\n",
    "            band1sm=np.diag(np.ones(L-1),1)\n",
    "            band1sm[-1,0]=1*(2*np.heaviside(bc,1/2)-1)\n",
    "            id_mat=np.eye(L)\n",
    "            # Hamiltonian in the ferimion basis\n",
    "            self.Hamiltonian_f=np.block([[-self.mu*id_mat-self.t*(band1sm+band1sm.T),-self.Delta*(band1sm-band1sm.T)],\n",
    "                                        [self.Delta*(band1sm-band1sm.T),self.mu*id_mat+self.t*(band1sm+band1sm.T)]])\n",
    "            # BdG Hamiltonian back to original        \n",
    "            self.Hamiltonian_f/=2\n",
    "\n",
    "        if 'm' in basis:    \n",
    "            # Hamiltonian in the Majorana basis\n",
    "            band=np.vstack([np.ones(L)*(1-delta)*1j,np.ones(L)*(1+delta)*1j]).flatten('F')\n",
    "            Ham=np.diag(band[:-1],-1)\n",
    "            Ham[0,-1]=(1+delta)*1j*bc\n",
    "            Ham=Ham+Ham.conj().T\n",
    "            self.Hamiltonian_m=Ham\n",
    "\n",
    "    def __init_obs__(self,\n",
    "    delta=0,    \n",
    "    L=100,\n",
    "    T=0,\n",
    "    bc=1    # 0: open boundary condition; >0: PBC; <0: APBC\n",
    "    ):\n",
    "        self.delta=delta\n",
    "        self.mu=2*(1-delta)\n",
    "        self.t=-(1+delta)\n",
    "        self.Delta=-(1+delta)\n",
    "        self.L=L\n",
    "        self.tau_z=sp.dia_matrix(np.diag([1,-1]))\n",
    "        self.tau_y=sp.dia_matrix(np.array([[0,-1j],[1j,0]]))\n",
    "        self.bc=bc\n",
    "        self.T=T\n",
    "        self.band1sm=sp.diags([1],[1],(L,L)).tocsr()\n",
    "        self.bandm1sm=sp.diags([1],[-1],(L,L)).tocsr()\n",
    "        self.band1sm[-1,0]=1*(2*np.heaviside(bc,1/2)-1)\n",
    "        self.bandm1sm[0,-1]=1*(2*np.heaviside(bc,1/2)-1)\n",
    "        # Hamiltonian in the ferimion basis\n",
    "        self.Hamiltonian_f=-self.mu*sp.kron(self.tau_z,sp.identity(self.L))-sp.kron(self.t*self.tau_z+1j*self.Delta*self.tau_y,self.band1sm)-sp.kron(self.t*self.tau_z-1j*self.Delta*self.tau_y,self.bandm1sm)\n",
    "        # BdG Hamiltonian back to original\n",
    "        \n",
    "        self.Hamiltonian_f/=2\n",
    "        # Hamiltonian in the Majorana basis\n",
    "        band=np.vstack([np.ones(L)*(1-delta)*1j,np.ones(L)*(1+delta)*1j]).flatten('F')\n",
    "        Ham=sp.diags(np.array([band[:-1],band[:-1].conj()]),np.array([-1,1]),shape=(2*L,2*L)).tocsr()\n",
    "        Ham[0,-1]=(1+delta)*1j*bc\n",
    "        Ham[-1,0]=-(1+delta)*1j*bc\n",
    "        self.Hamiltonian_m=Ham\n",
    "\n",
    "    def bandstructure_obs(self,H_type='f'):    \n",
    "        if H_type=='f':    \n",
    "            val,vec=la.eigh(self.Hamiltonian_f)\n",
    "            sortindex=np.argsort(val)\n",
    "            self.val_f=val[sortindex]\n",
    "            self.vec_f=vec[:,sortindex]\n",
    "        elif H_type=='m':\n",
    "            val,vec=la.eigh(self.Hamiltonian_m) \n",
    "            sortindex=np.argsort(val)\n",
    "            self.val_m=val[sortindex]\n",
    "            self.vec_m=vec[:,sortindex]\n",
    "        else:\n",
    "            raise ValueError('type of Hamiltonian ({}) not found'.format(H_type))\n",
    "\n",
    "    def bandstructure(self,basis='mf'):\n",
    "        if 'f' in basis:    \n",
    "            val,vec=la.eigh(self.Hamiltonian_f)\n",
    "            sortindex=np.argsort(val)\n",
    "            self.val_f=val[sortindex]\n",
    "            self.vec_f=vec[:,sortindex]\n",
    "        if 'm' in basis:\n",
    "            val,vec=np.linalg.eigh(self.Hamiltonian_m) \n",
    "            sortindex=np.argsort(val)\n",
    "            self.val_m=val[sortindex]\n",
    "            self.vec_m=vec[:,sortindex]       \n",
    "\n",
    "    def fermi_dist(self,energy,E_F):      \n",
    "        if self.T==0:\n",
    "            return np.heaviside(E_F-energy,0)\n",
    "        else:\n",
    "            return 1/(1+np.exp((energy-E_F)/self.T)) \n",
    "\n",
    "\n",
    "    def covariance_matrix_f(self,E_F=0):\n",
    "        if not (hasattr(self,'val_f') and hasattr(self,'vec_f')):\n",
    "            self.bandstructure('f')\n",
    "        occupancy=self.fermi_dist(self.val_f,E_F)\n",
    "        occupancy_mat=np.matlib.repmat(occupancy,self.vec_f.shape[0],1)\n",
    "        self.C_f=np.real((occupancy_mat*self.vec_f)@self.vec_f.T.conj())\n",
    "\n",
    "    def covariance_matrix_m(self,E_F=0):\n",
    "        if not (hasattr(self,'val_m') and hasattr(self,'vec_m')):\n",
    "            self.bandstructure('m')\n",
    "        occupancy=self.fermi_dist(self.val_m,E_F)\n",
    "        occupancy_mat=np.matlib.repmat(occupancy,self.vec_m.shape[0],1)\n",
    "        self.C_m=(1j*2*(occupancy_mat*self.vec_m)@self.vec_m.T.conj())-1j*np.eye(self.L*2)\n",
    "        assert np.abs(np.imag(self.C_m)).max()<1e-10, \"Covariance matrix not real\"\n",
    "        self.C_m=np.real(self.C_m)\n",
    "        self.C_m_history=[self.C_m]\n",
    "    \n",
    "    def projection_obs(self,s):\n",
    "        '''\n",
    "        s= 0,1 occupancy number\n",
    "        i,j: adjacent pair of Majorana\n",
    "        flow is from alpha_{i,j} to gamma_{i,j}\n",
    "\n",
    "        return: the basis are ordered as gamma_i,gamma_j,alpha_j,alpha_i\n",
    "        '''\n",
    "        assert (s==0 or s==1),\"s={} is either 0 or 1\".format(s)\n",
    "        blkmat=(np.array([[0,-(-1)**s],[(-1)**s,0]]))\n",
    "        return sp.bmat([[blkmat,None],[None,blkmat.T]]).toarray()\n",
    "\n",
    "    def projection(self,s):\n",
    "        '''\n",
    "        occupancy number: s= 0,1 \n",
    "        (-1)^0 even parity, (-1)^1 odd parity\n",
    "\n",
    "        '''\n",
    "        assert (s==0 or s==1),\"s={} is either 0 or 1\".format(s)\n",
    "        blkmat=np.array([[0,-(-1)**s,0,0],\n",
    "                        [(-1)**s,0,0,0],\n",
    "                        [0,0,0,(-1)**s],\n",
    "                        [0,0,-(-1)**s,0]])\n",
    "        return blkmat\n",
    "\n",
    "    # Slower than measure() 8.3x times \n",
    "    def measure_obs(self,s,i,j):\n",
    "        permutation_mat=sp.diags([1],[0],(self.L*2,self.L*2)).tocsr()\n",
    "        # i <-> -2\n",
    "        permutation_mat[i,i]=0\n",
    "        permutation_mat[-2,-2]=0\n",
    "        permutation_mat[i,-2]=1\n",
    "        permutation_mat[-2,i]=1\n",
    "        # j <-> -1\n",
    "        permutation_mat[j,j]=0\n",
    "        permutation_mat[-1,-1]=0\n",
    "        permutation_mat[j,-1]=1\n",
    "        permutation_mat[-1,j]=1\n",
    "        if not hasattr(self,'C_m'):\n",
    "            self.covariance_matrix_m()\n",
    "\n",
    "        # m=np.arange(64).reshape((8,8))\n",
    "        # C_m_perm=permutation_mat.T@m@permutation_mat.T\n",
    "\n",
    "        C_m_perm=permutation_mat.T@self.C_m_history[-1]@permutation_mat.T\n",
    "\n",
    "        self.m=C_m_perm\n",
    "        Gamma_LL=C_m_perm[:-2,:-2]\n",
    "        Gamma_LR=C_m_perm[:-2,-2:]\n",
    "        Gamma_RR=C_m_perm[-2:,-2:]\n",
    "\n",
    "        proj=self.projection(s)\n",
    "        Upsilon_LL=proj[:-2,:-2]\n",
    "        Upsilon_LR=proj[:-2,-2:]\n",
    "        Upsilon_RR=proj[-2:,-2:]\n",
    "        Upsilon_RL=proj[-2:,:-2]\n",
    "        zero=np.zeros((self.L*2-2,2))\n",
    "        zero0=np.zeros((2,2))\n",
    "        mat1=np.block([[Gamma_LL,zero],[zero.T,Upsilon_RR]])\n",
    "        mat2=np.block([[Gamma_LR,zero],[zero0,Upsilon_RL]])\n",
    "        mat3=np.block([[Gamma_RR,np.eye(2)],[-np.eye(2),Upsilon_LL]])\n",
    "        self.mat2=mat2\n",
    "        if np.count_nonzero(mat2):\n",
    "            Psi=mat1+mat2@(la.solve(mat3,mat2.T))\n",
    "        else:\n",
    "            Psi=mat1\n",
    "        Psi=permutation_mat.T@Psi@permutation_mat\n",
    "        \n",
    "        \n",
    "        self.C_m_history.append(Psi)\n",
    "\n",
    "    # Slower than measure() 1.7x times \n",
    "    def measure_roll(self,s,i,j):\n",
    "        if not hasattr(self,'C_m'):\n",
    "            self.covariance_matrix_m()\n",
    "        \n",
    "        # m=np.arange(64).reshape((8,8))\n",
    "        \n",
    "        m=self.C_m_history[-1].copy()\n",
    "        m[i:,:]=np.roll(m[i:,:],-1,0)\n",
    "        m[:,i:]=np.roll(m[:,i:],-1,1)\n",
    "\n",
    "        if j>i:\n",
    "            j-=1    #the position of j is rotated by 1 ahead\n",
    "        m[j:,:]=np.roll(m[j:,:],-1,0)\n",
    "        m[:,j:]=np.roll(m[:,j:],-1,1)\n",
    "        self.m=m\n",
    "\n",
    "        Gamma_LL=m[:-2,:-2]\n",
    "        Gamma_LR=m[:-2,-2:]\n",
    "        Gamma_RR=m[-2:,-2:]       \n",
    "\n",
    "        proj=self.projection(s)\n",
    "        Upsilon_LL=proj[:-2,:-2]\n",
    "        Upsilon_LR=proj[:-2,-2:]\n",
    "        Upsilon_RR=proj[-2:,-2:]\n",
    "        Upsilon_RL=proj[-2:,:-2]\n",
    "        zero=np.zeros((self.L*2-2,2))\n",
    "        zero0=np.zeros((2,2))\n",
    "        mat1=np.block([[Gamma_LL,zero],[zero.T,Upsilon_RR]])\n",
    "        mat2=np.block([[Gamma_LR,zero],[zero0,Upsilon_RL]])\n",
    "        mat3=np.block([[Gamma_RR,np.eye(2)],[-np.eye(2),Upsilon_LL]])\n",
    "        self.mat2=mat2\n",
    "        if np.count_nonzero(mat2):\n",
    "            Psi=mat1+mat2@(la.solve(mat3,mat2.T))\n",
    "        else:\n",
    "            Psi=mat1\n",
    "        \n",
    "        Psi[j:,:]=np.roll(Psi[j:,:],1,0)\n",
    "        Psi[:,j:]=np.roll(Psi[:,j:],1,1)\n",
    "\n",
    "        Psi[i:,:]=np.roll(Psi[i:,:],1,0)\n",
    "        Psi[:,i:]=np.roll(Psi[:,i:],1,1)\n",
    "        # Psi=permutation_mat.T@Psi@permutation_mat        \n",
    "        \n",
    "        self.C_m_history.append(Psi) \n",
    "\n",
    "    def measure(self,s,i,j):\n",
    "        if not hasattr(self,'C_m'):\n",
    "            self.covariance_matrix_m()\n",
    "        \n",
    "        # m=np.arange(64).reshape((8,8))\n",
    "        \n",
    "        m=self.C_m_history[-1].copy()\n",
    "        # i<-> -2\n",
    "        m[[i,-2]]=m[[-2,i]]\n",
    "        m[:,[i,-2]]=m[:,[-2,i]]\n",
    "        # j<->-1\n",
    "        m[[j,-1]]=m[[-1,j]]\n",
    "        m[:,[j,-1]]=m[:,[-1,j]]\n",
    "\n",
    "        self.m=m\n",
    "\n",
    "        Gamma_LL=m[:-2,:-2]\n",
    "        Gamma_LR=m[:-2,-2:]\n",
    "        Gamma_RR=m[-2:,-2:]       \n",
    "\n",
    "        proj=self.projection(s)\n",
    "        Upsilon_LL=proj[:-2,:-2]\n",
    "        Upsilon_LR=proj[:-2,-2:]\n",
    "        Upsilon_RR=proj[-2:,-2:]\n",
    "        Upsilon_RL=proj[-2:,:-2]\n",
    "        zero=np.zeros((self.L*2-2,2))\n",
    "        zero0=np.zeros((2,2))\n",
    "        mat1=np.block([[Gamma_LL,zero],[zero.T,Upsilon_RR]])\n",
    "        mat2=np.block([[Gamma_LR,zero],[zero0,Upsilon_RL]])\n",
    "        mat3=np.block([[Gamma_RR,np.eye(2)],[-np.eye(2),Upsilon_LL]])\n",
    "        self.mat2=mat2\n",
    "        if np.count_nonzero(mat2):\n",
    "            Psi=mat1+mat2@(la.solve(mat3,mat2.T))\n",
    "        else:\n",
    "            Psi=mat1\n",
    "        \n",
    "        Psi[[j,-1]]=Psi[[-1,j]]\n",
    "        Psi[:,[j,-1]]=Psi[:,[-1,j]]\n",
    "\n",
    "        Psi[[i,-2]]=Psi[[-2,i]]\n",
    "        Psi[:,[i,-2]]=Psi[:,[-2,i]]\n",
    "        \n",
    "        self.C_m_history.append(Psi) \n",
    "\n",
    "\n",
    "    def c_subregion_f_obs(self,subregion):\n",
    "        if not hasattr(self,'C'):\n",
    "            self.covariance_matrix_f()\n",
    "        try:\n",
    "            subregion=np.array(subregion)\n",
    "        except:\n",
    "            raise ValueError(\"The subregion is ill-defined\"+subregion)\n",
    "        XX,YY=np.meshgrid(np.arange(2*self.L),np.arange(2*self.L))\n",
    "        mask_hh=np.isin(XX,subregion)*np.isin(YY,subregion)\n",
    "        mask_hp=np.isin(XX,subregion)*np.isin(YY,subregion+self.L)\n",
    "        mask_ph=np.isin(XX,subregion+self.L)*np.isin(YY,subregion)\n",
    "        mask_pp=np.isin(XX,subregion+self.L)*np.isin(YY,subregion+self.L)\n",
    "        mask=mask_hh+mask_hp+mask_ph+mask_pp\n",
    "        return self.C_f[mask].reshape((2*subregion.shape[0],2*subregion.shape[0]))\n",
    "\n",
    "    def c_subregion_f(self,subregion):\n",
    "        if not hasattr(self,'C'):\n",
    "            self.covariance_matrix_f()\n",
    "        try:\n",
    "            subregion=np.array(subregion)\n",
    "        except:\n",
    "            raise ValueError(\"The subregion is ill-defined\"+subregion)\n",
    "        subregion_ph=np.concatenate([subregion,subregion+self.L])\n",
    "        return self.C_f[np.ix_(subregion_ph,subregion_ph)]\n",
    "\n",
    "    def von_Neumann_entropy(self,subregion):\n",
    "        c_A=self.c_subregion(subregion)\n",
    "        val,vec=la.eigh(c_A)\n",
    "        self.val_sh=val\n",
    "        val=np.sort(val)[:subregion.shape[0]]\n",
    "        return np.real(-np.sum(val*np.log(val+1e-18j))-np.sum((1-val)*np.log(1-val+1e-18j)))\n",
    "\n",
    "    def c_subregion_m_obs(self,subregion,Gamma=None):\n",
    "        if not hasattr(self,'C_m'):\n",
    "            self.covariance_matrix_m()\n",
    "\n",
    "        if Gamma==None:\n",
    "            Gamma=self.C_m_history[-1]\n",
    "        try:\n",
    "            subregion=np.array(subregion)\n",
    "        except:\n",
    "            raise ValueError(\"The subregion is ill-defined\"+subregion)\n",
    "        XX,YY=np.meshgrid(np.arange(2*self.L),np.arange(2*self.L))\n",
    "        mask=np.isin(XX,subregion)*np.isin(YY,subregion)  \n",
    "        return Gamma[mask].reshape((subregion.shape[0],subregion.shape[0]))\n",
    "\n",
    "    def c_subregion_m(self,subregion,Gamma=None):\n",
    "        if not hasattr(self,'C_m'):\n",
    "            self.covariance_matrix_m()\n",
    "        if Gamma==None:\n",
    "            Gamma=self.C_m_history[-1]\n",
    "        try:\n",
    "            subregion=np.array(subregion)\n",
    "        except:\n",
    "            raise ValueError(\"The subregion is ill-defined\"+subregion)\n",
    "        return Gamma[np.ix_(subregion,subregion)]\n",
    "        \n",
    "\n",
    "\n",
    "    def von_Neumann_entropy_m(self,subregion):\n",
    "        # c_A=self.c_subregion_m(subregion)\n",
    "        c_A=self.c_subregion_m_obs(subregion)\n",
    "        val,vec=la.eigh(1j*c_A)\n",
    "        self.val_sh=val\n",
    "        val=np.sort(val)\n",
    "        val=(1-val)/2   #\\lambda=(1-\\xi)/2\n",
    "        return np.real(-np.sum(val*np.log(val+1e-18j))-np.sum((1-val)*np.log(1-val+1e-18j)))/2\n",
    "\n",
    "    def mutual_information(self,subregion_A,subregion_B):\n",
    "        s_A=self.von_Neumann_entropy(subregion_A)\n",
    "        s_B=self.von_Neumann_entropy(subregion_B)\n",
    "        assert np.intersect1d(subregion_A,subregion_B).size==0 , \"Subregion A and B overlap\"\n",
    "        subregion_AB=np.concatenate([subregion_A,subregion_B])\n",
    "        s_AB=self.von_Neumann_entropy(subregion_AB)\n",
    "        return s_A+s_B-s_AB\n",
    "\n",
    "    def mutual_information_m(self,subregion_A,subregion_B):\n",
    "        s_A=self.von_Neumann_entropy_m(subregion_A)\n",
    "        s_B=self.von_Neumann_entropy_m(subregion_B)\n",
    "        assert np.intersect1d(subregion_A,subregion_B).size==0 , \"Subregion A and B overlap\"\n",
    "        subregion_AB=np.concatenate([subregion_A,subregion_B])\n",
    "        s_AB=self.von_Neumann_entropy_m(subregion_AB)\n",
    "        return s_A+s_B-s_AB\n",
    "\n",
    "    def measure_batch(self,batchsize,proj_range):\n",
    "        self.i_history=[]\n",
    "        self.s_history=[]\n",
    "        for _ in range(batchsize):\n",
    "            i=np.random.randint(*proj_range)\n",
    "            s=np.random.randint(0,2)\n",
    "            self.i_history.append(i)\n",
    "            self.s_history.append(s)\n",
    "            self.measure(s,i,i+1)\n",
    "\n",
    "    def measure_all(self,s_prob):\n",
    "        '''\n",
    "        The probability of s=0 (unoccupied)\n",
    "\n",
    "        '''\n",
    "        self.i_history=[]\n",
    "        self.s_history=[]\n",
    "        # proj_range=np.hstack([np.arange(int(self.L/2),self.L,2),np.arange(int(self.L/2),self.L,2)+self.L])\n",
    "        proj_range=np.hstack([np.arange(int(self.L/2),self.L,2)]) \n",
    "        # proj_range=np.hstack([np.arange(int(self.L/2),self.L)])\n",
    "        # proj_range=np.hstack([np.arange(int(self.L/2),self.L),np.arange(int(self.L/2),int(self.L/2)+2)+self.L])\n",
    "        for i in proj_range:\n",
    "            self.i_history.append(i)\n",
    "            if s_prob==0:\n",
    "                s=1\n",
    "            elif s_prob==1:\n",
    "                s=0\n",
    "            else:           \n",
    "                s=s_prob<np.random.rand()\n",
    "            self.s_history.append(s)\n",
    "            self.measure(s,i,i+1)\n",
    "\n",
    "    def measure_all_random(self,batchsize,proj_range):\n",
    "        self.i_history=[]\n",
    "        self.s_history=[]        \n",
    "        # if batchsize>proj_range.shape[0]:\n",
    "        #     raise ValueError(\"The batchsize {} cannot be larger than the proj_range {}\".format(batchsize,proj_range.shape[0]))\n",
    "        choice=np.random.choice(range(*proj_range),batchsize,replace=False)\n",
    "        for i in choice:\n",
    "            s=np.random.randint(0,2)\n",
    "            self.i_history.append(i)  \n",
    "            self.s_history.append(s)\n",
    "            self.measure(s,i,i+1)      \n",
    "\n",
    "\n",
    "    def measure_all_random_even(self,batchsize,proj_range):\n",
    "        '''\n",
    "        proj_range: (start,end) tuple\n",
    "        '''\n",
    "        self.i_history=[]\n",
    "        self.s_history=[]        \n",
    "        proj_range_even=[i//2 for i in proj_range]\n",
    "        choice=np.random.choice(range(*proj_range_even),batchsize,replace=False)\n",
    "        for i in choice:\n",
    "            s=np.random.randint(0,2)\n",
    "            self.i_history.append(2*i)  #only even is accepted \n",
    "            self.s_history.append(s)\n",
    "            self.measure(s,2*i,2*i+1)  \n",
    "        "
   ]
  },
  {
   "cell_type": "markdown",
   "metadata": {},
   "source": [
    "# Band structure"
   ]
  },
  {
   "cell_type": "code",
   "execution_count": 4,
   "metadata": {},
   "outputs": [],
   "source": [
    "params=Params(delta=-0.3,L=16,bc=0)"
   ]
  },
  {
   "cell_type": "code",
   "execution_count": 6,
   "metadata": {},
   "outputs": [],
   "source": [
    "delta_list=np.linspace(-1,1,100)\n",
    "eigvallist_f=[]\n",
    "eigvallist_m=[]\n",
    "for delta in delta_list:\n",
    "    params=Params(delta,L=16,bc=-1)\n",
    "    params.bandstructure('f')\n",
    "    params.bandstructure('m')\n",
    "    eigvallist_f.append(params.val_f)\n",
    "    eigvallist_m.append(params.val_m)\n"
   ]
  },
  {
   "cell_type": "code",
   "execution_count": 7,
   "metadata": {},
   "outputs": [
    {
     "data": {
      "image/png": "[encoded data removed]",
      "text/plain": "<Figure size 489.6x288 with 2 Axes>"
     },
     "metadata": {
      "needs_background": "light"
     },
     "output_type": "display_data"
    }
   ],
   "source": [
    "fig,ax=plt.subplots(1,2,sharey=True)\n",
    "for index in range(eigvallist_f[0].shape[0]):\n",
    "    ax[0].plot(delta_list,np.array(eigvallist_m)[:,index],'k')\n",
    "    ax[1].plot(delta_list,np.array(eigvallist_f)[:,index],'k')\n",
    "[ax.set_xlabel(r'$\\delta$') for ax in ax]\n",
    "ax[0].set_ylabel(r'$E$')\n",
    "[ax.text(.5,1,text,transform=ax.transAxes,ha='center',va='bottom') for ax,text in zip(ax,('Majorana basis','Particle-hole basis'))]\n",
    "\n",
    "fig.tight_layout()\n",
    "\n",
    "# fig.savefig('/mnt/d/kitp/Rp_SPT/3/bandstructure-apbc.pdf',bbox_inches='tight')\n"
   ]
  },
  {
   "cell_type": "code",
   "execution_count": 8,
   "metadata": {},
   "outputs": [],
   "source": [
    "delta_list=np.linspace(-1,1,100)\n",
    "eigvallist_f=[]\n",
    "eigvallist_m=[]\n",
    "for delta in delta_list:\n",
    "    params=Params(delta,L=16,bc=0)\n",
    "    params.bandstructure('f')\n",
    "    params.bandstructure('m')\n",
    "    eigvallist_f.append(params.val_f)\n",
    "    eigvallist_m.append(params.val_m)\n"
   ]
  },
  {
   "cell_type": "code",
   "execution_count": 9,
   "metadata": {},
   "outputs": [
    {
     "data": {
      "image/png": "[encoded data removed]",
      "text/plain": "<Figure size 489.6x288 with 2 Axes>"
     },
     "metadata": {
      "needs_background": "light"
     },
     "output_type": "display_data"
    }
   ],
   "source": [
    "fig,ax=plt.subplots(1,2,sharey=True)\n",
    "for index in range(eigvallist_m[0].shape[0]):\n",
    "    ax[0].plot(delta_list,np.array(eigvallist_m)[:,index],'k')\n",
    "    ax[1].plot(delta_list,np.array(eigvallist_f)[:,index],'k')\n",
    "[ax.set_xlabel(r'$\\delta$') for ax in ax]\n",
    "ax[0].set_ylabel(r'$E$')\n",
    "[ax.text(.5,1,text,transform=ax.transAxes,ha='center',va='bottom') for ax,text in zip(ax,('Majorana basis','Particle-hole basis'))]\n",
    "\n",
    "fig.tight_layout()\n",
    "\n",
    "# fig.savefig('/mnt/d/kitp/Rp_SPT/3/bandstructure-obc.pdf',bbox_inches='tight')\n"
   ]
  },
  {
   "cell_type": "markdown",
   "metadata": {},
   "source": [
    "# Covariance and Correlation matrix"
   ]
  },
  {
   "cell_type": "code",
   "execution_count": 10,
   "metadata": {},
   "outputs": [],
   "source": [
    "params=Params(delta=-0.3,L=16,bc=-1)"
   ]
  },
  {
   "cell_type": "code",
   "execution_count": 11,
   "metadata": {},
   "outputs": [],
   "source": [
    "params.covariance_matrix_m()\n",
    "params.covariance_matrix_f()"
   ]
  },
  {
   "cell_type": "code",
   "execution_count": 12,
   "metadata": {},
   "outputs": [],
   "source": [
    "l=8\n",
    "val_sub={}\n",
    "val_sub['f']=la.eigh(params.c_subregion_f(np.arange(l)),eigvals_only=True)\n",
    "val_sub['m']=la.eigh(1j*params.c_subregion_m(np.arange(2*l)),eigvals_only=True)"
   ]
  },
  {
   "cell_type": "code",
   "execution_count": 13,
   "metadata": {},
   "outputs": [
    {
     "data": {
      "image/png": "[encoded data removed]",
      "text/plain": "<Figure size 489.6x489.6 with 5 Axes>"
     },
     "metadata": {
      "needs_background": "light"
     },
     "output_type": "display_data"
    }
   ],
   "source": [
    "fig,ax=plt.subplots(2,2,figsize=(6.8,6.8))\n",
    "im0=ax[0,0].imshow(params.C_m,cmap='seismic')\n",
    "im1=ax[0,1].imshow(params.C_m@params.C_m,cmap='hot')\n",
    "ax[0,0].text(0.5,1.1,r'$\\Gamma$',transform=ax[0,0].transAxes,ha='center',va='bottom')\n",
    "ax[0,1].text(0.5,1.1,r'$\\Gamma^2$',transform=ax[0,1].transAxes,ha='center',va='bottom')\n",
    "\n",
    "\n",
    "# [ax.set_box_aspect(1) for ax in ax]\n",
    "\n",
    "axins0=ax[0,0].inset_axes([0.0, -.1, 1, 0.05],transform=ax[0,0].transAxes) \n",
    "cb0=fig.colorbar(im0,cax=axins0,orientation='horizontal')\n",
    "cb0.ax.xaxis.set_tick_params(pad=0)\n",
    "\n",
    "axins1=ax[0,1].inset_axes([0.0, -.1, 1, 0.05],transform=ax[0,1].transAxes) \n",
    "cb1=fig.colorbar(im1,cax=axins1,orientation='horizontal')\n",
    "cb1.ax.xaxis.set_tick_params(pad=0)\n",
    "\n",
    "im2=ax[1,0].imshow(params.C_f,cmap='seismic',vmax=1,vmin=-1)\n",
    "ax[1,0].text(0.5,1.1,r'$G$',transform=ax[1,0].transAxes,ha='center',va='bottom')\n",
    "axins2=ax[1,0].inset_axes([0.0, -.1, 1, 0.05],transform=ax[1,0].transAxes) \n",
    "cb2=fig.colorbar(im2,cax=axins2,orientation='horizontal')\n",
    "cb2.ax.xaxis.set_tick_params(pad=0)\n",
    "\n",
    "color = 'tab:red'\n",
    "ax[1,1].plot(val_sub['f'],'.',marker=\"x\",color=color)\n",
    "ax[1,1].set_xlabel('Number of eigenvalues')\n",
    "ax[1,1].set_ylabel(r'Eigenvalues of $G$', color=color)\n",
    "ax[1,1].tick_params(axis='y', labelcolor=color)\n",
    "\n",
    "\n",
    "ax2=ax[1,1].twinx()\n",
    "color = 'tab:blue'\n",
    "ax2.plot(val_sub['m'],'.',marker=\"+\",color=color)\n",
    "ax2.set_ylabel(r'Eigenvalues of $i\\Gamma$', color=color)  # we already handled the x-label with ax1\n",
    "ax2.tick_params(axis='y', labelcolor=color)\n",
    "\n",
    "[ax.xaxis.set_label_position('top') for ax in ax.flatten()[:3]]\n",
    "[ax.xaxis.tick_top() for ax in ax.flatten()[:3]]\n",
    "[ax.set_xticks([0,15,31]) for ax in ax.flatten()[:3]]\n",
    "[ax.set_yticks([0,15,31]) for ax in ax.flatten()[:3]]\n",
    "[ax.set_xticklabels([1,16,32]) for ax in ax.flatten()[:3]]\n",
    "[ax.set_yticklabels([1,16,32]) for ax in ax.flatten()[:3]]\n",
    "\n",
    "[ax.text(-0.,1.02,'({})'.format(text),transform=ax.transAxes,ha='right',va='bottom') for ax,text in zip(ax.flatten(),'abcd')]\n",
    "ax[1,1].set_box_aspect(1)\n",
    "fig.tight_layout()\n",
    "# fig.savefig('/mnt/d/kitp/Rp_SPT/3/cov.pdf',bbox_inches='tight')\n"
   ]
  },
  {
   "cell_type": "code",
   "execution_count": 14,
   "metadata": {},
   "outputs": [],
   "source": [
    "params=Params(delta=0.3,L=16,bc=-1)\n",
    "params.covariance_matrix_m()\n",
    "params.covariance_matrix_f()\n",
    "l=8\n",
    "val_sub={}\n",
    "val_sub['f']=la.eigh(params.c_subregion_f(np.arange(l)),eigvals_only=True)\n",
    "val_sub['m']=la.eigh(1j*params.c_subregion_m(np.arange(2*l)),eigvals_only=True)"
   ]
  },
  {
   "cell_type": "code",
   "execution_count": 15,
   "metadata": {},
   "outputs": [
    {
     "data": {
      "image/png": "[encoded data removed]",
      "text/plain": "<Figure size 489.6x489.6 with 5 Axes>"
     },
     "metadata": {
      "needs_background": "light"
     },
     "output_type": "display_data"
    }
   ],
   "source": [
    "fig,ax=plt.subplots(2,2,figsize=(6.8,6.8))\n",
    "im0=ax[0,0].imshow(params.C_m,cmap='seismic')\n",
    "im1=ax[0,1].imshow(params.C_m@params.C_m,cmap='hot')\n",
    "ax[0,0].text(0.5,1.1,r'$\\Gamma$',transform=ax[0,0].transAxes,ha='center',va='bottom')\n",
    "ax[0,1].text(0.5,1.1,r'$\\Gamma^2$',transform=ax[0,1].transAxes,ha='center',va='bottom')\n",
    "\n",
    "\n",
    "# [ax.set_box_aspect(1) for ax in ax]\n",
    "\n",
    "axins0=ax[0,0].inset_axes([0.0, -.1, 1, 0.05],transform=ax[0,0].transAxes) \n",
    "cb0=fig.colorbar(im0,cax=axins0,orientation='horizontal')\n",
    "cb0.ax.xaxis.set_tick_params(pad=0)\n",
    "\n",
    "axins1=ax[0,1].inset_axes([0.0, -.1, 1, 0.05],transform=ax[0,1].transAxes) \n",
    "cb1=fig.colorbar(im1,cax=axins1,orientation='horizontal')\n",
    "cb1.ax.xaxis.set_tick_params(pad=0)\n",
    "\n",
    "im2=ax[1,0].imshow(params.C_f,cmap='seismic',vmax=1,vmin=-1)\n",
    "ax[1,0].text(0.5,1.1,r'$G$',transform=ax[1,0].transAxes,ha='center',va='bottom')\n",
    "axins2=ax[1,0].inset_axes([0.0, -.1, 1, 0.05],transform=ax[1,0].transAxes) \n",
    "cb2=fig.colorbar(im2,cax=axins2,orientation='horizontal')\n",
    "cb2.ax.xaxis.set_tick_params(pad=0)\n",
    "\n",
    "color = 'tab:red'\n",
    "ax[1,1].plot(val_sub['f'],'.',marker=\"x\",color=color)\n",
    "ax[1,1].set_xlabel('Number of eigenvalues')\n",
    "ax[1,1].set_ylabel(r'Eigenvalues of $G$', color=color)\n",
    "ax[1,1].tick_params(axis='y', labelcolor=color)\n",
    "\n",
    "\n",
    "ax2=ax[1,1].twinx()\n",
    "color = 'tab:blue'\n",
    "ax2.plot(val_sub['m'],'.',marker=\"+\",color=color)\n",
    "ax2.set_ylabel(r'Eigenvalues of $i\\Gamma$', color=color)  # we already handled the x-label with ax1\n",
    "ax2.tick_params(axis='y', labelcolor=color)\n",
    "\n",
    "[ax.xaxis.set_label_position('top') for ax in ax.flatten()[:3]]\n",
    "[ax.xaxis.tick_top() for ax in ax.flatten()[:3]]\n",
    "[ax.set_xticks([0,15,31]) for ax in ax.flatten()[:3]]\n",
    "[ax.set_yticks([0,15,31]) for ax in ax.flatten()[:3]]\n",
    "[ax.set_xticklabels([1,16,32]) for ax in ax.flatten()[:3]]\n",
    "[ax.set_yticklabels([1,16,32]) for ax in ax.flatten()[:3]]\n",
    "\n",
    "[ax.text(-0.,1.02,'({})'.format(text),transform=ax.transAxes,ha='right',va='bottom') for ax,text in zip(ax.flatten(),'abcd')]\n",
    "ax[1,1].set_box_aspect(1)\n",
    "fig.tight_layout()\n",
    "# fig.savefig('/mnt/d/kitp/Rp_SPT/4/cov.pdf',bbox_inches='tight')\n"
   ]
  },
  {
   "cell_type": "markdown",
   "metadata": {},
   "source": [
    "# Mutual information"
   ]
  },
  {
   "cell_type": "code",
   "execution_count": 16,
   "metadata": {},
   "outputs": [],
   "source": [
    "delta_list=np.linspace(-1,1,100)**5\n",
    "mutual_info_list=[]\n",
    "for delta in delta_list:\n",
    "    params=Params(delta=delta,L=64,bc=-1)\n",
    "    mutual_info_list.append(params.mutual_information_m(np.arange(2),np.arange(2)+30))"
   ]
  },
  {
   "cell_type": "code",
   "execution_count": 17,
   "metadata": {},
   "outputs": [
    {
     "data": {
      "text/plain": "[<matplotlib.lines.Line2D at 0x7ff43273e610>]"
     },
     "execution_count": 17,
     "metadata": {},
     "output_type": "execute_result"
    },
    {
     "data": {
      "image/png": "[encoded data removed]",
      "text/plain": "<Figure size 489.6x288 with 1 Axes>"
     },
     "metadata": {
      "needs_background": "light"
     },
     "output_type": "display_data"
    }
   ],
   "source": [
    "plt.plot(delta_list,mutual_info_list/np.log(2))"
   ]
  },
  {
   "cell_type": "markdown",
   "metadata": {},
   "source": [
    "# Profiling"
   ]
  },
  {
   "cell_type": "code",
   "execution_count": 559,
   "metadata": {},
   "outputs": [
    {
     "data": {
      "text/plain": "matrix([[0.+0.j, 0.+0.j, 0.+0.j, ..., 0.+0.j, 0.+0.j, 0.+0.j],\n        [0.+0.j, 0.+0.j, 0.+0.j, ..., 0.+0.j, 0.+0.j, 0.+0.j],\n        [0.+0.j, 0.+0.j, 0.+0.j, ..., 0.+0.j, 0.+0.j, 0.+0.j],\n        ...,\n        [0.+0.j, 0.+0.j, 0.+0.j, ..., 0.+0.j, 0.+0.j, 0.+0.j],\n        [0.+0.j, 0.+0.j, 0.+0.j, ..., 0.+0.j, 0.+0.j, 0.+0.j],\n        [0.+0.j, 0.+0.j, 0.+0.j, ..., 0.+0.j, 0.+0.j, 0.+0.j]])"
     },
     "execution_count": 559,
     "metadata": {},
     "output_type": "execute_result"
    }
   ],
   "source": [
    "p_n.Hamiltonian_m-p_o.Hamiltonian_m"
   ]
  },
  {
   "cell_type": "code",
   "execution_count": 560,
   "metadata": {},
   "outputs": [
    {
     "name": "stdout",
     "output_type": "stream",
     "text": [
      "0.0064029693603515625\n"
     ]
    },
    {
     "name": "stdout",
     "output_type": "stream",
     "text": [
      "Timer unit: 1e-06 s\n",
      "\n",
      "Total time: 0.003234 s\n",
      "File: <ipython-input-557-17d109a854ab>\n",
      "Function: __init__ at line 11\n",
      "\n",
      "Line #      Hits         Time  Per Hit   % Time  Line Contents\n",
      "==============================================================\n",
      "    11                                               def __init__(self,\n",
      "    12                                               delta=0,    \n",
      "    13                                               L=100,\n",
      "    14                                               T=0,\n",
      "    15                                               bc=1,    # 0: open boundary condition; >0: PBC; <0: APBC\n",
      "    16                                               basis='mf'    # 'generate Hamiltonian of fermionic ('f') and Majorana basis ('m') or both ('mf')\n",
      "    17                                               ):\n",
      "    18         1          3.0      3.0      0.1          self.delta=delta\n",
      "    19         1          1.0      1.0      0.0          self.mu=2*(1-delta)\n",
      "    20         1          1.0      1.0      0.0          self.t=-(1+delta)\n",
      "    21         1          1.0      1.0      0.0          self.Delta=-(1+delta)\n",
      "    22         1          1.0      1.0      0.0          self.L=L\n",
      "    23         1         16.0     16.0      0.5          self.tau_z=np.array([[1,0],[0,-1]])\n",
      "    24         1          7.0      7.0      0.2          self.tau_y=np.array([[0,-1j],[1j,0]])\n",
      "    25         1          1.0      1.0      0.0          self.bc=bc\n",
      "    26         1          1.0      1.0      0.0          self.T=T\n",
      "    27         1          1.0      1.0      0.0          if 'f' in basis:\n",
      "    28         1         76.0     76.0      2.4              band1sm=np.diag(np.ones(L-1),1)\n",
      "    29         1         18.0     18.0      0.6              band1sm[-1,0]=1*(2*np.heaviside(bc,1/2)-1)\n",
      "    30         1         35.0     35.0      1.1              id_mat=np.eye(L)\n",
      "    31                                                       # Hamiltonian in the ferimion basis\n",
      "    32         2       2112.0   1056.0     65.3              self.Hamiltonian_f=np.block([[-self.mu*id_mat-self.t*(band1sm+band1sm.T),-self.Delta*(band1sm-band1sm.T)],\n",
      "    33         1        415.0    415.0     12.8                                          [self.Delta*(band1sm-band1sm.T),self.mu*id_mat+self.t*(band1sm+band1sm.T)]])\n",
      "    34                                                       # BdG Hamiltonian back to original        \n",
      "    35         1         42.0     42.0      1.3              self.Hamiltonian_f/=2\n",
      "    36                                           \n",
      "    37         1          1.0      1.0      0.0          if 'm' in basis:    \n",
      "    38                                                       # Hamiltonian in the Majorana basis\n",
      "    39         1        182.0    182.0      5.6              band=np.vstack([np.ones(L)*(1-delta)*1j,np.ones(L)*(1+delta)*1j]).flatten('F')\n",
      "    40         1        142.0    142.0      4.4              Ham=np.diag(band[:-1],-1)\n",
      "    41         1          7.0      7.0      0.2              Ham[0,-1]=(1+delta)*1j*bc\n",
      "    42         1        167.0    167.0      5.2              Ham=Ham+Ham.conj().T\n",
      "    43                                                       # Ham=sp.diags(np.array([band[:-1],band[:-1].conj()]),np.array([-1,1]),shape=(2*L,2*L)).tocsr()\n",
      "    44                                                       # Ham[0,-1]=(1+delta)*1j*bc\n",
      "    45                                                       # Ham[-1,0]=-(1+delta)*1j*bc\n",
      "    46         1          4.0      4.0      0.1              self.Hamiltonian_m=Ham"
     ]
    }
   ],
   "source": [
    "st=time.time()\n",
    "%lprun -f Params.__init__ p_n=Params(delta=0,L=64,bc=-1,basis='mf')\n",
    "# params.measure_all_random_even(16,(int(params.L/2),params.L))\n",
    "print((time.time()-st))"
   ]
  },
  {
   "cell_type": "code",
   "execution_count": 526,
   "metadata": {},
   "outputs": [
    {
     "name": "stdout",
     "output_type": "stream",
     "text": [
      "0.021459102630615234\n"
     ]
    },
    {
     "name": "stderr",
     "output_type": "stream",
     "text": [
      "/home/jake/anaconda3/lib/python3.8/site-packages/scipy/sparse/_index.py:82: SparseEfficiencyWarning: Changing the sparsity structure of a csr_matrix is expensive. lil_matrix is more efficient.\n",
      "  self._set_intXint(row, col, x.flat[0])\n"
     ]
    },
    {
     "name": "stdout",
     "output_type": "stream",
     "text": [
      "Timer unit: 1e-06 s\n",
      "\n",
      "Total time: 0.017869 s\n",
      "File: <ipython-input-525-de6be1346c5d>\n",
      "Function: __init__ at line 42\n",
      "\n",
      "Line #      Hits         Time  Per Hit   % Time  Line Contents\n",
      "==============================================================\n",
      "    42                                               def __init__(self,\n",
      "    43                                               delta=0,    \n",
      "    44                                               L=100,\n",
      "    45                                               T=0,\n",
      "    46                                               bc=1    # 0: open boundary condition; >0: PBC; <0: APBC\n",
      "    47                                               ):\n",
      "    48         1          2.0      2.0      0.0          self.delta=delta\n",
      "    49         1          2.0      2.0      0.0          self.mu=2*(1-delta)\n",
      "    50         1          1.0      1.0      0.0          self.t=-(1+delta)\n",
      "    51         1          1.0      1.0      0.0          self.Delta=-(1+delta)\n",
      "    52         1          0.0      0.0      0.0          self.L=L\n",
      "    53         1       1279.0   1279.0      7.2          self.tau_z=sp.dia_matrix(np.diag([1,-1]))\n",
      "    54         1       1846.0   1846.0     10.3          self.tau_y=sp.dia_matrix(np.array([[0,-1j],[1j,0]]))\n",
      "    55         1          2.0      2.0      0.0          self.bc=bc\n",
      "    56         1          1.0      1.0      0.0          self.T=T\n",
      "    57         1        990.0    990.0      5.5          self.band1sm=sp.diags([1],[1],(L,L)).tocsr()\n",
      "    58         1       1168.0   1168.0      6.5          self.bandm1sm=sp.diags([1],[-1],(L,L)).tocsr()\n",
      "    59         1       1023.0   1023.0      5.7          self.band1sm[-1,0]=1*(2*np.heaviside(bc,1/2)-1)\n",
      "    60         1        948.0    948.0      5.3          self.bandm1sm[0,-1]=1*(2*np.heaviside(bc,1/2)-1)\n",
      "    61                                                   # Hamiltonian in the ferimion basis\n",
      "    62         1       8751.0   8751.0     49.0          self.Hamiltonian_f=-self.mu*sp.kron(self.tau_z,sp.identity(self.L))-sp.kron(self.t*self.tau_z+1j*self.Delta*self.tau_y,self.band1sm)-sp.kron(self.t*self.tau_z-1j*self.Delta*self.tau_y,self.bandm1sm)\n",
      "    63                                                   # BdG Hamiltonian back to original\n",
      "    64                                                   \n",
      "    65         1         15.0     15.0      0.1          self.Hamiltonian_f/=2\n",
      "    66                                                   # Hamiltonian in the Majorana basis\n",
      "    67         1        364.0    364.0      2.0          band=np.vstack([np.ones(L)*(1-delta)*1j,np.ones(L)*(1+delta)*1j]).flatten('F')\n",
      "    68         1        550.0    550.0      3.1          Ham=sp.diags(np.array([band[:-1],band[:-1].conj()]),np.array([-1,1]),shape=(2*L,2*L)).tocsr()\n",
      "    69         1        519.0    519.0      2.9          Ham[0,-1]=(1+delta)*1j*bc\n",
      "    70         1        405.0    405.0      2.3          Ham[-1,0]=-(1+delta)*1j*bc\n",
      "    71         1          2.0      2.0      0.0          self.Hamiltonian_m=Ham"
     ]
    }
   ],
   "source": [
    "st=time.time()\n",
    "%lprun -f Params.__init__ p_o=Params(delta=0,L=64,bc=-1)\n",
    "# params.measure_all_random_even(16,(int(params.L/2),params.L))\n",
    "print(time.time()-st)"
   ]
  },
  {
   "cell_type": "code",
   "execution_count": 503,
   "metadata": {},
   "outputs": [
    {
     "name": "stdout",
     "output_type": "stream",
     "text": [
      "0.02645087242126465\n"
     ]
    },
    {
     "name": "stderr",
     "output_type": "stream",
     "text": [
      "/home/jake/anaconda3/lib/python3.8/site-packages/scipy/sparse/_index.py:82: SparseEfficiencyWarning: Changing the sparsity structure of a csr_matrix is expensive. lil_matrix is more efficient.\n",
      "  self._set_intXint(row, col, x.flat[0])\n"
     ]
    },
    {
     "name": "stdout",
     "output_type": "stream",
     "text": [
      "Timer unit: 1e-06 s\n",
      "\n",
      "Total time: 0.022722 s\n",
      "File: <ipython-input-397-4e89c48193fa>\n",
      "Function: __init__ at line 11\n",
      "\n",
      "Line #      Hits         Time  Per Hit   % Time  Line Contents\n",
      "==============================================================\n",
      "    11                                               def __init__(self,\n",
      "    12                                               delta=0,    \n",
      "    13                                               L=100,\n",
      "    14                                               T=0,\n",
      "    15                                               bc=1    # 0: open boundary condition; >0: PBC; <0: APBC\n",
      "    16                                               ):\n",
      "    17         1          3.0      3.0      0.0          self.delta=delta\n",
      "    18         1         16.0     16.0      0.1          self.mu=2*(1-delta)\n",
      "    19         1          1.0      1.0      0.0          self.t=-(1+delta)\n",
      "    20         1          1.0      1.0      0.0          self.Delta=-(1+delta)\n",
      "    21         1          1.0      1.0      0.0          self.L=L\n",
      "    22         1       2447.0   2447.0     10.8          self.tau_z=sp.dia_matrix(np.diag([1,-1]))\n",
      "    23         1       1385.0   1385.0      6.1          self.tau_y=sp.dia_matrix(np.array([[0,-1j],[1j,0]]))\n",
      "    24         1          2.0      2.0      0.0          self.bc=bc\n",
      "    25         1          1.0      1.0      0.0          self.T=T\n",
      "    26         1       1363.0   1363.0      6.0          self.band1sm=sp.diags([1],[1],(L,L)).tocsr()\n",
      "    27         1       1151.0   1151.0      5.1          self.bandm1sm=sp.diags([1],[-1],(L,L)).tocsr()\n",
      "    28         1       1529.0   1529.0      6.7          self.band1sm[-1,0]=1*(2*np.heaviside(bc,1/2)-1)\n",
      "    29         1       1346.0   1346.0      5.9          self.bandm1sm[0,-1]=1*(2*np.heaviside(bc,1/2)-1)\n",
      "    30                                                   # Hamiltonian in the ferimion basis\n",
      "    31         1      11352.0  11352.0     50.0          self.Hamiltonian_f=-self.mu*sp.kron(self.tau_z,sp.identity(self.L))-sp.kron(self.t*self.tau_z+1j*self.Delta*self.tau_y,self.band1sm)-sp.kron(self.t*self.tau_z-1j*self.Delta*self.tau_y,self.bandm1sm)\n",
      "    32                                                   # BdG Hamiltonian back to original\n",
      "    33                                                   \n",
      "    34         1         22.0     22.0      0.1          self.Hamiltonian_f/=2\n",
      "    35                                                   # Hamiltonian in the Majorana basis\n",
      "    36         1         83.0     83.0      0.4          band=np.vstack([np.ones(L)*(1-delta)*1j,np.ones(L)*(1+delta)*1j]).flatten('F')\n",
      "    37         1        998.0    998.0      4.4          Ham=sp.diags(np.array([band[:-1],band[:-1].conj()]),np.array([-1,1]),shape=(2*L,2*L)).tocsr()\n",
      "    38         1        597.0    597.0      2.6          Ham[0,-1]=(1+delta)*1j*bc\n",
      "    39         1        421.0    421.0      1.9          Ham[-1,0]=-(1+delta)*1j*bc\n",
      "    40         1          3.0      3.0      0.0          self.Hamiltonian_m=Ham"
     ]
    }
   ],
   "source": [
    "st=time.time()\n",
    "%lprun -f Params.__init__ Params(delta=0,L=64,bc=-1)\n",
    "# params.measure_all_random_even(16,(int(params.L/2),params.L))\n",
    "print(time.time()-st)"
   ]
  },
  {
   "cell_type": "code",
   "execution_count": 476,
   "metadata": {},
   "outputs": [
    {
     "data": {
      "text/plain": "array([32, 34, 36, 38, 40, 42, 44, 46, 48, 50, 52, 54, 56, 58, 60, 62])"
     },
     "execution_count": 476,
     "metadata": {},
     "output_type": "execute_result"
    }
   ],
   "source": [
    "np.sort(params.i_history)"
   ]
  },
  {
   "cell_type": "code",
   "execution_count": 477,
   "metadata": {},
   "outputs": [
    {
     "data": {
      "text/plain": "[0, 0, 0, 1, 1, 0, 1, 1, 1, 1, 0, 1, 0, 1, 0, 0]"
     },
     "execution_count": 477,
     "metadata": {},
     "output_type": "execute_result"
    }
   ],
   "source": [
    "params.s_history"
   ]
  },
  {
   "cell_type": "code",
   "execution_count": 401,
   "metadata": {},
   "outputs": [
    {
     "name": "stdout",
     "output_type": "stream",
     "text": [
      "Timer unit: 1e-06 s\n",
      "\n",
      "Total time: 0.015792 s\n",
      "File: <ipython-input-397-4e89c48193fa>\n",
      "Function: measure_all_random_even at line 325\n",
      "\n",
      "Line #      Hits         Time  Per Hit   % Time  Line Contents\n",
      "==============================================================\n",
      "   325                                               def measure_all_random_even(self,batchsize,proj_range):\n",
      "   326                                                   '''\n",
      "   327                                                   proj_range: (start,end) tuple\n",
      "   328                                                   '''\n",
      "   329         1          2.0      2.0      0.0          self.i_history=[]\n",
      "   330         1          1.0      1.0      0.0          self.s_history=[]        \n",
      "   331         1          2.0      2.0      0.0          proj_range_even=[i//2 for i in proj_range]\n",
      "   332         1         70.0     70.0      0.4          choice=np.random.choice(range(*proj_range_even),batchsize,replace=False)\n",
      "   333        13         38.0      2.9      0.2          for i in choice:\n",
      "   334        12        197.0     16.4      1.2              s=np.random.randint(0,2)\n",
      "   335        12         23.0      1.9      0.1              self.i_history.append(2*i)  #only even is accepted \n",
      "   336        12         11.0      0.9      0.1              self.s_history.append(s)\n",
      "   337        12      15448.0   1287.3     97.8              self.measure(s,2*i,2*i+1)"
     ]
    }
   ],
   "source": [
    "params=Params(delta=delta,L=64,bc=-1)\n",
    "%lprun -f params.measure_all_random_even params.measure_all_random_even(12,(int(params.L/2),params.L))"
   ]
  },
  {
   "cell_type": "code",
   "execution_count": 115,
   "metadata": {},
   "outputs": [
    {
     "name": "stdout",
     "output_type": "stream",
     "text": [
      "12\n"
     ]
    }
   ],
   "source": [
    "%%prun\n",
    "delta_dict={}\n",
    "mutual_info_dis_dict={}\n",
    "for i in (12,):\n",
    "    print(i)\n",
    "    delta_dict[i],mutual_info_dis_dict[i]=mutual_info_run(i)"
   ]
  },
  {
   "cell_type": "code",
   "execution_count": 610,
   "metadata": {},
   "outputs": [
    {
     "name": "stdout",
     "output_type": "stream",
     "text": [
      "[[ 0  1  2  3  4]\n",
      " [ 5  6  7  8  9]\n",
      " [10 11 12 13 14]\n",
      " [15 16 17 18 19]\n",
      " [20 21 22 23 24]]\n"
     ]
    }
   ],
   "source": [
    "m = range(25)\n",
    "m =np.reshape(m,(5,5))\n",
    "print(m)"
   ]
  },
  {
   "cell_type": "code",
   "execution_count": 616,
   "metadata": {},
   "outputs": [
    {
     "data": {
      "text/plain": "array([[ 5,  8,  7,  6,  9],\n       [15, 18, 17, 16, 19]])"
     },
     "execution_count": 616,
     "metadata": {},
     "output_type": "execute_result"
    }
   ],
   "source": [
    "m[[1,-2],:]"
   ]
  },
  {
   "cell_type": "code",
   "execution_count": 614,
   "metadata": {},
   "outputs": [],
   "source": [
    "m[:,[1,-2]]=m[:,[-2,1]]"
   ]
  },
  {
   "cell_type": "code",
   "execution_count": 615,
   "metadata": {},
   "outputs": [
    {
     "name": "stdout",
     "output_type": "stream",
     "text": [
      "[[ 0  3  2  1  4]\n",
      " [ 5  8  7  6  9]\n",
      " [10 13 12 11 14]\n",
      " [15 18 17 16 19]\n",
      " [20 23 22 21 24]]\n"
     ]
    }
   ],
   "source": [
    "print(m)"
   ]
  },
  {
   "cell_type": "code",
   "execution_count": 201,
   "metadata": {},
   "outputs": [
    {
     "name": "stdout",
     "output_type": "stream",
     "text": [
      "[[ 0  2  3  4  1]\n",
      " [10 12 13 14 11]\n",
      " [15 17 18 19 16]\n",
      " [20 22 23 24 21]\n",
      " [ 5  7  8  9  6]]\n"
     ]
    }
   ],
   "source": [
    "idx=1\n",
    "m[idx:,:]=np.roll(m[idx:,:],-1,0)\n",
    "m[:,idx:]=np.roll(m[:,idx:],-1,1)\n",
    "print(m)"
   ]
  },
  {
   "cell_type": "code",
   "execution_count": 202,
   "metadata": {},
   "outputs": [
    {
     "name": "stdout",
     "output_type": "stream",
     "text": [
      "[[ 0  2  4  1  3]\n",
      " [10 12 14 11 13]\n",
      " [20 22 24 21 23]\n",
      " [ 5  7  9  6  8]\n",
      " [15 17 19 16 18]]\n"
     ]
    }
   ],
   "source": [
    "jdx=2\n",
    "m[jdx:,:]=np.roll(m[jdx:,:],-1,0)\n",
    "m[:,jdx:]=np.roll(m[:,jdx:],-1,1)\n",
    "print(m)"
   ]
  },
  {
   "cell_type": "code",
   "execution_count": 203,
   "metadata": {},
   "outputs": [
    {
     "name": "stdout",
     "output_type": "stream",
     "text": [
      "[[ 0  2  3  4  1]\n",
      " [10 12 13 14 11]\n",
      " [15 17 18 19 16]\n",
      " [20 22 23 24 21]\n",
      " [ 5  7  8  9  6]]\n"
     ]
    }
   ],
   "source": [
    "m[jdx:,:]=np.roll(m[jdx:,:],1,0)\n",
    "m[:,jdx:]=np.roll(m[:,jdx:],1,1)\n",
    "print(m)"
   ]
  },
  {
   "cell_type": "code",
   "execution_count": 204,
   "metadata": {},
   "outputs": [
    {
     "name": "stdout",
     "output_type": "stream",
     "text": [
      "[[ 0  1  2  3  4]\n",
      " [ 5  6  7  8  9]\n",
      " [10 11 12 13 14]\n",
      " [15 16 17 18 19]\n",
      " [20 21 22 23 24]]\n"
     ]
    }
   ],
   "source": [
    "m[idx:,:]=np.roll(m[idx:,:],1,0)\n",
    "m[:,idx:]=np.roll(m[:,idx:],1,1)\n",
    "print(m)"
   ]
  },
  {
   "cell_type": "code",
   "execution_count": 155,
   "metadata": {},
   "outputs": [
    {
     "data": {
      "text/plain": "array([[ 4,  0,  1,  2,  3],\n       [ 9,  5,  6,  7,  8],\n       [14, 10, 11, 12, 13],\n       [19, 15, 16, 17, 18],\n       [24, 20, 21, 22, 23]])"
     },
     "execution_count": 155,
     "metadata": {},
     "output_type": "execute_result"
    }
   ],
   "source": [
    "np.roll(m,1,axis=1)"
   ]
  },
  {
   "cell_type": "code",
   "execution_count": 148,
   "metadata": {},
   "outputs": [
    {
     "data": {
      "text/plain": "array([3, 1, 2])"
     },
     "execution_count": 148,
     "metadata": {},
     "output_type": "execute_result"
    }
   ],
   "source": [
    "np.roll(m[row][:column+1], 1)"
   ]
  },
  {
   "cell_type": "code",
   "execution_count": 630,
   "metadata": {},
   "outputs": [
    {
     "name": "stderr",
     "output_type": "stream",
     "text": [
      "/home/jake/anaconda3/lib/python3.8/site-packages/scipy/sparse/_index.py:82: SparseEfficiencyWarning: Changing the sparsity structure of a csr_matrix is expensive. lil_matrix is more efficient.\n",
      "  self._set_intXint(row, col, x.flat[0])\n"
     ]
    }
   ],
   "source": [
    "params=Params(delta=0.3,L=64,bc=-1)\n",
    "params.covariance_matrix_m()\n",
    "z1=(params.C_m_history)\n",
    "params.measure_obs(0,2,3)\n",
    "params.measure_obs(0,12,13)\n",
    "z11=params.C_m_history"
   ]
  },
  {
   "cell_type": "code",
   "execution_count": 629,
   "metadata": {},
   "outputs": [],
   "source": [
    "params2=Params(delta=0.3,L=64,bc=-1)\n",
    "params2.covariance_matrix_m()\n",
    "z2=params2.C_m_history\n",
    "params2.measure(0,2,3)\n",
    "params2.measure(0,12,13)\n",
    "z21=params2.C_m_history"
   ]
  },
  {
   "cell_type": "code",
   "execution_count": 628,
   "metadata": {},
   "outputs": [],
   "source": [
    "params3=Params(delta=0.3,L=64,bc=-1)\n",
    "params3.covariance_matrix_m()\n",
    "z3=(params3.C_m_history)\n",
    "params3.measure_new(0,2,3)\n",
    "params3.measure_new(0,12,13)\n",
    "z31=params3.C_m_history"
   ]
  },
  {
   "cell_type": "code",
   "execution_count": null,
   "metadata": {},
   "outputs": [],
   "source": [
    "params.m"
   ]
  },
  {
   "cell_type": "code",
   "execution_count": null,
   "metadata": {},
   "outputs": [],
   "source": [
    "params2.m"
   ]
  },
  {
   "cell_type": "code",
   "execution_count": 358,
   "metadata": {},
   "outputs": [
    {
     "data": {
      "text/plain": "1.0369075543018473"
     },
     "execution_count": 358,
     "metadata": {},
     "output_type": "execute_result"
    }
   ],
   "source": [
    "(params.m-params2.m).max()"
   ]
  },
  {
   "cell_type": "code",
   "execution_count": null,
   "metadata": {},
   "outputs": [],
   "source": [
    "z1[0]-z2[0]"
   ]
  },
  {
   "cell_type": "code",
   "execution_count": 637,
   "metadata": {},
   "outputs": [
    {
     "data": {
      "text/plain": "array([[0., 0., 0., ..., 0., 0., 0.],\n       [0., 0., 0., ..., 0., 0., 0.],\n       [0., 0., 0., ..., 0., 0., 0.],\n       ...,\n       [0., 0., 0., ..., 0., 0., 0.],\n       [0., 0., 0., ..., 0., 0., 0.],\n       [0., 0., 0., ..., 0., 0., 0.]])"
     },
     "execution_count": 637,
     "metadata": {},
     "output_type": "execute_result"
    }
   ],
   "source": [
    "z1[-3]-z2[-3]"
   ]
  },
  {
   "cell_type": "code",
   "execution_count": 640,
   "metadata": {},
   "outputs": [
    {
     "data": {
      "text/plain": "array([[0., 0., 0., ..., 0., 0., 0.],\n       [0., 0., 0., ..., 0., 0., 0.],\n       [0., 0., 0., ..., 0., 0., 0.],\n       ...,\n       [0., 0., 0., ..., 0., 0., 0.],\n       [0., 0., 0., ..., 0., 0., 0.],\n       [0., 0., 0., ..., 0., 0., 0.]])"
     },
     "execution_count": 640,
     "metadata": {},
     "output_type": "execute_result"
    }
   ],
   "source": [
    "z3[-1]-z2[-1]"
   ]
  },
  {
   "cell_type": "code",
   "execution_count": null,
   "metadata": {},
   "outputs": [],
   "source": [
    "z11[0]-z1[0]"
   ]
  },
  {
   "cell_type": "code",
   "execution_count": null,
   "metadata": {},
   "outputs": [],
   "source": [
    "z21[0]-z2[0]"
   ]
  },
  {
   "cell_type": "code",
   "execution_count": null,
   "metadata": {},
   "outputs": [],
   "source": [
    "(z2[-1]-z1[-1]).max()"
   ]
  },
  {
   "cell_type": "code",
   "execution_count": null,
   "metadata": {},
   "outputs": [],
   "source": [
    "params2.C_m_history[0]-params.C_m_history[0]\n"
   ]
  },
  {
   "cell_type": "code",
   "execution_count": 399,
   "metadata": {},
   "outputs": [
    {
     "name": "stdout",
     "output_type": "stream",
     "text": [
      "Timer unit: 1e-06 s\n",
      "\n",
      "Total time: 2.3e-05 s\n",
      "File: <ipython-input-397-4e89c48193fa>\n",
      "Function: projection at line 97\n",
      "\n",
      "Line #      Hits         Time  Per Hit   % Time  Line Contents\n",
      "==============================================================\n",
      "    97                                               def projection(self,s):\n",
      "    98                                                   '''\n",
      "    99                                                   s= 0,1 occupancy number\n",
      "   100                                                   i,j: adjacent pair of Majorana\n",
      "   101                                                   flow is from alpha_{i,j} to gamma_{i,j}\n",
      "   102                                           \n",
      "   103                                                   return: the basis are ordered as gamma_i,gamma_j,alpha_j,alpha_i\n",
      "   104                                                   '''\n",
      "   105         1          1.0      1.0      4.3          assert (s==0 or s==1),\"s={} is either 0 or 1\".format(s)\n",
      "   106                                                   # blkmat=(np.array([[0,-(-1)**s],[(-1)**s,0]]))\n",
      "   107                                                   # zero=np.zeros((2,2))\n",
      "   108         2         18.0      9.0     78.3          blkmat=np.array([[0,-(-1)**s,0,0],\n",
      "   109         1          1.0      1.0      4.3                          [(-1)**s,0,0,0],\n",
      "   110         1          1.0      1.0      4.3                          [0,0,0,(-1)**s],\n",
      "   111         1          1.0      1.0      4.3                          [0,0,-(-1)**s,0]])\n",
      "   112                                                   # return np.block([[blkmat,zero],[zero,blkmat.T]])\n",
      "   113         1          1.0      1.0      4.3          return blkmat"
     ]
    }
   ],
   "source": [
    "params=Params(delta=delta,L=64,bc=-1)\n",
    "%lprun -f params.projection params.projection(1)"
   ]
  },
  {
   "cell_type": "code",
   "execution_count": 394,
   "metadata": {},
   "outputs": [
    {
     "name": "stdout",
     "output_type": "stream",
     "text": [
      "Timer unit: 1e-06 s\n",
      "\n",
      "Total time: 0.000199 s\n",
      "File: <ipython-input-393-3a556dec652e>\n",
      "Function: projection at line 97\n",
      "\n",
      "Line #      Hits         Time  Per Hit   % Time  Line Contents\n",
      "==============================================================\n",
      "    97                                               def projection(self,s):\n",
      "    98                                                   '''\n",
      "    99                                                   s= 0,1 occupancy number\n",
      "   100                                                   i,j: adjacent pair of Majorana\n",
      "   101                                                   flow is from alpha_{i,j} to gamma_{i,j}\n",
      "   102                                           \n",
      "   103                                                   return: the basis are ordered as gamma_i,gamma_j,alpha_j,alpha_i\n",
      "   104                                                   '''\n",
      "   105         1          1.0      1.0      0.5          assert (s==0 or s==1),\"s={} is either 0 or 1\".format(s)\n",
      "   106         1         10.0     10.0      5.0          blkmat=(np.array([[0,-(1-2*s)],[(1-2*s),0]]))\n",
      "   107         1          1.0      1.0      0.5          zero=np.zeros((2,2))\n",
      "   108                                                   # blkmat=np.array([[0,]])   \n",
      "   109         1        187.0    187.0     94.0          return np.block([[blkmat,zero],[zero,blkmat.T]])"
     ]
    }
   ],
   "source": [
    "params=Params(delta=delta,L=64,bc=-1)\n",
    "%lprun -f params.projection params.projection(1)"
   ]
  },
  {
   "cell_type": "code",
   "execution_count": 382,
   "metadata": {},
   "outputs": [
    {
     "name": "stderr",
     "output_type": "stream",
     "text": [
      "/home/jake/anaconda3/lib/python3.8/site-packages/scipy/sparse/_index.py:82: SparseEfficiencyWarning: Changing the sparsity structure of a csr_matrix is expensive. lil_matrix is more efficient.\n",
      "  self._set_intXint(row, col, x.flat[0])\n"
     ]
    },
    {
     "name": "stdout",
     "output_type": "stream",
     "text": [
      "Timer unit: 1e-06 s\n",
      "\n",
      "Total time: 0.000966 s\n",
      "File: <ipython-input-380-d10d7359a7fb>\n",
      "Function: projection at line 85\n",
      "\n",
      "Line #      Hits         Time  Per Hit   % Time  Line Contents\n",
      "==============================================================\n",
      "    85                                               def projection(self,s):\n",
      "    86                                                   '''\n",
      "    87                                                   s= 0,1 occupancy number\n",
      "    88                                                   i,j: adjacent pair of Majorana\n",
      "    89                                                   flow is from alpha_{i,j} to gamma_{i,j}\n",
      "    90                                           \n",
      "    91                                                   return: the basis are ordered as gamma_i,gamma_j,alpha_j,alpha_i\n",
      "    92                                                   '''\n",
      "    93         1          1.0      1.0      0.1          assert (s==0 or s==1),\"s={} is either 0 or 1\".format(s)\n",
      "    94         1         10.0     10.0      1.0          blkmat=(np.array([[0,-(-1)**s],[(-1)**s,0]]))\n",
      "    95         1        955.0    955.0     98.9          return sp.bmat([[blkmat,None],[None,blkmat.T]]).toarray()"
     ]
    }
   ],
   "source": [
    "params=Params(delta=delta,L=64,bc=-1)\n",
    "%lprun -f params.projection params.projection(1)"
   ]
  },
  {
   "cell_type": "code",
   "execution_count": 592,
   "metadata": {},
   "outputs": [
    {
     "name": "stdout",
     "output_type": "stream",
     "text": [
      "Timer unit: 1e-06 s\n",
      "\n",
      "Total time: 0.008973 s\n",
      "File: <ipython-input-577-7f5542689ab9>\n",
      "Function: bandstructure_obs at line 79\n",
      "\n",
      "Line #      Hits         Time  Per Hit   % Time  Line Contents\n",
      "==============================================================\n",
      "    79                                               def bandstructure_obs(self,H_type='f'):    \n",
      "    80         1          2.0      2.0      0.0          if H_type=='f':    \n",
      "    81                                                       val,vec=la.eigh(self.Hamiltonian_f)\n",
      "    82                                                       sortindex=np.argsort(val)\n",
      "    83                                                       self.val_f=val[sortindex]\n",
      "    84                                                       self.vec_f=vec[:,sortindex]\n",
      "    85         1          1.0      1.0      0.0          elif H_type=='m':\n",
      "    86         1       8622.0   8622.0     96.1              val,vec=la.eigh(self.Hamiltonian_m) \n",
      "    87         1         59.0     59.0      0.7              sortindex=np.argsort(val)\n",
      "    88         1          5.0      5.0      0.1              self.val_m=val[sortindex]\n",
      "    89         1        284.0    284.0      3.2              self.vec_m=vec[:,sortindex]\n",
      "    90                                                   else:\n",
      "    91                                                       raise ValueError('type of Hamiltonian ({}) not found'.format(H_type))"
     ]
    }
   ],
   "source": [
    "pp_o=Params(delta=0.3,L=64,bc=-1)\n",
    "%lprun -f Params.bandstructure_obs pp_o.bandstructure_obs('m')"
   ]
  },
  {
   "cell_type": "code",
   "execution_count": 593,
   "metadata": {},
   "outputs": [
    {
     "name": "stdout",
     "output_type": "stream",
     "text": [
      "Timer unit: 1e-06 s\n",
      "\n",
      "Total time: 0.002012 s\n",
      "File: <ipython-input-577-7f5542689ab9>\n",
      "Function: bandstructure at line 93\n",
      "\n",
      "Line #      Hits         Time  Per Hit   % Time  Line Contents\n",
      "==============================================================\n",
      "    93                                               def bandstructure(self,basis='mf'):\n",
      "    94         1          2.0      2.0      0.1          if 'f' in basis:    \n",
      "    95                                                       val,vec=la.eigh(self.Hamiltonian_f)\n",
      "    96                                                       sortindex=np.argsort(val)\n",
      "    97                                                       self.val_f=val[sortindex]\n",
      "    98                                                       self.vec_f=vec[:,sortindex]\n",
      "    99         1          1.0      1.0      0.0          if 'm' in basis:\n",
      "   100         1       1904.0   1904.0     94.6              val,vec=np.linalg.eigh(self.Hamiltonian_m) \n",
      "   101         1         31.0     31.0      1.5              sortindex=np.argsort(val)\n",
      "   102         1          6.0      6.0      0.3              self.val_m=val[sortindex]\n",
      "   103         1         68.0     68.0      3.4              self.vec_m=vec[:,sortindex]"
     ]
    }
   ],
   "source": [
    "pp_n=Params(delta=0.3,L=64,bc=-1)\n",
    "%lprun -f Params.bandstructure pp_n.bandstructure('m')"
   ]
  },
  {
   "cell_type": "code",
   "execution_count": 602,
   "metadata": {},
   "outputs": [
    {
     "name": "stdout",
     "output_type": "stream",
     "text": [
      "Timer unit: 1e-06 s\n",
      "\n",
      "Total time: 0.002333 s\n",
      "File: <ipython-input-577-7f5542689ab9>\n",
      "Function: covariance_matrix_m at line 121\n",
      "\n",
      "Line #      Hits         Time  Per Hit   % Time  Line Contents\n",
      "==============================================================\n",
      "   121                                               def covariance_matrix_m(self,E_F=0):\n",
      "   122         1          2.0      2.0      0.1          if not (hasattr(self,'val_m') and hasattr(self,'vec_m')):\n",
      "   123         1       1595.0   1595.0     68.4              self.bandstructure('m')\n",
      "   124         1         29.0     29.0      1.2          occupancy=self.fermi_dist(self.val_m,E_F)\n",
      "   125         1         58.0     58.0      2.5          occupancy_mat=np.matlib.repmat(occupancy,self.vec_m.shape[0],1)\n",
      "   126         1        574.0    574.0     24.6          self.C_m=(1j*2*(occupancy_mat*self.vec_m)@self.vec_m.T.conj())-1j*np.eye(self.L*2)\n",
      "   127         1         67.0     67.0      2.9          assert np.abs(np.imag(self.C_m)).max()<1e-10, \"Covariance matrix not real\"\n",
      "   128         1          6.0      6.0      0.3          self.C_m=np.real(self.C_m)\n",
      "   129         1          2.0      2.0      0.1          self.C_m_history=[self.C_m]"
     ]
    }
   ],
   "source": [
    "params=Params(delta=delta,L=64,bc=-1)\n",
    "# params.covariance_matrix_m()\n",
    "%lprun -f params.covariance_matrix_m params.covariance_matrix_m()"
   ]
  },
  {
   "cell_type": "code",
   "execution_count": 644,
   "metadata": {},
   "outputs": [
    {
     "name": "stdout",
     "output_type": "stream",
     "text": [
      "Timer unit: 1e-06 s\n",
      "\n",
      "Total time: 0.001268 s\n",
      "File: <ipython-input-617-c65d2cd97b96>\n",
      "Function: measure_new at line 246\n",
      "\n",
      "Line #      Hits         Time  Per Hit   % Time  Line Contents\n",
      "==============================================================\n",
      "   246                                               def measure_new(self,s,i,j):\n",
      "   247         1          4.0      4.0      0.3          if not hasattr(self,'C_m'):\n",
      "   248                                                       self.covariance_matrix_m()\n",
      "   249                                                   \n",
      "   250                                                   # m=np.arange(64).reshape((8,8))\n",
      "   251                                                   \n",
      "   252         1         36.0     36.0      2.8          m=self.C_m_history[-1].copy()\n",
      "   253                                                   # i<-> -2\n",
      "   254         1         34.0     34.0      2.7          m[[i,-2]]=m[[-2,i]]\n",
      "   255         1         18.0     18.0      1.4          m[:,[i,-2]]=m[:,[-2,i]]\n",
      "   256                                                   # j<->-1\n",
      "   257         1         13.0     13.0      1.0          m[[j,-1]]=m[[-1,j]]\n",
      "   258         1         14.0     14.0      1.1          m[:,[j,-1]]=m[:,[-1,j]]\n",
      "   259                                           \n",
      "   260         1          2.0      2.0      0.2          self.m=m\n",
      "   261                                           \n",
      "   262         1          2.0      2.0      0.2          Gamma_LL=m[:-2,:-2]\n",
      "   263         1          2.0      2.0      0.2          Gamma_LR=m[:-2,-2:]\n",
      "   264         1          2.0      2.0      0.2          Gamma_RR=m[-2:,-2:]       \n",
      "   265                                           \n",
      "   266         1         21.0     21.0      1.7          proj=self.projection(s)\n",
      "   267         1          2.0      2.0      0.2          Upsilon_LL=proj[:-2,:-2]\n",
      "   268         1          2.0      2.0      0.2          Upsilon_LR=proj[:-2,-2:]\n",
      "   269         1          2.0      2.0      0.2          Upsilon_RR=proj[-2:,-2:]\n",
      "   270         1          2.0      2.0      0.2          Upsilon_RL=proj[-2:,:-2]\n",
      "   271         1          6.0      6.0      0.5          zero=np.zeros((self.L*2-2,2))\n",
      "   272         1          2.0      2.0      0.2          zero0=np.zeros((2,2))\n",
      "   273         1        238.0    238.0     18.8          mat1=np.block([[Gamma_LL,zero],[zero.T,Upsilon_RR]])\n",
      "   274         1        129.0    129.0     10.2          mat2=np.block([[Gamma_LR,zero],[zero0,Upsilon_RL]])\n",
      "   275         1        147.0    147.0     11.6          mat3=np.block([[Gamma_RR,np.eye(2)],[-np.eye(2),Upsilon_LL]])\n",
      "   276         1          2.0      2.0      0.2          self.mat2=mat2\n",
      "   277         1         16.0     16.0      1.3          if np.count_nonzero(mat2):\n",
      "   278         1        472.0    472.0     37.2              Psi=mat1+mat2@(la.solve(mat3,mat2.T))\n",
      "   279                                                   else:\n",
      "   280                                                       Psi=mat1\n",
      "   281                                                   \n",
      "   282         1         29.0     29.0      2.3          Psi[[j,-1]]=Psi[[-1,j]]\n",
      "   283         1         39.0     39.0      3.1          Psi[:,[j,-1]]=Psi[:,[-1,j]]\n",
      "   284                                           \n",
      "   285         1         15.0     15.0      1.2          Psi[[i,-2]]=Psi[[-2,i]]\n",
      "   286         1         14.0     14.0      1.1          Psi[:,[i,-2]]=Psi[:,[-2,i]]\n",
      "   287                                                   \n",
      "   288         1          3.0      3.0      0.2          self.C_m_history.append(Psi)"
     ]
    }
   ],
   "source": [
    "params=Params(delta=delta,L=64,bc=-1)\n",
    "params.covariance_matrix_m()\n",
    "%lprun -f params.measure_new params.measure_new(0,14,15)"
   ]
  },
  {
   "cell_type": "code",
   "execution_count": 642,
   "metadata": {},
   "outputs": [
    {
     "name": "stdout",
     "output_type": "stream",
     "text": [
      "Timer unit: 1e-06 s\n",
      "\n",
      "Total time: 0.001188 s\n",
      "File: <ipython-input-617-c65d2cd97b96>\n",
      "Function: measure at line 201\n",
      "\n",
      "Line #      Hits         Time  Per Hit   % Time  Line Contents\n",
      "==============================================================\n",
      "   201                                               def measure(self,s,i,j):\n",
      "   202         1          3.0      3.0      0.3          if not hasattr(self,'C_m'):\n",
      "   203                                                       self.covariance_matrix_m()\n",
      "   204                                                   \n",
      "   205                                                   # m=np.arange(64).reshape((8,8))\n",
      "   206                                                   \n",
      "   207         1         23.0     23.0      1.9          m=self.C_m_history[-1].copy()\n",
      "   208         1        117.0    117.0      9.8          m[i:,:]=np.roll(m[i:,:],-1,0)\n",
      "   209         1         74.0     74.0      6.2          m[:,i:]=np.roll(m[:,i:],-1,1)\n",
      "   210                                           \n",
      "   211         1          1.0      1.0      0.1          if j>i:\n",
      "   212         1          1.0      1.0      0.1              j-=1    #the position of j is rotated by 1 ahead\n",
      "   213         1         90.0     90.0      7.6          m[j:,:]=np.roll(m[j:,:],-1,0)\n",
      "   214         1         73.0     73.0      6.1          m[:,j:]=np.roll(m[:,j:],-1,1)\n",
      "   215         1          1.0      1.0      0.1          self.m=m\n",
      "   216                                           \n",
      "   217         1          2.0      2.0      0.2          Gamma_LL=m[:-2,:-2]\n",
      "   218         1          2.0      2.0      0.2          Gamma_LR=m[:-2,-2:]\n",
      "   219         1          2.0      2.0      0.2          Gamma_RR=m[-2:,-2:]       \n",
      "   220                                           \n",
      "   221         1         20.0     20.0      1.7          proj=self.projection(s)\n",
      "   222         1          2.0      2.0      0.2          Upsilon_LL=proj[:-2,:-2]\n",
      "   223         1          2.0      2.0      0.2          Upsilon_LR=proj[:-2,-2:]\n",
      "   224         1          2.0      2.0      0.2          Upsilon_RR=proj[-2:,-2:]\n",
      "   225         1          2.0      2.0      0.2          Upsilon_RL=proj[-2:,:-2]\n",
      "   226         1          6.0      6.0      0.5          zero=np.zeros((self.L*2-2,2))\n",
      "   227         1          2.0      2.0      0.2          zero0=np.zeros((2,2))\n",
      "   228         1        169.0    169.0     14.2          mat1=np.block([[Gamma_LL,zero],[zero.T,Upsilon_RR]])\n",
      "   229         1        122.0    122.0     10.3          mat2=np.block([[Gamma_LR,zero],[zero0,Upsilon_RL]])\n",
      "   230         1        138.0    138.0     11.6          mat3=np.block([[Gamma_RR,np.eye(2)],[-np.eye(2),Upsilon_LL]])\n",
      "   231         1          2.0      2.0      0.2          self.mat2=mat2\n",
      "   232         1         13.0     13.0      1.1          if np.count_nonzero(mat2):\n",
      "   233                                                       Psi=mat1+mat2@(la.solve(mat3,mat2.T))\n",
      "   234                                                   else:\n",
      "   235         1          1.0      1.0      0.1              Psi=mat1\n",
      "   236                                                   \n",
      "   237         1         71.0     71.0      6.0          Psi[j:,:]=np.roll(Psi[j:,:],1,0)\n",
      "   238         1         67.0     67.0      5.6          Psi[:,j:]=np.roll(Psi[:,j:],1,1)\n",
      "   239                                           \n",
      "   240         1         99.0     99.0      8.3          Psi[i:,:]=np.roll(Psi[i:,:],1,0)\n",
      "   241         1         79.0     79.0      6.6          Psi[:,i:]=np.roll(Psi[:,i:],1,1)\n",
      "   242                                                   # Psi=permutation_mat.T@Psi@permutation_mat        \n",
      "   243                                                   \n",
      "   244         1          2.0      2.0      0.2          self.C_m_history.append(Psi)"
     ]
    }
   ],
   "source": [
    "params=Params(delta=delta,L=64,bc=-1)\n",
    "params.covariance_matrix_m()\n",
    "%lprun -f params.measure params.measure(0,11,12)"
   ]
  },
  {
   "cell_type": "code",
   "execution_count": 648,
   "metadata": {},
   "outputs": [
    {
     "name": "stdout",
     "output_type": "stream",
     "text": [
      "Timer unit: 1e-06 s\n",
      "\n",
      "Total time: 0.00088 s\n",
      "File: <ipython-input-647-99c13608d4d5>\n",
      "Function: measure at line 248\n",
      "\n",
      "Line #      Hits         Time  Per Hit   % Time  Line Contents\n",
      "==============================================================\n",
      "   248                                               def measure(self,s,i,j):\n",
      "   249         1          2.0      2.0      0.2          if not hasattr(self,'C_m'):\n",
      "   250                                                       self.covariance_matrix_m()\n",
      "   251                                                   \n",
      "   252                                                   # m=np.arange(64).reshape((8,8))\n",
      "   253                                                   \n",
      "   254         1         22.0     22.0      2.5          m=self.C_m_history[-1].copy()\n",
      "   255                                                   # i<-> -2\n",
      "   256         1         21.0     21.0      2.4          m[[i,-2]]=m[[-2,i]]\n",
      "   257         1         11.0     11.0      1.2          m[:,[i,-2]]=m[:,[-2,i]]\n",
      "   258                                                   # j<->-1\n",
      "   259         1          6.0      6.0      0.7          m[[j,-1]]=m[[-1,j]]\n",
      "   260         1          8.0      8.0      0.9          m[:,[j,-1]]=m[:,[-1,j]]\n",
      "   261                                           \n",
      "   262         1          1.0      1.0      0.1          self.m=m\n",
      "   263                                           \n",
      "   264         1          1.0      1.0      0.1          Gamma_LL=m[:-2,:-2]\n",
      "   265         1          1.0      1.0      0.1          Gamma_LR=m[:-2,-2:]\n",
      "   266         1          1.0      1.0      0.1          Gamma_RR=m[-2:,-2:]       \n",
      "   267                                           \n",
      "   268         1         12.0     12.0      1.4          proj=self.projection(s)\n",
      "   269         1          2.0      2.0      0.2          Upsilon_LL=proj[:-2,:-2]\n",
      "   270         1          1.0      1.0      0.1          Upsilon_LR=proj[:-2,-2:]\n",
      "   271         1          1.0      1.0      0.1          Upsilon_RR=proj[-2:,-2:]\n",
      "   272         1          1.0      1.0      0.1          Upsilon_RL=proj[-2:,:-2]\n",
      "   273         1          3.0      3.0      0.3          zero=np.zeros((self.L*2-2,2))\n",
      "   274         1          1.0      1.0      0.1          zero0=np.zeros((2,2))\n",
      "   275         1        219.0    219.0     24.9          mat1=np.block([[Gamma_LL,zero],[zero.T,Upsilon_RR]])\n",
      "   276         1         83.0     83.0      9.4          mat2=np.block([[Gamma_LR,zero],[zero0,Upsilon_RL]])\n",
      "   277         1         84.0     84.0      9.5          mat3=np.block([[Gamma_RR,np.eye(2)],[-np.eye(2),Upsilon_LL]])\n",
      "   278         1         14.0     14.0      1.6          self.mat2=mat2\n",
      "   279         1         11.0     11.0      1.2          if np.count_nonzero(mat2):\n",
      "   280         1        264.0    264.0     30.0              Psi=mat1+mat2@(la.solve(mat3,mat2.T))\n",
      "   281                                                   else:\n",
      "   282                                                       Psi=mat1\n",
      "   283                                                   \n",
      "   284         1         22.0     22.0      2.5          Psi[[j,-1]]=Psi[[-1,j]]\n",
      "   285         1         17.0     17.0      1.9          Psi[:,[j,-1]]=Psi[:,[-1,j]]\n",
      "   286                                           \n",
      "   287         1         52.0     52.0      5.9          Psi[[i,-2]]=Psi[[-2,i]]\n",
      "   288         1         17.0     17.0      1.9          Psi[:,[i,-2]]=Psi[:,[-2,i]]\n",
      "   289                                                   \n",
      "   290         1          2.0      2.0      0.2          self.C_m_history.append(Psi)"
     ]
    }
   ],
   "source": [
    "params=Params(delta=delta,L=64,bc=-1)\n",
    "params.covariance_matrix_m()\n",
    "%lprun -f params.measure params.measure(0,14,15)"
   ]
  },
  {
   "cell_type": "code",
   "execution_count": 646,
   "metadata": {},
   "outputs": [
    {
     "name": "stderr",
     "output_type": "stream",
     "text": [
      "/home/jake/anaconda3/lib/python3.8/site-packages/scipy/sparse/_index.py:82: SparseEfficiencyWarning: Changing the sparsity structure of a csr_matrix is expensive. lil_matrix is more efficient.\n",
      "  self._set_intXint(row, col, x.flat[0])\n"
     ]
    },
    {
     "name": "stdout",
     "output_type": "stream",
     "text": [
      "Timer unit: 1e-06 s\n",
      "\n",
      "Total time: 0.008301 s\n",
      "File: <ipython-input-617-c65d2cd97b96>\n",
      "Function: measure_obs at line 156\n",
      "\n",
      "Line #      Hits         Time  Per Hit   % Time  Line Contents\n",
      "==============================================================\n",
      "   156                                               def measure_obs(self,s,i,j):\n",
      "   157         1       1159.0   1159.0     14.0          permutation_mat=sp.diags([1],[0],(self.L*2,self.L*2)).tocsr()\n",
      "   158                                                   # i <-> -2\n",
      "   159         1        246.0    246.0      3.0          permutation_mat[i,i]=0\n",
      "   160         1        220.0    220.0      2.7          permutation_mat[-2,-2]=0\n",
      "   161         1       1551.0   1551.0     18.7          permutation_mat[i,-2]=1\n",
      "   162         1       1109.0   1109.0     13.4          permutation_mat[-2,i]=1\n",
      "   163                                                   # j <-> -1\n",
      "   164         1        242.0    242.0      2.9          permutation_mat[j,j]=0\n",
      "   165         1        209.0    209.0      2.5          permutation_mat[-1,-1]=0\n",
      "   166         1        836.0    836.0     10.1          permutation_mat[j,-1]=1\n",
      "   167         1        855.0    855.0     10.3          permutation_mat[-1,j]=1\n",
      "   168         1          4.0      4.0      0.0          if not hasattr(self,'C_m'):\n",
      "   169                                                       self.covariance_matrix_m()\n",
      "   170                                           \n",
      "   171                                                   # m=np.arange(64).reshape((8,8))\n",
      "   172                                                   # C_m_perm=permutation_mat.T@m@permutation_mat.T\n",
      "   173                                           \n",
      "   174         1        968.0    968.0     11.7          C_m_perm=permutation_mat.T@self.C_m_history[-1]@permutation_mat.T\n",
      "   175                                           \n",
      "   176         1          2.0      2.0      0.0          self.m=C_m_perm\n",
      "   177         1          2.0      2.0      0.0          Gamma_LL=C_m_perm[:-2,:-2]\n",
      "   178         1          1.0      1.0      0.0          Gamma_LR=C_m_perm[:-2,-2:]\n",
      "   179         1          1.0      1.0      0.0          Gamma_RR=C_m_perm[-2:,-2:]\n",
      "   180                                           \n",
      "   181         1         15.0     15.0      0.2          proj=self.projection(s)\n",
      "   182         1          2.0      2.0      0.0          Upsilon_LL=proj[:-2,:-2]\n",
      "   183         1          1.0      1.0      0.0          Upsilon_LR=proj[:-2,-2:]\n",
      "   184         1          1.0      1.0      0.0          Upsilon_RR=proj[-2:,-2:]\n",
      "   185         1          1.0      1.0      0.0          Upsilon_RL=proj[-2:,:-2]\n",
      "   186         1          5.0      5.0      0.1          zero=np.zeros((self.L*2-2,2))\n",
      "   187         1          2.0      2.0      0.0          zero0=np.zeros((2,2))\n",
      "   188         1        122.0    122.0      1.5          mat1=np.block([[Gamma_LL,zero],[zero.T,Upsilon_RR]])\n",
      "   189         1         70.0     70.0      0.8          mat2=np.block([[Gamma_LR,zero],[zero0,Upsilon_RL]])\n",
      "   190         1         79.0     79.0      1.0          mat3=np.block([[Gamma_RR,np.eye(2)],[-np.eye(2),Upsilon_LL]])\n",
      "   191         1          2.0      2.0      0.0          self.mat2=mat2\n",
      "   192         1         10.0     10.0      0.1          if np.count_nonzero(mat2):\n",
      "   193         1        230.0    230.0      2.8              Psi=mat1+mat2@(la.solve(mat3,mat2.T))\n",
      "   194                                                   else:\n",
      "   195                                                       Psi=mat1\n",
      "   196         1        353.0    353.0      4.3          Psi=permutation_mat.T@Psi@permutation_mat\n",
      "   197                                                   \n",
      "   198                                                   \n",
      "   199         1          3.0      3.0      0.0          self.C_m_history.append(Psi)"
     ]
    }
   ],
   "source": [
    "params=Params(delta=delta,L=64,bc=-1)\n",
    "params.covariance_matrix_m()\n",
    "%lprun -f params.measure_obs params.measure_obs(0,14,15)"
   ]
  },
  {
   "cell_type": "code",
   "execution_count": 598,
   "metadata": {},
   "outputs": [
    {
     "name": "stdout",
     "output_type": "stream",
     "text": [
      "Timer unit: 1e-06 s\n",
      "\n",
      "Total time: 6.99575 s\n",
      "File: <ipython-input-562-52e0aa0543ee>\n",
      "Function: mutual_info_run at line 1\n",
      "\n",
      "Line #      Hits         Time  Per Hit   % Time  Line Contents\n",
      "==============================================================\n",
      "     1                                           def mutual_info_run(batchsize):\n",
      "     2         1        250.0    250.0      0.0      delta_list=np.linspace(-1,1,20)**3\n",
      "     3         1          1.0      1.0      0.0      mutual_info_dis_list=[]\n",
      "     4         1          1.0      1.0      0.0      if batchsize==0:\n",
      "     5                                                   ensemblesize=1\n",
      "     6                                               else:\n",
      "     7         1          1.0      1.0      0.0          ensemblesize=15\n",
      "     8                                           \n",
      "     9        21         51.0      2.4      0.0      for delta in delta_list:\n",
      "    10        20         21.0      1.1      0.0          mutual_info_ensemble_list=[]\n",
      "    11       320       1005.0      3.1      0.0          for ensemble in range(ensemblesize):\n",
      "    12       300     183557.0    611.9      2.6              params=Params(delta=delta,L=64,bc=-1)\n",
      "    13       300    4867817.0  16226.1     69.6              params.measure_all_random_even(batchsize,(int(params.L/2),params.L))\n",
      "    14       300    1943009.0   6476.7     27.8              mutual_info_ensemble_list.append(params.mutual_information_m(np.arange(int(params.L/2)),np.arange(int(params.L/2))+params.L))\n",
      "    15        20         34.0      1.7      0.0          mutual_info_dis_list.append(mutual_info_ensemble_list)\n",
      "    16         1          0.0      0.0      0.0      return delta_list,mutual_info_dis_list"
     ]
    }
   ],
   "source": [
    "%lprun -f mutual_info_run mutual_info_run(12)"
   ]
  },
  {
   "cell_type": "code",
   "execution_count": 403,
   "metadata": {},
   "outputs": [
    {
     "name": "stdout",
     "output_type": "stream",
     "text": [
      "Timer unit: 1e-06 s\n",
      "\n",
      "Total time: 12.3388 s\n",
      "File: <ipython-input-121-52e0aa0543ee>\n",
      "Function: mutual_info_run at line 1\n",
      "\n",
      "Line #      Hits         Time  Per Hit   % Time  Line Contents\n",
      "==============================================================\n",
      "     1                                           def mutual_info_run(batchsize):\n",
      "     2         1        222.0    222.0      0.0      delta_list=np.linspace(-1,1,20)**3\n",
      "     3         1          2.0      2.0      0.0      mutual_info_dis_list=[]\n",
      "     4         1          2.0      2.0      0.0      if batchsize==0:\n",
      "     5                                                   ensemblesize=1\n",
      "     6                                               else:\n",
      "     7         1          2.0      2.0      0.0          ensemblesize=15\n",
      "     8                                           \n",
      "     9        21         41.0      2.0      0.0      for delta in delta_list:\n",
      "    10        20         17.0      0.8      0.0          mutual_info_ensemble_list=[]\n",
      "    11       320        806.0      2.5      0.0          for ensemble in range(ensemblesize):\n",
      "    12       300    3761313.0  12537.7     30.5              params=Params(delta=delta,L=64,bc=-1)\n",
      "    13       300    6663872.0  22212.9     54.0              params.measure_all_random_even(batchsize,(int(params.L/2),params.L))\n",
      "    14       300    1912502.0   6375.0     15.5              mutual_info_ensemble_list.append(params.mutual_information_m(np.arange(int(params.L/2)),np.arange(int(params.L/2))+params.L))\n",
      "    15        20         23.0      1.1      0.0          mutual_info_dis_list.append(mutual_info_ensemble_list)\n",
      "    16         1          0.0      0.0      0.0      return delta_list,mutual_info_dis_list"
     ]
    }
   ],
   "source": [
    "%lprun -f mutual_info_run mutual_info_run(12)"
   ]
  },
  {
   "cell_type": "code",
   "execution_count": 379,
   "metadata": {},
   "outputs": [
    {
     "name": "stderr",
     "output_type": "stream",
     "text": [
      "/home/jake/anaconda3/lib/python3.8/site-packages/scipy/sparse/_index.py:82: SparseEfficiencyWarning: Changing the sparsity structure of a csr_matrix is expensive. lil_matrix is more efficient.\n",
      "  self._set_intXint(row, col, x.flat[0])\n"
     ]
    },
    {
     "name": "stdout",
     "output_type": "stream",
     "text": [
      "Timer unit: 1e-06 s\n",
      "\n",
      "Total time: 31.1601 s\n",
      "File: <ipython-input-121-52e0aa0543ee>\n",
      "Function: mutual_info_run at line 1\n",
      "\n",
      "Line #      Hits         Time  Per Hit   % Time  Line Contents\n",
      "==============================================================\n",
      "     1                                           def mutual_info_run(batchsize):\n",
      "     2         1        196.0    196.0      0.0      delta_list=np.linspace(-1,1,20)**3\n",
      "     3         1          1.0      1.0      0.0      mutual_info_dis_list=[]\n",
      "     4         1          0.0      0.0      0.0      if batchsize==0:\n",
      "     5                                                   ensemblesize=1\n",
      "     6                                               else:\n",
      "     7         1          0.0      0.0      0.0          ensemblesize=15\n",
      "     8                                           \n",
      "     9        21         43.0      2.0      0.0      for delta in delta_list:\n",
      "    10        20         15.0      0.8      0.0          mutual_info_ensemble_list=[]\n",
      "    11       320        802.0      2.5      0.0          for ensemble in range(ensemblesize):\n",
      "    12       300    3912932.0  13043.1     12.6              params=Params(delta=delta,L=64,bc=-1)\n",
      "    13       300   25237073.0  84123.6     81.0              params.measure_all_random_even(batchsize,(int(params.L/2),params.L))\n",
      "    14       300    2009034.0   6696.8      6.4              mutual_info_ensemble_list.append(params.mutual_information_m(np.arange(int(params.L/2)),np.arange(int(params.L/2))+params.L))\n",
      "    15        20         29.0      1.4      0.0          mutual_info_dis_list.append(mutual_info_ensemble_list)\n",
      "    16         1          1.0      1.0      0.0      return delta_list,mutual_info_dis_list"
     ]
    }
   ],
   "source": [
    "%lprun -f mutual_info_run mutual_info_run(12)"
   ]
  },
  {
   "cell_type": "markdown",
   "metadata": {},
   "source": [
    "# Mutual info - density of operators"
   ]
  },
  {
   "cell_type": "code",
   "execution_count": 20,
   "metadata": {},
   "outputs": [],
   "source": [
    "def mutual_info_run(batchsize):\n",
    "    delta_list=np.linspace(-1,1,20)**3\n",
    "    mutual_info_dis_list=[]\n",
    "    if batchsize==0:\n",
    "        ensemblesize=1\n",
    "    else:\n",
    "        ensemblesize=100\n",
    "\n",
    "    for delta in delta_list:\n",
    "        mutual_info_ensemble_list=[]\n",
    "        for ensemble in range(ensemblesize):\n",
    "            params=Params(delta=delta,L=64,bc=-1)\n",
    "            params.measure_all_random_even(batchsize,(int(params.L/2),params.L))\n",
    "            mutual_info_ensemble_list.append(params.mutual_information_m(np.arange(int(params.L/2)),np.arange(int(params.L/2))+params.L))\n",
    "        mutual_info_dis_list.append(mutual_info_ensemble_list)\n",
    "    return delta_list,mutual_info_dis_list"
   ]
  },
  {
   "cell_type": "code",
   "execution_count": 22,
   "metadata": {},
   "outputs": [
    {
     "data": {
      "text/plain": "0.9017744888141905"
     },
     "execution_count": 22,
     "metadata": {},
     "output_type": "execute_result"
    }
   ],
   "source": [
    "np.random.rand()"
   ]
  },
  {
   "cell_type": "code",
   "execution_count": 23,
   "metadata": {},
   "outputs": [
    {
     "name": "stdout",
     "output_type": "stream",
     "text": [
      "0\n",
      "12\n",
      "13\n",
      "14\n",
      "15\n",
      "16\n",
      "1783.5289747714996\n"
     ]
    }
   ],
   "source": [
    "delta_dict={}\n",
    "mutual_info_dis_dict={}\n",
    "i=12\n",
    "for i in (0,12,13,14,15,16):\n",
    "    print(i)\n",
    "    delta_dict[i],mutual_info_dis_dict[i]=mutual_info_run(i)\n",
    "print(time.time()-st)"
   ]
  },
  {
   "cell_type": "code",
   "execution_count": null,
   "metadata": {},
   "outputs": [],
   "source": [
    "for i in (0,13,14,15,16):\n",
    "    print(i)\n",
    "    delta_dict[i],mutual_info_dis_dict[i]=mutual_info_run(i)"
   ]
  },
  {
   "cell_type": "code",
   "execution_count": 25,
   "metadata": {},
   "outputs": [
    {
     "data": {
      "text/plain": "dict_keys([0, 12, 13, 14, 15, 16])"
     },
     "execution_count": 25,
     "metadata": {},
     "output_type": "execute_result"
    }
   ],
   "source": [
    "delta_dict.keys()"
   ]
  },
  {
   "cell_type": "code",
   "execution_count": 24,
   "metadata": {},
   "outputs": [
    {
     "data": {
      "text/plain": "Text(0, 0.5, 'Mutual information between A and B [$\\\\log2$]')"
     },
     "execution_count": 24,
     "metadata": {},
     "output_type": "execute_result"
    },
    {
     "data": {
      "image/png": "[encoded data removed]",
      "text/plain": "<Figure size 489.6x288 with 1 Axes>"
     },
     "metadata": {
      "needs_background": "light"
     },
     "output_type": "display_data"
    }
   ],
   "source": [
    "fig,ax=plt.subplots()\n",
    "for i in (0,12,14,15,16):\n",
    "    ax.plot(delta_dict[i],np.array(mutual_info_dis_dict[i]).mean(axis=1)/np.log(2),label='Number of gates: {}'.format(i))\n",
    "\n",
    "ax.legend()\n",
    "ax.set_xlabel(r'$\\delta$')\n",
    "ax.set_ylabel(r'Mutual information between A and B [$\\log2$]')\n",
    "\n",
    "# fig.savefig('/mnt/d/kitp/Rp_SPT/4/mutual_info_Ap_En200.pdf',bbox_inches='tight')\n"
   ]
  },
  {
   "cell_type": "code",
   "execution_count": 126,
   "metadata": {},
   "outputs": [],
   "source": [
    "with open('/mnt/d/KITP/Rp_SPT/5/mutual_info_Ap_En1000.pickle','rb') as f:\n",
    "    delta_dict_para,mutual_info_dis_dict_para=pickle.load(f)\n",
    "# with open('mutual_info_Ap_En100_serial.pickle','rb') as f:\n",
    "#     serial=pickle.load(f)    "
   ]
  },
  {
   "cell_type": "code",
   "execution_count": 129,
   "metadata": {},
   "outputs": [
    {
     "data": {
      "text/plain": "Text(0, 0.5, 'Mutual information between A and B [$\\\\log2$]')"
     },
     "execution_count": 129,
     "metadata": {},
     "output_type": "execute_result"
    },
    {
     "data": {
      "image/png": "[encoded data removed]",
      "text/plain": "<Figure size 489.6x288 with 1 Axes>"
     },
     "metadata": {
      "needs_background": "light"
     },
     "output_type": "display_data"
    }
   ],
   "source": [
    "fig,ax=plt.subplots()\n",
    "for i in delta_dict_para.keys():\n",
    "    ax.plot(delta_dict_para[i],np.array(mutual_info_dis_dict_para[i]).mean(axis=1)/np.log(2),label='Number of gates: {}'.format(i))\n",
    "\n",
    "ax.legend()\n",
    "ax.set_xlabel(r'$\\delta$')\n",
    "ax.set_ylabel(r'Mutual information between A and B [$\\log2$]')\n",
    "\n",
    "# fig.savefig('/mnt/d/kitp/Rp_SPT/5/mutual_info_Ap_En200.pdf',bbox_inches='tight')\n"
   ]
  },
  {
   "cell_type": "code",
   "execution_count": 130,
   "metadata": {},
   "outputs": [
    {
     "data": {
      "text/plain": "Text(0, 0.5, 'STD of MI between A and B [$\\\\log2$]')"
     },
     "execution_count": 130,
     "metadata": {},
     "output_type": "execute_result"
    },
    {
     "data": {
      "image/png": "[encoded data removed]",
      "text/plain": "<Figure size 489.6x288 with 1 Axes>"
     },
     "metadata": {
      "needs_background": "light"
     },
     "output_type": "display_data"
    }
   ],
   "source": [
    "fig,ax=plt.subplots()\n",
    "for i in delta_dict_para.keys():\n",
    "    ax.plot(delta_dict_para[i],np.array(mutual_info_dis_dict_para[i]).std(axis=1)/np.log(2),label='Number of gates: {}'.format(i))\n",
    "\n",
    "ax.legend()\n",
    "ax.set_xlabel(r'$\\delta$')\n",
    "ax.set_ylabel(r'STD of MI between A and B [$\\log2$]')\n",
    "\n",
    "# fig.savefig('/mnt/d/kitp/Rp_SPT/5/mutual_info_Ap_En200.pdf',bbox_inches='tight')\n"
   ]
  },
  {
   "cell_type": "markdown",
   "metadata": {},
   "source": [
    "# Measure all gates to intermedate region with same projection"
   ]
  },
  {
   "cell_type": "code",
   "execution_count": 109,
   "metadata": {},
   "outputs": [],
   "source": [
    "# no measurment\n",
    "delta_list=np.linspace(-1,1,200)\n",
    "mutual_info_list=[]\n",
    "for delta in delta_list:\n",
    "    params=Params(delta=delta,L=64,bc=-1)\n",
    "    mutual_info_list.append(params.mutual_information_m(np.arange(int(params.L/2)),np.arange(int(params.L/2))+params.L))"
   ]
  },
  {
   "cell_type": "code",
   "execution_count": 110,
   "metadata": {},
   "outputs": [],
   "source": [
    "# all projections to 0\n",
    "mutual_info_pos_list=[]\n",
    "for delta in delta_list:\n",
    "    params=Params(delta=delta,L=64,bc=-1)\n",
    "    params.measure_all(1)\n",
    "    mutual_info_pos_list.append(params.mutual_information_m(np.arange(int(params.L/2)),np.arange(params.L/2)+params.L))"
   ]
  },
  {
   "cell_type": "code",
   "execution_count": 111,
   "metadata": {},
   "outputs": [],
   "source": [
    "# all projections to 1\n",
    "mutual_info_neg_list=[]\n",
    "for delta in delta_list:\n",
    "    params=Params(delta=delta,L=64,bc=-1)\n",
    "    params.measure_all(0)\n",
    "    mutual_info_neg_list.append(params.mutual_information_m(np.arange(int(params.L/2)),np.arange(params.L/2)+params.L))"
   ]
  },
  {
   "cell_type": "code",
   "execution_count": 113,
   "metadata": {},
   "outputs": [
    {
     "data": {
      "text/plain": "<matplotlib.legend.Legend at 0x7ff428b513a0>"
     },
     "execution_count": 113,
     "metadata": {},
     "output_type": "execute_result"
    },
    {
     "data": {
      "image/png": "[encoded data removed]",
      "text/plain": "<Figure size 489.6x288 with 1 Axes>"
     },
     "metadata": {
      "needs_background": "light"
     },
     "output_type": "display_data"
    }
   ],
   "source": [
    "fig,ax=plt.subplots(figsize=(6.8,4))\n",
    "ax.plot(delta_list,mutual_info_list/np.log(2),label='no measurement')\n",
    "ax.plot(delta_list,mutual_info_pos_list/np.log(2),label='measure +1')\n",
    "ax.plot(delta_list,mutual_info_neg_list/np.log(2),label='measure -1')\n",
    "ax.set_xlabel(r'$\\delta$')\n",
    "ax.set_ylabel(r'Mutual information [$\\log 2$]')\n",
    "ax.legend()\n",
    "# fig.savefig('/mnt/d/kitp/Rp_SPT/4/M_L64_ApBp_shared.pdf',bbox_inches='tight')"
   ]
  },
  {
   "cell_type": "code",
   "execution_count": 145,
   "metadata": {},
   "outputs": [],
   "source": [
    "def mutual_info_run(s_prob):\n",
    "    mutual_info_list=[]\n",
    "    delta_list=np.linspace(-1,1,100)**3\n",
    "    for delta in delta_list:\n",
    "        params=Params(delta=delta,L=64,bc=-1)\n",
    "        params.measure_all(s_prob)\n",
    "        mutual_info_list.append(params.mutual_information_m(np.arange(int(params.L/2)),np.arange(params.L/2)+params.L))\n",
    "    return delta_list,mutual_info_list"
   ]
  },
  {
   "cell_type": "code",
   "execution_count": 146,
   "metadata": {},
   "outputs": [
    {
     "name": "stdout",
     "output_type": "stream",
     "text": [
      "0.0\n",
      "0.5\n",
      "1.0\n"
     ]
    }
   ],
   "source": [
    "s_prob_list=np.linspace(0,1,3)\n",
    "delta_s_prob_list={}\n",
    "MI_s_prob_list={}\n",
    "for i in s_prob_list:\n",
    "    print(i)\n",
    "    delta_s_prob_list[i],MI_s_prob_list[i]=mutual_info_run(i)"
   ]
  },
  {
   "cell_type": "code",
   "execution_count": 156,
   "metadata": {},
   "outputs": [],
   "source": [
    "with open('mutual_info_s_prob_En20.pickle','rb') as f:\n",
    "    delta_s_prob_list,MI_s_prob_list=pickle.load(f)"
   ]
  },
  {
   "cell_type": "code",
   "execution_count": 158,
   "metadata": {},
   "outputs": [
    {
     "data": {
      "text/plain": "Text(0, 0.5, 'Mutual information between A and B [$\\\\log2$]')"
     },
     "execution_count": 158,
     "metadata": {},
     "output_type": "execute_result"
    },
    {
     "data": {
      "image/png": "[encoded data removed]",
      "text/plain": "<Figure size 489.6x288 with 1 Axes>"
     },
     "metadata": {
      "needs_background": "light"
     },
     "output_type": "display_data"
    }
   ],
   "source": [
    "fig,ax=plt.subplots()\n",
    "for i in delta_s_prob_list.keys():\n",
    "    ax.plot(delta_s_prob_list[i],np.array(MI_s_prob_list[i]).mean(axis=1)/np.log(2),label='Prob(s=0): {}'.format(i))\n",
    "    # ax.plot(delta_s_prob_list[i],np.array(MI_s_prob_list[i])/np.log(2),label='Number of gates: {}'.format(i))\n",
    "\n",
    "ax.legend()\n",
    "ax.set_xlabel(r'$\\delta$')\n",
    "ax.set_ylabel(r'Mutual information between A and B [$\\log2$]')\n",
    "\n",
    "# fig.savefig('/mnt/d/kitp/Rp_SPT/5/mutual_info_Ap_En200.pdf',bbox_inches='tight')\n"
   ]
  },
  {
   "cell_type": "code",
   "execution_count": null,
   "metadata": {},
   "outputs": [],
   "source": [
    "def mutual_info_all_run(batchsize):\n",
    "    delta_list=np.linspace(-1,1,40)\n",
    "    mutual_info_dis_list=[]\n",
    "    if batchsize==0:\n",
    "        ensemblesize=1\n",
    "    else:\n",
    "        ensemblesize=100\n",
    "\n",
    "    for delta in delta_list:\n",
    "        mutual_info_ensemble_list=[]\n",
    "        for ensemble in range(ensemblesize):\n",
    "            params=Params(delta=delta,L=16,bc=-1)\n",
    "            params.measure_batch(batchsize)    \n",
    "            mutual_info_ensemble_list.append(params.mutual_information_m(np.arange(2),np.arange(2)+30))\n",
    "        mutual_info_dis_list.append(mutual_info_ensemble_list)\n",
    "    return delta_list,mutual_info_dis_list"
   ]
  },
  {
   "cell_type": "code",
   "execution_count": null,
   "metadata": {},
   "outputs": [],
   "source": []
  },
  {
   "cell_type": "markdown",
   "metadata": {},
   "source": [
    "# Evolution"
   ]
  },
  {
   "cell_type": "code",
   "execution_count": 333,
   "metadata": {},
   "outputs": [
    {
     "name": "stderr",
     "output_type": "stream",
     "text": [
      "/home/jake/anaconda3/lib/python3.8/site-packages/scipy/sparse/_index.py:82: SparseEfficiencyWarning: Changing the sparsity structure of a csr_matrix is expensive. lil_matrix is more efficient.\n",
      "  self._set_intXint(row, col, x.flat[0])\n"
     ]
    }
   ],
   "source": [
    "params=Params(delta=0.3,L=32,bc=-1)\n",
    "params.mutual_information_m(np.arange(int(params.L/2)),np.arange(int(params.L/2))+params.L)\n",
    "# params.measure_batch(1,(params.L/2,params.L))\n",
    "params.measure(1,20,21)\n",
    "params.measure(0,25,26)\n",
    "params.measure(1,40,41)"
   ]
  },
  {
   "cell_type": "code",
   "execution_count": 274,
   "metadata": {},
   "outputs": [
    {
     "data": {
      "text/plain": "1.8106183219401828e-10"
     },
     "execution_count": 274,
     "metadata": {},
     "output_type": "execute_result"
    }
   ],
   "source": [
    "params.mutual_information_m(np.arange(int(params.L/2)),np.arange(int(params.L/2))+params.L)"
   ]
  },
  {
   "cell_type": "code",
   "execution_count": 295,
   "metadata": {},
   "outputs": [
    {
     "data": {
      "text/plain": "[21]"
     },
     "execution_count": 295,
     "metadata": {},
     "output_type": "execute_result"
    }
   ],
   "source": [
    "params.i_history"
   ]
  },
  {
   "cell_type": "code",
   "execution_count": 305,
   "metadata": {},
   "outputs": [
    {
     "data": {
      "text/plain": "<matplotlib.image.AxesImage at 0x7f9f5d8f85b0>"
     },
     "execution_count": 305,
     "metadata": {},
     "output_type": "execute_result"
    },
    {
     "data": {
      "image/png": "[encoded data removed]",
      "text/plain": "<Figure size 432x288 with 1 Axes>"
     },
     "metadata": {
      "needs_background": "light"
     },
     "output_type": "display_data"
    }
   ],
   "source": [
    "params=Params(delta=0.3,L=32,bc=-1)\n",
    "params.measure(1,40,21)\n",
    "i=1\n",
    "fig,ax=plt.subplots()\n",
    "ax.imshow(params.C_m_history[i],cmap='seismic',vmin=-1,vmax=1)\n",
    "# ax.text(0,1.05,r'Step {}: $\\Upsilon_{}({},{})$'.format(i,'{'+str((-1)**s)+'}',params.i_history[i-1],params.i_history[i-1]+1),transform=ax.transAxes)"
   ]
  },
  {
   "cell_type": "code",
   "execution_count": 304,
   "metadata": {},
   "outputs": [
    {
     "data": {
      "text/plain": "<matplotlib.image.AxesImage at 0x7f9f5ceaa3d0>"
     },
     "execution_count": 304,
     "metadata": {},
     "output_type": "execute_result"
    },
    {
     "data": {
      "image/png": "[encoded data removed]",
      "text/plain": "<Figure size 432x288 with 1 Axes>"
     },
     "metadata": {
      "needs_background": "light"
     },
     "output_type": "display_data"
    }
   ],
   "source": [
    "params=Params(delta=0.3,L=32,bc=-1)\n",
    "params.measure(0,40,21)\n",
    "i=1\n",
    "fig,ax=plt.subplots()\n",
    "ax.imshow(params.C_m_history[i],cmap='seismic',vmin=-1,vmax=1)\n",
    "# ax.text(0,1.05,r'Step {}: $\\Upsilon_{}({},{})$'.format(i,'{'+str((-1)**s)+'}',params.i_history[i-1],params.i_history[i-1]+1),transform=ax.transAxes)"
   ]
  },
  {
   "cell_type": "code",
   "execution_count": 290,
   "metadata": {},
   "outputs": [
    {
     "data": {
      "image/png": "[encoded data removed]",
      "text/plain": "<Figure size 489.6x720 with 2 Axes>"
     },
     "metadata": {},
     "output_type": "display_data"
    }
   ],
   "source": [
    "i=0\n",
    "c_m=params.C_m_history[0]\n",
    "fig,ax=plt.subplots(1,2,figsize=(6.8,10))\n",
    "\n",
    "im_1=ax[0].imshow(c_m,cmap='seismic',vmin=-1,vmax=1) \n",
    "im_2=ax[1].imshow(c_m@c_m,cmap='hot',vmin=-1,vmax=0) \n",
    "\n",
    "ax[0].set_xticks([])\n",
    "ax[0].set_yticks([])\n",
    "ax[1].set_xticks([])\n",
    "ax[1].set_yticks([])\n",
    "\n",
    "ax[0].text(0,1.05,'Step 0',transform=ax[0].transAxes)\n",
    "\n",
    "axins0=ax[0].inset_axes([0.0, -.1, 1, 0.05],transform=ax[0].transAxes) \n",
    "cb0=fig.colorbar(im_1,cax=axins0,orientation='horizontal')\n",
    "cb0.ax.xaxis.set_tick_params(pad=0)\n",
    "# cb0.ax.tick_params(labelsize=20)\n",
    "\n",
    "axins1=ax[1].inset_axes([0.0, -.1, 1, 0.05],transform=ax[1].transAxes) \n",
    "cb1=fig.colorbar(im_2,cax=axins1,orientation='horizontal')\n",
    "cb1.ax.xaxis.set_tick_params(pad=0)\n",
    "# cb1.ax.tick_params(labelsize=20)\n",
    "\n",
    "# fig.savefig('/mnt/d/kitp/Rp_SPT/4/evolution_trivial_{}.pdf'.format(i),bbox_inches='tight',dpi=500)"
   ]
  },
  {
   "cell_type": "code",
   "execution_count": 276,
   "metadata": {},
   "outputs": [],
   "source": [
    "%%capture\n",
    "for i,c_m,s,ii in zip(range(1,21),params.C_m_history[1:],params.s_history,params.i_history):\n",
    "    \n",
    "    fig,ax=plt.subplots(1,2,figsize=(6.8,10))\n",
    "\n",
    "    im_1=ax[0].imshow(c_m,cmap='seismic',vmin=-1,vmax=1) \n",
    "    im_2=ax[1].imshow(c_m@c_m,cmap='hot',vmin=-1,vmax=0) \n",
    "\n",
    "    ax[0].set_xticks([])\n",
    "    ax[0].set_yticks([])\n",
    "    ax[1].set_xticks([])\n",
    "    ax[1].set_yticks([])\n",
    "    \n",
    "    ax[0].text(0,1.05,r'Step {}: $\\Upsilon_{}({},{})$'.format(i,'{'+str((-1)**s)+'}',ii,ii+1),transform=ax[0].transAxes)\n",
    "\n",
    "    # fig.savefig('/mnt/d/kitp/Rp_SPT/4/evolution_trivial_{}.pdf'.format(i),bbox_inches='tight',dpi=500)"
   ]
  },
  {
   "cell_type": "code",
   "execution_count": 277,
   "metadata": {},
   "outputs": [],
   "source": [
    "tex_text=\"\"\"\n",
    "    \\\\begin{{figure}}[h]\n",
    "        \\\\centering\n",
    "        \\\\includegraphics[width=\\\\textwidth]{{evolution_trivial_{}.pdf}}\n",
    "    \\\\end{{figure}}\n",
    "    \"\"\""
   ]
  },
  {
   "cell_type": "code",
   "execution_count": null,
   "metadata": {},
   "outputs": [],
   "source": [
    "string=\"\"\n",
    "for i in range(21):\n",
    "    print(tex_text.format(i))"
   ]
  },
  {
   "cell_type": "code",
   "execution_count": null,
   "metadata": {},
   "outputs": [],
   "source": []
  },
  {
   "cell_type": "code",
   "execution_count": null,
   "metadata": {},
   "outputs": [],
   "source": [
    "print(string)"
   ]
  },
  {
   "cell_type": "code",
   "execution_count": null,
   "metadata": {},
   "outputs": [],
   "source": [
    "for c_m in params.C_m_history:\n",
    "    fig,ax=plt.subplots()\n",
    "    ax.imshow(c_m@c_m)"
   ]
  },
  {
   "cell_type": "code",
   "execution_count": null,
   "metadata": {},
   "outputs": [],
   "source": [
    "plt.imshow(params.C_m_history[1])"
   ]
  },
  {
   "cell_type": "code",
   "execution_count": null,
   "metadata": {},
   "outputs": [
    {
     "name": "stderr",
     "output_type": "stream",
     "text": [
      "/home/jake/anaconda3/lib/python3.8/site-packages/scipy/sparse/_index.py:82: SparseEfficiencyWarning: Changing the sparsity structure of a csr_matrix is expensive. lil_matrix is more efficient.\n",
      "  self._set_intXint(row, col, x.flat[0])\n"
     ]
    }
   ],
   "source": [
    "params.measure(0, 4, 5)"
   ]
  },
  {
   "cell_type": "code",
   "execution_count": null,
   "metadata": {},
   "outputs": [],
   "source": [
    "params.measure(0, 4, 5)"
   ]
  },
  {
   "cell_type": "code",
   "execution_count": null,
   "metadata": {},
   "outputs": [],
   "source": [
    "params.measure(1, 6, 7)"
   ]
  },
  {
   "cell_type": "code",
   "execution_count": null,
   "metadata": {},
   "outputs": [],
   "source": [
    "params.measure(1, 4, 5)"
   ]
  },
  {
   "cell_type": "code",
   "execution_count": null,
   "metadata": {},
   "outputs": [],
   "source": []
  },
  {
   "cell_type": "code",
   "execution_count": null,
   "metadata": {},
   "outputs": [],
   "source": [
    "params=Params(delta=-0.3,L=16,bc=0)\n",
    "params.mutual_information_m(np.arange(2),np.arange(2)+16)\n",
    "params.measure_batch(100)"
   ]
  },
  {
   "cell_type": "code",
   "execution_count": null,
   "metadata": {},
   "outputs": [
    {
     "data": {
      "text/plain": "0.0019446062606200964"
     },
     "execution_count": 416,
     "metadata": {},
     "output_type": "execute_result"
    }
   ],
   "source": [
    "params.mutual_information_m(np.arange(2),np.arange(2)+16)"
   ]
  },
  {
   "cell_type": "code",
   "execution_count": null,
   "metadata": {},
   "outputs": [
    {
     "data": {
      "text/plain": "4"
     },
     "execution_count": 372,
     "metadata": {},
     "output_type": "execute_result"
    }
   ],
   "source": [
    "len(params.C_m_history)"
   ]
  },
  {
   "cell_type": "code",
   "execution_count": null,
   "metadata": {},
   "outputs": [
    {
     "data": {
      "text/plain": "[13, 14, 3, 14]"
     },
     "execution_count": 373,
     "metadata": {},
     "output_type": "execute_result"
    }
   ],
   "source": [
    "params.i_history"
   ]
  },
  {
   "cell_type": "code",
   "execution_count": null,
   "metadata": {},
   "outputs": [
    {
     "data": {
      "text/plain": "[1, 0, 0, 1]"
     },
     "execution_count": 374,
     "metadata": {},
     "output_type": "execute_result"
    }
   ],
   "source": [
    "params.s_history"
   ]
  },
  {
   "cell_type": "code",
   "execution_count": null,
   "metadata": {},
   "outputs": [],
   "source": [
    "for c_m in params.C_m_history:\n",
    "    fig,ax=plt.subplots()\n",
    "    ax.imshow(c_m)"
   ]
  },
  {
   "cell_type": "markdown",
   "metadata": {},
   "source": [
    "# Test"
   ]
  },
  {
   "cell_type": "code",
   "execution_count": 95,
   "metadata": {},
   "outputs": [
    {
     "name": "stderr",
     "output_type": "stream",
     "text": [
      "/home/jake/anaconda3/lib/python3.8/site-packages/scipy/sparse/_index.py:82: SparseEfficiencyWarning: Changing the sparsity structure of a csr_matrix is expensive. lil_matrix is more efficient.\n",
      "  self._set_intXint(row, col, x.flat[0])\n"
     ]
    }
   ],
   "source": [
    "params=Params(delta=-0.3,L=16,bc=0)"
   ]
  },
  {
   "cell_type": "code",
   "execution_count": 46,
   "metadata": {},
   "outputs": [
    {
     "data": {
      "text/plain": "array([[ 0.        , -0.96230698,  0.        , -0.24872714],\n       [ 0.96230698,  0.        , -0.26943816,  0.        ],\n       [ 0.        ,  0.26943816,  0.        , -0.92668984],\n       [ 0.24872714,  0.        ,  0.92668984,  0.        ]])"
     },
     "execution_count": 46,
     "metadata": {},
     "output_type": "execute_result"
    }
   ],
   "source": [
    "params.c_subregion_m(np.arange(4))"
   ]
  },
  {
   "cell_type": "code",
   "execution_count": 47,
   "metadata": {},
   "outputs": [
    {
     "data": {
      "text/plain": "array([[0., 0., 0., 0.],\n       [0., 0., 0., 0.],\n       [0., 0., 0., 0.],\n       [0., 0., 0., 0.]])"
     },
     "execution_count": 47,
     "metadata": {},
     "output_type": "execute_result"
    }
   ],
   "source": [
    "params.c_subregion_m_obs(np.arange(4))-params.c_subregion_m(np.arange(4))"
   ]
  },
  {
   "cell_type": "code",
   "execution_count": 48,
   "metadata": {},
   "outputs": [
    {
     "data": {
      "text/plain": "array([[0., 0., 0., 0., 0., 0., 0., 0.],\n       [0., 0., 0., 0., 0., 0., 0., 0.],\n       [0., 0., 0., 0., 0., 0., 0., 0.],\n       [0., 0., 0., 0., 0., 0., 0., 0.],\n       [0., 0., 0., 0., 0., 0., 0., 0.],\n       [0., 0., 0., 0., 0., 0., 0., 0.],\n       [0., 0., 0., 0., 0., 0., 0., 0.],\n       [0., 0., 0., 0., 0., 0., 0., 0.]])"
     },
     "execution_count": 48,
     "metadata": {},
     "output_type": "execute_result"
    }
   ],
   "source": [
    "params.c_subregion_m([0,1,2,3]+[8,9,10,11])-params.c_subregion_m_obs([0,1,2,3]+[8,9,10,11])"
   ]
  },
  {
   "cell_type": "code",
   "execution_count": 101,
   "metadata": {},
   "outputs": [
    {
     "name": "stdout",
     "output_type": "stream",
     "text": [
      "0.0008518695831298828\n"
     ]
    }
   ],
   "source": [
    "start_time=time.time()\n",
    "z=params.c_subregion_m(np.concatenate([np.arange(2),np.arange(2)+10]))\n",
    "print(time.time()-start_time)"
   ]
  },
  {
   "cell_type": "code",
   "execution_count": 103,
   "metadata": {},
   "outputs": [
    {
     "name": "stdout",
     "output_type": "stream",
     "text": [
      "0.001998424530029297\n"
     ]
    }
   ],
   "source": [
    "start_time=time.time()\n",
    "z_obs=params.c_subregion_m_obs(np.concatenate([np.arange(2),np.arange(2)+10]))\n",
    "print(time.time()-start_time)"
   ]
  },
  {
   "cell_type": "code",
   "execution_count": 104,
   "metadata": {},
   "outputs": [
    {
     "data": {
      "text/plain": "array([[0., 0., 0., 0.],\n       [0., 0., 0., 0.],\n       [0., 0., 0., 0.],\n       [0., 0., 0., 0.]])"
     },
     "execution_count": 104,
     "metadata": {},
     "output_type": "execute_result"
    }
   ],
   "source": [
    "z_obs-z"
   ]
  },
  {
   "cell_type": "code",
   "execution_count": 59,
   "metadata": {},
   "outputs": [
    {
     "data": {
      "text/plain": "(40,)"
     },
     "execution_count": 59,
     "metadata": {},
     "output_type": "execute_result"
    }
   ],
   "source": [
    "np.concatenate([np.arange(20),np.arange(20)+10]).shape"
   ]
  },
  {
   "cell_type": "code",
   "execution_count": 57,
   "metadata": {},
   "outputs": [
    {
     "data": {
      "text/plain": "[array([[ 0.00000000e+00, -9.62306978e-01,  0.00000000e+00, ...,\n         -2.21666121e-05,  0.00000000e+00, -1.16243430e-05],\n        [ 9.62306978e-01,  0.00000000e+00, -2.69438161e-01, ...,\n          0.00000000e+00, -3.11525065e-07,  0.00000000e+00],\n        [ 0.00000000e+00,  2.69438161e-01,  0.00000000e+00, ...,\n         -4.23377965e-05,  0.00000000e+00, -2.21666121e-05],\n        ...,\n        [ 2.21666121e-05,  0.00000000e+00,  4.23377965e-05, ...,\n          0.00000000e+00, -2.69438161e-01,  0.00000000e+00],\n        [ 0.00000000e+00,  3.11525065e-07,  0.00000000e+00, ...,\n          2.69438161e-01,  0.00000000e+00, -9.62306978e-01],\n        [ 1.16243430e-05,  0.00000000e+00,  2.21666121e-05, ...,\n          0.00000000e+00,  9.62306978e-01,  0.00000000e+00]])]"
     },
     "execution_count": 57,
     "metadata": {},
     "output_type": "execute_result"
    }
   ],
   "source": [
    "params.C_m_history"
   ]
  }
 ],
 "metadata": {
  "kernelspec": {
   "display_name": "Python 3.8.5 64-bit ('base': conda)",
   "name": "python385jvsc74a57bd06aee4f39eba147985a2c1cbf1db4ebecc02362fa8877deaa860706b7b1b97f3d"
  },
  "language_info": {
   "codemirror_mode": {
    "name": "ipython",
    "version": 3
   },
   "file_extension": ".py",
   "mimetype": "text/x-python",
   "name": "python",
   "nbconvert_exporter": "python",
   "pygments_lexer": "ipython3",
   "version": "3.8.5"
  },
  "orig_nbformat": 2
 },
 "nbformat": 4,
 "nbformat_minor": 2
}