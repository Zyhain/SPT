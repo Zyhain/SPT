{
 "cells": [
  {
   "cell_type": "code",
   "execution_count": 1,
   "metadata": {},
   "outputs": [],
   "source": [
    "import matplotlib.pyplot as plt\n",
    "import numpy.matlib"
   ]
  },
  {
   "cell_type": "code",
   "execution_count": 2,
   "metadata": {},
   "outputs": [],
   "source": [
    "plt.rcParams['text.usetex']=True\n",
    "plt.rcParams['font.family']='serif'\n",
    "plt.rcParams['font.size']=9\n",
    "plt.rcParams['axes.titlesize']=plt.rcParams['font.size']\n",
    "plt.rcParams['figure.figsize']=(6.8,4)"
   ]
  },
  {
   "cell_type": "code",
   "execution_count": 53,
   "metadata": {},
   "outputs": [],
   "source": [
    "import numpy as np\n",
    "import scipy.sparse as sp\n",
    "import scipy.sparse.linalg as sla\n",
    "import scipy.linalg as la\n",
    "import numpy.matlib\n",
    "\n",
    "class Params:\n",
    "    '''\n",
    "    example: params=Params(mu=2)\n",
    "    '''\n",
    "    def __init__(self,\n",
    "    delta=0,    \n",
    "    L=100,\n",
    "    T=0,\n",
    "    bc=1    # 0: open boundary condition; >0: PBC; <0: APBC\n",
    "    ):\n",
    "        self.delta=delta\n",
    "        self.mu=2*(1-delta)\n",
    "        self.t=-(1+delta)\n",
    "        self.Delta=-(1+delta)\n",
    "        self.L=L\n",
    "        self.tau_z=sp.dia_matrix(np.diag([1,-1]))\n",
    "        self.tau_y=sp.dia_matrix(np.array([[0,-1j],[1j,0]]))\n",
    "        self.bc=bc\n",
    "        self.T=T\n",
    "        self.band1sm=sp.diags([1],[1],(L,L)).tocsr()\n",
    "        self.bandm1sm=sp.diags([1],[-1],(L,L)).tocsr()\n",
    "        self.band1sm[-1,0]=1*(2*np.heaviside(bc,1/2)-1)\n",
    "        self.bandm1sm[0,-1]=1*(2*np.heaviside(bc,1/2)-1)\n",
    "        # Hamiltonian in the ferimion basis\n",
    "        self.Hamiltonian_f=-self.mu*sp.kron(self.tau_z,sp.identity(self.L))-sp.kron(self.t*self.tau_z+1j*self.Delta*self.tau_y,self.band1sm)-sp.kron(self.t*self.tau_z-1j*self.Delta*self.tau_y,self.bandm1sm)\n",
    "        # BdG Hamiltonian back to original\n",
    "        \n",
    "        self.Hamiltonian_f/=2\n",
    "        # Hamiltonian in the Majorana basis\n",
    "        band=np.vstack([np.ones(L)*(1-delta)*1j,np.ones(L)*(1+delta)*1j]).flatten('F')\n",
    "        Ham=sp.diags(np.array([band[:-1],band[:-1].conj()]),np.array([-1,1]),shape=(2*L,2*L)).tocsr()\n",
    "        Ham[0,-1]=(1+delta)*1j*bc\n",
    "        Ham[-1,0]=-(1+delta)*1j*bc\n",
    "        self.Hamiltonian_m=Ham\n",
    "\n",
    "        \n",
    "\n",
    "\n",
    "    def bandstructure(self,H_type='f'):    \n",
    "        if H_type=='f':    \n",
    "            val,vec=la.eigh(self.Hamiltonian_f.toarray())\n",
    "            sortindex=np.argsort(val)\n",
    "            self.val_f=val[sortindex]\n",
    "            self.vec_f=vec[:,sortindex]\n",
    "        elif H_type=='m':\n",
    "            val,vec=la.eigh(self.Hamiltonian_m.toarray()) \n",
    "            sortindex=np.argsort(val)\n",
    "            self.val_m=val[sortindex]\n",
    "            self.vec_m=vec[:,sortindex]\n",
    "        else:\n",
    "            raise ValueError('type of Hamiltonian ({}) not found'.format(H_type))\n",
    "\n",
    "\n",
    "\n",
    "    def fermi_dist(self,energy,E_F):      \n",
    "        if self.T==0:\n",
    "            return np.heaviside(E_F-energy,0)\n",
    "        else:\n",
    "            return 1/(1+np.exp((energy-E_F)/self.T)) \n",
    "\n",
    "\n",
    "    def covariance_matrix_f(self,E_F=0):\n",
    "        if not (hasattr(self,'val_f') and hasattr(self,'vec_f')):\n",
    "            self.bandstructure('f')\n",
    "        occupancy=self.fermi_dist(self.val_f,E_F)\n",
    "        occupancy_mat=np.matlib.repmat(occupancy,self.vec_f.shape[0],1)\n",
    "        self.C_f=np.real((occupancy_mat*self.vec_f)@self.vec_f.T.conj())\n",
    "\n",
    "    def covariance_matrix_m(self,E_F=0):\n",
    "        if not (hasattr(self,'val_m') and hasattr(self,'vec_m')):\n",
    "            self.bandstructure('m')\n",
    "        occupancy=self.fermi_dist(self.val_m,E_F)\n",
    "        occupancy_mat=np.matlib.repmat(occupancy,self.vec_m.shape[0],1)\n",
    "        self.C_m=(1j*2*(occupancy_mat*self.vec_m)@self.vec_m.T.conj())-1j*np.eye(self.L*2)\n",
    "        assert np.abs(np.imag(self.C_m)).max()<1e-10, \"Covariance matrix not real\"\n",
    "        self.C_m=np.real(self.C_m)\n",
    "        self.C_m_history=[self.C_m]\n",
    "    \n",
    "    def projection(self,s):\n",
    "        '''\n",
    "        s= 0,1 occupancy number\n",
    "        i,j: adjacent pair of Majorana\n",
    "        flow is from alpha_{i,j} to gamma_{i,j}\n",
    "\n",
    "        return: the basis are ordered as gamma_i,gamma_j,alpha_j,alpha_i\n",
    "        '''\n",
    "        assert (s==0 or s==1),\"s={} is either 0 or 1\".format(s)\n",
    "        blkmat=(np.array([[0,-(-1)**s],[(-1)**s,0]]))\n",
    "        return sp.bmat([[blkmat,None],[None,blkmat.T]]).toarray()\n",
    "\n",
    "    def measure(self,s,i,j):\n",
    "        permutation_mat=sp.diags([1],[0],(self.L*2,self.L*2)).tocsr()\n",
    "        # i <-> -2\n",
    "        permutation_mat[i,i]=0\n",
    "        permutation_mat[-2,-2]=0\n",
    "        permutation_mat[i,-2]=1\n",
    "        permutation_mat[-2,i]=1\n",
    "        # j <-> -1\n",
    "        permutation_mat[j,j]=0\n",
    "        permutation_mat[-1,-1]=0\n",
    "        permutation_mat[j,-1]=1\n",
    "        permutation_mat[-1,j]=1\n",
    "        if not hasattr(self,'C_m'):\n",
    "            self.covariance_matrix_m()\n",
    "        C_m_perm=permutation_mat.T@self.C_m_history[-1]@permutation_mat.T\n",
    "        Gamma_LL=C_m_perm[:-2,:-2]\n",
    "        Gamma_LR=C_m_perm[:-2,-2:]\n",
    "        Gamma_RR=C_m_perm[-2:,-2:]\n",
    "\n",
    "        proj=self.projection(s)\n",
    "        Upsilon_LL=proj[:-2,:-2]\n",
    "        Upsilon_LR=proj[:-2,-2:]\n",
    "        Upsilon_RR=proj[-2:,-2:]\n",
    "        Upsilon_RL=proj[-2:,:-2]\n",
    "        zero=np.zeros((self.L*2-2,2))\n",
    "        zero0=np.zeros((2,2))\n",
    "        mat1=np.block([[Gamma_LL,zero],[zero.T,Upsilon_RR]])\n",
    "        mat2=np.block([[Gamma_LR,zero],[zero0,Upsilon_RL]])\n",
    "        mat3=np.block([[Gamma_RR,np.eye(2)],[-np.eye(2),Upsilon_LL]])\n",
    "        self.mat2=mat2\n",
    "        if np.count_nonzero(mat2):\n",
    "            Psi=mat1+mat2@(la.solve(mat3,mat2.T))\n",
    "        else:\n",
    "            Psi=mat1\n",
    "        Psi=permutation_mat.T@Psi@permutation_mat\n",
    "        \n",
    "        \n",
    "        self.C_m_history.append(Psi) \n",
    "\n",
    "\n",
    "    def c_subregion_f(self,subregion):\n",
    "        if not hasattr(self,'C'):\n",
    "            self.covariance_matrix_f()\n",
    "        try:\n",
    "            subregion=np.array(subregion)\n",
    "        except:\n",
    "            raise ValueError(\"The subregion is ill-defined\"+subregion)\n",
    "        XX,YY=np.meshgrid(np.arange(2*self.L),np.arange(2*self.L))\n",
    "        mask_hh=np.isin(XX,subregion)*np.isin(YY,subregion)\n",
    "        mask_hp=np.isin(XX,subregion)*np.isin(YY,subregion+self.L)\n",
    "        mask_ph=np.isin(XX,subregion+self.L)*np.isin(YY,subregion)\n",
    "        mask_pp=np.isin(XX,subregion+self.L)*np.isin(YY,subregion+self.L)\n",
    "        mask=mask_hh+mask_hp+mask_ph+mask_pp\n",
    "        return self.C_f[mask].reshape((2*subregion.shape[0],2*subregion.shape[0]))\n",
    "\n",
    "    def von_Neumann_entropy(self,subregion):\n",
    "        c_A=self.c_subregion(subregion)\n",
    "        val,vec=la.eigh(c_A)\n",
    "        self.val_sh=val\n",
    "        val=np.sort(val)[:subregion.shape[0]]\n",
    "        return np.real(-np.sum(val*np.log(val+1e-18j))-np.sum((1-val)*np.log(1-val+1e-18j)))\n",
    "\n",
    "    def c_subregion_m(self,subregion,Gamma=None):\n",
    "        if not hasattr(self,'C_m'):\n",
    "            self.covariance_matrix_m()\n",
    "\n",
    "        if Gamma==None:\n",
    "            Gamma=self.C_m_history[-1]\n",
    "        try:\n",
    "            subregion=np.array(subregion)\n",
    "        except:\n",
    "            raise ValueError(\"The subregion is ill-defined\"+subregion)\n",
    "        XX,YY=np.meshgrid(np.arange(2*self.L),np.arange(2*self.L))\n",
    "        mask=np.isin(XX,subregion)*np.isin(YY,subregion)        \n",
    "        return Gamma[mask].reshape((subregion.shape[0],subregion.shape[0]))\n",
    "\n",
    "    def von_Neumann_entropy_m(self,subregion):\n",
    "        c_A=self.c_subregion_m(subregion)\n",
    "        val,vec=la.eigh(1j*c_A)\n",
    "        self.val_sh=val\n",
    "        val=np.sort(val)[:subregion.shape[0]]\n",
    "        val=(1-val)/2   #\\lambda=(1-\\xi)/2\n",
    "        return np.real(-np.sum(val*np.log(val+1e-18j))-np.sum((1-val)*np.log(1-val+1e-18j)))\n",
    "\n",
    "    def mutual_information(self,subregion_A,subregion_B):\n",
    "        s_A=self.von_Neumann_entropy(subregion_A)\n",
    "        s_B=self.von_Neumann_entropy(subregion_B)\n",
    "        subregion_AB=np.hstack([subregion_A,subregion_B])\n",
    "        s_AB=self.von_Neumann_entropy(subregion_AB)\n",
    "        return s_A+s_B-s_AB\n",
    "\n",
    "    def mutual_information_m(self,subregion_A,subregion_B):\n",
    "        s_A=self.von_Neumann_entropy_m(subregion_A)\n",
    "        s_B=self.von_Neumann_entropy_m(subregion_B)\n",
    "        subregion_AB=np.hstack([subregion_A,subregion_B])\n",
    "        s_AB=self.von_Neumann_entropy_m(subregion_AB)\n",
    "        return s_A+s_B-s_AB\n",
    "\n",
    "    def measure_batch(self,batchsize):\n",
    "        self.i_history=[]\n",
    "        self.s_history=[]\n",
    "        for _ in range(batchsize):\n",
    "            i=np.random.randint(2,29)\n",
    "            s=np.random.randint(0,2)\n",
    "            self.i_history.append(i)\n",
    "            self.s_history.append(s)\n",
    "            self.measure(s,i,i+1)\n",
    "    "
   ]
  },
  {
   "cell_type": "code",
   "execution_count": 586,
   "metadata": {},
   "outputs": [
    {
     "name": "stderr",
     "output_type": "stream",
     "text": [
      "/home/jake/anaconda3/lib/python3.8/site-packages/scipy/sparse/_index.py:82: SparseEfficiencyWarning: Changing the sparsity structure of a csr_matrix is expensive. lil_matrix is more efficient.\n",
      "  self._set_intXint(row, col, x.flat[0])\n"
     ]
    }
   ],
   "source": [
    "params=Params(delta=-0.3,L=16,bc=0)"
   ]
  },
  {
   "cell_type": "code",
   "execution_count": null,
   "metadata": {},
   "outputs": [
    {
     "data": {
      "text/plain": "array([-2.00000000e+00, -1.96157056e+00, -1.96157056e+00, -1.84775907e+00,\n       -1.84775907e+00, -1.66293922e+00, -1.66293922e+00, -1.41421356e+00,\n       -1.41421356e+00, -1.11114047e+00, -1.11114047e+00, -7.65366865e-01,\n       -7.65366865e-01, -3.90180644e-01, -3.90180644e-01,  1.47709056e-16,\n        2.77699819e-15,  3.90180644e-01,  3.90180644e-01,  7.65366865e-01,\n        7.65366865e-01,  1.11114047e+00,  1.11114047e+00,  1.41421356e+00,\n        1.41421356e+00,  1.66293922e+00,  1.66293922e+00,  1.84775907e+00,\n        1.84775907e+00,  1.96157056e+00,  1.96157056e+00,  2.00000000e+00])"
     },
     "execution_count": 54,
     "metadata": {},
     "output_type": "execute_result"
    }
   ],
   "source": [
    "params.bandstructure('f')\n",
    "params.val"
   ]
  },
  {
   "cell_type": "code",
   "execution_count": null,
   "metadata": {},
   "outputs": [
    {
     "data": {
      "text/plain": "array([-2.00000000e+00, -1.96157056e+00, -1.96157056e+00, -1.84775907e+00,\n       -1.84775907e+00, -1.66293922e+00, -1.66293922e+00, -1.41421356e+00,\n       -1.41421356e+00, -1.11114047e+00, -1.11114047e+00, -7.65366865e-01,\n       -7.65366865e-01, -3.90180644e-01, -3.90180644e-01,  1.33226763e-15,\n        3.33066907e-15,  3.90180644e-01,  3.90180644e-01,  7.65366865e-01,\n        7.65366865e-01,  1.11114047e+00,  1.11114047e+00,  1.41421356e+00,\n        1.41421356e+00,  1.66293922e+00,  1.66293922e+00,  1.84775907e+00,\n        1.84775907e+00,  1.96157056e+00,  1.96157056e+00,  2.00000000e+00])"
     },
     "execution_count": 55,
     "metadata": {},
     "output_type": "execute_result"
    }
   ],
   "source": [
    "params.bandstructure('m')\n",
    "params.val"
   ]
  },
  {
   "cell_type": "code",
   "execution_count": null,
   "metadata": {},
   "outputs": [
    {
     "name": "stderr",
     "output_type": "stream",
     "text": [
      "/home/jake/anaconda3/lib/python3.8/site-packages/scipy/sparse/_index.py:82: SparseEfficiencyWarning: Changing the sparsity structure of a csr_matrix is expensive. lil_matrix is more efficient.\n",
      "  self._set_intXint(row, col, x.flat[0])\n"
     ]
    }
   ],
   "source": [
    "delta_list=np.linspace(-1,1,100)\n",
    "eigvallist_f=[]\n",
    "eigvallist_m=[]\n",
    "for delta in delta_list:\n",
    "    params=Params(delta,L=16,bc=-1)\n",
    "    params.bandstructure('f')\n",
    "    params.bandstructure('m')\n",
    "    eigvallist_f.append(params.val_f)\n",
    "    eigvallist_m.append(params.val_m)\n"
   ]
  },
  {
   "cell_type": "code",
   "execution_count": 518,
   "metadata": {},
   "outputs": [
    {
     "data": {
      "image/png": "[encoded data removed]",
      "text/plain": "<Figure size 489.6x288 with 2 Axes>"
     },
     "metadata": {
      "needs_background": "light"
     },
     "output_type": "display_data"
    }
   ],
   "source": [
    "fig,ax=plt.subplots(1,2,sharey=True)\n",
    "# for index in range(eigvallist_f[0].shape[0]):\n",
    "#     ax[0].plot(delta_list,np.array(eigvallist_m)[:,index],'k')\n",
    "#     ax[1].plot(delta_list,np.array(eigvallist_f)[:,index],'k')\n",
    "# [ax.set_xlabel(r'$\\delta$') for ax in ax]\n",
    "# ax[0].set_ylabel(r'$E$')\n",
    "# [ax.text(.5,1,text,transform=ax.transAxes,ha='center',va='bottom') for ax,text in zip(ax,('Majorana basis','Particle-hole basis'))]\n",
    "\n",
    "# fig.tight_layout()\n",
    "\n",
    "# fig.savefig('/mnt/d/kitp/Rp_SPT/3/bandstructure-apbc.pdf',bbox_inches='tight')\n"
   ]
  },
  {
   "cell_type": "code",
   "execution_count": 514,
   "metadata": {},
   "outputs": [
    {
     "name": "stderr",
     "output_type": "stream",
     "text": [
      "/home/jake/anaconda3/lib/python3.8/site-packages/scipy/sparse/_index.py:82: SparseEfficiencyWarning: Changing the sparsity structure of a csr_matrix is expensive. lil_matrix is more efficient.\n",
      "  self._set_intXint(row, col, x.flat[0])\n"
     ]
    }
   ],
   "source": [
    "delta_list=np.linspace(-1,1,100)\n",
    "eigvallist_f=[]\n",
    "eigvallist_m=[]\n",
    "for delta in delta_list:\n",
    "    params=Params(delta,L=16,bc=0)\n",
    "    params.bandstructure('f')\n",
    "    params.bandstructure('m')\n",
    "    eigvallist_f.append(params.val_f)\n",
    "    eigvallist_m.append(params.val_m)\n"
   ]
  },
  {
   "cell_type": "code",
   "execution_count": 525,
   "metadata": {},
   "outputs": [
    {
     "data": {
      "image/png": "[encoded data removed]",
      "text/plain": "<Figure size 489.6x288 with 2 Axes>"
     },
     "metadata": {
      "needs_background": "light"
     },
     "output_type": "display_data"
    }
   ],
   "source": [
    "fig,ax=plt.subplots(1,2,sharey=True)\n",
    "for index in range(eigvallist_m[0].shape[0]):\n",
    "    ax[0].plot(delta_list,np.array(eigvallist_m)[:,index],'k')\n",
    "    ax[1].plot(delta_list,np.array(eigvallist_f)[:,index],'k')\n",
    "[ax.set_xlabel(r'$\\delta$') for ax in ax]\n",
    "ax[0].set_ylabel(r'$E$')\n",
    "[ax.text(.5,1,text,transform=ax.transAxes,ha='center',va='bottom') for ax,text in zip(ax,('Majorana basis','Particle-hole basis'))]\n",
    "\n",
    "fig.tight_layout()\n",
    "\n",
    "# fig.savefig('/mnt/d/kitp/Rp_SPT/3/bandstructure-obc.pdf',bbox_inches='tight')\n"
   ]
  },
  {
   "cell_type": "code",
   "execution_count": 526,
   "metadata": {},
   "outputs": [
    {
     "name": "stderr",
     "output_type": "stream",
     "text": [
      "/home/jake/anaconda3/lib/python3.8/site-packages/scipy/sparse/_index.py:82: SparseEfficiencyWarning: Changing the sparsity structure of a csr_matrix is expensive. lil_matrix is more efficient.\n",
      "  self._set_intXint(row, col, x.flat[0])\n"
     ]
    }
   ],
   "source": [
    "params=Params(delta=-0.3,L=16,bc=-1)"
   ]
  },
  {
   "cell_type": "code",
   "execution_count": 527,
   "metadata": {},
   "outputs": [],
   "source": [
    "params.covariance_matrix_m()\n",
    "params.covariance_matrix_f()"
   ]
  },
  {
   "cell_type": "code",
   "execution_count": 675,
   "metadata": {},
   "outputs": [
    {
     "data": {
      "image/png": "[encoded data removed]",
      "text/plain": "<Figure size 489.6x489.6 with 5 Axes>"
     },
     "metadata": {
      "needs_background": "light"
     },
     "output_type": "display_data"
    }
   ],
   "source": [
    "fig,ax=plt.subplots(2,2,figsize=(6.8,6.8))\n",
    "im0=ax[0,0].imshow(params.C_m,cmap='seismic')\n",
    "im1=ax[0,1].imshow(params.C_m@params.C_m,cmap='hot')\n",
    "ax[0,0].text(0.5,1.1,r'$\\Gamma$',transform=ax[0,0].transAxes,ha='center',va='bottom')\n",
    "ax[0,1].text(0.5,1.1,r'$\\Gamma^2$',transform=ax[0,1].transAxes,ha='center',va='bottom')\n",
    "\n",
    "\n",
    "# [ax.set_box_aspect(1) for ax in ax]\n",
    "\n",
    "axins0=ax[0,0].inset_axes([0.0, -.1, 1, 0.05],transform=ax[0,0].transAxes) \n",
    "cb0=fig.colorbar(im0,cax=axins0,orientation='horizontal')\n",
    "cb0.ax.xaxis.set_tick_params(pad=0)\n",
    "\n",
    "axins1=ax[0,1].inset_axes([0.0, -.1, 1, 0.05],transform=ax[0,1].transAxes) \n",
    "cb1=fig.colorbar(im1,cax=axins1,orientation='horizontal')\n",
    "cb1.ax.xaxis.set_tick_params(pad=0)\n",
    "\n",
    "im2=ax[1,0].imshow(params.C_f,cmap='seismic',vmax=1,vmin=-1)\n",
    "ax[1,0].text(0.5,1.1,r'$G$',transform=ax[1,0].transAxes,ha='center',va='bottom')\n",
    "axins2=ax[1,0].inset_axes([0.0, -.1, 1, 0.05],transform=ax[1,0].transAxes) \n",
    "cb2=fig.colorbar(im2,cax=axins2,orientation='horizontal')\n",
    "cb2.ax.xaxis.set_tick_params(pad=0)\n",
    "\n",
    "color = 'tab:red'\n",
    "ax[1,1].plot(val_sub['f'],'.',marker=\"x\",color=color)\n",
    "ax[1,1].set_xlabel('Number of eigenvalues')\n",
    "ax[1,1].set_ylabel(r'Eigenvalues of $G$', color=color)\n",
    "ax[1,1].tick_params(axis='y', labelcolor=color)\n",
    "\n",
    "\n",
    "ax2=ax[1,1].twinx()\n",
    "color = 'tab:blue'\n",
    "ax2.plot(val_sub['m'],'.',marker=\"+\",color=color)\n",
    "ax2.set_ylabel(r'Eigenvalues of $i\\Gamma$', color=color)  # we already handled the x-label with ax1\n",
    "ax2.tick_params(axis='y', labelcolor=color)\n",
    "\n",
    "[ax.xaxis.set_label_position('top') for ax in ax.flatten()[:3]]\n",
    "[ax.xaxis.tick_top() for ax in ax.flatten()[:3]]\n",
    "[ax.set_xticks([0,15,31]) for ax in ax.flatten()[:3]]\n",
    "[ax.set_yticks([0,15,31]) for ax in ax.flatten()[:3]]\n",
    "[ax.set_xticklabels([1,16,32]) for ax in ax.flatten()[:3]]\n",
    "[ax.set_yticklabels([1,16,32]) for ax in ax.flatten()[:3]]\n",
    "\n",
    "[ax.text(-0.,1.02,'({})'.format(text),transform=ax.transAxes,ha='right',va='bottom') for ax,text in zip(ax.flatten(),'abcd')]\n",
    "ax[1,1].set_box_aspect(1)\n",
    "fig.tight_layout()\n",
    "fig.savefig('/mnt/d/kitp/Rp_SPT/3/cov.pdf',bbox_inches='tight')\n"
   ]
  },
  {
   "cell_type": "code",
   "execution_count": 645,
   "metadata": {},
   "outputs": [],
   "source": [
    "l=8\n",
    "val_sub={}\n",
    "val_sub['f']=la.eigh(params.c_subregion_f(np.arange(l)),eigvals_only=True)\n",
    "val_sub['m']=la.eigh(1j*params.c_subregion_m(np.arange(2*l)),eigvals_only=True)"
   ]
  },
  {
   "cell_type": "code",
   "execution_count": 646,
   "metadata": {},
   "outputs": [
    {
     "data": {
      "text/plain": "array([-1.81920941e-16, -9.85288403e-17, -2.58276871e-17,  4.59352493e-16,\n        1.85260598e-12,  4.43848341e-09,  9.77989783e-06,  2.09394658e-02,\n        9.79060534e-01,  9.99990220e-01,  9.99999996e-01,  1.00000000e+00,\n        1.00000000e+00,  1.00000000e+00,  1.00000000e+00,  1.00000000e+00])"
     },
     "execution_count": 646,
     "metadata": {},
     "output_type": "execute_result"
    }
   ],
   "source": [
    "val_sub['f']"
   ]
  },
  {
   "cell_type": "code",
   "execution_count": 647,
   "metadata": {},
   "outputs": [
    {
     "data": {
      "text/plain": "array([-1.        , -1.        , -1.        , -1.        , -1.        ,\n       -0.99999999, -0.99998044, -0.95812107,  0.95812107,  0.99998044,\n        0.99999999,  1.        ,  1.        ,  1.        ,  1.        ,\n        1.        ])"
     },
     "execution_count": 647,
     "metadata": {},
     "output_type": "execute_result"
    }
   ],
   "source": [
    "val_sub['m']"
   ]
  },
  {
   "cell_type": "code",
   "execution_count": 648,
   "metadata": {},
   "outputs": [
    {
     "data": {
      "text/plain": "array([-3.88578059e-15,  2.77555756e-16,  1.11022302e-15,  1.07691633e-14,\n        1.85301774e-12,  4.43848008e-09,  9.77989782e-06,  2.09394658e-02,\n        9.79060534e-01,  9.99990220e-01,  9.99999996e-01,  1.00000000e+00,\n        1.00000000e+00,  1.00000000e+00,  1.00000000e+00,  1.00000000e+00])"
     },
     "execution_count": 648,
     "metadata": {},
     "output_type": "execute_result"
    }
   ],
   "source": [
    "(1+val_sub['m'])/2"
   ]
  },
  {
   "cell_type": "code",
   "execution_count": 649,
   "metadata": {},
   "outputs": [
    {
     "data": {
      "text/plain": "[<matplotlib.lines.Line2D at 0x7f92f2e666a0>]"
     },
     "execution_count": 649,
     "metadata": {},
     "output_type": "execute_result"
    },
    {
     "data": {
      "image/png": "[encoded data removed]",
      "text/plain": "<Figure size 489.6x288 with 1 Axes>"
     },
     "metadata": {
      "needs_background": "light"
     },
     "output_type": "display_data"
    }
   ],
   "source": [
    "fig,ax=plt.subplots()\n",
    "plt.plot(((1+val_sub['m'])/2),'.',marker=\"+\")\n",
    "plt.plot(val_sub['f'],'.',marker=\"x\")\n",
    "# plt.plot(val_sub['m'],'.',marker=\"x\")\n"
   ]
  },
  {
   "cell_type": "code",
   "execution_count": 607,
   "metadata": {},
   "outputs": [
    {
     "data": {
      "text/plain": "[<matplotlib.lines.Line2D at 0x7f92f247b040>]"
     },
     "execution_count": 607,
     "metadata": {},
     "output_type": "execute_result"
    },
    {
     "data": {
      "image/png": "[encoded data removed]",
      "text/plain": "<Figure size 489.6x288 with 1 Axes>"
     },
     "metadata": {
      "needs_background": "light"
     },
     "output_type": "display_data"
    }
   ],
   "source": [
    "plt.plot(np.sort((1-val['m'])/2),'.')\n",
    "plt.plot(val['f'],'.')"
   ]
  },
  {
   "cell_type": "code",
   "execution_count": 592,
   "metadata": {},
   "outputs": [
    {
     "data": {
      "text/plain": "array([-1.        , -0.99999999, -0.99998109, -0.95814734,  0.95814734,\n        0.99998109,  0.99999999,  1.        ])"
     },
     "execution_count": 592,
     "metadata": {},
     "output_type": "execute_result"
    }
   ],
   "source": [
    "la.eigh(1j*params.c_subregion_m(np.arange(8)),eigvals_only=True)"
   ]
  },
  {
   "cell_type": "code",
   "execution_count": 618,
   "metadata": {},
   "outputs": [
    {
     "data": {
      "image/png": "[encoded data removed]",
      "text/plain": "<Figure size 489.6x288 with 2 Axes>"
     },
     "metadata": {
      "needs_background": "light"
     },
     "output_type": "display_data"
    }
   ],
   "source": [
    "fig,ax=plt.subplots()\n",
    "im=ax.imshow(params.C_f,cmap='seismic',vmax=1,vmin=-1)\n",
    "cb=fig.colorbar(im)"
   ]
  },
  {
   "cell_type": "code",
   "execution_count": 577,
   "metadata": {},
   "outputs": [],
   "source": [
    "val={}\n",
    "val['f']=la.eigh(params.C_f,eigvals_only=True)\n",
    "val['m']=la.eigh(1j*params.C_m,eigvals_only=True)"
   ]
  },
  {
   "cell_type": "code",
   "execution_count": 578,
   "metadata": {},
   "outputs": [
    {
     "data": {
      "text/plain": "array([-2.53676396e-16, -2.00261838e-16, -1.73738609e-16, -1.58024122e-16,\n       -1.16524714e-16, -9.14279475e-17, -8.19844432e-17, -6.77188529e-17,\n       -2.10810584e-17,  1.32900594e-17,  3.78031436e-17,  1.17016287e-16,\n        1.28022536e-16,  1.84327360e-16,  2.33521206e-16,  2.51895052e-16,\n        1.00000000e+00,  1.00000000e+00,  1.00000000e+00,  1.00000000e+00,\n        1.00000000e+00,  1.00000000e+00,  1.00000000e+00,  1.00000000e+00,\n        1.00000000e+00,  1.00000000e+00,  1.00000000e+00,  1.00000000e+00,\n        1.00000000e+00,  1.00000000e+00,  1.00000000e+00,  1.00000000e+00])"
     },
     "execution_count": 578,
     "metadata": {},
     "output_type": "execute_result"
    }
   ],
   "source": [
    "val['f']"
   ]
  },
  {
   "cell_type": "code",
   "execution_count": 580,
   "metadata": {},
   "outputs": [
    {
     "data": {
      "text/plain": "array([ 1.00000000e+00,  1.00000000e+00,  1.00000000e+00,  1.00000000e+00,\n        1.00000000e+00,  1.00000000e+00,  1.00000000e+00,  1.00000000e+00,\n        1.00000000e+00,  1.00000000e+00,  1.00000000e+00,  1.00000000e+00,\n        1.00000000e+00,  1.00000000e+00,  1.00000000e+00,  1.00000000e+00,\n        8.88178420e-16,  7.77156117e-16,  4.99600361e-16,  3.88578059e-16,\n        2.77555756e-16,  2.77555756e-16,  1.11022302e-16,  1.11022302e-16,\n        0.00000000e+00, -1.11022302e-16, -2.22044605e-16, -3.33066907e-16,\n       -4.44089210e-16, -5.55111512e-16, -8.88178420e-16, -8.88178420e-16])"
     },
     "execution_count": 580,
     "metadata": {},
     "output_type": "execute_result"
    }
   ],
   "source": [
    "(1-val['m'])/2"
   ]
  },
  {
   "cell_type": "code",
   "execution_count": 565,
   "metadata": {},
   "outputs": [
    {
     "data": {
      "text/plain": "<matplotlib.image.AxesImage at 0x7f92f475f970>"
     },
     "execution_count": 565,
     "metadata": {},
     "output_type": "execute_result"
    },
    {
     "data": {
      "image/png": "[encoded data removed]",
      "text/plain": "<Figure size 489.6x288 with 1 Axes>"
     },
     "metadata": {
      "needs_background": "light"
     },
     "output_type": "display_data"
    }
   ],
   "source": [
    "plt.imshow(params.C_f)"
   ]
  },
  {
   "cell_type": "code",
   "execution_count": 564,
   "metadata": {},
   "outputs": [
    {
     "data": {
      "text/plain": "<matplotlib.image.AxesImage at 0x7f92f3520c70>"
     },
     "execution_count": 564,
     "metadata": {},
     "output_type": "execute_result"
    },
    {
     "data": {
      "image/png": "[encoded data removed]",
      "text/plain": "<Figure size 489.6x288 with 1 Axes>"
     },
     "metadata": {
      "needs_background": "light"
     },
     "output_type": "display_data"
    }
   ],
   "source": [
    "plt.imshow(params.C_m)"
   ]
  },
  {
   "cell_type": "code",
   "execution_count": 167,
   "metadata": {},
   "outputs": [
    {
     "data": {
      "text/plain": "<matplotlib.colorbar.Colorbar at 0x7f92f5c8e7f0>"
     },
     "execution_count": 167,
     "metadata": {},
     "output_type": "execute_result"
    },
    {
     "data": {
      "image/png": "[encoded data removed]",
      "text/plain": "<Figure size 489.6x288 with 2 Axes>"
     },
     "metadata": {
      "needs_background": "light"
     },
     "output_type": "display_data"
    }
   ],
   "source": [
    "plt.imshow(params.C_m)\n",
    "plt.colorbar()"
   ]
  },
  {
   "cell_type": "code",
   "execution_count": 168,
   "metadata": {},
   "outputs": [
    {
     "data": {
      "text/plain": "<matplotlib.colorbar.Colorbar at 0x7f92f6523970>"
     },
     "execution_count": 168,
     "metadata": {},
     "output_type": "execute_result"
    },
    {
     "data": {
      "image/png": "[encoded data removed]",
      "text/plain": "<Figure size 489.6x288 with 2 Axes>"
     },
     "metadata": {
      "needs_background": "light"
     },
     "output_type": "display_data"
    }
   ],
   "source": [
    "plt.imshow(params.C_m@params.C_m)\n",
    "plt.colorbar()"
   ]
  },
  {
   "cell_type": "code",
   "execution_count": 169,
   "metadata": {},
   "outputs": [],
   "source": [
    "ld=la.eigh(params.C_f,eigvals_only=True)"
   ]
  },
  {
   "cell_type": "code",
   "execution_count": 170,
   "metadata": {},
   "outputs": [
    {
     "data": {
      "text/plain": "array([-2.26234955e-16, -1.79490803e-16, -1.49898842e-16, -1.08827097e-16,\n       -9.69112322e-17, -8.63455613e-17, -5.61039384e-17,  6.62169059e-19,\n        4.85762416e-17,  6.39493863e-17,  7.96614272e-17,  9.21165981e-17,\n        1.14763722e-16,  1.36466229e-16,  1.94051923e-16,  2.58155090e-16,\n        1.00000000e+00,  1.00000000e+00,  1.00000000e+00,  1.00000000e+00,\n        1.00000000e+00,  1.00000000e+00,  1.00000000e+00,  1.00000000e+00,\n        1.00000000e+00,  1.00000000e+00,  1.00000000e+00,  1.00000000e+00,\n        1.00000000e+00,  1.00000000e+00,  1.00000000e+00,  1.00000000e+00])"
     },
     "execution_count": 170,
     "metadata": {},
     "output_type": "execute_result"
    }
   ],
   "source": [
    "ld"
   ]
  },
  {
   "cell_type": "code",
   "execution_count": 156,
   "metadata": {},
   "outputs": [],
   "source": [
    "xi=la.eigh(1j*params.C_m,eigvals_only=True)"
   ]
  },
  {
   "cell_type": "code",
   "execution_count": 157,
   "metadata": {},
   "outputs": [
    {
     "data": {
      "text/plain": "array([ 1.00000000e+00,  1.00000000e+00,  1.00000000e+00,  1.00000000e+00,\n        1.00000000e+00,  1.00000000e+00,  1.00000000e+00,  1.00000000e+00,\n        1.00000000e+00,  1.00000000e+00,  1.00000000e+00,  1.00000000e+00,\n        1.00000000e+00,  1.00000000e+00,  1.00000000e+00,  1.00000000e+00,\n        8.88178420e-16,  7.77156117e-16,  4.99600361e-16,  3.88578059e-16,\n        2.77555756e-16,  2.77555756e-16,  1.11022302e-16,  1.11022302e-16,\n        0.00000000e+00, -1.11022302e-16, -2.22044605e-16, -3.33066907e-16,\n       -4.44089210e-16, -5.55111512e-16, -8.88178420e-16, -8.88178420e-16])"
     },
     "execution_count": 157,
     "metadata": {},
     "output_type": "execute_result"
    }
   ],
   "source": [
    "(1-xi)/2"
   ]
  },
  {
   "cell_type": "code",
   "execution_count": 90,
   "metadata": {},
   "outputs": [
    {
     "data": {
      "text/plain": "<matplotlib.image.AxesImage at 0x7f92f7113ee0>"
     },
     "execution_count": 90,
     "metadata": {},
     "output_type": "execute_result"
    },
    {
     "data": {
      "image/png": "[encoded data removed]",
      "text/plain": "<Figure size 489.6x288 with 1 Axes>"
     },
     "metadata": {
      "needs_background": "light"
     },
     "output_type": "display_data"
    }
   ],
   "source": [
    "plt.imshow(params.C_m)"
   ]
  },
  {
   "cell_type": "code",
   "execution_count": 78,
   "metadata": {},
   "outputs": [
    {
     "data": {
      "text/plain": "array([[ 0., -0.,  0., ...,  0.,  0., -0.],\n       [-0.,  0., -0., ..., -0.,  0.,  0.],\n       [ 0., -0.,  0., ..., -0., -0.,  0.],\n       ...,\n       [ 0., -0., -0., ...,  0., -0.,  0.],\n       [ 0.,  0., -0., ..., -0.,  0., -0.],\n       [-0.,  0.,  0., ...,  0., -0.,  0.]])"
     },
     "execution_count": 78,
     "metadata": {},
     "output_type": "execute_result"
    }
   ],
   "source": [
    "np.real(np.round(params.C_m,10)-0.5*np.eye(32))"
   ]
  },
  {
   "cell_type": "code",
   "execution_count": 68,
   "metadata": {},
   "outputs": [
    {
     "data": {
      "text/plain": "array([[-0.        +0.j        , -0.        -0.45313889j,\n         0.        +0.j        , ...,  0.        +0.28729939j,\n         0.        -0.j        , -0.        +0.80502279j],\n       [-0.        -0.45313889j, -1.50915585-0.17789597j,\n        -0.15422977+0.32473775j, ..., -0.18692331+0.04011071j,\n         0.15422977+0.3803277j ,  0.40159976-0.14555125j],\n       [ 0.        +0.j        , -0.15422977+0.32473775j,\n        -0.51550493+0.1591981j , ...,  0.08846286+0.44832896j,\n         0.51550493-0.1591981j , -0.12618799-0.10566109j],\n       ...,\n       [ 0.        +0.28729939j, -0.18692331+0.04011071j,\n         0.08846286+0.44832896j, ..., -1.71233948-0.12723643j,\n        -0.08846286+0.52379187j, -0.15293725+0.03281786j],\n       [ 0.        -0.j        ,  0.15422977+0.3803277j ,\n         0.51550493-0.1591981j , ..., -0.08846286+0.52379187j,\n        -0.51550493+0.1591981j ,  0.12618799-0.06017841j],\n       [-0.        +0.80502279j,  0.40159976-0.14555125j,\n        -0.12618799-0.10566109j, ..., -0.15293725+0.03281786j,\n         0.12618799-0.06017841j, -1.67141838-0.11908738j]])"
     },
     "execution_count": 68,
     "metadata": {},
     "output_type": "execute_result"
    }
   ],
   "source": [
    "np.round(params.C_m@params.C_m,10)"
   ]
  },
  {
   "cell_type": "code",
   "execution_count": 5,
   "metadata": {},
   "outputs": [],
   "source": [
    "params.bandstructure('f')\n",
    "params.bandstructure('m')"
   ]
  },
  {
   "cell_type": "code",
   "execution_count": 11,
   "metadata": {},
   "outputs": [
    {
     "data": {
      "text/plain": "array([[ 0.00000000e+00+0.j,  2.10248485e-15+0.j,  2.55351296e-15+0.j,\n         2.99760217e-15+0.j,  2.16493490e-15+0.j,  1.11022302e-15+0.j,\n         1.94289029e-16+0.j,  5.55111512e-17+0.j,  1.24900090e-16+0.j,\n         2.08166817e-16+0.j, -1.04083409e-16+0.j, -1.06250684e-15+0.j,\n        -2.09435032e-15+0.j, -2.99028005e-15+0.j, -2.52307756e-15+0.j,\n        -2.10165531e-15+0.j],\n       [ 2.50000000e-01+0.j,  2.50000000e-01+0.j,  2.50000000e-01+0.j,\n         2.50000000e-01+0.j,  2.50000000e-01+0.j,  2.50000000e-01+0.j,\n         2.50000000e-01+0.j,  2.50000000e-01+0.j,  2.50000000e-01+0.j,\n         2.50000000e-01+0.j,  2.50000000e-01+0.j,  2.50000000e-01+0.j,\n         2.50000000e-01+0.j,  2.50000000e-01+0.j,  2.50000000e-01+0.j,\n         2.50000000e-01+0.j]])"
     },
     "execution_count": 11,
     "metadata": {},
     "output_type": "execute_result"
    }
   ],
   "source": [
    "params.vec_f[:,15].reshape((2,-1))"
   ]
  },
  {
   "cell_type": "code",
   "execution_count": 34,
   "metadata": {},
   "outputs": [],
   "source": [
    "zz=np.kron(1/np.sqrt(2)*np.array([[1,1],[1j,-1j]]),np.eye(16))@params.vec_f[:,16]"
   ]
  },
  {
   "cell_type": "code",
   "execution_count": 41,
   "metadata": {},
   "outputs": [
    {
     "data": {
      "text/plain": "(0.9999999999999974+0j)"
     },
     "execution_count": 41,
     "metadata": {},
     "output_type": "execute_result"
    }
   ],
   "source": [
    "la.det(np.kron(np.eye(16),1/np.sqrt(2)*np.array([[1,1],[1j,-1j]])))"
   ]
  },
  {
   "cell_type": "code",
   "execution_count": null,
   "metadata": {},
   "outputs": [],
   "source": [
    "np.kron(np.eye(16),1/np.sqrt(2)*np.array([[1,1],[1j,-1j]]))"
   ]
  },
  {
   "cell_type": "code",
   "execution_count": 42,
   "metadata": {},
   "outputs": [
    {
     "data": {
      "text/plain": "array([0.1767767+0.j       , 0.1767767+0.j       , 0.1767767+0.j       ,\n       0.1767767+0.j       , 0.1767767+0.j       , 0.1767767+0.j       ,\n       0.1767767+0.j       , 0.1767767+0.j       , 0.1767767+0.j       ,\n       0.1767767+0.j       , 0.1767767+0.j       , 0.1767767+0.j       ,\n       0.1767767+0.j       , 0.1767767+0.j       , 0.1767767+0.j       ,\n       0.1767767+0.j       , 0.       -0.1767767j, 0.       -0.1767767j,\n       0.       -0.1767767j, 0.       -0.1767767j, 0.       -0.1767767j,\n       0.       -0.1767767j, 0.       -0.1767767j, 0.       -0.1767767j,\n       0.       -0.1767767j, 0.       -0.1767767j, 0.       -0.1767767j,\n       0.       -0.1767767j, 0.       -0.1767767j, 0.       -0.1767767j,\n       0.       -0.1767767j, 0.       -0.1767767j])"
     },
     "execution_count": 42,
     "metadata": {},
     "output_type": "execute_result"
    }
   ],
   "source": [
    "np.kron(1/np.sqrt(2)*np.array([[1,1],[1j,-1j]]),np.eye(16))@params.vec_f[:,15]"
   ]
  },
  {
   "cell_type": "code",
   "execution_count": 48,
   "metadata": {},
   "outputs": [
    {
     "data": {
      "text/plain": "array([ 0.00000000e+00+0.j,  2.10248485e-15+0.j,  2.55351296e-15+0.j,\n        2.99760217e-15+0.j,  2.16493490e-15+0.j,  1.11022302e-15+0.j,\n        1.94289029e-16+0.j,  5.55111512e-17+0.j,  1.24900090e-16+0.j,\n        2.08166817e-16+0.j, -1.04083409e-16+0.j, -1.06250684e-15+0.j,\n       -2.09435032e-15+0.j, -2.99028005e-15+0.j, -2.52307756e-15+0.j,\n       -2.10165531e-15+0.j,  2.50000000e-01+0.j,  2.50000000e-01+0.j,\n        2.50000000e-01+0.j,  2.50000000e-01+0.j,  2.50000000e-01+0.j,\n        2.50000000e-01+0.j,  2.50000000e-01+0.j,  2.50000000e-01+0.j,\n        2.50000000e-01+0.j,  2.50000000e-01+0.j,  2.50000000e-01+0.j,\n        2.50000000e-01+0.j,  2.50000000e-01+0.j,  2.50000000e-01+0.j,\n        2.50000000e-01+0.j,  2.50000000e-01+0.j])"
     },
     "execution_count": 48,
     "metadata": {},
     "output_type": "execute_result"
    }
   ],
   "source": [
    "params.vec_f[:,15]"
   ]
  },
  {
   "cell_type": "code",
   "execution_count": 50,
   "metadata": {},
   "outputs": [
    {
     "data": {
      "text/plain": "array([0.1767767+0.j       , 0.       -0.1767767j, 0.1767767+0.j       ,\n       0.       -0.1767767j, 0.1767767+0.j       , 0.       -0.1767767j,\n       0.1767767+0.j       , 0.       -0.1767767j, 0.1767767+0.j       ,\n       0.       -0.1767767j, 0.1767767+0.j       , 0.       -0.1767767j,\n       0.1767767+0.j       , 0.       -0.1767767j, 0.1767767+0.j       ,\n       0.       -0.1767767j, 0.1767767+0.j       , 0.       -0.1767767j,\n       0.1767767+0.j       , 0.       -0.1767767j, 0.1767767+0.j       ,\n       0.       -0.1767767j, 0.1767767+0.j       , 0.       -0.1767767j,\n       0.1767767+0.j       , 0.       -0.1767767j, 0.1767767+0.j       ,\n       0.       -0.1767767j, 0.1767767+0.j       , 0.       -0.1767767j,\n       0.1767767+0.j       , 0.       -0.1767767j])"
     },
     "execution_count": 50,
     "metadata": {},
     "output_type": "execute_result"
    }
   ],
   "source": [
    "np.kron(np.eye(16),1/np.sqrt(2)*np.array([[1,1],[1j,-1j]]))@params.vec_f[:,15].reshape((2,-1)).flatten('F')"
   ]
  },
  {
   "cell_type": "code",
   "execution_count": 74,
   "metadata": {},
   "outputs": [
    {
     "data": {
      "text/plain": "array([[ 1.+0.j, -0.-0.j,  0.-0.j, ...,  0.-0.j,  0.+0.j, -0.+0.j],\n       [-0.+0.j,  1.+0.j, -0.-0.j, ..., -0.+0.j,  0.-0.j,  0.+0.j],\n       [ 0.+0.j, -0.+0.j,  1.+0.j, ..., -0.+0.j, -0.-0.j,  0.-0.j],\n       ...,\n       [ 0.+0.j, -0.-0.j, -0.-0.j, ...,  1.+0.j, -0.-0.j,  0.-0.j],\n       [ 0.-0.j,  0.+0.j, -0.+0.j, ..., -0.+0.j,  1.+0.j, -0.-0.j],\n       [-0.-0.j,  0.-0.j,  0.+0.j, ...,  0.+0.j, -0.+0.j,  1.+0.j]])"
     },
     "execution_count": 74,
     "metadata": {},
     "output_type": "execute_result"
    }
   ],
   "source": [
    "np.round(params.vec_m@params.vec_m.T.conj(),10)"
   ]
  },
  {
   "cell_type": "code",
   "execution_count": 33,
   "metadata": {},
   "outputs": [
    {
     "data": {
      "text/plain": "array([ 0.1767767+0.j       , -0.       -0.1767767j,\n        0.1767767+0.j       , -0.       -0.1767767j,\n        0.1767767-0.j       , -0.       -0.1767767j,\n        0.1767767-0.j       , -0.       -0.1767767j,\n        0.1767767+0.j       ,  0.       -0.1767767j,\n        0.1767767+0.j       ,  0.       -0.1767767j,\n        0.1767767+0.j       , -0.       -0.1767767j,\n        0.1767767+0.j       , -0.       -0.1767767j,\n        0.1767767+0.j       , -0.       -0.1767767j,\n        0.1767767-0.j       , -0.       -0.1767767j,\n        0.1767767-0.j       , -0.       -0.1767767j,\n        0.1767767-0.j       , -0.       -0.1767767j,\n        0.1767767-0.j       , -0.       -0.1767767j,\n        0.1767767+0.j       , -0.       -0.1767767j,\n        0.1767767+0.j       , -0.       -0.1767767j,\n        0.1767767+0.j       , -0.       -0.1767767j])"
     },
     "execution_count": 33,
     "metadata": {},
     "output_type": "execute_result"
    }
   ],
   "source": [
    "np.round((params.vec_m[:,16]),10)"
   ]
  },
  {
   "cell_type": "code",
   "execution_count": null,
   "metadata": {},
   "outputs": [
    {
     "data": {
      "text/plain": "array([[0.2499315+0.j, 0.2499315+0.j, 0.2499315+0.j, 0.2499315+0.j,\n        0.2499315+0.j, 0.2499315+0.j, 0.2499315+0.j, 0.2499315+0.j,\n        0.2499315+0.j, 0.2499315+0.j, 0.2499315+0.j, 0.2499315+0.j,\n        0.2499315+0.j, 0.2499315+0.j, 0.2499315+0.j, 0.2499315+0.j],\n       [0.0058519+0.j, 0.0058519+0.j, 0.0058519+0.j, 0.0058519+0.j,\n        0.0058519+0.j, 0.0058519+0.j, 0.0058519+0.j, 0.0058519+0.j,\n        0.0058519+0.j, 0.0058519+0.j, 0.0058519+0.j, 0.0058519+0.j,\n        0.0058519+0.j, 0.0058519+0.j, 0.0058519+0.j, 0.0058519+0.j]])"
     },
     "execution_count": 172,
     "metadata": {},
     "output_type": "execute_result"
    }
   ],
   "source": [
    "params.vec_f[:,-16].reshape((2,-1))"
   ]
  },
  {
   "cell_type": "code",
   "execution_count": 15,
   "metadata": {},
   "outputs": [
    {
     "data": {
      "text/plain": "0.20000000000000262"
     },
     "execution_count": 15,
     "metadata": {},
     "output_type": "execute_result"
    }
   ],
   "source": [
    "params.val_f[16]"
   ]
  },
  {
   "cell_type": "code",
   "execution_count": null,
   "metadata": {},
   "outputs": [
    {
     "data": {
      "text/plain": "<32x32 sparse matrix of type '<class 'numpy.complex128'>'\n\twith 160 stored elements in Compressed Sparse Row format>"
     },
     "execution_count": 122,
     "metadata": {},
     "output_type": "execute_result"
    }
   ],
   "source": [
    "params.Hamiltonian_f"
   ]
  },
  {
   "cell_type": "code",
   "execution_count": 12,
   "metadata": {},
   "outputs": [
    {
     "data": {
      "text/plain": "array([-2.        , -1.96195858, -1.96195858, -1.84934351, -1.84934351,\n       -1.66664729, -1.66664729, -1.42126704, -1.42126704, -1.12351538,\n       -1.12351538, -0.78735543, -0.78735543, -0.43671332, -0.43671332,\n       -0.2       ,  0.2       ,  0.43671332,  0.43671332,  0.78735543,\n        0.78735543,  1.12351538,  1.12351538,  1.42126704,  1.42126704,\n        1.66664729,  1.66664729,  1.84934351,  1.84934351,  1.96195858,\n        1.96195858,  2.        ])"
     },
     "execution_count": 12,
     "metadata": {},
     "output_type": "execute_result"
    }
   ],
   "source": [
    "params.val_f"
   ]
  },
  {
   "cell_type": "code",
   "execution_count": 13,
   "metadata": {},
   "outputs": [
    {
     "data": {
      "text/plain": "array([-2.        , -1.96195858, -1.96195858, -1.84934351, -1.84934351,\n       -1.66664729, -1.66664729, -1.42126704, -1.42126704, -1.12351538,\n       -1.12351538, -0.78735543, -0.78735543, -0.43671332, -0.43671332,\n       -0.2       ,  0.2       ,  0.43671332,  0.43671332,  0.78735543,\n        0.78735543,  1.12351538,  1.12351538,  1.42126704,  1.42126704,\n        1.66664729,  1.66664729,  1.84934351,  1.84934351,  1.96195858,\n        1.96195858,  2.        ])"
     },
     "execution_count": 13,
     "metadata": {},
     "output_type": "execute_result"
    }
   ],
   "source": [
    "params.val_m"
   ]
  },
  {
   "cell_type": "code",
   "execution_count": 179,
   "metadata": {},
   "outputs": [
    {
     "data": {
      "text/plain": "array([[0, 1],\n       [0, 0]])"
     },
     "execution_count": 179,
     "metadata": {},
     "output_type": "execute_result"
    }
   ],
   "source": [
    "np.outer(np.array([1,0]),np.array([0,1]))"
   ]
  },
  {
   "cell_type": "code",
   "execution_count": 232,
   "metadata": {},
   "outputs": [
    {
     "name": "stderr",
     "output_type": "stream",
     "text": [
      "/home/jake/anaconda3/lib/python3.8/site-packages/scipy/sparse/_index.py:82: SparseEfficiencyWarning: Changing the sparsity structure of a csr_matrix is expensive. lil_matrix is more efficient.\n",
      "  self._set_intXint(row, col, x.flat[0])\n"
     ]
    }
   ],
   "source": [
    "z=sp.diags([1],[0],(6,6)).tocsr()\n",
    "z[2,2]=0\n",
    "z[2,-2]=1\n",
    "z[-2,-2]=0\n",
    "z[-2,2]=1\n",
    "z[3,3]=0\n",
    "z[3,-1]=1\n",
    "z[-1,-1]=0\n",
    "z[-1,3]=1"
   ]
  },
  {
   "cell_type": "code",
   "execution_count": 222,
   "metadata": {},
   "outputs": [
    {
     "data": {
      "text/plain": "array([[1., 0., 0., 0., 0., 0.],\n       [0., 1., 0., 0., 0., 0.],\n       [0., 0., 1., 0., 0., 0.],\n       [0., 0., 0., 0., 0., 1.],\n       [0., 0., 0., 0., 1., 0.],\n       [0., 0., 0., 1., 0., 0.]])"
     },
     "execution_count": 222,
     "metadata": {},
     "output_type": "execute_result"
    }
   ],
   "source": [
    "z.toarray()"
   ]
  },
  {
   "cell_type": "code",
   "execution_count": 223,
   "metadata": {},
   "outputs": [],
   "source": [
    "m=np.arange(6*6).reshape((6,-1))"
   ]
  },
  {
   "cell_type": "code",
   "execution_count": 224,
   "metadata": {},
   "outputs": [
    {
     "data": {
      "text/plain": "array([[ 0,  1,  2,  3,  4,  5],\n       [ 6,  7,  8,  9, 10, 11],\n       [12, 13, 14, 15, 16, 17],\n       [18, 19, 20, 21, 22, 23],\n       [24, 25, 26, 27, 28, 29],\n       [30, 31, 32, 33, 34, 35]])"
     },
     "execution_count": 224,
     "metadata": {},
     "output_type": "execute_result"
    }
   ],
   "source": [
    "m"
   ]
  },
  {
   "cell_type": "code",
   "execution_count": 228,
   "metadata": {},
   "outputs": [],
   "source": [
    "m1=z.T@m@z"
   ]
  },
  {
   "cell_type": "code",
   "execution_count": 229,
   "metadata": {},
   "outputs": [
    {
     "data": {
      "text/plain": "array([[ 0.,  1.,  2.,  5.,  4.,  3.],\n       [ 6.,  7.,  8., 11., 10.,  9.],\n       [12., 13., 14., 17., 16., 15.],\n       [30., 31., 32., 35., 34., 33.],\n       [24., 25., 26., 29., 28., 27.],\n       [18., 19., 20., 23., 22., 21.]])"
     },
     "execution_count": 229,
     "metadata": {},
     "output_type": "execute_result"
    }
   ],
   "source": [
    "m1"
   ]
  },
  {
   "cell_type": "code",
   "execution_count": 230,
   "metadata": {},
   "outputs": [
    {
     "name": "stderr",
     "output_type": "stream",
     "text": [
      "/home/jake/anaconda3/lib/python3.8/site-packages/scipy/sparse/_index.py:82: SparseEfficiencyWarning: Changing the sparsity structure of a csr_matrix is expensive. lil_matrix is more efficient.\n",
      "  self._set_intXint(row, col, x.flat[0])\n"
     ]
    }
   ],
   "source": [
    "z=sp.diags([1],[0],(6,6)).tocsr()\n",
    "z[2,2]=0\n",
    "z[2,-2]=1\n",
    "z[-2,-2]=0\n",
    "z[-2,2]=1"
   ]
  },
  {
   "cell_type": "code",
   "execution_count": 231,
   "metadata": {},
   "outputs": [
    {
     "data": {
      "text/plain": "array([[ 0.,  1.,  4.,  5.,  2.,  3.],\n       [ 6.,  7., 10., 11.,  8.,  9.],\n       [24., 25., 28., 29., 26., 27.],\n       [30., 31., 34., 35., 32., 33.],\n       [12., 13., 16., 17., 14., 15.],\n       [18., 19., 22., 23., 20., 21.]])"
     },
     "execution_count": 231,
     "metadata": {},
     "output_type": "execute_result"
    }
   ],
   "source": [
    "z.T@m1@z"
   ]
  },
  {
   "cell_type": "code",
   "execution_count": 233,
   "metadata": {},
   "outputs": [
    {
     "data": {
      "text/plain": "array([[ 0.,  1.,  4.,  5.,  2.,  3.],\n       [ 6.,  7., 10., 11.,  8.,  9.],\n       [24., 25., 28., 29., 26., 27.],\n       [30., 31., 34., 35., 32., 33.],\n       [12., 13., 16., 17., 14., 15.],\n       [18., 19., 22., 23., 20., 21.]])"
     },
     "execution_count": 233,
     "metadata": {},
     "output_type": "execute_result"
    }
   ],
   "source": [
    "z.T@m@z"
   ]
  },
  {
   "cell_type": "code",
   "execution_count": 227,
   "metadata": {},
   "outputs": [
    {
     "data": {
      "text/plain": "array([[ 0.,  1.,  2.,  3.,  4.,  5.],\n       [ 6.,  7.,  8.,  9., 10., 11.],\n       [12., 13., 14., 15., 16., 17.],\n       [18., 19., 20., 21., 22., 23.],\n       [24., 25., 26., 27., 28., 29.],\n       [30., 31., 32., 33., 34., 35.]])"
     },
     "execution_count": 227,
     "metadata": {},
     "output_type": "execute_result"
    }
   ],
   "source": [
    "z.T@m1@z"
   ]
  },
  {
   "cell_type": "code",
   "execution_count": 235,
   "metadata": {},
   "outputs": [],
   "source": [
    "m1_LL=m1[:-2,:-2]\n",
    "m1_LR=m1[:-2,-2:]\n",
    "m1_RR=m1[-2:,-2:]"
   ]
  },
  {
   "cell_type": "code",
   "execution_count": 238,
   "metadata": {},
   "outputs": [
    {
     "data": {
      "text/plain": "array([[ 0.,  1.,  2.,  5.,  4.,  3.],\n       [ 6.,  7.,  8., 11., 10.,  9.],\n       [12., 13., 14., 17., 16., 15.],\n       [30., 31., 32., 35., 34., 33.],\n       [24., 25., 26., 29., 28., 27.],\n       [18., 19., 20., 23., 22., 21.]])"
     },
     "execution_count": 238,
     "metadata": {},
     "output_type": "execute_result"
    }
   ],
   "source": [
    "m1"
   ]
  },
  {
   "cell_type": "code",
   "execution_count": 237,
   "metadata": {},
   "outputs": [
    {
     "data": {
      "text/plain": "array([[ 0.,  1.,  2.,  5.],\n       [ 6.,  7.,  8., 11.],\n       [12., 13., 14., 17.],\n       [30., 31., 32., 35.]])"
     },
     "execution_count": 237,
     "metadata": {},
     "output_type": "execute_result"
    }
   ],
   "source": [
    "m1_LL"
   ]
  },
  {
   "cell_type": "code",
   "execution_count": 236,
   "metadata": {},
   "outputs": [
    {
     "data": {
      "text/plain": "array([[ 4.,  3.],\n       [10.,  9.],\n       [16., 15.],\n       [34., 33.]])"
     },
     "execution_count": 236,
     "metadata": {},
     "output_type": "execute_result"
    }
   ],
   "source": [
    "m1_LR"
   ]
  },
  {
   "cell_type": "code",
   "execution_count": 239,
   "metadata": {},
   "outputs": [
    {
     "data": {
      "text/plain": "array([[28., 27.],\n       [22., 21.]])"
     },
     "execution_count": 239,
     "metadata": {},
     "output_type": "execute_result"
    }
   ],
   "source": [
    "m1_RR"
   ]
  },
  {
   "cell_type": "code",
   "execution_count": 244,
   "metadata": {},
   "outputs": [],
   "source": [
    "mm=np.arange(4).reshape((2,-1))+1"
   ]
  },
  {
   "cell_type": "code",
   "execution_count": 246,
   "metadata": {},
   "outputs": [],
   "source": [
    "mm2=mm+1"
   ]
  },
  {
   "cell_type": "code",
   "execution_count": 248,
   "metadata": {},
   "outputs": [
    {
     "data": {
      "text/plain": "array([[ 2.,  1.],\n       [-1.,  0.]])"
     },
     "execution_count": 248,
     "metadata": {},
     "output_type": "execute_result"
    }
   ],
   "source": [
    "la.inv(mm2)@mm"
   ]
  },
  {
   "cell_type": "code",
   "execution_count": 249,
   "metadata": {},
   "outputs": [
    {
     "data": {
      "text/plain": "array([[ 2.,  1.],\n       [-1.,  0.]])"
     },
     "execution_count": 249,
     "metadata": {},
     "output_type": "execute_result"
    }
   ],
   "source": [
    "la.solve(mm2,mm)"
   ]
  },
  {
   "cell_type": "code",
   "execution_count": 277,
   "metadata": {},
   "outputs": [],
   "source": [
    "params.measure(0,10,11)"
   ]
  },
  {
   "cell_type": "code",
   "execution_count": 275,
   "metadata": {},
   "outputs": [
    {
     "data": {
      "text/plain": "<matplotlib.image.AxesImage at 0x7f92f4bb1b80>"
     },
     "execution_count": 275,
     "metadata": {},
     "output_type": "execute_result"
    },
    {
     "data": {
      "image/png": "[encoded data removed]",
      "text/plain": "<Figure size 489.6x288 with 1 Axes>"
     },
     "metadata": {
      "needs_background": "light"
     },
     "output_type": "display_data"
    }
   ],
   "source": [
    "\n",
    "plt.imshow(params.C_m_history[0])"
   ]
  },
  {
   "cell_type": "code",
   "execution_count": 276,
   "metadata": {},
   "outputs": [
    {
     "data": {
      "text/plain": "<matplotlib.image.AxesImage at 0x7f92f46afbe0>"
     },
     "execution_count": 276,
     "metadata": {},
     "output_type": "execute_result"
    },
    {
     "data": {
      "image/png": "[encoded data removed]",
      "text/plain": "<Figure size 489.6x288 with 1 Axes>"
     },
     "metadata": {
      "needs_background": "light"
     },
     "output_type": "display_data"
    }
   ],
   "source": [
    "plt.imshow(params.C_m_history[1])"
   ]
  },
  {
   "cell_type": "code",
   "execution_count": 278,
   "metadata": {},
   "outputs": [
    {
     "data": {
      "text/plain": "<matplotlib.image.AxesImage at 0x7f92f443aa90>"
     },
     "execution_count": 278,
     "metadata": {},
     "output_type": "execute_result"
    },
    {
     "data": {
      "image/png": "[encoded data removed]",
      "text/plain": "<Figure size 489.6x288 with 1 Axes>"
     },
     "metadata": {
      "needs_background": "light"
     },
     "output_type": "display_data"
    }
   ],
   "source": [
    "plt.imshow(params.C_m_history[2])"
   ]
  },
  {
   "cell_type": "code",
   "execution_count": 279,
   "metadata": {},
   "outputs": [
    {
     "data": {
      "text/plain": "array([[0., 0., 0., ..., 0., 0., 0.],\n       [0., 0., 0., ..., 0., 0., 0.],\n       [0., 0., 0., ..., 0., 0., 0.],\n       ...,\n       [0., 0., 0., ..., 0., 0., 0.],\n       [0., 0., 0., ..., 0., 0., 0.],\n       [0., 0., 0., ..., 0., 0., 0.]])"
     },
     "execution_count": 279,
     "metadata": {},
     "output_type": "execute_result"
    }
   ],
   "source": [
    "params.C_m_history[1]-params.C_m_history[2]"
   ]
  },
  {
   "cell_type": "code",
   "execution_count": 280,
   "metadata": {},
   "outputs": [],
   "source": [
    "params.measure(0,20,21)"
   ]
  },
  {
   "cell_type": "code",
   "execution_count": 281,
   "metadata": {},
   "outputs": [
    {
     "data": {
      "text/plain": "<matplotlib.image.AxesImage at 0x7f92f46493d0>"
     },
     "execution_count": 281,
     "metadata": {},
     "output_type": "execute_result"
    },
    {
     "data": {
      "image/png": "[encoded data removed]",
      "text/plain": "<Figure size 489.6x288 with 1 Axes>"
     },
     "metadata": {
      "needs_background": "light"
     },
     "output_type": "display_data"
    }
   ],
   "source": [
    "plt.imshow(params.C_m_history[-1])"
   ]
  },
  {
   "cell_type": "code",
   "execution_count": 295,
   "metadata": {},
   "outputs": [],
   "source": [
    "params.measure(0,10,11)"
   ]
  },
  {
   "cell_type": "code",
   "execution_count": 296,
   "metadata": {},
   "outputs": [
    {
     "data": {
      "text/plain": "0.2662253391049969"
     },
     "execution_count": 296,
     "metadata": {},
     "output_type": "execute_result"
    }
   ],
   "source": [
    "params.von_Neumann_entropy_m(np.arange(2))"
   ]
  },
  {
   "cell_type": "code",
   "execution_count": 291,
   "metadata": {},
   "outputs": [
    {
     "data": {
      "text/plain": "array([-0.96231518, -0.92299796,  0.92299796,  0.96231518])"
     },
     "execution_count": 291,
     "metadata": {},
     "output_type": "execute_result"
    }
   ],
   "source": [
    "params.val_sh"
   ]
  },
  {
   "cell_type": "code",
   "execution_count": 303,
   "metadata": {},
   "outputs": [
    {
     "data": {
      "text/plain": "array([0, 1])"
     },
     "execution_count": 303,
     "metadata": {},
     "output_type": "execute_result"
    }
   ],
   "source": [
    "np.arange(2)"
   ]
  },
  {
   "cell_type": "code",
   "execution_count": 310,
   "metadata": {},
   "outputs": [
    {
     "data": {
      "text/plain": "1.0114155069018693e-09"
     },
     "execution_count": 310,
     "metadata": {},
     "output_type": "execute_result"
    }
   ],
   "source": [
    "params.mutual_information_m(np.arange(2),np.arange(2)+30)"
   ]
  },
  {
   "cell_type": "markdown",
   "metadata": {},
   "source": [
    "## mutual information"
   ]
  },
  {
   "cell_type": "code",
   "execution_count": 442,
   "metadata": {},
   "outputs": [
    {
     "name": "stderr",
     "output_type": "stream",
     "text": [
      "/home/jake/anaconda3/lib/python3.8/site-packages/scipy/sparse/_index.py:82: SparseEfficiencyWarning: Changing the sparsity structure of a csr_matrix is expensive. lil_matrix is more efficient.\n",
      "  self._set_intXint(row, col, x.flat[0])\n"
     ]
    }
   ],
   "source": [
    "delta_list=np.linspace(-1,1,20)\n",
    "mutual_info_list=[]\n",
    "for delta in delta_list:\n",
    "    params=Params(delta=delta,L=16,bc=-1)\n",
    "    mutual_info_list.append(params.mutual_information_m(np.arange(2),np.arange(2)+30))\n"
   ]
  },
  {
   "cell_type": "code",
   "execution_count": 443,
   "metadata": {},
   "outputs": [
    {
     "data": {
      "text/plain": "[<matplotlib.lines.Line2D at 0x7f92f39f3670>]"
     },
     "execution_count": 443,
     "metadata": {},
     "output_type": "execute_result"
    },
    {
     "data": {
      "image/png": "[encoded data removed]",
      "text/plain": "<Figure size 489.6x288 with 1 Axes>"
     },
     "metadata": {
      "needs_background": "light"
     },
     "output_type": "display_data"
    }
   ],
   "source": [
    "plt.plot(delta_list,mutual_info_list)"
   ]
  },
  {
   "cell_type": "code",
   "execution_count": 9,
   "metadata": {},
   "outputs": [],
   "source": [
    "def mutual_info_run(batchsize):\n",
    "    delta_list=np.linspace(-1,1,40)\n",
    "    mutual_info_dis_list=[]\n",
    "    if batchsize==0:\n",
    "        ensemblesize=1\n",
    "    else:\n",
    "        ensemblesize=100\n",
    "\n",
    "    for delta in delta_list:\n",
    "        mutual_info_ensemble_list=[]\n",
    "        for ensemble in range(ensemblesize):\n",
    "            params=Params(delta=delta,L=16,bc=-1)\n",
    "            params.measure_batch(batchsize)    \n",
    "            mutual_info_ensemble_list.append(params.mutual_information_m(np.arange(2),np.arange(2)+30))\n",
    "        mutual_info_dis_list.append(mutual_info_ensemble_list)\n",
    "    return delta_list,mutual_info_dis_list"
   ]
  },
  {
   "cell_type": "code",
   "execution_count": 59,
   "metadata": {},
   "outputs": [
    {
     "name": "stdout",
     "output_type": "stream",
     "text": [
      "0\n"
     ]
    },
    {
     "name": "stderr",
     "output_type": "stream",
     "text": [
      "/home/jake/anaconda3/lib/python3.8/site-packages/scipy/sparse/_index.py:82: SparseEfficiencyWarning: Changing the sparsity structure of a csr_matrix is expensive. lil_matrix is more efficient.\n",
      "  self._set_intXint(row, col, x.flat[0])\n"
     ]
    },
    {
     "name": "stdout",
     "output_type": "stream",
     "text": [
      "1\n",
      "10\n",
      "100\n"
     ]
    }
   ],
   "source": [
    "delta_dict={}\n",
    "mutual_info_dis_dict={}\n",
    "for i in (0,1,10,100):\n",
    "    print(i)\n",
    "    delta_dict[i],mutual_info_dis_dict[i]=mutual_info_run(i)"
   ]
  },
  {
   "cell_type": "code",
   "execution_count": 11,
   "metadata": {},
   "outputs": [
    {
     "name": "stdout",
     "output_type": "stream",
     "text": [
      "10\n"
     ]
    }
   ],
   "source": [
    "for i in (10,):\n",
    "    print(i)\n",
    "    delta_dict[i],mutual_info_dis_dict[i]=mutual_info_run(i)"
   ]
  },
  {
   "cell_type": "code",
   "execution_count": 60,
   "metadata": {},
   "outputs": [
    {
     "data": {
      "text/plain": "dict_keys([0, 1, 10, 100])"
     },
     "execution_count": 60,
     "metadata": {},
     "output_type": "execute_result"
    }
   ],
   "source": [
    "delta_dict.keys()"
   ]
  },
  {
   "cell_type": "code",
   "execution_count": 63,
   "metadata": {},
   "outputs": [
    {
     "data": {
      "image/png": "[encoded data removed]",
      "text/plain": "<Figure size 489.6x288 with 1 Axes>"
     },
     "metadata": {
      "needs_background": "light"
     },
     "output_type": "display_data"
    }
   ],
   "source": [
    "fig,ax=plt.subplots()\n",
    "for i in (0,1,10,100):\n",
    "    ax.plot(delta_dict[i],np.array(mutual_info_dis_dict[i]).mean(axis=1),label='Number of gates: {}'.format(i))\n",
    "\n",
    "ax.legend()\n",
    "ax.set_xlabel(r'$\\delta$')\n",
    "ax.set_ylabel('Mutual information between A and B')\n",
    "\n",
    "fig.savefig('/mnt/d/kitp/Rp_SPT/3/mutual_info_2.pdf',bbox_inches='tight')\n"
   ]
  },
  {
   "cell_type": "code",
   "execution_count": 556,
   "metadata": {},
   "outputs": [
    {
     "data": {
      "image/png": "[encoded data removed]",
      "text/plain": "<Figure size 489.6x288 with 1 Axes>"
     },
     "metadata": {
      "needs_background": "light"
     },
     "output_type": "display_data"
    }
   ],
   "source": [
    "fig,ax=plt.subplots()\n",
    "for i in (0,1000,3000):\n",
    "    ax.plot(delta_dict[i],np.array(mutual_info_dis_dict[i]).mean(axis=1))\n"
   ]
  },
  {
   "cell_type": "code",
   "execution_count": 458,
   "metadata": {},
   "outputs": [
    {
     "data": {
      "image/png": "[encoded data removed]",
      "text/plain": "<Figure size 489.6x288 with 1 Axes>"
     },
     "metadata": {
      "needs_background": "light"
     },
     "output_type": "display_data"
    }
   ],
   "source": [
    "fig,ax=plt.subplots()\n",
    "for i in (0,1,5):\n",
    "    ax.plot(delta_dict[i],np.array(mutual_info_dis_dict[i]).mean(axis=1))\n"
   ]
  },
  {
   "cell_type": "code",
   "execution_count": 441,
   "metadata": {},
   "outputs": [
    {
     "data": {
      "text/plain": "[<matplotlib.lines.Line2D at 0x7f92f39238e0>]"
     },
     "execution_count": 440,
     "metadata": {},
     "output_type": "execute_result"
    },
    {
     "data": {
      "image/png": "[encoded data removed]",
      "text/plain": "<Figure size 489.6x288 with 1 Axes>"
     },
     "metadata": {
      "needs_background": "light"
     },
     "output_type": "display_data"
    },
    {
     "data": {
      "text/plain": "(100, 100)"
     },
     "execution_count": 441,
     "metadata": {},
     "output_type": "execute_result"
    }
   ],
   "source": [
    "np.array(mutual_info_dis_list).shape"
   ]
  },
  {
   "cell_type": "code",
   "execution_count": null,
   "metadata": {},
   "outputs": [],
   "source": [
    "fig,ax=plt.subplots()\n",
    "ax.plot(delta_list,np.array(mutual_info_dis_list).mean(axis=1))\n",
    "ax.plot(delta_list,mutual_info_list)"
   ]
  },
  {
   "cell_type": "code",
   "execution_count": 338,
   "metadata": {},
   "outputs": [],
   "source": [
    "for _ in range(10):\n",
    "    i=np.random.randint(2,15)\n",
    "    s=np.random.randint(0,2)\n",
    "    params.measure(s,i,i+1)"
   ]
  },
  {
   "cell_type": "code",
   "execution_count": 54,
   "metadata": {},
   "outputs": [
    {
     "name": "stderr",
     "output_type": "stream",
     "text": [
      "/home/jake/anaconda3/lib/python3.8/site-packages/scipy/sparse/_index.py:82: SparseEfficiencyWarning: Changing the sparsity structure of a csr_matrix is expensive. lil_matrix is more efficient.\n",
      "  self._set_intXint(row, col, x.flat[0])\n"
     ]
    }
   ],
   "source": [
    "params=Params(delta=-0.3,L=16,bc=-1)\n",
    "params.measure_batch(10)"
   ]
  },
  {
   "cell_type": "code",
   "execution_count": 55,
   "metadata": {},
   "outputs": [
    {
     "data": {
      "text/plain": "[28, 10, 5, 20, 12, 14, 22, 23, 18, 23]"
     },
     "execution_count": 55,
     "metadata": {},
     "output_type": "execute_result"
    }
   ],
   "source": [
    "params.i_history"
   ]
  },
  {
   "cell_type": "code",
   "execution_count": null,
   "metadata": {},
   "outputs": [],
   "source": [
    "fig,ax=plt.subplots(11,2,figsize=(3.4,10))\n",
    "\n",
    "im_1=[ax[i,0].imshow(c_m,cmap='seismic',vmin=-1,vmax=1) for i,c_m in zip(range(11),params.C_m_history)]\n",
    "im_2=[ax[i,1].imshow(c_m@c_m,cmap='hot',vmin=-1,vmax=0) for i,c_m in zip(range(11),params.C_m_history)]\n",
    "\n",
    "[ax[i,0].set_xticks([]) for i in range(11)]\n",
    "[ax[i,0].set_yticks([]) for i in range(11)]\n",
    "[ax[i,1].set_xticks([]) for i in range(11)]\n",
    "[ax[i,1].set_yticks([]) for i in range(11)]\n",
    "\n",
    "fig.savefig('/mnt/d/kitp/Rp_SPT/3/evolution.pdf',bbox_inches='tight')"
   ]
  },
  {
   "cell_type": "code",
   "execution_count": 64,
   "metadata": {},
   "outputs": [
    {
     "data": {
      "image/png": "[encoded data removed]",
      "text/plain": "<Figure size 489.6x720 with 2 Axes>"
     },
     "metadata": {},
     "output_type": "display_data"
    }
   ],
   "source": [
    "i=0\n",
    "c_m=params.C_m_history[0]\n",
    "fig,ax=plt.subplots(1,2,figsize=(6.8,10))\n",
    "\n",
    "im_1=ax[0].imshow(c_m,cmap='seismic',vmin=-1,vmax=1) \n",
    "im_2=ax[1].imshow(c_m@c_m,cmap='hot',vmin=-1,vmax=0) \n",
    "\n",
    "ax[0].set_xticks([])\n",
    "ax[0].set_yticks([])\n",
    "ax[1].set_xticks([])\n",
    "ax[1].set_yticks([])\n",
    "\n",
    "ax[0].text(0,1.05,'Step 0',transform=ax[0].transAxes)\n",
    "\n",
    "axins0=ax[0].inset_axes([0.0, -.1, 1, 0.05],transform=ax[0].transAxes) \n",
    "cb0=fig.colorbar(im_1,cax=axins0,orientation='horizontal')\n",
    "cb0.ax.xaxis.set_tick_params(pad=0)\n",
    "\n",
    "axins1=ax[1].inset_axes([0.0, -.1, 1, 0.05],transform=ax[1].transAxes) \n",
    "cb1=fig.colorbar(im_2,cax=axins1,orientation='horizontal')\n",
    "cb1.ax.xaxis.set_tick_params(pad=0)\n",
    "\n",
    "fig.savefig('/mnt/d/kitp/Rp_SPT/3/evolution_{}.pdf'.format(i),bbox_inches='tight')"
   ]
  },
  {
   "cell_type": "code",
   "execution_count": 65,
   "metadata": {},
   "outputs": [
    {
     "data": {
      "image/png": "[encoded data removed]",
      "text/plain": "<Figure size 489.6x720 with 2 Axes>"
     },
     "metadata": {},
     "output_type": "display_data"
    },
    {
     "data": {
      "image/png": "[encoded data removed]",
      "text/plain": "<Figure size 489.6x720 with 2 Axes>"
     },
     "metadata": {},
     "output_type": "display_data"
    },
    {
     "data": {
      "image/png": "[encoded data removed]",
      "text/plain": "<Figure size 489.6x720 with 2 Axes>"
     },
     "metadata": {},
     "output_type": "display_data"
    },
    {
     "data": {
      "image/png": "[encoded data removed]",
      "text/plain": "<Figure size 489.6x720 with 2 Axes>"
     },
     "metadata": {},
     "output_type": "display_data"
    },
    {
     "data": {
      "image/png": "[encoded data removed]",
      "text/plain": "<Figure size 489.6x720 with 2 Axes>"
     },
     "metadata": {},
     "output_type": "display_data"
    },
    {
     "data": {
      "image/png": "[encoded data removed]",
      "text/plain": "<Figure size 489.6x720 with 2 Axes>"
     },
     "metadata": {},
     "output_type": "display_data"
    },
    {
     "data": {
      "image/png": "[encoded data removed]",
      "text/plain": "<Figure size 489.6x720 with 2 Axes>"
     },
     "metadata": {},
     "output_type": "display_data"
    },
    {
     "data": {
      "image/png": "[encoded data removed]",
      "text/plain": "<Figure size 489.6x720 with 2 Axes>"
     },
     "metadata": {},
     "output_type": "display_data"
    },
    {
     "data": {
      "image/png": "[encoded data removed]",
      "text/plain": "<Figure size 489.6x720 with 2 Axes>"
     },
     "metadata": {},
     "output_type": "display_data"
    },
    {
     "data": {
      "image/png": "[encoded data removed]",
      "text/plain": "<Figure size 489.6x720 with 2 Axes>"
     },
     "metadata": {},
     "output_type": "display_data"
    }
   ],
   "source": [
    "for i,c_m,s,ii in zip(range(1,11),params.C_m_history[1:],params.s_history,params.i_history):\n",
    "    \n",
    "    fig,ax=plt.subplots(1,2,figsize=(6.8,10))\n",
    "\n",
    "    im_1=ax[0].imshow(c_m,cmap='seismic',vmin=-1,vmax=1) \n",
    "    im_2=ax[1].imshow(c_m@c_m,cmap='hot',vmin=-1,vmax=0) \n",
    "\n",
    "    ax[0].set_xticks([])\n",
    "    ax[0].set_yticks([])\n",
    "    ax[1].set_xticks([])\n",
    "    ax[1].set_yticks([])\n",
    "    \n",
    "    ax[0].text(0,1.05,r'Step {}: $\\Upsilon_{}({},{})$'.format(i,'{'+str((-1)**s)+'}',ii,ii+1),transform=ax[0].transAxes)\n",
    "\n",
    "    fig.savefig('/mnt/d/kitp/Rp_SPT/3/evolution_{}.pdf'.format(i),bbox_inches='tight')"
   ]
  },
  {
   "cell_type": "code",
   "execution_count": null,
   "metadata": {},
   "outputs": [],
   "source": []
  },
  {
   "cell_type": "code",
   "execution_count": 34,
   "metadata": {},
   "outputs": [
    {
     "data": {
      "image/png": "[encoded data removed]",
      "text/plain": "<Figure size 489.6x288 with 1 Axes>"
     },
     "metadata": {
      "needs_background": "light"
     },
     "output_type": "display_data"
    },
    {
     "data": {
      "image/png": "[encoded data removed]",
      "text/plain": "<Figure size 489.6x288 with 1 Axes>"
     },
     "metadata": {
      "needs_background": "light"
     },
     "output_type": "display_data"
    },
    {
     "data": {
      "image/png": "[encoded data removed]",
      "text/plain": "<Figure size 489.6x288 with 1 Axes>"
     },
     "metadata": {
      "needs_background": "light"
     },
     "output_type": "display_data"
    },
    {
     "data": {
      "image/png": "[encoded data removed]",
      "text/plain": "<Figure size 489.6x288 with 1 Axes>"
     },
     "metadata": {
      "needs_background": "light"
     },
     "output_type": "display_data"
    },
    {
     "data": {
      "image/png": "[encoded data removed]",
      "text/plain": "<Figure size 489.6x288 with 1 Axes>"
     },
     "metadata": {
      "needs_background": "light"
     },
     "output_type": "display_data"
    },
    {
     "data": {
      "image/png": "[encoded data removed]",
      "text/plain": "<Figure size 489.6x288 with 1 Axes>"
     },
     "metadata": {
      "needs_background": "light"
     },
     "output_type": "display_data"
    },
    {
     "data": {
      "image/png": "[encoded data removed]",
      "text/plain": "<Figure size 489.6x288 with 1 Axes>"
     },
     "metadata": {
      "needs_background": "light"
     },
     "output_type": "display_data"
    },
    {
     "data": {
      "image/png": "[encoded data removed]",
      "text/plain": "<Figure size 489.6x288 with 1 Axes>"
     },
     "metadata": {
      "needs_background": "light"
     },
     "output_type": "display_data"
    },
    {
     "data": {
      "image/png": "[encoded data removed]",
      "text/plain": "<Figure size 489.6x288 with 1 Axes>"
     },
     "metadata": {
      "needs_background": "light"
     },
     "output_type": "display_data"
    },
    {
     "data": {
      "image/png": "[encoded data removed]",
      "text/plain": "<Figure size 489.6x288 with 1 Axes>"
     },
     "metadata": {
      "needs_background": "light"
     },
     "output_type": "display_data"
    },
    {
     "data": {
      "image/png": "[encoded data removed]",
      "text/plain": "<Figure size 489.6x288 with 1 Axes>"
     },
     "metadata": {
      "needs_background": "light"
     },
     "output_type": "display_data"
    }
   ],
   "source": [
    "for c_m in params.C_m_history:\n",
    "    fig,ax=plt.subplots()\n",
    "    ax.imshow(c_m@c_m)"
   ]
  },
  {
   "cell_type": "code",
   "execution_count": 469,
   "metadata": {},
   "outputs": [
    {
     "data": {
      "text/plain": "<matplotlib.image.AxesImage at 0x7f92f58cdac0>"
     },
     "execution_count": 469,
     "metadata": {},
     "output_type": "execute_result"
    },
    {
     "data": {
      "image/png": "[encoded data removed]",
      "text/plain": "<Figure size 489.6x288 with 1 Axes>"
     },
     "metadata": {
      "needs_background": "light"
     },
     "output_type": "display_data"
    }
   ],
   "source": [
    "plt.imshow(params.C_m_history[1])"
   ]
  },
  {
   "cell_type": "code",
   "execution_count": 404,
   "metadata": {},
   "outputs": [
    {
     "name": "stderr",
     "output_type": "stream",
     "text": [
      "/home/jake/anaconda3/lib/python3.8/site-packages/scipy/sparse/_index.py:82: SparseEfficiencyWarning: Changing the sparsity structure of a csr_matrix is expensive. lil_matrix is more efficient.\n",
      "  self._set_intXint(row, col, x.flat[0])\n"
     ]
    }
   ],
   "source": [
    "params.measure(0, 4, 5)"
   ]
  },
  {
   "cell_type": "code",
   "execution_count": 377,
   "metadata": {},
   "outputs": [],
   "source": [
    "params.measure(0, 4, 5)"
   ]
  },
  {
   "cell_type": "code",
   "execution_count": 382,
   "metadata": {},
   "outputs": [],
   "source": [
    "params.measure(1, 6, 7)"
   ]
  },
  {
   "cell_type": "code",
   "execution_count": 409,
   "metadata": {},
   "outputs": [],
   "source": [
    "params.measure(1, 4, 5)"
   ]
  },
  {
   "cell_type": "code",
   "execution_count": null,
   "metadata": {},
   "outputs": [],
   "source": []
  },
  {
   "cell_type": "code",
   "execution_count": 415,
   "metadata": {},
   "outputs": [],
   "source": [
    "params=Params(delta=-0.3,L=16,bc=0)\n",
    "params.mutual_information_m(np.arange(2),np.arange(2)+16)\n",
    "params.measure_batch(100)"
   ]
  },
  {
   "cell_type": "code",
   "execution_count": 416,
   "metadata": {},
   "outputs": [
    {
     "data": {
      "text/plain": "0.0019446062606200964"
     },
     "execution_count": 416,
     "metadata": {},
     "output_type": "execute_result"
    }
   ],
   "source": [
    "params.mutual_information_m(np.arange(2),np.arange(2)+16)"
   ]
  },
  {
   "cell_type": "code",
   "execution_count": 372,
   "metadata": {},
   "outputs": [
    {
     "data": {
      "text/plain": "4"
     },
     "execution_count": 372,
     "metadata": {},
     "output_type": "execute_result"
    }
   ],
   "source": [
    "len(params.C_m_history)"
   ]
  },
  {
   "cell_type": "code",
   "execution_count": 373,
   "metadata": {},
   "outputs": [
    {
     "data": {
      "text/plain": "[13, 14, 3, 14]"
     },
     "execution_count": 373,
     "metadata": {},
     "output_type": "execute_result"
    }
   ],
   "source": [
    "params.i_history"
   ]
  },
  {
   "cell_type": "code",
   "execution_count": 374,
   "metadata": {},
   "outputs": [
    {
     "data": {
      "text/plain": "[1, 0, 0, 1]"
     },
     "execution_count": 374,
     "metadata": {},
     "output_type": "execute_result"
    }
   ],
   "source": [
    "params.s_history"
   ]
  },
  {
   "cell_type": "code",
   "execution_count": 411,
   "metadata": {},
   "outputs": [
    {
     "data": {
      "image/png": "[encoded data removed]",
      "text/plain": "<Figure size 489.6x288 with 1 Axes>"
     },
     "metadata": {
      "needs_background": "light"
     },
     "output_type": "display_data"
    },
    {
     "data": {
      "image/png": "[encoded data removed]",
      "text/plain": "<Figure size 489.6x288 with 1 Axes>"
     },
     "metadata": {
      "needs_background": "light"
     },
     "output_type": "display_data"
    },
    {
     "data": {
      "image/png": "[encoded data removed]",
      "text/plain": "<Figure size 489.6x288 with 1 Axes>"
     },
     "metadata": {
      "needs_background": "light"
     },
     "output_type": "display_data"
    }
   ],
   "source": [
    "for c_m in params.C_m_history:\n",
    "    fig,ax=plt.subplots()\n",
    "    ax.imshow(c_m)"
   ]
  },
  {
   "cell_type": "code",
   "execution_count": 340,
   "metadata": {},
   "outputs": [
    {
     "data": {
      "text/plain": "<matplotlib.image.AxesImage at 0x7f9304cfa430>"
     },
     "execution_count": 340,
     "metadata": {},
     "output_type": "execute_result"
    },
    {
     "data": {
      "image/png": "[encoded data removed]",
      "text/plain": "<Figure size 489.6x288 with 1 Axes>"
     },
     "metadata": {
      "needs_background": "light"
     },
     "output_type": "display_data"
    }
   ],
   "source": [
    "plt.imshow(params.C_m_history[-1])"
   ]
  },
  {
   "cell_type": "code",
   "execution_count": 412,
   "metadata": {},
   "outputs": [
    {
     "data": {
      "text/plain": "array([[0., 0., 0., ..., 0., 0., 0.],\n       [0., 0., 0., ..., 0., 0., 0.],\n       [0., 0., 0., ..., 0., 0., 0.],\n       ...,\n       [0., 0., 0., ..., 0., 0., 0.],\n       [0., 0., 0., ..., 0., 0., 0.],\n       [0., 0., 0., ..., 0., 0., 0.]])"
     },
     "execution_count": 412,
     "metadata": {},
     "output_type": "execute_result"
    }
   ],
   "source": [
    "params.C_m_history[2]-params.C_m_history[1]"
   ]
  },
  {
   "cell_type": "code",
   "execution_count": null,
   "metadata": {},
   "outputs": [],
   "source": []
  }
 ],
 "metadata": {
  "kernelspec": {
   "display_name": "Python 3.8.5 64-bit ('base': conda)",
   "name": "python385jvsc74a57bd06aee4f39eba147985a2c1cbf1db4ebecc02362fa8877deaa860706b7b1b97f3d"
  },
  "language_info": {
   "codemirror_mode": {
    "name": "ipython",
    "version": 3
   },
   "file_extension": ".py",
   "mimetype": "text/x-python",
   "name": "python",
   "nbconvert_exporter": "python",
   "pygments_lexer": "ipython3",
   "version": "3.8.5"
  },
  "orig_nbformat": 2
 },
 "nbformat": 4,
 "nbformat_minor": 2
}