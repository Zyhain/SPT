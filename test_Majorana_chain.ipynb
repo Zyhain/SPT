{
 "cells": [
  {
   "cell_type": "code",
   "execution_count": null,
   "metadata": {},
   "outputs": [],
   "source": []
  },
  {
   "cell_type": "markdown",
   "metadata": {},
   "source": [
    "# API"
   ]
  },
  {
   "cell_type": "code",
   "execution_count": 123,
   "metadata": {},
   "outputs": [],
   "source": [
    "import matplotlib.pyplot as plt\n",
    "import numpy.matlib\n",
    "import time\n",
    "%load_ext line_profiler"
   ]
  },
  {
   "cell_type": "code",
   "execution_count": 3,
   "metadata": {},
   "outputs": [],
   "source": [
    "plt.rcParams['text.usetex']=True\n",
    "plt.rcParams['font.family']='serif'\n",
    "plt.rcParams['font.size']=9\n",
    "plt.rcParams['axes.titlesize']=plt.rcParams['font.size']\n",
    "plt.rcParams['figure.figsize']=(6.8,4)"
   ]
  },
  {
   "cell_type": "code",
   "execution_count": 397,
   "metadata": {},
   "outputs": [],
   "source": [
    "import numpy as np\n",
    "import scipy.sparse as sp\n",
    "import scipy.sparse.linalg as sla\n",
    "import scipy.linalg as la\n",
    "import numpy.matlib\n",
    "\n",
    "class Params:\n",
    "    '''\n",
    "    example: params=Params(mu=2)\n",
    "    '''\n",
    "    def __init__(self,\n",
    "    delta=0,    \n",
    "    L=100,\n",
    "    T=0,\n",
    "    bc=1    # 0: open boundary condition; >0: PBC; <0: APBC\n",
    "    ):\n",
    "        self.delta=delta\n",
    "        self.mu=2*(1-delta)\n",
    "        self.t=-(1+delta)\n",
    "        self.Delta=-(1+delta)\n",
    "        self.L=L\n",
    "        self.tau_z=sp.dia_matrix(np.diag([1,-1]))\n",
    "        self.tau_y=sp.dia_matrix(np.array([[0,-1j],[1j,0]]))\n",
    "        self.bc=bc\n",
    "        self.T=T\n",
    "        self.band1sm=sp.diags([1],[1],(L,L)).tocsr()\n",
    "        self.bandm1sm=sp.diags([1],[-1],(L,L)).tocsr()\n",
    "        self.band1sm[-1,0]=1*(2*np.heaviside(bc,1/2)-1)\n",
    "        self.bandm1sm[0,-1]=1*(2*np.heaviside(bc,1/2)-1)\n",
    "        # Hamiltonian in the ferimion basis\n",
    "        self.Hamiltonian_f=-self.mu*sp.kron(self.tau_z,sp.identity(self.L))-sp.kron(self.t*self.tau_z+1j*self.Delta*self.tau_y,self.band1sm)-sp.kron(self.t*self.tau_z-1j*self.Delta*self.tau_y,self.bandm1sm)\n",
    "        # BdG Hamiltonian back to original\n",
    "        \n",
    "        self.Hamiltonian_f/=2\n",
    "        # Hamiltonian in the Majorana basis\n",
    "        band=np.vstack([np.ones(L)*(1-delta)*1j,np.ones(L)*(1+delta)*1j]).flatten('F')\n",
    "        Ham=sp.diags(np.array([band[:-1],band[:-1].conj()]),np.array([-1,1]),shape=(2*L,2*L)).tocsr()\n",
    "        Ham[0,-1]=(1+delta)*1j*bc\n",
    "        Ham[-1,0]=-(1+delta)*1j*bc\n",
    "        self.Hamiltonian_m=Ham\n",
    "\n",
    "        \n",
    "\n",
    "\n",
    "    def bandstructure(self,H_type='f'):    \n",
    "        if H_type=='f':    \n",
    "            val,vec=la.eigh(self.Hamiltonian_f.toarray())\n",
    "            sortindex=np.argsort(val)\n",
    "            self.val_f=val[sortindex]\n",
    "            self.vec_f=vec[:,sortindex]\n",
    "        elif H_type=='m':\n",
    "            val,vec=la.eigh(self.Hamiltonian_m.toarray()) \n",
    "            sortindex=np.argsort(val)\n",
    "            self.val_m=val[sortindex]\n",
    "            self.vec_m=vec[:,sortindex]\n",
    "        else:\n",
    "            raise ValueError('type of Hamiltonian ({}) not found'.format(H_type))\n",
    "\n",
    "\n",
    "\n",
    "    def fermi_dist(self,energy,E_F):      \n",
    "        if self.T==0:\n",
    "            return np.heaviside(E_F-energy,0)\n",
    "        else:\n",
    "            return 1/(1+np.exp((energy-E_F)/self.T)) \n",
    "\n",
    "\n",
    "    def covariance_matrix_f(self,E_F=0):\n",
    "        if not (hasattr(self,'val_f') and hasattr(self,'vec_f')):\n",
    "            self.bandstructure('f')\n",
    "        occupancy=self.fermi_dist(self.val_f,E_F)\n",
    "        occupancy_mat=np.matlib.repmat(occupancy,self.vec_f.shape[0],1)\n",
    "        self.C_f=np.real((occupancy_mat*self.vec_f)@self.vec_f.T.conj())\n",
    "\n",
    "    def covariance_matrix_m(self,E_F=0):\n",
    "        if not (hasattr(self,'val_m') and hasattr(self,'vec_m')):\n",
    "            self.bandstructure('m')\n",
    "        occupancy=self.fermi_dist(self.val_m,E_F)\n",
    "        occupancy_mat=np.matlib.repmat(occupancy,self.vec_m.shape[0],1)\n",
    "        self.C_m=(1j*2*(occupancy_mat*self.vec_m)@self.vec_m.T.conj())-1j*np.eye(self.L*2)\n",
    "        assert np.abs(np.imag(self.C_m)).max()<1e-10, \"Covariance matrix not real\"\n",
    "        self.C_m=np.real(self.C_m)\n",
    "        self.C_m_history=[self.C_m]\n",
    "    \n",
    "    def projection_obs(self,s):\n",
    "        '''\n",
    "        s= 0,1 occupancy number\n",
    "        i,j: adjacent pair of Majorana\n",
    "        flow is from alpha_{i,j} to gamma_{i,j}\n",
    "\n",
    "        return: the basis are ordered as gamma_i,gamma_j,alpha_j,alpha_i\n",
    "        '''\n",
    "        assert (s==0 or s==1),\"s={} is either 0 or 1\".format(s)\n",
    "        blkmat=(np.array([[0,-(-1)**s],[(-1)**s,0]]))\n",
    "        return sp.bmat([[blkmat,None],[None,blkmat.T]]).toarray()\n",
    "\n",
    "    def projection(self,s):\n",
    "        '''\n",
    "        s= 0,1 occupancy number\n",
    "        i,j: adjacent pair of Majorana\n",
    "        flow is from alpha_{i,j} to gamma_{i,j}\n",
    "\n",
    "        return: the basis are ordered as gamma_i,gamma_j,alpha_j,alpha_i\n",
    "        '''\n",
    "        assert (s==0 or s==1),\"s={} is either 0 or 1\".format(s)\n",
    "        # blkmat=(np.array([[0,-(-1)**s],[(-1)**s,0]]))\n",
    "        # zero=np.zeros((2,2))\n",
    "        blkmat=np.array([[0,-(-1)**s,0,0],\n",
    "                        [(-1)**s,0,0,0],\n",
    "                        [0,0,0,(-1)**s],\n",
    "                        [0,0,-(-1)**s,0]])\n",
    "        # return np.block([[blkmat,zero],[zero,blkmat.T]])\n",
    "        return blkmat\n",
    "\n",
    "    def measure_obs(self,s,i,j):\n",
    "        permutation_mat=sp.diags([1],[0],(self.L*2,self.L*2)).tocsr()\n",
    "        # i <-> -2\n",
    "        permutation_mat[i,i]=0\n",
    "        permutation_mat[-2,-2]=0\n",
    "        permutation_mat[i,-2]=1\n",
    "        permutation_mat[-2,i]=1\n",
    "        # j <-> -1\n",
    "        permutation_mat[j,j]=0\n",
    "        permutation_mat[-1,-1]=0\n",
    "        permutation_mat[j,-1]=1\n",
    "        permutation_mat[-1,j]=1\n",
    "        if not hasattr(self,'C_m'):\n",
    "            self.covariance_matrix_m()\n",
    "\n",
    "        # m=np.arange(64).reshape((8,8))\n",
    "        # C_m_perm=permutation_mat.T@m@permutation_mat.T\n",
    "\n",
    "        C_m_perm=permutation_mat.T@self.C_m_history[-1]@permutation_mat.T\n",
    "\n",
    "        self.m=C_m_perm\n",
    "        Gamma_LL=C_m_perm[:-2,:-2]\n",
    "        Gamma_LR=C_m_perm[:-2,-2:]\n",
    "        Gamma_RR=C_m_perm[-2:,-2:]\n",
    "\n",
    "        proj=self.projection(s)\n",
    "        Upsilon_LL=proj[:-2,:-2]\n",
    "        Upsilon_LR=proj[:-2,-2:]\n",
    "        Upsilon_RR=proj[-2:,-2:]\n",
    "        Upsilon_RL=proj[-2:,:-2]\n",
    "        zero=np.zeros((self.L*2-2,2))\n",
    "        zero0=np.zeros((2,2))\n",
    "        mat1=np.block([[Gamma_LL,zero],[zero.T,Upsilon_RR]])\n",
    "        mat2=np.block([[Gamma_LR,zero],[zero0,Upsilon_RL]])\n",
    "        mat3=np.block([[Gamma_RR,np.eye(2)],[-np.eye(2),Upsilon_LL]])\n",
    "        self.mat2=mat2\n",
    "        if np.count_nonzero(mat2):\n",
    "            Psi=mat1+mat2@(la.solve(mat3,mat2.T))\n",
    "        else:\n",
    "            Psi=mat1\n",
    "        Psi=permutation_mat.T@Psi@permutation_mat\n",
    "        \n",
    "        \n",
    "        self.C_m_history.append(Psi)\n",
    "\n",
    "    def measure(self,s,i,j):\n",
    "        if not hasattr(self,'C_m'):\n",
    "            self.covariance_matrix_m()\n",
    "        \n",
    "        # m=np.arange(64).reshape((8,8))\n",
    "        \n",
    "        m=self.C_m_history[-1].copy()\n",
    "        m[i:,:]=np.roll(m[i:,:],-1,0)\n",
    "        m[:,i:]=np.roll(m[:,i:],-1,1)\n",
    "\n",
    "        if j>i:\n",
    "            j-=1    #the position of j is rotated by 1 ahead\n",
    "        m[j:,:]=np.roll(m[j:,:],-1,0)\n",
    "        m[:,j:]=np.roll(m[:,j:],-1,1)\n",
    "        self.m=m\n",
    "\n",
    "        Gamma_LL=m[:-2,:-2]\n",
    "        Gamma_LR=m[:-2,-2:]\n",
    "        Gamma_RR=m[-2:,-2:]       \n",
    "\n",
    "        proj=self.projection(s)\n",
    "        Upsilon_LL=proj[:-2,:-2]\n",
    "        Upsilon_LR=proj[:-2,-2:]\n",
    "        Upsilon_RR=proj[-2:,-2:]\n",
    "        Upsilon_RL=proj[-2:,:-2]\n",
    "        zero=np.zeros((self.L*2-2,2))\n",
    "        zero0=np.zeros((2,2))\n",
    "        mat1=np.block([[Gamma_LL,zero],[zero.T,Upsilon_RR]])\n",
    "        mat2=np.block([[Gamma_LR,zero],[zero0,Upsilon_RL]])\n",
    "        mat3=np.block([[Gamma_RR,np.eye(2)],[-np.eye(2),Upsilon_LL]])\n",
    "        self.mat2=mat2\n",
    "        if np.count_nonzero(mat2):\n",
    "            Psi=mat1+mat2@(la.solve(mat3,mat2.T))\n",
    "        else:\n",
    "            Psi=mat1\n",
    "        \n",
    "        Psi[j:,:]=np.roll(Psi[j:,:],1,0)\n",
    "        Psi[:,j:]=np.roll(Psi[:,j:],1,1)\n",
    "\n",
    "        Psi[i:,:]=np.roll(Psi[i:,:],1,0)\n",
    "        Psi[:,i:]=np.roll(Psi[:,i:],1,1)\n",
    "        # Psi=permutation_mat.T@Psi@permutation_mat        \n",
    "        \n",
    "        self.C_m_history.append(Psi) \n",
    "\n",
    "\n",
    "    def c_subregion_f_obs(self,subregion):\n",
    "        if not hasattr(self,'C'):\n",
    "            self.covariance_matrix_f()\n",
    "        try:\n",
    "            subregion=np.array(subregion)\n",
    "        except:\n",
    "            raise ValueError(\"The subregion is ill-defined\"+subregion)\n",
    "        XX,YY=np.meshgrid(np.arange(2*self.L),np.arange(2*self.L))\n",
    "        mask_hh=np.isin(XX,subregion)*np.isin(YY,subregion)\n",
    "        mask_hp=np.isin(XX,subregion)*np.isin(YY,subregion+self.L)\n",
    "        mask_ph=np.isin(XX,subregion+self.L)*np.isin(YY,subregion)\n",
    "        mask_pp=np.isin(XX,subregion+self.L)*np.isin(YY,subregion+self.L)\n",
    "        mask=mask_hh+mask_hp+mask_ph+mask_pp\n",
    "        return self.C_f[mask].reshape((2*subregion.shape[0],2*subregion.shape[0]))\n",
    "\n",
    "    def c_subregion_f(self,subregion):\n",
    "        if not hasattr(self,'C'):\n",
    "            self.covariance_matrix_f()\n",
    "        try:\n",
    "            subregion=np.array(subregion)\n",
    "        except:\n",
    "            raise ValueError(\"The subregion is ill-defined\"+subregion)\n",
    "        subregion_ph=np.concatenate([subregion,subregion+self.L])\n",
    "        return self.C_f[np.ix_(subregion_ph,subregion_ph)]\n",
    "\n",
    "    def von_Neumann_entropy(self,subregion):\n",
    "        c_A=self.c_subregion(subregion)\n",
    "        val,vec=la.eigh(c_A)\n",
    "        self.val_sh=val\n",
    "        val=np.sort(val)[:subregion.shape[0]]\n",
    "        return np.real(-np.sum(val*np.log(val+1e-18j))-np.sum((1-val)*np.log(1-val+1e-18j)))\n",
    "\n",
    "    def c_subregion_m_obs(self,subregion,Gamma=None):\n",
    "        if not hasattr(self,'C_m'):\n",
    "            self.covariance_matrix_m()\n",
    "\n",
    "        if Gamma==None:\n",
    "            Gamma=self.C_m_history[-1]\n",
    "        try:\n",
    "            subregion=np.array(subregion)\n",
    "        except:\n",
    "            raise ValueError(\"The subregion is ill-defined\"+subregion)\n",
    "        XX,YY=np.meshgrid(np.arange(2*self.L),np.arange(2*self.L))\n",
    "        mask=np.isin(XX,subregion)*np.isin(YY,subregion)  \n",
    "        return Gamma[mask].reshape((subregion.shape[0],subregion.shape[0]))\n",
    "\n",
    "    def c_subregion_m(self,subregion,Gamma=None):\n",
    "        if not hasattr(self,'C_m'):\n",
    "            self.covariance_matrix_m()\n",
    "        if Gamma==None:\n",
    "            Gamma=self.C_m_history[-1]\n",
    "        try:\n",
    "            subregion=np.array(subregion)\n",
    "        except:\n",
    "            raise ValueError(\"The subregion is ill-defined\"+subregion)\n",
    "        return Gamma[np.ix_(subregion,subregion)]\n",
    "        \n",
    "\n",
    "\n",
    "    def von_Neumann_entropy_m(self,subregion):\n",
    "        # c_A=self.c_subregion_m(subregion)\n",
    "        c_A=self.c_subregion_m_obs(subregion)\n",
    "        val,vec=la.eigh(1j*c_A)\n",
    "        self.val_sh=val\n",
    "        val=np.sort(val)\n",
    "        val=(1-val)/2   #\\lambda=(1-\\xi)/2\n",
    "        return np.real(-np.sum(val*np.log(val+1e-18j))-np.sum((1-val)*np.log(1-val+1e-18j)))/2\n",
    "\n",
    "    def mutual_information(self,subregion_A,subregion_B):\n",
    "        s_A=self.von_Neumann_entropy(subregion_A)\n",
    "        s_B=self.von_Neumann_entropy(subregion_B)\n",
    "        assert np.intersect1d(subregion_A,subregion_B).size==0 , \"Subregion A and B overlap\"\n",
    "        subregion_AB=np.concatenate([subregion_A,subregion_B])\n",
    "        s_AB=self.von_Neumann_entropy(subregion_AB)\n",
    "        return s_A+s_B-s_AB\n",
    "\n",
    "    def mutual_information_m(self,subregion_A,subregion_B):\n",
    "        s_A=self.von_Neumann_entropy_m(subregion_A)\n",
    "        s_B=self.von_Neumann_entropy_m(subregion_B)\n",
    "        assert np.intersect1d(subregion_A,subregion_B).size==0 , \"Subregion A and B overlap\"\n",
    "        subregion_AB=np.concatenate([subregion_A,subregion_B])\n",
    "        s_AB=self.von_Neumann_entropy_m(subregion_AB)\n",
    "        return s_A+s_B-s_AB\n",
    "\n",
    "    def measure_batch(self,batchsize,proj_range):\n",
    "        self.i_history=[]\n",
    "        self.s_history=[]\n",
    "        for _ in range(batchsize):\n",
    "            i=np.random.randint(*proj_range)\n",
    "            s=np.random.randint(0,2)\n",
    "            self.i_history.append(i)\n",
    "            self.s_history.append(s)\n",
    "            self.measure(s,i,i+1)\n",
    "\n",
    "    def measure_all(self,s):\n",
    "        self.i_history=[]\n",
    "        self.s_history=[]\n",
    "        # proj_range=np.hstack([np.arange(int(self.L/2),self.L,2),np.arange(int(self.L/2),self.L,2)+self.L])\n",
    "        proj_range=np.hstack([np.arange(int(self.L/2),self.L,2)]) \n",
    "        # proj_range=np.hstack([np.arange(int(self.L/2),self.L)])\n",
    "        # proj_range=np.hstack([np.arange(int(self.L/2),self.L),np.arange(int(self.L/2),int(self.L/2)+2)+self.L])\n",
    "        for i in proj_range:\n",
    "            self.i_history.append(i)\n",
    "            self.s_history.append(s)\n",
    "            self.measure(s,i,i+1)\n",
    "\n",
    "    def measure_all_random(self,batchsize,proj_range):\n",
    "        self.i_history=[]\n",
    "        self.s_history=[]        \n",
    "        # if batchsize>proj_range.shape[0]:\n",
    "        #     raise ValueError(\"The batchsize {} cannot be larger than the proj_range {}\".format(batchsize,proj_range.shape[0]))\n",
    "        choice=np.random.choice(range(*proj_range),batchsize,replace=False)\n",
    "        for i in choice:\n",
    "            s=np.random.randint(0,2)\n",
    "            self.i_history.append(i)  \n",
    "            self.s_history.append(s)\n",
    "            self.measure(s,i,i+1)      \n",
    "\n",
    "\n",
    "    def measure_all_random_even(self,batchsize,proj_range):\n",
    "        '''\n",
    "        proj_range: (start,end) tuple\n",
    "        '''\n",
    "        self.i_history=[]\n",
    "        self.s_history=[]        \n",
    "        proj_range_even=[i//2 for i in proj_range]\n",
    "        choice=np.random.choice(range(*proj_range_even),batchsize,replace=False)\n",
    "        for i in choice:\n",
    "            s=np.random.randint(0,2)\n",
    "            self.i_history.append(2*i)  #only even is accepted \n",
    "            self.s_history.append(s)\n",
    "            self.measure(s,2*i,2*i+1)  \n",
    "        "
   ]
  },
  {
   "cell_type": "markdown",
   "metadata": {},
   "source": [
    "# Band structure"
   ]
  },
  {
   "cell_type": "code",
   "execution_count": 6,
   "metadata": {},
   "outputs": [
    {
     "name": "stderr",
     "output_type": "stream",
     "text": [
      "/home/jake/anaconda3/lib/python3.8/site-packages/scipy/sparse/_index.py:82: SparseEfficiencyWarning: Changing the sparsity structure of a csr_matrix is expensive. lil_matrix is more efficient.\n",
      "  self._set_intXint(row, col, x.flat[0])\n"
     ]
    }
   ],
   "source": [
    "params=Params(delta=-0.3,L=16,bc=0)"
   ]
  },
  {
   "cell_type": "code",
   "execution_count": null,
   "metadata": {},
   "outputs": [],
   "source": [
    "params.bandstructure('f')\n",
    "params.val"
   ]
  },
  {
   "cell_type": "code",
   "execution_count": null,
   "metadata": {},
   "outputs": [],
   "source": [
    "params.bandstructure('m')\n",
    "params.val"
   ]
  },
  {
   "cell_type": "code",
   "execution_count": 7,
   "metadata": {},
   "outputs": [],
   "source": [
    "delta_list=np.linspace(-1,1,100)\n",
    "eigvallist_f=[]\n",
    "eigvallist_m=[]\n",
    "for delta in delta_list:\n",
    "    params=Params(delta,L=16,bc=-1)\n",
    "    params.bandstructure('f')\n",
    "    params.bandstructure('m')\n",
    "    eigvallist_f.append(params.val_f)\n",
    "    eigvallist_m.append(params.val_m)\n"
   ]
  },
  {
   "cell_type": "code",
   "execution_count": 8,
   "metadata": {},
   "outputs": [
    {
     "data": {
      "image/png": "[encoded data removed]",
      "text/plain": "<Figure size 489.6x288 with 2 Axes>"
     },
     "metadata": {
      "needs_background": "light"
     },
     "output_type": "display_data"
    }
   ],
   "source": [
    "fig,ax=plt.subplots(1,2,sharey=True)\n",
    "for index in range(eigvallist_f[0].shape[0]):\n",
    "    ax[0].plot(delta_list,np.array(eigvallist_m)[:,index],'k')\n",
    "    ax[1].plot(delta_list,np.array(eigvallist_f)[:,index],'k')\n",
    "[ax.set_xlabel(r'$\\delta$') for ax in ax]\n",
    "ax[0].set_ylabel(r'$E$')\n",
    "[ax.text(.5,1,text,transform=ax.transAxes,ha='center',va='bottom') for ax,text in zip(ax,('Majorana basis','Particle-hole basis'))]\n",
    "\n",
    "fig.tight_layout()\n",
    "\n",
    "# fig.savefig('/mnt/d/kitp/Rp_SPT/3/bandstructure-apbc.pdf',bbox_inches='tight')\n"
   ]
  },
  {
   "cell_type": "code",
   "execution_count": 9,
   "metadata": {},
   "outputs": [
    {
     "name": "stderr",
     "output_type": "stream",
     "text": [
      "/home/jake/anaconda3/lib/python3.8/site-packages/scipy/sparse/_index.py:82: SparseEfficiencyWarning: Changing the sparsity structure of a csr_matrix is expensive. lil_matrix is more efficient.\n",
      "  self._set_intXint(row, col, x.flat[0])\n"
     ]
    }
   ],
   "source": [
    "delta_list=np.linspace(-1,1,100)\n",
    "eigvallist_f=[]\n",
    "eigvallist_m=[]\n",
    "for delta in delta_list:\n",
    "    params=Params(delta,L=16,bc=0)\n",
    "    params.bandstructure('f')\n",
    "    params.bandstructure('m')\n",
    "    eigvallist_f.append(params.val_f)\n",
    "    eigvallist_m.append(params.val_m)\n"
   ]
  },
  {
   "cell_type": "code",
   "execution_count": 10,
   "metadata": {},
   "outputs": [
    {
     "data": {
      "image/png": "[encoded data removed]",
      "text/plain": "<Figure size 489.6x288 with 2 Axes>"
     },
     "metadata": {
      "needs_background": "light"
     },
     "output_type": "display_data"
    }
   ],
   "source": [
    "fig,ax=plt.subplots(1,2,sharey=True)\n",
    "for index in range(eigvallist_m[0].shape[0]):\n",
    "    ax[0].plot(delta_list,np.array(eigvallist_m)[:,index],'k')\n",
    "    ax[1].plot(delta_list,np.array(eigvallist_f)[:,index],'k')\n",
    "[ax.set_xlabel(r'$\\delta$') for ax in ax]\n",
    "ax[0].set_ylabel(r'$E$')\n",
    "[ax.text(.5,1,text,transform=ax.transAxes,ha='center',va='bottom') for ax,text in zip(ax,('Majorana basis','Particle-hole basis'))]\n",
    "\n",
    "fig.tight_layout()\n",
    "\n",
    "# fig.savefig('/mnt/d/kitp/Rp_SPT/3/bandstructure-obc.pdf',bbox_inches='tight')\n"
   ]
  },
  {
   "cell_type": "markdown",
   "metadata": {},
   "source": [
    "# Covariance and Correlation matrix"
   ]
  },
  {
   "cell_type": "code",
   "execution_count": 16,
   "metadata": {},
   "outputs": [
    {
     "name": "stderr",
     "output_type": "stream",
     "text": [
      "/home/jake/anaconda3/lib/python3.8/site-packages/scipy/sparse/_index.py:82: SparseEfficiencyWarning: Changing the sparsity structure of a csr_matrix is expensive. lil_matrix is more efficient.\n",
      "  self._set_intXint(row, col, x.flat[0])\n"
     ]
    }
   ],
   "source": [
    "params=Params(delta=-0.3,L=16,bc=-1)"
   ]
  },
  {
   "cell_type": "code",
   "execution_count": 17,
   "metadata": {},
   "outputs": [],
   "source": [
    "params.covariance_matrix_m()\n",
    "params.covariance_matrix_f()"
   ]
  },
  {
   "cell_type": "code",
   "execution_count": 18,
   "metadata": {},
   "outputs": [],
   "source": [
    "l=8\n",
    "val_sub={}\n",
    "val_sub['f']=la.eigh(params.c_subregion_f(np.arange(l)),eigvals_only=True)\n",
    "val_sub['m']=la.eigh(1j*params.c_subregion_m(np.arange(2*l)),eigvals_only=True)"
   ]
  },
  {
   "cell_type": "code",
   "execution_count": 19,
   "metadata": {},
   "outputs": [
    {
     "data": {
      "image/png": "[encoded data removed]",
      "text/plain": "<Figure size 489.6x489.6 with 5 Axes>"
     },
     "metadata": {
      "needs_background": "light"
     },
     "output_type": "display_data"
    }
   ],
   "source": [
    "fig,ax=plt.subplots(2,2,figsize=(6.8,6.8))\n",
    "im0=ax[0,0].imshow(params.C_m,cmap='seismic')\n",
    "im1=ax[0,1].imshow(params.C_m@params.C_m,cmap='hot')\n",
    "ax[0,0].text(0.5,1.1,r'$\\Gamma$',transform=ax[0,0].transAxes,ha='center',va='bottom')\n",
    "ax[0,1].text(0.5,1.1,r'$\\Gamma^2$',transform=ax[0,1].transAxes,ha='center',va='bottom')\n",
    "\n",
    "\n",
    "# [ax.set_box_aspect(1) for ax in ax]\n",
    "\n",
    "axins0=ax[0,0].inset_axes([0.0, -.1, 1, 0.05],transform=ax[0,0].transAxes) \n",
    "cb0=fig.colorbar(im0,cax=axins0,orientation='horizontal')\n",
    "cb0.ax.xaxis.set_tick_params(pad=0)\n",
    "\n",
    "axins1=ax[0,1].inset_axes([0.0, -.1, 1, 0.05],transform=ax[0,1].transAxes) \n",
    "cb1=fig.colorbar(im1,cax=axins1,orientation='horizontal')\n",
    "cb1.ax.xaxis.set_tick_params(pad=0)\n",
    "\n",
    "im2=ax[1,0].imshow(params.C_f,cmap='seismic',vmax=1,vmin=-1)\n",
    "ax[1,0].text(0.5,1.1,r'$G$',transform=ax[1,0].transAxes,ha='center',va='bottom')\n",
    "axins2=ax[1,0].inset_axes([0.0, -.1, 1, 0.05],transform=ax[1,0].transAxes) \n",
    "cb2=fig.colorbar(im2,cax=axins2,orientation='horizontal')\n",
    "cb2.ax.xaxis.set_tick_params(pad=0)\n",
    "\n",
    "color = 'tab:red'\n",
    "ax[1,1].plot(val_sub['f'],'.',marker=\"x\",color=color)\n",
    "ax[1,1].set_xlabel('Number of eigenvalues')\n",
    "ax[1,1].set_ylabel(r'Eigenvalues of $G$', color=color)\n",
    "ax[1,1].tick_params(axis='y', labelcolor=color)\n",
    "\n",
    "\n",
    "ax2=ax[1,1].twinx()\n",
    "color = 'tab:blue'\n",
    "ax2.plot(val_sub['m'],'.',marker=\"+\",color=color)\n",
    "ax2.set_ylabel(r'Eigenvalues of $i\\Gamma$', color=color)  # we already handled the x-label with ax1\n",
    "ax2.tick_params(axis='y', labelcolor=color)\n",
    "\n",
    "[ax.xaxis.set_label_position('top') for ax in ax.flatten()[:3]]\n",
    "[ax.xaxis.tick_top() for ax in ax.flatten()[:3]]\n",
    "[ax.set_xticks([0,15,31]) for ax in ax.flatten()[:3]]\n",
    "[ax.set_yticks([0,15,31]) for ax in ax.flatten()[:3]]\n",
    "[ax.set_xticklabels([1,16,32]) for ax in ax.flatten()[:3]]\n",
    "[ax.set_yticklabels([1,16,32]) for ax in ax.flatten()[:3]]\n",
    "\n",
    "[ax.text(-0.,1.02,'({})'.format(text),transform=ax.transAxes,ha='right',va='bottom') for ax,text in zip(ax.flatten(),'abcd')]\n",
    "ax[1,1].set_box_aspect(1)\n",
    "fig.tight_layout()\n",
    "# fig.savefig('/mnt/d/kitp/Rp_SPT/3/cov.pdf',bbox_inches='tight')\n"
   ]
  },
  {
   "cell_type": "code",
   "execution_count": 20,
   "metadata": {},
   "outputs": [
    {
     "name": "stderr",
     "output_type": "stream",
     "text": [
      "/home/jake/anaconda3/lib/python3.8/site-packages/scipy/sparse/_index.py:82: SparseEfficiencyWarning: Changing the sparsity structure of a csr_matrix is expensive. lil_matrix is more efficient.\n",
      "  self._set_intXint(row, col, x.flat[0])\n"
     ]
    }
   ],
   "source": [
    "params=Params(delta=0.3,L=16,bc=-1)\n",
    "params.covariance_matrix_m()\n",
    "params.covariance_matrix_f()\n",
    "l=8\n",
    "val_sub={}\n",
    "val_sub['f']=la.eigh(params.c_subregion_f(np.arange(l)),eigvals_only=True)\n",
    "val_sub['m']=la.eigh(1j*params.c_subregion_m(np.arange(2*l)),eigvals_only=True)"
   ]
  },
  {
   "cell_type": "code",
   "execution_count": 23,
   "metadata": {},
   "outputs": [
    {
     "data": {
      "image/png": "[encoded data removed]",
      "text/plain": "<Figure size 489.6x489.6 with 5 Axes>"
     },
     "metadata": {
      "needs_background": "light"
     },
     "output_type": "display_data"
    }
   ],
   "source": [
    "fig,ax=plt.subplots(2,2,figsize=(6.8,6.8))\n",
    "im0=ax[0,0].imshow(params.C_m,cmap='seismic')\n",
    "im1=ax[0,1].imshow(params.C_m@params.C_m,cmap='hot')\n",
    "ax[0,0].text(0.5,1.1,r'$\\Gamma$',transform=ax[0,0].transAxes,ha='center',va='bottom')\n",
    "ax[0,1].text(0.5,1.1,r'$\\Gamma^2$',transform=ax[0,1].transAxes,ha='center',va='bottom')\n",
    "\n",
    "\n",
    "# [ax.set_box_aspect(1) for ax in ax]\n",
    "\n",
    "axins0=ax[0,0].inset_axes([0.0, -.1, 1, 0.05],transform=ax[0,0].transAxes) \n",
    "cb0=fig.colorbar(im0,cax=axins0,orientation='horizontal')\n",
    "cb0.ax.xaxis.set_tick_params(pad=0)\n",
    "\n",
    "axins1=ax[0,1].inset_axes([0.0, -.1, 1, 0.05],transform=ax[0,1].transAxes) \n",
    "cb1=fig.colorbar(im1,cax=axins1,orientation='horizontal')\n",
    "cb1.ax.xaxis.set_tick_params(pad=0)\n",
    "\n",
    "im2=ax[1,0].imshow(params.C_f,cmap='seismic',vmax=1,vmin=-1)\n",
    "ax[1,0].text(0.5,1.1,r'$G$',transform=ax[1,0].transAxes,ha='center',va='bottom')\n",
    "axins2=ax[1,0].inset_axes([0.0, -.1, 1, 0.05],transform=ax[1,0].transAxes) \n",
    "cb2=fig.colorbar(im2,cax=axins2,orientation='horizontal')\n",
    "cb2.ax.xaxis.set_tick_params(pad=0)\n",
    "\n",
    "color = 'tab:red'\n",
    "ax[1,1].plot(val_sub['f'],'.',marker=\"x\",color=color)\n",
    "ax[1,1].set_xlabel('Number of eigenvalues')\n",
    "ax[1,1].set_ylabel(r'Eigenvalues of $G$', color=color)\n",
    "ax[1,1].tick_params(axis='y', labelcolor=color)\n",
    "\n",
    "\n",
    "ax2=ax[1,1].twinx()\n",
    "color = 'tab:blue'\n",
    "ax2.plot(val_sub['m'],'.',marker=\"+\",color=color)\n",
    "ax2.set_ylabel(r'Eigenvalues of $i\\Gamma$', color=color)  # we already handled the x-label with ax1\n",
    "ax2.tick_params(axis='y', labelcolor=color)\n",
    "\n",
    "[ax.xaxis.set_label_position('top') for ax in ax.flatten()[:3]]\n",
    "[ax.xaxis.tick_top() for ax in ax.flatten()[:3]]\n",
    "[ax.set_xticks([0,15,31]) for ax in ax.flatten()[:3]]\n",
    "[ax.set_yticks([0,15,31]) for ax in ax.flatten()[:3]]\n",
    "[ax.set_xticklabels([1,16,32]) for ax in ax.flatten()[:3]]\n",
    "[ax.set_yticklabels([1,16,32]) for ax in ax.flatten()[:3]]\n",
    "\n",
    "[ax.text(-0.,1.02,'({})'.format(text),transform=ax.transAxes,ha='right',va='bottom') for ax,text in zip(ax.flatten(),'abcd')]\n",
    "ax[1,1].set_box_aspect(1)\n",
    "fig.tight_layout()\n",
    "fig.savefig('/mnt/d/kitp/Rp_SPT/4/cov.pdf',bbox_inches='tight')\n"
   ]
  },
  {
   "cell_type": "markdown",
   "metadata": {},
   "source": [
    "# Mutual information"
   ]
  },
  {
   "cell_type": "code",
   "execution_count": 416,
   "metadata": {},
   "outputs": [],
   "source": [
    "delta_list=np.linspace(-1,1,100)**5\n",
    "mutual_info_list=[]\n",
    "for delta in delta_list:\n",
    "    params=Params(delta=delta,L=64,bc=-1)\n",
    "    mutual_info_list.append(params.mutual_information_m(np.arange(2),np.arange(2)+30))"
   ]
  },
  {
   "cell_type": "code",
   "execution_count": 417,
   "metadata": {},
   "outputs": [
    {
     "data": {
      "text/plain": "[<matplotlib.lines.Line2D at 0x7fa074683730>]"
     },
     "execution_count": 417,
     "metadata": {},
     "output_type": "execute_result"
    },
    {
     "data": {
      "image/png": "[encoded data removed]",
      "text/plain": "<Figure size 489.6x288 with 1 Axes>"
     },
     "metadata": {
      "needs_background": "light"
     },
     "output_type": "display_data"
    }
   ],
   "source": [
    "plt.plot(delta_list,mutual_info_list/np.log(2))"
   ]
  },
  {
   "cell_type": "markdown",
   "metadata": {},
   "source": [
    "# Profiling"
   ]
  },
  {
   "cell_type": "code",
   "execution_count": 474,
   "metadata": {},
   "outputs": [
    {
     "name": "stdout",
     "output_type": "stream",
     "text": [
      "[16, 32]\n",
      "0.08940625190734863\n"
     ]
    },
    {
     "name": "stderr",
     "output_type": "stream",
     "text": [
      "/home/jake/anaconda3/lib/python3.8/site-packages/scipy/sparse/_index.py:82: SparseEfficiencyWarning: Changing the sparsity structure of a csr_matrix is expensive. lil_matrix is more efficient.\n",
      "  self._set_intXint(row, col, x.flat[0])\n"
     ]
    }
   ],
   "source": [
    "st=time.time()\n",
    "params=Params(delta=delta,L=64,bc=-1)\n",
    "params.measure_all_random_even(16,(int(params.L/2),params.L))\n",
    "print(time.time()-st)"
   ]
  },
  {
   "cell_type": "code",
   "execution_count": 476,
   "metadata": {},
   "outputs": [
    {
     "data": {
      "text/plain": "array([32, 34, 36, 38, 40, 42, 44, 46, 48, 50, 52, 54, 56, 58, 60, 62])"
     },
     "execution_count": 476,
     "metadata": {},
     "output_type": "execute_result"
    }
   ],
   "source": [
    "np.sort(params.i_history)"
   ]
  },
  {
   "cell_type": "code",
   "execution_count": 477,
   "metadata": {},
   "outputs": [
    {
     "data": {
      "text/plain": "[0, 0, 0, 1, 1, 0, 1, 1, 1, 1, 0, 1, 0, 1, 0, 0]"
     },
     "execution_count": 477,
     "metadata": {},
     "output_type": "execute_result"
    }
   ],
   "source": [
    "params.s_history"
   ]
  },
  {
   "cell_type": "code",
   "execution_count": 401,
   "metadata": {},
   "outputs": [
    {
     "name": "stdout",
     "output_type": "stream",
     "text": [
      "Timer unit: 1e-06 s\n",
      "\n",
      "Total time: 0.015792 s\n",
      "File: <ipython-input-397-4e89c48193fa>\n",
      "Function: measure_all_random_even at line 325\n",
      "\n",
      "Line #      Hits         Time  Per Hit   % Time  Line Contents\n",
      "==============================================================\n",
      "   325                                               def measure_all_random_even(self,batchsize,proj_range):\n",
      "   326                                                   '''\n",
      "   327                                                   proj_range: (start,end) tuple\n",
      "   328                                                   '''\n",
      "   329         1          2.0      2.0      0.0          self.i_history=[]\n",
      "   330         1          1.0      1.0      0.0          self.s_history=[]        \n",
      "   331         1          2.0      2.0      0.0          proj_range_even=[i//2 for i in proj_range]\n",
      "   332         1         70.0     70.0      0.4          choice=np.random.choice(range(*proj_range_even),batchsize,replace=False)\n",
      "   333        13         38.0      2.9      0.2          for i in choice:\n",
      "   334        12        197.0     16.4      1.2              s=np.random.randint(0,2)\n",
      "   335        12         23.0      1.9      0.1              self.i_history.append(2*i)  #only even is accepted \n",
      "   336        12         11.0      0.9      0.1              self.s_history.append(s)\n",
      "   337        12      15448.0   1287.3     97.8              self.measure(s,2*i,2*i+1)"
     ]
    }
   ],
   "source": [
    "params=Params(delta=delta,L=64,bc=-1)\n",
    "%lprun -f params.measure_all_random_even params.measure_all_random_even(12,(int(params.L/2),params.L))"
   ]
  },
  {
   "cell_type": "code",
   "execution_count": 115,
   "metadata": {},
   "outputs": [
    {
     "name": "stdout",
     "output_type": "stream",
     "text": [
      "12\n"
     ]
    }
   ],
   "source": [
    "%%prun\n",
    "delta_dict={}\n",
    "mutual_info_dis_dict={}\n",
    "for i in (12,):\n",
    "    print(i)\n",
    "    delta_dict[i],mutual_info_dis_dict[i]=mutual_info_run(i)"
   ]
  },
  {
   "cell_type": "code",
   "execution_count": 200,
   "metadata": {},
   "outputs": [
    {
     "name": "stdout",
     "output_type": "stream",
     "text": [
      "[[ 0  1  2  3  4]\n",
      " [ 5  6  7  8  9]\n",
      " [10 11 12 13 14]\n",
      " [15 16 17 18 19]\n",
      " [20 21 22 23 24]]\n"
     ]
    }
   ],
   "source": [
    "m = range(25)\n",
    "m =np.reshape(m,(5,5))\n",
    "print(m)"
   ]
  },
  {
   "cell_type": "code",
   "execution_count": 201,
   "metadata": {},
   "outputs": [
    {
     "name": "stdout",
     "output_type": "stream",
     "text": [
      "[[ 0  2  3  4  1]\n",
      " [10 12 13 14 11]\n",
      " [15 17 18 19 16]\n",
      " [20 22 23 24 21]\n",
      " [ 5  7  8  9  6]]\n"
     ]
    }
   ],
   "source": [
    "idx=1\n",
    "m[idx:,:]=np.roll(m[idx:,:],-1,0)\n",
    "m[:,idx:]=np.roll(m[:,idx:],-1,1)\n",
    "print(m)"
   ]
  },
  {
   "cell_type": "code",
   "execution_count": 202,
   "metadata": {},
   "outputs": [
    {
     "name": "stdout",
     "output_type": "stream",
     "text": [
      "[[ 0  2  4  1  3]\n",
      " [10 12 14 11 13]\n",
      " [20 22 24 21 23]\n",
      " [ 5  7  9  6  8]\n",
      " [15 17 19 16 18]]\n"
     ]
    }
   ],
   "source": [
    "jdx=2\n",
    "m[jdx:,:]=np.roll(m[jdx:,:],-1,0)\n",
    "m[:,jdx:]=np.roll(m[:,jdx:],-1,1)\n",
    "print(m)"
   ]
  },
  {
   "cell_type": "code",
   "execution_count": 203,
   "metadata": {},
   "outputs": [
    {
     "name": "stdout",
     "output_type": "stream",
     "text": [
      "[[ 0  2  3  4  1]\n",
      " [10 12 13 14 11]\n",
      " [15 17 18 19 16]\n",
      " [20 22 23 24 21]\n",
      " [ 5  7  8  9  6]]\n"
     ]
    }
   ],
   "source": [
    "m[jdx:,:]=np.roll(m[jdx:,:],1,0)\n",
    "m[:,jdx:]=np.roll(m[:,jdx:],1,1)\n",
    "print(m)"
   ]
  },
  {
   "cell_type": "code",
   "execution_count": 204,
   "metadata": {},
   "outputs": [
    {
     "name": "stdout",
     "output_type": "stream",
     "text": [
      "[[ 0  1  2  3  4]\n",
      " [ 5  6  7  8  9]\n",
      " [10 11 12 13 14]\n",
      " [15 16 17 18 19]\n",
      " [20 21 22 23 24]]\n"
     ]
    }
   ],
   "source": [
    "m[idx:,:]=np.roll(m[idx:,:],1,0)\n",
    "m[:,idx:]=np.roll(m[:,idx:],1,1)\n",
    "print(m)"
   ]
  },
  {
   "cell_type": "code",
   "execution_count": 155,
   "metadata": {},
   "outputs": [
    {
     "data": {
      "text/plain": "array([[ 4,  0,  1,  2,  3],\n       [ 9,  5,  6,  7,  8],\n       [14, 10, 11, 12, 13],\n       [19, 15, 16, 17, 18],\n       [24, 20, 21, 22, 23]])"
     },
     "execution_count": 155,
     "metadata": {},
     "output_type": "execute_result"
    }
   ],
   "source": [
    "np.roll(m,1,axis=1)"
   ]
  },
  {
   "cell_type": "code",
   "execution_count": 148,
   "metadata": {},
   "outputs": [
    {
     "data": {
      "text/plain": "array([3, 1, 2])"
     },
     "execution_count": 148,
     "metadata": {},
     "output_type": "execute_result"
    }
   ],
   "source": [
    "np.roll(m[row][:column+1], 1)"
   ]
  },
  {
   "cell_type": "code",
   "execution_count": 362,
   "metadata": {},
   "outputs": [],
   "source": [
    "params=Params(delta=0.3,L=64,bc=-1)\n",
    "params.covariance_matrix_m()\n",
    "z1=(params.C_m_history)\n",
    "params.measure_obs(0,2,3)\n",
    "params.measure_obs(0,12,13)\n",
    "z11=params.C_m_history"
   ]
  },
  {
   "cell_type": "code",
   "execution_count": 363,
   "metadata": {},
   "outputs": [],
   "source": [
    "params2=Params(delta=0.3,L=64,bc=-1)\n",
    "params2.covariance_matrix_m()\n",
    "z2=params2.C_m_history\n",
    "params2.measure(0,2,3)\n",
    "params2.measure(0,12,13)\n",
    "z21=params2.C_m_history"
   ]
  },
  {
   "cell_type": "code",
   "execution_count": 356,
   "metadata": {},
   "outputs": [
    {
     "data": {
      "text/plain": "array([[ 0.00000000e+00, -3.18821856e-01,  0.00000000e+00,\n        -9.07939026e-01,  0.00000000e+00, -2.39512981e-01,\n         0.00000000e+00, -1.28968528e-01],\n       [ 3.18821856e-01,  0.00000000e+00, -1.28968528e-01,\n         5.55111512e-17, -2.39512981e-01, -1.52655666e-16,\n        -9.07939026e-01,  3.33066907e-16],\n       [ 0.00000000e+00,  1.28968528e-01,  0.00000000e+00,\n        -3.18821856e-01, -2.49800181e-16,  9.07939026e-01,\n         5.55111512e-17,  2.39512981e-01],\n       [ 9.07939026e-01, -5.55111512e-17,  3.18821856e-01,\n         0.00000000e+00,  1.28968528e-01,  1.38777878e-16,\n         2.39512981e-01, -1.52655666e-16],\n       [ 0.00000000e+00,  2.39512981e-01,  2.35922393e-16,\n        -1.28968528e-01,  0.00000000e+00, -3.18821856e-01,\n         2.91433544e-16,  9.07939026e-01],\n       [ 2.39512981e-01,  1.52655666e-16, -9.07939026e-01,\n        -1.38777878e-16,  3.18821856e-01,  0.00000000e+00,\n         1.28968528e-01,  0.00000000e+00],\n       [ 0.00000000e+00,  9.07939026e-01, -5.55111512e-17,\n        -2.39512981e-01, -2.91433544e-16, -1.28968528e-01,\n         0.00000000e+00, -3.18821856e-01],\n       [ 1.28968528e-01, -3.33066907e-16, -2.39512981e-01,\n         1.52655666e-16, -9.07939026e-01,  0.00000000e+00,\n         3.18821856e-01,  0.00000000e+00]])"
     },
     "execution_count": 356,
     "metadata": {},
     "output_type": "execute_result"
    }
   ],
   "source": [
    "params.m"
   ]
  },
  {
   "cell_type": "code",
   "execution_count": 357,
   "metadata": {},
   "outputs": [
    {
     "data": {
      "text/plain": "array([[ 0.00000000e+00, -3.18821856e-01,  0.00000000e+00,\n        -2.39512981e-01,  0.00000000e+00, -9.07939026e-01,\n         0.00000000e+00, -1.28968528e-01],\n       [ 3.18821856e-01,  0.00000000e+00, -2.39512981e-01,\n        -1.52655666e-16, -1.28968528e-01,  5.55111512e-17,\n        -9.07939026e-01,  3.33066907e-16],\n       [ 0.00000000e+00,  2.39512981e-01,  0.00000000e+00,\n        -3.18821856e-01,  2.35922393e-16, -1.28968528e-01,\n         2.91433544e-16,  9.07939026e-01],\n       [ 2.39512981e-01,  1.52655666e-16,  3.18821856e-01,\n         0.00000000e+00, -9.07939026e-01, -1.38777878e-16,\n         1.28968528e-01,  0.00000000e+00],\n       [ 0.00000000e+00,  1.28968528e-01, -2.49800181e-16,\n         9.07939026e-01,  0.00000000e+00, -3.18821856e-01,\n         5.55111512e-17,  2.39512981e-01],\n       [ 9.07939026e-01, -5.55111512e-17,  1.28968528e-01,\n         1.38777878e-16,  3.18821856e-01,  0.00000000e+00,\n         2.39512981e-01, -1.52655666e-16],\n       [ 0.00000000e+00,  9.07939026e-01, -2.91433544e-16,\n        -1.28968528e-01, -5.55111512e-17, -2.39512981e-01,\n         0.00000000e+00, -3.18821856e-01],\n       [ 1.28968528e-01, -3.33066907e-16, -9.07939026e-01,\n         0.00000000e+00, -2.39512981e-01,  1.52655666e-16,\n         3.18821856e-01,  0.00000000e+00]])"
     },
     "execution_count": 357,
     "metadata": {},
     "output_type": "execute_result"
    }
   ],
   "source": [
    "params2.m"
   ]
  },
  {
   "cell_type": "code",
   "execution_count": 358,
   "metadata": {},
   "outputs": [
    {
     "data": {
      "text/plain": "1.0369075543018473"
     },
     "execution_count": 358,
     "metadata": {},
     "output_type": "execute_result"
    }
   ],
   "source": [
    "(params.m-params2.m).max()"
   ]
  },
  {
   "cell_type": "code",
   "execution_count": 359,
   "metadata": {},
   "outputs": [
    {
     "data": {
      "text/plain": "array([[0., 0., 0., 0., 0., 0., 0., 0.],\n       [0., 0., 0., 0., 0., 0., 0., 0.],\n       [0., 0., 0., 0., 0., 0., 0., 0.],\n       [0., 0., 0., 0., 0., 0., 0., 0.],\n       [0., 0., 0., 0., 0., 0., 0., 0.],\n       [0., 0., 0., 0., 0., 0., 0., 0.],\n       [0., 0., 0., 0., 0., 0., 0., 0.],\n       [0., 0., 0., 0., 0., 0., 0., 0.]])"
     },
     "execution_count": 359,
     "metadata": {},
     "output_type": "execute_result"
    }
   ],
   "source": [
    "z1[0]-z2[0]"
   ]
  },
  {
   "cell_type": "code",
   "execution_count": 366,
   "metadata": {},
   "outputs": [
    {
     "data": {
      "text/plain": "array([[0., 0., 0., ..., 0., 0., 0.],\n       [0., 0., 0., ..., 0., 0., 0.],\n       [0., 0., 0., ..., 0., 0., 0.],\n       ...,\n       [0., 0., 0., ..., 0., 0., 0.],\n       [0., 0., 0., ..., 0., 0., 0.],\n       [0., 0., 0., ..., 0., 0., 0.]])"
     },
     "execution_count": 366,
     "metadata": {},
     "output_type": "execute_result"
    }
   ],
   "source": [
    "z1[-3]-z2[-3]"
   ]
  },
  {
   "cell_type": "code",
   "execution_count": 328,
   "metadata": {},
   "outputs": [
    {
     "data": {
      "text/plain": "array([[0., 0., 0., ..., 0., 0., 0.],\n       [0., 0., 0., ..., 0., 0., 0.],\n       [0., 0., 0., ..., 0., 0., 0.],\n       ...,\n       [0., 0., 0., ..., 0., 0., 0.],\n       [0., 0., 0., ..., 0., 0., 0.],\n       [0., 0., 0., ..., 0., 0., 0.]])"
     },
     "execution_count": 328,
     "metadata": {},
     "output_type": "execute_result"
    }
   ],
   "source": [
    "z11[0]-z1[0]"
   ]
  },
  {
   "cell_type": "code",
   "execution_count": 329,
   "metadata": {},
   "outputs": [
    {
     "data": {
      "text/plain": "array([[0., 0., 0., ..., 0., 0., 0.],\n       [0., 0., 0., ..., 0., 0., 0.],\n       [0., 0., 0., ..., 0., 0., 0.],\n       ...,\n       [0., 0., 0., ..., 0., 0., 0.],\n       [0., 0., 0., ..., 0., 0., 0.],\n       [0., 0., 0., ..., 0., 0., 0.]])"
     },
     "execution_count": 329,
     "metadata": {},
     "output_type": "execute_result"
    }
   ],
   "source": [
    "z21[0]-z2[0]"
   ]
  },
  {
   "cell_type": "code",
   "execution_count": 331,
   "metadata": {},
   "outputs": [
    {
     "data": {
      "text/plain": "1.0"
     },
     "execution_count": 331,
     "metadata": {},
     "output_type": "execute_result"
    }
   ],
   "source": [
    "(z2[-1]-z1[-1]).max()"
   ]
  },
  {
   "cell_type": "code",
   "execution_count": 246,
   "metadata": {},
   "outputs": [
    {
     "data": {
      "text/plain": "array([[ 0.00000000e+00,  0.00000000e+00,  0.00000000e+00, ...,\n        -6.85085135e-01, -5.69446071e-04,  9.22763296e-01],\n       [ 0.00000000e+00,  0.00000000e+00,  0.00000000e+00, ...,\n         3.74179854e-15,  3.93015890e-02,  4.24139890e-16],\n       [ 0.00000000e+00,  0.00000000e+00,  0.00000000e+00, ...,\n        -1.43291847e-01, -1.40106063e-03,  2.37350808e-01],\n       ...,\n       [ 6.85085135e-01, -3.74093118e-15,  1.43291847e-01, ...,\n         0.00000000e+00,  9.23005389e-01, -4.20670443e-16],\n       [ 5.69446071e-04, -3.93015890e-02,  1.40106063e-03, ...,\n        -9.23005389e-01,  0.00000000e+00,  2.80245042e-01],\n       [-9.22763296e-01, -4.25007252e-16, -2.37350808e-01, ...,\n         4.21971486e-16, -2.80245042e-01,  0.00000000e+00]])"
     },
     "execution_count": 246,
     "metadata": {},
     "output_type": "execute_result"
    }
   ],
   "source": [
    "params2.C_m_history[0]-params.C_m_history[0]\n"
   ]
  },
  {
   "cell_type": "code",
   "execution_count": 222,
   "metadata": {},
   "outputs": [
    {
     "ename": "AttributeError",
     "evalue": "'Params' object has no attribute 'C_m_history'",
     "output_type": "error",
     "traceback": [
      "\u001b[0;31m---------------------------------------------------------------------------\u001b[0m",
      "\u001b[0;31mAttributeError\u001b[0m                            Traceback (most recent call last)",
      "\u001b[0;32m<ipython-input-222-1a0f8961eb28>\u001b[0m in \u001b[0;36m<module>\u001b[0;34m\u001b[0m\n\u001b[0;32m----> 1\u001b[0;31m \u001b[0mparams\u001b[0m\u001b[0;34m.\u001b[0m\u001b[0mC_m_history\u001b[0m\u001b[0;34m[\u001b[0m\u001b[0;36m0\u001b[0m\u001b[0;34m]\u001b[0m\u001b[0;34m-\u001b[0m\u001b[0mparams2\u001b[0m\u001b[0;34m.\u001b[0m\u001b[0mC_m_history\u001b[0m\u001b[0;34m[\u001b[0m\u001b[0;36m0\u001b[0m\u001b[0;34m]\u001b[0m\u001b[0;34m\u001b[0m\u001b[0;34m\u001b[0m\u001b[0m\n\u001b[0m",
      "\u001b[0;31mAttributeError\u001b[0m: 'Params' object has no attribute 'C_m_history'"
     ]
    }
   ],
   "source": [
    "params.C_m_history[0]-params2.C_m_history[0]"
   ]
  },
  {
   "cell_type": "code",
   "execution_count": 319,
   "metadata": {},
   "outputs": [],
   "source": [
    "zz=np.eye(4)"
   ]
  },
  {
   "cell_type": "code",
   "execution_count": 320,
   "metadata": {},
   "outputs": [],
   "source": [
    "xx=zz.copy()"
   ]
  },
  {
   "cell_type": "code",
   "execution_count": 321,
   "metadata": {},
   "outputs": [],
   "source": [
    "xx[-1,0]=1"
   ]
  },
  {
   "cell_type": "code",
   "execution_count": 322,
   "metadata": {},
   "outputs": [
    {
     "data": {
      "text/plain": "array([[1., 0., 0., 0.],\n       [0., 1., 0., 0.],\n       [0., 0., 1., 0.],\n       [1., 0., 0., 1.]])"
     },
     "execution_count": 322,
     "metadata": {},
     "output_type": "execute_result"
    }
   ],
   "source": [
    "xx"
   ]
  },
  {
   "cell_type": "code",
   "execution_count": 323,
   "metadata": {},
   "outputs": [
    {
     "data": {
      "text/plain": "array([[1., 0., 0., 0.],\n       [0., 1., 0., 0.],\n       [0., 0., 1., 0.],\n       [0., 0., 0., 1.]])"
     },
     "execution_count": 323,
     "metadata": {},
     "output_type": "execute_result"
    }
   ],
   "source": [
    "zz"
   ]
  },
  {
   "cell_type": "code",
   "execution_count": 399,
   "metadata": {},
   "outputs": [
    {
     "name": "stdout",
     "output_type": "stream",
     "text": [
      "Timer unit: 1e-06 s\n",
      "\n",
      "Total time: 2.3e-05 s\n",
      "File: <ipython-input-397-4e89c48193fa>\n",
      "Function: projection at line 97\n",
      "\n",
      "Line #      Hits         Time  Per Hit   % Time  Line Contents\n",
      "==============================================================\n",
      "    97                                               def projection(self,s):\n",
      "    98                                                   '''\n",
      "    99                                                   s= 0,1 occupancy number\n",
      "   100                                                   i,j: adjacent pair of Majorana\n",
      "   101                                                   flow is from alpha_{i,j} to gamma_{i,j}\n",
      "   102                                           \n",
      "   103                                                   return: the basis are ordered as gamma_i,gamma_j,alpha_j,alpha_i\n",
      "   104                                                   '''\n",
      "   105         1          1.0      1.0      4.3          assert (s==0 or s==1),\"s={} is either 0 or 1\".format(s)\n",
      "   106                                                   # blkmat=(np.array([[0,-(-1)**s],[(-1)**s,0]]))\n",
      "   107                                                   # zero=np.zeros((2,2))\n",
      "   108         2         18.0      9.0     78.3          blkmat=np.array([[0,-(-1)**s,0,0],\n",
      "   109         1          1.0      1.0      4.3                          [(-1)**s,0,0,0],\n",
      "   110         1          1.0      1.0      4.3                          [0,0,0,(-1)**s],\n",
      "   111         1          1.0      1.0      4.3                          [0,0,-(-1)**s,0]])\n",
      "   112                                                   # return np.block([[blkmat,zero],[zero,blkmat.T]])\n",
      "   113         1          1.0      1.0      4.3          return blkmat"
     ]
    }
   ],
   "source": [
    "params=Params(delta=delta,L=64,bc=-1)\n",
    "%lprun -f params.projection params.projection(1)"
   ]
  },
  {
   "cell_type": "code",
   "execution_count": 394,
   "metadata": {},
   "outputs": [
    {
     "name": "stdout",
     "output_type": "stream",
     "text": [
      "Timer unit: 1e-06 s\n",
      "\n",
      "Total time: 0.000199 s\n",
      "File: <ipython-input-393-3a556dec652e>\n",
      "Function: projection at line 97\n",
      "\n",
      "Line #      Hits         Time  Per Hit   % Time  Line Contents\n",
      "==============================================================\n",
      "    97                                               def projection(self,s):\n",
      "    98                                                   '''\n",
      "    99                                                   s= 0,1 occupancy number\n",
      "   100                                                   i,j: adjacent pair of Majorana\n",
      "   101                                                   flow is from alpha_{i,j} to gamma_{i,j}\n",
      "   102                                           \n",
      "   103                                                   return: the basis are ordered as gamma_i,gamma_j,alpha_j,alpha_i\n",
      "   104                                                   '''\n",
      "   105         1          1.0      1.0      0.5          assert (s==0 or s==1),\"s={} is either 0 or 1\".format(s)\n",
      "   106         1         10.0     10.0      5.0          blkmat=(np.array([[0,-(1-2*s)],[(1-2*s),0]]))\n",
      "   107         1          1.0      1.0      0.5          zero=np.zeros((2,2))\n",
      "   108                                                   # blkmat=np.array([[0,]])   \n",
      "   109         1        187.0    187.0     94.0          return np.block([[blkmat,zero],[zero,blkmat.T]])"
     ]
    }
   ],
   "source": [
    "params=Params(delta=delta,L=64,bc=-1)\n",
    "%lprun -f params.projection params.projection(1)"
   ]
  },
  {
   "cell_type": "code",
   "execution_count": 382,
   "metadata": {},
   "outputs": [
    {
     "name": "stderr",
     "output_type": "stream",
     "text": [
      "/home/jake/anaconda3/lib/python3.8/site-packages/scipy/sparse/_index.py:82: SparseEfficiencyWarning: Changing the sparsity structure of a csr_matrix is expensive. lil_matrix is more efficient.\n",
      "  self._set_intXint(row, col, x.flat[0])\n"
     ]
    },
    {
     "name": "stdout",
     "output_type": "stream",
     "text": [
      "Timer unit: 1e-06 s\n",
      "\n",
      "Total time: 0.000966 s\n",
      "File: <ipython-input-380-d10d7359a7fb>\n",
      "Function: projection at line 85\n",
      "\n",
      "Line #      Hits         Time  Per Hit   % Time  Line Contents\n",
      "==============================================================\n",
      "    85                                               def projection(self,s):\n",
      "    86                                                   '''\n",
      "    87                                                   s= 0,1 occupancy number\n",
      "    88                                                   i,j: adjacent pair of Majorana\n",
      "    89                                                   flow is from alpha_{i,j} to gamma_{i,j}\n",
      "    90                                           \n",
      "    91                                                   return: the basis are ordered as gamma_i,gamma_j,alpha_j,alpha_i\n",
      "    92                                                   '''\n",
      "    93         1          1.0      1.0      0.1          assert (s==0 or s==1),\"s={} is either 0 or 1\".format(s)\n",
      "    94         1         10.0     10.0      1.0          blkmat=(np.array([[0,-(-1)**s],[(-1)**s,0]]))\n",
      "    95         1        955.0    955.0     98.9          return sp.bmat([[blkmat,None],[None,blkmat.T]]).toarray()"
     ]
    }
   ],
   "source": [
    "params=Params(delta=delta,L=64,bc=-1)\n",
    "%lprun -f params.projection params.projection(1)"
   ]
  },
  {
   "cell_type": "code",
   "execution_count": 402,
   "metadata": {},
   "outputs": [
    {
     "name": "stdout",
     "output_type": "stream",
     "text": [
      "Timer unit: 1e-06 s\n",
      "\n",
      "Total time: 0.000916 s\n",
      "File: <ipython-input-397-4e89c48193fa>\n",
      "Function: measure at line 160\n",
      "\n",
      "Line #      Hits         Time  Per Hit   % Time  Line Contents\n",
      "==============================================================\n",
      "   160                                               def measure(self,s,i,j):\n",
      "   161         1          2.0      2.0      0.2          if not hasattr(self,'C_m'):\n",
      "   162                                                       self.covariance_matrix_m()\n",
      "   163                                                   \n",
      "   164                                                   # m=np.arange(64).reshape((8,8))\n",
      "   165                                                   \n",
      "   166         1        211.0    211.0     23.0          m=self.C_m_history[-1].copy()\n",
      "   167         1         95.0     95.0     10.4          m[i:,:]=np.roll(m[i:,:],-1,0)\n",
      "   168         1         51.0     51.0      5.6          m[:,i:]=np.roll(m[:,i:],-1,1)\n",
      "   169                                           \n",
      "   170         1          1.0      1.0      0.1          if j>i:\n",
      "   171         1          1.0      1.0      0.1              j-=1    #the position of j is rotated by 1 ahead\n",
      "   172         1         43.0     43.0      4.7          m[j:,:]=np.roll(m[j:,:],-1,0)\n",
      "   173         1         43.0     43.0      4.7          m[:,j:]=np.roll(m[:,j:],-1,1)\n",
      "   174         1          1.0      1.0      0.1          self.m=m\n",
      "   175                                           \n",
      "   176         1          1.0      1.0      0.1          Gamma_LL=m[:-2,:-2]\n",
      "   177         1          1.0      1.0      0.1          Gamma_LR=m[:-2,-2:]\n",
      "   178         1          1.0      1.0      0.1          Gamma_RR=m[-2:,-2:]       \n",
      "   179                                           \n",
      "   180         1         13.0     13.0      1.4          proj=self.projection(s)\n",
      "   181         1          1.0      1.0      0.1          Upsilon_LL=proj[:-2,:-2]\n",
      "   182         1          1.0      1.0      0.1          Upsilon_LR=proj[:-2,-2:]\n",
      "   183         1          2.0      2.0      0.2          Upsilon_RR=proj[-2:,-2:]\n",
      "   184         1          2.0      2.0      0.2          Upsilon_RL=proj[-2:,:-2]\n",
      "   185         1          4.0      4.0      0.4          zero=np.zeros((self.L*2-2,2))\n",
      "   186         1          1.0      1.0      0.1          zero0=np.zeros((2,2))\n",
      "   187         1        104.0    104.0     11.4          mat1=np.block([[Gamma_LL,zero],[zero.T,Upsilon_RR]])\n",
      "   188         1         69.0     69.0      7.5          mat2=np.block([[Gamma_LR,zero],[zero0,Upsilon_RL]])\n",
      "   189         1         81.0     81.0      8.8          mat3=np.block([[Gamma_RR,np.eye(2)],[-np.eye(2),Upsilon_LL]])\n",
      "   190         1          1.0      1.0      0.1          self.mat2=mat2\n",
      "   191         1         10.0     10.0      1.1          if np.count_nonzero(mat2):\n",
      "   192                                                       Psi=mat1+mat2@(la.solve(mat3,mat2.T))\n",
      "   193                                                   else:\n",
      "   194         1          0.0      0.0      0.0              Psi=mat1\n",
      "   195                                                   \n",
      "   196         1         48.0     48.0      5.2          Psi[j:,:]=np.roll(Psi[j:,:],1,0)\n",
      "   197         1         44.0     44.0      4.8          Psi[:,j:]=np.roll(Psi[:,j:],1,1)\n",
      "   198                                           \n",
      "   199         1         40.0     40.0      4.4          Psi[i:,:]=np.roll(Psi[i:,:],1,0)\n",
      "   200         1         42.0     42.0      4.6          Psi[:,i:]=np.roll(Psi[:,i:],1,1)\n",
      "   201                                                   # Psi=permutation_mat.T@Psi@permutation_mat        \n",
      "   202                                                   \n",
      "   203         1          2.0      2.0      0.2          self.C_m_history.append(Psi)"
     ]
    }
   ],
   "source": [
    "params=Params(delta=delta,L=64,bc=-1)\n",
    "params.covariance_matrix_m()\n",
    "%lprun -f params.measure params.measure(0,11,12)"
   ]
  },
  {
   "cell_type": "code",
   "execution_count": 376,
   "metadata": {},
   "outputs": [
    {
     "name": "stdout",
     "output_type": "stream",
     "text": [
      "Timer unit: 1e-06 s\n",
      "\n",
      "Total time: 0.002274 s\n",
      "File: <ipython-input-353-d10d7359a7fb>\n",
      "Function: measure at line 142\n",
      "\n",
      "Line #      Hits         Time  Per Hit   % Time  Line Contents\n",
      "==============================================================\n",
      "   142                                               def measure(self,s,i,j):\n",
      "   143         1          4.0      4.0      0.2          if not hasattr(self,'C_m'):\n",
      "   144                                                       self.covariance_matrix_m()\n",
      "   145                                                   \n",
      "   146                                                   # m=np.arange(64).reshape((8,8))\n",
      "   147                                                   \n",
      "   148         1         63.0     63.0      2.8          m=self.C_m_history[-1].copy()\n",
      "   149         1        284.0    284.0     12.5          m[i:,:]=np.roll(m[i:,:],-1,0)\n",
      "   150         1        117.0    117.0      5.1          m[:,i:]=np.roll(m[:,i:],-1,1)\n",
      "   151                                           \n",
      "   152         1          1.0      1.0      0.0          if j>i:\n",
      "   153         1          1.0      1.0      0.0              j-=1    #the position of j is rotated by 1 ahead\n",
      "   154         1         56.0     56.0      2.5          m[j:,:]=np.roll(m[j:,:],-1,0)\n",
      "   155         1         46.0     46.0      2.0          m[:,j:]=np.roll(m[:,j:],-1,1)\n",
      "   156         1          2.0      2.0      0.1          self.m=m\n",
      "   157                                           \n",
      "   158         1          1.0      1.0      0.0          Gamma_LL=m[:-2,:-2]\n",
      "   159         1          0.0      0.0      0.0          Gamma_LR=m[:-2,-2:]\n",
      "   160         1          1.0      1.0      0.0          Gamma_RR=m[-2:,-2:]       \n",
      "   161                                           \n",
      "   162         1        682.0    682.0     30.0          proj=self.projection(s)\n",
      "   163         1          3.0      3.0      0.1          Upsilon_LL=proj[:-2,:-2]\n",
      "   164         1          2.0      2.0      0.1          Upsilon_LR=proj[:-2,-2:]\n",
      "   165         1          1.0      1.0      0.0          Upsilon_RR=proj[-2:,-2:]\n",
      "   166         1          1.0      1.0      0.0          Upsilon_RL=proj[-2:,:-2]\n",
      "   167         1          5.0      5.0      0.2          zero=np.zeros((self.L*2-2,2))\n",
      "   168         1          1.0      1.0      0.0          zero0=np.zeros((2,2))\n",
      "   169         1        137.0    137.0      6.0          mat1=np.block([[Gamma_LL,zero],[zero.T,Upsilon_RR]])\n",
      "   170         1         94.0     94.0      4.1          mat2=np.block([[Gamma_LR,zero],[zero0,Upsilon_RL]])\n",
      "   171         1        177.0    177.0      7.8          mat3=np.block([[Gamma_RR,np.eye(2)],[-np.eye(2),Upsilon_LL]])\n",
      "   172         1          2.0      2.0      0.1          self.mat2=mat2\n",
      "   173         1         41.0     41.0      1.8          if np.count_nonzero(mat2):\n",
      "   174                                                       Psi=mat1+mat2@(la.solve(mat3,mat2.T))\n",
      "   175                                                   else:\n",
      "   176         1          5.0      5.0      0.2              Psi=mat1\n",
      "   177                                                   \n",
      "   178         1        144.0    144.0      6.3          Psi[j:,:]=np.roll(Psi[j:,:],1,0)\n",
      "   179         1        285.0    285.0     12.5          Psi[:,j:]=np.roll(Psi[:,j:],1,1)\n",
      "   180                                           \n",
      "   181         1         68.0     68.0      3.0          Psi[i:,:]=np.roll(Psi[i:,:],1,0)\n",
      "   182         1         47.0     47.0      2.1          Psi[:,i:]=np.roll(Psi[:,i:],1,1)\n",
      "   183                                                   # Psi=permutation_mat.T@Psi@permutation_mat        \n",
      "   184                                                   \n",
      "   185         1          3.0      3.0      0.1          self.C_m_history.append(Psi)"
     ]
    }
   ],
   "source": [
    "params=Params(delta=delta,L=64,bc=-1)\n",
    "params.covariance_matrix_m()\n",
    "%lprun -f params.measure params.measure(0,11,12)"
   ]
  },
  {
   "cell_type": "code",
   "execution_count": 374,
   "metadata": {},
   "outputs": [
    {
     "name": "stdout",
     "output_type": "stream",
     "text": [
      "Timer unit: 1e-06 s\n",
      "\n",
      "Total time: 0.006261 s\n",
      "File: <ipython-input-353-d10d7359a7fb>\n",
      "Function: measure_obs at line 97\n",
      "\n",
      "Line #      Hits         Time  Per Hit   % Time  Line Contents\n",
      "==============================================================\n",
      "    97                                               def measure_obs(self,s,i,j):\n",
      "    98         1        866.0    866.0     13.8          permutation_mat=sp.diags([1],[0],(self.L*2,self.L*2)).tocsr()\n",
      "    99                                                   # i <-> -2\n",
      "   100         1        171.0    171.0      2.7          permutation_mat[i,i]=0\n",
      "   101         1        145.0    145.0      2.3          permutation_mat[-2,-2]=0\n",
      "   102         1        668.0    668.0     10.7          permutation_mat[i,-2]=1\n",
      "   103         1        649.0    649.0     10.4          permutation_mat[-2,i]=1\n",
      "   104                                                   # j <-> -1\n",
      "   105         1        156.0    156.0      2.5          permutation_mat[j,j]=0\n",
      "   106         1        142.0    142.0      2.3          permutation_mat[-1,-1]=0\n",
      "   107         1        619.0    619.0      9.9          permutation_mat[j,-1]=1\n",
      "   108         1        630.0    630.0     10.1          permutation_mat[-1,j]=1\n",
      "   109         1          4.0      4.0      0.1          if not hasattr(self,'C_m'):\n",
      "   110                                                       self.covariance_matrix_m()\n",
      "   111                                           \n",
      "   112                                                   # m=np.arange(64).reshape((8,8))\n",
      "   113                                                   # C_m_perm=permutation_mat.T@m@permutation_mat.T\n",
      "   114                                           \n",
      "   115         1        835.0    835.0     13.3          C_m_perm=permutation_mat.T@self.C_m_history[-1]@permutation_mat.T\n",
      "   116                                           \n",
      "   117         1          5.0      5.0      0.1          self.m=C_m_perm\n",
      "   118         1          5.0      5.0      0.1          Gamma_LL=C_m_perm[:-2,:-2]\n",
      "   119         1          3.0      3.0      0.0          Gamma_LR=C_m_perm[:-2,-2:]\n",
      "   120         1          4.0      4.0      0.1          Gamma_RR=C_m_perm[-2:,-2:]\n",
      "   121                                           \n",
      "   122         1        678.0    678.0     10.8          proj=self.projection(s)\n",
      "   123         1          3.0      3.0      0.0          Upsilon_LL=proj[:-2,:-2]\n",
      "   124         1          1.0      1.0      0.0          Upsilon_LR=proj[:-2,-2:]\n",
      "   125         1          1.0      1.0      0.0          Upsilon_RR=proj[-2:,-2:]\n",
      "   126         1          2.0      2.0      0.0          Upsilon_RL=proj[-2:,:-2]\n",
      "   127         1          3.0      3.0      0.0          zero=np.zeros((self.L*2-2,2))\n",
      "   128         1          1.0      1.0      0.0          zero0=np.zeros((2,2))\n",
      "   129         1        120.0    120.0      1.9          mat1=np.block([[Gamma_LL,zero],[zero.T,Upsilon_RR]])\n",
      "   130         1         76.0     76.0      1.2          mat2=np.block([[Gamma_LR,zero],[zero0,Upsilon_RL]])\n",
      "   131         1         88.0     88.0      1.4          mat3=np.block([[Gamma_RR,np.eye(2)],[-np.eye(2),Upsilon_LL]])\n",
      "   132         1          1.0      1.0      0.0          self.mat2=mat2\n",
      "   133         1          9.0      9.0      0.1          if np.count_nonzero(mat2):\n",
      "   134                                                       Psi=mat1+mat2@(la.solve(mat3,mat2.T))\n",
      "   135                                                   else:\n",
      "   136         1          1.0      1.0      0.0              Psi=mat1\n",
      "   137         1        360.0    360.0      5.7          Psi=permutation_mat.T@Psi@permutation_mat\n",
      "   138                                                   \n",
      "   139                                                   \n",
      "   140         1         15.0     15.0      0.2          self.C_m_history.append(Psi)"
     ]
    }
   ],
   "source": [
    "params=Params(delta=delta,L=64,bc=-1)\n",
    "params.covariance_matrix_m()\n",
    "%lprun -f params.measure_obs params.measure_obs(0,11,12)"
   ]
  },
  {
   "cell_type": "code",
   "execution_count": 403,
   "metadata": {},
   "outputs": [
    {
     "name": "stdout",
     "output_type": "stream",
     "text": [
      "Timer unit: 1e-06 s\n",
      "\n",
      "Total time: 12.3388 s\n",
      "File: <ipython-input-121-52e0aa0543ee>\n",
      "Function: mutual_info_run at line 1\n",
      "\n",
      "Line #      Hits         Time  Per Hit   % Time  Line Contents\n",
      "==============================================================\n",
      "     1                                           def mutual_info_run(batchsize):\n",
      "     2         1        222.0    222.0      0.0      delta_list=np.linspace(-1,1,20)**3\n",
      "     3         1          2.0      2.0      0.0      mutual_info_dis_list=[]\n",
      "     4         1          2.0      2.0      0.0      if batchsize==0:\n",
      "     5                                                   ensemblesize=1\n",
      "     6                                               else:\n",
      "     7         1          2.0      2.0      0.0          ensemblesize=15\n",
      "     8                                           \n",
      "     9        21         41.0      2.0      0.0      for delta in delta_list:\n",
      "    10        20         17.0      0.8      0.0          mutual_info_ensemble_list=[]\n",
      "    11       320        806.0      2.5      0.0          for ensemble in range(ensemblesize):\n",
      "    12       300    3761313.0  12537.7     30.5              params=Params(delta=delta,L=64,bc=-1)\n",
      "    13       300    6663872.0  22212.9     54.0              params.measure_all_random_even(batchsize,(int(params.L/2),params.L))\n",
      "    14       300    1912502.0   6375.0     15.5              mutual_info_ensemble_list.append(params.mutual_information_m(np.arange(int(params.L/2)),np.arange(int(params.L/2))+params.L))\n",
      "    15        20         23.0      1.1      0.0          mutual_info_dis_list.append(mutual_info_ensemble_list)\n",
      "    16         1          0.0      0.0      0.0      return delta_list,mutual_info_dis_list"
     ]
    }
   ],
   "source": [
    "%lprun -f mutual_info_run mutual_info_run(12)"
   ]
  },
  {
   "cell_type": "code",
   "execution_count": 379,
   "metadata": {},
   "outputs": [
    {
     "name": "stderr",
     "output_type": "stream",
     "text": [
      "/home/jake/anaconda3/lib/python3.8/site-packages/scipy/sparse/_index.py:82: SparseEfficiencyWarning: Changing the sparsity structure of a csr_matrix is expensive. lil_matrix is more efficient.\n",
      "  self._set_intXint(row, col, x.flat[0])\n"
     ]
    },
    {
     "name": "stdout",
     "output_type": "stream",
     "text": [
      "Timer unit: 1e-06 s\n",
      "\n",
      "Total time: 31.1601 s\n",
      "File: <ipython-input-121-52e0aa0543ee>\n",
      "Function: mutual_info_run at line 1\n",
      "\n",
      "Line #      Hits         Time  Per Hit   % Time  Line Contents\n",
      "==============================================================\n",
      "     1                                           def mutual_info_run(batchsize):\n",
      "     2         1        196.0    196.0      0.0      delta_list=np.linspace(-1,1,20)**3\n",
      "     3         1          1.0      1.0      0.0      mutual_info_dis_list=[]\n",
      "     4         1          0.0      0.0      0.0      if batchsize==0:\n",
      "     5                                                   ensemblesize=1\n",
      "     6                                               else:\n",
      "     7         1          0.0      0.0      0.0          ensemblesize=15\n",
      "     8                                           \n",
      "     9        21         43.0      2.0      0.0      for delta in delta_list:\n",
      "    10        20         15.0      0.8      0.0          mutual_info_ensemble_list=[]\n",
      "    11       320        802.0      2.5      0.0          for ensemble in range(ensemblesize):\n",
      "    12       300    3912932.0  13043.1     12.6              params=Params(delta=delta,L=64,bc=-1)\n",
      "    13       300   25237073.0  84123.6     81.0              params.measure_all_random_even(batchsize,(int(params.L/2),params.L))\n",
      "    14       300    2009034.0   6696.8      6.4              mutual_info_ensemble_list.append(params.mutual_information_m(np.arange(int(params.L/2)),np.arange(int(params.L/2))+params.L))\n",
      "    15        20         29.0      1.4      0.0          mutual_info_dis_list.append(mutual_info_ensemble_list)\n",
      "    16         1          1.0      1.0      0.0      return delta_list,mutual_info_dis_list"
     ]
    }
   ],
   "source": [
    "%lprun -f mutual_info_run mutual_info_run(12)"
   ]
  },
  {
   "cell_type": "markdown",
   "metadata": {},
   "source": [
    "# Mutual info - density of operators"
   ]
  },
  {
   "cell_type": "code",
   "execution_count": 451,
   "metadata": {},
   "outputs": [],
   "source": [
    "def mutual_info_run(batchsize):\n",
    "    delta_list=np.linspace(-1,1,100)**3\n",
    "    mutual_info_dis_list=[]\n",
    "    if batchsize==0:\n",
    "        ensemblesize=1\n",
    "    else:\n",
    "        ensemblesize=100\n",
    "\n",
    "    for delta in delta_list:\n",
    "        mutual_info_ensemble_list=[]\n",
    "        for ensemble in range(ensemblesize):\n",
    "            params=Params(delta=delta,L=64,bc=-1)\n",
    "            params.measure_all_random_even(batchsize,(int(params.L/2),params.L))\n",
    "            mutual_info_ensemble_list.append(params.mutual_information_m(np.arange(int(params.L/2)),np.arange(int(params.L/2))+params.L))\n",
    "        mutual_info_dis_list.append(mutual_info_ensemble_list)\n",
    "    return delta_list,mutual_info_dis_list"
   ]
  },
  {
   "cell_type": "code",
   "execution_count": 437,
   "metadata": {},
   "outputs": [],
   "source": [
    "def MI(delta,batchsize):\n",
    "    params=Params(delta=delta,L=64,bc=-1)\n",
    "    params.measure_all_random_even(batchsize,(int(params.L/2),params.L))\n",
    "    return params.mutual_information_m(np.arange(int(params.L/2)),np.arange(int(params.L/2))+params.L)\n"
   ]
  },
  {
   "cell_type": "code",
   "execution_count": 452,
   "metadata": {},
   "outputs": [],
   "source": [
    "def mutual_info_run_pool(batchsize):\n",
    "    delta_list=np.linspace(-1,1,100)**3\n",
    "    mutual_info_dis_list=[]\n",
    "    if batchsize==0:\n",
    "        ensemblesize=1\n",
    "    else:\n",
    "        ensemblesize=1000\n",
    "\n",
    "    for delta in delta_list:\n",
    "        mutual_info_ensemble_list=[]\n",
    "        mutual_info_ensemble_list_pool=[]\n",
    "        with multiprocessing.Pool(PROCESSES) as pool:\n",
    "            for ensemble in range(ensemblesize):\n",
    "                mutual_info_ensemble_list_pool.append(pool.apply_async(MI,(delta,batchsize)))            \n",
    "            for r in mutual_info_ensemble_list_pool:\n",
    "                mutual_info_ensemble_list.append(r.get())\n",
    "        mutual_info_dis_list.append(mutual_info_ensemble_list)\n",
    "    return delta_list,mutual_info_dis_list"
   ]
  },
  {
   "cell_type": "code",
   "execution_count": 458,
   "metadata": {},
   "outputs": [
    {
     "name": "stdout",
     "output_type": "stream",
     "text": [
      "0\n",
      "12\n"
     ]
    }
   ],
   "source": [
    "delta_dict={}\n",
    "mutual_info_dis_dict={}\n",
    "i=12\n",
    "for i in (0,12,13,14,15,16):\n",
    "    print(i)\n",
    "    delta_dict[i],mutual_info_dis_dict[i]=mutual_info_run(i)\n",
    "print(time.time()-st)"
   ]
  },
  {
   "cell_type": "code",
   "execution_count": null,
   "metadata": {},
   "outputs": [],
   "source": [
    "delta_dict={}\n",
    "mutual_info_dis_dict={}\n",
    "st=time.time()\n",
    "i=12\n",
    "delta_dict[i],mutual_info_dis_dict[i]=mutual_info_run_pool(i)\n",
    "print(time.time()-st)"
   ]
  },
  {
   "cell_type": "code",
   "execution_count": 446,
   "metadata": {},
   "outputs": [
    {
     "data": {
      "text/plain": "[0.0, 0.0, 0.0, 0.0, 0.0, 0.0, 0.0, 0.0, 0.0, 0.0, 0.0, 0.0, 0.0, 0.0, 0.0]"
     },
     "execution_count": 446,
     "metadata": {},
     "output_type": "execute_result"
    }
   ],
   "source": [
    "mutual_info_dis_dict[12][0]"
   ]
  },
  {
   "cell_type": "code",
   "execution_count": null,
   "metadata": {},
   "outputs": [],
   "source": [
    "for i in (0,13,14,15,16):\n",
    "    print(i)\n",
    "    delta_dict[i],mutual_info_dis_dict[i]=mutual_info_run(i)"
   ]
  },
  {
   "cell_type": "code",
   "execution_count": 500,
   "metadata": {},
   "outputs": [
    {
     "data": {
      "text/plain": "dict_keys([0, 1, 8, 16, 12, 14, 15])"
     },
     "execution_count": 500,
     "metadata": {},
     "output_type": "execute_result"
    }
   ],
   "source": [
    "delta_dict.keys()"
   ]
  },
  {
   "cell_type": "code",
   "execution_count": null,
   "metadata": {},
   "outputs": [
    {
     "data": {
      "text/plain": "Text(0, 0.5, 'Mutual information between A and B [$\\\\log2$]')"
     },
     "execution_count": 442,
     "metadata": {},
     "output_type": "execute_result"
    },
    {
     "data": {
      "image/png": "[encoded data removed]",
      "text/plain": "<Figure size 489.6x288 with 1 Axes>"
     },
     "metadata": {
      "needs_background": "light"
     },
     "output_type": "display_data"
    }
   ],
   "source": [
    "fig,ax=plt.subplots()\n",
    "for i in (0,12,14,15,16):\n",
    "    ax.plot(delta_dict[i],np.array(mutual_info_dis_dict[i]).mean(axis=1)/np.log(2),label='Number of gates: {}'.format(i))\n",
    "\n",
    "ax.legend()\n",
    "ax.set_xlabel(r'$\\delta$')\n",
    "ax.set_ylabel(r'Mutual information between A and B [$\\log2$]')\n",
    "\n",
    "# fig.savefig('/mnt/d/kitp/Rp_SPT/4/mutual_info_Ap_En200.pdf',bbox_inches='tight')\n"
   ]
  },
  {
   "cell_type": "code",
   "execution_count": 556,
   "metadata": {},
   "outputs": [
    {
     "data": {
      "image/png": "[encoded data removed]",
      "text/plain": "<Figure size 489.6x288 with 1 Axes>"
     },
     "metadata": {
      "needs_background": "light"
     },
     "output_type": "display_data"
    }
   ],
   "source": [
    "fig,ax=plt.subplots()\n",
    "for i in (0,1000,3000):\n",
    "    ax.plot(delta_dict[i],np.array(mutual_info_dis_dict[i]).mean(axis=1))\n"
   ]
  },
  {
   "cell_type": "code",
   "execution_count": 458,
   "metadata": {},
   "outputs": [
    {
     "data": {
      "image/png": "[encoded data removed]",
      "text/plain": "<Figure size 489.6x288 with 1 Axes>"
     },
     "metadata": {
      "needs_background": "light"
     },
     "output_type": "display_data"
    }
   ],
   "source": [
    "fig,ax=plt.subplots()\n",
    "for i in (0,1,5):\n",
    "    ax.plot(delta_dict[i],np.array(mutual_info_dis_dict[i]).mean(axis=1))\n"
   ]
  },
  {
   "cell_type": "code",
   "execution_count": 441,
   "metadata": {},
   "outputs": [
    {
     "data": {
      "text/plain": "[<matplotlib.lines.Line2D at 0x7f92f39238e0>]"
     },
     "execution_count": 440,
     "metadata": {},
     "output_type": "execute_result"
    },
    {
     "data": {
      "image/png": "[encoded data removed]",
      "text/plain": "<Figure size 489.6x288 with 1 Axes>"
     },
     "metadata": {
      "needs_background": "light"
     },
     "output_type": "display_data"
    },
    {
     "data": {
      "text/plain": "(100, 100)"
     },
     "execution_count": 441,
     "metadata": {},
     "output_type": "execute_result"
    }
   ],
   "source": [
    "np.array(mutual_info_dis_list).shape"
   ]
  },
  {
   "cell_type": "code",
   "execution_count": null,
   "metadata": {},
   "outputs": [],
   "source": [
    "fig,ax=plt.subplots()\n",
    "ax.plot(delta_list,np.array(mutual_info_dis_list).mean(axis=1))\n",
    "ax.plot(delta_list,mutual_info_list)"
   ]
  },
  {
   "cell_type": "code",
   "execution_count": 338,
   "metadata": {},
   "outputs": [],
   "source": [
    "for _ in range(10):\n",
    "    i=np.random.randint(2,15)\n",
    "    s=np.random.randint(0,2)\n",
    "    params.measure(s,i,i+1)"
   ]
  },
  {
   "cell_type": "code",
   "execution_count": 54,
   "metadata": {},
   "outputs": [
    {
     "name": "stderr",
     "output_type": "stream",
     "text": [
      "/home/jake/anaconda3/lib/python3.8/site-packages/scipy/sparse/_index.py:82: SparseEfficiencyWarning: Changing the sparsity structure of a csr_matrix is expensive. lil_matrix is more efficient.\n",
      "  self._set_intXint(row, col, x.flat[0])\n"
     ]
    }
   ],
   "source": [
    "params=Params(delta=-0.3,L=16,bc=-1)\n",
    "params.measure_batch(10)"
   ]
  },
  {
   "cell_type": "code",
   "execution_count": 55,
   "metadata": {},
   "outputs": [
    {
     "data": {
      "text/plain": "[28, 10, 5, 20, 12, 14, 22, 23, 18, 23]"
     },
     "execution_count": 55,
     "metadata": {},
     "output_type": "execute_result"
    }
   ],
   "source": [
    "params.i_history"
   ]
  },
  {
   "cell_type": "code",
   "execution_count": null,
   "metadata": {},
   "outputs": [],
   "source": [
    "fig,ax=plt.subplots(11,2,figsize=(3.4,10))\n",
    "\n",
    "im_1=[ax[i,0].imshow(c_m,cmap='seismic',vmin=-1,vmax=1) for i,c_m in zip(range(11),params.C_m_history)]\n",
    "im_2=[ax[i,1].imshow(c_m@c_m,cmap='hot',vmin=-1,vmax=0) for i,c_m in zip(range(11),params.C_m_history)]\n",
    "\n",
    "[ax[i,0].set_xticks([]) for i in range(11)]\n",
    "[ax[i,0].set_yticks([]) for i in range(11)]\n",
    "[ax[i,1].set_xticks([]) for i in range(11)]\n",
    "[ax[i,1].set_yticks([]) for i in range(11)]\n",
    "\n",
    "fig.savefig('/mnt/d/kitp/Rp_SPT/3/evolution.pdf',bbox_inches='tight')"
   ]
  },
  {
   "cell_type": "markdown",
   "metadata": {},
   "source": [
    "# Measure all gates to intermedate region with same projection"
   ]
  },
  {
   "cell_type": "code",
   "execution_count": 142,
   "metadata": {},
   "outputs": [],
   "source": [
    "L=32"
   ]
  },
  {
   "cell_type": "code",
   "execution_count": 143,
   "metadata": {},
   "outputs": [
    {
     "data": {
      "text/plain": "array([16, 18, 20, 22, 24, 26, 28, 30, 48, 50, 52, 54, 56, 58, 60, 62])"
     },
     "execution_count": 143,
     "metadata": {},
     "output_type": "execute_result"
    }
   ],
   "source": [
    "\n",
    "np.hstack([np.arange(int(L/2),L,2),np.arange(int(L/2),L,2)+L])"
   ]
  },
  {
   "cell_type": "code",
   "execution_count": 449,
   "metadata": {},
   "outputs": [
    {
     "data": {
      "text/plain": "[32,\n 33,\n 34,\n 35,\n 36,\n 37,\n 38,\n 39,\n 40,\n 41,\n 42,\n 43,\n 44,\n 45,\n 46,\n 47,\n 48,\n 49,\n 50,\n 51,\n 52,\n 53,\n 54,\n 55,\n 56,\n 57,\n 58,\n 59,\n 60,\n 61,\n 62,\n 63]"
     },
     "execution_count": 449,
     "metadata": {},
     "output_type": "execute_result"
    }
   ],
   "source": [
    "params.i_history"
   ]
  },
  {
   "cell_type": "code",
   "execution_count": 96,
   "metadata": {},
   "outputs": [
    {
     "data": {
      "text/plain": "[0, 0, 0, 0, 0, 0, 0, 0]"
     },
     "execution_count": 96,
     "metadata": {},
     "output_type": "execute_result"
    }
   ],
   "source": [
    "params.s_history"
   ]
  },
  {
   "cell_type": "code",
   "execution_count": null,
   "metadata": {},
   "outputs": [],
   "source": [
    "delta_list=np.linspace(-1,1,200)\n",
    "mutual_info_list=[]\n",
    "for delta in delta_list:\n",
    "    params=Params(delta=delta,L=64,bc=-1)\n",
    "    mutual_info_list.append(params.mutual_information_m(np.arange(int(params.L/2)),np.arange(int(params.L/2))+params.L))\n"
   ]
  },
  {
   "cell_type": "code",
   "execution_count": 454,
   "metadata": {},
   "outputs": [],
   "source": [
    "params=Params(delta=-.99,L=64,bc=-1)\n",
    "params.measure_all(0)"
   ]
  },
  {
   "cell_type": "code",
   "execution_count": null,
   "metadata": {},
   "outputs": [],
   "source": []
  },
  {
   "cell_type": "code",
   "execution_count": 440,
   "metadata": {},
   "outputs": [
    {
     "name": "stdout",
     "output_type": "stream",
     "text": [
      "-1.0\n"
     ]
    },
    {
     "name": "stderr",
     "output_type": "stream",
     "text": [
      "/home/jake/anaconda3/lib/python3.8/site-packages/scipy/sparse/_index.py:82: SparseEfficiencyWarning: Changing the sparsity structure of a csr_matrix is expensive. lil_matrix is more efficient.\n",
      "  self._set_intXint(row, col, x.flat[0])\n"
     ]
    },
    {
     "ename": "LinAlgError",
     "evalue": "Matrix is singular.",
     "output_type": "error",
     "traceback": [
      "\u001b[0;31m---------------------------------------------------------------------------\u001b[0m",
      "\u001b[0;31mLinAlgError\u001b[0m                               Traceback (most recent call last)",
      "\u001b[0;32m<ipython-input-440-7869f4a28fa6>\u001b[0m in \u001b[0;36m<module>\u001b[0;34m\u001b[0m\n\u001b[1;32m      3\u001b[0m     \u001b[0mprint\u001b[0m\u001b[0;34m(\u001b[0m\u001b[0mdelta\u001b[0m\u001b[0;34m)\u001b[0m\u001b[0;34m\u001b[0m\u001b[0;34m\u001b[0m\u001b[0m\n\u001b[1;32m      4\u001b[0m     \u001b[0mparams\u001b[0m\u001b[0;34m=\u001b[0m\u001b[0mParams\u001b[0m\u001b[0;34m(\u001b[0m\u001b[0mdelta\u001b[0m\u001b[0;34m=\u001b[0m\u001b[0mdelta\u001b[0m\u001b[0;34m,\u001b[0m\u001b[0mL\u001b[0m\u001b[0;34m=\u001b[0m\u001b[0;36m64\u001b[0m\u001b[0;34m,\u001b[0m\u001b[0mbc\u001b[0m\u001b[0;34m=\u001b[0m\u001b[0;34m-\u001b[0m\u001b[0;36m1\u001b[0m\u001b[0;34m)\u001b[0m\u001b[0;34m\u001b[0m\u001b[0;34m\u001b[0m\u001b[0m\n\u001b[0;32m----> 5\u001b[0;31m     \u001b[0mparams\u001b[0m\u001b[0;34m.\u001b[0m\u001b[0mmeasure_all\u001b[0m\u001b[0;34m(\u001b[0m\u001b[0;36m0\u001b[0m\u001b[0;34m)\u001b[0m\u001b[0;34m\u001b[0m\u001b[0;34m\u001b[0m\u001b[0m\n\u001b[0m\u001b[1;32m      6\u001b[0m     \u001b[0mmutual_info_pos_list\u001b[0m\u001b[0;34m.\u001b[0m\u001b[0mappend\u001b[0m\u001b[0;34m(\u001b[0m\u001b[0mparams\u001b[0m\u001b[0;34m.\u001b[0m\u001b[0mmutual_information_m\u001b[0m\u001b[0;34m(\u001b[0m\u001b[0mnp\u001b[0m\u001b[0;34m.\u001b[0m\u001b[0marange\u001b[0m\u001b[0;34m(\u001b[0m\u001b[0mint\u001b[0m\u001b[0;34m(\u001b[0m\u001b[0mparams\u001b[0m\u001b[0;34m.\u001b[0m\u001b[0mL\u001b[0m\u001b[0;34m/\u001b[0m\u001b[0;36m2\u001b[0m\u001b[0;34m)\u001b[0m\u001b[0;34m)\u001b[0m\u001b[0;34m,\u001b[0m\u001b[0mnp\u001b[0m\u001b[0;34m.\u001b[0m\u001b[0marange\u001b[0m\u001b[0;34m(\u001b[0m\u001b[0mparams\u001b[0m\u001b[0;34m.\u001b[0m\u001b[0mL\u001b[0m\u001b[0;34m/\u001b[0m\u001b[0;36m2\u001b[0m\u001b[0;34m)\u001b[0m\u001b[0;34m+\u001b[0m\u001b[0mparams\u001b[0m\u001b[0;34m.\u001b[0m\u001b[0mL\u001b[0m\u001b[0;34m)\u001b[0m\u001b[0;34m)\u001b[0m\u001b[0;34m\u001b[0m\u001b[0;34m\u001b[0m\u001b[0m\n",
      "\u001b[0;32m<ipython-input-436-99d27937ac8c>\u001b[0m in \u001b[0;36mmeasure_all\u001b[0;34m(self, s)\u001b[0m\n\u001b[1;32m    216\u001b[0m             \u001b[0mself\u001b[0m\u001b[0;34m.\u001b[0m\u001b[0mi_history\u001b[0m\u001b[0;34m.\u001b[0m\u001b[0mappend\u001b[0m\u001b[0;34m(\u001b[0m\u001b[0mi\u001b[0m\u001b[0;34m)\u001b[0m\u001b[0;34m\u001b[0m\u001b[0;34m\u001b[0m\u001b[0m\n\u001b[1;32m    217\u001b[0m             \u001b[0mself\u001b[0m\u001b[0;34m.\u001b[0m\u001b[0ms_history\u001b[0m\u001b[0;34m.\u001b[0m\u001b[0mappend\u001b[0m\u001b[0;34m(\u001b[0m\u001b[0ms\u001b[0m\u001b[0;34m)\u001b[0m\u001b[0;34m\u001b[0m\u001b[0;34m\u001b[0m\u001b[0m\n\u001b[0;32m--> 218\u001b[0;31m             \u001b[0mself\u001b[0m\u001b[0;34m.\u001b[0m\u001b[0mmeasure\u001b[0m\u001b[0;34m(\u001b[0m\u001b[0ms\u001b[0m\u001b[0;34m,\u001b[0m\u001b[0mi\u001b[0m\u001b[0;34m,\u001b[0m\u001b[0mi\u001b[0m\u001b[0;34m+\u001b[0m\u001b[0;36m1\u001b[0m\u001b[0;34m)\u001b[0m\u001b[0;34m\u001b[0m\u001b[0;34m\u001b[0m\u001b[0m\n\u001b[0m\u001b[1;32m    219\u001b[0m \u001b[0;34m\u001b[0m\u001b[0m\n\u001b[1;32m    220\u001b[0m     \u001b[0;32mdef\u001b[0m \u001b[0mmeasure_all_random\u001b[0m\u001b[0;34m(\u001b[0m\u001b[0mself\u001b[0m\u001b[0;34m,\u001b[0m\u001b[0mbatchsize\u001b[0m\u001b[0;34m,\u001b[0m\u001b[0mproj_range\u001b[0m\u001b[0;34m)\u001b[0m\u001b[0;34m:\u001b[0m\u001b[0;34m\u001b[0m\u001b[0;34m\u001b[0m\u001b[0m\n",
      "\u001b[0;32m<ipython-input-436-99d27937ac8c>\u001b[0m in \u001b[0;36mmeasure\u001b[0;34m(self, s, i, j)\u001b[0m\n\u001b[1;32m    126\u001b[0m         \u001b[0mself\u001b[0m\u001b[0;34m.\u001b[0m\u001b[0mmat2\u001b[0m\u001b[0;34m=\u001b[0m\u001b[0mmat2\u001b[0m\u001b[0;34m\u001b[0m\u001b[0;34m\u001b[0m\u001b[0m\n\u001b[1;32m    127\u001b[0m         \u001b[0;32mif\u001b[0m \u001b[0mnp\u001b[0m\u001b[0;34m.\u001b[0m\u001b[0mcount_nonzero\u001b[0m\u001b[0;34m(\u001b[0m\u001b[0mmat2\u001b[0m\u001b[0;34m)\u001b[0m\u001b[0;34m:\u001b[0m\u001b[0;34m\u001b[0m\u001b[0;34m\u001b[0m\u001b[0m\n\u001b[0;32m--> 128\u001b[0;31m             \u001b[0mPsi\u001b[0m\u001b[0;34m=\u001b[0m\u001b[0mmat1\u001b[0m\u001b[0;34m+\u001b[0m\u001b[0mmat2\u001b[0m\u001b[0;34m@\u001b[0m\u001b[0;34m(\u001b[0m\u001b[0mla\u001b[0m\u001b[0;34m.\u001b[0m\u001b[0msolve\u001b[0m\u001b[0;34m(\u001b[0m\u001b[0mmat3\u001b[0m\u001b[0;34m,\u001b[0m\u001b[0mmat2\u001b[0m\u001b[0;34m.\u001b[0m\u001b[0mT\u001b[0m\u001b[0;34m)\u001b[0m\u001b[0;34m)\u001b[0m\u001b[0;34m\u001b[0m\u001b[0;34m\u001b[0m\u001b[0m\n\u001b[0m\u001b[1;32m    129\u001b[0m         \u001b[0;32melse\u001b[0m\u001b[0;34m:\u001b[0m\u001b[0;34m\u001b[0m\u001b[0;34m\u001b[0m\u001b[0m\n\u001b[1;32m    130\u001b[0m             \u001b[0mPsi\u001b[0m\u001b[0;34m=\u001b[0m\u001b[0mmat1\u001b[0m\u001b[0;34m\u001b[0m\u001b[0;34m\u001b[0m\u001b[0m\n",
      "\u001b[0;32m~/anaconda3/lib/python3.8/site-packages/scipy/linalg/basic.py\u001b[0m in \u001b[0;36msolve\u001b[0;34m(a, b, sym_pos, lower, overwrite_a, overwrite_b, debug, check_finite, assume_a, transposed)\u001b[0m\n\u001b[1;32m    212\u001b[0m                                                (a1, b1))\n\u001b[1;32m    213\u001b[0m         \u001b[0mlu\u001b[0m\u001b[0;34m,\u001b[0m \u001b[0mipvt\u001b[0m\u001b[0;34m,\u001b[0m \u001b[0minfo\u001b[0m \u001b[0;34m=\u001b[0m \u001b[0mgetrf\u001b[0m\u001b[0;34m(\u001b[0m\u001b[0ma1\u001b[0m\u001b[0;34m,\u001b[0m \u001b[0moverwrite_a\u001b[0m\u001b[0;34m=\u001b[0m\u001b[0moverwrite_a\u001b[0m\u001b[0;34m)\u001b[0m\u001b[0;34m\u001b[0m\u001b[0;34m\u001b[0m\u001b[0m\n\u001b[0;32m--> 214\u001b[0;31m         \u001b[0m_solve_check\u001b[0m\u001b[0;34m(\u001b[0m\u001b[0mn\u001b[0m\u001b[0;34m,\u001b[0m \u001b[0minfo\u001b[0m\u001b[0;34m)\u001b[0m\u001b[0;34m\u001b[0m\u001b[0;34m\u001b[0m\u001b[0m\n\u001b[0m\u001b[1;32m    215\u001b[0m         x, info = getrs(lu, ipvt, b1,\n\u001b[1;32m    216\u001b[0m                         trans=trans, overwrite_b=overwrite_b)\n",
      "\u001b[0;32m~/anaconda3/lib/python3.8/site-packages/scipy/linalg/basic.py\u001b[0m in \u001b[0;36m_solve_check\u001b[0;34m(n, info, lamch, rcond)\u001b[0m\n\u001b[1;32m     27\u001b[0m                          '.'.format(-info))\n\u001b[1;32m     28\u001b[0m     \u001b[0;32melif\u001b[0m \u001b[0;36m0\u001b[0m \u001b[0;34m<\u001b[0m \u001b[0minfo\u001b[0m\u001b[0;34m:\u001b[0m\u001b[0;34m\u001b[0m\u001b[0;34m\u001b[0m\u001b[0m\n\u001b[0;32m---> 29\u001b[0;31m         \u001b[0;32mraise\u001b[0m \u001b[0mLinAlgError\u001b[0m\u001b[0;34m(\u001b[0m\u001b[0;34m'Matrix is singular.'\u001b[0m\u001b[0;34m)\u001b[0m\u001b[0;34m\u001b[0m\u001b[0;34m\u001b[0m\u001b[0m\n\u001b[0m\u001b[1;32m     30\u001b[0m \u001b[0;34m\u001b[0m\u001b[0m\n\u001b[1;32m     31\u001b[0m     \u001b[0;32mif\u001b[0m \u001b[0mlamch\u001b[0m \u001b[0;32mis\u001b[0m \u001b[0;32mNone\u001b[0m\u001b[0;34m:\u001b[0m\u001b[0;34m\u001b[0m\u001b[0;34m\u001b[0m\u001b[0m\n",
      "\u001b[0;31mLinAlgError\u001b[0m: Matrix is singular."
     ]
    }
   ],
   "source": [
    "mutual_info_pos_list=[]\n",
    "for delta in delta_list:\n",
    "    params=Params(delta=delta,L=64,bc=-1)\n",
    "    params.measure_all(0)\n",
    "    mutual_info_pos_list.append(params.mutual_information_m(np.arange(int(params.L/2)),np.arange(params.L/2)+params.L))"
   ]
  },
  {
   "cell_type": "code",
   "execution_count": null,
   "metadata": {},
   "outputs": [
    {
     "name": "stderr",
     "output_type": "stream",
     "text": [
      "/home/jake/anaconda3/lib/python3.8/site-packages/scipy/sparse/_index.py:82: SparseEfficiencyWarning: Changing the sparsity structure of a csr_matrix is expensive. lil_matrix is more efficient.\n",
      "  self._set_intXint(row, col, x.flat[0])\n"
     ]
    }
   ],
   "source": [
    "mutual_info_neg_list=[]\n",
    "for delta in delta_list:\n",
    "    params=Params(delta=delta,L=64,bc=-1)\n",
    "    params.measure_all(1)\n",
    "    mutual_info_neg_list.append(params.mutual_information_m(np.arange(int(params.L/2)),np.arange(params.L/2)+params.L))"
   ]
  },
  {
   "cell_type": "code",
   "execution_count": 435,
   "metadata": {},
   "outputs": [
    {
     "data": {
      "image/png": "[encoded data removed]",
      "text/plain": "<Figure size 489.6x288 with 1 Axes>"
     },
     "metadata": {
      "needs_background": "light"
     },
     "output_type": "display_data"
    }
   ],
   "source": [
    "fig,ax=plt.subplots(figsize=(6.8,4))\n",
    "ax.plot(delta_list,mutual_info_list/np.log(2),label='No measurement')\n",
    "ax.plot(delta_list,mutual_info_pos_list/np.log(2),label='measure +1')\n",
    "ax.plot(delta_list,mutual_info_neg_list/np.log(2),label='measure -1')\n",
    "ax.set_xlabel(r'$\\delta$')\n",
    "ax.set_ylabel(r'Mutual information [$\\log 2$]')\n",
    "ax.legend()\n",
    "fig.savefig('/mnt/d/kitp/Rp_SPT/4/M_L64_ApBp_shared.pdf',bbox_inches='tight')"
   ]
  },
  {
   "cell_type": "code",
   "execution_count": null,
   "metadata": {},
   "outputs": [],
   "source": [
    "def mutual_info_all_run(batchsize):\n",
    "    delta_list=np.linspace(-1,1,40)\n",
    "    mutual_info_dis_list=[]\n",
    "    if batchsize==0:\n",
    "        ensemblesize=1\n",
    "    else:\n",
    "        ensemblesize=100\n",
    "\n",
    "    for delta in delta_list:\n",
    "        mutual_info_ensemble_list=[]\n",
    "        for ensemble in range(ensemblesize):\n",
    "            params=Params(delta=delta,L=16,bc=-1)\n",
    "            params.measure_batch(batchsize)    \n",
    "            mutual_info_ensemble_list.append(params.mutual_information_m(np.arange(2),np.arange(2)+30))\n",
    "        mutual_info_dis_list.append(mutual_info_ensemble_list)\n",
    "    return delta_list,mutual_info_dis_list"
   ]
  },
  {
   "cell_type": "code",
   "execution_count": null,
   "metadata": {},
   "outputs": [],
   "source": []
  },
  {
   "cell_type": "markdown",
   "metadata": {},
   "source": [
    "# Evolution"
   ]
  },
  {
   "cell_type": "code",
   "execution_count": 333,
   "metadata": {},
   "outputs": [
    {
     "name": "stderr",
     "output_type": "stream",
     "text": [
      "/home/jake/anaconda3/lib/python3.8/site-packages/scipy/sparse/_index.py:82: SparseEfficiencyWarning: Changing the sparsity structure of a csr_matrix is expensive. lil_matrix is more efficient.\n",
      "  self._set_intXint(row, col, x.flat[0])\n"
     ]
    }
   ],
   "source": [
    "params=Params(delta=0.3,L=32,bc=-1)\n",
    "params.mutual_information_m(np.arange(int(params.L/2)),np.arange(int(params.L/2))+params.L)\n",
    "# params.measure_batch(1,(params.L/2,params.L))\n",
    "params.measure(1,20,21)\n",
    "params.measure(0,25,26)\n",
    "params.measure(1,40,41)"
   ]
  },
  {
   "cell_type": "code",
   "execution_count": 274,
   "metadata": {},
   "outputs": [
    {
     "data": {
      "text/plain": "1.8106183219401828e-10"
     },
     "execution_count": 274,
     "metadata": {},
     "output_type": "execute_result"
    }
   ],
   "source": [
    "params.mutual_information_m(np.arange(int(params.L/2)),np.arange(int(params.L/2))+params.L)"
   ]
  },
  {
   "cell_type": "code",
   "execution_count": 295,
   "metadata": {},
   "outputs": [
    {
     "data": {
      "text/plain": "[21]"
     },
     "execution_count": 295,
     "metadata": {},
     "output_type": "execute_result"
    }
   ],
   "source": [
    "params.i_history"
   ]
  },
  {
   "cell_type": "code",
   "execution_count": 305,
   "metadata": {},
   "outputs": [
    {
     "data": {
      "text/plain": "<matplotlib.image.AxesImage at 0x7f9f5d8f85b0>"
     },
     "execution_count": 305,
     "metadata": {},
     "output_type": "execute_result"
    },
    {
     "data": {
      "image/png": "[encoded data removed]",
      "text/plain": "<Figure size 432x288 with 1 Axes>"
     },
     "metadata": {
      "needs_background": "light"
     },
     "output_type": "display_data"
    }
   ],
   "source": [
    "params=Params(delta=0.3,L=32,bc=-1)\n",
    "params.measure(1,40,21)\n",
    "i=1\n",
    "fig,ax=plt.subplots()\n",
    "ax.imshow(params.C_m_history[i],cmap='seismic',vmin=-1,vmax=1)\n",
    "# ax.text(0,1.05,r'Step {}: $\\Upsilon_{}({},{})$'.format(i,'{'+str((-1)**s)+'}',params.i_history[i-1],params.i_history[i-1]+1),transform=ax.transAxes)"
   ]
  },
  {
   "cell_type": "code",
   "execution_count": 304,
   "metadata": {},
   "outputs": [
    {
     "data": {
      "text/plain": "<matplotlib.image.AxesImage at 0x7f9f5ceaa3d0>"
     },
     "execution_count": 304,
     "metadata": {},
     "output_type": "execute_result"
    },
    {
     "data": {
      "image/png": "[encoded data removed]",
      "text/plain": "<Figure size 432x288 with 1 Axes>"
     },
     "metadata": {
      "needs_background": "light"
     },
     "output_type": "display_data"
    }
   ],
   "source": [
    "params=Params(delta=0.3,L=32,bc=-1)\n",
    "params.measure(0,40,21)\n",
    "i=1\n",
    "fig,ax=plt.subplots()\n",
    "ax.imshow(params.C_m_history[i],cmap='seismic',vmin=-1,vmax=1)\n",
    "# ax.text(0,1.05,r'Step {}: $\\Upsilon_{}({},{})$'.format(i,'{'+str((-1)**s)+'}',params.i_history[i-1],params.i_history[i-1]+1),transform=ax.transAxes)"
   ]
  },
  {
   "cell_type": "code",
   "execution_count": 290,
   "metadata": {},
   "outputs": [
    {
     "data": {
      "image/png": "[encoded data removed]",
      "text/plain": "<Figure size 489.6x720 with 2 Axes>"
     },
     "metadata": {},
     "output_type": "display_data"
    }
   ],
   "source": [
    "i=0\n",
    "c_m=params.C_m_history[0]\n",
    "fig,ax=plt.subplots(1,2,figsize=(6.8,10))\n",
    "\n",
    "im_1=ax[0].imshow(c_m,cmap='seismic',vmin=-1,vmax=1) \n",
    "im_2=ax[1].imshow(c_m@c_m,cmap='hot',vmin=-1,vmax=0) \n",
    "\n",
    "ax[0].set_xticks([])\n",
    "ax[0].set_yticks([])\n",
    "ax[1].set_xticks([])\n",
    "ax[1].set_yticks([])\n",
    "\n",
    "ax[0].text(0,1.05,'Step 0',transform=ax[0].transAxes)\n",
    "\n",
    "axins0=ax[0].inset_axes([0.0, -.1, 1, 0.05],transform=ax[0].transAxes) \n",
    "cb0=fig.colorbar(im_1,cax=axins0,orientation='horizontal')\n",
    "cb0.ax.xaxis.set_tick_params(pad=0)\n",
    "# cb0.ax.tick_params(labelsize=20)\n",
    "\n",
    "axins1=ax[1].inset_axes([0.0, -.1, 1, 0.05],transform=ax[1].transAxes) \n",
    "cb1=fig.colorbar(im_2,cax=axins1,orientation='horizontal')\n",
    "cb1.ax.xaxis.set_tick_params(pad=0)\n",
    "# cb1.ax.tick_params(labelsize=20)\n",
    "\n",
    "# fig.savefig('/mnt/d/kitp/Rp_SPT/4/evolution_trivial_{}.pdf'.format(i),bbox_inches='tight',dpi=500)"
   ]
  },
  {
   "cell_type": "code",
   "execution_count": 276,
   "metadata": {},
   "outputs": [],
   "source": [
    "%%capture\n",
    "for i,c_m,s,ii in zip(range(1,21),params.C_m_history[1:],params.s_history,params.i_history):\n",
    "    \n",
    "    fig,ax=plt.subplots(1,2,figsize=(6.8,10))\n",
    "\n",
    "    im_1=ax[0].imshow(c_m,cmap='seismic',vmin=-1,vmax=1) \n",
    "    im_2=ax[1].imshow(c_m@c_m,cmap='hot',vmin=-1,vmax=0) \n",
    "\n",
    "    ax[0].set_xticks([])\n",
    "    ax[0].set_yticks([])\n",
    "    ax[1].set_xticks([])\n",
    "    ax[1].set_yticks([])\n",
    "    \n",
    "    ax[0].text(0,1.05,r'Step {}: $\\Upsilon_{}({},{})$'.format(i,'{'+str((-1)**s)+'}',ii,ii+1),transform=ax[0].transAxes)\n",
    "\n",
    "    # fig.savefig('/mnt/d/kitp/Rp_SPT/4/evolution_trivial_{}.pdf'.format(i),bbox_inches='tight',dpi=500)"
   ]
  },
  {
   "cell_type": "code",
   "execution_count": 277,
   "metadata": {},
   "outputs": [],
   "source": [
    "tex_text=\"\"\"\n",
    "    \\\\begin{{figure}}[h]\n",
    "        \\\\centering\n",
    "        \\\\includegraphics[width=\\\\textwidth]{{evolution_trivial_{}.pdf}}\n",
    "    \\\\end{{figure}}\n",
    "    \"\"\""
   ]
  },
  {
   "cell_type": "code",
   "execution_count": null,
   "metadata": {},
   "outputs": [],
   "source": [
    "string=\"\"\n",
    "for i in range(21):\n",
    "    print(tex_text.format(i))"
   ]
  },
  {
   "cell_type": "code",
   "execution_count": null,
   "metadata": {},
   "outputs": [],
   "source": []
  },
  {
   "cell_type": "code",
   "execution_count": null,
   "metadata": {},
   "outputs": [],
   "source": [
    "print(string)"
   ]
  },
  {
   "cell_type": "code",
   "execution_count": null,
   "metadata": {},
   "outputs": [],
   "source": [
    "for c_m in params.C_m_history:\n",
    "    fig,ax=plt.subplots()\n",
    "    ax.imshow(c_m@c_m)"
   ]
  },
  {
   "cell_type": "code",
   "execution_count": null,
   "metadata": {},
   "outputs": [],
   "source": [
    "plt.imshow(params.C_m_history[1])"
   ]
  },
  {
   "cell_type": "code",
   "execution_count": null,
   "metadata": {},
   "outputs": [
    {
     "name": "stderr",
     "output_type": "stream",
     "text": [
      "/home/jake/anaconda3/lib/python3.8/site-packages/scipy/sparse/_index.py:82: SparseEfficiencyWarning: Changing the sparsity structure of a csr_matrix is expensive. lil_matrix is more efficient.\n",
      "  self._set_intXint(row, col, x.flat[0])\n"
     ]
    }
   ],
   "source": [
    "params.measure(0, 4, 5)"
   ]
  },
  {
   "cell_type": "code",
   "execution_count": null,
   "metadata": {},
   "outputs": [],
   "source": [
    "params.measure(0, 4, 5)"
   ]
  },
  {
   "cell_type": "code",
   "execution_count": null,
   "metadata": {},
   "outputs": [],
   "source": [
    "params.measure(1, 6, 7)"
   ]
  },
  {
   "cell_type": "code",
   "execution_count": null,
   "metadata": {},
   "outputs": [],
   "source": [
    "params.measure(1, 4, 5)"
   ]
  },
  {
   "cell_type": "code",
   "execution_count": null,
   "metadata": {},
   "outputs": [],
   "source": []
  },
  {
   "cell_type": "code",
   "execution_count": null,
   "metadata": {},
   "outputs": [],
   "source": [
    "params=Params(delta=-0.3,L=16,bc=0)\n",
    "params.mutual_information_m(np.arange(2),np.arange(2)+16)\n",
    "params.measure_batch(100)"
   ]
  },
  {
   "cell_type": "code",
   "execution_count": null,
   "metadata": {},
   "outputs": [
    {
     "data": {
      "text/plain": "0.0019446062606200964"
     },
     "execution_count": 416,
     "metadata": {},
     "output_type": "execute_result"
    }
   ],
   "source": [
    "params.mutual_information_m(np.arange(2),np.arange(2)+16)"
   ]
  },
  {
   "cell_type": "code",
   "execution_count": null,
   "metadata": {},
   "outputs": [
    {
     "data": {
      "text/plain": "4"
     },
     "execution_count": 372,
     "metadata": {},
     "output_type": "execute_result"
    }
   ],
   "source": [
    "len(params.C_m_history)"
   ]
  },
  {
   "cell_type": "code",
   "execution_count": null,
   "metadata": {},
   "outputs": [
    {
     "data": {
      "text/plain": "[13, 14, 3, 14]"
     },
     "execution_count": 373,
     "metadata": {},
     "output_type": "execute_result"
    }
   ],
   "source": [
    "params.i_history"
   ]
  },
  {
   "cell_type": "code",
   "execution_count": null,
   "metadata": {},
   "outputs": [
    {
     "data": {
      "text/plain": "[1, 0, 0, 1]"
     },
     "execution_count": 374,
     "metadata": {},
     "output_type": "execute_result"
    }
   ],
   "source": [
    "params.s_history"
   ]
  },
  {
   "cell_type": "code",
   "execution_count": null,
   "metadata": {},
   "outputs": [],
   "source": [
    "for c_m in params.C_m_history:\n",
    "    fig,ax=plt.subplots()\n",
    "    ax.imshow(c_m)"
   ]
  },
  {
   "cell_type": "markdown",
   "metadata": {},
   "source": [
    "# Test"
   ]
  },
  {
   "cell_type": "code",
   "execution_count": 95,
   "metadata": {},
   "outputs": [
    {
     "name": "stderr",
     "output_type": "stream",
     "text": [
      "/home/jake/anaconda3/lib/python3.8/site-packages/scipy/sparse/_index.py:82: SparseEfficiencyWarning: Changing the sparsity structure of a csr_matrix is expensive. lil_matrix is more efficient.\n",
      "  self._set_intXint(row, col, x.flat[0])\n"
     ]
    }
   ],
   "source": [
    "params=Params(delta=-0.3,L=16,bc=0)"
   ]
  },
  {
   "cell_type": "code",
   "execution_count": 46,
   "metadata": {},
   "outputs": [
    {
     "data": {
      "text/plain": "array([[ 0.        , -0.96230698,  0.        , -0.24872714],\n       [ 0.96230698,  0.        , -0.26943816,  0.        ],\n       [ 0.        ,  0.26943816,  0.        , -0.92668984],\n       [ 0.24872714,  0.        ,  0.92668984,  0.        ]])"
     },
     "execution_count": 46,
     "metadata": {},
     "output_type": "execute_result"
    }
   ],
   "source": [
    "params.c_subregion_m(np.arange(4))"
   ]
  },
  {
   "cell_type": "code",
   "execution_count": 47,
   "metadata": {},
   "outputs": [
    {
     "data": {
      "text/plain": "array([[0., 0., 0., 0.],\n       [0., 0., 0., 0.],\n       [0., 0., 0., 0.],\n       [0., 0., 0., 0.]])"
     },
     "execution_count": 47,
     "metadata": {},
     "output_type": "execute_result"
    }
   ],
   "source": [
    "params.c_subregion_m_obs(np.arange(4))-params.c_subregion_m(np.arange(4))"
   ]
  },
  {
   "cell_type": "code",
   "execution_count": 48,
   "metadata": {},
   "outputs": [
    {
     "data": {
      "text/plain": "array([[0., 0., 0., 0., 0., 0., 0., 0.],\n       [0., 0., 0., 0., 0., 0., 0., 0.],\n       [0., 0., 0., 0., 0., 0., 0., 0.],\n       [0., 0., 0., 0., 0., 0., 0., 0.],\n       [0., 0., 0., 0., 0., 0., 0., 0.],\n       [0., 0., 0., 0., 0., 0., 0., 0.],\n       [0., 0., 0., 0., 0., 0., 0., 0.],\n       [0., 0., 0., 0., 0., 0., 0., 0.]])"
     },
     "execution_count": 48,
     "metadata": {},
     "output_type": "execute_result"
    }
   ],
   "source": [
    "params.c_subregion_m([0,1,2,3]+[8,9,10,11])-params.c_subregion_m_obs([0,1,2,3]+[8,9,10,11])"
   ]
  },
  {
   "cell_type": "code",
   "execution_count": 101,
   "metadata": {},
   "outputs": [
    {
     "name": "stdout",
     "output_type": "stream",
     "text": [
      "0.0008518695831298828\n"
     ]
    }
   ],
   "source": [
    "start_time=time.time()\n",
    "z=params.c_subregion_m(np.concatenate([np.arange(2),np.arange(2)+10]))\n",
    "print(time.time()-start_time)"
   ]
  },
  {
   "cell_type": "code",
   "execution_count": 103,
   "metadata": {},
   "outputs": [
    {
     "name": "stdout",
     "output_type": "stream",
     "text": [
      "0.001998424530029297\n"
     ]
    }
   ],
   "source": [
    "start_time=time.time()\n",
    "z_obs=params.c_subregion_m_obs(np.concatenate([np.arange(2),np.arange(2)+10]))\n",
    "print(time.time()-start_time)"
   ]
  },
  {
   "cell_type": "code",
   "execution_count": 104,
   "metadata": {},
   "outputs": [
    {
     "data": {
      "text/plain": "array([[0., 0., 0., 0.],\n       [0., 0., 0., 0.],\n       [0., 0., 0., 0.],\n       [0., 0., 0., 0.]])"
     },
     "execution_count": 104,
     "metadata": {},
     "output_type": "execute_result"
    }
   ],
   "source": [
    "z_obs-z"
   ]
  },
  {
   "cell_type": "code",
   "execution_count": 59,
   "metadata": {},
   "outputs": [
    {
     "data": {
      "text/plain": "(40,)"
     },
     "execution_count": 59,
     "metadata": {},
     "output_type": "execute_result"
    }
   ],
   "source": [
    "np.concatenate([np.arange(20),np.arange(20)+10]).shape"
   ]
  },
  {
   "cell_type": "code",
   "execution_count": 57,
   "metadata": {},
   "outputs": [
    {
     "data": {
      "text/plain": "[array([[ 0.00000000e+00, -9.62306978e-01,  0.00000000e+00, ...,\n         -2.21666121e-05,  0.00000000e+00, -1.16243430e-05],\n        [ 9.62306978e-01,  0.00000000e+00, -2.69438161e-01, ...,\n          0.00000000e+00, -3.11525065e-07,  0.00000000e+00],\n        [ 0.00000000e+00,  2.69438161e-01,  0.00000000e+00, ...,\n         -4.23377965e-05,  0.00000000e+00, -2.21666121e-05],\n        ...,\n        [ 2.21666121e-05,  0.00000000e+00,  4.23377965e-05, ...,\n          0.00000000e+00, -2.69438161e-01,  0.00000000e+00],\n        [ 0.00000000e+00,  3.11525065e-07,  0.00000000e+00, ...,\n          2.69438161e-01,  0.00000000e+00, -9.62306978e-01],\n        [ 1.16243430e-05,  0.00000000e+00,  2.21666121e-05, ...,\n          0.00000000e+00,  9.62306978e-01,  0.00000000e+00]])]"
     },
     "execution_count": 57,
     "metadata": {},
     "output_type": "execute_result"
    }
   ],
   "source": [
    "params.C_m_history"
   ]
  },
  {
   "cell_type": "code",
   "execution_count": null,
   "metadata": {},
   "outputs": [],
   "source": []
  }
 ],
 "metadata": {
  "kernelspec": {
   "display_name": "Python 3.8.5 64-bit ('base': conda)",
   "name": "python385jvsc74a57bd06aee4f39eba147985a2c1cbf1db4ebecc02362fa8877deaa860706b7b1b97f3d"
  },
  "language_info": {
   "codemirror_mode": {
    "name": "ipython",
    "version": 3
   },
   "file_extension": ".py",
   "mimetype": "text/x-python",
   "name": "python",
   "nbconvert_exporter": "python",
   "pygments_lexer": "ipython3",
   "version": "3.8.5"
  },
  "orig_nbformat": 2
 },
 "nbformat": 4,
 "nbformat_minor": 2
}