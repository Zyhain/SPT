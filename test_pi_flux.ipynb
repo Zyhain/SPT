{
 "cells": [
  {
   "cell_type": "markdown",
   "metadata": {},
   "source": [
    "# API"
   ]
  },
  {
   "cell_type": "code",
   "execution_count": 65,
   "metadata": {},
   "outputs": [],
   "source": [
    "import numpy as np\n",
    "import scipy.sparse as sp\n",
    "import scipy.sparse.linalg as sla\n",
    "import scipy.linalg as la\n",
    "import scipy.stats\n",
    "import matplotlib.pyplot as plt\n",
    "import time\n",
    "import pickle\n",
    "from copy import copy\n",
    "# %load_ext line_profiler"
   ]
  },
  {
   "cell_type": "code",
   "execution_count": 3,
   "metadata": {},
   "outputs": [],
   "source": [
    "plt.rcParams['text.usetex']=True\n",
    "plt.rcParams['font.family']='serif'\n",
    "plt.rcParams['font.size']=9\n",
    "plt.rcParams['axes.titlesize']=plt.rcParams['font.size']\n",
    "plt.rcParams['figure.figsize']=(6.8,4)"
   ]
  },
  {
   "cell_type": "code",
   "execution_count": 69,
   "metadata": {},
   "outputs": [
    {
     "data": {
      "text/plain": [
       "<AsyncResult: execute>"
      ]
     },
     "execution_count": 69,
     "metadata": {},
     "output_type": "execute_result"
    }
   ],
   "source": [
    "# ipcluster start --engines=MPI -n 4\n",
    "import ipyparallel as ipp\n",
    "rc = ipp.Client()\n",
    "rc[:].execute(\"from pi_flux import *\")\n",
    "rc[:].execute(\"import numpy as np\")"
   ]
  },
  {
   "cell_type": "code",
   "execution_count": 68,
   "metadata": {},
   "outputs": [],
   "source": [
    "# %%writefile pi_flux.py\n",
    "import numpy as np\n",
    "import scipy.linalg as la\n",
    "import numpy.linalg as nla\n",
    "import numpy.matlib\n",
    "\n",
    "class Params:\n",
    "    def __init__(self,\n",
    "            Lx=16,\n",
    "            Ly=16,\n",
    "            t=1,\n",
    "            Delta=1,\n",
    "            m=0,\n",
    "            bcx=-1,\n",
    "            bcy=1,\n",
    "            T=0,\n",
    "            history=False,\n",
    "            ):\n",
    "        self.Lx=Lx\n",
    "        self.Ly=Ly\n",
    "        self.t = t\n",
    "        self.Delta = Delta\n",
    "        self.m = m\n",
    "        self.bcx = bcx\n",
    "        self.bcy = bcy\n",
    "        self.T = T\n",
    "        self.history = history\n",
    "        if Lx<np.inf and Ly<np.inf:\n",
    "            hopx = np.diag(np.ones(Lx-1), -1)\n",
    "            hopx[0, -1] = bcx\n",
    "            hopy = np.diag(np.ones(Ly-1), -1)\n",
    "            hopy[0, -1] = bcy\n",
    "            hopxmat = np.kron(np.eye(Ly),hopx)\n",
    "            hopymat = np.kron(hopy,np.eye(Lx))\n",
    "            hop11mat= np.kron(hopy,hopx)\n",
    "            hop1m1mat=np.kron(hopy.T,hopx)\n",
    "            onsitemat = np.eye(Lx*Ly)\n",
    "            H00=np.array([[m,-t,-1j*Delta,t],\n",
    "                            [-t,-m,t,1j*Delta],\n",
    "                            [1j*Delta,t,m,t],\n",
    "                            [t,-1j*Delta,t,-m]])\n",
    "            H10=np.array([[0,-t,1j*Delta,0],\n",
    "                            [0,0,0,0],\n",
    "                            [0,0,0,0],\n",
    "                            [0,1j*Delta,t,0]])\n",
    "            H01=np.array([[0,0,1j*Delta,t],\n",
    "                            [0,0,t,-1j*Delta],\n",
    "                            [0,0,0,0],\n",
    "                            [0,0,0,0]])\n",
    "            H11=np.array([[0,0,-1j*Delta,0],\n",
    "                            [0,0,0,0],\n",
    "                            [0,0,0,0],\n",
    "                            [0,0,0,0]])\n",
    "            H1m1=np.array([[0,0,0,0],\n",
    "                            [0,0,0,0],\n",
    "                            [0,0,0,0],\n",
    "                            [0,-1j*Delta,0,0]])\n",
    "            H00mat=np.kron(onsitemat,H00)\n",
    "            H10mat=np.kron(hopxmat,H10)\n",
    "            H01mat=np.kron(hopymat,H01)\n",
    "            H11mat=np.kron(hop11mat,H11)\n",
    "            H1m1mat=np.kron(hop1m1mat,H1m1)\n",
    "            self.Hamiltonian=H00mat+H10mat+H10mat.T.conj()+H01mat+H01mat.T.conj()+H11mat+H11mat.T.conj()+H1m1mat+H1m1mat.T.conj()\n",
    "\n",
    "    def bandstructure(self):\n",
    "        val, vec = nla.eigh(self.Hamiltonian)\n",
    "        sortindex = np.argsort(val)\n",
    "        self.val = val[sortindex]\n",
    "        self.vec = vec[:, sortindex]\n",
    "\n",
    "    def fermi_dist(self, energy, E_F):\n",
    "        if self.T == 0:\n",
    "            return np.heaviside(E_F-energy, 0)\n",
    "        else:\n",
    "            return 1/(1+np.exp((energy-E_F)/self.T))\n",
    "\n",
    "    def correlation_matrix(self, E_F=0):\n",
    "        '''\n",
    "        G_{ij}=<f_i^\\dagger f_j>\n",
    "        '''\n",
    "        if not (hasattr(self, 'val') and hasattr(self, 'vec')):\n",
    "            self.bandstructure()\n",
    "        occupancy_mat = np.matlib.repmat(self.fermi_dist(self.val, E_F), self.vec.shape[0], 1)\n",
    "        self.C_f = ((occupancy_mat*self.vec)@self.vec.T.conj())\n",
    "\n",
    "    def covariance_matrix(self, E_F=0):\n",
    "        '''\n",
    "        c.f. notes\n",
    "        Maybe differs by a minus sign\n",
    "        '''\n",
    "        if not hasattr(self, 'C_f'):\n",
    "            if self.Lx < np.inf and self.Ly<np.inf:\n",
    "                self.correlation_matrix()\n",
    "            else:\n",
    "                self.correlation_matrix_inf_fft()\n",
    "        G = self.C_f\n",
    "        Gamma_11 = 1j*(G-G.T)\n",
    "        Gamma_21 = -(np.eye(G.shape[0])-G-G.T)\n",
    "        Gamma_12 = -Gamma_21.T\n",
    "        Gamma_22 = -1j*(G.T-G)\n",
    "        Gamma = np.zeros((2*G.shape[0], 2*G.shape[0]), dtype=complex)\n",
    "        even = np.arange(2*G.shape[0])[::2]\n",
    "        odd = np.arange(2*G.shape[0])[1::2]\n",
    "        Gamma[np.ix_(even, even)] = Gamma_11\n",
    "        Gamma[np.ix_(even, odd)] = Gamma_12\n",
    "        Gamma[np.ix_(odd, even)] = Gamma_21\n",
    "        Gamma[np.ix_(odd, odd)] = Gamma_22\n",
    "        assert np.abs(np.imag(Gamma)).max() < 1e-10, \"Covariance matrix not real {:.5f}\".format(np.abs(np.imag(Gamma)).max())\n",
    "        self.C_m = np.real(Gamma-Gamma.T.conj())/2\n",
    "        self.C_m_history = [self.C_m]\n",
    "\n",
    "    def linearize_index(self, subregion, n, proj=False, k=2):\n",
    "        '''\n",
    "        If proj ==True, then the index used for projection operator will be returned\n",
    "        k, the size of measurement, is useful only when proj=True\n",
    "        n=8 ususally, for 4 atoms in one unit cell and 2 Majorana operator \n",
    "        '''\n",
    "        subregion_x, subregion_y = (subregion)\n",
    "        subregion_x = np.array(subregion_x)\n",
    "        subregion_y = np.array(subregion_y)\n",
    "        \n",
    "        X, Y = np.meshgrid(subregion_x, subregion_y)\n",
    "        if self.Ly<np.inf:\n",
    "            assert subregion_x.max()<self.Lx and subregion_y.max()<self.Ly, 'Range exceeds'\n",
    "            linear_index = ((X+Y*self.Lx).flatten('F'))\n",
    "        else:\n",
    "            assert subregion_x.max()<self.dxmax and subregion_y.max()<self.dymax, 'Range exceeds'\n",
    "            linear_index = ((X+Y*self.dxmax).flatten('F'))\n",
    "        if proj:\n",
    "            return sorted(np.concatenate([n*linear_index+i for i in range(0, n, k)]))\n",
    "        else:\n",
    "            return sorted(np.concatenate([n*linear_index+i for i in range(n)]))\n",
    "\n",
    "    def square_index(self, subregion):\n",
    "        '''\n",
    "        Convert indices in covariance matrix\n",
    "        '''\n",
    "        subregion=np.unique(np.array(subregion)//8)\n",
    "        if self.Lx<np.inf and self.Ly<np.inf:\n",
    "            return subregion%self.Lx,subregion//self.Lx\n",
    "        else:\n",
    "            return subregion%self.dxmax,subregion//self.dxmax\n",
    "\n",
    "    def c_subregion_f(self, subregion, linear=True):\n",
    "        '''\n",
    "        subregion: [subregoin_x, subregion_y] index of unit cell\n",
    "        '''\n",
    "        if not hasattr(self, 'C_f'):\n",
    "            self.correlation_matrix()\n",
    "        try:\n",
    "            subregion = list(subregion)\n",
    "        except:\n",
    "            raise ValueError(\"The subregion is ill-defined\"+subregion)\n",
    "\n",
    "        if len(subregion) == 2:\n",
    "            if isinstance(subregion[0], int) and isinstance(subregion[1], int):\n",
    "                linear = True\n",
    "            elif (not isinstance(subregion[0], int)) and (not isinstance(subregion[1], int)):\n",
    "                linear = False\n",
    "            else:\n",
    "                raise ValueError('Illegal subregion')\n",
    "        else:\n",
    "            linear = True\n",
    "\n",
    "        if linear:\n",
    "            # linearized index\n",
    "            subregion_index = subregion\n",
    "        else:\n",
    "            # 2D index\n",
    "            subregion_index = self.linearize_index(subregion, 2)\n",
    "        # This is a dumb way...\n",
    "        return self.C_f[np.ix_(subregion_index, subregion_index)]\n",
    "\n",
    "    def von_Neumann_entropy_f(self, subregion):\n",
    "        c_A = self.c_subregion_f(subregion)\n",
    "        val = nla.eigvalsh(c_A)\n",
    "        self.val_sh = val\n",
    "        val = np.sort(val)\n",
    "        return np.real(-np.sum(val*np.log(val+1e-18j))-np.sum((1-val)*np.log(1-val+1e-18j)))\n",
    "\n",
    "    def c_subregion_m(self, subregion, Gamma=None):\n",
    "        '''\n",
    "        subregion: [subregoin_x, subregion_y] index of unit cell\n",
    "        '''\n",
    "        if not hasattr(self, 'C_m'):\n",
    "            self.covariance_matrix()\n",
    "        if Gamma is None:\n",
    "            Gamma = self.C_m_history[-1]\n",
    "        try:\n",
    "            subregion = list(subregion)\n",
    "        except:\n",
    "            raise ValueError(\"The subregion is ill-defined\"+subregion)\n",
    "\n",
    "        if len(subregion) == 2:\n",
    "            if isinstance(subregion[0], int) and isinstance(subregion[1], int):\n",
    "                linear = True\n",
    "            elif (not isinstance(subregion[0], int)) and (not isinstance(subregion[1], int)):\n",
    "                linear = False\n",
    "            else:\n",
    "                raise ValueError('Illegal subregion')\n",
    "        else:\n",
    "            linear = True\n",
    "        if linear:\n",
    "            # linearized index\n",
    "            subregion_index = subregion\n",
    "        else:\n",
    "            # 2D index\n",
    "            subregion_index = self.linearize_index(subregion, 4)\n",
    "\n",
    "        return Gamma[np.ix_(subregion_index, subregion_index)]\n",
    "\n",
    "    def von_Neumann_entropy_m(self, subregion):\n",
    "        c_A = self.c_subregion_m(subregion)\n",
    "        val = nla.eigvalsh(1j*c_A)\n",
    "        self.val_sh = val\n",
    "        val = np.sort(val)\n",
    "        val = (1-val)/2+1e-18j  # \\lambda=(1-\\xi)/2\n",
    "        return np.real(-np.sum(val*np.log(val))-np.sum((1-val)*np.log(1-val)))/2\n",
    "\n",
    "    def mutual_information_f(self, subregion_A, subregion_B):\n",
    "        subregion_A = self.linearize_index(subregion_A, 2)\n",
    "        subregion_B = self.linearize_index(subregion_B, 2)\n",
    "        s_A = self.von_Neumann_entropy_f(subregion_A)\n",
    "        s_B = self.von_Neumann_entropy_f(subregion_B)\n",
    "        assert np.intersect1d(\n",
    "            subregion_A, subregion_B).size == 0, \"Subregion A and B overlap\"\n",
    "        subregion_AB = np.concatenate([subregion_A, subregion_B])\n",
    "        s_AB = self.von_Neumann_entropy_f(subregion_AB)\n",
    "        return s_A+s_B-s_AB\n",
    "\n",
    "    def mutual_information_m(self, subregion_A, subregion_B):\n",
    "        subregion_A = self.linearize_index(subregion_A, 4)\n",
    "        subregion_B = self.linearize_index(subregion_B, 4)\n",
    "        assert np.intersect1d(\n",
    "            subregion_A, subregion_B).size == 0, \"Subregion A and B overlap\"\n",
    "        s_A = self.von_Neumann_entropy_m(subregion_A)\n",
    "        s_B = self.von_Neumann_entropy_m(subregion_B)\n",
    "        subregion_AB = np.concatenate([subregion_A, subregion_B])\n",
    "        s_AB = self.von_Neumann_entropy_m(subregion_AB)\n",
    "        return s_A+s_B-s_AB\n",
    "        \n",
    "    def log_neg(self, subregion_A, subregion_B, Gamma=None,linear=False):\n",
    "        if not linear:\n",
    "            subregion_A = self.linearize_index(subregion_A, 4)\n",
    "            subregion_B = self.linearize_index(subregion_B, 4)\n",
    "        assert np.intersect1d(\n",
    "            subregion_A, subregion_B).size == 0, \"Subregion A and B overlap\"\n",
    "        if not hasattr(self, 'C_m'):\n",
    "            self.covariance_matrix()\n",
    "\n",
    "        if Gamma is None:\n",
    "            Gamma = self.C_m_history[-1]\n",
    "        subregion_A = np.array(subregion_A)\n",
    "        subregion_B = np.array(subregion_B)\n",
    "        Gm_p = np.block([\n",
    "            [-Gamma[np.ix_(subregion_A, subregion_A)], 1j *\n",
    "             Gamma[np.ix_(subregion_A, subregion_B)]],\n",
    "            [1j*Gamma[np.ix_(subregion_B, subregion_A)],\n",
    "             Gamma[np.ix_(subregion_B, subregion_B)]]\n",
    "        ])\n",
    "        Gm_n = np.block([\n",
    "            [-Gamma[np.ix_(subregion_A, subregion_A)], -1j *\n",
    "             Gamma[np.ix_(subregion_A, subregion_B)]],\n",
    "            [-1j*Gamma[np.ix_(subregion_B, subregion_A)],\n",
    "             Gamma[np.ix_(subregion_B, subregion_B)]]\n",
    "        ])\n",
    "        idm = np.eye(Gm_p.shape[0])\n",
    "        # Gm_x=idm-(idm+1j*Gm_p)@nla.inv(idm-Gm_n@Gm_p)@(idm+1j*Gm_n)\n",
    "        Gm_x = idm-(idm+1j*Gm_p)@(la.solve((idm-Gm_n@Gm_p), (idm+1j*Gm_n)))\n",
    "        Gm_x = (Gm_x+Gm_x.T.conj())/2\n",
    "        xi = nla.eigvalsh(Gm_x)\n",
    "        subregion_AB = np.concatenate([subregion_A, subregion_B])\n",
    "        eA = np.sum(np.log(((1+xi+0j)/2)**0.5+((1-xi+0j)/2)**0.5))/2\n",
    "        chi = nla.eigvalsh(1j*Gamma[np.ix_(subregion_AB, subregion_AB)])\n",
    "        sA = np.sum(np.log(((1+chi)/2)**2+((1-chi)/2)**2))/4\n",
    "        self.eA=eA\n",
    "        self.sA=sA\n",
    "        return np.real(eA+sA)\n",
    "\n",
    "\n",
    "\n",
    "    def projection(self, s,type='onsite',ignore=False):\n",
    "            '''\n",
    "            For type:'onsite'\n",
    "                occupancy number: s= 0,1 \n",
    "                (-1)^0 even parity, (-1)^1 odd parity\n",
    "            For type:'link'\n",
    "                (o,+)|(o,-)|(e,+)|(e,-)\n",
    "            '''\n",
    "            if type=='onsite':\n",
    "                assert (s == 0 or s == 1), \"s={} is either 0 or 1\".format(s)\n",
    "                blkmat = np.array([[0, -(-1)**s, 0, 0],\n",
    "                                [(-1)**s, 0, 0, 0],\n",
    "                                [0, 0, 0, (-1)**s],\n",
    "                                [0, 0, -(-1)**s, 0]])\n",
    "                return blkmat\n",
    "            if type=='link':\n",
    "                assert (s in ['o+','o-','e+','e-']), \"s={} for {} is not defined\".format(s,type)\n",
    "                if s=='o+':\n",
    "                    antidiag=[1,-1,1,-1]\n",
    "                    blkmat=np.diag(antidiag)\n",
    "                    blkmat=np.fliplr(blkmat)\n",
    "                if s=='o-':\n",
    "                    antidiag=[-1,1,-1,1]\n",
    "                    blkmat=np.diag(antidiag)\n",
    "                    blkmat=np.fliplr(blkmat)\n",
    "                if not ignore:\n",
    "                    if s=='e+':\n",
    "                        blkmat=np.array([[0,-1,0,0],\n",
    "                                        [1,0,0,0],\n",
    "                                        [0,0,0,-1],\n",
    "                                        [0,0,1,0]])\n",
    "                    if s=='e-':\n",
    "                        blkmat=-np.array([[0,-1,0,0],\n",
    "                                        [1,0,0,0],\n",
    "                                        [0,0,0,-1],\n",
    "                                        [0,0,1,0]])\n",
    "                else:\n",
    "                    if s=='e+':\n",
    "                        antidiag=[-1,-1,1,1]\n",
    "                        blkmat=np.diag(antidiag)\n",
    "                        blkmat=np.fliplr(blkmat)\n",
    "                    if s=='e-':\n",
    "                        antidiag=[1,1,-1,-1]\n",
    "                        blkmat=np.diag(antidiag)\n",
    "                        blkmat=np.fliplr(blkmat)\n",
    "                proj=np.zeros((8,8))\n",
    "                proj[:4,:4]=blkmat\n",
    "                proj[4:,4:]=blkmat.T\n",
    "                return proj            \n",
    "            raise ValueError(\"type '{}' is not defined\".format(type))\n",
    "\n",
    "    def measure(self, s, ix,type='onsite',ignore=False):\n",
    "        if not hasattr(self, 'C_m'):\n",
    "            self.covariance_matrix()\n",
    "        if not hasattr(self, 's_history'):\n",
    "            self.s_history = []\n",
    "        if not hasattr(self, 'i_history'):\n",
    "            self.i_history = []\n",
    "\n",
    "        mat = self.C_m_history[-1].copy()\n",
    "\n",
    "        for i_ind, i in enumerate(ix):\n",
    "            mat[[i, -(len(ix)-i_ind)]] = mat[[-(len(ix)-i_ind), i]]\n",
    "            mat[:, [i, -(len(ix)-i_ind)]] = mat[:, [-(len(ix)-i_ind), i]]\n",
    "\n",
    "        self.mat = mat\n",
    "\n",
    "        Gamma_LL = mat[:-len(ix), :-len(ix)]\n",
    "        Gamma_LR = mat[:-len(ix), -len(ix):]\n",
    "        Gamma_RR = mat[-len(ix):, -len(ix):]\n",
    "\n",
    "        proj = self.projection(s,type=type,ignore=ignore)\n",
    "        Upsilon_LL = proj[:-len(ix), :-len(ix)]\n",
    "        Upsilon_RR = proj[-len(ix):, -len(ix):]\n",
    "        Upsilon_RL = proj[-len(ix):, :-len(ix)]\n",
    "        zero = np.zeros((mat.shape[0]-len(ix), len(ix)))\n",
    "        zero0 = np.zeros((len(ix), len(ix)))\n",
    "        mat1 = np.block([[Gamma_LL, zero], [zero.T, Upsilon_RR]])\n",
    "        mat2 = np.block([[Gamma_LR, zero], [zero0, Upsilon_RL]])\n",
    "        mat3 = np.block([[Gamma_RR, np.eye(len(ix))],\n",
    "                        [-np.eye(len(ix)), Upsilon_LL]])\n",
    "        self.mat2 = mat2\n",
    "        if np.count_nonzero(mat2):\n",
    "            Psi = mat1+mat2@(la.solve(mat3, mat2.T))\n",
    "            # Psi=mat1+mat2@(la.lstsq(mat3,mat2.T)[0])\n",
    "            assert np.abs(\n",
    "                np.trace(Psi)) < 1e-5, \"Not trace zero {:e}\".format(np.trace(Psi))\n",
    "        else:\n",
    "            Psi = mat1\n",
    "\n",
    "        for i_ind, i in enumerate(ix):\n",
    "            Psi[[i, -(len(ix)-i_ind)]] = Psi[[-(len(ix)-i_ind), i]]\n",
    "            Psi[:, [i, -(len(ix)-i_ind)]] = Psi[:, [-(len(ix)-i_ind), i]]\n",
    "        Psi = (Psi-Psi.T)/2   # Anti-symmetrize\n",
    "        if self.history:\n",
    "            self.C_m_history.append(Psi)\n",
    "            self.s_history.append(s)\n",
    "            self.i_history.append(ix[0])\n",
    "        else:\n",
    "            self.C_m_history = [Psi]\n",
    "            self.s_history = [s]\n",
    "            self.i_history = [ix[0]]\n",
    "\n",
    "\n",
    "    def measure_all_Born(self, proj_range,prob=None,linear=False,type='onsite',pool=4,ignore=False):\n",
    "        if not linear:\n",
    "            if type=='onsite':\n",
    "                proj_range = self.linearize_index(proj_range, 8, proj=True)\n",
    "            if type=='link':\n",
    "                proj_range = self.linearize_index(proj_range, 8, proj=True,k=8)\n",
    "        # self.proj_range=proj_range\n",
    "        # print(proj_range)\n",
    "        self.P_0_list = []\n",
    "        self.f_parity= []\n",
    "        if not hasattr(self, 'C_m'):\n",
    "            self.covariance_matrix()\n",
    "        if type=='onsite':\n",
    "            for i in proj_range:\n",
    "                if prob is None:\n",
    "                    P_0 = (self.C_m_history[-1][i, i+1]+1)/2    # Use Born rule\n",
    "                else:\n",
    "                    P_0=prob\n",
    "                self.P_0_list.append(P_0)\n",
    "                if np.random.rand() < P_0:\n",
    "                    self.measure(0, [i, i+1])\n",
    "                    self.f_parity.append(0)\n",
    "                else:\n",
    "                    self.measure(1, [i, i+1])\n",
    "                    self.f_parity.append(1)\n",
    "            return self\n",
    "\n",
    "        if type=='link':\n",
    "            pass\n",
    "            # for i in proj_range:\n",
    "            #     Gamma=self.C_m_history[-1][i:i+4,i:i+4]\n",
    "            #     P={}\n",
    "            #     gamma1234=-Gamma[0,1]*Gamma[2,3]+Gamma[0,2]*Gamma[1,3]-Gamma[0,3]*Gamma[1,2]\n",
    "            #     if prob is None:\n",
    "            #         P['o+']=(1+Gamma[1,2]-Gamma[0,3]+gamma1234)/4\n",
    "            #         P['o-']=(1-Gamma[1,2]+Gamma[0,3]+gamma1234)/4\n",
    "            #         if not ignore:\n",
    "            #             P['e+']=(1+Gamma[0,1]+Gamma[2,3]-gamma1234)/4\n",
    "            #             P['e-']=(1-Gamma[0,1]-Gamma[2,3]-gamma1234)/4\n",
    "            #         else:\n",
    "            #             #ignore symmetry\n",
    "            #             P['e+']=(1+Gamma[1,2]+Gamma[0,3]-gamma1234)/4\n",
    "            #             P['e-']=(1-Gamma[1,2]-Gamma[0,3]-gamma1234)/4\n",
    "            #     else:\n",
    "            #         P['o+'],P['o-'],P['e+'],P['e-']=tuple(prob)\n",
    "\n",
    "            #     # print((P.values()))\n",
    "            #     if pool==4:\n",
    "            #         s=np.random.choice(['o+','o-','e+','e-'],p=[P['o+'],P['o-'],P['e+'],P['e-']])\n",
    "            #     elif pool==2:\n",
    "            #         s=np.random.choice(['o+','o-'],p=[P['o+']/(P['o+']+P['o-']),P['o-']/(P['o+']+P['o-'])])\n",
    "            #     elif pool==-2:\n",
    "            #         s=np.random.choice(['e+','e-'],p=[P['e+']/(P['e+']+P['e-']),P['e-']/(P['e+']+P['e-'])])\n",
    "            #     self.measure(s,[i,i+1,i+2,i+3],type='link',ignore=ignore)\n",
    "            return self"
   ]
  },
  {
   "cell_type": "markdown",
   "metadata": {},
   "source": [
    "# test"
   ]
  },
  {
   "cell_type": "code",
   "execution_count": 5,
   "metadata": {},
   "outputs": [],
   "source": [
    "params=Params(m=0)"
   ]
  },
  {
   "cell_type": "code",
   "execution_count": 6,
   "metadata": {},
   "outputs": [],
   "source": [
    "params.covariance_matrix()"
   ]
  },
  {
   "cell_type": "code",
   "execution_count": 7,
   "metadata": {},
   "outputs": [
    {
     "data": {
      "text/plain": [
       "4"
      ]
     },
     "execution_count": 7,
     "metadata": {},
     "output_type": "execute_result"
    }
   ],
   "source": [
    "params.Lx//4"
   ]
  },
  {
   "cell_type": "code",
   "execution_count": 8,
   "metadata": {},
   "outputs": [
    {
     "data": {
      "text/plain": [
       "0.02628849427926383"
      ]
     },
     "execution_count": 8,
     "metadata": {},
     "output_type": "execute_result"
    }
   ],
   "source": [
    "params.mutual_information_f([np.arange(params.Lx//4),np.arange(params.Ly)],[np.arange(params.Lx//2,3*params.Lx//4),np.arange(params.Ly)])"
   ]
  },
  {
   "cell_type": "code",
   "execution_count": 9,
   "metadata": {},
   "outputs": [
    {
     "data": {
      "text/plain": [
       "0.0262884942790933"
      ]
     },
     "execution_count": 9,
     "metadata": {},
     "output_type": "execute_result"
    }
   ],
   "source": [
    "params.mutual_information_m([np.arange(params.Lx//4),np.arange(params.Ly)],[np.arange(params.Lx//2,3*params.Lx//4),np.arange(params.Ly)])"
   ]
  },
  {
   "cell_type": "code",
   "execution_count": 10,
   "metadata": {},
   "outputs": [
    {
     "data": {
      "text/plain": [
       "0.03895508916636459"
      ]
     },
     "execution_count": 10,
     "metadata": {},
     "output_type": "execute_result"
    }
   ],
   "source": [
    "params.log_neg([np.arange(params.Lx//4),np.arange(params.Ly)],[np.arange(params.Lx//2,3*params.Lx//4),np.arange(params.Ly)])"
   ]
  },
  {
   "cell_type": "code",
   "execution_count": 55,
   "metadata": {},
   "outputs": [
    {
     "data": {
      "text/plain": [
       "(array([], dtype=int64), array([], dtype=int64))"
      ]
     },
     "execution_count": 55,
     "metadata": {},
     "output_type": "execute_result"
    }
   ],
   "source": [
    "(params.Hamiltonian.T.conj()-params.Hamiltonian).nonzero()"
   ]
  },
  {
   "cell_type": "markdown",
   "metadata": {},
   "source": [
    "# Bandstructure"
   ]
  },
  {
   "cell_type": "code",
   "execution_count": 95,
   "metadata": {},
   "outputs": [],
   "source": [
    "m_list=np.linspace(-5,5)\n",
    "Delta=1\n",
    "eigval_pbc_new_list=[]\n",
    "for m in m_list:\n",
    "    params_new=Params(m=m,Delta=Delta,bcx=1,bcy=1,test='new',Lx=8,Ly=8)\n",
    "    params_new.bandstructure()\n",
    "    eigval_pbc_new_list.append(params_new.val)"
   ]
  },
  {
   "cell_type": "code",
   "execution_count": 96,
   "metadata": {},
   "outputs": [],
   "source": [
    "Delta=1\n",
    "eigval_apbc_new_list=[]\n",
    "for m in m_list:\n",
    "    params_new=Params(m=m,Delta=Delta,bcx=-1,bcy=1,test='new',Lx=8,Ly=8)\n",
    "    params_new.bandstructure()\n",
    "    eigval_apbc_new_list.append(params_new.val)"
   ]
  },
  {
   "cell_type": "code",
   "execution_count": 83,
   "metadata": {},
   "outputs": [],
   "source": [
    "def h(m,t,Delta,kx,ky):\n",
    "    mat=np.array([[m,-t*(1+np.exp(-1j*kx)),-1j*Delta*(1-np.exp(-1j*kx))*(1-np.exp(-1j*ky)),t*(1+np.exp(-1j*ky))],\n",
    "                  [-t*(1+np.exp(1j*kx)),-m,t*(1+np.exp(-1j*ky)),1j*Delta*(1-np.exp(1j*kx))*(1-np.exp(-1j*ky))],\n",
    "                  [1j*Delta*(1-np.exp(1j*kx))*(1-np.exp(1j*ky)),t*(1+np.exp(1j*ky)),m,t*(1+np.exp(1j*kx))],\n",
    "                  [t*(1+np.exp(1j*ky)),-1j*Delta*(1-np.exp(-1j*kx))*(1-np.exp(1j*ky)),t*(1+np.exp(-1j*kx)),-m]])\n",
    "    return nla.eigvalsh(mat)"
   ]
  },
  {
   "cell_type": "code",
   "execution_count": 102,
   "metadata": {},
   "outputs": [],
   "source": [
    "bottom_list=[]\n",
    "top_list=[]\n",
    "# m_list=np.linspace(-5,5)\n",
    "for m in m_list:\n",
    "    en=np.abs(np.array([h(m,1,Delta,kx,ky) for kx in np.linspace(-np.pi,np.pi,10) for ky in np.linspace(-np.pi,np.pi,10)]))\n",
    "    bottom_list.append(en.min())\n",
    "    top_list.append(en.max())"
   ]
  },
  {
   "cell_type": "code",
   "execution_count": 173,
   "metadata": {},
   "outputs": [],
   "source": [
    "Delta_list=np.linspace(-1,1)\n",
    "m=0\n",
    "eigval_pbc_Delta_m0_list=[]\n",
    "for Delta in Delta_list:\n",
    "    params_Delta=Params(m=m,Delta=Delta,bcx=1,bcy=1,Lx=8,Ly=8)\n",
    "    params_Delta.bandstructure()\n",
    "    eigval_pbc_Delta_m0_list.append(params_Delta.val)"
   ]
  },
  {
   "cell_type": "code",
   "execution_count": 174,
   "metadata": {},
   "outputs": [],
   "source": [
    "Delta_list=np.linspace(-1,1)\n",
    "m=0\n",
    "eigval_apbc_Delta_m0_list=[]\n",
    "for Delta in Delta_list:\n",
    "    params_Delta=Params(m=m,Delta=Delta,bcx=-1,bcy=1,Lx=8,Ly=8)\n",
    "    params_Delta.bandstructure()\n",
    "    eigval_apbc_Delta_m0_list.append(params_Delta.val)"
   ]
  },
  {
   "cell_type": "code",
   "execution_count": 179,
   "metadata": {},
   "outputs": [],
   "source": [
    "bottom_Delta_list=[]\n",
    "top_Delta_list=[]\n",
    "# Delta_list=np.linspace(-5,5)\n",
    "for Delta in Delta_list:\n",
    "    en=np.abs(np.array([h(m,1,Delta,kx,ky) for kx in np.linspace(-np.pi,np.pi,10) for ky in np.linspace(-np.pi,np.pi,10)]))\n",
    "    bottom_Delta_list.append(en.min())\n",
    "    top_Delta_list.append(en.max())"
   ]
  },
  {
   "cell_type": "code",
   "execution_count": 184,
   "metadata": {},
   "outputs": [
    {
     "data": {
      "image/png": "[encoded data removed]",
      "text/plain": [
       "<Figure size 489.6x288 with 4 Axes>"
      ]
     },
     "metadata": {
      "needs_background": "light"
     },
     "output_type": "display_data"
    }
   ],
   "source": [
    "fig,ax=plt.subplots(2,2,tight_layout=True)\n",
    "ax[0,0].plot(m_list,eigval_apbc_new_list,'c',lw=0.5)\n",
    "ax[0,1].plot(m_list,eigval_pbc_new_list,'c',lw=0.5)\n",
    "\n",
    "ax[0,1].plot(m_list,bottom_list,'r',lw=3)\n",
    "ax[0,1].plot(m_list,top_list,'r',lw=3)\n",
    "ax[0,0].set_title('x: APBC, y: PBC')\n",
    "ax[0,1].set_title('x,y: PBC')\n",
    "[ax.text(.5,.9,r'$\\Delta$=1',transform=ax.transAxes,ha='center') for ax in ax[0]]\n",
    "\n",
    "\n",
    "ax[1,0].plot(Delta_list,eigval_apbc_Delta_m0_list,'c',lw=0.5)\n",
    "ax[1,1].plot(Delta_list,eigval_pbc_Delta_m0_list,'c',lw=0.5)\n",
    "ax[1,1].plot(Delta_list,bottom_Delta_list,'r',lw=3)\n",
    "ax[1,1].plot(Delta_list,top_Delta_list,'r',lw=3)\n",
    "\n",
    "[ax.text(.5,.9,'m=0',transform=ax.transAxes,ha='center') for ax in ax[1]]\n",
    "\n",
    "[ax.margins(x=0) for ax in ax.flatten()]\n",
    "[ax.set_xlabel(r'm') for ax in ax[0]]\n",
    "[ax.set_xlabel(r'$\\Delta$') for ax in ax[1]]\n",
    "[ax.set_ylabel(r'Energy') for ax in ax[:,0]]\n",
    "\n",
    "fig.savefig('/mnt/d/kitp/Rp_SPT/10/bs.pdf',bbox_inches='tight')"
   ]
  },
  {
   "cell_type": "markdown",
   "metadata": {},
   "source": [
    "# No measurement "
   ]
  },
  {
   "cell_type": "markdown",
   "metadata": {},
   "source": [
    "## m dependence"
   ]
  },
  {
   "cell_type": "code",
   "execution_count": 57,
   "metadata": {},
   "outputs": [],
   "source": [
    "m_list=(lambda x:(x-4)**3+4 )(np.linspace(3,5,24))\n",
    "# m_list=np.linspace(3,5,20)\n",
    "LN_m_no_list=[]\n",
    "MI_m_no_list=[]\n",
    "Lx=64\n",
    "Ly=4\n",
    "def run(p):\n",
    "    m,Lx,Ly=p\n",
    "    params=Params(m=m,Lx=Lx,Ly=Ly)\n",
    "    MI=(params.mutual_information_m([np.arange(params.Lx//4),np.arange(params.Ly)],[np.arange(params.Lx//4)+params.Lx//2,np.arange(params.Ly)]))\n",
    "    LN=(params.log_neg([np.arange(params.Lx//4),np.arange(params.Ly)],[np.arange(params.Lx//4)+params.Lx//2,np.arange(params.Ly)]))\n",
    "    return MI,LN\n",
    "\n",
    "inputs=[(m,Lx,Ly) for m in m_list]\n",
    "async_result=(rc[:].map_sync(run,inputs))\n",
    "\n",
    "for index,results in enumerate(async_result):\n",
    "    MI_m_no_list.append(results[0])\n",
    "    LN_m_no_list.append(results[1])\n"
   ]
  },
  {
   "cell_type": "code",
   "execution_count": 58,
   "metadata": {},
   "outputs": [
    {
     "data": {
      "image/png": "[encoded data removed]",
      "text/plain": [
       "<Figure size 489.6x288 with 1 Axes>"
      ]
     },
     "metadata": {
      "needs_background": "light"
     },
     "output_type": "display_data"
    }
   ],
   "source": [
    "fig,ax=plt.subplots()\n",
    "ax.plot(m_list,LN_m_no_list/np.log(2),'.-',label='LN')\n",
    "ax.plot(m_list,MI_m_no_list/np.log(2),'.-',label='MI')\n",
    "ax.legend()\n",
    "ax.set_xlabel('m')\n",
    "ax.grid('on')\n",
    "ax.set_ylabel('[log(2)]')\n",
    "ax.set_title('Finite system')\n",
    "fig.savefig('/mnt/d/kitp/Rp_SPT/10/LN_CI_no_Lx{:d}_Ly{:d}.pdf'.format(Lx,Ly),bbox_inches='tight')"
   ]
  },
  {
   "cell_type": "markdown",
   "metadata": {},
   "source": [
    "## Delta dependence"
   ]
  },
  {
   "cell_type": "code",
   "execution_count": 79,
   "metadata": {},
   "outputs": [],
   "source": [
    "Delta_list=(lambda x:(x)**3)(np.linspace(-1,1,24))\n",
    "# Delta_list=np.linspace(-1,1,20)\n",
    "LN_Delta_no_list=[]\n",
    "MI_Delta_no_list=[]\n",
    "Lx=32\n",
    "Ly=4\n",
    "def run(p):\n",
    "    Delta,Lx,Ly=p\n",
    "    params=Params(m=0,Lx=Lx,Ly=Ly,Delta=Delta)\n",
    "    MI=(params.mutual_information_m([np.arange(params.Lx//4),np.arange(params.Ly)],[np.arange(params.Lx//4)+params.Lx//2,np.arange(params.Ly)]))\n",
    "    LN=(params.log_neg([np.arange(params.Lx//4),np.arange(params.Ly)],[np.arange(params.Lx//4)+params.Lx//2,np.arange(params.Ly)]))\n",
    "    return MI,LN\n",
    "\n",
    "inputs=[(Delta,Lx,Ly) for Delta in Delta_list]\n",
    "async_result=(rc[:].map_sync(run,inputs))\n",
    "\n",
    "for index,results in enumerate(async_result):\n",
    "    MI_Delta_no_list.append(results[0])\n",
    "    LN_Delta_no_list.append(results[1])\n"
   ]
  },
  {
   "cell_type": "code",
   "execution_count": 80,
   "metadata": {},
   "outputs": [
    {
     "data": {
      "image/png": "[encoded data removed]",
      "text/plain": [
       "<Figure size 489.6x288 with 1 Axes>"
      ]
     },
     "metadata": {
      "needs_background": "light"
     },
     "output_type": "display_data"
    }
   ],
   "source": [
    "fig,ax=plt.subplots()\n",
    "ax.plot(Delta_list,LN_Delta_no_list/np.log(2),'.-',label='LN')\n",
    "ax.plot(Delta_list,MI_Delta_no_list/np.log(2),'.-',label='MI')\n",
    "ax.legend()\n",
    "ax.set_xlabel(r'$\\Delta$')\n",
    "ax.grid('on')\n",
    "ax.set_ylabel('[log(2)]')\n",
    "ax.set_title('Finite system')\n",
    "fig.savefig('/mnt/d/kitp/Rp_SPT/10/LN_CI_no_Delta_Lx{:d}_Ly{:d}.pdf'.format(Lx,Ly),bbox_inches='tight')"
   ]
  },
  {
   "cell_type": "code",
   "execution_count": null,
   "metadata": {},
   "outputs": [],
   "source": []
  },
  {
   "cell_type": "markdown",
   "metadata": {},
   "source": [
    "# Born measurement"
   ]
  },
  {
   "cell_type": "markdown",
   "metadata": {},
   "source": [
    "## Onsite, m dep"
   ]
  },
  {
   "cell_type": "code",
   "execution_count": 85,
   "metadata": {},
   "outputs": [],
   "source": [
    "m_list=(lambda x:(x-4)**3+4 )(np.linspace(3,5,24))\n",
    "es=20\n",
    "LN_Born_list=np.zeros((len(m_list),es))\n",
    "MI_Born_list=np.zeros((len(m_list),es))\n",
    "Lx,Ly=64,4\n",
    "def run(p):\n",
    "    m,Lx,Ly=p\n",
    "    params=Params(m=m,Lx=Lx,Ly=Ly,bcx=-1,bcy=1)\n",
    "    params.measure_all_Born([np.arange(Lx//4,Lx//2),np.arange(Ly)])\n",
    "    LN=params.log_neg([np.arange(Lx//4),np.arange(Ly)],[np.arange(Lx//4)+Lx//2,np.arange(Ly)])\n",
    "    MI=params.mutual_information_m([np.arange(Lx//4),np.arange(Ly)],[np.arange(Lx//4)+Lx//2,np.arange(Ly)])\n",
    "    return MI,LN\n",
    "for m_i,m in enumerate(m_list):\n",
    "    st=time.time()\n",
    "    # # Serial\n",
    "    # params0=Params(m=m,Lx=Lx,Ly=Ly)\n",
    "    # for es_i in range(es):\n",
    "    #     params=copy(params0)\n",
    "    #     params.measure_all_Born([np.arange(params.Lx//4,params.Lx//2),np.arange(params.Ly)])\n",
    "    #     # MI_Born_list[m_i,es_i]=params.mutual_information_m([np.arange(params.Lx//4),np.arange(params.Ly)],[np.arange(params.Lx//4)+params.Lx//2,np.arange(params.Ly)])\n",
    "    #     LN_Born_list[m_i,es_i]=params.log_neg([np.arange(params.Lx//4),np.arange(params.Ly)],[np.arange(params.Lx//4)+params.Lx//2,np.arange(params.Ly)])\n",
    "\n",
    "    # Parallel\n",
    "    inputs=[(m,Lx,Ly) for _ in range(es)]\n",
    "    async_result=rc[:].map_sync(run,inputs)\n",
    "\n",
    "    for index,results in enumerate(async_result):\n",
    "        MI_Born_list[m_i,index],LN_Born_list[m_i,index]=results\n",
    "\n",
    "    print('{:d}:{:.1f}'.format(m_i,time.time()-st))\n"
   ]
  },
  {
   "cell_type": "code",
   "execution_count": 82,
   "metadata": {},
   "outputs": [
    {
     "data": {
      "image/png": "[encoded data removed]",
      "text/plain": [
       "<Figure size 489.6x288 with 1 Axes>"
      ]
     },
     "metadata": {
      "needs_background": "light"
     },
     "output_type": "display_data"
    }
   ],
   "source": [
    "fig,ax=plt.subplots()\n",
    "# ax.plot(m_list,LN_no_list,'.-',label='No measurement')\n",
    "\n",
    "ax.errorbar(m_list,LN_Born_list.mean(axis=1)/np.log(2),LN_Born_list.std(axis=1)/np.log(2)/np.sqrt(es-1),capsize=3,fmt='.-',label='Onsite measurement (LN)')\n",
    "ax.errorbar(m_list,MI_Born_list.mean(axis=1)/np.log(2),MI_Born_list.std(axis=1)/np.log(2)/np.sqrt(es-1),capsize=3,fmt='.-',label='Onsite measurement (MI)')\n",
    "\n",
    "ax.legend()\n",
    "ax.grid('on')\n",
    "ax.set_xlabel(r'm')\n",
    "ax.set_ylabel(r'[log(2)]')\n",
    "ax.margins(x=0)\n",
    "ax.set_title('Ensemble Size={:d}, Lx={:d}, Ly={:d}'.format(es,Lx,Ly))\n",
    "fig.savefig('/mnt/d/KITP/Rp_SPT/8/LN_CI_Born_onsite_En{:d}_Lx{:d}_Ly{:d}.pdf'.format(es,Lx,Ly),bbox_inches='tight')"
   ]
  },
  {
   "cell_type": "markdown",
   "metadata": {},
   "source": [
    "## Onsite, $\\Delta$ dep"
   ]
  },
  {
   "cell_type": "code",
   "execution_count": 83,
   "metadata": {},
   "outputs": [
    {
     "name": "stdout",
     "output_type": "stream",
     "text": [
      "0:25.5\n",
      "1:24.8\n",
      "2:24.9\n",
      "3:24.5\n",
      "4:24.6\n",
      "5:24.4\n",
      "6:24.8\n",
      "7:23.9\n",
      "8:24.4\n",
      "9:25.2\n"
     ]
    }
   ],
   "source": [
    "Delta_list=(lambda x:(x)**3)(np.linspace(-1,1,24))\n",
    "es=20\n",
    "LN_Born_list=np.zeros((len(Delta_list),es))\n",
    "MI_Born_list=np.zeros((len(Delta_list),es))\n",
    "Lx,Ly=32,4\n",
    "def run(p):\n",
    "    Delta,Lx,Ly=p\n",
    "    params=Params(m=0,Delta=Delta,Lx=Lx,Ly=Ly,bcx=-1,bcy=1)\n",
    "    params.measure_all_Born([np.arange(Lx//4,Lx//2),np.arange(Ly)])\n",
    "    LN=params.log_neg([np.arange(Lx//4),np.arange(Ly)],[np.arange(Lx//4)+Lx//2,np.arange(Ly)])\n",
    "    MI=params.mutual_information_m([np.arange(Lx//4),np.arange(Ly)],[np.arange(Lx//4)+Lx//2,np.arange(Ly)])\n",
    "    return MI,LN\n",
    "for Delta_i,Delta in enumerate(Delta_list):\n",
    "    st=time.time()\n",
    "    # # Serial\n",
    "    # params0=Params(Delta=Delta,Lx=Lx,Ly=Ly)\n",
    "    # for es_i in range(es):\n",
    "    #     params=copy(params0)\n",
    "    #     params.measure_all_Born([np.arange(params.Lx//4,params.Lx//2),np.arange(params.Ly)])\n",
    "    #     # MI_Born_list[Delta_i,es_i]=params.mutual_information_m([np.arange(params.Lx//4),np.arange(params.Ly)],[np.arange(params.Lx//4)+params.Lx//2,np.arange(params.Ly)])\n",
    "    #     LN_Born_list[Delta_i,es_i]=params.log_neg([np.arange(params.Lx//4),np.arange(params.Ly)],[np.arange(params.Lx//4)+params.Lx//2,np.arange(params.Ly)])\n",
    "\n",
    "    # Parallel\n",
    "    inputs=[(Delta,Lx,Ly) for _ in range(es)]\n",
    "    async_result=rc[:].map_sync(run,inputs)\n",
    "\n",
    "    for index,results in enumerate(async_result):\n",
    "        MI_Born_list[Delta_i,index],LN_Born_list[Delta_i,index]=results\n",
    "\n",
    "    print('{:d}:{:.1f}'.format(Delta_i,time.time()-st))\n"
   ]
  },
  {
   "cell_type": "code",
   "execution_count": 84,
   "metadata": {},
   "outputs": [
    {
     "data": {
      "image/png": "[encoded data removed]",
      "text/plain": [
       "<Figure size 489.6x288 with 1 Axes>"
      ]
     },
     "metadata": {
      "needs_background": "light"
     },
     "output_type": "display_data"
    }
   ],
   "source": [
    "fig,ax=plt.subplots()\n",
    "# ax.plot(m_list,LN_no_list,'.-',label='No measurement')\n",
    "\n",
    "ax.errorbar(m_list,LN_Born_list.mean(axis=1)/np.log(2),LN_Born_list.std(axis=1)/np.log(2)/np.sqrt(es-1),capsize=3,fmt='.-',label='Onsite measurement (LN)')\n",
    "ax.errorbar(m_list,MI_Born_list.mean(axis=1)/np.log(2),MI_Born_list.std(axis=1)/np.log(2)/np.sqrt(es-1),capsize=3,fmt='.-',label='Onsite measurement (MI)')\n",
    "\n",
    "ax.legend()\n",
    "ax.grid('on')\n",
    "ax.set_xlabel(r'Delta')\n",
    "ax.set_ylabel(r'[log(2)]')\n",
    "ax.margins(x=0)\n",
    "ax.set_title('Ensemble Size={:d}, Lx={:d}, Ly={:d}'.format(es,Lx,Ly))\n",
    "fig.savefig('/mnt/d/KITP/Rp_SPT/8/LN_CI_Born_Delta_onsite_En{:d}_Lx{:d}_Ly{:d}.pdf'.format(es,Lx,Ly),bbox_inches='tight')"
   ]
  },
  {
   "cell_type": "markdown",
   "metadata": {},
   "source": [
    "## Link $\\Delta$ dep"
   ]
  },
  {
   "cell_type": "markdown",
   "metadata": {},
   "source": [
    "## Link $\\Delta$ dep"
   ]
  },
  {
   "cell_type": "markdown",
   "metadata": {},
   "source": [
    "## Link $\\Delta$ dep"
   ]
  }
 ],
 "metadata": {
  "interpreter": {
   "hash": "6aee4f39eba147985a2c1cbf1db4ebecc02362fa8877deaa860706b7b1b97f3d"
  },
  "kernelspec": {
   "display_name": "Python 3.8.8 64-bit ('base': conda)",
   "name": "python3"
  },
  "language_info": {
   "codemirror_mode": {
    "name": "ipython",
    "version": 3
   },
   "file_extension": ".py",
   "mimetype": "text/x-python",
   "name": "python",
   "nbconvert_exporter": "python",
   "pygments_lexer": "ipython3",
   "version": "3.8.8"
  },
  "orig_nbformat": 2
 },
 "nbformat": 4,
 "nbformat_minor": 2
}