{
 "cells": [
  {
   "cell_type": "markdown",
   "source": [
    "# API"
   ],
   "metadata": {}
  },
  {
   "cell_type": "code",
   "execution_count": 1,
   "source": [
    "import numpy as np\n",
    "import scipy.sparse as sp\n",
    "import scipy.sparse.linalg as sla\n",
    "import scipy.linalg as la\n",
    "import scipy.stats\n",
    "import matplotlib.pyplot as plt\n",
    "import time\n",
    "import pickle\n",
    "from copy import copy\n",
    "# %load_ext line_profiler"
   ],
   "outputs": [],
   "metadata": {}
  },
  {
   "cell_type": "code",
   "execution_count": 2,
   "source": [
    "plt.rcParams['text.usetex']=True\n",
    "plt.rcParams['font.family']='serif'\n",
    "plt.rcParams['font.size']=9\n",
    "plt.rcParams['axes.titlesize']=plt.rcParams['font.size']\n",
    "plt.rcParams['figure.figsize']=(6.8,4)"
   ],
   "outputs": [],
   "metadata": {}
  },
  {
   "cell_type": "code",
   "execution_count": 13,
   "source": [
    "# ipcluster start --engines=MPI -n 4\n",
    "import ipyparallel as ipp\n",
    "rc = ipp.Client()\n",
    "rc[:].execute(\"from Chern_insulator import *\")\n",
    "rc[:].execute(\"import numpy as np\")"
   ],
   "outputs": [
    {
     "output_type": "execute_result",
     "data": {
      "text/plain": [
       "<AsyncResult: execute>"
      ]
     },
     "metadata": {},
     "execution_count": 13
    }
   ],
   "metadata": {}
  },
  {
   "cell_type": "code",
   "execution_count": 21,
   "source": [
    "# %%writefile Chern_insulator.py\n",
    "import numpy as np\n",
    "import scipy.linalg as la\n",
    "import numpy.linalg as nla\n",
    "import numpy.matlib\n",
    "\n",
    "\n",
    "class Params:\n",
    "    def __init__(self,\n",
    "            Lx=4,\n",
    "            Ly=16,\n",
    "            Delta=1,\n",
    "            t=1,\n",
    "            m=1,\n",
    "            bcx=-1,\n",
    "            bcy=1,\n",
    "            T=0,\n",
    "            dxmax=16,\n",
    "            dymax=16,\n",
    "            history=False,\n",
    "            ):\n",
    "        self.Lx = Lx\n",
    "        self.Ly = Ly\n",
    "        self.Delta = Delta\n",
    "        self.t = t\n",
    "        self.m = m\n",
    "        self.bcx = bcx\n",
    "        self.bcy = bcy\n",
    "        self.T = T\n",
    "        self.history = history\n",
    "        self.sigmax = np.array([[0, 1], [1, 0]])\n",
    "        self.sigmay = np.array([[0, -1j], [1j, 0]])\n",
    "        self.sigmaz = np.array([[1, 0], [0, -1]])\n",
    "        # check which one is faster, use sparse or dense?\n",
    "        if Lx<np.inf and Ly<np.inf:\n",
    "            hopx = np.diag(np.ones(Lx-1), -1)\n",
    "            hopx[0, -1] = bcx\n",
    "            hopy = np.diag(np.ones(Ly-1), -1)\n",
    "            hopy[0, -1] = bcy\n",
    "            hopxmat = np.kron(np.eye(Ly),hopx)\n",
    "            hopymat = np.kron(hopy,np.eye(Lx))\n",
    "            self.hopxmat=hopxmat\n",
    "            self.hopymat=hopymat\n",
    "            onsitemat = np.eye(Lx*Ly)\n",
    "            self.Hamiltonian = ((np.kron(hopxmat-hopxmat.T, self.sigmax)+np.kron(hopymat-hopymat.T, self.sigmay))* 1j*Delta-t*np.kron(hopxmat+hopxmat.T+hopymat+hopymat.T, self.sigmaz))/2+m*np.kron(onsitemat, self.sigmaz)\n",
    "        elif Lx==np.inf and Ly==np.inf:\n",
    "            self.dxmax=dxmax\n",
    "            self.dymax=dymax\n",
    "            self.dx=lambda kx: Delta*np.sin(kx)\n",
    "            self.dy=lambda ky: Delta*np.sin(ky)\n",
    "            self.dz=lambda kx,ky: m-t*np.cos(kx)-t*np.cos(ky)\n",
    "        else:\n",
    "            raise ValueError('The size of system {:d,:d} is not supported.'.format(Lx,Ly))\n",
    "            \n",
    "\n",
    "    def bandstructure(self):\n",
    "        val, vec = nla.eigh(self.Hamiltonian)\n",
    "        sortindex = np.argsort(val)\n",
    "        self.val = val[sortindex]\n",
    "        self.vec = vec[:, sortindex]\n",
    "\n",
    "    def fermi_dist_k(self,kx,ky,branch,E_F=0):\n",
    "        if self.T==0:\n",
    "            return np.heaviside(E_F-self.E_k(kx,ky,branch),0)\n",
    "        else:\n",
    "            return 1/(1+np.exp((self.E_k(kx,ky,branch)-E_F)/self.T))\n",
    "\n",
    "    def fermi_dist(self, energy, E_F):\n",
    "        if self.T == 0:\n",
    "            return np.heaviside(E_F-energy, 0)\n",
    "        else:\n",
    "            return 1/(1+np.exp((energy-E_F)/self.T))\n",
    "\n",
    "    def correlation_matrix_inf_fft(self,threshold=[1024,512]):\n",
    "        '''\n",
    "        self.dxmax/self.dymax: the maximal distance in x/y direction (in terms of unit cell) \n",
    "        Directly call fft to evaluate the integral\n",
    "        '''\n",
    "        assert self.Lx==np.inf and self.Ly==np.inf, \"Wire length should be inf\"\n",
    "        # cov_mat=[]\n",
    "        Nxmax=max(2*self.dxmax,threshold[0])\n",
    "        Nymax=max(2*self.dymax,threshold[1])\n",
    "        if self.T>0:\n",
    "            pass    #to be filled\n",
    "        else:\n",
    "            kxlist=np.arange(0,2*np.pi,2*np.pi/Nxmax)\n",
    "            kylist=np.arange(0,2*np.pi,2*np.pi/Nymax)\n",
    "            kxmap,kymap=np.meshgrid(kxlist,kylist)\n",
    "            dxmap=self.dx(kxmap)\n",
    "            dymap=self.dy(kymap)\n",
    "            dzmap=self.dz(kxmap,kymap)\n",
    "            Ekmap=np.sqrt(dxmap**2+dymap**2+dzmap**2)\n",
    "            Ekxymap=np.sqrt(dxmap**2+dymap**2)\n",
    "            costheta=dzmap/Ekmap\n",
    "            sintheta=Ekxymap/Ekmap\n",
    "            Ekxymap[0,0]=np.inf #to avoid 0/0 in cos(phi) & sin(phi); the order of this line matters\n",
    "            cosphi=dxmap/Ekxymap\n",
    "            sinphi=dymap/Ekxymap\n",
    "            fftcostheta=np.fft.ifft2(costheta)\n",
    "            constmap=np.zeros((Nymax,Nxmax))\n",
    "            constmap[0,0]=0.5\n",
    "            A_11=constmap-fftcostheta/2\n",
    "            A_22=constmap+fftcostheta/2\n",
    "            A_12=np.fft.ifft2(-(cosphi-1j*sinphi)/2*sintheta)\n",
    "            A_21=np.fft.ifft2(-(cosphi+1j*sinphi)/2*sintheta)\n",
    "            mat=np.stack([[A_11,A_12],[A_21,A_22]])\n",
    "            C_f=np.zeros((2*self.dxmax*self.dymax,2*self.dxmax*self.dymax))*1j\n",
    "            for i in range(self.dxmax*self.dymax):\n",
    "                for j in range(i):\n",
    "                    ix,iy=i%self.dxmax,i//self.dxmax\n",
    "                    jx,jy=j%self.dxmax,j//self.dxmax\n",
    "                    dx,dy=(ix-jx)%Nxmax,(iy-jy)%Nymax\n",
    "                    C_f[2*i:2*i+2,2*j:2*j+2]=mat[:,:,dy,dx]\n",
    "            C_f=C_f+C_f.T.conj()\n",
    "            for i in range(self.dxmax*self.dymax):\n",
    "                C_f[2*i:2*i+2,2*i:2*i+2]=mat[:,:,0,0]\n",
    "            self.C_f=C_f\n",
    "\n",
    "    def correlation_matrix(self, E_F=0):\n",
    "        '''\n",
    "        G_{ij}=<f_i^\\dagger f_j>\n",
    "        '''\n",
    "        if not (hasattr(self, 'val') and hasattr(self, 'vec')):\n",
    "            self.bandstructure()\n",
    "        occupancy_mat = np.matlib.repmat(self.fermi_dist(self.val, E_F), self.vec.shape[0], 1)\n",
    "        self.C_f = ((occupancy_mat*self.vec)@self.vec.T.conj())\n",
    "\n",
    "    def covariance_matrix(self, E_F=0):\n",
    "        '''\n",
    "        c.f. notes\n",
    "        Maybe differs by a minus sign\n",
    "        '''\n",
    "        if not hasattr(self, 'C_f'):\n",
    "            if self.Lx < np.inf and self.Ly<np.inf:\n",
    "                self.correlation_matrix()\n",
    "            else:\n",
    "                self.correlation_matrix_inf_fft()\n",
    "        G = self.C_f\n",
    "        Gamma_11 = 1j*(G-G.T)\n",
    "        Gamma_21 = -(np.eye(G.shape[0])-G-G.T)\n",
    "        Gamma_12 = -Gamma_21.T\n",
    "        Gamma_22 = -1j*(G.T-G)\n",
    "        Gamma = np.zeros((2*G.shape[0], 2*G.shape[0]), dtype=complex)\n",
    "        even = np.arange(2*G.shape[0])[::2]\n",
    "        odd = np.arange(2*G.shape[0])[1::2]\n",
    "        Gamma[np.ix_(even, even)] = Gamma_11\n",
    "        Gamma[np.ix_(even, odd)] = Gamma_12\n",
    "        Gamma[np.ix_(odd, even)] = Gamma_21\n",
    "        Gamma[np.ix_(odd, odd)] = Gamma_22\n",
    "        assert np.abs(np.imag(Gamma)).max() < 1e-10, \"Covariance matrix not real {:.5f}\".format(np.abs(np.imag(Gamma)).max())\n",
    "        self.C_m = np.real(Gamma-Gamma.T.conj())/2\n",
    "        self.C_m_history = [self.C_m]\n",
    "\n",
    "    def linearize_index(self, subregion, n, proj=False, k=2):\n",
    "        '''\n",
    "        If proj ==True, then the index used for projection operator will be returned\n",
    "        k, the size of measurement, is useful only when proj=True\n",
    "        '''\n",
    "        subregion_x, subregion_y = (subregion)\n",
    "        subregion_x = np.array(subregion_x)\n",
    "        subregion_y = np.array(subregion_y)\n",
    "        \n",
    "        X, Y = np.meshgrid(subregion_x, subregion_y)\n",
    "        if self.Ly<np.inf:\n",
    "            assert subregion_x.max()<self.Lx and subregion_y.max()<self.Ly, 'Range exceeds'\n",
    "            linear_index = ((X+Y*self.Lx).flatten('F'))\n",
    "        else:\n",
    "            assert subregion_x.max()<self.dxmax and subregion_y.max()<self.dymax, 'Range exceeds'\n",
    "            linear_index = ((X+Y*self.dxmax).flatten('F'))\n",
    "        if proj:\n",
    "            return sorted(np.concatenate([n*linear_index+i for i in range(0, n, k)]))\n",
    "        else:\n",
    "            return sorted(np.concatenate([n*linear_index+i for i in range(n)]))\n",
    "\n",
    "    def square_index(self, subregion):\n",
    "        subregion=np.unique(np.array(subregion)//4)\n",
    "        if self.Lx<np.inf and self.Ly<np.inf:\n",
    "            return subregion%self.Lx,subregion//self.Lx\n",
    "        else:\n",
    "            return subregion%self.dxmax,subregion//self.dxmax\n",
    "\n",
    "\n",
    "    def c_subregion_f(self, subregion, linear=True):\n",
    "        '''\n",
    "        subregion: [subregoin_x, subregion_y] index of unit cell\n",
    "        '''\n",
    "        if not hasattr(self, 'C_f'):\n",
    "            self.correlation_matrix()\n",
    "        try:\n",
    "            subregion = list(subregion)\n",
    "        except:\n",
    "            raise ValueError(\"The subregion is ill-defined\"+subregion)\n",
    "\n",
    "        if len(subregion) == 2:\n",
    "            if isinstance(subregion[0], int) and isinstance(subregion[1], int):\n",
    "                linear = True\n",
    "            elif (not isinstance(subregion[0], int)) and (not isinstance(subregion[1], int)):\n",
    "                linear = False\n",
    "            else:\n",
    "                raise ValueError('Illegal subregion')\n",
    "        else:\n",
    "            linear = True\n",
    "        if linear:\n",
    "            # linearized index\n",
    "            subregion_index = subregion\n",
    "        else:\n",
    "            # 2D index\n",
    "            subregion_index = self.linearize_index(subregion, 2)\n",
    "        # This is a dumb way...\n",
    "        return self.C_f[np.ix_(subregion_index, subregion_index)]\n",
    "\n",
    "    def von_Neumann_entropy_f(self, subregion):\n",
    "        c_A = self.c_subregion_f(subregion)\n",
    "        val = nla.eigvalsh(c_A)\n",
    "        self.val_sh = val\n",
    "        val = np.sort(val)\n",
    "        return np.real(-np.sum(val*np.log(val+1e-18j))-np.sum((1-val)*np.log(1-val+1e-18j)))\n",
    "\n",
    "    def c_subregion_m(self, subregion, Gamma=None):\n",
    "        '''\n",
    "        subregion: [subregoin_x, subregion_y] index of unit cell\n",
    "        '''\n",
    "        if not hasattr(self, 'C_m'):\n",
    "            self.covariance_matrix()\n",
    "        if Gamma is None:\n",
    "            Gamma = self.C_m_history[-1]\n",
    "        try:\n",
    "            subregion = list(subregion)\n",
    "        except:\n",
    "            raise ValueError(\"The subregion is ill-defined\"+subregion)\n",
    "\n",
    "        if len(subregion) == 2:\n",
    "            if isinstance(subregion[0], int) and isinstance(subregion[1], int):\n",
    "                linear = True\n",
    "            elif (not isinstance(subregion[0], int)) and (not isinstance(subregion[1], int)):\n",
    "                linear = False\n",
    "            else:\n",
    "                raise ValueError('Illegal subregion')\n",
    "        else:\n",
    "            linear = True\n",
    "        if linear:\n",
    "            # linearized index\n",
    "            subregion_index = subregion\n",
    "        else:\n",
    "            # 2D index\n",
    "            subregion_index = self.linearize_index(subregion, 4)\n",
    "\n",
    "        return Gamma[np.ix_(subregion_index, subregion_index)]\n",
    "\n",
    "    def von_Neumann_entropy_m(self, subregion):\n",
    "        c_A = self.c_subregion_m(subregion)\n",
    "        val = nla.eigvalsh(1j*c_A)\n",
    "        self.val_sh = val\n",
    "        val = np.sort(val)\n",
    "        val = (1-val)/2+1e-18j  # \\lambda=(1-\\xi)/2\n",
    "        return np.real(-np.sum(val*np.log(val))-np.sum((1-val)*np.log(1-val)))/2\n",
    "\n",
    "    def mutual_information_f(self, subregion_A, subregion_B):\n",
    "        subregion_A = self.linearize_index(subregion_A, 2)\n",
    "        subregion_B = self.linearize_index(subregion_B, 2)\n",
    "        s_A = self.von_Neumann_entropy_f(subregion_A)\n",
    "        s_B = self.von_Neumann_entropy_f(subregion_B)\n",
    "        assert np.intersect1d(\n",
    "            subregion_A, subregion_B).size == 0, \"Subregion A and B overlap\"\n",
    "        subregion_AB = np.concatenate([subregion_A, subregion_B])\n",
    "        s_AB = self.von_Neumann_entropy_f(subregion_AB)\n",
    "        return s_A+s_B-s_AB\n",
    "\n",
    "    def mutual_information_m(self, subregion_A, subregion_B):\n",
    "        subregion_A = self.linearize_index(subregion_A, 4)\n",
    "        subregion_B = self.linearize_index(subregion_B, 4)\n",
    "        assert np.intersect1d(\n",
    "            subregion_A, subregion_B).size == 0, \"Subregion A and B overlap\"\n",
    "        s_A = self.von_Neumann_entropy_m(subregion_A)\n",
    "        s_B = self.von_Neumann_entropy_m(subregion_B)\n",
    "        subregion_AB = np.concatenate([subregion_A, subregion_B])\n",
    "        s_AB = self.von_Neumann_entropy_m(subregion_AB)\n",
    "        return s_A+s_B-s_AB\n",
    "\n",
    "    def log_neg(self, subregion_A, subregion_B, Gamma=None,linear=False):\n",
    "        if not linear:\n",
    "            subregion_A = self.linearize_index(subregion_A, 4)\n",
    "            subregion_B = self.linearize_index(subregion_B, 4)\n",
    "        assert np.intersect1d(\n",
    "            subregion_A, subregion_B).size == 0, \"Subregion A and B overlap\"\n",
    "        if not hasattr(self, 'C_m'):\n",
    "            self.covariance_matrix()\n",
    "\n",
    "        if Gamma is None:\n",
    "            Gamma = self.C_m_history[-1]\n",
    "        subregion_A = np.array(subregion_A)\n",
    "        subregion_B = np.array(subregion_B)\n",
    "        Gm_p = np.block([\n",
    "            [-Gamma[np.ix_(subregion_A, subregion_A)], 1j *\n",
    "             Gamma[np.ix_(subregion_A, subregion_B)]],\n",
    "            [1j*Gamma[np.ix_(subregion_B, subregion_A)],\n",
    "             Gamma[np.ix_(subregion_B, subregion_B)]]\n",
    "        ])\n",
    "        Gm_n = np.block([\n",
    "            [-Gamma[np.ix_(subregion_A, subregion_A)], -1j *\n",
    "             Gamma[np.ix_(subregion_A, subregion_B)]],\n",
    "            [-1j*Gamma[np.ix_(subregion_B, subregion_A)],\n",
    "             Gamma[np.ix_(subregion_B, subregion_B)]]\n",
    "        ])\n",
    "        idm = np.eye(Gm_p.shape[0])\n",
    "        # Gm_x=idm-(idm+1j*Gm_p)@nla.inv(idm-Gm_n@Gm_p)@(idm+1j*Gm_n)\n",
    "        Gm_x = idm-(idm+1j*Gm_p)@(la.solve((idm-Gm_n@Gm_p), (idm+1j*Gm_n)))\n",
    "        Gm_x = (Gm_x+Gm_x.T.conj())/2\n",
    "        xi = nla.eigvalsh(Gm_x)\n",
    "        subregion_AB = np.concatenate([subregion_A, subregion_B])\n",
    "        eA = np.sum(np.log(((1+xi+0j)/2)**0.5+((1-xi+0j)/2)**0.5))/2\n",
    "        chi = nla.eigvalsh(1j*Gamma[np.ix_(subregion_AB, subregion_AB)])\n",
    "        sA = np.sum(np.log(((1+chi)/2)**2+((1-chi)/2)**2))/4\n",
    "        self.eA=eA\n",
    "        self.sA=sA\n",
    "        return np.real(eA+sA)\n",
    "\n",
    "    def projection(self, s,type='onsite',ignore=False):\n",
    "        '''\n",
    "        For type:'onsite'\n",
    "            occupancy number: s= 0,1 \n",
    "            (-1)^0 even parity, (-1)^1 odd parity\n",
    "        For type:'link'\n",
    "            (o,+)|(o,-)|(e,+)|(e,-)\n",
    "        '''\n",
    "        if type=='onsite':\n",
    "            assert (s == 0 or s == 1), \"s={} is either 0 or 1\".format(s)\n",
    "            blkmat = np.array([[0, -(-1)**s, 0, 0],\n",
    "                            [(-1)**s, 0, 0, 0],\n",
    "                            [0, 0, 0, (-1)**s],\n",
    "                            [0, 0, -(-1)**s, 0]])\n",
    "            return blkmat\n",
    "        if type=='link':\n",
    "            assert (s in ['o+','o-','e+','e-']), \"s={} for {} is not defined\".format(s,type)\n",
    "            if s=='o+':\n",
    "                antidiag=[1,-1,1,-1]\n",
    "                blkmat=np.diag(antidiag)\n",
    "                blkmat=np.fliplr(blkmat)\n",
    "            if s=='o-':\n",
    "                antidiag=[-1,1,-1,1]\n",
    "                blkmat=np.diag(antidiag)\n",
    "                blkmat=np.fliplr(blkmat)\n",
    "            if not ignore:\n",
    "                if s=='e+':\n",
    "                    blkmat=np.array([[0,-1,0,0],\n",
    "                                    [1,0,0,0],\n",
    "                                    [0,0,0,-1],\n",
    "                                    [0,0,1,0]])\n",
    "                if s=='e-':\n",
    "                    blkmat=-np.array([[0,-1,0,0],\n",
    "                                    [1,0,0,0],\n",
    "                                    [0,0,0,-1],\n",
    "                                    [0,0,1,0]])\n",
    "            else:\n",
    "                if s=='e+':\n",
    "                    antidiag=[-1,-1,1,1]\n",
    "                    blkmat=np.diag(antidiag)\n",
    "                    blkmat=np.fliplr(blkmat)\n",
    "                if s=='e-':\n",
    "                    antidiag=[1,1,-1,-1]\n",
    "                    blkmat=np.diag(antidiag)\n",
    "                    blkmat=np.fliplr(blkmat)\n",
    "            proj=np.zeros((8,8))\n",
    "            proj[:4,:4]=blkmat\n",
    "            proj[4:,4:]=blkmat.T\n",
    "            return proj            \n",
    "        raise ValueError(\"type '{}' is not defined\".format(type))\n",
    "\n",
    "    def measure(self, s, ix,type='onsite',ignore=False):\n",
    "        if not hasattr(self, 'C_m'):\n",
    "            self.covariance_matrix()\n",
    "        if not hasattr(self, 's_history'):\n",
    "            self.s_history = []\n",
    "        if not hasattr(self, 'i_history'):\n",
    "            self.i_history = []\n",
    "\n",
    "        mat = self.C_m_history[-1].copy()\n",
    "\n",
    "        for i_ind, i in enumerate(ix):\n",
    "            mat[[i, -(len(ix)-i_ind)]] = mat[[-(len(ix)-i_ind), i]]\n",
    "            mat[:, [i, -(len(ix)-i_ind)]] = mat[:, [-(len(ix)-i_ind), i]]\n",
    "\n",
    "        self.mat = mat\n",
    "\n",
    "        Gamma_LL = mat[:-len(ix), :-len(ix)]\n",
    "        Gamma_LR = mat[:-len(ix), -len(ix):]\n",
    "        Gamma_RR = mat[-len(ix):, -len(ix):]\n",
    "\n",
    "        proj = self.projection(s,type=type,ignore=ignore)\n",
    "        Upsilon_LL = proj[:-len(ix), :-len(ix)]\n",
    "        Upsilon_RR = proj[-len(ix):, -len(ix):]\n",
    "        Upsilon_RL = proj[-len(ix):, :-len(ix)]\n",
    "        zero = np.zeros((mat.shape[0]-len(ix), len(ix)))\n",
    "        zero0 = np.zeros((len(ix), len(ix)))\n",
    "        mat1 = np.block([[Gamma_LL, zero], [zero.T, Upsilon_RR]])\n",
    "        mat2 = np.block([[Gamma_LR, zero], [zero0, Upsilon_RL]])\n",
    "        mat3 = np.block([[Gamma_RR, np.eye(len(ix))],\n",
    "                        [-np.eye(len(ix)), Upsilon_LL]])\n",
    "        self.mat2 = mat2\n",
    "        if np.count_nonzero(mat2):\n",
    "            Psi = mat1+mat2@(la.solve(mat3, mat2.T))\n",
    "            # Psi=mat1+mat2@(la.lstsq(mat3,mat2.T)[0])\n",
    "            assert np.abs(\n",
    "                np.trace(Psi)) < 1e-5, \"Not trace zero {:e}\".format(np.trace(Psi))\n",
    "        else:\n",
    "            Psi = mat1\n",
    "\n",
    "        for i_ind, i in enumerate(ix):\n",
    "            Psi[[i, -(len(ix)-i_ind)]] = Psi[[-(len(ix)-i_ind), i]]\n",
    "            Psi[:, [i, -(len(ix)-i_ind)]] = Psi[:, [-(len(ix)-i_ind), i]]\n",
    "        Psi = (Psi-Psi.T)/2   # Anti-symmetrize\n",
    "        if self.history:\n",
    "            self.C_m_history.append(Psi)\n",
    "            self.s_history.append(s)\n",
    "            self.i_history.append(ix[0])\n",
    "        else:\n",
    "            self.C_m_history = [Psi]\n",
    "            self.s_history = [s]\n",
    "            self.i_history = [ix[0]]\n",
    "\n",
    "    def measure_all_Born(self, proj_range,prob=None,linear=False,type='onsite',pool=4,ignore=False):\n",
    "        if not linear:\n",
    "            if type=='onsite':\n",
    "                proj_range = self.linearize_index(proj_range, 4, proj=True)\n",
    "            if type=='link':\n",
    "                proj_range = self.linearize_index(proj_range, 4, proj=True,k=4)\n",
    "        # self.proj_range=proj_range\n",
    "        # print(proj_range)\n",
    "        self.P_0_list = []\n",
    "        self.f_parity= []\n",
    "        if not hasattr(self, 'C_m'):\n",
    "            self.covariance_matrix()\n",
    "        if type=='onsite':\n",
    "            for index,i in enumerate(proj_range):\n",
    "                if prob is None:\n",
    "                    P_0 = (self.C_m_history[-1][i, i+1]+1)/2    # Use Born rule\n",
    "                else:\n",
    "                    if isinstance(prob,list):\n",
    "                        assert len(prob)==len(proj_range), \"len of prob {:d} not equal to len of proj_range {:d}\".format(len(prob),len(proj_range))\n",
    "                        P_0=prob[index]\n",
    "                    else:    \n",
    "                        P_0=prob\n",
    "                self.P_0_list.append(P_0)\n",
    "                if np.random.rand() < P_0:\n",
    "                    self.measure(0, [i, i+1])\n",
    "                    self.f_parity.append(0)\n",
    "                else:\n",
    "                    self.measure(1, [i, i+1])\n",
    "                    self.f_parity.append(1)\n",
    "            return self\n",
    "\n",
    "        if type=='link':\n",
    "            for i in proj_range:\n",
    "                Gamma=self.C_m_history[-1][i:i+4,i:i+4]\n",
    "                P={}\n",
    "                if prob is None:\n",
    "                    gamma1234=-Gamma[0,1]*Gamma[2,3]+Gamma[0,2]*Gamma[1,3]-Gamma[0,3]*Gamma[1,2]\n",
    "                    P['o+']=(1+Gamma[1,2]-Gamma[0,3]+gamma1234)/4\n",
    "                    P['o-']=(1-Gamma[1,2]+Gamma[0,3]+gamma1234)/4\n",
    "                    if not ignore:\n",
    "                        P['e+']=(1+Gamma[0,1]+Gamma[2,3]-gamma1234)/4\n",
    "                        P['e-']=(1-Gamma[0,1]-Gamma[2,3]-gamma1234)/4\n",
    "                    else:\n",
    "                        #ignore symmetry\n",
    "                        P['e+']=(1+Gamma[1,2]+Gamma[0,3]-gamma1234)/4\n",
    "                        P['e-']=(1-Gamma[1,2]-Gamma[0,3]-gamma1234)/4\n",
    "                else:\n",
    "                    P['o+'],P['o-'],P['e+'],P['e-']=tuple(prob)\n",
    "\n",
    "                # print((P.values()))\n",
    "                if pool==4:\n",
    "                    s=np.random.choice(['o+','o-','e+','e-'],p=[P['o+'],P['o-'],P['e+'],P['e-']])\n",
    "                elif pool==2:\n",
    "                    s=np.random.choice(['o+','o-'],p=[P['o+']/(P['o+']+P['o-']),P['o-']/(P['o+']+P['o-'])])\n",
    "                elif pool==-2:\n",
    "                    s=np.random.choice(['e+','e-'],p=[P['e+']/(P['e+']+P['e-']),P['e-']/(P['e+']+P['e-'])])\n",
    "                self.measure(s,[i,i+1,i+2,i+3],type='link',ignore=ignore)\n",
    "            return self\n",
    "\n",
    "    def fermion_number(self,proj_range,linear=False,type='C_m'):\n",
    "        if type=='C_m':\n",
    "            if not linear:\n",
    "                proj_range = self.linearize_index(proj_range, 4, proj=True)\n",
    "            return 1/2*(1-np.diagonal(self.C_m_history[-1],1)[proj_range]).sum()\n",
    "        if type=='C_f':\n",
    "            if not linear:\n",
    "                proj_range = self.linearize_index(proj_range, 2, proj=True,k=2)\n",
    "            return np.trace(self.C_f[proj_range])\n",
    "\n",
    "\n",
    "def cross_ratio(x,L):\n",
    "    if L<np.inf:\n",
    "        xx=lambda i,j: (np.sin(np.pi/(L)*np.abs(x[i]-x[j])))\n",
    "    else:\n",
    "        xx=lambda i,j: np.abs(x[i]-x[j])\n",
    "    eta=(xx(0,1)*xx(2,3))/(xx(0,2)*xx(1,3))\n",
    "    return eta"
   ],
   "outputs": [],
   "metadata": {}
  },
  {
   "cell_type": "markdown",
   "source": [
    "# Test"
   ],
   "metadata": {}
  },
  {
   "cell_type": "code",
   "execution_count": null,
   "source": [
    "params=Params(m=1,Lx=32,Ly=16,bcx=-1,bcy=1)\n",
    "params.covariance_matrix()"
   ],
   "outputs": [],
   "metadata": {}
  },
  {
   "cell_type": "code",
   "execution_count": null,
   "source": [
    "\n",
    "params.fermion_number([np.arange(params.Lx//4,params.Lx//2),np.arange(params.Ly)])"
   ],
   "outputs": [],
   "metadata": {}
  },
  {
   "cell_type": "code",
   "execution_count": null,
   "source": [
    "16*16/4"
   ],
   "outputs": [],
   "metadata": {}
  },
  {
   "cell_type": "code",
   "execution_count": null,
   "source": [
    "np.round(params.C_m[:4,:4],5)"
   ],
   "outputs": [],
   "metadata": {}
  },
  {
   "cell_type": "code",
   "execution_count": null,
   "source": [
    "params.measure_all_Born([params.])"
   ],
   "outputs": [],
   "metadata": {}
  },
  {
   "cell_type": "code",
   "execution_count": null,
   "source": [
    "params_inf=Params(m=1,dxmax=32,dymax=8,Lx=np.inf,Ly=np.inf,bcx=-1,bcy=1)\n",
    "params_inf.covariance_matrix()"
   ],
   "outputs": [],
   "metadata": {}
  },
  {
   "cell_type": "code",
   "execution_count": null,
   "source": [
    "print(np.round(params.C_m[0,:],10))"
   ],
   "outputs": [],
   "metadata": {}
  },
  {
   "cell_type": "code",
   "execution_count": null,
   "source": [
    "print(np.round(params_inf.C_m[0,:],10))"
   ],
   "outputs": [],
   "metadata": {}
  },
  {
   "cell_type": "code",
   "execution_count": null,
   "source": [
    "zz=params_inf.C_f[0,params_inf.linearize_index([np.arange(params_inf.dxmax),[0]],2)[::2]]"
   ],
   "outputs": [],
   "metadata": {}
  },
  {
   "cell_type": "code",
   "execution_count": null,
   "source": [
    "fig,ax=plt.subplots()\n",
    "ax.plot((np.real(zz)),'.')\n",
    "# ax.set_yscale('log')\n"
   ],
   "outputs": [],
   "metadata": {}
  },
  {
   "cell_type": "code",
   "execution_count": null,
   "source": [
    "zz[0]*np.exp(-1)"
   ],
   "outputs": [],
   "metadata": {}
  },
  {
   "cell_type": "code",
   "execution_count": null,
   "source": [
    "(np.real(zz))"
   ],
   "outputs": [],
   "metadata": {}
  },
  {
   "cell_type": "code",
   "execution_count": null,
   "source": [
    "isinstance([1,2,3],list)"
   ],
   "outputs": [],
   "metadata": {}
  },
  {
   "cell_type": "code",
   "execution_count": null,
   "source": [
    "Gmat_real_jl=np.loadtxt('Gmat_real.txt')"
   ],
   "outputs": [],
   "metadata": {}
  },
  {
   "cell_type": "code",
   "execution_count": null,
   "source": [
    "Gmat_imag_jl=np.loadtxt('Gmat_imag.txt')"
   ],
   "outputs": [],
   "metadata": {}
  },
  {
   "cell_type": "code",
   "execution_count": null,
   "source": [
    "np.abs(Gmat_imag_jl*1j+Gmat_real_jl-params.C_m).max()"
   ],
   "outputs": [],
   "metadata": {}
  },
  {
   "cell_type": "code",
   "execution_count": null,
   "source": [
    "np.round(np.real(params.C_f[:8,:8]),3)"
   ],
   "outputs": [],
   "metadata": {}
  },
  {
   "cell_type": "code",
   "execution_count": null,
   "source": [
    "params.C_m"
   ],
   "outputs": [],
   "metadata": {}
  },
  {
   "cell_type": "code",
   "execution_count": null,
   "source": [
    "print(np.round(params.hopxmat,0))"
   ],
   "outputs": [],
   "metadata": {}
  },
  {
   "cell_type": "code",
   "execution_count": null,
   "source": [
    "print(np.round(params.hopymat,0))"
   ],
   "outputs": [],
   "metadata": {}
  },
  {
   "cell_type": "code",
   "execution_count": null,
   "source": [
    "np.round(np.real(params.C_f[:8,:8]),3)"
   ],
   "outputs": [],
   "metadata": {}
  },
  {
   "cell_type": "code",
   "execution_count": null,
   "source": [
    "np.round(np.real(params.C_f[0,:]),3)"
   ],
   "outputs": [],
   "metadata": {}
  },
  {
   "cell_type": "code",
   "execution_count": null,
   "source": [
    "np.round(np.real(params.C_m[:8,:8]),3)"
   ],
   "outputs": [],
   "metadata": {}
  },
  {
   "cell_type": "code",
   "execution_count": null,
   "source": [
    "params.Hamiltonian"
   ],
   "outputs": [],
   "metadata": {}
  },
  {
   "cell_type": "code",
   "execution_count": null,
   "source": [
    "np.imag(params.Hamiltonian[:8,:8])"
   ],
   "outputs": [],
   "metadata": {}
  },
  {
   "cell_type": "code",
   "execution_count": null,
   "source": [
    "np.trace(params_L.C_f)"
   ],
   "outputs": [],
   "metadata": {}
  },
  {
   "cell_type": "code",
   "execution_count": null,
   "source": [
    "np.fft.fftshift(np.arange(8))"
   ],
   "outputs": [],
   "metadata": {}
  },
  {
   "cell_type": "code",
   "execution_count": null,
   "source": [
    "(-1)%8"
   ],
   "outputs": [],
   "metadata": {}
  },
  {
   "cell_type": "code",
   "execution_count": null,
   "source": [
    "[np.arange(params_L.Lx//4),np.arange(params_L.Ly)]"
   ],
   "outputs": [],
   "metadata": {}
  },
  {
   "cell_type": "code",
   "execution_count": null,
   "source": [
    "[np.arange(params_L.Lx//4)+params_L.Lx//2,np.arange(params_L.Ly)]"
   ],
   "outputs": [],
   "metadata": {}
  },
  {
   "cell_type": "code",
   "execution_count": null,
   "source": [
    "params_L.log_neg([np.arange(params_L.Lx//4),np.arange(params_L.Ly)],[np.arange(params_L.Lx//4)+params_L.Lx//2,np.arange(params_L.Ly)])"
   ],
   "outputs": [],
   "metadata": {}
  },
  {
   "cell_type": "code",
   "execution_count": null,
   "source": [
    "params_L.eA,params_L.sA"
   ],
   "outputs": [],
   "metadata": {}
  },
  {
   "cell_type": "code",
   "execution_count": null,
   "source": [
    "np.round(params_L.C_m[4:8,0:4],10)"
   ],
   "outputs": [],
   "metadata": {}
  },
  {
   "cell_type": "code",
   "execution_count": null,
   "source": [
    "params=Params(Lx=np.inf,Ly=np.inf,m=1,dxmax=32,dymax=8)"
   ],
   "outputs": [],
   "metadata": {}
  },
  {
   "cell_type": "code",
   "execution_count": null,
   "source": [
    "params.covariance_matrix()"
   ],
   "outputs": [],
   "metadata": {}
  },
  {
   "cell_type": "code",
   "execution_count": null,
   "source": [
    "np.trace(params.C_f)"
   ],
   "outputs": [],
   "metadata": {}
  },
  {
   "cell_type": "code",
   "execution_count": null,
   "source": [
    "[np.arange(params.dxmax//4),np.arange(params.dymax)]"
   ],
   "outputs": [],
   "metadata": {}
  },
  {
   "cell_type": "code",
   "execution_count": null,
   "source": [
    "[np.arange(params.dxmax//4)+params.dxmax//2,np.arange(params.dymax)]"
   ],
   "outputs": [],
   "metadata": {}
  },
  {
   "cell_type": "code",
   "execution_count": null,
   "source": [
    "params.log_neg([np.arange(params.dxmax//4),np.arange(params.dymax)],[np.arange(params.dxmax//4)+params.dxmax//2,np.arange(params.dymax)])"
   ],
   "outputs": [],
   "metadata": {}
  },
  {
   "cell_type": "code",
   "execution_count": null,
   "source": [
    "params.log_neg([np.arange(8),np.arange(params.dymax)],[np.arange(8)+16,np.arange(params.dymax)])"
   ],
   "outputs": [],
   "metadata": {}
  },
  {
   "cell_type": "code",
   "execution_count": null,
   "source": [
    "list(np.diag(np.round(params.C_m@params.C_m,10)))"
   ],
   "outputs": [],
   "metadata": {}
  },
  {
   "cell_type": "code",
   "execution_count": null,
   "source": [
    "np.round(params_L.C_m@params_L.C_m,10)[:4,:4]"
   ],
   "outputs": [],
   "metadata": {}
  },
  {
   "cell_type": "code",
   "execution_count": null,
   "source": [
    "np.round(params.C_m[4:8,0:4],10)"
   ],
   "outputs": [],
   "metadata": {}
  },
  {
   "cell_type": "code",
   "execution_count": null,
   "source": [
    "params.eA,params.A"
   ],
   "outputs": [],
   "metadata": {}
  },
  {
   "cell_type": "code",
   "execution_count": null,
   "source": [
    "np.imag(params_L.C_f).max()"
   ],
   "outputs": [],
   "metadata": {}
  },
  {
   "cell_type": "code",
   "execution_count": null,
   "source": [
    "np.round((params_L.C_f[156:158,76:78]),10)"
   ],
   "outputs": [],
   "metadata": {}
  },
  {
   "cell_type": "code",
   "execution_count": null,
   "source": [
    "np.round((params_L.C_f[80:82,0:2]),10)"
   ],
   "outputs": [],
   "metadata": {}
  },
  {
   "cell_type": "code",
   "execution_count": null,
   "source": [
    "np.round((params_L.C_f[64:66,0:2]),10)"
   ],
   "outputs": [],
   "metadata": {}
  },
  {
   "cell_type": "code",
   "execution_count": null,
   "source": [
    "params.correlation_matrix_inf_fft()"
   ],
   "outputs": [],
   "metadata": {}
  },
  {
   "cell_type": "code",
   "execution_count": null,
   "source": [
    "np.round(params.C_f[64:66,0:2],10)"
   ],
   "outputs": [],
   "metadata": {}
  },
  {
   "cell_type": "code",
   "execution_count": null,
   "source": [
    "(np.imag(params.C_f)).max()"
   ],
   "outputs": [],
   "metadata": {}
  },
  {
   "cell_type": "code",
   "execution_count": null,
   "source": [
    "(np.imag(params_L.C_f)).max()"
   ],
   "outputs": [],
   "metadata": {}
  },
  {
   "cell_type": "code",
   "execution_count": null,
   "source": [
    "params.covariance_matrix()"
   ],
   "outputs": [],
   "metadata": {}
  },
  {
   "cell_type": "code",
   "execution_count": null,
   "source": [
    "np.round((params.C_f[80:82,:2]),10)"
   ],
   "outputs": [],
   "metadata": {}
  },
  {
   "cell_type": "code",
   "execution_count": null,
   "source": [
    "np.round((params.C_f[156:158,76:78]),10)"
   ],
   "outputs": [],
   "metadata": {}
  },
  {
   "cell_type": "code",
   "execution_count": null,
   "source": [
    "np.where(np.imag(params_L.C_f)==np.imag(params_L.C_f).max())"
   ],
   "outputs": [],
   "metadata": {}
  },
  {
   "cell_type": "code",
   "execution_count": null,
   "source": [
    "params_L.C_f[0:2,32:34]"
   ],
   "outputs": [],
   "metadata": {}
  },
  {
   "cell_type": "code",
   "execution_count": null,
   "source": [
    "params_L.C_f[28:30,60:62]"
   ],
   "outputs": [],
   "metadata": {}
  },
  {
   "cell_type": "code",
   "execution_count": null,
   "source": [
    "print(params_L.C_f[6:8,0:2])"
   ],
   "outputs": [],
   "metadata": {}
  },
  {
   "cell_type": "code",
   "execution_count": null,
   "source": [
    "print(params_L.C_f[32:34,0:2])"
   ],
   "outputs": [],
   "metadata": {}
  },
  {
   "cell_type": "code",
   "execution_count": null,
   "source": [
    "17//8"
   ],
   "outputs": [],
   "metadata": {}
  },
  {
   "cell_type": "code",
   "execution_count": null,
   "source": [
    "print(params_L.C_f[34:36,0:2])"
   ],
   "outputs": [],
   "metadata": {}
  },
  {
   "cell_type": "code",
   "execution_count": null,
   "source": [
    "np.array([[A11[1,2],A12[1,2]],[A21[1,2],A22[1,2]]])"
   ],
   "outputs": [],
   "metadata": {}
  },
  {
   "cell_type": "code",
   "execution_count": null,
   "source": [
    "print(params_L.C_f[2:4,0:2])"
   ],
   "outputs": [],
   "metadata": {}
  },
  {
   "cell_type": "code",
   "execution_count": null,
   "source": [
    "np.array([[A11[1,0],A12[1,0]],[A21[1,0],A22[1,0]]])"
   ],
   "outputs": [],
   "metadata": {}
  },
  {
   "cell_type": "code",
   "execution_count": null,
   "source": [
    "zz[:,:,1,0]"
   ],
   "outputs": [],
   "metadata": {}
  },
  {
   "cell_type": "code",
   "execution_count": null,
   "source": [
    "zz=np.stack([[A11,A12],[A21,A22]])"
   ],
   "outputs": [],
   "metadata": {}
  },
  {
   "cell_type": "code",
   "execution_count": null,
   "source": [
    "A11[0,1],A12[0,1],A21[0,1],A22[0,1]"
   ],
   "outputs": [],
   "metadata": {}
  },
  {
   "cell_type": "code",
   "execution_count": null,
   "source": [
    "A12[1,0]"
   ],
   "outputs": [],
   "metadata": {}
  },
  {
   "cell_type": "code",
   "execution_count": null,
   "source": [],
   "outputs": [],
   "metadata": {}
  },
  {
   "cell_type": "code",
   "execution_count": null,
   "source": [],
   "outputs": [],
   "metadata": {}
  },
  {
   "cell_type": "code",
   "execution_count": null,
   "source": [
    "np.imag(params.C_f)"
   ],
   "outputs": [],
   "metadata": {}
  },
  {
   "cell_type": "code",
   "execution_count": null,
   "source": [
    "print(np.round(np.real(params.C_m@params.C_m),9))"
   ],
   "outputs": [],
   "metadata": {}
  },
  {
   "cell_type": "code",
   "execution_count": null,
   "source": [
    "params=Params(Lx=64,Ly=4,m=1.,history=True)\n",
    "proj_range_0=params.linearize_index([np.arange(params.Lx//4,3*params.Lx//8),np.arange(0,params.Ly)],4,proj=True,k=4)\n",
    "proj_range_1=params.linearize_index([np.arange(3*params.Lx//8,3*params.Lx//8+1),np.arange(0,params.Ly)],4,proj=True,k=4)\n",
    "proj_range_2=params.linearize_index([np.arange(3*params.Lx//8+1,params.Lx//2),np.arange(0,params.Ly)],4,proj=True,k=4)\n",
    "params.measure_all_Born(proj_range_0,type='link',prob=[1,0,0,0],linear=True)\n",
    "params.measure_all_Born(proj_range_1,type='link',pool=-2,linear=True)\n",
    "params.measure_all_Born(proj_range_2,type='link',prob=[1,0,0,0],linear=True)\n",
    "# params.measure_all_Born(proj_range_0[len(proj_range_0)//2:len(proj_range_0)//2+1],type='link',prob=[0,0,1,0],linear=True)\n",
    "# params.measure_all_Born(proj_range_1,type='link',linear=True)\n",
    "(params.log_neg([np.arange(params.Lx//4),np.arange(params.Ly)],[np.arange(params.Lx//4)+params.Lx//2,np.arange(params.Ly)]))"
   ],
   "outputs": [],
   "metadata": {}
  },
  {
   "cell_type": "code",
   "execution_count": null,
   "source": [
    "params.fermion_number()"
   ],
   "outputs": [],
   "metadata": {}
  },
  {
   "cell_type": "code",
   "execution_count": null,
   "source": [
    "params.mutual_information_m([np.arange(Lx//4),np.arange(Ly)],[np.arange(Lx//4)+Lx//2,np.arange(Ly)])"
   ],
   "outputs": [],
   "metadata": {}
  },
  {
   "cell_type": "code",
   "execution_count": null,
   "source": [
    "params=Params(Lx=64,Ly=4,m=1,history=True)\n",
    "proj_range_0=params.linearize_index([np.arange(params.Lx//4)+params.Lx//4,np.arange(0,params.Ly)],4,proj=True,k=4)\n",
    "proj_range_1=params.linearize_index([np.arange(params.Lx//4)+3*params.Lx//4,np.arange(0,params.Ly)],4,proj=True,k=4)\n",
    "params.measure_all_Born(proj_range_0,type='link',linear=True,ignore=False)\n",
    "params.measure_all_Born(proj_range_1,type='link',linear=True,ignore=False)\n",
    "# params.measure_all_Born(proj_range_1,type='link',prob=[1,0,0,0],linear=True)\n",
    "(params.log_neg([np.arange(params.Lx//4),np.arange(params.Ly)],[np.arange(params.Lx//4)+params.Lx//2,np.arange(params.Ly)]))"
   ],
   "outputs": [],
   "metadata": {}
  },
  {
   "cell_type": "code",
   "execution_count": null,
   "source": [
    "params.fermion_number([np.arange(params.Lx),np.arange(params.Ly)])"
   ],
   "outputs": [],
   "metadata": {}
  },
  {
   "cell_type": "code",
   "execution_count": null,
   "source": [
    "params=Params(Lx=64,Ly=4,m=-1.2,history=True)\n",
    "proj_range=params.linearize_index([np.arange(params.Lx//4,params.Lx//2),np.arange(0,params.Ly)],4,proj=True,k=2)\n",
    "prob_list=[(1-(-1)**i)/2 for i,x in enumerate(proj_range)]\n",
    "params.measure_all_Born(proj_range_0,type='onsite',prob=prob_list,linear=True)\n",
    "(params.log_neg([np.arange(params.Lx//4),np.arange(params.Ly)],[np.arange(params.Lx//4)+params.Lx//2,np.arange(params.Ly)]))"
   ],
   "outputs": [],
   "metadata": {}
  },
  {
   "cell_type": "code",
   "execution_count": null,
   "source": [
    "params.C_m_history[-1][proj_range[0]:proj_range[0]+4,proj_range[0]:proj_range[0]+4]"
   ],
   "outputs": [],
   "metadata": {}
  },
  {
   "cell_type": "code",
   "execution_count": null,
   "source": [
    "params.measure_all_Born(proj_range[-1:],type='link',prob=[0,1,0,0],linear=True)"
   ],
   "outputs": [],
   "metadata": {}
  },
  {
   "cell_type": "code",
   "execution_count": null,
   "source": [
    "np.round(params.C_m_history[-1][proj_range[-2]:proj_range[-2]+8,proj_range[-2]:proj_range[-2]+8],3)"
   ],
   "outputs": [],
   "metadata": {}
  },
  {
   "cell_type": "code",
   "execution_count": null,
   "source": [
    "(params.log_neg([np.arange(params.Lx//4),np.arange(params.Ly)],[np.arange(params.Lx//4)+params.Lx//2,np.arange(params.Ly)]))"
   ],
   "outputs": [],
   "metadata": {}
  },
  {
   "cell_type": "code",
   "execution_count": null,
   "source": [
    "(params.mutual_information_m([np.arange(params.Lx//4),np.arange(params.Ly)],[np.arange(params.Lx//4)+params.Lx//2,np.arange(params.Ly)]))\n"
   ],
   "outputs": [],
   "metadata": {}
  },
  {
   "cell_type": "code",
   "execution_count": null,
   "source": [
    "params.s_history"
   ],
   "outputs": [],
   "metadata": {}
  },
  {
   "cell_type": "code",
   "execution_count": null,
   "source": [
    "print(params.mutual_information_m([np.arange(params.Lx//4),np.arange(params.Ly)],[np.arange(params.Lx//4)+params.Lx//2,np.arange(params.Ly)]))\n",
    "# print(params.mutual_information_f([np.arange(params.Lx//4),np.arange(params.Ly)],[np.arange(params.Lx//4)+params.Lx//2,np.arange(params.Ly)]))\n",
    "\n"
   ],
   "outputs": [],
   "metadata": {}
  },
  {
   "cell_type": "code",
   "execution_count": null,
   "source": [
    "sum(params.f_parity)"
   ],
   "outputs": [],
   "metadata": {}
  },
  {
   "cell_type": "code",
   "execution_count": null,
   "source": [
    "np.round((params.C_m_history)[0][16:24,16:24],2)"
   ],
   "outputs": [],
   "metadata": {}
  },
  {
   "cell_type": "code",
   "execution_count": null,
   "source": [
    "np.round((params.C_m_history)[1][16:24,16:24],2)"
   ],
   "outputs": [],
   "metadata": {}
  },
  {
   "cell_type": "code",
   "execution_count": null,
   "source": [
    "np.round((params.C_m_history)[2][16:24,16:24],2)"
   ],
   "outputs": [],
   "metadata": {}
  },
  {
   "cell_type": "code",
   "execution_count": null,
   "source": [
    "params.i_history"
   ],
   "outputs": [],
   "metadata": {}
  },
  {
   "cell_type": "code",
   "execution_count": null,
   "source": [
    "params.s_history"
   ],
   "outputs": [],
   "metadata": {}
  },
  {
   "cell_type": "code",
   "execution_count": null,
   "source": [
    "params.P_0_list"
   ],
   "outputs": [],
   "metadata": {}
  },
  {
   "cell_type": "code",
   "execution_count": null,
   "source": [
    "params.von_Neumann_entropy_f([np.arange(params.Lx//4),np.arange(params.Ly)])"
   ],
   "outputs": [],
   "metadata": {}
  },
  {
   "cell_type": "code",
   "execution_count": null,
   "source": [
    "params.von_Neumann_entropy_m([np.arange(params.Lx//4),np.arange(params.Ly)])"
   ],
   "outputs": [],
   "metadata": {}
  },
  {
   "cell_type": "code",
   "execution_count": null,
   "source": [
    "(params.mutual_information_f([np.arange(params.Lx//4),np.arange(params.Ly)],[np.arange(params.Lx//4)+params.Lx//2,np.arange(params.Ly)]))\n"
   ],
   "outputs": [],
   "metadata": {}
  },
  {
   "cell_type": "code",
   "execution_count": null,
   "source": [
    "(params.mutual_information_m([np.arange(params.Lx//4),np.arange(params.Ly)],[np.arange(params.Lx//4)+params.Lx//2,np.arange(params.Ly)]))\n"
   ],
   "outputs": [],
   "metadata": {}
  },
  {
   "cell_type": "code",
   "execution_count": null,
   "source": [
    "params.measure_all_Born([np.arange(params.Lx//4)+params.Lx//4,np.arange(params.Ly)],1)"
   ],
   "outputs": [],
   "metadata": {}
  },
  {
   "cell_type": "code",
   "execution_count": null,
   "source": [
    "(params.log_neg([np.arange(params.Lx//4),np.arange(params.Ly)],[np.arange(params.Lx//4)+params.Lx//2,np.arange(params.Ly)]))\n"
   ],
   "outputs": [],
   "metadata": {}
  },
  {
   "cell_type": "code",
   "execution_count": null,
   "source": [
    "params.von_Neumann_entropy_f([[0,1],np.arange(params.Ly)])"
   ],
   "outputs": [],
   "metadata": {}
  },
  {
   "cell_type": "code",
   "execution_count": null,
   "source": [
    "params.von_Neumann_entropy_m([[0,1],np.arange(params.Ly)])"
   ],
   "outputs": [],
   "metadata": {}
  },
  {
   "cell_type": "code",
   "execution_count": null,
   "source": [
    "params.mutual_information_f([[0,1],np.arange(params.Ly)],[[2,3],np.arange(params.Ly)])"
   ],
   "outputs": [],
   "metadata": {}
  },
  {
   "cell_type": "code",
   "execution_count": null,
   "source": [
    "params.mutual_information_m([[0,1],np.arange(params.Ly)],[[2,3],np.arange(params.Ly)])"
   ],
   "outputs": [],
   "metadata": {}
  },
  {
   "cell_type": "code",
   "execution_count": null,
   "source": [
    "params.log_neg([[0,1],np.arange(params.Ly)],[[16,17],np.arange(params.Ly)])"
   ],
   "outputs": [],
   "metadata": {}
  },
  {
   "cell_type": "markdown",
   "source": [
    "# Bandstructrue"
   ],
   "metadata": {}
  },
  {
   "cell_type": "code",
   "execution_count": null,
   "source": [
    "m_list=np.linspace(0,3)\n",
    "eigval_pbc_list=[]\n",
    "for m in m_list:\n",
    "    params=Params(m=m,bcx=1,bcy=1,Lx=16,Ly=16,Delta=1)\n",
    "    params.bandstructure()\n",
    "    eigval_pbc_list.append(params.val)\n"
   ],
   "outputs": [],
   "metadata": {}
  },
  {
   "cell_type": "code",
   "execution_count": null,
   "source": [
    "m_list=np.linspace(0,3)\n",
    "eigval_apbc_list=[]\n",
    "for m in m_list:\n",
    "    params=Params(m=m,bcx=-1,bcy=1,Lx=16,Ly=16,Delta=1)\n",
    "    params.bandstructure()\n",
    "    eigval_apbc_list.append(params.val)\n"
   ],
   "outputs": [],
   "metadata": {}
  },
  {
   "cell_type": "code",
   "execution_count": null,
   "source": [
    "func=lambda kx,ky,m,t,Delta:np.sqrt((t*np.sin(kx))**2+(t*np.sin(ky))**2+(m-Delta*np.cos(kx)-Delta*np.cos(ky))**2)"
   ],
   "outputs": [],
   "metadata": {}
  },
  {
   "cell_type": "code",
   "execution_count": null,
   "source": [
    "KX,KY=np.meshgrid(np.linspace(-np.pi,np.pi),np.linspace(-np.pi,np.pi))"
   ],
   "outputs": [],
   "metadata": {}
  },
  {
   "cell_type": "code",
   "execution_count": null,
   "source": [
    "en_max=[]\n",
    "en_min=[]\n",
    "for m in m_list:\n",
    "    en=func(KX,KY,m,1,1)\n",
    "    en_max.append(en.max())\n",
    "    en_min.append(en.min())"
   ],
   "outputs": [],
   "metadata": {}
  },
  {
   "cell_type": "code",
   "execution_count": null,
   "source": [
    "fig,ax=plt.subplots(1,2,sharey=True,sharex=True,tight_layout=True)\n",
    "ax[0].plot(m_list,eigval_apbc_list,'c',lw=0.5)\n",
    "ax[1].plot(m_list,eigval_pbc_list,'c',lw=0.5)\n",
    "ax[0].set_xlabel(r'm')\n",
    "ax[0].set_ylabel(r'Energy')\n",
    "ax[1].plot(m_list,en_min,'r',lw=3)\n",
    "ax[1].plot(m_list,en_max,'r',lw=3)\n",
    "ax[0].margins(x=0)\n",
    "ax[0].set_title('x: APBC, y: PBC')\n",
    "ax[1].set_title('x,y: PBC')\n",
    "fig.savefig('/mnt/d/kitp/Rp_SPT/8/bs.pdf',bbox_inches='tight')"
   ],
   "outputs": [],
   "metadata": {}
  },
  {
   "cell_type": "markdown",
   "source": [
    "# No measurement"
   ],
   "metadata": {}
  },
  {
   "cell_type": "markdown",
   "source": [
    "## finite"
   ],
   "metadata": {}
  },
  {
   "cell_type": "code",
   "execution_count": 4,
   "source": [
    "# m_list=(lambda x:(x-2)**3+2 )(np.linspace(1,3,40))\n",
    "m_list=np.linspace(-4,4,20)\n",
    "LN_no_list=[]\n",
    "MI_no_list=[]\n",
    "Lx,Ly=64,4\n",
    "for m in m_list:\n",
    "    params=Params(m=m,Lx=Lx,Ly=Ly)\n",
    "    MI_no_list.append(params.mutual_information_m([np.arange(params.Lx//4),np.arange(params.Ly)],[np.arange(params.Lx//4)+params.Lx//2,np.arange(params.Ly)]))\n",
    "    LN_no_list.append(params.log_neg([np.arange(params.Lx//4),np.arange(params.Ly)],[np.arange(params.Lx//4)+params.Lx//2,np.arange(params.Ly)]))\n"
   ],
   "outputs": [],
   "metadata": {}
  },
  {
   "cell_type": "code",
   "execution_count": 5,
   "source": [
    "fig,ax=plt.subplots()\n",
    "ax.plot(m_list,LN_no_list/np.log(2),'.-',label='LN')\n",
    "ax.plot(m_list,MI_no_list/np.log(2),'.-',label='MI')\n",
    "ax.legend()\n",
    "ax.set_xlabel('m')\n",
    "ax.grid('on')\n",
    "ax.set_ylabel('[log(2)]')\n",
    "ax.set_title('Finite system')\n",
    "# fig.savefig('/mnt/d/kitp/Rp_SPT/8/LN_CI_no_Lx{:d}_Ly{:d}.pdf'.format(Lx,Ly),bbox_inches='tight')"
   ],
   "outputs": [
    {
     "output_type": "execute_result",
     "data": {
      "text/plain": [
       "Text(0.5, 1.0, 'Finite system')"
      ]
     },
     "metadata": {},
     "execution_count": 5
    },
    {
     "output_type": "display_data",
     "data": {
      "text/plain": [
       "<Figure size 489.6x288 with 1 Axes>"
      ],
      "image/png": "[encoded data removed]"
     },
     "metadata": {
      "needs_background": "light"
     }
    }
   ],
   "metadata": {}
  },
  {
   "cell_type": "markdown",
   "source": [
    "## Inf"
   ],
   "metadata": {}
  },
  {
   "cell_type": "code",
   "execution_count": null,
   "source": [
    "# m_list=np.linspace(1,3,20)\n",
    "m_list=(lambda x:(x-2)**3+2 )(np.linspace(1,3,20))\n",
    "LN_no_inf_list=[]\n",
    "MI_no_inf_list=[]\n",
    "for m in m_list:\n",
    "    params=Params(m=m,Lx=np.inf,Ly=np.inf,dxmax=32,dymax=8)\n",
    "    MI_no_inf_list.append(params.mutual_information_m([np.arange(params.dxmax//4),np.arange(params.dymax)],[np.arange(params.dxmax//4)+params.dxmax//2,np.arange(params.dymax)]))\n",
    "    LN_no_inf_list.append(params.log_neg([np.arange(params.dxmax//4),np.arange(params.dymax)],[np.arange(params.dxmax//4)+params.dxmax//2,np.arange(params.dymax)]))"
   ],
   "outputs": [],
   "metadata": {}
  },
  {
   "cell_type": "code",
   "execution_count": null,
   "source": [
    "fig,ax=plt.subplots()\n",
    "ax.plot(m_list,LN_no_inf_list,'.-',label='LN')\n",
    "ax.plot(m_list,MI_no_inf_list,'.-',label='MI')\n",
    "ax.legend()\n",
    "ax.set_xlabel('m')\n",
    "ax.set_title('Infinite system')\n",
    "# fig.savefig('/mnt/d/kitp/Rp_SPT/8/LN_CI_no_inf_Lx{:d}_Ly{:d}.pdf'.format(Lx,Ly),bbox_inches='tight')\n"
   ],
   "outputs": [],
   "metadata": {}
  },
  {
   "cell_type": "markdown",
   "source": [
    "# Measure to 0"
   ],
   "metadata": {}
  },
  {
   "cell_type": "code",
   "execution_count": 6,
   "source": [
    "m_list=np.linspace(1,3,20)\n",
    "es=1\n",
    "LN_empty_list=np.zeros((len(m_list),es))\n",
    "MI_empty_list=np.zeros((len(m_list),es))\n",
    "Lx,Ly=16,4\n",
    "for m_i,m in enumerate(m_list):\n",
    "    # st=time.time()\n",
    "    # Serial\n",
    "    params0=Params(m=m,Lx=Lx,Ly=Ly)\n",
    "    for es_i in range(es):\n",
    "        params=copy(params0)\n",
    "        params.measure_all_Born([np.arange(params.Lx//4,params.Lx//2),np.arange(params.Ly)],0)\n",
    "        MI_empty_list[m_i,es_i]=params.mutual_information_m([np.arange(params.Lx//4),np.arange(params.Ly)],[np.arange(params.Lx//4)+params.Lx//2,np.arange(params.Ly)])\n",
    "        LN_empty_list[m_i,es_i]=params.log_neg([np.arange(params.Lx//4),np.arange(params.Ly)],[np.arange(params.Lx//4)+params.Lx//2,np.arange(params.Ly)])\n",
    "\n",
    "    # # Parallel\n",
    "    # async_result=rc[:].map_sync((lambda p:Params(m=p[0],Lx=p[1],Ly=p[2]).measure_all_Born([np.arange(p[1]//4,p[1]//2),np.arange(p[2])]).log_neg([np.arange(p[1]//4),np.arange(p[2])],[np.arange(p[1]//4)+p[1]//2,np.arange(p[2])])),[(m,Lx,Ly) for _ in range(es)])\n",
    "    # LN_empty_list[m_i,:]=async_result \n",
    "\n",
    "    # print('{:d}:{:.1f}'.format(m_i,time.time()-st))\n"
   ],
   "outputs": [],
   "metadata": {}
  },
  {
   "cell_type": "code",
   "execution_count": 7,
   "source": [
    "plt.plot(m_list,LN_empty_list)\n",
    "plt.plot(m_list,MI_empty_list)"
   ],
   "outputs": [
    {
     "output_type": "execute_result",
     "data": {
      "text/plain": [
       "[<matplotlib.lines.Line2D at 0x7fd62f698460>]"
      ]
     },
     "metadata": {},
     "execution_count": 7
    },
    {
     "output_type": "display_data",
     "data": {
      "text/plain": [
       "<Figure size 489.6x288 with 1 Axes>"
      ],
      "image/png": "[encoded data removed]"
     },
     "metadata": {
      "needs_background": "light"
     }
    }
   ],
   "metadata": {}
  },
  {
   "cell_type": "markdown",
   "source": [
    "# Measure to 0.5"
   ],
   "metadata": {}
  },
  {
   "cell_type": "code",
   "execution_count": null,
   "source": [
    "m_list=np.linspace(1,3,20)\n",
    "es=50\n",
    "LN_half_list=np.zeros((len(m_list),es))\n",
    "MI_half_list=np.zeros((len(m_list),es))\n",
    "Lx,Ly=16,8\n",
    "for m_i,m in enumerate(m_list):\n",
    "    st=time.time()\n",
    "    # Serial\n",
    "    params0=Params(m=m,Lx=16,Ly=8)\n",
    "    for es_i in range(es):\n",
    "        params=copy(params0)\n",
    "        params.measure_all_Born([np.arange(params.Lx//4,params.Lx//2),np.arange(params.Ly)],0.5)\n",
    "        # MI_half_list[m_i,es_i]=params.mutual_information_m([np.arange(params.Lx//4),np.arange(params.Ly)],[np.arange(params.Lx//4)+params.Lx//2,np.arange(params.Ly)])\n",
    "        LN_half_list[m_i,es_i]=params.log_neg([np.arange(params.Lx//4),np.arange(params.Ly)],[np.arange(params.Lx//4)+params.Lx//2,np.arange(params.Ly)])\n",
    "\n",
    "    #  # Parallel\n",
    "    # async_result=rc[:].map_sync((lambda p:Params(m=p[0],Lx=p[1],Ly=p[2]).measure_all_Born([np.arange(p[1]//4,p[1]//2),np.arange(p[2])],0.5).log_neg([np.arange(p[1]//4),np.arange(p[2])],[np.arange(p[1]//4)+p[1]//2,np.arange(p[2])])),[(m,Lx,Ly) for _ in range(es)])\n",
    "    # LN_half_list[m_i,:]=async_result \n",
    "\n",
    "    print('{:d}:{:.1f}'.format(m_i,time.time()-st))\n"
   ],
   "outputs": [],
   "metadata": {}
  },
  {
   "cell_type": "code",
   "execution_count": null,
   "source": [
    "plt.plot(m_list,LN_half_list.mean(axis=1))\n",
    "# plt.plot(m_list,LN_empty_list)"
   ],
   "outputs": [],
   "metadata": {}
  },
  {
   "cell_type": "markdown",
   "source": [
    "# Measure to 1"
   ],
   "metadata": {}
  },
  {
   "cell_type": "code",
   "execution_count": 23,
   "source": [
    "m_list=np.linspace(1,3,20)\n",
    "es=1\n",
    "LN_occ_list=np.zeros((len(m_list),es))\n",
    "MI_occ_list=np.zeros((len(m_list),es))\n",
    "Lx,Ly=16,8\n",
    "for m_i,m in enumerate(m_list):\n",
    "    st=time.time()\n",
    "    # Serial\n",
    "    params0=Params(m=m,Lx=Lx,Ly=Ly)\n",
    "    for es_i in range(es):\n",
    "        params=copy(params0)\n",
    "        params.measure_all_Born([np.arange(params.Lx//4,params.Lx//2),np.arange(params.Ly)],1)\n",
    "        MI_occ_list[m_i,es_i]=params.mutual_information_m([np.arange(params.Lx//4),np.arange(params.Ly)],[np.arange(params.Lx//4)+params.Lx//2,np.arange(params.Ly)])\n",
    "        LN_occ_list[m_i,es_i]=params.log_neg([np.arange(params.Lx//4),np.arange(params.Ly)],[np.arange(params.Lx//4)+params.Lx//2,np.arange(params.Ly)])\n",
    "\n",
    "    # # Parallel\n",
    "    # async_result=rc[:].map_sync((lambda p:Params(m=p[0],Lx=p[1],Ly=p[2]).measure_all_Born([np.arange(p[1]//4,p[1]//2),np.arange(p[2])]).log_neg([np.arange(p[1]//4),np.arange(p[2])],[np.arange(p[1]//4)+p[1]//2,np.arange(p[2])])),[(m,Lx,Ly) for _ in range(es)])\n",
    "    # LN_occ_list[m_i,:]=async_result \n",
    "\n",
    "    # print('{:d}:{:.1f}'.format(m_i,time.time()-st))\n"
   ],
   "outputs": [
    {
     "output_type": "stream",
     "name": "stderr",
     "text": [
      "<ipython-input-21-450f7102a9e6>:401: LinAlgWarning: Ill-conditioned matrix (rcond=8.32667e-17): result may not be accurate.\n",
      "  Psi = mat1+mat2@(la.solve(mat3, mat2.T))\n"
     ]
    }
   ],
   "metadata": {}
  },
  {
   "cell_type": "code",
   "execution_count": 24,
   "source": [
    "plt.plot(m_list,LN_occ_list)\n",
    "# plt.plot(m_list,LN_empty_list)"
   ],
   "outputs": [
    {
     "output_type": "execute_result",
     "data": {
      "text/plain": [
       "[<matplotlib.lines.Line2D at 0x7fd62f648550>]"
      ]
     },
     "metadata": {},
     "execution_count": 24
    },
    {
     "output_type": "display_data",
     "data": {
      "text/plain": [
       "<Figure size 489.6x288 with 1 Axes>"
      ],
      "image/png": "[encoded data removed]"
     },
     "metadata": {
      "needs_background": "light"
     }
    }
   ],
   "metadata": {}
  },
  {
   "cell_type": "code",
   "execution_count": 79,
   "source": [
    "# prob=list(np.random.permutation([1,0]*(params.Lx//4*params.Ly)))\n",
    "# prob=([1,0]*(params.Lx//4*params.Ly))\n",
    "prob=([0,1]*(params.Lx//4*params.Ly))"
   ],
   "outputs": [],
   "metadata": {}
  },
  {
   "cell_type": "code",
   "execution_count": 72,
   "source": [
    "params=Params(m=3,Lx=Lx,Ly=Ly)"
   ],
   "outputs": [],
   "metadata": {}
  },
  {
   "cell_type": "code",
   "execution_count": 74,
   "source": [
    "params.covariance_matrix()"
   ],
   "outputs": [],
   "metadata": {}
  },
  {
   "cell_type": "code",
   "execution_count": 80,
   "source": [
    "m_list=np.linspace(1,3,20)\n",
    "# m_list=-np.linspace(1,3,20)\n",
    "es=1\n",
    "LN_pn_list=np.zeros((len(m_list),es))\n",
    "MI_pn_list=np.zeros((len(m_list),es))\n",
    "Lx,Ly=64,4\n",
    "for m_i,m in enumerate(m_list):\n",
    "    st=time.time()\n",
    "    # Serial\n",
    "    params0=Params(m=m,Lx=Lx,Ly=Ly)\n",
    "    for es_i in range(es):\n",
    "        params=copy(params0)\n",
    "        params.measure_all_Born([np.arange(params.Lx//4,params.Lx//2),np.arange(params.Ly)],prob=prob)\n",
    "        MI_pn_list[m_i,es_i]=params.mutual_information_m([np.arange(params.Lx//4),np.arange(params.Ly)],[np.arange(params.Lx//4)+params.Lx//2,np.arange(params.Ly)])\n",
    "        LN_pn_list[m_i,es_i]=params.log_neg([np.arange(params.Lx//4),np.arange(params.Ly)],[np.arange(params.Lx//4)+params.Lx//2,np.arange(params.Ly)])\n",
    "\n",
    "    # # Parallel\n",
    "    # async_result=rc[:].map_sync((lambda p:Params(m=p[0],Lx=p[1],Ly=p[2]).measure_all_Born([np.arange(p[1]//4,p[1]//2),np.arange(p[2])]).log_neg([np.arange(p[1]//4),np.arange(p[2])],[np.arange(p[1]//4)+p[1]//2,np.arange(p[2])])),[(m,Lx,Ly) for _ in range(es)])\n",
    "    # LN_pn_list[m_i,:]=async_result \n",
    "\n",
    "    # print('{:d}:{:.1f}'.format(m_i,time.time()-st))\n"
   ],
   "outputs": [],
   "metadata": {}
  },
  {
   "cell_type": "code",
   "execution_count": null,
   "source": [
    "# Satisfies Born rule with post selection of half-filling?"
   ],
   "outputs": [],
   "metadata": {}
  },
  {
   "cell_type": "code",
   "execution_count": 90,
   "source": [
    "# plt.plot(m_list,LN_pn_list_L64/np.log(2),'r')\n",
    "plt.plot(m_list,MI_pn_list_L64/np.log(2),'r')\n",
    "# plt.plot(m_list,LN_pn_list_L128/np.log(2))\n",
    "plt.plot(m_list,MI_pn_list_L128/np.log(2),'b')"
   ],
   "outputs": [
    {
     "output_type": "execute_result",
     "data": {
      "text/plain": [
       "[<matplotlib.lines.Line2D at 0x7fd62c496310>]"
      ]
     },
     "metadata": {},
     "execution_count": 90
    },
    {
     "output_type": "display_data",
     "data": {
      "text/plain": [
       "<Figure size 489.6x288 with 1 Axes>"
      ],
      "image/png": "[encoded data removed]"
     },
     "metadata": {
      "needs_background": "light"
     }
    }
   ],
   "metadata": {}
  },
  {
   "cell_type": "code",
   "execution_count": 86,
   "source": [
    "m_list=np.linspace(-3,3,20)\n",
    "# m_list=-np.linspace(1,3,20)\n",
    "es=1\n",
    "LN_pn_list_L128=np.zeros((len(m_list),es))\n",
    "MI_pn_list_L128=np.zeros((len(m_list),es))\n",
    "Lx,Ly=128,4\n",
    "for m_i,m in enumerate(m_list):\n",
    "    st=time.time()\n",
    "    # Serial\n",
    "    params0=Params(m=m,Lx=Lx,Ly=Ly)\n",
    "    for es_i in range(es):\n",
    "        params=copy(params0)\n",
    "        params.measure_all_Born([np.arange(params.Lx//4,params.Lx//2),np.arange(params.Ly)],prob=([0,1]*(params.Lx//4*params.Ly)))\n",
    "        MI_pn_list_L128[m_i,es_i]=params.mutual_information_m([np.arange(params.Lx//4),np.arange(params.Ly)],[np.arange(params.Lx//4)+params.Lx//2,np.arange(params.Ly)])\n",
    "        LN_pn_list_L128[m_i,es_i]=params.log_neg([np.arange(params.Lx//4),np.arange(params.Ly)],[np.arange(params.Lx//4)+params.Lx//2,np.arange(params.Ly)])\n"
   ],
   "outputs": [],
   "metadata": {}
  },
  {
   "cell_type": "code",
   "execution_count": 88,
   "source": [
    "m_list=np.linspace(-3,3,20)\n",
    "# m_list=-np.linspace(1,3,20)\n",
    "es=1\n",
    "LN_pn_list_L64=np.zeros((len(m_list),es))\n",
    "MI_pn_list_L64=np.zeros((len(m_list),es))\n",
    "Lx,Ly=64,4\n",
    "for m_i,m in enumerate(m_list):\n",
    "    st=time.time()\n",
    "    # Serial\n",
    "    params0=Params(m=m,Lx=Lx,Ly=Ly)\n",
    "    for es_i in range(es):\n",
    "        params=copy(params0)\n",
    "        params.measure_all_Born([np.arange(params.Lx//4,params.Lx//2),np.arange(params.Ly)],prob=([0,1]*(params.Lx//4*params.Ly)))\n",
    "        MI_pn_list_L64[m_i,es_i]=params.mutual_information_m([np.arange(params.Lx//4),np.arange(params.Ly)],[np.arange(params.Lx//4)+params.Lx//2,np.arange(params.Ly)])\n",
    "        LN_pn_list_L64[m_i,es_i]=params.log_neg([np.arange(params.Lx//4),np.arange(params.Ly)],[np.arange(params.Lx//4)+params.Lx//2,np.arange(params.Ly)])\n"
   ],
   "outputs": [],
   "metadata": {}
  },
  {
   "cell_type": "code",
   "execution_count": 43,
   "source": [
    "params.fermion_number([np.arange(params.Lx//4,params.Lx//2),np.arange(params.Ly)])"
   ],
   "outputs": [
    {
     "output_type": "execute_result",
     "data": {
      "text/plain": [
       "64.0"
      ]
     },
     "metadata": {},
     "execution_count": 43
    }
   ],
   "metadata": {}
  },
  {
   "cell_type": "markdown",
   "source": [
    "# Born measurement"
   ],
   "metadata": {}
  },
  {
   "cell_type": "markdown",
   "source": [
    "## onsite"
   ],
   "metadata": {}
  },
  {
   "cell_type": "code",
   "execution_count": 14,
   "source": [
    "m_list=np.linspace(1,3,10)\n",
    "es=20\n",
    "LN_Born_list=np.zeros((len(m_list),es))\n",
    "MI_Born_list=np.zeros((len(m_list),es))\n",
    "Lx,Ly=64,4\n",
    "def run(p):\n",
    "    m,Lx,Ly=p\n",
    "    params=Params(m=m,Lx=Lx,Ly=Ly,bcx=-1,bcy=1)\n",
    "    params.measure_all_Born([np.arange(Lx//4,Lx//2),np.arange(Ly)])\n",
    "    LN=params.log_neg([np.arange(Lx//4),np.arange(Ly)],[np.arange(Lx//4)+Lx//2,np.arange(Ly)])\n",
    "    MI=params.mutual_information_m([np.arange(Lx//4),np.arange(Ly)],[np.arange(Lx//4)+Lx//2,np.arange(Ly)])\n",
    "    return MI,LN\n",
    "for m_i,m in enumerate(m_list):\n",
    "    st=time.time()\n",
    "    # # Serial\n",
    "    # params0=Params(m=m,Lx=Lx,Ly=Ly)\n",
    "    # for es_i in range(es):\n",
    "    #     params=copy(params0)\n",
    "    #     params.measure_all_Born([np.arange(params.Lx//4,params.Lx//2),np.arange(params.Ly)])\n",
    "    #     # MI_Born_list[m_i,es_i]=params.mutual_information_m([np.arange(params.Lx//4),np.arange(params.Ly)],[np.arange(params.Lx//4)+params.Lx//2,np.arange(params.Ly)])\n",
    "    #     LN_Born_list[m_i,es_i]=params.log_neg([np.arange(params.Lx//4),np.arange(params.Ly)],[np.arange(params.Lx//4)+params.Lx//2,np.arange(params.Ly)])\n",
    "\n",
    "    # Parallel\n",
    "    inputs=[(m,Lx,Ly) for _ in range(es)]\n",
    "    async_result=rc[:].map_sync(run,inputs)\n",
    "\n",
    "    for index,results in enumerate(async_result):\n",
    "        MI_Born_list[m_i,index],LN_Born_list[m_i,index]=results\n",
    "\n",
    "    print('{:d}:{:.1f}'.format(m_i,time.time()-st))\n"
   ],
   "outputs": [
    {
     "output_type": "stream",
     "name": "stdout",
     "text": [
      "0:33.7\n",
      "1:35.7\n",
      "2:28.2\n",
      "3:28.0\n",
      "4:28.4\n",
      "5:28.1\n",
      "6:31.5\n",
      "7:33.2\n",
      "8:33.0\n",
      "9:33.4\n"
     ]
    }
   ],
   "metadata": {}
  },
  {
   "cell_type": "code",
   "execution_count": null,
   "source": [
    "es,Lx,Ly=500,16,32\n",
    "with open('/mnt/d/KITP/Rp_SPT/8/MI_LN_CI_Born_En{:d}_Lx{:d}_Ly{:d}.pickle'.format(es,Lx,Ly),'rb') as f:\n",
    "    [m_list,MI_Born_list,LN_Born_list,MI_no_list,LN_no_list]=pickle.load(f)"
   ],
   "outputs": [],
   "metadata": {}
  },
  {
   "cell_type": "code",
   "execution_count": 15,
   "source": [
    "fig,ax=plt.subplots()\n",
    "# ax.plot(m_list,LN_no_list,'.-',label='No measurement')\n",
    "\n",
    "ax.errorbar(m_list,LN_Born_list.mean(axis=1)/np.log(2),LN_Born_list.std(axis=1)/np.log(2)/np.sqrt(es-1),capsize=3,fmt='.-',label='Onsite measurement (LN)')\n",
    "ax.errorbar(m_list,MI_Born_list.mean(axis=1)/np.log(2),MI_Born_list.std(axis=1)/np.log(2)/np.sqrt(es-1),capsize=3,fmt='.-',label='Onsite measurement (MI)')\n",
    "\n",
    "ax.legend()\n",
    "ax.grid('on')\n",
    "ax.set_xlabel(r'm')\n",
    "ax.set_ylabel(r'[log(2)]')\n",
    "ax.margins(x=0)\n",
    "ax.set_title('Ensemble Size={:d}, Lx={:d}, Ly={:d}'.format(es,Lx,Ly))\n",
    "# fig.savefig('/mnt/d/KITP/Rp_SPT/8/LN_CI_Born_onsite_En{:d}_Lx{:d}_Ly{:d}.pdf'.format(es,Lx,Ly),bbox_inches='tight')"
   ],
   "outputs": [
    {
     "output_type": "execute_result",
     "data": {
      "text/plain": [
       "Text(0.5, 1.0, 'Ensemble Size=20, Lx=64, Ly=4')"
      ]
     },
     "metadata": {},
     "execution_count": 15
    },
    {
     "output_type": "display_data",
     "data": {
      "text/plain": [
       "<Figure size 489.6x288 with 1 Axes>"
      ],
      "image/png": "[encoded data removed]"
     },
     "metadata": {
      "needs_background": "light"
     }
    }
   ],
   "metadata": {}
  },
  {
   "cell_type": "markdown",
   "source": [
    "## m=2"
   ],
   "metadata": {}
  },
  {
   "cell_type": "code",
   "execution_count": null,
   "source": [
    "# m_list=(lambda x:(x-2)**3+2 )(np.linspace(1,3,10))\n",
    "# m_list=np.linspace(-4,4,40)\n",
    "LN_Born_GS_list=[]\n",
    "MI_Born_GS_list=[]\n",
    "Lx,Ly=64,8\n",
    "\n",
    "def run(p):\n",
    "    m,Lx,Ly=p\n",
    "    params=Params(m=m,Lx=Lx,Ly=Ly,bcx=-1,bcy=1,history=True)\n",
    "    params.measure_all_Born([np.arange(Lx//4,Lx//2),np.arange(Ly)],type='link')\n",
    "    LN=params.log_neg([np.arange(Lx//4),np.arange(Ly)],[np.arange(Lx//4)+Lx//2,np.arange(Ly)])\n",
    "    MI=params.mutual_information_m([np.arange(Lx//4),np.arange(Ly)],[np.arange(Lx//4)+Lx//2,np.arange(Ly)])\n",
    "    FN=params.fermion_number([np.arange(Lx//4,Lx//2),np.arange(Ly)])\n",
    "    return MI,LN,FN"
   ],
   "outputs": [],
   "metadata": {}
  },
  {
   "cell_type": "code",
   "execution_count": null,
   "source": [
    "run((2,32,16))"
   ],
   "outputs": [],
   "metadata": {}
  },
  {
   "cell_type": "markdown",
   "source": [
    "## |GS>  in trivial regime |01>, m->inf"
   ],
   "metadata": {}
  },
  {
   "cell_type": "code",
   "execution_count": null,
   "source": [
    "m_list=(lambda x:(x-2)**3+2 )(np.linspace(1,3,10))\n",
    "# m_list=np.linspace(-4,4,40)\n",
    "LN_Born_GS_list=[]\n",
    "MI_Born_GS_list=[]\n",
    "Lx,Ly=64,32\n",
    "def run(p):\n",
    "    m,Lx,Ly=p\n",
    "    params=Params(m=m,Lx=Lx,Ly=Ly,bcx=-1,bcy=1)\n",
    "    proj_range=params.linearize_index([np.arange(params.Lx//4,params.Lx//2),np.arange(0,params.Ly)],4,proj=True,k=2)\n",
    "    prob_list=[1-(1-(-1)**i)/2 for i,x in enumerate(proj_range)]\n",
    "    params.measure_all_Born(proj_range,type='onsite',prob=prob_list,linear=True)\n",
    "    MI=params.mutual_information_m([np.arange(Lx//4),np.arange(Ly)],[np.arange(Lx//4)+Lx//2,np.arange(Ly)])\n",
    "    LN=(params.log_neg([np.arange(params.Lx//4),np.arange(params.Ly)],[np.arange(params.Lx//4)+params.Lx//2,np.arange(params.Ly)]))\n",
    "    return MI,LN\n",
    "    \n",
    "inputs=[(m,Lx,Ly) for m in m_list]\n",
    "async_result=(rc[:].map_sync(run,inputs))\n",
    "\n",
    "for index,results in enumerate(async_result):\n",
    "    MI_Born_GS_list.append(results[0])\n",
    "    LN_Born_GS_list.append(results[1])\n"
   ],
   "outputs": [],
   "metadata": {}
  },
  {
   "cell_type": "code",
   "execution_count": null,
   "source": [
    "fig,ax=plt.subplots()\n",
    "\n",
    "ax.plot(m_list,LN_Born_GS_list/np.log(2),'.-',label='Link (o+) measurement (LN)')\n",
    "ax.plot(m_list,MI_Born_GS_list/np.log(2),'.-',label='Link (o+) measurement (MI)')\n",
    "\n",
    "ax.legend()\n",
    "ax.grid('on')\n",
    "ax.set_xlabel(r'm')\n",
    "ax.set_ylabel(r'log neg [log(2)]')\n",
    "ax.margins(x=0)\n",
    "ax.set_title('Lx={:d}, Ly={:d}'.format(Lx,Ly))\n",
    "fig.savefig('/mnt/d/KITP/Rp_SPT/8/LN_CI_Born_GS_Lx{:d}_Ly{:d}.pdf'.format(Lx,Ly),bbox_inches='tight')"
   ],
   "outputs": [],
   "metadata": {}
  },
  {
   "cell_type": "markdown",
   "source": [
    "## |GS>  in trivial regime |10>, m->-inf"
   ],
   "metadata": {}
  },
  {
   "cell_type": "code",
   "execution_count": null,
   "source": [
    "m_list=(lambda x:(x-2)**3+2 )(np.linspace(1,3,25))\n",
    "# m_list=np.linspace(1,3,10)\n",
    "LN_Born_GS2_list=[]\n",
    "MI_Born_GS2_list=[]\n",
    "Lx,Ly=64,4\n",
    "def run(p):\n",
    "    m,Lx,Ly=p\n",
    "    params=Params(m=m,Lx=Lx,Ly=Ly,bcx=-1,bcy=1)\n",
    "    proj_range=params.linearize_index([np.arange(params.Lx//4,params.Lx//2),np.arange(0,params.Ly)],4,proj=True,k=2)\n",
    "    prob_list=[(1-(-1)**i)/2 for i,x in enumerate(proj_range)]\n",
    "    params.measure_all_Born(proj_range,type='onsite',prob=prob_list,linear=True)\n",
    "    MI=params.mutual_information_m([np.arange(Lx//4),np.arange(Ly)],[np.arange(Lx//4)+Lx//2,np.arange(Ly)])\n",
    "    LN=(params.log_neg([np.arange(params.Lx//4),np.arange(params.Ly)],[np.arange(params.Lx//4)+params.Lx//2,np.arange(params.Ly)]))\n",
    "    return MI,LN\n",
    "    \n",
    "inputs=[(m,Lx,Ly) for m in m_list]\n",
    "async_result=(rc[:].map_sync(run,inputs))\n",
    "\n",
    "for index,results in enumerate(async_result):\n",
    "    MI_Born_GS2_list.append(results[0])\n",
    "    LN_Born_GS2_list.append(results[1])\n"
   ],
   "outputs": [],
   "metadata": {}
  },
  {
   "cell_type": "code",
   "execution_count": null,
   "source": [
    "fig,ax=plt.subplots()\n",
    "\n",
    "ax.plot(m_list,LN_Born_GS2_list/np.log(2),'.-',label='Link (o+) measurement (LN)')\n",
    "ax.plot(m_list,MI_Born_GS2_list/np.log(2),'.-',label='Link (o+) measurement (MI)')\n",
    "\n",
    "ax.legend()\n",
    "ax.grid('on')\n",
    "ax.set_xlabel(r'm')\n",
    "ax.set_ylabel(r'log neg [log(2)]')\n",
    "ax.margins(x=0)\n",
    "ax.set_title('Lx={:d}, Ly={:d}'.format(Lx,Ly))\n",
    "fig.savefig('/mnt/d/KITP/Rp_SPT/8/LN_CI_Born_GS2_Lx{:d}_Ly{:d}.pdf'.format(Lx,Ly),bbox_inches='tight')"
   ],
   "outputs": [],
   "metadata": {}
  },
  {
   "cell_type": "markdown",
   "source": [
    "## Link"
   ],
   "metadata": {}
  },
  {
   "cell_type": "code",
   "execution_count": null,
   "source": [
    "params=Params(m=1,Lx=64,Ly=8,bcx=-1,bcy=1,history=True)"
   ],
   "outputs": [],
   "metadata": {}
  },
  {
   "cell_type": "code",
   "execution_count": null,
   "source": [
    "params.measure_all_Born([np.arange(params.Lx//4,params.Lx//2),np.arange(params.Ly)],type='link')"
   ],
   "outputs": [],
   "metadata": {}
  },
  {
   "cell_type": "code",
   "execution_count": null,
   "source": [
    "[np.sum(np.array(params.s_history)==s) for s in ['o+','o-','e+','e-']]"
   ],
   "outputs": [],
   "metadata": {}
  },
  {
   "cell_type": "code",
   "execution_count": null,
   "source": [
    "params.log_neg([np.arange(params.Lx//4),np.arange(params.Ly)],[np.arange(params.Lx//4)+params.Lx//2,np.arange(params.Ly)])/np.log(2)"
   ],
   "outputs": [],
   "metadata": {}
  },
  {
   "cell_type": "code",
   "execution_count": null,
   "source": [
    "m_list=np.linspace(1,3,10)\n",
    "# m_list=(lambda x:(x-2)**3+2 )(np.linspace(1,3,10))\n",
    "es=1000\n",
    "LN_Born_link_list=np.zeros((len(m_list),es))\n",
    "MI_Born_link_list=np.zeros((len(m_list),es))\n",
    "Lx,Ly=128,4\n",
    "outcome_Born_link_list=np.zeros((len(m_list),es,4))\n",
    "def run(p):\n",
    "    m,Lx,Ly=p\n",
    "    params=Params(m=m,Lx=Lx,Ly=Ly,bcx=-1,bcy=1,history=True)\n",
    "    params.measure_all_Born([np.arange(Lx//4,Lx//2),np.arange(Ly)],type='link')\n",
    "    LN=params.log_neg([np.arange(Lx//4),np.arange(Ly)],[np.arange(Lx//4)+Lx//2,np.arange(Ly)])\n",
    "    MI=params.mutual_information_m([np.arange(Lx//4),np.arange(Ly)],[np.arange(Lx//4)+Lx//2,np.arange(Ly)])\n",
    "    outcome=[np.sum(np.array(params.s_history)==s) for s in ['o+','o-','e+','e-']]\n",
    "    return MI,LN,outcome\n",
    "for m_i,m in enumerate(m_list):\n",
    "    st=time.time()\n",
    "    # # Serial\n",
    "    # params0=Params(m=m,Lx=Lx,Ly=Ly)\n",
    "    # for es_i in range(es):\n",
    "    #     params=copy(params0)\n",
    "    #     params.measure_all_Born([np.arange(params.Lx//4,params.Lx//2),np.arange(params.Ly)])\n",
    "    #     # MI_Born_link_list[m_i,es_i]=params.mutual_information_m([np.arange(params.Lx//4),np.arange(params.Ly)],[np.arange(params.Lx//4)+params.Lx//2,np.arange(params.Ly)])\n",
    "    #     LN_Born_link_list[m_i,es_i]=params.log_neg([np.arange(params.Lx//4),np.arange(params.Ly)],[np.arange(params.Lx//4)+params.Lx//2,np.arange(params.Ly)])\n",
    "\n",
    "    # Parallel\n",
    "    inputs=[(m,Lx,Ly) for _ in range(es)]\n",
    "    async_result=rc[:].map_sync(run,inputs)\n",
    "\n",
    "    for index,results in enumerate(async_result):\n",
    "        MI_Born_link_list[m_i,index],LN_Born_link_list[m_i,index],outcome_Born_link_list[m_i,index,:]=results\n",
    "\n",
    "    print('{:d}:{:.1f}'.format(m_i,time.time()-st))\n"
   ],
   "outputs": [],
   "metadata": {}
  },
  {
   "cell_type": "code",
   "execution_count": null,
   "source": [
    "es,Lx,Ly=1000,64,8\n",
    "# '/mnt/d/KITP/Rp_SPT/8/'\n",
    "with open('/mnt/d/KITP/Rp_SPT/8/MI_LN_CI_Born_link_En{:d}_Lx{:d}_Ly{:d}.pickle'.format(es,Lx,Ly),'rb') as f:\n",
    "    [m_list,MI_Born_link_list,LN_Born_link_list,outcome_Born_link_list,s_history_Born_link_list]=pickle.load(f)"
   ],
   "outputs": [],
   "metadata": {}
  },
  {
   "cell_type": "code",
   "execution_count": null,
   "source": [
    "half_index=(outcome_Born_link_list@np.array([0,2,1,1]))==(Lx*Ly//4)\n",
    "deviatefromhalf=(outcome_Born_link_list@np.array([0,2,1,1]))/(Lx*Ly//4)"
   ],
   "outputs": [],
   "metadata": {}
  },
  {
   "cell_type": "code",
   "execution_count": null,
   "source": [
    "LN_Born_link_half_list=[LN_Born_link_list[i,j] for i,j in enumerate(half_index)]\n",
    "MI_Born_link_half_list=[MI_Born_link_list[i,j] for i,j in enumerate(half_index)]"
   ],
   "outputs": [],
   "metadata": {}
  },
  {
   "cell_type": "code",
   "execution_count": null,
   "source": [
    "LN_Born_link_half_list_ave=[np.mean(i) for i in LN_Born_link_half_list]\n",
    "LN_Born_link_half_list_err=[np.std(i)/np.sqrt(es-1) for i in LN_Born_link_half_list]\n",
    "MI_Born_link_half_list_ave=[np.mean(i) for i in MI_Born_link_half_list]\n",
    "MI_Born_link_half_list_err=[np.std(i)/np.sqrt(es-1) for i in MI_Born_link_half_list]"
   ],
   "outputs": [],
   "metadata": {}
  },
  {
   "cell_type": "code",
   "execution_count": null,
   "source": [
    "outcome_Born_link_list[-1,half_index[-1]].shape"
   ],
   "outputs": [],
   "metadata": {}
  },
  {
   "cell_type": "code",
   "execution_count": null,
   "source": [
    "plt.plot(LN_Born_link_half_list_ave)\n",
    "plt.plot(MI_Born_link_half_list_ave)"
   ],
   "outputs": [],
   "metadata": {}
  },
  {
   "cell_type": "code",
   "execution_count": null,
   "source": [
    "fig,axs=plt.subplots(3,3,tight_layout=True,figsize=(6.8,6.8))\n",
    "# ax.errorbar(m_list,LN_Born_link_list.mean(axis=1)/np.log(2),LN_Born_link_list.std(axis=1)/np.log(2)/np.sqrt(es-1),capsize=3,fmt='.-',label='Link measurement (LN)')\n",
    "# ax.errorbar(m_list,MI_Born_link_list.mean(axis=1)/np.log(2),MI_Born_link_list.std(axis=1)/np.log(2)/np.sqrt(es-1),capsize=3,fmt='.-',label='Link measurement (MI)')\n",
    "\n",
    "# ax.legend()\n",
    "# ax.grid('on')\n",
    "# ax.set_xlabel(r'm')\n",
    "# ax.set_ylabel(r'log neg [log(2)]')\n",
    "# ax.margins(x=0)\n",
    "# ax.set_title('Ensemble Size={:d}, Lx={:d}, Ly={:d}'.format(es,Lx,Ly))\n",
    "\n",
    "axs[0,0].hist(deviatefromhalf[0],density=False,bins=20)\n",
    "axs[0,1].hist(LN_Born_link_list[0]/np.log(2),density=False,bins=10)\n",
    "axs[0,2].scatter(deviatefromhalf[0],LN_Born_link_list[0]/np.log(2),s=1)\n",
    "axs[0,2].scatter(deviatefromhalf[0][half_index[0]],LN_Born_link_list[0][half_index[0]]/np.log(2),s=1)\n",
    "\n",
    "axs[1,0].hist(deviatefromhalf[5],density=False,bins=20)\n",
    "axs[1,1].hist(LN_Born_link_list[5]/np.log(2),density=False,bins=10)\n",
    "axs[1,2].scatter(deviatefromhalf[5],LN_Born_link_list[5]/np.log(2),s=1)\n",
    "axs[1,2].scatter(deviatefromhalf[5][half_index[5]],LN_Born_link_list[5][half_index[5]]/np.log(2),s=1)\n",
    "\n",
    "\n",
    "axs[2,0].hist(deviatefromhalf[-1],density=False,bins=20)\n",
    "axs[2,1].hist(LN_Born_link_list[-1]/np.log(2),density=False,bins=10)\n",
    "axs[2,2].scatter(deviatefromhalf[-1],LN_Born_link_list[-1]/np.log(2),s=1)\n",
    "axs[2,2].scatter(deviatefromhalf[-1][half_index[-1]],LN_Born_link_list[-1][half_index[-1]]/np.log(2),s=1)\n",
    "\n",
    "[ax.set_title('$m={:.1f},L_x={:d},L_y={:d}$'.format(m_list[5],Lx,Ly)) for ax in axs[1]]\n",
    "[ax.set_title('$m={:.1f},L_x={:d},L_y={:d}$'.format(m_list[-1],Lx,Ly)) for ax in axs[-1]]\n",
    "[ax.set_title('$m={:.1f},L_x={:d},L_y={:d}$'.format(m_list[0],Lx,Ly)) for ax in axs[0]]\n",
    "\n",
    "[ax.set_xlabel('Filling') for ax in axs[:,0]]\n",
    "[ax.set_ylabel('Counts') for ax in axs[:,0]]\n",
    "[ax.set_xlabel('LN [log 2]') for ax in axs[:,1]]\n",
    "[ax.set_ylabel('Counts') for ax in axs[:,1]]\n",
    "[ax.set_xlabel('Filling') for ax in axs[:,2]]\n",
    "[ax.set_ylabel('LN [log 2]') for ax in axs[:,2]]\n",
    "\n",
    "fig.savefig('/mnt/d/KITP/Rp_SPT/8/Correlation_Born_link_En{:d}_Lx{:d}_Ly{:d}.pdf'.format(es,Lx,Ly),bbox_inches='tight')"
   ],
   "outputs": [],
   "metadata": {}
  },
  {
   "cell_type": "code",
   "execution_count": null,
   "source": [
    "fig,axs=plt.subplots(2,1,tight_layout=True,sharex=True)\n",
    "ax=axs[0]\n",
    "ax.errorbar(m_list,LN_Born_link_list.mean(axis=1)/np.log(2),LN_Born_link_list.std(axis=1)/np.log(2)/np.sqrt(es-1),capsize=3,fmt='.-',label='Link measurement (LN)')\n",
    "ax.errorbar(m_list,MI_Born_link_list.mean(axis=1)/np.log(2),MI_Born_link_list.std(axis=1)/np.log(2)/np.sqrt(es-1),capsize=3,fmt='.-',label='Link measurement (MI)')\n",
    "ax.legend()\n",
    "ax.grid('on')\n",
    "ax.set_ylabel(r'log neg [log(2)]')\n",
    "ax.margins(x=0)\n",
    "ax.set_title('Ensemble Size={:d}, Lx={:d}, Ly={:d}, [Original]'.format(es,Lx,Ly))\n",
    "\n",
    "ax=axs[1]\n",
    "ax.errorbar(m_list,LN_Born_link_half_list_ave/np.log(2),LN_Born_link_half_list_err/np.log(2),capsize=3,fmt='.-',label='Link measurement (LN)')\n",
    "ax.errorbar(m_list,MI_Born_link_half_list_ave/np.log(2),MI_Born_link_half_list_err/np.log(2),capsize=3,fmt='.-',label='Link measurement (MI)')\n",
    "\n",
    "ax.legend()\n",
    "ax.grid('on')\n",
    "ax.set_xlabel(r'm')\n",
    "ax.set_ylabel(r'log neg [log(2)]')\n",
    "ax.margins(x=0)\n",
    "ax.set_title('Ensemble Size={:d}, Lx={:d}, Ly={:d}, [Post-select half-filling]'.format(es,Lx,Ly))\n",
    "fig.savefig('/mnt/d/KITP/Rp_SPT/8/CI_half_filling_Born_link_En{:d}_Lx{:d}_Ly{:d}.pdf'.format(es,Lx,Ly),bbox_inches='tight')"
   ],
   "outputs": [],
   "metadata": {}
  },
  {
   "cell_type": "code",
   "execution_count": null,
   "source": [],
   "outputs": [],
   "metadata": {}
  },
  {
   "cell_type": "code",
   "execution_count": null,
   "source": [
    "plt.hist(deviatefromhalf[0],bins=25)"
   ],
   "outputs": [],
   "metadata": {}
  },
  {
   "cell_type": "code",
   "execution_count": null,
   "source": [
    "plt.hist(LN_Born_link_list[5],density=True,bins=10)"
   ],
   "outputs": [],
   "metadata": {}
  },
  {
   "cell_type": "code",
   "execution_count": null,
   "source": [
    "plt.scatter(deviatefromhalf[5],LN_Born_link_list[5])\n",
    "plt.scatter(deviatefromhalf[5][half_index[5]],LN_Born_link_list[5][half_index[5]])\n",
    "# plt.ylim([0,1])"
   ],
   "outputs": [],
   "metadata": {}
  },
  {
   "cell_type": "code",
   "execution_count": null,
   "source": [
    "fig,ax=plt.subplots()\n",
    "# ax.plot(m_list,LN_no_list,'.-',label='No measurement')\n",
    "\n",
    "ax.errorbar(m_list,LN_Born_link_list.mean(axis=1)/np.log(2),LN_Born_link_list.std(axis=1)/np.log(2)/np.sqrt(es-1),capsize=3,fmt='.-',label='Link measurement (LN)')\n",
    "ax.errorbar(m_list,MI_Born_link_list.mean(axis=1)/np.log(2),MI_Born_link_list.std(axis=1)/np.log(2)/np.sqrt(es-1),capsize=3,fmt='.-',label='Link measurement (MI)')\n",
    "\n",
    "ax.legend()\n",
    "ax.grid('on')\n",
    "ax.set_xlabel(r'm')\n",
    "ax.set_ylabel(r'log neg [log(2)]')\n",
    "ax.margins(x=0)\n",
    "ax.set_title('Ensemble Size={:d}, Lx={:d}, Ly={:d}'.format(es,Lx,Ly))\n",
    "# fig.savefig('/mnt/d/KITP/Rp_SPT/8/LN_CI_Born_link_En{:d}_Lx{:d}_Ly{:d}.pdf'.format(es,Lx,Ly),bbox_inches='tight')"
   ],
   "outputs": [],
   "metadata": {}
  },
  {
   "cell_type": "code",
   "execution_count": null,
   "source": [
    "outcome_Born_link_list.shape"
   ],
   "outputs": [],
   "metadata": {}
  },
  {
   "cell_type": "code",
   "execution_count": null,
   "source": [
    "fig,ax=plt.subplots()\n",
    "# labels = ['o+','o-','e+','e-']\n",
    "labels=m_list\n",
    "mean={'o+':outcome_Born_link_list[:,:,0].mean(axis=1)/(Lx*Ly//4),'o-':outcome_Born_link_list[:,:,1].mean(axis=1)/(Lx*Ly//4),'e+':outcome_Born_link_list[:,:,2].mean(axis=1)/(Lx*Ly//4),'e-':outcome_Born_link_list[:,:,3].mean(axis=1)/(Lx*Ly//4)}\n",
    "std={'o+':outcome_Born_link_list[:,:,0].std(axis=1)/(Lx*Ly//4)/np.sqrt(es-1),'o-':outcome_Born_link_list[:,:,1].std(axis=1)/(Lx*Ly//4)/np.sqrt(es-1),'e+':outcome_Born_link_list[:,:,2].std(axis=1)/(Lx*Ly//4)/np.sqrt(es-1),'e-':outcome_Born_link_list[:,:,3].std(axis=1)/(Lx*Ly//4)/np.sqrt(es-1)}\n",
    "\n",
    "ax.bar(labels,mean['o+'],0.05,label='o+',yerr=std['o+'])\n",
    "ax.bar(labels,mean['o-'],0.05,bottom=mean['o+'],label='o-',yerr=std['o-'])\n",
    "ax.bar(labels,mean['e+'],0.05,bottom=mean['o-']+mean['o+'],label='e+',yerr=std['e+'])\n",
    "ax.bar(labels,mean['e-'],0.05,bottom=mean['o-']+mean['o+']+mean['e+'],label='e-',yerr=std['e-'])\n",
    "ax.legend()\n",
    "ax.set_xlabel('m')\n",
    "ax.set_ylabel('Probability')\n",
    "# fig.savefig('/mnt/d/KITP/Rp_SPT/8/LN_CI_Born_link_outcome_En{:d}_Lx{:d}_Ly{:d}.pdf'.format(es,Lx,Ly),bbox_inches='tight')"
   ],
   "outputs": [],
   "metadata": {}
  },
  {
   "cell_type": "markdown",
   "source": [
    "## Link force to o+"
   ],
   "metadata": {}
  },
  {
   "cell_type": "code",
   "execution_count": null,
   "source": [
    "m_list=(lambda x:(x-2)**3+2 )(np.linspace(1,3,25))\n",
    "# m_list=np.linspace(1,3,10)\n",
    "LN_Born_link_op_list=[]\n",
    "MI_Born_link_op_list=[]\n",
    "Lx,Ly=128,4\n",
    "def run(p):\n",
    "    m,Lx,Ly=p\n",
    "    params=Params(m=m,Lx=Lx,Ly=Ly,bcx=-1,bcy=1)\n",
    "    params.measure_all_Born([np.arange(Lx//4,Lx//2),np.arange(Ly)],type='link',prob=[1,0,0,0])\n",
    "    LN=params.log_neg([np.arange(Lx//4),np.arange(Ly)],[np.arange(Lx//4)+Lx//2,np.arange(Ly)])\n",
    "    MI=params.mutual_information_m([np.arange(Lx//4),np.arange(Ly)],[np.arange(Lx//4)+Lx//2,np.arange(Ly)])\n",
    "    return MI,LN\n",
    "\n",
    "    \n",
    "inputs=[(m,Lx,Ly) for m in m_list]\n",
    "async_result=(rc[:].map_sync(run,inputs))\n",
    "\n",
    "for index,results in enumerate(async_result):\n",
    "    MI_Born_link_op_list.append(results[0])\n",
    "    LN_Born_link_op_list.append(results[1])\n"
   ],
   "outputs": [],
   "metadata": {}
  },
  {
   "cell_type": "code",
   "execution_count": null,
   "source": [
    "fig,ax=plt.subplots()\n",
    "# ax.plot(m_list,LN_no_list,'.-',label='No measurement')\n",
    "\n",
    "ax.plot(m_list,LN_Born_link_op_list/np.log(2),'.-',label='Link (o+) measurement (LN)')\n",
    "ax.plot(m_list,MI_Born_link_op_list/np.log(2),'.-',label='Link (o+) measurement (MI)')\n",
    "\n",
    "ax.legend()\n",
    "ax.grid('on')\n",
    "ax.set_xlabel(r'm')\n",
    "ax.set_ylabel(r'log neg [log(2)]')\n",
    "ax.margins(x=0)\n",
    "ax.set_title('Lx={:d}, Ly={:d}'.format(Lx,Ly))\n",
    "fig.savefig('/mnt/d/KITP/Rp_SPT/8/LN_CI_Born_link_op_Lx{:d}_Ly{:d}.pdf'.format(Lx,Ly),bbox_inches='tight')"
   ],
   "outputs": [],
   "metadata": {}
  },
  {
   "cell_type": "markdown",
   "source": [
    "## Link force to o-"
   ],
   "metadata": {}
  },
  {
   "cell_type": "code",
   "execution_count": null,
   "source": [
    "m_list=(lambda x:(x-2)**3+2 )(np.linspace(1,3,25))\n",
    "# m_list=np.linspace(1,3,10)\n",
    "LN_Born_link_om_list=[]\n",
    "MI_Born_link_om_list=[]\n",
    "Lx,Ly=128,4\n",
    "def run(p):\n",
    "    m,Lx,Ly=p\n",
    "    params=Params(m=m,Lx=Lx,Ly=Ly,bcx=-1,bcy=1)\n",
    "    params.measure_all_Born([np.arange(Lx//4,Lx//2),np.arange(Ly)],type='link',prob=[0,1,0,0])\n",
    "    LN=params.log_neg([np.arange(Lx//4),np.arange(Ly)],[np.arange(Lx//4)+Lx//2,np.arange(Ly)])\n",
    "    MI=params.mutual_information_m([np.arange(Lx//4),np.arange(Ly)],[np.arange(Lx//4)+Lx//2,np.arange(Ly)])\n",
    "    return MI,LN\n",
    "\n",
    "    \n",
    "inputs=[(m,Lx,Ly) for m in m_list]\n",
    "async_result=(rc[:].map_sync(run,inputs))\n",
    "\n",
    "for index,results in enumerate(async_result):\n",
    "    MI_Born_link_om_list.append(results[0])\n",
    "    LN_Born_link_om_list.append(results[1])\n"
   ],
   "outputs": [],
   "metadata": {}
  },
  {
   "cell_type": "code",
   "execution_count": null,
   "source": [
    "fig,ax=plt.subplots()\n",
    "# ax.plot(m_list,LN_no_list,'.-',label='No measurement')\n",
    "\n",
    "ax.plot(m_list,LN_Born_link_om_list/np.log(2),'.-',label='Link (o-) measurement (LN)')\n",
    "ax.plot(m_list,MI_Born_link_om_list/np.log(2),'.-',label='Link (o-) measurement (MI)')\n",
    "\n",
    "ax.legend()\n",
    "ax.grid('on')\n",
    "ax.set_xlabel(r'm')\n",
    "ax.set_ylabel(r'log neg [log(2)]')\n",
    "ax.margins(x=0)\n",
    "ax.set_title('Lx={:d}, Ly={:d}'.format(Lx,Ly))\n",
    "fig.savefig('/mnt/d/KITP/Rp_SPT/8/LN_CI_Born_link_om_Lx{:d}_Ly{:d}.pdf'.format(Lx,Ly),bbox_inches='tight')"
   ],
   "outputs": [],
   "metadata": {}
  },
  {
   "cell_type": "markdown",
   "source": [
    "## Link force to e+"
   ],
   "metadata": {}
  },
  {
   "cell_type": "code",
   "execution_count": null,
   "source": [
    "m_list=(lambda x:(x-2)**3+2 )(np.linspace(1,3,25))\n",
    "# m_list=np.linspace(1,3,10)\n",
    "LN_Born_link_ep_list=[]\n",
    "MI_Born_link_ep_list=[]\n",
    "Lx,Ly=128,4\n",
    "def run(p):\n",
    "    m,Lx,Ly=p\n",
    "    params=Params(m=m,Lx=Lx,Ly=Ly,bcx=-1,bcy=1)\n",
    "    params.measure_all_Born([np.arange(Lx//4,Lx//2),np.arange(Ly)],type='link',prob=[0,0,1,0])\n",
    "    LN=params.log_neg([np.arange(Lx//4),np.arange(Ly)],[np.arange(Lx//4)+Lx//2,np.arange(Ly)])\n",
    "    MI=params.mutual_information_m([np.arange(Lx//4),np.arange(Ly)],[np.arange(Lx//4)+Lx//2,np.arange(Ly)])\n",
    "    return MI,LN\n",
    "\n",
    "    \n",
    "inputs=[(m,Lx,Ly) for m in m_list]\n",
    "async_result=(rc[:].map_sync(run,inputs))\n",
    "\n",
    "for index,results in enumerate(async_result):\n",
    "    MI_Born_link_ep_list.append(results[0])\n",
    "    LN_Born_link_ep_list.append(results[1])\n"
   ],
   "outputs": [],
   "metadata": {}
  },
  {
   "cell_type": "code",
   "execution_count": null,
   "source": [
    "fig,ax=plt.subplots()\n",
    "# ax.plot(m_list,LN_no_list,'.-',label='No measurement')\n",
    "\n",
    "ax.plot(m_list,LN_Born_link_ep_list/np.log(2),'.-',label='Link (o+) measurement (LN)')\n",
    "ax.plot(m_list,MI_Born_link_ep_list/np.log(2),'.-',label='Link (o+) measurement (MI)')\n",
    "\n",
    "ax.legend()\n",
    "ax.grid('on')\n",
    "ax.set_xlabel(r'm')\n",
    "ax.set_ylabel(r'log neg [log(2)]')\n",
    "ax.margins(x=0)\n",
    "ax.set_title('Lx={:d}, Ly={:d}'.format(Lx,Ly))\n",
    "fig.savefig('/mnt/d/KITP/Rp_SPT/8/LN_CI_Born_link_ep_Lx{:d}_Ly{:d}.pdf'.format(es,Lx,Ly),bbox_inches='tight')"
   ],
   "outputs": [],
   "metadata": {}
  },
  {
   "cell_type": "markdown",
   "source": [
    "## Link, Born but with only {o+,o-}"
   ],
   "metadata": {}
  },
  {
   "cell_type": "code",
   "execution_count": null,
   "source": [
    "m_list=(lambda x:(x-2)**3+2 )(np.linspace(1,3,10))\n",
    "# m_list=np.linspace(1,3,10)\n",
    "es=20\n",
    "LN_Born_link_pool2_list=np.zeros((len(m_list),es))\n",
    "MI_Born_link_pool2_list=np.zeros((len(m_list),es))\n",
    "Lx,Ly=128,4\n",
    "def run(p):\n",
    "    m,Lx,Ly=p\n",
    "    params=Params(m=m,Lx=Lx,Ly=Ly,bcx=-1,bcy=1)\n",
    "    params.measure_all_Born([np.arange(Lx//4,Lx//2),np.arange(Ly)],type='link',pool=2)\n",
    "    LN=params.log_neg([np.arange(Lx//4),np.arange(Ly)],[np.arange(Lx//4)+Lx//2,np.arange(Ly)])\n",
    "    MI=params.mutual_information_m([np.arange(Lx//4),np.arange(Ly)],[np.arange(Lx//4)+Lx//2,np.arange(Ly)])\n",
    "    return MI,LN\n",
    "for m_i,m in enumerate(m_list):\n",
    "    st=time.time()\n",
    "\n",
    "    inputs=[(m,Lx,Ly) for _ in range(es)]\n",
    "    async_result=rc[:].map_sync(run,inputs)\n",
    "\n",
    "    for index,results in enumerate(async_result):\n",
    "        MI_Born_link_pool2_list[m_i,index],LN_Born_link_pool2_list[m_i,index]=results\n",
    "\n",
    "    print('{:d}:{:.1f}'.format(m_i,time.time()-st))\n"
   ],
   "outputs": [],
   "metadata": {}
  },
  {
   "cell_type": "code",
   "execution_count": null,
   "source": [
    "fig,ax=plt.subplots()\n",
    "# ax.plot(m_list,LN_no_list,'.-',label='No measurement')\n",
    "\n",
    "ax.errorbar(m_list,LN_Born_link_pool2_list.mean(axis=1)/np.log(2),LN_Born_link_pool2_list.std(axis=1)/np.log(2)/np.sqrt(es-1),capsize=3,fmt='.-',label='Link measurement (LN)')\n",
    "ax.errorbar(m_list,MI_Born_link_pool2_list.mean(axis=1)/np.log(2),MI_Born_link_pool2_list.std(axis=1)/np.log(2)/np.sqrt(es-1),capsize=3,fmt='.-',label='Link measurement (MI)')\n",
    "\n",
    "ax.legend()\n",
    "ax.grid('on')\n",
    "ax.set_xlabel(r'm')\n",
    "ax.set_ylabel(r'log neg [log(2)]')\n",
    "ax.margins(x=0)\n",
    "ax.set_title('Ensemble Size={:d}, Lx={:d}, Ly={:d}'.format(es,Lx,Ly))\n",
    "fig.savefig('/mnt/d/KITP/Rp_SPT/8/LN_CI_Born_link_pool2_En{:d}_Lx{:d}_Ly{:d}.pdf'.format(es,Lx,Ly),bbox_inches='tight')"
   ],
   "outputs": [],
   "metadata": {}
  },
  {
   "cell_type": "markdown",
   "source": [
    "## Link, Born but with only {e+,e-}"
   ],
   "metadata": {}
  },
  {
   "cell_type": "code",
   "execution_count": null,
   "source": [
    "m_list=(lambda x:(x-2)**3+2 )(np.linspace(1,3,10))\n",
    "# m_list=np.linspace(1,3,10)\n",
    "es=20\n",
    "LN_Born_link_poolm2_list=np.zeros((len(m_list),es))\n",
    "MI_Born_link_poolm2_list=np.zeros((len(m_list),es))\n",
    "Lx,Ly=128,4\n",
    "def run(p):\n",
    "    m,Lx,Ly=p\n",
    "    params=Params(m=m,Lx=Lx,Ly=Ly,bcx=-1,bcy=1)\n",
    "    params.measure_all_Born([np.arange(Lx//4,Lx//2),np.arange(Ly)],type='link',pool=-2)\n",
    "    LN=params.log_neg([np.arange(Lx//4),np.arange(Ly)],[np.arange(Lx//4)+Lx//2,np.arange(Ly)])\n",
    "    MI=params.mutual_information_m([np.arange(Lx//4),np.arange(Ly)],[np.arange(Lx//4)+Lx//2,np.arange(Ly)])\n",
    "    return MI,LN\n",
    "for m_i,m in enumerate(m_list):\n",
    "    st=time.time()\n",
    "\n",
    "    inputs=[(m,Lx,Ly) for _ in range(es)]\n",
    "    async_result=rc[:].map_sync(run,inputs)\n",
    "\n",
    "    for index,results in enumerate(async_result):\n",
    "        MI_Born_link_poolm2_list[m_i,index],LN_Born_link_poolm2_list[m_i,index]=results\n",
    "\n",
    "    print('{:d}:{:.1f}'.format(m_i,time.time()-st))\n"
   ],
   "outputs": [],
   "metadata": {}
  },
  {
   "cell_type": "code",
   "execution_count": null,
   "source": [
    "fig,ax=plt.subplots()\n",
    "# ax.plot(m_list,LN_no_list,'.-',label='No measurement')\n",
    "\n",
    "ax.errorbar(m_list,LN_Born_link_poolm2_list.mean(axis=1)/np.log(2),LN_Born_link_poolm2_list.std(axis=1)/np.log(2)/np.sqrt(es-1),capsize=3,fmt='.-',label='Link measurement (LN)')\n",
    "ax.errorbar(m_list,MI_Born_link_poolm2_list.mean(axis=1)/np.log(2),MI_Born_link_poolm2_list.std(axis=1)/np.log(2)/np.sqrt(es-1),capsize=3,fmt='.-',label='Link measurement (MI)')\n",
    "\n",
    "ax.legend()\n",
    "ax.grid('on')\n",
    "ax.set_xlabel(r'm')\n",
    "ax.set_ylabel(r'log neg [log(2)]')\n",
    "ax.margins(x=0)\n",
    "ax.set_title('Ensemble Size={:d}, Lx={:d}, Ly={:d}'.format(es,Lx,Ly))\n",
    "fig.savefig('/mnt/d/KITP/Rp_SPT/8/LN_CI_Born_link_poolm2_En{:d}_Lx{:d}_Ly{:d}.pdf'.format(es,Lx,Ly),bbox_inches='tight')"
   ],
   "outputs": [],
   "metadata": {}
  },
  {
   "cell_type": "code",
   "execution_count": null,
   "source": [
    "## see if there is a connected path ,and that fine"
   ],
   "outputs": [],
   "metadata": {}
  },
  {
   "cell_type": "markdown",
   "source": [
    "## all o+ but the last is e+"
   ],
   "metadata": {}
  },
  {
   "cell_type": "code",
   "execution_count": null,
   "source": [
    "m_list=(lambda x:(x-2)**3+2 )(np.linspace(1,3,25))\n",
    "# m_list=np.linspace(1,3,10)\n",
    "LN_Born_link_op_ep_list=[]\n",
    "MI_Born_link_op_ep_list=[]\n",
    "Lx,Ly=64,4\n",
    "def run(p):\n",
    "    m,Lx,Ly=p\n",
    "    params=Params(m=m,Lx=Lx,Ly=Ly,bcx=-1,bcy=1)\n",
    "    proj_range_0=params.linearize_index([np.arange(params.Lx//4)+params.Lx//4,np.arange(0,params.Ly)],4,proj=True,k=4)\n",
    "    params.measure_all_Born(proj_range_0[:-1],type='link',prob=[1,0,0,0],linear=True)\n",
    "    params.measure_all_Born(proj_range_0[-1:],type='link',prob=[0,0,1,0],linear=True)\n",
    "    LN=params.log_neg([np.arange(Lx//4),np.arange(Ly)],[np.arange(Lx//4)+Lx//2,np.arange(Ly)])\n",
    "    MI=params.mutual_information_m([np.arange(Lx//4),np.arange(Ly)],[np.arange(Lx//4)+Lx//2,np.arange(Ly)])\n",
    "    return MI,LN\n",
    "\n",
    "    \n",
    "inputs=[(m,Lx,Ly) for m in m_list]\n",
    "async_result=(rc[:].map_sync(run,inputs))\n",
    "# async_result=(map(run,inputs))\n",
    "\n",
    "for index,results in enumerate(async_result):\n",
    "    MI_Born_link_op_ep_list.append(results[0])\n",
    "    LN_Born_link_op_ep_list.append(results[1])\n"
   ],
   "outputs": [],
   "metadata": {}
  },
  {
   "cell_type": "code",
   "execution_count": null,
   "source": [
    "fig,ax=plt.subplots()\n",
    "# ax.plot(m_list,LN_no_list,'.-',label='No measurement')\n",
    "\n",
    "ax.plot(m_list,LN_Born_link_op_ep_list/np.log(2),'.-',label='Link (o+) measurement (LN)')\n",
    "ax.plot(m_list,MI_Born_link_op_ep_list/np.log(2),'.-',label='Link (o+) measurement (MI)')\n",
    "\n",
    "ax.legend()\n",
    "ax.grid('on')\n",
    "ax.set_xlabel(r'm')\n",
    "ax.set_ylabel(r'log neg [log(2)]')\n",
    "ax.margins(x=0)\n",
    "ax.set_title('Lx={:d}, Ly={:d}'.format(Lx,Ly))\n",
    "fig.savefig('/mnt/d/KITP/Rp_SPT/8/LN_CI_Born_link_op_ep_Lx{:d}_Ly{:d}.pdf'.format(Lx,Ly),bbox_inches='tight')"
   ],
   "outputs": [],
   "metadata": {}
  },
  {
   "cell_type": "markdown",
   "source": [
    "## all o+ but the middle is e+"
   ],
   "metadata": {}
  },
  {
   "cell_type": "code",
   "execution_count": null,
   "source": [
    "m_list=(lambda x:(x-2)**3+2 )(np.linspace(1,3,25))\n",
    "# m_list=np.linspace(1,3,10)\n",
    "LN_Born_link_op_ep_middle_list=[]\n",
    "MI_Born_link_op_ep_middle_list=[]\n",
    "Lx,Ly=128,4\n",
    "def run(p):\n",
    "    m,Lx,Ly=p\n",
    "    params=Params(m=m,Lx=Lx,Ly=Ly,bcx=-1,bcy=1)\n",
    "    proj_range_0=params.linearize_index([np.arange(params.Lx//4)+params.Lx//4,np.arange(0,params.Ly)],4,proj=True,k=4)\n",
    "    params.measure_all_Born(proj_range_0[:len(proj_range_0)//2],type='link',prob=[1,0,0,0],linear=True)\n",
    "    params.measure_all_Born(proj_range_0[len(proj_range_0)//2:len(proj_range_0)//2+1],type='link',prob=[0,0,1,0],linear=True)\n",
    "    params.measure_all_Born(proj_range_0[len(proj_range_0)//2+1:],type='link',prob=[1,0,0,0],linear=True)\n",
    "    LN=params.log_neg([np.arange(Lx//4),np.arange(Ly)],[np.arange(Lx//4)+Lx//2,np.arange(Ly)])\n",
    "    MI=params.mutual_information_m([np.arange(Lx//4),np.arange(Ly)],[np.arange(Lx//4)+Lx//2,np.arange(Ly)])\n",
    "    return MI,LN\n",
    "\n",
    "    \n",
    "inputs=[(m,Lx,Ly) for m in m_list]\n",
    "# async_result=(rc[:].map_sync(run,inputs))\n",
    "async_result=(map(run,inputs))\n",
    "\n",
    "\n",
    "for index,results in enumerate(async_result):\n",
    "    MI_Born_link_op_ep_middle_list.append(results[0])\n",
    "    LN_Born_link_op_ep_middle_list.append(results[1])\n",
    "\n"
   ],
   "outputs": [],
   "metadata": {}
  },
  {
   "cell_type": "code",
   "execution_count": null,
   "source": [
    "fig,ax=plt.subplots()\n",
    "# ax.plot(m_list,LN_no_list,'.-',label='No measurement')\n",
    "\n",
    "ax.plot(m_list,LN_Born_link_op_ep_middle_list/np.log(2),'.-',label='Link (o+) measurement (LN)')\n",
    "ax.plot(m_list,MI_Born_link_op_ep_middle_list/np.log(2),'.-',label='Link (o+) measurement (MI)')\n",
    "\n",
    "ax.legend()\n",
    "ax.grid('on')\n",
    "ax.set_xlabel(r'm')\n",
    "ax.set_ylabel(r'log neg [log(2)]')\n",
    "ax.margins(x=0)\n",
    "ax.set_title('Lx={:d}, Ly={:d}'.format(Lx,Ly))\n",
    "fig.savefig('/mnt/d/KITP/Rp_SPT/8/LN_CI_Born_link_op_ep_middle_Lx{:d}_Ly{:d}.pdf'.format(Lx,Ly),bbox_inches='tight')"
   ],
   "outputs": [],
   "metadata": {}
  },
  {
   "cell_type": "markdown",
   "source": [
    "## one chain of Ly is o+, others are e+"
   ],
   "metadata": {}
  },
  {
   "cell_type": "markdown",
   "source": [
    "## one ring is {o+,o-}, in between {e+,e-}"
   ],
   "metadata": {}
  },
  {
   "cell_type": "code",
   "execution_count": null,
   "source": [
    "m_list=(lambda x:(x-2)**3+2 )(np.linspace(1,3,25))\n",
    "# m_list=np.linspace(1,3,10)\n",
    "es=20\n",
    "LN_Born_link_pool22_list=np.zeros((len(m_list),es))\n",
    "MI_Born_link_pool22_list=np.zeros((len(m_list),es))\n",
    "Lx,Ly=128,4\n",
    "def run(p):\n",
    "    m,Lx,Ly=p\n",
    "    params=Params(m=m,Lx=Lx,Ly=Ly,bcx=-1,bcy=1)\n",
    "    proj_range_0=params.linearize_index([np.arange(params.Lx//4,3*params.Lx//8),np.arange(0,params.Ly)],4,proj=True,k=4)\n",
    "    proj_range_1=params.linearize_index([np.arange(3*params.Lx//8,3*params.Lx//8+1),np.arange(0,params.Ly)],4,proj=True,k=4)\n",
    "    proj_range_2=params.linearize_index([np.arange(3*params.Lx//8+1,params.Lx//2),np.arange(0,params.Ly)],4,proj=True,k=4)\n",
    "    params.measure_all_Born(proj_range_0,type='link',pool=2,linear=True)\n",
    "    params.measure_all_Born(proj_range_1,type='link',pool=-2,linear=True)\n",
    "    params.measure_all_Born(proj_range_2,type='link',pool=2,linear=True)\n",
    "    LN=params.log_neg([np.arange(Lx//4),np.arange(Ly)],[np.arange(Lx//4)+Lx//2,np.arange(Ly)])\n",
    "    MI=params.mutual_information_m([np.arange(Lx//4),np.arange(Ly)],[np.arange(Lx//4)+Lx//2,np.arange(Ly)])\n",
    "    return MI,LN\n",
    "for m_i,m in enumerate(m_list):\n",
    "    st=time.time()\n",
    "\n",
    "    inputs=[(m,Lx,Ly) for _ in range(es)]\n",
    "    async_result=rc[:].map_sync(run,inputs)\n",
    "\n",
    "    for index,results in enumerate(async_result):\n",
    "        MI_Born_link_pool22_list[m_i,index],LN_Born_link_pool22_list[m_i,index]=results\n",
    "\n",
    "    print('{:d}:{:.1f}'.format(m_i,time.time()-st))\n"
   ],
   "outputs": [],
   "metadata": {}
  },
  {
   "cell_type": "code",
   "execution_count": null,
   "source": [
    "fig,ax=plt.subplots()\n",
    "# ax.plot(m_list,LN_no_list,'.-',label='No measurement')\n",
    "\n",
    "ax.errorbar(m_list,LN_Born_link_pool22_list.mean(axis=1)/np.log(2),LN_Born_link_pool22_list.std(axis=1)/np.log(2)/np.sqrt(es-1),capsize=3,fmt='.-',label='Link measurement (LN)')\n",
    "ax.errorbar(m_list,MI_Born_link_pool22_list.mean(axis=1)/np.log(2),MI_Born_link_pool22_list.std(axis=1)/np.log(2)/np.sqrt(es-1),capsize=3,fmt='.-',label='Link measurement (MI)')\n",
    "\n",
    "ax.legend()\n",
    "ax.grid('on')\n",
    "ax.set_xlabel(r'm')\n",
    "ax.set_ylabel(r'log neg [log(2)]')\n",
    "ax.margins(x=0)\n",
    "ax.set_title('Ensemble Size={:d}, Lx={:d}, Ly={:d}'.format(es,Lx,Ly))\n",
    "fig.savefig('/mnt/d/KITP/Rp_SPT/8/LN_CI_Born_link_pool22_En{:d}_Lx{:d}_Ly{:d}.pdf'.format(es,Lx,Ly),bbox_inches='tight')"
   ],
   "outputs": [],
   "metadata": {}
  },
  {
   "cell_type": "markdown",
   "source": [
    "## one ring is {o+,o-}, in between no measurement"
   ],
   "metadata": {}
  },
  {
   "cell_type": "code",
   "execution_count": null,
   "source": [
    "m_list=(lambda x:(x-2)**3+2 )(np.linspace(1,3,25))\n",
    "# m_list=np.linspace(1,3,10)\n",
    "es=20\n",
    "LN_Born_link_pool2no2_list=np.zeros((len(m_list),es))\n",
    "MI_Born_link_pool2no2_list=np.zeros((len(m_list),es))\n",
    "Lx,Ly=64,4\n",
    "def run(p):\n",
    "    m,Lx,Ly=p\n",
    "    params=Params(m=m,Lx=Lx,Ly=Ly,bcx=-1,bcy=1)\n",
    "    proj_range_0=params.linearize_index([np.arange(params.Lx//4,3*params.Lx//8),np.arange(0,params.Ly)],4,proj=True,k=4)\n",
    "    proj_range_1=params.linearize_index([np.arange(3*params.Lx//8,3*params.Lx//8+1),np.arange(0,params.Ly)],4,proj=True,k=4)\n",
    "    proj_range_2=params.linearize_index([np.arange(3*params.Lx//8+1,params.Lx//2),np.arange(0,params.Ly)],4,proj=True,k=4)\n",
    "    params.measure_all_Born(proj_range_0,type='link',pool=2,linear=True)\n",
    "    # params.measure_all_Born(proj_range_1,type='link',pool=-2,linear=True)\n",
    "    params.measure_all_Born(proj_range_2,type='link',pool=2,linear=True)\n",
    "    LN=params.log_neg([np.arange(Lx//4),np.arange(Ly)],[np.arange(Lx//4)+Lx//2,np.arange(Ly)])\n",
    "    MI=params.mutual_information_m([np.arange(Lx//4),np.arange(Ly)],[np.arange(Lx//4)+Lx//2,np.arange(Ly)])\n",
    "    return MI,LN\n",
    "for m_i,m in enumerate(m_list):\n",
    "    st=time.time()\n",
    "\n",
    "    inputs=[(m,Lx,Ly) for _ in range(es)]\n",
    "    async_result=rc[:].map_sync(run,inputs)\n",
    "\n",
    "    for index,results in enumerate(async_result):\n",
    "        MI_Born_link_pool2no2_list[m_i,index],LN_Born_link_pool2no2_list[m_i,index]=results\n",
    "\n",
    "    print('{:d}:{:.1f}'.format(m_i,time.time()-st))\n"
   ],
   "outputs": [],
   "metadata": {}
  },
  {
   "cell_type": "code",
   "execution_count": null,
   "source": [
    "fig,ax=plt.subplots()\n",
    "# ax.plot(m_list,LN_no_list,'.-',label='No measurement')\n",
    "\n",
    "ax.errorbar(m_list,LN_Born_link_pool2no2_list.mean(axis=1)/np.log(2),LN_Born_link_pool2no2_list.std(axis=1)/np.log(2)/np.sqrt(es-1),capsize=3,fmt='.-',label='Link measurement (LN)')\n",
    "ax.errorbar(m_list,MI_Born_link_pool2no2_list.mean(axis=1)/np.log(2),MI_Born_link_pool2no2_list.std(axis=1)/np.log(2)/np.sqrt(es-1),capsize=3,fmt='.-',label='Link measurement (MI)')\n",
    "\n",
    "ax.legend()\n",
    "ax.grid('on')\n",
    "ax.set_xlabel(r'm')\n",
    "ax.set_ylabel(r'log neg [log(2)]')\n",
    "ax.margins(x=0)\n",
    "ax.set_title('Ensemble Size={:d}, Lx={:d}, Ly={:d}'.format(es,Lx,Ly))\n",
    "fig.savefig('/mnt/d/KITP/Rp_SPT/8/LN_CI_Born_link_pool2no2_En{:d}_Lx{:d}_Ly{:d}.pdf'.format(es,Lx,Ly),bbox_inches='tight')"
   ],
   "outputs": [],
   "metadata": {}
  },
  {
   "cell_type": "markdown",
   "source": [
    "## one ring is o+, in between Born"
   ],
   "metadata": {}
  },
  {
   "cell_type": "code",
   "execution_count": null,
   "source": [
    "m_list=(lambda x:(x-2)**3+2 )(np.linspace(1,3,25))\n",
    "# m_list=np.linspace(1,3,10)\n",
    "es=20\n",
    "LN_Born_link_op_ep_ring_middle_list=np.zeros((len(m_list),es))\n",
    "MI_Born_link_op_ep_ring_middle_list=np.zeros((len(m_list),es))\n",
    "Lx,Ly=64,4\n",
    "def run(p):\n",
    "    m,Lx,Ly=p\n",
    "    params=Params(m=m,Lx=Lx,Ly=Ly,bcx=-1,bcy=1)\n",
    "    proj_range_0=params.linearize_index([np.arange(params.Lx//4,3*params.Lx//8),np.arange(0,params.Ly)],4,proj=True,k=4)\n",
    "    proj_range_1=params.linearize_index([np.arange(3*params.Lx//8,3*params.Lx//8+1),np.arange(0,params.Ly)],4,proj=True,k=4)\n",
    "    proj_range_2=params.linearize_index([np.arange(3*params.Lx//8+1,params.Lx//2),np.arange(0,params.Ly)],4,proj=True,k=4)\n",
    "    params.measure_all_Born(proj_range_0,type='link',prob=[1,0,0,0],linear=True)\n",
    "    params.measure_all_Born(proj_range_1,type='link',pool=-2,linear=True)\n",
    "    params.measure_all_Born(proj_range_2,type='link',prob=[1,0,0,0],linear=True)\n",
    "    LN=params.log_neg([np.arange(Lx//4),np.arange(Ly)],[np.arange(Lx//4)+Lx//2,np.arange(Ly)])\n",
    "    MI=params.mutual_information_m([np.arange(Lx//4),np.arange(Ly)],[np.arange(Lx//4)+Lx//2,np.arange(Ly)])\n",
    "    return MI,LN\n",
    "for m_i,m in enumerate(m_list):\n",
    "    st=time.time()\n",
    "\n",
    "    inputs=[(m,Lx,Ly) for _ in range(es)]\n",
    "    async_result=rc[:].map_sync(run,inputs)\n",
    "\n",
    "    for index,results in enumerate(async_result):\n",
    "        MI_Born_link_op_ep_ring_middle_list[m_i,index],LN_Born_link_op_ep_ring_middle_list[m_i,index]=results\n",
    "\n",
    "    print('{:d}:{:.1f}'.format(m_i,time.time()-st))\n"
   ],
   "outputs": [],
   "metadata": {}
  },
  {
   "cell_type": "code",
   "execution_count": null,
   "source": [
    "fig,ax=plt.subplots()\n",
    "# ax.plot(m_list,LN_no_list,'.-',label='No measurement')\n",
    "\n",
    "ax.plot(m_list,LN_Born_link_op_ep_ring_middle_list/np.log(2),'.-',label='Link (o+) measurement (LN)')\n",
    "ax.plot(m_list,MI_Born_link_op_ep_ring_middle_list/np.log(2),'.-',label='Link (o+) measurement (MI)')\n",
    "\n",
    "ax.legend()\n",
    "ax.grid('on')\n",
    "ax.set_xlabel(r'm')\n",
    "ax.set_ylabel(r'log neg [log(2)]')\n",
    "ax.margins(x=0)\n",
    "ax.set_title('Lx={:d}, Ly={:d}'.format(Lx,Ly))\n",
    "fig.savefig('/mnt/d/KITP/Rp_SPT/8/LN_CI_Born_link_op_ep_ring_middle_Lx{:d}_Ly{:d}.pdf'.format(Lx,Ly),bbox_inches='tight')"
   ],
   "outputs": [],
   "metadata": {}
  },
  {
   "cell_type": "markdown",
   "source": [
    "## one ring is o+, in between no measure"
   ],
   "metadata": {}
  },
  {
   "cell_type": "code",
   "execution_count": null,
   "source": [
    "m_list=(lambda x:(x-2)**3+2 )(np.linspace(1,3,25))\n",
    "# m_list=np.linspace(1,3,10)\n",
    "LN_Born_link_op_ep_ring_middle_no_list=[]\n",
    "MI_Born_link_op_ep_ring_middle_no_list=[]\n",
    "Lx,Ly=64,4\n",
    "def run(p):\n",
    "    m,Lx,Ly=p\n",
    "    params=Params(m=m,Lx=Lx,Ly=Ly,bcx=-1,bcy=1)\n",
    "    proj_range_0=params.linearize_index([np.arange(params.Lx//4,3*params.Lx//8),np.arange(0,params.Ly)],4,proj=True,k=4)\n",
    "    proj_range_1=params.linearize_index([np.arange(3*params.Lx//8,3*params.Lx//8+1),np.arange(0,params.Ly)],4,proj=True,k=4)\n",
    "    proj_range_2=params.linearize_index([np.arange(3*params.Lx//8+1,params.Lx//2),np.arange(0,params.Ly)],4,proj=True,k=4)\n",
    "    params.measure_all_Born(proj_range_0,type='link',prob=[1,0,0,0],linear=True)\n",
    "    # params.measure_all_Born(proj_range_1,type='link',prob=[0,0,1,0],linear=True)\n",
    "    params.measure_all_Born(proj_range_2,type='link',prob=[1,0,0,0],linear=True)\n",
    "    LN=params.log_neg([np.arange(Lx//4),np.arange(Ly)],[np.arange(Lx//4)+Lx//2,np.arange(Ly)])\n",
    "    MI=params.mutual_information_m([np.arange(Lx//4),np.arange(Ly)],[np.arange(Lx//4)+Lx//2,np.arange(Ly)])\n",
    "    return MI,LN\n",
    "\n",
    "    \n",
    "inputs=[(m,Lx,Ly) for m in m_list]\n",
    "async_result=(rc[:].map_sync(run,inputs))\n",
    "\n",
    "for index,results in enumerate(async_result):\n",
    "    MI_Born_link_op_ep_ring_middle_no_list.append(results[0])\n",
    "    LN_Born_link_op_ep_ring_middle_no_list.append(results[1])\n"
   ],
   "outputs": [],
   "metadata": {}
  },
  {
   "cell_type": "code",
   "execution_count": null,
   "source": [
    "fig,ax=plt.subplots()\n",
    "# ax.plot(m_list,LN_no_list,'.-',label='No measurement')\n",
    "\n",
    "ax.plot(m_list,LN_Born_link_op_ep_ring_middle_no_list/np.log(2),'.-',label='Link (o+) measurement (LN)')\n",
    "ax.plot(m_list,MI_Born_link_op_ep_ring_middle_no_list/np.log(2),'.-',label='Link (o+) measurement (MI)')\n",
    "\n",
    "ax.legend()\n",
    "ax.grid('on')\n",
    "ax.set_xlabel(r'm')\n",
    "ax.set_ylabel(r'log neg [log(2)]')\n",
    "ax.margins(x=0)\n",
    "ax.set_title('Lx={:d}, Ly={:d}'.format(Lx,Ly))\n",
    "fig.savefig('/mnt/d/KITP/Rp_SPT/8/LN_CI_Born_link_op_ep_ring_middle_no_Lx{:d}_Ly{:d}.pdf'.format(Lx,Ly),bbox_inches='tight')"
   ],
   "outputs": [],
   "metadata": {}
  },
  {
   "cell_type": "markdown",
   "source": [
    "## ignore symmetry, use four bell states"
   ],
   "metadata": {}
  },
  {
   "cell_type": "code",
   "execution_count": null,
   "source": [
    "m_list=(lambda x:(x-2)**3+2 )(np.linspace(1,3,25))\n",
    "# m_list=np.linspace(1,3,10)\n",
    "es=20\n",
    "LN_Born_link_nosymm_list=np.zeros((len(m_list),es))\n",
    "MI_Born_link_nosymm_list=np.zeros((len(m_list),es))\n",
    "FN_Born_link_nosymm_list=np.zeros((len(m_list),es))\n",
    "Lx,Ly=128,4\n",
    "def run(p):\n",
    "    m,Lx,Ly=p\n",
    "    params=Params(m=m,Lx=Lx,Ly=Ly,bcx=-1,bcy=1)\n",
    "    proj_range_0=params.linearize_index([np.arange(params.Lx//4)+params.Lx//4,np.arange(0,params.Ly)],4,proj=True,k=4)\n",
    "    params.measure_all_Born(proj_range_0,type='link',linear=True,ignore=True)\n",
    "    LN=params.log_neg([np.arange(Lx//4),np.arange(Ly)],[np.arange(Lx//4)+Lx//2,np.arange(Ly)])\n",
    "    MI=params.mutual_information_m([np.arange(Lx//4),np.arange(Ly)],[np.arange(Lx//4)+Lx//2,np.arange(Ly)])\n",
    "    FN=params.fermion_number()\n",
    "    return MI,LN,FN\n",
    "\n",
    "for m_i,m in enumerate(m_list):\n",
    "    st=time.time()\n",
    "\n",
    "    inputs=[(m,Lx,Ly) for _ in range(es)]\n",
    "    async_result=rc[:].map_sync(run,inputs)\n",
    "\n",
    "    for index,results in enumerate(async_result):\n",
    "        MI_Born_link_nosymm_list[m_i,index],LN_Born_link_nosymm_list[m_i,index],FN_Born_link_nosymm_list[m_i,index]=results\n",
    "\n",
    "    print('{:d}:{:.1f}'.format(m_i,time.time()-st))\n"
   ],
   "outputs": [],
   "metadata": {}
  },
  {
   "cell_type": "code",
   "execution_count": null,
   "source": [
    "fig,ax=plt.subplots()\n",
    "# ax.plot(m_list,LN_no_list,'.-',label='No measurement')\n",
    "\n",
    "ax.errorbar(m_list,LN_Born_link_nosymm_list.mean(axis=1)/np.log(2),LN_Born_link_nosymm_list.std(axis=1)/np.log(2)/np.sqrt(es-1),capsize=3,fmt='.-',label='Link measurement (LN)')\n",
    "ax.errorbar(m_list,MI_Born_link_nosymm_list.mean(axis=1)/np.log(2),MI_Born_link_nosymm_list.std(axis=1)/np.log(2)/np.sqrt(es-1),capsize=3,fmt='.-',label='Link measurement (MI)')\n",
    "\n",
    "# ax.errorbar(m_list,FN_Born_link_nosymm_list.mean(axis=1)/np.log(2),FN_Born_link_nosymm_list.std(axis=1)/np.log(2)/np.sqrt(es-1),capsize=3,fmt='.-',label='Link measurement (Fermion number)')\n",
    "\n",
    "ax.legend()\n",
    "ax.grid('on')\n",
    "ax.set_xlabel(r'm')\n",
    "ax.set_ylabel(r'log neg [log(2)]')\n",
    "ax.margins(x=0)\n",
    "ax.set_title('Ensemble Size={:d}, Lx={:d}, Ly={:d}'.format(es,Lx,Ly))\n",
    "\n",
    "# ax2=ax.twinx()\n",
    "# ax2.errorbar(m_list,FN_Born_link_nosymm_list.mean(axis=1),FN_Born_link_nosymm_list.std(axis=1)/np.sqrt(es-1),capsize=3,fmt='.-',label='Link measurement (Fermion number)',color='g')\n",
    "\n",
    "# ax2.axhline(y=128*4,ls='--')\n",
    "# ax2.set_ylabel('fermion number')\n",
    "# # ax2.set_ylim([500,514])\n",
    "\n",
    "fig.savefig('/mnt/d/KITP/Rp_SPT/8/LN_CI_Born_link_nosymm_En{:d}_Lx{:d}_Ly{:d}.pdf'.format(es,Lx,Ly),bbox_inches='tight')"
   ],
   "outputs": [],
   "metadata": {}
  },
  {
   "cell_type": "markdown",
   "source": [
    "## Inf onsite"
   ],
   "metadata": {}
  },
  {
   "cell_type": "code",
   "execution_count": null,
   "source": [
    "m_list=np.linspace(1,3,10)\n",
    "es=20\n",
    "LN_Born_inf_list=np.zeros((len(m_list),es))\n",
    "MI_Born_inf_list=np.zeros((len(m_list),es))\n",
    "Lx,Ly=128,4\n",
    "def run(p):\n",
    "    m,Lx,Ly=p\n",
    "    params=Params(m=m,dxmax=Lx,dymax=Ly,Lx=np.inf,Ly=np.inf,bcx=-1,bcy=1)\n",
    "    params.measure_all_Born([np.arange(Lx//4,Lx//2),np.arange(Ly)])\n",
    "    LN=params.log_neg([np.arange(Lx//4),np.arange(Ly)],[np.arange(Lx//4)+Lx//2,np.arange(Ly)])\n",
    "    MI=params.mutual_information_m([np.arange(Lx//4),np.arange(Ly)],[np.arange(Lx//4)+Lx//2,np.arange(Ly)])\n",
    "    return MI,LN\n",
    "\n",
    "for m_i,m in enumerate(m_list):\n",
    "    st=time.time()\n",
    "    # # Serial\n",
    "    # params0=Params(m=m,Lx=Lx,Ly=Ly)\n",
    "    # for es_i in range(es):\n",
    "    #     params=copy(params0)\n",
    "    #     params.measure_all_Born([np.arange(params.Lx//4,params.Lx//2),np.arange(params.Ly)])\n",
    "    #     # MI_Born_inf_list[m_i,es_i]=params.mutual_information_m([np.arange(params.Lx//4),np.arange(params.Ly)],[np.arange(params.Lx//4)+params.Lx//2,np.arange(params.Ly)])\n",
    "    #     LN_Born_inf_list[m_i,es_i]=params.log_neg([np.arange(params.Lx//4),np.arange(params.Ly)],[np.arange(params.Lx//4)+params.Lx//2,np.arange(params.Ly)])\n",
    "\n",
    "    # Parallel\n",
    "    inputs=[(m,Lx,Ly) for _ in range(es)]\n",
    "    async_result=rc[:].map_sync(run,inputs)\n",
    "\n",
    "    for index,results in enumerate(async_result):\n",
    "        MI_Born_inf_list[m_i,index],LN_Born_inf_list[m_i,index]=results\n",
    "\n",
    "    print('{:d}:{:.1f}'.format(m_i,time.time()-st))\n"
   ],
   "outputs": [],
   "metadata": {}
  },
  {
   "cell_type": "code",
   "execution_count": null,
   "source": [
    "fig,ax=plt.subplots()\n",
    "# ax.plot(m_list,LN_no_inf_list,'.-',label='No measurement (LN)')\n",
    "# ax.plot(m_list,MI_no_inf_list,'.-',label='No measurement (MI)')\n",
    "\n",
    "ax.errorbar(m_list,LN_Born_inf_list.mean(axis=1)/np.log(2),LN_Born_inf_list.std(axis=1)/np.sqrt(es-1),capsize=3,fmt='.-',label='Onsite measurement (LN)')\n",
    "ax.errorbar(m_list,MI_Born_inf_list.mean(axis=1)/np.log(2),MI_Born_inf_list.std(axis=1)/np.sqrt(es-1),capsize=3,fmt='.-',label='Onsite measurement (MI)')\n",
    "ax.legend()\n",
    "ax.grid('on')\n",
    "ax.set_xlabel(r'm')\n",
    "ax.set_ylabel(r'log neg [log(2)]')\n",
    "ax.margins(x=0)\n",
    "ax.set_title('Ensemble Size={:d}, dx={:d}, dy={:d}'.format(es,Lx,Ly))\n",
    "fig.savefig('/mnt/d/KITP/Rp_SPT/8/LN_CI_Born_inf_En{:d}_Lx{:d}_Ly{:d}.pdf'.format(es,Lx,Ly),bbox_inches='tight')"
   ],
   "outputs": [],
   "metadata": {}
  },
  {
   "cell_type": "markdown",
   "source": [
    "## Inf link"
   ],
   "metadata": {}
  },
  {
   "cell_type": "code",
   "execution_count": null,
   "source": [
    "m_list=np.linspace(1,3,10)\n",
    "es=20\n",
    "LN_Born_link_inf_list=np.zeros((len(m_list),es))\n",
    "MI_Born_link_inf_list=np.zeros((len(m_list),es))\n",
    "Lx,Ly=64,8\n",
    "def run(p):\n",
    "    m,Lx,Ly=p\n",
    "    params=Params(m=m,dxmax=Lx,dymax=Ly,Lx=np.inf,Ly=np.inf,bcx=-1,bcy=1)\n",
    "    params.measure_all_Born([np.arange(Lx//4,Lx//2),np.arange(Ly)],type='link')\n",
    "    LN=params.log_neg([np.arange(Lx//4),np.arange(Ly)],[np.arange(Lx//4)+Lx//2,np.arange(Ly)])\n",
    "    MI=params.mutual_information_m([np.arange(Lx//4),np.arange(Ly)],[np.arange(Lx//4)+Lx//2,np.arange(Ly)])\n",
    "    return MI,LN\n",
    "\n",
    "for m_i,m in enumerate(m_list):\n",
    "    st=time.time()\n",
    "    # # Serial\n",
    "    # params0=Params(m=m,Lx=Lx,Ly=Ly)\n",
    "    # for es_i in range(es):\n",
    "    #     params=copy(params0)\n",
    "    #     params.measure_all_Born([np.arange(params.Lx//4,params.Lx//2),np.arange(params.Ly)])\n",
    "    #     # MI_Born_link_inf_list[m_i,es_i]=params.mutual_information_m([np.arange(params.Lx//4),np.arange(params.Ly)],[np.arange(params.Lx//4)+params.Lx//2,np.arange(params.Ly)])\n",
    "    #     LN_Born_link_inf_list[m_i,es_i]=params.log_neg([np.arange(params.Lx//4),np.arange(params.Ly)],[np.arange(params.Lx//4)+params.Lx//2,np.arange(params.Ly)])\n",
    "\n",
    "    # Parallel\n",
    "    inputs=[(m,Lx,Ly) for _ in range(es)]\n",
    "    async_result=rc[:].map_sync(run,inputs)\n",
    "\n",
    "    for index,results in enumerate(async_result):\n",
    "        MI_Born_link_inf_list[m_i,index],LN_Born_link_inf_list[m_i,index]=results\n",
    "\n",
    "    print('{:d}:{:.1f}'.format(m_i,time.time()-st))\n"
   ],
   "outputs": [],
   "metadata": {}
  },
  {
   "cell_type": "code",
   "execution_count": null,
   "source": [
    "fig,ax=plt.subplots()\n",
    "ax.errorbar(m_list,LN_Born_link_inf_list.mean(axis=1)/np.log(2),LN_Born_link_inf_list.std(axis=1)/np.sqrt(es-1),capsize=3,fmt='.-',label='Link measurement (LN)')\n",
    "ax.errorbar(m_list,MI_Born_link_inf_list.mean(axis=1)/np.log(2),MI_Born_link_inf_list.std(axis=1)/np.sqrt(es-1),capsize=3,fmt='.-',label='Link measurement (MI)')\n",
    "ax.legend()\n",
    "ax.grid('on')\n",
    "ax.set_xlabel(r'm')\n",
    "ax.set_ylabel(r'log neg [log(2)]')\n",
    "ax.margins(x=0)\n",
    "ax.set_title('Ensemble Size={:d}, dx={:d}, dy={:d}'.format(es,Lx,Ly))\n",
    "fig.savefig('/mnt/d/KITP/Rp_SPT/8/LN_CI_Born_link_inf_En{:d}_Lx{:d}_Ly{:d}.pdf'.format(es,Lx,Ly),bbox_inches='tight')\n"
   ],
   "outputs": [],
   "metadata": {}
  },
  {
   "cell_type": "markdown",
   "source": [
    "# Scaling at m=2"
   ],
   "metadata": {}
  },
  {
   "cell_type": "markdown",
   "source": [
    "## no measurement"
   ],
   "metadata": {}
  },
  {
   "cell_type": "code",
   "execution_count": null,
   "source": [
    "import matplotlib.patches as mpatches\n",
    "def place_region(x,y,fig,ax,color='ybyk'):  \n",
    "    # fig,ax=plt.subplots()\n",
    "    arc=[mpatches.Arc((x,y),50,50,-theta,0,90,transform=None,ec=ec,lw=5) for theta,ec in zip(np.arange(4)*90,color)]\n",
    "    [fig.artists.append(arc) for arc in arc]\n",
    "    ax.text(x+25,y+25,r'$A$',transform=None,ha='center',va='center')\n",
    "    ax.text(x+25,y-25,r'$A^\\prime$',transform=None,ha='center',va='center')\n",
    "    ax.text(x-25,y-25,r'$B$',transform=None,ha='center',va='center')\n",
    "    ax.text(x-25,y+25,r'$B^\\prime$',transform=None,ha='center',va='center')"
   ],
   "outputs": [],
   "metadata": {}
  },
  {
   "cell_type": "code",
   "execution_count": null,
   "source": [
    "eta_no_list=[]\n",
    "MI_no_list=[]\n",
    "LN_no_list=[]\n",
    "x_list=[]\n",
    "L=32\n",
    "params=Params(m=2,Lx=L,Ly=16)\n",
    "for ii in range(500):\n",
    "    print(ii)\n",
    "    x=sorted(np.random.choice(np.arange(1,L),3,replace=False))\n",
    "    x=[0]+x\n",
    "    while x in x_list:\n",
    "        x=sorted(np.random.choice(np.arange(1,L),3,replace=False))\n",
    "        x=[0]+x\n",
    "    x_list.append(x)\n",
    "    eta=cross_ratio(x,L)\n",
    "    eta_no_list.append(eta)\n",
    "    subregionA=[np.arange(x[0],x[1]),np.arange(params.Ly)]\n",
    "    subregionB=[np.arange(x[2],x[3]),np.arange(params.Ly)]\n",
    "    MI=params.mutual_information_m(subregionA,subregionB)    \n",
    "    MI_no_list.append(MI)\n",
    "    LN=params.log_neg(subregionA,subregionB)\n",
    "    LN_no_list.append(LN)\n",
    "eta_no_list=np.array(eta_no_list)\n",
    "MI_no_list=np.array(MI_no_list)\n",
    "LN_no_list=np.array(LN_no_list)"
   ],
   "outputs": [],
   "metadata": {}
  },
  {
   "cell_type": "code",
   "execution_count": null,
   "source": [
    "fig,ax=plt.subplots()\n",
    "ax.scatter(eta_no_list,MI_no_list,s=1,color='b',label='L={:d}, MI'.format(L))\n",
    "ax.scatter(eta_no_list,LN_no_list,s=1,color='r',label='L={:d}, LN'.format(L))\n",
    "\n",
    "ax.set_xscale('log')\n",
    "ax.set_yscale('log')\n",
    "ax.set_xlim([np.min(eta_no_list),1])\n",
    "# ax.set_ylim([1e-10,1])\n",
    "\n",
    "mask_MI=(MI_no_list>1e-10)&((eta_no_list)<1)\n",
    "lr_MI=scipy.stats.linregress(np.log(eta_no_list[mask_MI]),np.log(MI_no_list[mask_MI]))\n",
    "x_int=np.linspace(np.min(eta_no_list),1,10)\n",
    "y_int=np.exp(lr_MI.slope*np.log(x_int)+lr_MI.intercept)\n",
    "ax.plot(x_int,y_int,'c',label=r'MI$\\propto\\eta^{{{:.2f}}}$'.format(lr_MI.slope))\n",
    "\n",
    "mask_LN=(LN_no_list>1e-10)&((eta_no_list)<1)\n",
    "lr_LN=scipy.stats.linregress(np.log(eta_no_list[mask_LN]),np.log(LN_no_list[mask_LN]))\n",
    "x_int=np.linspace(np.min(eta_no_list),1,10)\n",
    "y_int=np.exp(lr_LN.slope*np.log(x_int)+lr_LN.intercept)\n",
    "ax.plot(x_int,y_int,label=r'LN$\\propto\\eta^{{{:.2f}}}$'.format(lr_LN.slope),color='orange')\n",
    "ax.set_xlabel(r'$\\eta$')\n",
    "ax.legend()\n",
    "\n",
    "# place_region(200,200,fig,ax,'ykyk')\n",
    "fig.savefig('/mnt/d/kitp/Rp_SPT/8/MI_LN_no.pdf')"
   ],
   "outputs": [],
   "metadata": {}
  },
  {
   "cell_type": "markdown",
   "source": [
    "## Born measurement"
   ],
   "metadata": {}
  },
  {
   "cell_type": "code",
   "execution_count": null,
   "source": [
    "eta_Born_onsite_Ap_list=[]\n",
    "MI_Born_onsite_Ap_list=[]\n",
    "LN_Born_onsite_Ap_list=[]\n",
    "# x_list=[]\n",
    "# subregion_list=[]\n",
    "es=50\n",
    "L=16\n",
    "params_init=Params(m=2,Lx=L,Ly=8)\n",
    "\n",
    "for _ in range(200):\n",
    "    MI_ensemble_list=[]\n",
    "    LN_ensemble_list=[]\n",
    "    x=sorted(np.random.choice(np.arange(1,L),3,replace=False))\n",
    "    x=[0]+x\n",
    "    subregionA=[np.arange(x[0],x[1]),np.arange(params_init.Ly)]\n",
    "    subregionB=[np.arange(x[2],x[3]),np.arange(params_init.Ly)]\n",
    "    subregionAp=[np.arange(x[1],x[2]),np.arange(params_init.Ly)]\n",
    "    eta=cross_ratio(x,L)\n",
    "    for _ in range(es):\n",
    "        params=copy(params_init)\n",
    "        params.measure_all_Born(subregionAp)\n",
    "        MI_ensemble_list.append(params.mutual_information_m(subregionA,subregionB))\n",
    "        LN_ensemble_list.append(params.log_neg(subregionA,subregionB))\n",
    "\n",
    "    eta_Born_onsite_Ap_list.append(eta)\n",
    "    MI_Born_onsite_Ap_list.append(MI_ensemble_list)\n",
    "    LN_Born_onsite_Ap_list.append(LN_ensemble_list)\n",
    "eta_Born_onsite_Ap_list=np.array(eta_Born_onsite_Ap_list)\n",
    "MI_Born_onsite_Ap_list=np.array(MI_Born_onsite_Ap_list)\n",
    "LN_Born_onsite_Ap_list=np.array(LN_Born_onsite_Ap_list)"
   ],
   "outputs": [],
   "metadata": {}
  },
  {
   "cell_type": "code",
   "execution_count": null,
   "source": [
    "with open('/mnt/d/kitp/Rp_SPT/8/MI_LN_CI_Born_En100_pts200_Lx32_Ly16_Ap.pickle','rb') as f:\n",
    "    [eta_Born_onsite_Ap_list,MI_Born_onsite_Ap_list,LN_Born_onsite_Ap_list]=pickle.load(f)"
   ],
   "outputs": [],
   "metadata": {}
  },
  {
   "cell_type": "code",
   "execution_count": null,
   "source": [
    "MI_Born_onsite_Ap_list_mean=MI_Born_onsite_Ap_list.mean(axis=1)\n",
    "LN_Born_onsite_Ap_list_mean=LN_Born_onsite_Ap_list.mean(axis=1)\n",
    "fig,ax=plt.subplots()\n",
    "ax.scatter(eta_Born_onsite_Ap_list,MI_Born_onsite_Ap_list_mean,s=1,color='b',label='L={:d}, MI'.format(L))\n",
    "ax.scatter(eta_Born_onsite_Ap_list,LN_Born_onsite_Ap_list_mean,s=1,color='r',label='L={:d}, LN'.format(L))\n",
    "\n",
    "ax.set_xscale('log')\n",
    "ax.set_yscale('log')\n",
    "ax.set_xlim([np.min(eta_Born_onsite_Ap_list),1])\n",
    "# ax.set_ylim([1e-10,1])\n",
    "\n",
    "mask_MI=(MI_Born_onsite_Ap_list_mean>1e-10)&((eta_Born_onsite_Ap_list)<1)\n",
    "lr_MI=scipy.stats.linregress(np.log(eta_Born_onsite_Ap_list[mask_MI]),np.log(MI_Born_onsite_Ap_list_mean[mask_MI]))\n",
    "x_int=np.linspace(np.min(eta_Born_onsite_Ap_list),1,10)\n",
    "y_int=np.exp(lr_MI.slope*np.log(x_int)+lr_MI.intercept)\n",
    "ax.plot(x_int,y_int,'c',label=r'MI$\\propto\\eta^{{{:.2f}}}$'.format(lr_MI.slope))\n",
    "\n",
    "mask_LN=(LN_Born_onsite_Ap_list_mean>1e-10)&((eta_Born_onsite_Ap_list)<1)\n",
    "lr_LN=scipy.stats.linregress(np.log(eta_Born_onsite_Ap_list[mask_LN]),np.log(LN_Born_onsite_Ap_list_mean[mask_LN]))\n",
    "x_int=np.linspace(np.min(eta_Born_onsite_Ap_list),1,10)\n",
    "y_int=np.exp(lr_LN.slope*np.log(x_int)+lr_LN.intercept)\n",
    "ax.plot(x_int,y_int,label=r'LN$\\propto\\eta^{{{:.2f}}}$'.format(lr_LN.slope),color='orange')\n",
    "ax.set_xlabel(r'$\\eta$')\n",
    "ax.legend()\n",
    "\n",
    "# place_region(200,200,fig,ax,'ycyk')\n",
    "fig.savefig('/mnt/d/kitp/Rp_SPT/8/MI_LN_Born_onsite_Ap.pdf')\n"
   ],
   "outputs": [],
   "metadata": {}
  },
  {
   "cell_type": "code",
   "execution_count": null,
   "source": [
    "eta_Born_onsite_ApBp_list=[]\n",
    "MI_Born_onsite_ApBp_list=[]\n",
    "LN_Born_onsite_ApBp_list=[]\n",
    "# x_list=[]\n",
    "# subregion_list=[]\n",
    "es=50\n",
    "L=32\n",
    "params_init=Params(m=2,Lx=L,Ly=8)\n",
    "\n",
    "for _ in range(200):\n",
    "    MI_ensemble_list=[]\n",
    "    LN_ensemble_list=[]\n",
    "    x=sorted(np.random.choice(np.arange(1,L),3,replace=False))\n",
    "    x=[0]+x\n",
    "    subregionA=[np.arange(x[0],x[1]),np.arange(params_init.Ly)]\n",
    "    subregionB=[np.arange(x[2],x[3]),np.arange(params_init.Ly)]\n",
    "    subregionAp=[np.arange(x[1],x[2]),np.arange(params_init.Ly)]\n",
    "    subregionBp=[np.arange(x[3],L),np.arange(params_init.Ly)]\n",
    "    eta=cross_ratio(x,L)\n",
    "    for _ in range(es):\n",
    "        params=copy(params_init)\n",
    "        params.measure_all_Born(subregionAp)\n",
    "        MI_ensemble_list.append(params.mutual_information_m(subregionA,subregionB))\n",
    "        LN_ensemble_list.append(params.log_neg(subregionA,subregionB))\n",
    "\n",
    "    eta_Born_onsite_ApBp_list.append(eta)\n",
    "    MI_Born_onsite_ApBp_list.append(MI_ensemble_list)\n",
    "    LN_Born_onsite_ApBp_list.append(LN_ensemble_list)\n",
    "eta_Born_onsite_ApBp_list=np.array(eta_Born_onsite_ApBp_list)\n",
    "MI_Born_onsite_ApBp_list=np.array(MI_Born_onsite_ApBp_list)\n",
    "LN_Born_onsite_ApBp_list=np.array(LN_Born_onsite_ApBp_list)"
   ],
   "outputs": [],
   "metadata": {}
  },
  {
   "cell_type": "code",
   "execution_count": null,
   "source": [
    "with open('/mnt/d/kitp/Rp_SPT/8/MI_LN_CI_Born_En100_pts200_Lx32_Ly16_ApBp.pickle','rb') as f:\n",
    "    [eta_Born_onsite_Ap_list,MI_Born_onsite_Ap_list,LN_Born_onsite_Ap_list]=pickle.load(f)"
   ],
   "outputs": [],
   "metadata": {}
  },
  {
   "cell_type": "code",
   "execution_count": null,
   "source": [
    "MI_Born_onsite_ApBp_list_mean=MI_Born_onsite_ApBp_list.mean(axis=1)\n",
    "LN_Born_onsite_ApBp_list_mean=LN_Born_onsite_ApBp_list.mean(axis=1)\n",
    "fig,ax=plt.subplots()\n",
    "ax.scatter(eta_Born_onsite_ApBp_list,MI_Born_onsite_ApBp_list_mean,s=1,color='b',label='L={:d}, MI'.format(L))\n",
    "ax.scatter(eta_Born_onsite_ApBp_list,LN_Born_onsite_ApBp_list_mean,s=1,color='r',label='L={:d}, LN'.format(L))\n",
    "\n",
    "ax.set_xscale('log')\n",
    "ax.set_yscale('log')\n",
    "ax.set_xlim([np.min(eta_Born_onsite_ApBp_list),1])\n",
    "# ax.set_ylim([1e-10,1])\n",
    "\n",
    "mask_MI=(MI_Born_onsite_ApBp_list_mean>1e-10)&((eta_Born_onsite_ApBp_list)<1)\n",
    "lr_MI=scipy.stats.linregress(np.log(eta_Born_onsite_ApBp_list[mask_MI]),np.log(MI_Born_onsite_ApBp_list_mean[mask_MI]))\n",
    "x_int=np.linspace(np.min(eta_Born_onsite_ApBp_list),1,10)\n",
    "y_int=np.exp(lr_MI.slope*np.log(x_int)+lr_MI.intercept)\n",
    "ax.plot(x_int,y_int,'c',label=r'MI$\\propto\\eta^{{{:.2f}}}$'.format(lr_MI.slope))\n",
    "\n",
    "mask_LN=(LN_Born_onsite_ApBp_list_mean>1e-10)&((eta_Born_onsite_ApBp_list)<1)\n",
    "lr_LN=scipy.stats.linregress(np.log(eta_Born_onsite_ApBp_list[mask_LN]),np.log(LN_Born_onsite_ApBp_list_mean[mask_LN]))\n",
    "x_int=np.linspace(np.min(eta_Born_onsite_ApBp_list),1,10)\n",
    "y_int=np.exp(lr_LN.slope*np.log(x_int)+lr_LN.intercept)\n",
    "ax.plot(x_int,y_int,label=r'LN$\\propto\\eta^{{{:.2f}}}$'.format(lr_LN.slope),color='orange')\n",
    "ax.set_xlabel(r'$\\eta$')\n",
    "ax.legend()\n",
    "\n",
    "# place_region(200,200,fig,ax,'ycyc')\n",
    "fig.savefig('/mnt/d/kitp/Rp_SPT/8/MI_LN_Born_onsite_ApBp.pdf')\n"
   ],
   "outputs": [],
   "metadata": {}
  },
  {
   "cell_type": "markdown",
   "source": [
    "# Check area law of EE"
   ],
   "metadata": {}
  },
  {
   "cell_type": "code",
   "execution_count": null,
   "source": [
    "EE_list={}"
   ],
   "outputs": [],
   "metadata": {}
  },
  {
   "cell_type": "code",
   "execution_count": null,
   "source": [
    "l_EE_list=np.arange(2,32)\n",
    "for Ly in (8,12,16):\n",
    "    params=Params(m=1,Lx=32,Ly=Ly)\n",
    "    EE_list[Ly]=[(params.von_Neumann_entropy_f([np.arange(l),np.arange(params.Ly)])) for l in l_EE_list]\n"
   ],
   "outputs": [],
   "metadata": {}
  },
  {
   "cell_type": "code",
   "execution_count": null,
   "source": [
    "fig,ax=plt.subplots()\n",
    "for Ly in (8,12,16):\n",
    "    ax.plot(l_EE_list,EE_list[Ly]/np.log(2),'.',label='Ly={:.1f}'.format(Ly))\n",
    "ax.set_xlabel(r'$L_x$')\n",
    "ax.set_ylabel('EE [log 2]')\n",
    "ax.legend()"
   ],
   "outputs": [],
   "metadata": {}
  },
  {
   "cell_type": "code",
   "execution_count": null,
   "source": [
    "fig,ax=plt.subplots()\n",
    "for Ly in (8,12,16):\n",
    "    ax.plot(l_EE_list,EE_list[Ly]/np.log(2),'.',label='Ly={:.1f}'.format(Ly))\n",
    "ax.set_xlabel(r'$L_x$')\n",
    "ax.set_ylabel('EE [log 2]')\n",
    "ax.legend()"
   ],
   "outputs": [],
   "metadata": {}
  },
  {
   "cell_type": "markdown",
   "source": [
    "# LN scaling behavior"
   ],
   "metadata": {}
  },
  {
   "cell_type": "code",
   "execution_count": null,
   "source": [
    "LN_scaling_list={}"
   ],
   "outputs": [],
   "metadata": {}
  },
  {
   "cell_type": "markdown",
   "source": [
    "## fix dist, |A|_x, increase |A|_y"
   ],
   "metadata": {}
  },
  {
   "cell_type": "code",
   "execution_count": null,
   "source": [
    "LN_Ay={}"
   ],
   "outputs": [],
   "metadata": {}
  },
  {
   "cell_type": "code",
   "execution_count": null,
   "source": [
    "Ly_list=np.arange(1,16)\n",
    "Lx=32\n",
    "LN_Ay=[Params(m=1,Lx=Lx,Ly=Ly).log_neg([np.arange(Lx//4),np.arange(Ly)],[np.arange(Lx//4)+Lx//2,np.arange(Ly)]) for Ly in Ly_list]\n"
   ],
   "outputs": [],
   "metadata": {}
  },
  {
   "cell_type": "code",
   "execution_count": null,
   "source": [
    "fig,ax=plt.subplots()\n",
    "ax.plot(Ly_list,LN_Ay/np.log(2),'.',label=r'$L_x={:d}$'.format(Lx),color='b')\n",
    "ax.set_xlabel(r'$L_y$')\n",
    "ax.set_ylabel(r'LN [log 2]')\n",
    "lr=scipy.stats.linregress(Ly_list,LN_Ay/np.log(2))\n",
    "xfit=Ly_list[[0,-1]]\n",
    "ax.plot(xfit,lr.slope*xfit+lr.intercept,'c',label=r'LN={:e}~$L_y$+ {:e}'.format(lr.slope,lr.intercept))\n",
    "\n",
    "ax.legend()\n",
    "\n",
    "fig.savefig('//mnt/d/kitp/Rp_SPT/8/LN_Ay.pdf',bbox_inches='tight')"
   ],
   "outputs": [],
   "metadata": {}
  },
  {
   "cell_type": "markdown",
   "source": [
    "## fix dist, |A|_y, increase |A|_x"
   ],
   "metadata": {}
  },
  {
   "cell_type": "code",
   "execution_count": null,
   "source": [
    "Lx_list=np.arange(8,20)\n",
    "Ly=32\n",
    "dist=8\n",
    "LN_Ax=[]\n",
    "\n",
    "def run(p):\n",
    "    Lx,Ly,dist=p\n",
    "    return Params(m=0,Lx=2*Lx+2*dist,Ly=Ly).log_neg([np.arange(Lx),np.arange(Ly)],[np.arange(Lx)+dist+Lx,np.arange(Ly)])\n",
    "\n",
    "inputs=[(Lx,Ly,dist) for Lx in Lx_list]\n",
    "async_result=(rc[:].map_sync(run,inputs))\n",
    "\n",
    "for index,results in enumerate(async_result):\n",
    "    LN_Ax.append(results)"
   ],
   "outputs": [],
   "metadata": {}
  },
  {
   "cell_type": "code",
   "execution_count": null,
   "source": [
    "Lx_list=np.arange(2,20)\n",
    "Ly=32\n",
    "dist=8\n",
    "LN_Ax=[Params(m=1,Lx=2*Lx+2*dist,Ly=Ly).log_neg([np.arange(Lx),np.arange(Ly)],[np.arange(Lx)+dist+Lx,np.arange(Ly)]) for Lx in Lx_list]\n"
   ],
   "outputs": [],
   "metadata": {}
  },
  {
   "cell_type": "code",
   "execution_count": null,
   "source": [
    "fig,ax=plt.subplots()\n",
    "ax.plot(Lx_list,LN_Ax/np.log(2),'.',label=r'$L_y={:d}$'.format(Ly),color='b')\n",
    "ax.set_xlabel(r'$A_x$')\n",
    "ax.set_ylabel(r'LN [log 2]')\n",
    "lr=scipy.stats.linregress(Lx_list,LN_Ax/np.log(2))\n",
    "xfit=Lx_list[[0,-1]]\n",
    "ax.plot(xfit,lr.slope*xfit+lr.intercept,'c',label=r'LN={:e}~$L_x$+ {:e}'.format(lr.slope,lr.intercept))\n",
    "\n",
    "ax.legend()\n",
    "\n",
    "fig.savefig('//mnt/d/kitp/Rp_SPT/8/LN_Ax.pdf',bbox_inches='tight')"
   ],
   "outputs": [],
   "metadata": {}
  },
  {
   "cell_type": "markdown",
   "source": [
    "## fix |A|_x, |A|_y, increase dist "
   ],
   "metadata": {}
  },
  {
   "cell_type": "code",
   "execution_count": null,
   "source": [
    "dist_list=np.arange(2,16)\n",
    "Lx=32\n",
    "Ly=4\n",
    "dist=8\n",
    "# LN_dist=[Params(m=1,Lx=2*Lx+2*dist,Ly=Ly).log_neg([np.arange(Lx),np.arange(Ly)],[np.arange(Lx)+dist+Lx,np.arange(Ly)]) for dist in dist_list]\n",
    "LN_dist=[]\n",
    "for dist in dist_list:\n",
    "    st=time.time()\n",
    "    LN_dist.append(Params(m=1,Lx=2*Lx+2*dist,Ly=Ly).log_neg([np.arange(Lx),np.arange(Ly)],[np.arange(Lx)+dist+Lx,np.arange(Ly)]))\n",
    "    print(\"{:d}:{:.2f}\".format(dist,time.time()-st))\n",
    "    with open('dist.pickle','wb') as f:\n",
    "        pickle.dump([dist_list,LN_dist],f)"
   ],
   "outputs": [],
   "metadata": {}
  },
  {
   "cell_type": "code",
   "execution_count": null,
   "source": [
    "dist_list=np.array(dist_list)\n",
    "LN_dist=np.array(LN_dist)\n",
    "fig,ax=plt.subplots(3,1,figsize=(6.8,8),tight_layout=True)\n",
    "ax[0].plot((dist_list),(LN_dist/np.log(2)),'.')\n",
    "ax[0].set_title('Linear(x)-Linear(y)')\n",
    "ax[1].plot((dist_list),(LN_dist/np.log(2)),'.')\n",
    "ax[1].set_yscale('log')\n",
    "ax[1].set_title('Linear(x)-Log(y)')\n",
    "\n",
    "ax[2].plot((dist_list),(LN_dist/np.log(2)),'.')\n",
    "ax[2].set_xscale('log')\n",
    "ax[2].set_yscale('log')\n",
    "ax[2].set_title('Log(x)-Log(y)')\n",
    "\n",
    "ax[-1].set_xlabel(r'$A^\\prime_x$')\n",
    "[ax.set_ylabel(r'LN [log 2]') for ax in ax]\n",
    "\n",
    "mask=dist_list<10\n",
    "lr=scipy.stats.linregress((dist_list[mask]),np.log(LN_dist[mask]/np.log(2)))\n",
    "xfit=dist_list[mask]\n",
    "ax[1].plot(xfit,np.exp(lr.slope*xfit+lr.intercept),'c',label=r'LN=exp({:.4f}~d+ {:.4f}) $~R^2={:.4f}$'.format(lr.slope,lr.intercept,lr.rvalue))\n",
    "ax[1].legend()\n",
    "mask=dist_list<10\n",
    "lr=scipy.stats.linregress(np.log(dist_list[mask]),np.log(LN_dist[mask]/np.log(2)))\n",
    "xfit=dist_list[mask]\n",
    "ax[2].plot(xfit,np.exp(lr.slope*np.log(xfit)+lr.intercept),'c',label=r'LN=exp({:.4f}~log(d)+ {:.4f}) $~R^2={:.4f}$'.format(lr.slope,lr.intercept,lr.rvalue))# ax[0].legend()\n",
    "ax[2].legend()\n",
    "\n",
    "fig.savefig('//mnt/d/kitp/Rp_SPT/8/LN_dist.pdf',bbox_inches='tight')"
   ],
   "outputs": [],
   "metadata": {}
  },
  {
   "cell_type": "code",
   "execution_count": null,
   "source": [
    "plt.plot(xfit,np.exp(lr.slope*xfit+lr.intercept))"
   ],
   "outputs": [],
   "metadata": {}
  },
  {
   "cell_type": "code",
   "execution_count": null,
   "source": [
    "lr.rvalue"
   ],
   "outputs": [],
   "metadata": {}
  },
  {
   "cell_type": "code",
   "execution_count": null,
   "source": [
    "fig,ax=plt.subplots()\n",
    "ax.plot(dist_list,LN_dist,'.')\n",
    "# ax.set_xscale('log')\n",
    "ax.set_yscale('log')"
   ],
   "outputs": [],
   "metadata": {}
  },
  {
   "cell_type": "code",
   "execution_count": null,
   "source": [
    "Ly_list=np.arange(2,16)\n",
    "Lx_list=np.arange(2,8)\n",
    "LN_scaling_list=np.zeros((Lx_list.shape[0],Ly_list.shape[0]))\n",
    "for Ly_i,Ly in enumerate(Ly_list):\n",
    "    for Lx_i,Lx in enumerate(Lx_list):\n",
    "        params=Params(m=1,Lx=4*Lx,Ly=Ly)\n",
    "        LN_scaling_list[Lx_i,Ly_i]=params.log_neg([np.arange(Lx),np.arange(Ly)],[np.arange(Lx)+2*Lx,np.arange(Ly)])\n"
   ],
   "outputs": [],
   "metadata": {}
  },
  {
   "cell_type": "code",
   "execution_count": null,
   "source": [
    "Lx_map,Ly_map=np.meshgrid(Lx_list,Ly_list)"
   ],
   "outputs": [],
   "metadata": {}
  },
  {
   "cell_type": "code",
   "execution_count": null,
   "source": [
    "plt.plot()"
   ],
   "outputs": [],
   "metadata": {}
  },
  {
   "cell_type": "code",
   "execution_count": null,
   "source": [
    "plt.plot((Ly_map/Lx_map).flatten(),LN_scaling_list.flatten(),'.')"
   ],
   "outputs": [],
   "metadata": {}
  },
  {
   "cell_type": "code",
   "execution_count": null,
   "source": [
    "fig,ax=plt.subplots()\n",
    "for Ly_i,Ly in enumerate(Ly_list):\n",
    "    ax.plot(Lx_list,LN_scaling_list[:,Ly_i],'.-',label='Ly={:d}'.format(Ly))\n",
    "ax.set_yscale('log')\n",
    "# ax.set_xscale('log')\n",
    "ax.legend()\n",
    "ax.set_xlabel('$L_x$')\n",
    "ax.set_ylabel('log neg')"
   ],
   "outputs": [],
   "metadata": {}
  },
  {
   "cell_type": "code",
   "execution_count": null,
   "source": [
    "fig,ax=plt.subplots()\n",
    "for Ly_i,Ly in enumerate(Ly_list):\n",
    "    ax.plot(Lx_list,LN_scaling_list[:,Ly_i],'.-',label='Ly={:d}'.format(Ly))\n",
    "ax.set_yscale('log')\n",
    "# ax.set_xscale('log')\n",
    "ax.legend()\n",
    "ax.set_xlabel('$L_x$')\n",
    "ax.set_ylabel('log neg')"
   ],
   "outputs": [],
   "metadata": {}
  },
  {
   "cell_type": "code",
   "execution_count": null,
   "source": [
    "fig,ax=plt.subplots()\n",
    "ax.plot(Ly_list,LN_scaling_list[1,:])\n",
    "ax.plot(Ly_list,LN_scaling_list[2,:])\n",
    "ax.plot(Ly_list,LN_scaling_list[3,:])\n",
    "ax.plot(Ly_list,LN_scaling_list[4,:])\n",
    "ax.plot(Ly_list,LN_scaling_list[5,:])\n",
    "ax.set_yscale('log')\n",
    "ax.set_xscale('log')"
   ],
   "outputs": [],
   "metadata": {}
  },
  {
   "cell_type": "code",
   "execution_count": null,
   "source": [
    "l_LN_list=np.arange(2,8)\n",
    "for Ly in (8,12,16):\n",
    "    LN_scaling_list[Ly]=[]\n",
    "    for Lx in l_LN_list:\n",
    "        params=Params(m=1,Lx=4*Lx,Ly=Ly)\n",
    "        LN_scaling_list[Ly].append(params.log_neg([np.arange(Lx),np.arange(params.Ly)],[np.arange(Lx)+2*Lx,np.arange(params.Ly)]))"
   ],
   "outputs": [],
   "metadata": {}
  },
  {
   "cell_type": "code",
   "execution_count": null,
   "source": [
    "fig,ax=plt.subplots()\n",
    "for k,v in LN_scaling_list.items():\n",
    "    ax.plot(np.log(l_LN_list),np.log(v/np.log(2)),'.',label='Ly={}'.format(k))\n",
    "ax.legend()\n",
    "ax.set_xlabel(r'$L_x$')\n",
    "ax.set_ylabel('Log neg [log 2]')"
   ],
   "outputs": [],
   "metadata": {}
  },
  {
   "cell_type": "code",
   "execution_count": null,
   "source": [
    "fig,ax=plt.subplots()\n",
    "for k,v in LN_scaling_list.items():\n",
    "    ax.plot(l_LN_list,v/np.log(2),label='Ly={}'.format(k))\n",
    "ax.legend()\n",
    "ax.set_xlabel(r'$L_x$')\n",
    "ax.set_ylabel('Log neg [log 2]')"
   ],
   "outputs": [],
   "metadata": {}
  },
  {
   "cell_type": "code",
   "execution_count": null,
   "source": [
    "fig,ax=plt.subplots()\n",
    "for k,v in LN_scaling_list.items():\n",
    "    ax.plot(l_LN_list,v/np.log(2),label='Ly={}'.format(k))\n",
    "ax.legend()\n",
    "ax.set_xlabel(r'$L_x$')\n",
    "ax.set_ylabel('Log neg [log 2]')"
   ],
   "outputs": [],
   "metadata": {}
  },
  {
   "cell_type": "markdown",
   "source": [
    "### Scaling of states to the GS"
   ],
   "metadata": {}
  },
  {
   "cell_type": "code",
   "execution_count": null,
   "source": [
    "m,Lx=1,64\n",
    "# '/mnt/d/KITP/Rp_SPT/8/'\n",
    "with open('/mnt/d/KITP/Rp_SPT/8/CI_scaling_m{:d}_Lx{:d}.pickle'.format(m,Lx),'rb') as f:\n",
    "    [Ly_list,MI_Born_scaling_list,LN_Born_scaling_list]=pickle.load(f)"
   ],
   "outputs": [],
   "metadata": {}
  },
  {
   "cell_type": "code",
   "execution_count": null,
   "source": [
    "fig,ax=plt.subplots()\n",
    "ax.plot(Ly_list,LN_Born_scaling_list/np.log(2),'.-',label='Onsite measurement (LN)')\n",
    "ax.plot(Ly_list,MI_Born_scaling_list/np.log(2),'.-',label='Onsite measurement (MI)')\n",
    "\n",
    "ax.legend()\n",
    "ax.grid('on')\n",
    "# ax.set_yticks([0,0.5,1])\n",
    "ax.set_xlabel(r'$L_y$')\n",
    "ax.set_ylabel(r'log neg [log(2)]')\n",
    "ax.margins(x=0)\n",
    "ax.set_title('Lx={:d}, m={:d}'.format(Lx,m))\n",
    "fig.savefig('/mnt/d/KITP/Rp_SPT/8/CI_scaling_m{:d}_Lx{:d}.pdf'.format(m,Lx),bbox_inches='tight')"
   ],
   "outputs": [],
   "metadata": {}
  },
  {
   "cell_type": "markdown",
   "source": [
    "## Infinite "
   ],
   "metadata": {}
  },
  {
   "cell_type": "markdown",
   "source": [
    "## fix dist, |A|_x, increase |A|_y"
   ],
   "metadata": {}
  },
  {
   "cell_type": "code",
   "execution_count": null,
   "source": [
    "LN_Ay={}"
   ],
   "outputs": [],
   "metadata": {}
  },
  {
   "cell_type": "code",
   "execution_count": null,
   "source": [
    "Ly_list=np.arange(2,32)\n",
    "Lx=8\n",
    "LN_inf_Ay=[Params(m=1,dxmax=Lx,dymax=Ly,Lx=np.inf,Ly=np.inf).log_neg([np.arange(Lx//4),np.arange(Ly)],[np.arange(Lx//4)+Lx//2,np.arange(Ly)]) for Ly in Ly_list]\n"
   ],
   "outputs": [],
   "metadata": {}
  },
  {
   "cell_type": "code",
   "execution_count": null,
   "source": [
    "fig,ax=plt.subplots()\n",
    "ax.plot(Ly_list,LN_inf_Ay/np.log(2),'.',label=r'$L_x={:d}$'.format(Lx),color='b')\n",
    "ax.set_xlabel(r'$L_y$')\n",
    "ax.set_ylabel(r'LN [log 2]')\n",
    "lr=scipy.stats.linregress(Ly_list,LN_inf_Ay/np.log(2))\n",
    "xfit=Ly_list[[0,-1]]\n",
    "ax.plot(xfit,lr.slope*xfit+lr.intercept,'c',label=r'LN={:.4f}~$L_y$+ {:.4f}'.format(lr.slope,lr.intercept))\n",
    "\n",
    "ax.legend()\n",
    "\n",
    "fig.savefig('/mnt/d/kitp/Rp_SPT/8/LN_inf_Ay.pdf',bbox_inches='tight')"
   ],
   "outputs": [],
   "metadata": {}
  },
  {
   "cell_type": "markdown",
   "source": [
    "## fix dist, |A|_y, increase |A|_x"
   ],
   "metadata": {}
  },
  {
   "cell_type": "code",
   "execution_count": null,
   "source": [
    "Lx_list=np.arange(2,20)\n",
    "Ly=32\n",
    "dist=8\n",
    "LN_inf_Ax=[Params(m=1,dxmax=2*Lx+2*dist,dymax=Ly,Lx=np.inf,Ly=np.inf).log_neg([np.arange(Lx),np.arange(Ly)],[np.arange(Lx)+dist+Lx,np.arange(Ly)]) for Lx in Lx_list]\n"
   ],
   "outputs": [],
   "metadata": {}
  },
  {
   "cell_type": "code",
   "execution_count": null,
   "source": [
    "fig,ax=plt.subplots()\n",
    "ax.plot(Lx_list,LN_inf_Ax/np.log(2),'.',label=r'$L_y={:d}$'.format(Ly),color='b')\n",
    "ax.set_xlabel(r'$A_x$')\n",
    "ax.set_ylabel(r'LN [log 2]')\n",
    "lr=scipy.stats.linregress(Lx_list,LN_inf_Ax/np.log(2))\n",
    "xfit=Lx_list[[0,-1]]\n",
    "ax.plot(xfit,lr.slope*xfit+lr.intercept,'c',label=r'LN={:e}~$L_x$+ {:e}'.format(lr.slope,lr.intercept))\n",
    "\n",
    "ax.legend()\n",
    "\n",
    "fig.savefig('/mnt/d/kitp/Rp_SPT/8/LN_inf_Ax.pdf',bbox_inches='tight')"
   ],
   "outputs": [],
   "metadata": {}
  },
  {
   "cell_type": "markdown",
   "source": [
    "## fix |A|_x, |A|_y, increase dist "
   ],
   "metadata": {}
  },
  {
   "cell_type": "code",
   "execution_count": null,
   "source": [
    "dist_list=np.arange(2,16)\n",
    "Lx=8\n",
    "Ly=32\n",
    "dist=8\n",
    "# LN_inf_dist=[Params(m=1,Lx=2*Lx+2*dist,Ly=Ly).log_neg([np.arange(Lx),np.arange(Ly)],[np.arange(Lx)+dist+Lx,np.arange(Ly)]) for dist in dist_list]\n",
    "LN_inf_dist=[]\n",
    "for dist in dist_list:\n",
    "    st=time.time()\n",
    "    LN_inf_dist.append(Params(m=1,Lx=2*Lx+2*dist,Ly=Ly).log_neg([np.arange(Lx),np.arange(Ly)],[np.arange(Lx)+dist+Lx,np.arange(Ly)]))\n",
    "    print(\"{:d}:{:.2f}\".format(dist,time.time()-st))\n",
    "    # with open('dist.pickle','wb') as f:\n",
    "    #     pickle.dump([dist_list,LN_inf_dist],f)"
   ],
   "outputs": [],
   "metadata": {}
  },
  {
   "cell_type": "code",
   "execution_count": null,
   "source": [
    "dist_list=np.array(dist_list)\n",
    "LN_inf_dist=np.array(LN_inf_dist)\n",
    "fig,ax=plt.subplots(3,1,figsize=(6.8,8),tight_layout=True)\n",
    "ax[0].plot((dist_list),(LN_inf_dist/np.log(2)),'.')\n",
    "ax[0].set_title('Linear(x)-Linear(y)')\n",
    "ax[1].plot((dist_list),(LN_inf_dist/np.log(2)),'.')\n",
    "ax[1].set_yscale('log')\n",
    "ax[1].set_title('Linear(x)-Log(y)')\n",
    "\n",
    "ax[2].plot((dist_list),(LN_inf_dist/np.log(2)),'.')\n",
    "ax[2].set_xscale('log')\n",
    "ax[2].set_yscale('log')\n",
    "ax[2].set_title('Log(x)-Log(y)')\n",
    "\n",
    "ax[-1].set_xlabel(r'$A^\\prime_x$')\n",
    "[ax.set_ylabel(r'LN [log 2]') for ax in ax]\n",
    "\n",
    "mask=dist_list<10\n",
    "lr=scipy.stats.linregress((dist_list[mask]),np.log(LN_inf_dist[mask]/np.log(2)))\n",
    "xfit=dist_list[mask]\n",
    "ax[1].plot(xfit,np.exp(lr.slope*xfit+lr.intercept),'c',label=r'LN=exp({:.4f}~d+ {:.4f}) $~R^2={:.4f}$'.format(lr.slope,lr.intercept,lr.rvalue))\n",
    "ax[1].legend()\n",
    "mask=dist_list<10\n",
    "lr=scipy.stats.linregress(np.log(dist_list[mask]),np.log(LN_inf_dist[mask]/np.log(2)))\n",
    "xfit=dist_list[mask]\n",
    "ax[2].plot(xfit,np.exp(lr.slope*np.log(xfit)+lr.intercept),'c',label=r'LN=exp({:.4f}~log(d)+ {:.4f}) $~R^2={:.4f}$'.format(lr.slope,lr.intercept,lr.rvalue))# ax[0].legend()\n",
    "ax[2].legend()\n",
    "\n",
    "fig.savefig('//mnt/d/kitp/Rp_SPT/8/LN_inf_dist.pdf',bbox_inches='tight')"
   ],
   "outputs": [],
   "metadata": {}
  },
  {
   "cell_type": "markdown",
   "source": [
    "# Measurement based on geometry\n"
   ],
   "metadata": {}
  },
  {
   "cell_type": "markdown",
   "source": [
    "## genus (0,0) --a"
   ],
   "metadata": {}
  },
  {
   "cell_type": "code",
   "execution_count": null,
   "source": [
    "params_g00_a=Params(m=1,Lx=np.inf,Ly=np.inf,dxmax=16,dymax=16)"
   ],
   "outputs": [],
   "metadata": {}
  },
  {
   "cell_type": "code",
   "execution_count": null,
   "source": [
    "proj_total_g00_a=params_g00_a.linearize_index([np.arange(params_g00_a.dxmax),np.arange(params_g00_a.dymax)],4,proj=True)\n",
    "ax,ay=4,4\n",
    "proj_A_g00_a=params_g00_a.linearize_index([np.arange(params_g00_a.dxmax//4-ax//2,params_g00_a.dxmax//4+ax//2),np.arange(params_g00_a.dymax//2-ay//2,params_g00_a.dymax//2+ay//2)],4,proj=True)\n",
    "proj_B_g00_a=params_g00_a.linearize_index([np.arange(3*params_g00_a.dxmax//4-ax//2,3*params_g00_a.dxmax//4+ax//2),np.arange(params_g00_a.dymax//2-ay//2,params_g00_a.dymax//2+ay//2)],4,proj=True)\n",
    "proj_range_g00_a=np.setdiff1d(proj_total_g00_a,np.union1d(proj_A_g00_a,proj_B_g00_a))\n",
    "sub_A_g00_a=params_g00_a.linearize_index([np.arange(params_g00_a.dxmax//4-ax//2,params_g00_a.dxmax//4+ax//2),np.arange(params_g00_a.dymax//2-ay//2,params_g00_a.dymax//2+ay//2)],4)\n",
    "sub_B_g00_a=params_g00_a.linearize_index([np.arange(3*params_g00_a.dxmax//4-ax//2,3*params_g00_a.dxmax//4+ax//2),np.arange(params_g00_a.dymax//2-ay//2,params_g00_a.dymax//2+ay//2)],4)"
   ],
   "outputs": [],
   "metadata": {}
  },
  {
   "cell_type": "code",
   "execution_count": null,
   "source": [
    "fig,ax=plt.subplots()\n",
    "ax.scatter(*params_g00_a.square_index(proj_total_g00_a),color='k')\n",
    "ax.scatter(*params_g00_a.square_index(sub_A_g00_a),color='c')\n",
    "ax.scatter(*params_g00_a.square_index(sub_B_g00_a),color='r')\n",
    "ax.scatter(*params_g00_a.square_index(proj_range_g00_a),color='b')"
   ],
   "outputs": [],
   "metadata": {}
  },
  {
   "cell_type": "code",
   "execution_count": null,
   "source": [
    "m_list_g00_a=np.linspace(1,3,20)\n",
    "es_g00_a=50\n",
    "LN_Born_inf_list_g00_a=np.zeros((len(m_list_g00_a),es_g00_a))\n",
    "MI_Born_inf_list_g00_a=np.zeros((len(m_list_g00_a),es_g00_a))\n",
    "Lx,Ly=16,16\n",
    "\n",
    "def run(inputs):\n",
    "    proj_range,sub_A,sub_B,m=inputs\n",
    "    params=Params(m=m,Lx=np.inf,Ly=np.inf,dxmax=16,dymax=16)\n",
    "    params.measure_all_Born(proj_range,linear=True)\n",
    "    return params.log_neg(sub_A,sub_B,linear=True)\n",
    "\n",
    "async_result_g00_a=[]\n",
    "for m_i,m in enumerate(m_list_g00_a):\n",
    "    inputs=[(proj_range_g00_a,sub_A_g00_a,sub_B_g00_a,m) for _ in range(es_g00_a)]\n",
    "    async_result_g00_a.append(rc[:].map_async(run,inputs))\n"
   ],
   "outputs": [],
   "metadata": {}
  },
  {
   "cell_type": "code",
   "execution_count": null,
   "source": [
    "LN_Born_inf_list_g00_a=[]\n",
    "for m_i,m in enumerate(m_list_g00_a):\n",
    "    st=time.time()\n",
    "    LN_Born_inf_list_g00_a.append(async_result_g00_a[m_i])\n",
    "    print('{:d}:{:.1f}'.format(m_i,time.time()-st))\n",
    "LN_Born_inf_list_g00_a=np.array(LN_Born_inf_list_g00_a)\n"
   ],
   "outputs": [],
   "metadata": {}
  },
  {
   "cell_type": "code",
   "execution_count": null,
   "source": [
    "fig,ax=plt.subplots(1,2)\n",
    "ax[0].scatter(*params_g00_a.square_index(proj_total_g00_a),color='k')\n",
    "ax[0].scatter(*params_g00_a.square_index(sub_A_g00_a),color='c')\n",
    "ax[0].scatter(*params_g00_a.square_index(sub_B_g00_a),color='r')\n",
    "ax[0].scatter(*params_g00_a.square_index(proj_range_g00_a),color='b')\n",
    "ax[1].errorbar(m_list_g00_a,LN_Born_inf_list_g00_a.mean(axis=1),LN_Born_inf_list_g00_a.std(axis=1)/np.sqrt(es_g00_a-1),fmt='.-')\n",
    "ax[1].set_xlabel('m')\n",
    "ax[1].set_ylabel('LN')\n",
    "fig.savefig('/mnt/d/kitp/Rp_SPT/8/LN_geo_inf_g00_a.pdf')"
   ],
   "outputs": [],
   "metadata": {}
  },
  {
   "cell_type": "markdown",
   "source": [
    "## geneus (0,1) --a"
   ],
   "metadata": {}
  },
  {
   "cell_type": "code",
   "execution_count": null,
   "source": [
    "params_g01_a=Params(m=1,Lx=np.inf,Ly=np.inf,dxmax=16,dymax=16)"
   ],
   "outputs": [],
   "metadata": {}
  },
  {
   "cell_type": "code",
   "execution_count": null,
   "source": [
    "proj_total_g01_a=params_g01_a.linearize_index([np.arange(params_g01_a.dxmax),np.arange(params_g01_a.dymax)],4,proj=True)\n",
    "ax,ay=4,4\n",
    "ax2,ay2=8,8\n",
    "proj_A_g01_a=params_g01_a.linearize_index([np.arange(params_g01_a.dxmax//4-ax//2,params_g01_a.dxmax//4+ax//2),np.arange(params_g01_a.dymax//2-ay//2,params_g01_a.dymax//2+ay//2)],4,proj=True)\n",
    "sub_A_g01_a=params_g01_a.linearize_index([np.arange(params_g01_a.dxmax//4-ax//2,params_g01_a.dxmax//4+ax//2),np.arange(params_g01_a.dymax//2-ay//2,params_g01_a.dymax//2+ay//2)],4)\n",
    "proj_B_1_g01_a=params_g01_a.linearize_index([np.arange(3*params_g01_a.dxmax//4-ax//2,3*params_g01_a.dxmax//4+ax//2),np.arange(params_g01_a.dymax//2-ay//2,params_g01_a.dymax//2+ay//2)],4,proj=True)\n",
    "proj_B_2_g01_a=params_g01_a.linearize_index([np.arange(3*params_g01_a.dxmax//4-ax2//2,3*params_g01_a.dxmax//4+ax2//2),np.arange(params_g01_a.dymax//2-ay2//2,params_g01_a.dymax//2+ay2//2)],4,proj=True)\n",
    "proj_B_g01_a=np.setdiff1d(proj_B_2_g01_a,proj_B_1_g01_a)\n",
    "proj_range_g01_a=np.setdiff1d(proj_total_g01_a,np.union1d(proj_A_g01_a,proj_B_2_g01_a))\n",
    "\n",
    "sub_B_1_g01_a=params_g01_a.linearize_index([np.arange(3*params_g01_a.dxmax//4-ax//2,3*params_g01_a.dxmax//4+ax//2),np.arange(params_g01_a.dymax//2-ay//2,params_g01_a.dymax//2+ay//2)],4)\n",
    "sub_B_2_g01_a=params_g01_a.linearize_index([np.arange(3*params_g01_a.dxmax//4-ax2//2,3*params_g01_a.dxmax//4+ax2//2),np.arange(params_g01_a.dymax//2-ay2//2,params_g01_a.dymax//2+ay2//2)],4)\n",
    "sub_B_g01_a=np.setdiff1d(sub_B_2_g01_a,sub_B_1_g01_a)\n"
   ],
   "outputs": [],
   "metadata": {}
  },
  {
   "cell_type": "code",
   "execution_count": null,
   "source": [
    "fig,ax=plt.subplots()\n",
    "ax.scatter(*params_g01_a.square_index(proj_total_g01_a),color='k')\n",
    "ax.scatter(*params_g01_a.square_index(sub_A_g01_a),color='c')\n",
    "ax.scatter(*params_g01_a.square_index(sub_B_g01_a),color='r')\n",
    "ax.scatter(*params_g01_a.square_index(proj_range_g01_a),color='b')"
   ],
   "outputs": [],
   "metadata": {}
  },
  {
   "cell_type": "code",
   "execution_count": null,
   "source": [
    "m_list_g01_a=np.linspace(1,3,20)\n",
    "es_g01_a=50\n",
    "LN_Born_inf_list_g01_a=np.zeros((len(m_list_g01_a),es_g01_a))\n",
    "MI_Born_inf_list_g01_a=np.zeros((len(m_list_g01_a),es_g01_a))\n",
    "Lx,Ly=16,16\n",
    "\n",
    "def run(inputs):\n",
    "    proj_range,sub_A,sub_B,m=inputs\n",
    "    params=Params(m=m,Lx=np.inf,Ly=np.inf,dxmax=16,dymax=16)\n",
    "    params.measure_all_Born(proj_range,linear=True)\n",
    "    return params.log_neg(sub_A,sub_B,linear=True)\n",
    "\n",
    "async_result_g01_a=[]\n",
    "for m_i,m in enumerate(m_list_g01_a):\n",
    "    inputs=[(proj_range_g01_a,sub_A_g01_a,sub_B_g01_a,m) for _ in range(es_g01_a)]\n",
    "    async_result_g01_a.append(rc[:].map_async(run,inputs))\n"
   ],
   "outputs": [],
   "metadata": {}
  },
  {
   "cell_type": "code",
   "execution_count": null,
   "source": [
    "LN_Born_inf_list_g01_a=[]\n",
    "for m_i,m in enumerate(m_list_g01_a):\n",
    "    st=time.time()\n",
    "    LN_Born_inf_list_g01_a.append(async_result_g01_a[m_i])\n",
    "    print('{:d}:{:.1f}'.format(m_i,time.time()-st))\n",
    "LN_Born_inf_list_g01_a=np.array(LN_Born_inf_list_g01_a)\n"
   ],
   "outputs": [],
   "metadata": {}
  },
  {
   "cell_type": "code",
   "execution_count": null,
   "source": [
    "fig,ax=plt.subplots(1,2)\n",
    "ax[0].scatter(*params_g01_a.square_index(proj_total_g01_a),color='k')\n",
    "ax[0].scatter(*params_g01_a.square_index(sub_A_g01_a),color='c')\n",
    "ax[0].scatter(*params_g01_a.square_index(sub_B_g01_a),color='r')\n",
    "ax[0].scatter(*params_g01_a.square_index(proj_range_g01_a),color='b')\n",
    "ax[1].errorbar(m_list_g01_a,LN_Born_inf_list_g01_a.mean(axis=1),LN_Born_inf_list_g01_a.std(axis=1)/np.sqrt(es_g01_a-1),fmt='.-')\n",
    "ax[1].set_xlabel('m')\n",
    "ax[1].set_ylabel('LN')\n",
    "fig.savefig('/mnt/d/kitp/Rp_SPT/8/LN_geo_inf_g01_a.pdf')"
   ],
   "outputs": [],
   "metadata": {}
  },
  {
   "cell_type": "markdown",
   "source": [
    "## geneus (0,1) --b"
   ],
   "metadata": {}
  },
  {
   "cell_type": "code",
   "execution_count": null,
   "source": [
    "params_g01_b=Params(m=1,Lx=np.inf,Ly=np.inf,dxmax=16,dymax=16)"
   ],
   "outputs": [],
   "metadata": {}
  },
  {
   "cell_type": "code",
   "execution_count": null,
   "source": [
    "proj_total_g01_b=params_g01_b.linearize_index([np.arange(params_g01_b.dxmax),np.arange(params_g01_b.dymax)],4,proj=True)\n",
    "ax,ay=4,4\n",
    "ax2,ay2=8,8\n",
    "ax3,ay3=12,12\n",
    "proj_A_g01_b=params_g01_b.linearize_index([np.arange(2*params_g01_b.dxmax//4-ax//2,2*params_g01_b.dxmax//4+ax//2),np.arange(params_g01_b.dymax//2-ay//2,params_g01_b.dymax//2+ay//2)],4,proj=True)\n",
    "sub_A_g01_b=params_g01_b.linearize_index([np.arange(2*params_g01_b.dxmax//4-ax//2,2*params_g01_b.dxmax//4+ax//2),np.arange(params_g01_b.dymax//2-ay//2,params_g01_b.dymax//2+ay//2)],4)\n",
    "\n",
    "proj_B_1_g01_b=params_g01_b.linearize_index([np.arange(2*params_g01_b.dxmax//4-ax2//2,2*params_g01_b.dxmax//4+ax2//2),np.arange(params_g01_b.dymax//2-ay2//2,params_g01_b.dymax//2+ay2//2)],4,proj=True)\n",
    "proj_B_2_g01_b=params_g01_b.linearize_index([np.arange(2*params_g01_b.dxmax//4-ax3//2,2*params_g01_b.dxmax//4+ax3//2),np.arange(params_g01_b.dymax//2-ay3//2,params_g01_b.dymax//2+ay3//2)],4,proj=True)\n",
    "proj_range_g01_b=np.setdiff1d(proj_B_1_g01_b,proj_A_g01_b)\n",
    "\n",
    "sub_B_1_g01_b=params_g01_b.linearize_index([np.arange(2*params_g01_b.dxmax//4-ax2//2,2*params_g01_b.dxmax//4+ax2//2),np.arange(params_g01_b.dymax//2-ay2//2,params_g01_b.dymax//2+ay2//2)],4)\n",
    "sub_B_2_g01_b=params_g01_b.linearize_index([np.arange(2*params_g01_b.dxmax//4-ax3//2,2*params_g01_b.dxmax//4+ax3//2),np.arange(params_g01_b.dymax//2-ay3//2,params_g01_b.dymax//2+ay3//2)],4)\n",
    "sub_B_g01_b=np.setdiff1d(sub_B_2_g01_b,sub_B_1_g01_b)\n"
   ],
   "outputs": [],
   "metadata": {}
  },
  {
   "cell_type": "code",
   "execution_count": null,
   "source": [
    "proj_total_g01_b=params_g01_b.linearize_index([np.arange(params_g01_b.dxmax),np.arange(params_g01_b.dymax)],4,proj=True)\n",
    "ax,ay=4,4\n",
    "ax2,ay2=8,8\n",
    "ax3,ay3=12,12\n",
    "proj_A_g01_b=params_g01_b.linearize_index([np.arange(2*params_g01_b.dxmax//4-ax//2,2*params_g01_b.dxmax//4+ax//2),np.arange(params_g01_b.dymax//2-ay//2,params_g01_b.dymax//2+ay//2)],4,proj=True)\n",
    "sub_A_g01_b=params_g01_b.linearize_index([np.arange(2*params_g01_b.dxmax//4-ax//2,2*params_g01_b.dxmax//4+ax//2),np.arange(params_g01_b.dymax//2-ay//2,params_g01_b.dymax//2+ay//2)],4)\n",
    "\n",
    "proj_B_1_g01_b=params_g01_b.linearize_index([np.arange(2*params_g01_b.dxmax//4-ax//2,2*params_g01_b.dxmax//4+ax//2),np.arange(params_g01_b.dymax//2-ay//2,params_g01_b.dymax//2+ay//2)],4,proj=True)\n",
    "proj_B_2_g01_b=params_g01_b.linearize_index([np.arange(2*params_g01_b.dxmax//4-ax2//2,2*params_g01_b.dxmax//4+ax2//2),np.arange(params_g01_b.dymax//2-ay2//2,params_g01_b.dymax//2+ay2//2)],4,proj=True)\n",
    "proj_range_g01_b=np.setdiff1d(proj_B_2_g01_b,proj_B_1_g01_b)\n",
    "\n",
    "sub_B_1_g01_b=params_g01_b.linearize_index([np.arange(2*params_g01_b.dxmax//4-ax2//2,2*params_g01_b.dxmax//4+ax2//2),np.arange(params_g01_b.dymax//2-ay2//2,params_g01_b.dymax//2+ay2//2)],4)\n",
    "sub_B_2_g01_b=params_g01_b.linearize_index([np.arange(2*params_g01_b.dxmax//4-ax3//2,2*params_g01_b.dxmax//4+ax3//2),np.arange(params_g01_b.dymax//2-ay3//2,params_g01_b.dymax//2+ay3//2)],4)\n",
    "sub_B_g01_b=np.setdiff1d(sub_B_2_g01_b,sub_B_1_g01_b)\n"
   ],
   "outputs": [],
   "metadata": {}
  },
  {
   "cell_type": "code",
   "execution_count": null,
   "source": [
    "fig,ax=plt.subplots()\n",
    "ax.scatter(*params_g01_b.square_index(proj_total_g01_b),color='k')\n",
    "ax.scatter(*params_g01_b.square_index(sub_A_g01_b),color='c')\n",
    "ax.scatter(*params_g01_b.square_index(sub_B_g01_b),color='r')\n",
    "ax.scatter(*params_g01_b.square_index(proj_range_g01_b),color='b')"
   ],
   "outputs": [],
   "metadata": {}
  },
  {
   "cell_type": "code",
   "execution_count": null,
   "source": [
    "m_list_g01_b=np.linspace(1,3,20)\n",
    "es_g01_b=50\n",
    "LN_Born_inf_list_g01_b=np.zeros((len(m_list_g01_b),es_g01_b))\n",
    "MI_Born_inf_list_g01_b=np.zeros((len(m_list_g01_b),es_g01_b))\n",
    "Lx,Ly=16,16\n",
    "\n",
    "def run(inputs):\n",
    "    proj_range,sub_A,sub_B,m=inputs\n",
    "    params=Params(m=m,Lx=np.inf,Ly=np.inf,dxmax=16,dymax=16)\n",
    "    params.measure_all_Born(proj_range,linear=True)\n",
    "    return params.log_neg(sub_A,sub_B,linear=True)\n",
    "\n",
    "async_result_g01_b=[]\n",
    "for m_i,m in enumerate(m_list_g01_b):\n",
    "    inputs=[(proj_range_g01_b,sub_A_g01_b,sub_B_g01_b,m) for _ in range(es_g01_b)]\n",
    "    async_result_g01_b.append(rc[:].map_async(run,inputs))\n"
   ],
   "outputs": [],
   "metadata": {}
  },
  {
   "cell_type": "code",
   "execution_count": null,
   "source": [
    "LN_Born_inf_list_g01_b=[]\n",
    "for m_i,m in enumerate(m_list_g01_b):\n",
    "    st=time.time()\n",
    "    LN_Born_inf_list_g01_b.append(async_result_g01_b[m_i])\n",
    "    print('{:d}:{:.1f}'.format(m_i,time.time()-st))\n",
    "LN_Born_inf_list_g01_b=np.array(LN_Born_inf_list_g01_b)\n"
   ],
   "outputs": [],
   "metadata": {}
  },
  {
   "cell_type": "code",
   "execution_count": null,
   "source": [
    "fig,ax=plt.subplots(1,2)\n",
    "ax[0].scatter(*params_g01_b.square_index(proj_total_g01_b),color='k')\n",
    "ax[0].scatter(*params_g01_b.square_index(sub_A_g01_b),color='c')\n",
    "ax[0].scatter(*params_g01_b.square_index(sub_B_g01_b),color='r')\n",
    "ax[0].scatter(*params_g01_b.square_index(proj_range_g01_b),color='b')\n",
    "ax[1].errorbar(m_list_g01_b,LN_Born_inf_list_g01_b.mean(axis=1),LN_Born_inf_list_g01_b.std(axis=1)/np.sqrt(es_g01_b-1),fmt='.-')\n",
    "ax[1].set_xlabel('m')\n",
    "ax[1].set_ylabel('LN')\n",
    "fig.savefig('/mnt/d/kitp/Rp_SPT/8/LN_geo_inf_g01_b.pdf')"
   ],
   "outputs": [],
   "metadata": {}
  },
  {
   "cell_type": "markdown",
   "source": [
    "## Finite size"
   ],
   "metadata": {}
  },
  {
   "cell_type": "markdown",
   "source": [
    "## genus (0,0) --aa"
   ],
   "metadata": {}
  },
  {
   "cell_type": "code",
   "execution_count": null,
   "source": [
    "params_g00_aa=Params(m=1,Lx=16,Ly=16)"
   ],
   "outputs": [],
   "metadata": {}
  },
  {
   "cell_type": "code",
   "execution_count": null,
   "source": [
    "proj_total_g00_aa=params_g00_aa.linearize_index([np.arange(params_g00_aa.Lx),np.arange(params_g00_aa.Ly)],4,proj=True)\n",
    "ax,ay=4,4\n",
    "proj_A_g00_aa=params_g00_aa.linearize_index([np.arange(params_g00_aa.Lx//4-ax//2,params_g00_aa.Lx//4+ax//2),np.arange(params_g00_aa.Ly//2-ay//2,params_g00_aa.Ly//2+ay//2)],4,proj=True)\n",
    "proj_B_g00_aa=params_g00_aa.linearize_index([np.arange(3*params_g00_aa.Lx//4-ax//2,3*params_g00_aa.Lx//4+ax//2),np.arange(params_g00_aa.Ly)],4,proj=True)\n",
    "proj_range_g00_aa=np.setdiff1d(proj_total_g00_aa,np.union1d(proj_A_g00_aa,proj_B_g00_aa))\n",
    "sub_A_g00_aa=params_g00_aa.linearize_index([np.arange(params_g00_aa.Lx//4-ax//2,params_g00_aa.Lx//4+ax//2),np.arange(params_g00_aa.Ly//2-ay//2,params_g00_aa.Ly//2+ay//2)],4)\n",
    "sub_B_g00_aa=params_g00_aa.linearize_index([np.arange(3*params_g00_aa.Lx//4-ax//2,3*params_g00_aa.Lx//4+ax//2),np.arange(params_g00_aa.Ly)],4)"
   ],
   "outputs": [],
   "metadata": {}
  },
  {
   "cell_type": "code",
   "execution_count": null,
   "source": [
    "fig,ax=plt.subplots()\n",
    "ax.scatter(*params_g00_aa.square_index(proj_total_g00_aa),color='k')\n",
    "ax.scatter(*params_g00_aa.square_index(sub_A_g00_aa),color='c')\n",
    "ax.scatter(*params_g00_aa.square_index(sub_B_g00_aa),color='r')\n",
    "ax.scatter(*params_g00_aa.square_index(proj_range_g00_aa),color='b')"
   ],
   "outputs": [],
   "metadata": {}
  },
  {
   "cell_type": "code",
   "execution_count": null,
   "source": [
    "m_list_g00_aa=np.linspace(1,3,20)\n",
    "es_g00_aa=50\n",
    "LN_Born_inf_list_g00_aa=np.zeros((len(m_list_g00_aa),es_g00_aa))\n",
    "MI_Born_inf_list_g00_aa=np.zeros((len(m_list_g00_aa),es_g00_aa))\n",
    "Lx,Ly=16,16\n",
    "\n",
    "def run(inputs):\n",
    "    proj_range,sub_A,sub_B,m=inputs\n",
    "    params=Params(m=m,Lx=16,Ly=16)\n",
    "    params.measure_all_Born(proj_range,linear=True)\n",
    "    return params.log_neg(sub_A,sub_B,linear=True)\n",
    "\n",
    "async_result_g00_aa=[]\n",
    "for m_i,m in enumerate(m_list_g00_aa):\n",
    "    inputs=[(proj_range_g00_aa,sub_A_g00_aa,sub_B_g00_aa,m) for _ in range(es_g00_aa)]\n",
    "    async_result_g00_aa.append(rc[:].map_async(run,inputs))\n"
   ],
   "outputs": [],
   "metadata": {}
  },
  {
   "cell_type": "code",
   "execution_count": null,
   "source": [
    "LN_Born_inf_list_g00_aa=[]\n",
    "for m_i,m in enumerate(m_list_g00_aa):\n",
    "    st=time.time()\n",
    "    LN_Born_inf_list_g00_aa.append(async_result_g00_aa[m_i])\n",
    "    print('{:d}:{:.1f}'.format(m_i,time.time()-st))\n",
    "LN_Born_inf_list_g00_aa=np.array(LN_Born_inf_list_g00_aa)\n"
   ],
   "outputs": [],
   "metadata": {}
  },
  {
   "cell_type": "code",
   "execution_count": null,
   "source": [
    "fig,ax=plt.subplots(1,2)\n",
    "ax[0].scatter(*params_g00_aa.square_index(proj_total_g00_aa),color='k')\n",
    "ax[0].scatter(*params_g00_aa.square_index(sub_A_g00_aa),color='c')\n",
    "ax[0].scatter(*params_g00_aa.square_index(sub_B_g00_aa),color='r')\n",
    "ax[0].scatter(*params_g00_aa.square_index(proj_range_g00_aa),color='b')\n",
    "ax[1].errorbar(m_list_g00_aa,LN_Born_inf_list_g00_aa.mean(axis=1),LN_Born_inf_list_g00_aa.std(axis=1)/np.sqrt(es_g00_aa-1),fmt='.-')\n",
    "ax[1].set_xlabel('m')\n",
    "ax[1].set_ylabel('LN')\n",
    "fig.savefig('/mnt/d/kitp/Rp_SPT/8/LN_geo_g00_aa.pdf')"
   ],
   "outputs": [],
   "metadata": {}
  },
  {
   "cell_type": "markdown",
   "source": [
    "## genus (0,0) --ab"
   ],
   "metadata": {}
  },
  {
   "cell_type": "code",
   "execution_count": null,
   "source": [
    "params_g00_ab=Params(m=1,Lx=16,Ly=16,bcx=-1,bcy=1)"
   ],
   "outputs": [],
   "metadata": {}
  },
  {
   "cell_type": "code",
   "execution_count": null,
   "source": [
    "proj_total_g00_ab=params_g00_ab.linearize_index([np.arange(params_g00_ab.Lx),np.arange(params_g00_ab.Ly)],4,proj=True)\n",
    "ax,ay=4,4\n",
    "proj_A_g00_ab=params_g00_ab.linearize_index([np.arange(params_g00_ab.Lx//4-ax//2,params_g00_ab.Lx//4+ax//2),np.arange(params_g00_ab.Ly)],4,proj=True)\n",
    "proj_B_g00_ab=params_g00_ab.linearize_index([np.arange(3*params_g00_ab.Lx//4-ax//2,3*params_g00_ab.Lx//4+ax//2),np.arange(params_g00_ab.Ly)],4,proj=True)\n",
    "proj_range_g00_ab=np.setdiff1d(proj_total_g00_ab,np.union1d(proj_A_g00_ab,proj_B_g00_ab))\n",
    "sub_A_g00_ab=params_g00_ab.linearize_index([np.arange(params_g00_ab.Lx//4-ax//2,params_g00_ab.Lx//4+ax//2),np.arange(params_g00_ab.Ly)],4)\n",
    "sub_B_g00_ab=params_g00_ab.linearize_index([np.arange(3*params_g00_ab.Lx//4-ax//2,3*params_g00_ab.Lx//4+ax//2),np.arange(params_g00_ab.Ly)],4)"
   ],
   "outputs": [],
   "metadata": {}
  },
  {
   "cell_type": "code",
   "execution_count": null,
   "source": [
    "fig,ax=plt.subplots()\n",
    "ax.scatter(*params_g00_ab.square_index(proj_total_g00_ab),color='k')\n",
    "ax.scatter(*params_g00_ab.square_index(sub_A_g00_ab),color='c')\n",
    "ax.scatter(*params_g00_ab.square_index(sub_B_g00_ab),color='r')\n",
    "ax.scatter(*params_g00_ab.square_index(proj_range_g00_ab),color='b')"
   ],
   "outputs": [],
   "metadata": {}
  },
  {
   "cell_type": "code",
   "execution_count": null,
   "source": [
    "m_list_g00_ab=np.linspace(1,3,20)\n",
    "es_g00_ab=20\n",
    "LN_Born_inf_list_g00_ab=np.zeros((len(m_list_g00_ab),es_g00_ab))\n",
    "MI_Born_inf_list_g00_ab=np.zeros((len(m_list_g00_ab),es_g00_ab))\n",
    "Lx,Ly=16,16\n",
    "\n",
    "def run(inputs):\n",
    "    proj_range,sub_A,sub_B,m=inputs\n",
    "    params=Params(m=m,Lx=16,Ly=16)\n",
    "    params.measure_all_Born(proj_range,linear=True)\n",
    "    return params.log_neg(sub_A,sub_B,linear=True)\n",
    "\n",
    "async_result_g00_ab=[]\n",
    "for m_i,m in enumerate(m_list_g00_ab):\n",
    "    inputs=[(proj_range_g00_ab,sub_A_g00_ab,sub_B_g00_ab,m) for _ in range(es_g00_ab)]\n",
    "    async_result_g00_ab.append(rc[:].map_async(run,inputs))\n"
   ],
   "outputs": [],
   "metadata": {}
  },
  {
   "cell_type": "code",
   "execution_count": null,
   "source": [
    "LN_Born_inf_list_g00_ab=[]\n",
    "for m_i,m in enumerate(m_list_g00_ab):\n",
    "    st=time.time()\n",
    "    LN_Born_inf_list_g00_ab.append(async_result_g00_ab[m_i])\n",
    "    print('{:d}:{:.1f}'.format(m_i,time.time()-st))\n",
    "LN_Born_inf_list_g00_ab=np.array(LN_Born_inf_list_g00_ab)\n"
   ],
   "outputs": [],
   "metadata": {}
  },
  {
   "cell_type": "code",
   "execution_count": null,
   "source": [
    "fig,ax=plt.subplots(1,2)\n",
    "ax[0].scatter(*params_g00_ab.square_index(proj_total_g00_ab),color='k')\n",
    "ax[0].scatter(*params_g00_ab.square_index(sub_A_g00_ab),color='c')\n",
    "ax[0].scatter(*params_g00_ab.square_index(sub_B_g00_ab),color='r')\n",
    "ax[0].scatter(*params_g00_ab.square_index(proj_range_g00_ab),color='b')\n",
    "ax[1].errorbar(m_list_g00_ab,LN_Born_inf_list_g00_ab.mean(axis=1),LN_Born_inf_list_g00_ab.std(axis=1)/np.sqrt(es_g00_ab-1),fmt='.-')\n",
    "ax[1].set_xlabel('m')\n",
    "ax[1].set_ylabel('LN')\n",
    "# fig.savefig('/mnt/d/kitp/Rp_SPT/8/LN_geo_g00_ab.pdf')"
   ],
   "outputs": [],
   "metadata": {}
  },
  {
   "cell_type": "markdown",
   "source": [
    "## geneus (0,1) --aa"
   ],
   "metadata": {}
  },
  {
   "cell_type": "code",
   "execution_count": null,
   "source": [
    "params_g01_aa=Params(m=1,Lx=16,Ly=16)"
   ],
   "outputs": [],
   "metadata": {}
  },
  {
   "cell_type": "code",
   "execution_count": null,
   "source": [
    "proj_total_g01_aa=params_g01_aa.linearize_index([np.arange(params_g01_aa.Lx),np.arange(params_g01_aa.Ly)],4,proj=True)\n",
    "ax,ay=4,4\n",
    "ax2,ay2=8,8\n",
    "proj_A_g01_aa=params_g01_aa.linearize_index([np.arange(params_g01_aa.Lx//4-ax//2,params_g01_aa.Lx//4+ax//2),np.arange(params_g01_aa.Ly)],4,proj=True)\n",
    "sub_A_g01_aa=params_g01_aa.linearize_index([np.arange(params_g01_aa.Lx//4-ax//2,params_g01_aa.Lx//4+ax//2),np.arange(params_g01_aa.Ly)],4)\n",
    "proj_B_1_g01_aa=params_g01_aa.linearize_index([np.arange(3*params_g01_aa.Lx//4-ax//2,3*params_g01_aa.Lx//4+ax//2),np.arange(params_g01_aa.Ly//2-ay//2,params_g01_aa.Ly//2+ay//2)],4,proj=True)\n",
    "proj_B_2_g01_aa=params_g01_aa.linearize_index([np.arange(3*params_g01_aa.Lx//4-ax2//2,3*params_g01_aa.Lx//4+ax2//2),np.arange(params_g01_aa.Ly//2-ay2//2,params_g01_aa.Ly//2+ay2//2)],4,proj=True)\n",
    "proj_B_g01_aa=np.setdiff1d(proj_B_2_g01_aa,proj_B_1_g01_aa)\n",
    "proj_range_g01_aa=np.setdiff1d(proj_total_g01_aa,np.union1d(proj_A_g01_aa,proj_B_2_g01_aa))\n",
    "\n",
    "sub_B_1_g01_aa=params_g01_aa.linearize_index([np.arange(3*params_g01_aa.Lx//4-ax//2,3*params_g01_aa.Lx//4+ax//2),np.arange(params_g01_aa.Ly//2-ay//2,params_g01_aa.Ly//2+ay//2)],4)\n",
    "sub_B_2_g01_aa=params_g01_aa.linearize_index([np.arange(3*params_g01_aa.Lx//4-ax2//2,3*params_g01_aa.Lx//4+ax2//2),np.arange(params_g01_aa.Ly//2-ay2//2,params_g01_aa.Ly//2+ay2//2)],4)\n",
    "sub_B_g01_aa=np.setdiff1d(sub_B_2_g01_aa,sub_B_1_g01_aa)\n"
   ],
   "outputs": [],
   "metadata": {}
  },
  {
   "cell_type": "code",
   "execution_count": null,
   "source": [
    "fig,ax=plt.subplots()\n",
    "ax.scatter(*params_g01_aa.square_index(proj_total_g01_aa),color='k')\n",
    "ax.scatter(*params_g01_aa.square_index(sub_A_g01_aa),color='c')\n",
    "ax.scatter(*params_g01_aa.square_index(sub_B_g01_aa),color='r')\n",
    "ax.scatter(*params_g01_aa.square_index(proj_range_g01_aa),color='b')"
   ],
   "outputs": [],
   "metadata": {}
  },
  {
   "cell_type": "code",
   "execution_count": null,
   "source": [
    "m_list_g01_aa=np.linspace(1,3,20)\n",
    "es_g01_aa=50\n",
    "LN_Born_inf_list_g01_aa=np.zeros((len(m_list_g01_aa),es_g01_aa))\n",
    "MI_Born_inf_list_g01_aa=np.zeros((len(m_list_g01_aa),es_g01_aa))\n",
    "Lx,Ly=16,16\n",
    "\n",
    "def run(inputs):\n",
    "    proj_range,sub_A,sub_B,m=inputs\n",
    "    params=Params(m=m,Lx=16,Ly=16)\n",
    "    params.measure_all_Born(proj_range,linear=True)\n",
    "    return params.log_neg(sub_A,sub_B,linear=True)\n",
    "\n",
    "async_result_g01_aa=[]\n",
    "for m_i,m in enumerate(m_list_g01_aa):\n",
    "    inputs=[(proj_range_g01_aa,sub_A_g01_aa,sub_B_g01_aa,m) for _ in range(es_g01_aa)]\n",
    "    async_result_g01_aa.append(rc[:].map_async(run,inputs))\n"
   ],
   "outputs": [],
   "metadata": {}
  },
  {
   "cell_type": "code",
   "execution_count": null,
   "source": [
    "LN_Born_inf_list_g01_aa=[]\n",
    "for m_i,m in enumerate(m_list_g01_aa):\n",
    "    st=time.time()\n",
    "    LN_Born_inf_list_g01_aa.append(async_result_g01_aa[m_i])\n",
    "    print('{:d}:{:.1f}'.format(m_i,time.time()-st))\n",
    "LN_Born_inf_list_g01_aa=np.array(LN_Born_inf_list_g01_aa)\n"
   ],
   "outputs": [],
   "metadata": {}
  },
  {
   "cell_type": "code",
   "execution_count": null,
   "source": [
    "fig,ax=plt.subplots(1,2)\n",
    "ax[0].scatter(*params_g01_aa.square_index(proj_total_g01_aa),color='k')\n",
    "ax[0].scatter(*params_g01_aa.square_index(sub_A_g01_aa),color='c')\n",
    "ax[0].scatter(*params_g01_aa.square_index(sub_B_g01_aa),color='r')\n",
    "ax[0].scatter(*params_g01_aa.square_index(proj_range_g01_aa),color='b')\n",
    "ax[1].errorbar(m_list_g01_aa,LN_Born_inf_list_g01_aa.mean(axis=1),LN_Born_inf_list_g01_aa.std(axis=1)/np.sqrt(es_g01_aa-1),fmt='.-')\n",
    "ax[1].set_xlabel('m')\n",
    "ax[1].set_ylabel('LN')\n",
    "fig.savefig('/mnt/d/kitp/Rp_SPT/8/LN_geo_g01_aa.pdf')"
   ],
   "outputs": [],
   "metadata": {}
  },
  {
   "cell_type": "markdown",
   "source": [
    "## geneus (0,1) --ab"
   ],
   "metadata": {}
  },
  {
   "cell_type": "code",
   "execution_count": null,
   "source": [
    "params_g01_ab=Params(m=1,Lx=16,Ly=16)"
   ],
   "outputs": [],
   "metadata": {}
  },
  {
   "cell_type": "code",
   "execution_count": null,
   "source": [
    "proj_total_g01_ab=params_g01_ab.linearize_index([np.arange(params_g01_ab.Lx),np.arange(params_g01_ab.Ly)],4,proj=True)\n",
    "ax,ay=4,4\n",
    "ax2,ay2=8,8\n",
    "proj_A_g01_ab=params_g01_ab.linearize_index([np.arange(params_g01_ab.Lx//4-ax//2,params_g01_ab.Lx//4+ax//2),np.arange(params_g01_ab.Ly//2-ay//2,params_g01_ab.Ly//2+ay//2)],4,proj=True)\n",
    "sub_A_g01_ab=params_g01_ab.linearize_index([np.arange(params_g01_ab.Lx//4-ax//2,params_g01_ab.Lx//4+ax//2),np.arange(params_g01_ab.Ly//2-ay//2,params_g01_ab.Ly//2+ay//2)],4)\n",
    "proj_B_1_g01_ab=params_g01_ab.linearize_index([np.arange(3*params_g01_ab.Lx//4-ax//2,3*params_g01_ab.Lx//4+ax//2),np.arange(params_g01_ab.Ly//2-ay//2,params_g01_ab.Ly//2+ay//2)],4,proj=True)\n",
    "proj_B_2_g01_ab=params_g01_ab.linearize_index([np.arange(3*params_g01_ab.Lx//4-ax2//2,3*params_g01_ab.Lx//4+ax2//2),np.arange(params_g01_ab.Ly)],4,proj=True)\n",
    "proj_B_g01_ab=np.setdiff1d(proj_B_2_g01_ab,proj_B_1_g01_ab)\n",
    "proj_range_g01_ab=np.setdiff1d(proj_total_g01_ab,np.union1d(proj_A_g01_ab,proj_B_2_g01_ab))\n",
    "\n",
    "sub_B_1_g01_ab=params_g01_ab.linearize_index([np.arange(3*params_g01_ab.Lx//4-ax//2,3*params_g01_ab.Lx//4+ax//2),np.arange(params_g01_ab.Ly//2-ay//2,params_g01_ab.Ly//2+ay//2)],4)\n",
    "sub_B_2_g01_ab=params_g01_ab.linearize_index([np.arange(3*params_g01_ab.Lx//4-ax2//2,3*params_g01_ab.Lx//4+ax2//2),np.arange(params_g01_ab.Ly)],4)\n",
    "sub_B_g01_ab=np.setdiff1d(sub_B_2_g01_ab,sub_B_1_g01_ab)\n"
   ],
   "outputs": [],
   "metadata": {}
  },
  {
   "cell_type": "code",
   "execution_count": null,
   "source": [
    "fig,ax=plt.subplots()\n",
    "ax.scatter(*params_g01_ab.square_index(proj_total_g01_ab),color='k')\n",
    "ax.scatter(*params_g01_ab.square_index(sub_A_g01_ab),color='c')\n",
    "ax.scatter(*params_g01_ab.square_index(sub_B_g01_ab),color='r')\n",
    "ax.scatter(*params_g01_ab.square_index(proj_range_g01_ab),color='b')"
   ],
   "outputs": [],
   "metadata": {}
  },
  {
   "cell_type": "code",
   "execution_count": null,
   "source": [
    "m_list_g01_ab=np.linspace(1,3,20)\n",
    "es_g01_ab=50\n",
    "LN_Born_inf_list_g01_ab=np.zeros((len(m_list_g01_ab),es_g01_ab))\n",
    "MI_Born_inf_list_g01_ab=np.zeros((len(m_list_g01_ab),es_g01_ab))\n",
    "Lx,Ly=16,16\n",
    "\n",
    "def run(inputs):\n",
    "    proj_range,sub_A,sub_B,m=inputs\n",
    "    params=Params(m=m,Lx=16,Ly=16)\n",
    "    params.measure_all_Born(proj_range,linear=True)\n",
    "    return params.log_neg(sub_A,sub_B,linear=True)\n",
    "\n",
    "async_result_g01_ab=[]\n",
    "for m_i,m in enumerate(m_list_g01_ab):\n",
    "    inputs=[(proj_range_g01_ab,sub_A_g01_ab,sub_B_g01_ab,m) for _ in range(es_g01_ab)]\n",
    "    async_result_g01_ab.append(rc[:].map_async(run,inputs))\n"
   ],
   "outputs": [],
   "metadata": {}
  },
  {
   "cell_type": "code",
   "execution_count": null,
   "source": [
    "LN_Born_inf_list_g01_ab=[]\n",
    "for m_i,m in enumerate(m_list_g01_ab):\n",
    "    st=time.time()\n",
    "    LN_Born_inf_list_g01_ab.append(async_result_g01_ab[m_i])\n",
    "    print('{:d}:{:.1f}'.format(m_i,time.time()-st))\n",
    "LN_Born_inf_list_g01_ab=np.array(LN_Born_inf_list_g01_ab)\n"
   ],
   "outputs": [],
   "metadata": {}
  },
  {
   "cell_type": "code",
   "execution_count": null,
   "source": [
    "fig,ax=plt.subplots(1,2)\n",
    "ax[0].scatter(*params_g01_ab.square_index(proj_total_g01_ab),color='k')\n",
    "ax[0].scatter(*params_g01_ab.square_index(sub_A_g01_ab),color='c')\n",
    "ax[0].scatter(*params_g01_ab.square_index(sub_B_g01_ab),color='r')\n",
    "ax[0].scatter(*params_g01_ab.square_index(proj_range_g01_ab),color='b')\n",
    "ax[1].errorbar(m_list_g01_ab,LN_Born_inf_list_g01_ab.mean(axis=1),LN_Born_inf_list_g01_ab.std(axis=1)/np.sqrt(es_g01_ab-1),fmt='.-')\n",
    "ax[1].set_xlabel('m')\n",
    "ax[1].set_ylabel('LN')\n",
    "fig.savefig('/mnt/d/kitp/Rp_SPT/8/LN_geo_g01_ab.pdf')"
   ],
   "outputs": [],
   "metadata": {}
  },
  {
   "cell_type": "markdown",
   "source": [
    "## geneus (0,1) --ac"
   ],
   "metadata": {}
  },
  {
   "cell_type": "code",
   "execution_count": null,
   "source": [
    "params_g01_ac=Params(m=1,Lx=16,Ly=16)"
   ],
   "outputs": [],
   "metadata": {}
  },
  {
   "cell_type": "code",
   "execution_count": null,
   "source": [
    "proj_total_g01_ac=params_g01_ac.linearize_index([np.arange(params_g01_ac.Lx),np.arange(params_g01_ac.Ly)],4,proj=True)\n",
    "ax,ay=4,4\n",
    "ax2,ay2=8,8\n",
    "proj_A_g01_ac=params_g01_ac.linearize_index([np.arange(params_g01_ac.Lx//4-ax//2,params_g01_ac.Lx//4+ax//2),np.arange(params_g01_ac.Ly)],4,proj=True)\n",
    "sub_A_g01_ac=params_g01_ac.linearize_index([np.arange(params_g01_ac.Lx//4-ax//2,params_g01_ac.Lx//4+ax//2),np.arange(params_g01_ac.Ly)],4)\n",
    "proj_B_1_g01_ac=params_g01_ac.linearize_index([np.arange(3*params_g01_ac.Lx//4-ax//2,3*params_g01_ac.Lx//4+ax//2),np.arange(params_g01_ac.Ly//2-ay//2,params_g01_ac.Ly//2+ay//2)],4,proj=True)\n",
    "proj_B_2_g01_ac=params_g01_ac.linearize_index([np.arange(3*params_g01_ac.Lx//4-ax2//2,3*params_g01_ac.Lx//4+ax2//2),np.arange(params_g01_ac.Ly)],4,proj=True)\n",
    "proj_B_g01_ac=np.setdiff1d(proj_B_2_g01_ac,proj_B_1_g01_ac)\n",
    "proj_range_g01_ac=np.setdiff1d(proj_total_g01_ac,np.union1d(proj_A_g01_ac,proj_B_2_g01_ac))\n",
    "\n",
    "sub_B_1_g01_ac=params_g01_ac.linearize_index([np.arange(3*params_g01_ac.Lx//4-ax//2,3*params_g01_ac.Lx//4+ax//2),np.arange(params_g01_ac.Ly//2-ay//2,params_g01_ac.Ly//2+ay//2)],4)\n",
    "sub_B_2_g01_ac=params_g01_ac.linearize_index([np.arange(3*params_g01_ac.Lx//4-ax2//2,3*params_g01_ac.Lx//4+ax2//2),np.arange(params_g01_ac.Ly)],4)\n",
    "sub_B_g01_ac=np.setdiff1d(sub_B_2_g01_ac,sub_B_1_g01_ac)\n"
   ],
   "outputs": [],
   "metadata": {}
  },
  {
   "cell_type": "code",
   "execution_count": null,
   "source": [
    "fig,ax=plt.subplots()\n",
    "ax.scatter(*params_g01_ac.square_index(proj_total_g01_ac),color='k')\n",
    "ax.scatter(*params_g01_ac.square_index(sub_A_g01_ac),color='c')\n",
    "ax.scatter(*params_g01_ac.square_index(sub_B_g01_ac),color='r')\n",
    "ax.scatter(*params_g01_ac.square_index(proj_range_g01_ac),color='b')"
   ],
   "outputs": [],
   "metadata": {}
  },
  {
   "cell_type": "code",
   "execution_count": null,
   "source": [
    "m_list_g01_ac=np.linspace(1,3,20)\n",
    "es_g01_ac=50\n",
    "LN_Born_inf_list_g01_ac=np.zeros((len(m_list_g01_ac),es_g01_ac))\n",
    "MI_Born_inf_list_g01_ac=np.zeros((len(m_list_g01_ac),es_g01_ac))\n",
    "Lx,Ly=16,16\n",
    "\n",
    "def run(inputs):\n",
    "    proj_range,sub_A,sub_B,m=inputs\n",
    "    params=Params(m=m,Lx=16,Ly=16)\n",
    "    params.measure_all_Born(proj_range,linear=True)\n",
    "    return params.log_neg(sub_A,sub_B,linear=True)\n",
    "\n",
    "async_result_g01_ac=[]\n",
    "for m_i,m in enumerate(m_list_g01_ac):\n",
    "    inputs=[(proj_range_g01_ac,sub_A_g01_ac,sub_B_g01_ac,m) for _ in range(es_g01_ac)]\n",
    "    async_result_g01_ac.append(rc[:].map_async(run,inputs))\n"
   ],
   "outputs": [],
   "metadata": {}
  },
  {
   "cell_type": "code",
   "execution_count": null,
   "source": [
    "LN_Born_inf_list_g01_ac=[]\n",
    "for m_i,m in enumerate(m_list_g01_ac):\n",
    "    st=time.time()\n",
    "    LN_Born_inf_list_g01_ac.append(async_result_g01_ac[m_i])\n",
    "    print('{:d}:{:.1f}'.format(m_i,time.time()-st))\n",
    "LN_Born_inf_list_g01_ac=np.array(LN_Born_inf_list_g01_ac)\n"
   ],
   "outputs": [],
   "metadata": {}
  },
  {
   "cell_type": "code",
   "execution_count": null,
   "source": [
    "fig,ax=plt.subplots(1,2)\n",
    "ax[0].scatter(*params_g01_ac.square_index(proj_total_g01_ac),color='k')\n",
    "ax[0].scatter(*params_g01_ac.square_index(sub_A_g01_ac),color='c')\n",
    "ax[0].scatter(*params_g01_ac.square_index(sub_B_g01_ac),color='r')\n",
    "ax[0].scatter(*params_g01_ac.square_index(proj_range_g01_ac),color='b')\n",
    "ax[1].errorbar(m_list_g01_ac,LN_Born_inf_list_g01_ac.mean(axis=1),LN_Born_inf_list_g01_ac.std(axis=1)/np.sqrt(es_g01_ac-1),fmt='.-')\n",
    "ax[1].set_xlabel('m')\n",
    "ax[1].set_ylabel('LN')\n",
    "fig.savefig('/mnt/d/kitp/Rp_SPT/8/LN_geo_g01_ac.pdf')"
   ],
   "outputs": [],
   "metadata": {}
  },
  {
   "cell_type": "markdown",
   "source": [
    "## geneus (0,1) --ba"
   ],
   "metadata": {}
  },
  {
   "cell_type": "code",
   "execution_count": null,
   "source": [
    "params_g01_ba=Params(m=1,Lx=16,Ly=16)"
   ],
   "outputs": [],
   "metadata": {}
  },
  {
   "cell_type": "code",
   "execution_count": null,
   "source": [
    "proj_total_g01_ba=params_g01_ba.linearize_index([np.arange(params_g01_ba.Lx),np.arange(params_g01_ba.Ly)],4,proj=True)\n",
    "ax,ay=4,4\n",
    "ax2,ay2=8,8\n",
    "ax3,ay3=12,12\n",
    "proj_A_g01_ba=params_g01_ba.linearize_index([np.arange(2*params_g01_ba.Lx//4-ax//2,2*params_g01_ba.Lx//4+ax//2),np.arange(params_g01_ba.Ly//2-ay//2,params_g01_ba.Ly//2+ay//2)],4,proj=True)\n",
    "sub_A_g01_ba=params_g01_ba.linearize_index([np.arange(2*params_g01_ba.Lx//4-ax//2,2*params_g01_ba.Lx//4+ax//2),np.arange(params_g01_ba.Ly//2-ay//2,params_g01_ba.Ly//2+ay//2)],4)\n",
    "\n",
    "proj_B_1_g01_ba=params_g01_ba.linearize_index([np.arange(2*params_g01_ba.Lx//4-ax2//2,2*params_g01_ba.Lx//4+ax2//2),np.arange(params_g01_ba.Ly//2-ay2//2,params_g01_ba.Ly//2+ay2//2)],4,proj=True)\n",
    "proj_B_2_g01_ba=params_g01_ba.linearize_index([np.arange(2*params_g01_ba.Lx//4-ax3//2,2*params_g01_ba.Lx//4+ax3//2),np.arange(params_g01_ba.Ly)],4,proj=True)\n",
    "proj_range_g01_ba=np.setdiff1d(proj_B_1_g01_ba,proj_A_g01_ba)\n",
    "\n",
    "sub_B_1_g01_ba=params_g01_ba.linearize_index([np.arange(2*params_g01_ba.Lx//4-ax2//2,2*params_g01_ba.Lx//4+ax2//2),np.arange(params_g01_ba.Ly//2-ay2//2,params_g01_ba.Ly//2+ay2//2)],4)\n",
    "sub_B_2_g01_ba=params_g01_ba.linearize_index([np.arange(2*params_g01_ba.Lx//4-ax3//2,2*params_g01_ba.Lx//4+ax3//2),np.arange(params_g01_ba.Ly)],4)\n",
    "sub_B_g01_ba=np.setdiff1d(sub_B_2_g01_ba,sub_B_1_g01_ba)\n"
   ],
   "outputs": [],
   "metadata": {}
  },
  {
   "cell_type": "code",
   "execution_count": null,
   "source": [
    "fig,ax=plt.subplots()\n",
    "ax.scatter(*params_g01_ba.square_index(proj_total_g01_ba),color='k')\n",
    "ax.scatter(*params_g01_ba.square_index(sub_A_g01_ba),color='c')\n",
    "ax.scatter(*params_g01_ba.square_index(sub_B_g01_ba),color='r')\n",
    "ax.scatter(*params_g01_ba.square_index(proj_range_g01_ba),color='b')"
   ],
   "outputs": [],
   "metadata": {}
  },
  {
   "cell_type": "code",
   "execution_count": null,
   "source": [
    "m_list_g01_ba=np.linspace(1,3,20)\n",
    "es_g01_ba=50\n",
    "LN_Born_inf_list_g01_ba=np.zeros((len(m_list_g01_ba),es_g01_ba))\n",
    "MI_Born_inf_list_g01_ba=np.zeros((len(m_list_g01_ba),es_g01_ba))\n",
    "Lx,Ly=16,16\n",
    "\n",
    "def run(inputs):\n",
    "    proj_range,sub_A,sub_B,m=inputs\n",
    "    params=Params(m=m,Lx=16,Ly=16)\n",
    "    params.measure_all_Born(proj_range,linear=True)\n",
    "    return params.log_neg(sub_A,sub_B,linear=True)\n",
    "\n",
    "async_result_g01_ba=[]\n",
    "for m_i,m in enumerate(m_list_g01_ba):\n",
    "    inputs=[(proj_range_g01_ba,sub_A_g01_ba,sub_B_g01_ba,m) for _ in range(es_g01_ba)]\n",
    "    async_result_g01_ba.append(rc[:].map_async(run,inputs))\n"
   ],
   "outputs": [],
   "metadata": {}
  },
  {
   "cell_type": "code",
   "execution_count": null,
   "source": [
    "LN_Born_inf_list_g01_ba=[]\n",
    "for m_i,m in enumerate(m_list_g01_ba):\n",
    "    st=time.time()\n",
    "    LN_Born_inf_list_g01_ba.append(async_result_g01_ba[m_i])\n",
    "    print('{:d}:{:.1f}'.format(m_i,time.time()-st))\n",
    "LN_Born_inf_list_g01_ba=np.array(LN_Born_inf_list_g01_ba)\n"
   ],
   "outputs": [],
   "metadata": {}
  },
  {
   "cell_type": "code",
   "execution_count": null,
   "source": [
    "fig,ax=plt.subplots(1,2)\n",
    "ax[0].scatter(*params_g01_ba.square_index(proj_total_g01_ba),color='k')\n",
    "ax[0].scatter(*params_g01_ba.square_index(sub_A_g01_ba),color='c')\n",
    "ax[0].scatter(*params_g01_ba.square_index(sub_B_g01_ba),color='r')\n",
    "ax[0].scatter(*params_g01_ba.square_index(proj_range_g01_ba),color='b')\n",
    "ax[1].errorbar(m_list_g01_ba,LN_Born_inf_list_g01_ba.mean(axis=1),LN_Born_inf_list_g01_ba.std(axis=1)/np.sqrt(es_g01_ba-1),fmt='.-')\n",
    "ax[1].set_xlabel('m')\n",
    "ax[1].set_ylabel('LN')\n",
    "fig.savefig('/mnt/d/kitp/Rp_SPT/8/LN_geo_g01_ba.pdf')"
   ],
   "outputs": [],
   "metadata": {}
  },
  {
   "cell_type": "markdown",
   "source": [
    "# profiler"
   ],
   "metadata": {}
  },
  {
   "cell_type": "code",
   "execution_count": null,
   "source": [
    "params=Params(Lx=32,Ly=16,history=False)"
   ],
   "outputs": [],
   "metadata": {}
  },
  {
   "cell_type": "code",
   "execution_count": null,
   "source": [
    "def test(A):\n",
    "    return A+A.T"
   ],
   "outputs": [],
   "metadata": {}
  },
  {
   "cell_type": "code",
   "execution_count": null,
   "source": [
    "z=np.random.rand(2048,2048)"
   ],
   "outputs": [],
   "metadata": {}
  },
  {
   "cell_type": "code",
   "execution_count": null,
   "source": [
    "%lprun -f test test(z)"
   ],
   "outputs": [],
   "metadata": {}
  },
  {
   "cell_type": "code",
   "execution_count": null,
   "source": [
    "%lprun -f Params.measure params.measure_all_Born([np.arange(params.Lx//4)+params.Lx//4,np.arange(params.Ly)])"
   ],
   "outputs": [],
   "metadata": {}
  },
  {
   "cell_type": "code",
   "execution_count": null,
   "source": [
    "%lprun -f Params.measure params.measure_all_Born([np.arange(params.Lx//4)+params.Lx//4,np.arange(params.Ly)])"
   ],
   "outputs": [],
   "metadata": {}
  },
  {
   "cell_type": "code",
   "execution_count": null,
   "source": [
    "%lprun -f Params.bandstructure params.covariance_matrix()"
   ],
   "outputs": [],
   "metadata": {}
  },
  {
   "cell_type": "code",
   "execution_count": null,
   "source": [
    "%lprun -f Params.c_subregion_m params.c_subregion_m([np.arange(params.Lx//4),np.arange(params.Ly)])"
   ],
   "outputs": [],
   "metadata": {}
  },
  {
   "cell_type": "code",
   "execution_count": null,
   "source": [
    "%lprun -f Params.von_Neumann_entropy_m Params(Lx=16,Ly=16).von_Neumann_entropy_m([np.arange(params.Lx//4),np.arange(params.Ly)])"
   ],
   "outputs": [],
   "metadata": {}
  },
  {
   "cell_type": "code",
   "execution_count": null,
   "source": [
    "%lprun -f Params.von_Neumann_entropy_m Params(Lx=16,Ly=16).von_Neumann_entropy_m([np.arange(params.Lx//4)+params.Lx//2,np.arange(params.Ly)])"
   ],
   "outputs": [],
   "metadata": {}
  },
  {
   "cell_type": "code",
   "execution_count": null,
   "source": [
    "%lprun -f Params.mutual_information_m params.mutual_information_m([np.arange(params.Lx//4),np.arange(params.Ly)],[np.arange(params.Lx//4)+params.Lx//2,np.arange(params.Ly)])"
   ],
   "outputs": [],
   "metadata": {}
  },
  {
   "cell_type": "code",
   "execution_count": null,
   "source": [
    "%lprun -f Params.log_neg Params(m=m,Lx=16,Ly=16).log_neg([np.arange(params.Lx//4),np.arange(params.Ly)],[np.arange(params.Lx//4)+params.Lx//2,np.arange(params.Ly)])"
   ],
   "outputs": [],
   "metadata": {}
  },
  {
   "cell_type": "code",
   "execution_count": null,
   "source": [],
   "outputs": [],
   "metadata": {}
  },
  {
   "cell_type": "code",
   "execution_count": null,
   "source": [
    "# Check scaling behavior"
   ],
   "outputs": [],
   "metadata": {}
  }
 ],
 "metadata": {
  "interpreter": {
   "hash": "6aee4f39eba147985a2c1cbf1db4ebecc02362fa8877deaa860706b7b1b97f3d"
  },
  "kernelspec": {
   "name": "python3",
   "display_name": "Python 3.8.8 64-bit ('base': conda)"
  },
  "language_info": {
   "codemirror_mode": {
    "name": "ipython",
    "version": 3
   },
   "file_extension": ".py",
   "mimetype": "text/x-python",
   "name": "python",
   "nbconvert_exporter": "python",
   "pygments_lexer": "ipython3",
   "version": "3.8.8"
  }
 },
 "nbformat": 4,
 "nbformat_minor": 2
}