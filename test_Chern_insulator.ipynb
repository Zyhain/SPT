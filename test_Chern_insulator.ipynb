{
 "cells": [
  {
   "cell_type": "markdown",
   "metadata": {},
   "source": [
    "# API"
   ]
  },
  {
   "cell_type": "code",
   "execution_count": 2,
   "metadata": {},
   "outputs": [],
   "source": [
    "import numpy as np\n",
    "import scipy.sparse as sp\n",
    "import scipy.sparse.linalg as sla\n",
    "import scipy.linalg as la\n",
    "import scipy.stats\n",
    "import matplotlib.pyplot as plt\n",
    "import time\n",
    "import pickle\n",
    "from copy import copy\n",
    "# %load_ext line_profiler"
   ]
  },
  {
   "cell_type": "code",
   "execution_count": 3,
   "metadata": {},
   "outputs": [],
   "source": [
    "plt.rcParams['text.usetex']=True\n",
    "plt.rcParams['font.family']='serif'\n",
    "plt.rcParams['font.size']=9\n",
    "plt.rcParams['axes.titlesize']=plt.rcParams['font.size']\n",
    "plt.rcParams['figure.figsize']=(6.8,4)"
   ]
  },
  {
   "cell_type": "code",
   "execution_count": 4,
   "metadata": {},
   "outputs": [
    {
     "data": {
      "text/plain": [
       "<AsyncResult: execute>"
      ]
     },
     "execution_count": 4,
     "metadata": {},
     "output_type": "execute_result"
    }
   ],
   "source": [
    "# ipcluster start --engines=MPI -n 4\n",
    "import ipyparallel as ipp\n",
    "rc = ipp.Client()\n",
    "rc[:].execute(\"from Chern_insulator import *\")\n",
    "rc[:].execute(\"import numpy as np\")"
   ]
  },
  {
   "cell_type": "code",
   "execution_count": 20,
   "metadata": {},
   "outputs": [
    {
     "name": "stdout",
     "output_type": "stream",
     "text": [
      "Overwriting Chern_insulator.py\n"
     ]
    }
   ],
   "source": [
    "%%writefile Chern_insulator.py\n",
    "import numpy as np\n",
    "import scipy.linalg as la\n",
    "import numpy.linalg as nla\n",
    "import numpy.matlib\n",
    "\n",
    "\n",
    "class Params:\n",
    "    def __init__(self,\n",
    "            Lx=4,\n",
    "            Ly=16,\n",
    "            t=1,\n",
    "            Delta=1,\n",
    "            m=1,\n",
    "            bcx=1,\n",
    "            bcy=-1,\n",
    "            T=0,\n",
    "            dxmax=16,\n",
    "            dymax=16,\n",
    "            history=False,\n",
    "            pi_flux=False):\n",
    "        self.Lx = Lx\n",
    "        self.Ly = Ly\n",
    "        self.t = t\n",
    "        self.Delta = Delta\n",
    "        self.m = m\n",
    "        self.bcx = bcx\n",
    "        self.bcy = bcy\n",
    "        self.T = T\n",
    "        self.history = history\n",
    "        self.sigmax = np.array([[0, 1], [1, 0]])\n",
    "        self.sigmay = np.array([[0, -1j], [1j, 0]])\n",
    "        self.sigmaz = np.array([[1, 0], [0, -1]])\n",
    "        # check which one is faster, use sparse or dense?\n",
    "        if not pi_flux:\n",
    "            if Lx<np.inf and Ly<np.inf:\n",
    "                hopx = np.diag(np.ones(Lx-1), -1)\n",
    "                hopx[0, -1] = bcx\n",
    "                hopy = np.diag(np.ones(Ly-1), -1)\n",
    "                hopy[0, -1] = bcy\n",
    "                hopxmat = np.kron(hopx, np.eye(Ly))\n",
    "                hopymat = np.kron(np.eye(Lx), hopy)\n",
    "                onsitemat = np.eye(Lx*Ly)\n",
    "                self.Hamiltonian = ((np.kron(hopxmat-hopxmat.T, self.sigmax)+np.kron(hopymat-hopymat.T, self.sigmay))* 1j*t-Delta*np.kron(hopxmat+hopxmat.T+hopymat+hopymat.T, self.sigmaz))/2+m*np.kron(onsitemat, self.sigmaz)\n",
    "            elif Lx==np.inf and Ly==np.inf:\n",
    "                self.dxmax=dxmax\n",
    "                self.dymax=dymax\n",
    "                self.dx=lambda kx: t*np.sin(kx)\n",
    "                self.dy=lambda ky: t*np.sin(ky)\n",
    "                self.dz=lambda kx,ky: m-Delta*np.cos(kx)-Delta*np.cos(ky)\n",
    "            else:\n",
    "                raise ValueError('The size of system {:d,:d} is not supported.'.format(Lx,Ly))\n",
    "\n",
    "    def bandstructure(self):\n",
    "        val, vec = nla.eigh(self.Hamiltonian)\n",
    "        sortindex = np.argsort(val)\n",
    "        self.val = val[sortindex]\n",
    "        self.vec = vec[:, sortindex]\n",
    "\n",
    "\n",
    "    # def E_k(self,kx,ky,branch):\n",
    "    #     '''\n",
    "    #     branch = +/-1\n",
    "    #     '''\n",
    "    #     return branch*np.sqrt(self.dx(kx)**2+self.dy(ky)**2+self.dz(k)**2)\n",
    "    #     # return branch*np.sqrt(self.t**2*(np.sin(kx)**2+np.sin(ky)**2)+(self.m-self.Delta*np.cos(kx)-self.Delta*np.cos(ky))**2)\n",
    "\n",
    "    def fermi_dist_k(self,kx,ky,branch,E_F=0):\n",
    "        if self.T==0:\n",
    "            return np.heaviside(E_F-self.E_k(kx,ky,branch),0)\n",
    "        else:\n",
    "            return 1/(1+np.exp((self.E_k(kx,ky,branch)-E_F)/self.T))\n",
    "\n",
    "    def fermi_dist(self, energy, E_F):\n",
    "        if self.T == 0:\n",
    "            return np.heaviside(E_F-energy, 0)\n",
    "        else:\n",
    "            return 1/(1+np.exp((energy-E_F)/self.T))\n",
    "\n",
    "    def correlation_matrix_inf_fft(self,threshold=[1024,512]):\n",
    "        '''\n",
    "        self.dxmax/self.dymax: the maximal distance in x/y direction (in terms of unit cell) \n",
    "        Directly call fft to evaluate the integral\n",
    "        '''\n",
    "        assert self.Lx==np.inf and self.Ly==np.inf, \"Wire length should be inf\"\n",
    "        # cov_mat=[]\n",
    "        Nxmax=max(2*self.dxmax,threshold[0])\n",
    "        Nymax=max(2*self.dymax,threshold[1])\n",
    "        if self.T>0:\n",
    "            pass    #to be filled\n",
    "        else:\n",
    "            kxlist=np.arange(0,2*np.pi,2*np.pi/Nxmax)\n",
    "            kylist=np.arange(0,2*np.pi,2*np.pi/Nymax)\n",
    "            kxmap,kymap=np.meshgrid(kxlist,kylist)\n",
    "            dxmap=self.dx(kxmap)\n",
    "            dymap=self.dy(kymap)\n",
    "            dzmap=self.dz(kxmap,kymap)\n",
    "            Ekmap=np.sqrt(dxmap**2+dymap**2+dzmap**2)\n",
    "            Ekxymap=np.sqrt(dxmap**2+dymap**2)\n",
    "            costheta=dzmap/Ekmap\n",
    "            sintheta=Ekxymap/Ekmap\n",
    "            Ekxymap[0,0]=np.inf #to avoid 0/0 in cos(phi) & sin(phi); the order of this line matters\n",
    "            cosphi=dxmap/Ekxymap\n",
    "            sinphi=dymap/Ekxymap\n",
    "            fftcostheta=np.fft.ifft2(costheta)\n",
    "            constmap=np.zeros((Nymax,Nxmax))\n",
    "            constmap[0,0]=0.5\n",
    "            A_11=constmap-fftcostheta/2\n",
    "            A_22=constmap+fftcostheta/2\n",
    "            A_12=np.fft.ifft2(-(cosphi-1j*sinphi)/2*sintheta)\n",
    "            A_21=np.fft.ifft2(-(cosphi+1j*sinphi)/2*sintheta)\n",
    "            mat=np.stack([[A_11,A_12],[A_21,A_22]])\n",
    "            C_f=np.zeros((2*self.dxmax*self.dymax,2*self.dxmax*self.dymax))*1j\n",
    "            for i in range(self.dxmax*self.dymax):\n",
    "                for j in range(i):\n",
    "                    di,dj=(i-j)%self.dymax,(i-j)//self.dymax\n",
    "                    C_f[2*i:2*i+2,2*j:2*j+2]=mat[:,:,di,dj]\n",
    "            C_f=C_f+C_f.T.conj()\n",
    "            for i in range(self.dxmax*self.dymax):\n",
    "                C_f[2*i:2*i+2,2*i:2*i+2]=mat[:,:,0,0]\n",
    "            self.C_f=C_f\n",
    "\n",
    "    def correlation_matrix(self, E_F=0):\n",
    "        '''\n",
    "        G_{ij}=<f_i^\\dagger f_j>\n",
    "        '''\n",
    "        if not (hasattr(self, 'val') and hasattr(self, 'vec')):\n",
    "            self.bandstructure()\n",
    "        occupancy_mat = np.matlib.repmat(\n",
    "            self.fermi_dist(self.val, E_F), self.vec.shape[0], 1)\n",
    "        self.C_f = ((occupancy_mat*self.vec)@self.vec.T.conj())\n",
    "\n",
    "    def covariance_matrix(self, E_F=0):\n",
    "        '''\n",
    "        c.f. notes\n",
    "        Maybe differs by a minus sign\n",
    "        '''\n",
    "        if not hasattr(self, 'C_f'):\n",
    "            if self.Lx < np.inf and self.Ly<np.inf:\n",
    "                self.correlation_matrix()\n",
    "            else:\n",
    "                self.correlation_matrix_inf_fft()\n",
    "        G = self.C_f\n",
    "        Gamma_11 = 1j*(G-G.T)\n",
    "        Gamma_21 = -(np.eye(G.shape[0])-G-G.T)\n",
    "        Gamma_12 = -Gamma_21.T\n",
    "        Gamma_22 = -1j*(G.T-G)\n",
    "        Gamma = np.zeros((2*G.shape[0], 2*G.shape[0]), dtype=complex)\n",
    "        even = np.arange(2*G.shape[0])[::2]\n",
    "        odd = np.arange(2*G.shape[0])[1::2]\n",
    "        Gamma[np.ix_(even, even)] = Gamma_11\n",
    "        Gamma[np.ix_(even, odd)] = Gamma_12\n",
    "        Gamma[np.ix_(odd, even)] = Gamma_21\n",
    "        Gamma[np.ix_(odd, odd)] = Gamma_22\n",
    "        assert np.abs(np.imag(Gamma)).max() < 1e-10, \"Covariance matrix not real {:.5f}\".format(np.abs(np.imag(Gamma)).max())\n",
    "        self.C_m = np.real(Gamma-Gamma.T.conj())/2\n",
    "        self.C_m_history = [self.C_m]\n",
    "\n",
    "    def linearize_index(self, subregion, n, proj=False):\n",
    "        '''\n",
    "        If proj ==True, then the index used for projection operator will be returned\n",
    "        '''\n",
    "        subregion_x, subregion_y = (subregion)\n",
    "        subregion_x = np.array(subregion_x)\n",
    "        subregion_y = np.array(subregion_y)\n",
    "        X, Y = np.meshgrid(subregion_x, subregion_y)\n",
    "        if self.Ly<np.inf:\n",
    "            linear_index = ((X*self.Ly+Y).flatten('F'))\n",
    "        else:\n",
    "            linear_index = ((X*self.dymax+Y).flatten('F'))\n",
    "        if proj:\n",
    "            return sorted(np.concatenate([n*linear_index+i for i in range(0, n, 2)]))\n",
    "        else:\n",
    "            return sorted(np.concatenate([n*linear_index+i for i in range(n)]))\n",
    "\n",
    "    def c_subregion_f(self, subregion, linear=True):\n",
    "        '''\n",
    "        subregion: [subregoin_x, subregion_y] index of unit cell\n",
    "        '''\n",
    "        if not hasattr(self, 'C_f'):\n",
    "            self.correlation_matrix()\n",
    "        try:\n",
    "            subregion = list(subregion)\n",
    "        except:\n",
    "            raise ValueError(\"The subregion is ill-defined\"+subregion)\n",
    "\n",
    "        if len(subregion) == 2:\n",
    "            if isinstance(subregion[0], int) and isinstance(subregion[1], int):\n",
    "                linear = True\n",
    "            elif (not isinstance(subregion[0], int)) and (not isinstance(subregion[1], int)):\n",
    "                linear = False\n",
    "            else:\n",
    "                raise ValueError('Illegal subregion')\n",
    "        else:\n",
    "            linear = True\n",
    "        if linear:\n",
    "            # linearized index\n",
    "            subregion_index = subregion\n",
    "        else:\n",
    "            # 2D index\n",
    "            subregion_index = self.linearize_index(subregion, 2)\n",
    "        # This is a dumb way...\n",
    "        return self.C_f[np.ix_(subregion_index, subregion_index)]\n",
    "\n",
    "    def von_Neumann_entropy_f(self, subregion):\n",
    "        c_A = self.c_subregion_f(subregion)\n",
    "        val = nla.eigvalsh(c_A)\n",
    "        self.val_sh = val\n",
    "        val = np.sort(val)\n",
    "        return np.real(-np.sum(val*np.log(val+1e-18j))-np.sum((1-val)*np.log(1-val+1e-18j)))\n",
    "\n",
    "    def c_subregion_m(self, subregion, Gamma=None):\n",
    "        '''\n",
    "        subregion: [subregoin_x, subregion_y] index of unit cell\n",
    "        '''\n",
    "        if not hasattr(self, 'C_m'):\n",
    "            self.covariance_matrix()\n",
    "        if Gamma is None:\n",
    "            Gamma = self.C_m_history[-1]\n",
    "        try:\n",
    "            subregion = list(subregion)\n",
    "        except:\n",
    "            raise ValueError(\"The subregion is ill-defined\"+subregion)\n",
    "\n",
    "        if len(subregion) == 2:\n",
    "            if isinstance(subregion[0], int) and isinstance(subregion[1], int):\n",
    "                linear = True\n",
    "            elif (not isinstance(subregion[0], int)) and (not isinstance(subregion[1], int)):\n",
    "                linear = False\n",
    "            else:\n",
    "                raise ValueError('Illegal subregion')\n",
    "        else:\n",
    "            linear = True\n",
    "        if linear:\n",
    "            # linearized index\n",
    "            subregion_index = subregion\n",
    "        else:\n",
    "            # 2D index\n",
    "            subregion_index = self.linearize_index(subregion, 4)\n",
    "\n",
    "        return Gamma[np.ix_(subregion_index, subregion_index)]\n",
    "\n",
    "    def von_Neumann_entropy_m(self, subregion):\n",
    "        c_A = self.c_subregion_m(subregion)\n",
    "        val = nla.eigvalsh(1j*c_A)\n",
    "        self.val_sh = val\n",
    "        val = np.sort(val)\n",
    "        val = (1-val)/2+1e-18j  # \\lambda=(1-\\xi)/2\n",
    "        return np.real(-np.sum(val*np.log(val))-np.sum((1-val)*np.log(1-val)))/2\n",
    "\n",
    "    def mutual_information_f(self, subregion_A, subregion_B):\n",
    "        subregion_A = self.linearize_index(subregion_A, 2)\n",
    "        subregion_B = self.linearize_index(subregion_B, 2)\n",
    "        s_A = self.von_Neumann_entropy_f(subregion_A)\n",
    "        s_B = self.von_Neumann_entropy_f(subregion_B)\n",
    "        assert np.intersect1d(\n",
    "            subregion_A, subregion_B).size == 0, \"Subregion A and B overlap\"\n",
    "        subregion_AB = np.concatenate([subregion_A, subregion_B])\n",
    "        s_AB = self.von_Neumann_entropy_f(subregion_AB)\n",
    "        return s_A+s_B-s_AB\n",
    "\n",
    "    def mutual_information_m(self, subregion_A, subregion_B):\n",
    "        subregion_A = self.linearize_index(subregion_A, 4)\n",
    "        subregion_B = self.linearize_index(subregion_B, 4)\n",
    "        assert np.intersect1d(\n",
    "            subregion_A, subregion_B).size == 0, \"Subregion A and B overlap\"\n",
    "        s_A = self.von_Neumann_entropy_m(subregion_A)\n",
    "        s_B = self.von_Neumann_entropy_m(subregion_B)\n",
    "        subregion_AB = np.concatenate([subregion_A, subregion_B])\n",
    "        s_AB = self.von_Neumann_entropy_m(subregion_AB)\n",
    "        return s_A+s_B-s_AB\n",
    "\n",
    "    def log_neg(self, subregion_A, subregion_B, Gamma=None):\n",
    "        subregion_A = self.linearize_index(subregion_A, 4)\n",
    "        subregion_B = self.linearize_index(subregion_B, 4)\n",
    "        assert np.intersect1d(\n",
    "            subregion_A, subregion_B).size == 0, \"Subregion A and B overlap\"\n",
    "        if not hasattr(self, 'C_m'):\n",
    "            self.covariance_matrix()\n",
    "\n",
    "        if Gamma is None:\n",
    "            Gamma = self.C_m_history[-1]\n",
    "        subregion_A = np.array(subregion_A)\n",
    "        subregion_B = np.array(subregion_B)\n",
    "        Gm_p = np.block([\n",
    "            [-Gamma[np.ix_(subregion_A, subregion_A)], 1j *\n",
    "             Gamma[np.ix_(subregion_A, subregion_B)]],\n",
    "            [1j*Gamma[np.ix_(subregion_B, subregion_A)],\n",
    "             Gamma[np.ix_(subregion_B, subregion_B)]]\n",
    "        ])\n",
    "        Gm_n = np.block([\n",
    "            [-Gamma[np.ix_(subregion_A, subregion_A)], -1j *\n",
    "             Gamma[np.ix_(subregion_A, subregion_B)]],\n",
    "            [-1j*Gamma[np.ix_(subregion_B, subregion_A)],\n",
    "             Gamma[np.ix_(subregion_B, subregion_B)]]\n",
    "        ])\n",
    "        idm = np.eye(Gm_p.shape[0])\n",
    "        # Gm_x=idm-(idm+1j*Gm_p)@nla.inv(idm-Gm_n@Gm_p)@(idm+1j*Gm_n)\n",
    "        Gm_x = idm-(idm+1j*Gm_p)@(la.solve((idm-Gm_n@Gm_p), (idm+1j*Gm_n)))\n",
    "        Gm_x = (Gm_x+Gm_x.T.conj())/2\n",
    "        xi = nla.eigvalsh(Gm_x)\n",
    "        subregion_AB = np.concatenate([subregion_A, subregion_B])\n",
    "        eA = np.sum(np.log(((1+xi+0j)/2)**0.5+((1-xi+0j)/2)**0.5))/2\n",
    "        chi = nla.eigvalsh(1j*Gamma[np.ix_(subregion_AB, subregion_AB)])\n",
    "        sA = np.sum(np.log(((1+chi)/2)**2+((1-chi)/2)**2))/4\n",
    "        self.eA=eA\n",
    "        self.sA=sA\n",
    "        return np.real(eA+sA)\n",
    "\n",
    "    def projection(self, s):\n",
    "        '''\n",
    "        For type:'onsite'\n",
    "            occupancy number: s= 0,1 \n",
    "            (-1)^0 even parity, (-1)^1 odd parity\n",
    "        For type:'link'\n",
    "            (o,+)|(o,-)|(e,+)|(e,-)\n",
    "        '''\n",
    "        assert (s == 0 or s == 1), \"s={} is either 0 or 1\".format(s)\n",
    "        blkmat = np.array([[0, -(-1)**s, 0, 0],\n",
    "                           [(-1)**s, 0, 0, 0],\n",
    "                           [0, 0, 0, (-1)**s],\n",
    "                           [0, 0, -(-1)**s, 0]])\n",
    "        return blkmat\n",
    "\n",
    "    def measure(self, s, ix):\n",
    "        if not hasattr(self, 'C_m'):\n",
    "            self.covariance_matrix()\n",
    "        if not hasattr(self, 's_history'):\n",
    "            self.s_history = []\n",
    "        if not hasattr(self, 'i_history'):\n",
    "            self.i_history = []\n",
    "\n",
    "        mat = self.C_m_history[-1].copy()\n",
    "\n",
    "        for i_ind, i in enumerate(ix):\n",
    "            mat[[i, -(len(ix)-i_ind)]] = mat[[-(len(ix)-i_ind), i]]\n",
    "            mat[:, [i, -(len(ix)-i_ind)]] = mat[:, [-(len(ix)-i_ind), i]]\n",
    "\n",
    "        self.mat = mat\n",
    "\n",
    "        Gamma_LL = mat[:-len(ix), :-len(ix)]\n",
    "        Gamma_LR = mat[:-len(ix), -len(ix):]\n",
    "        Gamma_RR = mat[-len(ix):, -len(ix):]\n",
    "\n",
    "        proj = self.projection(s)\n",
    "        Upsilon_LL = proj[:-len(ix), :-len(ix)]\n",
    "        Upsilon_RR = proj[-len(ix):, -len(ix):]\n",
    "        Upsilon_RL = proj[-len(ix):, :-len(ix)]\n",
    "        zero = np.zeros((mat.shape[0]-len(ix), len(ix)))\n",
    "        zero0 = np.zeros((len(ix), len(ix)))\n",
    "        mat1 = np.block([[Gamma_LL, zero], [zero.T, Upsilon_RR]])\n",
    "        mat2 = np.block([[Gamma_LR, zero], [zero0, Upsilon_RL]])\n",
    "        mat3 = np.block([[Gamma_RR, np.eye(len(ix))],\n",
    "                        [-np.eye(len(ix)), Upsilon_LL]])\n",
    "        self.mat2 = mat2\n",
    "        if np.count_nonzero(mat2):\n",
    "            Psi = mat1+mat2@(la.solve(mat3, mat2.T))\n",
    "            # Psi=mat1+mat2@(la.lstsq(mat3,mat2.T)[0])\n",
    "            assert np.abs(\n",
    "                np.trace(Psi)) < 1e-5, \"Not trace zero {:e}\".format(np.trace(Psi))\n",
    "        else:\n",
    "            Psi = mat1\n",
    "\n",
    "        for i_ind, i in enumerate(ix):\n",
    "            Psi[[i, -(len(ix)-i_ind)]] = Psi[[-(len(ix)-i_ind), i]]\n",
    "            Psi[:, [i, -(len(ix)-i_ind)]] = Psi[:, [-(len(ix)-i_ind), i]]\n",
    "        Psi = (Psi-Psi.T)/2   # Anti-symmetrize\n",
    "        if self.history:\n",
    "            self.C_m_history.append(Psi)\n",
    "            self.s_history.append(s)\n",
    "            self.i_history.append(ix[0])\n",
    "        else:\n",
    "            self.C_m_history = [Psi]\n",
    "            self.s_history = [s]\n",
    "            self.i_history = [ix[0]]\n",
    "\n",
    "    def measure_all_Born(self, proj_range,prob=None):\n",
    "        proj_range = self.linearize_index(proj_range, 4, proj=True)\n",
    "        # self.proj_range=proj_range\n",
    "        # print(proj_range)\n",
    "        self.P_0_list = []\n",
    "        self.f_parity= []\n",
    "        self.covariance_matrix()\n",
    "        for i in proj_range:\n",
    "            if prob is None:\n",
    "                P_0 = (self.C_m_history[-1][i, i+1]+1)/2    # Use Born rule\n",
    "            else:\n",
    "                P_0=prob\n",
    "            self.P_0_list.append(P_0)\n",
    "            if np.random.rand() < P_0:\n",
    "                self.measure(0, [i, i+1])\n",
    "                self.f_parity.append(0)\n",
    "            else:\n",
    "                self.measure(1, [i, i+1])\n",
    "                self.f_parity.append(1)\n",
    "        return self\n",
    "\n",
    "def cross_ratio(x,L):\n",
    "    if L<np.inf:\n",
    "        xx=lambda i,j: (np.sin(np.pi/(L)*np.abs(x[i]-x[j])))\n",
    "    else:\n",
    "        xx=lambda i,j: np.abs(x[i]-x[j])\n",
    "    eta=(xx(0,1)*xx(2,3))/(xx(0,2)*xx(1,3))\n",
    "    return eta"
   ]
  },
  {
   "cell_type": "markdown",
   "metadata": {},
   "source": [
    "# Test"
   ]
  },
  {
   "cell_type": "code",
   "execution_count": 82,
   "metadata": {},
   "outputs": [],
   "source": [
    "params_L=Params(Lx=32,Ly=8,m=1)"
   ]
  },
  {
   "cell_type": "code",
   "execution_count": 83,
   "metadata": {},
   "outputs": [],
   "source": [
    "params_L.correlation_matrix()"
   ]
  },
  {
   "cell_type": "code",
   "execution_count": 85,
   "metadata": {},
   "outputs": [
    {
     "data": {
      "text/plain": [
       "[array([0, 1, 2, 3, 4, 5, 6, 7]), array([0, 1, 2, 3, 4, 5, 6, 7])]"
      ]
     },
     "execution_count": 85,
     "metadata": {},
     "output_type": "execute_result"
    }
   ],
   "source": [
    "[np.arange(params_L.Lx//4),np.arange(params_L.Ly)]"
   ]
  },
  {
   "cell_type": "code",
   "execution_count": 86,
   "metadata": {},
   "outputs": [
    {
     "data": {
      "text/plain": [
       "[array([16, 17, 18, 19, 20, 21, 22, 23]), array([0, 1, 2, 3, 4, 5, 6, 7])]"
      ]
     },
     "execution_count": 86,
     "metadata": {},
     "output_type": "execute_result"
    }
   ],
   "source": [
    "[np.arange(params_L.Lx//4)+params_L.Lx//2,np.arange(params_L.Ly)]"
   ]
  },
  {
   "cell_type": "code",
   "execution_count": 84,
   "metadata": {},
   "outputs": [
    {
     "data": {
      "text/plain": [
       "1.1922531067298792e-05"
      ]
     },
     "execution_count": 84,
     "metadata": {},
     "output_type": "execute_result"
    }
   ],
   "source": [
    "params_L.log_neg([np.arange(params_L.Lx//4),np.arange(params_L.Ly)],[np.arange(params_L.Lx//4)+params_L.Lx//2,np.arange(params_L.Ly)])"
   ]
  },
  {
   "cell_type": "code",
   "execution_count": 43,
   "metadata": {},
   "outputs": [
    {
     "data": {
      "text/plain": [
       "((4.1663770577805295+1.3560409326122747e-07j), -4.162655047950205)"
      ]
     },
     "execution_count": 43,
     "metadata": {},
     "output_type": "execute_result"
    }
   ],
   "source": [
    "params_L.eA,params_L.sA"
   ]
  },
  {
   "cell_type": "code",
   "execution_count": 38,
   "metadata": {},
   "outputs": [
    {
     "data": {
      "text/plain": [
       "array([[ 0.        , -0.23363533,  0.        ,  0.33322578],\n",
       "       [ 0.23363533,  0.        , -0.33322578,  0.        ],\n",
       "       [ 0.        , -0.33322578,  0.        ,  0.23363533],\n",
       "       [ 0.33322578,  0.        , -0.23363533,  0.        ]])"
      ]
     },
     "execution_count": 38,
     "metadata": {},
     "output_type": "execute_result"
    }
   ],
   "source": [
    "np.round(params_L.C_m[4:8,0:4],10)"
   ]
  },
  {
   "cell_type": "code",
   "execution_count": 78,
   "metadata": {},
   "outputs": [],
   "source": [
    "params=Params(Lx=np.inf,Ly=np.inf,m=1,dxmax=32,dymax=8)"
   ]
  },
  {
   "cell_type": "code",
   "execution_count": 80,
   "metadata": {},
   "outputs": [
    {
     "data": {
      "text/plain": [
       "[array([0, 1, 2, 3, 4, 5, 6, 7]), array([0, 1, 2, 3, 4, 5, 6, 7])]"
      ]
     },
     "execution_count": 80,
     "metadata": {},
     "output_type": "execute_result"
    }
   ],
   "source": [
    "[np.arange(params.dxmax//4),np.arange(params.dymax)]"
   ]
  },
  {
   "cell_type": "code",
   "execution_count": 81,
   "metadata": {},
   "outputs": [
    {
     "data": {
      "text/plain": [
       "[array([16, 17, 18, 19, 20, 21, 22, 23]), array([0, 1, 2, 3, 4, 5, 6, 7])]"
      ]
     },
     "execution_count": 81,
     "metadata": {},
     "output_type": "execute_result"
    }
   ],
   "source": [
    "[np.arange(params.dxmax//4)+params.dxmax//2,np.arange(params.dymax)]"
   ]
  },
  {
   "cell_type": "code",
   "execution_count": 79,
   "metadata": {},
   "outputs": [
    {
     "data": {
      "text/plain": [
       "10.238806413941262"
      ]
     },
     "execution_count": 79,
     "metadata": {},
     "output_type": "execute_result"
    }
   ],
   "source": [
    "params.log_neg([np.arange(params.dxmax//4),np.arange(params.dymax)],[np.arange(params.dxmax//4)+params.dxmax//2,np.arange(params.dymax)])"
   ]
  },
  {
   "cell_type": "code",
   "execution_count": 103,
   "metadata": {},
   "outputs": [
    {
     "data": {
      "text/plain": [
       "[-0.5988004126,\n",
       " -0.5988004126,\n",
       " -0.5988004126,\n",
       " -0.5988004126,\n",
       " -0.7641972611,\n",
       " -0.7641972611,\n",
       " -0.7641972611,\n",
       " -0.7641972611,\n",
       " -0.766466048,\n",
       " -0.766466048,\n",
       " -0.766466048,\n",
       " -0.766466048,\n",
       " -0.7666400618,\n",
       " -0.7666400618,\n",
       " -0.7666400618,\n",
       " -0.7666400618,\n",
       " -0.7666615478,\n",
       " -0.7666615478,\n",
       " -0.7666615478,\n",
       " -0.7666615478,\n",
       " -0.7666648292,\n",
       " -0.7666648292,\n",
       " -0.7666648292,\n",
       " -0.7666648292,\n",
       " -0.7666653918,\n",
       " -0.7666653918,\n",
       " -0.7666653918,\n",
       " -0.7666653918,\n",
       " -0.7666654954,\n",
       " -0.7666654954,\n",
       " -0.7666654954,\n",
       " -0.7666654954,\n",
       " -0.9320623438,\n",
       " -0.9320623438,\n",
       " -0.9320623438,\n",
       " -0.9320623438,\n",
       " -0.9524312313,\n",
       " -0.9524312313,\n",
       " -0.9524312313,\n",
       " -0.9524312313,\n",
       " -0.9529386041,\n",
       " -0.9529386041,\n",
       " -0.9529386041,\n",
       " -0.9529386041,\n",
       " -0.9530096001,\n",
       " -0.9530096001,\n",
       " -0.9530096001,\n",
       " -0.9530096001,\n",
       " -0.9530210613,\n",
       " -0.9530210613,\n",
       " -0.9530210613,\n",
       " -0.9530210613,\n",
       " -0.9530230694,\n",
       " -0.9530230694,\n",
       " -0.9530230694,\n",
       " -0.9530230694,\n",
       " -0.953023442,\n",
       " -0.953023442,\n",
       " -0.953023442,\n",
       " -0.953023442,\n",
       " -0.9530235141,\n",
       " -0.9530235141,\n",
       " -0.9530235141,\n",
       " -0.9530235141,\n",
       " -0.955292301,\n",
       " -0.955292301,\n",
       " -0.955292301,\n",
       " -0.955292301,\n",
       " -0.9557996739,\n",
       " -0.9557996739,\n",
       " -0.9557996739,\n",
       " -0.9557996739,\n",
       " -0.9560069254,\n",
       " -0.9560069254,\n",
       " -0.9560069254,\n",
       " -0.9560069254,\n",
       " -0.9560331217,\n",
       " -0.9560331217,\n",
       " -0.9560331217,\n",
       " -0.9560331217,\n",
       " -0.9560370671,\n",
       " -0.9560370671,\n",
       " -0.9560370671,\n",
       " -0.9560370671,\n",
       " -0.9560377582,\n",
       " -0.9560377582,\n",
       " -0.9560377582,\n",
       " -0.9560377582,\n",
       " -0.9560378909,\n",
       " -0.9560378909,\n",
       " -0.9560378909,\n",
       " -0.9560378909,\n",
       " -0.9560379178,\n",
       " -0.9560379178,\n",
       " -0.9560379178,\n",
       " -0.9560379178,\n",
       " -0.9562119315,\n",
       " -0.9562119315,\n",
       " -0.9562119315,\n",
       " -0.9562119315,\n",
       " -0.9562829276,\n",
       " -0.9562829276,\n",
       " -0.9562829276,\n",
       " -0.9562829276,\n",
       " -0.9563091239,\n",
       " -0.9563091239,\n",
       " -0.9563091239,\n",
       " -0.9563091239,\n",
       " -0.9563092404,\n",
       " -0.9563092404,\n",
       " -0.9563092404,\n",
       " -0.9563092404,\n",
       " -0.9563092941,\n",
       " -0.9563092941,\n",
       " -0.9563092941,\n",
       " -0.9563092941,\n",
       " -0.9563093307,\n",
       " -0.9563093307,\n",
       " -0.9563093307,\n",
       " -0.9563093307,\n",
       " -0.9563093429,\n",
       " -0.9563093429,\n",
       " -0.9563093429,\n",
       " -0.9563093429,\n",
       " -0.9563093463,\n",
       " -0.9563093463,\n",
       " -0.9563093463,\n",
       " -0.9563093463,\n",
       " -0.9563308323,\n",
       " -0.9563308323,\n",
       " -0.9563308323,\n",
       " -0.9563308323,\n",
       " -0.9563422935,\n",
       " -0.9563422935,\n",
       " -0.9563422935,\n",
       " -0.9563422935,\n",
       " -0.9563462389,\n",
       " -0.9563462389,\n",
       " -0.9563462389,\n",
       " -0.9563462389,\n",
       " -0.9563462926,\n",
       " -0.9563462926,\n",
       " -0.9563462926,\n",
       " -0.9563462926,\n",
       " -0.9563463211,\n",
       " -0.9563463211,\n",
       " -0.9563463211,\n",
       " -0.9563463211,\n",
       " -0.9563463246,\n",
       " -0.9563463246,\n",
       " -0.9563463246,\n",
       " -0.9563463246,\n",
       " -0.9563463248,\n",
       " -0.9563463248,\n",
       " -0.9563463248,\n",
       " -0.9563463248,\n",
       " -0.9563463248,\n",
       " -0.9563463248,\n",
       " -0.9563463248,\n",
       " -0.9563463248,\n",
       " -0.9563496062,\n",
       " -0.9563496062,\n",
       " -0.9563496062,\n",
       " -0.9563496062,\n",
       " -0.9563516143,\n",
       " -0.9563516143,\n",
       " -0.9563516143,\n",
       " -0.9563516143,\n",
       " -0.9563523054,\n",
       " -0.9563523054,\n",
       " -0.9563523054,\n",
       " -0.9563523054,\n",
       " -0.956352342,\n",
       " -0.956352342,\n",
       " -0.956352342,\n",
       " -0.956352342,\n",
       " -0.9563523454,\n",
       " -0.9563523454,\n",
       " -0.9563523454,\n",
       " -0.9563523454,\n",
       " -0.9563523455,\n",
       " -0.9563523455,\n",
       " -0.9563523455,\n",
       " -0.9563523455,\n",
       " -0.9563523455,\n",
       " -0.9563523455,\n",
       " -0.9563523455,\n",
       " -0.9563523455,\n",
       " -0.9563523455,\n",
       " -0.9563523455,\n",
       " -0.9563523455,\n",
       " -0.9563523455,\n",
       " -0.9563529081,\n",
       " -0.9563529081,\n",
       " -0.9563529081,\n",
       " -0.9563529081,\n",
       " -0.9563532807,\n",
       " -0.9563532807,\n",
       " -0.9563532807,\n",
       " -0.9563532807,\n",
       " -0.9563534133,\n",
       " -0.9563534133,\n",
       " -0.9563534133,\n",
       " -0.9563534133,\n",
       " -0.9563534256,\n",
       " -0.9563534256,\n",
       " -0.9563534256,\n",
       " -0.9563534256,\n",
       " -0.9563534258,\n",
       " -0.9563534258,\n",
       " -0.9563534258,\n",
       " -0.9563534258,\n",
       " -0.9563534258,\n",
       " -0.9563534258,\n",
       " -0.9563534258,\n",
       " -0.9563534258,\n",
       " -0.9563534258,\n",
       " -0.9563534258,\n",
       " -0.9563534258,\n",
       " -0.9563534258,\n",
       " -0.9563534258,\n",
       " -0.9563534258,\n",
       " -0.9563534258,\n",
       " -0.9563534258,\n",
       " -0.9563535294,\n",
       " -0.9563535294,\n",
       " -0.9563535294,\n",
       " -0.9563535294,\n",
       " -0.9563536015,\n",
       " -0.9563536015,\n",
       " -0.9563536015,\n",
       " -0.9563536015,\n",
       " -0.9563536284,\n",
       " -0.9563536284,\n",
       " -0.9563536284,\n",
       " -0.9563536284,\n",
       " -0.9563536318,\n",
       " -0.9563536318,\n",
       " -0.9563536318,\n",
       " -0.9563536318,\n",
       " -0.9563536318,\n",
       " -0.9563536318,\n",
       " -0.9563536318,\n",
       " -0.9563536318,\n",
       " -0.9563536318,\n",
       " -0.9563536318,\n",
       " -0.9563536318,\n",
       " -0.9563536318,\n",
       " -0.9563536318,\n",
       " -0.9563536318,\n",
       " -0.9563536318,\n",
       " -0.9563536318,\n",
       " -0.9563536318,\n",
       " -0.9563536318,\n",
       " -0.9563536318,\n",
       " -0.9563536318,\n",
       " -0.9563536518,\n",
       " -0.9563536518,\n",
       " -0.9563536518,\n",
       " -0.9563536518,\n",
       " -0.9563536662,\n",
       " -0.9563536662,\n",
       " -0.9563536662,\n",
       " -0.9563536662,\n",
       " -0.9563536719,\n",
       " -0.9563536719,\n",
       " -0.9563536719,\n",
       " -0.9563536719,\n",
       " -0.9563536727,\n",
       " -0.9563536727,\n",
       " -0.9563536727,\n",
       " -0.9563536727,\n",
       " -0.9563536727,\n",
       " -0.9563536727,\n",
       " -0.9563536727,\n",
       " -0.9563536727,\n",
       " -0.9563536727,\n",
       " -0.9563536727,\n",
       " -0.9563536727,\n",
       " -0.9563536727,\n",
       " -0.9563536727,\n",
       " -0.9563536727,\n",
       " -0.9563536727,\n",
       " -0.9563536727,\n",
       " -0.9563536727,\n",
       " -0.9563536727,\n",
       " -0.9563536727,\n",
       " -0.9563536727,\n",
       " -0.9563536767,\n",
       " -0.9563536767,\n",
       " -0.9563536767,\n",
       " -0.9563536767,\n",
       " -0.9563536797,\n",
       " -0.9563536797,\n",
       " -0.9563536797,\n",
       " -0.9563536797,\n",
       " -0.9563536809,\n",
       " -0.9563536809,\n",
       " -0.9563536809,\n",
       " -0.9563536809,\n",
       " -0.9563536811,\n",
       " -0.9563536811,\n",
       " -0.9563536811,\n",
       " -0.9563536811,\n",
       " -0.9563536811,\n",
       " -0.9563536811,\n",
       " -0.9563536811,\n",
       " -0.9563536811,\n",
       " -0.9563536811,\n",
       " -0.9563536811,\n",
       " -0.9563536811,\n",
       " -0.9563536811,\n",
       " -0.9563536811,\n",
       " -0.9563536811,\n",
       " -0.9563536811,\n",
       " -0.9563536811,\n",
       " -0.9563536811,\n",
       " -0.9563536811,\n",
       " -0.9563536811,\n",
       " -0.9563536811,\n",
       " -0.9563536819,\n",
       " -0.9563536819,\n",
       " -0.9563536819,\n",
       " -0.9563536819,\n",
       " -0.9563536826,\n",
       " -0.9563536826,\n",
       " -0.9563536826,\n",
       " -0.9563536826,\n",
       " -0.9563536828,\n",
       " -0.9563536828,\n",
       " -0.9563536828,\n",
       " -0.9563536828,\n",
       " -0.9563536829,\n",
       " -0.9563536829,\n",
       " -0.9563536829,\n",
       " -0.9563536829,\n",
       " -0.9563536829,\n",
       " -0.9563536829,\n",
       " -0.9563536829,\n",
       " -0.9563536829,\n",
       " -0.9563536829,\n",
       " -0.9563536829,\n",
       " -0.9563536829,\n",
       " -0.9563536829,\n",
       " -0.9563536829,\n",
       " -0.9563536829,\n",
       " -0.9563536829,\n",
       " -0.9563536829,\n",
       " -0.9563536829,\n",
       " -0.9563536829,\n",
       " -0.9563536829,\n",
       " -0.9563536829,\n",
       " -0.9563536831,\n",
       " -0.9563536831,\n",
       " -0.9563536831,\n",
       " -0.9563536831,\n",
       " -0.9563536832,\n",
       " -0.9563536832,\n",
       " -0.9563536832,\n",
       " -0.9563536832,\n",
       " -0.9563536832,\n",
       " -0.9563536832,\n",
       " -0.9563536832,\n",
       " -0.9563536832,\n",
       " -0.9563536833,\n",
       " -0.9563536833,\n",
       " -0.9563536833,\n",
       " -0.9563536833,\n",
       " -0.9563536833,\n",
       " -0.9563536833,\n",
       " -0.9563536833,\n",
       " -0.9563536833,\n",
       " -0.9563536833,\n",
       " -0.9563536833,\n",
       " -0.9563536833,\n",
       " -0.9563536833,\n",
       " -0.9563536833,\n",
       " -0.9563536833,\n",
       " -0.9563536833,\n",
       " -0.9563536833,\n",
       " -0.9563536833,\n",
       " -0.9563536833,\n",
       " -0.9563536833,\n",
       " -0.9563536833,\n",
       " -0.9563536833,\n",
       " -0.9563536833,\n",
       " -0.9563536833,\n",
       " -0.9563536833,\n",
       " -0.9563536833,\n",
       " -0.9563536833,\n",
       " -0.9563536833,\n",
       " -0.9563536833,\n",
       " -0.9563536833,\n",
       " -0.9563536833,\n",
       " -0.9563536833,\n",
       " -0.9563536833,\n",
       " -0.9563536833,\n",
       " -0.9563536833,\n",
       " -0.9563536833,\n",
       " -0.9563536833,\n",
       " -0.9563536833,\n",
       " -0.9563536833,\n",
       " -0.9563536833,\n",
       " -0.9563536833,\n",
       " -0.9563536833,\n",
       " -0.9563536833,\n",
       " -0.9563536833,\n",
       " -0.9563536833,\n",
       " -0.9563536833,\n",
       " -0.9563536833,\n",
       " -0.9563536833,\n",
       " -0.9563536833,\n",
       " -0.9563536833,\n",
       " -0.9563536833,\n",
       " -0.9563536833,\n",
       " -0.9563536833,\n",
       " -0.9563536833,\n",
       " -0.9563536833,\n",
       " -0.9563536833,\n",
       " -0.9563536833,\n",
       " -0.9563536834,\n",
       " -0.9563536834,\n",
       " -0.9563536834,\n",
       " -0.9563536834,\n",
       " -0.9563536834,\n",
       " -0.9563536834,\n",
       " -0.9563536834,\n",
       " -0.9563536834,\n",
       " -0.9563536834,\n",
       " -0.9563536834,\n",
       " -0.9563536834,\n",
       " -0.9563536834,\n",
       " -0.9563536834,\n",
       " -0.9563536834,\n",
       " -0.9563536834,\n",
       " -0.9563536834,\n",
       " -0.9563536834,\n",
       " -0.9563536834,\n",
       " -0.9563536834,\n",
       " -0.9563536834,\n",
       " -0.9563536834,\n",
       " -0.9563536834,\n",
       " -0.9563536834,\n",
       " -0.9563536834,\n",
       " -0.9563536834,\n",
       " -0.9563536834,\n",
       " -0.9563536834,\n",
       " -0.9563536834,\n",
       " -0.9563536834,\n",
       " -0.9563536834,\n",
       " -0.9563536834,\n",
       " -0.9563536834,\n",
       " -0.9563536834,\n",
       " -0.9563536834,\n",
       " -0.9563536834,\n",
       " -0.9563536834,\n",
       " -0.9563536834,\n",
       " -0.9563536834,\n",
       " -0.9563536834,\n",
       " -0.9563536834,\n",
       " -0.9563536834,\n",
       " -0.9563536834,\n",
       " -0.9563536834,\n",
       " -0.9563536834,\n",
       " -0.9563536834,\n",
       " -0.9563536834,\n",
       " -0.9563536834,\n",
       " -0.9563536834,\n",
       " -0.9563536834,\n",
       " -0.9563536834,\n",
       " -0.9563536834,\n",
       " -0.9563536834,\n",
       " -0.9563536834,\n",
       " -0.9563536834,\n",
       " -0.9563536834,\n",
       " -0.9563536834,\n",
       " -0.9563536834,\n",
       " -0.9563536834,\n",
       " -0.9563536834,\n",
       " -0.9563536834,\n",
       " -0.9563536834,\n",
       " -0.9563536834,\n",
       " -0.9563536834,\n",
       " -0.9563536834,\n",
       " -0.9563536834,\n",
       " -0.9563536834,\n",
       " -0.9563536834,\n",
       " -0.9563536834,\n",
       " -0.9563536834,\n",
       " -0.9563536834,\n",
       " -0.9563536834,\n",
       " -0.9563536834,\n",
       " -0.9563536834,\n",
       " -0.9563536834,\n",
       " -0.9563536834,\n",
       " -0.9563536834,\n",
       " -0.9563536834,\n",
       " -0.9563536834,\n",
       " -0.9563536834,\n",
       " -0.9563536834,\n",
       " -0.9563536834,\n",
       " -0.9563536834,\n",
       " -0.9563536834,\n",
       " -0.9563536834,\n",
       " -0.9563536834,\n",
       " -0.9563536834,\n",
       " -0.9563536834,\n",
       " -0.9563536834,\n",
       " -0.9563536834,\n",
       " -0.9563536834,\n",
       " -0.9563536834,\n",
       " -0.9563536834,\n",
       " -0.9563536834,\n",
       " -0.9563536834,\n",
       " -0.9563536834,\n",
       " -0.9563536834,\n",
       " -0.9563536834,\n",
       " -0.9563536834,\n",
       " -0.9563536834,\n",
       " -0.9563536834,\n",
       " -0.9563536834,\n",
       " -0.9563536834,\n",
       " -0.9563536834,\n",
       " -0.9563536834,\n",
       " -0.9563536834,\n",
       " -0.9563536834,\n",
       " -0.9563536834,\n",
       " -0.9563536834,\n",
       " -0.9563536834,\n",
       " -0.9563536834,\n",
       " -0.9563536834,\n",
       " -0.9563536834,\n",
       " -0.9563536834,\n",
       " -0.9563536834,\n",
       " -0.9563536834,\n",
       " -0.9563536834,\n",
       " -0.9563536834,\n",
       " -0.9563536834,\n",
       " -0.9563536834,\n",
       " -0.9563536834,\n",
       " -0.9563536834,\n",
       " -0.9563536834,\n",
       " -0.9563536834,\n",
       " -0.9563536834,\n",
       " -0.9563536834,\n",
       " -0.9563536834,\n",
       " -0.9563536834,\n",
       " -0.9563536834,\n",
       " -0.9563536834,\n",
       " -0.9563536834,\n",
       " -0.9563536834,\n",
       " -0.9563536834,\n",
       " -0.9563536834,\n",
       " -0.9563536834,\n",
       " -0.9563536834,\n",
       " -0.9563536834,\n",
       " -0.9563536834,\n",
       " -0.9563536834,\n",
       " -0.9563536834,\n",
       " -0.9563536834,\n",
       " -0.9563536834,\n",
       " -0.9563536834,\n",
       " -0.9563536834,\n",
       " -0.9563536834,\n",
       " -0.9563536834,\n",
       " -0.9563536834,\n",
       " -0.9563536834,\n",
       " -0.9563536834,\n",
       " -0.9563536834,\n",
       " -0.9563536834,\n",
       " -0.9563536834,\n",
       " -0.9563536834,\n",
       " -0.9563536834,\n",
       " -0.9563536834,\n",
       " -0.9563536834,\n",
       " -0.9563536834,\n",
       " -0.9563536834,\n",
       " -0.9563536834,\n",
       " -0.9563536834,\n",
       " -0.9563536834,\n",
       " -0.9563536834,\n",
       " -0.9563536834,\n",
       " -0.9563536834,\n",
       " -0.9563536834,\n",
       " -0.9563536834,\n",
       " -0.9563536834,\n",
       " -0.9563536834,\n",
       " -0.9563536834,\n",
       " -0.9563536834,\n",
       " -0.9563536834,\n",
       " -0.9563536834,\n",
       " -0.9563536834,\n",
       " -0.9563536834,\n",
       " -0.9563536834,\n",
       " -0.9563536834,\n",
       " -0.9563536834,\n",
       " -0.9563536834,\n",
       " -0.9563536834,\n",
       " -0.9563536834,\n",
       " -0.9563536834,\n",
       " -0.9563536834,\n",
       " -0.9563536834,\n",
       " -0.9563536834,\n",
       " -0.9563536834,\n",
       " -0.9563536833,\n",
       " -0.9563536833,\n",
       " -0.9563536833,\n",
       " -0.9563536833,\n",
       " -0.9563536833,\n",
       " -0.9563536833,\n",
       " -0.9563536833,\n",
       " -0.9563536833,\n",
       " -0.9563536833,\n",
       " -0.9563536833,\n",
       " -0.9563536833,\n",
       " -0.9563536833,\n",
       " -0.9563536833,\n",
       " -0.9563536833,\n",
       " -0.9563536833,\n",
       " -0.9563536833,\n",
       " -0.9563536833,\n",
       " -0.9563536833,\n",
       " -0.9563536833,\n",
       " -0.9563536833,\n",
       " -0.9563536833,\n",
       " -0.9563536833,\n",
       " -0.9563536833,\n",
       " -0.9563536833,\n",
       " -0.9563536833,\n",
       " -0.9563536833,\n",
       " -0.9563536833,\n",
       " -0.9563536833,\n",
       " -0.9563536833,\n",
       " -0.9563536833,\n",
       " -0.9563536833,\n",
       " -0.9563536833,\n",
       " -0.9563536833,\n",
       " -0.9563536833,\n",
       " -0.9563536833,\n",
       " -0.9563536833,\n",
       " -0.9563536833,\n",
       " -0.9563536833,\n",
       " -0.9563536833,\n",
       " -0.9563536833,\n",
       " -0.9563536833,\n",
       " -0.9563536833,\n",
       " -0.9563536833,\n",
       " -0.9563536833,\n",
       " -0.9563536833,\n",
       " -0.9563536833,\n",
       " -0.9563536833,\n",
       " -0.9563536833,\n",
       " -0.9563536833,\n",
       " -0.9563536833,\n",
       " -0.9563536833,\n",
       " -0.9563536833,\n",
       " -0.9563536833,\n",
       " -0.9563536833,\n",
       " -0.9563536833,\n",
       " -0.9563536833,\n",
       " -0.9563536832,\n",
       " -0.9563536832,\n",
       " -0.9563536832,\n",
       " -0.9563536832,\n",
       " -0.9563536832,\n",
       " -0.9563536832,\n",
       " -0.9563536832,\n",
       " -0.9563536832,\n",
       " -0.9563536831,\n",
       " -0.9563536831,\n",
       " -0.9563536831,\n",
       " -0.9563536831,\n",
       " -0.9563536829,\n",
       " -0.9563536829,\n",
       " -0.9563536829,\n",
       " -0.9563536829,\n",
       " -0.9563536829,\n",
       " -0.9563536829,\n",
       " -0.9563536829,\n",
       " -0.9563536829,\n",
       " -0.9563536829,\n",
       " -0.9563536829,\n",
       " -0.9563536829,\n",
       " -0.9563536829,\n",
       " -0.9563536829,\n",
       " -0.9563536829,\n",
       " -0.9563536829,\n",
       " -0.9563536829,\n",
       " -0.9563536829,\n",
       " -0.9563536829,\n",
       " -0.9563536829,\n",
       " -0.9563536829,\n",
       " -0.9563536828,\n",
       " -0.9563536828,\n",
       " -0.9563536828,\n",
       " -0.9563536828,\n",
       " -0.9563536826,\n",
       " -0.9563536826,\n",
       " -0.9563536826,\n",
       " -0.9563536826,\n",
       " -0.9563536819,\n",
       " -0.9563536819,\n",
       " -0.9563536819,\n",
       " -0.9563536819,\n",
       " -0.9563536811,\n",
       " -0.9563536811,\n",
       " -0.9563536811,\n",
       " -0.9563536811,\n",
       " -0.9563536811,\n",
       " -0.9563536811,\n",
       " -0.9563536811,\n",
       " -0.9563536811,\n",
       " -0.9563536811,\n",
       " -0.9563536811,\n",
       " -0.9563536811,\n",
       " -0.9563536811,\n",
       " -0.9563536811,\n",
       " -0.9563536811,\n",
       " -0.9563536811,\n",
       " -0.9563536811,\n",
       " -0.9563536811,\n",
       " -0.9563536811,\n",
       " -0.9563536811,\n",
       " -0.9563536811,\n",
       " -0.9563536809,\n",
       " -0.9563536809,\n",
       " -0.9563536809,\n",
       " -0.9563536809,\n",
       " -0.9563536797,\n",
       " -0.9563536797,\n",
       " -0.9563536797,\n",
       " -0.9563536797,\n",
       " -0.9563536767,\n",
       " -0.9563536767,\n",
       " -0.9563536767,\n",
       " -0.9563536767,\n",
       " -0.9563536727,\n",
       " -0.9563536727,\n",
       " -0.9563536727,\n",
       " -0.9563536727,\n",
       " -0.9563536727,\n",
       " -0.9563536727,\n",
       " -0.9563536727,\n",
       " -0.9563536727,\n",
       " -0.9563536727,\n",
       " -0.9563536727,\n",
       " -0.9563536727,\n",
       " -0.9563536727,\n",
       " -0.9563536727,\n",
       " -0.9563536727,\n",
       " -0.9563536727,\n",
       " -0.9563536727,\n",
       " -0.9563536727,\n",
       " -0.9563536727,\n",
       " -0.9563536727,\n",
       " -0.9563536727,\n",
       " -0.9563536719,\n",
       " -0.9563536719,\n",
       " -0.9563536719,\n",
       " -0.9563536719,\n",
       " -0.9563536662,\n",
       " -0.9563536662,\n",
       " -0.9563536662,\n",
       " -0.9563536662,\n",
       " -0.9563536518,\n",
       " -0.9563536518,\n",
       " -0.9563536518,\n",
       " -0.9563536518,\n",
       " -0.9563536318,\n",
       " -0.9563536318,\n",
       " -0.9563536318,\n",
       " -0.9563536318,\n",
       " -0.9563536318,\n",
       " -0.9563536318,\n",
       " -0.9563536318,\n",
       " -0.9563536318,\n",
       " -0.9563536318,\n",
       " -0.9563536318,\n",
       " -0.9563536318,\n",
       " -0.9563536318,\n",
       " -0.9563536318,\n",
       " -0.9563536318,\n",
       " -0.9563536318,\n",
       " -0.9563536318,\n",
       " -0.9563536318,\n",
       " -0.9563536318,\n",
       " -0.9563536318,\n",
       " -0.9563536318,\n",
       " -0.9563536284,\n",
       " -0.9563536284,\n",
       " -0.9563536284,\n",
       " -0.9563536284,\n",
       " -0.9563536015,\n",
       " -0.9563536015,\n",
       " -0.9563536015,\n",
       " -0.9563536015,\n",
       " -0.9563535294,\n",
       " -0.9563535294,\n",
       " -0.9563535294,\n",
       " -0.9563535294,\n",
       " -0.9563534258,\n",
       " -0.9563534258,\n",
       " -0.9563534258,\n",
       " -0.9563534258,\n",
       " -0.9563534258,\n",
       " -0.9563534258,\n",
       " -0.9563534258,\n",
       " -0.9563534258,\n",
       " -0.9563534258,\n",
       " -0.9563534258,\n",
       " -0.9563534258,\n",
       " -0.9563534258,\n",
       " -0.9563534258,\n",
       " -0.9563534258,\n",
       " -0.9563534258,\n",
       " -0.9563534258,\n",
       " -0.9563534256,\n",
       " -0.9563534256,\n",
       " -0.9563534256,\n",
       " -0.9563534256,\n",
       " -0.9563534133,\n",
       " -0.9563534133,\n",
       " -0.9563534133,\n",
       " -0.9563534133,\n",
       " -0.9563532807,\n",
       " -0.9563532807,\n",
       " -0.9563532807,\n",
       " -0.9563532807,\n",
       " -0.9563529081,\n",
       " -0.9563529081,\n",
       " -0.9563529081,\n",
       " -0.9563529081,\n",
       " -0.9563523455,\n",
       " -0.9563523455,\n",
       " -0.9563523455,\n",
       " -0.9563523455,\n",
       " -0.9563523455,\n",
       " -0.9563523455,\n",
       " -0.9563523455,\n",
       " -0.9563523455,\n",
       " -0.9563523455,\n",
       " -0.9563523455,\n",
       " -0.9563523455,\n",
       " -0.9563523455,\n",
       " -0.9563523454,\n",
       " -0.9563523454,\n",
       " -0.9563523454,\n",
       " -0.9563523454,\n",
       " -0.956352342,\n",
       " -0.956352342,\n",
       " -0.956352342,\n",
       " -0.956352342,\n",
       " -0.9563523054,\n",
       " -0.9563523054,\n",
       " -0.9563523054,\n",
       " -0.9563523054,\n",
       " -0.9563516143,\n",
       " -0.9563516143,\n",
       " -0.9563516143,\n",
       " -0.9563516143,\n",
       " -0.9563496062,\n",
       " -0.9563496062,\n",
       " -0.9563496062,\n",
       " -0.9563496062,\n",
       " -0.9563463248,\n",
       " -0.9563463248,\n",
       " -0.9563463248,\n",
       " -0.9563463248,\n",
       " -0.9563463248,\n",
       " -0.9563463248,\n",
       " -0.9563463248,\n",
       " -0.9563463248,\n",
       " -0.9563463246,\n",
       " -0.9563463246,\n",
       " -0.9563463246,\n",
       " -0.9563463246,\n",
       " -0.9563463211,\n",
       " -0.9563463211,\n",
       " -0.9563463211,\n",
       " -0.9563463211,\n",
       " -0.9563462926,\n",
       " -0.9563462926,\n",
       " -0.9563462926,\n",
       " -0.9563462926,\n",
       " -0.9563462389,\n",
       " -0.9563462389,\n",
       " -0.9563462389,\n",
       " -0.9563462389,\n",
       " -0.9563422935,\n",
       " -0.9563422935,\n",
       " -0.9563422935,\n",
       " -0.9563422935,\n",
       " -0.9563308323,\n",
       " -0.9563308323,\n",
       " -0.9563308323,\n",
       " -0.9563308323,\n",
       " -0.9563093463,\n",
       " -0.9563093463,\n",
       " -0.9563093463,\n",
       " -0.9563093463,\n",
       " -0.9563093429,\n",
       " -0.9563093429,\n",
       " -0.9563093429,\n",
       " -0.9563093429,\n",
       " -0.9563093307,\n",
       " -0.9563093307,\n",
       " -0.9563093307,\n",
       " -0.9563093307,\n",
       " -0.9563092941,\n",
       " -0.9563092941,\n",
       " -0.9563092941,\n",
       " -0.9563092941,\n",
       " -0.9563092404,\n",
       " -0.9563092404,\n",
       " -0.9563092404,\n",
       " -0.9563092404,\n",
       " -0.9563091239,\n",
       " -0.9563091239,\n",
       " -0.9563091239,\n",
       " -0.9563091239,\n",
       " -0.9562829276,\n",
       " -0.9562829276,\n",
       " -0.9562829276,\n",
       " -0.9562829276,\n",
       " -0.9562119315,\n",
       " -0.9562119315,\n",
       " -0.9562119315,\n",
       " -0.9562119315,\n",
       " -0.9560379178,\n",
       " -0.9560379178,\n",
       " -0.9560379178,\n",
       " -0.9560379178,\n",
       " -0.9560378909,\n",
       " -0.9560378909,\n",
       " -0.9560378909,\n",
       " -0.9560378909,\n",
       " -0.9560377582,\n",
       " -0.9560377582,\n",
       " -0.9560377582,\n",
       " -0.9560377582,\n",
       " -0.9560370671,\n",
       " -0.9560370671,\n",
       " -0.9560370671,\n",
       " -0.9560370671,\n",
       " -0.9560331217,\n",
       " -0.9560331217,\n",
       " -0.9560331217,\n",
       " -0.9560331217,\n",
       " -0.9560069254,\n",
       " -0.9560069254,\n",
       " -0.9560069254,\n",
       " -0.9560069254,\n",
       " -0.9557996739,\n",
       " -0.9557996739,\n",
       " -0.9557996739,\n",
       " -0.9557996739,\n",
       " -0.955292301,\n",
       " -0.955292301,\n",
       " -0.955292301,\n",
       " -0.955292301,\n",
       " -0.9530235141,\n",
       " -0.9530235141,\n",
       " -0.9530235141,\n",
       " -0.9530235141,\n",
       " -0.953023442,\n",
       " -0.953023442,\n",
       " -0.953023442,\n",
       " -0.953023442,\n",
       " -0.9530230694,\n",
       " -0.9530230694,\n",
       " -0.9530230694,\n",
       " -0.9530230694,\n",
       " -0.9530210613,\n",
       " -0.9530210613,\n",
       " -0.9530210613,\n",
       " -0.9530210613,\n",
       " -0.9530096001,\n",
       " -0.9530096001,\n",
       " -0.9530096001,\n",
       " -0.9530096001,\n",
       " -0.9529386041,\n",
       " -0.9529386041,\n",
       " -0.9529386041,\n",
       " -0.9529386041,\n",
       " -0.9524312313,\n",
       " -0.9524312313,\n",
       " -0.9524312313,\n",
       " -0.9524312313,\n",
       " -0.9320623438,\n",
       " -0.9320623438,\n",
       " -0.9320623438,\n",
       " -0.9320623438,\n",
       " -0.7666654954,\n",
       " -0.7666654954,\n",
       " -0.7666654954,\n",
       " -0.7666654954,\n",
       " -0.7666653918,\n",
       " -0.7666653918,\n",
       " -0.7666653918,\n",
       " -0.7666653918,\n",
       " ...]"
      ]
     },
     "execution_count": 103,
     "metadata": {},
     "output_type": "execute_result"
    }
   ],
   "source": [
    "list(np.diag(np.round(params.C_m@params.C_m,10)))"
   ]
  },
  {
   "cell_type": "code",
   "execution_count": 94,
   "metadata": {},
   "outputs": [
    {
     "data": {
      "text/plain": [
       "array([[-1., -0., -0.,  0.],\n",
       "       [-0., -1.,  0., -0.],\n",
       "       [-0.,  0., -1., -0.],\n",
       "       [ 0., -0., -0., -1.]])"
      ]
     },
     "execution_count": 94,
     "metadata": {},
     "output_type": "execute_result"
    }
   ],
   "source": [
    "np.round(params_L.C_m@params_L.C_m,10)[:4,:4]"
   ]
  },
  {
   "cell_type": "code",
   "execution_count": 39,
   "metadata": {},
   "outputs": [
    {
     "data": {
      "text/plain": [
       "array([[-0.        , -0.23349507,  0.        ,  0.33298183],\n",
       "       [ 0.23349507, -0.        , -0.33298183,  0.        ],\n",
       "       [-0.        , -0.33298183,  0.        ,  0.23349507],\n",
       "       [ 0.33298183, -0.        , -0.23349507,  0.        ]])"
      ]
     },
     "execution_count": 39,
     "metadata": {},
     "output_type": "execute_result"
    }
   ],
   "source": [
    "np.round(params.C_m[4:8,0:4],10)"
   ]
  },
  {
   "cell_type": "code",
   "execution_count": 45,
   "metadata": {},
   "outputs": [
    {
     "data": {
      "text/plain": [
       "((10.622356289937139+0j), -6.282906951360542)"
      ]
     },
     "execution_count": 45,
     "metadata": {},
     "output_type": "execute_result"
    }
   ],
   "source": [
    "params.eA,params.A"
   ]
  },
  {
   "cell_type": "code",
   "execution_count": 613,
   "metadata": {},
   "outputs": [
    {
     "data": {
      "text/plain": [
       "0.16649084400244216"
      ]
     },
     "execution_count": 613,
     "metadata": {},
     "output_type": "execute_result"
    }
   ],
   "source": [
    "np.imag(params_L.C_f).max()"
   ]
  },
  {
   "cell_type": "code",
   "execution_count": 614,
   "metadata": {},
   "outputs": [
    {
     "data": {
      "text/plain": [
       "array([[-0.00000e+00+0.j, -2.75487e-05+0.j],\n",
       "       [ 2.75487e-05-0.j,  0.00000e+00-0.j]])"
      ]
     },
     "execution_count": 614,
     "metadata": {},
     "output_type": "execute_result"
    }
   ],
   "source": [
    "np.round((params_L.C_f[156:158,76:78]),10)"
   ]
  },
  {
   "cell_type": "code",
   "execution_count": 615,
   "metadata": {},
   "outputs": [
    {
     "data": {
      "text/plain": [
       "array([[-0.00000e+00-0.j, -2.75487e-05-0.j],\n",
       "       [ 2.75487e-05+0.j,  0.00000e+00+0.j]])"
      ]
     },
     "execution_count": 615,
     "metadata": {},
     "output_type": "execute_result"
    }
   ],
   "source": [
    "np.round((params_L.C_f[80:82,0:2]),10)"
   ]
  },
  {
   "cell_type": "code",
   "execution_count": 40,
   "metadata": {},
   "outputs": [
    {
     "data": {
      "text/plain": [
       "array([[ 0.11674754+0.j        ,  0.        -0.16649091j],\n",
       "       [ 0.        -0.16649091j, -0.11674754-0.j        ]])"
      ]
     },
     "execution_count": 40,
     "metadata": {},
     "output_type": "execute_result"
    }
   ],
   "source": [
    "np.round((params_L.C_f[64:66,0:2]),10)"
   ]
  },
  {
   "cell_type": "code",
   "execution_count": 13,
   "metadata": {},
   "outputs": [],
   "source": [
    "params.correlation_matrix_inf_fft()"
   ]
  },
  {
   "cell_type": "code",
   "execution_count": 52,
   "metadata": {},
   "outputs": [
    {
     "data": {
      "text/plain": [
       "array([[ 0.11674754+0.j        ,  0.        -0.16649091j],\n",
       "       [ 0.        -0.16649091j, -0.11674754-0.j        ]])"
      ]
     },
     "execution_count": 52,
     "metadata": {},
     "output_type": "execute_result"
    }
   ],
   "source": [
    "np.round(params.C_f[64:66,0:2],10)"
   ]
  },
  {
   "cell_type": "code",
   "execution_count": 53,
   "metadata": {},
   "outputs": [
    {
     "data": {
      "text/plain": [
       "0.1664909147383517"
      ]
     },
     "execution_count": 53,
     "metadata": {},
     "output_type": "execute_result"
    }
   ],
   "source": [
    "(np.imag(params.C_f)).max()"
   ]
  },
  {
   "cell_type": "code",
   "execution_count": 47,
   "metadata": {},
   "outputs": [
    {
     "data": {
      "text/plain": [
       "0.1664909147366051"
      ]
     },
     "execution_count": 47,
     "metadata": {},
     "output_type": "execute_result"
    }
   ],
   "source": [
    "(np.imag(params_L.C_f)).max()"
   ]
  },
  {
   "cell_type": "code",
   "execution_count": null,
   "metadata": {},
   "outputs": [],
   "source": [
    "params.covariance_matrix()"
   ]
  },
  {
   "cell_type": "code",
   "execution_count": 606,
   "metadata": {},
   "outputs": [
    {
     "data": {
      "text/plain": [
       "array([[-2.33465e-05+0.00000e+00j, -1.37745e-05+2.60107e-05j],\n",
       "       [ 1.37745e-05+2.60107e-05j,  2.33465e-05-0.00000e+00j]])"
      ]
     },
     "execution_count": 606,
     "metadata": {},
     "output_type": "execute_result"
    }
   ],
   "source": [
    "np.round((params.C_f[80:82,:2]),10)"
   ]
  },
  {
   "cell_type": "code",
   "execution_count": 607,
   "metadata": {},
   "outputs": [
    {
     "data": {
      "text/plain": [
       "array([[-2.33465e-05+0.00000e+00j, -1.37745e-05+2.60107e-05j],\n",
       "       [ 1.37745e-05+2.60107e-05j,  2.33465e-05-0.00000e+00j]])"
      ]
     },
     "execution_count": 607,
     "metadata": {},
     "output_type": "execute_result"
    }
   ],
   "source": [
    "np.round((params.C_f[156:158,76:78]),10)"
   ]
  },
  {
   "cell_type": "code",
   "execution_count": 465,
   "metadata": {},
   "outputs": [
    {
     "data": {
      "text/plain": [
       "(array([28]), array([61]))"
      ]
     },
     "execution_count": 465,
     "metadata": {},
     "output_type": "execute_result"
    }
   ],
   "source": [
    "np.where(np.imag(params_L.C_f)==np.imag(params_L.C_f).max())"
   ]
  },
  {
   "cell_type": "code",
   "execution_count": 504,
   "metadata": {},
   "outputs": [
    {
     "data": {
      "text/plain": [
       "array([[ 1.16747184e-01-2.36455807e-18j,  1.78043218e-18+1.66490643e-01j],\n",
       "       [ 2.42861287e-17+1.66490643e-01j, -1.16747184e-01+2.35055031e-16j]])"
      ]
     },
     "execution_count": 504,
     "metadata": {},
     "output_type": "execute_result"
    }
   ],
   "source": [
    "params_L.C_f[0:2,32:34]"
   ]
  },
  {
   "cell_type": "code",
   "execution_count": 505,
   "metadata": {},
   "outputs": [
    {
     "data": {
      "text/plain": [
       "array([[ 1.16747184e-01+6.28837260e-18j, -7.63278329e-17+1.66490643e-01j],\n",
       "       [ 4.98732999e-17+1.66490643e-01j, -1.16747184e-01+2.01227923e-16j]])"
      ]
     },
     "execution_count": 505,
     "metadata": {},
     "output_type": "execute_result"
    }
   ],
   "source": [
    "params_L.C_f[28:30,60:62]"
   ]
  },
  {
   "cell_type": "code",
   "execution_count": 506,
   "metadata": {},
   "outputs": [
    {
     "name": "stdout",
     "output_type": "stream",
     "text": [
      "[[ 0.00030059-4.64746301e-18j -0.00659015-1.69135539e-17j]\n",
      " [ 0.00659015-3.23095379e-19j -0.00030059-5.03069808e-17j]]\n"
     ]
    }
   ],
   "source": [
    "print(params_L.C_f[6:8,0:2])"
   ]
  },
  {
   "cell_type": "code",
   "execution_count": 507,
   "metadata": {},
   "outputs": [
    {
     "name": "stdout",
     "output_type": "stream",
     "text": [
      "[[ 1.16747184e-01+2.36455807e-18j  2.42861287e-17-1.66490643e-01j]\n",
      " [ 1.78043218e-18-1.66490643e-01j -1.16747184e-01-2.35055031e-16j]]\n"
     ]
    }
   ],
   "source": [
    "print(params_L.C_f[32:34,0:2])"
   ]
  },
  {
   "cell_type": "code",
   "execution_count": 541,
   "metadata": {},
   "outputs": [
    {
     "data": {
      "text/plain": [
       "2"
      ]
     },
     "execution_count": 541,
     "metadata": {},
     "output_type": "execute_result"
    }
   ],
   "source": [
    "17//8"
   ]
  },
  {
   "cell_type": "code",
   "execution_count": 536,
   "metadata": {},
   "outputs": [
    {
     "name": "stdout",
     "output_type": "stream",
     "text": [
      "[[ 0.00544319+5.41443520e-18j -0.00832024+5.30969716e-03j]\n",
      " [ 0.00832024+5.30969716e-03j -0.00544319-6.59194921e-17j]]\n"
     ]
    }
   ],
   "source": [
    "print(params_L.C_f[34:36,0:2])"
   ]
  },
  {
   "cell_type": "code",
   "execution_count": 537,
   "metadata": {},
   "outputs": [
    {
     "data": {
      "text/plain": [
       "array([[ 0.00538023+1.96069761e-18j, -0.00830359+5.38022606e-03j],\n",
       "       [ 0.00830359+5.38022606e-03j, -0.00538023-1.96069761e-18j]])"
      ]
     },
     "execution_count": 537,
     "metadata": {},
     "output_type": "execute_result"
    }
   ],
   "source": [
    "np.array([[A11[1,2],A12[1,2]],[A21[1,2],A22[1,2]]])"
   ]
  },
  {
   "cell_type": "code",
   "execution_count": 532,
   "metadata": {},
   "outputs": [
    {
     "name": "stdout",
     "output_type": "stream",
     "text": [
      "[[ 0.11681767-1.49110327e-18j -0.16661289-3.59955121e-17j]\n",
      " [ 0.16661289-1.52245928e-17j -0.11681767-6.93889390e-18j]]\n"
     ]
    }
   ],
   "source": [
    "print(params_L.C_f[2:4,0:2])"
   ]
  },
  {
   "cell_type": "code",
   "execution_count": 533,
   "metadata": {},
   "outputs": [
    {
     "data": {
      "text/plain": [
       "array([[ 0.11674754+1.50975153e-17j, -0.16649091-2.07885284e-17j],\n",
       "       [ 0.16649091+2.07902225e-17j, -0.11674754-1.50975153e-17j]])"
      ]
     },
     "execution_count": 533,
     "metadata": {},
     "output_type": "execute_result"
    }
   ],
   "source": [
    "np.array([[A11[1,0],A12[1,0]],[A21[1,0],A22[1,0]]])"
   ]
  },
  {
   "cell_type": "code",
   "execution_count": 523,
   "metadata": {},
   "outputs": [
    {
     "data": {
      "text/plain": [
       "array([[ 0.11674754+1.50975153e-17j, -0.16649091-2.07885284e-17j],\n",
       "       [ 0.16649091+2.07902225e-17j, -0.11674754-1.50975153e-17j]])"
      ]
     },
     "execution_count": 523,
     "metadata": {},
     "output_type": "execute_result"
    }
   ],
   "source": [
    "zz[:,:,1,0]"
   ]
  },
  {
   "cell_type": "code",
   "execution_count": 521,
   "metadata": {},
   "outputs": [],
   "source": [
    "zz=np.stack([[A11,A12],[A21,A22]])"
   ]
  },
  {
   "cell_type": "code",
   "execution_count": 428,
   "metadata": {},
   "outputs": [
    {
     "data": {
      "text/plain": [
       "((0.11674753712560954+1.4614857400075746e-17j),\n",
       " (2.0178075218327033e-17-0.1664909147383517j),\n",
       " (2.0211210626099836e-17-0.1664909147383517j),\n",
       " (-0.11674753712560954-1.4614857400075746e-17j))"
      ]
     },
     "output_type": "unknown"
    }
   ],
   "source": [
    "A11[0,1],A12[0,1],A21[0,1],A22[0,1]"
   ]
  },
  {
   "cell_type": "code",
   "execution_count": 412,
   "metadata": {},
   "outputs": [
    {
     "data": {
      "text/plain": [
       "(-5.234151767586157e-19+1.0881249702988204e-18j)"
      ]
     },
     "execution_count": 412,
     "metadata": {},
     "output_type": "execute_result"
    }
   ],
   "source": [
    "A12[1,0]"
   ]
  },
  {
   "cell_type": "code",
   "execution_count": 413,
   "metadata": {},
   "outputs": [
    {
     "data": {
      "text/plain": [
       "(-5.234151767586157e-19-1.0881249702988204e-18j)"
      ]
     },
     "execution_count": 413,
     "metadata": {},
     "output_type": "execute_result"
    }
   ],
   "source": []
  },
  {
   "cell_type": "code",
   "execution_count": 414,
   "metadata": {},
   "outputs": [
    {
     "data": {
      "text/plain": [
       "(0.7455845790816229+0j)"
      ]
     },
     "execution_count": 414,
     "metadata": {},
     "output_type": "execute_result"
    }
   ],
   "source": []
  },
  {
   "cell_type": "code",
   "execution_count": 35,
   "metadata": {},
   "outputs": [
    {
     "data": {
      "text/plain": [
       "array([[ 0.00000000e+00,  1.74967237e-17, -7.01333150e-18, ...,\n",
       "        -2.35655211e-17,  1.36475865e-17, -1.70492253e-02],\n",
       "       [-1.74967237e-17,  0.00000000e+00, -7.28583860e-17, ...,\n",
       "         8.50014503e-17, -1.70492253e-02, -1.24900090e-16],\n",
       "       [ 7.01333150e-18,  7.28583860e-17,  0.00000000e+00, ...,\n",
       "         1.70492253e-02,  8.67361738e-18, -1.04083409e-16],\n",
       "       ...,\n",
       "       [ 2.35655211e-17, -8.50014503e-17, -1.70492253e-02, ...,\n",
       "         0.00000000e+00,  1.90819582e-17, -1.14491749e-16],\n",
       "       [-1.36475866e-17,  1.70492253e-02, -8.67361738e-18, ...,\n",
       "        -2.25514052e-17,  0.00000000e+00,  6.07153217e-17],\n",
       "       [ 1.70492253e-02,  1.11022302e-16,  1.04083409e-16, ...,\n",
       "         1.13570178e-16, -6.07153217e-17,  0.00000000e+00]])"
      ]
     },
     "execution_count": 35,
     "metadata": {},
     "output_type": "execute_result"
    }
   ],
   "source": [
    "np.imag(params.C_f)"
   ]
  },
  {
   "cell_type": "code",
   "execution_count": 36,
   "metadata": {},
   "outputs": [
    {
     "name": "stdout",
     "output_type": "stream",
     "text": [
      "[[-1.  0.  0. ...  0. -0.  0.]\n",
      " [ 0. -1. -0. ... -0. -0. -0.]\n",
      " [ 0. -0. -1. ...  0. -0. -0.]\n",
      " ...\n",
      " [ 0. -0.  0. ... -1.  0.  0.]\n",
      " [-0. -0. -0. ...  0. -1.  0.]\n",
      " [ 0. -0. -0. ...  0.  0. -1.]]\n"
     ]
    }
   ],
   "source": [
    "print(np.round(np.real(params.C_m@params.C_m),9))"
   ]
  },
  {
   "cell_type": "code",
   "execution_count": 334,
   "metadata": {},
   "outputs": [
    {
     "data": {
      "text/plain": [
       "nan"
      ]
     },
     "execution_count": 334,
     "metadata": {},
     "output_type": "execute_result"
    }
   ],
   "source": [
    "0*np.nan"
   ]
  },
  {
   "cell_type": "code",
   "execution_count": 15,
   "metadata": {},
   "outputs": [
    {
     "data": {
      "text/plain": [
       "<__main__.Params at 0x7f2fc5f604c0>"
      ]
     },
     "execution_count": 15,
     "metadata": {},
     "output_type": "execute_result"
    }
   ],
   "source": [
    "params=Params(Lx=4,Ly=4,m=3,history=True)\n",
    "params.measure_all_Born([np.arange(params.Lx//4)+params.Lx//4,np.arange(params.Ly)])"
   ]
  },
  {
   "cell_type": "code",
   "execution_count": 16,
   "metadata": {},
   "outputs": [
    {
     "data": {
      "text/plain": [
       "[16, 18, 20, 22, 24, 26, 28, 30]"
      ]
     },
     "execution_count": 16,
     "metadata": {},
     "output_type": "execute_result"
    }
   ],
   "source": [
    "params.i_history"
   ]
  },
  {
   "cell_type": "code",
   "execution_count": 236,
   "metadata": {},
   "outputs": [
    {
     "name": "stdout",
     "output_type": "stream",
     "text": [
      "0.07357059128722643\n"
     ]
    }
   ],
   "source": [
    "print(params.mutual_information_m([np.arange(params.Lx//4),np.arange(params.Ly)],[np.arange(params.Lx//4)+params.Lx//2,np.arange(params.Ly)]))\n",
    "# print(params.mutual_information_f([np.arange(params.Lx//4),np.arange(params.Ly)],[np.arange(params.Lx//4)+params.Lx//2,np.arange(params.Ly)]))\n",
    "\n"
   ]
  },
  {
   "cell_type": "code",
   "execution_count": 222,
   "metadata": {},
   "outputs": [
    {
     "data": {
      "text/plain": [
       "1"
      ]
     },
     "execution_count": 222,
     "metadata": {},
     "output_type": "execute_result"
    }
   ],
   "source": [
    "sum(params.f_parity)"
   ]
  },
  {
   "cell_type": "code",
   "execution_count": 230,
   "metadata": {},
   "outputs": [
    {
     "data": {
      "text/plain": [
       "array([[ 0.  ,  0.93,  0.  , -0.  , -0.  ,  0.02,  0.  , -0.18],\n",
       "       [-0.93,  0.  ,  0.  ,  0.  , -0.02, -0.  ,  0.18,  0.  ],\n",
       "       [-0.  , -0.  ,  0.  , -0.93,  0.  ,  0.18,  0.  , -0.02],\n",
       "       [ 0.  , -0.  ,  0.93,  0.  , -0.18,  0.  ,  0.02,  0.  ],\n",
       "       [ 0.  ,  0.02, -0.  ,  0.18,  0.  ,  0.93, -0.  ,  0.  ],\n",
       "       [-0.02,  0.  , -0.18, -0.  , -0.93,  0.  , -0.  , -0.  ],\n",
       "       [-0.  , -0.18, -0.  , -0.02,  0.  ,  0.  ,  0.  , -0.93],\n",
       "       [ 0.18, -0.  ,  0.02, -0.  , -0.  ,  0.  ,  0.93,  0.  ]])"
      ]
     },
     "execution_count": 230,
     "metadata": {},
     "output_type": "execute_result"
    }
   ],
   "source": [
    "np.round((params.C_m_history)[0][16:24,16:24],2)"
   ]
  },
  {
   "cell_type": "code",
   "execution_count": 232,
   "metadata": {},
   "outputs": [
    {
     "data": {
      "text/plain": [
       "array([[ 0.  ,  1.  ,  0.  ,  0.  ,  0.  ,  0.  ,  0.  ,  0.  ],\n",
       "       [-1.  ,  0.  ,  0.  ,  0.  ,  0.  ,  0.  ,  0.  ,  0.  ],\n",
       "       [ 0.  ,  0.  ,  0.  , -0.93,  0.  ,  0.18,  0.  , -0.02],\n",
       "       [ 0.  ,  0.  ,  0.93,  0.  , -0.18,  0.  ,  0.02,  0.  ],\n",
       "       [ 0.  ,  0.  , -0.  ,  0.18,  0.  ,  0.93, -0.  ,  0.  ],\n",
       "       [ 0.  ,  0.  , -0.18, -0.  , -0.93,  0.  , -0.  , -0.  ],\n",
       "       [ 0.  ,  0.  , -0.  , -0.02,  0.  ,  0.  ,  0.  , -0.95],\n",
       "       [ 0.  ,  0.  ,  0.02, -0.  , -0.  ,  0.  ,  0.95,  0.  ]])"
      ]
     },
     "execution_count": 232,
     "metadata": {},
     "output_type": "execute_result"
    }
   ],
   "source": [
    "np.round((params.C_m_history)[1][16:24,16:24],2)"
   ]
  },
  {
   "cell_type": "code",
   "execution_count": 233,
   "metadata": {},
   "outputs": [
    {
     "data": {
      "text/plain": [
       "array([[ 0.  ,  1.  ,  0.  ,  0.  ,  0.  ,  0.  ,  0.  ,  0.  ],\n",
       "       [-1.  ,  0.  ,  0.  ,  0.  ,  0.  ,  0.  ,  0.  ,  0.  ],\n",
       "       [ 0.  ,  0.  ,  0.  ,  1.  ,  0.  ,  0.  ,  0.  ,  0.  ],\n",
       "       [ 0.  ,  0.  , -1.  ,  0.  ,  0.  ,  0.  ,  0.  ,  0.  ],\n",
       "       [ 0.  ,  0.  ,  0.  ,  0.  ,  0.  ,  0.46, -0.  ,  0.06],\n",
       "       [ 0.  ,  0.  ,  0.  ,  0.  , -0.46,  0.  , -0.06, -0.  ],\n",
       "       [ 0.  ,  0.  ,  0.  ,  0.  ,  0.  ,  0.06,  0.  , -0.96],\n",
       "       [ 0.  ,  0.  ,  0.  ,  0.  , -0.06,  0.  ,  0.96,  0.  ]])"
      ]
     },
     "execution_count": 233,
     "metadata": {},
     "output_type": "execute_result"
    }
   ],
   "source": [
    "np.round((params.C_m_history)[2][16:24,16:24],2)"
   ]
  },
  {
   "cell_type": "code",
   "execution_count": 226,
   "metadata": {},
   "outputs": [
    {
     "data": {
      "text/plain": [
       "[16, 18, 20, 22, 24, 26, 28, 30]"
      ]
     },
     "execution_count": 226,
     "metadata": {},
     "output_type": "execute_result"
    }
   ],
   "source": [
    "params.i_history"
   ]
  },
  {
   "cell_type": "code",
   "execution_count": 227,
   "metadata": {},
   "outputs": [
    {
     "data": {
      "text/plain": [
       "[0, 0, 0, 0, 1, 0, 0, 0]"
      ]
     },
     "execution_count": 227,
     "metadata": {},
     "output_type": "execute_result"
    }
   ],
   "source": [
    "params.s_history"
   ]
  },
  {
   "cell_type": "code",
   "execution_count": 237,
   "metadata": {},
   "outputs": [
    {
     "data": {
      "text/plain": [
       "[0.9671663735560896,\n",
       " 0.032833626443910635,\n",
       " 0.9751098242466645,\n",
       " 0.024890175753336186,\n",
       " 0.9760461606648214,\n",
       " 0.023953839335178972,\n",
       " 0.9842434286227295,\n",
       " 0.01575657137727121]"
      ]
     },
     "execution_count": 237,
     "metadata": {},
     "output_type": "execute_result"
    }
   ],
   "source": [
    "params.P_0_list"
   ]
  },
  {
   "cell_type": "code",
   "execution_count": 145,
   "metadata": {},
   "outputs": [
    {
     "data": {
      "text/plain": [
       "2.855350102612041"
      ]
     },
     "execution_count": 145,
     "metadata": {},
     "output_type": "execute_result"
    }
   ],
   "source": [
    "params.von_Neumann_entropy_f([np.arange(params.Lx//4),np.arange(params.Ly)])"
   ]
  },
  {
   "cell_type": "code",
   "execution_count": 146,
   "metadata": {},
   "outputs": [
    {
     "data": {
      "text/plain": [
       "2.0661024279858635"
      ]
     },
     "execution_count": 146,
     "metadata": {},
     "output_type": "execute_result"
    }
   ],
   "source": [
    "params.von_Neumann_entropy_m([np.arange(params.Lx//4),np.arange(params.Ly)])"
   ]
  },
  {
   "cell_type": "code",
   "execution_count": 131,
   "metadata": {},
   "outputs": [
    {
     "data": {
      "text/plain": [
       "0.0012287325734350318"
      ]
     },
     "execution_count": 131,
     "metadata": {},
     "output_type": "execute_result"
    }
   ],
   "source": [
    "(params.mutual_information_f([np.arange(params.Lx//4),np.arange(params.Ly)],[np.arange(params.Lx//4)+params.Lx//2,np.arange(params.Ly)]))\n"
   ]
  },
  {
   "cell_type": "code",
   "execution_count": 132,
   "metadata": {},
   "outputs": [
    {
     "data": {
      "text/plain": [
       "0.0012287325734181564"
      ]
     },
     "execution_count": 132,
     "metadata": {},
     "output_type": "execute_result"
    }
   ],
   "source": [
    "(params.mutual_information_m([np.arange(params.Lx//4),np.arange(params.Ly)],[np.arange(params.Lx//4)+params.Lx//2,np.arange(params.Ly)]))\n"
   ]
  },
  {
   "cell_type": "code",
   "execution_count": 105,
   "metadata": {},
   "outputs": [
    {
     "data": {
      "text/plain": [
       "<__main__.Params at 0x7f5d8fe59b50>"
      ]
     },
     "execution_count": 105,
     "metadata": {},
     "output_type": "execute_result"
    }
   ],
   "source": [
    "params.measure_all_Born([np.arange(params.Lx//4)+params.Lx//4,np.arange(params.Ly)],1)"
   ]
  },
  {
   "cell_type": "code",
   "execution_count": 107,
   "metadata": {},
   "outputs": [
    {
     "data": {
      "text/plain": [
       "0.09799924560604012"
      ]
     },
     "execution_count": 107,
     "metadata": {},
     "output_type": "execute_result"
    }
   ],
   "source": [
    "(params.log_neg([np.arange(params.Lx//4),np.arange(params.Ly)],[np.arange(params.Lx//4)+params.Lx//2,np.arange(params.Ly)]))\n"
   ]
  },
  {
   "cell_type": "code",
   "execution_count": 94,
   "metadata": {},
   "outputs": [
    {
     "data": {
      "text/plain": [
       "0.09799924560617868"
      ]
     },
     "execution_count": 94,
     "metadata": {},
     "output_type": "execute_result"
    }
   ],
   "source": []
  },
  {
   "cell_type": "code",
   "execution_count": 308,
   "metadata": {},
   "outputs": [
    {
     "data": {
      "text/plain": [
       "1"
      ]
     },
     "execution_count": 308,
     "metadata": {},
     "output_type": "execute_result"
    }
   ],
   "source": [
    "params.m"
   ]
  },
  {
   "cell_type": "code",
   "execution_count": 244,
   "metadata": {},
   "outputs": [
    {
     "data": {
      "text/plain": [
       "18.21804687416391"
      ]
     },
     "execution_count": 244,
     "metadata": {},
     "output_type": "execute_result"
    }
   ],
   "source": [
    "params.von_Neumann_entropy_f([[0,1],np.arange(params.Ly)])"
   ]
  },
  {
   "cell_type": "code",
   "execution_count": 245,
   "metadata": {},
   "outputs": [
    {
     "data": {
      "text/plain": [
       "18.21804687416391"
      ]
     },
     "execution_count": 245,
     "metadata": {},
     "output_type": "execute_result"
    }
   ],
   "source": [
    "params.von_Neumann_entropy_m([[0,1],np.arange(params.Ly)])"
   ]
  },
  {
   "cell_type": "code",
   "execution_count": 249,
   "metadata": {},
   "outputs": [
    {
     "data": {
      "text/plain": [
       "12.779133752372978"
      ]
     },
     "execution_count": 249,
     "metadata": {},
     "output_type": "execute_result"
    }
   ],
   "source": [
    "params.mutual_information_f([[0,1],np.arange(params.Ly)],[[2,3],np.arange(params.Ly)])"
   ]
  },
  {
   "cell_type": "code",
   "execution_count": 250,
   "metadata": {},
   "outputs": [
    {
     "data": {
      "text/plain": [
       "12.779133752373198"
      ]
     },
     "execution_count": 250,
     "metadata": {},
     "output_type": "execute_result"
    }
   ],
   "source": [
    "params.mutual_information_m([[0,1],np.arange(params.Ly)],[[2,3],np.arange(params.Ly)])"
   ]
  },
  {
   "cell_type": "code",
   "execution_count": 267,
   "metadata": {},
   "outputs": [
    {
     "data": {
      "text/plain": [
       "9.035083792241494e-11"
      ]
     },
     "execution_count": 267,
     "metadata": {},
     "output_type": "execute_result"
    }
   ],
   "source": [
    "params.log_neg([[0,1],np.arange(params.Ly)],[[16,17],np.arange(params.Ly)])"
   ]
  },
  {
   "cell_type": "code",
   "execution_count": 178,
   "metadata": {},
   "outputs": [],
   "source": [
    "m_list=np.linspace(0,3)\n",
    "eigvallist=[]\n",
    "for m in m_list:\n",
    "    params=Params(m=m,bcx=1,bcy=1,Lx=16,Ly=16,Delta=0.5)\n",
    "    params.bandstructure()\n",
    "    eigvallist.append(params.val)\n"
   ]
  },
  {
   "cell_type": "code",
   "execution_count": 179,
   "metadata": {},
   "outputs": [],
   "source": [
    "func=lambda kx,ky,m,t,Delta:np.sqrt((t*np.sin(kx))**2+(t*np.sin(ky))**2+(m-Delta*np.cos(kx)-Delta*np.cos(ky))**2)"
   ]
  },
  {
   "cell_type": "code",
   "execution_count": 180,
   "metadata": {},
   "outputs": [],
   "source": [
    "KX,KY=np.meshgrid(np.linspace(-np.pi,np.pi),np.linspace(-np.pi,np.pi))"
   ]
  },
  {
   "cell_type": "code",
   "execution_count": 181,
   "metadata": {},
   "outputs": [],
   "source": [
    "en_max=[]\n",
    "en_min=[]\n",
    "for m in m_list:\n",
    "    en=func(KX,KY,m,1,0.5)\n",
    "    en_max.append(en.max())\n",
    "    en_min.append(en.min())"
   ]
  },
  {
   "cell_type": "code",
   "execution_count": 183,
   "metadata": {},
   "outputs": [
    {
     "data": {
      "text/plain": [
       "[<matplotlib.lines.Line2D at 0x7f6a57e2efa0>]"
      ]
     },
     "execution_count": 183,
     "metadata": {},
     "output_type": "execute_result"
    },
    {
     "data": {
      "image/png": "[encoded data removed]",
      "text/plain": [
       "<Figure size 489.6x288 with 1 Axes>"
      ]
     },
     "metadata": {
      "needs_background": "light"
     },
     "output_type": "display_data"
    }
   ],
   "source": [
    "plt.plot(m_list,en_min,'r')\n",
    "plt.plot(m_list,en_max,'r')"
   ]
  },
  {
   "cell_type": "code",
   "execution_count": 185,
   "metadata": {},
   "outputs": [
    {
     "data": {
      "text/plain": [
       "[<matplotlib.lines.Line2D at 0x7f6a572e1190>]"
      ]
     },
     "execution_count": 185,
     "metadata": {},
     "output_type": "execute_result"
    },
    {
     "data": {
      "image/png": "[encoded data removed]",
      "text/plain": [
       "<Figure size 489.6x288 with 1 Axes>"
      ]
     },
     "metadata": {
      "needs_background": "light"
     },
     "output_type": "display_data"
    }
   ],
   "source": [
    "plt.plot(m_list,eigvallist,'b',lw=0.5)\n",
    "plt.xlabel(r'm')\n",
    "plt.plot(m_list,en_min,'r',lw=3)\n",
    "plt.plot(m_list,en_max,'r',lw=3)\n",
    "\n",
    "# plt.ylim([-.5,.5])"
   ]
  },
  {
   "cell_type": "markdown",
   "metadata": {},
   "source": [
    "# No measurement"
   ]
  },
  {
   "cell_type": "code",
   "execution_count": 61,
   "metadata": {},
   "outputs": [],
   "source": [
    "m_list=np.linspace(1,3,20)\n",
    "LN_no_list=[]\n",
    "MI_no_list=[]\n",
    "for m in m_list:\n",
    "    params=Params(m=m,Lx=32,Ly=8)\n",
    "    # MI_no_list.append(params.mutual_information_m([np.arange(params.Lx//4),np.arange(params.Ly)],[np.arange(params.Lx//4)+params.Lx//2,np.arange(params.Ly)]))\n",
    "    LN_no_list.append(params.log_neg([np.arange(params.Lx//4),np.arange(params.Ly)],[np.arange(params.Lx//4)+params.Lx//2,np.arange(params.Ly)]))\n"
   ]
  },
  {
   "cell_type": "code",
   "execution_count": 62,
   "metadata": {},
   "outputs": [
    {
     "data": {
      "text/plain": [
       "<matplotlib.legend.Legend at 0x7f053faea1c0>"
      ]
     },
     "execution_count": 62,
     "metadata": {},
     "output_type": "execute_result"
    },
    {
     "data": {
      "image/png": "[encoded data removed]",
      "text/plain": [
       "<Figure size 489.6x288 with 1 Axes>"
      ]
     },
     "metadata": {
      "needs_background": "light"
     },
     "output_type": "display_data"
    }
   ],
   "source": [
    "fig,ax=plt.subplots()\n",
    "ax.plot(m_list,LN_no_list,label='LN')\n",
    "# ax.plot(m_list,MI_no_list,label='MI')\n",
    "ax.legend()"
   ]
  },
  {
   "cell_type": "code",
   "execution_count": 54,
   "metadata": {},
   "outputs": [],
   "source": [
    "params=Params(m=m,Lx=np.inf,Ly=np.inf)\n"
   ]
  },
  {
   "cell_type": "code",
   "execution_count": 55,
   "metadata": {},
   "outputs": [],
   "source": [
    "params.covariance_matrix()"
   ]
  },
  {
   "cell_type": "code",
   "execution_count": 70,
   "metadata": {},
   "outputs": [],
   "source": [
    "m_list=np.linspace(1,3,20)\n",
    "LN_no_inf_list=[]\n",
    "MI_no_inf_list=[]\n",
    "for m in m_list:\n",
    "    params=Params(m=m,Lx=np.inf,Ly=np.inf,dxmax=16,dymax=8)\n",
    "    MI_no_inf_list.append(params.mutual_information_m([np.arange(params.dxmax//4),np.arange(params.dymax)],[np.arange(params.dxmax//4)+params.dxmax//2,np.arange(params.dymax)]))\n",
    "    # LN_no_inf_list.append(params.log_neg([np.arange(params.dxmax//4),np.arange(params.dymax)],[np.arange(params.dxmax//4)+params.dxmax//2,np.arange(params.dymax)]))\n",
    "    LN_no_inf_list.append(params.log_neg([np.arange(params.dxmax//4),np.arange(params.dymax)],[np.arange(params.dxmax//4)+params.dxmax//2,np.arange(params.dymax)]))"
   ]
  },
  {
   "cell_type": "code",
   "execution_count": 73,
   "metadata": {},
   "outputs": [
    {
     "data": {
      "text/plain": [
       "<matplotlib.legend.Legend at 0x7f053f718df0>"
      ]
     },
     "execution_count": 73,
     "metadata": {},
     "output_type": "execute_result"
    },
    {
     "data": {
      "image/png": "[encoded data removed]",
      "text/plain": [
       "<Figure size 489.6x288 with 1 Axes>"
      ]
     },
     "metadata": {
      "needs_background": "light"
     },
     "output_type": "display_data"
    }
   ],
   "source": [
    "fig,ax=plt.subplots()\n",
    "# ax.plot(m_list,LN_no_inf_list,label='LN')\n",
    "ax.plot(m_list,MI_no_inf_list,label='MI')\n",
    "ax.legend()"
   ]
  },
  {
   "cell_type": "markdown",
   "metadata": {},
   "source": [
    "# Measure to 0"
   ]
  },
  {
   "cell_type": "code",
   "execution_count": 51,
   "metadata": {},
   "outputs": [],
   "source": [
    "m_list=np.linspace(1,3,20)\n",
    "es=1\n",
    "LN_empty_list=np.zeros((len(m_list),es))\n",
    "MI_empty_list=np.zeros((len(m_list),es))\n",
    "Lx,Ly=16,4\n",
    "for m_i,m in enumerate(m_list):\n",
    "    # st=time.time()\n",
    "    # Serial\n",
    "    params0=Params(m=m,Lx=Lx,Ly=Ly)\n",
    "    for es_i in range(es):\n",
    "        params=copy(params0)\n",
    "        params.measure_all_Born([np.arange(params.Lx//4,params.Lx//2),np.arange(params.Ly)],0)\n",
    "        MI_empty_list[m_i,es_i]=params.mutual_information_m([np.arange(params.Lx//4),np.arange(params.Ly)],[np.arange(params.Lx//4)+params.Lx//2,np.arange(params.Ly)])\n",
    "        LN_empty_list[m_i,es_i]=params.log_neg([np.arange(params.Lx//4),np.arange(params.Ly)],[np.arange(params.Lx//4)+params.Lx//2,np.arange(params.Ly)])\n",
    "\n",
    "    # # Parallel\n",
    "    # async_result=rc[:].map_sync((lambda p:Params(m=p[0],Lx=p[1],Ly=p[2]).measure_all_Born([np.arange(p[1]//4,p[1]//2),np.arange(p[2])]).log_neg([np.arange(p[1]//4),np.arange(p[2])],[np.arange(p[1]//4)+p[1]//2,np.arange(p[2])])),[(m,Lx,Ly) for _ in range(es)])\n",
    "    # LN_empty_list[m_i,:]=async_result \n",
    "\n",
    "    # print('{:d}:{:.1f}'.format(m_i,time.time()-st))\n"
   ]
  },
  {
   "cell_type": "code",
   "execution_count": 52,
   "metadata": {},
   "outputs": [
    {
     "data": {
      "text/plain": [
       "[<matplotlib.lines.Line2D at 0x7f5b11fa67f0>]"
      ]
     },
     "execution_count": 52,
     "metadata": {},
     "output_type": "execute_result"
    },
    {
     "data": {
      "image/png": "[encoded data removed]",
      "text/plain": [
       "<Figure size 489.6x288 with 1 Axes>"
      ]
     },
     "metadata": {
      "needs_background": "light"
     },
     "output_type": "display_data"
    }
   ],
   "source": [
    "plt.plot(m_list,LN_empty_list)\n",
    "plt.plot(m_list,MI_empty_list)"
   ]
  },
  {
   "cell_type": "markdown",
   "metadata": {},
   "source": [
    "# Measure to 0.5"
   ]
  },
  {
   "cell_type": "code",
   "execution_count": 16,
   "metadata": {},
   "outputs": [
    {
     "name": "stdout",
     "output_type": "stream",
     "text": [
      "0:0.3\n"
     ]
    }
   ],
   "source": [
    "m_list=np.linspace(1,3,20)\n",
    "es=50\n",
    "LN_half_list=np.zeros((len(m_list),es))\n",
    "MI_half_list=np.zeros((len(m_list),es))\n",
    "Lx,Ly=16,8\n",
    "for m_i,m in enumerate(m_list):\n",
    "    st=time.time()\n",
    "    # Serial\n",
    "    params0=Params(m=m,Lx=16,Ly=8)\n",
    "    for es_i in range(es):\n",
    "        params=copy(params0)\n",
    "        params.measure_all_Born([np.arange(params.Lx//4,params.Lx//2),np.arange(params.Ly)],0.5)\n",
    "        # MI_half_list[m_i,es_i]=params.mutual_information_m([np.arange(params.Lx//4),np.arange(params.Ly)],[np.arange(params.Lx//4)+params.Lx//2,np.arange(params.Ly)])\n",
    "        LN_half_list[m_i,es_i]=params.log_neg([np.arange(params.Lx//4),np.arange(params.Ly)],[np.arange(params.Lx//4)+params.Lx//2,np.arange(params.Ly)])\n",
    "\n",
    "    #  # Parallel\n",
    "    # async_result=rc[:].map_sync((lambda p:Params(m=p[0],Lx=p[1],Ly=p[2]).measure_all_Born([np.arange(p[1]//4,p[1]//2),np.arange(p[2])],0.5).log_neg([np.arange(p[1]//4),np.arange(p[2])],[np.arange(p[1]//4)+p[1]//2,np.arange(p[2])])),[(m,Lx,Ly) for _ in range(es)])\n",
    "    # LN_half_list[m_i,:]=async_result \n",
    "\n",
    "    print('{:d}:{:.1f}'.format(m_i,time.time()-st))\n"
   ]
  },
  {
   "cell_type": "code",
   "execution_count": 14,
   "metadata": {},
   "outputs": [
    {
     "data": {
      "text/plain": [
       "[<matplotlib.lines.Line2D at 0x7fd198046cd0>]"
      ]
     },
     "execution_count": 14,
     "metadata": {},
     "output_type": "execute_result"
    },
    {
     "data": {
      "image/png": "[encoded data removed]",
      "text/plain": [
       "<Figure size 489.6x288 with 1 Axes>"
      ]
     },
     "metadata": {
      "needs_background": "light"
     },
     "output_type": "display_data"
    }
   ],
   "source": [
    "plt.plot(m_list,LN_half_list.mean(axis=1))\n",
    "# plt.plot(m_list,LN_empty_list)"
   ]
  },
  {
   "cell_type": "markdown",
   "metadata": {},
   "source": [
    "# Measure to 1"
   ]
  },
  {
   "cell_type": "code",
   "execution_count": 182,
   "metadata": {},
   "outputs": [],
   "source": [
    "m_list=np.linspace(1,3,20)\n",
    "es=1\n",
    "LN_occ_list=np.zeros((len(m_list),es))\n",
    "MI_occ_list=np.zeros((len(m_list),es))\n",
    "Lx,Ly=16,8\n",
    "for m_i,m in enumerate(m_list):\n",
    "    st=time.time()\n",
    "    # Serial\n",
    "    params0=Params(m=m,Lx=Lx,Ly=Ly)\n",
    "    for es_i in range(es):\n",
    "        params=copy(params0)\n",
    "        params.measure_all_Born([np.arange(params.Lx//4,params.Lx//2),np.arange(params.Ly)],1)\n",
    "        # MI_occ_list[m_i,es_i]=params.mutual_information_m([np.arange(params.Lx//4),np.arange(params.Ly)],[np.arange(params.Lx//4)+params.Lx//2,np.arange(params.Ly)])\n",
    "        LN_occ_list[m_i,es_i]=params.log_neg([np.arange(params.Lx//4),np.arange(params.Ly)],[np.arange(params.Lx//4)+params.Lx//2,np.arange(params.Ly)])\n",
    "\n",
    "    # # Parallel\n",
    "    # async_result=rc[:].map_sync((lambda p:Params(m=p[0],Lx=p[1],Ly=p[2]).measure_all_Born([np.arange(p[1]//4,p[1]//2),np.arange(p[2])]).log_neg([np.arange(p[1]//4),np.arange(p[2])],[np.arange(p[1]//4)+p[1]//2,np.arange(p[2])])),[(m,Lx,Ly) for _ in range(es)])\n",
    "    # LN_occ_list[m_i,:]=async_result \n",
    "\n",
    "    # print('{:d}:{:.1f}'.format(m_i,time.time()-st))\n"
   ]
  },
  {
   "cell_type": "code",
   "execution_count": 184,
   "metadata": {},
   "outputs": [
    {
     "data": {
      "text/plain": [
       "[<matplotlib.lines.Line2D at 0x7f5d7c50a520>]"
      ]
     },
     "execution_count": 184,
     "metadata": {},
     "output_type": "execute_result"
    },
    {
     "data": {
      "image/png": "[encoded data removed]",
      "text/plain": [
       "<Figure size 489.6x288 with 1 Axes>"
      ]
     },
     "metadata": {
      "needs_background": "light"
     },
     "output_type": "display_data"
    }
   ],
   "source": [
    "plt.plot(m_list,LN_occ_list)\n",
    "# plt.plot(m_list,LN_empty_list)"
   ]
  },
  {
   "cell_type": "markdown",
   "metadata": {},
   "source": [
    "# Born measurement"
   ]
  },
  {
   "cell_type": "code",
   "execution_count": 5,
   "metadata": {},
   "outputs": [
    {
     "name": "stdout",
     "output_type": "stream",
     "text": [
      "0:36.7\n",
      "1:36.0\n",
      "2:35.7\n",
      "3:36.0\n",
      "4:36.0\n",
      "5:35.6\n",
      "6:35.8\n",
      "7:36.0\n",
      "8:35.8\n",
      "9:35.7\n",
      "10:36.2\n",
      "11:35.9\n",
      "12:35.9\n",
      "13:36.2\n",
      "14:36.7\n",
      "15:36.6\n",
      "16:36.3\n",
      "17:36.7\n",
      "18:37.5\n",
      "19:37.4\n"
     ]
    }
   ],
   "source": [
    "m_list=np.linspace(1,3,20)\n",
    "es=20\n",
    "LN_Born_list=np.zeros((len(m_list),es))\n",
    "MI_Born_list=np.zeros((len(m_list),es))\n",
    "Lx,Ly=16,16\n",
    "for m_i,m in enumerate(m_list):\n",
    "    st=time.time()\n",
    "    # # Serial\n",
    "    # params0=Params(m=m,Lx=Lx,Ly=Ly)\n",
    "    # for es_i in range(es):\n",
    "    #     params=copy(params0)\n",
    "    #     params.measure_all_Born([np.arange(params.Lx//4,params.Lx//2),np.arange(params.Ly)])\n",
    "    #     # MI_Born_list[m_i,es_i]=params.mutual_information_m([np.arange(params.Lx//4),np.arange(params.Ly)],[np.arange(params.Lx//4)+params.Lx//2,np.arange(params.Ly)])\n",
    "    #     LN_Born_list[m_i,es_i]=params.log_neg([np.arange(params.Lx//4),np.arange(params.Ly)],[np.arange(params.Lx//4)+params.Lx//2,np.arange(params.Ly)])\n",
    "\n",
    "    # Parallel\n",
    "    async_result=rc[:].map_sync((lambda p:Params(m=p[0],Lx=p[1],Ly=p[2]).measure_all_Born([np.arange(p[1]//4,p[1]//2),np.arange(p[2])]).log_neg([np.arange(p[1]//4),np.arange(p[2])],[np.arange(p[1]//4)+p[1]//2,np.arange(p[2])])),[(m,Lx,Ly) for _ in range(es)])\n",
    "    LN_Born_list[m_i,:]=async_result \n",
    "\n",
    "    async_result=rc[:].map_sync((lambda p:Params(m=p[0],Lx=p[1],Ly=p[2]).measure_all_Born([np.arange(p[1]//4,p[1]//2),np.arange(p[2])]).mutual_information_m([np.arange(p[1]//4),np.arange(p[2])],[np.arange(p[1]//4)+p[1]//2,np.arange(p[2])])),[(m,Lx,Ly) for _ in range(es)])\n",
    "    MI_Born_list[m_i,:]=async_result\n",
    "\n",
    "    print('{:d}:{:.1f}'.format(m_i,time.time()-st))\n"
   ]
  },
  {
   "cell_type": "code",
   "execution_count": null,
   "metadata": {},
   "outputs": [],
   "source": [
    "es,Lx,Ly=500,32,32\n",
    "with open('/mnt/d/KITP/Rp_SPT/8/MI_LN_CI_Born_En{:d}_Lx{:d}_Ly{:d}.pickle'.format(es,Lx,Ly),'rb') as f:\n",
    "    [m_list,MI_Born_list,LN_Born_list,MI_no_list,LN_no_list]=pickle.load(f)"
   ]
  },
  {
   "cell_type": "code",
   "execution_count": 10,
   "metadata": {},
   "outputs": [
    {
     "data": {
      "text/plain": [
       "Text(0.5, 1.0, 'Ensemble Size=20, Lx=16, Ly=16')"
      ]
     },
     "execution_count": 10,
     "metadata": {},
     "output_type": "execute_result"
    },
    {
     "data": {
      "image/png": "[encoded data removed]",
      "text/plain": [
       "<Figure size 489.6x288 with 1 Axes>"
      ]
     },
     "metadata": {
      "needs_background": "light"
     },
     "output_type": "display_data"
    }
   ],
   "source": [
    "fig,ax=plt.subplots()\n",
    "# ax.plot(m_list,LN_no_list,'.-',label='No measurement')\n",
    "\n",
    "ax.errorbar(m_list,LN_Born_list.mean(axis=1)/np.log(2),LN_Born_list.std(axis=1)/np.log(2),capsize=3,fmt='.-',label='Onsite measurement (LN)')\n",
    "ax.errorbar(m_list,MI_Born_list.mean(axis=1)/np.log(2),MI_Born_list.std(axis=1)/np.log(2),capsize=3,fmt='.-',label='Onsite measurement (MI)')\n",
    "\n",
    "ax.legend()\n",
    "ax.grid('on')\n",
    "ax.set_xlabel(r'm')\n",
    "ax.set_ylabel(r'log neg [log(2)]')\n",
    "ax.margins(x=0)\n",
    "ax.set_title('Ensemble Size={:d}, Lx={:d}, Ly={:d}'.format(es,Lx,Ly))\n",
    "# fig.savefig('/mnt/d/KITP/Rp_SPT/8/LN_CI_Born_En{:d}_Lx{:d}_Ly{:d}.pdf'.format(es,Lx,Ly),bbox_inches='tight')"
   ]
  },
  {
   "cell_type": "code",
   "execution_count": 7,
   "metadata": {},
   "outputs": [
    {
     "name": "stdout",
     "output_type": "stream",
     "text": [
      "0:39.4\n",
      "1:38.8\n",
      "2:38.7\n",
      "3:38.8\n",
      "4:38.2\n",
      "5:37.9\n",
      "6:38.8\n",
      "7:38.3\n",
      "8:38.1\n",
      "9:38.0\n",
      "10:38.0\n",
      "11:38.1\n",
      "12:38.4\n",
      "13:38.2\n",
      "14:38.3\n",
      "15:38.7\n",
      "16:38.4\n",
      "17:38.7\n",
      "18:38.8\n",
      "19:38.4\n"
     ]
    }
   ],
   "source": [
    "m_list=np.linspace(1,3,20)\n",
    "es=20\n",
    "LN_Born_inf_list=np.zeros((len(m_list),es))\n",
    "MI_Born_inf_list=np.zeros((len(m_list),es))\n",
    "Lx,Ly=16,16\n",
    "for m_i,m in enumerate(m_list):\n",
    "    st=time.time()\n",
    "    # # Serial\n",
    "    # params0=Params(m=m,Lx=Lx,Ly=Ly)\n",
    "    # for es_i in range(es):\n",
    "    #     params=copy(params0)\n",
    "    #     params.measure_all_Born([np.arange(params.Lx//4,params.Lx//2),np.arange(params.Ly)])\n",
    "    #     # MI_Born_inf_list[m_i,es_i]=params.mutual_information_m([np.arange(params.Lx//4),np.arange(params.Ly)],[np.arange(params.Lx//4)+params.Lx//2,np.arange(params.Ly)])\n",
    "    #     LN_Born_inf_list[m_i,es_i]=params.log_neg([np.arange(params.Lx//4),np.arange(params.Ly)],[np.arange(params.Lx//4)+params.Lx//2,np.arange(params.Ly)])\n",
    "\n",
    "    # Parallel\n",
    "    async_result=rc[:].map_sync((lambda p:Params(m=p[0],dxmax=p[1],dymax=p[2],Lx=np.inf,Ly=np.inf).measure_all_Born([np.arange(p[1]//4,p[1]//2),np.arange(p[2])]).log_neg([np.arange(p[1]//4),np.arange(p[2])],[np.arange(p[1]//4)+p[1]//2,np.arange(p[2])])),[(m,Lx,Ly) for _ in range(es)])\n",
    "    LN_Born_inf_list[m_i,:]=async_result \n",
    "\n",
    "    async_result=rc[:].map_sync((lambda p:Params(m=p[0],Lx=p[1],Ly=p[2]).measure_all_Born([np.arange(p[1]//4,p[1]//2),np.arange(p[2])]).mutual_information_m([np.arange(p[1]//4),np.arange(p[2])],[np.arange(p[1]//4)+p[1]//2,np.arange(p[2])])),[(m,Lx,Ly) for _ in range(es)])\n",
    "    MI_Born_inf_list[m_i,:]=async_result\n",
    "\n",
    "    print('{:d}:{:.1f}'.format(m_i,time.time()-st))\n"
   ]
  },
  {
   "cell_type": "code",
   "execution_count": 11,
   "metadata": {},
   "outputs": [
    {
     "data": {
      "text/plain": [
       "Text(0.5, 1.0, 'Ensemble Size=20, Lx=16, Ly=16')"
      ]
     },
     "execution_count": 11,
     "metadata": {},
     "output_type": "execute_result"
    },
    {
     "data": {
      "image/png": "[encoded data removed]",
      "text/plain": [
       "<Figure size 489.6x288 with 1 Axes>"
      ]
     },
     "metadata": {
      "needs_background": "light"
     },
     "output_type": "display_data"
    }
   ],
   "source": [
    "fig,ax=plt.subplots()\n",
    "# ax.plot(m_list,LN_no_inf_list,'.-',label='No measurement (LN)')\n",
    "# ax.plot(m_list,MI_no_inf_list,'.-',label='No measurement (MI)')\n",
    "\n",
    "ax.errorbar(m_list,LN_Born_inf_list.mean(axis=1)/np.log(2),LN_Born_inf_list.std(axis=1),capsize=3,fmt='.-',label='Onsite measurement (LN)')\n",
    "ax.errorbar(m_list,MI_Born_inf_list.mean(axis=1)/np.log(2),MI_Born_inf_list.std(axis=1),capsize=3,fmt='.-',label='Onsite measurement (MI)')\n",
    "ax.legend()\n",
    "ax.grid('on')\n",
    "ax.set_xlabel(r'm')\n",
    "ax.set_ylabel(r'log neg [log(2)]')\n",
    "ax.margins(x=0)\n",
    "ax.set_title('Ensemble Size={:d}, Lx={:d}, Ly={:d}'.format(es,Lx,Ly))\n",
    "# fig.savefig('/mnt/d/KITP/Rp_SPT/8/LN_CI_Born_inf_En{:d}_Lx{:d}_Ly{:d}.pdf'.format(es,Lx,Ly),bbox_inches='tight')"
   ]
  },
  {
   "cell_type": "markdown",
   "metadata": {},
   "source": [
    "# Scaling at m=2"
   ]
  },
  {
   "cell_type": "markdown",
   "metadata": {},
   "source": [
    "## no measurement"
   ]
  },
  {
   "cell_type": "code",
   "execution_count": 1,
   "metadata": {},
   "outputs": [],
   "source": [
    "import matplotlib.patches as mpatches\n",
    "def place_region(x,y,fig,ax,color='ybyk'):  \n",
    "    # fig,ax=plt.subplots()\n",
    "    arc=[mpatches.Arc((x,y),50,50,-theta,0,90,transform=None,ec=ec,lw=5) for theta,ec in zip(np.arange(4)*90,color)]\n",
    "    [fig.artists.append(arc) for arc in arc]\n",
    "    ax.text(x+25,y+25,r'$A$',transform=None,ha='center',va='center')\n",
    "    ax.text(x+25,y-25,r'$A^\\prime$',transform=None,ha='center',va='center')\n",
    "    ax.text(x-25,y-25,r'$B$',transform=None,ha='center',va='center')\n",
    "    ax.text(x-25,y+25,r'$B^\\prime$',transform=None,ha='center',va='center')"
   ]
  },
  {
   "cell_type": "code",
   "execution_count": 6,
   "metadata": {},
   "outputs": [],
   "source": [
    "eta_no_list=[]\n",
    "MI_no_list=[]\n",
    "LN_no_list=[]\n",
    "L=32\n",
    "params=Params(m=2,Lx=L,Ly=8)\n",
    "for _ in range(200):\n",
    "    x=sorted(np.random.choice(np.arange(1,L),3,replace=False))\n",
    "    x=[0]+x\n",
    "    eta=cross_ratio(x,L)\n",
    "    eta_no_list.append(eta)\n",
    "    subregionA=[np.arange(x[0],x[1]),np.arange(params.Ly)]\n",
    "    subregionB=[np.arange(x[2],x[3]),np.arange(params.Ly)]\n",
    "    MI=params.mutual_information_m(subregionA,subregionB)    \n",
    "    MI_no_list.append(MI)\n",
    "    LN=params.log_neg(subregionA,subregionB)\n",
    "    LN_no_list.append(LN)\n",
    "eta_no_list=np.array(eta_no_list)\n",
    "MI_no_list=np.array(MI_no_list)\n",
    "LN_no_list=np.array(LN_no_list)"
   ]
  },
  {
   "cell_type": "code",
   "execution_count": 14,
   "metadata": {},
   "outputs": [
    {
     "data": {
      "image/png": "[encoded data removed]",
      "text/plain": [
       "<Figure size 489.6x288 with 1 Axes>"
      ]
     },
     "metadata": {
      "needs_background": "light"
     },
     "output_type": "display_data"
    }
   ],
   "source": [
    "fig,ax=plt.subplots()\n",
    "ax.scatter(eta_no_list,MI_no_list,s=1,color='b',label='L={:d}, MI'.format(L))\n",
    "ax.scatter(eta_no_list,LN_no_list,s=1,color='r',label='L={:d}, LN'.format(L))\n",
    "\n",
    "ax.set_xscale('log')\n",
    "ax.set_yscale('log')\n",
    "ax.set_xlim([np.min(eta_no_list),1])\n",
    "# ax.set_ylim([1e-10,1])\n",
    "\n",
    "mask_MI=(MI_no_list>1e-10)&((eta_no_list)<1)\n",
    "lr_MI=scipy.stats.linregress(np.log(eta_no_list[mask_MI]),np.log(MI_no_list[mask_MI]))\n",
    "x_int=np.linspace(np.min(eta_no_list),1,10)\n",
    "y_int=np.exp(lr_MI.slope*np.log(x_int)+lr_MI.intercept)\n",
    "ax.plot(x_int,y_int,'c',label=r'MI$\\propto\\eta^{{{:.2f}}}$'.format(lr_MI.slope))\n",
    "\n",
    "mask_LN=(LN_no_list>1e-10)&((eta_no_list)<1)\n",
    "lr_LN=scipy.stats.linregress(np.log(eta_no_list[mask_LN]),np.log(LN_no_list[mask_LN]))\n",
    "x_int=np.linspace(np.min(eta_no_list),1,10)\n",
    "y_int=np.exp(lr_LN.slope*np.log(x_int)+lr_LN.intercept)\n",
    "ax.plot(x_int,y_int,label=r'LN$\\propto\\eta^{{{:.2f}}}$'.format(lr_LN.slope),color='orange')\n",
    "ax.set_xlabel(r'$\\eta$')\n",
    "ax.legend()\n",
    "\n",
    "# place_region(200,200,fig,ax,'ykyk')\n",
    "fig.savefig('/mnt/d/kitp/Rp_SPT/8/MI_LN_no.pdf')"
   ]
  },
  {
   "cell_type": "markdown",
   "metadata": {},
   "source": [
    "# Born measurement"
   ]
  },
  {
   "cell_type": "code",
   "execution_count": 19,
   "metadata": {},
   "outputs": [
    {
     "ename": "KeyboardInterrupt",
     "evalue": "",
     "output_type": "error",
     "traceback": [
      "\u001b[0;31m---------------------------------------------------------------------------\u001b[0m",
      "\u001b[0;31mKeyboardInterrupt\u001b[0m                         Traceback (most recent call last)",
      "\u001b[0;32m<ipython-input-19-accee5f7d617>\u001b[0m in \u001b[0;36m<module>\u001b[0;34m\u001b[0m\n\u001b[1;32m     19\u001b[0m     \u001b[0;32mfor\u001b[0m \u001b[0m_\u001b[0m \u001b[0;32min\u001b[0m \u001b[0mrange\u001b[0m\u001b[0;34m(\u001b[0m\u001b[0mes\u001b[0m\u001b[0;34m)\u001b[0m\u001b[0;34m:\u001b[0m\u001b[0;34m\u001b[0m\u001b[0;34m\u001b[0m\u001b[0m\n\u001b[1;32m     20\u001b[0m         \u001b[0mparams\u001b[0m\u001b[0;34m=\u001b[0m\u001b[0mcopy\u001b[0m\u001b[0;34m(\u001b[0m\u001b[0mparams_init\u001b[0m\u001b[0;34m)\u001b[0m\u001b[0;34m\u001b[0m\u001b[0;34m\u001b[0m\u001b[0m\n\u001b[0;32m---> 21\u001b[0;31m         \u001b[0mparams\u001b[0m\u001b[0;34m.\u001b[0m\u001b[0mmeasure_all_Born\u001b[0m\u001b[0;34m(\u001b[0m\u001b[0msubregionAp\u001b[0m\u001b[0;34m)\u001b[0m\u001b[0;34m\u001b[0m\u001b[0;34m\u001b[0m\u001b[0m\n\u001b[0m\u001b[1;32m     22\u001b[0m         \u001b[0mMI_ensemble_list\u001b[0m\u001b[0;34m.\u001b[0m\u001b[0mappend\u001b[0m\u001b[0;34m(\u001b[0m\u001b[0mparams\u001b[0m\u001b[0;34m.\u001b[0m\u001b[0mmutual_information_m\u001b[0m\u001b[0;34m(\u001b[0m\u001b[0msubregionA\u001b[0m\u001b[0;34m,\u001b[0m\u001b[0msubregionB\u001b[0m\u001b[0;34m)\u001b[0m\u001b[0;34m)\u001b[0m\u001b[0;34m\u001b[0m\u001b[0;34m\u001b[0m\u001b[0m\n\u001b[1;32m     23\u001b[0m         \u001b[0mLN_ensemble_list\u001b[0m\u001b[0;34m.\u001b[0m\u001b[0mappend\u001b[0m\u001b[0;34m(\u001b[0m\u001b[0mparams\u001b[0m\u001b[0;34m.\u001b[0m\u001b[0mlog_neg\u001b[0m\u001b[0;34m(\u001b[0m\u001b[0msubregionA\u001b[0m\u001b[0;34m,\u001b[0m\u001b[0msubregionB\u001b[0m\u001b[0;34m)\u001b[0m\u001b[0;34m)\u001b[0m\u001b[0;34m\u001b[0m\u001b[0;34m\u001b[0m\u001b[0m\n",
      "\u001b[0;32m<ipython-input-5-45d879b9c253>\u001b[0m in \u001b[0;36mmeasure_all_Born\u001b[0;34m(self, proj_range, prob)\u001b[0m\n\u001b[1;32m    392\u001b[0m                 \u001b[0mself\u001b[0m\u001b[0;34m.\u001b[0m\u001b[0mf_parity\u001b[0m\u001b[0;34m.\u001b[0m\u001b[0mappend\u001b[0m\u001b[0;34m(\u001b[0m\u001b[0;36m0\u001b[0m\u001b[0;34m)\u001b[0m\u001b[0;34m\u001b[0m\u001b[0;34m\u001b[0m\u001b[0m\n\u001b[1;32m    393\u001b[0m             \u001b[0;32melse\u001b[0m\u001b[0;34m:\u001b[0m\u001b[0;34m\u001b[0m\u001b[0;34m\u001b[0m\u001b[0m\n\u001b[0;32m--> 394\u001b[0;31m                 \u001b[0mself\u001b[0m\u001b[0;34m.\u001b[0m\u001b[0mmeasure\u001b[0m\u001b[0;34m(\u001b[0m\u001b[0;36m1\u001b[0m\u001b[0;34m,\u001b[0m \u001b[0;34m[\u001b[0m\u001b[0mi\u001b[0m\u001b[0;34m,\u001b[0m \u001b[0mi\u001b[0m\u001b[0;34m+\u001b[0m\u001b[0;36m1\u001b[0m\u001b[0;34m]\u001b[0m\u001b[0;34m)\u001b[0m\u001b[0;34m\u001b[0m\u001b[0;34m\u001b[0m\u001b[0m\n\u001b[0m\u001b[1;32m    395\u001b[0m                 \u001b[0mself\u001b[0m\u001b[0;34m.\u001b[0m\u001b[0mf_parity\u001b[0m\u001b[0;34m.\u001b[0m\u001b[0mappend\u001b[0m\u001b[0;34m(\u001b[0m\u001b[0;36m1\u001b[0m\u001b[0;34m)\u001b[0m\u001b[0;34m\u001b[0m\u001b[0;34m\u001b[0m\u001b[0m\n\u001b[1;32m    396\u001b[0m         \u001b[0;32mreturn\u001b[0m \u001b[0mself\u001b[0m\u001b[0;34m\u001b[0m\u001b[0;34m\u001b[0m\u001b[0m\n",
      "\u001b[0;32m<ipython-input-5-45d879b9c253>\u001b[0m in \u001b[0;36mmeasure\u001b[0;34m(self, s, ix)\u001b[0m\n\u001b[1;32m    365\u001b[0m             \u001b[0mPsi\u001b[0m\u001b[0;34m[\u001b[0m\u001b[0;34m[\u001b[0m\u001b[0mi\u001b[0m\u001b[0;34m,\u001b[0m \u001b[0;34m-\u001b[0m\u001b[0;34m(\u001b[0m\u001b[0mlen\u001b[0m\u001b[0;34m(\u001b[0m\u001b[0mix\u001b[0m\u001b[0;34m)\u001b[0m\u001b[0;34m-\u001b[0m\u001b[0mi_ind\u001b[0m\u001b[0;34m)\u001b[0m\u001b[0;34m]\u001b[0m\u001b[0;34m]\u001b[0m \u001b[0;34m=\u001b[0m \u001b[0mPsi\u001b[0m\u001b[0;34m[\u001b[0m\u001b[0;34m[\u001b[0m\u001b[0;34m-\u001b[0m\u001b[0;34m(\u001b[0m\u001b[0mlen\u001b[0m\u001b[0;34m(\u001b[0m\u001b[0mix\u001b[0m\u001b[0;34m)\u001b[0m\u001b[0;34m-\u001b[0m\u001b[0mi_ind\u001b[0m\u001b[0;34m)\u001b[0m\u001b[0;34m,\u001b[0m \u001b[0mi\u001b[0m\u001b[0;34m]\u001b[0m\u001b[0;34m]\u001b[0m\u001b[0;34m\u001b[0m\u001b[0;34m\u001b[0m\u001b[0m\n\u001b[1;32m    366\u001b[0m             \u001b[0mPsi\u001b[0m\u001b[0;34m[\u001b[0m\u001b[0;34m:\u001b[0m\u001b[0;34m,\u001b[0m \u001b[0;34m[\u001b[0m\u001b[0mi\u001b[0m\u001b[0;34m,\u001b[0m \u001b[0;34m-\u001b[0m\u001b[0;34m(\u001b[0m\u001b[0mlen\u001b[0m\u001b[0;34m(\u001b[0m\u001b[0mix\u001b[0m\u001b[0;34m)\u001b[0m\u001b[0;34m-\u001b[0m\u001b[0mi_ind\u001b[0m\u001b[0;34m)\u001b[0m\u001b[0;34m]\u001b[0m\u001b[0;34m]\u001b[0m \u001b[0;34m=\u001b[0m \u001b[0mPsi\u001b[0m\u001b[0;34m[\u001b[0m\u001b[0;34m:\u001b[0m\u001b[0;34m,\u001b[0m \u001b[0;34m[\u001b[0m\u001b[0;34m-\u001b[0m\u001b[0;34m(\u001b[0m\u001b[0mlen\u001b[0m\u001b[0;34m(\u001b[0m\u001b[0mix\u001b[0m\u001b[0;34m)\u001b[0m\u001b[0;34m-\u001b[0m\u001b[0mi_ind\u001b[0m\u001b[0;34m)\u001b[0m\u001b[0;34m,\u001b[0m \u001b[0mi\u001b[0m\u001b[0;34m]\u001b[0m\u001b[0;34m]\u001b[0m\u001b[0;34m\u001b[0m\u001b[0;34m\u001b[0m\u001b[0m\n\u001b[0;32m--> 367\u001b[0;31m         \u001b[0mPsi\u001b[0m \u001b[0;34m=\u001b[0m \u001b[0;34m(\u001b[0m\u001b[0mPsi\u001b[0m\u001b[0;34m-\u001b[0m\u001b[0mPsi\u001b[0m\u001b[0;34m.\u001b[0m\u001b[0mT\u001b[0m\u001b[0;34m)\u001b[0m\u001b[0;34m/\u001b[0m\u001b[0;36m2\u001b[0m   \u001b[0;31m# Anti-symmetrize\u001b[0m\u001b[0;34m\u001b[0m\u001b[0;34m\u001b[0m\u001b[0m\n\u001b[0m\u001b[1;32m    368\u001b[0m         \u001b[0;32mif\u001b[0m \u001b[0mself\u001b[0m\u001b[0;34m.\u001b[0m\u001b[0mhistory\u001b[0m\u001b[0;34m:\u001b[0m\u001b[0;34m\u001b[0m\u001b[0;34m\u001b[0m\u001b[0m\n\u001b[1;32m    369\u001b[0m             \u001b[0mself\u001b[0m\u001b[0;34m.\u001b[0m\u001b[0mC_m_history\u001b[0m\u001b[0;34m.\u001b[0m\u001b[0mappend\u001b[0m\u001b[0;34m(\u001b[0m\u001b[0mPsi\u001b[0m\u001b[0;34m)\u001b[0m\u001b[0;34m\u001b[0m\u001b[0;34m\u001b[0m\u001b[0m\n",
      "\u001b[0;31mKeyboardInterrupt\u001b[0m: "
     ]
    }
   ],
   "source": [
    "eta_Born_onsite_Ap_list=[]\n",
    "MI_Born_onsite_Ap_list=[]\n",
    "LN_Born_onsite_Ap_list=[]\n",
    "# x_list=[]\n",
    "# subregion_list=[]\n",
    "es=50\n",
    "L=16\n",
    "params_init=Params(m=2,Lx=L,Ly=8)\n",
    "\n",
    "for _ in range(200):\n",
    "    MI_ensemble_list=[]\n",
    "    LN_ensemble_list=[]\n",
    "    x=sorted(np.random.choice(np.arange(1,L),3,replace=False))\n",
    "    x=[0]+x\n",
    "    subregionA=[np.arange(x[0],x[1]),np.arange(params_init.Ly)]\n",
    "    subregionB=[np.arange(x[2],x[3]),np.arange(params_init.Ly)]\n",
    "    subregionAp=[np.arange(x[1],x[2]),np.arange(params_init.Ly)]\n",
    "    eta=cross_ratio(x,L)\n",
    "    for _ in range(es):\n",
    "        params=copy(params_init)\n",
    "        params.measure_all_Born(subregionAp)\n",
    "        MI_ensemble_list.append(params.mutual_information_m(subregionA,subregionB))\n",
    "        LN_ensemble_list.append(params.log_neg(subregionA,subregionB))\n",
    "\n",
    "    eta_Born_onsite_Ap_list.append(eta)\n",
    "    MI_Born_onsite_Ap_list.append(MI_ensemble_list)\n",
    "    LN_Born_onsite_Ap_list.append(LN_ensemble_list)\n",
    "eta_Born_onsite_Ap_list=np.array(eta_Born_onsite_Ap_list)\n",
    "MI_Born_onsite_Ap_list=np.array(MI_Born_onsite_Ap_list)\n",
    "LN_Born_onsite_Ap_list=np.array(LN_Born_onsite_Ap_list)"
   ]
  },
  {
   "cell_type": "code",
   "execution_count": 18,
   "metadata": {},
   "outputs": [
    {
     "data": {
      "text/plain": [
       "<matplotlib.legend.Legend at 0x7f2fb1774d30>"
      ]
     },
     "execution_count": 18,
     "metadata": {},
     "output_type": "execute_result"
    },
    {
     "data": {
      "image/png": "[encoded data removed]",
      "text/plain": [
       "<Figure size 489.6x288 with 1 Axes>"
      ]
     },
     "metadata": {
      "needs_background": "light"
     },
     "output_type": "display_data"
    }
   ],
   "source": [
    "MI_Born_onsite_Ap_list_mean=MI_Born_onsite_Ap_list.mean(axis=1)\n",
    "LN_Born_onsite_Ap_list_mean=LN_Born_onsite_Ap_list.mean(axis=1)\n",
    "fig,ax=plt.subplots()\n",
    "ax.scatter(eta_Born_onsite_Ap_list,MI_Born_onsite_Ap_list_mean,s=1,color='b',label='L={:d}, MI'.format(L))\n",
    "ax.scatter(eta_Born_onsite_Ap_list,LN_Born_onsite_Ap_list_mean,s=1,color='r',label='L={:d}, LN'.format(L))\n",
    "\n",
    "ax.set_xscale('log')\n",
    "ax.set_yscale('log')\n",
    "ax.set_xlim([np.min(eta_Born_onsite_Ap_list),1])\n",
    "# ax.set_ylim([1e-10,1])\n",
    "\n",
    "mask_MI=(MI_Born_onsite_Ap_list_mean>1e-10)&((eta_Born_onsite_Ap_list)<0.1)\n",
    "lr_MI=scipy.stats.linregress(np.log(eta_Born_onsite_Ap_list[mask_MI]),np.log(MI_Born_onsite_Ap_list_mean[mask_MI]))\n",
    "x_int=np.linspace(np.min(eta_Born_onsite_Ap_list),1,10)\n",
    "y_int=np.exp(lr_MI.slope*np.log(x_int)+lr_MI.intercept)\n",
    "ax.plot(x_int,y_int,'c',label=r'MI$\\propto\\eta^{{{:.2f}}}$'.format(lr_MI.slope))\n",
    "\n",
    "mask_LN=(LN_Born_onsite_Ap_list_mean>1e-10)&((eta_Born_onsite_Ap_list)<0.1)\n",
    "lr_LN=scipy.stats.linregress(np.log(eta_Born_onsite_Ap_list[mask_LN]),np.log(LN_Born_onsite_Ap_list_mean[mask_LN]))\n",
    "x_int=np.linspace(np.min(eta_Born_onsite_Ap_list),1,10)\n",
    "y_int=np.exp(lr_LN.slope*np.log(x_int)+lr_LN.intercept)\n",
    "ax.plot(x_int,y_int,label=r'LN$\\propto\\eta^{{{:.2f}}}$'.format(lr_LN.slope),color='orange')\n",
    "ax.set_xlabel(r'$\\eta$')\n",
    "ax.legend()\n",
    "\n",
    "# place_region(200,200,fig,ax,'ycyk')\n",
    "# fig.savefig('/mnt/d/kitp/Rp_SPT/8/MI_LN_Born_onsite_Ap.pdf')\n"
   ]
  },
  {
   "cell_type": "code",
   "execution_count": 10,
   "metadata": {},
   "outputs": [],
   "source": [
    "eta_Born_onsite_ApBp_list=[]\n",
    "MI_Born_onsite_ApBp_list=[]\n",
    "LN_Born_onsite_ApBp_list=[]\n",
    "# x_list=[]\n",
    "# subregion_list=[]\n",
    "es=50\n",
    "L=32\n",
    "params_init=Params(m=2,Lx=L,Ly=8)\n",
    "\n",
    "for _ in range(200):\n",
    "    MI_ensemble_list=[]\n",
    "    LN_ensemble_list=[]\n",
    "    x=sorted(np.random.choice(np.arange(1,L),3,replace=False))\n",
    "    x=[0]+x\n",
    "    subregionA=[np.arange(x[0],x[1]),np.arange(params_init.Ly)]\n",
    "    subregionB=[np.arange(x[2],x[3]),np.arange(params_init.Ly)]\n",
    "    subregionAp=[np.arange(x[1],x[2]),np.arange(params_init.Ly)]\n",
    "    subregionBp=[np.arange(x[3],L),np.arange(params_init.Ly)]\n",
    "    eta=cross_ratio(x,L)\n",
    "    for _ in range(es):\n",
    "        params=copy(params_init)\n",
    "        params.measure_all_Born(subregionAp)\n",
    "        MI_ensemble_list.append(params.mutual_information_m(subregionA,subregionB))\n",
    "        LN_ensemble_list.append(params.log_neg(subregionA,subregionB))\n",
    "\n",
    "    eta_Born_onsite_ApBp_list.append(eta)\n",
    "    MI_Born_onsite_ApBp_list.append(MI_ensemble_list)\n",
    "    LN_Born_onsite_ApBp_list.append(LN_ensemble_list)\n",
    "eta_Born_onsite_ApBp_list=np.array(eta_Born_onsite_ApBp_list)\n",
    "MI_Born_onsite_ApBp_list=np.array(MI_Born_onsite_ApBp_list)\n",
    "LN_Born_onsite_ApBp_list=np.array(LN_Born_onsite_ApBp_list)"
   ]
  },
  {
   "cell_type": "code",
   "execution_count": 13,
   "metadata": {},
   "outputs": [
    {
     "data": {
      "image/png": "[encoded data removed]",
      "text/plain": [
       "<Figure size 489.6x288 with 1 Axes>"
      ]
     },
     "metadata": {
      "needs_background": "light"
     },
     "output_type": "display_data"
    }
   ],
   "source": [
    "MI_Born_onsite_ApBp_list_mean=MI_Born_onsite_ApBp_list.mean(axis=1)\n",
    "LN_Born_onsite_ApBp_list_mean=LN_Born_onsite_ApBp_list.mean(axis=1)\n",
    "fig,ax=plt.subplots()\n",
    "ax.scatter(eta_Born_onsite_ApBp_list,MI_Born_onsite_ApBp_list_mean,s=1,color='b',label='L={:d}, MI'.format(L))\n",
    "ax.scatter(eta_Born_onsite_ApBp_list,LN_Born_onsite_ApBp_list_mean,s=1,color='r',label='L={:d}, LN'.format(L))\n",
    "\n",
    "ax.set_xscale('log')\n",
    "ax.set_yscale('log')\n",
    "ax.set_xlim([np.min(eta_Born_onsite_ApBp_list),1])\n",
    "# ax.set_ylim([1e-10,1])\n",
    "\n",
    "mask_MI=(MI_Born_onsite_ApBp_list_mean>1e-10)&((eta_Born_onsite_ApBp_list)<0.1)\n",
    "lr_MI=scipy.stats.linregress(np.log(eta_Born_onsite_ApBp_list[mask_MI]),np.log(MI_Born_onsite_ApBp_list_mean[mask_MI]))\n",
    "x_int=np.linspace(np.min(eta_Born_onsite_ApBp_list),1,10)\n",
    "y_int=np.exp(lr_MI.slope*np.log(x_int)+lr_MI.intercept)\n",
    "ax.plot(x_int,y_int,'c',label=r'MI$\\propto\\eta^{{{:.2f}}}$'.format(lr_MI.slope))\n",
    "\n",
    "mask_LN=(LN_Born_onsite_ApBp_list_mean>1e-10)&((eta_Born_onsite_ApBp_list)<0.1)\n",
    "lr_LN=scipy.stats.linregress(np.log(eta_Born_onsite_ApBp_list[mask_LN]),np.log(LN_Born_onsite_ApBp_list_mean[mask_LN]))\n",
    "x_int=np.linspace(np.min(eta_Born_onsite_ApBp_list),1,10)\n",
    "y_int=np.exp(lr_LN.slope*np.log(x_int)+lr_LN.intercept)\n",
    "ax.plot(x_int,y_int,label=r'LN$\\propto\\eta^{{{:.2f}}}$'.format(lr_LN.slope),color='orange')\n",
    "ax.set_xlabel(r'$\\eta$')\n",
    "ax.legend()\n",
    "\n",
    "# place_region(200,200,fig,ax,'ycyc')\n",
    "fig.savefig('/mnt/d/kitp/Rp_SPT/8/MI_LN_Born_onsite_ApBp.pdf')\n"
   ]
  },
  {
   "cell_type": "markdown",
   "metadata": {},
   "source": [
    "# Check area law of EE"
   ]
  },
  {
   "cell_type": "code",
   "execution_count": 72,
   "metadata": {},
   "outputs": [],
   "source": [
    "EE_list={}"
   ]
  },
  {
   "cell_type": "code",
   "execution_count": 74,
   "metadata": {},
   "outputs": [],
   "source": [
    "l_EE_list=np.arange(2,32)\n",
    "for Ly in (8,12,16):\n",
    "    params=Params(m=1,Lx=32,Ly=Ly)\n",
    "    EE_list[Ly]=[(params.von_Neumann_entropy_f([np.arange(l),np.arange(params.Ly)])) for l in l_EE_list]\n"
   ]
  },
  {
   "cell_type": "code",
   "execution_count": 75,
   "metadata": {},
   "outputs": [
    {
     "data": {
      "text/plain": [
       "<matplotlib.legend.Legend at 0x7fd1988c71f0>"
      ]
     },
     "execution_count": 75,
     "metadata": {},
     "output_type": "execute_result"
    },
    {
     "data": {
      "image/png": "[encoded data removed]",
      "text/plain": [
       "<Figure size 489.6x288 with 1 Axes>"
      ]
     },
     "metadata": {
      "needs_background": "light"
     },
     "output_type": "display_data"
    }
   ],
   "source": [
    "fig,ax=plt.subplots()\n",
    "for Ly in (8,12,16):\n",
    "    ax.plot(l_EE_list,EE_list[Ly]/np.log(2),'.',label='Ly={:.1f}'.format(Ly))\n",
    "ax.set_xlabel(r'$L_x$')\n",
    "ax.set_ylabel('EE [log 2]')\n",
    "ax.legend()"
   ]
  },
  {
   "cell_type": "code",
   "execution_count": null,
   "metadata": {},
   "outputs": [
    {
     "data": {
      "text/plain": [
       "<matplotlib.legend.Legend at 0x7f6a81fb16d0>"
      ]
     },
     "execution_count": 79,
     "metadata": {},
     "output_type": "execute_result"
    },
    {
     "data": {
      "image/png": "[encoded data removed]",
      "text/plain": [
       "<Figure size 489.6x288 with 1 Axes>"
      ]
     },
     "metadata": {
      "needs_background": "light"
     },
     "output_type": "display_data"
    }
   ],
   "source": [
    "fig,ax=plt.subplots()\n",
    "for Ly in (8,12,16):\n",
    "    ax.plot(l_EE_list,EE_list[Ly]/np.log(2),'.',label='Ly={:.1f}'.format(Ly))\n",
    "ax.set_xlabel(r'$L_x$')\n",
    "ax.set_ylabel('EE [log 2]')\n",
    "ax.legend()"
   ]
  },
  {
   "cell_type": "markdown",
   "metadata": {},
   "source": [
    "# LN scaling behavior"
   ]
  },
  {
   "cell_type": "code",
   "execution_count": 64,
   "metadata": {},
   "outputs": [],
   "source": [
    "LN_scaling_list={}"
   ]
  },
  {
   "cell_type": "code",
   "execution_count": 77,
   "metadata": {},
   "outputs": [],
   "source": [
    "l_LN_list=np.arange(2,16)\n",
    "for Ly in (8,12,16):\n",
    "    params=Params(m=1,Lx=32,Ly=Ly)\n",
    "    LN_scaling_list[Ly]=[params.log_neg([np.arange(l),np.arange(params.Ly)],[np.arange(l)+l,np.arange(params.Ly)]) for l in l_LN_list]\n"
   ]
  },
  {
   "cell_type": "code",
   "execution_count": 69,
   "metadata": {},
   "outputs": [],
   "source": [
    "l_LN_list=np.arange(2,8)\n",
    "for Ly in (8,12,16):\n",
    "    LN_scaling_list[Ly]=[]\n",
    "    for Lx in l_LN_list:\n",
    "        params=Params(m=1,Lx=4*Lx,Ly=Ly)\n",
    "        LN_scaling_list[Ly].append(params.log_neg([np.arange(Lx),np.arange(params.Ly)],[np.arange(Lx)+2*Lx,np.arange(params.Ly)]))"
   ]
  },
  {
   "cell_type": "code",
   "execution_count": 75,
   "metadata": {},
   "outputs": [
    {
     "data": {
      "text/plain": [
       "Text(0, 0.5, 'Log neg [log 2]')"
      ]
     },
     "execution_count": 75,
     "metadata": {},
     "output_type": "execute_result"
    },
    {
     "data": {
      "image/png": "[encoded data removed]",
      "text/plain": [
       "<Figure size 489.6x288 with 1 Axes>"
      ]
     },
     "metadata": {
      "needs_background": "light"
     },
     "output_type": "display_data"
    }
   ],
   "source": [
    "fig,ax=plt.subplots()\n",
    "for k,v in LN_scaling_list.items():\n",
    "    ax.plot(np.log(l_LN_list),np.log(v/np.log(2)),'.',label='Ly={}'.format(k))\n",
    "ax.legend()\n",
    "ax.set_xlabel(r'$L_x$')\n",
    "ax.set_ylabel('Log neg [log 2]')"
   ]
  },
  {
   "cell_type": "code",
   "execution_count": 80,
   "metadata": {},
   "outputs": [
    {
     "data": {
      "text/plain": [
       "Text(0, 0.5, 'Log neg [log 2]')"
      ]
     },
     "execution_count": 80,
     "metadata": {},
     "output_type": "execute_result"
    }
   ],
   "source": [
    "fig,ax=plt.subplots()\n",
    "for k,v in LN_scaling_list.items():\n",
    "    ax.plot(l_LN_list,v/np.log(2),label='Ly={}'.format(k))\n",
    "ax.legend()\n",
    "ax.set_xlabel(r'$L_x$')\n",
    "ax.set_ylabel('Log neg [log 2]')"
   ]
  },
  {
   "cell_type": "code",
   "execution_count": 95,
   "metadata": {},
   "outputs": [
    {
     "data": {
      "text/plain": [
       "Text(0, 0.5, 'Log neg [log 2]')"
      ]
     },
     "output_type": "unknown"
    },
    {
     "data": {
      "image/png": "[encoded data removed]",
      "text/plain": [
       "<Figure size 489.6x288 with 1 Axes>"
      ]
     },
     "output_type": "unknown"
    }
   ],
   "source": [
    "fig,ax=plt.subplots()\n",
    "for k,v in LN_scaling_list.items():\n",
    "    ax.plot(l_LN_list,v/np.log(2),label='Ly={}'.format(k))\n",
    "ax.legend()\n",
    "ax.set_xlabel(r'$L_x$')\n",
    "ax.set_ylabel('Log neg [log 2]')"
   ]
  },
  {
   "cell_type": "markdown",
   "metadata": {},
   "source": [
    "# profiler"
   ]
  },
  {
   "cell_type": "code",
   "execution_count": 22,
   "metadata": {},
   "outputs": [],
   "source": [
    "params=Params(Lx=32,Ly=16,history=False)"
   ]
  },
  {
   "cell_type": "code",
   "execution_count": 33,
   "metadata": {},
   "outputs": [],
   "source": [
    "def test(A):\n",
    "    return A+A.T"
   ]
  },
  {
   "cell_type": "code",
   "execution_count": 34,
   "metadata": {},
   "outputs": [],
   "source": [
    "z=np.random.rand(2048,2048)"
   ]
  },
  {
   "cell_type": "code",
   "execution_count": 35,
   "metadata": {},
   "outputs": [
    {
     "name": "stdout",
     "output_type": "stream",
     "text": [
      "Timer unit: 1e-06 s\n",
      "\n",
      "Total time: 0.072097 s\n",
      "File: <ipython-input-33-b33413829b27>\n",
      "Function: test at line 1\n",
      "\n",
      "Line #      Hits         Time  Per Hit   % Time  Line Contents\n",
      "==============================================================\n",
      "     1                                           def test(A):\n",
      "     2         1      72097.0  72097.0    100.0      return A+A.T"
     ]
    }
   ],
   "source": [
    "%lprun -f test test(z)"
   ]
  },
  {
   "cell_type": "code",
   "execution_count": 37,
   "metadata": {},
   "outputs": [
    {
     "name": "stdout",
     "output_type": "stream",
     "text": [
      "Timer unit: 1e-06 s\n",
      "\n",
      "Total time: 0 s\n",
      "File: <ipython-input-36-933e8321812b>\n",
      "Function: measure at line 263\n",
      "\n",
      "Line #      Hits         Time  Per Hit   % Time  Line Contents\n",
      "==============================================================\n",
      "   263                                               def measure(self, s, ix):\n",
      "   264                                                   if not hasattr(self, 'C_m'):\n",
      "   265                                                       self.covariance_matrix()\n",
      "   266                                                   if not hasattr(self, 's_history'):\n",
      "   267                                                       self.s_history = []\n",
      "   268                                                   if not hasattr(self, 'i_history'):\n",
      "   269                                                       self.i_history = []\n",
      "   270                                           \n",
      "   271                                                   mat = self.C_m_history[-1].copy()\n",
      "   272                                           \n",
      "   273                                                   for i_ind, i in enumerate(ix):\n",
      "   274                                                       mat[[i, -(len(ix)-i_ind)]] = mat[[-(len(ix)-i_ind), i]]\n",
      "   275                                                       mat[:, [i, -(len(ix)-i_ind)]] = mat[:, [-(len(ix)-i_ind), i]]\n",
      "   276                                           \n",
      "   277                                                   self.mat = mat\n",
      "   278                                           \n",
      "   279                                                   Gamma_LL = mat[:-len(ix), :-len(ix)]\n",
      "   280                                                   Gamma_LR = mat[:-len(ix), -len(ix):]\n",
      "   281                                                   Gamma_RR = mat[-len(ix):, -len(ix):]\n",
      "   282                                           \n",
      "   283                                                   proj = self.projection(s)\n",
      "   284                                                   Upsilon_LL = proj[:-len(ix), :-len(ix)]\n",
      "   285                                                   Upsilon_RR = proj[-len(ix):, -len(ix):]\n",
      "   286                                                   Upsilon_RL = proj[-len(ix):, :-len(ix)]\n",
      "   287                                                   zero = np.zeros((mat.shape[0]-len(ix), len(ix)))\n",
      "   288                                                   zero0 = np.zeros((len(ix), len(ix)))\n",
      "   289                                                   mat1 = np.block([[Gamma_LL, zero], [zero.T, Upsilon_RR]])\n",
      "   290                                                   mat2 = np.block([[Gamma_LR, zero], [zero0, Upsilon_RL]])\n",
      "   291                                                   mat3 = np.block([[Gamma_RR, np.eye(len(ix))],\n",
      "   292                                                                   [-np.eye(len(ix)), Upsilon_LL]])\n",
      "   293                                                   self.mat2 = mat2\n",
      "   294                                                   if np.count_nonzero(mat2):\n",
      "   295                                                       Psi = mat1+mat2@(la.solve(mat3, mat2.T))\n",
      "   296                                                       # Psi=mat1+mat2@(la.lstsq(mat3,mat2.T)[0])\n",
      "   297                                                       assert np.abs(\n",
      "   298                                                           np.trace(Psi)) < 1e-5, \"Not trace zero {:e}\".format(np.trace(Psi))\n",
      "   299                                                   else:\n",
      "   300                                                       Psi = mat1\n",
      "   301                                           \n",
      "   302                                                   for i_ind, i in enumerate(ix):\n",
      "   303                                                       Psi[[i, -(len(ix)-i_ind)]] = Psi[[-(len(ix)-i_ind), i]]\n",
      "   304                                                       Psi[:, [i, -(len(ix)-i_ind)]] = Psi[:, [-(len(ix)-i_ind), i]]\n",
      "   305                                                   Psi = (Psi-Psi.T)/2   # Anti-symmetrize\n",
      "   306                                                   if self.history:\n",
      "   307                                                       self.C_m_history.append(Psi)\n",
      "   308                                                       self.s_history.append(s)\n",
      "   309                                                       self.i_history.append(i)\n",
      "   310                                                   else:\n",
      "   311                                                       self.C_m_history = [Psi]\n",
      "   312                                                       self.s_history = [s]\n",
      "   313                                                       self.i_history = [i]"
     ]
    }
   ],
   "source": [
    "%lprun -f Params.measure params.measure_all_Born([np.arange(params.Lx//4)+params.Lx//4,np.arange(params.Ly)])"
   ]
  },
  {
   "cell_type": "code",
   "execution_count": 23,
   "metadata": {},
   "outputs": [
    {
     "name": "stdout",
     "output_type": "stream",
     "text": [
      "Timer unit: 1e-06 s\n",
      "\n",
      "Total time: 29.93 s\n",
      "File: <ipython-input-20-6f8c91c52c07>\n",
      "Function: measure at line 263\n",
      "\n",
      "Line #      Hits         Time  Per Hit   % Time  Line Contents\n",
      "==============================================================\n",
      "   263                                               def measure(self, s, ix):\n",
      "   264       256       1244.0      4.9      0.0          if not hasattr(self, 'C_m'):\n",
      "   265                                                       self.covariance_matrix()\n",
      "   266       256        532.0      2.1      0.0          if not hasattr(self, 's_history'):\n",
      "   267         1          1.0      1.0      0.0              self.s_history = []\n",
      "   268       256        510.0      2.0      0.0          if not hasattr(self, 'i_history'):\n",
      "   269         1          1.0      1.0      0.0              self.i_history = []\n",
      "   270                                           \n",
      "   271       256    2002997.0   7824.2      6.7          mat = self.C_m_history[-1].copy()\n",
      "   272                                           \n",
      "   273       768       4359.0      5.7      0.0          for i_ind, i in enumerate(ix):\n",
      "   274       512      25415.0     49.6      0.1              mat[[i, -(len(ix)-i_ind)]] = mat[[-(len(ix)-i_ind), i]]\n",
      "   275       512      87207.0    170.3      0.3              mat[:, [i, -(len(ix)-i_ind)]] = mat[:, [-(len(ix)-i_ind), i]]\n",
      "   276                                           \n",
      "   277       256      30200.0    118.0      0.1          self.mat = mat\n",
      "   278                                           \n",
      "   279       256       1517.0      5.9      0.0          Gamma_LL = mat[:-len(ix), :-len(ix)]\n",
      "   280       256        721.0      2.8      0.0          Gamma_LR = mat[:-len(ix), -len(ix):]\n",
      "   281       256        654.0      2.6      0.0          Gamma_RR = mat[-len(ix):, -len(ix):]\n",
      "   282                                           \n",
      "   283       256       7720.0     30.2      0.0          proj = self.projection(s)\n",
      "   284       256        943.0      3.7      0.0          Upsilon_LL = proj[:-len(ix), :-len(ix)]\n",
      "   285       256       4808.0     18.8      0.0          Upsilon_RR = proj[-len(ix):, -len(ix):]\n",
      "   286       256        715.0      2.8      0.0          Upsilon_RL = proj[-len(ix):, :-len(ix)]\n",
      "   287       256       2536.0      9.9      0.0          zero = np.zeros((mat.shape[0]-len(ix), len(ix)))\n",
      "   288       256        892.0      3.5      0.0          zero0 = np.zeros((len(ix), len(ix)))\n",
      "   289       256    2020808.0   7893.8      6.8          mat1 = np.block([[Gamma_LL, zero], [zero.T, Upsilon_RR]])\n",
      "   290       256     112360.0    438.9      0.4          mat2 = np.block([[Gamma_LR, zero], [zero0, Upsilon_RL]])\n",
      "   291       512      64054.0    125.1      0.2          mat3 = np.block([[Gamma_RR, np.eye(len(ix))],\n",
      "   292       256       5906.0     23.1      0.0                          [-np.eye(len(ix)), Upsilon_LL]])\n",
      "   293       256       1338.0      5.2      0.0          self.mat2 = mat2\n",
      "   294       256      13876.0     54.2      0.0          if np.count_nonzero(mat2):\n",
      "   295       256    4216143.0  16469.3     14.1              Psi = mat1+mat2@(la.solve(mat3, mat2.T))\n",
      "   296                                                       # Psi=mat1+mat2@(la.lstsq(mat3,mat2.T)[0])\n",
      "   297       768       7941.0     10.3      0.0              assert np.abs(\n",
      "   298       512      31460.0     61.4      0.1                  np.trace(Psi)) < 1e-5, \"Not trace zero {:e}\".format(np.trace(Psi))\n",
      "   299                                                   else:\n",
      "   300                                                       Psi = mat1\n",
      "   301                                           \n",
      "   302       768       3008.0      3.9      0.0          for i_ind, i in enumerate(ix):\n",
      "   303       512      19608.0     38.3      0.1              Psi[[i, -(len(ix)-i_ind)]] = Psi[[-(len(ix)-i_ind), i]]\n",
      "   304       512      69808.0    136.3      0.2              Psi[:, [i, -(len(ix)-i_ind)]] = Psi[:, [-(len(ix)-i_ind), i]]\n",
      "   305       256       1198.0      4.7      0.0          PsiT=Psi.T\n",
      "   306       256   17860097.0  69766.0     59.7          temp1=Psi-PsiT\n",
      "   307       256    3266483.0  12759.7     10.9          Psi=temp1*0.5\n",
      "   308                                                   # Psi = (Psi-Psi.T)/2   # Anti-symmetrize\n",
      "   309       256       2214.0      8.6      0.0          if self.history:\n",
      "   310                                                       self.C_m_history.append(Psi)\n",
      "   311                                                       self.s_history.append(s)\n",
      "   312                                                       self.i_history.append(i)\n",
      "   313                                                   else:\n",
      "   314       256      58441.0    228.3      0.2              self.C_m_history = [Psi]\n",
      "   315       256       1178.0      4.6      0.0              self.s_history = [s]\n",
      "   316       256       1127.0      4.4      0.0              self.i_history = [i]"
     ]
    }
   ],
   "source": [
    "%lprun -f Params.measure params.measure_all_Born([np.arange(params.Lx//4)+params.Lx//4,np.arange(params.Ly)])"
   ]
  },
  {
   "cell_type": "code",
   "execution_count": 12,
   "metadata": {},
   "outputs": [
    {
     "name": "stdout",
     "output_type": "stream",
     "text": [
      "Timer unit: 1e-06 s\n",
      "\n",
      "Total time: 0 s\n",
      "File: <ipython-input-9-f4caf49fbcb7>\n",
      "Function: bandstructure at line 40\n",
      "\n",
      "Line #      Hits         Time  Per Hit   % Time  Line Contents\n",
      "==============================================================\n",
      "    40                                               def bandstructure(self):\n",
      "    41                                                   val, vec = nla.eigh(self.Hamiltonian)\n",
      "    42                                                   sortindex = np.argsort(val)\n",
      "    43                                                   self.val = val[sortindex]\n",
      "    44                                                   self.vec = vec[:, sortindex]"
     ]
    }
   ],
   "source": [
    "%lprun -f Params.bandstructure params.covariance_matrix()"
   ]
  },
  {
   "cell_type": "code",
   "execution_count": 343,
   "metadata": {},
   "outputs": [
    {
     "name": "stdout",
     "output_type": "stream",
     "text": [
      "Timer unit: 1e-06 s\n",
      "\n",
      "Total time: 0.094403 s\n",
      "File: <ipython-input-310-09246d8612a9>\n",
      "Function: c_subregion_m at line 146\n",
      "\n",
      "Line #      Hits         Time  Per Hit   % Time  Line Contents\n",
      "==============================================================\n",
      "   146                                               def c_subregion_m(self, subregion, Gamma=None):\n",
      "   147                                                   '''\n",
      "   148                                                   subregion: [subregoin_x, subregion_y] index of unit cell\n",
      "   149                                                   '''\n",
      "   150         1          2.0      2.0      0.0          if not hasattr(self, 'C_m'):\n",
      "   151         1      93460.0  93460.0     99.0              self.covariance_matrix()\n",
      "   152         1          3.0      3.0      0.0          if Gamma is None:\n",
      "   153         1          2.0      2.0      0.0              Gamma = self.C_m_history[-1]\n",
      "   154         1          1.0      1.0      0.0          try:\n",
      "   155         1          5.0      5.0      0.0              subregion = list(subregion)\n",
      "   156                                                   except:\n",
      "   157                                                       raise ValueError(\"The subregion is ill-defined\"+subregion)\n",
      "   158                                           \n",
      "   159         1          2.0      2.0      0.0          if len(subregion)==2:\n",
      "   160         1          4.0      4.0      0.0              if isinstance(subregion[0],int) and isinstance(subregion[1],int):\n",
      "   161                                                           linear=True\n",
      "   162         1          1.0      1.0      0.0              elif (not isinstance(subregion[0],int)) and (not isinstance(subregion[1],int)):\n",
      "   163         1          1.0      1.0      0.0                  linear=False\n",
      "   164                                                       else:\n",
      "   165                                                           raise ValueError('Illegal subregion')\n",
      "   166                                                   else:\n",
      "   167                                                       linear=True\n",
      "   168                                                   # subregion_x_index=np.zeros(self.Lx)\n",
      "   169                                                   # subregion_x_index[subregion_x]=1\n",
      "   170                                                   # subregion_y_index=np.zeros(self.Ly)\n",
      "   171                                                   # subregion_y_index[subregion_y]=1\n",
      "   172                                                   # subregion_index=np.kron(subregion_x_index,subregion_y_index).nonzero()[0]*4\n",
      "   173                                                   # subregion_index=sorted(np.concatenate([subregion_index,subregion_index+1,subregion_index+2,subregion_index+3]))\n",
      "   174         1          1.0      1.0      0.0          if linear:\n",
      "   175                                                       # linearized index\n",
      "   176                                                       subregion_index = subregion\n",
      "   177                                                   else:\n",
      "   178                                                       # 2D index\n",
      "   179         1        333.0    333.0      0.4              subregion_index = self.linearize_index(subregion,4)\n",
      "   180                                           \n",
      "   181         1        588.0    588.0      0.6          return Gamma[np.ix_(subregion_index, subregion_index)]"
     ]
    }
   ],
   "source": [
    "%lprun -f Params.c_subregion_m params.c_subregion_m([np.arange(params.Lx//4),np.arange(params.Ly)])"
   ]
  },
  {
   "cell_type": "code",
   "execution_count": 334,
   "metadata": {},
   "outputs": [
    {
     "name": "stdout",
     "output_type": "stream",
     "text": [
      "Timer unit: 1e-06 s\n",
      "\n",
      "Total time: 0.11278 s\n",
      "File: <ipython-input-310-09246d8612a9>\n",
      "Function: von_Neumann_entropy_m at line 183\n",
      "\n",
      "Line #      Hits         Time  Per Hit   % Time  Line Contents\n",
      "==============================================================\n",
      "   183                                               def von_Neumann_entropy_m(self, subregion):\n",
      "   184         1     107655.0 107655.0     95.5          c_A = self.c_subregion_m(subregion)\n",
      "   185         1       4908.0   4908.0      4.4          val = nla.eigvalsh(1j*c_A)\n",
      "   186         1          4.0      4.0      0.0          self.val_sh = val\n",
      "   187         1         41.0     41.0      0.0          val = np.sort(val)\n",
      "   188         1         31.0     31.0      0.0          val = (1-val)/2+1e-18j  # \\lambda=(1-\\xi)/2\n",
      "   189         1        141.0    141.0      0.1          return np.real(-np.sum(val*np.log(val))-np.sum((1-val)*np.log(1-val)))/2"
     ]
    }
   ],
   "source": [
    "%lprun -f Params.von_Neumann_entropy_m Params(Lx=16,Ly=16).von_Neumann_entropy_m([np.arange(params.Lx//4),np.arange(params.Ly)])"
   ]
  },
  {
   "cell_type": "code",
   "execution_count": 335,
   "metadata": {},
   "outputs": [
    {
     "name": "stdout",
     "output_type": "stream",
     "text": [
      "Timer unit: 1e-06 s\n",
      "\n",
      "Total time: 0.094029 s\n",
      "File: <ipython-input-310-09246d8612a9>\n",
      "Function: von_Neumann_entropy_m at line 183\n",
      "\n",
      "Line #      Hits         Time  Per Hit   % Time  Line Contents\n",
      "==============================================================\n",
      "   183                                               def von_Neumann_entropy_m(self, subregion):\n",
      "   184         1      88525.0  88525.0     94.1          c_A = self.c_subregion_m(subregion)\n",
      "   185         1       5259.0   5259.0      5.6          val = nla.eigvalsh(1j*c_A)\n",
      "   186         1          3.0      3.0      0.0          self.val_sh = val\n",
      "   187         1         37.0     37.0      0.0          val = np.sort(val)\n",
      "   188         1         47.0     47.0      0.0          val = (1-val)/2+1e-18j  # \\lambda=(1-\\xi)/2\n",
      "   189         1        158.0    158.0      0.2          return np.real(-np.sum(val*np.log(val))-np.sum((1-val)*np.log(1-val)))/2"
     ]
    }
   ],
   "source": [
    "%lprun -f Params.von_Neumann_entropy_m Params(Lx=16,Ly=16).von_Neumann_entropy_m([np.arange(params.Lx//4)+params.Lx//2,np.arange(params.Ly)])"
   ]
  },
  {
   "cell_type": "code",
   "execution_count": 340,
   "metadata": {},
   "outputs": [
    {
     "name": "stdout",
     "output_type": "stream",
     "text": [
      "Timer unit: 1e-06 s\n",
      "\n",
      "Total time: 0.037132 s\n",
      "File: <ipython-input-310-09246d8612a9>\n",
      "Function: mutual_information_m at line 202\n",
      "\n",
      "Line #      Hits         Time  Per Hit   % Time  Line Contents\n",
      "==============================================================\n",
      "   202                                               def mutual_information_m(self, subregion_A, subregion_B):\n",
      "   203         1        686.0    686.0      1.8          subregion_A=self.linearize_index(subregion_A,4)\n",
      "   204         1        407.0    407.0      1.1          subregion_B=self.linearize_index(subregion_B,4)\n",
      "   205         3        578.0    192.7      1.6          assert np.intersect1d(\n",
      "   206         2          2.0      1.0      0.0              subregion_A, subregion_B).size == 0, \"Subregion A and B overlap\"\n",
      "   207         1       5964.0   5964.0     16.1          s_A = self.von_Neumann_entropy_m(subregion_A)\n",
      "   208         1       5543.0   5543.0     14.9          s_B = self.von_Neumann_entropy_m(subregion_B)\n",
      "   209         1        147.0    147.0      0.4          subregion_AB=np.concatenate([subregion_A,subregion_B])\n",
      "   210         1      23802.0  23802.0     64.1          s_AB = self.von_Neumann_entropy_m(subregion_AB)\n",
      "   211         1          3.0      3.0      0.0          return s_A+s_B-s_AB"
     ]
    }
   ],
   "source": [
    "%lprun -f Params.mutual_information_m params.mutual_information_m([np.arange(params.Lx//4),np.arange(params.Ly)],[np.arange(params.Lx//4)+params.Lx//2,np.arange(params.Ly)])"
   ]
  },
  {
   "cell_type": "code",
   "execution_count": 331,
   "metadata": {},
   "outputs": [
    {
     "name": "stdout",
     "output_type": "stream",
     "text": [
      "Timer unit: 1e-06 s\n",
      "\n",
      "Total time: 0.202006 s\n",
      "File: <ipython-input-310-09246d8612a9>\n",
      "Function: log_neg at line 213\n",
      "\n",
      "Line #      Hits         Time  Per Hit   % Time  Line Contents\n",
      "==============================================================\n",
      "   213                                               def log_neg(self,subregion_A,subregion_B,Gamma=None):\n",
      "   214         1        333.0    333.0      0.2          subregion_A=self.linearize_index(subregion_A,4)\n",
      "   215         1        155.0    155.0      0.1          subregion_B=self.linearize_index(subregion_B,4)\n",
      "   216         1        155.0    155.0      0.1          assert np.intersect1d(subregion_A,subregion_B).size==0 , \"Subregion A and B overlap\"\n",
      "   217         1          2.0      2.0      0.0          if not hasattr(self,'C_m'):\n",
      "   218         1      87192.0  87192.0     43.2              self.covariance_matrix()\n",
      "   219                                                   \n",
      "   220         1          3.0      3.0      0.0          if Gamma is None:\n",
      "   221         1          3.0      3.0      0.0              Gamma=self.C_m_history[-1]\n",
      "   222         1         79.0     79.0      0.0          subregion_A=np.array(subregion_A)\n",
      "   223         1         60.0     60.0      0.0          subregion_B=np.array(subregion_B)\n",
      "   224         2       1307.0    653.5      0.6          Gm_p= np.block([\n",
      "   225         1       1447.0   1447.0      0.7              [-Gamma[np.ix_(subregion_A,subregion_A)],1j*Gamma[np.ix_(subregion_A,subregion_B)]],\n",
      "   226         1       1270.0   1270.0      0.6              [1j*Gamma[np.ix_(subregion_B,subregion_A)],Gamma[np.ix_(subregion_B,subregion_B)]]\n",
      "   227                                                   ])\n",
      "   228         2       1362.0    681.0      0.7          Gm_n= np.block([\n",
      "   229         1       1418.0   1418.0      0.7              [-Gamma[np.ix_(subregion_A,subregion_A)],-1j*Gamma[np.ix_(subregion_A,subregion_B)]],\n",
      "   230         1       1250.0   1250.0      0.6              [-1j*Gamma[np.ix_(subregion_B,subregion_A)],Gamma[np.ix_(subregion_B,subregion_B)]]\n",
      "   231                                                   ])\n",
      "   232         1        108.0    108.0      0.1          idm=np.eye(Gm_p.shape[0])\n",
      "   233                                                   # Gm_x=idm-(idm+1j*Gm_p)@nla.inv(idm-Gm_n@Gm_p)@(idm+1j*Gm_n)\n",
      "   234         1      49515.0  49515.0     24.5          Gm_x=idm-(idm+1j*Gm_p)@(la.solve((idm-Gm_n@Gm_p),(idm+1j*Gm_n)))\n",
      "   235         1       6055.0   6055.0      3.0          Gm_x=(Gm_x+Gm_x.T.conj())/2\n",
      "   236         1      23946.0  23946.0     11.9          xi=nla.eigvalsh(Gm_x)\n",
      "   237         1         34.0     34.0      0.0          subregion_AB=np.concatenate([subregion_A,subregion_B])\n",
      "   238         1        176.0    176.0      0.1          eA=np.sum(np.log(((1+xi+0j)/2)**0.5+((1-xi+0j)/2)**0.5))/2\n",
      "   239         1      26049.0  26049.0     12.9          chi=nla.eigvalsh(1j*Gamma[np.ix_(subregion_AB,subregion_AB)])\n",
      "   240         1         74.0     74.0      0.0          sA=np.sum(np.log(((1+chi)/2)**2+((1-chi)/2)**2))/4\n",
      "   241         1         13.0     13.0      0.0          return np.real(eA+sA)"
     ]
    }
   ],
   "source": [
    "%lprun -f Params.log_neg Params(m=m,Lx=16,Ly=16).log_neg([np.arange(params.Lx//4),np.arange(params.Ly)],[np.arange(params.Lx//4)+params.Lx//2,np.arange(params.Ly)])"
   ]
  },
  {
   "cell_type": "code",
   "execution_count": null,
   "metadata": {},
   "outputs": [],
   "source": []
  },
  {
   "cell_type": "code",
   "execution_count": null,
   "metadata": {},
   "outputs": [],
   "source": [
    "# Check scaling behavior"
   ]
  }
 ],
 "metadata": {
  "interpreter": {
   "hash": "6aee4f39eba147985a2c1cbf1db4ebecc02362fa8877deaa860706b7b1b97f3d"
  },
  "kernelspec": {
   "display_name": "Python 3.8.8 64-bit ('base': conda)",
   "name": "python3"
  },
  "language_info": {
   "codemirror_mode": {
    "name": "ipython",
    "version": 3
   },
   "file_extension": ".py",
   "mimetype": "text/x-python",
   "name": "python",
   "nbconvert_exporter": "python",
   "pygments_lexer": "ipython3",
   "version": "3.8.8"
  },
  "orig_nbformat": 2
 },
 "nbformat": 4,
 "nbformat_minor": 2
}