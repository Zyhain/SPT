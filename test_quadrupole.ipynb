{
 "cells": [
  {
   "cell_type": "markdown",
   "source": [
    "# API"
   ],
   "metadata": {}
  },
  {
   "cell_type": "code",
   "execution_count": 9,
   "source": [
    "import numpy as np\n",
    "import scipy.sparse as sp\n",
    "import scipy.sparse.linalg as sla\n",
    "import scipy.linalg as la\n",
    "import scipy.stats\n",
    "import matplotlib.pyplot as plt\n",
    "import time\n",
    "import pickle\n",
    "from copy import copy"
   ],
   "outputs": [],
   "metadata": {}
  },
  {
   "cell_type": "code",
   "execution_count": 10,
   "source": [
    "plt.rcParams['text.usetex']=True\n",
    "plt.rcParams['font.family']='serif'\n",
    "plt.rcParams['font.size']=9\n",
    "plt.rcParams['axes.titlesize']=plt.rcParams['font.size']\n",
    "plt.rcParams['figure.figsize']=(6.8,4)"
   ],
   "outputs": [],
   "metadata": {}
  },
  {
   "cell_type": "code",
   "execution_count": null,
   "source": [
    "# ipcluster start --engines=MPI -n 4\n",
    "import ipyparallel as ipp\n",
    "rc = ipp.Client()\n",
    "rc[:].execute(\"from quadrupole import *\")\n",
    "rc[:].execute(\"import numpy as np\")"
   ],
   "outputs": [],
   "metadata": {}
  },
  {
   "cell_type": "code",
   "execution_count": 155,
   "source": [
    "# %%writefile quadrupole.py\n",
    "import numpy as np\n",
    "import scipy.linalg as la\n",
    "import numpy.linalg as nla\n",
    "import numpy.matlib\n",
    "\n",
    "class Params:\n",
    "    def __init__(self,\n",
    "            Lx=16,\n",
    "            Ly=16,\n",
    "            delta=1,\n",
    "            gamma=1,\n",
    "            l=1,\n",
    "            T=0,\n",
    "            bcx=-1,\n",
    "            bcy=-1,\n",
    "            history=False,\n",
    "            ):\n",
    "        self.Lx = Lx\n",
    "        self.Ly = Ly\n",
    "        self.delta = delta\n",
    "        self.gamma = gamma\n",
    "        self.l = l\n",
    "        self.T=T\n",
    "        self.bcx = bcx\n",
    "        self.bcy = bcy\n",
    "        self.history = history\n",
    "        self.sigma0=np.eye(2)\n",
    "        self.sigmax = np.array([[0, 1], [1, 0]])\n",
    "        self.sigmay = np.array([[0, -1j], [1j, 0]])\n",
    "        self.sigmaz = np.array([[1, 0], [0, -1]])\n",
    "        # G=[np.kron(self.sigmaz,self.sigma0),-np.kron(self.sigmay,self.sigmax),-np.kron(self.sigmay,self.sigmay),-np.kron(self.sigmay,self.sigmaz),np.kron(self.sigmax,self.sigma0)]\n",
    "        G=[np.kron(self.sigma0,self.sigmaz),-np.kron(self.sigmax,self.sigmay),-np.kron(self.sigmay,self.sigmay),-np.kron(self.sigmaz,self.sigmay),np.kron(self.sigma0,self.sigmax)]\n",
    "        # check which one is faster, use sparse or dense?\n",
    "        if Lx<np.inf and Ly<np.inf:\n",
    "            hopx = np.diag(np.ones(Lx-1), -1)\n",
    "            hopx[0, -1] = bcx\n",
    "            hopy = np.diag(np.ones(Ly-1), -1)\n",
    "            hopy[0, -1] = bcy\n",
    "            hopxmat = np.kron(np.eye(Ly),hopx)\n",
    "            hopymat = np.kron(hopy,np.eye(Lx))\n",
    "            self.hopxmat=hopxmat\n",
    "            self.hopymat=hopymat\n",
    "            onsitemat = np.eye(Lx*Ly)\n",
    "            self.Hamiltonian=np.kron(gamma*onsitemat+l/2*(hopxmat+hopxmat.T),G[4])+np.kron(l/(2j)*(hopxmat-hopxmat.T),G[3])+np.kron(gamma*onsitemat+l/(2)*(hopymat+hopymat.T),G[2])+np.kron(l/(2j)*(hopymat-hopymat.T),G[1])+np.kron(delta*onsitemat,G[0])\n",
    "\n",
    "    def bandstructure(self):\n",
    "        val, vec = nla.eigh(self.Hamiltonian)\n",
    "        sortindex = np.argsort(val)\n",
    "        self.val = val[sortindex]\n",
    "        self.vec = vec[:, sortindex]\n",
    "\n",
    "    def fermi_dist(self, energy, E_F):\n",
    "        if self.T == 0:\n",
    "            return np.heaviside(E_F-energy, 0)\n",
    "        else:\n",
    "            return 1/(1+np.exp((energy-E_F)/self.T))\n",
    "\n",
    "    def correlation_matrix(self, E_F=0):\n",
    "        '''\n",
    "        G_{ij}=<f_i^\\dagger f_j>\n",
    "        '''\n",
    "        if not (hasattr(self, 'val') and hasattr(self, 'vec')):\n",
    "            self.bandstructure()\n",
    "        occupancy_mat = np.matlib.repmat(self.fermi_dist(self.val, E_F), self.vec.shape[0], 1)\n",
    "        self.C_f = ((occupancy_mat*self.vec)@self.vec.T.conj())\n",
    "    \n",
    "    def covariance_matrix(self, E_F=0):\n",
    "        '''\n",
    "        c.f. notes\n",
    "        Maybe differs by a minus sign\n",
    "        '''\n",
    "        if not hasattr(self, 'C_f'):\n",
    "            if self.Lx < np.inf and self.Ly<np.inf:\n",
    "                self.correlation_matrix()\n",
    "            else:\n",
    "                self.correlation_matrix_inf_fft()\n",
    "        G = self.C_f\n",
    "        Gamma_11 = 1j*(G-G.T)\n",
    "        Gamma_21 = -(np.eye(G.shape[0])-G-G.T)\n",
    "        Gamma_12 = -Gamma_21.T\n",
    "        Gamma_22 = -1j*(G.T-G)\n",
    "        Gamma = np.zeros((2*G.shape[0], 2*G.shape[0]), dtype=complex)\n",
    "        even = np.arange(2*G.shape[0])[::2]\n",
    "        odd = np.arange(2*G.shape[0])[1::2]\n",
    "        Gamma[np.ix_(even, even)] = Gamma_11\n",
    "        Gamma[np.ix_(even, odd)] = Gamma_12\n",
    "        Gamma[np.ix_(odd, even)] = Gamma_21\n",
    "        Gamma[np.ix_(odd, odd)] = Gamma_22\n",
    "        assert np.abs(np.imag(Gamma)).max() < 1e-10, \"Covariance matrix not real {:.5f}\".format(np.abs(np.imag(Gamma)).max())\n",
    "        self.C_m = np.real(Gamma-Gamma.T.conj())/2\n",
    "        self.C_m_history = [self.C_m]\n",
    "\n",
    "    def linearize_index(self, subregion, n, proj=False, k=2):\n",
    "        '''\n",
    "        If proj ==True, then the index used for projection operator will be returned\n",
    "        k, the size of measurement, is useful only when proj=True\n",
    "        '''\n",
    "        subregion_x, subregion_y = (subregion)\n",
    "        subregion_x = np.array(subregion_x)\n",
    "        subregion_y = np.array(subregion_y)\n",
    "        \n",
    "        X, Y = np.meshgrid(subregion_x, subregion_y)\n",
    "        if self.Ly<np.inf:\n",
    "            assert subregion_x.max()<self.Lx and subregion_y.max()<self.Ly, 'Range exceeds'\n",
    "            linear_index = ((X+Y*self.Lx).flatten('F'))\n",
    "        else:\n",
    "            assert subregion_x.max()<self.dxmax and subregion_y.max()<self.dymax, 'Range exceeds'\n",
    "            linear_index = ((X+Y*self.dxmax).flatten('F'))\n",
    "        if proj:\n",
    "            return sorted(np.concatenate([n*linear_index+i for i in range(0, n, k)]))\n",
    "        else:\n",
    "            return sorted(np.concatenate([n*linear_index+i for i in range(n)]))\n",
    "\n",
    "    def c_subregion_f(self, subregion, linear=True):\n",
    "        '''\n",
    "        subregion: [subregion_x, subregion_y] index of unit cell\n",
    "        '''\n",
    "        if not hasattr(self, 'C_f'):\n",
    "            self.correlation_matrix()\n",
    "        try:\n",
    "            subregion = list(subregion)\n",
    "        except:\n",
    "            raise ValueError(\"The subregion is ill-defined\"+subregion)\n",
    "\n",
    "        if len(subregion) == 2:\n",
    "            if isinstance(subregion[0], int) and isinstance(subregion[1], int):\n",
    "                linear = True\n",
    "            elif (not isinstance(subregion[0], int)) and (not isinstance(subregion[1], int)):\n",
    "                linear = False\n",
    "            else:\n",
    "                raise ValueError('Illegal subregion')\n",
    "        else:\n",
    "            linear = True\n",
    "        if linear:\n",
    "            # linearized index\n",
    "            subregion_index = subregion\n",
    "        else:\n",
    "            # 2D index\n",
    "            subregion_index = self.linearize_index(subregion, 4)\n",
    "        # This is a dumb way...\n",
    "        return self.C_f[np.ix_(subregion_index, subregion_index)]\n",
    "\n",
    "    def von_Neumann_entropy_f(self, subregion):\n",
    "        c_A = self.c_subregion_f(subregion)\n",
    "        val = nla.eigvalsh(c_A)\n",
    "        self.val_sh = val\n",
    "        val = np.sort(val)\n",
    "        return np.real(-np.sum(val*np.log(val+1e-18j))-np.sum((1-val)*np.log(1-val+1e-18j)))\n",
    "\n",
    "    def c_subregion_m(self, subregion, Gamma=None):\n",
    "            '''\n",
    "            subregion: [subregoin_x, subregion_y] index of unit cell\n",
    "            '''\n",
    "            if not hasattr(self, 'C_m'):\n",
    "                self.covariance_matrix()\n",
    "            if Gamma is None:\n",
    "                Gamma = self.C_m_history[-1]\n",
    "            try:\n",
    "                subregion = list(subregion)\n",
    "            except:\n",
    "                raise ValueError(\"The subregion is ill-defined\"+subregion)\n",
    "\n",
    "            if len(subregion) == 2:\n",
    "                if isinstance(subregion[0], int) and isinstance(subregion[1], int):\n",
    "                    linear = True\n",
    "                elif (not isinstance(subregion[0], int)) and (not isinstance(subregion[1], int)):\n",
    "                    linear = False\n",
    "                else:\n",
    "                    raise ValueError('Illegal subregion')\n",
    "            else:\n",
    "                linear = True\n",
    "            if linear:\n",
    "                # linearized index\n",
    "                subregion_index = subregion\n",
    "            else:\n",
    "                # 2D index\n",
    "                subregion_index = self.linearize_index(subregion, 8)\n",
    "\n",
    "            return Gamma[np.ix_(subregion_index, subregion_index)]\n",
    "\n",
    "    def von_Neumann_entropy_m(self, subregion):\n",
    "        c_A = self.c_subregion_m(subregion)\n",
    "        val = nla.eigvalsh(1j*c_A)\n",
    "        self.val_sh = val\n",
    "        val = np.sort(val)\n",
    "        val = (1-val)/2+1e-18j  # \\lambda=(1-\\xi)/2\n",
    "        return np.real(-np.sum(val*np.log(val))-np.sum((1-val)*np.log(1-val)))/2\n",
    "\n",
    "    def mutual_information_f(self, subregion_A, subregion_B):\n",
    "        subregion_A = self.linearize_index(subregion_A, 4)\n",
    "        subregion_B = self.linearize_index(subregion_B, 4)\n",
    "        s_A = self.von_Neumann_entropy_f(subregion_A)\n",
    "        s_B = self.von_Neumann_entropy_f(subregion_B)\n",
    "        assert np.intersect1d(\n",
    "            subregion_A, subregion_B).size == 0, \"Subregion A and B overlap\"\n",
    "        subregion_AB = np.concatenate([subregion_A, subregion_B])\n",
    "        s_AB = self.von_Neumann_entropy_f(subregion_AB)\n",
    "        return s_A+s_B-s_AB\n",
    "\n",
    "    def mutual_information_m(self, subregion_A, subregion_B):\n",
    "        subregion_A = self.linearize_index(subregion_A, 8)\n",
    "        subregion_B = self.linearize_index(subregion_B, 8)\n",
    "        assert np.intersect1d(\n",
    "            subregion_A, subregion_B).size == 0, \"Subregion A and B overlap\"\n",
    "        s_A = self.von_Neumann_entropy_m(subregion_A)\n",
    "        s_B = self.von_Neumann_entropy_m(subregion_B)\n",
    "        subregion_AB = np.concatenate([subregion_A, subregion_B])\n",
    "        s_AB = self.von_Neumann_entropy_m(subregion_AB)\n",
    "        return s_A+s_B-s_AB\n",
    "\n",
    "    def log_neg(self, subregion_A, subregion_B, Gamma=None,linear=False):\n",
    "        if not linear:\n",
    "            subregion_A = self.linearize_index(subregion_A, 8)\n",
    "            subregion_B = self.linearize_index(subregion_B, 8)\n",
    "        assert np.intersect1d(\n",
    "            subregion_A, subregion_B).size == 0, \"Subregion A and B overlap\"\n",
    "        if not hasattr(self, 'C_m'):\n",
    "            self.covariance_matrix()\n",
    "\n",
    "        if Gamma is None:\n",
    "            Gamma = self.C_m_history[-1]\n",
    "        subregion_A = np.array(subregion_A)\n",
    "        subregion_B = np.array(subregion_B)\n",
    "        Gm_p = np.block([\n",
    "            [-Gamma[np.ix_(subregion_A, subregion_A)], 1j *\n",
    "             Gamma[np.ix_(subregion_A, subregion_B)]],\n",
    "            [1j*Gamma[np.ix_(subregion_B, subregion_A)],\n",
    "             Gamma[np.ix_(subregion_B, subregion_B)]]\n",
    "        ])\n",
    "        Gm_n = np.block([\n",
    "            [-Gamma[np.ix_(subregion_A, subregion_A)], -1j *\n",
    "             Gamma[np.ix_(subregion_A, subregion_B)]],\n",
    "            [-1j*Gamma[np.ix_(subregion_B, subregion_A)],\n",
    "             Gamma[np.ix_(subregion_B, subregion_B)]]\n",
    "        ])\n",
    "        idm = np.eye(Gm_p.shape[0])\n",
    "        # Gm_x=idm-(idm+1j*Gm_p)@nla.inv(idm-Gm_n@Gm_p)@(idm+1j*Gm_n)\n",
    "        Gm_x = idm-(idm+1j*Gm_p)@(la.solve((idm-Gm_n@Gm_p), (idm+1j*Gm_n)))\n",
    "        Gm_x = (Gm_x+Gm_x.T.conj())/2\n",
    "        xi = nla.eigvalsh(Gm_x)\n",
    "        subregion_AB = np.concatenate([subregion_A, subregion_B])\n",
    "        eA = np.sum(np.log(((1+xi+0j)/2)**0.5+((1-xi+0j)/2)**0.5))/2\n",
    "        chi = nla.eigvalsh(1j*Gamma[np.ix_(subregion_AB, subregion_AB)])\n",
    "        sA = np.sum(np.log(((1+chi)/2)**2+((1-chi)/2)**2))/4\n",
    "        self.eA=eA\n",
    "        self.sA=sA\n",
    "        return np.real(eA+sA)\n",
    "\n",
    "\n",
    "    def projection(self, s,type='onsite',ignore=False):\n",
    "        '''\n",
    "        For type:'onsite'\n",
    "            occupancy number: s= 0,1 \n",
    "            (-1)^0 even parity, (-1)^1 odd parity\n",
    "        For type:'link'\n",
    "            (o,+)|(o,-)|(e,+)|(e,-)\n",
    "        '''\n",
    "        if type=='onsite':\n",
    "            assert (s == 0 or s == 1), \"s={} is either 0 or 1\".format(s)\n",
    "            blkmat = np.array([[0, -(-1)**s, 0, 0],\n",
    "                            [(-1)**s, 0, 0, 0],\n",
    "                            [0, 0, 0, (-1)**s],\n",
    "                            [0, 0, -(-1)**s, 0]])\n",
    "            return blkmat\n",
    "        if type=='link':\n",
    "            # raise ValueError('UnderConstruction')\n",
    "            assert (s in ['o+','o-','e+','e-']), \"s={} for {} is not defined\".format(s,type)\n",
    "            if s=='o+':\n",
    "                antidiag=[1,-1,1,-1]\n",
    "                blkmat=np.diag(antidiag)\n",
    "                blkmat=np.fliplr(blkmat)\n",
    "            if s=='o-':\n",
    "                antidiag=[-1,1,-1,1]\n",
    "                blkmat=np.diag(antidiag)\n",
    "                blkmat=np.fliplr(blkmat)\n",
    "            # if not ignore:\n",
    "            #     if s=='e+':\n",
    "            #         blkmat=np.array([[0,-1,0,0],\n",
    "            #                         [1,0,0,0],\n",
    "            #                         [0,0,0,-1],\n",
    "            #                         [0,0,1,0]])\n",
    "            #     if s=='e-':\n",
    "            #         blkmat=-np.array([[0,-1,0,0],\n",
    "            #                         [1,0,0,0],\n",
    "            #                         [0,0,0,-1],\n",
    "            #                         [0,0,1,0]])\n",
    "            # else:\n",
    "            if s=='e+':\n",
    "                antidiag=[-1,-1,1,1]\n",
    "                blkmat=np.diag(antidiag)\n",
    "                blkmat=np.fliplr(blkmat)\n",
    "            if s=='e-':\n",
    "                antidiag=[1,1,-1,-1]\n",
    "                blkmat=np.diag(antidiag)\n",
    "                blkmat=np.fliplr(blkmat)\n",
    "            proj=np.zeros((8,8))\n",
    "            proj[:4,:4]=blkmat\n",
    "            proj[4:,4:]=blkmat.T\n",
    "            return proj            \n",
    "        raise ValueError(\"type '{}' is not defined\".format(type))\n",
    "\n",
    "    def measure(self, s, ix,type='onsite',ignore=False):\n",
    "        if not hasattr(self, 'C_m'):\n",
    "            self.covariance_matrix()\n",
    "        if not hasattr(self, 's_history'):\n",
    "            self.s_history = []\n",
    "        if not hasattr(self, 'i_history'):\n",
    "            self.i_history = []\n",
    "\n",
    "        mat = self.C_m_history[-1].copy()\n",
    "\n",
    "        for i_ind, i in enumerate(ix):\n",
    "            mat[[i, -(len(ix)-i_ind)]] = mat[[-(len(ix)-i_ind), i]]\n",
    "            mat[:, [i, -(len(ix)-i_ind)]] = mat[:, [-(len(ix)-i_ind), i]]\n",
    "\n",
    "        self.mat = mat\n",
    "\n",
    "        Gamma_LL = mat[:-len(ix), :-len(ix)]\n",
    "        Gamma_LR = mat[:-len(ix), -len(ix):]\n",
    "        Gamma_RR = mat[-len(ix):, -len(ix):]\n",
    "\n",
    "        proj = self.projection(s,type=type,ignore=ignore)\n",
    "        Upsilon_LL = proj[:-len(ix), :-len(ix)]\n",
    "        Upsilon_RR = proj[-len(ix):, -len(ix):]\n",
    "        Upsilon_RL = proj[-len(ix):, :-len(ix)]\n",
    "        zero = np.zeros((mat.shape[0]-len(ix), len(ix)))\n",
    "        zero0 = np.zeros((len(ix), len(ix)))\n",
    "        mat1 = np.block([[Gamma_LL, zero], [zero.T, Upsilon_RR]])\n",
    "        mat2 = np.block([[Gamma_LR, zero], [zero0, Upsilon_RL]])\n",
    "        mat3 = np.block([[Gamma_RR, np.eye(len(ix))],\n",
    "                        [-np.eye(len(ix)), Upsilon_LL]])\n",
    "        self.mat2 = mat2\n",
    "        if np.count_nonzero(mat2):\n",
    "            Psi = mat1+mat2@(la.solve(mat3, mat2.T))\n",
    "            # Psi=mat1+mat2@(la.lstsq(mat3,mat2.T)[0])\n",
    "            assert np.abs(\n",
    "                np.trace(Psi)) < 1e-5, \"Not trace zero {:e}\".format(np.trace(Psi))\n",
    "        else:\n",
    "            Psi = mat1\n",
    "\n",
    "        for i_ind, i in enumerate(ix):\n",
    "            Psi[[i, -(len(ix)-i_ind)]] = Psi[[-(len(ix)-i_ind), i]]\n",
    "            Psi[:, [i, -(len(ix)-i_ind)]] = Psi[:, [-(len(ix)-i_ind), i]]\n",
    "        Psi = (Psi-Psi.T)/2   # Anti-symmetrize\n",
    "        if self.history:\n",
    "            self.C_m_history.append(Psi)\n",
    "            self.s_history.append(s)\n",
    "            self.i_history.append(ix[0])\n",
    "        else:\n",
    "            self.C_m_history = [Psi]\n",
    "            self.s_history = [s]\n",
    "            self.i_history = [ix[0]]\n",
    "\n",
    "    def measure_all_Born(self, proj_range,prob=None,linear=False,type='onsite',pool=4,ignore=False):\n",
    "        if not linear:\n",
    "            if type=='onsite':\n",
    "                proj_range = self.linearize_index(proj_range, 8, proj=True)\n",
    "            if type=='link':\n",
    "                proj_range = self.linearize_index(proj_range, 8, proj=True,k=2)\n",
    "        # self.proj_range=proj_range\n",
    "        # print(proj_range)\n",
    "        self.P_0_list = []\n",
    "        self.f_parity= []\n",
    "        if not hasattr(self, 'C_m'):\n",
    "            self.covariance_matrix()\n",
    "        if type=='onsite':\n",
    "            for index,i in enumerate(proj_range):\n",
    "                if prob is None:\n",
    "                    P_0 = (self.C_m_history[-1][i, i+1]+1)/2    # Use Born rule\n",
    "                else:\n",
    "                    if isinstance(prob,list):\n",
    "                        assert len(prob)==len(proj_range), \"len of prob {:d} not equal to len of proj_range {:d}\".format(len(prob),len(proj_range))\n",
    "                        P_0=prob[index]\n",
    "                    else:    \n",
    "                        P_0=prob\n",
    "                self.P_0_list.append(P_0)\n",
    "                if np.random.rand() < P_0:\n",
    "                    self.measure(0, [i, i+1])\n",
    "                    self.f_parity.append(0)\n",
    "                else:\n",
    "                    self.measure(1, [i, i+1])\n",
    "                    self.f_parity.append(1)\n",
    "            return self\n",
    "\n",
    "        if type=='link':\n",
    "            for i in proj_range:\n",
    "                Gamma=self.C_m_history[-1][i:i+4,i:i+4]\n",
    "                P={}\n",
    "                if prob is None:\n",
    "                    gamma1234=-Gamma[0,1]*Gamma[2,3]+Gamma[0,2]*Gamma[1,3]-Gamma[0,3]*Gamma[1,2]\n",
    "                    P['o+']=(1+Gamma[1,2]-Gamma[0,3]+gamma1234)/4\n",
    "                    P['o-']=(1-Gamma[1,2]+Gamma[0,3]+gamma1234)/4\n",
    "                    P['e+']=(1+Gamma[1,2]+Gamma[0,3]-gamma1234)/4\n",
    "                    P['e-']=(1-Gamma[1,2]-Gamma[0,3]-gamma1234)/4\n",
    "                else:\n",
    "                    P['o+'],P['o-'],P['e+'],P['e-']=tuple(prob)\n",
    "\n",
    "                # print((P.values()))\n",
    "                s=np.random.choice(['o+','o-','e+','e-'],p=[P['o+'],P['o-'],P['e+'],P['e-']])\n",
    "                self.measure(s,[i,i+1,i+2,i+3],type='link',ignore=ignore)\n",
    "            return self\n",
    "    def fermion_number(self,proj_range,linear=False,type='C_m'):\n",
    "        if type=='C_m':\n",
    "            if not linear:\n",
    "                proj_range = self.linearize_index(proj_range, 8, proj=True,k=2)\n",
    "            return 1/2*(1-np.diagonal(self.C_m_history[-1],1)[proj_range]).sum()"
   ],
   "outputs": [],
   "metadata": {}
  },
  {
   "cell_type": "markdown",
   "source": [
    "# Band structure and LDOS"
   ],
   "metadata": {}
  },
  {
   "cell_type": "code",
   "execution_count": 74,
   "source": [
    "params=Params(gamma=0,l=1,delta=1e-3,Lx=20,Ly=18,bcx=0,bcy=0)\n",
    "params.bandstructure()"
   ],
   "outputs": [],
   "metadata": {}
  },
  {
   "cell_type": "code",
   "execution_count": 75,
   "source": [
    "fig,ax=plt.subplots(1,2,figsize=(6,3),gridspec_kw=dict(width_ratios=[1,1.4]))\n",
    "ax[0].plot(params.val,'.')\n",
    "ax[0].set_xlim([params.val.shape[0]//2-10,params.val.shape[0]//2+10])\n",
    "\n",
    "ldos=0\n",
    "for index in range(params.val.shape[0]//2-2,params.val.shape[0]//2+2):\n",
    "    ldos+=(params.vec[:,index].reshape((params.Ly,params.Lx,4)).sum(axis=2).__abs__())**2\n",
    "im=ax[1].pcolormesh(ldos)\n",
    "cb=fig.colorbar(im)"
   ],
   "outputs": [
    {
     "output_type": "display_data",
     "data": {
      "image/png": "[encoded data removed]",
      "text/plain": [
       "<Figure size 432x216 with 3 Axes>"
      ]
     },
     "metadata": {
      "needs_background": "light"
     }
    }
   ],
   "metadata": {}
  },
  {
   "cell_type": "code",
   "execution_count": 61,
   "source": [
    "gamma_list=np.linspace(-2,2,21)\n",
    "val_map=[]\n",
    "for gamma in gamma_list:\n",
    "    params=Params(gamma=gamma,l=1,delta=1e-3,Lx=20,Ly=20,bcx=0,bcy=0)\n",
    "    params.bandstructure()\n",
    "    val_map.append(params.val)\n",
    "\n",
    "val_map=np.array(val_map)\n",
    "\n"
   ],
   "outputs": [],
   "metadata": {}
  },
  {
   "cell_type": "code",
   "execution_count": 62,
   "source": [
    "plt.plot(gamma_list,val_map,'k',lw=.5)\n",
    "plt.xlabel('$\\gamma$')\n",
    "plt.ylabel('E')\n",
    "plt.ylim(-2,2)"
   ],
   "outputs": [
    {
     "output_type": "execute_result",
     "data": {
      "text/plain": [
       "(-2.0, 2.0)"
      ]
     },
     "metadata": {},
     "execution_count": 62
    },
    {
     "output_type": "display_data",
     "data": {
      "image/png": "[encoded data removed]",
      "text/plain": [
       "<Figure size 489.6x288 with 1 Axes>"
      ]
     },
     "metadata": {
      "needs_background": "light"
     }
    }
   ],
   "metadata": {}
  },
  {
   "cell_type": "markdown",
   "source": [
    "# Entanglement entropy"
   ],
   "metadata": {}
  },
  {
   "cell_type": "code",
   "execution_count": 84,
   "source": [
    "params_pbc=Params(gamma=0,l=1,delta=1e-3,Lx=20,Ly=20,bcx=-1,bcy=-1)\n"
   ],
   "outputs": [],
   "metadata": {}
  },
  {
   "cell_type": "code",
   "execution_count": 85,
   "source": [
    "cf2=params_pbc.c_subregion_f([np.arange(params_pbc.Lx//2),np.arange(params_pbc.Ly//2)])\n",
    "cf2_val,cf1vec=nla.eigh(cf2)"
   ],
   "outputs": [],
   "metadata": {}
  },
  {
   "cell_type": "code",
   "execution_count": 86,
   "source": [
    "cm2=params_pbc.c_subregion_m([np.arange(params_pbc.Lx//2),np.arange(params_pbc.Ly//2)])\n",
    "cm2_val,cf1vec=nla.eigh(cm2)"
   ],
   "outputs": [],
   "metadata": {}
  },
  {
   "cell_type": "code",
   "execution_count": 87,
   "source": [
    "fig,ax=plt.subplots(1,2)\n",
    "ax[0].plot(cf2_val,'.')\n",
    "ax[0].set_xlim(cf2_val.shape[0]//2-10,cf2_val.shape[0]//2+10)\n",
    "\n",
    "ax[1].plot(cm2_val,'.')\n",
    "ax[1].set_xlim(cm2_val.shape[0]//2-10,cm2_val.shape[0]//2+10)"
   ],
   "outputs": [
    {
     "output_type": "execute_result",
     "data": {
      "text/plain": [
       "(390.0, 410.0)"
      ]
     },
     "metadata": {},
     "execution_count": 87
    },
    {
     "output_type": "display_data",
     "data": {
      "image/png": "[encoded data removed]",
      "text/plain": [
       "<Figure size 489.6x288 with 2 Axes>"
      ]
     },
     "metadata": {
      "needs_background": "light"
     }
    }
   ],
   "metadata": {}
  },
  {
   "cell_type": "markdown",
   "source": [
    "# Von Neumann entropy"
   ],
   "metadata": {}
  },
  {
   "cell_type": "code",
   "execution_count": 101,
   "source": [
    "params=Params(gamma=0.5,l=1,delta=1e-3,Lx=20,Ly=20,bcx=0,bcy=0)"
   ],
   "outputs": [],
   "metadata": {}
  },
  {
   "cell_type": "code",
   "execution_count": 102,
   "source": [
    "len_list=np.arange(1,params.Lx//2)\n",
    "vE_list=np.zeros(len_list.shape[0])\n",
    "for i in len_list:\n",
    "    vE_list[i-1]=(params.von_Neumann_entropy_f([np.arange(i),np.arange(i)]))"
   ],
   "outputs": [],
   "metadata": {}
  },
  {
   "cell_type": "code",
   "execution_count": 103,
   "source": [
    "plt.plot((len_list),(vE_list),'.')"
   ],
   "outputs": [
    {
     "output_type": "execute_result",
     "data": {
      "text/plain": [
       "[<matplotlib.lines.Line2D at 0x7f857aefd2b0>]"
      ]
     },
     "metadata": {},
     "execution_count": 103
    },
    {
     "output_type": "display_data",
     "data": {
      "image/png": "[encoded data removed]",
      "text/plain": [
       "<Figure size 489.6x288 with 1 Axes>"
      ]
     },
     "metadata": {
      "needs_background": "light"
     }
    }
   ],
   "metadata": {}
  },
  {
   "cell_type": "code",
   "execution_count": 104,
   "source": [
    "lr=scipy.stats.linregress(len_list*4,(vE_list))"
   ],
   "outputs": [],
   "metadata": {}
  },
  {
   "cell_type": "code",
   "execution_count": 105,
   "source": [
    "np.array([lr.slope,lr.intercept])/np.log(2)"
   ],
   "outputs": [
    {
     "output_type": "execute_result",
     "data": {
      "text/plain": [
       "array([0.55506891, 0.47512315])"
      ]
     },
     "metadata": {},
     "execution_count": 105
    }
   ],
   "metadata": {}
  },
  {
   "cell_type": "markdown",
   "source": [
    "# No measurement"
   ],
   "metadata": {}
  },
  {
   "cell_type": "code",
   "execution_count": 110,
   "source": [
    "gamma_list=np.linspace(0,2,21)\n",
    "LN_list=[]\n",
    "MI_list=[]\n",
    "for gamma in gamma_list:\n",
    "    params=Params(gamma=gamma,l=1,delta=1e-3,Lx=24,Ly=24,bcx=1,bcy=1)\n",
    "    MI_list.append(params.mutual_information_m([np.arange(params.Lx//4),np.arange(params.Ly//4)],[np.arange(params.Lx//4)+params.Lx//2,np.arange(params.Ly//4)]))\n",
    "    LN_list.append(params.log_neg([np.arange(params.Lx//4),np.arange(params.Ly//4)],[np.arange(params.Lx//4)+params.Lx//2,np.arange(params.Ly//4)]))\n",
    "\n"
   ],
   "outputs": [],
   "metadata": {}
  },
  {
   "cell_type": "code",
   "execution_count": 111,
   "source": [
    "fig,ax=plt.subplots()\n",
    "ax.plot(gamma_list,MI_list,'b',label='MI')\n",
    "ax.plot(gamma_list,LN_list,'r',label='LN')\n",
    "ax.legend()\n",
    "ax.set_xlabel('$\\gamma$')\n",
    "ax.set_ylabel('[log 2]')"
   ],
   "outputs": [
    {
     "output_type": "execute_result",
     "data": {
      "text/plain": [
       "Text(0, 0.5, '[log 2]')"
      ]
     },
     "metadata": {},
     "execution_count": 111
    },
    {
     "output_type": "display_data",
     "data": {
      "image/png": "[encoded data removed]",
      "text/plain": [
       "<Figure size 489.6x288 with 1 Axes>"
      ]
     },
     "metadata": {
      "needs_background": "light"
     }
    }
   ],
   "metadata": {}
  },
  {
   "cell_type": "code",
   "execution_count": 149,
   "source": [
    "params=Params(gamma=10,l=1,delta=1e-3,Lx=32,Ly=32,bcx=-1,bcy=-1)\n",
    "params.covariance_matrix()"
   ],
   "outputs": [],
   "metadata": {}
  },
  {
   "cell_type": "code",
   "execution_count": 150,
   "source": [
    "(1-np.diag(params.C_m_history[-1],1)[::2])/2"
   ],
   "outputs": [
    {
     "output_type": "execute_result",
     "data": {
      "text/plain": [
       "array([0.49996469, 0.50003531, 0.49996469, ..., 0.50003531, 0.49996469,\n",
       "       0.50003531])"
      ]
     },
     "metadata": {},
     "execution_count": 150
    }
   ],
   "metadata": {}
  },
  {
   "cell_type": "code",
   "execution_count": 152,
   "source": [
    "(1-np.diag(params.C_m,1)[::2])/2"
   ],
   "outputs": [
    {
     "output_type": "execute_result",
     "data": {
      "text/plain": [
       "array([0.49996469, 0.50003531, 0.49996469, ..., 0.50003531, 0.49996469,\n",
       "       0.50003531])"
      ]
     },
     "metadata": {},
     "execution_count": 152
    }
   ],
   "metadata": {}
  },
  {
   "cell_type": "code",
   "execution_count": 151,
   "source": [
    "np.diag(params.C_f)[:10]"
   ],
   "outputs": [
    {
     "output_type": "execute_result",
     "data": {
      "text/plain": [
       "array([0.49996469+0.j, 0.50003531+0.j, 0.49996469+0.j, 0.50003531+0.j,\n",
       "       0.49996469+0.j, 0.50003531+0.j, 0.49996469+0.j, 0.50003531+0.j,\n",
       "       0.49996469+0.j, 0.50003531+0.j])"
      ]
     },
     "metadata": {},
     "execution_count": 151
    }
   ],
   "metadata": {}
  },
  {
   "cell_type": "code",
   "execution_count": null,
   "source": [],
   "outputs": [],
   "metadata": {}
  },
  {
   "cell_type": "markdown",
   "source": [
    "# Born measurement"
   ],
   "metadata": {}
  },
  {
   "cell_type": "code",
   "execution_count": 162,
   "source": [
    "params=Params(gamma=0,l=1,delta=1e-3,Lx=20,Ly=20,bcx=-1,bcy=-1)\n",
    "subA=[np.arange(params.Lx//4),np.arange(params.Ly//4)]\n",
    "subAp=[np.arange(params.Lx//4)+params.Lx//4,np.arange(params.Ly//4)]\n",
    "subB=[np.arange(params.Lx//4)+params.Lx//2,np.arange(params.Ly//4)]\n",
    "\n",
    "params.measure_all_Born(subAp,type='link',prob=[0,0,0,1])\n",
    "MI=params.mutual_information_m(subA,subB)\n",
    "LN=params.log_neg(subA,subB)"
   ],
   "outputs": [],
   "metadata": {}
  },
  {
   "cell_type": "code",
   "execution_count": 163,
   "source": [
    "[MI,LN]"
   ],
   "outputs": [
    {
     "output_type": "execute_result",
     "data": {
      "text/plain": [
       "[3.907985046680551e-13, 1.5513583733195446e-06]"
      ]
     },
     "metadata": {},
     "execution_count": 163
    }
   ],
   "metadata": {}
  },
  {
   "cell_type": "code",
   "execution_count": 116,
   "source": [
    "params=Params(gamma=2,l=1,delta=1e-3,Lx=32,Ly=32,bcx=-1,bcy=-1)\n",
    "subA=[np.arange(params.Lx//4),np.arange(params.Ly//4)]\n",
    "subAp=[np.arange(params.Lx//4)+params.Lx//4,np.arange(params.Ly//4)]\n",
    "subB=[np.arange(params.Lx//4)+params.Lx//2,np.arange(params.Ly//4)]\n",
    "\n",
    "params.measure_all_Born(subAp)\n",
    "MI=params.mutual_information_m(subA,subB)\n",
    "LN=params.log_neg(subA,subB)"
   ],
   "outputs": [],
   "metadata": {}
  },
  {
   "cell_type": "code",
   "execution_count": 117,
   "source": [
    "[MI,LN]"
   ],
   "outputs": [
    {
     "output_type": "execute_result",
     "data": {
      "text/plain": [
       "[3.641849527014074e-05, 0.0022845064399019677]"
      ]
     },
     "metadata": {},
     "execution_count": 117
    }
   ],
   "metadata": {}
  },
  {
   "cell_type": "code",
   "execution_count": 118,
   "source": [
    "nocc=1/2*(1-(np.diag(params.C_m_history[-1],1)[::2])).reshape((params.Ly,params.Lx,4))"
   ],
   "outputs": [],
   "metadata": {}
  },
  {
   "cell_type": "code",
   "execution_count": 125,
   "source": [
    "plt.pcolormesh(nocc[:,:,3])\n",
    "plt.colorbar()"
   ],
   "outputs": [
    {
     "output_type": "execute_result",
     "data": {
      "text/plain": [
       "<matplotlib.colorbar.Colorbar at 0x7f857762c550>"
      ]
     },
     "metadata": {},
     "execution_count": 125
    },
    {
     "output_type": "display_data",
     "data": {
      "image/png": "[encoded data removed]",
      "text/plain": [
       "<Figure size 489.6x288 with 2 Axes>"
      ]
     },
     "metadata": {
      "needs_background": "light"
     }
    }
   ],
   "metadata": {}
  },
  {
   "cell_type": "code",
   "execution_count": null,
   "source": [],
   "outputs": [],
   "metadata": {}
  }
 ],
 "metadata": {
  "orig_nbformat": 4,
  "language_info": {
   "name": "python",
   "version": "3.8.11",
   "mimetype": "text/x-python",
   "codemirror_mode": {
    "name": "ipython",
    "version": 3
   },
   "pygments_lexer": "ipython3",
   "nbconvert_exporter": "python",
   "file_extension": ".py"
  },
  "kernelspec": {
   "name": "python3",
   "display_name": "Python 3.8.11 64-bit ('base': conda)"
  },
  "interpreter": {
   "hash": "8763e5ea16b716ad1eeffeab5f34109bd722594d0305e114e3d37565ed57b2a4"
  }
 },
 "nbformat": 4,
 "nbformat_minor": 2
}