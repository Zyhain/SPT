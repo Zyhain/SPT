{
 "cells": [
  {
   "cell_type": "markdown",
   "source": [
    "# API"
   ],
   "metadata": {}
  },
  {
   "cell_type": "code",
   "execution_count": 1,
   "source": [
    "import numpy as np\n",
    "import scipy.sparse as sp\n",
    "import scipy.sparse.linalg as sla\n",
    "import scipy.linalg as la\n",
    "import scipy.stats\n",
    "import matplotlib.pyplot as plt\n",
    "import time\n",
    "import pickle\n",
    "from copy import copy\n",
    "# %load_ext line_profiler"
   ],
   "outputs": [],
   "metadata": {}
  },
  {
   "cell_type": "code",
   "execution_count": 2,
   "source": [
    "plt.rcParams['text.usetex']=True\n",
    "plt.rcParams['font.family']='serif'\n",
    "plt.rcParams['font.size']=9\n",
    "plt.rcParams['axes.titlesize']=plt.rcParams['font.size']\n",
    "plt.rcParams['figure.figsize']=(6.8,4)"
   ],
   "outputs": [],
   "metadata": {}
  },
  {
   "cell_type": "code",
   "execution_count": 16,
   "source": [
    "# ipcluster start --engines=MPI -n 4\n",
    "import ipyparallel as ipp\n",
    "rc = ipp.Client()\n",
    "rc[:].execute(\"from HOTI import *\")\n",
    "rc[:].execute(\"import numpy as np\")"
   ],
   "outputs": [
    {
     "output_type": "execute_result",
     "data": {
      "text/plain": [
       "<AsyncResult: execute>"
      ]
     },
     "metadata": {},
     "execution_count": 16
    }
   ],
   "metadata": {}
  },
  {
   "cell_type": "code",
   "execution_count": 3,
   "source": [
    "# %%writefile HOTI.py\n",
    "import numpy as np\n",
    "import scipy.linalg as la\n",
    "import numpy.linalg as nla\n",
    "import numpy.matlib\n",
    "\n",
    "class Params:\n",
    "    def __init__(self,\n",
    "            Lx=4,\n",
    "            Ly=16,\n",
    "            Delta=1,\n",
    "            t=1,\n",
    "            m=1,\n",
    "            l=1,\n",
    "            bcx=-1,\n",
    "            bcy=1,\n",
    "            T=0,\n",
    "            dxmax=16,\n",
    "            dymax=16,\n",
    "            history=False,\n",
    "            ):\n",
    "        self.Lx = Lx\n",
    "        self.Ly = Ly\n",
    "        self.Delta = Delta\n",
    "        self.t = t\n",
    "        self.m = m\n",
    "        self.bcx = bcx\n",
    "        self.bcy = bcy\n",
    "        self.T = T\n",
    "        self.history = history\n",
    "        self.sigma0=np.eye(2)\n",
    "        self.sigmax = np.array([[0, 1], [1, 0]])\n",
    "        self.sigmay = np.array([[0, -1j], [1j, 0]])\n",
    "        self.sigmaz = np.array([[1, 0], [0, -1]])\n",
    "        # check which one is faster, use sparse or dense?\n",
    "        if Lx<np.inf and Ly<np.inf:\n",
    "            hopx = np.diag(np.ones(Lx-1), -1)\n",
    "            hopx[0, -1] = bcx\n",
    "            hopy = np.diag(np.ones(Ly-1), -1)\n",
    "            hopy[0, -1] = bcy\n",
    "            hopxmat = np.kron(np.eye(Ly),hopx)\n",
    "            hopymat = np.kron(hopy,np.eye(Lx))\n",
    "            self.hopxmat=hopxmat\n",
    "            self.hopymat=hopymat\n",
    "            onsitemat = np.eye(Lx*Ly)\n",
    "            # kron(spin,tau)\n",
    "            self.Hamiltonian= (np.kron(hopxmat+hopxmat.T+hopymat+hopymat.T,np.kron(self.sigma0,self.sigmaz)))*t+(np.kron(hopxmat-hopxmat.T,np.kron(self.sigmax,self.sigmax))-np.kron(hopymat-hopymat.T,np.kron(self.sigmay,self.sigmax)))*1j*l+(np.kron(hopxmat+hopxmat.T,np.kron(self.sigma0,self.sigmay))-np.kron(hopymat+hopymat.T,np.kron(self.sigma0,self.sigmay)))*Delta+np.kron(onsitemat,np.kron(self.sigma0,self.sigmaz))*m\n",
    "    def bandstructure(self):\n",
    "        val, vec = nla.eigh(self.Hamiltonian)\n",
    "        sortindex = np.argsort(val)\n",
    "        self.val = val[sortindex]\n",
    "        self.vec = vec[:, sortindex]\n",
    "\n",
    "    def fermi_dist(self, energy, E_F):\n",
    "        if self.T == 0:\n",
    "            return np.heaviside(E_F-energy, 0)\n",
    "        else:\n",
    "            return 1/(1+np.exp((energy-E_F)/self.T))\n",
    "\n",
    "    def correlation_matrix(self, E_F=0):\n",
    "        '''\n",
    "        G_{ij}=<f_i^\\dagger f_j>\n",
    "        '''\n",
    "        if not (hasattr(self, 'val') and hasattr(self, 'vec')):\n",
    "            self.bandstructure()\n",
    "        occupancy_mat = np.matlib.repmat(self.fermi_dist(self.val, E_F), self.vec.shape[0], 1)\n",
    "        self.C_f = ((occupancy_mat*self.vec)@self.vec.T.conj())\n",
    "\n",
    "    def covariance_matrix(self, E_F=0):\n",
    "        '''\n",
    "        c.f. notes\n",
    "        Maybe differs by a minus sign\n",
    "        '''\n",
    "        if not hasattr(self, 'C_f'):\n",
    "            if self.Lx < np.inf and self.Ly<np.inf:\n",
    "                self.correlation_matrix()\n",
    "            else:\n",
    "                self.correlation_matrix_inf_fft()\n",
    "        G = self.C_f\n",
    "        Gamma_11 = 1j*(G-G.T)\n",
    "        Gamma_21 = -(np.eye(G.shape[0])-G-G.T)\n",
    "        Gamma_12 = -Gamma_21.T\n",
    "        Gamma_22 = -1j*(G.T-G)\n",
    "        Gamma = np.zeros((2*G.shape[0], 2*G.shape[0]), dtype=complex)\n",
    "        even = np.arange(2*G.shape[0])[::2]\n",
    "        odd = np.arange(2*G.shape[0])[1::2]\n",
    "        Gamma[np.ix_(even, even)] = Gamma_11\n",
    "        Gamma[np.ix_(even, odd)] = Gamma_12\n",
    "        Gamma[np.ix_(odd, even)] = Gamma_21\n",
    "        Gamma[np.ix_(odd, odd)] = Gamma_22\n",
    "        assert np.abs(np.imag(Gamma)).max() < 1e-10, \"Covariance matrix not real {:.5f}\".format(np.abs(np.imag(Gamma)).max())\n",
    "        self.C_m = np.real(Gamma-Gamma.T.conj())/2\n",
    "        self.C_m_history = [self.C_m]\n",
    "\n",
    "    def linearize_index(self, subregion, n, proj=False, k=2):\n",
    "        '''\n",
    "        If proj ==True, then the index used for projection operator will be returned\n",
    "        k, the size of measurement, is useful only when proj=True\n",
    "        '''\n",
    "        subregion_x, subregion_y = (subregion)\n",
    "        subregion_x = np.array(subregion_x)\n",
    "        subregion_y = np.array(subregion_y)\n",
    "        \n",
    "        X, Y = np.meshgrid(subregion_x, subregion_y)\n",
    "        if self.Ly<np.inf:\n",
    "            assert subregion_x.max()<self.Lx and subregion_y.max()<self.Ly, 'Range exceeds'\n",
    "            linear_index = ((X+Y*self.Lx).flatten('F'))\n",
    "        else:\n",
    "            assert subregion_x.max()<self.dxmax and subregion_y.max()<self.dymax, 'Range exceeds'\n",
    "            linear_index = ((X+Y*self.dxmax).flatten('F'))\n",
    "        if proj:\n",
    "            return sorted(np.concatenate([n*linear_index+i for i in range(0, n, k)]))\n",
    "        else:\n",
    "            return sorted(np.concatenate([n*linear_index+i for i in range(n)]))\n",
    "\n",
    "    def square_index(self, subregion):\n",
    "        subregion=np.unique(np.array(subregion)//8)\n",
    "        if self.Lx<np.inf and self.Ly<np.inf:\n",
    "            return subregion%self.Lx,subregion//self.Lx\n",
    "        else:\n",
    "            return subregion%self.dxmax,subregion//self.dxmax\n",
    "\n",
    "    def c_subregion_f(self, subregion, linear=True):\n",
    "        '''\n",
    "        subregion: [subregion_x, subregion_y] index of unit cell\n",
    "        '''\n",
    "        if not hasattr(self, 'C_f'):\n",
    "            self.correlation_matrix()\n",
    "        try:\n",
    "            subregion = list(subregion)\n",
    "        except:\n",
    "            raise ValueError(\"The subregion is ill-defined\"+subregion)\n",
    "\n",
    "        if len(subregion) == 2:\n",
    "            if isinstance(subregion[0], int) and isinstance(subregion[1], int):\n",
    "                linear = True\n",
    "            elif (not isinstance(subregion[0], int)) and (not isinstance(subregion[1], int)):\n",
    "                linear = False\n",
    "            else:\n",
    "                raise ValueError('Illegal subregion')\n",
    "        else:\n",
    "            linear = True\n",
    "        if linear:\n",
    "            # linearized index\n",
    "            subregion_index = subregion\n",
    "        else:\n",
    "            # 2D index\n",
    "            subregion_index = self.linearize_index(subregion, 4)\n",
    "        # This is a dumb way...\n",
    "        return self.C_f[np.ix_(subregion_index, subregion_index)]\n",
    "\n",
    "    def von_Neumann_entropy_f(self, subregion):\n",
    "        c_A = self.c_subregion_f(subregion)\n",
    "        val = nla.eigvalsh(c_A)\n",
    "        self.val_sh = val\n",
    "        val = np.sort(val)\n",
    "        return np.real(-np.sum(val*np.log(val+1e-18j))-np.sum((1-val)*np.log(1-val+1e-18j)))\n",
    "\n",
    "    def c_subregion_m(self, subregion, Gamma=None):\n",
    "            '''\n",
    "            subregion: [subregoin_x, subregion_y] index of unit cell\n",
    "            '''\n",
    "            if not hasattr(self, 'C_m'):\n",
    "                self.covariance_matrix()\n",
    "            if Gamma is None:\n",
    "                Gamma = self.C_m_history[-1]\n",
    "            try:\n",
    "                subregion = list(subregion)\n",
    "            except:\n",
    "                raise ValueError(\"The subregion is ill-defined\"+subregion)\n",
    "\n",
    "            if len(subregion) == 2:\n",
    "                if isinstance(subregion[0], int) and isinstance(subregion[1], int):\n",
    "                    linear = True\n",
    "                elif (not isinstance(subregion[0], int)) and (not isinstance(subregion[1], int)):\n",
    "                    linear = False\n",
    "                else:\n",
    "                    raise ValueError('Illegal subregion')\n",
    "            else:\n",
    "                linear = True\n",
    "            if linear:\n",
    "                # linearized index\n",
    "                subregion_index = subregion\n",
    "            else:\n",
    "                # 2D index\n",
    "                subregion_index = self.linearize_index(subregion, 8)\n",
    "\n",
    "            return Gamma[np.ix_(subregion_index, subregion_index)]\n",
    "\n",
    "    def von_Neumann_entropy_m(self, subregion):\n",
    "        c_A = self.c_subregion_m(subregion)\n",
    "        val = nla.eigvalsh(1j*c_A)\n",
    "        self.val_sh = val\n",
    "        val = np.sort(val)\n",
    "        val = (1-val)/2+1e-18j  # \\lambda=(1-\\xi)/2\n",
    "        return np.real(-np.sum(val*np.log(val))-np.sum((1-val)*np.log(1-val)))/2\n",
    "\n",
    "    def mutual_information_f(self, subregion_A, subregion_B):\n",
    "        subregion_A = self.linearize_index(subregion_A, 4)\n",
    "        subregion_B = self.linearize_index(subregion_B, 4)\n",
    "        s_A = self.von_Neumann_entropy_f(subregion_A)\n",
    "        s_B = self.von_Neumann_entropy_f(subregion_B)\n",
    "        assert np.intersect1d(\n",
    "            subregion_A, subregion_B).size == 0, \"Subregion A and B overlap\"\n",
    "        subregion_AB = np.concatenate([subregion_A, subregion_B])\n",
    "        s_AB = self.von_Neumann_entropy_f(subregion_AB)\n",
    "        return s_A+s_B-s_AB\n",
    "\n",
    "    def mutual_information_m(self, subregion_A, subregion_B):\n",
    "        subregion_A = self.linearize_index(subregion_A, 8)\n",
    "        subregion_B = self.linearize_index(subregion_B, 8)\n",
    "        assert np.intersect1d(\n",
    "            subregion_A, subregion_B).size == 0, \"Subregion A and B overlap\"\n",
    "        s_A = self.von_Neumann_entropy_m(subregion_A)\n",
    "        s_B = self.von_Neumann_entropy_m(subregion_B)\n",
    "        subregion_AB = np.concatenate([subregion_A, subregion_B])\n",
    "        s_AB = self.von_Neumann_entropy_m(subregion_AB)\n",
    "        return s_A+s_B-s_AB\n",
    "\n",
    "    def entropy_E(self, subregion_A, subregion_B):\n",
    "        subregion_A = self.linearize_index(subregion_A, 8)\n",
    "        subregion_B = self.linearize_index(subregion_B, 8)\n",
    "        assert np.intersect1d(\n",
    "            subregion_A, subregion_B).size == 0, \"Subregion A and B overlap\"\n",
    "        s_A = self.von_Neumann_entropy_m(subregion_A)\n",
    "        s_B = self.von_Neumann_entropy_m(subregion_B)\n",
    "        subregion_AB = np.concatenate([subregion_A, subregion_B])\n",
    "        s_AB = self.von_Neumann_entropy_m(subregion_AB)\n",
    "        return s_A+s_B-s_AB\n",
    "\n",
    "    def log_neg(self, subregion_A, subregion_B, Gamma=None,linear=False):\n",
    "        if not linear:\n",
    "            subregion_A = self.linearize_index(subregion_A, 8)\n",
    "            subregion_B = self.linearize_index(subregion_B, 8)\n",
    "        assert np.intersect1d(\n",
    "            subregion_A, subregion_B).size == 0, \"Subregion A and B overlap\"\n",
    "        if not hasattr(self, 'C_m'):\n",
    "            self.covariance_matrix()\n",
    "\n",
    "        if Gamma is None:\n",
    "            Gamma = self.C_m_history[-1]\n",
    "        subregion_A = np.array(subregion_A)\n",
    "        subregion_B = np.array(subregion_B)\n",
    "        Gm_p = np.block([\n",
    "            [-Gamma[np.ix_(subregion_A, subregion_A)], 1j *\n",
    "             Gamma[np.ix_(subregion_A, subregion_B)]],\n",
    "            [1j*Gamma[np.ix_(subregion_B, subregion_A)],\n",
    "             Gamma[np.ix_(subregion_B, subregion_B)]]\n",
    "        ])\n",
    "        Gm_n = np.block([\n",
    "            [-Gamma[np.ix_(subregion_A, subregion_A)], -1j *\n",
    "             Gamma[np.ix_(subregion_A, subregion_B)]],\n",
    "            [-1j*Gamma[np.ix_(subregion_B, subregion_A)],\n",
    "             Gamma[np.ix_(subregion_B, subregion_B)]]\n",
    "        ])\n",
    "        idm = np.eye(Gm_p.shape[0])\n",
    "        # Gm_x=idm-(idm+1j*Gm_p)@nla.inv(idm-Gm_n@Gm_p)@(idm+1j*Gm_n)\n",
    "        Gm_x = idm-(idm+1j*Gm_p)@(la.solve((idm-Gm_n@Gm_p), (idm+1j*Gm_n)))\n",
    "        Gm_x = (Gm_x+Gm_x.T.conj())/2\n",
    "        xi = nla.eigvalsh(Gm_x)\n",
    "        subregion_AB = np.concatenate([subregion_A, subregion_B])\n",
    "        eA = np.sum(np.log(((1+xi+0j)/2)**0.5+((1-xi+0j)/2)**0.5))/2\n",
    "        chi = nla.eigvalsh(1j*Gamma[np.ix_(subregion_AB, subregion_AB)])\n",
    "        sA = np.sum(np.log(((1+chi)/2)**2+((1-chi)/2)**2))/4\n",
    "        self.eA=eA\n",
    "        self.sA=sA\n",
    "        return np.real(eA+sA)\n",
    "\n",
    "    def projection(self, s,type='onsite'):\n",
    "        '''\n",
    "        For type:'onsite'\n",
    "            occupancy number: s= 0,1 \n",
    "            (-1)^0 even parity, (-1)^1 odd parity\n",
    "        For type:'link'\n",
    "            (o,+)|(o,-)|(e,+)|(e,-)\n",
    "        '''\n",
    "        if type=='onsite':\n",
    "            assert (s == 0 or s == 1), \"s={} is either 0 or 1\".format(s)\n",
    "            blkmat = np.array([[0, -(-1)**s, 0, 0],\n",
    "                            [(-1)**s, 0, 0, 0],\n",
    "                            [0, 0, 0, (-1)**s],\n",
    "                            [0, 0, -(-1)**s, 0]])\n",
    "            return blkmat\n",
    "\n",
    "\n",
    "        if type=='link':\n",
    "            assert (s in ['o+','o-','e+','e-']), \"s={} for {} is not defined\".format(s,type)\n",
    "            if s=='o+':\n",
    "                antidiag=[1,-1,1,-1]\n",
    "                blkmat=np.diag(antidiag)\n",
    "                blkmat=np.fliplr(blkmat)\n",
    "            if s=='o-':\n",
    "                antidiag=[-1,1,-1,1]\n",
    "                blkmat=np.diag(antidiag)\n",
    "                blkmat=np.fliplr(blkmat)\n",
    "            if s=='e+':\n",
    "                antidiag=[-1,-1,1,1]\n",
    "                blkmat=np.diag(antidiag)\n",
    "                blkmat=np.fliplr(blkmat)\n",
    "            if s=='e-':\n",
    "                antidiag=[1,1,-1,-1]\n",
    "                blkmat=np.diag(antidiag)\n",
    "                blkmat=np.fliplr(blkmat)\n",
    "            proj=np.zeros((8,8))\n",
    "            proj[:4,:4]=blkmat\n",
    "            proj[4:,4:]=blkmat.T\n",
    "            return proj            \n",
    "        raise ValueError(\"type '{}' is not defined\".format(type))\n",
    "\n",
    "    def measure(self, s, ix,type='onsite'):\n",
    "        if not hasattr(self, 'C_m'):\n",
    "            self.covariance_matrix()\n",
    "        if not hasattr(self, 's_history'):\n",
    "            self.s_history = []\n",
    "        if not hasattr(self, 'i_history'):\n",
    "            self.i_history = []\n",
    "\n",
    "        mat = self.C_m_history[-1].copy()\n",
    "\n",
    "        for i_ind, i in enumerate(ix):\n",
    "            mat[[i, -(len(ix)-i_ind)]] = mat[[-(len(ix)-i_ind), i]]\n",
    "            mat[:, [i, -(len(ix)-i_ind)]] = mat[:, [-(len(ix)-i_ind), i]]\n",
    "\n",
    "        self.mat = mat\n",
    "\n",
    "        Gamma_LL = mat[:-len(ix), :-len(ix)]\n",
    "        Gamma_LR = mat[:-len(ix), -len(ix):]\n",
    "        Gamma_RR = mat[-len(ix):, -len(ix):]\n",
    "\n",
    "        proj = self.projection(s,type=type)\n",
    "        Upsilon_LL = proj[:-len(ix), :-len(ix)]\n",
    "        Upsilon_RR = proj[-len(ix):, -len(ix):]\n",
    "        Upsilon_RL = proj[-len(ix):, :-len(ix)]\n",
    "        zero = np.zeros((mat.shape[0]-len(ix), len(ix)))\n",
    "        zero0 = np.zeros((len(ix), len(ix)))\n",
    "        mat1 = np.block([[Gamma_LL, zero], [zero.T, Upsilon_RR]])\n",
    "        mat2 = np.block([[Gamma_LR, zero], [zero0, Upsilon_RL]])\n",
    "        mat3 = np.block([[Gamma_RR, np.eye(len(ix))],\n",
    "                        [-np.eye(len(ix)), Upsilon_LL]])\n",
    "        self.mat2 = mat2\n",
    "        if np.count_nonzero(mat2):\n",
    "            Psi = mat1+mat2@(la.solve(mat3, mat2.T))\n",
    "            # Psi=mat1+mat2@(la.lstsq(mat3,mat2.T)[0])\n",
    "            assert np.abs(\n",
    "                np.trace(Psi)) < 1e-5, \"Not trace zero {:e}\".format(np.trace(Psi))\n",
    "        else:\n",
    "            Psi = mat1\n",
    "\n",
    "        for i_ind, i in enumerate(ix):\n",
    "            Psi[[i, -(len(ix)-i_ind)]] = Psi[[-(len(ix)-i_ind), i]]\n",
    "            Psi[:, [i, -(len(ix)-i_ind)]] = Psi[:, [-(len(ix)-i_ind), i]]\n",
    "        Psi = (Psi-Psi.T)/2   # Anti-symmetrize\n",
    "        if self.history:\n",
    "            self.C_m_history.append(Psi)\n",
    "            self.s_history.append(s)\n",
    "            self.i_history.append(ix[0])\n",
    "        else:\n",
    "            self.C_m_history = [Psi]\n",
    "            self.s_history = [s]\n",
    "            self.i_history = [ix[0]]\n",
    "\n",
    "    def measure_all_Born(self, proj_range,prob=None,linear=False,type='onsite',pool=4):\n",
    "        if not linear:\n",
    "            if type=='onsite':\n",
    "                proj_range = self.linearize_index(proj_range, 8, proj=True)\n",
    "            if type=='link':\n",
    "                proj_range = self.linearize_index(proj_range, 8, proj=True,k=4)\n",
    "                \n",
    "            # if type=='link':\n",
    "            #     proj_range = self.linearize_index(proj_range, 8, proj=True,k=8)\n",
    "        # self.proj_range=proj_range\n",
    "        # print(proj_range)\n",
    "        self.P_0_list = []\n",
    "        self.f_parity= []\n",
    "        if not hasattr(self, 'C_m'):\n",
    "            self.covariance_matrix()\n",
    "        if type=='onsite':\n",
    "            for index,i in enumerate(proj_range):\n",
    "                if prob is None:\n",
    "                    P_0 = (self.C_m_history[-1][i, i+1]+1)/2    # Use Born rule\n",
    "                else:\n",
    "                    if isinstance(prob,list):\n",
    "                        assert len(prob)==len(proj_range), \"len of prob {:d} not equal to len of proj_range {:d}\".format(len(prob),len(proj_range))\n",
    "                        P_0=prob[index]\n",
    "                    else:    \n",
    "                        P_0=prob\n",
    "                self.P_0_list.append(P_0)\n",
    "                if np.random.rand() < P_0:\n",
    "                    self.measure(0, [i, i+1])\n",
    "                    self.f_parity.append(0)\n",
    "                else:\n",
    "                    self.measure(1, [i, i+1])\n",
    "                    self.f_parity.append(1)\n",
    "            return self\n",
    "        if type=='link':\n",
    "            for index,i in enumerate(proj_range):\n",
    "                Gamma=self.C_m_history[-1][i:i+4,i:i+4]\n",
    "                P={}\n",
    "                if prob is None:\n",
    "                    gamma1234=-Gamma[0,1]*Gamma[2,3]+Gamma[0,2]*Gamma[1,3]-Gamma[0,3]*Gamma[1,2]\n",
    "                    P['o+']=(1+Gamma[1,2]-Gamma[0,3]+gamma1234)/4\n",
    "                    P['o-']=(1-Gamma[1,2]+Gamma[0,3]+gamma1234)/4\n",
    "                    P['e+']=(1+Gamma[1,2]+Gamma[0,3]-gamma1234)/4\n",
    "                    P['e-']=(1-Gamma[1,2]-Gamma[0,3]-gamma1234)/4\n",
    "                else:\n",
    "                    if isinstance(prob,list):\n",
    "                        if len(prob)==len(proj_range):\n",
    "                            P['o+'],P['o-'],P['e+'],P['e-']=tuple(prob[index])\n",
    "                        else:\n",
    "                            P['o+'],P['o-'],P['e+'],P['e-']=tuple(prob)\n",
    "                    else:  \n",
    "                        raise ValueError('prob should be a list')\n",
    "\n",
    "                if pool==4:\n",
    "                    s=np.random.choice(['o+','o-','e+','e-'],p=[P['o+'],P['o-'],P['e+'],P['e-']])\n",
    "                elif pool==2:\n",
    "                    s=np.random.choice(['o+','o-'],p=[P['o+']/(P['o+']+P['o-']),P['o-']/(P['o+']+P['o-'])])\n",
    "                elif pool==-2:\n",
    "                    s=np.random.choice(['e+','e-'],p=[P['e+']/(P['e+']+P['e-']),P['e-']/(P['e+']+P['e-'])])\n",
    "                self.measure(s,[i,i+1,i+2,i+3],type='link')\n",
    "            return self\n",
    "    def fermion_number(self,proj_range,linear=False,type='C_m'):\n",
    "        if type=='C_m':\n",
    "            if not linear:\n",
    "                proj_range = self.linearize_index(proj_range, 8, proj=True,k=2)\n",
    "            return 1/2*(1-np.diagonal(self.C_m_history[-1],1)[proj_range]).sum()\n",
    "        # if type=='C_f':\n",
    "        #     if not linear:\n",
    "        #         proj_range = self.linearize_index(proj_range, 2, proj=True,k=1)\n",
    "        #     return np.trace(self.C_f[proj_range])\n"
   ],
   "outputs": [],
   "metadata": {}
  },
  {
   "cell_type": "markdown",
   "source": [
    "# Band structure"
   ],
   "metadata": {}
  },
  {
   "cell_type": "code",
   "execution_count": 73,
   "source": [
    "m_list=np.linspace(1,3,11)\n",
    "val_map=[]\n",
    "for m in m_list:\n",
    "    params=Params(m=m,t=.5,l=.5,Delta=0.25,Lx=20,Ly=20,bcx=1,bcy=1)\n",
    "    params.bandstructure()\n",
    "    val_map.append(params.val)\n",
    "\n",
    "val_map=np.array(val_map)\n",
    "\n"
   ],
   "outputs": [],
   "metadata": {}
  },
  {
   "cell_type": "code",
   "execution_count": 74,
   "source": [
    "plt.plot(m_list,val_map,'k',lw=.5)\n"
   ],
   "outputs": [
    {
     "output_type": "execute_result",
     "data": {
      "text/plain": [
       "[<matplotlib.lines.Line2D at 0x7fc9f608f220>,\n",
       " <matplotlib.lines.Line2D at 0x7fc9f608f250>,\n",
       " <matplotlib.lines.Line2D at 0x7fc9f608f370>,\n",
       " <matplotlib.lines.Line2D at 0x7fc9f60850a0>,\n",
       " <matplotlib.lines.Line2D at 0x7fc9f60850d0>,\n",
       " <matplotlib.lines.Line2D at 0x7fc9f608f5b0>,\n",
       " <matplotlib.lines.Line2D at 0x7fc9f608f6d0>,\n",
       " <matplotlib.lines.Line2D at 0x7fc9f608f7f0>,\n",
       " <matplotlib.lines.Line2D at 0x7fc9f608f910>,\n",
       " <matplotlib.lines.Line2D at 0x7fc9f608fa30>,\n",
       " <matplotlib.lines.Line2D at 0x7fc9f608fb50>,\n",
       " <matplotlib.lines.Line2D at 0x7fc9f608fc70>,\n",
       " <matplotlib.lines.Line2D at 0x7fc9f608fd90>,\n",
       " <matplotlib.lines.Line2D at 0x7fc9f608feb0>,\n",
       " <matplotlib.lines.Line2D at 0x7fc9f608ffd0>,\n",
       " <matplotlib.lines.Line2D at 0x7fc9f6097130>,\n",
       " <matplotlib.lines.Line2D at 0x7fc9f6097250>,\n",
       " <matplotlib.lines.Line2D at 0x7fc9f6097370>,\n",
       " <matplotlib.lines.Line2D at 0x7fc9f6097490>,\n",
       " <matplotlib.lines.Line2D at 0x7fc9f60975b0>,\n",
       " <matplotlib.lines.Line2D at 0x7fc9f60976d0>,\n",
       " <matplotlib.lines.Line2D at 0x7fc9f60977f0>,\n",
       " <matplotlib.lines.Line2D at 0x7fc9f6097910>,\n",
       " <matplotlib.lines.Line2D at 0x7fc9f6097a30>,\n",
       " <matplotlib.lines.Line2D at 0x7fc9f6097b50>,\n",
       " <matplotlib.lines.Line2D at 0x7fc9f6097c70>,\n",
       " <matplotlib.lines.Line2D at 0x7fc9f6097d90>,\n",
       " <matplotlib.lines.Line2D at 0x7fc9f6097eb0>,\n",
       " <matplotlib.lines.Line2D at 0x7fc9f6097fd0>,\n",
       " <matplotlib.lines.Line2D at 0x7fc9f60a0130>,\n",
       " <matplotlib.lines.Line2D at 0x7fc9f60a0250>,\n",
       " <matplotlib.lines.Line2D at 0x7fc9f60a0370>,\n",
       " <matplotlib.lines.Line2D at 0x7fc9f60a0490>,\n",
       " <matplotlib.lines.Line2D at 0x7fc9f60a05b0>,\n",
       " <matplotlib.lines.Line2D at 0x7fc9f60a06d0>,\n",
       " <matplotlib.lines.Line2D at 0x7fc9f60a07f0>,\n",
       " <matplotlib.lines.Line2D at 0x7fc9f60a0910>,\n",
       " <matplotlib.lines.Line2D at 0x7fc9f60a0a30>,\n",
       " <matplotlib.lines.Line2D at 0x7fc9f60a0b50>,\n",
       " <matplotlib.lines.Line2D at 0x7fc9f60a0c70>,\n",
       " <matplotlib.lines.Line2D at 0x7fc9f60a0d90>,\n",
       " <matplotlib.lines.Line2D at 0x7fc9f60a0eb0>,\n",
       " <matplotlib.lines.Line2D at 0x7fc9f60a0fd0>,\n",
       " <matplotlib.lines.Line2D at 0x7fc9f60e7130>,\n",
       " <matplotlib.lines.Line2D at 0x7fc9f60e7250>,\n",
       " <matplotlib.lines.Line2D at 0x7fc9f60e7370>,\n",
       " <matplotlib.lines.Line2D at 0x7fc9f60e7490>,\n",
       " <matplotlib.lines.Line2D at 0x7fc9f60e75b0>,\n",
       " <matplotlib.lines.Line2D at 0x7fc9f60e76d0>,\n",
       " <matplotlib.lines.Line2D at 0x7fc9f60e77f0>,\n",
       " <matplotlib.lines.Line2D at 0x7fc9f60e7910>,\n",
       " <matplotlib.lines.Line2D at 0x7fc9f60e7a30>,\n",
       " <matplotlib.lines.Line2D at 0x7fc9f60e7b50>,\n",
       " <matplotlib.lines.Line2D at 0x7fc9f60e7c70>,\n",
       " <matplotlib.lines.Line2D at 0x7fc9f60e7d90>,\n",
       " <matplotlib.lines.Line2D at 0x7fc9f60e7eb0>,\n",
       " <matplotlib.lines.Line2D at 0x7fc9f60e7fd0>,\n",
       " <matplotlib.lines.Line2D at 0x7fc9f60ec130>,\n",
       " <matplotlib.lines.Line2D at 0x7fc9f60ec250>,\n",
       " <matplotlib.lines.Line2D at 0x7fc9f60ec370>,\n",
       " <matplotlib.lines.Line2D at 0x7fc9f60ec490>,\n",
       " <matplotlib.lines.Line2D at 0x7fc9f60ec5b0>,\n",
       " <matplotlib.lines.Line2D at 0x7fc9f60ec6d0>,\n",
       " <matplotlib.lines.Line2D at 0x7fc9f60ec7f0>,\n",
       " <matplotlib.lines.Line2D at 0x7fc9f60ec910>,\n",
       " <matplotlib.lines.Line2D at 0x7fc9f60eca30>,\n",
       " <matplotlib.lines.Line2D at 0x7fc9f60ecb50>,\n",
       " <matplotlib.lines.Line2D at 0x7fc9f60ecc70>,\n",
       " <matplotlib.lines.Line2D at 0x7fc9f60ecd90>,\n",
       " <matplotlib.lines.Line2D at 0x7fc9f60eceb0>,\n",
       " <matplotlib.lines.Line2D at 0x7fc9f60ecfd0>,\n",
       " <matplotlib.lines.Line2D at 0x7fc9f60f1130>,\n",
       " <matplotlib.lines.Line2D at 0x7fc9f60f1250>,\n",
       " <matplotlib.lines.Line2D at 0x7fc9f60f1370>,\n",
       " <matplotlib.lines.Line2D at 0x7fc9f60f1490>,\n",
       " <matplotlib.lines.Line2D at 0x7fc9f60f15b0>,\n",
       " <matplotlib.lines.Line2D at 0x7fc9f60f16d0>,\n",
       " <matplotlib.lines.Line2D at 0x7fc9f60f17f0>,\n",
       " <matplotlib.lines.Line2D at 0x7fc9f60f1910>,\n",
       " <matplotlib.lines.Line2D at 0x7fc9f60f1a30>,\n",
       " <matplotlib.lines.Line2D at 0x7fc9f60f1b50>,\n",
       " <matplotlib.lines.Line2D at 0x7fc9f60f1c70>,\n",
       " <matplotlib.lines.Line2D at 0x7fc9f60f1d90>,\n",
       " <matplotlib.lines.Line2D at 0x7fc9f60f1eb0>,\n",
       " <matplotlib.lines.Line2D at 0x7fc9f60f1fd0>,\n",
       " <matplotlib.lines.Line2D at 0x7fc9f60f8130>,\n",
       " <matplotlib.lines.Line2D at 0x7fc9f60f8250>,\n",
       " <matplotlib.lines.Line2D at 0x7fc9f60f8370>,\n",
       " <matplotlib.lines.Line2D at 0x7fc9f60f8490>,\n",
       " <matplotlib.lines.Line2D at 0x7fc9f60f85b0>,\n",
       " <matplotlib.lines.Line2D at 0x7fc9f60f86d0>,\n",
       " <matplotlib.lines.Line2D at 0x7fc9f60f87f0>,\n",
       " <matplotlib.lines.Line2D at 0x7fc9f60f8910>,\n",
       " <matplotlib.lines.Line2D at 0x7fc9f60f8a30>,\n",
       " <matplotlib.lines.Line2D at 0x7fc9f60f8b50>,\n",
       " <matplotlib.lines.Line2D at 0x7fc9f60f8c70>,\n",
       " <matplotlib.lines.Line2D at 0x7fc9f60f8d90>,\n",
       " <matplotlib.lines.Line2D at 0x7fc9f60f8eb0>,\n",
       " <matplotlib.lines.Line2D at 0x7fc9f60f8fd0>,\n",
       " <matplotlib.lines.Line2D at 0x7fc9f60fc130>,\n",
       " <matplotlib.lines.Line2D at 0x7fc9f60fc250>,\n",
       " <matplotlib.lines.Line2D at 0x7fc9f60fc370>,\n",
       " <matplotlib.lines.Line2D at 0x7fc9f60fc490>,\n",
       " <matplotlib.lines.Line2D at 0x7fc9f60fc5b0>,\n",
       " <matplotlib.lines.Line2D at 0x7fc9f60fc6d0>,\n",
       " <matplotlib.lines.Line2D at 0x7fc9f60fc7f0>,\n",
       " <matplotlib.lines.Line2D at 0x7fc9f60fc910>,\n",
       " <matplotlib.lines.Line2D at 0x7fc9f60fca30>,\n",
       " <matplotlib.lines.Line2D at 0x7fc9f60fcb50>,\n",
       " <matplotlib.lines.Line2D at 0x7fc9f60fcc70>,\n",
       " <matplotlib.lines.Line2D at 0x7fc9f60fcd90>,\n",
       " <matplotlib.lines.Line2D at 0x7fc9f60fceb0>,\n",
       " <matplotlib.lines.Line2D at 0x7fc9f60fcfd0>,\n",
       " <matplotlib.lines.Line2D at 0x7fc9f6104130>,\n",
       " <matplotlib.lines.Line2D at 0x7fc9f6104250>,\n",
       " <matplotlib.lines.Line2D at 0x7fc9f6104370>,\n",
       " <matplotlib.lines.Line2D at 0x7fc9f6104490>,\n",
       " <matplotlib.lines.Line2D at 0x7fc9f61045b0>,\n",
       " <matplotlib.lines.Line2D at 0x7fc9f61046d0>,\n",
       " <matplotlib.lines.Line2D at 0x7fc9f61047f0>,\n",
       " <matplotlib.lines.Line2D at 0x7fc9f6104910>,\n",
       " <matplotlib.lines.Line2D at 0x7fc9f6104a30>,\n",
       " <matplotlib.lines.Line2D at 0x7fc9f6104b50>,\n",
       " <matplotlib.lines.Line2D at 0x7fc9f6104c70>,\n",
       " <matplotlib.lines.Line2D at 0x7fc9f6104d90>,\n",
       " <matplotlib.lines.Line2D at 0x7fc9f6104eb0>,\n",
       " <matplotlib.lines.Line2D at 0x7fc9f6104fd0>,\n",
       " <matplotlib.lines.Line2D at 0x7fc9f6109130>,\n",
       " <matplotlib.lines.Line2D at 0x7fc9f6109250>,\n",
       " <matplotlib.lines.Line2D at 0x7fc9f6109370>,\n",
       " <matplotlib.lines.Line2D at 0x7fc9f6109490>,\n",
       " <matplotlib.lines.Line2D at 0x7fc9f61095b0>,\n",
       " <matplotlib.lines.Line2D at 0x7fc9f61096d0>,\n",
       " <matplotlib.lines.Line2D at 0x7fc9f61097f0>,\n",
       " <matplotlib.lines.Line2D at 0x7fc9f6109910>,\n",
       " <matplotlib.lines.Line2D at 0x7fc9f6109a30>,\n",
       " <matplotlib.lines.Line2D at 0x7fc9f6109b50>,\n",
       " <matplotlib.lines.Line2D at 0x7fc9f6109c70>,\n",
       " <matplotlib.lines.Line2D at 0x7fc9f6109d90>,\n",
       " <matplotlib.lines.Line2D at 0x7fc9f6109eb0>,\n",
       " <matplotlib.lines.Line2D at 0x7fc9f6109fd0>,\n",
       " <matplotlib.lines.Line2D at 0x7fc9f610e130>,\n",
       " <matplotlib.lines.Line2D at 0x7fc9f610e250>,\n",
       " <matplotlib.lines.Line2D at 0x7fc9f610e370>,\n",
       " <matplotlib.lines.Line2D at 0x7fc9f610e490>,\n",
       " <matplotlib.lines.Line2D at 0x7fc9f610e5b0>,\n",
       " <matplotlib.lines.Line2D at 0x7fc9f610e6d0>,\n",
       " <matplotlib.lines.Line2D at 0x7fc9f610e7f0>,\n",
       " <matplotlib.lines.Line2D at 0x7fc9f610e910>,\n",
       " <matplotlib.lines.Line2D at 0x7fc9f610ea30>,\n",
       " <matplotlib.lines.Line2D at 0x7fc9f610eb50>,\n",
       " <matplotlib.lines.Line2D at 0x7fc9f610ec70>,\n",
       " <matplotlib.lines.Line2D at 0x7fc9f610ed90>,\n",
       " <matplotlib.lines.Line2D at 0x7fc9f610eeb0>,\n",
       " <matplotlib.lines.Line2D at 0x7fc9f610efd0>,\n",
       " <matplotlib.lines.Line2D at 0x7fc9f6114130>,\n",
       " <matplotlib.lines.Line2D at 0x7fc9f6114250>,\n",
       " <matplotlib.lines.Line2D at 0x7fc9f6114370>,\n",
       " <matplotlib.lines.Line2D at 0x7fc9f6114490>,\n",
       " <matplotlib.lines.Line2D at 0x7fc9f61145b0>,\n",
       " <matplotlib.lines.Line2D at 0x7fc9f61146d0>,\n",
       " <matplotlib.lines.Line2D at 0x7fc9f61147f0>,\n",
       " <matplotlib.lines.Line2D at 0x7fc9f6114910>,\n",
       " <matplotlib.lines.Line2D at 0x7fc9f6114a30>,\n",
       " <matplotlib.lines.Line2D at 0x7fc9f6114b50>,\n",
       " <matplotlib.lines.Line2D at 0x7fc9f6114c70>,\n",
       " <matplotlib.lines.Line2D at 0x7fc9f6114d90>,\n",
       " <matplotlib.lines.Line2D at 0x7fc9f6114eb0>,\n",
       " <matplotlib.lines.Line2D at 0x7fc9f6114fd0>,\n",
       " <matplotlib.lines.Line2D at 0x7fc9f611a130>,\n",
       " <matplotlib.lines.Line2D at 0x7fc9f611a250>,\n",
       " <matplotlib.lines.Line2D at 0x7fc9f611a370>,\n",
       " <matplotlib.lines.Line2D at 0x7fc9f611a490>,\n",
       " <matplotlib.lines.Line2D at 0x7fc9f611a5b0>,\n",
       " <matplotlib.lines.Line2D at 0x7fc9f611a6d0>,\n",
       " <matplotlib.lines.Line2D at 0x7fc9f611a7f0>,\n",
       " <matplotlib.lines.Line2D at 0x7fc9f611a910>,\n",
       " <matplotlib.lines.Line2D at 0x7fc9f611aa30>,\n",
       " <matplotlib.lines.Line2D at 0x7fc9f611ab50>,\n",
       " <matplotlib.lines.Line2D at 0x7fc9f611ac70>,\n",
       " <matplotlib.lines.Line2D at 0x7fc9f611ad90>,\n",
       " <matplotlib.lines.Line2D at 0x7fc9f611aeb0>,\n",
       " <matplotlib.lines.Line2D at 0x7fc9f611afd0>,\n",
       " <matplotlib.lines.Line2D at 0x7fc9f611e130>,\n",
       " <matplotlib.lines.Line2D at 0x7fc9f611e250>,\n",
       " <matplotlib.lines.Line2D at 0x7fc9f611e370>,\n",
       " <matplotlib.lines.Line2D at 0x7fc9f611e490>,\n",
       " <matplotlib.lines.Line2D at 0x7fc9f611e5b0>,\n",
       " <matplotlib.lines.Line2D at 0x7fc9f611e6d0>,\n",
       " <matplotlib.lines.Line2D at 0x7fc9f611e7f0>,\n",
       " <matplotlib.lines.Line2D at 0x7fc9f611e910>,\n",
       " <matplotlib.lines.Line2D at 0x7fc9f611ea30>,\n",
       " <matplotlib.lines.Line2D at 0x7fc9f611eb50>,\n",
       " <matplotlib.lines.Line2D at 0x7fc9f611ec70>,\n",
       " <matplotlib.lines.Line2D at 0x7fc9f611ed90>,\n",
       " <matplotlib.lines.Line2D at 0x7fc9f611eeb0>,\n",
       " <matplotlib.lines.Line2D at 0x7fc9f611efd0>,\n",
       " <matplotlib.lines.Line2D at 0x7fc9f60a5130>,\n",
       " <matplotlib.lines.Line2D at 0x7fc9f60a5250>,\n",
       " <matplotlib.lines.Line2D at 0x7fc9f60a5370>,\n",
       " <matplotlib.lines.Line2D at 0x7fc9f60a5490>,\n",
       " <matplotlib.lines.Line2D at 0x7fc9f60a55b0>,\n",
       " <matplotlib.lines.Line2D at 0x7fc9f60a56d0>,\n",
       " <matplotlib.lines.Line2D at 0x7fc9f60a57f0>,\n",
       " <matplotlib.lines.Line2D at 0x7fc9f60a5910>,\n",
       " <matplotlib.lines.Line2D at 0x7fc9f60a5a30>,\n",
       " <matplotlib.lines.Line2D at 0x7fc9f60a5b50>,\n",
       " <matplotlib.lines.Line2D at 0x7fc9f60a5c70>,\n",
       " <matplotlib.lines.Line2D at 0x7fc9f60a5d90>,\n",
       " <matplotlib.lines.Line2D at 0x7fc9f60a5eb0>,\n",
       " <matplotlib.lines.Line2D at 0x7fc9f60a5fd0>,\n",
       " <matplotlib.lines.Line2D at 0x7fc9f60ab130>,\n",
       " <matplotlib.lines.Line2D at 0x7fc9f60ab250>,\n",
       " <matplotlib.lines.Line2D at 0x7fc9f60ab370>,\n",
       " <matplotlib.lines.Line2D at 0x7fc9f60ab490>,\n",
       " <matplotlib.lines.Line2D at 0x7fc9f60ab5b0>,\n",
       " <matplotlib.lines.Line2D at 0x7fc9f60ab6d0>,\n",
       " <matplotlib.lines.Line2D at 0x7fc9f60ab7f0>,\n",
       " <matplotlib.lines.Line2D at 0x7fc9f60ab910>,\n",
       " <matplotlib.lines.Line2D at 0x7fc9f60aba30>,\n",
       " <matplotlib.lines.Line2D at 0x7fc9f60abb50>,\n",
       " <matplotlib.lines.Line2D at 0x7fc9f60abc70>,\n",
       " <matplotlib.lines.Line2D at 0x7fc9f60abd90>,\n",
       " <matplotlib.lines.Line2D at 0x7fc9f60abeb0>,\n",
       " <matplotlib.lines.Line2D at 0x7fc9f60abfd0>,\n",
       " <matplotlib.lines.Line2D at 0x7fc9f60b0130>,\n",
       " <matplotlib.lines.Line2D at 0x7fc9f60b0250>,\n",
       " <matplotlib.lines.Line2D at 0x7fc9f60b0370>,\n",
       " <matplotlib.lines.Line2D at 0x7fc9f60b0490>,\n",
       " <matplotlib.lines.Line2D at 0x7fc9f60b05b0>,\n",
       " <matplotlib.lines.Line2D at 0x7fc9f60b06d0>,\n",
       " <matplotlib.lines.Line2D at 0x7fc9f60b07f0>,\n",
       " <matplotlib.lines.Line2D at 0x7fc9f60b0910>,\n",
       " <matplotlib.lines.Line2D at 0x7fc9f60b0a30>,\n",
       " <matplotlib.lines.Line2D at 0x7fc9f60b0b50>,\n",
       " <matplotlib.lines.Line2D at 0x7fc9f60b0c70>,\n",
       " <matplotlib.lines.Line2D at 0x7fc9f60b0d90>,\n",
       " <matplotlib.lines.Line2D at 0x7fc9f60b0eb0>,\n",
       " <matplotlib.lines.Line2D at 0x7fc9f60b0fd0>,\n",
       " <matplotlib.lines.Line2D at 0x7fc9f60b7130>,\n",
       " <matplotlib.lines.Line2D at 0x7fc9f60b7250>,\n",
       " <matplotlib.lines.Line2D at 0x7fc9f60b7370>,\n",
       " <matplotlib.lines.Line2D at 0x7fc9f60b7490>,\n",
       " <matplotlib.lines.Line2D at 0x7fc9f60b75b0>,\n",
       " <matplotlib.lines.Line2D at 0x7fc9f60b76d0>,\n",
       " <matplotlib.lines.Line2D at 0x7fc9f60b77f0>,\n",
       " <matplotlib.lines.Line2D at 0x7fc9f60b7910>,\n",
       " <matplotlib.lines.Line2D at 0x7fc9f60b7a30>,\n",
       " <matplotlib.lines.Line2D at 0x7fc9f60b7b50>,\n",
       " <matplotlib.lines.Line2D at 0x7fc9f60b7c70>,\n",
       " <matplotlib.lines.Line2D at 0x7fc9f60b7d90>,\n",
       " <matplotlib.lines.Line2D at 0x7fc9f60b7eb0>,\n",
       " <matplotlib.lines.Line2D at 0x7fc9f60b7fd0>,\n",
       " <matplotlib.lines.Line2D at 0x7fc9f60bc130>,\n",
       " <matplotlib.lines.Line2D at 0x7fc9f60bc250>,\n",
       " <matplotlib.lines.Line2D at 0x7fc9f60bc370>,\n",
       " <matplotlib.lines.Line2D at 0x7fc9f60bc490>,\n",
       " <matplotlib.lines.Line2D at 0x7fc9f60bc5b0>,\n",
       " <matplotlib.lines.Line2D at 0x7fc9f60bc6d0>,\n",
       " <matplotlib.lines.Line2D at 0x7fc9f60bc7f0>,\n",
       " <matplotlib.lines.Line2D at 0x7fc9f60bc910>,\n",
       " <matplotlib.lines.Line2D at 0x7fc9f60bca30>,\n",
       " <matplotlib.lines.Line2D at 0x7fc9f60bcb50>,\n",
       " <matplotlib.lines.Line2D at 0x7fc9f60bcc70>,\n",
       " <matplotlib.lines.Line2D at 0x7fc9f60bcd90>,\n",
       " <matplotlib.lines.Line2D at 0x7fc9f60bceb0>,\n",
       " <matplotlib.lines.Line2D at 0x7fc9f60bcfd0>,\n",
       " <matplotlib.lines.Line2D at 0x7fc9f60c2130>,\n",
       " <matplotlib.lines.Line2D at 0x7fc9f60c2250>,\n",
       " <matplotlib.lines.Line2D at 0x7fc9f60c2370>,\n",
       " <matplotlib.lines.Line2D at 0x7fc9f60c2490>,\n",
       " <matplotlib.lines.Line2D at 0x7fc9f60c25b0>,\n",
       " <matplotlib.lines.Line2D at 0x7fc9f60c26d0>,\n",
       " <matplotlib.lines.Line2D at 0x7fc9f60c27f0>,\n",
       " <matplotlib.lines.Line2D at 0x7fc9f60c2910>,\n",
       " <matplotlib.lines.Line2D at 0x7fc9f60c2a30>,\n",
       " <matplotlib.lines.Line2D at 0x7fc9f60c2b50>,\n",
       " <matplotlib.lines.Line2D at 0x7fc9f60c2c70>,\n",
       " <matplotlib.lines.Line2D at 0x7fc9f60c2d90>,\n",
       " <matplotlib.lines.Line2D at 0x7fc9f60c2eb0>,\n",
       " <matplotlib.lines.Line2D at 0x7fc9f60c2fd0>,\n",
       " <matplotlib.lines.Line2D at 0x7fc9f60c7130>,\n",
       " <matplotlib.lines.Line2D at 0x7fc9f60c7250>,\n",
       " <matplotlib.lines.Line2D at 0x7fc9f60c7370>,\n",
       " <matplotlib.lines.Line2D at 0x7fc9f60c7490>,\n",
       " <matplotlib.lines.Line2D at 0x7fc9f60c75b0>,\n",
       " <matplotlib.lines.Line2D at 0x7fc9f60c76d0>,\n",
       " <matplotlib.lines.Line2D at 0x7fc9f60c77f0>,\n",
       " <matplotlib.lines.Line2D at 0x7fc9f60c7910>,\n",
       " <matplotlib.lines.Line2D at 0x7fc9f60c7a30>,\n",
       " <matplotlib.lines.Line2D at 0x7fc9f60c7b50>,\n",
       " <matplotlib.lines.Line2D at 0x7fc9f60c7c70>,\n",
       " <matplotlib.lines.Line2D at 0x7fc9f60c7d90>,\n",
       " <matplotlib.lines.Line2D at 0x7fc9f60c7eb0>,\n",
       " <matplotlib.lines.Line2D at 0x7fc9f60c7fd0>,\n",
       " <matplotlib.lines.Line2D at 0x7fc9f60ce130>,\n",
       " <matplotlib.lines.Line2D at 0x7fc9f60ce250>,\n",
       " <matplotlib.lines.Line2D at 0x7fc9f60ce370>,\n",
       " <matplotlib.lines.Line2D at 0x7fc9f60ce490>,\n",
       " <matplotlib.lines.Line2D at 0x7fc9f60ce5b0>,\n",
       " <matplotlib.lines.Line2D at 0x7fc9f60ce6d0>,\n",
       " <matplotlib.lines.Line2D at 0x7fc9f60ce7f0>,\n",
       " <matplotlib.lines.Line2D at 0x7fc9f60ce910>,\n",
       " <matplotlib.lines.Line2D at 0x7fc9f60cea30>,\n",
       " <matplotlib.lines.Line2D at 0x7fc9f60ceb50>,\n",
       " <matplotlib.lines.Line2D at 0x7fc9f60cec70>,\n",
       " <matplotlib.lines.Line2D at 0x7fc9f60ced90>,\n",
       " <matplotlib.lines.Line2D at 0x7fc9f60ceeb0>,\n",
       " <matplotlib.lines.Line2D at 0x7fc9f60cefd0>,\n",
       " <matplotlib.lines.Line2D at 0x7fc9f60d3130>,\n",
       " <matplotlib.lines.Line2D at 0x7fc9f60d3250>,\n",
       " <matplotlib.lines.Line2D at 0x7fc9f60d3370>,\n",
       " <matplotlib.lines.Line2D at 0x7fc9f60d3490>,\n",
       " <matplotlib.lines.Line2D at 0x7fc9f60d35b0>,\n",
       " <matplotlib.lines.Line2D at 0x7fc9f60d36d0>,\n",
       " <matplotlib.lines.Line2D at 0x7fc9f60d37f0>,\n",
       " <matplotlib.lines.Line2D at 0x7fc9f60d3910>,\n",
       " <matplotlib.lines.Line2D at 0x7fc9f60d3a30>,\n",
       " <matplotlib.lines.Line2D at 0x7fc9f60d3b50>,\n",
       " <matplotlib.lines.Line2D at 0x7fc9f60d3c70>,\n",
       " <matplotlib.lines.Line2D at 0x7fc9f60d3d90>,\n",
       " <matplotlib.lines.Line2D at 0x7fc9f60d3eb0>,\n",
       " <matplotlib.lines.Line2D at 0x7fc9f60d3fd0>,\n",
       " <matplotlib.lines.Line2D at 0x7fc9f60d8130>,\n",
       " <matplotlib.lines.Line2D at 0x7fc9f60d8250>,\n",
       " <matplotlib.lines.Line2D at 0x7fc9f60d8370>,\n",
       " <matplotlib.lines.Line2D at 0x7fc9f60d8490>,\n",
       " <matplotlib.lines.Line2D at 0x7fc9f60d85b0>,\n",
       " <matplotlib.lines.Line2D at 0x7fc9f60d86d0>,\n",
       " <matplotlib.lines.Line2D at 0x7fc9f60d87f0>,\n",
       " <matplotlib.lines.Line2D at 0x7fc9f60d8910>,\n",
       " <matplotlib.lines.Line2D at 0x7fc9f60d8a30>,\n",
       " <matplotlib.lines.Line2D at 0x7fc9f60d8b50>,\n",
       " <matplotlib.lines.Line2D at 0x7fc9f60d8c70>,\n",
       " <matplotlib.lines.Line2D at 0x7fc9f60d8d90>,\n",
       " <matplotlib.lines.Line2D at 0x7fc9f60d8eb0>,\n",
       " <matplotlib.lines.Line2D at 0x7fc9f60d8fd0>,\n",
       " <matplotlib.lines.Line2D at 0x7fc9f60df130>,\n",
       " <matplotlib.lines.Line2D at 0x7fc9f60df250>,\n",
       " <matplotlib.lines.Line2D at 0x7fc9f60df370>,\n",
       " <matplotlib.lines.Line2D at 0x7fc9f60df490>,\n",
       " <matplotlib.lines.Line2D at 0x7fc9f60df5b0>,\n",
       " <matplotlib.lines.Line2D at 0x7fc9f60df6d0>,\n",
       " <matplotlib.lines.Line2D at 0x7fc9f60df7f0>,\n",
       " <matplotlib.lines.Line2D at 0x7fc9f60df910>,\n",
       " <matplotlib.lines.Line2D at 0x7fc9f60dfa30>,\n",
       " <matplotlib.lines.Line2D at 0x7fc9f60dfb50>,\n",
       " <matplotlib.lines.Line2D at 0x7fc9f60dfc70>,\n",
       " <matplotlib.lines.Line2D at 0x7fc9f60dfd90>,\n",
       " <matplotlib.lines.Line2D at 0x7fc9f60dfeb0>,\n",
       " <matplotlib.lines.Line2D at 0x7fc9f60dffd0>,\n",
       " <matplotlib.lines.Line2D at 0x7fc9f6023130>,\n",
       " <matplotlib.lines.Line2D at 0x7fc9f6023250>,\n",
       " <matplotlib.lines.Line2D at 0x7fc9f6023370>,\n",
       " <matplotlib.lines.Line2D at 0x7fc9f6023490>,\n",
       " <matplotlib.lines.Line2D at 0x7fc9f60235b0>,\n",
       " <matplotlib.lines.Line2D at 0x7fc9f60236d0>,\n",
       " <matplotlib.lines.Line2D at 0x7fc9f60237f0>,\n",
       " <matplotlib.lines.Line2D at 0x7fc9f6023910>,\n",
       " <matplotlib.lines.Line2D at 0x7fc9f6023a30>,\n",
       " <matplotlib.lines.Line2D at 0x7fc9f6023b50>,\n",
       " <matplotlib.lines.Line2D at 0x7fc9f6023c70>,\n",
       " <matplotlib.lines.Line2D at 0x7fc9f6023d90>,\n",
       " <matplotlib.lines.Line2D at 0x7fc9f6023eb0>,\n",
       " <matplotlib.lines.Line2D at 0x7fc9f6023fd0>,\n",
       " <matplotlib.lines.Line2D at 0x7fc9f602b130>,\n",
       " <matplotlib.lines.Line2D at 0x7fc9f602b250>,\n",
       " <matplotlib.lines.Line2D at 0x7fc9f602b370>,\n",
       " <matplotlib.lines.Line2D at 0x7fc9f602b490>,\n",
       " <matplotlib.lines.Line2D at 0x7fc9f602b5b0>,\n",
       " <matplotlib.lines.Line2D at 0x7fc9f602b6d0>,\n",
       " <matplotlib.lines.Line2D at 0x7fc9f602b7f0>,\n",
       " <matplotlib.lines.Line2D at 0x7fc9f602b910>,\n",
       " <matplotlib.lines.Line2D at 0x7fc9f6066160>,\n",
       " <matplotlib.lines.Line2D at 0x7fc9f6066190>,\n",
       " <matplotlib.lines.Line2D at 0x7fc9f602bbe0>,\n",
       " <matplotlib.lines.Line2D at 0x7fc9f602bd00>,\n",
       " <matplotlib.lines.Line2D at 0x7fc9f602be20>,\n",
       " <matplotlib.lines.Line2D at 0x7fc9f602bf40>,\n",
       " <matplotlib.lines.Line2D at 0x7fc9f60310a0>,\n",
       " <matplotlib.lines.Line2D at 0x7fc9f60311c0>,\n",
       " <matplotlib.lines.Line2D at 0x7fc9f60312e0>,\n",
       " <matplotlib.lines.Line2D at 0x7fc9f6031400>,\n",
       " <matplotlib.lines.Line2D at 0x7fc9f6031520>,\n",
       " <matplotlib.lines.Line2D at 0x7fc9f6031640>,\n",
       " <matplotlib.lines.Line2D at 0x7fc9f6031760>,\n",
       " <matplotlib.lines.Line2D at 0x7fc9f6031880>,\n",
       " <matplotlib.lines.Line2D at 0x7fc9f60319a0>,\n",
       " <matplotlib.lines.Line2D at 0x7fc9f6031ac0>,\n",
       " <matplotlib.lines.Line2D at 0x7fc9f6031be0>,\n",
       " <matplotlib.lines.Line2D at 0x7fc9f6031d00>,\n",
       " <matplotlib.lines.Line2D at 0x7fc9f6031e20>,\n",
       " <matplotlib.lines.Line2D at 0x7fc9f6031f40>,\n",
       " <matplotlib.lines.Line2D at 0x7fc9f60350a0>,\n",
       " <matplotlib.lines.Line2D at 0x7fc9f60351c0>,\n",
       " <matplotlib.lines.Line2D at 0x7fc9f60352e0>,\n",
       " <matplotlib.lines.Line2D at 0x7fc9f6035400>,\n",
       " <matplotlib.lines.Line2D at 0x7fc9f6035520>,\n",
       " <matplotlib.lines.Line2D at 0x7fc9f6035640>,\n",
       " <matplotlib.lines.Line2D at 0x7fc9f6035760>,\n",
       " <matplotlib.lines.Line2D at 0x7fc9f6035880>,\n",
       " <matplotlib.lines.Line2D at 0x7fc9f60359a0>,\n",
       " <matplotlib.lines.Line2D at 0x7fc9f6035ac0>,\n",
       " <matplotlib.lines.Line2D at 0x7fc9f6035be0>,\n",
       " <matplotlib.lines.Line2D at 0x7fc9f6035d00>,\n",
       " <matplotlib.lines.Line2D at 0x7fc9f6035e20>,\n",
       " <matplotlib.lines.Line2D at 0x7fc9f6035f40>,\n",
       " <matplotlib.lines.Line2D at 0x7fc9f603a0a0>,\n",
       " <matplotlib.lines.Line2D at 0x7fc9f603a1c0>,\n",
       " <matplotlib.lines.Line2D at 0x7fc9f603a2e0>,\n",
       " <matplotlib.lines.Line2D at 0x7fc9f603a400>,\n",
       " <matplotlib.lines.Line2D at 0x7fc9f603a520>,\n",
       " <matplotlib.lines.Line2D at 0x7fc9f603a640>,\n",
       " <matplotlib.lines.Line2D at 0x7fc9f603a760>,\n",
       " <matplotlib.lines.Line2D at 0x7fc9f603a880>,\n",
       " <matplotlib.lines.Line2D at 0x7fc9f603a9a0>,\n",
       " <matplotlib.lines.Line2D at 0x7fc9f603aac0>,\n",
       " <matplotlib.lines.Line2D at 0x7fc9f603abe0>,\n",
       " <matplotlib.lines.Line2D at 0x7fc9f603ad00>,\n",
       " <matplotlib.lines.Line2D at 0x7fc9f603ae20>,\n",
       " <matplotlib.lines.Line2D at 0x7fc9f603af40>,\n",
       " <matplotlib.lines.Line2D at 0x7fc9f60410a0>,\n",
       " <matplotlib.lines.Line2D at 0x7fc9f60411c0>,\n",
       " <matplotlib.lines.Line2D at 0x7fc9f60412e0>,\n",
       " <matplotlib.lines.Line2D at 0x7fc9f6041400>,\n",
       " <matplotlib.lines.Line2D at 0x7fc9f6041520>,\n",
       " <matplotlib.lines.Line2D at 0x7fc9f6041640>,\n",
       " <matplotlib.lines.Line2D at 0x7fc9f6041760>,\n",
       " <matplotlib.lines.Line2D at 0x7fc9f6041880>,\n",
       " <matplotlib.lines.Line2D at 0x7fc9f60419a0>,\n",
       " <matplotlib.lines.Line2D at 0x7fc9f6041ac0>,\n",
       " <matplotlib.lines.Line2D at 0x7fc9f6041be0>,\n",
       " <matplotlib.lines.Line2D at 0x7fc9f6041d00>,\n",
       " <matplotlib.lines.Line2D at 0x7fc9f6041e20>,\n",
       " <matplotlib.lines.Line2D at 0x7fc9f6041f40>,\n",
       " <matplotlib.lines.Line2D at 0x7fc9f60470a0>,\n",
       " <matplotlib.lines.Line2D at 0x7fc9f60471c0>,\n",
       " <matplotlib.lines.Line2D at 0x7fc9f60472e0>,\n",
       " <matplotlib.lines.Line2D at 0x7fc9f6047400>,\n",
       " <matplotlib.lines.Line2D at 0x7fc9f6047520>,\n",
       " <matplotlib.lines.Line2D at 0x7fc9f6047640>,\n",
       " <matplotlib.lines.Line2D at 0x7fc9f6047760>,\n",
       " <matplotlib.lines.Line2D at 0x7fc9f6047880>,\n",
       " <matplotlib.lines.Line2D at 0x7fc9f60479a0>,\n",
       " <matplotlib.lines.Line2D at 0x7fc9f6047ac0>,\n",
       " <matplotlib.lines.Line2D at 0x7fc9f6047be0>,\n",
       " <matplotlib.lines.Line2D at 0x7fc9f6047d00>,\n",
       " <matplotlib.lines.Line2D at 0x7fc9f6047e20>,\n",
       " <matplotlib.lines.Line2D at 0x7fc9f6047f40>,\n",
       " <matplotlib.lines.Line2D at 0x7fc9f604c0a0>,\n",
       " <matplotlib.lines.Line2D at 0x7fc9f604c1c0>,\n",
       " <matplotlib.lines.Line2D at 0x7fc9f604c2e0>,\n",
       " <matplotlib.lines.Line2D at 0x7fc9f604c400>,\n",
       " <matplotlib.lines.Line2D at 0x7fc9f604c520>,\n",
       " <matplotlib.lines.Line2D at 0x7fc9f604c640>,\n",
       " <matplotlib.lines.Line2D at 0x7fc9f604c760>,\n",
       " <matplotlib.lines.Line2D at 0x7fc9f604c880>,\n",
       " <matplotlib.lines.Line2D at 0x7fc9f604c9a0>,\n",
       " <matplotlib.lines.Line2D at 0x7fc9f604cac0>,\n",
       " <matplotlib.lines.Line2D at 0x7fc9f604cbe0>,\n",
       " <matplotlib.lines.Line2D at 0x7fc9f604cd00>,\n",
       " <matplotlib.lines.Line2D at 0x7fc9f604ce20>,\n",
       " <matplotlib.lines.Line2D at 0x7fc9f604cf40>,\n",
       " <matplotlib.lines.Line2D at 0x7fc9f60520a0>,\n",
       " <matplotlib.lines.Line2D at 0x7fc9f60521c0>,\n",
       " <matplotlib.lines.Line2D at 0x7fc9f60522e0>,\n",
       " <matplotlib.lines.Line2D at 0x7fc9f6052400>,\n",
       " <matplotlib.lines.Line2D at 0x7fc9f6052520>,\n",
       " <matplotlib.lines.Line2D at 0x7fc9f6052640>,\n",
       " <matplotlib.lines.Line2D at 0x7fc9f6052760>,\n",
       " <matplotlib.lines.Line2D at 0x7fc9f6052880>,\n",
       " <matplotlib.lines.Line2D at 0x7fc9f60529a0>,\n",
       " <matplotlib.lines.Line2D at 0x7fc9f6052ac0>,\n",
       " <matplotlib.lines.Line2D at 0x7fc9f6052be0>,\n",
       " <matplotlib.lines.Line2D at 0x7fc9f6052d00>,\n",
       " <matplotlib.lines.Line2D at 0x7fc9f6052e20>,\n",
       " <matplotlib.lines.Line2D at 0x7fc9f6052f40>,\n",
       " <matplotlib.lines.Line2D at 0x7fc9f60570a0>,\n",
       " <matplotlib.lines.Line2D at 0x7fc9f60571c0>,\n",
       " <matplotlib.lines.Line2D at 0x7fc9f60572e0>,\n",
       " <matplotlib.lines.Line2D at 0x7fc9f6057400>,\n",
       " <matplotlib.lines.Line2D at 0x7fc9f6057520>,\n",
       " <matplotlib.lines.Line2D at 0x7fc9f6057640>,\n",
       " <matplotlib.lines.Line2D at 0x7fc9f6057760>,\n",
       " <matplotlib.lines.Line2D at 0x7fc9f6057880>,\n",
       " <matplotlib.lines.Line2D at 0x7fc9f60579a0>,\n",
       " <matplotlib.lines.Line2D at 0x7fc9f6057ac0>,\n",
       " <matplotlib.lines.Line2D at 0x7fc9f6057be0>,\n",
       " <matplotlib.lines.Line2D at 0x7fc9f6057d00>,\n",
       " <matplotlib.lines.Line2D at 0x7fc9f6057e20>,\n",
       " <matplotlib.lines.Line2D at 0x7fc9f6057f40>,\n",
       " <matplotlib.lines.Line2D at 0x7fc9f605d0a0>,\n",
       " <matplotlib.lines.Line2D at 0x7fc9f605d1c0>,\n",
       " <matplotlib.lines.Line2D at 0x7fc9f605d2e0>,\n",
       " <matplotlib.lines.Line2D at 0x7fc9f605d400>,\n",
       " <matplotlib.lines.Line2D at 0x7fc9f605d520>,\n",
       " <matplotlib.lines.Line2D at 0x7fc9f605d640>,\n",
       " <matplotlib.lines.Line2D at 0x7fc9f605d760>,\n",
       " <matplotlib.lines.Line2D at 0x7fc9f605d880>,\n",
       " <matplotlib.lines.Line2D at 0x7fc9f605d9a0>,\n",
       " <matplotlib.lines.Line2D at 0x7fc9f605dac0>,\n",
       " <matplotlib.lines.Line2D at 0x7fc9f605dbe0>,\n",
       " <matplotlib.lines.Line2D at 0x7fc9f605dd00>,\n",
       " <matplotlib.lines.Line2D at 0x7fc9f605de20>,\n",
       " <matplotlib.lines.Line2D at 0x7fc9f605df40>,\n",
       " <matplotlib.lines.Line2D at 0x7fc9f5fe40a0>,\n",
       " <matplotlib.lines.Line2D at 0x7fc9f5fe41c0>,\n",
       " <matplotlib.lines.Line2D at 0x7fc9f5fe42e0>,\n",
       " <matplotlib.lines.Line2D at 0x7fc9f5fe4400>,\n",
       " <matplotlib.lines.Line2D at 0x7fc9f5fe4520>,\n",
       " <matplotlib.lines.Line2D at 0x7fc9f5fe4640>,\n",
       " <matplotlib.lines.Line2D at 0x7fc9f5fe4760>,\n",
       " <matplotlib.lines.Line2D at 0x7fc9f5fe4880>,\n",
       " <matplotlib.lines.Line2D at 0x7fc9f5fe49a0>,\n",
       " <matplotlib.lines.Line2D at 0x7fc9f5fe4ac0>,\n",
       " <matplotlib.lines.Line2D at 0x7fc9f5fe4be0>,\n",
       " <matplotlib.lines.Line2D at 0x7fc9f5fe4d00>,\n",
       " <matplotlib.lines.Line2D at 0x7fc9f5fe4e20>,\n",
       " <matplotlib.lines.Line2D at 0x7fc9f5fe4f40>,\n",
       " <matplotlib.lines.Line2D at 0x7fc9f5fe90a0>,\n",
       " <matplotlib.lines.Line2D at 0x7fc9f5fe91c0>,\n",
       " <matplotlib.lines.Line2D at 0x7fc9f5fe92e0>,\n",
       " <matplotlib.lines.Line2D at 0x7fc9f5fe9400>,\n",
       " <matplotlib.lines.Line2D at 0x7fc9f5fe9520>,\n",
       " <matplotlib.lines.Line2D at 0x7fc9f5fe9640>,\n",
       " <matplotlib.lines.Line2D at 0x7fc9f5fe9760>,\n",
       " <matplotlib.lines.Line2D at 0x7fc9f5fe9880>,\n",
       " <matplotlib.lines.Line2D at 0x7fc9f5fe99a0>,\n",
       " <matplotlib.lines.Line2D at 0x7fc9f5fe9ac0>,\n",
       " <matplotlib.lines.Line2D at 0x7fc9f5fe9be0>,\n",
       " <matplotlib.lines.Line2D at 0x7fc9f5fe9d00>,\n",
       " <matplotlib.lines.Line2D at 0x7fc9f5fe9e20>,\n",
       " <matplotlib.lines.Line2D at 0x7fc9f5fe9f40>,\n",
       " <matplotlib.lines.Line2D at 0x7fc9f5fed0a0>,\n",
       " <matplotlib.lines.Line2D at 0x7fc9f5fed1c0>,\n",
       " <matplotlib.lines.Line2D at 0x7fc9f5fed2e0>,\n",
       " <matplotlib.lines.Line2D at 0x7fc9f5fed400>,\n",
       " <matplotlib.lines.Line2D at 0x7fc9f5fed520>,\n",
       " <matplotlib.lines.Line2D at 0x7fc9f5fed640>,\n",
       " <matplotlib.lines.Line2D at 0x7fc9f5fed760>,\n",
       " <matplotlib.lines.Line2D at 0x7fc9f5fed880>,\n",
       " <matplotlib.lines.Line2D at 0x7fc9f5fed9a0>,\n",
       " <matplotlib.lines.Line2D at 0x7fc9f5fedac0>,\n",
       " <matplotlib.lines.Line2D at 0x7fc9f5fedbe0>,\n",
       " <matplotlib.lines.Line2D at 0x7fc9f5fedd00>,\n",
       " <matplotlib.lines.Line2D at 0x7fc9f5fede20>,\n",
       " <matplotlib.lines.Line2D at 0x7fc9f5fedf40>,\n",
       " <matplotlib.lines.Line2D at 0x7fc9f5ff50a0>,\n",
       " <matplotlib.lines.Line2D at 0x7fc9f5ff51c0>,\n",
       " <matplotlib.lines.Line2D at 0x7fc9f5ff52e0>,\n",
       " <matplotlib.lines.Line2D at 0x7fc9f5ff5400>,\n",
       " <matplotlib.lines.Line2D at 0x7fc9f5ff5520>,\n",
       " <matplotlib.lines.Line2D at 0x7fc9f5ff5640>,\n",
       " <matplotlib.lines.Line2D at 0x7fc9f5ff5760>,\n",
       " <matplotlib.lines.Line2D at 0x7fc9f5ff5880>,\n",
       " <matplotlib.lines.Line2D at 0x7fc9f5ff59a0>,\n",
       " <matplotlib.lines.Line2D at 0x7fc9f5ff5ac0>,\n",
       " <matplotlib.lines.Line2D at 0x7fc9f5ff5be0>,\n",
       " <matplotlib.lines.Line2D at 0x7fc9f5ff5d00>,\n",
       " <matplotlib.lines.Line2D at 0x7fc9f5ff5e20>,\n",
       " <matplotlib.lines.Line2D at 0x7fc9f5ff5f40>,\n",
       " <matplotlib.lines.Line2D at 0x7fc9f5ffa0a0>,\n",
       " <matplotlib.lines.Line2D at 0x7fc9f5ffa1c0>,\n",
       " <matplotlib.lines.Line2D at 0x7fc9f5ffa2e0>,\n",
       " <matplotlib.lines.Line2D at 0x7fc9f5ffa400>,\n",
       " <matplotlib.lines.Line2D at 0x7fc9f5ffa520>,\n",
       " <matplotlib.lines.Line2D at 0x7fc9f5ffa640>,\n",
       " <matplotlib.lines.Line2D at 0x7fc9f5ffa760>,\n",
       " <matplotlib.lines.Line2D at 0x7fc9f5ffa880>,\n",
       " <matplotlib.lines.Line2D at 0x7fc9f5ffa9a0>,\n",
       " <matplotlib.lines.Line2D at 0x7fc9f5ffaac0>,\n",
       " <matplotlib.lines.Line2D at 0x7fc9f5ffabe0>,\n",
       " <matplotlib.lines.Line2D at 0x7fc9f5ffad00>,\n",
       " <matplotlib.lines.Line2D at 0x7fc9f5ffae20>,\n",
       " <matplotlib.lines.Line2D at 0x7fc9f5ffaf40>,\n",
       " <matplotlib.lines.Line2D at 0x7fc9f5ffe0a0>,\n",
       " <matplotlib.lines.Line2D at 0x7fc9f5ffe1c0>,\n",
       " <matplotlib.lines.Line2D at 0x7fc9f5ffe2e0>,\n",
       " <matplotlib.lines.Line2D at 0x7fc9f5ffe400>,\n",
       " <matplotlib.lines.Line2D at 0x7fc9f5ffe520>,\n",
       " <matplotlib.lines.Line2D at 0x7fc9f5ffe640>,\n",
       " <matplotlib.lines.Line2D at 0x7fc9f5ffe760>,\n",
       " <matplotlib.lines.Line2D at 0x7fc9f5ffe880>,\n",
       " <matplotlib.lines.Line2D at 0x7fc9f5ffe9a0>,\n",
       " <matplotlib.lines.Line2D at 0x7fc9f5ffeac0>,\n",
       " <matplotlib.lines.Line2D at 0x7fc9f5ffebe0>,\n",
       " <matplotlib.lines.Line2D at 0x7fc9f5ffed00>,\n",
       " <matplotlib.lines.Line2D at 0x7fc9f5ffee20>,\n",
       " <matplotlib.lines.Line2D at 0x7fc9f5ffef40>,\n",
       " <matplotlib.lines.Line2D at 0x7fc9f60060a0>,\n",
       " <matplotlib.lines.Line2D at 0x7fc9f60061c0>,\n",
       " <matplotlib.lines.Line2D at 0x7fc9f60062e0>,\n",
       " <matplotlib.lines.Line2D at 0x7fc9f6006400>,\n",
       " <matplotlib.lines.Line2D at 0x7fc9f6006520>,\n",
       " <matplotlib.lines.Line2D at 0x7fc9f6006640>,\n",
       " <matplotlib.lines.Line2D at 0x7fc9f6006760>,\n",
       " <matplotlib.lines.Line2D at 0x7fc9f6006880>,\n",
       " <matplotlib.lines.Line2D at 0x7fc9f60069a0>,\n",
       " <matplotlib.lines.Line2D at 0x7fc9f6006ac0>,\n",
       " <matplotlib.lines.Line2D at 0x7fc9f6006be0>,\n",
       " <matplotlib.lines.Line2D at 0x7fc9f6006d00>,\n",
       " <matplotlib.lines.Line2D at 0x7fc9f6006e20>,\n",
       " <matplotlib.lines.Line2D at 0x7fc9f6006f40>,\n",
       " <matplotlib.lines.Line2D at 0x7fc9f600b0a0>,\n",
       " <matplotlib.lines.Line2D at 0x7fc9f600b1c0>,\n",
       " <matplotlib.lines.Line2D at 0x7fc9f600b2e0>,\n",
       " <matplotlib.lines.Line2D at 0x7fc9f600b400>,\n",
       " <matplotlib.lines.Line2D at 0x7fc9f600b520>,\n",
       " <matplotlib.lines.Line2D at 0x7fc9f600b640>,\n",
       " <matplotlib.lines.Line2D at 0x7fc9f600b760>,\n",
       " <matplotlib.lines.Line2D at 0x7fc9f600b880>,\n",
       " <matplotlib.lines.Line2D at 0x7fc9f600b9a0>,\n",
       " <matplotlib.lines.Line2D at 0x7fc9f600bac0>,\n",
       " <matplotlib.lines.Line2D at 0x7fc9f600bbe0>,\n",
       " <matplotlib.lines.Line2D at 0x7fc9f600bd00>,\n",
       " <matplotlib.lines.Line2D at 0x7fc9f600be20>,\n",
       " <matplotlib.lines.Line2D at 0x7fc9f600bf40>,\n",
       " <matplotlib.lines.Line2D at 0x7fc9f60110a0>,\n",
       " <matplotlib.lines.Line2D at 0x7fc9f60111c0>,\n",
       " <matplotlib.lines.Line2D at 0x7fc9f60112e0>,\n",
       " <matplotlib.lines.Line2D at 0x7fc9f6011400>,\n",
       " <matplotlib.lines.Line2D at 0x7fc9f6011520>,\n",
       " <matplotlib.lines.Line2D at 0x7fc9f6011640>,\n",
       " <matplotlib.lines.Line2D at 0x7fc9f6011760>,\n",
       " <matplotlib.lines.Line2D at 0x7fc9f6011880>,\n",
       " <matplotlib.lines.Line2D at 0x7fc9f60119a0>,\n",
       " <matplotlib.lines.Line2D at 0x7fc9f6011ac0>,\n",
       " <matplotlib.lines.Line2D at 0x7fc9f6011be0>,\n",
       " <matplotlib.lines.Line2D at 0x7fc9f6011d00>,\n",
       " <matplotlib.lines.Line2D at 0x7fc9f6011e20>,\n",
       " <matplotlib.lines.Line2D at 0x7fc9f6011f40>,\n",
       " <matplotlib.lines.Line2D at 0x7fc9f60180a0>,\n",
       " <matplotlib.lines.Line2D at 0x7fc9f60181c0>,\n",
       " <matplotlib.lines.Line2D at 0x7fc9f60182e0>,\n",
       " <matplotlib.lines.Line2D at 0x7fc9f6018400>,\n",
       " <matplotlib.lines.Line2D at 0x7fc9f6018520>,\n",
       " <matplotlib.lines.Line2D at 0x7fc9f6018640>,\n",
       " <matplotlib.lines.Line2D at 0x7fc9f6018760>,\n",
       " <matplotlib.lines.Line2D at 0x7fc9f6018880>,\n",
       " <matplotlib.lines.Line2D at 0x7fc9f60189a0>,\n",
       " <matplotlib.lines.Line2D at 0x7fc9f6018ac0>,\n",
       " <matplotlib.lines.Line2D at 0x7fc9f6018be0>,\n",
       " <matplotlib.lines.Line2D at 0x7fc9f6018d00>,\n",
       " <matplotlib.lines.Line2D at 0x7fc9f6018e20>,\n",
       " <matplotlib.lines.Line2D at 0x7fc9f6018f40>,\n",
       " <matplotlib.lines.Line2D at 0x7fc9f601c0a0>,\n",
       " <matplotlib.lines.Line2D at 0x7fc9f601c1c0>,\n",
       " <matplotlib.lines.Line2D at 0x7fc9f601c2e0>,\n",
       " <matplotlib.lines.Line2D at 0x7fc9f601c400>,\n",
       " <matplotlib.lines.Line2D at 0x7fc9f601c520>,\n",
       " <matplotlib.lines.Line2D at 0x7fc9f601c640>,\n",
       " <matplotlib.lines.Line2D at 0x7fc9f601c760>,\n",
       " <matplotlib.lines.Line2D at 0x7fc9f601c880>,\n",
       " <matplotlib.lines.Line2D at 0x7fc9f601c9a0>,\n",
       " <matplotlib.lines.Line2D at 0x7fc9f601cac0>,\n",
       " <matplotlib.lines.Line2D at 0x7fc9f601cbe0>,\n",
       " <matplotlib.lines.Line2D at 0x7fc9f601cd00>,\n",
       " <matplotlib.lines.Line2D at 0x7fc9f601ce20>,\n",
       " <matplotlib.lines.Line2D at 0x7fc9f601cf40>,\n",
       " <matplotlib.lines.Line2D at 0x7fc9f5fa30a0>,\n",
       " <matplotlib.lines.Line2D at 0x7fc9f5fa31c0>,\n",
       " <matplotlib.lines.Line2D at 0x7fc9f5fa32e0>,\n",
       " <matplotlib.lines.Line2D at 0x7fc9f5fa3400>,\n",
       " <matplotlib.lines.Line2D at 0x7fc9f5fa3520>,\n",
       " <matplotlib.lines.Line2D at 0x7fc9f5fa3640>,\n",
       " <matplotlib.lines.Line2D at 0x7fc9f5fa3760>,\n",
       " <matplotlib.lines.Line2D at 0x7fc9f5fa3880>,\n",
       " <matplotlib.lines.Line2D at 0x7fc9f5fa39a0>,\n",
       " <matplotlib.lines.Line2D at 0x7fc9f5fa3ac0>,\n",
       " <matplotlib.lines.Line2D at 0x7fc9f5fa3be0>,\n",
       " <matplotlib.lines.Line2D at 0x7fc9f5fa3d00>,\n",
       " <matplotlib.lines.Line2D at 0x7fc9f5fa3e20>,\n",
       " <matplotlib.lines.Line2D at 0x7fc9f5fa3f40>,\n",
       " <matplotlib.lines.Line2D at 0x7fc9f5fa80a0>,\n",
       " <matplotlib.lines.Line2D at 0x7fc9f5fa81c0>,\n",
       " <matplotlib.lines.Line2D at 0x7fc9f5fa82e0>,\n",
       " <matplotlib.lines.Line2D at 0x7fc9f5fa8400>,\n",
       " <matplotlib.lines.Line2D at 0x7fc9f5fa8520>,\n",
       " <matplotlib.lines.Line2D at 0x7fc9f5fa8640>,\n",
       " <matplotlib.lines.Line2D at 0x7fc9f5fa8760>,\n",
       " <matplotlib.lines.Line2D at 0x7fc9f5fa8880>,\n",
       " <matplotlib.lines.Line2D at 0x7fc9f5fa89a0>,\n",
       " <matplotlib.lines.Line2D at 0x7fc9f5fa8ac0>,\n",
       " <matplotlib.lines.Line2D at 0x7fc9f5fa8be0>,\n",
       " <matplotlib.lines.Line2D at 0x7fc9f5fa8d00>,\n",
       " <matplotlib.lines.Line2D at 0x7fc9f5fa8e20>,\n",
       " <matplotlib.lines.Line2D at 0x7fc9f5fa8f40>,\n",
       " <matplotlib.lines.Line2D at 0x7fc9f5fae0a0>,\n",
       " <matplotlib.lines.Line2D at 0x7fc9f5fae1c0>,\n",
       " <matplotlib.lines.Line2D at 0x7fc9f5fae2e0>,\n",
       " <matplotlib.lines.Line2D at 0x7fc9f5fae400>,\n",
       " <matplotlib.lines.Line2D at 0x7fc9f5fae520>,\n",
       " <matplotlib.lines.Line2D at 0x7fc9f5fae640>,\n",
       " <matplotlib.lines.Line2D at 0x7fc9f5fae760>,\n",
       " <matplotlib.lines.Line2D at 0x7fc9f5fae880>,\n",
       " <matplotlib.lines.Line2D at 0x7fc9f5fae9a0>,\n",
       " <matplotlib.lines.Line2D at 0x7fc9f5faeac0>,\n",
       " <matplotlib.lines.Line2D at 0x7fc9f5faebe0>,\n",
       " <matplotlib.lines.Line2D at 0x7fc9f5faed00>,\n",
       " <matplotlib.lines.Line2D at 0x7fc9f5faee20>,\n",
       " <matplotlib.lines.Line2D at 0x7fc9f5faef40>,\n",
       " <matplotlib.lines.Line2D at 0x7fc9f5fb30a0>,\n",
       " <matplotlib.lines.Line2D at 0x7fc9f5fb31c0>,\n",
       " <matplotlib.lines.Line2D at 0x7fc9f5fb32e0>,\n",
       " <matplotlib.lines.Line2D at 0x7fc9f5fb3400>,\n",
       " <matplotlib.lines.Line2D at 0x7fc9f5fb3520>,\n",
       " <matplotlib.lines.Line2D at 0x7fc9f5fb3640>,\n",
       " <matplotlib.lines.Line2D at 0x7fc9f5fb3760>,\n",
       " <matplotlib.lines.Line2D at 0x7fc9f5fb3880>,\n",
       " <matplotlib.lines.Line2D at 0x7fc9f5fb39a0>,\n",
       " <matplotlib.lines.Line2D at 0x7fc9f5fb3ac0>,\n",
       " <matplotlib.lines.Line2D at 0x7fc9f5fb3be0>,\n",
       " <matplotlib.lines.Line2D at 0x7fc9f5fb3d00>,\n",
       " <matplotlib.lines.Line2D at 0x7fc9f5fb3e20>,\n",
       " <matplotlib.lines.Line2D at 0x7fc9f5fb3f40>,\n",
       " <matplotlib.lines.Line2D at 0x7fc9f5fb90a0>,\n",
       " <matplotlib.lines.Line2D at 0x7fc9f5fb91c0>,\n",
       " <matplotlib.lines.Line2D at 0x7fc9f5fb92e0>,\n",
       " <matplotlib.lines.Line2D at 0x7fc9f5fb9400>,\n",
       " <matplotlib.lines.Line2D at 0x7fc9f5fb9520>,\n",
       " <matplotlib.lines.Line2D at 0x7fc9f5fb9640>,\n",
       " <matplotlib.lines.Line2D at 0x7fc9f5fb9760>,\n",
       " <matplotlib.lines.Line2D at 0x7fc9f5fb9880>,\n",
       " <matplotlib.lines.Line2D at 0x7fc9f5fb99a0>,\n",
       " <matplotlib.lines.Line2D at 0x7fc9f5fb9ac0>,\n",
       " <matplotlib.lines.Line2D at 0x7fc9f5fb9be0>,\n",
       " <matplotlib.lines.Line2D at 0x7fc9f5fb9d00>,\n",
       " <matplotlib.lines.Line2D at 0x7fc9f5fb9e20>,\n",
       " <matplotlib.lines.Line2D at 0x7fc9f5fb9f40>,\n",
       " <matplotlib.lines.Line2D at 0x7fc9f5fbe0a0>,\n",
       " <matplotlib.lines.Line2D at 0x7fc9f5fbe1c0>,\n",
       " <matplotlib.lines.Line2D at 0x7fc9f5fbe2e0>,\n",
       " <matplotlib.lines.Line2D at 0x7fc9f5fbe400>,\n",
       " <matplotlib.lines.Line2D at 0x7fc9f5fbe520>,\n",
       " <matplotlib.lines.Line2D at 0x7fc9f5fbe640>,\n",
       " <matplotlib.lines.Line2D at 0x7fc9f5fbe760>,\n",
       " <matplotlib.lines.Line2D at 0x7fc9f5fbe880>,\n",
       " <matplotlib.lines.Line2D at 0x7fc9f5fbe9a0>,\n",
       " <matplotlib.lines.Line2D at 0x7fc9f5fbeac0>,\n",
       " <matplotlib.lines.Line2D at 0x7fc9f5fbebe0>,\n",
       " <matplotlib.lines.Line2D at 0x7fc9f5fbed00>,\n",
       " <matplotlib.lines.Line2D at 0x7fc9f5fbee20>,\n",
       " <matplotlib.lines.Line2D at 0x7fc9f5fbef40>,\n",
       " <matplotlib.lines.Line2D at 0x7fc9f5fc40a0>,\n",
       " <matplotlib.lines.Line2D at 0x7fc9f5fc41c0>,\n",
       " <matplotlib.lines.Line2D at 0x7fc9f5fc42e0>,\n",
       " <matplotlib.lines.Line2D at 0x7fc9f5fc4400>,\n",
       " <matplotlib.lines.Line2D at 0x7fc9f5fc4520>,\n",
       " <matplotlib.lines.Line2D at 0x7fc9f5fc4640>,\n",
       " <matplotlib.lines.Line2D at 0x7fc9f5fc4760>,\n",
       " <matplotlib.lines.Line2D at 0x7fc9f5fc4880>,\n",
       " <matplotlib.lines.Line2D at 0x7fc9f5fc49a0>,\n",
       " <matplotlib.lines.Line2D at 0x7fc9f5fc4ac0>,\n",
       " <matplotlib.lines.Line2D at 0x7fc9f5fc4be0>,\n",
       " <matplotlib.lines.Line2D at 0x7fc9f5fc4d00>,\n",
       " <matplotlib.lines.Line2D at 0x7fc9f5fc4e20>,\n",
       " <matplotlib.lines.Line2D at 0x7fc9f5fc4f40>,\n",
       " <matplotlib.lines.Line2D at 0x7fc9f5fcb0a0>,\n",
       " <matplotlib.lines.Line2D at 0x7fc9f5fcb1c0>,\n",
       " <matplotlib.lines.Line2D at 0x7fc9f5fcb2e0>,\n",
       " <matplotlib.lines.Line2D at 0x7fc9f5fcb400>,\n",
       " <matplotlib.lines.Line2D at 0x7fc9f5fcb520>,\n",
       " <matplotlib.lines.Line2D at 0x7fc9f5fcb640>,\n",
       " <matplotlib.lines.Line2D at 0x7fc9f5fcb760>,\n",
       " <matplotlib.lines.Line2D at 0x7fc9f5fcb880>,\n",
       " <matplotlib.lines.Line2D at 0x7fc9f5fcb9a0>,\n",
       " <matplotlib.lines.Line2D at 0x7fc9f5fcbac0>,\n",
       " <matplotlib.lines.Line2D at 0x7fc9f5fcbbe0>,\n",
       " <matplotlib.lines.Line2D at 0x7fc9f5fcbd00>,\n",
       " <matplotlib.lines.Line2D at 0x7fc9f5fcbe20>,\n",
       " <matplotlib.lines.Line2D at 0x7fc9f5fcbf40>,\n",
       " <matplotlib.lines.Line2D at 0x7fc9f5fd00a0>,\n",
       " <matplotlib.lines.Line2D at 0x7fc9f5fd01c0>,\n",
       " <matplotlib.lines.Line2D at 0x7fc9f5fd02e0>,\n",
       " <matplotlib.lines.Line2D at 0x7fc9f5fd0400>,\n",
       " <matplotlib.lines.Line2D at 0x7fc9f5fd0520>,\n",
       " <matplotlib.lines.Line2D at 0x7fc9f5fd0640>,\n",
       " <matplotlib.lines.Line2D at 0x7fc9f5fd0760>,\n",
       " <matplotlib.lines.Line2D at 0x7fc9f5fd0880>,\n",
       " <matplotlib.lines.Line2D at 0x7fc9f5fd09a0>,\n",
       " <matplotlib.lines.Line2D at 0x7fc9f5fd0ac0>,\n",
       " <matplotlib.lines.Line2D at 0x7fc9f5fd0be0>,\n",
       " <matplotlib.lines.Line2D at 0x7fc9f5fd0d00>,\n",
       " <matplotlib.lines.Line2D at 0x7fc9f5fd0e20>,\n",
       " <matplotlib.lines.Line2D at 0x7fc9f5fd0f40>,\n",
       " <matplotlib.lines.Line2D at 0x7fc9f5fd40a0>,\n",
       " <matplotlib.lines.Line2D at 0x7fc9f5fd41c0>,\n",
       " <matplotlib.lines.Line2D at 0x7fc9f5fd42e0>,\n",
       " <matplotlib.lines.Line2D at 0x7fc9f5fd4400>,\n",
       " <matplotlib.lines.Line2D at 0x7fc9f5fd4520>,\n",
       " <matplotlib.lines.Line2D at 0x7fc9f5fd4640>,\n",
       " <matplotlib.lines.Line2D at 0x7fc9f5fd4760>,\n",
       " <matplotlib.lines.Line2D at 0x7fc9f5fd4880>,\n",
       " <matplotlib.lines.Line2D at 0x7fc9f5fd49a0>,\n",
       " <matplotlib.lines.Line2D at 0x7fc9f5fd4ac0>,\n",
       " <matplotlib.lines.Line2D at 0x7fc9f5fd4be0>,\n",
       " <matplotlib.lines.Line2D at 0x7fc9f5fd4d00>,\n",
       " <matplotlib.lines.Line2D at 0x7fc9f5fd4e20>,\n",
       " <matplotlib.lines.Line2D at 0x7fc9f5fd4f40>,\n",
       " <matplotlib.lines.Line2D at 0x7fc9f5fdc0a0>,\n",
       " <matplotlib.lines.Line2D at 0x7fc9f5fdc1c0>,\n",
       " <matplotlib.lines.Line2D at 0x7fc9f5fdc2e0>,\n",
       " <matplotlib.lines.Line2D at 0x7fc9f5fdc400>,\n",
       " <matplotlib.lines.Line2D at 0x7fc9f5fdc520>,\n",
       " <matplotlib.lines.Line2D at 0x7fc9f5fdc640>,\n",
       " <matplotlib.lines.Line2D at 0x7fc9f5fdc760>,\n",
       " <matplotlib.lines.Line2D at 0x7fc9f5fdc880>,\n",
       " <matplotlib.lines.Line2D at 0x7fc9f5fdc9a0>,\n",
       " <matplotlib.lines.Line2D at 0x7fc9f5fdcac0>,\n",
       " <matplotlib.lines.Line2D at 0x7fc9f5fdcbe0>,\n",
       " <matplotlib.lines.Line2D at 0x7fc9f5fdcd00>,\n",
       " <matplotlib.lines.Line2D at 0x7fc9f5fdce20>,\n",
       " <matplotlib.lines.Line2D at 0x7fc9f5fdcf40>,\n",
       " <matplotlib.lines.Line2D at 0x7fc9f5fe10a0>,\n",
       " <matplotlib.lines.Line2D at 0x7fc9f5fe11c0>,\n",
       " <matplotlib.lines.Line2D at 0x7fc9f5fe12e0>,\n",
       " <matplotlib.lines.Line2D at 0x7fc9f5fe1400>,\n",
       " <matplotlib.lines.Line2D at 0x7fc9f5fe1520>,\n",
       " <matplotlib.lines.Line2D at 0x7fc9f5fe1640>,\n",
       " <matplotlib.lines.Line2D at 0x7fc9f5fe1760>,\n",
       " <matplotlib.lines.Line2D at 0x7fc9f5fe1880>,\n",
       " <matplotlib.lines.Line2D at 0x7fc9f5fe19a0>,\n",
       " <matplotlib.lines.Line2D at 0x7fc9f5fe1ac0>,\n",
       " <matplotlib.lines.Line2D at 0x7fc9f5fe1be0>,\n",
       " <matplotlib.lines.Line2D at 0x7fc9f5fe1d00>,\n",
       " <matplotlib.lines.Line2D at 0x7fc9f5fe1e20>,\n",
       " <matplotlib.lines.Line2D at 0x7fc9f5fe1f40>,\n",
       " <matplotlib.lines.Line2D at 0x7fc9f5f650a0>,\n",
       " <matplotlib.lines.Line2D at 0x7fc9f5f651c0>,\n",
       " <matplotlib.lines.Line2D at 0x7fc9f5f652e0>,\n",
       " <matplotlib.lines.Line2D at 0x7fc9f5f65400>,\n",
       " <matplotlib.lines.Line2D at 0x7fc9f5f65520>,\n",
       " <matplotlib.lines.Line2D at 0x7fc9f5f65640>,\n",
       " <matplotlib.lines.Line2D at 0x7fc9f5f65760>,\n",
       " <matplotlib.lines.Line2D at 0x7fc9f5f65880>,\n",
       " <matplotlib.lines.Line2D at 0x7fc9f5f659a0>,\n",
       " <matplotlib.lines.Line2D at 0x7fc9f5f65ac0>,\n",
       " <matplotlib.lines.Line2D at 0x7fc9f5f65be0>,\n",
       " <matplotlib.lines.Line2D at 0x7fc9f5f65d00>,\n",
       " <matplotlib.lines.Line2D at 0x7fc9f5f65e20>,\n",
       " <matplotlib.lines.Line2D at 0x7fc9f5f65f40>,\n",
       " <matplotlib.lines.Line2D at 0x7fc9f5f6d0a0>,\n",
       " <matplotlib.lines.Line2D at 0x7fc9f5f6d1c0>,\n",
       " <matplotlib.lines.Line2D at 0x7fc9f5f6d2e0>,\n",
       " <matplotlib.lines.Line2D at 0x7fc9f5f6d400>,\n",
       " <matplotlib.lines.Line2D at 0x7fc9f5f6d520>,\n",
       " <matplotlib.lines.Line2D at 0x7fc9f5f6d640>,\n",
       " <matplotlib.lines.Line2D at 0x7fc9f5f6d760>,\n",
       " <matplotlib.lines.Line2D at 0x7fc9f5f6d880>,\n",
       " <matplotlib.lines.Line2D at 0x7fc9f5f6d9a0>,\n",
       " <matplotlib.lines.Line2D at 0x7fc9f5f6dac0>,\n",
       " <matplotlib.lines.Line2D at 0x7fc9f5f6dbe0>,\n",
       " <matplotlib.lines.Line2D at 0x7fc9f5f6dd00>,\n",
       " <matplotlib.lines.Line2D at 0x7fc9f5f6de20>,\n",
       " <matplotlib.lines.Line2D at 0x7fc9f5f6df40>,\n",
       " <matplotlib.lines.Line2D at 0x7fc9f5f710a0>,\n",
       " <matplotlib.lines.Line2D at 0x7fc9f5f711c0>,\n",
       " <matplotlib.lines.Line2D at 0x7fc9f5f712e0>,\n",
       " <matplotlib.lines.Line2D at 0x7fc9f5f71400>,\n",
       " <matplotlib.lines.Line2D at 0x7fc9f5f71520>,\n",
       " <matplotlib.lines.Line2D at 0x7fc9f5f71640>,\n",
       " <matplotlib.lines.Line2D at 0x7fc9f5f71760>,\n",
       " <matplotlib.lines.Line2D at 0x7fc9f5f71880>,\n",
       " <matplotlib.lines.Line2D at 0x7fc9f5f719a0>,\n",
       " <matplotlib.lines.Line2D at 0x7fc9f5f71ac0>,\n",
       " <matplotlib.lines.Line2D at 0x7fc9f5f71be0>,\n",
       " <matplotlib.lines.Line2D at 0x7fc9f5f71d00>,\n",
       " <matplotlib.lines.Line2D at 0x7fc9f5f71e20>,\n",
       " <matplotlib.lines.Line2D at 0x7fc9f5f71f40>,\n",
       " <matplotlib.lines.Line2D at 0x7fc9f5f780a0>,\n",
       " <matplotlib.lines.Line2D at 0x7fc9f5f781c0>,\n",
       " <matplotlib.lines.Line2D at 0x7fc9f5f782e0>,\n",
       " <matplotlib.lines.Line2D at 0x7fc9f5f78400>,\n",
       " <matplotlib.lines.Line2D at 0x7fc9f5f78520>,\n",
       " <matplotlib.lines.Line2D at 0x7fc9f5f78640>,\n",
       " <matplotlib.lines.Line2D at 0x7fc9f5f78760>,\n",
       " <matplotlib.lines.Line2D at 0x7fc9f5f78880>,\n",
       " <matplotlib.lines.Line2D at 0x7fc9f5f789a0>,\n",
       " <matplotlib.lines.Line2D at 0x7fc9f5f78ac0>,\n",
       " <matplotlib.lines.Line2D at 0x7fc9f5f78be0>,\n",
       " <matplotlib.lines.Line2D at 0x7fc9f5f78d00>,\n",
       " <matplotlib.lines.Line2D at 0x7fc9f5f78e20>,\n",
       " <matplotlib.lines.Line2D at 0x7fc9f5f78f40>,\n",
       " <matplotlib.lines.Line2D at 0x7fc9f5f7e0a0>,\n",
       " <matplotlib.lines.Line2D at 0x7fc9f5f7e1c0>,\n",
       " <matplotlib.lines.Line2D at 0x7fc9f5f7e2e0>,\n",
       " <matplotlib.lines.Line2D at 0x7fc9f5f7e400>,\n",
       " <matplotlib.lines.Line2D at 0x7fc9f5f7e520>,\n",
       " <matplotlib.lines.Line2D at 0x7fc9f5f7e640>,\n",
       " <matplotlib.lines.Line2D at 0x7fc9f5f7e760>,\n",
       " <matplotlib.lines.Line2D at 0x7fc9f5f7e880>,\n",
       " <matplotlib.lines.Line2D at 0x7fc9f5f7e9a0>,\n",
       " <matplotlib.lines.Line2D at 0x7fc9f5f7eac0>,\n",
       " <matplotlib.lines.Line2D at 0x7fc9f5f7ebe0>,\n",
       " <matplotlib.lines.Line2D at 0x7fc9f5f7ed00>,\n",
       " <matplotlib.lines.Line2D at 0x7fc9f5f7ee20>,\n",
       " <matplotlib.lines.Line2D at 0x7fc9f5f7ef40>,\n",
       " <matplotlib.lines.Line2D at 0x7fc9f5f830a0>,\n",
       " <matplotlib.lines.Line2D at 0x7fc9f5f831c0>,\n",
       " <matplotlib.lines.Line2D at 0x7fc9f5f832e0>,\n",
       " <matplotlib.lines.Line2D at 0x7fc9f5f83400>,\n",
       " <matplotlib.lines.Line2D at 0x7fc9f5f83520>,\n",
       " <matplotlib.lines.Line2D at 0x7fc9f5f83640>,\n",
       " <matplotlib.lines.Line2D at 0x7fc9f5f83760>,\n",
       " <matplotlib.lines.Line2D at 0x7fc9f5f83880>,\n",
       " <matplotlib.lines.Line2D at 0x7fc9f5f839a0>,\n",
       " <matplotlib.lines.Line2D at 0x7fc9f5f83ac0>,\n",
       " <matplotlib.lines.Line2D at 0x7fc9f5f83be0>,\n",
       " <matplotlib.lines.Line2D at 0x7fc9f5f83d00>,\n",
       " <matplotlib.lines.Line2D at 0x7fc9f5f83e20>,\n",
       " <matplotlib.lines.Line2D at 0x7fc9f5f83f40>,\n",
       " <matplotlib.lines.Line2D at 0x7fc9f5f890a0>,\n",
       " <matplotlib.lines.Line2D at 0x7fc9f5f891c0>,\n",
       " <matplotlib.lines.Line2D at 0x7fc9f5f892e0>,\n",
       " <matplotlib.lines.Line2D at 0x7fc9f5f89400>,\n",
       " <matplotlib.lines.Line2D at 0x7fc9f5f89520>,\n",
       " <matplotlib.lines.Line2D at 0x7fc9f5f89640>,\n",
       " <matplotlib.lines.Line2D at 0x7fc9f5f89760>,\n",
       " <matplotlib.lines.Line2D at 0x7fc9f5f89880>,\n",
       " <matplotlib.lines.Line2D at 0x7fc9f5f899a0>,\n",
       " <matplotlib.lines.Line2D at 0x7fc9f5f89ac0>,\n",
       " <matplotlib.lines.Line2D at 0x7fc9f5f89be0>,\n",
       " <matplotlib.lines.Line2D at 0x7fc9f5f89d00>,\n",
       " <matplotlib.lines.Line2D at 0x7fc9f5f89e20>,\n",
       " <matplotlib.lines.Line2D at 0x7fc9f5f89f40>,\n",
       " <matplotlib.lines.Line2D at 0x7fc9f5f8f0a0>,\n",
       " <matplotlib.lines.Line2D at 0x7fc9f5f8f1c0>,\n",
       " <matplotlib.lines.Line2D at 0x7fc9f5f8f2e0>,\n",
       " <matplotlib.lines.Line2D at 0x7fc9f5f8f400>,\n",
       " <matplotlib.lines.Line2D at 0x7fc9f5f8f520>,\n",
       " <matplotlib.lines.Line2D at 0x7fc9f5f8f640>,\n",
       " <matplotlib.lines.Line2D at 0x7fc9f5f8f760>,\n",
       " <matplotlib.lines.Line2D at 0x7fc9f5f8f880>,\n",
       " <matplotlib.lines.Line2D at 0x7fc9f5f8f9a0>,\n",
       " <matplotlib.lines.Line2D at 0x7fc9f5f8fac0>,\n",
       " <matplotlib.lines.Line2D at 0x7fc9f5f8fbe0>,\n",
       " <matplotlib.lines.Line2D at 0x7fc9f5f8fd00>,\n",
       " <matplotlib.lines.Line2D at 0x7fc9f5f8fe20>,\n",
       " <matplotlib.lines.Line2D at 0x7fc9f5f8ff40>,\n",
       " <matplotlib.lines.Line2D at 0x7fc9f5f950a0>,\n",
       " <matplotlib.lines.Line2D at 0x7fc9f5f951c0>,\n",
       " <matplotlib.lines.Line2D at 0x7fc9f5f952e0>,\n",
       " <matplotlib.lines.Line2D at 0x7fc9f5f95400>,\n",
       " <matplotlib.lines.Line2D at 0x7fc9f5f95520>,\n",
       " <matplotlib.lines.Line2D at 0x7fc9f5f95640>,\n",
       " <matplotlib.lines.Line2D at 0x7fc9f5f95760>,\n",
       " <matplotlib.lines.Line2D at 0x7fc9f5f95880>,\n",
       " <matplotlib.lines.Line2D at 0x7fc9f5f959a0>,\n",
       " <matplotlib.lines.Line2D at 0x7fc9f5f95ac0>,\n",
       " <matplotlib.lines.Line2D at 0x7fc9f5f95be0>,\n",
       " <matplotlib.lines.Line2D at 0x7fc9f5f95d00>,\n",
       " <matplotlib.lines.Line2D at 0x7fc9f5f95e20>,\n",
       " <matplotlib.lines.Line2D at 0x7fc9f5f95f40>,\n",
       " <matplotlib.lines.Line2D at 0x7fc9f5f980a0>,\n",
       " <matplotlib.lines.Line2D at 0x7fc9f5f981c0>,\n",
       " <matplotlib.lines.Line2D at 0x7fc9f5f982e0>,\n",
       " <matplotlib.lines.Line2D at 0x7fc9f5f98400>,\n",
       " <matplotlib.lines.Line2D at 0x7fc9f5f98520>,\n",
       " <matplotlib.lines.Line2D at 0x7fc9f5f98640>,\n",
       " <matplotlib.lines.Line2D at 0x7fc9f5f98760>,\n",
       " <matplotlib.lines.Line2D at 0x7fc9f5f98880>,\n",
       " <matplotlib.lines.Line2D at 0x7fc9f5f989a0>,\n",
       " <matplotlib.lines.Line2D at 0x7fc9f5f98ac0>,\n",
       " <matplotlib.lines.Line2D at 0x7fc9f5f98be0>,\n",
       " <matplotlib.lines.Line2D at 0x7fc9f5f98d00>,\n",
       " <matplotlib.lines.Line2D at 0x7fc9f5f98e20>,\n",
       " <matplotlib.lines.Line2D at 0x7fc9f5f98f40>,\n",
       " <matplotlib.lines.Line2D at 0x7fc9f5fa00a0>,\n",
       " <matplotlib.lines.Line2D at 0x7fc9f5fa01c0>,\n",
       " <matplotlib.lines.Line2D at 0x7fc9f5fa02e0>,\n",
       " <matplotlib.lines.Line2D at 0x7fc9f5fa0400>,\n",
       " <matplotlib.lines.Line2D at 0x7fc9f5fa0520>,\n",
       " <matplotlib.lines.Line2D at 0x7fc9f5fa0640>,\n",
       " <matplotlib.lines.Line2D at 0x7fc9f5fa0760>,\n",
       " <matplotlib.lines.Line2D at 0x7fc9f5fa0880>,\n",
       " <matplotlib.lines.Line2D at 0x7fc9f5fa09a0>,\n",
       " <matplotlib.lines.Line2D at 0x7fc9f5fa0ac0>,\n",
       " <matplotlib.lines.Line2D at 0x7fc9f5fa0be0>,\n",
       " <matplotlib.lines.Line2D at 0x7fc9f5fa0d00>,\n",
       " <matplotlib.lines.Line2D at 0x7fc9f5fa0e20>,\n",
       " <matplotlib.lines.Line2D at 0x7fc9f5fa0f40>,\n",
       " <matplotlib.lines.Line2D at 0x7fc9f5f250a0>,\n",
       " <matplotlib.lines.Line2D at 0x7fc9f5f251c0>,\n",
       " <matplotlib.lines.Line2D at 0x7fc9f5f252e0>,\n",
       " <matplotlib.lines.Line2D at 0x7fc9f5f25400>,\n",
       " <matplotlib.lines.Line2D at 0x7fc9f5f25520>,\n",
       " <matplotlib.lines.Line2D at 0x7fc9f5f25640>,\n",
       " <matplotlib.lines.Line2D at 0x7fc9f5f25760>,\n",
       " <matplotlib.lines.Line2D at 0x7fc9f5f25880>,\n",
       " <matplotlib.lines.Line2D at 0x7fc9f5f259a0>,\n",
       " <matplotlib.lines.Line2D at 0x7fc9f5f25ac0>,\n",
       " <matplotlib.lines.Line2D at 0x7fc9f5f25be0>,\n",
       " <matplotlib.lines.Line2D at 0x7fc9f5f25d00>,\n",
       " <matplotlib.lines.Line2D at 0x7fc9f5f25e20>,\n",
       " <matplotlib.lines.Line2D at 0x7fc9f5f25f40>,\n",
       " <matplotlib.lines.Line2D at 0x7fc9f5f2b0a0>,\n",
       " <matplotlib.lines.Line2D at 0x7fc9f5f2b1c0>,\n",
       " <matplotlib.lines.Line2D at 0x7fc9f5f2b2e0>,\n",
       " <matplotlib.lines.Line2D at 0x7fc9f5f2b400>,\n",
       " <matplotlib.lines.Line2D at 0x7fc9f5f2b520>,\n",
       " ...]"
      ]
     },
     "metadata": {},
     "execution_count": 74
    },
    {
     "output_type": "display_data",
     "data": {
      "image/png": "[encoded data removed]",
      "text/plain": [
       "<Figure size 489.6x288 with 1 Axes>"
      ]
     },
     "metadata": {
      "needs_background": "light"
     }
    }
   ],
   "metadata": {}
  },
  {
   "cell_type": "code",
   "execution_count": 9,
   "source": [
    "params=Params(m=1,t=.5,l=.5,Delta=0.25,Lx=20,Ly=10,bcx=0,bcy=0)\n",
    "params.bandstructure()\n",
    "params.correlation_matrix()\n",
    "params.val[params.val.shape[0]//2-4:params.val.shape[0]//2+4]"
   ],
   "outputs": [
    {
     "output_type": "execute_result",
     "data": {
      "text/plain": [
       "array([-0.46309468, -0.46309468, -0.00168874, -0.00168874,  0.00168874,\n",
       "        0.00168874,  0.46309468,  0.46309468])"
      ]
     },
     "metadata": {},
     "execution_count": 9
    }
   ],
   "metadata": {}
  },
  {
   "cell_type": "code",
   "execution_count": 10,
   "source": [
    "fig,ax=plt.subplots(1,2,figsize=(6,3),gridspec_kw=dict(width_ratios=[1,1.4]))\n",
    "ax[0].plot(params.val,'.')\n",
    "ax[0].set_xlim([params.val.shape[0]//2-10,params.val.shape[0]//2+10])\n",
    "\n",
    "ldos=0\n",
    "for index in range(params.val.shape[0]//2-2,params.val.shape[0]//2+2):\n",
    "    ldos+=(params.vec[:,index].reshape((params.Ly,params.Lx,4)).sum(axis=2).__abs__())**2\n",
    "im=ax[1].pcolormesh(ldos)\n",
    "cb=fig.colorbar(im)"
   ],
   "outputs": [
    {
     "output_type": "display_data",
     "data": {
      "image/png": "[encoded data removed]",
      "text/plain": [
       "<Figure size 432x216 with 3 Axes>"
      ]
     },
     "metadata": {
      "needs_background": "light"
     }
    }
   ],
   "metadata": {}
  },
  {
   "cell_type": "code",
   "execution_count": 102,
   "source": [
    "index=params.val.shape[0]//2-2\n",
    "ldos=0\n",
    "fig,ax=plt.subplots()\n",
    "for index in range(params.val.shape[0]//2-2,params.val.shape[0]//2+2):\n",
    "    ldos+=(params.vec[:,index].reshape((params.Lx,params.Ly,4)).sum(axis=2).__abs__())**2\n",
    "im=ax.pcolormesh(ldos)\n",
    "cb=fig.colorbar(im)"
   ],
   "outputs": [
    {
     "output_type": "display_data",
     "data": {
      "image/png": "[encoded data removed]",
      "text/plain": [
       "<Figure size 489.6x288 with 2 Axes>"
      ]
     },
     "metadata": {
      "needs_background": "light"
     }
    }
   ],
   "metadata": {}
  },
  {
   "cell_type": "code",
   "execution_count": 31,
   "source": [
    "params.Lx*params.Ly"
   ],
   "outputs": [
    {
     "output_type": "execute_result",
     "data": {
      "text/plain": [
       "400"
      ]
     },
     "metadata": {},
     "execution_count": 31
    }
   ],
   "metadata": {}
  },
  {
   "cell_type": "code",
   "execution_count": 44,
   "source": [
    "np.arange(24).reshape((2,3,4))"
   ],
   "outputs": [
    {
     "output_type": "execute_result",
     "data": {
      "text/plain": [
       "array([[[ 0,  1,  2,  3],\n",
       "        [ 4,  5,  6,  7],\n",
       "        [ 8,  9, 10, 11]],\n",
       "\n",
       "       [[12, 13, 14, 15],\n",
       "        [16, 17, 18, 19],\n",
       "        [20, 21, 22, 23]]])"
      ]
     },
     "metadata": {},
     "execution_count": 44
    }
   ],
   "metadata": {}
  },
  {
   "cell_type": "markdown",
   "source": [
    "# Entanglement spectrum"
   ],
   "metadata": {}
  },
  {
   "cell_type": "code",
   "execution_count": 31,
   "source": [
    "params_pbc=Params(m=1,t=.5,l=.5,Delta=.25,Lx=24,Ly=24,bcx=1,bcy=1)"
   ],
   "outputs": [],
   "metadata": {}
  },
  {
   "cell_type": "code",
   "execution_count": 176,
   "source": [
    "cf1=params_pbc.c_subregion_f([np.arange(params_pbc.Lx//2),np.arange(params_pbc.Ly)])\n",
    "cf1_val,cf1vec=nla.eigh(cf1)"
   ],
   "outputs": [],
   "metadata": {}
  },
  {
   "cell_type": "code",
   "execution_count": 177,
   "source": [
    "cm1=params_pbc.c_subregion_m([np.arange(params_pbc.Lx//2),np.arange(params_pbc.Ly)])\n",
    "cm1_val,cm1vec=nla.eigh(cm1)"
   ],
   "outputs": [],
   "metadata": {}
  },
  {
   "cell_type": "code",
   "execution_count": 178,
   "source": [
    "fig,ax=plt.subplots(1,2)\n",
    "ax[0].plot(cf1_val,'.')\n",
    "ax[0].set_xlim(cf1_val.shape[0]//2-10,cf1_val.shape[0]//2+10)\n",
    "\n",
    "ax[1].plot(cm1_val,'.')\n",
    "ax[1].set_xlim(cm1_val.shape[0]//2-10,cm1_val.shape[0]//2+10)"
   ],
   "outputs": [
    {
     "output_type": "execute_result",
     "data": {
      "text/plain": [
       "(790.0, 810.0)"
      ]
     },
     "metadata": {},
     "execution_count": 178
    },
    {
     "output_type": "display_data",
     "data": {
      "image/png": "[encoded data removed]",
      "text/plain": [
       "<Figure size 489.6x288 with 2 Axes>"
      ]
     },
     "metadata": {
      "needs_background": "light"
     }
    }
   ],
   "metadata": {}
  },
  {
   "cell_type": "code",
   "execution_count": 34,
   "source": [
    "# cf2=params_pbc.c_subregion_f([np.arange(params_pbc.Lx//2),np.arange(params_pbc.Ly//2)])\n",
    "cf2=params_pbc.c_subregion_f([np.arange(6),np.arange(12)])\n",
    "cf2_val,cf2vec=nla.eigh(cf2)"
   ],
   "outputs": [],
   "metadata": {}
  },
  {
   "cell_type": "code",
   "execution_count": 40,
   "source": [
    "cm2=params_pbc.c_subregion_m([np.arange(params_pbc.Lx//2),np.arange(params_pbc.Ly//2)])\n",
    "# cm2=params_pbc.c_subregion_m([np.arange(6),np.arange(12)])\n",
    "cm2_val,cm2vec=nla.eigh(cm2)"
   ],
   "outputs": [],
   "metadata": {}
  },
  {
   "cell_type": "code",
   "execution_count": 41,
   "source": [
    "fig,ax=plt.subplots(1,2)\n",
    "ax[0].plot(cf2_val,'.')\n",
    "ax[0].set_xlim(cf2_val.shape[0]//2-10,cf2_val.shape[0]//2+10)\n",
    "\n",
    "ax[1].plot(cm2_val,'.')\n",
    "ax[1].set_xlim(cm2_val.shape[0]//2-10,cm2_val.shape[0]//2+10)"
   ],
   "outputs": [
    {
     "output_type": "execute_result",
     "data": {
      "text/plain": [
       "(566.0, 586.0)"
      ]
     },
     "metadata": {},
     "execution_count": 41
    },
    {
     "output_type": "display_data",
     "data": {
      "image/png": "[encoded data removed]",
      "text/plain": [
       "<Figure size 489.6x288 with 2 Axes>"
      ]
     },
     "metadata": {
      "needs_background": "light"
     }
    }
   ],
   "metadata": {}
  },
  {
   "cell_type": "code",
   "execution_count": 42,
   "source": [
    "fig,ax=plt.subplots(1,4,figsize=(10,5))\n",
    "\n",
    "for index,i in enumerate(range(-2,2)):\n",
    "    wf=cf2vec[:,cf2vec.shape[0]//2+i].reshape((12,6,4))\n",
    "    ax[index].pcolormesh(np.sum(np.abs(wf[:,:])**2,axis=2))"
   ],
   "outputs": [
    {
     "output_type": "display_data",
     "data": {
      "image/png": "[encoded data removed]",
      "text/plain": [
       "<Figure size 720x360 with 4 Axes>"
      ]
     },
     "metadata": {
      "needs_background": "light"
     }
    }
   ],
   "metadata": {}
  },
  {
   "cell_type": "markdown",
   "source": [
    "# Von Neumann entropy"
   ],
   "metadata": {}
  },
  {
   "cell_type": "code",
   "execution_count": 390,
   "source": [
    "params=Params(m=1,t=.5,l=.5,Delta=.25,Lx=32,Ly=32,bcx=1,bcy=1)\n"
   ],
   "outputs": [],
   "metadata": {}
  },
  {
   "cell_type": "code",
   "execution_count": 393,
   "source": [
    "len_list=np.arange(1,params.Lx//2)\n",
    "vE_list=np.zeros(len_list.shape[0])\n",
    "for i in len_list:\n",
    "    vE_list[i-1]=(params.von_Neumann_entropy_f([np.arange(i),np.arange(i)]))"
   ],
   "outputs": [],
   "metadata": {}
  },
  {
   "cell_type": "code",
   "execution_count": 394,
   "source": [
    "plt.plot((len_list),(vE_list),'.')"
   ],
   "outputs": [
    {
     "output_type": "execute_result",
     "data": {
      "text/plain": [
       "[<matplotlib.lines.Line2D at 0x7fc9ec9e93d0>]"
      ]
     },
     "metadata": {},
     "execution_count": 394
    },
    {
     "output_type": "display_data",
     "data": {
      "image/png": "[encoded data removed]",
      "text/plain": [
       "<Figure size 489.6x288 with 1 Axes>"
      ]
     },
     "metadata": {
      "needs_background": "light"
     }
    }
   ],
   "metadata": {}
  },
  {
   "cell_type": "code",
   "execution_count": 398,
   "source": [
    "mask=(len_list>=4)\n",
    "lr=scipy.stats.linregress(len_list[mask]*4,(vE_list[mask]))\n"
   ],
   "outputs": [],
   "metadata": {}
  },
  {
   "cell_type": "code",
   "execution_count": 399,
   "source": [
    "np.array([lr.slope,lr.intercept])/np.log(2)"
   ],
   "outputs": [
    {
     "output_type": "execute_result",
     "data": {
      "text/plain": [
       "array([ 1.05493132, -0.77102967])"
      ]
     },
     "metadata": {},
     "execution_count": 399
    }
   ],
   "metadata": {}
  },
  {
   "cell_type": "code",
   "execution_count": 125,
   "source": [
    "params.von_Neumann_entropy_m([np.arange(1),np.arange(params.Ly)])"
   ],
   "outputs": [
    {
     "output_type": "execute_result",
     "data": {
      "text/plain": [
       "15.062165269357127"
      ]
     },
     "metadata": {},
     "execution_count": 125
    }
   ],
   "metadata": {}
  },
  {
   "cell_type": "code",
   "execution_count": 128,
   "source": [
    "vE_list[1]"
   ],
   "outputs": [
    {
     "output_type": "execute_result",
     "data": {
      "text/plain": [
       "15"
      ]
     },
     "metadata": {},
     "execution_count": 128
    }
   ],
   "metadata": {}
  },
  {
   "cell_type": "markdown",
   "source": [
    "# No measurement"
   ],
   "metadata": {}
  },
  {
   "cell_type": "code",
   "execution_count": 182,
   "source": [
    "params=Params(m=2,t=.5,l=.5,Delta=0.25,Lx=32,Ly=32,bcx=-1,bcy=-1)"
   ],
   "outputs": [],
   "metadata": {}
  },
  {
   "cell_type": "code",
   "execution_count": 184,
   "source": [
    "params.log_neg([np.arange(params.Lx//4),np.arange(params.Ly//4)],[np.arange(params.Lx//4)+params.Lx//2,np.arange(params.Ly//4)])"
   ],
   "outputs": [
    {
     "output_type": "execute_result",
     "data": {
      "text/plain": [
       "0.03764392787734572"
      ]
     },
     "metadata": {},
     "execution_count": 184
    }
   ],
   "metadata": {}
  },
  {
   "cell_type": "code",
   "execution_count": 183,
   "source": [
    "params.mutual_information_m([np.arange(params.Lx//4),np.arange(params.Ly//4)],[np.arange(params.Lx//4)+params.Lx//2,np.arange(params.Ly//4)])"
   ],
   "outputs": [
    {
     "output_type": "execute_result",
     "data": {
      "text/plain": [
       "0.041365351281694274"
      ]
     },
     "metadata": {},
     "execution_count": 183
    }
   ],
   "metadata": {}
  },
  {
   "cell_type": "code",
   "execution_count": 362,
   "source": [
    "m_list=np.linspace(1,3,11)\n",
    "LN_list=[]\n",
    "MI_list=[]\n",
    "for m in m_list:\n",
    "    params=Params(m=m,t=.5,l=.5,Delta=0.25,Lx=24,Ly=24,bcx=1,bcy=1)\n",
    "    MI_list.append(params.mutual_information_m([np.arange(params.Lx//4),np.arange(params.Ly//4)],[np.arange(params.Lx//4)+params.Lx//2,np.arange(params.Ly//4)]))\n",
    "    LN_list.append(params.log_neg([np.arange(params.Lx//4),np.arange(params.Ly//4)],[np.arange(params.Lx//4)+params.Lx//2,np.arange(params.Ly//4)]))\n",
    "\n"
   ],
   "outputs": [],
   "metadata": {}
  },
  {
   "cell_type": "code",
   "execution_count": 364,
   "source": [
    "fig,ax=plt.subplots()\n",
    "ax.plot(m_list,MI_list,'b',label='MI')\n",
    "ax.plot(m_list,LN_list,'r',label='LN')\n",
    "ax.legend()\n",
    "ax.set_xlabel('$m$')\n",
    "ax.set_ylabel('[log 2]')"
   ],
   "outputs": [
    {
     "output_type": "execute_result",
     "data": {
      "text/plain": [
       "Text(0, 0.5, '[log 2]')"
      ]
     },
     "metadata": {},
     "execution_count": 364
    },
    {
     "output_type": "display_data",
     "data": {
      "image/png": "[encoded data removed]",
      "text/plain": [
       "<Figure size 489.6x288 with 1 Axes>"
      ]
     },
     "metadata": {
      "needs_background": "light"
     }
    }
   ],
   "metadata": {}
  },
  {
   "cell_type": "markdown",
   "source": [
    "# Born measurement"
   ],
   "metadata": {}
  },
  {
   "cell_type": "markdown",
   "source": [
    "## A-A'-B on the same line"
   ],
   "metadata": {}
  },
  {
   "cell_type": "code",
   "execution_count": 14,
   "source": [
    "params=Params(m=1,t=.5,l=.5,Delta=0.25,Lx=20,Ly=20,bcx=1,bcy=1)\n",
    "subA=[np.arange(params.Lx//4),np.arange(params.Ly//2)]\n",
    "subAp=[np.arange(params.Lx//4)+params.Lx//4,np.arange(params.Ly//2)]\n",
    "subB=[np.arange(params.Lx//4)+params.Lx//2,np.arange(params.Ly//2)]\n",
    "\n",
    "params.measure_all_Born(subAp,type='link',prob=[1,0,0,0])\n",
    "# params.mutual_information_m(subA,subB)\n",
    "params.log_neg(subA,subB)"
   ],
   "outputs": [
    {
     "output_type": "execute_result",
     "data": {
      "text/plain": [
       "2.10503548415009"
      ]
     },
     "metadata": {},
     "execution_count": 14
    }
   ],
   "metadata": {}
  },
  {
   "cell_type": "code",
   "execution_count": 125,
   "source": [
    "def run1(p):\n",
    "    m,Lx,Ly=p\n",
    "    params=Params(m=m,t=.5,l=.5,Delta=0.25,Lx=Lx,Ly=Ly,bcx=1,bcy=1)\n",
    "    subA=[np.arange(params.Lx//4),np.arange(params.Ly//4)]\n",
    "    subAp=[np.arange(params.Lx//4)+params.Lx//4,np.arange(params.Ly//4)]\n",
    "    subB=[np.arange(params.Lx//4)+params.Lx//2,np.arange(params.Ly//4)]\n",
    "    prob_list=[(1,0,0,0)]*(Lx//4*Ly//4*2)\n",
    "    # for i in np.arange(0,30,2):\n",
    "    #     prob_list[i]=(0,1,0,0)\n",
    "    #     prob_list[i+1]=(0,1,0,0)\n",
    "    \n",
    "    params.measure_all_Born(subAp,type='link',prob=prob_list)\n",
    "    # params.measure_all_Born(subAp,type='link')\n",
    "    # params.mutual_information_m(subA,subB)\n",
    "    LN=params.log_neg(subA,subB)\n",
    "    return LN"
   ],
   "outputs": [],
   "metadata": {}
  },
  {
   "cell_type": "code",
   "execution_count": 126,
   "source": [
    "run1((1,20,20))"
   ],
   "outputs": [
    {
     "output_type": "execute_result",
     "data": {
      "text/plain": [
       "0.5801689952187186"
      ]
     },
     "metadata": {},
     "execution_count": 126
    }
   ],
   "metadata": {}
  },
  {
   "cell_type": "code",
   "execution_count": 116,
   "source": [
    "inputs=[(1,20,20) for _ in range(9)]\n",
    "LN_list=rc[:].map_sync(run1,inputs)"
   ],
   "outputs": [],
   "metadata": {}
  },
  {
   "cell_type": "code",
   "execution_count": 117,
   "source": [
    "LN_list"
   ],
   "outputs": [
    {
     "output_type": "execute_result",
     "data": {
      "text/plain": [
       "[0.1885141190809687,\n",
       " 0.1602158327204748,\n",
       " 0.27428086235685,\n",
       " 0.15106784725083067,\n",
       " 0.27308359923384984,\n",
       " 0.16259266405401185,\n",
       " 0.4598914037032955,\n",
       " 0.386079310138296,\n",
       " 0.05629378171494359]"
      ]
     },
     "metadata": {},
     "execution_count": 117
    }
   ],
   "metadata": {}
  },
  {
   "cell_type": "code",
   "execution_count": 118,
   "source": [
    "np.mean(LN_list)"
   ],
   "outputs": [
    {
     "output_type": "execute_result",
     "data": {
      "text/plain": [
       "0.23466882447261345"
      ]
     },
     "metadata": {},
     "execution_count": 118
    }
   ],
   "metadata": {}
  },
  {
   "cell_type": "code",
   "execution_count": 108,
   "source": [
    "inputs=[(1,24,24) for _ in range(9)]\n",
    "LN_list=rc[:].map_sync(run1,inputs)"
   ],
   "outputs": [
    {
     "output_type": "execute_result",
     "data": {
      "text/plain": [
       "0.6327480248184081"
      ]
     },
     "metadata": {},
     "execution_count": 108
    }
   ],
   "metadata": {}
  },
  {
   "cell_type": "code",
   "execution_count": 109,
   "source": [
    "run1((1,28,28))"
   ],
   "outputs": [
    {
     "output_type": "execute_result",
     "data": {
      "text/plain": [
       "0.5977123942577229"
      ]
     },
     "metadata": {},
     "execution_count": 109
    }
   ],
   "metadata": {}
  },
  {
   "cell_type": "code",
   "execution_count": 62,
   "source": [
    "m_list=np.linspace(1,3,11)\n",
    "Lx=20\n",
    "Ly=20\n",
    "inputs=[(m,Lx,Ly) for m in m_list]\n",
    "LN_list1=rc[:].map_sync(run1,inputs)"
   ],
   "outputs": [],
   "metadata": {}
  },
  {
   "cell_type": "code",
   "execution_count": 63,
   "source": [
    "fig,ax=plt.subplots()\n",
    "ax.plot(m_list,LN_list1/np.log(2))"
   ],
   "outputs": [
    {
     "output_type": "execute_result",
     "data": {
      "text/plain": [
       "[<matplotlib.lines.Line2D at 0x7fd629852f70>]"
      ]
     },
     "metadata": {},
     "execution_count": 63
    },
    {
     "output_type": "display_data",
     "data": {
      "image/png": "[encoded data removed]",
      "text/plain": [
       "<Figure size 489.6x288 with 1 Axes>"
      ]
     },
     "metadata": {
      "needs_background": "light"
     }
    }
   ],
   "metadata": {}
  },
  {
   "cell_type": "code",
   "execution_count": null,
   "source": [
    "fig,ax=plt.subplots()\n",
    "ax.plot(m_list,LN_list1/np.log(2))"
   ],
   "outputs": [
    {
     "output_type": "display_data",
     "data": {
      "text/plain": [
       "[<matplotlib.lines.Line2D at 0x7fd6298f08b0>]"
      ]
     },
     "metadata": {}
    },
    {
     "output_type": "display_data",
     "data": {
      "image/png": "[encoded data removed]",
      "text/plain": [
       "<Figure size 489.6x288 with 1 Axes>"
      ]
     },
     "metadata": {}
    }
   ],
   "metadata": {}
  },
  {
   "cell_type": "code",
   "execution_count": 33,
   "source": [
    "m_list=np.linspace(1,3,11)\n",
    "Lx=20\n",
    "Ly=20\n",
    "inputs=[(m,Lx,Ly) for m in m_list]\n",
    "LN_list2=rc[:].map_sync(run1,inputs)"
   ],
   "outputs": [],
   "metadata": {}
  },
  {
   "cell_type": "code",
   "execution_count": 36,
   "source": [
    "fig,ax=plt.subplots()\n",
    "ax.plot(m_list,LN_list2/np.log(2))"
   ],
   "outputs": [
    {
     "output_type": "execute_result",
     "data": {
      "text/plain": [
       "[<matplotlib.lines.Line2D at 0x7fd629a31670>]"
      ]
     },
     "metadata": {},
     "execution_count": 36
    },
    {
     "output_type": "display_data",
     "data": {
      "image/png": "[encoded data removed]",
      "text/plain": [
       "<Figure size 489.6x288 with 1 Axes>"
      ]
     },
     "metadata": {
      "needs_background": "light"
     }
    }
   ],
   "metadata": {}
  },
  {
   "cell_type": "markdown",
   "source": [
    "## A-A'-B on diagonal"
   ],
   "metadata": {}
  },
  {
   "cell_type": "code",
   "execution_count": 8,
   "source": [
    "params=Params(m=1,t=.5,l=.5,Delta=0.25,Lx=20,Ly=20,bcx=1,bcy=1)\n",
    "proj_Ap=params.linearize_index([np.arange(params.Lx//4-1,params.Lx//2-1),np.arange(params.Ly//4-1,params.Ly//2-1)],n=8,proj=True,k=4)\n",
    "proj_A=params.linearize_index([np.arange(0,params.Lx//4),np.arange(0,params.Ly//4)],n=8,proj=True,k=4)\n",
    "proj_B=params.linearize_index([np.arange(params.Lx//2-2,params.Lx//4*3-2),np.arange(params.Ly//2-2,params.Ly//4*3-2)],n=8,proj=True,k=4)\n",
    "proj_Ap_diff=np.setdiff1d(proj_Ap,proj_A+proj_B)\n",
    "\n",
    "\n",
    "subA=params.linearize_index([np.arange(0,params.Lx//4),np.arange(0,params.Ly//4)],n=8)\n",
    "subB=params.linearize_index([np.arange(params.Lx//2-2,params.Lx//4*3-2),np.arange(params.Ly//2-2,params.Ly//4*3-2)],n=8)\n",
    "\n",
    "params.measure_all_Born(proj_Ap_diff,type='link',prob=[1,0,0,0],linear=True)\n",
    "params.log_neg(subA,subB,linear=True)/np.log(2)"
   ],
   "outputs": [
    {
     "output_type": "execute_result",
     "data": {
      "text/plain": [
       "0.25270024311249745"
      ]
     },
     "metadata": {},
     "execution_count": 8
    }
   ],
   "metadata": {}
  },
  {
   "cell_type": "code",
   "execution_count": 119,
   "source": [
    "params.log_neg(subA,subB,linear=True)/np.log(2)"
   ],
   "outputs": [
    {
     "output_type": "execute_result",
     "data": {
      "text/plain": [
       "0.25270024311249745"
      ]
     },
     "metadata": {},
     "execution_count": 119
    }
   ],
   "metadata": {}
  },
  {
   "cell_type": "code",
   "execution_count": 6,
   "source": [
    "fig,ax=plt.subplots()\n",
    "\n",
    "ix,iy=params.square_index(subB)\n",
    "ax.scatter(ix,iy)\n",
    "\n",
    "ix,iy=params.square_index(subA)\n",
    "ax.scatter(ix,iy)\n",
    "\n",
    "ix,iy=params.square_index(proj_Ap_diff)\n",
    "ax.scatter(ix,iy)\n",
    "ax.set_xlim([0,params.Lx-1])\n",
    "ax.set_ylim([0,params.Ly-1])"
   ],
   "outputs": [
    {
     "output_type": "execute_result",
     "data": {
      "text/plain": [
       "(0.0, 19.0)"
      ]
     },
     "metadata": {},
     "execution_count": 6
    },
    {
     "output_type": "display_data",
     "data": {
      "image/png": "[encoded data removed]",
      "text/plain": [
       "<Figure size 489.6x288 with 1 Axes>"
      ]
     },
     "metadata": {
      "needs_background": "light"
     }
    }
   ],
   "metadata": {}
  },
  {
   "cell_type": "code",
   "execution_count": 135,
   "source": [
    "params=Params(m=1,t=.5,l=.5,Delta=0.25,Lx=20,Ly=20,bcx=1,bcy=1)\n",
    "proj_Ap=params.linearize_index([np.arange(params.Lx//4,params.Lx//2),np.arange(0,params.Ly//4+1)],n=8,proj=True,k=4)\n",
    "proj_Ap_add=proj_Ap+params.linearize_index([[params.Lx//4-1,],[0,]],n=8,proj=True,k=4)+params.linearize_index([[params.Lx//4-1,],[params.Ly//4+1-1,]],n=8,proj=True,k=4)+params.linearize_index([[params.Lx//2,],[0,]],n=8,proj=True,k=4)+params.linearize_index([[params.Lx//2,],[params.Ly//4+1-1,]],n=8,proj=True,k=4)\n",
    "\n",
    "subAp=params.linearize_index([np.arange(params.Lx//4,params.Lx//2),np.arange(0,params.Ly//4+1)],n=8)\n",
    "subA=params.linearize_index([np.arange(0,params.Lx//4),np.arange(1,params.Ly//4+1-1)],n=8)\n",
    "subB=params.linearize_index([np.arange(params.Lx//2,params.Lx//4*3),np.arange(1,params.Ly//4+1-1)],n=8)\n",
    "\n",
    "params.measure_all_Born(proj_Ap_add,type='link',prob=[0,1,0,0],linear=True)\n",
    "# params.mutual_information_m(subA,subB)\n",
    "params.log_neg(subA,subB,linear=True)/np.log(2)"
   ],
   "outputs": [
    {
     "output_type": "execute_result",
     "data": {
      "text/plain": [
       "0.9251945708520412"
      ]
     },
     "metadata": {},
     "execution_count": 135
    }
   ],
   "metadata": {}
  },
  {
   "cell_type": "code",
   "execution_count": null,
   "source": [
    "# trivial regime is not protected by m_x/m_y symm"
   ],
   "outputs": [],
   "metadata": {}
  },
  {
   "cell_type": "code",
   "execution_count": null,
   "source": [
    "2.44"
   ],
   "outputs": [],
   "metadata": {}
  },
  {
   "cell_type": "code",
   "execution_count": 134,
   "source": [
    "fig,ax=plt.subplots()\n",
    "\n",
    "ix,iy=params.square_index(subB)\n",
    "ax.scatter(ix,iy)\n",
    "\n",
    "ix,iy=params.square_index(subA)\n",
    "ax.scatter(ix,iy)\n",
    "\n",
    "ix,iy=params.square_index(proj_Ap_add)\n",
    "ax.scatter(ix,iy)\n",
    "ax.set_xlim([0,params.Lx-1])\n",
    "ax.set_ylim([0,params.Ly-1])"
   ],
   "outputs": [
    {
     "output_type": "execute_result",
     "data": {
      "text/plain": [
       "(0.0, 19.0)"
      ]
     },
     "metadata": {},
     "execution_count": 134
    },
    {
     "output_type": "display_data",
     "data": {
      "image/png": "[encoded data removed]",
      "text/plain": [
       "<Figure size 489.6x288 with 1 Axes>"
      ]
     },
     "metadata": {
      "needs_background": "light"
     }
    }
   ],
   "metadata": {}
  },
  {
   "cell_type": "code",
   "execution_count": 82,
   "source": [
    "params.log_neg(subA,subB,linear=True)"
   ],
   "outputs": [
    {
     "output_type": "execute_result",
     "data": {
      "text/plain": [
       "0.00019677419489028125"
      ]
     },
     "metadata": {},
     "execution_count": 82
    }
   ],
   "metadata": {}
  },
  {
   "cell_type": "code",
   "execution_count": 77,
   "source": [
    "len(subB_add)"
   ],
   "outputs": [
    {
     "output_type": "execute_result",
     "data": {
      "text/plain": [
       "304"
      ]
     },
     "metadata": {},
     "execution_count": 77
    }
   ],
   "metadata": {}
  },
  {
   "cell_type": "code",
   "execution_count": 26,
   "source": [
    "params_p=Params(m=1,t=.5,l=.5,Delta=0.25,Lx=24,Ly=24,bcx=1,bcy=1)\n",
    "params_p.correlation_matrix()\n",
    "params_n=Params(m=1,t=.5,l=.5,Delta=-0.25,Lx=24,Ly=24,bcx=1,bcy=1)\n",
    "params_n.correlation_matrix()"
   ],
   "outputs": [],
   "metadata": {}
  },
  {
   "cell_type": "code",
   "execution_count": 29,
   "source": [
    "params_p.C_f[0,:10]"
   ],
   "outputs": [
    {
     "output_type": "execute_result",
     "data": {
      "text/plain": [
       "array([ 2.74252225e-01+0.00000000e+00j,  2.90792468e-17-5.87210722e-18j,\n",
       "        7.40760802e-18+1.86716991e-18j,  3.49783931e-18-2.04709970e-18j,\n",
       "       -1.16336121e-01+8.98100002e-18j,  3.08247698e-17+8.24202854e-02j,\n",
       "        6.81549527e-18-4.46858662e-18j,  3.91149138e-18+1.57916103e-01j,\n",
       "        1.45905996e-02-4.60960886e-18j, -1.25024429e-17-1.41368349e-02j])"
      ]
     },
     "metadata": {},
     "execution_count": 29
    }
   ],
   "metadata": {}
  },
  {
   "cell_type": "code",
   "execution_count": 30,
   "source": [
    "params_n.C_f[0,:10]"
   ],
   "outputs": [
    {
     "output_type": "execute_result",
     "data": {
      "text/plain": [
       "array([ 2.74252225e-01+0.00000000e+00j, -5.97648460e-18-1.54872597e-17j,\n",
       "       -7.58554232e-19-9.92305309e-18j, -2.55433863e-17-7.62293561e-18j,\n",
       "       -1.16336121e-01+3.14688762e-19j,  1.02565168e-17-8.24202854e-02j,\n",
       "       -4.01620090e-18+1.92159968e-19j,  6.42046163e-18+1.57916103e-01j,\n",
       "        1.45905996e-02-4.75748420e-18j, -3.93813937e-18+1.41368349e-02j])"
      ]
     },
     "metadata": {},
     "execution_count": 30
    }
   ],
   "metadata": {}
  },
  {
   "cell_type": "code",
   "execution_count": null,
   "source": [
    "params.correlation_matrix()"
   ],
   "outputs": [],
   "metadata": {}
  },
  {
   "cell_type": "code",
   "execution_count": null,
   "source": [
    "np.diag(params.C_f)[0:10]"
   ],
   "outputs": [
    {
     "output_type": "execute_result",
     "data": {
      "text/plain": [
       "array([0.00315322+0.j, 0.99684678+0.j, 0.00315322+0.j, 0.99684678+0.j,\n",
       "       0.00315322+0.j, 0.99684678+0.j, 0.00315322+0.j, 0.99684678+0.j,\n",
       "       0.00315322+0.j, 0.99684678+0.j])"
      ]
     },
     "metadata": {},
     "execution_count": 13
    }
   ],
   "metadata": {}
  },
  {
   "cell_type": "code",
   "execution_count": null,
   "source": [
    "params.measure_all_Born(subAp,type='link',prob=[1,0,0,0])"
   ],
   "outputs": [
    {
     "output_type": "error",
     "ename": "KeyboardInterrupt",
     "evalue": "",
     "traceback": [
      "\u001b[0;31m---------------------------------------------------------------------------\u001b[0m",
      "\u001b[0;31mKeyboardInterrupt\u001b[0m                         Traceback (most recent call last)",
      "\u001b[0;32m/tmp/ipykernel_1387/232127511.py\u001b[0m in \u001b[0;36m<module>\u001b[0;34m\u001b[0m\n\u001b[0;32m----> 1\u001b[0;31m \u001b[0mparams\u001b[0m\u001b[0;34m.\u001b[0m\u001b[0mmeasure_all_Born\u001b[0m\u001b[0;34m(\u001b[0m\u001b[0msubAp\u001b[0m\u001b[0;34m,\u001b[0m\u001b[0mtype\u001b[0m\u001b[0;34m=\u001b[0m\u001b[0;34m'link'\u001b[0m\u001b[0;34m,\u001b[0m\u001b[0mprob\u001b[0m\u001b[0;34m=\u001b[0m\u001b[0;34m[\u001b[0m\u001b[0;36m1\u001b[0m\u001b[0;34m,\u001b[0m\u001b[0;36m0\u001b[0m\u001b[0;34m,\u001b[0m\u001b[0;36m0\u001b[0m\u001b[0;34m,\u001b[0m\u001b[0;36m0\u001b[0m\u001b[0;34m]\u001b[0m\u001b[0;34m)\u001b[0m\u001b[0;34m\u001b[0m\u001b[0;34m\u001b[0m\u001b[0m\n\u001b[0m",
      "\u001b[0;32m/tmp/ipykernel_1387/4132345398.py\u001b[0m in \u001b[0;36mmeasure_all_Born\u001b[0;34m(self, proj_range, prob, linear, type, pool, ignore)\u001b[0m\n\u001b[1;32m    384\u001b[0m         \u001b[0mself\u001b[0m\u001b[0;34m.\u001b[0m\u001b[0mf_parity\u001b[0m\u001b[0;34m=\u001b[0m \u001b[0;34m[\u001b[0m\u001b[0;34m]\u001b[0m\u001b[0;34m\u001b[0m\u001b[0;34m\u001b[0m\u001b[0m\n\u001b[1;32m    385\u001b[0m         \u001b[0;32mif\u001b[0m \u001b[0;32mnot\u001b[0m \u001b[0mhasattr\u001b[0m\u001b[0;34m(\u001b[0m\u001b[0mself\u001b[0m\u001b[0;34m,\u001b[0m \u001b[0;34m'C_m'\u001b[0m\u001b[0;34m)\u001b[0m\u001b[0;34m:\u001b[0m\u001b[0;34m\u001b[0m\u001b[0;34m\u001b[0m\u001b[0m\n\u001b[0;32m--> 386\u001b[0;31m             \u001b[0mself\u001b[0m\u001b[0;34m.\u001b[0m\u001b[0mcovariance_matrix\u001b[0m\u001b[0;34m(\u001b[0m\u001b[0;34m)\u001b[0m\u001b[0;34m\u001b[0m\u001b[0;34m\u001b[0m\u001b[0m\n\u001b[0m\u001b[1;32m    387\u001b[0m         \u001b[0;32mif\u001b[0m \u001b[0mtype\u001b[0m\u001b[0;34m==\u001b[0m\u001b[0;34m'onsite'\u001b[0m\u001b[0;34m:\u001b[0m\u001b[0;34m\u001b[0m\u001b[0;34m\u001b[0m\u001b[0m\n\u001b[1;32m    388\u001b[0m             \u001b[0;32mfor\u001b[0m \u001b[0mindex\u001b[0m\u001b[0;34m,\u001b[0m\u001b[0mi\u001b[0m \u001b[0;32min\u001b[0m \u001b[0menumerate\u001b[0m\u001b[0;34m(\u001b[0m\u001b[0mproj_range\u001b[0m\u001b[0;34m)\u001b[0m\u001b[0;34m:\u001b[0m\u001b[0;34m\u001b[0m\u001b[0;34m\u001b[0m\u001b[0m\n",
      "\u001b[0;32m/tmp/ipykernel_1387/4132345398.py\u001b[0m in \u001b[0;36mcovariance_matrix\u001b[0;34m(self, E_F)\u001b[0m\n\u001b[1;32m     74\u001b[0m         \u001b[0;32mif\u001b[0m \u001b[0;32mnot\u001b[0m \u001b[0mhasattr\u001b[0m\u001b[0;34m(\u001b[0m\u001b[0mself\u001b[0m\u001b[0;34m,\u001b[0m \u001b[0;34m'C_f'\u001b[0m\u001b[0;34m)\u001b[0m\u001b[0;34m:\u001b[0m\u001b[0;34m\u001b[0m\u001b[0;34m\u001b[0m\u001b[0m\n\u001b[1;32m     75\u001b[0m             \u001b[0;32mif\u001b[0m \u001b[0mself\u001b[0m\u001b[0;34m.\u001b[0m\u001b[0mLx\u001b[0m \u001b[0;34m<\u001b[0m \u001b[0mnp\u001b[0m\u001b[0;34m.\u001b[0m\u001b[0minf\u001b[0m \u001b[0;32mand\u001b[0m \u001b[0mself\u001b[0m\u001b[0;34m.\u001b[0m\u001b[0mLy\u001b[0m\u001b[0;34m<\u001b[0m\u001b[0mnp\u001b[0m\u001b[0;34m.\u001b[0m\u001b[0minf\u001b[0m\u001b[0;34m:\u001b[0m\u001b[0;34m\u001b[0m\u001b[0;34m\u001b[0m\u001b[0m\n\u001b[0;32m---> 76\u001b[0;31m                 \u001b[0mself\u001b[0m\u001b[0;34m.\u001b[0m\u001b[0mcorrelation_matrix\u001b[0m\u001b[0;34m(\u001b[0m\u001b[0;34m)\u001b[0m\u001b[0;34m\u001b[0m\u001b[0;34m\u001b[0m\u001b[0m\n\u001b[0m\u001b[1;32m     77\u001b[0m             \u001b[0;32melse\u001b[0m\u001b[0;34m:\u001b[0m\u001b[0;34m\u001b[0m\u001b[0;34m\u001b[0m\u001b[0m\n\u001b[1;32m     78\u001b[0m                 \u001b[0mself\u001b[0m\u001b[0;34m.\u001b[0m\u001b[0mcorrelation_matrix_inf_fft\u001b[0m\u001b[0;34m(\u001b[0m\u001b[0;34m)\u001b[0m\u001b[0;34m\u001b[0m\u001b[0;34m\u001b[0m\u001b[0m\n",
      "\u001b[0;32m/tmp/ipykernel_1387/4132345398.py\u001b[0m in \u001b[0;36mcorrelation_matrix\u001b[0;34m(self, E_F)\u001b[0m\n\u001b[1;32m     65\u001b[0m             \u001b[0mself\u001b[0m\u001b[0;34m.\u001b[0m\u001b[0mbandstructure\u001b[0m\u001b[0;34m(\u001b[0m\u001b[0;34m)\u001b[0m\u001b[0;34m\u001b[0m\u001b[0;34m\u001b[0m\u001b[0m\n\u001b[1;32m     66\u001b[0m         \u001b[0moccupancy_mat\u001b[0m \u001b[0;34m=\u001b[0m \u001b[0mnp\u001b[0m\u001b[0;34m.\u001b[0m\u001b[0mmatlib\u001b[0m\u001b[0;34m.\u001b[0m\u001b[0mrepmat\u001b[0m\u001b[0;34m(\u001b[0m\u001b[0mself\u001b[0m\u001b[0;34m.\u001b[0m\u001b[0mfermi_dist\u001b[0m\u001b[0;34m(\u001b[0m\u001b[0mself\u001b[0m\u001b[0;34m.\u001b[0m\u001b[0mval\u001b[0m\u001b[0;34m,\u001b[0m \u001b[0mE_F\u001b[0m\u001b[0;34m)\u001b[0m\u001b[0;34m,\u001b[0m \u001b[0mself\u001b[0m\u001b[0;34m.\u001b[0m\u001b[0mvec\u001b[0m\u001b[0;34m.\u001b[0m\u001b[0mshape\u001b[0m\u001b[0;34m[\u001b[0m\u001b[0;36m0\u001b[0m\u001b[0;34m]\u001b[0m\u001b[0;34m,\u001b[0m \u001b[0;36m1\u001b[0m\u001b[0;34m)\u001b[0m\u001b[0;34m\u001b[0m\u001b[0;34m\u001b[0m\u001b[0m\n\u001b[0;32m---> 67\u001b[0;31m         \u001b[0mself\u001b[0m\u001b[0;34m.\u001b[0m\u001b[0mC_f\u001b[0m \u001b[0;34m=\u001b[0m \u001b[0;34m(\u001b[0m\u001b[0;34m(\u001b[0m\u001b[0moccupancy_mat\u001b[0m\u001b[0;34m*\u001b[0m\u001b[0mself\u001b[0m\u001b[0;34m.\u001b[0m\u001b[0mvec\u001b[0m\u001b[0;34m)\u001b[0m\u001b[0;34m@\u001b[0m\u001b[0mself\u001b[0m\u001b[0;34m.\u001b[0m\u001b[0mvec\u001b[0m\u001b[0;34m.\u001b[0m\u001b[0mT\u001b[0m\u001b[0;34m.\u001b[0m\u001b[0mconj\u001b[0m\u001b[0;34m(\u001b[0m\u001b[0;34m)\u001b[0m\u001b[0;34m)\u001b[0m\u001b[0;34m\u001b[0m\u001b[0;34m\u001b[0m\u001b[0m\n\u001b[0m\u001b[1;32m     68\u001b[0m \u001b[0;34m\u001b[0m\u001b[0m\n\u001b[1;32m     69\u001b[0m     \u001b[0;32mdef\u001b[0m \u001b[0mcovariance_matrix\u001b[0m\u001b[0;34m(\u001b[0m\u001b[0mself\u001b[0m\u001b[0;34m,\u001b[0m \u001b[0mE_F\u001b[0m\u001b[0;34m=\u001b[0m\u001b[0;36m0\u001b[0m\u001b[0;34m)\u001b[0m\u001b[0;34m:\u001b[0m\u001b[0;34m\u001b[0m\u001b[0;34m\u001b[0m\u001b[0m\n",
      "\u001b[0;31mKeyboardInterrupt\u001b[0m: "
     ]
    }
   ],
   "metadata": {}
  },
  {
   "cell_type": "code",
   "execution_count": null,
   "source": [
    "params.log_neg(subA,subB)"
   ],
   "outputs": [],
   "metadata": {}
  },
  {
   "cell_type": "code",
   "execution_count": null,
   "source": [
    "def run(p):\n",
    "    Lx,Ly,m,prob=p\n",
    "    params=Params(m=1,t=.5,l=.5,Delta=0.25,Lx=Lx,Ly=Ly,bcx=-1,bcy=-1)\n",
    "    subA=[np.arange(params.Lx//4),np.arange(params.Ly//4)]\n",
    "    subAp=[np.arange(params.Lx//4)+params.Lx//4,np.arange(params.Ly//4)]\n",
    "    subB=[np.arange(params.Lx//4)+params.Lx//2,np.arange(params.Ly//4)]\n",
    "    # prob=[1,0]*(2*params.Lx//4*params.Ly//4)\n",
    "    params.measure_all_Born(subAp,prob=prob)\n",
    "    # MI=params.mutual_information_m(subA,subB)\n",
    "    LN=params.log_neg(subA,subB)\n",
    "    # return MI,LN\n",
    "    return LN"
   ],
   "outputs": [],
   "metadata": {}
  },
  {
   "cell_type": "code",
   "execution_count": null,
   "source": [
    "Lx=20\n",
    "Ly=20\n",
    "prob=[1,0]*(2*Lx//4*Ly//4)\n",
    "run((Lx,Ly,1,prob))"
   ],
   "outputs": [
    {
     "output_type": "execute_result",
     "data": {
      "text/plain": [
       "(0.23778175341634977, 0.198589286248108)"
      ]
     },
     "metadata": {},
     "execution_count": 15
    }
   ],
   "metadata": {}
  },
  {
   "cell_type": "code",
   "execution_count": null,
   "source": [
    "Lx=24\n",
    "Ly=24\n",
    "prob=[1,0]*(2*Lx//4*Ly//4)\n",
    "run((Lx,Ly,1,prob))"
   ],
   "outputs": [
    {
     "output_type": "execute_result",
     "data": {
      "text/plain": [
       "(0.23802484791222867, 0.19304894101351344)"
      ]
     },
     "metadata": {},
     "execution_count": 9
    }
   ],
   "metadata": {}
  },
  {
   "cell_type": "code",
   "execution_count": null,
   "source": [
    "Lx=32\n",
    "Ly=32\n",
    "prob=[1,0]*(2*Lx//4*Ly//4)\n",
    "run((Lx,Ly,1,prob))"
   ],
   "outputs": [
    {
     "output_type": "execute_result",
     "data": {
      "text/plain": [
       "(0.2382134860143026, 0.18726214669890773)"
      ]
     },
     "metadata": {},
     "execution_count": 13
    }
   ],
   "metadata": {}
  },
  {
   "cell_type": "code",
   "execution_count": null,
   "source": [
    "Lx=48\n",
    "Ly=48\n",
    "prob=[1,0]*(2*Lx//4*Ly//4)\n",
    "run((Lx,Ly,1,prob))"
   ],
   "outputs": [
    {
     "output_type": "execute_result",
     "data": {
      "text/plain": [
       "(0.23827375728995293, 0.18321194141826425)"
      ]
     },
     "metadata": {},
     "execution_count": 14
    }
   ],
   "metadata": {}
  },
  {
   "cell_type": "code",
   "execution_count": null,
   "source": [
    "Lx=20\n",
    "Ly=20\n",
    "prob=[1,0]*(2*Lx//4*Ly//4)\n",
    "prob[10],prob[11]=prob[11],prob[10]\n",
    "run((Lx,Ly,1,prob))"
   ],
   "outputs": [
    {
     "output_type": "execute_result",
     "data": {
      "text/plain": [
       "(0.23141517885822793, 0.19300042621519609)"
      ]
     },
     "metadata": {},
     "execution_count": 16
    }
   ],
   "metadata": {}
  },
  {
   "cell_type": "code",
   "execution_count": null,
   "source": [
    "Lx=24\n",
    "Ly=24\n",
    "prob=[1,0]*(2*Lx//4*Ly//4)\n",
    "prob[0],prob[1]=prob[1],prob[0]\n",
    "prob[2],prob[3]=prob[3],prob[2]\n",
    "run((Lx,Ly,1,prob))"
   ],
   "outputs": [
    {
     "output_type": "execute_result",
     "data": {
      "text/plain": [
       "(0.23683946786431775, 0.1867763214278284)"
      ]
     },
     "metadata": {},
     "execution_count": 11
    }
   ],
   "metadata": {}
  },
  {
   "cell_type": "code",
   "execution_count": null,
   "source": [
    "prob=[1,0]*(2*Lx//4*Ly//4)\n",
    "prob_list=[prob]\n",
    "prob1=copy(prob)\n",
    "for i in range(2*Lx//4*Ly//4):\n",
    "    prob1[2*i],prob1[2*i+1]=prob1[2*i+1],prob1[2*i]\n",
    "    prob2=copy(prob1)\n",
    "    prob_list.append(prob2)"
   ],
   "outputs": [],
   "metadata": {}
  },
  {
   "cell_type": "code",
   "execution_count": null,
   "source": [
    "Lx=20\n",
    "Ly=20\n",
    "inputs=[(Lx,Ly,1,prob) for prob in prob_list[:]]\n",
    "LN_samesite_list=np.zeros(len(prob_list))\n",
    "fn_samesite_list=np.zeros(len(prob_list))\n",
    "\n",
    "sync=rc[:].map_sync(run,inputs)\n",
    "for es_i,result in enumerate(sync):\n",
    "    LN=result\n",
    "    LN_samesite_list[es_i]=(LN)\n",
    "    # fn_samesite_list[es_i]=(fn)"
   ],
   "outputs": [],
   "metadata": {}
  },
  {
   "cell_type": "code",
   "execution_count": null,
   "source": [
    "LN_samesite_list"
   ],
   "outputs": [
    {
     "output_type": "execute_result",
     "data": {
      "text/plain": [
       "array([0.19858932, 0.19692903, 0.1954456 , 0.18953166, 0.21692442,\n",
       "       0.20161777, 0.13334136, 0.19917787, 0.2016472 , 0.23076488,\n",
       "       0.23218488, 0.22904538, 0.30661944, 0.23060324, 0.32818362,\n",
       "       0.22373532, 0.34948337, 0.2183061 , 0.3268006 , 0.22240315,\n",
       "       0.2258626 , 0.21997299, 0.36117528, 0.21040891, 0.40690087,\n",
       "       0.22968258, 0.49894351, 0.21890739, 0.46916995, 0.2537552 ,\n",
       "       0.27542222, 0.2615031 , 0.33761503, 0.27521211, 0.3328388 ,\n",
       "       0.28346364, 0.38270836, 0.30263679, 0.41917517, 0.31574019,\n",
       "       0.35140963, 0.30344772, 0.26185602, 0.26716377, 0.166754  ,\n",
       "       0.26034795, 0.20326112, 0.26417571, 0.22358049, 0.24200467,\n",
       "       0.24550654])"
      ]
     },
     "metadata": {},
     "execution_count": 27
    }
   ],
   "metadata": {}
  },
  {
   "cell_type": "code",
   "execution_count": null,
   "source": [
    "plt.plot(LN_samesite_list/np.log(2))"
   ],
   "outputs": [
    {
     "output_type": "execute_result",
     "data": {
      "text/plain": [
       "[<matplotlib.lines.Line2D at 0x7fb023ca0c40>]"
      ]
     },
     "metadata": {},
     "execution_count": 29
    },
    {
     "output_type": "display_data",
     "data": {
      "image/png": "[encoded data removed]",
      "text/plain": [
       "<Figure size 489.6x288 with 1 Axes>"
      ]
     },
     "metadata": {
      "needs_background": "light"
     }
    }
   ],
   "metadata": {}
  },
  {
   "cell_type": "code",
   "execution_count": null,
   "source": [
    "def run(p):\n",
    "    Lx,Ly,m,prob,A_y,Ap_y,B_y=p\n",
    "    params=Params(m=1,t=.5,l=.5,Delta=0.25,Lx=Lx,Ly=Ly,bcx=-1,bcy=-1)\n",
    "    subA=[np.arange(params.Lx//4),A_y]\n",
    "    subAp=[np.arange(params.Lx//4)+params.Lx//4,Ap_y]\n",
    "    subB=[np.arange(params.Lx//4)+params.Lx//2,B_y]\n",
    "    # prob=[1,0]*(2*params.Lx//4*params.Ly//4)\n",
    "    params.measure_all_Born(subAp,prob=prob)\n",
    "    MI=params.mutual_information_m(subA,subB)\n",
    "    LN=params.log_neg(subA,subB)\n",
    "    return MI,LN\n",
    "    # return LN\n"
   ],
   "outputs": [],
   "metadata": {}
  },
  {
   "cell_type": "code",
   "execution_count": null,
   "source": [
    "Lx=20\n",
    "Ly=20\n",
    "prob=[1,0]*(2*Lx//4*Ly//4)\n",
    "\n",
    "run((Lx,Ly,1,prob,np.arange(Ly//4),np.arange(Ly//4)+Ly//4-1,np.arange(Ly//4)+Ly//2-2))"
   ],
   "outputs": [
    {
     "output_type": "execute_result",
     "data": {
      "text/plain": [
       "(0.002818996735577173, 0.002429213125219931)"
      ]
     },
     "metadata": {},
     "execution_count": 49
    }
   ],
   "metadata": {}
  },
  {
   "cell_type": "code",
   "execution_count": null,
   "source": [
    "# is there area law here? \n",
    "# if so, how to eliminate? by thin "
   ],
   "outputs": [],
   "metadata": {}
  },
  {
   "cell_type": "code",
   "execution_count": null,
   "source": [
    "Lx=20\n",
    "Ly=20\n",
    "prob=[1,0]*(2*Lx//4*Ly//4)\n",
    "\n",
    "run((Lx,Ly,1,prob,np.arange(Ly//4),np.arange(Ly//4),np.arange(Ly//4)))"
   ],
   "outputs": [
    {
     "output_type": "execute_result",
     "data": {
      "text/plain": [
       "(0.23778175341634977, 0.198589286248108)"
      ]
     },
     "metadata": {},
     "execution_count": 74
    }
   ],
   "metadata": {}
  },
  {
   "cell_type": "code",
   "execution_count": null,
   "source": [
    "Lx=20\n",
    "Ly=20\n",
    "prob=[1,0]*(2*Lx//4*Ly//4)\n",
    "\n",
    "run((Lx,Ly,1,prob,np.arange(Ly//4),np.arange(Ly//4)+1,np.arange(Ly//4)))"
   ],
   "outputs": [
    {
     "output_type": "execute_result",
     "data": {
      "text/plain": [
       "0.16060922039007508"
      ]
     },
     "metadata": {},
     "execution_count": 59
    }
   ],
   "metadata": {}
  },
  {
   "cell_type": "code",
   "execution_count": null,
   "source": [
    "Lx=20\n",
    "Ly=20\n",
    "prob=[1,0]*(2*Lx//4*Ly//2)\n",
    "\n",
    "run((Lx,Ly,1,prob,np.arange(Ly//2),np.arange(Ly//2),np.arange(Ly//2)))"
   ],
   "outputs": [
    {
     "output_type": "execute_result",
     "data": {
      "text/plain": [
       "0.8232124561216985"
      ]
     },
     "metadata": {},
     "execution_count": 60
    }
   ],
   "metadata": {}
  },
  {
   "cell_type": "code",
   "execution_count": null,
   "source": [
    "Lx=20\n",
    "Ly=20\n",
    "prob=[1,0]*(2*Lx//4*Ly//1)\n",
    "\n",
    "run((Lx,Ly,1,prob,np.arange(Ly),np.arange(Ly),np.arange(Ly)))"
   ],
   "outputs": [
    {
     "output_type": "execute_result",
     "data": {
      "text/plain": [
       "2.708168931880884"
      ]
     },
     "metadata": {},
     "execution_count": 61
    }
   ],
   "metadata": {}
  },
  {
   "cell_type": "code",
   "execution_count": null,
   "source": [
    "Lx=20\n",
    "Ly=20\n",
    "prob=[1,0]*(2*Lx//4*(Ly-1))\n",
    "\n",
    "run((Lx,Ly,1,prob,np.arange(Ly-1),np.arange(Ly-1),np.arange(Ly-1)))"
   ],
   "outputs": [
    {
     "output_type": "execute_result",
     "data": {
      "text/plain": [
       "2.047272723469261"
      ]
     },
     "metadata": {},
     "execution_count": 64
    }
   ],
   "metadata": {}
  },
  {
   "cell_type": "code",
   "execution_count": null,
   "source": [
    "y_list=np.arange(1,10)\n"
   ],
   "outputs": [],
   "metadata": {}
  },
  {
   "cell_type": "code",
   "execution_count": null,
   "source": [
    "Lx=20\n",
    "Ly=20\n",
    "MI_list=[]\n",
    "LN_list=[]\n",
    "y_list=np.arange(1,Ly+1)\n",
    "for y in y_list:\n",
    "    prob=[1,0]*(2*Lx//4*y)\n",
    "    MI,LN=run((Lx,Ly,1,prob,np.arange(y),np.arange(y),np.arange(y)))\n",
    "    MI_list.append(MI)\n",
    "    LN_list.append(LN)"
   ],
   "outputs": [],
   "metadata": {}
  },
  {
   "cell_type": "code",
   "execution_count": null,
   "source": [
    "plt.plot(y_list,LN_list,'.')"
   ],
   "outputs": [
    {
     "output_type": "execute_result",
     "data": {
      "text/plain": [
       "[<matplotlib.lines.Line2D at 0x7f4a9a8618b0>]"
      ]
     },
     "metadata": {},
     "execution_count": 36
    },
    {
     "output_type": "display_data",
     "data": {
      "image/png": "[encoded data removed]",
      "text/plain": [
       "<Figure size 489.6x288 with 1 Axes>"
      ]
     },
     "metadata": {
      "needs_background": "light"
     }
    }
   ],
   "metadata": {}
  },
  {
   "cell_type": "code",
   "execution_count": null,
   "source": [
    "mask=((y_list)>5 & (y_list<20))\n",
    "\n",
    "lr=scipy.stats.linregress((y_list)[mask],(np.array(LN_list)[mask]))\n"
   ],
   "outputs": [],
   "metadata": {}
  },
  {
   "cell_type": "code",
   "execution_count": null,
   "source": [
    "[lr.slope,lr.intercept]"
   ],
   "outputs": [
    {
     "output_type": "execute_result",
     "data": {
      "text/plain": [
       "[0.13531758961523732, -0.4681574259048231]"
      ]
     },
     "metadata": {},
     "execution_count": 47
    }
   ],
   "metadata": {}
  },
  {
   "cell_type": "code",
   "execution_count": null,
   "source": [
    "-0.4681574259048231/np.log(2)"
   ],
   "outputs": [
    {
     "output_type": "execute_result",
     "data": {
      "text/plain": [
       "-0.6754083967082307"
      ]
     },
     "metadata": {},
     "execution_count": 48
    }
   ],
   "metadata": {}
  },
  {
   "cell_type": "code",
   "execution_count": null,
   "source": [
    "params=Params(m=1,t=.5,l=.5,Delta=0.25,Lx=32,Ly=32,bcx=1,bcy=1)\n",
    "subA=[np.arange(params.Lx//4),np.arange(params.Ly//4)]\n",
    "subAp=[np.arange(params.Lx//4)+params.Lx//4,np.arange(params.Ly//4)]\n",
    "subB=[np.arange(params.Lx//4)+params.Lx//2,np.arange(params.Ly//4)]\n",
    "prob=[1,0]*(2*params.Lx//4*params.Ly//4)\n",
    "params.measure_all_Born(subAp,prob)\n",
    "[params.mutual_information_m(subA,subB)/np.log(2),params.log_neg(subA,subB)/np.log(2)]"
   ],
   "outputs": [
    {
     "output_type": "execute_result",
     "data": {
      "text/plain": [
       "[0.3436694149437181, 0.2701627048897507]"
      ]
     },
     "metadata": {},
     "execution_count": 19
    }
   ],
   "metadata": {}
  },
  {
   "cell_type": "code",
   "execution_count": null,
   "source": [
    "(np.log(2)-.5)"
   ],
   "outputs": [
    {
     "output_type": "execute_result",
     "data": {
      "text/plain": [
       "0.1931471805599453"
      ]
     },
     "metadata": {},
     "execution_count": 12
    }
   ],
   "metadata": {}
  },
  {
   "cell_type": "code",
   "execution_count": null,
   "source": [
    "params.log_neg(subA,subB)"
   ],
   "outputs": [
    {
     "output_type": "execute_result",
     "data": {
      "text/plain": [
       "0.19304853632922025"
      ]
     },
     "metadata": {},
     "execution_count": 16
    }
   ],
   "metadata": {}
  },
  {
   "cell_type": "code",
   "execution_count": null,
   "source": [
    "nocc=1/2*(1-(np.diag(params.C_m_history[-1],1)[::2])).reshape((params.Ly,params.Lx,4))"
   ],
   "outputs": [],
   "metadata": {}
  },
  {
   "cell_type": "code",
   "execution_count": null,
   "source": [
    "nocc=1/2*(1-(np.diag(params.C_m_history[-1],1)[::2]))"
   ],
   "outputs": [],
   "metadata": {}
  },
  {
   "cell_type": "code",
   "execution_count": null,
   "source": [
    "plt.plot(nocc.reshape((-1,1)),'.')"
   ],
   "outputs": [
    {
     "output_type": "execute_result",
     "data": {
      "text/plain": [
       "[<matplotlib.lines.Line2D at 0x7fc9ed591730>]"
      ]
     },
     "metadata": {},
     "execution_count": 352
    },
    {
     "output_type": "display_data",
     "data": {
      "image/png": "[encoded data removed]",
      "text/plain": [
       "<Figure size 489.6x288 with 1 Axes>"
      ]
     },
     "metadata": {
      "needs_background": "light"
     }
    }
   ],
   "metadata": {}
  },
  {
   "cell_type": "code",
   "execution_count": null,
   "source": [
    "plt.pcolormesh(nocc[:,:,3])\n",
    "plt.colorbar()"
   ],
   "outputs": [
    {
     "output_type": "execute_result",
     "data": {
      "text/plain": [
       "<matplotlib.colorbar.Colorbar at 0x7efc03f28910>"
      ]
     },
     "metadata": {},
     "execution_count": 15
    },
    {
     "output_type": "display_data",
     "data": {
      "image/png": "[encoded data removed]",
      "text/plain": [
       "<Figure size 489.6x288 with 2 Axes>"
      ]
     },
     "metadata": {
      "needs_background": "light"
     }
    }
   ],
   "metadata": {}
  },
  {
   "cell_type": "code",
   "execution_count": null,
   "source": [
    "params.fermion_number(subAp)"
   ],
   "outputs": [
    {
     "output_type": "execute_result",
     "data": {
      "text/plain": [
       "72.0"
      ]
     },
     "metadata": {},
     "execution_count": 263
    }
   ],
   "metadata": {}
  },
  {
   "cell_type": "code",
   "execution_count": null,
   "source": [
    "params.Lx//4*params.Ly//4*4/2"
   ],
   "outputs": [
    {
     "output_type": "execute_result",
     "data": {
      "text/plain": [
       "72.0"
      ]
     },
     "metadata": {},
     "execution_count": 208
    }
   ],
   "metadata": {}
  },
  {
   "cell_type": "code",
   "execution_count": null,
   "source": [
    "[params.mutual_information_m(subA,subB)/np.log(2),params.log_neg(subA,subB)/np.log(2)]\n"
   ],
   "outputs": [
    {
     "output_type": "execute_result",
     "data": {
      "text/plain": [
       "[0.8336413707968007, 0.5442038651450922]"
      ]
     },
     "metadata": {},
     "execution_count": 193
    }
   ],
   "metadata": {}
  },
  {
   "cell_type": "code",
   "execution_count": null,
   "source": [
    "es=50\n",
    "Lx=24\n",
    "Ly=24\n",
    "mN=11\n",
    "with open('/mnt/d/KITP/Rp_SPT/13/HOTI_Born_es{:d}_Lx{:d}_Ly{:d}_mN{:d}.pickle'.format(es,Lx,Ly,mN),'rb') as f:\n",
    "        [m_list,MI_list,LN_list,fn_list]=pickle.load(f)"
   ],
   "outputs": [],
   "metadata": {}
  },
  {
   "cell_type": "code",
   "execution_count": null,
   "source": [
    "m_list"
   ],
   "outputs": [
    {
     "output_type": "execute_result",
     "data": {
      "text/plain": [
       "array([1. , 1.2, 1.4, 1.6, 1.8, 2. , 2.2, 2.4, 2.6, 2.8, 3. ])"
      ]
     },
     "metadata": {},
     "execution_count": 229
    }
   ],
   "metadata": {}
  },
  {
   "cell_type": "code",
   "execution_count": null,
   "source": [
    "MI_list"
   ],
   "outputs": [],
   "metadata": {}
  },
  {
   "cell_type": "code",
   "execution_count": null,
   "source": [
    "fig,ax=plt.subplots()\n",
    "ax.errorbar(m_list,MI_list.mean(axis=1)/np.log(2),MI_list.std(axis=1)/np.log(2)/np.sqrt(es),color='r',label='MI')\n",
    "ax.errorbar(m_list,LN_list.mean(axis=1)/np.log(2),LN_list.std(axis=1)/np.log(2)/np.sqrt(es),color='b',label='LN')\n",
    "# ax.plot(m_list,LN_half_mean_list,color='y')\n",
    "ax.set_xlabel('$m$')\n",
    "ax.legend()\n",
    "ax.set_ylabel('[log 2]')"
   ],
   "outputs": [
    {
     "output_type": "execute_result",
     "data": {
      "text/plain": [
       "Text(0, 0.5, '[log 2]')"
      ]
     },
     "metadata": {},
     "execution_count": 285
    },
    {
     "output_type": "display_data",
     "data": {
      "image/png": "[encoded data removed]",
      "text/plain": [
       "<Figure size 489.6x288 with 1 Axes>"
      ]
     },
     "metadata": {
      "needs_background": "light"
     }
    }
   ],
   "metadata": {}
  },
  {
   "cell_type": "code",
   "execution_count": null,
   "source": [
    "fig,ax=plt.subplots()\n",
    "# ax.plot(m_list,MI_list/np.log(2),'.r')\n",
    "ax.plot(m_list,LN_list/np.log(2),'.b')\n",
    "# ax.errorbar(m_list,LN_list.mean(axis=1)/np.log(2),LN_list.std(axis=1)/np.log(2)/np.sqrt(es),color='b',label='LN')\n",
    "# ax.plot(m_list,LN_half_mean_list,color='y')\n",
    "ax.set_xlabel('$m$')\n",
    "ax.set_ylabel('[log 2]')"
   ],
   "outputs": [
    {
     "output_type": "execute_result",
     "data": {
      "text/plain": [
       "Text(0, 0.5, '[log 2]')"
      ]
     },
     "metadata": {},
     "execution_count": 290
    },
    {
     "output_type": "display_data",
     "data": {
      "image/png": "[encoded data removed]",
      "text/plain": [
       "<Figure size 489.6x288 with 1 Axes>"
      ]
     },
     "metadata": {
      "needs_background": "light"
     }
    }
   ],
   "metadata": {}
  },
  {
   "cell_type": "code",
   "execution_count": null,
   "source": [
    "LN_list[0]/np.log(2)"
   ],
   "outputs": [
    {
     "output_type": "execute_result",
     "data": {
      "text/plain": [
       "array([0.15484168, 0.33800161, 0.38364715, 0.21072409, 0.47101683,\n",
       "       0.60676813, 0.11885021, 0.37702861, 0.31533037, 0.25998448,\n",
       "       0.15746678, 0.07672568, 0.14287695, 0.41092328, 0.17465255,\n",
       "       0.13414964, 0.20172094, 0.2831965 , 0.13515118, 0.18260946,\n",
       "       0.20290338, 0.22859598, 0.4263527 , 0.35104726, 0.19525617,\n",
       "       0.15443667, 0.27846227, 0.14352724, 0.24826754, 0.23415327,\n",
       "       0.15298297, 0.4468939 , 0.2923901 , 0.08199279, 0.28212282,\n",
       "       0.45513235, 0.35762027, 0.11325761, 0.25781701, 0.15399139,\n",
       "       0.25843683, 0.38289717, 0.42178947, 0.16640503, 0.59600041,\n",
       "       0.28200072, 0.31189891, 0.51777252, 0.21284644, 0.36721382])"
      ]
     },
     "metadata": {},
     "execution_count": 241
    }
   ],
   "metadata": {}
  },
  {
   "cell_type": "code",
   "execution_count": null,
   "source": [
    "LN_half_mean_list=[LN[fn==72].mean()/np.log(2) for LN,fn in zip(LN_list,fn_list)]"
   ],
   "outputs": [],
   "metadata": {}
  },
  {
   "cell_type": "markdown",
   "source": [
    "## load from pickle"
   ],
   "metadata": {}
  },
  {
   "cell_type": "code",
   "execution_count": 17,
   "source": [
    "m_Born_list={}\n",
    "MI_Born_list={}\n",
    "LN_Born_list={}\n",
    "m_Force_list={}\n",
    "MI_Force_list={}\n",
    "LN_Force_list={}\n",
    "m_list={}\n",
    "MI_list={}\n",
    "LN_list={}\n",
    "\n",
    "for Lx,Ly in zip([20,24,28,32],[20,24,28,32]):\n",
    "    with open('/mnt/d/kitp/Rp_SPT/13/HOTI_Born_En100_Lx{:}_Ly{:}_Born.pickle'.format(Lx,Ly),'rb') as f:\n",
    "        [m_Born_list[(Lx,Ly)],MI_Born_list[(Lx,Ly)],LN_Born_list[(Lx,Ly)]]=pickle.load(f)\n",
    "    with open('/mnt/d/kitp/Rp_SPT/13/HOTI_Born_En1_Lx{:}_Ly{:}_Force+.pickle'.format(Lx,Ly),'rb') as f:\n",
    "        [m_Force_list[(Lx,Ly)],MI_Force_list[(Lx,Ly)],LN_Force_list[(Lx,Ly)]]=pickle.load(f)\n",
    "    with open('/mnt/d/kitp/Rp_SPT/13/HOTI_Born_En1_Lx{:}_Ly{:}_.pickle'.format(Lx,Ly),'rb') as f:\n",
    "        [m_list[(Lx,Ly)],MI_list[(Lx,Ly)],LN_list[(Lx,Ly)]]=pickle.load(f)"
   ],
   "outputs": [],
   "metadata": {}
  },
  {
   "cell_type": "code",
   "execution_count": 21,
   "source": [
    "fig,axs=plt.subplots(3,1,figsize=(6,6),sharex=True)\n",
    "ax=axs[0]\n",
    "for Lx,Ly in zip([20,24,28,32],[20,24,28,32]):\n",
    "    ax.plot(m_list[(Lx,Ly)],LN_list[(Lx,Ly)].mean(axis=1)/np.log(2),'.-',label='Lx={:},Ly={:}'.format(Lx,Ly))\n",
    "ax.legend()\n",
    "ax.set_ylabel('LN[log 2]')\n",
    "ax.set_title('No measure')\n",
    "ax=axs[1]\n",
    "for Lx,Ly in zip([20,24,28,32],[20,24,28,32]):\n",
    "    ax.plot(m_Force_list[(Lx,Ly)],LN_Force_list[(Lx,Ly)].mean(axis=1)/np.log(2),'.-',label='Lx={:},Ly={:}'.format(Lx,Ly))\n",
    "ax.legend()\n",
    "ax.set_ylabel('LN[log 2]')\n",
    "ax.set_title(r'Force: $|01\\rangle+|10\\rangle$')\n",
    "\n",
    "ax=axs[2]\n",
    "for Lx,Ly in zip([20,24,28,32],[20,24,28,32]):\n",
    "    ax.errorbar(m_Born_list[(Lx,Ly)],LN_Born_list[(Lx,Ly)].mean(axis=1)/np.log(2),LN_Born_list[(Lx,Ly)].std(axis=1)/np.sqrt(LN_Born_list[(Lx,Ly)].shape[1])/np.log(2),fmt='.-',capsize=3,label='Lx={:},Ly={:}'.format(Lx,Ly))\n",
    "ax.legend()\n",
    "ax.set_title(r'Born: $|01\\rangle\\pm|10\\rangle$')\n",
    "\n",
    "ax.set_xlabel('m')\n",
    "ax.set_ylabel('LN[log 2]')\n",
    "fig.savefig('/mnt/d/kitp/Rp_SPT/13/LN.pdf')"
   ],
   "outputs": [
    {
     "output_type": "display_data",
     "data": {
      "image/png": "[encoded data removed]",
      "text/plain": [
       "<Figure size 432x432 with 3 Axes>"
      ]
     },
     "metadata": {
      "needs_background": "light"
     }
    }
   ],
   "metadata": {}
  },
  {
   "cell_type": "code",
   "execution_count": 130,
   "source": [
    "plt.plot(m_list,LN_Born_list)"
   ],
   "outputs": [
    {
     "output_type": "execute_result",
     "data": {
      "text/plain": [
       "[<matplotlib.lines.Line2D at 0x7fd6289f1ca0>]"
      ]
     },
     "metadata": {},
     "execution_count": 130
    },
    {
     "output_type": "display_data",
     "data": {
      "image/png": "[encoded data removed]",
      "text/plain": [
       "<Figure size 489.6x288 with 1 Axes>"
      ]
     },
     "metadata": {
      "needs_background": "light"
     }
    }
   ],
   "metadata": {}
  },
  {
   "cell_type": "code",
   "execution_count": 136,
   "source": [
    "with open('HOTI_Born_En3_Lx20_Ly20_Born.pickle','rb') as f:\n",
    "    [m_list,MI_Born_list,LN_Born_list]=pickle.load(f)"
   ],
   "outputs": [],
   "metadata": {}
  },
  {
   "cell_type": "code",
   "execution_count": 137,
   "source": [
    "plt.plot(m_list,LN_Born_list.mean(axis=1))"
   ],
   "outputs": [
    {
     "output_type": "execute_result",
     "data": {
      "text/plain": [
       "[<matplotlib.lines.Line2D at 0x7fd628096520>]"
      ]
     },
     "metadata": {},
     "execution_count": 137
    },
    {
     "output_type": "display_data",
     "data": {
      "image/png": "[encoded data removed]",
      "text/plain": [
       "<Figure size 489.6x288 with 1 Axes>"
      ]
     },
     "metadata": {
      "needs_background": "light"
     }
    }
   ],
   "metadata": {}
  },
  {
   "cell_type": "markdown",
   "source": [
    "# A ,B adjacent"
   ],
   "metadata": {}
  },
  {
   "cell_type": "code",
   "execution_count": null,
   "source": [
    "params=Params(m=3,t=.5,l=.5,Delta=0.25,Lx=24,Ly=24,bcx=-1,bcy=-1)\n",
    "subA=[np.arange(params.Lx//4),np.arange(params.Ly//4)]\n",
    "subB=[np.arange(params.Lx//4)+params.Lx//4,np.arange(params.Ly//4)]"
   ],
   "outputs": [],
   "metadata": {}
  },
  {
   "cell_type": "code",
   "execution_count": null,
   "source": [
    "[params.mutual_information_m(subA,subB)/np.log(2),params.log_neg(subA,subB)/np.log(2)]"
   ],
   "outputs": [
    {
     "output_type": "execute_result",
     "data": {
      "text/plain": [
       "[3.4032947658798065, 5.235688677222684]"
      ]
     },
     "metadata": {},
     "execution_count": 406
    }
   ],
   "metadata": {}
  },
  {
   "cell_type": "code",
   "execution_count": null,
   "source": [
    "m_list=np.linspace(1,3,11)\n",
    "LN_list=[]\n",
    "MI_list=[]\n",
    "for m in m_list:\n",
    "    params=Params(m=m,t=.5,l=.5,Delta=0.25,Lx=24,Ly=24,bcx=1,bcy=1)\n",
    "    MI_list.append(params.mutual_information_m([np.arange(params.Lx//4),np.arange(params.Ly//4)],[np.arange(params.Lx//4)+params.Lx//4,np.arange(params.Ly//4)]))\n",
    "    LN_list.append(params.log_neg([np.arange(params.Lx//4),np.arange(params.Ly//4)],[np.arange(params.Lx//4)+params.Lx//4,np.arange(params.Ly//4)]))\n",
    "\n"
   ],
   "outputs": [],
   "metadata": {}
  },
  {
   "cell_type": "code",
   "execution_count": null,
   "source": [
    "fig,ax=plt.subplots()\n",
    "ax.plot(m_list,MI_list,'b',label='MI')\n",
    "ax.plot(m_list,LN_list,'r',label='LN')\n",
    "ax.legend()\n",
    "ax.set_xlabel('$m$')\n",
    "ax.set_ylabel('[log 2]')"
   ],
   "outputs": [
    {
     "output_type": "execute_result",
     "data": {
      "text/plain": [
       "Text(0, 0.5, '[log 2]')"
      ]
     },
     "metadata": {},
     "execution_count": 408
    },
    {
     "output_type": "display_data",
     "data": {
      "image/png": "[encoded data removed]",
      "text/plain": [
       "<Figure size 489.6x288 with 1 Axes>"
      ]
     },
     "metadata": {
      "needs_background": "light"
     }
    }
   ],
   "metadata": {}
  },
  {
   "cell_type": "code",
   "execution_count": null,
   "source": [],
   "outputs": [],
   "metadata": {}
  }
 ],
 "metadata": {
  "orig_nbformat": 4,
  "language_info": {
   "name": "python",
   "version": "3.8.11",
   "mimetype": "text/x-python",
   "codemirror_mode": {
    "name": "ipython",
    "version": 3
   },
   "pygments_lexer": "ipython3",
   "nbconvert_exporter": "python",
   "file_extension": ".py"
  },
  "kernelspec": {
   "name": "python3",
   "display_name": "Python 3.8.11 64-bit ('base': conda)"
  },
  "interpreter": {
   "hash": "8763e5ea16b716ad1eeffeab5f34109bd722594d0305e114e3d37565ed57b2a4"
  }
 },
 "nbformat": 4,
 "nbformat_minor": 2
}