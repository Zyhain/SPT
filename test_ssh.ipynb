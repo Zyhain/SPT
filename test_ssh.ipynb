{
 "cells": [
  {
   "cell_type": "markdown",
   "source": [
    "# API"
   ],
   "metadata": {}
  },
  {
   "cell_type": "code",
   "execution_count": 2,
   "source": [
    "import numpy as np\n",
    "import scipy.sparse as sp\n",
    "import scipy.sparse.linalg as sla\n",
    "import scipy.linalg as la\n",
    "import scipy.stats\n",
    "import numpy.matlib\n",
    "import matplotlib.pyplot as plt\n",
    "import time\n",
    "import pickle\n",
    "from copy import copy\n",
    "# from SSH import *\n",
    "# %load_ext line_profiler"
   ],
   "outputs": [],
   "metadata": {}
  },
  {
   "cell_type": "code",
   "execution_count": 3,
   "source": [
    "plt.rcParams['text.usetex']=True\n",
    "plt.rcParams['font.family']='serif'\n",
    "plt.rcParams['font.size']=9\n",
    "plt.rcParams['axes.titlesize']=plt.rcParams['font.size']\n",
    "plt.rcParams['figure.figsize']=(6.8,4)"
   ],
   "outputs": [],
   "metadata": {}
  },
  {
   "cell_type": "code",
   "execution_count": 6,
   "source": [
    "# ipcluster start --engines=MPI\n",
    "import ipyparallel as ipp\n",
    "rc = ipp.Client()\n",
    "rc[:].execute(\"from SSH import *\")\n",
    "rc[:].execute(\"import numpy as np\")"
   ],
   "outputs": [
    {
     "output_type": "execute_result",
     "data": {
      "text/plain": [
       "<AsyncResult: execute>"
      ]
     },
     "metadata": {},
     "execution_count": 6
    }
   ],
   "metadata": {}
  },
  {
   "cell_type": "code",
   "execution_count": 4,
   "source": [
    "# %%writefile SSH.py\n",
    "import numpy as np\n",
    "import scipy.linalg as la\n",
    "import numpy.linalg as nla\n",
    "import numpy.matlib\n",
    "from scipy import integrate\n",
    "\n",
    "\n",
    "class Params:\n",
    "    def __init__(self,\n",
    "    L=100,\n",
    "    delta=0,\n",
    "    T=0,\n",
    "    dmax=100,\n",
    "    bc=-1,\n",
    "    dE=None,\n",
    "    E0=None,\n",
    "    kappa=0.5,\n",
    "    history=True):\n",
    "        self.L=L\n",
    "        self.delta=delta\n",
    "        self.T=T\n",
    "        self.dE=dE\n",
    "        self.E0=E0\n",
    "        self.kappa=kappa\n",
    "        self.history=history\n",
    "        if L<np.inf:\n",
    "            self.v=1-delta\n",
    "            self.w=1+delta\n",
    "            self.bc=bc\n",
    "            band=np.vstack([np.ones(L)*self.v,np.ones(L)*self.w]).flatten('F')\n",
    "            Ham=np.diag(band[:-1],1)\n",
    "            Ham[0,-1]=self.w*bc\n",
    "            self.Hamiltonian=-(Ham+Ham.T)\n",
    "        else:\n",
    "            self.dmax=dmax\n",
    "    \n",
    "    def bandstructure(self):\n",
    "        val,vec=nla.eigh(self.Hamiltonian)\n",
    "        sortindex=np.argsort(val)\n",
    "        self.val=val[sortindex]\n",
    "        self.vec=vec[:,sortindex]    \n",
    "\n",
    "    def E_k(self,k,branch):\n",
    "        '''\n",
    "        branch = +/-1\n",
    "        '''\n",
    "        return branch*np.sqrt(2*(1+self.delta**2)+2*(1-self.delta**2)*np.cos(k))\n",
    "\n",
    "        \n",
    "    def fermi_dist_k(self,k,branch,E_F=0):\n",
    "        if self.T==0:\n",
    "            return np.heaviside(E_F-self.E_k(k,branch),0)\n",
    "        else:\n",
    "            return 1/(1+np.exp((self.E_k(k,branch)-E_F)/self.T))\n",
    "\n",
    "    def fermi_dist(self,energy,E_F):      \n",
    "        if self.T==0:\n",
    "            return np.heaviside(E_F-energy,0)\n",
    "        elif self.T<np.inf:\n",
    "            return 1/(1+np.exp((energy-E_F)/self.T)) \n",
    "        else:\n",
    "            # occ=np.array([1]*64+[0]*64)\n",
    "            # occ[63],occ[64]=occ[64],occ[63]\n",
    "            # return occ\n",
    "            assert self.dE is not None, 'dE is unspecified when T is inf'\n",
    "            k=int(len(energy)*self.kappa)\n",
    "            index=np.random.choice(np.arange(len(energy)),k,replace=False)\n",
    "            # index=np.random.choice(np.arange(len(energy)//2),k//2,replace=False)\n",
    "            E_mean=np.sum(energy[index])/self.L\n",
    "            \n",
    "            while np.abs(E_mean-self.E0)>self.dE:\n",
    "                index=np.random.choice(np.arange(len(energy)),k,replace=False)\n",
    "                # index=np.random.choice(np.arange(len(energy)//2),k//2,replace=False)\n",
    "                # print('{:f}'.format(E_mean))\n",
    "                E_mean=np.sum(energy[index])/self.L\n",
    "                # print(E_mean)\n",
    "            filt=np.zeros(len(energy),dtype=int)\n",
    "            filt[index]=1\n",
    "            # filt[L-index]=1\n",
    "            self.index=index\n",
    "            self.E_mean=E_mean\n",
    "            return filt\n",
    "\n",
    "\n",
    "    def correlation_matrix_inf(self):\n",
    "        '''\n",
    "        self.dmax: the maximal distance (in terms of unit cell) \n",
    "        '''\n",
    "        assert self.L==np.inf, \"Wire length should be inf\"\n",
    "        cov_mat=[]\n",
    "        for d in range(self.dmax):\n",
    "            integrand_11=lambda k:2*np.cos(k*d)*(self.fermi_dist_k(k,1)+self.fermi_dist_k(k,-1))\n",
    "            if self.T>0:\n",
    "                integrand_11=lambda k:2*np.cos(k*d)*(self.fermi_dist_k(k,1)+self.fermi_dist_k(k,-1))\n",
    "                integrand_12=lambda k:-np.sqrt(2)*((1-self.delta)*np.cos(k*d)+(1+self.delta)*np.cos(k*(d-1)))/np.sqrt((1+self.delta**2)+(1-self.delta**2)*np.cos(k))*(self.fermi_dist_k(k,1)-self.fermi_dist_k(k,-1))\n",
    "                integrand_21=lambda k:-np.sqrt(2)*((1-self.delta)*np.cos(k*d)+(1+self.delta)*np.cos(k*(d+1)))/np.sqrt((1+self.delta**2)+(1-self.delta**2)*np.cos(k))*(self.fermi_dist_k(k,1)-self.fermi_dist_k(k,-1))\n",
    "            else:\n",
    "                # integrand_11=lambda k:2*np.cos(k*d)\n",
    "                integrand_12=lambda k:np.sqrt(2)*((1-self.delta)*np.cos(k*d)+(1+self.delta)*np.cos(k*(d-1)))/np.sqrt((1+self.delta**2)+(1-self.delta**2)*np.cos(k))\n",
    "                integrand_21=lambda k:np.sqrt(2)*((1-self.delta)*np.cos(k*d)+(1+self.delta)*np.cos(k*(d+1)))/np.sqrt((1+self.delta**2)+(1-self.delta**2)*np.cos(k))\n",
    "            A_11=2*np.pi if d==0 else 0\n",
    "            A_12=integrate.quad(integrand_12,0,np.pi)\n",
    "            A_21=integrate.quad(integrand_21,0,np.pi)\n",
    "            cov_mat.append(np.array([[A_11,A_12[0]],[A_21[0],A_11]])/(4*np.pi))\n",
    "\n",
    "        Gamma=np.zeros((2*self.dmax,2*self.dmax))\n",
    "        for i in range(self.dmax):\n",
    "            for j in range(i):\n",
    "                Gamma[2*i:2*i+2,2*j:2*j+2]=cov_mat[i-j]\n",
    "        Gamma=Gamma+Gamma.T\n",
    "        for i in range(self.dmax):\n",
    "            Gamma[2*i:2*i+2,2*i:2*i+2]=cov_mat[0]\n",
    "\n",
    "        self.C_f=Gamma\n",
    "\n",
    "    def correlation_matrix_inf_fft(self,threshold=1024):\n",
    "        '''\n",
    "        self.dmax: the maximal distance (in terms of unit cell) \n",
    "        Directly call fft to evaluate the integral\n",
    "        '''\n",
    "        assert self.L==np.inf, \"Wire length should be inf\"\n",
    "        # cov_mat=[]\n",
    "        d=max(2*self.dmax,threshold)\n",
    "        if self.T>0:\n",
    "            pass    #to be filled\n",
    "        else:\n",
    "            integrand_12=lambda k: ((1-self.delta) + (1+self.delta)*np.cos(k) - 1j*(1+self.delta)*np.sin(k))/np.sqrt((1-self.delta + (1+self.delta)* np.cos(k))**2+((1+self.delta)*np.sin(k))**2)\n",
    "            integrand_21=lambda k: ((1-self.delta) + (1+self.delta)*np.cos(k) + 1j*(1+self.delta)*np.sin(k))/np.sqrt((1-self.delta + (1+self.delta)* np.cos(k))**2+((1+self.delta)*np.sin(k))**2)\n",
    "            \n",
    "            A_11=np.array([0.5]+[0]*(d-1))\n",
    "            A_12=np.fft.ifft(integrand_12(np.arange(0,2*np.pi,2*np.pi/d)))/2\n",
    "            A_21=np.fft.ifft(integrand_21(np.arange(0,2*np.pi,2*np.pi/d)))/2\n",
    "            # A_12=np.sign(np.real(A_12))*np.abs(A_12)\n",
    "            # A_21=np.sign(np.real(A_21))*np.abs(A_21)\n",
    "\n",
    "        mat=np.array([[A_11,A_12],[A_21,A_11]])\n",
    "        C_f=np.zeros((2*self.dmax,2*self.dmax))*1j\n",
    "        for i in range(self.dmax):\n",
    "            for j in range(i):\n",
    "                C_f[2*i:2*i+2,2*j:2*j+2]=mat[:,:,i-j]\n",
    "        C_f=C_f+C_f.T.conj()\n",
    "        for i in range(self.dmax):\n",
    "            C_f[2*i:2*i+2,2*i:2*i+2]=mat[:,:,0]\n",
    "        self.C_f=C_f\n",
    "\n",
    "\n",
    "    def correlation_matrix(self,E_F=0):\n",
    "        '''\n",
    "        G_{ij}=<f_i^\\dagger f_j>\n",
    "        '''\n",
    "        if not (hasattr(self,'val') and hasattr(self,'vec')):\n",
    "            self.bandstructure()\n",
    "        occupancy_mat=np.matlib.repmat(self.fermi_dist(self.val,E_F),self.vec.shape[0],1)\n",
    "        # maxi=np.imag((occupancy_mat*self.vec)@self.vec.T.conj()).max()\n",
    "        # print('max={:.2f}'.format(maxi))\n",
    "        self.C_f=((occupancy_mat*self.vec)@self.vec.T.conj())\n",
    "\n",
    "    \n",
    "    def covariance_matrix(self,E_F=0):\n",
    "        '''\n",
    "        c.f. notes\n",
    "        Maybe differs by a minus sign\n",
    "        '''\n",
    "        if not hasattr(self,'C_f'):\n",
    "            if self.L<np.inf:\n",
    "                self.correlation_matrix()\n",
    "            else:\n",
    "                self.correlation_matrix_inf_fft()\n",
    "        G=self.C_f\n",
    "        Gamma_11=1j*(G-G.T)\n",
    "        Gamma_21=-(np.eye(G.shape[0])-G-G.T)\n",
    "        Gamma_12=-Gamma_21.T\n",
    "        Gamma_22=-1j*(G.T-G)\n",
    "        Gamma=np.zeros((2*G.shape[0],2*G.shape[0]),dtype=complex)\n",
    "        even=np.arange(2*G.shape[0])[::2]\n",
    "        odd=np.arange(2*G.shape[0])[1::2]\n",
    "        Gamma[np.ix_(even,even)]=Gamma_11\n",
    "        Gamma[np.ix_(even,odd)]=Gamma_12\n",
    "        Gamma[np.ix_(odd,even)]=Gamma_21\n",
    "        Gamma[np.ix_(odd,odd)]=Gamma_22\n",
    "        assert np.abs(np.imag(Gamma)).max()<1e-10, \"Covariance matrix not real\"        \n",
    "        self.C_m=np.real(Gamma-Gamma.T.conj())/2\n",
    "        self.C_m_history=[self.C_m]\n",
    "\n",
    "    def c_subregion_f(self,subregion):\n",
    "        if not hasattr(self,'C_f'):\n",
    "            self.correlation_matrix()\n",
    "        try:\n",
    "            subregion=np.array(subregion)\n",
    "        except:\n",
    "            raise ValueError(\"The subregion is ill-defined\"+subregion)\n",
    "        return self.C_f[np.ix_(subregion,subregion)]\n",
    "\n",
    "    def von_Neumann_entropy_f(self,subregion):\n",
    "        c_A=self.c_subregion_f(subregion)\n",
    "        val=nla.eigvalsh(c_A)\n",
    "        self.val_sh=val\n",
    "        val=np.sort(val)\n",
    "        return np.real(-np.sum(val*np.log(val+1e-18j))-np.sum((1-val)*np.log(1-val+1e-18j)))\n",
    "\n",
    "    def linearize_index(self,subregion,n,k=2,proj=False):\n",
    "        try:\n",
    "            subregion=np.array(subregion)\n",
    "        except:\n",
    "            raise ValueError(\"The subregion is ill-defined\"+subregion)\n",
    "        if proj:\n",
    "            return sorted(np.concatenate([n*subregion+i for i in range(0,n,k)]))\n",
    "        else:\n",
    "            return sorted(np.concatenate([n*subregion+i for i in range(n)]))\n",
    "\n",
    "    def c_subregion_m(self,subregion,Gamma=None):\n",
    "        if not hasattr(self,'C_m'):\n",
    "            self.covariance_matrix()\n",
    "        if Gamma is None:\n",
    "            Gamma=self.C_m_history[-1]\n",
    "        subregion=self.linearize_index(subregion,2)\n",
    "        return Gamma[np.ix_(subregion,subregion)]\n",
    "\n",
    "    def von_Neumann_entropy_m(self,subregion):\n",
    "        c_A=self.c_subregion_m(subregion)\n",
    "        val=nla.eigvalsh(1j*c_A)\n",
    "        self.val_sh=val\n",
    "        val=np.sort(val)\n",
    "        val=(1-val)/2+1e-18j   #\\lambda=(1-\\xi)/2\n",
    "        return np.real(-np.sum(val*np.log(val))-np.sum((1-val)*np.log(1-val)))/2\n",
    "\n",
    "    def mutual_information_f(self,subregion_A,subregion_B):\n",
    "        s_A=self.von_Neumann_entropy_f(subregion_A)\n",
    "        s_B=self.von_Neumann_entropy_f(subregion_B)\n",
    "        assert np.intersect1d(subregion_A,subregion_B).size==0 , \"Subregion A and B overlap\"\n",
    "        subregion_AB=np.concatenate([subregion_A,subregion_B])\n",
    "        s_AB=self.von_Neumann_entropy_f(subregion_AB)\n",
    "        return s_A+s_B-s_AB\n",
    "\n",
    "    def mutual_information_m(self,subregion_A,subregion_B):\n",
    "        assert np.intersect1d(subregion_A,subregion_B).size==0 , \"Subregion A and B overlap\"\n",
    "        s_A=self.von_Neumann_entropy_m(subregion_A)\n",
    "        s_B=self.von_Neumann_entropy_m(subregion_B)\n",
    "        subregion_AB=np.concatenate([subregion_A,subregion_B])\n",
    "        s_AB=self.von_Neumann_entropy_m(subregion_AB)\n",
    "        return s_A+s_B-s_AB\n",
    "\n",
    "    def projection(self,s,type='onsite',ignore=False):\n",
    "        '''\n",
    "        For type:'onsite'\n",
    "            occupancy number: s= 0,1 \n",
    "            (-1)^0 even parity, (-1)^1 odd parity\n",
    "        For type:'link'\n",
    "            (o,+)|(o,-)|(e,+)|(e,-)\n",
    "        '''\n",
    "        if type=='onsite':\n",
    "            assert (s==0 or s==1),\"s={} is either 0 or 1\".format(s)\n",
    "            blkmat=np.array([[0,-(-1)**s,0,0],\n",
    "                            [(-1)**s,0,0,0],\n",
    "                            [0,0,0,(-1)**s],\n",
    "                            [0,0,-(-1)**s,0]])\n",
    "            return blkmat\n",
    "\n",
    "        if type=='link':\n",
    "            assert (s in ['o+','o-','e+','e-']), \"s={} for {} is not defined\".format(s,type)\n",
    "            if not ignore:\n",
    "                if s=='o+':\n",
    "                    antidiag=[1,-1,1,-1]\n",
    "                if s=='o-':\n",
    "                    antidiag=[-1,1,-1,1]\n",
    "                if s=='e+':\n",
    "                    antidiag=[-1,-1,1,1]\n",
    "                if s=='e-':\n",
    "                    antidiag=[1,1,-1,-1]\n",
    "                blkmat=np.diag(antidiag)\n",
    "                blkmat=np.fliplr(blkmat)\n",
    "            else:\n",
    "                if s=='e+':\n",
    "                    blkmat=np.array([[0,-1,0,0],\n",
    "                                    [1,0,0,0],\n",
    "                                    [0,0,0,-1],\n",
    "                                    [0,0,1,0]])\n",
    "                if s=='e-':\n",
    "                    blkmat=-np.array([[0,-1,0,0],\n",
    "                                    [1,0,0,0],\n",
    "                                    [0,0,0,-1],\n",
    "                                    [0,0,1,0]])\n",
    "                if s=='o+':\n",
    "                    antidiag=[1,-1,1,-1]\n",
    "                    blkmat=np.diag(antidiag)\n",
    "                    blkmat=np.fliplr(blkmat)\n",
    "                if s=='o-':\n",
    "                    antidiag=[-1,1,-1,1]\n",
    "                    blkmat=np.diag(antidiag)\n",
    "                    blkmat=np.fliplr(blkmat)\n",
    "\n",
    "            proj=np.zeros((8,8))\n",
    "            proj[:4,:4]=blkmat\n",
    "            proj[4:,4:]=blkmat.T\n",
    "            return proj            \n",
    "\n",
    "        raise ValueError(\"type '{}' is not defined\".format(type))\n",
    "        \n",
    "\n",
    "    def measure(self,s,ix,type='onsite',ignore=False):\n",
    "        if not hasattr(self,'C_m'):\n",
    "            self.covariance_matrix()\n",
    "        if not hasattr(self,'s_history'):\n",
    "            self.s_history=[]\n",
    "        if not hasattr(self,'i_history'):\n",
    "            self.i_history=[]\n",
    "                \n",
    "        m=self.C_m_history[-1].copy()\n",
    "\n",
    "        for i_ind,i in enumerate(ix):\n",
    "            m[[i,-(len(ix)-i_ind)]]=m[[-(len(ix)-i_ind),i]]\n",
    "            m[:,[i,-(len(ix)-i_ind)]]=m[:,[-(len(ix)-i_ind),i]]\n",
    "\n",
    "        self.m=m\n",
    "\n",
    "        Gamma_LL=m[:-len(ix),:-len(ix)]\n",
    "        Gamma_LR=m[:-len(ix),-len(ix):]\n",
    "        Gamma_RR=m[-len(ix):,-len(ix):]       \n",
    "\n",
    "        proj=self.projection(s,type=type,ignore=ignore)\n",
    "        Upsilon_LL=proj[:-len(ix),:-len(ix)]\n",
    "        Upsilon_RR=proj[-len(ix):,-len(ix):]\n",
    "        Upsilon_RL=proj[-len(ix):,:-len(ix)]\n",
    "        zero=np.zeros((m.shape[0]-len(ix),len(ix)))\n",
    "        zero0=np.zeros((len(ix),len(ix)))\n",
    "        mat1=np.block([[Gamma_LL,zero],[zero.T,Upsilon_RR]])\n",
    "        mat2=np.block([[Gamma_LR,zero],[zero0,Upsilon_RL]])\n",
    "        mat3=np.block([[Gamma_RR,np.eye(len(ix))],[-np.eye(len(ix)),Upsilon_LL]])\n",
    "        self.mat2=mat2\n",
    "        if np.count_nonzero(mat2):\n",
    "            Psi=mat1+mat2@(la.solve(mat3,mat2.T))\n",
    "            # Psi=mat1+mat2@(la.lstsq(mat3,mat2.T)[0])\n",
    "            assert np.abs(np.trace(Psi))<1e-5, \"Not trace zero {:e}\".format(np.trace(Psi))\n",
    "        else:\n",
    "            Psi=mat1\n",
    "        \n",
    "        for i_ind,i in enumerate(ix):\n",
    "            Psi[[i,-(len(ix)-i_ind)]]=Psi[[-(len(ix)-i_ind),i]]\n",
    "            Psi[:,[i,-(len(ix)-i_ind)]]=Psi[:,[-(len(ix)-i_ind),i]]\n",
    "        \n",
    "        Psi=(Psi-Psi.T)/2   # Anti-symmetrize\n",
    "        if self.history:\n",
    "            self.C_m_history.append(Psi)\n",
    "            self.s_history.append(s)\n",
    "            self.i_history.append(i)\n",
    "        else:\n",
    "            self.C_m_history=[Psi]\n",
    "            self.s_history=[s]\n",
    "            self.i_history=[i]\n",
    "\n",
    "\n",
    "\n",
    "    def measure_all_Born(self,proj_range=None,type='onsite',ignore=False):\n",
    "        # proj_range should be in the format of fermionic sites\n",
    "        if type=='onsite':\n",
    "            if proj_range is None:\n",
    "                proj_range=np.arange(self.L//2,self.L)\n",
    "\n",
    "        if type=='link':\n",
    "            if proj_range is None:\n",
    "                proj_range=np.arange(self.L//2,self.L,2)\n",
    "        proj_range=self.linearize_index(proj_range,2,proj=True,k=2)\n",
    "\n",
    "        if not hasattr(self, 'C_m'):\n",
    "            self.covariance_matrix()\n",
    "        if type=='onsite':\n",
    "            for i in proj_range:\n",
    "                P_0=(self.C_m_history[-1][i,i+1]+1)/2\n",
    "                # self.P_0_list.append(P_0)\n",
    "                if np.random.rand() < P_0:                \n",
    "                    self.measure(0,[i,i+1])\n",
    "                else:\n",
    "                    self.measure(1,[i,i+1])\n",
    "            return self\n",
    "        if type=='link':\n",
    "            for i in proj_range:\n",
    "                Gamma=self.C_m_history[-1][i:i+4,i:i+4]\n",
    "                gamma1234=-Gamma[0,1]*Gamma[2,3]+Gamma[0,2]*Gamma[1,3]-Gamma[0,3]*Gamma[1,2]\n",
    "                P={}\n",
    "                P['o+']=(1+Gamma[1,2]-Gamma[0,3]+gamma1234)/4\n",
    "                P['o-']=(1-Gamma[1,2]+Gamma[0,3]+gamma1234)/4\n",
    "                if not ignore:\n",
    "                    P['e+']=(1+Gamma[1,2]+Gamma[0,3]-gamma1234)/4\n",
    "                    P['e-']=(1-Gamma[1,2]-Gamma[0,3]-gamma1234)/4        \n",
    "                else:\n",
    "                        #ignore symmetry\n",
    "                    P['e+']=(1+Gamma[0,1]+Gamma[2,3]-gamma1234)/4\n",
    "                    P['e-']=(1-Gamma[0,1]-Gamma[2,3]-gamma1234)/4\n",
    "                        \n",
    "                # P['o+']=(1+Gamma[1,2])/2*(1-Gamma[0,3])/2\n",
    "                # P['o-']=(1-Gamma[1,2])/2*(1+Gamma[0,3])/2\n",
    "                # P['e+']=(1+Gamma[1,2])/2*(1+Gamma[0,3])/2\n",
    "                # P['e-']=(1-Gamma[1,2])/2*(1-Gamma[0,3])/2\n",
    "                # print((P.values()))\n",
    "                s=np.random.choice(['o+','o-','e+','e-'],p=[P['o+'],P['o-'],P['e+'],P['e-']])\n",
    "                self.measure(s,[i,i+1,i+2,i+3],type='link',ignore=ignore)\n",
    "            return self\n",
    "\n",
    "        raise ValueError(\"type '{}' is not defined\".format(type))\n",
    "\n",
    "    def log_neg(self,subregionA,subregionB,Gamma=None):\n",
    "        subregionA=self.linearize_index(subregionA,2)\n",
    "        subregionB=self.linearize_index(subregionB,2)\n",
    "        assert np.intersect1d(subregionA,subregionB).size==0 , \"Subregion A and B overlap\"\n",
    "        if not hasattr(self,'C_m'):\n",
    "            self.covariance_matrix()\n",
    "        \n",
    "        if Gamma is None:\n",
    "            Gamma=self.C_m_history[-1]\n",
    "        subregionA=np.array(subregionA)\n",
    "        subregionB=np.array(subregionB)\n",
    "        Gm_p= np.block([\n",
    "            [-Gamma[np.ix_(subregionA,subregionA)],1j*Gamma[np.ix_(subregionA,subregionB)]],\n",
    "            [1j*Gamma[np.ix_(subregionB,subregionA)],Gamma[np.ix_(subregionB,subregionB)]]\n",
    "        ])\n",
    "        Gm_n= np.block([\n",
    "            [-Gamma[np.ix_(subregionA,subregionA)],-1j*Gamma[np.ix_(subregionA,subregionB)]],\n",
    "            [-1j*Gamma[np.ix_(subregionB,subregionA)],Gamma[np.ix_(subregionB,subregionB)]]\n",
    "        ])\n",
    "        idm=np.eye(Gm_p.shape[0])\n",
    "        # Gm_x=idm-(idm+1j*Gm_p)@nla.inv(idm-Gm_n@Gm_p)@(idm+1j*Gm_n)\n",
    "        Gm_x=idm-(idm+1j*Gm_p)@(la.solve((idm-Gm_n@Gm_p),(idm+1j*Gm_n)))\n",
    "        Gm_x=(Gm_x+Gm_x.T.conj())/2\n",
    "        xi=nla.eigvalsh(Gm_x)\n",
    "        subregionAB=np.concatenate([subregionA,subregionB])\n",
    "        eA=np.sum(np.log(((1+xi+0j)/2)**0.5+((1-xi+0j)/2)**0.5))/2\n",
    "        chi=nla.eigvalsh(1j*Gamma[np.ix_(subregionAB,subregionAB)])\n",
    "        sA=np.sum(np.log(((1+chi)/2)**2+((1-chi)/2)**2))/4\n",
    "        return np.real(eA+sA)\n",
    "\n",
    "    def fermion_number(self):\n",
    "        return (1-np.diagonal(self.C_m_history[-1],1)[::2]).sum()/2\n",
    "\n",
    "\n",
    "def cross_ratio(x,L):\n",
    "    if L<np.inf:\n",
    "        xx=lambda i,j: (np.sin(np.pi/(L)*np.abs(x[i]-x[j])))\n",
    "    else:\n",
    "        xx=lambda i,j: np.abs(x[i]-x[j])\n",
    "    eta=(xx(0,1)*xx(2,3))/(xx(0,2)*xx(1,3))\n",
    "    return eta\n"
   ],
   "outputs": [],
   "metadata": {}
  },
  {
   "cell_type": "markdown",
   "source": [
    "## obsolete func"
   ],
   "metadata": {}
  },
  {
   "cell_type": "code",
   "execution_count": null,
   "source": [
    "    \n",
    "    # def measure_all(self,s_prob,proj_range=None):\n",
    "    #     '''\n",
    "    #     The probability of s=0 (unoccupied)\n",
    "    #     '''\n",
    "    #     if proj_range is None:\n",
    "    #         proj_range=np.arange(self.L,self.L*2,2)\n",
    "    #     for i in proj_range:\n",
    "    #         if s_prob==0:\n",
    "    #             s=1\n",
    "    #         elif s_prob==1:\n",
    "    #             s=0\n",
    "    #         else:           \n",
    "    #             s=s_prob<np.random.rand()\n",
    "    #         self.measure(s,[i,i+1])\n",
    "    #     return self\n",
    "    \n",
    "   # def measure(self,s,i,j):\n",
    "    #     if not hasattr(self,'C_m'):\n",
    "    #         self.covariance_matrix()\n",
    "    #     if not hasattr(self,'s_history'):\n",
    "    #         self.s_history=[]\n",
    "    #     if not hasattr(self,'i_history'):\n",
    "    #         self.i_history=[]\n",
    "                \n",
    "    #     m=self.C_m_history[-1].copy()\n",
    "    #     # i<-> -2\n",
    "    #     m[[i,-2]]=m[[-2,i]]\n",
    "    #     m[:,[i,-2]]=m[:,[-2,i]]\n",
    "    #     # j<->-1\n",
    "    #     m[[j,-1]]=m[[-1,j]]\n",
    "    #     m[:,[j,-1]]=m[:,[-1,j]]\n",
    "\n",
    "    #     self.m=m\n",
    "\n",
    "    #     Gamma_LL=m[:-2,:-2]\n",
    "    #     Gamma_LR=m[:-2,-2:]\n",
    "    #     Gamma_RR=m[-2:,-2:]       \n",
    "\n",
    "    #     proj=self.projection(s)\n",
    "    #     Upsilon_LL=proj[:-2,:-2]\n",
    "    #     # Upsilon_LR=proj[:-2,-2:]\n",
    "    #     Upsilon_RR=proj[-2:,-2:]\n",
    "    #     Upsilon_RL=proj[-2:,:-2]\n",
    "    #     zero=np.zeros((self.L*4-2,2))\n",
    "    #     zero0=np.zeros((2,2))\n",
    "    #     mat1=np.block([[Gamma_LL,zero],[zero.T,Upsilon_RR]])\n",
    "    #     mat2=np.block([[Gamma_LR,zero],[zero0,Upsilon_RL]])\n",
    "    #     mat3=np.block([[Gamma_RR,np.eye(2)],[-np.eye(2),Upsilon_LL]])\n",
    "    #     self.mat2=mat2\n",
    "    #     if np.count_nonzero(mat2):\n",
    "    #         Psi=mat1+mat2@(la.solve(mat3,mat2.T))\n",
    "    #         # Psi=mat1+mat2@(la.lstsq(mat3,mat2.T)[0])\n",
    "    #         assert np.abs(np.trace(Psi))<1e-5, \"Not trace zero {:e}\".format(np.trace(Psi))\n",
    "    #     else:\n",
    "    #         Psi=mat1\n",
    "        \n",
    "    #     Psi[[j,-1]]=Psi[[-1,j]]\n",
    "    #     Psi[:,[j,-1]]=Psi[:,[-1,j]]\n",
    "\n",
    "    #     Psi[[i,-2]]=Psi[[-2,i]]\n",
    "    #     Psi[:,[i,-2]]=Psi[:,[-2,i]]\n",
    "        \n",
    "    #     Psi=(Psi-Psi.T)/2   # Anti-symmetrize\n",
    "    #     self.C_m_history.append(Psi)\n",
    "    #     self.s_history.append(s)\n",
    "    #     self.i_history.append(i)\n"
   ],
   "outputs": [],
   "metadata": {}
  },
  {
   "cell_type": "markdown",
   "source": [
    "# Test"
   ],
   "metadata": {}
  },
  {
   "cell_type": "code",
   "execution_count": null,
   "source": [
    "# %%time\n",
    "# st=time.time()\n",
    "params_L=Params(delta=.5,L=100,bc=-1,history=False)\n",
    "params_L.covariance_matrix()\n",
    "# print(time.time()-st)"
   ],
   "outputs": [],
   "metadata": {}
  },
  {
   "cell_type": "code",
   "execution_count": null,
   "source": [
    "ty='link'"
   ],
   "outputs": [],
   "metadata": {}
  },
  {
   "cell_type": "code",
   "execution_count": null,
   "source": [
    "ty='on'"
   ],
   "outputs": [],
   "metadata": {}
  },
  {
   "cell_type": "code",
   "execution_count": null,
   "source": [
    "2*(ty=='onsite')+4*(ty=='link')"
   ],
   "outputs": [],
   "metadata": {}
  },
  {
   "cell_type": "code",
   "execution_count": null,
   "source": [
    "params_L.measure_all_Born(type='link',ignore=False)"
   ],
   "outputs": [],
   "metadata": {}
  },
  {
   "cell_type": "code",
   "execution_count": null,
   "source": [
    "params_L.log_neg(np.arange(100),np.arange(100)+100*2)/np.log(2)"
   ],
   "outputs": [],
   "metadata": {}
  },
  {
   "cell_type": "code",
   "execution_count": null,
   "source": [
    "np.round(params_L.C_m[:6,:6],4)"
   ],
   "outputs": [],
   "metadata": {}
  },
  {
   "cell_type": "code",
   "execution_count": null,
   "source": [],
   "outputs": [],
   "metadata": {}
  },
  {
   "cell_type": "code",
   "execution_count": null,
   "source": [
    "wrong=params_L.C_m.copy()"
   ],
   "outputs": [],
   "metadata": {}
  },
  {
   "cell_type": "code",
   "execution_count": null,
   "source": [
    "np.round(wrong@wrong,10)"
   ],
   "outputs": [],
   "metadata": {}
  },
  {
   "cell_type": "code",
   "execution_count": null,
   "source": [
    "right=params_L.C_m.copy()"
   ],
   "outputs": [],
   "metadata": {}
  },
  {
   "cell_type": "code",
   "execution_count": null,
   "source": [
    "wrong-right"
   ],
   "outputs": [],
   "metadata": {}
  },
  {
   "cell_type": "code",
   "execution_count": null,
   "source": [
    "wrong@wrong"
   ],
   "outputs": [],
   "metadata": {}
  },
  {
   "cell_type": "code",
   "execution_count": null,
   "source": [
    "np.round(params_L.C_m@params_L.C_m,2)[:8,:8]"
   ],
   "outputs": [],
   "metadata": {}
  },
  {
   "cell_type": "code",
   "execution_count": null,
   "source": [
    "print(np.round(params_L.C_m[:8,:4],4))"
   ],
   "outputs": [],
   "metadata": {}
  },
  {
   "cell_type": "code",
   "execution_count": null,
   "source": [
    "params_r2=Params(delta=0.5,L=np.inf,bc=-1,dmax=10)\n",
    "params_r2.covariance_matrix()\n"
   ],
   "outputs": [],
   "metadata": {}
  },
  {
   "cell_type": "code",
   "execution_count": null,
   "source": [
    "np.diag(np.round(params_r2.C_m@params_r2.C_m,2))"
   ],
   "outputs": [],
   "metadata": {}
  },
  {
   "cell_type": "code",
   "execution_count": null,
   "source": [
    "print(np.round(params_r2.C_m[:8,:4],4))"
   ],
   "outputs": [],
   "metadata": {}
  },
  {
   "cell_type": "code",
   "execution_count": null,
   "source": [
    "params_r2=Params(delta=0.,L=np.inf,bc=-1,dmax=100)\n",
    "%lprun -f Params.correlation_matrix_inf_fft params_r2.correlation_matrix_inf_fft(threshold=8192)"
   ],
   "outputs": [],
   "metadata": {}
  },
  {
   "cell_type": "code",
   "execution_count": null,
   "source": [
    "params=Params(delta=0,L=np.inf,bc=-1,dmax=100)\n",
    "%lprun -f Params.correlation_matrix_inf params.correlation_matrix_inf()"
   ],
   "outputs": [],
   "metadata": {}
  },
  {
   "cell_type": "code",
   "execution_count": null,
   "source": [
    "np.abs(params.C_f-params_r2.C_f).max()"
   ],
   "outputs": [],
   "metadata": {}
  },
  {
   "cell_type": "code",
   "execution_count": null,
   "source": [
    "params_r2.C_f.shape"
   ],
   "outputs": [],
   "metadata": {}
  },
  {
   "cell_type": "code",
   "execution_count": null,
   "source": [
    "np.abs(params.C_f-params_r2.C_f).max()"
   ],
   "outputs": [],
   "metadata": {}
  },
  {
   "cell_type": "code",
   "execution_count": null,
   "source": [
    "np.max(np.abs(params.C_f[:8,:8]-params_L.C_f[:8,:8]))"
   ],
   "outputs": [],
   "metadata": {}
  },
  {
   "cell_type": "code",
   "execution_count": null,
   "source": [
    "plt.imshow(params.C_f)"
   ],
   "outputs": [],
   "metadata": {}
  },
  {
   "cell_type": "code",
   "execution_count": null,
   "source": [
    "params_L.C_f.flatten()[199]"
   ],
   "outputs": [],
   "metadata": {}
  },
  {
   "cell_type": "code",
   "execution_count": null,
   "source": [
    "params_L.C_f[:2,2:4]"
   ],
   "outputs": [],
   "metadata": {}
  },
  {
   "cell_type": "code",
   "execution_count": null,
   "source": [
    "params_L.C_f[:2,-2:]"
   ],
   "outputs": [],
   "metadata": {}
  },
  {
   "cell_type": "code",
   "execution_count": null,
   "source": [
    "params.C_f[:2,2:4]"
   ],
   "outputs": [],
   "metadata": {}
  },
  {
   "cell_type": "code",
   "execution_count": null,
   "source": [
    "params.C_f[:2,-2:]"
   ],
   "outputs": [],
   "metadata": {}
  },
  {
   "cell_type": "code",
   "execution_count": null,
   "source": [
    "params_L.C_f[:2,100:102]"
   ],
   "outputs": [],
   "metadata": {}
  },
  {
   "cell_type": "code",
   "execution_count": null,
   "source": [
    "params.C_f[:2,100:102]"
   ],
   "outputs": [],
   "metadata": {}
  },
  {
   "cell_type": "code",
   "execution_count": null,
   "source": [
    "plt.plot(params.C_f[0])\n",
    "plt.plot(params_L.C_f[0])\n"
   ],
   "outputs": [],
   "metadata": {}
  },
  {
   "cell_type": "code",
   "execution_count": null,
   "source": [
    "plt.imshow(params_L.C_f)"
   ],
   "outputs": [],
   "metadata": {}
  },
  {
   "cell_type": "code",
   "execution_count": null,
   "source": [
    "params.C_f"
   ],
   "outputs": [],
   "metadata": {}
  },
  {
   "cell_type": "code",
   "execution_count": null,
   "source": [
    "params.C_f.flatten()[199]"
   ],
   "outputs": [],
   "metadata": {}
  },
  {
   "cell_type": "code",
   "execution_count": null,
   "source": [
    "params_L.C_f.flatten()[199]"
   ],
   "outputs": [],
   "metadata": {}
  },
  {
   "cell_type": "code",
   "execution_count": null,
   "source": [
    "np.abs(params.C_f[:8,:8]-params_L.C_f[:8,:8]).flatten()[199]"
   ],
   "outputs": [],
   "metadata": {}
  },
  {
   "cell_type": "code",
   "execution_count": null,
   "source": [
    "np.round(params.C_f,4)"
   ],
   "outputs": [],
   "metadata": {}
  },
  {
   "cell_type": "code",
   "execution_count": null,
   "source": [
    "params.measure_all_Born(type='link')"
   ],
   "outputs": [],
   "metadata": {}
  },
  {
   "cell_type": "code",
   "execution_count": null,
   "source": [
    "param.P"
   ],
   "outputs": [],
   "metadata": {}
  },
  {
   "cell_type": "code",
   "execution_count": null,
   "source": [
    "(params.P_0_list)"
   ],
   "outputs": [],
   "metadata": {}
  },
  {
   "cell_type": "code",
   "execution_count": null,
   "source": [
    "len(params.P_0_list)"
   ],
   "outputs": [],
   "metadata": {}
  },
  {
   "cell_type": "code",
   "execution_count": null,
   "source": [
    "params.projection('e-','link')"
   ],
   "outputs": [],
   "metadata": {}
  },
  {
   "cell_type": "code",
   "execution_count": null,
   "source": [
    "z=list(map(lambda x:params.von_Neumann_entropy_f(np.arange(x)),range(10,100,2)))"
   ],
   "outputs": [],
   "metadata": {}
  },
  {
   "cell_type": "code",
   "execution_count": null,
   "source": [
    "z2=list(map(lambda x:params.von_Neumann_entropy_m(np.arange(2*x)),range(10,100,2)))"
   ],
   "outputs": [],
   "metadata": {}
  },
  {
   "cell_type": "code",
   "execution_count": null,
   "source": [
    "plt.plot(list(z))\n",
    "plt.plot(list(z2))\n",
    "# plt.plot(list(zz)/(2*np.log(2)))"
   ],
   "outputs": [],
   "metadata": {}
  },
  {
   "cell_type": "code",
   "execution_count": null,
   "source": [
    "params.mutual_information_f(np.arange(10),np.arange(10)+10)"
   ],
   "outputs": [],
   "metadata": {}
  },
  {
   "cell_type": "code",
   "execution_count": null,
   "source": [
    "params.mutual_information_m(np.arange(20),np.arange(20)+20)"
   ],
   "outputs": [],
   "metadata": {}
  },
  {
   "cell_type": "code",
   "execution_count": null,
   "source": [
    "params.covariance_matrix()"
   ],
   "outputs": [],
   "metadata": {}
  },
  {
   "cell_type": "code",
   "execution_count": null,
   "source": [
    "plt.imshow(params.C_f)"
   ],
   "outputs": [],
   "metadata": {}
  },
  {
   "cell_type": "code",
   "execution_count": null,
   "source": [
    "print(np.round(params.C_m[:8,:8],4))"
   ],
   "outputs": [],
   "metadata": {}
  },
  {
   "cell_type": "code",
   "execution_count": null,
   "source": [
    "print(np.round(params.C_f[:8,:8],4))"
   ],
   "outputs": [],
   "metadata": {}
  },
  {
   "cell_type": "code",
   "execution_count": null,
   "source": [],
   "outputs": [],
   "metadata": {}
  },
  {
   "cell_type": "code",
   "execution_count": null,
   "source": [
    "plt.imshow(params.C_m)"
   ],
   "outputs": [],
   "metadata": {}
  },
  {
   "cell_type": "code",
   "execution_count": null,
   "source": [],
   "outputs": [],
   "metadata": {}
  },
  {
   "cell_type": "code",
   "execution_count": null,
   "source": [
    "def wrap():\n",
    "    band_list=[]\n",
    "    for delta in np.linspace(-.1,.1,100):\n",
    "        params=Params(delta=delta,bc=0)\n",
    "        params.bandstructure()\n",
    "        band_list.append(params.val)"
   ],
   "outputs": [],
   "metadata": {}
  },
  {
   "cell_type": "code",
   "execution_count": null,
   "source": [
    "plt.plot(np.linspace(-.1,.1,100),band_list)\n",
    "# plt.xlim([-1,1])\n",
    "plt.ylim([-.5,.5])"
   ],
   "outputs": [],
   "metadata": {}
  },
  {
   "cell_type": "code",
   "execution_count": null,
   "source": [
    "params.bandstructure()"
   ],
   "outputs": [],
   "metadata": {}
  },
  {
   "cell_type": "markdown",
   "source": [
    "# No measure/ measure to +1 / measure to -1 / measure following Born rule"
   ],
   "metadata": {}
  },
  {
   "cell_type": "code",
   "execution_count": null,
   "source": [
    "delta_list=np.linspace(-1,1,100)**3\n",
    "# delta_list=np.linspace(-1,1,40)**3\n",
    "MI_no_list=[]\n",
    "LN_no_list=[]\n",
    "for delta in delta_list:\n",
    "    params=Params(delta=delta,L=64,bc=-1)\n",
    "    # params.measure_all(1)\n",
    "    MI_no_list.append(params.mutual_information_m(np.arange(params.L),np.arange(params.L)+params.L*2))\n",
    "    LN_no_list.append(params.log_neg(np.arange(params.L),np.arange(params.L)+params.L*2))"
   ],
   "outputs": [],
   "metadata": {}
  },
  {
   "cell_type": "code",
   "execution_count": null,
   "source": [
    "plt.plot(delta_list,LN_no_list,'.-')\n"
   ],
   "outputs": [],
   "metadata": {}
  },
  {
   "cell_type": "code",
   "execution_count": null,
   "source": [
    "delta_list=np.linspace(-1,1,100)**3\n",
    "MI_no_inf_list=[]\n",
    "LN_no_inf_list=[]\n",
    "for delta in delta_list:\n",
    "    params=Params(delta=delta,L=np.inf,bc=-1,dmax=100)\n",
    "    # params.measure_all(1)\n",
    "    MI_no_inf_list.append(params.mutual_information_m(np.arange(params.dmax),np.arange(params.dmax)+params.dmax*2))\n",
    "    LN_no_inf_list.append(params.log_neg(np.arange(params.dmax),np.arange(params.dmax)+params.dmax*2))"
   ],
   "outputs": [],
   "metadata": {}
  },
  {
   "cell_type": "code",
   "execution_count": null,
   "source": [
    "plt.plot(delta_list,LN_no_inf_list,'.-')\n"
   ],
   "outputs": [],
   "metadata": {}
  },
  {
   "cell_type": "code",
   "execution_count": null,
   "source": [
    "delta_list=np.linspace(-1,1,100)**3\n",
    "MI_neg_list=[]\n",
    "LN_neg_list=[]\n",
    "for delta in delta_list:\n",
    "    params=Params(delta=delta,L=64,bc=-1)\n",
    "    params.measure_all(1)\n",
    "    MI_neg_list.append(params.mutual_information_m(np.arange(params.L),np.arange(params.L)+params.L*2))\n",
    "    LN_neg_list.append(params.log_neg(np.arange(params.L),np.arange(params.L)+params.L*2))"
   ],
   "outputs": [],
   "metadata": {}
  },
  {
   "cell_type": "code",
   "execution_count": null,
   "source": [
    "plt.plot(delta_list,LN_neg_list,'.-')\n",
    "plt.plot(delta_list,MI_neg_list,'.-')"
   ],
   "outputs": [],
   "metadata": {}
  },
  {
   "cell_type": "code",
   "execution_count": null,
   "source": [
    "plt.plot(delta_list,LN_neg_list/np.log(2),'.-')"
   ],
   "outputs": [],
   "metadata": {}
  },
  {
   "cell_type": "code",
   "execution_count": null,
   "source": [
    "delta_list=np.linspace(-1,1,100)**3\n",
    "MI_pos_list=[]\n",
    "LN_pos_list=[]\n",
    "for delta in delta_list:\n",
    "    params=Params(delta=delta,L=10,bc=-1)\n",
    "    params.measure_all(0)\n",
    "    MI_pos_list.append(params.mutual_information_m(np.arange(params.L),np.arange(params.L)+params.L*2))\n",
    "    LN_pos_list.append(params.log_neg(np.arange(params.L),np.arange(params.L)+params.L*2))"
   ],
   "outputs": [],
   "metadata": {}
  },
  {
   "cell_type": "code",
   "execution_count": null,
   "source": [
    "plt.plot(delta_list,LN_pos_list/np.log(2),'.-')"
   ],
   "outputs": [],
   "metadata": {}
  },
  {
   "cell_type": "code",
   "execution_count": null,
   "source": [
    "es=100\n",
    "L=64\n",
    "delta_list=np.linspace(-1,1,100)**3\n",
    "MI_Born_list=np.zeros((len(delta_list),(es)))\n",
    "LN_Born_list=np.zeros((len(delta_list),(es)))\n",
    "delta=0\n",
    "for d_i,delta in enumerate(delta_list):\n",
    "    # # Serial\n",
    "    # for es_i in range(es):\n",
    "    #     MI_Born_list[d_i,es_i]=Params(delta=delta,L=L).measure_all_Born().mutual_information_m(np.arange(params.L),np.arange(params.L)+params.L*2)\n",
    "    #     LN_Born_list[d_i,es_i]=Params(delta=delta,L=L).measure_all_Born().log_neg(np.arange(params.L),np.arange(params.L)+params.L*2)\n",
    "    \n",
    "    # Parallel\n",
    "    async_result=rc[:].map_sync((lambda p:Params(delta=p[0],L=p[1]).measure_all_Born().log_neg(np.arange(p[1]),np.arange(p[1])+p[1]*2)),[(delta,L) for _ in range(es)])\n",
    "    LN_Born_list[d_i,:]=async_result   "
   ],
   "outputs": [],
   "metadata": {}
  },
  {
   "cell_type": "markdown",
   "source": [
    "## Born measurement"
   ],
   "metadata": {}
  },
  {
   "cell_type": "code",
   "execution_count": null,
   "source": [
    "delta_list=np.linspace(-1,1,100)**3\n",
    "es=100\n",
    "L=64\n",
    "MI_link_Born_list=np.zeros((len(delta_list),(es)))\n",
    "LN_link_Born_list=np.zeros((len(delta_list),(es)))\n",
    "delta=0\n",
    "for d_i,delta in enumerate(delta_list):\n",
    "    # # Serial\n",
    "    # for es_i in range(es):\n",
    "    #     # MI_link_Born_list[d_i,es_i]=Params(delta=delta,L=L).measure_all_Born().mutual_information_m(np.arange(params.L),np.arange(params.L)+params.L*2)\n",
    "    #     LN_link_Born_list[d_i,es_i]=Params(delta=delta,L=L).measure_all_Born(type='link').log_neg(np.arange(L),np.arange(L)+L*2)\n",
    "    \n",
    "    #Parallel\n",
    "    async_result=rc[:].map_sync((lambda p:Params(delta=p[0],L=p[1]).measure_all_Born(type='link').log_neg(np.arange(p[1]),np.arange(p[1])+p[1]*2)),[(delta,L) for _ in range(es)])\n",
    "    LN_link_Born_list[d_i,:]=async_result   "
   ],
   "outputs": [],
   "metadata": {}
  },
  {
   "cell_type": "code",
   "execution_count": null,
   "source": [
    "from matplotlib.patches import Rectangle"
   ],
   "outputs": [],
   "metadata": {}
  },
  {
   "cell_type": "code",
   "execution_count": null,
   "source": [
    "fig,ax=plt.subplots()\n",
    "\n",
    "es=1000\n",
    "ax.plot(delta_list,LN_no_list/np.log(2),'.-',label='No measure',color='b')\n",
    "\n",
    "ax.errorbar(delta_list,LN_Born_list.mean(axis=1)/np.log(2),LN_Born_list.std(axis=1)/np.log(2)/np.sqrt(es-1),fmt='.-',capsize=3,label='Onsite measurement')\n",
    "\n",
    "ax.errorbar(delta_list,LN_link_Born_list.mean(axis=1)/np.log(2),LN_link_Born_list.std(axis=1)/np.log(2)/np.sqrt(es-1),fmt='.-',capsize=3,label='Link measurement')\n",
    "\n",
    "ax.legend(loc=2)\n",
    "ax.grid('on')\n",
    "ax.set_xlabel(r'$\\delta$')\n",
    "ax.set_ylabel(r'log neg [log 2]')\n",
    "ax.set_ylim([0,1.1])\n",
    "green=Rectangle((-1,0),1,1.5,alpha=0.2,color='g')\n",
    "yellow=Rectangle((0,0),1,1.5,alpha=0.2,color='y')\n",
    "ax.add_patch(green)\n",
    "ax.add_patch(yellow)\n",
    "ax.set_xlim([-1,1])\n",
    "ax.text(.2,.65,'Trivial',transform=ax.transAxes,fontsize=16,ha='center',va='bottom')\n",
    "ax.text(.8,.65,'Topological',transform=ax.transAxes,fontsize=16,ha='center',va='bottom')\n",
    "\n",
    "fig.savefig('/mnt/d/KITP/slides_SPT/SSH_3.png',facecolor='w',dpi=1000)"
   ],
   "outputs": [],
   "metadata": {}
  },
  {
   "cell_type": "markdown",
   "source": [
    "## As a function of measurement rate"
   ],
   "metadata": {}
  },
  {
   "cell_type": "markdown",
   "source": [
    "### Onsite"
   ],
   "metadata": {}
  },
  {
   "cell_type": "code",
   "execution_count": 19,
   "source": [
    "es=100\n",
    "p_rate_list=np.array([0,.5,.8,.9,.95,1])\n",
    "delta_list=np.linspace(-1,1,50)**3\n",
    "MI_onsite_rate_list=np.zeros((p_rate_list.shape[0],delta_list.shape[0],es))\n",
    "LN_onsite_rate_list=np.zeros((p_rate_list.shape[0],delta_list.shape[0],es))\n",
    "L=64\n",
    "def run(p):\n",
    "    delta,p_rate,L=p\n",
    "    params=Params(L=64,delta=delta)\n",
    "    subA=np.arange(0,L//2)\n",
    "    subAp=np.arange(0,L//2)+L//2\n",
    "    subB=np.arange(0,L//2)+L\n",
    "    subBp=np.arange(0,L//2)+L//2*3\n",
    "    proj_range_bool=np.random.choice([0,1],size=subAp.shape[0],p=[1-p_rate,p_rate])\n",
    "    proj_range=subAp[proj_range_bool==1]   \n",
    "    params.measure_all_Born(proj_range=proj_range,type='link')\n",
    "    MI=params.mutual_information_m(np.arange(0,L//2),np.arange(0,L//2)+L)\n",
    "    LN=params.log_neg(np.arange(0,L//2),np.arange(0,L//2)+L)\n",
    "    return MI,LN\n",
    "\n",
    "for p_rate_i,p_rate in enumerate(p_rate_list):\n",
    "    for delta_i,delta in enumerate(delta_list):\n",
    "        sync_results=rc[:].map_sync(run,[(delta,p_rate,L)]*es)\n",
    "        for es_i,result in enumerate(sync_results):\n",
    "            MI,LN=result\n",
    "            MI_onsite_rate_list[p_rate_i,delta_i,es_i]=MI\n",
    "            LN_onsite_rate_list[p_rate_i,delta_i,es_i]=LN"
   ],
   "outputs": [],
   "metadata": {}
  },
  {
   "cell_type": "code",
   "execution_count": 26,
   "source": [
    "fig,ax=plt.subplots()\n",
    "for p_rate_i,p_rate in enumerate(p_rate_list):\n",
    "    ax.errorbar(delta_list,MI_onsite_rate_list[p_rate_i,:,:].mean(axis=1)/np.log(2),MI_onsite_rate_list[p_rate_i,:,:].std(axis=1)/np.sqrt(es),label='p={:.3f}'.format(p_rate))\n",
    "\n",
    "ax.set_xlabel('$\\delta$')\n",
    "ax.set_ylabel('$MI [log 2]$')\n",
    "ax.legend()\n",
    "\n",
    "\n",
    "fig.savefig('/mnt/d/kitp/Rp_SPT/12/MI_onsite_rate.pdf')"
   ],
   "outputs": [
    {
     "output_type": "display_data",
     "data": {
      "text/plain": [
       "<Figure size 489.6x288 with 1 Axes>"
      ],
      "image/png": "[encoded data removed]"
     },
     "metadata": {
      "needs_background": "light"
     }
    }
   ],
   "metadata": {}
  },
  {
   "cell_type": "code",
   "execution_count": 27,
   "source": [
    "fig,ax=plt.subplots()\n",
    "for p_rate_i,p_rate in enumerate(p_rate_list):\n",
    "    ax.errorbar(delta_list,LN_onsite_rate_list[p_rate_i,:,:].mean(axis=1)/np.log(2),LN_onsite_rate_list[p_rate_i,:,:].std(axis=1)/np.sqrt(es),label='p={:.3f}'.format(p_rate))\n",
    "\n",
    "ax.set_xlabel('$\\delta$')\n",
    "ax.set_ylabel('$LN [log 2]$')\n",
    "ax.legend()\n",
    "\n",
    "\n",
    "fig.savefig('/mnt/d/kitp/Rp_SPT/12/LN_onsite_rate.pdf')"
   ],
   "outputs": [
    {
     "output_type": "display_data",
     "data": {
      "text/plain": [
       "<Figure size 489.6x288 with 1 Axes>"
      ],
      "image/png": "[encoded data removed]"
     },
     "metadata": {
      "needs_background": "light"
     }
    }
   ],
   "metadata": {}
  },
  {
   "cell_type": "code",
   "execution_count": 41,
   "source": [
    "es=10\n",
    "p_rate_list=np.array([0,.8,.9,.95,.97,1])\n",
    "delta_list=np.linspace(-1,1,20)**3\n",
    "MI_link_rate_list=np.zeros((p_rate_list.shape[0],delta_list.shape[0],es))\n",
    "LN_link_rate_list=np.zeros((p_rate_list.shape[0],delta_list.shape[0],es))\n",
    "L=128\n",
    "def run(p):\n",
    "    delta,p_rate,L=p\n",
    "    params=Params(L=L,delta=delta)\n",
    "    subA=np.arange(0,L//2,2)\n",
    "    subAp=np.arange(0,L//2,2)+L//2\n",
    "    subB=np.arange(0,L//2,2)+L\n",
    "    subBp=np.arange(0,L//2,2)+L//2*3\n",
    "    proj_range_bool=np.random.choice([0,1],size=subAp.shape[0],p=[1-p_rate,p_rate])\n",
    "    proj_range=subAp[proj_range_bool==1]   \n",
    "    params.measure_all_Born(proj_range=proj_range,type='link')\n",
    "    MI=params.mutual_information_m(np.arange(0,L//2),np.arange(0,L//2)+L)\n",
    "    LN=params.log_neg(np.arange(0,L//2),np.arange(0,L//2)+L)\n",
    "    return MI,LN\n",
    "\n",
    "for p_rate_i,p_rate in enumerate(p_rate_list):\n",
    "    for delta_i,delta in enumerate(delta_list):\n",
    "        sync_results=rc[:].map_sync(run,[(delta,p_rate,L)]*es)\n",
    "        for es_i,result in enumerate(sync_results):\n",
    "            MI,LN=result\n",
    "            MI_link_rate_list[p_rate_i,delta_i,es_i]=MI\n",
    "            LN_link_rate_list[p_rate_i,delta_i,es_i]=LN"
   ],
   "outputs": [],
   "metadata": {}
  },
  {
   "cell_type": "code",
   "execution_count": 18,
   "source": [
    "with open('SSH_p_rate_link_L64_es10.pickle','rb') as f:\n",
    "    [MI_link_rate_list,LN_link_rate_list,p_rate_list,delta_list,args]=pickle.load(f)\n",
    "es=args.es"
   ],
   "outputs": [],
   "metadata": {}
  },
  {
   "cell_type": "code",
   "execution_count": 19,
   "source": [
    "fig,ax=plt.subplots()\n",
    "color_list='rgbcyk'\n",
    "for (p_rate_i,p_rate),color in zip(enumerate(p_rate_list),color_list):\n",
    "    ax.errorbar(delta_list,MI_link_rate_list[p_rate_i,:,:].mean(axis=1)/np.log(2),MI_link_rate_list[p_rate_i,:,:].std(axis=1)/np.sqrt(es),label='p={:.3f}'.format(p_rate),color=color)\n",
    "\n",
    "ax.set_xlabel('$\\delta$')\n",
    "ax.set_ylabel('$MI [log 2]$')\n",
    "ax.legend()\n",
    "# fig.savefig('/mnt/d/kitp/Rp_SPT/12/MI_link_rate.pdf')"
   ],
   "outputs": [
    {
     "output_type": "execute_result",
     "data": {
      "text/plain": [
       "<matplotlib.legend.Legend at 0x7f27b7a4dcd0>"
      ]
     },
     "metadata": {},
     "execution_count": 19
    },
    {
     "output_type": "display_data",
     "data": {
      "text/plain": [
       "<Figure size 489.6x288 with 1 Axes>"
      ],
      "image/png": "[encoded data removed]"
     },
     "metadata": {
      "needs_background": "light"
     }
    }
   ],
   "metadata": {}
  },
  {
   "cell_type": "code",
   "execution_count": 31,
   "source": [
    "fig,ax=plt.subplots()\n",
    "for p_rate_i,p_rate in enumerate(p_rate_list):\n",
    "    ax.errorbar(delta_list,LN_link_rate_list[p_rate_i,:,:].mean(axis=1)/np.log(2),LN_link_rate_list[p_rate_i,:,:].std(axis=1)/np.sqrt(es),label='p={:.3f}'.format(p_rate))\n",
    "\n",
    "ax.set_xlabel('$\\delta$')\n",
    "ax.set_ylabel('$LN [log 2]$')\n",
    "ax.legend()\n",
    "\n",
    "fig.savefig('/mnt/d/kitp/Rp_SPT/12/LN_link_rate.pdf')"
   ],
   "outputs": [
    {
     "output_type": "display_data",
     "data": {
      "text/plain": [
       "<Figure size 489.6x288 with 1 Axes>"
      ],
      "image/png": "[encoded data removed]"
     },
     "metadata": {
      "needs_background": "light"
     }
    }
   ],
   "metadata": {}
  },
  {
   "cell_type": "markdown",
   "source": [
    "## projects to 00 & 11, breaking symm"
   ],
   "metadata": {}
  },
  {
   "cell_type": "code",
   "execution_count": null,
   "source": [
    "delta_list=np.linspace(-1,1,40)**3\n",
    "es=100\n",
    "L=64\n",
    "MI_link_nosymm_Born_list=np.zeros((len(delta_list),(es)))\n",
    "LN_link_nosymm_Born_list=np.zeros((len(delta_list),(es)))\n",
    "delta=0\n",
    "for d_i,delta in enumerate(delta_list):\n",
    "    # # Serial\n",
    "    # for es_i in range(es):\n",
    "    #     # MI_link_nosymm_Born_list[d_i,es_i]=Params(delta=delta,L=L).measure_all_Born().mutual_information_m(np.arange(params.L),np.arange(params.L)+params.L*2)\n",
    "    #     LN_link_nosymm_Born_list[d_i,es_i]=Params(delta=delta,L=L).measure_all_Born(type='link').log_neg(np.arange(L),np.arange(L)+L*2)\n",
    "    \n",
    "    #Parallel\n",
    "    async_result=rc[:].map_sync((lambda p:Params(delta=p[0],L=p[1]).measure_all_Born(type='link',ignore=True).log_neg(np.arange(p[1]),np.arange(p[1])+p[1]*2)),[(delta,L) for _ in range(es)])\n",
    "    LN_link_nosymm_Born_list[d_i,:]=async_result  "
   ],
   "outputs": [],
   "metadata": {}
  },
  {
   "cell_type": "code",
   "execution_count": null,
   "source": [
    "fig,ax=plt.subplots()\n",
    "ax.errorbar(delta_list,LN_link_nosymm_Born_list.mean(axis=1)/np.log(2),LN_link_Born_list.std(axis=1)/np.log(2)/np.sqrt(es-1),fmt='.-',capsize=3)\n",
    "ax.set_xlabel('m')\n",
    "ax.set_ylabel('log neg [log2]')\n",
    "fig.savefig('/mnt/d/KITP/Rp_SPT/8/LN_SSH_Born_link_nosymm_L{:d}.pdf'.format(L),bbox_inches='tight')"
   ],
   "outputs": [],
   "metadata": {}
  },
  {
   "cell_type": "code",
   "execution_count": null,
   "source": [
    "es=100\n",
    "L=64\n",
    "MI_link_Born_inf_list=np.zeros((len(delta_list),(es)))\n",
    "LN_link_Born_inf_list=np.zeros((len(delta_list),(es)))\n",
    "delta=0\n",
    "for d_i,delta in enumerate(delta_list):\n",
    "    # # Serial\n",
    "    # for es_i in range(es):\n",
    "    #     MI_link_Born_inf_list[d_i,es_i]=Params(delta=delta,L=L).measure_all_Born().mutual_information_m(np.arange(params.L),np.arange(params.L)+params.L*2)\n",
    "    #     LN_link_Born_inf_list[d_i,es_i]=Params(delta=delta,L=L).measure_all_Born(type='link').log_neg(np.arange(params.L),np.arange(params.L)+params.L*2)\n",
    "    \n",
    "    #Parallel\n",
    "    async_result=rc[:].map_sync((lambda p:Params(delta=p[0],L=np.inf,dmax=p[1]).measure_all_Born(type='link',proj_range=np.arange(p[1],2*p[1],4)).log_neg(np.arange(p[1]),np.arange(p[1])+p[1]*2)),[(delta,L) for _ in range(es)])\n",
    "    LN_link_Born_inf_list[d_i,:]=async_result   "
   ],
   "outputs": [],
   "metadata": {}
  },
  {
   "cell_type": "code",
   "execution_count": null,
   "source": [
    "plt.errorbar(delta_list,LN_link_Born_inf_list.mean(axis=1)/np.log(2),LN_link_Born_inf_list.std(axis=1)/np.log(2),fmt='.-',capsize=3)"
   ],
   "outputs": [],
   "metadata": {}
  },
  {
   "cell_type": "code",
   "execution_count": null,
   "source": [
    "# plt.plot(delta_list,MI_no_list)\n",
    "plt.plot(delta_list,LN_no_list/np.log(2))\n",
    "\n",
    "# plt.plot(delta_list,MI_pos_list)\n",
    "plt.plot(delta_list,LN_pos_list)\n",
    "\n",
    "# plt.plot(delta_list,MI_neg_list)\n",
    "# plt.plot(delta_list,LN_neg_list)\n",
    "\n",
    "# plt.plot(delta_list,np.array(MI_Born_list).mean(axis=1))\n",
    "plt.plot(delta_list,np.array(LN_Born_list/np.log(2)).mean(axis=1))\n",
    "\n",
    "plt.plot(delta_list,np.array(LN_link_Born_list/np.log(2)).mean(axis=1))\n",
    "\n",
    "\n"
   ],
   "outputs": [],
   "metadata": {}
  },
  {
   "cell_type": "code",
   "execution_count": null,
   "source": [
    "fig,ax=plt.subplots()\n",
    "colorlist=iter('bgrcmyk')\n",
    "ax.plot(delta_list,LN_no_list/np.log(2),'.-',label='No measure',color=colorlist.__next__())\n",
    "ax.plot(delta_list,np.array(LN_Born_list/np.log(2)).mean(axis=1),'.-',label='Onsite measurement',color=colorlist.__next__())\n",
    "ax.plot(delta_list,np.array(LN_link_Born_list/np.log(2)).mean(axis=1),'.-',label='Link measurement',color=colorlist.__next__())\n",
    "\n",
    "ax.legend()\n",
    "ax.grid('on')\n",
    "ax.set_xlabel(r'$\\delta$')\n",
    "ax.set_ylabel(r'log neg [log 2]')\n",
    "\n",
    "fig.savefig('/mnt/d/kitp/Rp_SPT/7/LN_Measure.pdf',bbox_inches='tight')"
   ],
   "outputs": [],
   "metadata": {}
  },
  {
   "cell_type": "markdown",
   "source": [
    "# Scaling at $\\delta=0$"
   ],
   "metadata": {}
  },
  {
   "cell_type": "markdown",
   "source": [
    "## No measurement"
   ],
   "metadata": {}
  },
  {
   "cell_type": "code",
   "execution_count": null,
   "source": [
    "eta_no_list=[]\n",
    "MI_no_list=[]\n",
    "LN_no_list=[]\n",
    "L=128\n",
    "params=Params(delta=0,L=L,bc=-1)\n",
    "for _ in range(500):\n",
    "    x=sorted(4*np.random.choice(np.arange(1,L),3,replace=False))\n",
    "    x=[0]+x\n",
    "    eta=cross_ratio(x,4*params.L)\n",
    "    eta_no_list.append(eta)\n",
    "    subregionA=np.arange(x[0],x[1])\n",
    "    subregionB=np.arange(x[2],x[3])\n",
    "    MI=params.mutual_information_m(subregionA,subregionB)    \n",
    "    MI_no_list.append(MI)\n",
    "    LN=params.log_neg(subregionA,subregionB)\n",
    "    LN_no_list.append(LN)\n",
    "eta_no_list=np.array(eta_no_list)\n",
    "MI_no_list=np.array(MI_no_list)\n",
    "LN_no_list=np.array(LN_no_list)"
   ],
   "outputs": [],
   "metadata": {}
  },
  {
   "cell_type": "code",
   "execution_count": null,
   "source": [
    "import matplotlib.patches as mpatches\n",
    "def place_region(x,y,fig,ax,color='ybyk'):  \n",
    "    # fig,ax=plt.subplots()\n",
    "    arc=[mpatches.Arc((x,y),50,50,-theta,0,90,transform=None,ec=ec,lw=5) for theta,ec in zip(np.arange(4)*90,color)]\n",
    "    [fig.artists.append(arc) for arc in arc]\n",
    "    ax.text(x+25,y+25,r'$A$',transform=None,ha='center',va='center')\n",
    "    ax.text(x+25,y-25,r'$A^\\prime$',transform=None,ha='center',va='center')\n",
    "    ax.text(x-25,y-25,r'$B$',transform=None,ha='center',va='center')\n",
    "    ax.text(x-25,y+25,r'$B^\\prime$',transform=None,ha='center',va='center')"
   ],
   "outputs": [],
   "metadata": {}
  },
  {
   "cell_type": "code",
   "execution_count": null,
   "source": [
    "fig,ax=plt.subplots()\n",
    "# ax.scatter(eta_no_list,MI_no_list,s=1,color='b',label='L=128, MI')\n",
    "ax.scatter(eta_no_list,LN_no_list,s=1,color='r',label='L=128, LN')\n",
    "\n",
    "ax.set_xscale('log')\n",
    "ax.set_yscale('log')\n",
    "ax.set_xlim([np.min(eta_no_list),1])\n",
    "# ax.set_ylim([1e-10,1])\n",
    "\n",
    "# mask_MI=(MI_no_list>1e-10)&((eta_no_list)<0.1)\n",
    "# lr_MI=scipy.stats.linregress(np.log(eta_no_list[mask_MI]),np.log(MI_no_list[mask_MI]))\n",
    "# x_int=np.linspace(np.min(eta_no_list),1,10)\n",
    "# y_int=np.exp(lr_MI.slope*np.log(x_int)+lr_MI.intercept)\n",
    "# ax.plot(x_int,y_int,'c',label=r'MI$\\propto\\eta^{{{:.2f}}}$'.format(lr_MI.slope))\n",
    "\n",
    "mask_LN=(LN_no_list>1e-10)&((eta_no_list)<0.1)\n",
    "lr_LN=scipy.stats.linregress(np.log(eta_no_list[mask_LN]),np.log(LN_no_list[mask_LN]))\n",
    "x_int=np.linspace(np.min(eta_no_list),1,10)\n",
    "y_int=np.exp(lr_LN.slope*np.log(x_int)+lr_LN.intercept)\n",
    "ax.plot(x_int,y_int,label=r'LN$\\propto\\eta^{{{:.2f}}}$'.format(lr_LN.slope),color='orange')\n",
    "ax.set_xlabel(r'$\\eta$')\n",
    "ax.legend()\n",
    "\n",
    "place_region(200,200,fig,ax,'ykyk')\n",
    "# fig.savefig('/mnt/d/kitp/Rp_SPT/7/MI_LN_no.pdf')\n",
    "fig.savefig('/mnt/d/KITP/slides_SPT/SSH_LN_no.png',facecolor='w')"
   ],
   "outputs": [],
   "metadata": {}
  },
  {
   "cell_type": "markdown",
   "source": [
    "## Onsite A'"
   ],
   "metadata": {}
  },
  {
   "cell_type": "code",
   "execution_count": null,
   "source": [
    "with open('/mnt/d/kitp/Rp_SPT/7/MI_LN_Born_es100_pt100_Ap_onsite.pickle','rb') as f:\n",
    "    eta_Born_onsite_Ap_list,MI_Born_onsite_Ap_list,LN_Born_onsite_Ap_list=pickle.load(f)"
   ],
   "outputs": [],
   "metadata": {}
  },
  {
   "cell_type": "code",
   "execution_count": null,
   "source": [
    "eta_Born_onsite_Ap_list=[]\n",
    "MI_Born_onsite_Ap_list=[]\n",
    "LN_Born_onsite_Ap_list=[]\n",
    "# x_list=[]\n",
    "# subregion_list=[]\n",
    "es=10\n",
    "L=128\n",
    "params_init=Params(delta=0,L=L,bc=-1)\n",
    "for _ in range(20):\n",
    "    MI_ensemble_list=[]\n",
    "    LN_ensemble_list=[]\n",
    "    x=sorted(4*np.random.choice(np.arange(1,L),3,replace=False))\n",
    "    x=[0]+x\n",
    "    subregionA=np.arange(x[0],x[1])\n",
    "    subregionB=np.arange(x[2],x[3])\n",
    "    subregionAp=np.arange(x[1],x[2],2)\n",
    "    eta=cross_ratio(x,4*L)\n",
    "    for _ in range(es):\n",
    "        params=copy(params_init)\n",
    "        params.measure_all_Born(subregionAp)\n",
    "        MI_ensemble_list.append(params.mutual_information_m(subregionA,subregionB))\n",
    "        LN_ensemble_list.append(params.log_neg(subregionA,subregionB))\n",
    "\n",
    "    eta_Born_onsite_Ap_list.append(eta)\n",
    "    MI_Born_onsite_Ap_list.append(MI_ensemble_list)\n",
    "    LN_Born_onsite_Ap_list.append(LN_ensemble_list)\n",
    "eta_Born_onsite_Ap_list=np.array(eta_Born_onsite_Ap_list)\n",
    "MI_Born_onsite_Ap_list=np.array(MI_Born_onsite_Ap_list)\n",
    "LN_Born_onsite_Ap_list=np.array(LN_Born_onsite_Ap_list)"
   ],
   "outputs": [],
   "metadata": {}
  },
  {
   "cell_type": "code",
   "execution_count": null,
   "source": [
    "MI_Born_onsite_Ap_list_mean=MI_Born_onsite_Ap_list.mean(axis=1)\n",
    "LN_Born_onsite_Ap_list_mean=LN_Born_onsite_Ap_list.mean(axis=1)\n",
    "fig,ax=plt.subplots()\n",
    "# ax.scatter(eta_Born_onsite_Ap_list,MI_Born_onsite_Ap_list_mean,s=1,color='b',label='L=128, MI')\n",
    "ax.scatter(eta_Born_onsite_Ap_list,LN_Born_onsite_Ap_list_mean,s=1,color='r',label='L=128, LN')\n",
    "\n",
    "ax.set_xscale('log')\n",
    "ax.set_yscale('log')\n",
    "ax.set_xlim([np.min(eta_Born_onsite_Ap_list),1])\n",
    "# ax.set_ylim([1e-10,1])\n",
    "\n",
    "# mask_MI=(MI_Born_onsite_Ap_list_mean>1e-10)&((eta_Born_onsite_Ap_list)<0.1)\n",
    "# lr_MI=scipy.stats.linregress(np.log(eta_Born_onsite_Ap_list[mask_MI]),np.log(MI_Born_onsite_Ap_list_mean[mask_MI]))\n",
    "# x_int=np.linspace(np.min(eta_Born_onsite_Ap_list),1,10)\n",
    "# y_int=np.exp(lr_MI.slope*np.log(x_int)+lr_MI.intercept)\n",
    "# ax.plot(x_int,y_int,'c',label=r'MI$\\propto\\eta^{{{:.2f}}}$'.format(lr_MI.slope))\n",
    "\n",
    "mask_LN=(LN_Born_onsite_Ap_list_mean>1e-10)&((eta_Born_onsite_Ap_list)<0.1)\n",
    "lr_LN=scipy.stats.linregress(np.log(eta_Born_onsite_Ap_list[mask_LN]),np.log(LN_Born_onsite_Ap_list_mean[mask_LN]))\n",
    "x_int=np.linspace(np.min(eta_Born_onsite_Ap_list),1,10)\n",
    "y_int=np.exp(lr_LN.slope*np.log(x_int)+lr_LN.intercept)\n",
    "ax.plot(x_int,y_int,label=r'LN$\\propto\\eta^{{{:.2f}}}$'.format(lr_LN.slope),color='orange')\n",
    "ax.set_xlabel(r'$\\eta$')\n",
    "ax.legend()\n",
    "\n",
    "place_region(200,200,fig,ax,'ycyk')\n",
    "# fig.savefig('/mnt/d/kitp/Rp_SPT/7/MI_LN_Born_onsite_Ap.pdf')\n",
    "fig.savefig('/mnt/d/KITP/slides_SPT/SSH_LN_onsite.png',facecolor='w')"
   ],
   "outputs": [],
   "metadata": {}
  },
  {
   "cell_type": "markdown",
   "source": [
    "## Onsite $A'\\cup B'$"
   ],
   "metadata": {}
  },
  {
   "cell_type": "code",
   "execution_count": null,
   "source": [
    "with open('/mnt/d/kitp/Rp_SPT/7/MI_LN_Born_es100_pt100_ApBp_onsite.pickle','rb') as f:\n",
    "    eta_Born_onsite_ApBp_list,MI_Born_onsite_ApBp_list,LN_Born_onsite_ApBp_list=pickle.load(f)"
   ],
   "outputs": [],
   "metadata": {}
  },
  {
   "cell_type": "code",
   "execution_count": null,
   "source": [
    "eta_Born_onsite_ApBp_list=[]\n",
    "MI_Born_onsite_ApBp_list=[]\n",
    "LN_Born_onsite_ApBp_list=[]\n",
    "# x_list=[]\n",
    "# subregion_list=[]\n",
    "es=10\n",
    "L=128\n",
    "for _ in range(20):\n",
    "    MI_ensemble_list=[]\n",
    "    LN_ensemble_list=[]\n",
    "    x=sorted(4*np.random.choice(np.arange(1,L),3,replace=False))\n",
    "    x=[0]+x\n",
    "    subregionA=np.arange(x[0],x[1])\n",
    "    subregionB=np.arange(x[2],x[3])\n",
    "    subregionAp=np.arange(x[1],x[2],2)\n",
    "    subregionBp=np.concatenate([np.arange(x[3],2*L,2),np.arange(0,x[0],2)])\n",
    "    eta=cross_ratio(x,4*L)\n",
    "    for _ in range(es):\n",
    "        params=Params(delta=0,L=L,bc=-1).measure_all_Born(subregionAp).measure_all_Born(subregionBp)\n",
    "        MI_ensemble_list.append(params.mutual_information_m(subregionA,subregionB))\n",
    "        LN_ensemble_list.append(params.log_neg(subregionA,subregionB))\n",
    "\n",
    "    eta_Born_onsite_ApBp_list.append(eta)\n",
    "    MI_Born_onsite_ApBp_list.append(MI_ensemble_list)\n",
    "    LN_Born_onsite_ApBp_list.append(LN_ensemble_list)\n",
    "eta_Born_onsite_ApBp_list=np.array(eta_Born_onsite_ApBp_list)\n",
    "MI_Born_onsite_ApBp_list=np.array(MI_Born_onsite_ApBp_list)\n",
    "LN_Born_onsite_ApBp_list=np.array(LN_Born_onsite_ApBp_list)"
   ],
   "outputs": [],
   "metadata": {}
  },
  {
   "cell_type": "code",
   "execution_count": null,
   "source": [
    "MI_Born_onsite_ApBp_list_mean=MI_Born_onsite_ApBp_list.mean(axis=1)\n",
    "LN_Born_onsite_ApBp_list_mean=LN_Born_onsite_ApBp_list.mean(axis=1)\n",
    "fig,ax=plt.subplots()\n",
    "ax.scatter(eta_Born_onsite_ApBp_list,MI_Born_onsite_ApBp_list_mean,s=1,color='b',label='L=256, MI')\n",
    "ax.scatter(eta_Born_onsite_ApBp_list,LN_Born_onsite_ApBp_list_mean,s=1,color='r',label='L=256, LN')\n",
    "\n",
    "ax.set_xscale('log')\n",
    "ax.set_yscale('log')\n",
    "ax.set_xlim([np.min(eta_Born_onsite_ApBp_list),1])\n",
    "# ax.set_ylim([1e-10,1])\n",
    "\n",
    "mask_MI=(MI_Born_onsite_ApBp_list_mean>1e-10)&((eta_Born_onsite_ApBp_list)<0.1)\n",
    "lr_MI=scipy.stats.linregress(np.log(eta_Born_onsite_ApBp_list[mask_MI]),np.log(MI_Born_onsite_ApBp_list_mean[mask_MI]))\n",
    "x_int=np.linspace(np.min(eta_Born_onsite_ApBp_list),1,10)\n",
    "y_int=np.exp(lr_MI.slope*np.log(x_int)+lr_MI.intercept)\n",
    "ax.plot(x_int,y_int,'c',label=r'MI$\\propto\\eta^{{{:.2f}}}$'.format(lr_MI.slope))\n",
    "\n",
    "mask_LN=(LN_Born_onsite_ApBp_list_mean>1e-10)&((eta_Born_onsite_ApBp_list)<0.1)\n",
    "lr_LN=scipy.stats.linregress(np.log(eta_Born_onsite_ApBp_list[mask_LN]),np.log(LN_Born_onsite_ApBp_list_mean[mask_LN]))\n",
    "x_int=np.linspace(np.min(eta_Born_onsite_ApBp_list),1,10)\n",
    "y_int=np.exp(lr_LN.slope*np.log(x_int)+lr_LN.intercept)\n",
    "ax.plot(x_int,y_int,label=r'LN$\\propto\\eta^{{{:.2f}}}$'.format(lr_LN.slope),color='orange')\n",
    "ax.set_xlabel(r'$\\eta$')\n",
    "ax.legend()\n",
    "\n",
    "place_region(200,200,fig,ax,'ycyc')\n",
    "fig.savefig('/mnt/d/kitp/Rp_SPT/7/MI_LN_Born_onsite_ApBp.pdf')\n"
   ],
   "outputs": [],
   "metadata": {}
  },
  {
   "cell_type": "markdown",
   "source": [
    "## Link A'"
   ],
   "metadata": {}
  },
  {
   "cell_type": "code",
   "execution_count": null,
   "source": [
    "eta_Born_link_Ap_list=[]\n",
    "MI_Born_link_Ap_list=[]\n",
    "LN_Born_link_Ap_list=[]\n",
    "# x_list=[]\n",
    "# subregion_list=[]\n",
    "es=10\n",
    "L=128\n",
    "for _ in range(100):\n",
    "    MI_ensemble_list=[]\n",
    "    LN_ensemble_list=[]\n",
    "    x=sorted(4*np.random.choice(np.arange(1,L),3,replace=False))\n",
    "    x=[0]+x\n",
    "    subregionA=np.arange(x[0],x[1])\n",
    "    subregionB=np.arange(x[2],x[3])\n",
    "    subregionAp=np.arange(x[1],x[2],4)\n",
    "    eta=cross_ratio(x,4*L)\n",
    "    for _ in range(es):\n",
    "        params=Params(delta=0,L=L,bc=-1).measure_all_Born(subregionAp,type='link')\n",
    "        MI_ensemble_list.append(params.mutual_information_m(subregionA,subregionB))\n",
    "        LN_ensemble_list.append(params.log_neg(subregionA,subregionB))\n",
    "\n",
    "    eta_Born_link_Ap_list.append(eta)\n",
    "    MI_Born_link_Ap_list.append(MI_ensemble_list)\n",
    "    LN_Born_link_Ap_list.append(LN_ensemble_list)\n",
    "eta_Born_link_Ap_list=np.array(eta_Born_link_Ap_list)\n",
    "MI_Born_link_Ap_list=np.array(MI_Born_link_Ap_list)\n",
    "LN_Born_link_Ap_list=np.array(LN_Born_link_Ap_list)"
   ],
   "outputs": [],
   "metadata": {}
  },
  {
   "cell_type": "code",
   "execution_count": null,
   "source": [
    "with open('/mnt/d/kitp/Rp_SPT/7/MI_LN_Born_es100_pt500_Ap_link.pickle','rb') as f:\n",
    "    eta_Born_link_Ap_list,MI_Born_link_Ap_list,LN_Born_link_Ap_list=pickle.load(f)"
   ],
   "outputs": [],
   "metadata": {}
  },
  {
   "cell_type": "code",
   "execution_count": null,
   "source": [
    "MI_Born_link_Ap_list_mean=MI_Born_link_Ap_list.mean(axis=1)\n",
    "LN_Born_link_Ap_list_mean=LN_Born_link_Ap_list.mean(axis=1)\n",
    "fig,ax=plt.subplots()\n",
    "# ax.scatter(eta_Born_link_Ap_list,MI_Born_link_Ap_list_mean,s=1,color='b',label='L=256, MI')\n",
    "ax.scatter(eta_Born_link_Ap_list,LN_Born_link_Ap_list_mean,s=1,color='r',label='L=256, LN')\n",
    "\n",
    "ax.set_xscale('log')\n",
    "ax.set_yscale('log')\n",
    "ax.set_xlim([np.min(eta_Born_link_Ap_list),1])\n",
    "# ax.set_ylim([1e-10,1])\n",
    "\n",
    "# mask_MI=(MI_Born_link_Ap_list_mean>1e-10)&((eta_Born_link_Ap_list)<0.1)\n",
    "# lr_MI=scipy.stats.linregress(np.log(eta_Born_link_Ap_list[mask_MI]),np.log(MI_Born_link_Ap_list_mean[mask_MI]))\n",
    "# x_int=np.linspace(np.min(eta_Born_link_Ap_list),1,10)\n",
    "# y_int=np.exp(lr_MI.slope*np.log(x_int)+lr_MI.intercept)\n",
    "# ax.plot(x_int,y_int,'c',label=r'MI$\\propto\\eta^{{{:.2f}}}$'.format(lr_MI.slope))\n",
    "\n",
    "mask_LN=(LN_Born_link_Ap_list_mean>1e-10)&((eta_Born_link_Ap_list)<0.1)\n",
    "lr_LN=scipy.stats.linregress(np.log(eta_Born_link_Ap_list[mask_LN]),np.log(LN_Born_link_Ap_list_mean[mask_LN]))\n",
    "x_int=np.linspace(np.min(eta_Born_link_Ap_list),1,10)\n",
    "y_int=np.exp(lr_LN.slope*np.log(x_int)+lr_LN.intercept)\n",
    "ax.plot(x_int,y_int,label=r'LN$\\propto\\eta^{{{:.2f}}}$'.format(lr_LN.slope),color='orange')\n",
    "ax.set_xlabel(r'$\\eta$')\n",
    "ax.legend()\n",
    "\n",
    "place_region(200,200,fig,ax,'ycyk')\n",
    "# fig.savefig('/mnt/d/kitp/Rp_SPT/7/MI_LN_Born_link_Ap.pdf')\n",
    "fig.savefig('/mnt/d/KITP/slides_SPT/SSH_LN_link.png',facecolor='w')"
   ],
   "outputs": [],
   "metadata": {}
  },
  {
   "cell_type": "markdown",
   "source": [
    "## Link $A'\\cup B'$"
   ],
   "metadata": {}
  },
  {
   "cell_type": "code",
   "execution_count": null,
   "source": [
    "eta_Born_link_ApBp_list=[]\n",
    "MI_Born_link_ApBp_list=[]\n",
    "LN_Born_link_ApBp_list=[]\n",
    "# x_list=[]\n",
    "# subregion_list=[]\n",
    "es=10\n",
    "L=128\n",
    "for _ in range(20):\n",
    "    MI_ensemble_list=[]\n",
    "    LN_ensemble_list=[]\n",
    "    x=sorted(4*np.random.choice(np.arange(1,L),3,replace=False))\n",
    "    x=[0]+x\n",
    "    subregionA=np.arange(x[0],x[1])\n",
    "    subregionB=np.arange(x[2],x[3])\n",
    "    subregionAp=np.arange(x[1],x[2],4)\n",
    "    subregionBp=np.concatenate([np.arange(x[3],2*L,4),np.arange(0,x[0],4)])\n",
    "    eta=cross_ratio(x,4*L)\n",
    "    for _ in range(es):\n",
    "        params=Params(delta=0,L=L,bc=-1).measure_all_Born(subregionAp).measure_all_Born(subregionBp)\n",
    "        MI_ensemble_list.append(params.mutual_information_m(subregionA,subregionB))\n",
    "        LN_ensemble_list.append(params.log_neg(subregionA,subregionB))\n",
    "\n",
    "    eta_Born_link_ApBp_list.append(eta)\n",
    "    MI_Born_link_ApBp_list.append(MI_ensemble_list)\n",
    "    LN_Born_link_ApBp_list.append(LN_ensemble_list)\n",
    "eta_Born_link_ApBp_list=np.array(eta_Born_link_ApBp_list)\n",
    "MI_Born_link_ApBp_list=np.array(MI_Born_link_ApBp_list)\n",
    "LN_Born_link_ApBp_list=np.array(LN_Born_link_ApBp_list)"
   ],
   "outputs": [],
   "metadata": {}
  },
  {
   "cell_type": "code",
   "execution_count": null,
   "source": [
    "with open('/mnt/d/kitp/Rp_SPT/7/MI_LN_Born_es100_pt500_ApBp_link.pickle','rb') as f:\n",
    "    eta_Born_link_ApBp_list,MI_Born_link_ApBp_list,LN_Born_link_ApBp_list=pickle.load(f)"
   ],
   "outputs": [],
   "metadata": {}
  },
  {
   "cell_type": "code",
   "execution_count": null,
   "source": [
    "MI_Born_link_ApBp_list_mean=MI_Born_link_ApBp_list.mean(axis=1)\n",
    "LN_Born_link_ApBp_list_mean=LN_Born_link_ApBp_list.mean(axis=1)\n",
    "fig,ax=plt.subplots()\n",
    "ax.scatter(eta_Born_link_ApBp_list,MI_Born_link_ApBp_list_mean,s=1,color='b',label='L=256, MI')\n",
    "ax.scatter(eta_Born_link_ApBp_list,LN_Born_link_ApBp_list_mean,s=1,color='r',label='L=256, LN')\n",
    "\n",
    "ax.set_xscale('log')\n",
    "ax.set_yscale('log')\n",
    "ax.set_xlim([np.min(eta_Born_link_ApBp_list),1])\n",
    "# ax.set_ylim([1e-10,1])\n",
    "\n",
    "mask_MI=(MI_Born_link_ApBp_list_mean>1e-10)&((eta_Born_link_ApBp_list)<0.1)\n",
    "lr_MI=scipy.stats.linregress(np.log(eta_Born_link_ApBp_list[mask_MI]),np.log(MI_Born_link_ApBp_list_mean[mask_MI]))\n",
    "x_int=np.linspace(np.min(eta_Born_link_ApBp_list),1,10)\n",
    "y_int=np.exp(lr_MI.slope*np.log(x_int)+lr_MI.intercept)\n",
    "ax.plot(x_int,y_int,'c',label=r'MI$\\propto\\eta^{{{:.2f}}}$'.format(lr_MI.slope))\n",
    "\n",
    "mask_LN=(LN_Born_link_ApBp_list_mean>1e-10)&((eta_Born_link_ApBp_list)<0.1)\n",
    "lr_LN=scipy.stats.linregress(np.log(eta_Born_link_ApBp_list[mask_LN]),np.log(LN_Born_link_ApBp_list_mean[mask_LN]))\n",
    "x_int=np.linspace(np.min(eta_Born_link_ApBp_list),1,10)\n",
    "y_int=np.exp(lr_LN.slope*np.log(x_int)+lr_LN.intercept)\n",
    "ax.plot(x_int,y_int,label=r'LN$\\propto\\eta^{{{:.2f}}}$'.format(lr_LN.slope),color='orange')\n",
    "ax.set_xlabel(r'$\\eta$')\n",
    "ax.legend()\n",
    "\n",
    "place_region(200,200,fig,ax,'ycyc')\n",
    "fig.savefig('/mnt/d/kitp/Rp_SPT/7/MI_LN_Born_link_ApBp.pdf')\n"
   ],
   "outputs": [],
   "metadata": {}
  },
  {
   "cell_type": "markdown",
   "source": [
    "# Scaling at $\\delta=0$ for infinite long wire"
   ],
   "metadata": {}
  },
  {
   "cell_type": "markdown",
   "source": [
    "## No measurement"
   ],
   "metadata": {}
  },
  {
   "cell_type": "code",
   "execution_count": null,
   "source": [
    "import matplotlib.patches as mpatches\n",
    "def place_region_wire(x,y,fig,ax,color='yky'):  \n",
    "    # fig,ax=plt.subplots()\n",
    "    arc=[mpatches.Arc((x,y),50,50,-theta,0,90,transform=None,ec=ec,lw=5) for theta,ec in zip(np.arange(4)*90,color)]\n",
    "    lineA=mpatches.Rectangle((x,y),50,5,transform=None,fc=color[0],lw=0)\n",
    "    lineAp=mpatches.Rectangle((x+50,y),100,5,transform=None,fc=color[1],lw=0)\n",
    "    lineB=mpatches.Rectangle((x+150,y),50,5,transform=None,fc=color[2],lw=0)\n",
    "    [fig.artists.append(line) for line in (lineA,lineAp,lineB)]\n",
    "    ax.text(x+25,y+10,r'$A$',transform=None,ha='center',va='center')\n",
    "    ax.text(x+100,y+10,r'$A^\\prime$',transform=None,ha='center',va='center')\n",
    "    ax.text(x+175,y+10,r'$B$',transform=None,ha='center',va='center')"
   ],
   "outputs": [],
   "metadata": {}
  },
  {
   "cell_type": "code",
   "execution_count": null,
   "source": [
    "eta_inf_no_list=[]\n",
    "MI_inf_no_list=[]\n",
    "LN_inf_no_list=[]\n",
    "L=np.inf\n",
    "dist_list=range(4,256)\n",
    "params=Params(delta=0,L=L,bc=-1,dmax=dist_list[-1]+32)\n",
    "for d in dist_list:\n",
    "    x=np.array([0,16,16+d,32+d])*4\n",
    "    eta=cross_ratio(x,L)\n",
    "    eta_inf_no_list.append(eta)\n",
    "    subregionA=np.arange(x[0],x[1])\n",
    "    subregionB=np.arange(x[2],x[3])\n",
    "    MI=params.mutual_information_m(subregionA,subregionB)    \n",
    "    MI_inf_no_list.append(MI)\n",
    "    LN=params.log_neg(subregionA,subregionB)\n",
    "    LN_inf_no_list.append(LN)\n",
    "eta_inf_no_list=np.array(eta_inf_no_list)\n",
    "MI_inf_no_list=np.array(MI_inf_no_list)\n",
    "LN_inf_no_list=np.array(LN_inf_no_list)"
   ],
   "outputs": [],
   "metadata": {}
  },
  {
   "cell_type": "code",
   "execution_count": null,
   "source": [
    "fig,ax=plt.subplots()\n",
    "ax.scatter(eta_inf_no_list,MI_inf_no_list,s=1,color='b',label='L={}, MI'.format(L))\n",
    "ax.scatter(eta_inf_no_list,LN_inf_no_list,s=1,color='r',label='L={}, LN'.format(L))\n",
    "\n",
    "ax.set_xscale('log')\n",
    "ax.set_yscale('log')\n",
    "# ax.set_xlim([np.min(eta_inf_no_list),1])\n",
    "# ax.set_ylim([1e-10,1])\n",
    "\n",
    "mask_MI=(MI_inf_no_list>1e-10)&((eta_inf_no_list)<1)\n",
    "lr_MI=scipy.stats.linregress(np.log(eta_inf_no_list[mask_MI]),np.log(MI_inf_no_list[mask_MI]))\n",
    "x_int=np.linspace(np.min(eta_inf_no_list),np.max(eta_inf_no_list),2)\n",
    "y_int=np.exp(lr_MI.slope*np.log(x_int)+lr_MI.intercept)\n",
    "ax.plot(x_int,y_int,'c',label=r'MI$\\propto\\eta^{{{:.2f}}}$'.format(lr_MI.slope))\n",
    "\n",
    "mask_LN=(LN_inf_no_list>1e-10)&((eta_inf_no_list)<1)\n",
    "lr_LN=scipy.stats.linregress(np.log(eta_inf_no_list[mask_LN]),np.log(LN_inf_no_list[mask_LN]))\n",
    "x_int=np.linspace(np.min(eta_inf_no_list),np.max(eta_inf_no_list),2)\n",
    "y_int=np.exp(lr_LN.slope*np.log(x_int)+lr_LN.intercept)\n",
    "ax.plot(x_int,y_int,label=r'LN$\\propto\\eta^{{{:.2f}}}$'.format(lr_LN.slope),color='orange')\n",
    "ax.set_xlabel(r'$\\eta$')\n",
    "ax.legend()\n",
    "\n",
    "place_region_wire(140,220,fig,ax,color='yky')\n",
    "fig.savefig('/mnt/d/kitp/Rp_SPT/7/MI_LN_inf_no.pdf')"
   ],
   "outputs": [],
   "metadata": {}
  },
  {
   "cell_type": "markdown",
   "source": [
    "## onsite A'"
   ],
   "metadata": {}
  },
  {
   "cell_type": "code",
   "execution_count": null,
   "source": [
    "den=(22,23)\n",
    "with open('/mnt/d/kitp/Rp_SPT/7/MI_LN_SSH_inf_Born_En500_onsite_den({},{})_dist(8,500).pickle'.format(den[0],den[1]),'rb') as f:\n",
    "    [dist_list,eta_inf_Born_onsite_Ap_list,MI_inf_Born_onsite_Ap_list,LN_inf_Born_onsite_Ap_list]=pickle.load(f)"
   ],
   "outputs": [],
   "metadata": {}
  },
  {
   "cell_type": "code",
   "execution_count": null,
   "source": [
    "with open('MI_LN_SSH_inf_Born_En100_onsite_den(1,1)_dist(8,40).pickle','rb') as f:\n",
    "    [dist_list,eta_inf_Born_onsite_Ap_list,MI_inf_Born_onsite_Ap_list,LN_inf_Born_onsite_Ap_list]=pickle.load(f)"
   ],
   "outputs": [],
   "metadata": {}
  },
  {
   "cell_type": "code",
   "execution_count": null,
   "source": [
    "eta_inf_Born_onsite_Ap_list=[]\n",
    "MI_inf_Born_onsite_Ap_list=[]\n",
    "LN_inf_Born_onsite_Ap_list=[]\n",
    "es=100\n",
    "L=np.inf\n",
    "dist_list=range(8,40)\n",
    "params_init=Params(delta=0,L=L,bc=-1,dmax=dist_list[-1]+32)\n",
    "for d in dist_list:\n",
    "    MI_ensemble_list=[]\n",
    "    LN_ensemble_list=[]\n",
    "    x=np.array([0,16,16+d,32+d])*4\n",
    "    subregionA=np.arange(x[0],x[1])\n",
    "    subregionB=np.arange(x[2],x[3])\n",
    "    subregionAp=np.arange(x[1],x[2],2)\n",
    "    eta=cross_ratio(x,4*L)\n",
    "    for _ in range(es):\n",
    "        params=copy(params_init)\n",
    "        params.measure_all_Born(subregionAp)\n",
    "        MI_ensemble_list.append(params.mutual_information_m(subregionA,subregionB))\n",
    "        LN_ensemble_list.append(params.log_neg(subregionA,subregionB))\n",
    "\n",
    "    eta_inf_Born_onsite_Ap_list.append(eta)\n",
    "    MI_inf_Born_onsite_Ap_list.append(MI_ensemble_list)\n",
    "    LN_inf_Born_onsite_Ap_list.append(LN_ensemble_list)\n",
    "eta_inf_Born_onsite_Ap_list=np.array(eta_inf_Born_onsite_Ap_list)\n",
    "MI_inf_Born_onsite_Ap_list=np.array(MI_inf_Born_onsite_Ap_list)\n",
    "LN_inf_Born_onsite_Ap_list=np.array(LN_inf_Born_onsite_Ap_list)"
   ],
   "outputs": [],
   "metadata": {}
  },
  {
   "cell_type": "code",
   "execution_count": null,
   "source": [
    "den=(49,50)\n",
    "with open('/mnt/d/kitp/Rp_SPT/7/MI_LN_SSH_inf_Born_En500_onsite_prob({},{})_dist(8,100).pickle'.format(den[0],den[1]),'rb') as f:\n",
    "    [dist_list,eta_inf_Born_onsite_Ap_list,MI_inf_Born_onsite_Ap_list,LN_inf_Born_onsite_Ap_list]=pickle.load(f)\n",
    "\n",
    "L=np.inf\n",
    "MI_inf_Born_onsite_Ap_list_mean=MI_inf_Born_onsite_Ap_list.mean(axis=1)\n",
    "LN_inf_Born_onsite_Ap_list_mean=LN_inf_Born_onsite_Ap_list.mean(axis=1)\n",
    "fig,ax=plt.subplots()\n",
    "ax.scatter(eta_inf_Born_onsite_Ap_list,MI_inf_Born_onsite_Ap_list_mean,s=1,color='b',label='L={}, MI'.format(L))\n",
    "ax.scatter(eta_inf_Born_onsite_Ap_list,LN_inf_Born_onsite_Ap_list_mean,s=1,color='r',label='L={}, LN'.format(L))\n",
    "\n",
    "ax.set_xscale('log')\n",
    "ax.set_yscale('log')\n",
    "ax.set_xlim([np.min(eta_inf_Born_onsite_Ap_list),np.max(eta_inf_Born_onsite_Ap_list)])\n",
    "# ax.set_ylim([1e-10,1])\n",
    "\n",
    "mask_MI=(MI_inf_Born_onsite_Ap_list_mean>1e-10)&((eta_inf_Born_onsite_Ap_list)<1)\n",
    "lr_MI=scipy.stats.linregress(np.log(eta_inf_Born_onsite_Ap_list[mask_MI]),np.log(MI_inf_Born_onsite_Ap_list_mean[mask_MI]))\n",
    "x_int=np.linspace(np.min(eta_inf_Born_onsite_Ap_list),np.max(eta_inf_Born_onsite_Ap_list),10)\n",
    "y_int=np.exp(lr_MI.slope*np.log(x_int)+lr_MI.intercept)\n",
    "ax.plot(x_int,y_int,'c',label=r'MI$\\propto\\eta^{{{:.2f}}}$'.format(lr_MI.slope))\n",
    "\n",
    "mask_LN=(LN_inf_Born_onsite_Ap_list_mean>1e-10)&((eta_inf_Born_onsite_Ap_list)<1)\n",
    "lr_LN=scipy.stats.linregress(np.log(eta_inf_Born_onsite_Ap_list[mask_LN]),np.log(LN_inf_Born_onsite_Ap_list_mean[mask_LN]))\n",
    "x_int=np.linspace(np.min(eta_inf_Born_onsite_Ap_list),np.max(eta_inf_Born_onsite_Ap_list),10)\n",
    "y_int=np.exp(lr_LN.slope*np.log(x_int)+lr_LN.intercept)\n",
    "ax.plot(x_int,y_int,label=r'LN$\\propto\\eta^{{{:.2f}}}$'.format(lr_LN.slope),color='orange')\n",
    "ax.set_xlabel(r'$\\eta$')\n",
    "ax.legend()\n",
    "place_region_wire(140,220,fig,ax,color='yby')\n",
    "# fig.savefig('/mnt/d/kitp/Rp_SPT/7/MI_LN_inf_Born_onsite_Ap_den({},{}).pdf'.format(den[0],den[1]))\n"
   ],
   "outputs": [],
   "metadata": {}
  },
  {
   "cell_type": "code",
   "execution_count": null,
   "source": [
    "# 100c, 500es, 40-500, 39,40, onsite\n",
    "91.5*np.sum(np.arange(40,500,40)/40)"
   ],
   "outputs": [],
   "metadata": {}
  },
  {
   "cell_type": "markdown",
   "source": [
    "## Link A'"
   ],
   "metadata": {}
  },
  {
   "cell_type": "code",
   "execution_count": null,
   "source": [
    "den=(14,15)\n",
    "with open('/mnt/d/kitp/Rp_SPT/7/MI_LN_SSH_inf_Born_En1000_link_den({},{})_dist(8,500).pickle'.format(den[0],den[1]),'rb') as f:\n",
    "    [dist_list,eta_inf_Born_link_Ap_list,MI_inf_Born_link_Ap_list,LN_inf_Born_link_Ap_list]=pickle.load(f)"
   ],
   "outputs": [],
   "metadata": {}
  },
  {
   "cell_type": "code",
   "execution_count": null,
   "source": [
    "with open('MI_LN_SSH_inf_Born_En1000_link_den(1,1)_dist(8,100).pickle','rb') as f:\n",
    "    [dist_list,eta_inf_Born_link_Ap_list,MI_inf_Born_link_Ap_list,LN_inf_Born_link_Ap_list]=pickle.load(f)"
   ],
   "outputs": [],
   "metadata": {}
  },
  {
   "cell_type": "code",
   "execution_count": null,
   "source": [
    "eta_inf_Born_link_Ap_list=[]\n",
    "MI_inf_Born_link_Ap_list=[]\n",
    "LN_inf_Born_link_Ap_list=[]\n",
    "es=1000\n",
    "L=np.inf\n",
    "dist_list=range(8,100)\n",
    "params_init=Params(delta=0,L=L,bc=-1,dmax=dist_list[-1]+32)\n",
    "for d in dist_list:\n",
    "    MI_ensemble_list=[]\n",
    "    LN_ensemble_list=[]\n",
    "    x=np.array([0,16,16+d,32+d])*4\n",
    "    subregionA=np.arange(x[0],x[1])\n",
    "    subregionB=np.arange(x[2],x[3])\n",
    "    subregionAp=np.arange(x[1],x[2],4)\n",
    "    eta=cross_ratio(x,4*L)\n",
    "    for _ in range(es):\n",
    "        params=copy(params_init)\n",
    "        params.measure_all_Born(subregionAp,type='link')\n",
    "        MI_ensemble_list.append(params.mutual_information_m(subregionA,subregionB))\n",
    "        LN_ensemble_list.append(params.log_neg(subregionA,subregionB))\n",
    "\n",
    "    eta_inf_Born_link_Ap_list.append(eta)\n",
    "    MI_inf_Born_link_Ap_list.append(MI_ensemble_list)\n",
    "    LN_inf_Born_link_Ap_list.append(LN_ensemble_list)\n",
    "eta_inf_Born_link_Ap_list=np.array(eta_inf_Born_link_Ap_list)\n",
    "MI_inf_Born_link_Ap_list=np.array(MI_inf_Born_link_Ap_list)\n",
    "LN_inf_Born_link_Ap_list=np.array(LN_inf_Born_link_Ap_list)"
   ],
   "outputs": [],
   "metadata": {}
  },
  {
   "cell_type": "code",
   "execution_count": null,
   "source": [
    "den=(49,50)\n",
    "with open('/mnt/d/kitp/Rp_SPT/7/MI_LN_SSH_inf_Born_En1000_link_prob({},{})_dist(8,100).pickle'.format(den[0],den[1]),'rb') as f:\n",
    "    [dist_list,eta_inf_Born_link_Ap_list,MI_inf_Born_link_Ap_list,LN_inf_Born_link_Ap_list]=pickle.load(f)\n",
    "\n",
    "L=np.inf\n",
    "MI_inf_Born_link_Ap_list_mean=MI_inf_Born_link_Ap_list.mean(axis=1)\n",
    "LN_inf_Born_link_Ap_list_mean=LN_inf_Born_link_Ap_list.mean(axis=1)\n",
    "fig,ax=plt.subplots()\n",
    "ax.scatter(eta_inf_Born_link_Ap_list,MI_inf_Born_link_Ap_list_mean,s=1,color='b',label='L={}, MI'.format(L))\n",
    "ax.scatter(eta_inf_Born_link_Ap_list,LN_inf_Born_link_Ap_list_mean,s=1,color='r',label='L={}, LN'.format(L))\n",
    "\n",
    "ax.set_xscale('log')\n",
    "ax.set_yscale('log')\n",
    "ax.set_xlim([np.min(eta_inf_Born_link_Ap_list),np.max(eta_inf_Born_link_Ap_list)])\n",
    "# ax.set_ylim([1e-10,1])\n",
    "\n",
    "mask_MI=(MI_inf_Born_link_Ap_list_mean>1e-10)&((eta_inf_Born_link_Ap_list)<1)\n",
    "lr_MI=scipy.stats.linregress(np.log(eta_inf_Born_link_Ap_list[mask_MI]),np.log(MI_inf_Born_link_Ap_list_mean[mask_MI]))\n",
    "x_int=np.linspace(np.min(eta_inf_Born_link_Ap_list),np.max(eta_inf_Born_link_Ap_list),10)\n",
    "y_int=np.exp(lr_MI.slope*np.log(x_int)+lr_MI.intercept)\n",
    "ax.plot(x_int,y_int,'c',label=r'MI$\\propto\\eta^{{{:.2f}}}$'.format(lr_MI.slope))\n",
    "\n",
    "mask_LN=(LN_inf_Born_link_Ap_list_mean>1e-10)&((eta_inf_Born_link_Ap_list)<1)\n",
    "lr_LN=scipy.stats.linregress(np.log(eta_inf_Born_link_Ap_list[mask_LN]),np.log(LN_inf_Born_link_Ap_list_mean[mask_LN]))\n",
    "x_int=np.linspace(np.min(eta_inf_Born_link_Ap_list),np.max(eta_inf_Born_link_Ap_list),10)\n",
    "y_int=np.exp(lr_LN.slope*np.log(x_int)+lr_LN.intercept)\n",
    "ax.plot(x_int,y_int,label=r'LN$\\propto\\eta^{{{:.2f}}}$'.format(lr_LN.slope),color='orange')\n",
    "ax.set_xlabel(r'$\\eta$')\n",
    "ax.legend()\n",
    "place_region_wire(140,220,fig,ax,color='yby')\n",
    "# fig.savefig('/mnt/d/kitp/Rp_SPT/7/MI_LN_inf_Born_link_Ap_den({},{}).pdf'.format(den[0],den[1]))\n"
   ],
   "outputs": [],
   "metadata": {}
  },
  {
   "cell_type": "code",
   "execution_count": null,
   "source": [
    "MI_inf_Born_link_Ap_list_mean=MI_inf_Born_link_Ap_list.mean(axis=1)\n",
    "LN_inf_Born_link_Ap_list_mean=LN_inf_Born_link_Ap_list.mean(axis=1)\n",
    "L=np.inf\n",
    "MI_inf_Born_link_Ap_list_mean_even=MI_inf_Born_link_Ap_list_mean[np.array(dist_list)%2==0]\n",
    "LN_inf_Born_link_Ap_list_mean_even=LN_inf_Born_link_Ap_list_mean[np.array(dist_list)%2==0]\n",
    "eta_inf_Born_link_Ap_list_even=eta_inf_Born_link_Ap_list[np.array(dist_list)%2==0]\n",
    "fig,ax=plt.subplots()\n",
    "ax.scatter(eta_inf_Born_link_Ap_list_even,MI_inf_Born_link_Ap_list_mean_even,s=1,color='b',label='L={}, MI'.format(L))\n",
    "ax.scatter(eta_inf_Born_link_Ap_list_even,LN_inf_Born_link_Ap_list_mean_even,s=1,color='r',label='L={}, LN'.format(L))\n",
    "\n",
    "ax.set_xscale('log')\n",
    "ax.set_yscale('log')\n",
    "ax.set_xlim([np.min(eta_inf_Born_link_Ap_list_even),np.max(eta_inf_Born_link_Ap_list_even)])\n",
    "# ax.set_ylim([1e-10,1])\n",
    "\n",
    "mask_MI=(MI_inf_Born_link_Ap_list_mean_even>1e-10)&((eta_inf_Born_link_Ap_list_even)<1.0)\n",
    "lr_MI=scipy.stats.linregress(np.log(eta_inf_Born_link_Ap_list_even[mask_MI]),np.log(MI_inf_Born_link_Ap_list_mean_even[mask_MI]))\n",
    "x_int=np.linspace(np.min(eta_inf_Born_link_Ap_list_even),np.max(eta_inf_Born_link_Ap_list_even),10)\n",
    "y_int=np.exp(lr_MI.slope*np.log(x_int)+lr_MI.intercept)\n",
    "ax.plot(x_int,y_int,'c',label=r'MI$\\propto\\eta^{{{:.2f}}}$'.format(lr_MI.slope))\n",
    "\n",
    "mask_LN=(LN_inf_Born_link_Ap_list_mean_even>1e-10)&((eta_inf_Born_link_Ap_list_even)<1.0)\n",
    "lr_LN=scipy.stats.linregress(np.log(eta_inf_Born_link_Ap_list_even[mask_LN]),np.log(LN_inf_Born_link_Ap_list_mean_even[mask_LN]))\n",
    "x_int=np.linspace(np.min(eta_inf_Born_link_Ap_list_even),np.max(eta_inf_Born_link_Ap_list_even),10)\n",
    "y_int=np.exp(lr_LN.slope*np.log(x_int)+lr_LN.intercept)\n",
    "ax.plot(x_int,y_int,label=r'LN$\\propto\\eta^{{{:.2f}}}$'.format(lr_LN.slope),color='orange')\n",
    "ax.set_xlabel(r'$\\eta$')\n",
    "ax.legend()\n",
    "\n",
    "place_region_wire(140,220,fig,ax,color='yry')\n",
    "fig.savefig('/mnt/d/kitp/Rp_SPT/7/MI_LN_inf_Born_link_Ap_even_den({},{}).pdf'.format(den[0],den[1]))\n"
   ],
   "outputs": [],
   "metadata": {}
  },
  {
   "cell_type": "code",
   "execution_count": null,
   "source": [
    "MI_inf_Born_link_Ap_list_mean=MI_inf_Born_link_Ap_list.mean(axis=1)\n",
    "LN_inf_Born_link_Ap_list_mean=LN_inf_Born_link_Ap_list.mean(axis=1)\n",
    "\n",
    "MI_inf_Born_link_Ap_list_mean_odd=MI_inf_Born_link_Ap_list_mean[np.array(dist_list)%2==1]\n",
    "LN_inf_Born_link_Ap_list_mean_odd=LN_inf_Born_link_Ap_list_mean[np.array(dist_list)%2==1]\n",
    "eta_inf_Born_link_Ap_list_odd=eta_inf_Born_link_Ap_list[np.array(dist_list)%2==0]\n",
    "fig,ax=plt.subplots()\n",
    "ax.scatter(eta_inf_Born_link_Ap_list_odd,MI_inf_Born_link_Ap_list_mean_odd,s=1,color='b',label='L={}, MI'.format(L))\n",
    "ax.scatter(eta_inf_Born_link_Ap_list_odd,LN_inf_Born_link_Ap_list_mean_odd,s=1,color='r',label='L={}, LN'.format(L))\n",
    "\n",
    "ax.set_xscale('log')\n",
    "ax.set_yscale('log')\n",
    "ax.set_xlim([np.min(eta_inf_Born_link_Ap_list_odd),np.max(eta_inf_Born_link_Ap_list_odd)])\n",
    "# ax.set_ylim([1e-10,1])\n",
    "\n",
    "mask_MI=(MI_inf_Born_link_Ap_list_mean_odd>1e-10)&((eta_inf_Born_link_Ap_list_odd)<1)\n",
    "lr_MI=scipy.stats.linregress(np.log(eta_inf_Born_link_Ap_list_odd[mask_MI]),np.log(MI_inf_Born_link_Ap_list_mean_odd[mask_MI]))\n",
    "x_int=np.linspace(np.min(eta_inf_Born_link_Ap_list_odd),np.max(eta_inf_Born_link_Ap_list_odd),10)\n",
    "y_int=np.exp(lr_MI.slope*np.log(x_int)+lr_MI.intercept)\n",
    "ax.plot(x_int,y_int,'c',label=r'MI$\\propto\\eta^{{{:.2f}}}$'.format(lr_MI.slope))\n",
    "\n",
    "mask_LN=(LN_inf_Born_link_Ap_list_mean_odd>1e-10)&((eta_inf_Born_link_Ap_list_odd)<1)\n",
    "lr_LN=scipy.stats.linregress(np.log(eta_inf_Born_link_Ap_list_odd[mask_LN]),np.log(LN_inf_Born_link_Ap_list_mean_odd[mask_LN]))\n",
    "x_int=np.linspace(np.min(eta_inf_Born_link_Ap_list_odd),np.max(eta_inf_Born_link_Ap_list_odd),10)\n",
    "y_int=np.exp(lr_LN.slope*np.log(x_int)+lr_LN.intercept)\n",
    "ax.plot(x_int,y_int,label=r'LN$\\propto\\eta^{{{:.2f}}}$'.format(lr_LN.slope),color='orange')\n",
    "ax.set_xlabel(r'$\\eta$')\n",
    "ax.legend()\n",
    "\n",
    "place_region_wire(140,220,fig,ax,color='yry')\n",
    "fig.savefig('/mnt/d/kitp/Rp_SPT/7/MI_LN_inf_Born_link_Ap_odd_den({},{}).pdf'.format(den[0],den[1]))"
   ],
   "outputs": [],
   "metadata": {}
  },
  {
   "cell_type": "code",
   "execution_count": null,
   "source": [
    "# 100c, 500es, 40-500, 39,40, link\n",
    "78.8*np.sum(np.arange(40,500,40)/40)"
   ],
   "outputs": [],
   "metadata": {}
  },
  {
   "cell_type": "code",
   "execution_count": null,
   "source": [
    "np.random.rand(10)"
   ],
   "outputs": [],
   "metadata": {}
  },
  {
   "cell_type": "markdown",
   "source": [
    "## Dep of operator density"
   ],
   "metadata": {}
  },
  {
   "cell_type": "markdown",
   "source": [
    "### onsite"
   ],
   "metadata": {}
  },
  {
   "cell_type": "code",
   "execution_count": null,
   "source": [
    "import os,re"
   ],
   "outputs": [],
   "metadata": {}
  },
  {
   "cell_type": "code",
   "execution_count": null,
   "source": [
    "dist_den_list={}\n",
    "eta_inf_Born_onsite_Ap_den_list={}\n",
    "MI_inf_Born_onsite_Ap_den_list={}\n",
    "LN_inf_Born_onsite_Ap_den_list={}\n",
    "for den in range(1,200):\n",
    "    with open('/mnt/d/kitp/Rp_SPT/7/Data_onsite_prob/MI_LN_SSH_inf_Born_En500_onsite_prob({},{})_dist(8,100).pickle'.format(den,den+1),'rb') as f:\n",
    "        [dist_den_list[den],eta_inf_Born_onsite_Ap_den_list[den],MI_inf_Born_onsite_Ap_den_list[den],LN_inf_Born_onsite_Ap_den_list[den]]=pickle.load(f)"
   ],
   "outputs": [],
   "metadata": {}
  },
  {
   "cell_type": "markdown",
   "source": [
    "#### size of A 16"
   ],
   "metadata": {}
  },
  {
   "cell_type": "code",
   "execution_count": null,
   "source": [
    "pwd_16='/mnt/d/KITP/Rp_SPT/7/Data_onsite_prob/16'\n",
    "fn_onsite_16=[i for i in os.listdir(pwd_16) if '.pickle' in i]"
   ],
   "outputs": [],
   "metadata": {}
  },
  {
   "cell_type": "code",
   "execution_count": null,
   "source": [
    "pwd_16='/mnt/d/KITP/Rp_SPT/7/Data_onsite_prob/16'\n",
    "fn_onsite_16=[i for i in os.listdir(pwd_16) if '.pickle' in i]\n",
    "prob_onsite_16_list=[]\n",
    "dist_den_onsite_16_list={}\n",
    "eta_inf_Born_onsite_Ap_den_16_list={}\n",
    "MI_inf_Born_onsite_Ap_den_16_list={}\n",
    "LN_inf_Born_onsite_Ap_den_16_list={}\n",
    "for fn in fn_onsite_16:\n",
    "    den=tuple([int(i) for i in (re.search(r'(?<=prob\\()(\\d)+\\,(\\d)+(?=\\))',fn).group(0)).split(',')])\n",
    "    prob_onsite_16_list.append(den)\n",
    "    with open(os.path.join(pwd_16,fn),'rb') as f:\n",
    "        [dist_den_onsite_16_list[den],eta_inf_Born_onsite_Ap_den_16_list[den],MI_inf_Born_onsite_Ap_den_16_list[den],LN_inf_Born_onsite_Ap_den_16_list[den]]=pickle.load(f)"
   ],
   "outputs": [],
   "metadata": {}
  },
  {
   "cell_type": "code",
   "execution_count": null,
   "source": [
    "# %%capture\n",
    "lr_MI_onsite_16_list=[]\n",
    "lr_LN_onsite_16_list=[]\n",
    "for prob in prob_onsite_16_list:\n",
    "    L=np.inf\n",
    "    MI_inf_Born_onsite_Ap_den_16_list_mean=MI_inf_Born_onsite_Ap_den_16_list[prob].mean(axis=1)\n",
    "    LN_inf_Born_onsite_Ap_den_16_list_mean=LN_inf_Born_onsite_Ap_den_16_list[prob].mean(axis=1)\n",
    "    # fig,ax=plt.subplots()\n",
    "    # ax.scatter(eta_inf_Born_onsite_Ap_den_16_list[prob],MI_inf_Born_onsite_Ap_den_16_list_mean,s=1,color='b',label='L={}, MI'.format(L))\n",
    "    # ax.scatter(eta_inf_Born_onsite_Ap_den_16_list[prob],LN_inf_Born_onsite_Ap_den_16_list_mean,s=1,color='r',label='L={}, LN'.format(L))\n",
    "\n",
    "    # ax.set_xscale('log')\n",
    "    # ax.set_yscale('log')\n",
    "    # ax.set_xlim([np.min(eta_inf_Born_onsite_Ap_den_16_list[prob]),np.max(eta_inf_Born_onsite_Ap_den_16_list[prob])])\n",
    "    # ax.set_ylim([1e-10,1])\n",
    "\n",
    "    mask_MI=(MI_inf_Born_onsite_Ap_den_16_list_mean>1e-10)&((eta_inf_Born_onsite_Ap_den_16_list[prob])<0.1)\n",
    "    lr_MI_onsite=scipy.stats.linregress(np.log(eta_inf_Born_onsite_Ap_den_16_list[prob][mask_MI]),np.log(MI_inf_Born_onsite_Ap_den_16_list_mean[mask_MI]))\n",
    "    lr_MI_onsite_16_list.append(lr_MI_onsite)\n",
    "    # x_int=np.linspace(np.min(eta_inf_Born_onsite_Ap_den_16_list[prob]),np.max(eta_inf_Born_onsite_Ap_den_16_list[prob]),10)\n",
    "    # y_int=np.exp(lr_MI_onsite.slope*np.log(x_int)+lr_MI_onsite.intercept)\n",
    "    # ax.plot(x_int,y_int,'c',label=r'MI$\\propto\\eta^{{{:.2f}}}$'.format(lr_MI_onsite.slope))\n",
    "\n",
    "    mask_LN=(LN_inf_Born_onsite_Ap_den_16_list_mean>1e-10)&((eta_inf_Born_onsite_Ap_den_16_list[prob])<0.1)\n",
    "    lr_LN_onsite=scipy.stats.linregress(np.log(eta_inf_Born_onsite_Ap_den_16_list[prob][mask_LN]),np.log(LN_inf_Born_onsite_Ap_den_16_list_mean[mask_LN]))\n",
    "    lr_LN_onsite_16_list.append(lr_LN_onsite)\n",
    "    # x_int=np.linspace(np.min(eta_inf_Born_onsite_Ap_den_16_list[prob]),np.max(eta_inf_Born_onsite_Ap_den_16_list[prob]),10)\n",
    "    # y_int=np.exp(lr_LN_onsite.slope*np.log(x_int)+lr_LN_onsite.intercept)\n",
    "    # ax.plot(x_int,y_int,label=r'LN$\\propto\\eta^{{{:.2f}}}$'.format(lr_LN_onsite.slope),color='orange')\n",
    "    # ax.set_xlabel(r'$\\eta$')\n",
    "    # ax.legend()\n",
    "    # place_region_wire(140,220,fig,ax,color='yby')\n",
    "    # fig.savefig('/mnt/d/kitp/Rp_SPT/7/Data_onsite_prob/16/MI_LN_inf_Born_onsite_Ap_prob({},{}).pdf'.format(prob[0],prob[1]))"
   ],
   "outputs": [],
   "metadata": {}
  },
  {
   "cell_type": "code",
   "execution_count": null,
   "source": [
    "# prob_16_list=np.arange(1,200)/(np.arange(1,200)+1)\n",
    "onsite_LN_exp_16=np.array([x.slope for x in lr_LN_onsite_16_list])\n",
    "onsite_MI_exp_16=np.array([x.slope for x in lr_MI_onsite_16_list])"
   ],
   "outputs": [],
   "metadata": {}
  },
  {
   "cell_type": "markdown",
   "source": [
    "#### size of A 32"
   ],
   "metadata": {}
  },
  {
   "cell_type": "code",
   "execution_count": null,
   "source": [
    "pwd_32='/mnt/d/KITP/Rp_SPT/7/Data_onsite_prob/32'\n",
    "fn_onsite_32=[i for i in os.listdir(pwd_32) if '.pickle' in i]"
   ],
   "outputs": [],
   "metadata": {}
  },
  {
   "cell_type": "code",
   "execution_count": null,
   "source": [
    "pwd_32='/mnt/d/KITP/Rp_SPT/7/Data_onsite_prob/32'\n",
    "fn_onsite_32=[i for i in os.listdir(pwd_32) if 'dist(8,200)_size32.pickle' in i]\n",
    "prob_onsite_32_list=[]\n",
    "dist_den_onsite_32_list={}\n",
    "eta_inf_Born_onsite_Ap_den_32_list={}\n",
    "MI_inf_Born_onsite_Ap_den_32_list={}\n",
    "LN_inf_Born_onsite_Ap_den_32_list={}\n",
    "for fn in fn_onsite_32:\n",
    "    den=tuple([int(i) for i in (re.search(r'(?<=prob\\()(\\d)+\\,(\\d)+(?=\\))',fn).group(0)).split(',')])\n",
    "    prob_onsite_32_list.append(den)\n",
    "    with open(os.path.join(pwd_32,fn),'rb') as f:\n",
    "        [dist_den_onsite_32_list[den],eta_inf_Born_onsite_Ap_den_32_list[den],MI_inf_Born_onsite_Ap_den_32_list[den],LN_inf_Born_onsite_Ap_den_32_list[den]]=pickle.load(f)"
   ],
   "outputs": [],
   "metadata": {}
  },
  {
   "cell_type": "code",
   "execution_count": null,
   "source": [
    "%%capture\n",
    "lr_MI_onsite_32_list=[]\n",
    "lr_LN_onsite_32_list=[]\n",
    "for prob in prob_onsite_32_list:\n",
    "    L=np.inf\n",
    "    MI_inf_Born_onsite_Ap_den_32_list_mean=MI_inf_Born_onsite_Ap_den_32_list[prob].mean(axis=1)\n",
    "    LN_inf_Born_onsite_Ap_den_32_list_mean=LN_inf_Born_onsite_Ap_den_32_list[prob].mean(axis=1)\n",
    "    fig,ax=plt.subplots()\n",
    "    ax.scatter(eta_inf_Born_onsite_Ap_den_32_list[prob],MI_inf_Born_onsite_Ap_den_32_list_mean,s=1,color='b',label='L={}, MI'.format(L))\n",
    "    ax.scatter(eta_inf_Born_onsite_Ap_den_32_list[prob],LN_inf_Born_onsite_Ap_den_32_list_mean,s=1,color='r',label='L={}, LN'.format(L))\n",
    "\n",
    "    ax.set_xscale('log')\n",
    "    ax.set_yscale('log')\n",
    "    ax.set_xlim([np.min(eta_inf_Born_onsite_Ap_den_32_list[prob]),np.max(eta_inf_Born_onsite_Ap_den_32_list[prob])])\n",
    "    # ax.set_ylim([1e-10,1])\n",
    "\n",
    "    mask_MI=(MI_inf_Born_onsite_Ap_den_32_list_mean>1e-10)&((eta_inf_Born_onsite_Ap_den_32_list[prob])<0.4)\n",
    "    lr_MI_onsite=scipy.stats.linregress(np.log(eta_inf_Born_onsite_Ap_den_32_list[prob][mask_MI]),np.log(MI_inf_Born_onsite_Ap_den_32_list_mean[mask_MI]))\n",
    "    lr_MI_onsite_32_list.append(lr_MI_onsite)\n",
    "    x_int=np.linspace(np.min(eta_inf_Born_onsite_Ap_den_32_list[prob]),np.max(eta_inf_Born_onsite_Ap_den_32_list[prob]),10)\n",
    "    y_int=np.exp(lr_MI_onsite.slope*np.log(x_int)+lr_MI_onsite.intercept)\n",
    "    ax.plot(x_int,y_int,'c',label=r'MI$\\propto\\eta^{{{:.2f}}}$'.format(lr_MI_onsite.slope))\n",
    "\n",
    "    mask_LN=(LN_inf_Born_onsite_Ap_den_32_list_mean>1e-10)&((eta_inf_Born_onsite_Ap_den_32_list[prob])<0.4)\n",
    "    lr_LN_onsite=scipy.stats.linregress(np.log(eta_inf_Born_onsite_Ap_den_32_list[prob][mask_LN]),np.log(LN_inf_Born_onsite_Ap_den_32_list_mean[mask_LN]))\n",
    "    lr_LN_onsite_32_list.append(lr_LN_onsite)\n",
    "    x_int=np.linspace(np.min(eta_inf_Born_onsite_Ap_den_32_list[prob]),np.max(eta_inf_Born_onsite_Ap_den_32_list[prob]),10)\n",
    "    y_int=np.exp(lr_LN_onsite.slope*np.log(x_int)+lr_LN_onsite.intercept)\n",
    "    ax.plot(x_int,y_int,label=r'LN$\\propto\\eta^{{{:.2f}}}$'.format(lr_LN_onsite.slope),color='orange')\n",
    "    ax.set_xlabel(r'$\\eta$')\n",
    "    ax.legend()\n",
    "    place_region_wire(140,220,fig,ax,color='yby')\n",
    "    fig.savefig('/mnt/d/kitp/Rp_SPT/7/Data_onsite_prob/32/MI_LN_inf_Born_onsite_Ap_prob({},{}).pdf'.format(prob[0],prob[1]))"
   ],
   "outputs": [],
   "metadata": {}
  },
  {
   "cell_type": "code",
   "execution_count": null,
   "source": [
    "# prob_32_list=np.arange(1,200)/(np.arange(1,200)+1)\n",
    "onsite_LN_exp_32=np.array([x.slope for x in lr_LN_onsite_32_list])\n",
    "onsite_MI_exp_32=np.array([x.slope for x in lr_MI_onsite_32_list])"
   ],
   "outputs": [],
   "metadata": {}
  },
  {
   "cell_type": "code",
   "execution_count": null,
   "source": [
    "fig,ax=plt.subplots()\n",
    "rate_onsite_16=[x[0]/x[1] for x in prob_onsite_16_list]\n",
    "sortindex=(np.argsort(rate_onsite_16))\n",
    "ax.plot(np.array(rate_onsite_16)[sortindex],onsite_MI_exp_16[sortindex],'-',label='MI (16)')\n",
    "ax.plot(np.array(rate_onsite_16)[sortindex],onsite_LN_exp_16[sortindex],'-',label='LN (16)')\n",
    "\n",
    "rate_onsite_32=[x[0]/x[1] for x in prob_onsite_32_list]\n",
    "sortindex=(np.argsort(rate_onsite_32))\n",
    "ax.plot(np.array(rate_onsite_32)[sortindex],onsite_MI_exp_32[sortindex],'-',label='MI (32)')\n",
    "ax.plot(np.array(rate_onsite_32)[sortindex],onsite_LN_exp_32[sortindex],'-',label='LN (32)')\n",
    "\n",
    "ax.legend()\n",
    "ax.set_xlabel('Measurement rate')\n",
    "ax.set_ylabel('exponent')\n",
    "ax.grid('on')\n",
    "fig.savefig('/mnt/d/kitp/Rp_SPT/7/Expo_Onsite.pdf',bbox_inches='tight')"
   ],
   "outputs": [],
   "metadata": {}
  },
  {
   "cell_type": "markdown",
   "source": [
    "### link"
   ],
   "metadata": {}
  },
  {
   "cell_type": "markdown",
   "source": [
    "#### size of A 16"
   ],
   "metadata": {}
  },
  {
   "cell_type": "code",
   "execution_count": null,
   "source": [
    "pwd_16='/mnt/d/KITP/Rp_SPT/7/Data_link_prob/16'\n",
    "fn_link_16=[i for i in os.listdir(pwd_16) if '.pickle' in i]"
   ],
   "outputs": [],
   "metadata": {}
  },
  {
   "cell_type": "code",
   "execution_count": null,
   "source": [
    "pwd_16='/mnt/d/KITP/Rp_SPT/7/Data_link_prob/16'\n",
    "fn_link_16=[i for i in os.listdir(pwd_16) if '.pickle' in i]\n",
    "prob_link_16_list=[]\n",
    "dist_den_link_16_list={}\n",
    "eta_inf_Born_link_Ap_den_16_list={}\n",
    "MI_inf_Born_link_Ap_den_16_list={}\n",
    "LN_inf_Born_link_Ap_den_16_list={}\n",
    "for fn in fn_link_16:\n",
    "    den=tuple([int(i) for i in (re.search(r'(?<=prob\\()(\\d)+\\,(\\d)+(?=\\))',fn).group(0)).split(',')])\n",
    "    prob_link_16_list.append(den)\n",
    "    with open(os.path.join(pwd_16,fn),'rb') as f:\n",
    "        [dist_den_link_16_list[den],eta_inf_Born_link_Ap_den_16_list[den],MI_inf_Born_link_Ap_den_16_list[den],LN_inf_Born_link_Ap_den_16_list[den]]=pickle.load(f)"
   ],
   "outputs": [],
   "metadata": {}
  },
  {
   "cell_type": "code",
   "execution_count": null,
   "source": [
    "%%capture\n",
    "lr_MI_link_16_list=[]\n",
    "lr_LN_link_16_list=[]\n",
    "for prob in prob_link_16_list:\n",
    "    L=np.inf\n",
    "    MI_inf_Born_link_Ap_den_16_list_mean=MI_inf_Born_link_Ap_den_16_list[prob].mean(axis=1)\n",
    "    LN_inf_Born_link_Ap_den_16_list_mean=LN_inf_Born_link_Ap_den_16_list[prob].mean(axis=1)\n",
    "    # fig,ax=plt.subplots()\n",
    "    # ax.scatter(eta_inf_Born_link_Ap_den_16_list[prob],MI_inf_Born_link_Ap_den_16_list_mean,s=1,color='b',label='L={}, MI'.format(L))\n",
    "    # ax.scatter(eta_inf_Born_link_Ap_den_16_list[prob],LN_inf_Born_link_Ap_den_16_list_mean,s=1,color='r',label='L={}, LN'.format(L))\n",
    "\n",
    "    # ax.set_xscale('log')\n",
    "    # ax.set_yscale('log')\n",
    "    # ax.set_xlim([np.min(eta_inf_Born_link_Ap_den_16_list[prob]),np.max(eta_inf_Born_link_Ap_den_16_list[prob])])\n",
    "    # ax.set_ylim([1e-10,1])\n",
    "\n",
    "    mask_MI=(MI_inf_Born_link_Ap_den_16_list_mean>1e-10)&((eta_inf_Born_link_Ap_den_16_list[prob])<0.1)\n",
    "    lr_MI_link=scipy.stats.linregress(np.log(eta_inf_Born_link_Ap_den_16_list[prob][mask_MI]),np.log(MI_inf_Born_link_Ap_den_16_list_mean[mask_MI]))\n",
    "    lr_MI_link_16_list.append(lr_MI_link)\n",
    "    # x_int=np.linspace(np.min(eta_inf_Born_link_Ap_den_16_list[prob]),np.max(eta_inf_Born_link_Ap_den_16_list[prob]),10)\n",
    "    # y_int=np.exp(lr_MI_link.slope*np.log(x_int)+lr_MI_link.intercept)\n",
    "    # ax.plot(x_int,y_int,'c',label=r'MI$\\propto\\eta^{{{:.2f}}}$'.format(lr_MI_link.slope))\n",
    "\n",
    "    mask_LN=(LN_inf_Born_link_Ap_den_16_list_mean>1e-10)&((eta_inf_Born_link_Ap_den_16_list[prob])<0.1)\n",
    "    lr_LN_link=scipy.stats.linregress(np.log(eta_inf_Born_link_Ap_den_16_list[prob][mask_LN]),np.log(LN_inf_Born_link_Ap_den_16_list_mean[mask_LN]))\n",
    "    lr_LN_link_16_list.append(lr_LN_link)\n",
    "    # x_int=np.linspace(np.min(eta_inf_Born_link_Ap_den_16_list[prob]),np.max(eta_inf_Born_link_Ap_den_16_list[prob]),10)\n",
    "    # y_int=np.exp(lr_LN_link.slope*np.log(x_int)+lr_LN_link.intercept)\n",
    "    # ax.plot(x_int,y_int,label=r'LN$\\propto\\eta^{{{:.2f}}}$'.format(lr_LN_link.slope),color='orange')\n",
    "    # ax.set_xlabel(r'$\\eta$')\n",
    "    # ax.legend()\n",
    "    # place_region_wire(140,220,fig,ax,color='yby')\n",
    "    # fig.savefig('/mnt/d/kitp/Rp_SPT/7/Data_link_prob/16/MI_LN_inf_Born_link_Ap_prob({},{}).pdf'.format(prob[0],prob[1]))"
   ],
   "outputs": [],
   "metadata": {}
  },
  {
   "cell_type": "code",
   "execution_count": null,
   "source": [
    "# prob_16_list=np.arange(1,200)/(np.arange(1,200)+1)\n",
    "link_LN_exp_16=np.array([x.slope for x in lr_LN_link_16_list])\n",
    "link_MI_exp_16=np.array([x.slope for x in lr_MI_link_16_list])"
   ],
   "outputs": [],
   "metadata": {}
  },
  {
   "cell_type": "markdown",
   "source": [
    "#### size of A 32"
   ],
   "metadata": {}
  },
  {
   "cell_type": "code",
   "execution_count": null,
   "source": [
    "pwd_32='/mnt/d/KITP/Rp_SPT/7/Data_link_prob/32'\n",
    "fn_link_32=[i for i in os.listdir(pwd_32) if '.pickle' in i]"
   ],
   "outputs": [],
   "metadata": {}
  },
  {
   "cell_type": "code",
   "execution_count": null,
   "source": [
    "pwd_32='/mnt/d/KITP/Rp_SPT/7/Data_link_prob/32'\n",
    "fn_link_32=[i for i in os.listdir(pwd_32) if '(8,200)_size32.pickle' in i]\n",
    "prob_link_32_list=[]\n",
    "dist_den_link_32_list={}\n",
    "eta_inf_Born_link_Ap_den_32_list={}\n",
    "MI_inf_Born_link_Ap_den_32_list={}\n",
    "LN_inf_Born_link_Ap_den_32_list={}\n",
    "for fn in fn_link_32:\n",
    "    den=tuple([int(i) for i in (re.search(r'(?<=prob\\()(\\d)+\\,(\\d)+(?=\\))',fn).group(0)).split(',')])\n",
    "    prob_link_32_list.append(den)\n",
    "    with open(os.path.join(pwd_32,fn),'rb') as f:\n",
    "        [dist_den_link_32_list[den],eta_inf_Born_link_Ap_den_32_list[den],MI_inf_Born_link_Ap_den_32_list[den],LN_inf_Born_link_Ap_den_32_list[den]]=pickle.load(f)"
   ],
   "outputs": [],
   "metadata": {}
  },
  {
   "cell_type": "code",
   "execution_count": null,
   "source": [
    "%%capture\n",
    "lr_MI_link_32_list=[]\n",
    "lr_LN_link_32_list=[]\n",
    "for prob in prob_link_32_list:\n",
    "    L=np.inf\n",
    "    MI_inf_Born_link_Ap_den_32_list_mean=MI_inf_Born_link_Ap_den_32_list[prob].mean(axis=1)\n",
    "    LN_inf_Born_link_Ap_den_32_list_mean=LN_inf_Born_link_Ap_den_32_list[prob].mean(axis=1)\n",
    "    fig,ax=plt.subplots()\n",
    "    ax.scatter(eta_inf_Born_link_Ap_den_32_list[prob],MI_inf_Born_link_Ap_den_32_list_mean,s=1,color='b',label='L={}, MI'.format(L))\n",
    "    ax.scatter(eta_inf_Born_link_Ap_den_32_list[prob],LN_inf_Born_link_Ap_den_32_list_mean,s=1,color='r',label='L={}, LN'.format(L))\n",
    "\n",
    "    ax.set_xscale('log')\n",
    "    ax.set_yscale('log')\n",
    "    ax.set_xlim([np.min(eta_inf_Born_link_Ap_den_32_list[prob]),np.max(eta_inf_Born_link_Ap_den_32_list[prob])])\n",
    "    # ax.set_ylim([1e-10,1])\n",
    "\n",
    "    mask_MI=(MI_inf_Born_link_Ap_den_32_list_mean>1e-10)&((eta_inf_Born_link_Ap_den_32_list[prob])<0.4)\n",
    "    lr_MI_link=scipy.stats.linregress(np.log(eta_inf_Born_link_Ap_den_32_list[prob][mask_MI]),np.log(MI_inf_Born_link_Ap_den_32_list_mean[mask_MI]))\n",
    "    lr_MI_link_32_list.append(lr_MI_link)\n",
    "    x_int=np.linspace(np.min(eta_inf_Born_link_Ap_den_32_list[prob]),np.max(eta_inf_Born_link_Ap_den_32_list[prob]),10)\n",
    "    y_int=np.exp(lr_MI_link.slope*np.log(x_int)+lr_MI_link.intercept)\n",
    "    ax.plot(x_int,y_int,'c',label=r'MI$\\propto\\eta^{{{:.2f}}}$'.format(lr_MI_link.slope))\n",
    "\n",
    "    mask_LN=(LN_inf_Born_link_Ap_den_32_list_mean>1e-10)&((eta_inf_Born_link_Ap_den_32_list[prob])<0.4)\n",
    "    lr_LN_link=scipy.stats.linregress(np.log(eta_inf_Born_link_Ap_den_32_list[prob][mask_LN]),np.log(LN_inf_Born_link_Ap_den_32_list_mean[mask_LN]))\n",
    "    lr_LN_link_32_list.append(lr_LN_link)\n",
    "    x_int=np.linspace(np.min(eta_inf_Born_link_Ap_den_32_list[prob]),np.max(eta_inf_Born_link_Ap_den_32_list[prob]),10)\n",
    "    y_int=np.exp(lr_LN_link.slope*np.log(x_int)+lr_LN_link.intercept)\n",
    "    ax.plot(x_int,y_int,label=r'LN$\\propto\\eta^{{{:.2f}}}$'.format(lr_LN_link.slope),color='orange')\n",
    "    ax.set_xlabel(r'$\\eta$')\n",
    "    ax.legend()\n",
    "    place_region_wire(140,220,fig,ax,color='yby')\n",
    "    fig.savefig('/mnt/d/kitp/Rp_SPT/7/Data_link_prob/32/MI_LN_inf_Born_link_Ap_prob({},{}).pdf'.format(prob[0],prob[1]))"
   ],
   "outputs": [],
   "metadata": {}
  },
  {
   "cell_type": "code",
   "execution_count": null,
   "source": [
    "# prob_32_list=np.arange(1,200)/(np.arange(1,200)+1)\n",
    "link_LN_exp_32=np.array([x.slope for x in lr_LN_link_32_list])\n",
    "link_MI_exp_32=np.array([x.slope for x in lr_MI_link_32_list])"
   ],
   "outputs": [],
   "metadata": {}
  },
  {
   "cell_type": "code",
   "execution_count": null,
   "source": [
    "fig,ax=plt.subplots()\n",
    "rate_link_16=[x[0]/x[1] for x in prob_link_16_list]\n",
    "sortindex=(np.argsort(rate_link_16))\n",
    "ax.plot(np.array(rate_link_16)[sortindex],link_MI_exp_16[sortindex],'-',label='MI (16)')\n",
    "ax.plot(np.array(rate_link_16)[sortindex],link_LN_exp_16[sortindex],'-',label='LN (16)')\n",
    "\n",
    "rate_link_32=[x[0]/x[1] for x in prob_link_32_list]\n",
    "sortindex=(np.argsort(rate_link_32))\n",
    "ax.plot(np.array(rate_link_32)[sortindex],link_MI_exp_32[sortindex],'-',label='MI (32)')\n",
    "ax.plot(np.array(rate_link_32)[sortindex],link_LN_exp_32[sortindex],'-',label='LN (32)')\n",
    "\n",
    "ax.legend()\n",
    "ax.set_xlabel('Measurement rate')\n",
    "ax.set_ylabel('exponent')\n",
    "ax.set_yticks(np.arange(.25,1.25,.25))\n",
    "ax.grid('on')\n",
    "fig.savefig('/mnt/d/kitp/Rp_SPT/7/Expo_Link.pdf',bbox_inches='tight')"
   ],
   "outputs": [],
   "metadata": {}
  },
  {
   "cell_type": "code",
   "execution_count": null,
   "source": [
    "dist_den_list={}\n",
    "eta_inf_Born_link_Ap_den_list={}\n",
    "MI_inf_Born_link_Ap_den_list={}\n",
    "LN_inf_Born_link_Ap_den_list={}\n",
    "for den in range(1,200):\n",
    "    with open('/mnt/d/kitp/Rp_SPT/7/Data_link_prob/MI_LN_SSH_inf_Born_En1000_link_prob({},{})_dist(8,100).pickle'.format(den,den+1),'rb') as f:\n",
    "        [dist_den_list[den],eta_inf_Born_link_Ap_den_list[den],MI_inf_Born_link_Ap_den_list[den],LN_inf_Born_link_Ap_den_list[den]]=pickle.load(f)"
   ],
   "outputs": [],
   "metadata": {}
  },
  {
   "cell_type": "code",
   "execution_count": null,
   "source": [
    "lr_MI_link_list=[]\n",
    "lr_LN_link_list=[]\n",
    "for den in range(1,200):\n",
    "    L=np.inf\n",
    "    MI_inf_Born_link_Ap_den_list_mean=MI_inf_Born_link_Ap_den_list[den].mean(axis=1)\n",
    "    LN_inf_Born_link_Ap_den_list_mean=LN_inf_Born_link_Ap_den_list[den].mean(axis=1)\n",
    "    fig,ax=plt.subplots()\n",
    "    ax.scatter(eta_inf_Born_link_Ap_den_list[den],MI_inf_Born_link_Ap_den_list_mean,s=1,color='b',label='L={}, MI'.format(L))\n",
    "    ax.scatter(eta_inf_Born_link_Ap_den_list[den],LN_inf_Born_link_Ap_den_list_mean,s=1,color='r',label='L={}, LN'.format(L))\n",
    "\n",
    "    ax.set_xscale('log')\n",
    "    ax.set_yscale('log')\n",
    "    ax.set_xlim([np.min(eta_inf_Born_link_Ap_den_list[den]),np.max(eta_inf_Born_link_Ap_den_list[den])])\n",
    "    # ax.set_ylim([1e-10,1])\n",
    "\n",
    "    mask_MI=(MI_inf_Born_link_Ap_den_list_mean>1e-10)&((eta_inf_Born_link_Ap_den_list[den])<0.1)\n",
    "    lr_MI_link=scipy.stats.linregress(np.log(eta_inf_Born_link_Ap_den_list[den][mask_MI]),np.log(MI_inf_Born_link_Ap_den_list_mean[mask_MI]))\n",
    "    lr_MI_list.append(lr_MI)\n",
    "    x_int=np.linspace(np.min(eta_inf_Born_link_Ap_den_list[den]),np.max(eta_inf_Born_link_Ap_den_list[den]),10)\n",
    "    y_int=np.exp(lr_MI.slope*np.log(x_int)+lr_MI.intercept)\n",
    "    ax.plot(x_int,y_int,'c',label=r'MI$\\propto\\eta^{{{:.2f}}}$'.format(lr_MI.slope))\n",
    "\n",
    "    mask_LN=(LN_inf_Born_link_Ap_den_list_mean>1e-10)&((eta_inf_Born_link_Ap_den_list[den])<0.1)\n",
    "    lr_LN_link=scipy.stats.linregress(np.log(eta_inf_Born_link_Ap_den_list[den][mask_LN]),np.log(LN_inf_Born_link_Ap_den_list_mean[mask_LN]))\n",
    "    lr_LN_link_list.append(lr_LN_link)\n",
    "    x_int=np.linspace(np.min(eta_inf_Born_link_Ap_den_list[den]),np.max(eta_inf_Born_link_Ap_den_list[den]),10)\n",
    "    y_int=np.exp(lr_LN_link.slope*np.log(x_int)+lr_LN_link.intercept)\n",
    "    ax.plot(x_int,y_int,label=r'LN$\\propto\\eta^{{{:.2f}}}$'.format(lr_LN_link.slope),color='orange')\n",
    "    ax.set_xlabel(r'$\\eta$')\n",
    "    ax.legend()\n",
    "    place_region_wire(140,220,fig,ax,color='yby')\n",
    "    fig.savefig('/mnt/d/kitp/Rp_SPT/7/Data_link_prob/MI_LN_inf_Born_link_Ap_prob({},{}).pdf'.format(den,den+1))\n",
    "prob_list=np.arange(1,200)/(np.arange(1,200)+1)\n",
    "link_LN_exp=[x.slope for x in lr_LN_link_list]\n",
    "link_MI_exp=[x.slope for x in lr_MI_list]\n",
    "fig,ax=plt.subplots()\n",
    "ax.plot(prob_list,link_MI_exp,'.-',label='MI')\n",
    "ax.plot(prob_list,link_LN_exp,'.-',label='LN')\n",
    "ax.legend()\n",
    "ax.set_xlabel('Measurement rate')\n",
    "ax.set_ylabel('exponent')"
   ],
   "outputs": [],
   "metadata": {}
  },
  {
   "cell_type": "code",
   "execution_count": null,
   "source": [
    "prob_list=np.arange(1,200)/(np.arange(1,200)+1)\n",
    "link_LN_exp=[x.slope for x in lr_LN_link_list]\n",
    "link_MI_exp=[x.slope for x in lr_MI_link_list]"
   ],
   "outputs": [],
   "metadata": {}
  },
  {
   "cell_type": "code",
   "execution_count": null,
   "source": [
    "fig,ax=plt.subplots()\n",
    "ax.plot(prob_list,link_MI_exp,'.-',label='MI')\n",
    "ax.plot(prob_list,link_LN_exp,'.-',label='LN')\n",
    "ax.legend()\n",
    "ax.set_xlabel('Measurement rate')\n",
    "ax.set_ylabel('exponent')"
   ],
   "outputs": [],
   "metadata": {}
  },
  {
   "cell_type": "markdown",
   "source": [
    "# von Neumann entropy"
   ],
   "metadata": {}
  },
  {
   "cell_type": "code",
   "execution_count": null,
   "source": [
    "def generate_A_dep(w):\n",
    "    subregion_max_list=np.arange(2,50,2)\n",
    "    von_Neumann_entropy_list[w]=[]\n",
    "    params=Params(w=w,L=200)\n",
    "    for subregion_max in subregion_max_list:\n",
    "        von_Neumann_entropy_list[w].append(params.von_Neumann_entropy(np.arange(subregion_max)))"
   ],
   "outputs": [],
   "metadata": {}
  },
  {
   "cell_type": "code",
   "execution_count": null,
   "source": [
    "def generate_A_dep_2(w):\n",
    "    subregion_max_list=np.arange(20,100,2)\n",
    "    von_Neumann_entropy_list[w]=[]    \n",
    "    for subregion_max in subregion_max_list:\n",
    "        params=Params(w=w,L=subregion_max*4)\n",
    "        von_Neumann_entropy_list[w].append(params.von_Neumann_entropy(np.arange(subregion_max)))"
   ],
   "outputs": [],
   "metadata": {}
  },
  {
   "cell_type": "code",
   "execution_count": null,
   "source": [
    "von_Neumann_entropy_list={}\n",
    "for i in (0,0.5,0.8,1,2):\n",
    "    generate_A_dep(i)"
   ],
   "outputs": [],
   "metadata": {}
  },
  {
   "cell_type": "code",
   "execution_count": null,
   "source": [
    "for i in (0,0.5,.8,1,2):\n",
    "    generate_A_dep_2(i)"
   ],
   "outputs": [],
   "metadata": {}
  },
  {
   "cell_type": "code",
   "execution_count": null,
   "source": [
    "fig,ax=plt.subplots(figsize=(6.8,4))\n",
    "subregion_max_list=np.arange(2,50,2)\n",
    "for i,color in zip((0,0.5,0.8,1,2),('k','orange','pink','red','b')):\n",
    "    ax.plot(subregion_max_list,von_Neumann_entropy_list[i],'.',label=r'$w={}$'.format((i)),color=color)\n",
    "ax.legend(framealpha=0)\n",
    "# ax.plot(subregion_max_list,1/3*np.log(subregion_max_list))\n",
    "ax.margins(x=0)\n",
    "ax.axhline(y=2*np.log(2),ls='--')\n",
    "ax.text(2,2*np.log(2),r'$2\\log(2)$',ha='right',va='center')\n",
    "ax.set_xlabel(r'$|A|$')\n",
    "ax.set_ylabel(r'$S_A$')\n",
    "ax.set_yticks(np.arange(0,2.5,0.5))\n",
    "\n",
    "fig.tight_layout()\n",
    "\n",
    "fig.savefig('/mnt/d/kitp/Rp_SPT/1/SA_vs_A_L_fixed.pdf',bbox_inches='tight')"
   ],
   "outputs": [],
   "metadata": {}
  },
  {
   "cell_type": "code",
   "execution_count": null,
   "source": [
    "fig,ax=plt.subplots(figsize=(6.8,4))\n",
    "ax.plot(np.log(subregion_max_list),(von_Neumann_entropy_list[1]),'.')\n",
    "ax.set_xlabel(r'$\\log(|A|)$')\n",
    "ax.set_ylabel(r'$S_A$')\n",
    "lr=scipy.stats.linregress(np.log(subregion_max_list),(von_Neumann_entropy_list[1]))\n",
    "ax.plot(np.log(subregion_max_list),lr.slope*np.log(subregion_max_list)+lr.intercept,'b')\n",
    "ax.text(0.1,0.9,r'Fitted $y={:.4f}~x+ {:.4f}$'.format(lr.slope,lr.intercept),transform=ax.transAxes)\n",
    "fig.savefig('/mnt/d/kitp/Rp_SPT/1/critical_exponent.pdf',bbox_inches='tight')"
   ],
   "outputs": [],
   "metadata": {}
  },
  {
   "cell_type": "code",
   "execution_count": null,
   "source": [
    "fig,ax=plt.subplots(figsize=(6.8,4))\n",
    "subregion_max_list=np.arange(20,100,2)\n",
    "for i,color in zip((0,0.5,0.8,1,2),('k','orange','pink','red','b')):\n",
    "    ax.plot(subregion_max_list,von_Neumann_entropy_list[i],'.',label=r'$\\mu={}$'.format((i)),color=color)\n",
    "ax.legend()\n",
    "# ax.plot(subregion_max_list,1/3*np.log(subregion_max_list))\n",
    "ax.margins(x=0)\n",
    "ax.axhline(y=np.log(2),ls='--')\n",
    "ax.text(-1,np.log(2),r'$\\log(2)$')\n",
    "ax.set_xlabel(r'$|A|$')\n",
    "ax.set_ylabel(r'$S_A$')\n",
    "\n",
    "# fig.savefig('/mnt/d/kitp/Rp_SPT/1/SA_vs_A_L_fixed.pdf',bbox_inches='tight')"
   ],
   "outputs": [],
   "metadata": {}
  },
  {
   "cell_type": "code",
   "execution_count": null,
   "source": [
    "fig,ax=plt.subplots(figsize=(6.8,4))\n",
    "ax.plot(np.log(subregion_max_list),(von_Neumann_entropy_list[1]))\n",
    "ax.set_xlabel(r'$\\log(|A|)$')\n",
    "ax.set_ylabel(r'$S_A$')\n",
    "ax.text(0.1,0.9,r'Fitted $y=0.1676~x+ 0.354$',transform=ax.transAxes)\n",
    "# fig.savefig('/mnt/d/kitp/Rp_SPT/1/critical_exponent.pdf',bbox_inches='tight')"
   ],
   "outputs": [],
   "metadata": {}
  },
  {
   "cell_type": "code",
   "execution_count": null,
   "source": [
    "w_list=np.linspace(0.01,2,50)\n",
    "von_Neumann_entropy_w_list=[]\n",
    "spectrum_gap_list=[]\n",
    "for w in w_list:\n",
    "    params=Params(w=w,L=100)\n",
    "    von_Neumann_entropy_w_list.append(params.von_Neumann_entropy(np.arange(10)))\n",
    "    val=params.val\n",
    "    spectrum_gap_list.append(np.max(val[val<0])-np.min(val[val>0]))"
   ],
   "outputs": [],
   "metadata": {}
  },
  {
   "cell_type": "code",
   "execution_count": null,
   "source": [
    "plt.plot(w_list,von_Neumann_entropy_w_list)\n",
    "plt.plot(w_list,np.abs(spectrum_gap_list))"
   ],
   "outputs": [],
   "metadata": {}
  },
  {
   "cell_type": "code",
   "execution_count": null,
   "source": [
    "plt.plot(w_list,np.abs(spectrum_gap_list))"
   ],
   "outputs": [],
   "metadata": {}
  },
  {
   "cell_type": "code",
   "execution_count": null,
   "source": [
    "derivative=(np.array(von_Neumann_entropy_w_list[2:])-np.array(von_Neumann_entropy_w_list[:-2]))/(w_list[1]-w_list[0])"
   ],
   "outputs": [],
   "metadata": {}
  },
  {
   "cell_type": "code",
   "execution_count": null,
   "source": [
    "plt.plot(w_list[1:-1],np.abs(derivative))"
   ],
   "outputs": [],
   "metadata": {}
  },
  {
   "cell_type": "code",
   "execution_count": null,
   "source": [
    "fig,ax=plt.subplots()\n",
    "for index in range(eigvallist[0].shape[0]):\n",
    "    ax.plot(wlist,np.array(eigvallist)[:,index],'k')\n",
    "    ax.set_ylim([-2,2])\n"
   ],
   "outputs": [],
   "metadata": {}
  },
  {
   "cell_type": "markdown",
   "source": [
    "# Mutual information"
   ],
   "metadata": {}
  },
  {
   "cell_type": "code",
   "execution_count": null,
   "source": [
    "MI_list={}"
   ],
   "outputs": [],
   "metadata": {}
  },
  {
   "cell_type": "markdown",
   "source": [
    "## w=0.5"
   ],
   "metadata": {}
  },
  {
   "cell_type": "code",
   "execution_count": null,
   "source": [
    "dist_list=np.arange(10,50,2)\n",
    "MI_list[0.5]=[]\n",
    "params=Params(w=0.5,L=200)\n",
    "for dist in dist_list:\n",
    "    MI_list[.5].append(params.mutual_information(np.arange(10),np.arange(dist,dist+10)))"
   ],
   "outputs": [],
   "metadata": {}
  },
  {
   "cell_type": "code",
   "execution_count": null,
   "source": [
    "fig,ax1=plt.subplots(figsize=(6.8,4))\n",
    "\n",
    "color = 'tab:red'\n",
    "ax1.set_xlabel('distance between A and B')\n",
    "ax1.set_ylabel(r'mutual information $I(A;B)$', color=color)\n",
    "ax1.plot(dist_list,MI_list[.5],'.', color=color)\n",
    "ax1.tick_params(axis='y', labelcolor=color)\n",
    "ax1.set_ylim(-0.01,0.4)\n",
    "\n",
    "ax2 = ax1.twinx()  \n",
    "\n",
    "color = 'tab:blue'\n",
    "ax2.set_ylabel(r'$\\log(I(A;B))$', color=color)  \n",
    "ax2.plot(dist_list,np.log(MI_list[.5]),'.', color=color)\n",
    "ax2.tick_params(axis='y', labelcolor=color)\n",
    "lr=scipy.stats.linregress(dist_list,np.log(MI_list[.5]))\n",
    "ax2.text(.6,.8,r'Fitted: $y={:.4f}~x+{:.4f}$'.format(lr.slope,lr.intercept),transform=ax2.transAxes)\n",
    "ax2.text(.68,.7,r'$R^2={:f}$'.format(lr.rvalue),transform=ax2.transAxes)\n",
    "\n",
    "ax2.plot(dist_list,lr.slope*dist_list+lr.intercept,color=color)\n",
    "\n",
    "fig.tight_layout()\n",
    "fig.savefig('/mnt/d/kitp/Rp_SPT/1/MI_mu0.5.pdf',bbox_inches='tight')\n"
   ],
   "outputs": [],
   "metadata": {}
  },
  {
   "cell_type": "markdown",
   "source": [
    "## w=2"
   ],
   "metadata": {}
  },
  {
   "cell_type": "code",
   "execution_count": null,
   "source": [
    "dist_list=np.arange(10,50,2)\n",
    "MI_list[2]=[]\n",
    "params=Params(w=2,L=200)\n",
    "for dist in dist_list:\n",
    "    MI_list[2].append(params.mutual_information(np.arange(10),np.arange(dist,dist+10)))"
   ],
   "outputs": [],
   "metadata": {}
  },
  {
   "cell_type": "code",
   "execution_count": null,
   "source": [
    "fig,ax1=plt.subplots(figsize=(6.8,4))\n",
    "\n",
    "color = 'tab:red'\n",
    "ax1.set_xlabel('distance between A and B')\n",
    "ax1.set_ylabel(r'mutual information $I(A;B)$', color=color)\n",
    "ax1.plot(dist_list,MI_list[2],'.', color=color)\n",
    "ax1.tick_params(axis='y', labelcolor=color)\n",
    "ax1.set_ylim(-0.01,1.6)\n",
    "\n",
    "ax2 = ax1.twinx()  \n",
    "\n",
    "color = 'tab:blue'\n",
    "ax2.set_ylabel(r'$\\log(I(A;B))$', color=color)  \n",
    "ax2.plot(dist_list,np.log(MI_list[2]), '.',color=color)\n",
    "ax2.tick_params(axis='y', labelcolor=color)\n",
    "lr=scipy.stats.linregress(dist_list,np.log(MI_list[2]))\n",
    "ax2.text(.6,.8,r'Fitted: $y={:.4f}~x+{:.4f}$'.format(lr.slope,lr.intercept),transform=ax2.transAxes)\n",
    "ax2.text(.68,.7,r'$R^2={:f}$'.format(lr.rvalue),transform=ax2.transAxes)\n",
    "\n",
    "ax2.plot(dist_list,lr.slope*dist_list+lr.intercept,color=color)\n",
    "\n",
    "fig.tight_layout()\n",
    "fig.savefig('/mnt/d/kitp/Rp_SPT/1/MI_mu2.pdf',bbox_inches='tight')\n"
   ],
   "outputs": [],
   "metadata": {}
  },
  {
   "cell_type": "code",
   "execution_count": null,
   "source": [
    "1/lr.slope"
   ],
   "outputs": [],
   "metadata": {}
  },
  {
   "cell_type": "markdown",
   "source": [
    "## w=1"
   ],
   "metadata": {}
  },
  {
   "cell_type": "code",
   "execution_count": null,
   "source": [
    "dist_list=np.arange(10,190,2)\n",
    "MI_list[1]=[]\n",
    "params=Params(w=1,L=200)\n",
    "for dist in dist_list:\n",
    "    MI_list[1].append(params.mutual_information(np.arange(10),np.arange(dist,dist+10)))"
   ],
   "outputs": [],
   "metadata": {}
  },
  {
   "cell_type": "code",
   "execution_count": null,
   "source": [
    "fig=plt.figure()\n",
    "ax1=fig.add_subplot(111, label=\"1\")\n",
    "ax2=fig.add_subplot(111, label=\"2\",frame_on=False)\n",
    "\n",
    "color = 'tab:red'\n",
    "ax1.set_xlabel('distance between A and B', color=color)\n",
    "ax1.set_ylabel(r'mutual information $I(A;B)$', color=color)\n",
    "ax1.plot(dist_list,MI_list[1],'.', color=color)\n",
    "ax1.tick_params(axis='y', labelcolor=color)\n",
    "ax1.tick_params(axis='x', labelcolor=color)\n",
    "ax1.set_ylim(-0.01,1.4)\n",
    "\n",
    "color = 'tab:blue'\n",
    "ax2.plot(np.log(dist_list),np.log(MI_list[1]),'.', color=color)\n",
    "ax2.xaxis.tick_top()\n",
    "ax2.yaxis.tick_right()\n",
    "ax2.xaxis.set_label_position('top') \n",
    "ax2.yaxis.set_label_position('right') \n",
    "ax2.set_xlabel(r'log distance', color=color)\n",
    "ax2.set_ylabel(r'$\\log(I(A;B))$', color=color)  \n",
    "ax2.tick_params(axis='y', labelcolor=color)\n",
    "ax2.tick_params(axis='x', labelcolor=color)\n",
    "\n",
    "mask=(np.log(dist_list)<4.5)*(np.log(dist_list)>3)\n",
    "lr=scipy.stats.linregress(np.log(dist_list)[mask],np.log(MI_list[1])[mask])\n",
    "ax2.text(.6,.8,r'Fitted: $y={:.4f}~x+{:.4f}$'.format(lr.slope,lr.intercept),transform=ax2.transAxes)\n",
    "ax2.text(.68,.7,r'$R^2={:f}$'.format(lr.rvalue),transform=ax2.transAxes)\n",
    "ax2.plot(np.log(dist_list),lr.slope*np.log(dist_list)+lr.intercept,color=color)\n",
    "\n",
    "ax2.axvline(x=np.log(dist_list)[mask][0],lw=1,ls='--')\n",
    "ax2.axvline(x=np.log(dist_list)[mask][-1],lw=1,ls='--')\n",
    "\n",
    "fig.tight_layout()\n",
    "\n",
    "fig.savefig('/mnt/d/kitp/Rp_SPT/1/MI_mu1.pdf',bbox_inches='tight')"
   ],
   "outputs": [],
   "metadata": {}
  },
  {
   "cell_type": "code",
   "execution_count": null,
   "source": [
    "\n",
    "dist_list[0]"
   ],
   "outputs": [],
   "metadata": {}
  },
  {
   "cell_type": "code",
   "execution_count": null,
   "source": [
    "np.log(22)"
   ],
   "outputs": [],
   "metadata": {}
  },
  {
   "cell_type": "code",
   "execution_count": null,
   "source": [
    "\n",
    "np.log(dist_list)[mask]"
   ],
   "outputs": [],
   "metadata": {}
  },
  {
   "cell_type": "code",
   "execution_count": null,
   "source": [
    "\n",
    "np.log(dist_list)[mask][0]"
   ],
   "outputs": [],
   "metadata": {}
  },
  {
   "cell_type": "code",
   "execution_count": null,
   "source": [
    "np.exp([3,4.5])"
   ],
   "outputs": [],
   "metadata": {}
  },
  {
   "cell_type": "code",
   "execution_count": null,
   "source": [
    "\n",
    "np.log(20)"
   ],
   "outputs": [],
   "metadata": {}
  },
  {
   "cell_type": "markdown",
   "source": [
    "# Finite temp"
   ],
   "metadata": {}
  },
  {
   "cell_type": "code",
   "execution_count": null,
   "source": [
    "from scipy.interpolate import UnivariateSpline\n",
    "def find_inflection(x,y):\n",
    "    spl=UnivariateSpline(x,y,s=0)\n",
    "    spld=spl.derivative()\n",
    "    x_fit=np.linspace(x.min(),x.max(),500)\n",
    "    y_fit=spld(x_fit)    \n",
    "    # return x_fit,y_fit\n",
    "    return x_fit[np.argmax(y_fit)]"
   ],
   "outputs": [],
   "metadata": {}
  },
  {
   "cell_type": "code",
   "execution_count": null,
   "source": [
    "es=3000\n",
    "with open('/mnt/d/KITP/Rp_SPT/6/LN_Born_En{}_SSH_T.pickle'.format(es),'rb') as f:\n",
    "    delta_dict_para,log_neg_dis_dict_para,T_list=pickle.load(f)"
   ],
   "outputs": [],
   "metadata": {}
  },
  {
   "cell_type": "code",
   "execution_count": null,
   "source": [
    "log_neg_mean=np.array(list(log_neg_dis_dict_para.values())).mean(axis=2)\n",
    "log_neg_std=np.array(list(log_neg_dis_dict_para.values())).std(axis=2)"
   ],
   "outputs": [],
   "metadata": {}
  },
  {
   "cell_type": "code",
   "execution_count": null,
   "source": [
    "inflection_list=[find_inflection(delta_dict_para[0],x/np.log(2)) for x in log_neg_mean]"
   ],
   "outputs": [],
   "metadata": {}
  },
  {
   "cell_type": "code",
   "execution_count": null,
   "source": [
    "fig,axs=plt.subplots(1,1,sharex=True)\n",
    "color='magma'\n",
    "ax=axs\n",
    "im=ax.pcolormesh(delta_dict_para[0],T_list,log_neg_mean/np.log(2),shading='flat',cmap=color)\n",
    "ax.set_ylabel(r'$T$')\n",
    "ax.text(0.5,1,'Mean of LN using Born rule',ha='center',va='bottom',transform=ax.transAxes)\n",
    "axins=ax.inset_axes([1.02, 0, 0.03, 1],transform=ax.transAxes)\n",
    "cb=fig.colorbar(im,cax=axins)    \n",
    "ax.margins(x=0)\n",
    "ax.plot(inflection_list,T_list,color='r')\n",
    "\n",
    "# ax.plot(inflection_list,T_list,color='r')\n",
    "\n",
    "# ax=axs[1]\n",
    "# im=ax.pcolormesh(delta_dict_para[0],T_list,log_neg_std/np.log(2),shading='flat',cmap=color)\n",
    "# ax.text(0.5,1,'STD of LN using Born rule',ha='center',va='bottom',transform=ax.transAxes)\n",
    "# axins=ax.inset_axes([1.02, 0, 0.03, 1],transform=ax.transAxes)\n",
    "# cb=fig.colorbar(im,cax=axins) \n",
    "\n",
    "# axs[0].text(1.01,1, 'LN (log 2)',transform=axs[0].transAxes,ha='left',va='bottom')\n",
    "\n",
    "ax.set_xlabel(r'$\\delta$')\n",
    "ax.set_ylabel(r'$T$')\n",
    "\n",
    "fig.tight_layout()\n",
    "\n",
    "fig.savefig('/mnt/d/kitp/Rp_SPT/6/LN_Born_Es_{:d}_SSH_T_Map.pdf'.format(es),bbox_inches='tight')"
   ],
   "outputs": [],
   "metadata": {}
  },
  {
   "cell_type": "code",
   "execution_count": null,
   "source": [
    "es=3000\n",
    "with open('/mnt/d/KITP/Rp_SPT/6/LN_Born_En{}_SSH_L128_T.pickle'.format(es),'rb') as f:\n",
    "    delta_dict_para,log_neg_dis_dict_para,T_list=pickle.load(f)"
   ],
   "outputs": [],
   "metadata": {}
  },
  {
   "cell_type": "code",
   "execution_count": null,
   "source": [
    "log_neg_mean=np.array(list(log_neg_dis_dict_para.values())).mean(axis=2)\n",
    "log_neg_std=np.array(list(log_neg_dis_dict_para.values())).std(axis=2)"
   ],
   "outputs": [],
   "metadata": {}
  },
  {
   "cell_type": "code",
   "execution_count": null,
   "source": [
    "inflection_list=[find_inflection(delta_dict_para[0],x/np.log(2)) for x in log_neg_mean]"
   ],
   "outputs": [],
   "metadata": {}
  },
  {
   "cell_type": "code",
   "execution_count": null,
   "source": [
    "fig,axs=plt.subplots(1,1,sharex=True)\n",
    "color='magma'\n",
    "ax=axs\n",
    "im=ax.pcolormesh(delta_dict_para[0],T_list,log_neg_mean/np.log(2),shading='flat',cmap=color)\n",
    "ax.set_ylabel(r'$T$')\n",
    "ax.text(0.5,1,'Mean of LN using Born rule',ha='center',va='bottom',transform=ax.transAxes)\n",
    "axins=ax.inset_axes([1.02, 0, 0.03, 1],transform=ax.transAxes)\n",
    "cb=fig.colorbar(im,cax=axins)    \n",
    "ax.margins(x=0)\n",
    "ax.plot(inflection_list,T_list,color='r')\n",
    "\n",
    "# ax.plot(inflection_list,T_list,color='r')\n",
    "\n",
    "# ax=axs[1]\n",
    "# im=ax.pcolormesh(delta_dict_para[0],T_list,log_neg_std/np.log(2),shading='flat',cmap=color)\n",
    "# ax.text(0.5,1,'STD of LN using Born rule',ha='center',va='bottom',transform=ax.transAxes)\n",
    "# axins=ax.inset_axes([1.02, 0, 0.03, 1],transform=ax.transAxes)\n",
    "# cb=fig.colorbar(im,cax=axins) \n",
    "\n",
    "# axs[0].text(1.01,1, 'LN (log 2)',transform=axs[0].transAxes,ha='left',va='bottom')\n",
    "\n",
    "ax.set_xlabel(r'$\\delta$')\n",
    "ax.set_ylabel(r'$T$')\n",
    "\n",
    "fig.tight_layout()\n",
    "\n",
    "fig.savefig('/mnt/d/kitp/Rp_SPT/6/LN_Born_Es_{:d}_SSH_L128_T_Map.pdf'.format(es),bbox_inches='tight')"
   ],
   "outputs": [],
   "metadata": {}
  },
  {
   "cell_type": "markdown",
   "source": [
    "# Infinite temperature"
   ],
   "metadata": {}
  },
  {
   "cell_type": "code",
   "execution_count": null,
   "source": [
    "params_m=Params(delta=0,L=64,bc=-1,T=np.inf)\n",
    "params_m.bandstructure()\n",
    "Esum=[np.random.choice(params_m.val,params_m.L,replace=False).sum()/params_m.L for i in range(2000)]"
   ],
   "outputs": [],
   "metadata": {}
  },
  {
   "cell_type": "code",
   "execution_count": null,
   "source": [
    "fig,ax=plt.subplots(2,1,sharex=True,gridspec_kw=dict(height_ratios=[3,1]),tight_layout=True)\n",
    "ax[0].hist(Esum,bins=11)\n",
    "ax[1].set_xlabel('Mean energy')\n",
    "ax[0].set_ylabel('Occurence')\n",
    "ax[1].set_yticks([])\n",
    "ax[1].scatter(Esum,np.ones(len(Esum)),s=0.1)\n",
    "# fig.savefig('/mnt/d/kitp/Rp_SPT/6/SSH_d0.pdf')"
   ],
   "outputs": [],
   "metadata": {}
  },
  {
   "cell_type": "code",
   "execution_count": null,
   "source": [
    "params_m=Params(delta=0.5,L=64,bc=-1,T=np.inf)\n",
    "params_m.bandstructure()\n",
    "Esum=[np.random.choice(params_m.val,params_m.L,replace=False).sum()/params_m.L for i in range(2000)]"
   ],
   "outputs": [],
   "metadata": {}
  },
  {
   "cell_type": "code",
   "execution_count": null,
   "source": [
    "fig,ax=plt.subplots(2,1,sharex=True,gridspec_kw=dict(height_ratios=[3,1]),tight_layout=True)\n",
    "ax[0].hist(Esum,bins=11)\n",
    "ax[1].set_xlabel('Mean energy')\n",
    "ax[0].set_ylabel('Occurence')\n",
    "ax[1].set_yticks([])\n",
    "ax[1].scatter(Esum,np.ones(len(Esum)),s=0.1)\n",
    "fig.savefig('/mnt/d/kitp/Rp_SPT/6/SSH_d0.5.pdf')"
   ],
   "outputs": [],
   "metadata": {}
  },
  {
   "cell_type": "code",
   "execution_count": null,
   "source": [
    "params_m=Params(delta=1,L=64,bc=-1,T=np.inf)\n",
    "params_m.bandstructure()\n",
    "Esum=[np.random.choice(params_m.val,params_m.L,replace=False).sum()/params_m.L for i in range(2000)]"
   ],
   "outputs": [],
   "metadata": {}
  },
  {
   "cell_type": "code",
   "execution_count": null,
   "source": [
    "fig,ax=plt.subplots(2,1,sharex=True,gridspec_kw=dict(height_ratios=[3,1]),tight_layout=True)\n",
    "ax[0].hist(Esum,bins=11)\n",
    "ax[1].set_xlabel('Mean energy')\n",
    "ax[0].set_ylabel('Occurence')\n",
    "ax[1].set_yticks([])\n",
    "ax[1].scatter(Esum,np.ones(len(Esum)),s=0.1)\n",
    "fig.savefig('/mnt/d/kitp/Rp_SPT/6/SSH_d1.pdf')"
   ],
   "outputs": [],
   "metadata": {}
  },
  {
   "cell_type": "code",
   "execution_count": null,
   "source": [
    "params_m=Params(delta=-0.5,L=64,bc=-1,T=np.inf)\n",
    "params_m.bandstructure()\n",
    "Esum=[np.random.choice(params_m.val,params_m.L,replace=False).sum()/params_m.L for i in range(2000)]"
   ],
   "outputs": [],
   "metadata": {}
  },
  {
   "cell_type": "code",
   "execution_count": null,
   "source": [
    "fig,ax=plt.subplots(2,1,sharex=True,gridspec_kw=dict(height_ratios=[3,1]),tight_layout=True)\n",
    "ax[0].hist(Esum,bins=11)\n",
    "ax[1].set_xlabel('Mean energy')\n",
    "ax[0].set_ylabel('Occurence')\n",
    "ax[1].set_yticks([])\n",
    "ax[1].scatter(Esum,np.ones(len(Esum)),s=0.1)\n",
    "fig.savefig('/mnt/d/kitp/Rp_SPT/6/SSH_d-0.5.pdf')"
   ],
   "outputs": [],
   "metadata": {}
  },
  {
   "cell_type": "code",
   "execution_count": null,
   "source": [
    "params_m=Params(delta=-1,L=64,bc=-1,T=np.inf)\n",
    "params_m.bandstructure()\n",
    "Esum=[np.random.choice(params_m.val,params_m.L,replace=False).sum()/params_m.L for i in range(2000)]"
   ],
   "outputs": [],
   "metadata": {}
  },
  {
   "cell_type": "code",
   "execution_count": null,
   "source": [
    "fig,ax=plt.subplots(2,1,sharex=True,gridspec_kw=dict(height_ratios=[3,1]),tight_layout=True)\n",
    "ax[0].hist(Esum,bins=11)\n",
    "ax[1].set_xlabel('Mean energy')\n",
    "ax[0].set_ylabel('Occurence')\n",
    "ax[1].set_yticks([])\n",
    "ax[1].scatter(Esum,np.ones(len(Esum)),s=0.1)\n",
    "fig.savefig('/mnt/d/kitp/Rp_SPT/6/SSH_d-1.pdf')"
   ],
   "outputs": [],
   "metadata": {}
  },
  {
   "cell_type": "code",
   "execution_count": null,
   "source": [
    "Params(delta=0,L=100,bc=-1,T=np.inf,E0=0,dE=0.01,kappa=0.5)"
   ],
   "outputs": [],
   "metadata": {}
  },
  {
   "cell_type": "code",
   "execution_count": null,
   "source": [
    "es=10\n",
    "L_list=np.arange(50,200,10)\n",
    "LN_list=np.zeros((L_list.shape[0],es))\n",
    "lamb=0.5\n",
    "for L_i,L in enumerate(L_list):\n",
    "    m=int(L*lamb)\n",
    "    LN=[Params(delta=0,L=L,bc=-1,T=np.inf,E0=0,dE=0.01,kappa=0.5).von_Neumann_entropy_m(np.arange(m*4)) for _ in range(es)]\n",
    "    LN_list[L_i,:]=LN"
   ],
   "outputs": [],
   "metadata": {}
  },
  {
   "cell_type": "code",
   "execution_count": null,
   "source": [
    "plt.plot(L_list,LN_list.mean(axis=1),'.')"
   ],
   "outputs": [],
   "metadata": {}
  },
  {
   "cell_type": "code",
   "execution_count": null,
   "source": [
    "lr_no=scipy.stats.linregress(L_list,LN_list.mean(axis=1))"
   ],
   "outputs": [],
   "metadata": {}
  },
  {
   "cell_type": "code",
   "execution_count": null,
   "source": [
    "lr_no.slope"
   ],
   "outputs": [],
   "metadata": {}
  },
  {
   "cell_type": "code",
   "execution_count": null,
   "source": [
    "lr_no.slope/(2*lamb)"
   ],
   "outputs": [],
   "metadata": {}
  },
  {
   "cell_type": "code",
   "execution_count": null,
   "source": [
    "0.5571459325463656-.36855537528222476"
   ],
   "outputs": [],
   "metadata": {}
  },
  {
   "cell_type": "code",
   "execution_count": null,
   "source": [
    "plt.plot(L_list,LN_list.mean(axis=1))"
   ],
   "outputs": [],
   "metadata": {}
  },
  {
   "cell_type": "code",
   "execution_count": null,
   "source": [
    "2*np.log(2)-1"
   ],
   "outputs": [],
   "metadata": {}
  },
  {
   "cell_type": "code",
   "execution_count": null,
   "source": [
    "L=200\n",
    "m=L//2\n",
    "\n",
    "params=Params(delta=0,L=L,bc=-1,T=np.inf,E0=0,dE=0.01,kappa=0.5)\n",
    "params.von_Neumann_entropy_m(np.arange(m*4))/(m*2)"
   ],
   "outputs": [],
   "metadata": {}
  },
  {
   "cell_type": "code",
   "execution_count": null,
   "source": [
    "np.log(2)*0.21*4"
   ],
   "outputs": [],
   "metadata": {}
  },
  {
   "cell_type": "code",
   "execution_count": null,
   "source": [
    "params.index"
   ],
   "outputs": [],
   "metadata": {}
  },
  {
   "cell_type": "code",
   "execution_count": null,
   "source": [
    "np.sum(np.abs(params.vec[4,:])**2)"
   ],
   "outputs": [],
   "metadata": {}
  },
  {
   "cell_type": "code",
   "execution_count": null,
   "source": [
    "val,vec=nla.eigh([[1,2],[2,1]])"
   ],
   "outputs": [],
   "metadata": {}
  },
  {
   "cell_type": "code",
   "execution_count": null,
   "source": [
    "val"
   ],
   "outputs": [],
   "metadata": {}
  },
  {
   "cell_type": "code",
   "execution_count": null,
   "source": [
    "vec"
   ],
   "outputs": [],
   "metadata": {}
  },
  {
   "cell_type": "code",
   "execution_count": null,
   "source": [
    "np.matlib.repmat([1,0,1,0],3,1)"
   ],
   "outputs": [],
   "metadata": {}
  },
  {
   "cell_type": "code",
   "execution_count": null,
   "source": [
    "(2*np.log(2)-1)/2"
   ],
   "outputs": [],
   "metadata": {}
  },
  {
   "cell_type": "code",
   "execution_count": 4,
   "source": [
    "EE_dict={}"
   ],
   "outputs": [],
   "metadata": {}
  },
  {
   "cell_type": "markdown",
   "source": [
    "## EE"
   ],
   "metadata": {}
  },
  {
   "cell_type": "code",
   "execution_count": 5,
   "source": [
    "es=100\n",
    "L=100\n",
    "m_list=np.arange(1,L+1,10)\n",
    "kappa_list=[.1,.3,.5,.8]\n",
    "for kappa in kappa_list:\n",
    "    EE_dict[kappa]=np.zeros((m_list.shape[0],es))\n",
    "\n",
    "    for m_i,m in enumerate(m_list):\n",
    "        EE=[Params(delta=0,L=L,bc=-1,T=np.inf,E0=0,dE=0.01,kappa=kappa).von_Neumann_entropy_m(np.arange(m))/(2*L) for _ in range(es)]\n",
    "        EE_dict[kappa][m_i,:]=EE"
   ],
   "outputs": [],
   "metadata": {}
  },
  {
   "cell_type": "code",
   "execution_count": 6,
   "source": [
    "import scipy.integrate as integrate"
   ],
   "outputs": [],
   "metadata": {}
  },
  {
   "cell_type": "code",
   "execution_count": 7,
   "source": [
    "def func(kappa,lamb):\n",
    "    lamb_p=(np.sqrt(kappa*(1-lamb))+np.sqrt(lamb*(1-kappa)))**2\n",
    "    lamb_m=(np.sqrt(kappa*(1-lamb))-np.sqrt(lamb*(1-kappa)))**2\n",
    "    integrand=lambda x:1/(2*np.pi*lamb)*np.sqrt((lamb_p-x)*(x-lamb_m))/(x*(1-x))*(-x*np.log(x)-(1-x)*np.log(1-x))\n",
    "    integral=integrate.quad(integrand,lamb_m,lamb_p)\n",
    "    return integral[0]"
   ],
   "outputs": [],
   "metadata": {}
  },
  {
   "cell_type": "code",
   "execution_count": 9,
   "source": [
    "analy_dict={}\n",
    "for kappa in kappa_list:\n",
    "    analy_dict[kappa]=[lamb*func(kappa,lamb) for lamb in m_list/(2*L)]"
   ],
   "outputs": [],
   "metadata": {}
  },
  {
   "cell_type": "code",
   "execution_count": 15,
   "source": [
    "fig,ax=plt.subplots()\n",
    "color_list='rgby'\n",
    "for kappa,color in zip(kappa_list,color_list):\n",
    "    ax.errorbar(m_list/(2*L),EE_dict[kappa].mean(axis=1),EE_dict[kappa].std(axis=1)/np.sqrt(es),fmt='.',capsize=3,label='$\\kappa$={:.1f}'.format(kappa),color=color)\n",
    "ax.grid('on')\n",
    "ax.legend()\n",
    "for kappa,color in zip(kappa_list,color_list):\n",
    "    ax.plot(m_list/(2*L),analy_dict[kappa],color=color)\n",
    "ax.set_yticks(np.linspace(0,0.2,11))\n",
    "ax.set_xlabel('m/N')\n",
    "ax.set_ylabel('S/N')\n",
    "fig.savefig('/mnt/d/KITP/Rp_SPT/11/EE.pdf')"
   ],
   "outputs": [
    {
     "output_type": "display_data",
     "data": {
      "text/plain": [
       "<Figure size 489.6x288 with 1 Axes>"
      ],
      "image/png": "[encoded data removed]"
     },
     "metadata": {
      "needs_background": "light"
     }
    }
   ],
   "metadata": {}
  },
  {
   "cell_type": "markdown",
   "source": [
    "## Random position"
   ],
   "metadata": {}
  },
  {
   "cell_type": "code",
   "execution_count": 17,
   "source": [
    "EE_random_dict={}"
   ],
   "outputs": [],
   "metadata": {}
  },
  {
   "cell_type": "code",
   "execution_count": 18,
   "source": [
    "es=100\n",
    "L=100\n",
    "m_list=np.arange(1,L+1,10)\n",
    "kappa_list=[.1,.3,.5,.8]\n",
    "for kappa in kappa_list:\n",
    "    EE_random_dict[kappa]=np.zeros((m_list.shape[0],es))\n",
    "\n",
    "    for m_i,m in enumerate(m_list):\n",
    "        m_rand_list=sorted(np.random.choice(np.arange(2*L),m,replace=False))\n",
    "        EE_random=[Params(delta=0,L=L,bc=-1,T=np.inf,E0=0,dE=0.01,kappa=kappa).von_Neumann_entropy_m(m_rand_list)/(2*L) for _ in range(es)]\n",
    "        EE_random_dict[kappa][m_i,:]=EE_random"
   ],
   "outputs": [],
   "metadata": {}
  },
  {
   "cell_type": "code",
   "execution_count": 21,
   "source": [
    "fig,ax=plt.subplots()\n",
    "color_list='rgby'\n",
    "for kappa,color in zip(kappa_list,color_list):\n",
    "    ax.errorbar(m_list/(2*L),EE_random_dict[kappa].mean(axis=1),EE_random_dict[kappa].std(axis=1)/np.sqrt(es),fmt='.',capsize=3,label='$\\kappa$={:.1f}'.format(kappa),color=color)\n",
    "ax.grid('on')\n",
    "ax.legend()\n",
    "for kappa,color in zip(kappa_list,color_list):\n",
    "    ax.plot(m_list/(2*L),analy_dict[kappa],color=color)\n",
    "ax.set_yticks(np.linspace(0,0.2,11))\n",
    "ax.set_xlabel('m/N')\n",
    "ax.set_ylabel('S/N')\n",
    "fig.savefig('/mnt/d/KITP/Rp_SPT/11/EE_random.pdf')"
   ],
   "outputs": [
    {
     "output_type": "display_data",
     "data": {
      "text/plain": [
       "<Figure size 489.6x288 with 1 Axes>"
      ],
      "image/png": "[encoded data removed]"
     },
     "metadata": {
      "needs_background": "light"
     }
    }
   ],
   "metadata": {}
  },
  {
   "cell_type": "markdown",
   "source": [
    "## MI&LN"
   ],
   "metadata": {}
  },
  {
   "cell_type": "code",
   "execution_count": null,
   "source": [
    "params_m=Params(delta=-.99,L=64,bc=-1,T=np.inf,dE=0.05,Etot=0.2)\n",
    "# params_m.correlation_matrix(E_F=-30)\n",
    "params_m.covariance_matrix()"
   ],
   "outputs": [],
   "metadata": {}
  },
  {
   "cell_type": "code",
   "execution_count": null,
   "source": [
    "params_m.val[params_m.index].mean()"
   ],
   "outputs": [],
   "metadata": {}
  },
  {
   "cell_type": "code",
   "execution_count": null,
   "source": [
    "params_m.index"
   ],
   "outputs": [],
   "metadata": {}
  },
  {
   "cell_type": "code",
   "execution_count": null,
   "source": [
    "params_m.measure_all_Born(type='link')"
   ],
   "outputs": [],
   "metadata": {}
  },
  {
   "cell_type": "code",
   "execution_count": null,
   "source": [
    "params_m.fermion_number()"
   ],
   "outputs": [],
   "metadata": {}
  },
  {
   "cell_type": "markdown",
   "source": [
    "## No measurement"
   ],
   "metadata": {}
  },
  {
   "cell_type": "code",
   "execution_count": null,
   "source": [
    "delta_list=np.linspace(-1,1,50)\n",
    "es=100\n",
    "L=64\n",
    "MI_no_Born_list=np.zeros((len(delta_list),(es)))\n",
    "LN_no_Born_list=np.zeros((len(delta_list),(es)))\n",
    "\n",
    "def run(p):\n",
    "    delta,L=p\n",
    "    params=Params(delta=p[0],L=p[1],T=np.inf,dE=0.05,Etot=0.2)\n",
    "    return params.log_neg(np.arange(L),np.arange(L)+2*L)\n",
    "for d_i,delta in enumerate(delta_list):\n",
    "    inputs=[(delta,L) for _ in range(es)]\n",
    "    async_result=rc[:].map_sync(run,inputs)\n",
    "    LN_no_Born_list[d_i,:]=async_result"
   ],
   "outputs": [],
   "metadata": {}
  },
  {
   "cell_type": "code",
   "execution_count": null,
   "source": [
    "# plt.plot(delta_list,LN_no_Born_list,'.-')\n",
    "fig,ax=plt.subplots()\n",
    "ax.errorbar(delta_list,LN_no_Born_list.mean(axis=1)/np.log(2),LN_no_Born_list.std(axis=1)/np.log(2)/np.sqrt(es-1),fmt='.-',capsize=3,label='Onsite measurement')\n",
    "ax.set_xlabel('$\\delta$')\n",
    "ax.set_ylabel('log neg [log2]')\n",
    "# fig.savefig('/mnt/d/KITP/Rp_SPT/6/SSH_inf_T_no.pdf')"
   ],
   "outputs": [],
   "metadata": {}
  },
  {
   "cell_type": "code",
   "execution_count": null,
   "source": [
    "delta_list=np.linspace(-1,1,50)\n",
    "es=100\n",
    "L=64\n",
    "MI_onsite_Born_list=np.zeros((len(delta_list),(es)))\n",
    "LN_onsite_Born_list=np.zeros((len(delta_list),(es)))\n",
    "\n",
    "def run(p):\n",
    "    delta,L=p\n",
    "    params=Params(delta=p[0],L=p[1],T=np.inf,dE=0.05,Etot=0.2)\n",
    "    params.measure_all_Born(type='onsite')\n",
    "    return params.log_neg(np.arange(L),np.arange(L)+2*L)\n",
    "for d_i,delta in enumerate(delta_list):\n",
    "   \n",
    "    inputs=[(delta,L) for _ in range(es)]\n",
    "    async_result=rc[:].map_sync(run,inputs)\n",
    "    LN_onsite_Born_list[d_i,:]=async_result"
   ],
   "outputs": [],
   "metadata": {}
  },
  {
   "cell_type": "code",
   "execution_count": null,
   "source": [
    "fig,ax=plt.subplots()\n",
    "ax.errorbar(delta_list,LN_onsite_Born_list.mean(axis=1)/np.log(2),LN_onsite_Born_list.std(axis=1)/np.log(2)/np.sqrt(100-1),fmt='.-',capsize=3,label='Onsite measurement')\n",
    "ax.set_xlabel('$\\delta$')\n",
    "ax.set_ylabel('log neg [log2]')\n",
    "# fig.savefig('/mnt/d/KITP/Rp_SPT/6/SSH_inf_T_onsite.pdf')"
   ],
   "outputs": [],
   "metadata": {}
  },
  {
   "cell_type": "code",
   "execution_count": null,
   "source": [
    "delta_list=np.linspace(-1,1,50)\n",
    "es=100\n",
    "L=64\n",
    "MI_link_Born_list=np.zeros((len(delta_list),(es)))\n",
    "LN_link_Born_list=np.zeros((len(delta_list),(es)))\n",
    "\n",
    "def run(p):\n",
    "    delta,L=p\n",
    "    params=Params(delta=p[0],L=p[1],T=np.inf,dE=0.05,Etot=0.2)\n",
    "    params.measure_all_Born(type='link')\n",
    "    return params.log_neg(np.arange(L),np.arange(L)+2*L)\n",
    "for d_i,delta in enumerate(delta_list):\n",
    "   \n",
    "    inputs=[(delta,L) for _ in range(es)]\n",
    "    async_result=rc[:].map_sync(run,inputs)\n",
    "    LN_link_Born_list[d_i,:]=async_result"
   ],
   "outputs": [],
   "metadata": {}
  },
  {
   "cell_type": "code",
   "execution_count": null,
   "source": [
    "fig,ax=plt.subplots()\n",
    "ax.errorbar(delta_list,LN_link_Born_list.mean(axis=1)/np.log(2),LN_link_Born_list.std(axis=1)/np.log(2)/np.sqrt(100-1),fmt='.-',capsize=3,label='Onsite measurement')\n",
    "ax.set_xlabel('$\\delta$')\n",
    "ax.set_ylabel('log neg [log2]')\n",
    "# fig.savefig('/mnt/d/KITP/Rp_SPT/6/SSH_inf_T_link.pdf')"
   ],
   "outputs": [],
   "metadata": {}
  },
  {
   "cell_type": "code",
   "execution_count": null,
   "source": [
    "fig,ax=plt.subplots()\n",
    "\n",
    "ax.errorbar(delta_list,LN_no_Born_list.mean(axis=1)/np.log(2),LN_no_Born_list.std(axis=1)/np.log(2)/np.sqrt(es-1),fmt='.-',capsize=3,label='Onsite measurement')\n",
    "\n",
    "ax.errorbar(delta_list,LN_onsite_Born_list.mean(axis=1)/np.log(2),LN_onsite_Born_list.std(axis=1)/np.log(2)/np.sqrt(100-1),fmt='.-',capsize=3,label='Onsite measurement')\n",
    "\n",
    "\n",
    "ax.errorbar(delta_list,LN_link_Born_list.mean(axis=1)/np.log(2),LN_link_Born_list.std(axis=1)/np.log(2)/np.sqrt(100-1),fmt='.-',capsize=3,label='Onsite measurement')\n",
    "ax.set_xlabel('$\\delta$')\n",
    "ax.set_ylabel('log neg [log2]')\n",
    "# fig.savefig('/mnt/d/KITP/Rp_SPT/6/SSH_inf_T_link.pdf')"
   ],
   "outputs": [],
   "metadata": {}
  },
  {
   "cell_type": "code",
   "execution_count": null,
   "source": [
    "fig,ax=plt.subplots()\n",
    "\n",
    "ax.errorbar(delta_list,LN_no_Born_list.mean(axis=1)/np.log(2),LN_no_Born_list.std(axis=1)/np.log(2)/np.sqrt(es-1),fmt='.-',capsize=3,label='Onsite measurement')\n",
    "\n",
    "ax.errorbar(delta_list,LN_onsite_Born_list.mean(axis=1)/np.log(2),LN_onsite_Born_list.std(axis=1)/np.log(2)/np.sqrt(100-1),fmt='.-',capsize=3,label='Onsite measurement')\n",
    "\n",
    "\n",
    "ax.errorbar(delta_list,LN_link_Born_list.mean(axis=1)/np.log(2),LN_link_Born_list.std(axis=1)/np.log(2)/np.sqrt(100-1),fmt='.-',capsize=3,label='Onsite measurement')\n",
    "ax.set_xlabel('$\\delta$')\n",
    "ax.set_ylabel('log neg [log2]')\n",
    "# fig.savefig('/mnt/d/KITP/Rp_SPT/6/SSH_inf_T_link.pdf')"
   ],
   "outputs": [],
   "metadata": {}
  },
  {
   "cell_type": "code",
   "execution_count": null,
   "source": [
    "params=Params(delta=0,L=64,bc=-1,T=0)"
   ],
   "outputs": [],
   "metadata": {}
  },
  {
   "cell_type": "code",
   "execution_count": null,
   "source": [
    "\n",
    "params.bandstructure()"
   ],
   "outputs": [],
   "metadata": {}
  },
  {
   "cell_type": "code",
   "execution_count": null,
   "source": [
    "\n",
    "params.val[:64].mean()"
   ],
   "outputs": [],
   "metadata": {}
  },
  {
   "cell_type": "markdown",
   "source": [
    "## Pure state entanglement"
   ],
   "metadata": {}
  },
  {
   "cell_type": "code",
   "execution_count": null,
   "source": [
    "params_m=Params(delta=0,L=64,bc=-1,T=np.inf)\n",
    "params_m.bandstructure()\n",
    "Esum=[np.random.choice(params_m.val,params_m.L,replace=False).sum()/params_m.L for i in range(2000)]"
   ],
   "outputs": [],
   "metadata": {}
  },
  {
   "cell_type": "code",
   "execution_count": null,
   "source": [
    "np.min(Esum),np.max(Esum)"
   ],
   "outputs": [],
   "metadata": {}
  },
  {
   "cell_type": "code",
   "execution_count": null,
   "source": [
    "params=Params(delta=0,L=64,bc=-1,T=np.inf,E0=0,dE=1)\n",
    "params.covariance_matrix()\n"
   ],
   "outputs": [],
   "metadata": {}
  },
  {
   "cell_type": "code",
   "execution_count": null,
   "source": [
    "params.E_mean"
   ],
   "outputs": [],
   "metadata": {}
  },
  {
   "cell_type": "code",
   "execution_count": null,
   "source": [
    "def run(p):\n",
    "    L=p\n",
    "    params=Params(delta=0,L=p,T=np.inf,E0=0,dE=1)\n",
    "    LN=params.log_neg(np.arange(L),np.arange(L)+2*L)\n",
    "    return LN,params.E_mean"
   ],
   "outputs": [],
   "metadata": {}
  },
  {
   "cell_type": "code",
   "execution_count": null,
   "source": [
    "run(64)"
   ],
   "outputs": [],
   "metadata": {}
  },
  {
   "cell_type": "code",
   "execution_count": null,
   "source": [
    "es=2000\n",
    "L=128\n",
    "LN_no_en_list=[]\n",
    "E_mean_no_list=[]\n",
    "inputs=[L for _ in range(es)]\n",
    "async_result=rc[:].map_sync(run,inputs)\n",
    "for results in async_result:\n",
    "    LN,en=results\n",
    "    LN_no_en_list.append(LN)\n",
    "    E_mean_no_list.append(en)\n",
    "    "
   ],
   "outputs": [],
   "metadata": {}
  },
  {
   "cell_type": "code",
   "execution_count": null,
   "source": [
    "fig,ax=plt.subplots()\n",
    "ax.scatter(E_mean_no_list,np.array(LN_no_en_list)/np.log(2),s=1)"
   ],
   "outputs": [],
   "metadata": {}
  },
  {
   "cell_type": "code",
   "execution_count": null,
   "source": [
    "fig,ax=plt.subplots()\n",
    "ax.scatter(E_mean_no_list,np.array(LN_no_en_list)/np.log(2),s=1)"
   ],
   "outputs": [],
   "metadata": {}
  },
  {
   "cell_type": "code",
   "execution_count": 38,
   "source": [
    "def run_onsite(p):\n",
    "    L=p\n",
    "    params=Params(delta=0,L=p,T=np.inf,E0=0,dE=1)\n",
    "    params.measure_all_Born(type='onsite')\n",
    "    LN=params.log_neg(np.arange(L),np.arange(L)+2*L)\n",
    "    return LN,params.E_mean"
   ],
   "outputs": [],
   "metadata": {}
  },
  {
   "cell_type": "code",
   "execution_count": 40,
   "source": [
    "params=Params(delta=0,L=128,T=np.inf,E0=0,dE=0.05)"
   ],
   "outputs": [],
   "metadata": {}
  },
  {
   "cell_type": "code",
   "execution_count": 42,
   "source": [
    "params.measure_all_Born(type='onsite')\n",
    "params.log_neg(np.arange(params.L//2),np.arange(params.L//2)+params.L)"
   ],
   "outputs": [
    {
     "output_type": "execute_result",
     "data": {
      "text/plain": [
       "18.135661797659782"
      ]
     },
     "metadata": {},
     "execution_count": 42
    }
   ],
   "metadata": {}
  },
  {
   "cell_type": "code",
   "execution_count": 43,
   "source": [
    "params.measure_all_Born(type='onsite',proj_range=np.arange(params.L//2,params.L)+params.L)\n",
    "params.log_neg(np.arange(params.L//2),np.arange(params.L//2)+params.L)"
   ],
   "outputs": [
    {
     "output_type": "execute_result",
     "data": {
      "text/plain": [
       "29.689481785565146"
      ]
     },
     "metadata": {},
     "execution_count": 43
    }
   ],
   "metadata": {}
  },
  {
   "cell_type": "code",
   "execution_count": null,
   "source": [
    "es=2000\n",
    "L=64\n",
    "LN_onsite_en_list=[]\n",
    "E_mean_onsite_list=[]\n",
    "inputs=[L for _ in range(es)]\n",
    "async_result=rc[:].map_sync(run_onsite,inputs)\n",
    "for results in async_result:\n",
    "    LN,en=results\n",
    "    LN_onsite_en_list.append(LN)\n",
    "    E_mean_onsite_list.append(en)\n",
    "    "
   ],
   "outputs": [],
   "metadata": {}
  },
  {
   "cell_type": "code",
   "execution_count": null,
   "source": [
    "fig,ax=plt.subplots()\n",
    "ax.scatter(E_mean_onsite_list,np.array(LN_onsite_en_list)/np.log(2),s=1)"
   ],
   "outputs": [],
   "metadata": {}
  },
  {
   "cell_type": "code",
   "execution_count": null,
   "source": [
    "def run_link(p):\n",
    "    L=p\n",
    "    params=Params(delta=0,L=p,T=np.inf,E0=0,dE=1)\n",
    "    params.measure_all_Born(type='link')\n",
    "    LN=params.log_neg(np.arange(L),np.arange(L)+2*L)\n",
    "    return LN,params.E_mean"
   ],
   "outputs": [],
   "metadata": {}
  },
  {
   "cell_type": "code",
   "execution_count": null,
   "source": [
    "es=2000\n",
    "L=64\n",
    "LN_link_en_list=[]\n",
    "E_mean_link_list=[]\n",
    "inputs=[L for _ in range(es)]\n",
    "async_result=rc[:].map_sync(run,inputs)\n",
    "for results in async_result:\n",
    "    LN,en=results\n",
    "    LN_link_en_list.append(LN)\n",
    "    E_mean_link_list.append(en)\n",
    "    "
   ],
   "outputs": [],
   "metadata": {}
  },
  {
   "cell_type": "code",
   "execution_count": null,
   "source": [
    "fig,ax=plt.subplots()\n",
    "ax.scatter(E_mean_link_list,np.array(LN_link_en_list)/np.log(2),s=1)\n",
    "ax.set_xlabel('$\\\\frac{E_{\\\\rm{tot}}}{L}$')\n",
    "ax.set_ylabel('log neg [log 2]')\n"
   ],
   "outputs": [],
   "metadata": {}
  },
  {
   "cell_type": "code",
   "execution_count": 43,
   "source": [
    "L=128\n",
    "params=Params(delta=0,L=L,T=np.inf,E0=0,dE=0.05)\n",
    "params.log_neg(np.arange(L),np.arange(L)+2*L)"
   ],
   "outputs": [
    {
     "output_type": "execute_result",
     "data": {
      "text/plain": [
       "13.528565315494589"
      ]
     },
     "metadata": {},
     "execution_count": 43
    }
   ],
   "metadata": {}
  },
  {
   "cell_type": "code",
   "execution_count": 18,
   "source": [
    "z=np.random.choice([0,1],size=1000,p=[1-p_rate,p_rate])"
   ],
   "outputs": [],
   "metadata": {}
  },
  {
   "cell_type": "code",
   "execution_count": null,
   "source": [
    "sum(z)"
   ],
   "outputs": [],
   "metadata": {}
  },
  {
   "cell_type": "code",
   "execution_count": 48,
   "source": [
    "p_rate=1\n",
    "subAB=np.hstack((np.arange(0,L,2),np.arange(0,L,2)+2*L))\n",
    "proj_range_bool=np.random.choice([0,1],size=subAB.shape[0],p=[1-p_rate,p_rate])\n",
    "proj_range=subAB[proj_range_bool==1]\n",
    "params.measure_all_Born(type='onsite',proj_range=proj_range)\n",
    "params.log_neg(np.arange(L),np.arange(L)+2*L)"
   ],
   "outputs": [
    {
     "output_type": "execute_result",
     "data": {
      "text/plain": [
       "0.0"
      ]
     },
     "metadata": {},
     "execution_count": 48
    }
   ],
   "metadata": {}
  },
  {
   "cell_type": "code",
   "execution_count": 51,
   "source": [
    "proj_range"
   ],
   "outputs": [
    {
     "output_type": "execute_result",
     "data": {
      "text/plain": [
       "array([  0,   2,   4,   6,   8,  10,  12,  14,  16,  18,  20,  22,  24,\n",
       "        26,  28,  30,  32,  34,  36,  38,  40,  42,  44,  46,  48,  50,\n",
       "        52,  54,  56,  58,  60,  62,  64,  66,  68,  70,  72,  74,  76,\n",
       "        78,  80,  82,  84,  86,  88,  90,  92,  94,  96,  98, 100, 102,\n",
       "       104, 106, 108, 110, 112, 114, 116, 118, 120, 122, 124, 126, 256,\n",
       "       258, 260, 262, 264, 266, 268, 270, 272, 274, 276, 278, 280, 282,\n",
       "       284, 286, 288, 290, 292, 294, 296, 298, 300, 302, 304, 306, 308,\n",
       "       310, 312, 314, 316, 318, 320, 322, 324, 326, 328, 330, 332, 334,\n",
       "       336, 338, 340, 342, 344, 346, 348, 350, 352, 354, 356, 358, 360,\n",
       "       362, 364, 366, 368, 370, 372, 374, 376, 378, 380, 382])"
      ]
     },
     "metadata": {},
     "execution_count": 51
    }
   ],
   "metadata": {}
  },
  {
   "cell_type": "code",
   "execution_count": null,
   "source": [
    "params.measure_all_Born(type='onsite',proj_range=np.arange(params.L*3,params.L*4,2))\n",
    "params.log_neg(np.arange(L),np.arange(L)+2*L)"
   ],
   "outputs": [],
   "metadata": {}
  },
  {
   "cell_type": "code",
   "execution_count": 8,
   "source": [
    "LN_loglaw={}\n",
    "MI_loglaw={}"
   ],
   "outputs": [],
   "metadata": {}
  },
  {
   "cell_type": "code",
   "execution_count": 64,
   "source": [
    "L"
   ],
   "outputs": [
    {
     "output_type": "execute_result",
     "data": {
      "text/plain": [
       "16"
      ]
     },
     "metadata": {},
     "execution_count": 64
    }
   ],
   "metadata": {}
  },
  {
   "cell_type": "code",
   "execution_count": 63,
   "source": [
    "\n",
    "subAB"
   ],
   "outputs": [
    {
     "output_type": "execute_result",
     "data": {
      "text/plain": [
       "array([ 0,  1,  2,  3,  4,  5,  6,  7, 16, 17, 18, 19, 20, 21, 22, 23])"
      ]
     },
     "metadata": {},
     "execution_count": 63
    }
   ],
   "metadata": {}
  },
  {
   "cell_type": "code",
   "execution_count": 68,
   "source": [
    "es=20\n",
    "p_rate_list=[0,0.5]\n",
    "# L_list=np.arange(16,256+1,32)\n",
    "L_list=2**np.arange(4,9)\n",
    "for p_rate in p_rate_list:\n",
    "    LN_loglaw[p_rate]=np.zeros((len(L_list),es))\n",
    "    MI_loglaw[p_rate]=np.zeros((len(L_list),es))\n",
    "    for L_i,L in enumerate(L_list):\n",
    "        subAB=np.hstack((np.arange(0,L//2),np.arange(0,L//2)+L))\n",
    "        for es_i in np.arange(es):\n",
    "            params=Params(delta=0,L=L,T=np.inf,E0=0,dE=0.05)\n",
    "            proj_range_bool=np.random.choice([0,1],size=subAB.shape[0],p=[1-p_rate,p_rate])\n",
    "            proj_range=subAB[proj_range_bool==1]   \n",
    "            params.measure_all_Born(type='onsite',proj_range=proj_range)\n",
    "            LN_loglaw[p_rate][L_i,es_i]=params.log_neg(np.arange(L//2),np.arange(L//2)+L)\n",
    "            MI_loglaw[p_rate][L_i,es_i]=params.mutual_information_m(np.arange(L//2),np.arange(L//2)+L)"
   ],
   "outputs": [],
   "metadata": {}
  },
  {
   "cell_type": "code",
   "execution_count": 24,
   "source": [
    "es=20\n",
    "p_rate_list=[0,0.2,0.4,.6,.8]\n",
    "L_list=np.arange(16,256+1,16)\n",
    "# L_list=2**np.arange(4,9)\n",
    "def run(p):\n",
    "    L,p_rate=p\n",
    "    subAB=np.hstack((np.arange(0,L//2),np.arange(0,L//2)+L))\n",
    "    params=Params(delta=0,L=L,T=np.inf,E0=0,dE=0.05)\n",
    "    proj_range_bool=np.random.choice([0,1],size=subAB.shape[0],p=[1-p_rate,p_rate])\n",
    "    proj_range=subAB[proj_range_bool==1]   \n",
    "    params.measure_all_Born(type='onsite',proj_range=proj_range)\n",
    "    LN=params.log_neg(np.arange(L//2),np.arange(L//2)+L)\n",
    "    MI=params.mutual_information_m(np.arange(L//2),np.arange(L//2)+L)\n",
    "    return LN,MI\n",
    "\n",
    "for p_rate in p_rate_list:\n",
    "    LN_loglaw[p_rate]=np.zeros((len(L_list),es))\n",
    "    MI_loglaw[p_rate]=np.zeros((len(L_list),es))\n",
    "    for L_i,L in enumerate(L_list):\n",
    "        sync_results=rc[:].map_sync(run,[(L,p_rate)]*es)\n",
    "        for es_i,results in enumerate(sync_results):\n",
    "            LN,MI=results\n",
    "            LN_loglaw[p_rate][L_i,es_i]=LN\n",
    "            MI_loglaw[p_rate][L_i,es_i]=MI\n"
   ],
   "outputs": [],
   "metadata": {}
  },
  {
   "cell_type": "code",
   "execution_count": 32,
   "source": [
    "fig,ax=plt.subplots(2,1,sharex=True)\n",
    "for p in p_rate_list[4:]:\n",
    "    ax[0].errorbar(L_list,LN_loglaw[p].mean(axis=1),LN_loglaw[p].std(axis=1)/np.sqrt(es),fmt='.-',capsize=3,label='$p$={:.1f}'.format(p))\n",
    "    ax[1].errorbar(L_list,MI_loglaw[p].mean(axis=1),MI_loglaw[p].std(axis=1)/np.sqrt(es),fmt='.-',capsize=3,label='$p$={:.1f}'.format(p))\n",
    "[ax.set_xscale('log') for ax in ax]\n",
    "ax[1].set_xlabel('$L$')\n",
    "ax[0].set_ylabel('log neg')\n",
    "ax[1].set_ylabel('mutual information')\n",
    "ax[0].legend()\n",
    "ax[1].legend()"
   ],
   "outputs": [
    {
     "output_type": "execute_result",
     "data": {
      "text/plain": [
       "<matplotlib.legend.Legend at 0x7f04c5ccb7f0>"
      ]
     },
     "metadata": {},
     "execution_count": 32
    },
    {
     "output_type": "display_data",
     "data": {
      "text/plain": [
       "<Figure size 489.6x288 with 2 Axes>"
      ],
      "image/png": "[encoded data removed]"
     },
     "metadata": {
      "needs_background": "light"
     }
    }
   ],
   "metadata": {}
  },
  {
   "cell_type": "code",
   "execution_count": 29,
   "source": [
    "fig,ax=plt.subplots(2,1,sharex=True)\n",
    "for p in p_rate_list[1:]:\n",
    "    ax[0].errorbar(L_list,LN_loglaw[p].mean(axis=1),LN_loglaw[p].std(axis=1)/np.sqrt(es),fmt='.-',capsize=3,label='$p$={:.1f}'.format(p))\n",
    "    ax[1].errorbar(L_list,MI_loglaw[p].mean(axis=1),MI_loglaw[p].std(axis=1)/np.sqrt(es),fmt='.-',capsize=3,label='$p$={:.1f}'.format(p))\n",
    "[ax.set_xscale('log') for ax in ax]\n",
    "ax[1].set_xlabel('$L$')\n",
    "ax[0].set_ylabel('log neg')\n",
    "ax[1].set_ylabel('mutual information')\n",
    "ax[0].legend()\n",
    "ax[1].legend()\n",
    "plt.savefig('/mnt/d/kitp/Rp_SPT/11/loglaw_onsite.pdf')"
   ],
   "outputs": [
    {
     "output_type": "display_data",
     "data": {
      "text/plain": [
       "<Figure size 489.6x288 with 2 Axes>"
      ],
      "image/png": "[encoded data removed]"
     },
     "metadata": {
      "needs_background": "light"
     }
    }
   ],
   "metadata": {}
  },
  {
   "cell_type": "code",
   "execution_count": 12,
   "source": [
    "LN_loglaw_link={}\n",
    "MI_loglaw_link={}"
   ],
   "outputs": [],
   "metadata": {}
  },
  {
   "cell_type": "code",
   "execution_count": 25,
   "source": [
    "es=20\n",
    "p_rate_list=[0,0.2,0.4,.6,.8]\n",
    "L_list=np.arange(16,256+1,16)\n",
    "# L_list=2**np.arange(4,9)\n",
    "\n",
    "def run(p):\n",
    "    L,p_rate=p\n",
    "    subAB=np.hstack((np.arange(0,L//2,2),np.arange(0,L//2,2)+L))\n",
    "    params=Params(delta=0,L=L,T=np.inf,E0=0,dE=0.05)\n",
    "    proj_range_bool=np.random.choice([0,1],size=subAB.shape[0],p=[1-p_rate,p_rate])\n",
    "    proj_range=subAB[proj_range_bool==1]   \n",
    "    params.measure_all_Born(type='link',proj_range=proj_range)\n",
    "    LN=params.log_neg(np.arange(L//2),np.arange(L//2)+L)\n",
    "    MI=params.mutual_information_m(np.arange(L//2),np.arange(L//2)+L)\n",
    "    return LN,MI\n",
    "\n",
    "for p_rate in p_rate_list:\n",
    "    LN_loglaw_link[p_rate]=np.zeros((len(L_list),es))\n",
    "    MI_loglaw_link[p_rate]=np.zeros((len(L_list),es))\n",
    "    for L_i,L in enumerate(L_list):\n",
    "        sync_results=rc[:].map_sync(run,[(L,p_rate)]*es)\n",
    "        for es_i,results in enumerate(sync_results):\n",
    "            LN,MI=results\n",
    "            LN_loglaw_link[p_rate][L_i,es_i]=LN\n",
    "            MI_loglaw_link[p_rate][L_i,es_i]=MI\n"
   ],
   "outputs": [],
   "metadata": {}
  },
  {
   "cell_type": "code",
   "execution_count": 26,
   "source": [
    "fig,ax=plt.subplots(2,1,sharex=True)\n",
    "for p in p_rate_list:\n",
    "    ax[0].errorbar(L_list,LN_loglaw_link[p].mean(axis=1),LN_loglaw_link[p].std(axis=1)/np.sqrt(es),fmt='.-',capsize=3,label='$p$={:.1f}'.format(p))\n",
    "    ax[1].errorbar(L_list,MI_loglaw_link[p].mean(axis=1),MI_loglaw_link[p].std(axis=1)/np.sqrt(es),fmt='.-',capsize=3,label='$p$={:.1f}'.format(p))\n",
    "[ax.set_xscale('log') for ax in ax]\n",
    "ax[1].set_xlabel('$L$')\n",
    "ax[0].set_ylabel('log neg')\n",
    "ax[1].set_ylabel('mutual information')\n",
    "ax[0].legend()\n",
    "ax[1].legend()\n",
    "plt.savefig('/mnt/d/kitp/Rp_SPT/11/loglaw_link.pdf')"
   ],
   "outputs": [
    {
     "output_type": "display_data",
     "data": {
      "text/plain": [
       "<Figure size 489.6x288 with 2 Axes>"
      ],
      "image/png": "[encoded data removed]"
     },
     "metadata": {
      "needs_background": "light"
     }
    }
   ],
   "metadata": {}
  },
  {
   "cell_type": "code",
   "execution_count": 44,
   "source": [
    "with open('/mnt/d/kitp/Rp_SPT/11/inf_T_SSH_no.pickle','rb') as f:\n",
    "    MI_no_dict,LN_no_dict,E_no_mean=pickle.load(f)"
   ],
   "outputs": [],
   "metadata": {}
  },
  {
   "cell_type": "code",
   "execution_count": 45,
   "source": [
    "# with open('inf_T_SSH_onsite_Ap_R.pickle','rb') as f:\n",
    "with open('/mnt/d/kitp/Rp_SPT/11/inf_T_SSH_onsite_Ap_R.pickle','rb') as f:\n",
    "    MI_onsite_R_dict,LN_onsite_R_dict,E_onsite_R_mean=pickle.load(f)"
   ],
   "outputs": [],
   "metadata": {}
  },
  {
   "cell_type": "code",
   "execution_count": 46,
   "source": [
    "with open('/mnt/d/kitp/Rp_SPT/11/inf_T_SSH_onsite.pickle','rb') as f:\n",
    "    MI_onsite_dict,LN_onsite_dict,E_onsite_mean=pickle.load(f)"
   ],
   "outputs": [],
   "metadata": {}
  },
  {
   "cell_type": "code",
   "execution_count": 47,
   "source": [
    "with open('/mnt/d/kitp/Rp_SPT/11/inf_T_SSH_onsite_ApBp.pickle','rb') as f:\n",
    "    MI_onsite_ApBp_dict,LN_onsite_ApBp_dict,E_onsite_ApBp_mean=pickle.load(f)"
   ],
   "outputs": [],
   "metadata": {}
  },
  {
   "cell_type": "code",
   "execution_count": 48,
   "source": [
    "with open('/mnt/d/kitp/Rp_SPT/11/inf_T_SSH_link.pickle','rb') as f:\n",
    "    MI_link_dict,LN_link_dict,E_link_mean=pickle.load(f)"
   ],
   "outputs": [],
   "metadata": {}
  },
  {
   "cell_type": "code",
   "execution_count": null,
   "source": [
    "with open('/mnt/d/kitp/Rp_SPT/11/inf_T_SSH_link_Ap_R.pickle','rb') as f:\n",
    "    MI_link_R_dict,LN_link_R_dict,E_link_R_mean=pickle.load(f)"
   ],
   "outputs": [],
   "metadata": {}
  },
  {
   "cell_type": "code",
   "execution_count": 49,
   "source": [
    "with open('/mnt/d/kitp/Rp_SPT/11/inf_T_SSH_link_ApBp.pickle','rb') as f:\n",
    "# with open('inf_T_SSH_link_ApBp.pickle','rb') as f:\n",
    "    MI_link_ApBp_dict,LN_link_ApBp_dict,E_link_ApBp_mean=pickle.load(f)"
   ],
   "outputs": [],
   "metadata": {}
  },
  {
   "cell_type": "code",
   "execution_count": 50,
   "source": [
    "E_no_128_mean=np.array(E_no_mean[128])\n",
    "MI_no_128=np.array(MI_no_dict[128])\n",
    "LN_no_128=np.array(LN_no_dict[128])"
   ],
   "outputs": [],
   "metadata": {}
  },
  {
   "cell_type": "code",
   "execution_count": 51,
   "source": [
    "E_list=np.arange(-0.2,0.2,0.05)\n",
    "MI_no_128_mean=[]\n",
    "LN_no_128_mean=[]\n",
    "ensemble_no_128=[]\n",
    "for E in E_list:\n",
    "    dE=0.05\n",
    "    mask=np.logical_and((E-dE)<E_no_128_mean,E_no_128_mean<(E+dE))\n",
    "    ensemble_no_128.append(LN_no_128[(mask)].shape[0])\n",
    "    MI_no_128_mean.append(MI_no_128[mask].mean())\n",
    "    LN_no_128_mean.append(LN_no_128[mask].mean())"
   ],
   "outputs": [],
   "metadata": {}
  },
  {
   "cell_type": "code",
   "execution_count": 52,
   "source": [
    "ensemble_no_128"
   ],
   "outputs": [
    {
     "output_type": "execute_result",
     "data": {
      "text/plain": [
       "[391, 1166, 2413, 3706, 4315, 3751, 2391, 1149]"
      ]
     },
     "metadata": {},
     "execution_count": 52
    }
   ],
   "metadata": {}
  },
  {
   "cell_type": "code",
   "execution_count": 53,
   "source": [
    "LN_no_128_mean/np.log(2)"
   ],
   "outputs": [
    {
     "output_type": "execute_result",
     "data": {
      "text/plain": [
       "array([18.89184254, 19.04071668, 19.06864365, 19.08434222, 19.14236105,\n",
       "       19.19477582, 19.11194506, 18.95236083])"
      ]
     },
     "metadata": {},
     "execution_count": 53
    }
   ],
   "metadata": {}
  },
  {
   "cell_type": "code",
   "execution_count": 54,
   "source": [
    "MI_no_128_mean/np.log(2)"
   ],
   "outputs": [
    {
     "output_type": "execute_result",
     "data": {
      "text/plain": [
       "array([32.88224414, 33.09319548, 33.05839171, 33.01313326, 33.10064417,\n",
       "       33.21014435, 33.11345487, 32.93007312])"
      ]
     },
     "metadata": {},
     "execution_count": 54
    }
   ],
   "metadata": {}
  },
  {
   "cell_type": "code",
   "execution_count": 55,
   "source": [
    "E_onsite_128_mean=np.array(E_onsite_mean[128])\n",
    "LN_onsite_128=np.array(LN_onsite_dict[128])"
   ],
   "outputs": [],
   "metadata": {}
  },
  {
   "cell_type": "code",
   "execution_count": 56,
   "source": [
    "E_list=np.arange(-0.2,0.2,0.05)\n",
    "LN_onsite_128_mean=[]\n",
    "ensemble_onsite_128=[]\n",
    "for E in E_list:\n",
    "    dE=0.05\n",
    "    mask=np.logical_and((E-dE)<E_onsite_128_mean,E_onsite_128_mean<(E+dE))\n",
    "    ensemble_onsite_128.append(LN_onsite_128[(mask)].shape[0])\n",
    "    LN_onsite_128_mean.append(LN_onsite_128[mask].mean())"
   ],
   "outputs": [],
   "metadata": {}
  },
  {
   "cell_type": "code",
   "execution_count": 57,
   "source": [
    "ensemble_onsite_128"
   ],
   "outputs": [
    {
     "output_type": "execute_result",
     "data": {
      "text/plain": [
       "[431, 1178, 2424, 3686, 4233, 3724, 2418, 1168]"
      ]
     },
     "metadata": {},
     "execution_count": 57
    }
   ],
   "metadata": {}
  },
  {
   "cell_type": "code",
   "execution_count": 58,
   "source": [
    "E_list=np.arange(-0.2,0.2,0.05)\n",
    "LN_onsite_ApBp_128_mean=[]\n",
    "ensemble_onsite_ApBp_128=[]\n",
    "for E in E_list:\n",
    "    dE=0.05\n",
    "    mask=np.logical_and((E-dE)<E_onsite_ApBp_128_mean,E_onsite_ApBp_128_mean<(E+dE))\n",
    "    ensemble_onsite_ApBp_128.append(LN_onsite_ApBp_128[(mask)].shape[0])\n",
    "    LN_onsite_ApBp_128_mean.append(LN_onsite_ApBp_128[mask].mean())"
   ],
   "outputs": [
    {
     "output_type": "error",
     "ename": "NameError",
     "evalue": "name 'E_onsite_ApBp_128_mean' is not defined",
     "traceback": [
      "\u001b[0;31m---------------------------------------------------------------------------\u001b[0m",
      "\u001b[0;31mNameError\u001b[0m                                 Traceback (most recent call last)",
      "\u001b[0;32m<ipython-input-58-ed6ca0a78753>\u001b[0m in \u001b[0;36m<module>\u001b[0;34m\u001b[0m\n\u001b[1;32m      4\u001b[0m \u001b[0;32mfor\u001b[0m \u001b[0mE\u001b[0m \u001b[0;32min\u001b[0m \u001b[0mE_list\u001b[0m\u001b[0;34m:\u001b[0m\u001b[0;34m\u001b[0m\u001b[0;34m\u001b[0m\u001b[0m\n\u001b[1;32m      5\u001b[0m     \u001b[0mdE\u001b[0m\u001b[0;34m=\u001b[0m\u001b[0;36m0.05\u001b[0m\u001b[0;34m\u001b[0m\u001b[0;34m\u001b[0m\u001b[0m\n\u001b[0;32m----> 6\u001b[0;31m     \u001b[0mmask\u001b[0m\u001b[0;34m=\u001b[0m\u001b[0mnp\u001b[0m\u001b[0;34m.\u001b[0m\u001b[0mlogical_and\u001b[0m\u001b[0;34m(\u001b[0m\u001b[0;34m(\u001b[0m\u001b[0mE\u001b[0m\u001b[0;34m-\u001b[0m\u001b[0mdE\u001b[0m\u001b[0;34m)\u001b[0m\u001b[0;34m<\u001b[0m\u001b[0mE_onsite_ApBp_128_mean\u001b[0m\u001b[0;34m,\u001b[0m\u001b[0mE_onsite_ApBp_128_mean\u001b[0m\u001b[0;34m<\u001b[0m\u001b[0;34m(\u001b[0m\u001b[0mE\u001b[0m\u001b[0;34m+\u001b[0m\u001b[0mdE\u001b[0m\u001b[0;34m)\u001b[0m\u001b[0;34m)\u001b[0m\u001b[0;34m\u001b[0m\u001b[0;34m\u001b[0m\u001b[0m\n\u001b[0m\u001b[1;32m      7\u001b[0m     \u001b[0mensemble_onsite_ApBp_128\u001b[0m\u001b[0;34m.\u001b[0m\u001b[0mappend\u001b[0m\u001b[0;34m(\u001b[0m\u001b[0mLN_onsite_ApBp_128\u001b[0m\u001b[0;34m[\u001b[0m\u001b[0;34m(\u001b[0m\u001b[0mmask\u001b[0m\u001b[0;34m)\u001b[0m\u001b[0;34m]\u001b[0m\u001b[0;34m.\u001b[0m\u001b[0mshape\u001b[0m\u001b[0;34m[\u001b[0m\u001b[0;36m0\u001b[0m\u001b[0;34m]\u001b[0m\u001b[0;34m)\u001b[0m\u001b[0;34m\u001b[0m\u001b[0;34m\u001b[0m\u001b[0m\n\u001b[1;32m      8\u001b[0m     \u001b[0mLN_onsite_ApBp_128_mean\u001b[0m\u001b[0;34m.\u001b[0m\u001b[0mappend\u001b[0m\u001b[0;34m(\u001b[0m\u001b[0mLN_onsite_ApBp_128\u001b[0m\u001b[0;34m[\u001b[0m\u001b[0mmask\u001b[0m\u001b[0;34m]\u001b[0m\u001b[0;34m.\u001b[0m\u001b[0mmean\u001b[0m\u001b[0;34m(\u001b[0m\u001b[0;34m)\u001b[0m\u001b[0;34m)\u001b[0m\u001b[0;34m\u001b[0m\u001b[0;34m\u001b[0m\u001b[0m\n",
      "\u001b[0;31mNameError\u001b[0m: name 'E_onsite_ApBp_128_mean' is not defined"
     ]
    }
   ],
   "metadata": {}
  },
  {
   "cell_type": "code",
   "execution_count": null,
   "source": [
    "ensemble_onsite_ApBp_128"
   ],
   "outputs": [],
   "metadata": {}
  },
  {
   "cell_type": "code",
   "execution_count": null,
   "source": [
    "E_link_128_mean=np.array(E_link_mean[128])\n",
    "LN_link_128=np.array(LN_link_dict[128])"
   ],
   "outputs": [],
   "metadata": {}
  },
  {
   "cell_type": "code",
   "execution_count": null,
   "source": [
    "E_list=np.arange(-0.2,0.2,0.05)\n",
    "LN_link_128_mean=[]\n",
    "ensemble_link_128=[]\n",
    "for E in E_list:\n",
    "    dE=0.05\n",
    "    mask=np.logical_and((E-dE)<E_link_128_mean,E_link_128_mean<(E+dE))\n",
    "    ensemble_link_128.append(LN_link_128[mask].shape[0])\n",
    "    LN_link_128_mean.append(LN_link_128[mask].mean())"
   ],
   "outputs": [],
   "metadata": {}
  },
  {
   "cell_type": "code",
   "execution_count": null,
   "source": [
    "E_link_ApBp_128_mean=np.array(E_link_ApBp_mean[128])\n",
    "LN_link_ApBp_128=np.array(LN_link_ApBp_dict[128])"
   ],
   "outputs": [],
   "metadata": {}
  },
  {
   "cell_type": "code",
   "execution_count": null,
   "source": [
    "E_list=np.arange(-0.2,0.2,0.05)\n",
    "LN_link_ApBp_128_mean=[]\n",
    "ensemble_link_ApBp_128=[]\n",
    "for E in E_list:\n",
    "    dE=0.05\n",
    "    mask=np.logical_and((E-dE)<E_link_ApBp_128_mean,E_link_ApBp_128_mean<(E+dE))\n",
    "    ensemble_link_ApBp_128.append(LN_link_ApBp_128[mask].shape[0])\n",
    "    LN_link_ApBp_128_mean.append(LN_link_ApBp_128[mask].mean())"
   ],
   "outputs": [],
   "metadata": {}
  },
  {
   "cell_type": "code",
   "execution_count": 59,
   "source": [
    "L_list=[]\n",
    "LN_no_mean_list=[]\n",
    "LN_no_std_list=[]\n",
    "\n",
    "for k,v in LN_no_dict.items():\n",
    "    L_list.append(k)\n",
    "    LN_no_mean_list.append(np.mean(v))\n",
    "    LN_no_std_list.append(np.std(v))\n",
    "LN_no_mean_list=np.array(LN_no_mean_list)\n",
    "LN_no_std_list=np.array(LN_no_std_list)"
   ],
   "outputs": [],
   "metadata": {}
  },
  {
   "cell_type": "code",
   "execution_count": 60,
   "source": [
    "L_list=[]\n",
    "LN_onsite_mean_list=[]\n",
    "LN_onsite_std_list=[]\n",
    "for k,v in LN_onsite_dict.items():\n",
    "    L_list.append(k)\n",
    "    LN_onsite_mean_list.append(np.mean(v))\n",
    "    LN_onsite_std_list.append(np.std(v))\n",
    "\n",
    "LN_onsite_mean_list=np.array(LN_onsite_mean_list)\n",
    "LN_onsite_std_list=np.array(LN_onsite_std_list)"
   ],
   "outputs": [],
   "metadata": {}
  },
  {
   "cell_type": "code",
   "execution_count": 61,
   "source": [
    "L_list=[]\n",
    "LN_onsite_ApBp_mean_list=[]\n",
    "LN_onsite_ApBp_std_list=[]\n",
    "for k,v in LN_onsite_ApBp_dict.items():\n",
    "    L_list.append(k)\n",
    "    LN_onsite_ApBp_mean_list.append(np.mean(v))\n",
    "    LN_onsite_ApBp_std_list.append(np.std(v))\n",
    "\n",
    "LN_onsite_ApBp_mean_list=np.array(LN_onsite_ApBp_mean_list)\n",
    "LN_onsite_ApBp_std_list=np.array(LN_onsite_ApBp_std_list)"
   ],
   "outputs": [],
   "metadata": {}
  },
  {
   "cell_type": "code",
   "execution_count": 62,
   "source": [
    "L_list=[]\n",
    "LN_link_mean_list=[]\n",
    "LN_link_std_list=[]\n",
    "for k,v in LN_link_dict.items():\n",
    "    L_list.append(k)\n",
    "    LN_link_mean_list.append(np.mean(v))\n",
    "    LN_link_std_list.append(np.std(v))\n",
    "LN_link_mean_list=np.array(LN_link_mean_list)\n",
    "LN_link_std_list=np.array(LN_link_std_list)"
   ],
   "outputs": [],
   "metadata": {}
  },
  {
   "cell_type": "code",
   "execution_count": 63,
   "source": [
    "L_list=[]\n",
    "LN_link_ApBp_mean_list=[]\n",
    "LN_link_ApBp_std_list=[]\n",
    "for k,v in LN_link_ApBp_dict.items():\n",
    "    L_list.append(k)\n",
    "    LN_link_ApBp_mean_list.append(np.mean(v))\n",
    "    LN_link_ApBp_std_list.append(np.std(v))\n",
    "LN_link_ApBp_mean_list=np.array(LN_link_ApBp_mean_list)\n",
    "LN_link_ApBp_std_list=np.array(LN_link_ApBp_std_list)"
   ],
   "outputs": [],
   "metadata": {}
  },
  {
   "cell_type": "code",
   "execution_count": null,
   "source": [
    "fig,ax=plt.subplots()\n",
    "# ax.errorbar(L_list,LN_no_mean_list/np.log(2),LN_no_std_list/np.log(2),fmt='.-',label='no')\n",
    "# ax.errorbar(L_list,LN_onsite_mean_list/np.log(2),LN_onsite_std_list/np.log(2),fmt='.-',label='onsite')\n",
    "ax.errorbar(L_list,LN_onsite_ApBp_mean_list/np.log(2),LN_onsite_std_list/np.log(2),fmt='.-',label='onsite')\n",
    "# ax.errorbar(L_list,LN_link_mean_list/np.log(2),LN_link_std_list/np.log(2),fmt='.-',label='link')\n",
    "ax.set_xlabel('$L$')\n",
    "ax.set_ylabel('Log neg [log 2]')\n",
    "ax.legend()\n",
    "# fig.savefig('/mnt/d/kitp/Rp_SPT/11/LN_L_delta0.pdf')"
   ],
   "outputs": [],
   "metadata": {}
  },
  {
   "cell_type": "code",
   "execution_count": 64,
   "source": [
    "LN_no_mean_E0_list=[]\n",
    "LN_no_std_E0_list=[]\n",
    "MI_no_mean_E0_list=[]\n",
    "MI_no_std_E0_list=[]\n",
    "E=0\n",
    "dE=0.05\n",
    "L_list=np.array([16, 32, 64, 96, 128, 192, 256])\n",
    "for L in L_list:\n",
    "    energy=np.array(E_no_mean[L])\n",
    "    logneg=np.array(LN_no_dict[L])\n",
    "    mutinfo=np.array(MI_no_dict[L])\n",
    "    mask=np.logical_and((E-dE)<energy,energy<(E+dE))\n",
    "    LN_no_mean_E0_list.append(np.mean(logneg[mask]))\n",
    "    LN_no_std_E0_list.append(np.std(logneg[mask]))\n",
    "    MI_no_mean_E0_list.append(np.mean(mutinfo[mask]))\n",
    "    MI_no_std_E0_list.append(np.std(mutinfo[mask]))\n"
   ],
   "outputs": [],
   "metadata": {}
  },
  {
   "cell_type": "code",
   "execution_count": 65,
   "source": [
    "LN_onsite_ApBp_mean_E0_list=[]\n",
    "LN_onsite_ApBp_std_E0_list=[]\n",
    "MI_onsite_ApBp_mean_E0_list=[]\n",
    "MI_onsite_ApBp_std_E0_list=[]\n",
    "E=0\n",
    "dE=0.05\n",
    "L_list=np.array([16, 32, 64, 96, 128, 192, 256])\n",
    "for L in L_list:\n",
    "    energy=np.array(E_onsite_ApBp_mean[L])\n",
    "    logneg=np.array(LN_onsite_ApBp_dict[L])\n",
    "    mutinfo=np.array(MI_onsite_ApBp_dict[L])\n",
    "    mask=np.logical_and((E-dE)<energy,energy<(E+dE))\n",
    "    LN_onsite_ApBp_mean_E0_list.append(np.mean(logneg[mask]))\n",
    "    LN_onsite_ApBp_std_E0_list.append(np.std(logneg[mask]))\n",
    "    MI_onsite_ApBp_mean_E0_list.append(np.mean(mutinfo[mask]))\n",
    "    MI_onsite_ApBp_std_E0_list.append(np.std(mutinfo[mask]))\n"
   ],
   "outputs": [],
   "metadata": {}
  },
  {
   "cell_type": "code",
   "execution_count": 66,
   "source": [
    "LN_onsite_mean_E0_list=[]\n",
    "LN_onsite_std_E0_list=[]\n",
    "MI_onsite_mean_E0_list=[]\n",
    "MI_onsite_std_E0_list=[]\n",
    "E=0\n",
    "dE=0.05\n",
    "L_list=np.array([16, 32, 64, 96, 128, 192, 256])\n",
    "for L in L_list:\n",
    "    energy=np.array(E_onsite_mean[L])\n",
    "    logneg=np.array(LN_onsite_dict[L])\n",
    "    mutinfo=np.array(MI_onsite_dict[L])\n",
    "    mask=np.logical_and((E-dE)<energy,energy<(E+dE))\n",
    "    LN_onsite_mean_E0_list.append(np.mean(logneg[mask]))\n",
    "    LN_onsite_std_E0_list.append(np.std(logneg[mask]))\n",
    "    MI_onsite_mean_E0_list.append(np.mean(mutinfo[mask]))\n",
    "    MI_onsite_std_E0_list.append(np.std(mutinfo[mask]))\n"
   ],
   "outputs": [],
   "metadata": {}
  },
  {
   "cell_type": "code",
   "execution_count": null,
   "source": [
    "LN_onsite_R_mean_E0_list=[]\n",
    "LN_onsite_R_std_E0_list=[]\n",
    "MI_onsite_R_mean_E0_list=[]\n",
    "MI_onsite_R_std_E0_list=[]\n",
    "E=0\n",
    "dE=0.05\n",
    "L_list=np.array([16, 32, 64, 96, 128, 192, 256])\n",
    "for L in L_list:\n",
    "    energy=np.array(E_onsite_R_mean[L])\n",
    "    logneg=np.array(LN_onsite_R_dict[L])\n",
    "    mutinfo=np.array(MI_onsite_R_dict[L])\n",
    "    mask=np.logical_and((E-dE)<energy,energy<(E+dE))\n",
    "    LN_onsite_R_mean_E0_list.append(np.mean(logneg[mask]))\n",
    "    LN_onsite_R_std_E0_list.append(np.std(logneg[mask]))\n",
    "    MI_onsite_R_mean_E0_list.append(np.mean(mutinfo[mask]))\n",
    "    MI_onsite_R_std_E0_list.append(np.std(mutinfo[mask]))\n"
   ],
   "outputs": [],
   "metadata": {}
  },
  {
   "cell_type": "code",
   "execution_count": 67,
   "source": [
    "LN_link_mean_E0_list=[]\n",
    "LN_link_std_E0_list=[]\n",
    "MI_link_mean_E0_list=[]\n",
    "MI_link_std_E0_list=[]\n",
    "E=0\n",
    "dE=0.05\n",
    "L_list=np.array([16, 32, 64, 96, 128, 192, 256])\n",
    "for L in L_list:\n",
    "    energy=np.array(E_link_mean[L])\n",
    "    logneg=np.array(LN_link_dict[L])\n",
    "    mutinfo=np.array(MI_link_dict[L])\n",
    "    mask=np.logical_and((E-dE)<energy,energy<(E+dE))\n",
    "    LN_link_mean_E0_list.append(np.mean(logneg[mask]))\n",
    "    LN_link_std_E0_list.append(np.std(logneg[mask]))\n",
    "    MI_link_mean_E0_list.append(np.mean(mutinfo[mask]))\n",
    "    MI_link_std_E0_list.append(np.std(mutinfo[mask]))\n"
   ],
   "outputs": [],
   "metadata": {}
  },
  {
   "cell_type": "code",
   "execution_count": null,
   "source": [
    "LN_link_R_mean_E0_list=[]\n",
    "LN_link_R_std_E0_list=[]\n",
    "MI_link_R_mean_E0_list=[]\n",
    "MI_link_R_std_E0_list=[]\n",
    "E=0\n",
    "dE=0.05\n",
    "L_list=np.array([16, 32, 64, 96, 128, 192, 256])\n",
    "for L in L_list:\n",
    "    energy=np.array(E_link_R_mean[L])\n",
    "    logneg=np.array(LN_link_R_dict[L])\n",
    "    mutinfo=np.array(MI_link_R_dict[L])\n",
    "    mask=np.logical_and((E-dE)<energy,energy<(E+dE))\n",
    "    LN_link_R_mean_E0_list.append(np.mean(logneg[mask]))\n",
    "    LN_link_R_std_E0_list.append(np.std(logneg[mask]))\n",
    "    MI_link_R_mean_E0_list.append(np.mean(mutinfo[mask]))\n",
    "    MI_link_R_std_E0_list.append(np.std(mutinfo[mask]))\n"
   ],
   "outputs": [],
   "metadata": {}
  },
  {
   "cell_type": "code",
   "execution_count": 68,
   "source": [
    "LN_link_ApBp_mean_E0_list=[]\n",
    "LN_link_ApBp_std_E0_list=[]\n",
    "MI_link_ApBp_mean_E0_list=[]\n",
    "MI_link_ApBp_std_E0_list=[]\n",
    "E=0\n",
    "dE=0.05\n",
    "L_list=np.array([16, 32, 64, 96, 128, 192, 256])\n",
    "for L in L_list:\n",
    "    energy=np.array(E_link_ApBp_mean[L])\n",
    "    logneg=np.array(LN_link_ApBp_dict[L])\n",
    "    mutinfo=np.array(MI_link_ApBp_dict[L])\n",
    "    mask=np.logical_and((E-dE)<energy,energy<(E+dE))\n",
    "    LN_link_ApBp_mean_E0_list.append(np.mean(logneg[mask]))\n",
    "    LN_link_ApBp_std_E0_list.append(np.std(logneg[mask]))\n",
    "    MI_link_ApBp_mean_E0_list.append(np.mean(mutinfo[mask]))\n",
    "    MI_link_ApBp_std_E0_list.append(np.std(mutinfo[mask]))\n"
   ],
   "outputs": [],
   "metadata": {}
  },
  {
   "cell_type": "code",
   "execution_count": 71,
   "source": [
    "fig,ax=plt.subplots()\n",
    "\n",
    "ax.errorbar(2*L_list,LN_no_mean_E0_list,LN_no_std_E0_list,fmt='.',label='no',color='r')\n",
    "ax.errorbar(2*L_list,LN_onsite_mean_E0_list,LN_onsite_std_E0_list,fmt='.',label='onsite-$A^\\prime$',color='b')\n",
    "# ax.errorbar(2*L_list,LN_link_mean_E0_list,LN_link_std_E0_list,fmt='.',label='link-$A^\\prime$',color='y')\n",
    "# ax.errorbar(2*L_list,LN_onsite_R_mean_E0_list,LN_onsite_R_std_E0_list,fmt='.',label='onsite-random',color='b')\n",
    "# ax.errorbar(2*L_list,LN_link_R_mean_E0_list,LN_link_R_std_E0_list,fmt='.',label='link-random',color='y')\n",
    "ax.errorbar(2*L_list,LN_onsite_ApBp_mean_E0_list,LN_onsite_ApBp_std_E0_list,fmt='.',label='onsite-$A^\\prime\\cup B^\\prime$',color='b')\n",
    "# ax.errorbar(2*L_list,LN_link_ApBp_mean_E0_list,LN_link_ApBp_std_E0_list,fmt='.',label='link-$A^\\prime\\cup B^\\prime$',color='y')\n",
    "\n",
    "ax.set_xlabel('$N =2L$')\n",
    "ax.set_ylabel('Log negativity')\n",
    "\n",
    "lr_no=scipy.stats.linregress(L_list,LN_no_mean_E0_list)\n",
    "ax.plot(2*L_list,lr_no.slope*L_list+lr_no.intercept,color='r',label='({:.3f} N+{:.2f})'.format(.5*lr_no.slope,lr_no.intercept))\n",
    "lr_onsite=scipy.stats.linregress(L_list,LN_onsite_mean_E0_list)\n",
    "ax.plot(2*L_list,lr_onsite.slope*L_list+lr_onsite.intercept,color='b',label='({:.3f} N+{:.2f})'.format(.5*lr_onsite.slope,lr_onsite.intercept))\n",
    "# lr_link=scipy.stats.linregress(L_list,LN_link_ApBp_mean_E0_list)\n",
    "# ax.plot(2*L_list,lr_link.slope*L_list+lr_link.intercept,color='y',label='({:.3f} N+{:.2f})'.format(.5*lr_link.slope,lr_link.intercept))\n",
    "# lr_R_onsite=scipy.stats.linregress(L_list,LN_onsite_ApBp_mean_E0_list)\n",
    "# ax.plot(2*L_list,lr_R_onsite.slope*L_list+lr_R_onsite.intercept,color='b',label='({:.3f} N+{:.2f})'.format(.5*lr_R_onsite.slope,lr_R_onsite.intercept))\n",
    "# lr_R_link=scipy.stats.linregress(L_list,LN_link_ApBp_mean_E0_list)\n",
    "# ax.plot(2*L_list,lr_R_link.slope*L_list+lr_R_link.intercept,color='y',label='({:.3f} N+{:.2f})'.format(.5*lr_R_link.slope,lr_R_link.intercept))\n",
    "lr_ApBp_onsite=scipy.stats.linregress(L_list,LN_onsite_ApBp_mean_E0_list)\n",
    "ax.plot(2*L_list,lr_ApBp_onsite.slope*L_list+lr_ApBp_onsite.intercept,color='b',label='({:.3f} N+{:.2f})'.format(.5*lr_ApBp_onsite.slope,lr_ApBp_onsite.intercept))\n",
    "# lr_ApBp_link=scipy.stats.linregress(L_list,LN_link_ApBp_mean_E0_list)\n",
    "# ax.plot(2*L_list,lr_ApBp_link.slope*L_list+lr_ApBp_link.intercept,color='y',label='({:.3f} N+{:.2f})'.format(.5*lr_ApBp_link.slope,lr_ApBp_link.intercept))\n",
    "\n",
    "\n",
    "ax.legend()\n",
    "ax.set_title('E/L $\\in$(-0.05,0.05)')\n",
    "fig.savefig('/mnt/d/kitp/Rp_SPT/11/LN_L_delta0_E0.pdf')"
   ],
   "outputs": [
    {
     "output_type": "display_data",
     "data": {
      "text/plain": [
       "<Figure size 489.6x288 with 1 Axes>"
      ],
      "image/png": "[encoded data removed]"
     },
     "metadata": {
      "needs_background": "light"
     }
    }
   ],
   "metadata": {}
  },
  {
   "cell_type": "code",
   "execution_count": 73,
   "source": [
    "fig,ax=plt.subplots()\n",
    "\n",
    "ax.errorbar(2*L_list,MI_no_mean_E0_list,MI_no_std_E0_list,fmt='.',label='no',color='r')\n",
    "ax.errorbar(2*L_list,MI_onsite_mean_E0_list,MI_onsite_std_E0_list,fmt='.',label='onsite-$A^\\prime$',color='b')\n",
    "ax.errorbar(2*L_list,MI_onsite_ApBp_mean_E0_list,MI_onsite_std_E0_list,fmt='.',label='onsite-$A^\\prime\\cup B^\\prime$',color='b')\n",
    "# ax.errorbar(2*L_list,MI_link_mean_E0_list,MI_link_std_E0_list,fmt='.',label='link-$A^\\prime$',color='y')\n",
    "# ax.errorbar(2*L_list,MI_link_ApBp_mean_E0_list,MI_link_std_E0_list,fmt='.',label='link-$A^\\prime\\cup B^\\prime$',color='y')\n",
    "\n",
    "ax.set_xlabel('$N =2L$')\n",
    "ax.set_ylabel('Mutual information ')\n",
    "\n",
    "lr_no=scipy.stats.linregress(L_list,MI_no_mean_E0_list)\n",
    "ax.plot(2*L_list,lr_no.slope*L_list+lr_no.intercept,color='r',label='({:.3f} N+{:.3f})'.format(.5*lr_no.slope,lr_no.intercept))\n",
    "lr_onsite=scipy.stats.linregress(L_list,MI_onsite_mean_E0_list)\n",
    "ax.plot(2*L_list,lr_onsite.slope*L_list+lr_onsite.intercept,color='b',label='({:.3f} N+{:.3f})'.format(.5*lr_onsite.slope,lr_onsite.intercept))\n",
    "lr_ApBp_onsite=scipy.stats.linregress(L_list,MI_onsite_ApBp_mean_E0_list)\n",
    "ax.plot(2*L_list,lr_ApBp_onsite.slope*L_list+lr_ApBp_onsite.intercept,color='b',label='({:.3f} N+{:.3f})'.format(.5*lr_ApBp_onsite.slope,lr_ApBp_onsite.intercept))\n",
    "# lr_link=scipy.stats.linregress(L_list,MI_link_mean_E0_list)\n",
    "# ax.plot(2*L_list,lr_link.slope*L_list+lr_link.intercept,color='y',label='({:.3f} N+{:.3f})'.format(.5*lr_link.slope,lr_link.intercept))\n",
    "# lr_ApBp_link=scipy.stats.linregress(L_list,MI_link_mean_E0_list)\n",
    "# ax.plot(2*L_list,lr_ApBp_link.slope*L_list+lr_ApBp_link.intercept,color='y',label='({:.3f} N+{:.3f})'.format(.5*lr_ApBp_link.slope,lr_ApBp_link.intercept))\n",
    "\n",
    "\n",
    "ax.legend()\n",
    "ax.set_title('E/L $\\in$(-0.05,0.05)')\n",
    "fig.savefig('/mnt/d/kitp/Rp_SPT/11/MI_L_delta0_E0.pdf')"
   ],
   "outputs": [
    {
     "output_type": "display_data",
     "data": {
      "text/plain": [
       "<Figure size 489.6x288 with 1 Axes>"
      ],
      "image/png": "[encoded data removed]"
     },
     "metadata": {
      "needs_background": "light"
     }
    }
   ],
   "metadata": {}
  },
  {
   "cell_type": "code",
   "execution_count": null,
   "source": [
    "fig,ax=plt.subplots()\n",
    "L=64\n",
    "ax.scatter(E_no_mean[L],np.array(LN_no_dict[L])/np.log(2),s=1)\n",
    "ax.set_xlabel('$\\\\frac{E_{\\\\rm{tot}}}{L}$')\n",
    "ax.set_ylabel('log neg [log 2]')\n",
    "ax.set_title('L={}, no measurement'.format(L))"
   ],
   "outputs": [],
   "metadata": {}
  },
  {
   "cell_type": "code",
   "execution_count": null,
   "source": [
    "fig,ax=plt.subplots()\n",
    "L=64\n",
    "ax.scatter(E_onsite_mean[L],np.array(LN_onsite_dict[L])/np.log(2),s=1)\n",
    "ax.set_xlabel('$\\\\frac{E_{\\\\rm{tot}}}{L}$')\n",
    "ax.set_ylabel('log neg [log 2]')\n",
    "ax.set_title('L={}, onsite measurement'.format(L))"
   ],
   "outputs": [],
   "metadata": {}
  },
  {
   "cell_type": "code",
   "execution_count": null,
   "source": [
    "E_list=np.arange(-0.2,0.2,0.05)\n",
    "L=128\n",
    "LN_no_mean={}\n",
    "LN_no_std={}\n",
    "ensemble_no={}\n",
    "LN_no_mean[L]=[]\n",
    "LN_no_std[L]=[]\n",
    "ensemble_no[L]=[]\n",
    "LN_no= np.array(LN_no_dict[L])\n",
    "E_no=np.array(E_no_mean[L])\n",
    "for E in E_list:\n",
    "    dE=0.05\n",
    "    mask=np.logical_and((E-dE)<E_no_mean[L],E_no_mean[L]<(E+dE))\n",
    "    ensemble_no[L].append(LN_no[(mask)].shape[0])\n",
    "    LN_no_mean[L].append(LN_no[mask].mean())\n",
    "    LN_no_std[L].append(LN_no[mask].std()/np.sqrt(LN_no[(mask)].shape[0]))"
   ],
   "outputs": [],
   "metadata": {}
  },
  {
   "cell_type": "code",
   "execution_count": null,
   "source": [
    "E_list=np.arange(-0.2,0.2,0.05)\n",
    "# L=128\n",
    "LN_onsite_mean={}\n",
    "LN_onsite_std={}\n",
    "ensemble_onsite={}\n",
    "LN_onsite_mean[L]=[]\n",
    "LN_onsite_std[L]=[]\n",
    "ensemble_onsite[L]=[]\n",
    "LN_onsite= np.array(LN_onsite_dict[L])\n",
    "E_onsite=np.array(E_onsite_mean[L])\n",
    "for E in E_list:\n",
    "    dE=0.05\n",
    "    mask=np.logical_and((E-dE)<E_onsite_mean[L],E_onsite_mean[L]<(E+dE))\n",
    "    ensemble_onsite[L].append(LN_onsite[(mask)].shape[0])\n",
    "    LN_onsite_mean[L].append(LN_onsite[mask].mean())\n",
    "    LN_onsite_std[L].append(LN_onsite[mask].std()/np.sqrt(LN_onsite[(mask)].shape[0]))"
   ],
   "outputs": [],
   "metadata": {}
  },
  {
   "cell_type": "code",
   "execution_count": null,
   "source": [
    "E_list=np.arange(-0.2,0.2,0.05)\n",
    "# L=128\n",
    "LN_link_mean={}\n",
    "LN_link_std={}\n",
    "ensemble_link={}\n",
    "LN_link_mean[L]=[]\n",
    "LN_link_std[L]=[]\n",
    "ensemble_link[L]=[]\n",
    "LN_link= np.array(LN_link_dict[L])\n",
    "E_link=np.array(E_link_mean[L])\n",
    "for E in E_list:\n",
    "    dE=0.05\n",
    "    mask=np.logical_and((E-dE)<E_link_mean[L],E_link_mean[L]<(E+dE))\n",
    "    ensemble_link[L].append(LN_link[(mask)].shape[0])\n",
    "    LN_link_mean[L].append(LN_link[mask].mean())\n",
    "    LN_link_std[L].append(LN_link[mask].std()/np.sqrt(LN_link[(mask)].shape[0]))"
   ],
   "outputs": [],
   "metadata": {}
  },
  {
   "cell_type": "code",
   "execution_count": null,
   "source": [
    "fig,axs=plt.subplots(3,2,figsize=(6.8,6),tight_layout=True)\n",
    "# L=128\n",
    "\n",
    "ax=axs[0,0]\n",
    "ax.scatter(E_no_mean[L],np.array(LN_no_dict[L])/np.log(2),s=1)\n",
    "ax.set_ylabel('log neg [log 2]')\n",
    "ax.set_title('L={}, no measurement'.format(L))\n",
    "\n",
    "ax=axs[1,0]\n",
    "ax.scatter(E_onsite_mean[L],np.array(LN_onsite_dict[L])/np.log(2),s=1)\n",
    "ax.set_ylabel('log neg [log 2]')\n",
    "ax.set_title('L={}, onsite measurement'.format(L))\n",
    "\n",
    "ax=axs[2,0]\n",
    "ax.scatter(E_link_mean[L],np.array(LN_link_dict[L])/np.log(2),s=1)\n",
    "ax.set_xlabel('$\\\\frac{E_{\\\\rm{tot}}}{L}$')\n",
    "ax.set_ylabel('log neg [log 2]')\n",
    "ax.set_title('L={}, link measurement'.format(L))\n",
    "\n",
    "ax=axs[0,1]\n",
    "ax.errorbar(E_list,LN_no_mean[L]/np.log(2),LN_no_std[L]/np.log(2),fmt='.')\n",
    "ax.set_title('L={}, no measurement'.format(L))\n",
    "\n",
    "ax=axs[1,1]\n",
    "ax.errorbar(E_list,LN_onsite_mean[L]/np.log(2),LN_onsite_std[L]/np.log(2),fmt='.')\n",
    "ax.set_title('L={}, onsite measurement'.format(L))\n",
    "\n",
    "ax=axs[2,1]\n",
    "ax.errorbar(E_list,LN_link_mean[L]/np.log(2),LN_link_std[L]/np.log(2),fmt='.')\n",
    "ax.set_xlabel('center E')\n",
    "ax.set_title('L={}, link measurement'.format(L))\n",
    "\n",
    "\n",
    "# fig.savefig('/mnt/d/kitp/Rp_SPT/11/LN_purestate_L{}.pdf'.format(L))"
   ],
   "outputs": [],
   "metadata": {}
  },
  {
   "cell_type": "markdown",
   "source": [
    "# Class"
   ],
   "metadata": {}
  },
  {
   "cell_type": "code",
   "execution_count": null,
   "source": [
    "import numpy as np\n",
    "import scipy.sparse as sp\n",
    "import scipy.sparse.linalg as sla\n",
    "import scipy.linalg as la"
   ],
   "outputs": [],
   "metadata": {}
  },
  {
   "cell_type": "code",
   "execution_count": null,
   "source": [
    "class Params_o:\n",
    "    def __init__(self,\n",
    "    L=100,\n",
    "    v=1,\n",
    "    w=1,\n",
    "    T=0,\n",
    "    pbc=True):\n",
    "        self.L=L\n",
    "        self.v=v\n",
    "        self.w=w\n",
    "        self.T=T\n",
    "        self.pbc=pbc\n",
    "        band=np.vstack([np.ones(L)*v,np.ones(L)*w]).flatten('F')        \n",
    "        Ham=sp.diags(np.array([band[:-1],band[:-1]]),np.array([-1,1]),shape=(2*L,2*L)).tocsr()\n",
    "        Ham[0,2*L-1]=w*pbc\n",
    "        Ham[2*L-1,0]=w*pbc\n",
    "        self.Hamiltonian=Ham\n",
    "\n",
    "    def fermi_dist(self,energy,E_F):      \n",
    "        if self.T==0:\n",
    "            return np.heaviside(E_F-energy,0)\n",
    "        else:\n",
    "            return 1/(1+np.exp((energy-E_F)/self.T))\n",
    "\n",
    "    def bandstructure(self):\n",
    "        val,vec=la.eigh(self.Hamiltonian.toarray())\n",
    "        sortindex=np.argsort(val)\n",
    "        self.val=val[sortindex]\n",
    "        self.vec=vec[:,sortindex]\n",
    "\n",
    "    def covariance_matrix_loop(self):\n",
    "        '''\n",
    "        Use loop to calculate covariance matrix (deprecated)\n",
    "        '''\n",
    "        self.C_loop=np.zeros((2*self.L,2*self.L))\n",
    "        for i in range(2*self.L):\n",
    "            for j in range(2*self.L):\n",
    "                self.C_loop[i,j]=self.c_ij(i,j)\n",
    "\n",
    "    def covariance_matrix(self,E_F=0):\n",
    "        if not (hasattr(self,'val') and hasattr(self,'vec')):\n",
    "            self.bandstructure()\n",
    "        occupancy=self.fermi_dist(self.val,E_F)\n",
    "        occupancy_mat=np.matlib.repmat(self.fermi_dist(self.val,E_F),self.vec.shape[0],1)\n",
    "        self.C=(occupancy_mat*self.vec)@self.vec.T.conj()\n",
    "        \n",
    "\n",
    "\n",
    "    def c_ij(self,i,j,E_F=0):\n",
    "        if not (hasattr(self,'val') and hasattr(self,'vec')):\n",
    "            self.bandstructure()\n",
    "\n",
    "        occupancy=self.fermi_dist(self.val,E_F)\n",
    "        bra_i=self.vec[i,:] # c_i\n",
    "        ket_j=self.vec[j,:] # c_j\n",
    "        return np.sum(bra_i.conj()*ket_j*occupancy)\n",
    "\n",
    "    def c_subregion(self,subregion):\n",
    "        if not hasattr(self,'C'):\n",
    "            self.covariance_matrix()\n",
    "        XX,YY=np.meshgrid(np.arange(2*self.L),np.arange(2*self.L))\n",
    "        mask=np.isin(XX,subregion)*np.isin(YY,subregion)        \n",
    "        return self.C[mask].reshape((subregion.shape[0],subregion.shape[0]))\n",
    "\n",
    "    def von_Neumann_entropy(self,subregion):\n",
    "        c_A=self.c_subregion(subregion)\n",
    "        val,vec=la.eigh(c_A)\n",
    "        self.val_sh=val\n",
    "        # return np.real(-np.sum(val*np.log(val+1e-18j)))\n",
    "        return np.real(-np.sum(val*np.log(val+1e-18j))-np.sum((1-val)*np.log(1-val+1e-18j)))\n",
    "\n",
    "    def mutual_information(self,subregion_A,subregion_B):\n",
    "        s_A=self.von_Neumann_entropy(subregion_A)\n",
    "        s_B=self.von_Neumann_entropy(subregion_B)\n",
    "        subregion_AB=np.hstack([subregion_A,subregion_B])\n",
    "        s_AB=self.von_Neumann_entropy(subregion_AB)\n",
    "        return s_A+s_B-s_AB"
   ],
   "outputs": [],
   "metadata": {}
  },
  {
   "cell_type": "code",
   "execution_count": null,
   "source": [
    "params_o=Params_o(v=1-0.5,w=1+0.5,L=100)"
   ],
   "outputs": [],
   "metadata": {}
  },
  {
   "cell_type": "code",
   "execution_count": null,
   "source": [
    "params_o.mutual_information(np.arange(10),np.arange(10)+10)"
   ],
   "outputs": [],
   "metadata": {}
  },
  {
   "cell_type": "code",
   "execution_count": null,
   "source": [
    "zz=list(map(lambda x:params_o.von_Neumann_entropy(np.arange(x)),range(10,100,2)))"
   ],
   "outputs": [],
   "metadata": {}
  },
  {
   "cell_type": "code",
   "execution_count": null,
   "source": [
    "plt.plot(zz)"
   ],
   "outputs": [],
   "metadata": {}
  },
  {
   "cell_type": "code",
   "execution_count": null,
   "source": [
    "print(np.round(params_o.C[:6,:6],4))"
   ],
   "outputs": [],
   "metadata": {}
  },
  {
   "cell_type": "code",
   "execution_count": null,
   "source": [
    "band_list=[]\n",
    "for v in np.linspace(0,2,100):\n",
    "    params=Params_o(v=v,pbc=False)\n",
    "    params.bandstructure()\n",
    "    band_list.append(params.val)"
   ],
   "outputs": [],
   "metadata": {}
  },
  {
   "cell_type": "code",
   "execution_count": null,
   "source": [],
   "outputs": [],
   "metadata": {}
  },
  {
   "cell_type": "code",
   "execution_count": null,
   "source": [
    "band_list=np.array(band_list)"
   ],
   "outputs": [],
   "metadata": {}
  },
  {
   "cell_type": "code",
   "execution_count": null,
   "source": [
    "plt.plot(np.linspace(0,2,100),band_list)\n",
    "plt.ylim([-1,1])"
   ],
   "outputs": [],
   "metadata": {}
  },
  {
   "cell_type": "code",
   "execution_count": null,
   "source": [],
   "outputs": [],
   "metadata": {}
  },
  {
   "cell_type": "code",
   "execution_count": null,
   "source": [],
   "outputs": [],
   "metadata": {}
  }
 ],
 "metadata": {
  "interpreter": {
   "hash": "6aee4f39eba147985a2c1cbf1db4ebecc02362fa8877deaa860706b7b1b97f3d"
  },
  "kernelspec": {
   "name": "python3",
   "display_name": "Python 3.8.8 64-bit ('base': conda)"
  },
  "language_info": {
   "codemirror_mode": {
    "name": "ipython",
    "version": 3
   },
   "file_extension": ".py",
   "mimetype": "text/x-python",
   "name": "python",
   "nbconvert_exporter": "python",
   "pygments_lexer": "ipython3",
   "version": "3.8.8"
  }
 },
 "nbformat": 4,
 "nbformat_minor": 2
}