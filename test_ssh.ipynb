{
 "cells": [
  {
   "cell_type": "code",
   "execution_count": 1,
   "metadata": {},
   "outputs": [],
   "source": [
    "import numpy as np\n",
    "import scipy.sparse as sp\n",
    "import scipy.sparse.linalg as sla\n",
    "import scipy.linalg as la\n",
    "import scipy.stats\n",
    "import numpy.matlib\n",
    "import matplotlib.pyplot as plt\n",
    "import time\n",
    "from SSH import *"
   ]
  },
  {
   "cell_type": "code",
   "execution_count": 2,
   "metadata": {},
   "outputs": [],
   "source": [
    "plt.rcParams['text.usetex']=True\n",
    "plt.rcParams['font.family']='serif'\n",
    "plt.rcParams['font.size']=9\n",
    "plt.rcParams['axes.titlesize']=plt.rcParams['font.size']\n",
    "plt.rcParams['figure.figsize']=(6.8,4)"
   ]
  },
  {
   "cell_type": "markdown",
   "metadata": {},
   "source": [
    "# von Neumann entropy"
   ]
  },
  {
   "cell_type": "code",
   "execution_count": 3,
   "metadata": {},
   "outputs": [],
   "source": [
    "def generate_A_dep(w):\n",
    "    subregion_max_list=np.arange(2,50,2)\n",
    "    von_Neumann_entropy_list[w]=[]\n",
    "    params=Params(w=w,L=200)\n",
    "    for subregion_max in subregion_max_list:\n",
    "        von_Neumann_entropy_list[w].append(params.von_Neumann_entropy(np.arange(subregion_max)))"
   ]
  },
  {
   "cell_type": "code",
   "execution_count": 4,
   "metadata": {},
   "outputs": [],
   "source": [
    "def generate_A_dep_2(w):\n",
    "    subregion_max_list=np.arange(20,100,2)\n",
    "    von_Neumann_entropy_list[w]=[]    \n",
    "    for subregion_max in subregion_max_list:\n",
    "        params=Params(w=w,L=subregion_max*4)\n",
    "        von_Neumann_entropy_list[w].append(params.von_Neumann_entropy(np.arange(subregion_max)))"
   ]
  },
  {
   "cell_type": "code",
   "execution_count": 5,
   "metadata": {},
   "outputs": [
    {
     "name": "stderr",
     "output_type": "stream",
     "text": [
      "/home/jake/anaconda3/lib/python3.8/site-packages/scipy/sparse/_index.py:82: SparseEfficiencyWarning: Changing the sparsity structure of a csr_matrix is expensive. lil_matrix is more efficient.\n",
      "  self._set_intXint(row, col, x.flat[0])\n"
     ]
    }
   ],
   "source": [
    "von_Neumann_entropy_list={}\n",
    "for i in (0,0.5,0.8,1,2):\n",
    "    generate_A_dep(i)"
   ]
  },
  {
   "cell_type": "code",
   "execution_count": null,
   "metadata": {},
   "outputs": [],
   "source": [
    "for i in (0,0.5,.8,1,2):\n",
    "    generate_A_dep_2(i)"
   ]
  },
  {
   "cell_type": "code",
   "execution_count": 8,
   "metadata": {},
   "outputs": [
    {
     "data": {
      "image/png": "[encoded data removed]",
      "text/plain": "<Figure size 489.6x288 with 1 Axes>"
     },
     "metadata": {
      "needs_background": "light"
     },
     "output_type": "display_data"
    }
   ],
   "source": [
    "fig,ax=plt.subplots(figsize=(6.8,4))\n",
    "subregion_max_list=np.arange(2,50,2)\n",
    "for i,color in zip((0,0.5,0.8,1,2),('k','orange','pink','red','b')):\n",
    "    ax.plot(subregion_max_list,von_Neumann_entropy_list[i],'.',label=r'$w={}$'.format((i)),color=color)\n",
    "ax.legend(framealpha=0)\n",
    "# ax.plot(subregion_max_list,1/3*np.log(subregion_max_list))\n",
    "ax.margins(x=0)\n",
    "ax.axhline(y=2*np.log(2),ls='--')\n",
    "ax.text(2,2*np.log(2),r'$2\\log(2)$',ha='right',va='center')\n",
    "ax.set_xlabel(r'$|A|$')\n",
    "ax.set_ylabel(r'$S_A$')\n",
    "ax.set_yticks(np.arange(0,2.5,0.5))\n",
    "\n",
    "fig.tight_layout()\n",
    "\n",
    "fig.savefig('/mnt/d/kitp/Rp_SPT/1/SA_vs_A_L_fixed.pdf',bbox_inches='tight')"
   ]
  },
  {
   "cell_type": "code",
   "execution_count": null,
   "metadata": {},
   "outputs": [],
   "source": [
    "fig,ax=plt.subplots(figsize=(6.8,4))\n",
    "ax.plot(np.log(subregion_max_list),(von_Neumann_entropy_list[1]))\n",
    "ax.set_xlabel(r'$\\log(|A|)$')\n",
    "ax.set_ylabel(r'$S_A$')\n",
    "lr=scipy.stats.linregress(np.log(subregion_max_list),(von_Neumann_entropy_list[1]))\n",
    "ax.text(0.1,0.9,r'Fitted $y={:.4f}~x+ {:.4f}$'.format(lr.slope,lr.intercept),transform=ax.transAxes)\n",
    "fig.savefig('/mnt/d/kitp/Rp_SPT/1/critical_exponent.pdf',bbox_inches='tight')"
   ]
  },
  {
   "cell_type": "code",
   "execution_count": null,
   "metadata": {},
   "outputs": [],
   "source": [
    "fig,ax=plt.subplots(figsize=(6.8,4))\n",
    "subregion_max_list=np.arange(20,100,2)\n",
    "for i,color in zip((0,0.5,0.8,1,2),('k','orange','pink','red','b')):\n",
    "    ax.plot(subregion_max_list,von_Neumann_entropy_list[i],'.',label=r'$\\mu={}$'.format((i)),color=color)\n",
    "ax.legend()\n",
    "# ax.plot(subregion_max_list,1/3*np.log(subregion_max_list))\n",
    "ax.margins(x=0)\n",
    "ax.axhline(y=np.log(2),ls='--')\n",
    "ax.text(-1,np.log(2),r'$\\log(2)$')\n",
    "ax.set_xlabel(r'$|A|$')\n",
    "ax.set_ylabel(r'$S_A$')\n",
    "\n",
    "# fig.savefig('/mnt/d/kitp/Rp_SPT/1/SA_vs_A_L_fixed.pdf',bbox_inches='tight')"
   ]
  },
  {
   "cell_type": "code",
   "execution_count": null,
   "metadata": {},
   "outputs": [],
   "source": [
    "fig,ax=plt.subplots(figsize=(6.8,4))\n",
    "ax.plot(np.log(subregion_max_list),(von_Neumann_entropy_list[1]))\n",
    "ax.set_xlabel(r'$\\log(|A|)$')\n",
    "ax.set_ylabel(r'$S_A$')\n",
    "ax.text(0.1,0.9,r'Fitted $y=0.1676~x+ 0.354$',transform=ax.transAxes)\n",
    "# fig.savefig('/mnt/d/kitp/Rp_SPT/1/critical_exponent.pdf',bbox_inches='tight')"
   ]
  },
  {
   "cell_type": "code",
   "execution_count": null,
   "metadata": {},
   "outputs": [],
   "source": [
    "w_list=np.linspace(0.01,2,50)\n",
    "von_Neumann_entropy_w_list=[]\n",
    "spectrum_gap_list=[]\n",
    "for w in w_list:\n",
    "    params=Params(w=w,L=100)\n",
    "    von_Neumann_entropy_w_list.append(params.von_Neumann_entropy(np.arange(10)))\n",
    "    val=params.val\n",
    "    spectrum_gap_list.append(np.max(val[val<0])-np.min(val[val>0]))"
   ]
  },
  {
   "cell_type": "code",
   "execution_count": null,
   "metadata": {},
   "outputs": [],
   "source": [
    "plt.plot(w_list,von_Neumann_entropy_w_list)\n",
    "plt.plot(w_list,np.abs(spectrum_gap_list))"
   ]
  },
  {
   "cell_type": "code",
   "execution_count": null,
   "metadata": {},
   "outputs": [],
   "source": [
    "plt.plot(w_list,np.abs(spectrum_gap_list))"
   ]
  },
  {
   "cell_type": "code",
   "execution_count": null,
   "metadata": {},
   "outputs": [],
   "source": [
    "derivative=(np.array(von_Neumann_entropy_w_list[2:])-np.array(von_Neumann_entropy_w_list[:-2]))/(w_list[1]-w_list[0])"
   ]
  },
  {
   "cell_type": "code",
   "execution_count": null,
   "metadata": {},
   "outputs": [],
   "source": [
    "plt.plot(w_list[1:-1],np.abs(derivative))"
   ]
  },
  {
   "cell_type": "code",
   "execution_count": null,
   "metadata": {},
   "outputs": [],
   "source": [
    "fig,ax=plt.subplots()\n",
    "for index in range(eigvallist[0].shape[0]):\n",
    "    ax.plot(wlist,np.array(eigvallist)[:,index],'k')\n",
    "    ax.set_ylim([-2,2])\n"
   ]
  },
  {
   "cell_type": "markdown",
   "metadata": {},
   "source": [
    "# Mutual information"
   ]
  },
  {
   "cell_type": "code",
   "execution_count": 9,
   "metadata": {},
   "outputs": [],
   "source": [
    "MI_list={}"
   ]
  },
  {
   "cell_type": "markdown",
   "metadata": {},
   "source": [
    "## w=0.5"
   ]
  },
  {
   "cell_type": "code",
   "execution_count": 10,
   "metadata": {},
   "outputs": [
    {
     "name": "stderr",
     "output_type": "stream",
     "text": [
      "/home/jake/anaconda3/lib/python3.8/site-packages/scipy/sparse/_index.py:82: SparseEfficiencyWarning: Changing the sparsity structure of a csr_matrix is expensive. lil_matrix is more efficient.\n",
      "  self._set_intXint(row, col, x.flat[0])\n"
     ]
    }
   ],
   "source": [
    "dist_list=np.arange(10,50,2)\n",
    "MI_list[0.5]=[]\n",
    "params=Params(w=0.5,L=200)\n",
    "for dist in dist_list:\n",
    "    MI_list[.5].append(params.mutual_information(np.arange(10),np.arange(dist,dist+10)))"
   ]
  },
  {
   "cell_type": "code",
   "execution_count": 15,
   "metadata": {},
   "outputs": [
    {
     "data": {
      "image/png": "[encoded data removed]",
      "text/plain": "<Figure size 489.6x288 with 2 Axes>"
     },
     "metadata": {
      "needs_background": "light"
     },
     "output_type": "display_data"
    }
   ],
   "source": [
    "fig,ax1=plt.subplots(figsize=(6.8,4))\n",
    "\n",
    "color = 'tab:red'\n",
    "ax1.set_xlabel('distance between A and B')\n",
    "ax1.set_ylabel(r'mutual information $I(A;B)$', color=color)\n",
    "ax1.plot(dist_list,MI_list[.5],'.', color=color)\n",
    "ax1.tick_params(axis='y', labelcolor=color)\n",
    "ax1.set_ylim(-0.01,0.4)\n",
    "\n",
    "ax2 = ax1.twinx()  \n",
    "\n",
    "color = 'tab:blue'\n",
    "ax2.set_ylabel(r'$\\log(I(A;B))$', color=color)  \n",
    "ax2.plot(dist_list,np.log(MI_list[.5]),'.', color=color)\n",
    "ax2.tick_params(axis='y', labelcolor=color)\n",
    "lr=scipy.stats.linregress(dist_list,np.log(MI_list[.5]))\n",
    "ax2.text(.6,.8,r'Fitted: $y={:.4f}~x+{:.4f}$'.format(lr.slope,lr.intercept),transform=ax2.transAxes)\n",
    "ax2.text(.68,.7,r'$R^2={:f}$'.format(lr.rvalue),transform=ax2.transAxes)\n",
    "\n",
    "ax2.plot(dist_list,lr.slope*dist_list+lr.intercept,color=color)\n",
    "\n",
    "fig.tight_layout()\n",
    "\n",
    "\n",
    "fig.savefig('/mnt/d/kitp/Rp_SPT/1/MI_mu0.5.pdf',bbox_inches='tight')\n"
   ]
  },
  {
   "cell_type": "markdown",
   "metadata": {},
   "source": [
    "# w=2"
   ]
  },
  {
   "cell_type": "code",
   "execution_count": null,
   "metadata": {},
   "outputs": [],
   "source": [
    "dist_list=np.arange(10,50,2)\n",
    "MI_list[2]=[]\n",
    "params=Params(w=2,L=200)\n",
    "for dist in dist_list:\n",
    "    MI_list[2].append(params.mutual_information(np.arange(10),np.arange(dist,dist+10)))"
   ]
  },
  {
   "cell_type": "code",
   "execution_count": null,
   "metadata": {},
   "outputs": [],
   "source": [
    "fig,ax1=plt.subplots(figsize=(6.8,4))\n",
    "\n",
    "color = 'tab:red'\n",
    "ax1.set_xlabel('distance between A and B')\n",
    "ax1.set_ylabel(r'mutual information $I(A;B)$', color=color)\n",
    "ax1.plot(dist_list,MI_list[2],'.-', color=color)\n",
    "ax1.tick_params(axis='y', labelcolor=color)\n",
    "\n",
    "ax2 = ax1.twinx()  \n",
    "\n",
    "color = 'tab:blue'\n",
    "ax2.set_ylabel(r'$\\log(I(A;B))$', color=color)  \n",
    "ax2.plot(dist_list,np.log(MI_list[2]), color=color)\n",
    "ax2.tick_params(axis='y', labelcolor=color)\n",
    "lr=scipy.stats.linregress(dist_list,np.log(MI_list[2]))\n",
    "ax2.text(.6,.8,r'Fitted: $y={:.4f}~x+{:.4f}$'.format(lr.slope,lr.intercept),transform=ax2.transAxes)\n",
    "ax2.text(.68,.7,r'$R^2={:f}$'.format(lr.rvalue),transform=ax2.transAxes)\n",
    "\n",
    "fig.tight_layout()\n",
    "fig.savefig('/mnt/d/kitp/Rp_SPT/1/MI_mu2.pdf',bbox_inches='tight')\n"
   ]
  },
  {
   "cell_type": "code",
   "execution_count": null,
   "metadata": {},
   "outputs": [],
   "source": [
    "1/lr.slope"
   ]
  },
  {
   "cell_type": "markdown",
   "metadata": {},
   "source": [
    "## w=1"
   ]
  },
  {
   "cell_type": "code",
   "execution_count": null,
   "metadata": {},
   "outputs": [],
   "source": [
    "dist_list=np.arange(10,190,2)\n",
    "MI_list[1]=[]\n",
    "params=Params(w=1,L=200)\n",
    "for dist in dist_list:\n",
    "    MI_list[1].append(params.mutual_information(np.arange(10),np.arange(dist,dist+10)))"
   ]
  },
  {
   "cell_type": "code",
   "execution_count": null,
   "metadata": {},
   "outputs": [],
   "source": [
    "fig=plt.figure()\n",
    "ax1=fig.add_subplot(111, label=\"1\")\n",
    "ax2=fig.add_subplot(111, label=\"2\",frame_on=False)\n",
    "\n",
    "color = 'tab:red'\n",
    "ax1.set_xlabel('distance between A and B', color=color)\n",
    "ax1.set_ylabel(r'mutual information $I(A;B)$', color=color)\n",
    "ax1.plot(dist_list,MI_list[1],'.-', color=color)\n",
    "ax1.tick_params(axis='y', labelcolor=color)\n",
    "ax1.tick_params(axis='x', labelcolor=color)\n",
    "\n",
    "color = 'tab:blue'\n",
    "ax2.plot(np.log(dist_list),np.log(MI_list[1]), color=color)\n",
    "ax2.xaxis.tick_top()\n",
    "ax2.yaxis.tick_right()\n",
    "ax2.xaxis.set_label_position('top') \n",
    "ax2.yaxis.set_label_position('right') \n",
    "ax2.set_xlabel(r'log distance', color=color)\n",
    "ax2.set_ylabel(r'$\\log(I(A;B))$', color=color)  \n",
    "ax2.tick_params(axis='y', labelcolor=color)\n",
    "ax2.tick_params(axis='x', labelcolor=color)\n",
    "\n",
    "lr=scipy.stats.linregress(np.log(dist_list),np.log(MI_list[1]))\n",
    "ax2.text(.6,.8,r'Fitted: $y={:.4f}~x+{:.4f}$'.format(lr.slope,lr.intercept),transform=ax2.transAxes)\n",
    "ax2.text(.68,.7,r'$R^2={:f}$'.format(lr.rvalue),transform=ax2.transAxes)\n",
    "\n",
    "fig.tight_layout()\n",
    "\n",
    "fig.savefig('/mnt/d/kitp/Rp_SPT/1/MI_mu1.pdf',bbox_inches='tight')"
   ]
  },
  {
   "cell_type": "markdown",
   "metadata": {},
   "source": [
    "# Class"
   ]
  },
  {
   "cell_type": "code",
   "execution_count": 2,
   "metadata": {},
   "outputs": [],
   "source": [
    "import numpy as np\n",
    "import scipy.sparse as sp\n",
    "import scipy.sparse.linalg as sla\n",
    "import scipy.linalg as la"
   ]
  },
  {
   "cell_type": "code",
   "execution_count": 4,
   "metadata": {},
   "outputs": [],
   "source": [
    "class Params:\n",
    "    def __init__(self,\n",
    "    L=100,\n",
    "    v=1,\n",
    "    w=1,\n",
    "    T=0,\n",
    "    pbc=True):\n",
    "        self.L=L\n",
    "        self.v=v\n",
    "        self.w=w\n",
    "        self.T=T\n",
    "        self.pbc=pbc\n",
    "        band=np.vstack([np.ones(L)*v,np.ones(L)*w]).flatten('F')        \n",
    "        Ham=sp.diags(np.array([band[:-1],band[:-1]]),np.array([-1,1]),shape=(2*L,2*L)).tocsr()\n",
    "        Ham[0,2*L-1]=w*pbc\n",
    "        Ham[2*L-1,0]=w*pbc\n",
    "        self.Hamiltonian=Ham\n",
    "\n",
    "    def fermi_dist(self,energy,E_F):      \n",
    "        if self.T==0:\n",
    "            return np.heaviside(E_F-energy,0)\n",
    "        else:\n",
    "            return 1/(1+np.exp((energy-E_F)/self.T))\n",
    "\n",
    "    def bandstructure(self):\n",
    "        val,vec=la.eigh(self.Hamiltonian.toarray())\n",
    "        sortindex=np.argsort(val)\n",
    "        self.val=val[sortindex]\n",
    "        self.vec=vec[:,sortindex]\n",
    "\n",
    "    def covariance_matrix_loop(self):\n",
    "        '''\n",
    "        Use loop to calculate covariance matrix (deprecated)\n",
    "        '''\n",
    "        self.C_loop=np.zeros((2*self.L,2*self.L))\n",
    "        for i in range(2*self.L):\n",
    "            for j in range(2*self.L):\n",
    "                self.C_loop[i,j]=self.c_ij(i,j)\n",
    "\n",
    "    def covariance_matrix(self,E_F=0):\n",
    "        if not (hasattr(self,'val') and hasattr(self,'vec')):\n",
    "            self.bandstructure()\n",
    "        occupancy=self.fermi_dist(self.val,E_F)\n",
    "        occupancy_mat=np.matlib.repmat(self.fermi_dist(self.val,E_F),self.vec.shape[0],1)\n",
    "        self.C=(occupancy_mat*self.vec)@self.vec.T.conj()\n",
    "        \n",
    "\n",
    "\n",
    "    def c_ij(self,i,j,E_F=0):\n",
    "        if not (hasattr(self,'val') and hasattr(self,'vec')):\n",
    "            self.bandstructure()\n",
    "\n",
    "        occupancy=self.fermi_dist(self.val,E_F)\n",
    "        bra_i=self.vec[i,:] # c_i\n",
    "        ket_j=self.vec[j,:] # c_j\n",
    "        return np.sum(bra_i.conj()*ket_j*occupancy)\n",
    "\n",
    "    def c_subregion(self,subregion):\n",
    "        if not hasattr(self,'C'):\n",
    "            self.covariance_matrix()\n",
    "        XX,YY=np.meshgrid(np.arange(2*self.L),np.arange(2*self.L))\n",
    "        mask=np.isin(XX,subregion)*np.isin(YY,subregion)        \n",
    "        return self.C[mask].reshape((subregion.shape[0],subregion.shape[0]))\n",
    "\n",
    "    def von_Neumann_entropy(self,subregion):\n",
    "        c_A=self.c_subregion(subregion)\n",
    "        val,vec=la.eigh(c_A)\n",
    "        self.val_sh=val\n",
    "        # return np.real(-np.sum(val*np.log(val+1e-18j)))\n",
    "        return np.real(-np.sum(val*np.log(val+1e-18j))-np.sum((1-val)*np.log(1-val+1e-18j)))\n",
    "\n",
    "    def mutual_information(self,subregion_A,subregion_B):\n",
    "        s_A=self.von_Neumann_entropy(subregion_A)\n",
    "        s_B=self.von_Neumann_entropy(subregion_B)\n",
    "        subregion_AB=np.hstack([subregion_A,subregion_B])\n",
    "        s_AB=self.von_Neumann_entropy(subregion_AB)\n",
    "        return s_A+s_B-s_AB"
   ]
  },
  {
   "cell_type": "code",
   "execution_count": null,
   "metadata": {},
   "outputs": [],
   "source": []
  }
 ],
 "metadata": {
  "kernelspec": {
   "display_name": "Python 3.8.5 64-bit ('base': conda)",
   "name": "python385jvsc74a57bd06aee4f39eba147985a2c1cbf1db4ebecc02362fa8877deaa860706b7b1b97f3d"
  },
  "language_info": {
   "name": "python",
   "version": ""
  },
  "orig_nbformat": 2
 },
 "nbformat": 4,
 "nbformat_minor": 2
}