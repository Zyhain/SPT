{
 "cells": [
  {
   "cell_type": "markdown",
   "metadata": {},
   "source": [
    "# API"
   ]
  },
  {
   "cell_type": "code",
   "execution_count": 1,
   "metadata": {},
   "outputs": [],
   "source": [
    "import numpy as np\n",
    "import scipy.sparse as sp\n",
    "import scipy.sparse.linalg as sla\n",
    "import scipy.linalg as la\n",
    "import scipy.stats\n",
    "import numpy.matlib\n",
    "import matplotlib.pyplot as plt\n",
    "import time\n",
    "import pickle\n",
    "from copy import copy\n",
    "# from SSH import *\n",
    "# %load_ext line_profiler"
   ]
  },
  {
   "cell_type": "code",
   "execution_count": 2,
   "metadata": {},
   "outputs": [],
   "source": [
    "plt.rcParams['text.usetex']=True\n",
    "plt.rcParams['font.family']='serif'\n",
    "plt.rcParams['font.size']=9\n",
    "plt.rcParams['axes.titlesize']=plt.rcParams['font.size']\n",
    "plt.rcParams['figure.figsize']=(6.8,4)"
   ]
  },
  {
   "cell_type": "code",
   "execution_count": 57,
   "metadata": {},
   "outputs": [
    {
     "data": {
      "text/plain": [
       "<AsyncResult: execute>"
      ]
     },
     "execution_count": 57,
     "metadata": {},
     "output_type": "execute_result"
    }
   ],
   "source": [
    "# ipcluster start --engines=MPI\n",
    "import ipyparallel as ipp\n",
    "rc = ipp.Client()\n",
    "rc[:].execute(\"from SSH import *\")\n",
    "rc[:].execute(\"import numpy as np\")"
   ]
  },
  {
   "cell_type": "code",
   "execution_count": 56,
   "metadata": {},
   "outputs": [],
   "source": [
    "# %%writefile SSH.py\n",
    "import numpy as np\n",
    "import scipy.linalg as la\n",
    "import numpy.linalg as nla\n",
    "import numpy.matlib\n",
    "from scipy import integrate\n",
    "\n",
    "\n",
    "class Params:\n",
    "    def __init__(self,\n",
    "    L=100,\n",
    "    delta=0,\n",
    "    T=0,\n",
    "    dmax=100,\n",
    "    bc=-1,\n",
    "    history=True):\n",
    "        self.L=L\n",
    "        self.delta=delta\n",
    "        self.T=T\n",
    "        self.history=history\n",
    "        if L<np.inf:\n",
    "            self.v=1-delta\n",
    "            self.w=1+delta\n",
    "            self.bc=bc\n",
    "            band=np.vstack([np.ones(L)*self.v,np.ones(L)*self.w]).flatten('F')\n",
    "            Ham=np.diag(band[:-1],1)\n",
    "            Ham[0,-1]=self.w*bc\n",
    "            self.Hamiltonian=-(Ham+Ham.T)\n",
    "        else:\n",
    "            self.dmax=dmax\n",
    "    \n",
    "    def bandstructure(self):\n",
    "        val,vec=nla.eigh(self.Hamiltonian)\n",
    "        sortindex=np.argsort(val)\n",
    "        self.val=val[sortindex]\n",
    "        self.vec=vec[:,sortindex]    \n",
    "\n",
    "    def E_k(self,k,branch):\n",
    "        '''\n",
    "        branch = +/-1\n",
    "        '''\n",
    "        return branch*np.sqrt(2*(1+self.delta**2)+2*(1-self.delta**2)*np.cos(k))\n",
    "\n",
    "        \n",
    "    def fermi_dist_k(self,k,branch,E_F=0):\n",
    "        if self.T==0:\n",
    "            return np.heaviside(E_F-self.E_k(k,branch),0)\n",
    "        else:\n",
    "            return 1/(1+np.exp((self.E_k(k,branch)-E_F)/self.T))\n",
    "\n",
    "\n",
    "    def fermi_dist(self,energy,E_F):      \n",
    "        if self.T==0:\n",
    "            return np.heaviside(E_F-energy,0)\n",
    "        else:\n",
    "            return 1/(1+np.exp((energy-E_F)/self.T)) \n",
    "\n",
    "\n",
    "    def correlation_matrix_inf(self):\n",
    "        '''\n",
    "        self.dmax: the maximal distance (in terms of unit cell) \n",
    "        '''\n",
    "        assert self.L==np.inf, \"Wire length should be inf\"\n",
    "        cov_mat=[]\n",
    "        for d in range(self.dmax):\n",
    "            integrand_11=lambda k:2*np.cos(k*d)*(self.fermi_dist_k(k,1)+self.fermi_dist_k(k,-1))\n",
    "            if self.T>0:\n",
    "                integrand_11=lambda k:2*np.cos(k*d)*(self.fermi_dist_k(k,1)+self.fermi_dist_k(k,-1))\n",
    "                integrand_12=lambda k:-np.sqrt(2)*((1-self.delta)*np.cos(k*d)+(1+self.delta)*np.cos(k*(d-1)))/np.sqrt((1+self.delta**2)+(1-self.delta**2)*np.cos(k))*(self.fermi_dist_k(k,1)-self.fermi_dist_k(k,-1))\n",
    "                integrand_21=lambda k:-np.sqrt(2)*((1-self.delta)*np.cos(k*d)+(1+self.delta)*np.cos(k*(d+1)))/np.sqrt((1+self.delta**2)+(1-self.delta**2)*np.cos(k))*(self.fermi_dist_k(k,1)-self.fermi_dist_k(k,-1))\n",
    "            else:\n",
    "                # integrand_11=lambda k:2*np.cos(k*d)\n",
    "                integrand_12=lambda k:np.sqrt(2)*((1-self.delta)*np.cos(k*d)+(1+self.delta)*np.cos(k*(d-1)))/np.sqrt((1+self.delta**2)+(1-self.delta**2)*np.cos(k))\n",
    "                integrand_21=lambda k:np.sqrt(2)*((1-self.delta)*np.cos(k*d)+(1+self.delta)*np.cos(k*(d+1)))/np.sqrt((1+self.delta**2)+(1-self.delta**2)*np.cos(k))\n",
    "            A_11=2*np.pi if d==0 else 0\n",
    "            A_12=integrate.quad(integrand_12,0,np.pi)\n",
    "            A_21=integrate.quad(integrand_21,0,np.pi)\n",
    "            cov_mat.append(np.array([[A_11,A_12[0]],[A_21[0],A_11]])/(4*np.pi))\n",
    "\n",
    "        Gamma=np.zeros((2*self.dmax,2*self.dmax))\n",
    "        for i in range(self.dmax):\n",
    "            for j in range(i):\n",
    "                Gamma[2*i:2*i+2,2*j:2*j+2]=cov_mat[i-j]\n",
    "        Gamma=Gamma+Gamma.T\n",
    "        for i in range(self.dmax):\n",
    "            Gamma[2*i:2*i+2,2*i:2*i+2]=cov_mat[0]\n",
    "\n",
    "        self.C_f=Gamma\n",
    "\n",
    "    def correlation_matrix_inf_fft(self,threshold=1024):\n",
    "        '''\n",
    "        self.dmax: the maximal distance (in terms of unit cell) \n",
    "        Directly call fft to evaluate the integral\n",
    "        '''\n",
    "        assert self.L==np.inf, \"Wire length should be inf\"\n",
    "        # cov_mat=[]\n",
    "        d=max(2*self.dmax,threshold)\n",
    "        if self.T>0:\n",
    "            pass    #to be filled\n",
    "        else:\n",
    "            integrand_12=lambda k: ((1-self.delta) + (1+self.delta)*np.cos(k) - 1j*(1+self.delta)*np.sin(k))/np.sqrt((1-self.delta + (1+self.delta)* np.cos(k))**2+((1+self.delta)*np.sin(k))**2)\n",
    "            integrand_21=lambda k: ((1-self.delta) + (1+self.delta)*np.cos(k) + 1j*(1+self.delta)*np.sin(k))/np.sqrt((1-self.delta + (1+self.delta)* np.cos(k))**2+((1+self.delta)*np.sin(k))**2)\n",
    "            \n",
    "            A_11=np.array([0.5]+[0]*(d-1))\n",
    "            A_12=np.fft.ifft(integrand_12(np.arange(0,2*np.pi,2*np.pi/d)))/2\n",
    "            A_21=np.fft.ifft(integrand_21(np.arange(0,2*np.pi,2*np.pi/d)))/2\n",
    "            # A_12=np.sign(np.real(A_12))*np.abs(A_12)\n",
    "            # A_21=np.sign(np.real(A_21))*np.abs(A_21)\n",
    "\n",
    "        mat=np.array([[A_11,A_12],[A_21,A_11]])\n",
    "        C_f=np.zeros((2*self.dmax,2*self.dmax))*1j\n",
    "        for i in range(self.dmax):\n",
    "            for j in range(i):\n",
    "                C_f[2*i:2*i+2,2*j:2*j+2]=mat[:,:,i-j]\n",
    "        C_f=C_f+C_f.T.conj()\n",
    "        for i in range(self.dmax):\n",
    "            C_f[2*i:2*i+2,2*i:2*i+2]=mat[:,:,0]\n",
    "        self.C_f=C_f\n",
    "\n",
    "\n",
    "    def correlation_matrix(self,E_F=0):\n",
    "        '''\n",
    "        G_{ij}=<f_i^\\dagger f_j>\n",
    "        '''\n",
    "        if not (hasattr(self,'val') and hasattr(self,'vec')):\n",
    "            self.bandstructure()\n",
    "        occupancy_mat=np.matlib.repmat(self.fermi_dist(self.val,E_F),self.vec.shape[0],1)\n",
    "        # maxi=np.imag((occupancy_mat*self.vec)@self.vec.T.conj()).max()\n",
    "        # print('max={:.2f}'.format(maxi))\n",
    "        self.C_f=((occupancy_mat*self.vec)@self.vec.T.conj())\n",
    "\n",
    "    \n",
    "    def covariance_matrix(self,E_F=0):\n",
    "        '''\n",
    "        c.f. notes\n",
    "        Maybe differs by a minus sign\n",
    "        '''\n",
    "        if not hasattr(self,'C_f'):\n",
    "            if self.L<np.inf:\n",
    "                self.correlation_matrix()\n",
    "            else:\n",
    "                self.correlation_matrix_inf_fft()\n",
    "        G=self.C_f\n",
    "        Gamma_11=1j*(G-G.T)\n",
    "        Gamma_21=-(np.eye(G.shape[0])-G-G.T)\n",
    "        Gamma_12=-Gamma_21.T\n",
    "        Gamma_22=-1j*(G.T-G)\n",
    "        Gamma=np.zeros((2*G.shape[0],2*G.shape[0]),dtype=complex)\n",
    "        even=np.arange(2*G.shape[0])[::2]\n",
    "        odd=np.arange(2*G.shape[0])[1::2]\n",
    "        Gamma[np.ix_(even,even)]=Gamma_11\n",
    "        Gamma[np.ix_(even,odd)]=Gamma_12\n",
    "        Gamma[np.ix_(odd,even)]=Gamma_21\n",
    "        Gamma[np.ix_(odd,odd)]=Gamma_22\n",
    "        assert np.abs(np.imag(Gamma)).max()<1e-10, \"Covariance matrix not real\"        \n",
    "        self.C_m=np.real(Gamma-Gamma.T.conj())/2\n",
    "        self.C_m_history=[self.C_m]\n",
    "\n",
    "    def c_subregion_f(self,subregion):\n",
    "        if not hasattr(self,'C_f'):\n",
    "            self.correlation_matrix()\n",
    "        try:\n",
    "            subregion=np.array(subregion)\n",
    "        except:\n",
    "            raise ValueError(\"The subregion is ill-defined\"+subregion)\n",
    "        return self.C_f[np.ix_(subregion,subregion)]\n",
    "\n",
    "    def von_Neumann_entropy_f(self,subregion):\n",
    "        c_A=self.c_subregion_f(subregion)\n",
    "        val=nla.eigvalsh(c_A)\n",
    "        self.val_sh=val\n",
    "        val=np.sort(val)\n",
    "        return np.real(-np.sum(val*np.log(val+1e-18j))-np.sum((1-val)*np.log(1-val+1e-18j)))\n",
    "\n",
    "    def c_subregion_m(self,subregion,Gamma=None):\n",
    "        if not hasattr(self,'C_m'):\n",
    "            self.covariance_matrix()\n",
    "        if Gamma is None:\n",
    "            Gamma=self.C_m_history[-1]\n",
    "        try:\n",
    "            subregion=np.array(subregion)\n",
    "        except:\n",
    "            raise ValueError(\"The subregion is ill-defined\"+subregion)\n",
    "        return Gamma[np.ix_(subregion,subregion)]\n",
    "\n",
    "    def von_Neumann_entropy_m(self,subregion):\n",
    "        c_A=self.c_subregion_m(subregion)\n",
    "        val=nla.eigvalsh(1j*c_A)\n",
    "        self.val_sh=val\n",
    "        val=np.sort(val)\n",
    "        val=(1-val)/2+1e-18j   #\\lambda=(1-\\xi)/2\n",
    "        return np.real(-np.sum(val*np.log(val))-np.sum((1-val)*np.log(1-val)))/2\n",
    "\n",
    "    def mutual_information_f(self,subregion_A,subregion_B):\n",
    "        s_A=self.von_Neumann_entropy_f(subregion_A)\n",
    "        s_B=self.von_Neumann_entropy_f(subregion_B)\n",
    "        assert np.intersect1d(subregion_A,subregion_B).size==0 , \"Subregion A and B overlap\"\n",
    "        subregion_AB=np.concatenate([subregion_A,subregion_B])\n",
    "        s_AB=self.von_Neumann_entropy_f(subregion_AB)\n",
    "        return s_A+s_B-s_AB\n",
    "\n",
    "    def mutual_information_m(self,subregion_A,subregion_B):\n",
    "        assert np.intersect1d(subregion_A,subregion_B).size==0 , \"Subregion A and B overlap\"\n",
    "        s_A=self.von_Neumann_entropy_m(subregion_A)\n",
    "        s_B=self.von_Neumann_entropy_m(subregion_B)\n",
    "        subregion_AB=np.concatenate([subregion_A,subregion_B])\n",
    "        s_AB=self.von_Neumann_entropy_m(subregion_AB)\n",
    "        return s_A+s_B-s_AB\n",
    "\n",
    "    def projection(self,s,type='onsite',ignore=False):\n",
    "        '''\n",
    "        For type:'onsite'\n",
    "            occupancy number: s= 0,1 \n",
    "            (-1)^0 even parity, (-1)^1 odd parity\n",
    "        For type:'link'\n",
    "            (o,+)|(o,-)|(e,+)|(e,-)\n",
    "        '''\n",
    "        if type=='onsite':\n",
    "            assert (s==0 or s==1),\"s={} is either 0 or 1\".format(s)\n",
    "            blkmat=np.array([[0,-(-1)**s,0,0],\n",
    "                            [(-1)**s,0,0,0],\n",
    "                            [0,0,0,(-1)**s],\n",
    "                            [0,0,-(-1)**s,0]])\n",
    "            return blkmat\n",
    "\n",
    "        if type=='link':\n",
    "            assert (s in ['o+','o-','e+','e-']), \"s={} for {} is not defined\".format(s,type)\n",
    "            if not ignore:\n",
    "                if s=='o+':\n",
    "                    antidiag=[1,-1,1,-1]\n",
    "                if s=='o-':\n",
    "                    antidiag=[-1,1,-1,1]\n",
    "                if s=='e+':\n",
    "                    antidiag=[-1,-1,1,1]\n",
    "                if s=='e-':\n",
    "                    antidiag=[1,1,-1,-1]\n",
    "                blkmat=np.diag(antidiag)\n",
    "                blkmat=np.fliplr(blkmat)\n",
    "            else:\n",
    "                if s=='e+':\n",
    "                    blkmat=np.array([[0,-1,0,0],\n",
    "                                    [1,0,0,0],\n",
    "                                    [0,0,0,-1],\n",
    "                                    [0,0,1,0]])\n",
    "                if s=='e-':\n",
    "                    blkmat=-np.array([[0,-1,0,0],\n",
    "                                    [1,0,0,0],\n",
    "                                    [0,0,0,-1],\n",
    "                                    [0,0,1,0]])\n",
    "\n",
    "                \n",
    "                if s=='o+':\n",
    "                    antidiag=[1,-1,1,-1]\n",
    "                    blkmat=np.diag(antidiag)\n",
    "                    blkmat=np.fliplr(blkmat)\n",
    "                if s=='o-':\n",
    "                    antidiag=[-1,1,-1,1]\n",
    "                    blkmat=np.diag(antidiag)\n",
    "                    blkmat=np.fliplr(blkmat)\n",
    "\n",
    "            proj=np.zeros((8,8))\n",
    "            proj[:4,:4]=blkmat\n",
    "            proj[4:,4:]=blkmat.T\n",
    "            return proj            \n",
    "\n",
    "        raise ValueError(\"type '{}' is not defined\".format(type))\n",
    "        \n",
    "\n",
    "    def measure(self,s,ix,type='onsite',ignore=False):\n",
    "        if not hasattr(self,'C_m'):\n",
    "            self.covariance_matrix()\n",
    "        if not hasattr(self,'s_history'):\n",
    "            self.s_history=[]\n",
    "        if not hasattr(self,'i_history'):\n",
    "            self.i_history=[]\n",
    "                \n",
    "        m=self.C_m_history[-1].copy()\n",
    "\n",
    "        for i_ind,i in enumerate(ix):\n",
    "            m[[i,-(len(ix)-i_ind)]]=m[[-(len(ix)-i_ind),i]]\n",
    "            m[:,[i,-(len(ix)-i_ind)]]=m[:,[-(len(ix)-i_ind),i]]\n",
    "\n",
    "        self.m=m\n",
    "\n",
    "        Gamma_LL=m[:-len(ix),:-len(ix)]\n",
    "        Gamma_LR=m[:-len(ix),-len(ix):]\n",
    "        Gamma_RR=m[-len(ix):,-len(ix):]       \n",
    "\n",
    "        proj=self.projection(s,type=type,ignore=ignore)\n",
    "        Upsilon_LL=proj[:-len(ix),:-len(ix)]\n",
    "        Upsilon_RR=proj[-len(ix):,-len(ix):]\n",
    "        Upsilon_RL=proj[-len(ix):,:-len(ix)]\n",
    "        zero=np.zeros((m.shape[0]-len(ix),len(ix)))\n",
    "        zero0=np.zeros((len(ix),len(ix)))\n",
    "        mat1=np.block([[Gamma_LL,zero],[zero.T,Upsilon_RR]])\n",
    "        mat2=np.block([[Gamma_LR,zero],[zero0,Upsilon_RL]])\n",
    "        mat3=np.block([[Gamma_RR,np.eye(len(ix))],[-np.eye(len(ix)),Upsilon_LL]])\n",
    "        self.mat2=mat2\n",
    "        if np.count_nonzero(mat2):\n",
    "            Psi=mat1+mat2@(la.solve(mat3,mat2.T))\n",
    "            # Psi=mat1+mat2@(la.lstsq(mat3,mat2.T)[0])\n",
    "            assert np.abs(np.trace(Psi))<1e-5, \"Not trace zero {:e}\".format(np.trace(Psi))\n",
    "        else:\n",
    "            Psi=mat1\n",
    "        \n",
    "        for i_ind,i in enumerate(ix):\n",
    "            Psi[[i,-(len(ix)-i_ind)]]=Psi[[-(len(ix)-i_ind),i]]\n",
    "            Psi[:,[i,-(len(ix)-i_ind)]]=Psi[:,[-(len(ix)-i_ind),i]]\n",
    "        \n",
    "        Psi=(Psi-Psi.T)/2   # Anti-symmetrize\n",
    "        if self.history:\n",
    "            self.C_m_history.append(Psi)\n",
    "            self.s_history.append(s)\n",
    "            self.i_history.append(i)\n",
    "        else:\n",
    "            self.C_m_history=[Psi]\n",
    "            self.s_history=[s]\n",
    "            self.i_history=[i]\n",
    "\n",
    " \n",
    "    def measure_all(self,s_prob,proj_range=None):\n",
    "        '''\n",
    "        The probability of s=0 (unoccupied)\n",
    "        '''\n",
    "        if proj_range is None:\n",
    "            proj_range=np.arange(self.L,self.L*2,2)\n",
    "        for i in proj_range:\n",
    "            if s_prob==0:\n",
    "                s=1\n",
    "            elif s_prob==1:\n",
    "                s=0\n",
    "            else:           \n",
    "                s=s_prob<np.random.rand()\n",
    "            self.measure(s,[i,i+1])\n",
    "        return self\n",
    "\n",
    "    def measure_all_Born(self,proj_range=None,type='onsite',ignore=False):\n",
    "        if proj_range is None:\n",
    "            if type=='onsite':\n",
    "                proj_range=np.arange(self.L,self.L*2,2)\n",
    "            if type=='link':\n",
    "                proj_range=np.arange(self.L,self.L*2,4)\n",
    "\n",
    "        # self.P_0_list=[]\n",
    "        self.covariance_matrix()\n",
    "        if type=='onsite':\n",
    "            for i in proj_range:\n",
    "                P_0=(self.C_m_history[-1][i,i+1]+1)/2\n",
    "                # self.P_0_list.append(P_0)\n",
    "                if np.random.rand() < P_0:                \n",
    "                    self.measure(0,[i,i+1])\n",
    "                else:\n",
    "                    self.measure(1,[i,i+1])\n",
    "            return self\n",
    "        if type=='link':\n",
    "            for i in proj_range:\n",
    "                Gamma=self.C_m_history[-1][i:i+4,i:i+4]\n",
    "                gamma1234=-Gamma[0,1]*Gamma[2,3]+Gamma[0,2]*Gamma[1,3]-Gamma[0,3]*Gamma[1,2]\n",
    "                P={}\n",
    "                P['o+']=(1+Gamma[1,2]-Gamma[0,3]+gamma1234)/4\n",
    "                P['o-']=(1-Gamma[1,2]+Gamma[0,3]+gamma1234)/4\n",
    "                if not ignore:\n",
    "                    P['e+']=(1+Gamma[1,2]+Gamma[0,3]-gamma1234)/4\n",
    "                    P['e-']=(1-Gamma[1,2]-Gamma[0,3]-gamma1234)/4        \n",
    "                else:\n",
    "                        #ignore symmetry\n",
    "                    P['e+']=(1+Gamma[0,1]+Gamma[2,3]-gamma1234)/4\n",
    "                    P['e-']=(1-Gamma[0,1]-Gamma[2,3]-gamma1234)/4\n",
    "                        \n",
    "                # P['o+']=(1+Gamma[1,2])/2*(1-Gamma[0,3])/2\n",
    "                # P['o-']=(1-Gamma[1,2])/2*(1+Gamma[0,3])/2\n",
    "                # P['e+']=(1+Gamma[1,2])/2*(1+Gamma[0,3])/2\n",
    "                # P['e-']=(1-Gamma[1,2])/2*(1-Gamma[0,3])/2\n",
    "                # print((P.values()))\n",
    "                s=np.random.choice(['o+','o-','e+','e-'],p=[P['o+'],P['o-'],P['e+'],P['e-']])\n",
    "                self.measure(s,[i,i+1,i+2,i+3],type='link',ignore=ignore)\n",
    "            return self\n",
    "\n",
    "        raise ValueError(\"type '{}' is not defined\".format(type))\n",
    "\n",
    "    def log_neg(self,subregionA,subregionB,Gamma=None):\n",
    "        assert np.intersect1d(subregionA,subregionB).size==0 , \"Subregion A and B overlap\"\n",
    "        if not hasattr(self,'C_m'):\n",
    "            self.covariance_matrix()\n",
    "        \n",
    "        if Gamma is None:\n",
    "            Gamma=self.C_m_history[-1]\n",
    "        subregionA=np.array(subregionA)\n",
    "        subregionB=np.array(subregionB)\n",
    "        Gm_p= np.block([\n",
    "            [-Gamma[np.ix_(subregionA,subregionA)],1j*Gamma[np.ix_(subregionA,subregionB)]],\n",
    "            [1j*Gamma[np.ix_(subregionB,subregionA)],Gamma[np.ix_(subregionB,subregionB)]]\n",
    "        ])\n",
    "        Gm_n= np.block([\n",
    "            [-Gamma[np.ix_(subregionA,subregionA)],-1j*Gamma[np.ix_(subregionA,subregionB)]],\n",
    "            [-1j*Gamma[np.ix_(subregionB,subregionA)],Gamma[np.ix_(subregionB,subregionB)]]\n",
    "        ])\n",
    "        idm=np.eye(Gm_p.shape[0])\n",
    "        # Gm_x=idm-(idm+1j*Gm_p)@nla.inv(idm-Gm_n@Gm_p)@(idm+1j*Gm_n)\n",
    "        Gm_x=idm-(idm+1j*Gm_p)@(la.solve((idm-Gm_n@Gm_p),(idm+1j*Gm_n)))\n",
    "        Gm_x=(Gm_x+Gm_x.T.conj())/2\n",
    "        xi=nla.eigvalsh(Gm_x)\n",
    "        subregionAB=np.concatenate([subregionA,subregionB])\n",
    "        eA=np.sum(np.log(((1+xi+0j)/2)**0.5+((1-xi+0j)/2)**0.5))/2\n",
    "        chi=nla.eigvalsh(1j*Gamma[np.ix_(subregionAB,subregionAB)])\n",
    "        sA=np.sum(np.log(((1+chi)/2)**2+((1-chi)/2)**2))/4\n",
    "        return np.real(eA+sA)\n",
    "\n",
    "\n",
    "def cross_ratio(x,L):\n",
    "    if L<np.inf:\n",
    "        xx=lambda i,j: (np.sin(np.pi/(L)*np.abs(x[i]-x[j])))\n",
    "    else:\n",
    "        xx=lambda i,j: np.abs(x[i]-x[j])\n",
    "    eta=(xx(0,1)*xx(2,3))/(xx(0,2)*xx(1,3))\n",
    "    return eta\n"
   ]
  },
  {
   "cell_type": "markdown",
   "metadata": {},
   "source": [
    "## obsolete func"
   ]
  },
  {
   "cell_type": "code",
   "execution_count": null,
   "metadata": {},
   "outputs": [],
   "source": [
    "   # def measure(self,s,i,j):\n",
    "    #     if not hasattr(self,'C_m'):\n",
    "    #         self.covariance_matrix()\n",
    "    #     if not hasattr(self,'s_history'):\n",
    "    #         self.s_history=[]\n",
    "    #     if not hasattr(self,'i_history'):\n",
    "    #         self.i_history=[]\n",
    "                \n",
    "    #     m=self.C_m_history[-1].copy()\n",
    "    #     # i<-> -2\n",
    "    #     m[[i,-2]]=m[[-2,i]]\n",
    "    #     m[:,[i,-2]]=m[:,[-2,i]]\n",
    "    #     # j<->-1\n",
    "    #     m[[j,-1]]=m[[-1,j]]\n",
    "    #     m[:,[j,-1]]=m[:,[-1,j]]\n",
    "\n",
    "    #     self.m=m\n",
    "\n",
    "    #     Gamma_LL=m[:-2,:-2]\n",
    "    #     Gamma_LR=m[:-2,-2:]\n",
    "    #     Gamma_RR=m[-2:,-2:]       \n",
    "\n",
    "    #     proj=self.projection(s)\n",
    "    #     Upsilon_LL=proj[:-2,:-2]\n",
    "    #     # Upsilon_LR=proj[:-2,-2:]\n",
    "    #     Upsilon_RR=proj[-2:,-2:]\n",
    "    #     Upsilon_RL=proj[-2:,:-2]\n",
    "    #     zero=np.zeros((self.L*4-2,2))\n",
    "    #     zero0=np.zeros((2,2))\n",
    "    #     mat1=np.block([[Gamma_LL,zero],[zero.T,Upsilon_RR]])\n",
    "    #     mat2=np.block([[Gamma_LR,zero],[zero0,Upsilon_RL]])\n",
    "    #     mat3=np.block([[Gamma_RR,np.eye(2)],[-np.eye(2),Upsilon_LL]])\n",
    "    #     self.mat2=mat2\n",
    "    #     if np.count_nonzero(mat2):\n",
    "    #         Psi=mat1+mat2@(la.solve(mat3,mat2.T))\n",
    "    #         # Psi=mat1+mat2@(la.lstsq(mat3,mat2.T)[0])\n",
    "    #         assert np.abs(np.trace(Psi))<1e-5, \"Not trace zero {:e}\".format(np.trace(Psi))\n",
    "    #     else:\n",
    "    #         Psi=mat1\n",
    "        \n",
    "    #     Psi[[j,-1]]=Psi[[-1,j]]\n",
    "    #     Psi[:,[j,-1]]=Psi[:,[-1,j]]\n",
    "\n",
    "    #     Psi[[i,-2]]=Psi[[-2,i]]\n",
    "    #     Psi[:,[i,-2]]=Psi[:,[-2,i]]\n",
    "        \n",
    "    #     Psi=(Psi-Psi.T)/2   # Anti-symmetrize\n",
    "    #     self.C_m_history.append(Psi)\n",
    "    #     self.s_history.append(s)\n",
    "    #     self.i_history.append(i)\n"
   ]
  },
  {
   "cell_type": "markdown",
   "metadata": {},
   "source": [
    "# Test"
   ]
  },
  {
   "cell_type": "code",
   "execution_count": 51,
   "metadata": {},
   "outputs": [],
   "source": [
    "# %%time\n",
    "# st=time.time()\n",
    "params_L=Params(delta=.5,L=100,bc=-1,history=False)\n",
    "params_L.covariance_matrix()\n",
    "# print(time.time()-st)"
   ]
  },
  {
   "cell_type": "code",
   "execution_count": 52,
   "metadata": {},
   "outputs": [
    {
     "data": {
      "text/plain": [
       "<__main__.Params at 0x7fd21b0b84c0>"
      ]
     },
     "execution_count": 52,
     "metadata": {},
     "output_type": "execute_result"
    }
   ],
   "source": [
    "params_L.measure_all_Born(type='link',ignore=True)"
   ]
  },
  {
   "cell_type": "code",
   "execution_count": 53,
   "metadata": {},
   "outputs": [
    {
     "data": {
      "text/plain": [
       "1.455676538261524e-06"
      ]
     },
     "execution_count": 53,
     "metadata": {},
     "output_type": "execute_result"
    }
   ],
   "source": [
    "params_L.log_neg(np.arange(100),np.arange(100)+100*2)/np.log(2)"
   ]
  },
  {
   "cell_type": "code",
   "execution_count": 38,
   "metadata": {},
   "outputs": [
    {
     "data": {
      "text/plain": [
       "array([[ 0.    ,  0.    ,  0.    , -0.9716,  0.    , -0.    ],\n",
       "       [-0.    ,  0.    ,  0.9716,  0.    ,  0.    ,  0.    ],\n",
       "       [ 0.    , -0.9716,  0.    , -0.    ,  0.    , -0.1691],\n",
       "       [ 0.9716,  0.    ,  0.    ,  0.    ,  0.1691,  0.    ],\n",
       "       [ 0.    , -0.    ,  0.    , -0.1691,  0.    ,  0.    ],\n",
       "       [ 0.    ,  0.    ,  0.1691,  0.    , -0.    ,  0.    ]])"
      ]
     },
     "execution_count": 38,
     "metadata": {},
     "output_type": "execute_result"
    }
   ],
   "source": [
    "np.round(params_L.C_m[:6,:6],4)"
   ]
  },
  {
   "cell_type": "code",
   "execution_count": 31,
   "metadata": {},
   "outputs": [
    {
     "data": {
      "text/plain": [
       "array([[0.00000000e+00, 2.22044605e-16, 0.00000000e+00, ...,\n",
       "        0.00000000e+00, 0.00000000e+00, 1.00000000e+00],\n",
       "       [2.22044605e-16, 0.00000000e+00, 0.00000000e+00, ...,\n",
       "        0.00000000e+00, 1.00000000e+00, 0.00000000e+00],\n",
       "       [0.00000000e+00, 0.00000000e+00, 0.00000000e+00, ...,\n",
       "        0.00000000e+00, 0.00000000e+00, 0.00000000e+00],\n",
       "       ...,\n",
       "       [0.00000000e+00, 0.00000000e+00, 0.00000000e+00, ...,\n",
       "        0.00000000e+00, 0.00000000e+00, 0.00000000e+00],\n",
       "       [0.00000000e+00, 1.00000000e+00, 0.00000000e+00, ...,\n",
       "        0.00000000e+00, 0.00000000e+00, 2.22044605e-16],\n",
       "       [1.00000000e+00, 0.00000000e+00, 0.00000000e+00, ...,\n",
       "        0.00000000e+00, 2.22044605e-16, 0.00000000e+00]])"
      ]
     },
     "execution_count": 31,
     "metadata": {},
     "output_type": "execute_result"
    }
   ],
   "source": []
  },
  {
   "cell_type": "code",
   "execution_count": 40,
   "metadata": {},
   "outputs": [],
   "source": [
    "wrong=params_L.C_m.copy()"
   ]
  },
  {
   "cell_type": "code",
   "execution_count": 44,
   "metadata": {},
   "outputs": [
    {
     "data": {
      "text/plain": [
       "array([[-1.,  0.,  0., ...,  0.,  0.,  0.],\n",
       "       [ 0., -1.,  0., ..., -0.,  0.,  0.],\n",
       "       [ 0.,  0., -1., ...,  0., -0.,  0.],\n",
       "       ...,\n",
       "       [ 0., -0.,  0., ..., -1.,  0., -0.],\n",
       "       [ 0.,  0., -0., ...,  0., -1.,  0.],\n",
       "       [ 0.,  0.,  0., ..., -0.,  0., -1.]])"
      ]
     },
     "execution_count": 44,
     "metadata": {},
     "output_type": "execute_result"
    }
   ],
   "source": [
    "np.round(wrong@wrong,10)"
   ]
  },
  {
   "cell_type": "code",
   "execution_count": 77,
   "metadata": {},
   "outputs": [],
   "source": [
    "right=params_L.C_m.copy()"
   ]
  },
  {
   "cell_type": "code",
   "execution_count": 78,
   "metadata": {},
   "outputs": [
    {
     "data": {
      "text/plain": [
       "array([[0., 0., 0., ..., 0., 0., 0.],\n",
       "       [0., 0., 0., ..., 0., 0., 0.],\n",
       "       [0., 0., 0., ..., 0., 0., 0.],\n",
       "       ...,\n",
       "       [0., 0., 0., ..., 0., 0., 0.],\n",
       "       [0., 0., 0., ..., 0., 0., 0.],\n",
       "       [0., 0., 0., ..., 0., 0., 0.]])"
      ]
     },
     "execution_count": 78,
     "metadata": {},
     "output_type": "execute_result"
    }
   ],
   "source": [
    "wrong-right"
   ]
  },
  {
   "cell_type": "code",
   "execution_count": 84,
   "metadata": {},
   "outputs": [
    {
     "data": {
      "text/plain": [
       "array([[-1.00000000e+00,  0.00000000e+00,  4.79772352e-17, ...,\n",
       "         0.00000000e+00,  1.60461763e-16,  0.00000000e+00],\n",
       "       [ 0.00000000e+00, -1.00000000e+00,  0.00000000e+00, ...,\n",
       "         5.49473661e-16,  0.00000000e+00,  1.60461763e-16],\n",
       "       [ 4.79772352e-17,  0.00000000e+00, -1.00000000e+00, ...,\n",
       "         0.00000000e+00,  1.97324795e-16,  0.00000000e+00],\n",
       "       ...,\n",
       "       [ 0.00000000e+00,  5.49473661e-16,  0.00000000e+00, ...,\n",
       "        -1.00000000e+00,  0.00000000e+00, -1.26939806e-16],\n",
       "       [ 1.60461763e-16,  0.00000000e+00,  1.97324795e-16, ...,\n",
       "         0.00000000e+00, -1.00000000e+00,  0.00000000e+00],\n",
       "       [ 0.00000000e+00,  1.60461763e-16,  0.00000000e+00, ...,\n",
       "        -1.26939806e-16,  0.00000000e+00, -1.00000000e+00]])"
      ]
     },
     "execution_count": 84,
     "metadata": {},
     "output_type": "execute_result"
    }
   ],
   "source": [
    "wrong@wrong"
   ]
  },
  {
   "cell_type": "code",
   "execution_count": 5,
   "metadata": {},
   "outputs": [
    {
     "data": {
      "text/plain": [
       "array([[-1.,  0.,  0.,  0.,  0.,  0.,  0.,  0.],\n",
       "       [ 0., -1.,  0.,  0.,  0.,  0.,  0.,  0.],\n",
       "       [ 0.,  0., -1.,  0., -0.,  0.,  0.,  0.],\n",
       "       [ 0.,  0.,  0., -1.,  0., -0.,  0.,  0.],\n",
       "       [ 0.,  0., -0.,  0., -1.,  0., -0.,  0.],\n",
       "       [ 0.,  0.,  0., -0.,  0., -1.,  0., -0.],\n",
       "       [ 0.,  0.,  0.,  0., -0.,  0., -1.,  0.],\n",
       "       [ 0.,  0.,  0.,  0.,  0., -0.,  0., -1.]])"
      ]
     },
     "execution_count": 5,
     "metadata": {},
     "output_type": "execute_result"
    }
   ],
   "source": [
    "np.round(params_L.C_m@params_L.C_m,2)[:8,:8]"
   ]
  },
  {
   "cell_type": "code",
   "execution_count": null,
   "metadata": {},
   "outputs": [],
   "source": [
    "print(np.round(params_L.C_m[:8,:4],4))"
   ]
  },
  {
   "cell_type": "code",
   "execution_count": 50,
   "metadata": {},
   "outputs": [],
   "source": [
    "params_r2=Params(delta=0.5,L=np.inf,bc=-1,dmax=10)\n",
    "params_r2.covariance_matrix()\n"
   ]
  },
  {
   "cell_type": "code",
   "execution_count": 51,
   "metadata": {},
   "outputs": [
    {
     "data": {
      "text/plain": [
       "array([-0.03, -0.03, -1.  , -1.  , -0.97, -0.97, -1.  , -1.  , -1.  ,\n",
       "       -1.  , -1.  , -1.  , -1.  , -1.  , -1.  , -1.  , -1.  , -1.  ,\n",
       "       -1.  , -1.  , -1.  , -1.  , -1.  , -1.  , -1.  , -1.  , -1.  ,\n",
       "       -1.  , -1.  , -1.  , -1.  , -1.  , -1.  , -1.  , -0.97, -0.97,\n",
       "       -1.  , -1.  , -0.03, -0.03])"
      ]
     },
     "execution_count": 51,
     "metadata": {},
     "output_type": "execute_result"
    }
   ],
   "source": [
    "np.diag(np.round(params_r2.C_m@params_r2.C_m,2))"
   ]
  },
  {
   "cell_type": "code",
   "execution_count": null,
   "metadata": {},
   "outputs": [],
   "source": [
    "print(np.round(params_r2.C_m[:8,:4],4))"
   ]
  },
  {
   "cell_type": "code",
   "execution_count": null,
   "metadata": {},
   "outputs": [],
   "source": [
    "params_r2=Params(delta=0.,L=np.inf,bc=-1,dmax=100)\n",
    "%lprun -f Params.correlation_matrix_inf_fft params_r2.correlation_matrix_inf_fft(threshold=8192)"
   ]
  },
  {
   "cell_type": "code",
   "execution_count": null,
   "metadata": {},
   "outputs": [],
   "source": [
    "params=Params(delta=0,L=np.inf,bc=-1,dmax=100)\n",
    "%lprun -f Params.correlation_matrix_inf params.correlation_matrix_inf()"
   ]
  },
  {
   "cell_type": "code",
   "execution_count": null,
   "metadata": {},
   "outputs": [],
   "source": [
    "np.abs(params.C_f-params_r2.C_f).max()"
   ]
  },
  {
   "cell_type": "code",
   "execution_count": null,
   "metadata": {},
   "outputs": [],
   "source": [
    "params_r2.C_f.shape"
   ]
  },
  {
   "cell_type": "code",
   "execution_count": null,
   "metadata": {},
   "outputs": [],
   "source": [
    "np.abs(params.C_f-params_r2.C_f).max()"
   ]
  },
  {
   "cell_type": "code",
   "execution_count": null,
   "metadata": {},
   "outputs": [],
   "source": [
    "np.max(np.abs(params.C_f[:8,:8]-params_L.C_f[:8,:8]))"
   ]
  },
  {
   "cell_type": "code",
   "execution_count": null,
   "metadata": {},
   "outputs": [],
   "source": [
    "plt.imshow(params.C_f)"
   ]
  },
  {
   "cell_type": "code",
   "execution_count": null,
   "metadata": {},
   "outputs": [],
   "source": [
    "params_L.C_f.flatten()[199]"
   ]
  },
  {
   "cell_type": "code",
   "execution_count": null,
   "metadata": {},
   "outputs": [],
   "source": [
    "params_L.C_f[:2,2:4]"
   ]
  },
  {
   "cell_type": "code",
   "execution_count": null,
   "metadata": {},
   "outputs": [],
   "source": [
    "params_L.C_f[:2,-2:]"
   ]
  },
  {
   "cell_type": "code",
   "execution_count": null,
   "metadata": {},
   "outputs": [],
   "source": [
    "params.C_f[:2,2:4]"
   ]
  },
  {
   "cell_type": "code",
   "execution_count": null,
   "metadata": {},
   "outputs": [],
   "source": [
    "params.C_f[:2,-2:]"
   ]
  },
  {
   "cell_type": "code",
   "execution_count": null,
   "metadata": {},
   "outputs": [],
   "source": [
    "params_L.C_f[:2,100:102]"
   ]
  },
  {
   "cell_type": "code",
   "execution_count": null,
   "metadata": {},
   "outputs": [],
   "source": [
    "params.C_f[:2,100:102]"
   ]
  },
  {
   "cell_type": "code",
   "execution_count": null,
   "metadata": {},
   "outputs": [],
   "source": [
    "plt.plot(params.C_f[0])\n",
    "plt.plot(params_L.C_f[0])\n"
   ]
  },
  {
   "cell_type": "code",
   "execution_count": null,
   "metadata": {},
   "outputs": [],
   "source": [
    "plt.imshow(params_L.C_f)"
   ]
  },
  {
   "cell_type": "code",
   "execution_count": null,
   "metadata": {},
   "outputs": [],
   "source": [
    "params.C_f"
   ]
  },
  {
   "cell_type": "code",
   "execution_count": null,
   "metadata": {},
   "outputs": [],
   "source": [
    "params.C_f.flatten()[199]"
   ]
  },
  {
   "cell_type": "code",
   "execution_count": null,
   "metadata": {},
   "outputs": [],
   "source": [
    "params_L.C_f.flatten()[199]"
   ]
  },
  {
   "cell_type": "code",
   "execution_count": null,
   "metadata": {},
   "outputs": [],
   "source": [
    "np.abs(params.C_f[:8,:8]-params_L.C_f[:8,:8]).flatten()[199]"
   ]
  },
  {
   "cell_type": "code",
   "execution_count": null,
   "metadata": {},
   "outputs": [],
   "source": [
    "np.round(params.C_f,4)"
   ]
  },
  {
   "cell_type": "code",
   "execution_count": null,
   "metadata": {},
   "outputs": [],
   "source": [
    "params.measure_all_Born(type='link')"
   ]
  },
  {
   "cell_type": "code",
   "execution_count": null,
   "metadata": {},
   "outputs": [],
   "source": [
    "param.P"
   ]
  },
  {
   "cell_type": "code",
   "execution_count": null,
   "metadata": {},
   "outputs": [],
   "source": [
    "(params.P_0_list)"
   ]
  },
  {
   "cell_type": "code",
   "execution_count": null,
   "metadata": {},
   "outputs": [],
   "source": [
    "len(params.P_0_list)"
   ]
  },
  {
   "cell_type": "code",
   "execution_count": null,
   "metadata": {},
   "outputs": [],
   "source": [
    "params.projection('e-','link')"
   ]
  },
  {
   "cell_type": "code",
   "execution_count": null,
   "metadata": {},
   "outputs": [],
   "source": [
    "z=list(map(lambda x:params.von_Neumann_entropy_f(np.arange(x)),range(10,100,2)))"
   ]
  },
  {
   "cell_type": "code",
   "execution_count": null,
   "metadata": {},
   "outputs": [],
   "source": [
    "z2=list(map(lambda x:params.von_Neumann_entropy_m(np.arange(2*x)),range(10,100,2)))"
   ]
  },
  {
   "cell_type": "code",
   "execution_count": null,
   "metadata": {},
   "outputs": [],
   "source": [
    "plt.plot(list(z))\n",
    "plt.plot(list(z2))\n",
    "# plt.plot(list(zz)/(2*np.log(2)))"
   ]
  },
  {
   "cell_type": "code",
   "execution_count": null,
   "metadata": {},
   "outputs": [],
   "source": [
    "params.mutual_information_f(np.arange(10),np.arange(10)+10)"
   ]
  },
  {
   "cell_type": "code",
   "execution_count": null,
   "metadata": {},
   "outputs": [],
   "source": [
    "params.mutual_information_m(np.arange(20),np.arange(20)+20)"
   ]
  },
  {
   "cell_type": "code",
   "execution_count": null,
   "metadata": {},
   "outputs": [],
   "source": [
    "params.covariance_matrix()"
   ]
  },
  {
   "cell_type": "code",
   "execution_count": null,
   "metadata": {},
   "outputs": [],
   "source": [
    "plt.imshow(params.C_f)"
   ]
  },
  {
   "cell_type": "code",
   "execution_count": null,
   "metadata": {},
   "outputs": [],
   "source": [
    "print(np.round(params.C_m[:8,:8],4))"
   ]
  },
  {
   "cell_type": "code",
   "execution_count": null,
   "metadata": {},
   "outputs": [],
   "source": [
    "print(np.round(params.C_f[:8,:8],4))"
   ]
  },
  {
   "cell_type": "code",
   "execution_count": null,
   "metadata": {},
   "outputs": [],
   "source": []
  },
  {
   "cell_type": "code",
   "execution_count": null,
   "metadata": {},
   "outputs": [],
   "source": [
    "plt.imshow(params.C_m)"
   ]
  },
  {
   "cell_type": "code",
   "execution_count": null,
   "metadata": {},
   "outputs": [],
   "source": []
  },
  {
   "cell_type": "code",
   "execution_count": null,
   "metadata": {},
   "outputs": [],
   "source": [
    "def wrap():\n",
    "    band_list=[]\n",
    "    for delta in np.linspace(-.1,.1,100):\n",
    "        params=Params(delta=delta,bc=0)\n",
    "        params.bandstructure()\n",
    "        band_list.append(params.val)"
   ]
  },
  {
   "cell_type": "code",
   "execution_count": null,
   "metadata": {},
   "outputs": [],
   "source": [
    "plt.plot(np.linspace(-.1,.1,100),band_list)\n",
    "# plt.xlim([-1,1])\n",
    "plt.ylim([-.5,.5])"
   ]
  },
  {
   "cell_type": "code",
   "execution_count": null,
   "metadata": {},
   "outputs": [],
   "source": [
    "params.bandstructure()"
   ]
  },
  {
   "cell_type": "markdown",
   "metadata": {},
   "source": [
    "# No measure/ measure to +1 / measure to -1 / measure following Born rule"
   ]
  },
  {
   "cell_type": "code",
   "execution_count": 19,
   "metadata": {},
   "outputs": [],
   "source": [
    "delta_list=np.linspace(-1,1,100)**3\n",
    "MI_no_list=[]\n",
    "LN_no_list=[]\n",
    "for delta in delta_list:\n",
    "    params=Params(delta=delta,L=64,bc=-1)\n",
    "    # params.measure_all(1)\n",
    "    MI_no_list.append(params.mutual_information_m(np.arange(params.L),np.arange(params.L)+params.L*2))\n",
    "    LN_no_list.append(params.log_neg(np.arange(params.L),np.arange(params.L)+params.L*2))"
   ]
  },
  {
   "cell_type": "code",
   "execution_count": 21,
   "metadata": {},
   "outputs": [
    {
     "data": {
      "text/plain": [
       "[<matplotlib.lines.Line2D at 0x7f489d424160>]"
      ]
     },
     "execution_count": 21,
     "metadata": {},
     "output_type": "execute_result"
    },
    {
     "data": {
      "image/png": "[encoded data removed]",
      "text/plain": [
       "<Figure size 489.6x288 with 1 Axes>"
      ]
     },
     "metadata": {
      "needs_background": "light"
     },
     "output_type": "display_data"
    }
   ],
   "source": [
    "plt.plot(delta_list,LN_no_list,'.-')\n"
   ]
  },
  {
   "cell_type": "code",
   "execution_count": 22,
   "metadata": {},
   "outputs": [],
   "source": [
    "delta_list=np.linspace(-1,1,100)**3\n",
    "MI_no_inf_list=[]\n",
    "LN_no_inf_list=[]\n",
    "for delta in delta_list:\n",
    "    params=Params(delta=delta,L=np.inf,bc=-1,dmax=100)\n",
    "    # params.measure_all(1)\n",
    "    MI_no_inf_list.append(params.mutual_information_m(np.arange(params.dmax),np.arange(params.dmax)+params.dmax*2))\n",
    "    LN_no_inf_list.append(params.log_neg(np.arange(params.dmax),np.arange(params.dmax)+params.dmax*2))"
   ]
  },
  {
   "cell_type": "code",
   "execution_count": 23,
   "metadata": {},
   "outputs": [
    {
     "data": {
      "text/plain": [
       "[<matplotlib.lines.Line2D at 0x7f4882b39160>]"
      ]
     },
     "execution_count": 23,
     "metadata": {},
     "output_type": "execute_result"
    },
    {
     "data": {
      "image/png": "[encoded data removed]",
      "text/plain": [
       "<Figure size 489.6x288 with 1 Axes>"
      ]
     },
     "metadata": {
      "needs_background": "light"
     },
     "output_type": "display_data"
    }
   ],
   "source": [
    "plt.plot(delta_list,LN_no_inf_list,'.-')\n"
   ]
  },
  {
   "cell_type": "code",
   "execution_count": 52,
   "metadata": {},
   "outputs": [],
   "source": [
    "delta_list=np.linspace(-1,1,100)**3\n",
    "MI_neg_list=[]\n",
    "LN_neg_list=[]\n",
    "for delta in delta_list:\n",
    "    params=Params(delta=delta,L=64,bc=-1)\n",
    "    params.measure_all(1)\n",
    "    MI_neg_list.append(params.mutual_information_m(np.arange(params.L),np.arange(params.L)+params.L*2))\n",
    "    LN_neg_list.append(params.log_neg(np.arange(params.L),np.arange(params.L)+params.L*2))"
   ]
  },
  {
   "cell_type": "code",
   "execution_count": 54,
   "metadata": {},
   "outputs": [
    {
     "data": {
      "text/plain": [
       "[<matplotlib.lines.Line2D at 0x7f909c267790>]"
      ]
     },
     "execution_count": 54,
     "metadata": {},
     "output_type": "execute_result"
    },
    {
     "data": {
      "image/png": "[encoded data removed]",
      "text/plain": [
       "<Figure size 489.6x288 with 1 Axes>"
      ]
     },
     "metadata": {
      "needs_background": "light"
     },
     "output_type": "display_data"
    }
   ],
   "source": [
    "plt.plot(delta_list,LN_neg_list,'.-')\n",
    "plt.plot(delta_list,MI_neg_list,'.-')"
   ]
  },
  {
   "cell_type": "code",
   "execution_count": null,
   "metadata": {},
   "outputs": [],
   "source": [
    "plt.plot(delta_list,LN_neg_list/np.log(2),'.-')"
   ]
  },
  {
   "cell_type": "code",
   "execution_count": null,
   "metadata": {},
   "outputs": [],
   "source": [
    "delta_list=np.linspace(-1,1,100)**3\n",
    "MI_pos_list=[]\n",
    "LN_pos_list=[]\n",
    "for delta in delta_list:\n",
    "    params=Params(delta=delta,L=10,bc=-1)\n",
    "    params.measure_all(0)\n",
    "    MI_pos_list.append(params.mutual_information_m(np.arange(params.L),np.arange(params.L)+params.L*2))\n",
    "    LN_pos_list.append(params.log_neg(np.arange(params.L),np.arange(params.L)+params.L*2))"
   ]
  },
  {
   "cell_type": "code",
   "execution_count": null,
   "metadata": {},
   "outputs": [],
   "source": [
    "plt.plot(delta_list,LN_pos_list/np.log(2),'.-')"
   ]
  },
  {
   "cell_type": "code",
   "execution_count": null,
   "metadata": {},
   "outputs": [],
   "source": [
    "es=100\n",
    "L=64\n",
    "MI_Born_list=np.zeros((len(delta_list),(es)))\n",
    "LN_Born_list=np.zeros((len(delta_list),(es)))\n",
    "delta=0\n",
    "for d_i,delta in enumerate(delta_list):\n",
    "    # # Serial\n",
    "    # for es_i in range(es):\n",
    "    #     MI_Born_list[d_i,es_i]=Params(delta=delta,L=L).measure_all_Born().mutual_information_m(np.arange(params.L),np.arange(params.L)+params.L*2)\n",
    "    #     LN_Born_list[d_i,es_i]=Params(delta=delta,L=L).measure_all_Born().log_neg(np.arange(params.L),np.arange(params.L)+params.L*2)\n",
    "    \n",
    "    # Parallel\n",
    "    async_result=rc[:].map_sync((lambda p:Params(delta=p[0],L=p[1]).measure_all_Born().log_neg(np.arange(p[1]),np.arange(p[1])+p[1]*2)),[(delta,L) for _ in range(es)])\n",
    "    LN_Born_list[d_i,:]=async_result   "
   ]
  },
  {
   "cell_type": "markdown",
   "metadata": {},
   "source": [
    "## Born measurement"
   ]
  },
  {
   "cell_type": "code",
   "execution_count": 66,
   "metadata": {},
   "outputs": [],
   "source": [
    "delta_list=np.linspace(-1,1,40)**3\n",
    "es=100\n",
    "L=64\n",
    "MI_link_Born_list=np.zeros((len(delta_list),(es)))\n",
    "LN_link_Born_list=np.zeros((len(delta_list),(es)))\n",
    "delta=0\n",
    "for d_i,delta in enumerate(delta_list):\n",
    "    # # Serial\n",
    "    # for es_i in range(es):\n",
    "    #     # MI_link_Born_list[d_i,es_i]=Params(delta=delta,L=L).measure_all_Born().mutual_information_m(np.arange(params.L),np.arange(params.L)+params.L*2)\n",
    "    #     LN_link_Born_list[d_i,es_i]=Params(delta=delta,L=L).measure_all_Born(type='link').log_neg(np.arange(L),np.arange(L)+L*2)\n",
    "    \n",
    "    #Parallel\n",
    "    async_result=rc[:].map_sync((lambda p:Params(delta=p[0],L=p[1]).measure_all_Born(type='link').log_neg(np.arange(p[1]),np.arange(p[1])+p[1]*2)),[(delta,L) for _ in range(es)])\n",
    "    LN_link_Born_list[d_i,:]=async_result   "
   ]
  },
  {
   "cell_type": "code",
   "execution_count": 67,
   "metadata": {},
   "outputs": [
    {
     "data": {
      "image/png": "[encoded data removed]",
      "text/plain": [
       "<Figure size 489.6x288 with 1 Axes>"
      ]
     },
     "metadata": {
      "needs_background": "light"
     },
     "output_type": "display_data"
    }
   ],
   "source": [
    "fig,ax=plt.subplots()\n",
    "ax.errorbar(delta_list,LN_link_Born_list.mean(axis=1)/np.log(2),LN_link_Born_list.std(axis=1)/np.log(2)/np.sqrt(es-1),fmt='.-',capsize=3)\n",
    "ax.set_xlabel('m')\n",
    "ax.set_ylabel('log neg [log2]')\n",
    "fig.savefig('/mnt/d/KITP/Rp_SPT/8/LN_SSH_Born_link_L{:d}.pdf'.format(L),bbox_inches='tight')"
   ]
  },
  {
   "cell_type": "markdown",
   "metadata": {},
   "source": [
    "### projects to 00 & 11, breaking symm"
   ]
  },
  {
   "cell_type": "code",
   "execution_count": 68,
   "metadata": {},
   "outputs": [],
   "source": [
    "delta_list=np.linspace(-1,1,40)**3\n",
    "es=100\n",
    "L=64\n",
    "MI_link_nosymm_Born_list=np.zeros((len(delta_list),(es)))\n",
    "LN_link_nosymm_Born_list=np.zeros((len(delta_list),(es)))\n",
    "delta=0\n",
    "for d_i,delta in enumerate(delta_list):\n",
    "    # # Serial\n",
    "    # for es_i in range(es):\n",
    "    #     # MI_link_nosymm_Born_list[d_i,es_i]=Params(delta=delta,L=L).measure_all_Born().mutual_information_m(np.arange(params.L),np.arange(params.L)+params.L*2)\n",
    "    #     LN_link_nosymm_Born_list[d_i,es_i]=Params(delta=delta,L=L).measure_all_Born(type='link').log_neg(np.arange(L),np.arange(L)+L*2)\n",
    "    \n",
    "    #Parallel\n",
    "    async_result=rc[:].map_sync((lambda p:Params(delta=p[0],L=p[1]).measure_all_Born(type='link',ignore=True).log_neg(np.arange(p[1]),np.arange(p[1])+p[1]*2)),[(delta,L) for _ in range(es)])\n",
    "    LN_link_nosymm_Born_list[d_i,:]=async_result  "
   ]
  },
  {
   "cell_type": "code",
   "execution_count": 69,
   "metadata": {},
   "outputs": [
    {
     "data": {
      "image/png": "[encoded data removed]",
      "text/plain": [
       "<Figure size 489.6x288 with 1 Axes>"
      ]
     },
     "metadata": {
      "needs_background": "light"
     },
     "output_type": "display_data"
    }
   ],
   "source": [
    "fig,ax=plt.subplots()\n",
    "ax.errorbar(delta_list,LN_link_nosymm_Born_list.mean(axis=1)/np.log(2),LN_link_Born_list.std(axis=1)/np.log(2)/np.sqrt(es-1),fmt='.-',capsize=3)\n",
    "ax.set_xlabel('m')\n",
    "ax.set_ylabel('log neg [log2]')\n",
    "fig.savefig('/mnt/d/KITP/Rp_SPT/8/LN_SSH_Born_link_nosymm_L{:d}.pdf'.format(L),bbox_inches='tight')"
   ]
  },
  {
   "cell_type": "code",
   "execution_count": 33,
   "metadata": {},
   "outputs": [],
   "source": [
    "es=100\n",
    "L=64\n",
    "MI_link_Born_inf_list=np.zeros((len(delta_list),(es)))\n",
    "LN_link_Born_inf_list=np.zeros((len(delta_list),(es)))\n",
    "delta=0\n",
    "for d_i,delta in enumerate(delta_list):\n",
    "    # # Serial\n",
    "    # for es_i in range(es):\n",
    "    #     MI_link_Born_inf_list[d_i,es_i]=Params(delta=delta,L=L).measure_all_Born().mutual_information_m(np.arange(params.L),np.arange(params.L)+params.L*2)\n",
    "    #     LN_link_Born_inf_list[d_i,es_i]=Params(delta=delta,L=L).measure_all_Born(type='link').log_neg(np.arange(params.L),np.arange(params.L)+params.L*2)\n",
    "    \n",
    "    #Parallel\n",
    "    async_result=rc[:].map_sync((lambda p:Params(delta=p[0],L=np.inf,dmax=p[1]).measure_all_Born(type='link',proj_range=np.arange(p[1],2*p[1],4)).log_neg(np.arange(p[1]),np.arange(p[1])+p[1]*2)),[(delta,L) for _ in range(es)])\n",
    "    LN_link_Born_inf_list[d_i,:]=async_result   "
   ]
  },
  {
   "cell_type": "code",
   "execution_count": 38,
   "metadata": {},
   "outputs": [
    {
     "data": {
      "text/plain": [
       "<ErrorbarContainer object of 3 artists>"
      ]
     },
     "execution_count": 38,
     "metadata": {},
     "output_type": "execute_result"
    },
    {
     "data": {
      "image/png": "[encoded data removed]",
      "text/plain": [
       "<Figure size 489.6x288 with 1 Axes>"
      ]
     },
     "metadata": {
      "needs_background": "light"
     },
     "output_type": "display_data"
    }
   ],
   "source": [
    "plt.errorbar(delta_list,LN_link_Born_inf_list.mean(axis=1)/np.log(2),LN_link_Born_inf_list.std(axis=1)/np.log(2),fmt='.-',capsize=3)"
   ]
  },
  {
   "cell_type": "code",
   "execution_count": null,
   "metadata": {},
   "outputs": [],
   "source": [
    "# plt.plot(delta_list,MI_no_list)\n",
    "plt.plot(delta_list,LN_no_list/np.log(2))\n",
    "\n",
    "# plt.plot(delta_list,MI_pos_list)\n",
    "plt.plot(delta_list,LN_pos_list)\n",
    "\n",
    "# plt.plot(delta_list,MI_neg_list)\n",
    "# plt.plot(delta_list,LN_neg_list)\n",
    "\n",
    "# plt.plot(delta_list,np.array(MI_Born_list).mean(axis=1))\n",
    "plt.plot(delta_list,np.array(LN_Born_list/np.log(2)).mean(axis=1))\n",
    "\n",
    "plt.plot(delta_list,np.array(LN_link_Born_list/np.log(2)).mean(axis=1))\n",
    "\n",
    "\n"
   ]
  },
  {
   "cell_type": "code",
   "execution_count": null,
   "metadata": {},
   "outputs": [],
   "source": [
    "fig,ax=plt.subplots()\n",
    "colorlist=iter('bgrcmyk')\n",
    "ax.plot(delta_list,LN_no_list/np.log(2),'.-',label='No measure',color=colorlist.__next__())\n",
    "ax.plot(delta_list,np.array(LN_Born_list/np.log(2)).mean(axis=1),'.-',label='Onsite measurement',color=colorlist.__next__())\n",
    "ax.plot(delta_list,np.array(LN_link_Born_list/np.log(2)).mean(axis=1),'.-',label='Link measurement',color=colorlist.__next__())\n",
    "\n",
    "ax.legend()\n",
    "ax.grid('on')\n",
    "ax.set_xlabel(r'$\\delta$')\n",
    "ax.set_ylabel(r'log neg [log 2]')\n",
    "\n",
    "fig.savefig('/mnt/d/kitp/Rp_SPT/7/LN_Measure.pdf',bbox_inches='tight')"
   ]
  },
  {
   "cell_type": "markdown",
   "metadata": {},
   "source": [
    "# Scaling at $\\delta=0$"
   ]
  },
  {
   "cell_type": "markdown",
   "metadata": {},
   "source": [
    "## No measurement"
   ]
  },
  {
   "cell_type": "code",
   "execution_count": null,
   "metadata": {},
   "outputs": [],
   "source": [
    "eta_no_list=[]\n",
    "MI_no_list=[]\n",
    "LN_no_list=[]\n",
    "L=128\n",
    "params=Params(delta=0,L=L,bc=-1)\n",
    "for _ in range(500):\n",
    "    x=sorted(4*np.random.choice(np.arange(1,L),3,replace=False))\n",
    "    x=[0]+x\n",
    "    eta=cross_ratio(x,4*params.L)\n",
    "    eta_no_list.append(eta)\n",
    "    subregionA=np.arange(x[0],x[1])\n",
    "    subregionB=np.arange(x[2],x[3])\n",
    "    MI=params.mutual_information_m(subregionA,subregionB)    \n",
    "    MI_no_list.append(MI)\n",
    "    LN=params.log_neg(subregionA,subregionB)\n",
    "    LN_no_list.append(LN)\n",
    "eta_no_list=np.array(eta_no_list)\n",
    "MI_no_list=np.array(MI_no_list)\n",
    "LN_no_list=np.array(LN_no_list)"
   ]
  },
  {
   "cell_type": "code",
   "execution_count": null,
   "metadata": {},
   "outputs": [],
   "source": [
    "import matplotlib.patches as mpatches\n",
    "def place_region(x,y,fig,ax,color='ybyk'):  \n",
    "    # fig,ax=plt.subplots()\n",
    "    arc=[mpatches.Arc((x,y),50,50,-theta,0,90,transform=None,ec=ec,lw=5) for theta,ec in zip(np.arange(4)*90,color)]\n",
    "    [fig.artists.append(arc) for arc in arc]\n",
    "    ax.text(x+25,y+25,r'$A$',transform=None,ha='center',va='center')\n",
    "    ax.text(x+25,y-25,r'$A^\\prime$',transform=None,ha='center',va='center')\n",
    "    ax.text(x-25,y-25,r'$B$',transform=None,ha='center',va='center')\n",
    "    ax.text(x-25,y+25,r'$B^\\prime$',transform=None,ha='center',va='center')"
   ]
  },
  {
   "cell_type": "code",
   "execution_count": null,
   "metadata": {},
   "outputs": [],
   "source": [
    "fig,ax=plt.subplots()\n",
    "ax.scatter(eta_no_list,MI_no_list,s=1,color='b',label='L=128, MI')\n",
    "ax.scatter(eta_no_list,LN_no_list,s=1,color='r',label='L=128, LN')\n",
    "\n",
    "ax.set_xscale('log')\n",
    "ax.set_yscale('log')\n",
    "ax.set_xlim([np.min(eta_no_list),1])\n",
    "# ax.set_ylim([1e-10,1])\n",
    "\n",
    "mask_MI=(MI_no_list>1e-10)&((eta_no_list)<0.1)\n",
    "lr_MI=scipy.stats.linregress(np.log(eta_no_list[mask_MI]),np.log(MI_no_list[mask_MI]))\n",
    "x_int=np.linspace(np.min(eta_no_list),1,10)\n",
    "y_int=np.exp(lr_MI.slope*np.log(x_int)+lr_MI.intercept)\n",
    "ax.plot(x_int,y_int,'c',label=r'MI$\\propto\\eta^{{{:.2f}}}$'.format(lr_MI.slope))\n",
    "\n",
    "mask_LN=(LN_no_list>1e-10)&((eta_no_list)<0.1)\n",
    "lr_LN=scipy.stats.linregress(np.log(eta_no_list[mask_LN]),np.log(LN_no_list[mask_LN]))\n",
    "x_int=np.linspace(np.min(eta_no_list),1,10)\n",
    "y_int=np.exp(lr_LN.slope*np.log(x_int)+lr_LN.intercept)\n",
    "ax.plot(x_int,y_int,label=r'LN$\\propto\\eta^{{{:.2f}}}$'.format(lr_LN.slope),color='orange')\n",
    "ax.set_xlabel(r'$\\eta$')\n",
    "ax.legend()\n",
    "\n",
    "place_region(200,200,fig,ax,'ykyk')\n",
    "fig.savefig('/mnt/d/kitp/Rp_SPT/7/MI_LN_no.pdf')"
   ]
  },
  {
   "cell_type": "markdown",
   "metadata": {},
   "source": [
    "## Onsite A'"
   ]
  },
  {
   "cell_type": "code",
   "execution_count": null,
   "metadata": {},
   "outputs": [],
   "source": [
    "with open('/mnt/d/kitp/Rp_SPT/7/MI_LN_Born_es100_pt100_Ap_onsite.pickle','rb') as f:\n",
    "    eta_Born_onsite_Ap_list,MI_Born_onsite_Ap_list,LN_Born_onsite_Ap_list=pickle.load(f)"
   ]
  },
  {
   "cell_type": "code",
   "execution_count": null,
   "metadata": {},
   "outputs": [],
   "source": [
    "eta_Born_onsite_Ap_list=[]\n",
    "MI_Born_onsite_Ap_list=[]\n",
    "LN_Born_onsite_Ap_list=[]\n",
    "# x_list=[]\n",
    "# subregion_list=[]\n",
    "es=10\n",
    "L=128\n",
    "params_init=Params(delta=0,L=L,bc=-1)\n",
    "for _ in range(20):\n",
    "    MI_ensemble_list=[]\n",
    "    LN_ensemble_list=[]\n",
    "    x=sorted(4*np.random.choice(np.arange(1,L),3,replace=False))\n",
    "    x=[0]+x\n",
    "    subregionA=np.arange(x[0],x[1])\n",
    "    subregionB=np.arange(x[2],x[3])\n",
    "    subregionAp=np.arange(x[1],x[2],2)\n",
    "    eta=cross_ratio(x,4*L)\n",
    "    for _ in range(es):\n",
    "        params=copy(params_init)\n",
    "        params.measure_all_Born(subregionAp)\n",
    "        MI_ensemble_list.append(params.mutual_information_m(subregionA,subregionB))\n",
    "        LN_ensemble_list.append(params.log_neg(subregionA,subregionB))\n",
    "\n",
    "    eta_Born_onsite_Ap_list.append(eta)\n",
    "    MI_Born_onsite_Ap_list.append(MI_ensemble_list)\n",
    "    LN_Born_onsite_Ap_list.append(LN_ensemble_list)\n",
    "eta_Born_onsite_Ap_list=np.array(eta_Born_onsite_Ap_list)\n",
    "MI_Born_onsite_Ap_list=np.array(MI_Born_onsite_Ap_list)\n",
    "LN_Born_onsite_Ap_list=np.array(LN_Born_onsite_Ap_list)"
   ]
  },
  {
   "cell_type": "code",
   "execution_count": null,
   "metadata": {},
   "outputs": [],
   "source": [
    "MI_Born_onsite_Ap_list_mean=MI_Born_onsite_Ap_list.mean(axis=1)\n",
    "LN_Born_onsite_Ap_list_mean=LN_Born_onsite_Ap_list.mean(axis=1)\n",
    "fig,ax=plt.subplots()\n",
    "ax.scatter(eta_Born_onsite_Ap_list,MI_Born_onsite_Ap_list_mean,s=1,color='b',label='L=128, MI')\n",
    "ax.scatter(eta_Born_onsite_Ap_list,LN_Born_onsite_Ap_list_mean,s=1,color='r',label='L=128, LN')\n",
    "\n",
    "ax.set_xscale('log')\n",
    "ax.set_yscale('log')\n",
    "ax.set_xlim([np.min(eta_Born_onsite_Ap_list),1])\n",
    "# ax.set_ylim([1e-10,1])\n",
    "\n",
    "mask_MI=(MI_Born_onsite_Ap_list_mean>1e-10)&((eta_Born_onsite_Ap_list)<0.1)\n",
    "lr_MI=scipy.stats.linregress(np.log(eta_Born_onsite_Ap_list[mask_MI]),np.log(MI_Born_onsite_Ap_list_mean[mask_MI]))\n",
    "x_int=np.linspace(np.min(eta_Born_onsite_Ap_list),1,10)\n",
    "y_int=np.exp(lr_MI.slope*np.log(x_int)+lr_MI.intercept)\n",
    "ax.plot(x_int,y_int,'c',label=r'MI$\\propto\\eta^{{{:.2f}}}$'.format(lr_MI.slope))\n",
    "\n",
    "mask_LN=(LN_Born_onsite_Ap_list_mean>1e-10)&((eta_Born_onsite_Ap_list)<0.1)\n",
    "lr_LN=scipy.stats.linregress(np.log(eta_Born_onsite_Ap_list[mask_LN]),np.log(LN_Born_onsite_Ap_list_mean[mask_LN]))\n",
    "x_int=np.linspace(np.min(eta_Born_onsite_Ap_list),1,10)\n",
    "y_int=np.exp(lr_LN.slope*np.log(x_int)+lr_LN.intercept)\n",
    "ax.plot(x_int,y_int,label=r'LN$\\propto\\eta^{{{:.2f}}}$'.format(lr_LN.slope),color='orange')\n",
    "ax.set_xlabel(r'$\\eta$')\n",
    "ax.legend()\n",
    "\n",
    "place_region(200,200,fig,ax,'ycyk')\n",
    "# fig.savefig('/mnt/d/kitp/Rp_SPT/7/MI_LN_Born_onsite_Ap.pdf')\n"
   ]
  },
  {
   "cell_type": "markdown",
   "metadata": {},
   "source": [
    "## Onsite $A'\\cup B'$"
   ]
  },
  {
   "cell_type": "code",
   "execution_count": null,
   "metadata": {},
   "outputs": [],
   "source": [
    "with open('/mnt/d/kitp/Rp_SPT/7/MI_LN_Born_es100_pt100_ApBp_onsite.pickle','rb') as f:\n",
    "    eta_Born_onsite_ApBp_list,MI_Born_onsite_ApBp_list,LN_Born_onsite_ApBp_list=pickle.load(f)"
   ]
  },
  {
   "cell_type": "code",
   "execution_count": null,
   "metadata": {},
   "outputs": [],
   "source": [
    "eta_Born_onsite_ApBp_list=[]\n",
    "MI_Born_onsite_ApBp_list=[]\n",
    "LN_Born_onsite_ApBp_list=[]\n",
    "# x_list=[]\n",
    "# subregion_list=[]\n",
    "es=10\n",
    "L=128\n",
    "for _ in range(20):\n",
    "    MI_ensemble_list=[]\n",
    "    LN_ensemble_list=[]\n",
    "    x=sorted(4*np.random.choice(np.arange(1,L),3,replace=False))\n",
    "    x=[0]+x\n",
    "    subregionA=np.arange(x[0],x[1])\n",
    "    subregionB=np.arange(x[2],x[3])\n",
    "    subregionAp=np.arange(x[1],x[2],2)\n",
    "    subregionBp=np.concatenate([np.arange(x[3],2*L,2),np.arange(0,x[0],2)])\n",
    "    eta=cross_ratio(x,4*L)\n",
    "    for _ in range(es):\n",
    "        params=Params(delta=0,L=L,bc=-1).measure_all_Born(subregionAp).measure_all_Born(subregionBp)\n",
    "        MI_ensemble_list.append(params.mutual_information_m(subregionA,subregionB))\n",
    "        LN_ensemble_list.append(params.log_neg(subregionA,subregionB))\n",
    "\n",
    "    eta_Born_onsite_ApBp_list.append(eta)\n",
    "    MI_Born_onsite_ApBp_list.append(MI_ensemble_list)\n",
    "    LN_Born_onsite_ApBp_list.append(LN_ensemble_list)\n",
    "eta_Born_onsite_ApBp_list=np.array(eta_Born_onsite_ApBp_list)\n",
    "MI_Born_onsite_ApBp_list=np.array(MI_Born_onsite_ApBp_list)\n",
    "LN_Born_onsite_ApBp_list=np.array(LN_Born_onsite_ApBp_list)"
   ]
  },
  {
   "cell_type": "code",
   "execution_count": null,
   "metadata": {},
   "outputs": [],
   "source": [
    "MI_Born_onsite_ApBp_list_mean=MI_Born_onsite_ApBp_list.mean(axis=1)\n",
    "LN_Born_onsite_ApBp_list_mean=LN_Born_onsite_ApBp_list.mean(axis=1)\n",
    "fig,ax=plt.subplots()\n",
    "ax.scatter(eta_Born_onsite_ApBp_list,MI_Born_onsite_ApBp_list_mean,s=1,color='b',label='L=256, MI')\n",
    "ax.scatter(eta_Born_onsite_ApBp_list,LN_Born_onsite_ApBp_list_mean,s=1,color='r',label='L=256, LN')\n",
    "\n",
    "ax.set_xscale('log')\n",
    "ax.set_yscale('log')\n",
    "ax.set_xlim([np.min(eta_Born_onsite_ApBp_list),1])\n",
    "# ax.set_ylim([1e-10,1])\n",
    "\n",
    "mask_MI=(MI_Born_onsite_ApBp_list_mean>1e-10)&((eta_Born_onsite_ApBp_list)<0.1)\n",
    "lr_MI=scipy.stats.linregress(np.log(eta_Born_onsite_ApBp_list[mask_MI]),np.log(MI_Born_onsite_ApBp_list_mean[mask_MI]))\n",
    "x_int=np.linspace(np.min(eta_Born_onsite_ApBp_list),1,10)\n",
    "y_int=np.exp(lr_MI.slope*np.log(x_int)+lr_MI.intercept)\n",
    "ax.plot(x_int,y_int,'c',label=r'MI$\\propto\\eta^{{{:.2f}}}$'.format(lr_MI.slope))\n",
    "\n",
    "mask_LN=(LN_Born_onsite_ApBp_list_mean>1e-10)&((eta_Born_onsite_ApBp_list)<0.1)\n",
    "lr_LN=scipy.stats.linregress(np.log(eta_Born_onsite_ApBp_list[mask_LN]),np.log(LN_Born_onsite_ApBp_list_mean[mask_LN]))\n",
    "x_int=np.linspace(np.min(eta_Born_onsite_ApBp_list),1,10)\n",
    "y_int=np.exp(lr_LN.slope*np.log(x_int)+lr_LN.intercept)\n",
    "ax.plot(x_int,y_int,label=r'LN$\\propto\\eta^{{{:.2f}}}$'.format(lr_LN.slope),color='orange')\n",
    "ax.set_xlabel(r'$\\eta$')\n",
    "ax.legend()\n",
    "\n",
    "place_region(200,200,fig,ax,'ycyc')\n",
    "fig.savefig('/mnt/d/kitp/Rp_SPT/7/MI_LN_Born_onsite_ApBp.pdf')\n"
   ]
  },
  {
   "cell_type": "markdown",
   "metadata": {},
   "source": [
    "## Link A'"
   ]
  },
  {
   "cell_type": "code",
   "execution_count": null,
   "metadata": {},
   "outputs": [],
   "source": [
    "eta_Born_link_Ap_list=[]\n",
    "MI_Born_link_Ap_list=[]\n",
    "LN_Born_link_Ap_list=[]\n",
    "# x_list=[]\n",
    "# subregion_list=[]\n",
    "es=10\n",
    "L=128\n",
    "for _ in range(100):\n",
    "    MI_ensemble_list=[]\n",
    "    LN_ensemble_list=[]\n",
    "    x=sorted(4*np.random.choice(np.arange(1,L),3,replace=False))\n",
    "    x=[0]+x\n",
    "    subregionA=np.arange(x[0],x[1])\n",
    "    subregionB=np.arange(x[2],x[3])\n",
    "    subregionAp=np.arange(x[1],x[2],4)\n",
    "    eta=cross_ratio(x,4*L)\n",
    "    for _ in range(es):\n",
    "        params=Params(delta=0,L=L,bc=-1).measure_all_Born(subregionAp,type='link')\n",
    "        MI_ensemble_list.append(params.mutual_information_m(subregionA,subregionB))\n",
    "        LN_ensemble_list.append(params.log_neg(subregionA,subregionB))\n",
    "\n",
    "    eta_Born_link_Ap_list.append(eta)\n",
    "    MI_Born_link_Ap_list.append(MI_ensemble_list)\n",
    "    LN_Born_link_Ap_list.append(LN_ensemble_list)\n",
    "eta_Born_link_Ap_list=np.array(eta_Born_link_Ap_list)\n",
    "MI_Born_link_Ap_list=np.array(MI_Born_link_Ap_list)\n",
    "LN_Born_link_Ap_list=np.array(LN_Born_link_Ap_list)"
   ]
  },
  {
   "cell_type": "code",
   "execution_count": null,
   "metadata": {},
   "outputs": [],
   "source": [
    "with open('/mnt/d/kitp/Rp_SPT/7/MI_LN_Born_es100_pt500_Ap_link.pickle','rb') as f:\n",
    "    eta_Born_link_Ap_list,MI_Born_link_Ap_list,LN_Born_link_Ap_list=pickle.load(f)"
   ]
  },
  {
   "cell_type": "code",
   "execution_count": null,
   "metadata": {},
   "outputs": [],
   "source": [
    "MI_Born_link_Ap_list_mean=MI_Born_link_Ap_list.mean(axis=1)\n",
    "LN_Born_link_Ap_list_mean=LN_Born_link_Ap_list.mean(axis=1)\n",
    "fig,ax=plt.subplots()\n",
    "ax.scatter(eta_Born_link_Ap_list,MI_Born_link_Ap_list_mean,s=1,color='b',label='L=256, MI')\n",
    "ax.scatter(eta_Born_link_Ap_list,LN_Born_link_Ap_list_mean,s=1,color='r',label='L=256, LN')\n",
    "\n",
    "ax.set_xscale('log')\n",
    "ax.set_yscale('log')\n",
    "ax.set_xlim([np.min(eta_Born_link_Ap_list),1])\n",
    "# ax.set_ylim([1e-10,1])\n",
    "\n",
    "mask_MI=(MI_Born_link_Ap_list_mean>1e-10)&((eta_Born_link_Ap_list)<0.1)\n",
    "lr_MI=scipy.stats.linregress(np.log(eta_Born_link_Ap_list[mask_MI]),np.log(MI_Born_link_Ap_list_mean[mask_MI]))\n",
    "x_int=np.linspace(np.min(eta_Born_link_Ap_list),1,10)\n",
    "y_int=np.exp(lr_MI.slope*np.log(x_int)+lr_MI.intercept)\n",
    "ax.plot(x_int,y_int,'c',label=r'MI$\\propto\\eta^{{{:.2f}}}$'.format(lr_MI.slope))\n",
    "\n",
    "mask_LN=(LN_Born_link_Ap_list_mean>1e-10)&((eta_Born_link_Ap_list)<0.1)\n",
    "lr_LN=scipy.stats.linregress(np.log(eta_Born_link_Ap_list[mask_LN]),np.log(LN_Born_link_Ap_list_mean[mask_LN]))\n",
    "x_int=np.linspace(np.min(eta_Born_link_Ap_list),1,10)\n",
    "y_int=np.exp(lr_LN.slope*np.log(x_int)+lr_LN.intercept)\n",
    "ax.plot(x_int,y_int,label=r'LN$\\propto\\eta^{{{:.2f}}}$'.format(lr_LN.slope),color='orange')\n",
    "ax.set_xlabel(r'$\\eta$')\n",
    "ax.legend()\n",
    "\n",
    "place_region(200,200,fig,ax,'ycyk')\n",
    "fig.savefig('/mnt/d/kitp/Rp_SPT/7/MI_LN_Born_link_Ap.pdf')\n"
   ]
  },
  {
   "cell_type": "markdown",
   "metadata": {},
   "source": [
    "## Link $A'\\cup B'$"
   ]
  },
  {
   "cell_type": "code",
   "execution_count": null,
   "metadata": {},
   "outputs": [],
   "source": [
    "eta_Born_link_ApBp_list=[]\n",
    "MI_Born_link_ApBp_list=[]\n",
    "LN_Born_link_ApBp_list=[]\n",
    "# x_list=[]\n",
    "# subregion_list=[]\n",
    "es=10\n",
    "L=128\n",
    "for _ in range(20):\n",
    "    MI_ensemble_list=[]\n",
    "    LN_ensemble_list=[]\n",
    "    x=sorted(4*np.random.choice(np.arange(1,L),3,replace=False))\n",
    "    x=[0]+x\n",
    "    subregionA=np.arange(x[0],x[1])\n",
    "    subregionB=np.arange(x[2],x[3])\n",
    "    subregionAp=np.arange(x[1],x[2],4)\n",
    "    subregionBp=np.concatenate([np.arange(x[3],2*L,4),np.arange(0,x[0],4)])\n",
    "    eta=cross_ratio(x,4*L)\n",
    "    for _ in range(es):\n",
    "        params=Params(delta=0,L=L,bc=-1).measure_all_Born(subregionAp).measure_all_Born(subregionBp)\n",
    "        MI_ensemble_list.append(params.mutual_information_m(subregionA,subregionB))\n",
    "        LN_ensemble_list.append(params.log_neg(subregionA,subregionB))\n",
    "\n",
    "    eta_Born_link_ApBp_list.append(eta)\n",
    "    MI_Born_link_ApBp_list.append(MI_ensemble_list)\n",
    "    LN_Born_link_ApBp_list.append(LN_ensemble_list)\n",
    "eta_Born_link_ApBp_list=np.array(eta_Born_link_ApBp_list)\n",
    "MI_Born_link_ApBp_list=np.array(MI_Born_link_ApBp_list)\n",
    "LN_Born_link_ApBp_list=np.array(LN_Born_link_ApBp_list)"
   ]
  },
  {
   "cell_type": "code",
   "execution_count": null,
   "metadata": {},
   "outputs": [],
   "source": [
    "with open('/mnt/d/kitp/Rp_SPT/7/MI_LN_Born_es100_pt500_ApBp_link.pickle','rb') as f:\n",
    "    eta_Born_link_ApBp_list,MI_Born_link_ApBp_list,LN_Born_link_ApBp_list=pickle.load(f)"
   ]
  },
  {
   "cell_type": "code",
   "execution_count": null,
   "metadata": {},
   "outputs": [],
   "source": [
    "MI_Born_link_ApBp_list_mean=MI_Born_link_ApBp_list.mean(axis=1)\n",
    "LN_Born_link_ApBp_list_mean=LN_Born_link_ApBp_list.mean(axis=1)\n",
    "fig,ax=plt.subplots()\n",
    "ax.scatter(eta_Born_link_ApBp_list,MI_Born_link_ApBp_list_mean,s=1,color='b',label='L=256, MI')\n",
    "ax.scatter(eta_Born_link_ApBp_list,LN_Born_link_ApBp_list_mean,s=1,color='r',label='L=256, LN')\n",
    "\n",
    "ax.set_xscale('log')\n",
    "ax.set_yscale('log')\n",
    "ax.set_xlim([np.min(eta_Born_link_ApBp_list),1])\n",
    "# ax.set_ylim([1e-10,1])\n",
    "\n",
    "mask_MI=(MI_Born_link_ApBp_list_mean>1e-10)&((eta_Born_link_ApBp_list)<0.1)\n",
    "lr_MI=scipy.stats.linregress(np.log(eta_Born_link_ApBp_list[mask_MI]),np.log(MI_Born_link_ApBp_list_mean[mask_MI]))\n",
    "x_int=np.linspace(np.min(eta_Born_link_ApBp_list),1,10)\n",
    "y_int=np.exp(lr_MI.slope*np.log(x_int)+lr_MI.intercept)\n",
    "ax.plot(x_int,y_int,'c',label=r'MI$\\propto\\eta^{{{:.2f}}}$'.format(lr_MI.slope))\n",
    "\n",
    "mask_LN=(LN_Born_link_ApBp_list_mean>1e-10)&((eta_Born_link_ApBp_list)<0.1)\n",
    "lr_LN=scipy.stats.linregress(np.log(eta_Born_link_ApBp_list[mask_LN]),np.log(LN_Born_link_ApBp_list_mean[mask_LN]))\n",
    "x_int=np.linspace(np.min(eta_Born_link_ApBp_list),1,10)\n",
    "y_int=np.exp(lr_LN.slope*np.log(x_int)+lr_LN.intercept)\n",
    "ax.plot(x_int,y_int,label=r'LN$\\propto\\eta^{{{:.2f}}}$'.format(lr_LN.slope),color='orange')\n",
    "ax.set_xlabel(r'$\\eta$')\n",
    "ax.legend()\n",
    "\n",
    "place_region(200,200,fig,ax,'ycyc')\n",
    "fig.savefig('/mnt/d/kitp/Rp_SPT/7/MI_LN_Born_link_ApBp.pdf')\n"
   ]
  },
  {
   "cell_type": "markdown",
   "metadata": {},
   "source": [
    "# Scaling at $\\delta=0$ for infinite long wire"
   ]
  },
  {
   "cell_type": "markdown",
   "metadata": {},
   "source": [
    "## No measurement"
   ]
  },
  {
   "cell_type": "code",
   "execution_count": 25,
   "metadata": {},
   "outputs": [],
   "source": [
    "import matplotlib.patches as mpatches\n",
    "def place_region_wire(x,y,fig,ax,color='yky'):  \n",
    "    # fig,ax=plt.subplots()\n",
    "    arc=[mpatches.Arc((x,y),50,50,-theta,0,90,transform=None,ec=ec,lw=5) for theta,ec in zip(np.arange(4)*90,color)]\n",
    "    lineA=mpatches.Rectangle((x,y),50,5,transform=None,fc=color[0],lw=0)\n",
    "    lineAp=mpatches.Rectangle((x+50,y),100,5,transform=None,fc=color[1],lw=0)\n",
    "    lineB=mpatches.Rectangle((x+150,y),50,5,transform=None,fc=color[2],lw=0)\n",
    "    [fig.artists.append(line) for line in (lineA,lineAp,lineB)]\n",
    "    ax.text(x+25,y+10,r'$A$',transform=None,ha='center',va='center')\n",
    "    ax.text(x+100,y+10,r'$A^\\prime$',transform=None,ha='center',va='center')\n",
    "    ax.text(x+175,y+10,r'$B$',transform=None,ha='center',va='center')"
   ]
  },
  {
   "cell_type": "code",
   "execution_count": null,
   "metadata": {},
   "outputs": [],
   "source": [
    "eta_inf_no_list=[]\n",
    "MI_inf_no_list=[]\n",
    "LN_inf_no_list=[]\n",
    "L=np.inf\n",
    "dist_list=range(4,256)\n",
    "params=Params(delta=0,L=L,bc=-1,dmax=dist_list[-1]+32)\n",
    "for d in dist_list:\n",
    "    x=np.array([0,16,16+d,32+d])*4\n",
    "    eta=cross_ratio(x,L)\n",
    "    eta_inf_no_list.append(eta)\n",
    "    subregionA=np.arange(x[0],x[1])\n",
    "    subregionB=np.arange(x[2],x[3])\n",
    "    MI=params.mutual_information_m(subregionA,subregionB)    \n",
    "    MI_inf_no_list.append(MI)\n",
    "    LN=params.log_neg(subregionA,subregionB)\n",
    "    LN_inf_no_list.append(LN)\n",
    "eta_inf_no_list=np.array(eta_inf_no_list)\n",
    "MI_inf_no_list=np.array(MI_inf_no_list)\n",
    "LN_inf_no_list=np.array(LN_inf_no_list)"
   ]
  },
  {
   "cell_type": "code",
   "execution_count": null,
   "metadata": {},
   "outputs": [],
   "source": [
    "fig,ax=plt.subplots()\n",
    "ax.scatter(eta_inf_no_list,MI_inf_no_list,s=1,color='b',label='L={}, MI'.format(L))\n",
    "ax.scatter(eta_inf_no_list,LN_inf_no_list,s=1,color='r',label='L={}, LN'.format(L))\n",
    "\n",
    "ax.set_xscale('log')\n",
    "ax.set_yscale('log')\n",
    "# ax.set_xlim([np.min(eta_inf_no_list),1])\n",
    "# ax.set_ylim([1e-10,1])\n",
    "\n",
    "mask_MI=(MI_inf_no_list>1e-10)&((eta_inf_no_list)<1)\n",
    "lr_MI=scipy.stats.linregress(np.log(eta_inf_no_list[mask_MI]),np.log(MI_inf_no_list[mask_MI]))\n",
    "x_int=np.linspace(np.min(eta_inf_no_list),np.max(eta_inf_no_list),2)\n",
    "y_int=np.exp(lr_MI.slope*np.log(x_int)+lr_MI.intercept)\n",
    "ax.plot(x_int,y_int,'c',label=r'MI$\\propto\\eta^{{{:.2f}}}$'.format(lr_MI.slope))\n",
    "\n",
    "mask_LN=(LN_inf_no_list>1e-10)&((eta_inf_no_list)<1)\n",
    "lr_LN=scipy.stats.linregress(np.log(eta_inf_no_list[mask_LN]),np.log(LN_inf_no_list[mask_LN]))\n",
    "x_int=np.linspace(np.min(eta_inf_no_list),np.max(eta_inf_no_list),2)\n",
    "y_int=np.exp(lr_LN.slope*np.log(x_int)+lr_LN.intercept)\n",
    "ax.plot(x_int,y_int,label=r'LN$\\propto\\eta^{{{:.2f}}}$'.format(lr_LN.slope),color='orange')\n",
    "ax.set_xlabel(r'$\\eta$')\n",
    "ax.legend()\n",
    "\n",
    "place_region_wire(140,220,fig,ax,color='yky')\n",
    "fig.savefig('/mnt/d/kitp/Rp_SPT/7/MI_LN_inf_no.pdf')"
   ]
  },
  {
   "cell_type": "markdown",
   "metadata": {},
   "source": [
    "## onsite A'"
   ]
  },
  {
   "cell_type": "code",
   "execution_count": null,
   "metadata": {},
   "outputs": [],
   "source": [
    "den=(22,23)\n",
    "with open('/mnt/d/kitp/Rp_SPT/7/MI_LN_SSH_inf_Born_En500_onsite_den({},{})_dist(8,500).pickle'.format(den[0],den[1]),'rb') as f:\n",
    "    [dist_list,eta_inf_Born_onsite_Ap_list,MI_inf_Born_onsite_Ap_list,LN_inf_Born_onsite_Ap_list]=pickle.load(f)"
   ]
  },
  {
   "cell_type": "code",
   "execution_count": null,
   "metadata": {},
   "outputs": [],
   "source": [
    "with open('MI_LN_SSH_inf_Born_En100_onsite_den(1,1)_dist(8,40).pickle','rb') as f:\n",
    "    [dist_list,eta_inf_Born_onsite_Ap_list,MI_inf_Born_onsite_Ap_list,LN_inf_Born_onsite_Ap_list]=pickle.load(f)"
   ]
  },
  {
   "cell_type": "code",
   "execution_count": null,
   "metadata": {},
   "outputs": [],
   "source": [
    "eta_inf_Born_onsite_Ap_list=[]\n",
    "MI_inf_Born_onsite_Ap_list=[]\n",
    "LN_inf_Born_onsite_Ap_list=[]\n",
    "es=100\n",
    "L=np.inf\n",
    "dist_list=range(8,40)\n",
    "params_init=Params(delta=0,L=L,bc=-1,dmax=dist_list[-1]+32)\n",
    "for d in dist_list:\n",
    "    MI_ensemble_list=[]\n",
    "    LN_ensemble_list=[]\n",
    "    x=np.array([0,16,16+d,32+d])*4\n",
    "    subregionA=np.arange(x[0],x[1])\n",
    "    subregionB=np.arange(x[2],x[3])\n",
    "    subregionAp=np.arange(x[1],x[2],2)\n",
    "    eta=cross_ratio(x,4*L)\n",
    "    for _ in range(es):\n",
    "        params=copy(params_init)\n",
    "        params.measure_all_Born(subregionAp)\n",
    "        MI_ensemble_list.append(params.mutual_information_m(subregionA,subregionB))\n",
    "        LN_ensemble_list.append(params.log_neg(subregionA,subregionB))\n",
    "\n",
    "    eta_inf_Born_onsite_Ap_list.append(eta)\n",
    "    MI_inf_Born_onsite_Ap_list.append(MI_ensemble_list)\n",
    "    LN_inf_Born_onsite_Ap_list.append(LN_ensemble_list)\n",
    "eta_inf_Born_onsite_Ap_list=np.array(eta_inf_Born_onsite_Ap_list)\n",
    "MI_inf_Born_onsite_Ap_list=np.array(MI_inf_Born_onsite_Ap_list)\n",
    "LN_inf_Born_onsite_Ap_list=np.array(LN_inf_Born_onsite_Ap_list)"
   ]
  },
  {
   "cell_type": "code",
   "execution_count": null,
   "metadata": {},
   "outputs": [],
   "source": [
    "den=(49,50)\n",
    "with open('/mnt/d/kitp/Rp_SPT/7/MI_LN_SSH_inf_Born_En500_onsite_prob({},{})_dist(8,100).pickle'.format(den[0],den[1]),'rb') as f:\n",
    "    [dist_list,eta_inf_Born_onsite_Ap_list,MI_inf_Born_onsite_Ap_list,LN_inf_Born_onsite_Ap_list]=pickle.load(f)\n",
    "\n",
    "L=np.inf\n",
    "MI_inf_Born_onsite_Ap_list_mean=MI_inf_Born_onsite_Ap_list.mean(axis=1)\n",
    "LN_inf_Born_onsite_Ap_list_mean=LN_inf_Born_onsite_Ap_list.mean(axis=1)\n",
    "fig,ax=plt.subplots()\n",
    "ax.scatter(eta_inf_Born_onsite_Ap_list,MI_inf_Born_onsite_Ap_list_mean,s=1,color='b',label='L={}, MI'.format(L))\n",
    "ax.scatter(eta_inf_Born_onsite_Ap_list,LN_inf_Born_onsite_Ap_list_mean,s=1,color='r',label='L={}, LN'.format(L))\n",
    "\n",
    "ax.set_xscale('log')\n",
    "ax.set_yscale('log')\n",
    "ax.set_xlim([np.min(eta_inf_Born_onsite_Ap_list),np.max(eta_inf_Born_onsite_Ap_list)])\n",
    "# ax.set_ylim([1e-10,1])\n",
    "\n",
    "mask_MI=(MI_inf_Born_onsite_Ap_list_mean>1e-10)&((eta_inf_Born_onsite_Ap_list)<1)\n",
    "lr_MI=scipy.stats.linregress(np.log(eta_inf_Born_onsite_Ap_list[mask_MI]),np.log(MI_inf_Born_onsite_Ap_list_mean[mask_MI]))\n",
    "x_int=np.linspace(np.min(eta_inf_Born_onsite_Ap_list),np.max(eta_inf_Born_onsite_Ap_list),10)\n",
    "y_int=np.exp(lr_MI.slope*np.log(x_int)+lr_MI.intercept)\n",
    "ax.plot(x_int,y_int,'c',label=r'MI$\\propto\\eta^{{{:.2f}}}$'.format(lr_MI.slope))\n",
    "\n",
    "mask_LN=(LN_inf_Born_onsite_Ap_list_mean>1e-10)&((eta_inf_Born_onsite_Ap_list)<1)\n",
    "lr_LN=scipy.stats.linregress(np.log(eta_inf_Born_onsite_Ap_list[mask_LN]),np.log(LN_inf_Born_onsite_Ap_list_mean[mask_LN]))\n",
    "x_int=np.linspace(np.min(eta_inf_Born_onsite_Ap_list),np.max(eta_inf_Born_onsite_Ap_list),10)\n",
    "y_int=np.exp(lr_LN.slope*np.log(x_int)+lr_LN.intercept)\n",
    "ax.plot(x_int,y_int,label=r'LN$\\propto\\eta^{{{:.2f}}}$'.format(lr_LN.slope),color='orange')\n",
    "ax.set_xlabel(r'$\\eta$')\n",
    "ax.legend()\n",
    "place_region_wire(140,220,fig,ax,color='yby')\n",
    "# fig.savefig('/mnt/d/kitp/Rp_SPT/7/MI_LN_inf_Born_onsite_Ap_den({},{}).pdf'.format(den[0],den[1]))\n"
   ]
  },
  {
   "cell_type": "code",
   "execution_count": null,
   "metadata": {},
   "outputs": [],
   "source": [
    "# 100c, 500es, 40-500, 39,40, onsite\n",
    "91.5*np.sum(np.arange(40,500,40)/40)"
   ]
  },
  {
   "cell_type": "markdown",
   "metadata": {},
   "source": [
    "## Link A'"
   ]
  },
  {
   "cell_type": "code",
   "execution_count": null,
   "metadata": {},
   "outputs": [],
   "source": [
    "den=(14,15)\n",
    "with open('/mnt/d/kitp/Rp_SPT/7/MI_LN_SSH_inf_Born_En1000_link_den({},{})_dist(8,500).pickle'.format(den[0],den[1]),'rb') as f:\n",
    "    [dist_list,eta_inf_Born_link_Ap_list,MI_inf_Born_link_Ap_list,LN_inf_Born_link_Ap_list]=pickle.load(f)"
   ]
  },
  {
   "cell_type": "code",
   "execution_count": null,
   "metadata": {},
   "outputs": [],
   "source": [
    "with open('MI_LN_SSH_inf_Born_En1000_link_den(1,1)_dist(8,100).pickle','rb') as f:\n",
    "    [dist_list,eta_inf_Born_link_Ap_list,MI_inf_Born_link_Ap_list,LN_inf_Born_link_Ap_list]=pickle.load(f)"
   ]
  },
  {
   "cell_type": "code",
   "execution_count": null,
   "metadata": {},
   "outputs": [],
   "source": [
    "eta_inf_Born_link_Ap_list=[]\n",
    "MI_inf_Born_link_Ap_list=[]\n",
    "LN_inf_Born_link_Ap_list=[]\n",
    "es=1000\n",
    "L=np.inf\n",
    "dist_list=range(8,100)\n",
    "params_init=Params(delta=0,L=L,bc=-1,dmax=dist_list[-1]+32)\n",
    "for d in dist_list:\n",
    "    MI_ensemble_list=[]\n",
    "    LN_ensemble_list=[]\n",
    "    x=np.array([0,16,16+d,32+d])*4\n",
    "    subregionA=np.arange(x[0],x[1])\n",
    "    subregionB=np.arange(x[2],x[3])\n",
    "    subregionAp=np.arange(x[1],x[2],4)\n",
    "    eta=cross_ratio(x,4*L)\n",
    "    for _ in range(es):\n",
    "        params=copy(params_init)\n",
    "        params.measure_all_Born(subregionAp,type='link')\n",
    "        MI_ensemble_list.append(params.mutual_information_m(subregionA,subregionB))\n",
    "        LN_ensemble_list.append(params.log_neg(subregionA,subregionB))\n",
    "\n",
    "    eta_inf_Born_link_Ap_list.append(eta)\n",
    "    MI_inf_Born_link_Ap_list.append(MI_ensemble_list)\n",
    "    LN_inf_Born_link_Ap_list.append(LN_ensemble_list)\n",
    "eta_inf_Born_link_Ap_list=np.array(eta_inf_Born_link_Ap_list)\n",
    "MI_inf_Born_link_Ap_list=np.array(MI_inf_Born_link_Ap_list)\n",
    "LN_inf_Born_link_Ap_list=np.array(LN_inf_Born_link_Ap_list)"
   ]
  },
  {
   "cell_type": "code",
   "execution_count": null,
   "metadata": {},
   "outputs": [],
   "source": [
    "den=(49,50)\n",
    "with open('/mnt/d/kitp/Rp_SPT/7/MI_LN_SSH_inf_Born_En1000_link_prob({},{})_dist(8,100).pickle'.format(den[0],den[1]),'rb') as f:\n",
    "    [dist_list,eta_inf_Born_link_Ap_list,MI_inf_Born_link_Ap_list,LN_inf_Born_link_Ap_list]=pickle.load(f)\n",
    "\n",
    "L=np.inf\n",
    "MI_inf_Born_link_Ap_list_mean=MI_inf_Born_link_Ap_list.mean(axis=1)\n",
    "LN_inf_Born_link_Ap_list_mean=LN_inf_Born_link_Ap_list.mean(axis=1)\n",
    "fig,ax=plt.subplots()\n",
    "ax.scatter(eta_inf_Born_link_Ap_list,MI_inf_Born_link_Ap_list_mean,s=1,color='b',label='L={}, MI'.format(L))\n",
    "ax.scatter(eta_inf_Born_link_Ap_list,LN_inf_Born_link_Ap_list_mean,s=1,color='r',label='L={}, LN'.format(L))\n",
    "\n",
    "ax.set_xscale('log')\n",
    "ax.set_yscale('log')\n",
    "ax.set_xlim([np.min(eta_inf_Born_link_Ap_list),np.max(eta_inf_Born_link_Ap_list)])\n",
    "# ax.set_ylim([1e-10,1])\n",
    "\n",
    "mask_MI=(MI_inf_Born_link_Ap_list_mean>1e-10)&((eta_inf_Born_link_Ap_list)<1)\n",
    "lr_MI=scipy.stats.linregress(np.log(eta_inf_Born_link_Ap_list[mask_MI]),np.log(MI_inf_Born_link_Ap_list_mean[mask_MI]))\n",
    "x_int=np.linspace(np.min(eta_inf_Born_link_Ap_list),np.max(eta_inf_Born_link_Ap_list),10)\n",
    "y_int=np.exp(lr_MI.slope*np.log(x_int)+lr_MI.intercept)\n",
    "ax.plot(x_int,y_int,'c',label=r'MI$\\propto\\eta^{{{:.2f}}}$'.format(lr_MI.slope))\n",
    "\n",
    "mask_LN=(LN_inf_Born_link_Ap_list_mean>1e-10)&((eta_inf_Born_link_Ap_list)<1)\n",
    "lr_LN=scipy.stats.linregress(np.log(eta_inf_Born_link_Ap_list[mask_LN]),np.log(LN_inf_Born_link_Ap_list_mean[mask_LN]))\n",
    "x_int=np.linspace(np.min(eta_inf_Born_link_Ap_list),np.max(eta_inf_Born_link_Ap_list),10)\n",
    "y_int=np.exp(lr_LN.slope*np.log(x_int)+lr_LN.intercept)\n",
    "ax.plot(x_int,y_int,label=r'LN$\\propto\\eta^{{{:.2f}}}$'.format(lr_LN.slope),color='orange')\n",
    "ax.set_xlabel(r'$\\eta$')\n",
    "ax.legend()\n",
    "place_region_wire(140,220,fig,ax,color='yby')\n",
    "# fig.savefig('/mnt/d/kitp/Rp_SPT/7/MI_LN_inf_Born_link_Ap_den({},{}).pdf'.format(den[0],den[1]))\n"
   ]
  },
  {
   "cell_type": "code",
   "execution_count": null,
   "metadata": {},
   "outputs": [],
   "source": [
    "MI_inf_Born_link_Ap_list_mean=MI_inf_Born_link_Ap_list.mean(axis=1)\n",
    "LN_inf_Born_link_Ap_list_mean=LN_inf_Born_link_Ap_list.mean(axis=1)\n",
    "L=np.inf\n",
    "MI_inf_Born_link_Ap_list_mean_even=MI_inf_Born_link_Ap_list_mean[np.array(dist_list)%2==0]\n",
    "LN_inf_Born_link_Ap_list_mean_even=LN_inf_Born_link_Ap_list_mean[np.array(dist_list)%2==0]\n",
    "eta_inf_Born_link_Ap_list_even=eta_inf_Born_link_Ap_list[np.array(dist_list)%2==0]\n",
    "fig,ax=plt.subplots()\n",
    "ax.scatter(eta_inf_Born_link_Ap_list_even,MI_inf_Born_link_Ap_list_mean_even,s=1,color='b',label='L={}, MI'.format(L))\n",
    "ax.scatter(eta_inf_Born_link_Ap_list_even,LN_inf_Born_link_Ap_list_mean_even,s=1,color='r',label='L={}, LN'.format(L))\n",
    "\n",
    "ax.set_xscale('log')\n",
    "ax.set_yscale('log')\n",
    "ax.set_xlim([np.min(eta_inf_Born_link_Ap_list_even),np.max(eta_inf_Born_link_Ap_list_even)])\n",
    "# ax.set_ylim([1e-10,1])\n",
    "\n",
    "mask_MI=(MI_inf_Born_link_Ap_list_mean_even>1e-10)&((eta_inf_Born_link_Ap_list_even)<1.0)\n",
    "lr_MI=scipy.stats.linregress(np.log(eta_inf_Born_link_Ap_list_even[mask_MI]),np.log(MI_inf_Born_link_Ap_list_mean_even[mask_MI]))\n",
    "x_int=np.linspace(np.min(eta_inf_Born_link_Ap_list_even),np.max(eta_inf_Born_link_Ap_list_even),10)\n",
    "y_int=np.exp(lr_MI.slope*np.log(x_int)+lr_MI.intercept)\n",
    "ax.plot(x_int,y_int,'c',label=r'MI$\\propto\\eta^{{{:.2f}}}$'.format(lr_MI.slope))\n",
    "\n",
    "mask_LN=(LN_inf_Born_link_Ap_list_mean_even>1e-10)&((eta_inf_Born_link_Ap_list_even)<1.0)\n",
    "lr_LN=scipy.stats.linregress(np.log(eta_inf_Born_link_Ap_list_even[mask_LN]),np.log(LN_inf_Born_link_Ap_list_mean_even[mask_LN]))\n",
    "x_int=np.linspace(np.min(eta_inf_Born_link_Ap_list_even),np.max(eta_inf_Born_link_Ap_list_even),10)\n",
    "y_int=np.exp(lr_LN.slope*np.log(x_int)+lr_LN.intercept)\n",
    "ax.plot(x_int,y_int,label=r'LN$\\propto\\eta^{{{:.2f}}}$'.format(lr_LN.slope),color='orange')\n",
    "ax.set_xlabel(r'$\\eta$')\n",
    "ax.legend()\n",
    "\n",
    "place_region_wire(140,220,fig,ax,color='yry')\n",
    "fig.savefig('/mnt/d/kitp/Rp_SPT/7/MI_LN_inf_Born_link_Ap_even_den({},{}).pdf'.format(den[0],den[1]))\n"
   ]
  },
  {
   "cell_type": "code",
   "execution_count": null,
   "metadata": {},
   "outputs": [],
   "source": [
    "MI_inf_Born_link_Ap_list_mean=MI_inf_Born_link_Ap_list.mean(axis=1)\n",
    "LN_inf_Born_link_Ap_list_mean=LN_inf_Born_link_Ap_list.mean(axis=1)\n",
    "\n",
    "MI_inf_Born_link_Ap_list_mean_odd=MI_inf_Born_link_Ap_list_mean[np.array(dist_list)%2==1]\n",
    "LN_inf_Born_link_Ap_list_mean_odd=LN_inf_Born_link_Ap_list_mean[np.array(dist_list)%2==1]\n",
    "eta_inf_Born_link_Ap_list_odd=eta_inf_Born_link_Ap_list[np.array(dist_list)%2==0]\n",
    "fig,ax=plt.subplots()\n",
    "ax.scatter(eta_inf_Born_link_Ap_list_odd,MI_inf_Born_link_Ap_list_mean_odd,s=1,color='b',label='L={}, MI'.format(L))\n",
    "ax.scatter(eta_inf_Born_link_Ap_list_odd,LN_inf_Born_link_Ap_list_mean_odd,s=1,color='r',label='L={}, LN'.format(L))\n",
    "\n",
    "ax.set_xscale('log')\n",
    "ax.set_yscale('log')\n",
    "ax.set_xlim([np.min(eta_inf_Born_link_Ap_list_odd),np.max(eta_inf_Born_link_Ap_list_odd)])\n",
    "# ax.set_ylim([1e-10,1])\n",
    "\n",
    "mask_MI=(MI_inf_Born_link_Ap_list_mean_odd>1e-10)&((eta_inf_Born_link_Ap_list_odd)<1)\n",
    "lr_MI=scipy.stats.linregress(np.log(eta_inf_Born_link_Ap_list_odd[mask_MI]),np.log(MI_inf_Born_link_Ap_list_mean_odd[mask_MI]))\n",
    "x_int=np.linspace(np.min(eta_inf_Born_link_Ap_list_odd),np.max(eta_inf_Born_link_Ap_list_odd),10)\n",
    "y_int=np.exp(lr_MI.slope*np.log(x_int)+lr_MI.intercept)\n",
    "ax.plot(x_int,y_int,'c',label=r'MI$\\propto\\eta^{{{:.2f}}}$'.format(lr_MI.slope))\n",
    "\n",
    "mask_LN=(LN_inf_Born_link_Ap_list_mean_odd>1e-10)&((eta_inf_Born_link_Ap_list_odd)<1)\n",
    "lr_LN=scipy.stats.linregress(np.log(eta_inf_Born_link_Ap_list_odd[mask_LN]),np.log(LN_inf_Born_link_Ap_list_mean_odd[mask_LN]))\n",
    "x_int=np.linspace(np.min(eta_inf_Born_link_Ap_list_odd),np.max(eta_inf_Born_link_Ap_list_odd),10)\n",
    "y_int=np.exp(lr_LN.slope*np.log(x_int)+lr_LN.intercept)\n",
    "ax.plot(x_int,y_int,label=r'LN$\\propto\\eta^{{{:.2f}}}$'.format(lr_LN.slope),color='orange')\n",
    "ax.set_xlabel(r'$\\eta$')\n",
    "ax.legend()\n",
    "\n",
    "place_region_wire(140,220,fig,ax,color='yry')\n",
    "fig.savefig('/mnt/d/kitp/Rp_SPT/7/MI_LN_inf_Born_link_Ap_odd_den({},{}).pdf'.format(den[0],den[1]))"
   ]
  },
  {
   "cell_type": "code",
   "execution_count": null,
   "metadata": {},
   "outputs": [],
   "source": [
    "# 100c, 500es, 40-500, 39,40, link\n",
    "78.8*np.sum(np.arange(40,500,40)/40)"
   ]
  },
  {
   "cell_type": "code",
   "execution_count": null,
   "metadata": {},
   "outputs": [],
   "source": [
    "np.random.rand(10)"
   ]
  },
  {
   "cell_type": "markdown",
   "metadata": {},
   "source": [
    "## Dep of operator density"
   ]
  },
  {
   "cell_type": "markdown",
   "metadata": {},
   "source": [
    "### onsite"
   ]
  },
  {
   "cell_type": "code",
   "execution_count": 6,
   "metadata": {},
   "outputs": [],
   "source": [
    "import os,re"
   ]
  },
  {
   "cell_type": "code",
   "execution_count": null,
   "metadata": {},
   "outputs": [],
   "source": [
    "dist_den_list={}\n",
    "eta_inf_Born_onsite_Ap_den_list={}\n",
    "MI_inf_Born_onsite_Ap_den_list={}\n",
    "LN_inf_Born_onsite_Ap_den_list={}\n",
    "for den in range(1,200):\n",
    "    with open('/mnt/d/kitp/Rp_SPT/7/Data_onsite_prob/MI_LN_SSH_inf_Born_En500_onsite_prob({},{})_dist(8,100).pickle'.format(den,den+1),'rb') as f:\n",
    "        [dist_den_list[den],eta_inf_Born_onsite_Ap_den_list[den],MI_inf_Born_onsite_Ap_den_list[den],LN_inf_Born_onsite_Ap_den_list[den]]=pickle.load(f)"
   ]
  },
  {
   "cell_type": "markdown",
   "metadata": {},
   "source": [
    "#### size of A 16"
   ]
  },
  {
   "cell_type": "code",
   "execution_count": 1,
   "metadata": {},
   "outputs": [],
   "source": [
    "pwd_16='/mnt/d/KITP/Rp_SPT/7/Data_onsite_prob/16'\n",
    "fn_onsite_16=[i for i in os.listdir(pwd_16) if '.pickle' in i]"
   ]
  },
  {
   "cell_type": "code",
   "execution_count": 7,
   "metadata": {},
   "outputs": [],
   "source": [
    "pwd_16='/mnt/d/KITP/Rp_SPT/7/Data_onsite_prob/16'\n",
    "fn_onsite_16=[i for i in os.listdir(pwd_16) if '.pickle' in i]\n",
    "prob_onsite_16_list=[]\n",
    "dist_den_onsite_16_list={}\n",
    "eta_inf_Born_onsite_Ap_den_16_list={}\n",
    "MI_inf_Born_onsite_Ap_den_16_list={}\n",
    "LN_inf_Born_onsite_Ap_den_16_list={}\n",
    "for fn in fn_onsite_16:\n",
    "    den=tuple([int(i) for i in (re.search(r'(?<=prob\\()(\\d)+\\,(\\d)+(?=\\))',fn).group(0)).split(',')])\n",
    "    prob_onsite_16_list.append(den)\n",
    "    with open(os.path.join(pwd_16,fn),'rb') as f:\n",
    "        [dist_den_onsite_16_list[den],eta_inf_Born_onsite_Ap_den_16_list[den],MI_inf_Born_onsite_Ap_den_16_list[den],LN_inf_Born_onsite_Ap_den_16_list[den]]=pickle.load(f)"
   ]
  },
  {
   "cell_type": "code",
   "execution_count": 8,
   "metadata": {},
   "outputs": [],
   "source": [
    "# %%capture\n",
    "lr_MI_onsite_16_list=[]\n",
    "lr_LN_onsite_16_list=[]\n",
    "for prob in prob_onsite_16_list:\n",
    "    L=np.inf\n",
    "    MI_inf_Born_onsite_Ap_den_16_list_mean=MI_inf_Born_onsite_Ap_den_16_list[prob].mean(axis=1)\n",
    "    LN_inf_Born_onsite_Ap_den_16_list_mean=LN_inf_Born_onsite_Ap_den_16_list[prob].mean(axis=1)\n",
    "    # fig,ax=plt.subplots()\n",
    "    # ax.scatter(eta_inf_Born_onsite_Ap_den_16_list[prob],MI_inf_Born_onsite_Ap_den_16_list_mean,s=1,color='b',label='L={}, MI'.format(L))\n",
    "    # ax.scatter(eta_inf_Born_onsite_Ap_den_16_list[prob],LN_inf_Born_onsite_Ap_den_16_list_mean,s=1,color='r',label='L={}, LN'.format(L))\n",
    "\n",
    "    # ax.set_xscale('log')\n",
    "    # ax.set_yscale('log')\n",
    "    # ax.set_xlim([np.min(eta_inf_Born_onsite_Ap_den_16_list[prob]),np.max(eta_inf_Born_onsite_Ap_den_16_list[prob])])\n",
    "    # ax.set_ylim([1e-10,1])\n",
    "\n",
    "    mask_MI=(MI_inf_Born_onsite_Ap_den_16_list_mean>1e-10)&((eta_inf_Born_onsite_Ap_den_16_list[prob])<0.1)\n",
    "    lr_MI_onsite=scipy.stats.linregress(np.log(eta_inf_Born_onsite_Ap_den_16_list[prob][mask_MI]),np.log(MI_inf_Born_onsite_Ap_den_16_list_mean[mask_MI]))\n",
    "    lr_MI_onsite_16_list.append(lr_MI_onsite)\n",
    "    # x_int=np.linspace(np.min(eta_inf_Born_onsite_Ap_den_16_list[prob]),np.max(eta_inf_Born_onsite_Ap_den_16_list[prob]),10)\n",
    "    # y_int=np.exp(lr_MI_onsite.slope*np.log(x_int)+lr_MI_onsite.intercept)\n",
    "    # ax.plot(x_int,y_int,'c',label=r'MI$\\propto\\eta^{{{:.2f}}}$'.format(lr_MI_onsite.slope))\n",
    "\n",
    "    mask_LN=(LN_inf_Born_onsite_Ap_den_16_list_mean>1e-10)&((eta_inf_Born_onsite_Ap_den_16_list[prob])<0.1)\n",
    "    lr_LN_onsite=scipy.stats.linregress(np.log(eta_inf_Born_onsite_Ap_den_16_list[prob][mask_LN]),np.log(LN_inf_Born_onsite_Ap_den_16_list_mean[mask_LN]))\n",
    "    lr_LN_onsite_16_list.append(lr_LN_onsite)\n",
    "    # x_int=np.linspace(np.min(eta_inf_Born_onsite_Ap_den_16_list[prob]),np.max(eta_inf_Born_onsite_Ap_den_16_list[prob]),10)\n",
    "    # y_int=np.exp(lr_LN_onsite.slope*np.log(x_int)+lr_LN_onsite.intercept)\n",
    "    # ax.plot(x_int,y_int,label=r'LN$\\propto\\eta^{{{:.2f}}}$'.format(lr_LN_onsite.slope),color='orange')\n",
    "    # ax.set_xlabel(r'$\\eta$')\n",
    "    # ax.legend()\n",
    "    # place_region_wire(140,220,fig,ax,color='yby')\n",
    "    # fig.savefig('/mnt/d/kitp/Rp_SPT/7/Data_onsite_prob/16/MI_LN_inf_Born_onsite_Ap_prob({},{}).pdf'.format(prob[0],prob[1]))"
   ]
  },
  {
   "cell_type": "code",
   "execution_count": 9,
   "metadata": {},
   "outputs": [],
   "source": [
    "# prob_16_list=np.arange(1,200)/(np.arange(1,200)+1)\n",
    "onsite_LN_exp_16=np.array([x.slope for x in lr_LN_onsite_16_list])\n",
    "onsite_MI_exp_16=np.array([x.slope for x in lr_MI_onsite_16_list])"
   ]
  },
  {
   "cell_type": "markdown",
   "metadata": {},
   "source": [
    "#### size of A 32"
   ]
  },
  {
   "cell_type": "code",
   "execution_count": 120,
   "metadata": {},
   "outputs": [],
   "source": [
    "pwd_32='/mnt/d/KITP/Rp_SPT/7/Data_onsite_prob/32'\n",
    "fn_onsite_32=[i for i in os.listdir(pwd_32) if '.pickle' in i]"
   ]
  },
  {
   "cell_type": "code",
   "execution_count": 23,
   "metadata": {},
   "outputs": [],
   "source": [
    "pwd_32='/mnt/d/KITP/Rp_SPT/7/Data_onsite_prob/32'\n",
    "fn_onsite_32=[i for i in os.listdir(pwd_32) if 'dist(8,200)_size32.pickle' in i]\n",
    "prob_onsite_32_list=[]\n",
    "dist_den_onsite_32_list={}\n",
    "eta_inf_Born_onsite_Ap_den_32_list={}\n",
    "MI_inf_Born_onsite_Ap_den_32_list={}\n",
    "LN_inf_Born_onsite_Ap_den_32_list={}\n",
    "for fn in fn_onsite_32:\n",
    "    den=tuple([int(i) for i in (re.search(r'(?<=prob\\()(\\d)+\\,(\\d)+(?=\\))',fn).group(0)).split(',')])\n",
    "    prob_onsite_32_list.append(den)\n",
    "    with open(os.path.join(pwd_32,fn),'rb') as f:\n",
    "        [dist_den_onsite_32_list[den],eta_inf_Born_onsite_Ap_den_32_list[den],MI_inf_Born_onsite_Ap_den_32_list[den],LN_inf_Born_onsite_Ap_den_32_list[den]]=pickle.load(f)"
   ]
  },
  {
   "cell_type": "code",
   "execution_count": 35,
   "metadata": {},
   "outputs": [],
   "source": [
    "%%capture\n",
    "lr_MI_onsite_32_list=[]\n",
    "lr_LN_onsite_32_list=[]\n",
    "for prob in prob_onsite_32_list:\n",
    "    L=np.inf\n",
    "    MI_inf_Born_onsite_Ap_den_32_list_mean=MI_inf_Born_onsite_Ap_den_32_list[prob].mean(axis=1)\n",
    "    LN_inf_Born_onsite_Ap_den_32_list_mean=LN_inf_Born_onsite_Ap_den_32_list[prob].mean(axis=1)\n",
    "    fig,ax=plt.subplots()\n",
    "    ax.scatter(eta_inf_Born_onsite_Ap_den_32_list[prob],MI_inf_Born_onsite_Ap_den_32_list_mean,s=1,color='b',label='L={}, MI'.format(L))\n",
    "    ax.scatter(eta_inf_Born_onsite_Ap_den_32_list[prob],LN_inf_Born_onsite_Ap_den_32_list_mean,s=1,color='r',label='L={}, LN'.format(L))\n",
    "\n",
    "    ax.set_xscale('log')\n",
    "    ax.set_yscale('log')\n",
    "    ax.set_xlim([np.min(eta_inf_Born_onsite_Ap_den_32_list[prob]),np.max(eta_inf_Born_onsite_Ap_den_32_list[prob])])\n",
    "    # ax.set_ylim([1e-10,1])\n",
    "\n",
    "    mask_MI=(MI_inf_Born_onsite_Ap_den_32_list_mean>1e-10)&((eta_inf_Born_onsite_Ap_den_32_list[prob])<0.4)\n",
    "    lr_MI_onsite=scipy.stats.linregress(np.log(eta_inf_Born_onsite_Ap_den_32_list[prob][mask_MI]),np.log(MI_inf_Born_onsite_Ap_den_32_list_mean[mask_MI]))\n",
    "    lr_MI_onsite_32_list.append(lr_MI_onsite)\n",
    "    x_int=np.linspace(np.min(eta_inf_Born_onsite_Ap_den_32_list[prob]),np.max(eta_inf_Born_onsite_Ap_den_32_list[prob]),10)\n",
    "    y_int=np.exp(lr_MI_onsite.slope*np.log(x_int)+lr_MI_onsite.intercept)\n",
    "    ax.plot(x_int,y_int,'c',label=r'MI$\\propto\\eta^{{{:.2f}}}$'.format(lr_MI_onsite.slope))\n",
    "\n",
    "    mask_LN=(LN_inf_Born_onsite_Ap_den_32_list_mean>1e-10)&((eta_inf_Born_onsite_Ap_den_32_list[prob])<0.4)\n",
    "    lr_LN_onsite=scipy.stats.linregress(np.log(eta_inf_Born_onsite_Ap_den_32_list[prob][mask_LN]),np.log(LN_inf_Born_onsite_Ap_den_32_list_mean[mask_LN]))\n",
    "    lr_LN_onsite_32_list.append(lr_LN_onsite)\n",
    "    x_int=np.linspace(np.min(eta_inf_Born_onsite_Ap_den_32_list[prob]),np.max(eta_inf_Born_onsite_Ap_den_32_list[prob]),10)\n",
    "    y_int=np.exp(lr_LN_onsite.slope*np.log(x_int)+lr_LN_onsite.intercept)\n",
    "    ax.plot(x_int,y_int,label=r'LN$\\propto\\eta^{{{:.2f}}}$'.format(lr_LN_onsite.slope),color='orange')\n",
    "    ax.set_xlabel(r'$\\eta$')\n",
    "    ax.legend()\n",
    "    place_region_wire(140,220,fig,ax,color='yby')\n",
    "    fig.savefig('/mnt/d/kitp/Rp_SPT/7/Data_onsite_prob/32/MI_LN_inf_Born_onsite_Ap_prob({},{}).pdf'.format(prob[0],prob[1]))"
   ]
  },
  {
   "cell_type": "code",
   "execution_count": 36,
   "metadata": {},
   "outputs": [],
   "source": [
    "# prob_32_list=np.arange(1,200)/(np.arange(1,200)+1)\n",
    "onsite_LN_exp_32=np.array([x.slope for x in lr_LN_onsite_32_list])\n",
    "onsite_MI_exp_32=np.array([x.slope for x in lr_MI_onsite_32_list])"
   ]
  },
  {
   "cell_type": "code",
   "execution_count": 38,
   "metadata": {},
   "outputs": [
    {
     "data": {
      "image/png": "[encoded data removed]",
      "text/plain": [
       "<Figure size 489.6x288 with 1 Axes>"
      ]
     },
     "metadata": {
      "needs_background": "light"
     },
     "output_type": "display_data"
    }
   ],
   "source": [
    "fig,ax=plt.subplots()\n",
    "rate_onsite_16=[x[0]/x[1] for x in prob_onsite_16_list]\n",
    "sortindex=(np.argsort(rate_onsite_16))\n",
    "ax.plot(np.array(rate_onsite_16)[sortindex],onsite_MI_exp_16[sortindex],'-',label='MI (16)')\n",
    "ax.plot(np.array(rate_onsite_16)[sortindex],onsite_LN_exp_16[sortindex],'-',label='LN (16)')\n",
    "\n",
    "rate_onsite_32=[x[0]/x[1] for x in prob_onsite_32_list]\n",
    "sortindex=(np.argsort(rate_onsite_32))\n",
    "ax.plot(np.array(rate_onsite_32)[sortindex],onsite_MI_exp_32[sortindex],'-',label='MI (32)')\n",
    "ax.plot(np.array(rate_onsite_32)[sortindex],onsite_LN_exp_32[sortindex],'-',label='LN (32)')\n",
    "\n",
    "ax.legend()\n",
    "ax.set_xlabel('Measurement rate')\n",
    "ax.set_ylabel('exponent')\n",
    "ax.grid('on')\n",
    "fig.savefig('/mnt/d/kitp/Rp_SPT/7/Expo_Onsite.pdf',bbox_inches='tight')"
   ]
  },
  {
   "cell_type": "markdown",
   "metadata": {},
   "source": [
    "### link"
   ]
  },
  {
   "cell_type": "markdown",
   "metadata": {},
   "source": [
    "#### size of A 16"
   ]
  },
  {
   "cell_type": "code",
   "execution_count": 11,
   "metadata": {},
   "outputs": [],
   "source": [
    "pwd_16='/mnt/d/KITP/Rp_SPT/7/Data_link_prob/16'\n",
    "fn_link_16=[i for i in os.listdir(pwd_16) if '.pickle' in i]"
   ]
  },
  {
   "cell_type": "code",
   "execution_count": 12,
   "metadata": {},
   "outputs": [],
   "source": [
    "pwd_16='/mnt/d/KITP/Rp_SPT/7/Data_link_prob/16'\n",
    "fn_link_16=[i for i in os.listdir(pwd_16) if '.pickle' in i]\n",
    "prob_link_16_list=[]\n",
    "dist_den_link_16_list={}\n",
    "eta_inf_Born_link_Ap_den_16_list={}\n",
    "MI_inf_Born_link_Ap_den_16_list={}\n",
    "LN_inf_Born_link_Ap_den_16_list={}\n",
    "for fn in fn_link_16:\n",
    "    den=tuple([int(i) for i in (re.search(r'(?<=prob\\()(\\d)+\\,(\\d)+(?=\\))',fn).group(0)).split(',')])\n",
    "    prob_link_16_list.append(den)\n",
    "    with open(os.path.join(pwd_16,fn),'rb') as f:\n",
    "        [dist_den_link_16_list[den],eta_inf_Born_link_Ap_den_16_list[den],MI_inf_Born_link_Ap_den_16_list[den],LN_inf_Born_link_Ap_den_16_list[den]]=pickle.load(f)"
   ]
  },
  {
   "cell_type": "code",
   "execution_count": 13,
   "metadata": {},
   "outputs": [],
   "source": [
    "%%capture\n",
    "lr_MI_link_16_list=[]\n",
    "lr_LN_link_16_list=[]\n",
    "for prob in prob_link_16_list:\n",
    "    L=np.inf\n",
    "    MI_inf_Born_link_Ap_den_16_list_mean=MI_inf_Born_link_Ap_den_16_list[prob].mean(axis=1)\n",
    "    LN_inf_Born_link_Ap_den_16_list_mean=LN_inf_Born_link_Ap_den_16_list[prob].mean(axis=1)\n",
    "    # fig,ax=plt.subplots()\n",
    "    # ax.scatter(eta_inf_Born_link_Ap_den_16_list[prob],MI_inf_Born_link_Ap_den_16_list_mean,s=1,color='b',label='L={}, MI'.format(L))\n",
    "    # ax.scatter(eta_inf_Born_link_Ap_den_16_list[prob],LN_inf_Born_link_Ap_den_16_list_mean,s=1,color='r',label='L={}, LN'.format(L))\n",
    "\n",
    "    # ax.set_xscale('log')\n",
    "    # ax.set_yscale('log')\n",
    "    # ax.set_xlim([np.min(eta_inf_Born_link_Ap_den_16_list[prob]),np.max(eta_inf_Born_link_Ap_den_16_list[prob])])\n",
    "    # ax.set_ylim([1e-10,1])\n",
    "\n",
    "    mask_MI=(MI_inf_Born_link_Ap_den_16_list_mean>1e-10)&((eta_inf_Born_link_Ap_den_16_list[prob])<0.1)\n",
    "    lr_MI_link=scipy.stats.linregress(np.log(eta_inf_Born_link_Ap_den_16_list[prob][mask_MI]),np.log(MI_inf_Born_link_Ap_den_16_list_mean[mask_MI]))\n",
    "    lr_MI_link_16_list.append(lr_MI_link)\n",
    "    # x_int=np.linspace(np.min(eta_inf_Born_link_Ap_den_16_list[prob]),np.max(eta_inf_Born_link_Ap_den_16_list[prob]),10)\n",
    "    # y_int=np.exp(lr_MI_link.slope*np.log(x_int)+lr_MI_link.intercept)\n",
    "    # ax.plot(x_int,y_int,'c',label=r'MI$\\propto\\eta^{{{:.2f}}}$'.format(lr_MI_link.slope))\n",
    "\n",
    "    mask_LN=(LN_inf_Born_link_Ap_den_16_list_mean>1e-10)&((eta_inf_Born_link_Ap_den_16_list[prob])<0.1)\n",
    "    lr_LN_link=scipy.stats.linregress(np.log(eta_inf_Born_link_Ap_den_16_list[prob][mask_LN]),np.log(LN_inf_Born_link_Ap_den_16_list_mean[mask_LN]))\n",
    "    lr_LN_link_16_list.append(lr_LN_link)\n",
    "    # x_int=np.linspace(np.min(eta_inf_Born_link_Ap_den_16_list[prob]),np.max(eta_inf_Born_link_Ap_den_16_list[prob]),10)\n",
    "    # y_int=np.exp(lr_LN_link.slope*np.log(x_int)+lr_LN_link.intercept)\n",
    "    # ax.plot(x_int,y_int,label=r'LN$\\propto\\eta^{{{:.2f}}}$'.format(lr_LN_link.slope),color='orange')\n",
    "    # ax.set_xlabel(r'$\\eta$')\n",
    "    # ax.legend()\n",
    "    # place_region_wire(140,220,fig,ax,color='yby')\n",
    "    # fig.savefig('/mnt/d/kitp/Rp_SPT/7/Data_link_prob/16/MI_LN_inf_Born_link_Ap_prob({},{}).pdf'.format(prob[0],prob[1]))"
   ]
  },
  {
   "cell_type": "code",
   "execution_count": 14,
   "metadata": {},
   "outputs": [],
   "source": [
    "# prob_16_list=np.arange(1,200)/(np.arange(1,200)+1)\n",
    "link_LN_exp_16=np.array([x.slope for x in lr_LN_link_16_list])\n",
    "link_MI_exp_16=np.array([x.slope for x in lr_MI_link_16_list])"
   ]
  },
  {
   "cell_type": "markdown",
   "metadata": {},
   "source": [
    "#### size of A 32"
   ]
  },
  {
   "cell_type": "code",
   "execution_count": 136,
   "metadata": {},
   "outputs": [],
   "source": [
    "pwd_32='/mnt/d/KITP/Rp_SPT/7/Data_link_prob/32'\n",
    "fn_link_32=[i for i in os.listdir(pwd_32) if '.pickle' in i]"
   ]
  },
  {
   "cell_type": "code",
   "execution_count": 39,
   "metadata": {},
   "outputs": [],
   "source": [
    "pwd_32='/mnt/d/KITP/Rp_SPT/7/Data_link_prob/32'\n",
    "fn_link_32=[i for i in os.listdir(pwd_32) if '(8,200)_size32.pickle' in i]\n",
    "prob_link_32_list=[]\n",
    "dist_den_link_32_list={}\n",
    "eta_inf_Born_link_Ap_den_32_list={}\n",
    "MI_inf_Born_link_Ap_den_32_list={}\n",
    "LN_inf_Born_link_Ap_den_32_list={}\n",
    "for fn in fn_link_32:\n",
    "    den=tuple([int(i) for i in (re.search(r'(?<=prob\\()(\\d)+\\,(\\d)+(?=\\))',fn).group(0)).split(',')])\n",
    "    prob_link_32_list.append(den)\n",
    "    with open(os.path.join(pwd_32,fn),'rb') as f:\n",
    "        [dist_den_link_32_list[den],eta_inf_Born_link_Ap_den_32_list[den],MI_inf_Born_link_Ap_den_32_list[den],LN_inf_Born_link_Ap_den_32_list[den]]=pickle.load(f)"
   ]
  },
  {
   "cell_type": "code",
   "execution_count": 45,
   "metadata": {},
   "outputs": [],
   "source": [
    "%%capture\n",
    "lr_MI_link_32_list=[]\n",
    "lr_LN_link_32_list=[]\n",
    "for prob in prob_link_32_list:\n",
    "    L=np.inf\n",
    "    MI_inf_Born_link_Ap_den_32_list_mean=MI_inf_Born_link_Ap_den_32_list[prob].mean(axis=1)\n",
    "    LN_inf_Born_link_Ap_den_32_list_mean=LN_inf_Born_link_Ap_den_32_list[prob].mean(axis=1)\n",
    "    fig,ax=plt.subplots()\n",
    "    ax.scatter(eta_inf_Born_link_Ap_den_32_list[prob],MI_inf_Born_link_Ap_den_32_list_mean,s=1,color='b',label='L={}, MI'.format(L))\n",
    "    ax.scatter(eta_inf_Born_link_Ap_den_32_list[prob],LN_inf_Born_link_Ap_den_32_list_mean,s=1,color='r',label='L={}, LN'.format(L))\n",
    "\n",
    "    ax.set_xscale('log')\n",
    "    ax.set_yscale('log')\n",
    "    ax.set_xlim([np.min(eta_inf_Born_link_Ap_den_32_list[prob]),np.max(eta_inf_Born_link_Ap_den_32_list[prob])])\n",
    "    # ax.set_ylim([1e-10,1])\n",
    "\n",
    "    mask_MI=(MI_inf_Born_link_Ap_den_32_list_mean>1e-10)&((eta_inf_Born_link_Ap_den_32_list[prob])<0.4)\n",
    "    lr_MI_link=scipy.stats.linregress(np.log(eta_inf_Born_link_Ap_den_32_list[prob][mask_MI]),np.log(MI_inf_Born_link_Ap_den_32_list_mean[mask_MI]))\n",
    "    lr_MI_link_32_list.append(lr_MI_link)\n",
    "    x_int=np.linspace(np.min(eta_inf_Born_link_Ap_den_32_list[prob]),np.max(eta_inf_Born_link_Ap_den_32_list[prob]),10)\n",
    "    y_int=np.exp(lr_MI_link.slope*np.log(x_int)+lr_MI_link.intercept)\n",
    "    ax.plot(x_int,y_int,'c',label=r'MI$\\propto\\eta^{{{:.2f}}}$'.format(lr_MI_link.slope))\n",
    "\n",
    "    mask_LN=(LN_inf_Born_link_Ap_den_32_list_mean>1e-10)&((eta_inf_Born_link_Ap_den_32_list[prob])<0.4)\n",
    "    lr_LN_link=scipy.stats.linregress(np.log(eta_inf_Born_link_Ap_den_32_list[prob][mask_LN]),np.log(LN_inf_Born_link_Ap_den_32_list_mean[mask_LN]))\n",
    "    lr_LN_link_32_list.append(lr_LN_link)\n",
    "    x_int=np.linspace(np.min(eta_inf_Born_link_Ap_den_32_list[prob]),np.max(eta_inf_Born_link_Ap_den_32_list[prob]),10)\n",
    "    y_int=np.exp(lr_LN_link.slope*np.log(x_int)+lr_LN_link.intercept)\n",
    "    ax.plot(x_int,y_int,label=r'LN$\\propto\\eta^{{{:.2f}}}$'.format(lr_LN_link.slope),color='orange')\n",
    "    ax.set_xlabel(r'$\\eta$')\n",
    "    ax.legend()\n",
    "    place_region_wire(140,220,fig,ax,color='yby')\n",
    "    fig.savefig('/mnt/d/kitp/Rp_SPT/7/Data_link_prob/32/MI_LN_inf_Born_link_Ap_prob({},{}).pdf'.format(prob[0],prob[1]))"
   ]
  },
  {
   "cell_type": "code",
   "execution_count": 46,
   "metadata": {},
   "outputs": [],
   "source": [
    "# prob_32_list=np.arange(1,200)/(np.arange(1,200)+1)\n",
    "link_LN_exp_32=np.array([x.slope for x in lr_LN_link_32_list])\n",
    "link_MI_exp_32=np.array([x.slope for x in lr_MI_link_32_list])"
   ]
  },
  {
   "cell_type": "code",
   "execution_count": 47,
   "metadata": {},
   "outputs": [
    {
     "data": {
      "image/png": "[encoded data removed]",
      "text/plain": [
       "<Figure size 489.6x288 with 1 Axes>"
      ]
     },
     "metadata": {
      "needs_background": "light"
     },
     "output_type": "display_data"
    }
   ],
   "source": [
    "fig,ax=plt.subplots()\n",
    "rate_link_16=[x[0]/x[1] for x in prob_link_16_list]\n",
    "sortindex=(np.argsort(rate_link_16))\n",
    "ax.plot(np.array(rate_link_16)[sortindex],link_MI_exp_16[sortindex],'-',label='MI (16)')\n",
    "ax.plot(np.array(rate_link_16)[sortindex],link_LN_exp_16[sortindex],'-',label='LN (16)')\n",
    "\n",
    "rate_link_32=[x[0]/x[1] for x in prob_link_32_list]\n",
    "sortindex=(np.argsort(rate_link_32))\n",
    "ax.plot(np.array(rate_link_32)[sortindex],link_MI_exp_32[sortindex],'-',label='MI (32)')\n",
    "ax.plot(np.array(rate_link_32)[sortindex],link_LN_exp_32[sortindex],'-',label='LN (32)')\n",
    "\n",
    "ax.legend()\n",
    "ax.set_xlabel('Measurement rate')\n",
    "ax.set_ylabel('exponent')\n",
    "ax.set_yticks(np.arange(.25,1.25,.25))\n",
    "ax.grid('on')\n",
    "fig.savefig('/mnt/d/kitp/Rp_SPT/7/Expo_Link.pdf',bbox_inches='tight')"
   ]
  },
  {
   "cell_type": "code",
   "execution_count": null,
   "metadata": {},
   "outputs": [],
   "source": [
    "dist_den_list={}\n",
    "eta_inf_Born_link_Ap_den_list={}\n",
    "MI_inf_Born_link_Ap_den_list={}\n",
    "LN_inf_Born_link_Ap_den_list={}\n",
    "for den in range(1,200):\n",
    "    with open('/mnt/d/kitp/Rp_SPT/7/Data_link_prob/MI_LN_SSH_inf_Born_En1000_link_prob({},{})_dist(8,100).pickle'.format(den,den+1),'rb') as f:\n",
    "        [dist_den_list[den],eta_inf_Born_link_Ap_den_list[den],MI_inf_Born_link_Ap_den_list[den],LN_inf_Born_link_Ap_den_list[den]]=pickle.load(f)"
   ]
  },
  {
   "cell_type": "code",
   "execution_count": null,
   "metadata": {},
   "outputs": [],
   "source": [
    "lr_MI_link_list=[]\n",
    "lr_LN_link_list=[]\n",
    "for den in range(1,200):\n",
    "    L=np.inf\n",
    "    MI_inf_Born_link_Ap_den_list_mean=MI_inf_Born_link_Ap_den_list[den].mean(axis=1)\n",
    "    LN_inf_Born_link_Ap_den_list_mean=LN_inf_Born_link_Ap_den_list[den].mean(axis=1)\n",
    "    fig,ax=plt.subplots()\n",
    "    ax.scatter(eta_inf_Born_link_Ap_den_list[den],MI_inf_Born_link_Ap_den_list_mean,s=1,color='b',label='L={}, MI'.format(L))\n",
    "    ax.scatter(eta_inf_Born_link_Ap_den_list[den],LN_inf_Born_link_Ap_den_list_mean,s=1,color='r',label='L={}, LN'.format(L))\n",
    "\n",
    "    ax.set_xscale('log')\n",
    "    ax.set_yscale('log')\n",
    "    ax.set_xlim([np.min(eta_inf_Born_link_Ap_den_list[den]),np.max(eta_inf_Born_link_Ap_den_list[den])])\n",
    "    # ax.set_ylim([1e-10,1])\n",
    "\n",
    "    mask_MI=(MI_inf_Born_link_Ap_den_list_mean>1e-10)&((eta_inf_Born_link_Ap_den_list[den])<0.1)\n",
    "    lr_MI_link=scipy.stats.linregress(np.log(eta_inf_Born_link_Ap_den_list[den][mask_MI]),np.log(MI_inf_Born_link_Ap_den_list_mean[mask_MI]))\n",
    "    lr_MI_list.append(lr_MI)\n",
    "    x_int=np.linspace(np.min(eta_inf_Born_link_Ap_den_list[den]),np.max(eta_inf_Born_link_Ap_den_list[den]),10)\n",
    "    y_int=np.exp(lr_MI.slope*np.log(x_int)+lr_MI.intercept)\n",
    "    ax.plot(x_int,y_int,'c',label=r'MI$\\propto\\eta^{{{:.2f}}}$'.format(lr_MI.slope))\n",
    "\n",
    "    mask_LN=(LN_inf_Born_link_Ap_den_list_mean>1e-10)&((eta_inf_Born_link_Ap_den_list[den])<0.1)\n",
    "    lr_LN_link=scipy.stats.linregress(np.log(eta_inf_Born_link_Ap_den_list[den][mask_LN]),np.log(LN_inf_Born_link_Ap_den_list_mean[mask_LN]))\n",
    "    lr_LN_link_list.append(lr_LN_link)\n",
    "    x_int=np.linspace(np.min(eta_inf_Born_link_Ap_den_list[den]),np.max(eta_inf_Born_link_Ap_den_list[den]),10)\n",
    "    y_int=np.exp(lr_LN_link.slope*np.log(x_int)+lr_LN_link.intercept)\n",
    "    ax.plot(x_int,y_int,label=r'LN$\\propto\\eta^{{{:.2f}}}$'.format(lr_LN_link.slope),color='orange')\n",
    "    ax.set_xlabel(r'$\\eta$')\n",
    "    ax.legend()\n",
    "    place_region_wire(140,220,fig,ax,color='yby')\n",
    "    fig.savefig('/mnt/d/kitp/Rp_SPT/7/Data_link_prob/MI_LN_inf_Born_link_Ap_prob({},{}).pdf'.format(den,den+1))\n",
    "prob_list=np.arange(1,200)/(np.arange(1,200)+1)\n",
    "link_LN_exp=[x.slope for x in lr_LN_link_list]\n",
    "link_MI_exp=[x.slope for x in lr_MI_list]\n",
    "fig,ax=plt.subplots()\n",
    "ax.plot(prob_list,link_MI_exp,'.-',label='MI')\n",
    "ax.plot(prob_list,link_LN_exp,'.-',label='LN')\n",
    "ax.legend()\n",
    "ax.set_xlabel('Measurement rate')\n",
    "ax.set_ylabel('exponent')"
   ]
  },
  {
   "cell_type": "code",
   "execution_count": null,
   "metadata": {},
   "outputs": [],
   "source": [
    "prob_list=np.arange(1,200)/(np.arange(1,200)+1)\n",
    "link_LN_exp=[x.slope for x in lr_LN_link_list]\n",
    "link_MI_exp=[x.slope for x in lr_MI_link_list]"
   ]
  },
  {
   "cell_type": "code",
   "execution_count": null,
   "metadata": {},
   "outputs": [],
   "source": [
    "fig,ax=plt.subplots()\n",
    "ax.plot(prob_list,link_MI_exp,'.-',label='MI')\n",
    "ax.plot(prob_list,link_LN_exp,'.-',label='LN')\n",
    "ax.legend()\n",
    "ax.set_xlabel('Measurement rate')\n",
    "ax.set_ylabel('exponent')"
   ]
  },
  {
   "cell_type": "markdown",
   "metadata": {},
   "source": [
    "# von Neumann entropy"
   ]
  },
  {
   "cell_type": "code",
   "execution_count": null,
   "metadata": {},
   "outputs": [],
   "source": [
    "def generate_A_dep(w):\n",
    "    subregion_max_list=np.arange(2,50,2)\n",
    "    von_Neumann_entropy_list[w]=[]\n",
    "    params=Params(w=w,L=200)\n",
    "    for subregion_max in subregion_max_list:\n",
    "        von_Neumann_entropy_list[w].append(params.von_Neumann_entropy(np.arange(subregion_max)))"
   ]
  },
  {
   "cell_type": "code",
   "execution_count": null,
   "metadata": {},
   "outputs": [],
   "source": [
    "def generate_A_dep_2(w):\n",
    "    subregion_max_list=np.arange(20,100,2)\n",
    "    von_Neumann_entropy_list[w]=[]    \n",
    "    for subregion_max in subregion_max_list:\n",
    "        params=Params(w=w,L=subregion_max*4)\n",
    "        von_Neumann_entropy_list[w].append(params.von_Neumann_entropy(np.arange(subregion_max)))"
   ]
  },
  {
   "cell_type": "code",
   "execution_count": null,
   "metadata": {},
   "outputs": [],
   "source": [
    "von_Neumann_entropy_list={}\n",
    "for i in (0,0.5,0.8,1,2):\n",
    "    generate_A_dep(i)"
   ]
  },
  {
   "cell_type": "code",
   "execution_count": null,
   "metadata": {},
   "outputs": [],
   "source": [
    "for i in (0,0.5,.8,1,2):\n",
    "    generate_A_dep_2(i)"
   ]
  },
  {
   "cell_type": "code",
   "execution_count": null,
   "metadata": {},
   "outputs": [],
   "source": [
    "fig,ax=plt.subplots(figsize=(6.8,4))\n",
    "subregion_max_list=np.arange(2,50,2)\n",
    "for i,color in zip((0,0.5,0.8,1,2),('k','orange','pink','red','b')):\n",
    "    ax.plot(subregion_max_list,von_Neumann_entropy_list[i],'.',label=r'$w={}$'.format((i)),color=color)\n",
    "ax.legend(framealpha=0)\n",
    "# ax.plot(subregion_max_list,1/3*np.log(subregion_max_list))\n",
    "ax.margins(x=0)\n",
    "ax.axhline(y=2*np.log(2),ls='--')\n",
    "ax.text(2,2*np.log(2),r'$2\\log(2)$',ha='right',va='center')\n",
    "ax.set_xlabel(r'$|A|$')\n",
    "ax.set_ylabel(r'$S_A$')\n",
    "ax.set_yticks(np.arange(0,2.5,0.5))\n",
    "\n",
    "fig.tight_layout()\n",
    "\n",
    "fig.savefig('/mnt/d/kitp/Rp_SPT/1/SA_vs_A_L_fixed.pdf',bbox_inches='tight')"
   ]
  },
  {
   "cell_type": "code",
   "execution_count": null,
   "metadata": {},
   "outputs": [],
   "source": [
    "fig,ax=plt.subplots(figsize=(6.8,4))\n",
    "ax.plot(np.log(subregion_max_list),(von_Neumann_entropy_list[1]),'.')\n",
    "ax.set_xlabel(r'$\\log(|A|)$')\n",
    "ax.set_ylabel(r'$S_A$')\n",
    "lr=scipy.stats.linregress(np.log(subregion_max_list),(von_Neumann_entropy_list[1]))\n",
    "ax.plot(np.log(subregion_max_list),lr.slope*np.log(subregion_max_list)+lr.intercept,'b')\n",
    "ax.text(0.1,0.9,r'Fitted $y={:.4f}~x+ {:.4f}$'.format(lr.slope,lr.intercept),transform=ax.transAxes)\n",
    "fig.savefig('/mnt/d/kitp/Rp_SPT/1/critical_exponent.pdf',bbox_inches='tight')"
   ]
  },
  {
   "cell_type": "code",
   "execution_count": null,
   "metadata": {},
   "outputs": [],
   "source": [
    "fig,ax=plt.subplots(figsize=(6.8,4))\n",
    "subregion_max_list=np.arange(20,100,2)\n",
    "for i,color in zip((0,0.5,0.8,1,2),('k','orange','pink','red','b')):\n",
    "    ax.plot(subregion_max_list,von_Neumann_entropy_list[i],'.',label=r'$\\mu={}$'.format((i)),color=color)\n",
    "ax.legend()\n",
    "# ax.plot(subregion_max_list,1/3*np.log(subregion_max_list))\n",
    "ax.margins(x=0)\n",
    "ax.axhline(y=np.log(2),ls='--')\n",
    "ax.text(-1,np.log(2),r'$\\log(2)$')\n",
    "ax.set_xlabel(r'$|A|$')\n",
    "ax.set_ylabel(r'$S_A$')\n",
    "\n",
    "# fig.savefig('/mnt/d/kitp/Rp_SPT/1/SA_vs_A_L_fixed.pdf',bbox_inches='tight')"
   ]
  },
  {
   "cell_type": "code",
   "execution_count": null,
   "metadata": {},
   "outputs": [],
   "source": [
    "fig,ax=plt.subplots(figsize=(6.8,4))\n",
    "ax.plot(np.log(subregion_max_list),(von_Neumann_entropy_list[1]))\n",
    "ax.set_xlabel(r'$\\log(|A|)$')\n",
    "ax.set_ylabel(r'$S_A$')\n",
    "ax.text(0.1,0.9,r'Fitted $y=0.1676~x+ 0.354$',transform=ax.transAxes)\n",
    "# fig.savefig('/mnt/d/kitp/Rp_SPT/1/critical_exponent.pdf',bbox_inches='tight')"
   ]
  },
  {
   "cell_type": "code",
   "execution_count": null,
   "metadata": {},
   "outputs": [],
   "source": [
    "w_list=np.linspace(0.01,2,50)\n",
    "von_Neumann_entropy_w_list=[]\n",
    "spectrum_gap_list=[]\n",
    "for w in w_list:\n",
    "    params=Params(w=w,L=100)\n",
    "    von_Neumann_entropy_w_list.append(params.von_Neumann_entropy(np.arange(10)))\n",
    "    val=params.val\n",
    "    spectrum_gap_list.append(np.max(val[val<0])-np.min(val[val>0]))"
   ]
  },
  {
   "cell_type": "code",
   "execution_count": null,
   "metadata": {},
   "outputs": [],
   "source": [
    "plt.plot(w_list,von_Neumann_entropy_w_list)\n",
    "plt.plot(w_list,np.abs(spectrum_gap_list))"
   ]
  },
  {
   "cell_type": "code",
   "execution_count": null,
   "metadata": {},
   "outputs": [],
   "source": [
    "plt.plot(w_list,np.abs(spectrum_gap_list))"
   ]
  },
  {
   "cell_type": "code",
   "execution_count": null,
   "metadata": {},
   "outputs": [],
   "source": [
    "derivative=(np.array(von_Neumann_entropy_w_list[2:])-np.array(von_Neumann_entropy_w_list[:-2]))/(w_list[1]-w_list[0])"
   ]
  },
  {
   "cell_type": "code",
   "execution_count": null,
   "metadata": {},
   "outputs": [],
   "source": [
    "plt.plot(w_list[1:-1],np.abs(derivative))"
   ]
  },
  {
   "cell_type": "code",
   "execution_count": null,
   "metadata": {},
   "outputs": [],
   "source": [
    "fig,ax=plt.subplots()\n",
    "for index in range(eigvallist[0].shape[0]):\n",
    "    ax.plot(wlist,np.array(eigvallist)[:,index],'k')\n",
    "    ax.set_ylim([-2,2])\n"
   ]
  },
  {
   "cell_type": "markdown",
   "metadata": {},
   "source": [
    "# Mutual information"
   ]
  },
  {
   "cell_type": "code",
   "execution_count": null,
   "metadata": {},
   "outputs": [],
   "source": [
    "MI_list={}"
   ]
  },
  {
   "cell_type": "markdown",
   "metadata": {},
   "source": [
    "## w=0.5"
   ]
  },
  {
   "cell_type": "code",
   "execution_count": null,
   "metadata": {},
   "outputs": [],
   "source": [
    "dist_list=np.arange(10,50,2)\n",
    "MI_list[0.5]=[]\n",
    "params=Params(w=0.5,L=200)\n",
    "for dist in dist_list:\n",
    "    MI_list[.5].append(params.mutual_information(np.arange(10),np.arange(dist,dist+10)))"
   ]
  },
  {
   "cell_type": "code",
   "execution_count": null,
   "metadata": {},
   "outputs": [],
   "source": [
    "fig,ax1=plt.subplots(figsize=(6.8,4))\n",
    "\n",
    "color = 'tab:red'\n",
    "ax1.set_xlabel('distance between A and B')\n",
    "ax1.set_ylabel(r'mutual information $I(A;B)$', color=color)\n",
    "ax1.plot(dist_list,MI_list[.5],'.', color=color)\n",
    "ax1.tick_params(axis='y', labelcolor=color)\n",
    "ax1.set_ylim(-0.01,0.4)\n",
    "\n",
    "ax2 = ax1.twinx()  \n",
    "\n",
    "color = 'tab:blue'\n",
    "ax2.set_ylabel(r'$\\log(I(A;B))$', color=color)  \n",
    "ax2.plot(dist_list,np.log(MI_list[.5]),'.', color=color)\n",
    "ax2.tick_params(axis='y', labelcolor=color)\n",
    "lr=scipy.stats.linregress(dist_list,np.log(MI_list[.5]))\n",
    "ax2.text(.6,.8,r'Fitted: $y={:.4f}~x+{:.4f}$'.format(lr.slope,lr.intercept),transform=ax2.transAxes)\n",
    "ax2.text(.68,.7,r'$R^2={:f}$'.format(lr.rvalue),transform=ax2.transAxes)\n",
    "\n",
    "ax2.plot(dist_list,lr.slope*dist_list+lr.intercept,color=color)\n",
    "\n",
    "fig.tight_layout()\n",
    "fig.savefig('/mnt/d/kitp/Rp_SPT/1/MI_mu0.5.pdf',bbox_inches='tight')\n"
   ]
  },
  {
   "cell_type": "markdown",
   "metadata": {},
   "source": [
    "## w=2"
   ]
  },
  {
   "cell_type": "code",
   "execution_count": null,
   "metadata": {},
   "outputs": [],
   "source": [
    "dist_list=np.arange(10,50,2)\n",
    "MI_list[2]=[]\n",
    "params=Params(w=2,L=200)\n",
    "for dist in dist_list:\n",
    "    MI_list[2].append(params.mutual_information(np.arange(10),np.arange(dist,dist+10)))"
   ]
  },
  {
   "cell_type": "code",
   "execution_count": null,
   "metadata": {},
   "outputs": [],
   "source": [
    "fig,ax1=plt.subplots(figsize=(6.8,4))\n",
    "\n",
    "color = 'tab:red'\n",
    "ax1.set_xlabel('distance between A and B')\n",
    "ax1.set_ylabel(r'mutual information $I(A;B)$', color=color)\n",
    "ax1.plot(dist_list,MI_list[2],'.', color=color)\n",
    "ax1.tick_params(axis='y', labelcolor=color)\n",
    "ax1.set_ylim(-0.01,1.6)\n",
    "\n",
    "ax2 = ax1.twinx()  \n",
    "\n",
    "color = 'tab:blue'\n",
    "ax2.set_ylabel(r'$\\log(I(A;B))$', color=color)  \n",
    "ax2.plot(dist_list,np.log(MI_list[2]), '.',color=color)\n",
    "ax2.tick_params(axis='y', labelcolor=color)\n",
    "lr=scipy.stats.linregress(dist_list,np.log(MI_list[2]))\n",
    "ax2.text(.6,.8,r'Fitted: $y={:.4f}~x+{:.4f}$'.format(lr.slope,lr.intercept),transform=ax2.transAxes)\n",
    "ax2.text(.68,.7,r'$R^2={:f}$'.format(lr.rvalue),transform=ax2.transAxes)\n",
    "\n",
    "ax2.plot(dist_list,lr.slope*dist_list+lr.intercept,color=color)\n",
    "\n",
    "fig.tight_layout()\n",
    "fig.savefig('/mnt/d/kitp/Rp_SPT/1/MI_mu2.pdf',bbox_inches='tight')\n"
   ]
  },
  {
   "cell_type": "code",
   "execution_count": null,
   "metadata": {},
   "outputs": [],
   "source": [
    "1/lr.slope"
   ]
  },
  {
   "cell_type": "markdown",
   "metadata": {},
   "source": [
    "## w=1"
   ]
  },
  {
   "cell_type": "code",
   "execution_count": null,
   "metadata": {},
   "outputs": [],
   "source": [
    "dist_list=np.arange(10,190,2)\n",
    "MI_list[1]=[]\n",
    "params=Params(w=1,L=200)\n",
    "for dist in dist_list:\n",
    "    MI_list[1].append(params.mutual_information(np.arange(10),np.arange(dist,dist+10)))"
   ]
  },
  {
   "cell_type": "code",
   "execution_count": null,
   "metadata": {},
   "outputs": [],
   "source": [
    "fig=plt.figure()\n",
    "ax1=fig.add_subplot(111, label=\"1\")\n",
    "ax2=fig.add_subplot(111, label=\"2\",frame_on=False)\n",
    "\n",
    "color = 'tab:red'\n",
    "ax1.set_xlabel('distance between A and B', color=color)\n",
    "ax1.set_ylabel(r'mutual information $I(A;B)$', color=color)\n",
    "ax1.plot(dist_list,MI_list[1],'.', color=color)\n",
    "ax1.tick_params(axis='y', labelcolor=color)\n",
    "ax1.tick_params(axis='x', labelcolor=color)\n",
    "ax1.set_ylim(-0.01,1.4)\n",
    "\n",
    "color = 'tab:blue'\n",
    "ax2.plot(np.log(dist_list),np.log(MI_list[1]),'.', color=color)\n",
    "ax2.xaxis.tick_top()\n",
    "ax2.yaxis.tick_right()\n",
    "ax2.xaxis.set_label_position('top') \n",
    "ax2.yaxis.set_label_position('right') \n",
    "ax2.set_xlabel(r'log distance', color=color)\n",
    "ax2.set_ylabel(r'$\\log(I(A;B))$', color=color)  \n",
    "ax2.tick_params(axis='y', labelcolor=color)\n",
    "ax2.tick_params(axis='x', labelcolor=color)\n",
    "\n",
    "mask=(np.log(dist_list)<4.5)*(np.log(dist_list)>3)\n",
    "lr=scipy.stats.linregress(np.log(dist_list)[mask],np.log(MI_list[1])[mask])\n",
    "ax2.text(.6,.8,r'Fitted: $y={:.4f}~x+{:.4f}$'.format(lr.slope,lr.intercept),transform=ax2.transAxes)\n",
    "ax2.text(.68,.7,r'$R^2={:f}$'.format(lr.rvalue),transform=ax2.transAxes)\n",
    "ax2.plot(np.log(dist_list),lr.slope*np.log(dist_list)+lr.intercept,color=color)\n",
    "\n",
    "ax2.axvline(x=np.log(dist_list)[mask][0],lw=1,ls='--')\n",
    "ax2.axvline(x=np.log(dist_list)[mask][-1],lw=1,ls='--')\n",
    "\n",
    "fig.tight_layout()\n",
    "\n",
    "fig.savefig('/mnt/d/kitp/Rp_SPT/1/MI_mu1.pdf',bbox_inches='tight')"
   ]
  },
  {
   "cell_type": "code",
   "execution_count": null,
   "metadata": {},
   "outputs": [],
   "source": [
    "\n",
    "dist_list[0]"
   ]
  },
  {
   "cell_type": "code",
   "execution_count": null,
   "metadata": {},
   "outputs": [],
   "source": [
    "np.log(22)"
   ]
  },
  {
   "cell_type": "code",
   "execution_count": null,
   "metadata": {},
   "outputs": [],
   "source": [
    "\n",
    "np.log(dist_list)[mask]"
   ]
  },
  {
   "cell_type": "code",
   "execution_count": null,
   "metadata": {},
   "outputs": [],
   "source": [
    "\n",
    "np.log(dist_list)[mask][0]"
   ]
  },
  {
   "cell_type": "code",
   "execution_count": null,
   "metadata": {},
   "outputs": [],
   "source": [
    "np.exp([3,4.5])"
   ]
  },
  {
   "cell_type": "code",
   "execution_count": null,
   "metadata": {},
   "outputs": [],
   "source": [
    "\n",
    "np.log(20)"
   ]
  },
  {
   "cell_type": "markdown",
   "metadata": {},
   "source": [
    "# Class"
   ]
  },
  {
   "cell_type": "code",
   "execution_count": null,
   "metadata": {},
   "outputs": [],
   "source": [
    "import numpy as np\n",
    "import scipy.sparse as sp\n",
    "import scipy.sparse.linalg as sla\n",
    "import scipy.linalg as la"
   ]
  },
  {
   "cell_type": "code",
   "execution_count": null,
   "metadata": {},
   "outputs": [],
   "source": [
    "class Params_o:\n",
    "    def __init__(self,\n",
    "    L=100,\n",
    "    v=1,\n",
    "    w=1,\n",
    "    T=0,\n",
    "    pbc=True):\n",
    "        self.L=L\n",
    "        self.v=v\n",
    "        self.w=w\n",
    "        self.T=T\n",
    "        self.pbc=pbc\n",
    "        band=np.vstack([np.ones(L)*v,np.ones(L)*w]).flatten('F')        \n",
    "        Ham=sp.diags(np.array([band[:-1],band[:-1]]),np.array([-1,1]),shape=(2*L,2*L)).tocsr()\n",
    "        Ham[0,2*L-1]=w*pbc\n",
    "        Ham[2*L-1,0]=w*pbc\n",
    "        self.Hamiltonian=Ham\n",
    "\n",
    "    def fermi_dist(self,energy,E_F):      \n",
    "        if self.T==0:\n",
    "            return np.heaviside(E_F-energy,0)\n",
    "        else:\n",
    "            return 1/(1+np.exp((energy-E_F)/self.T))\n",
    "\n",
    "    def bandstructure(self):\n",
    "        val,vec=la.eigh(self.Hamiltonian.toarray())\n",
    "        sortindex=np.argsort(val)\n",
    "        self.val=val[sortindex]\n",
    "        self.vec=vec[:,sortindex]\n",
    "\n",
    "    def covariance_matrix_loop(self):\n",
    "        '''\n",
    "        Use loop to calculate covariance matrix (deprecated)\n",
    "        '''\n",
    "        self.C_loop=np.zeros((2*self.L,2*self.L))\n",
    "        for i in range(2*self.L):\n",
    "            for j in range(2*self.L):\n",
    "                self.C_loop[i,j]=self.c_ij(i,j)\n",
    "\n",
    "    def covariance_matrix(self,E_F=0):\n",
    "        if not (hasattr(self,'val') and hasattr(self,'vec')):\n",
    "            self.bandstructure()\n",
    "        occupancy=self.fermi_dist(self.val,E_F)\n",
    "        occupancy_mat=np.matlib.repmat(self.fermi_dist(self.val,E_F),self.vec.shape[0],1)\n",
    "        self.C=(occupancy_mat*self.vec)@self.vec.T.conj()\n",
    "        \n",
    "\n",
    "\n",
    "    def c_ij(self,i,j,E_F=0):\n",
    "        if not (hasattr(self,'val') and hasattr(self,'vec')):\n",
    "            self.bandstructure()\n",
    "\n",
    "        occupancy=self.fermi_dist(self.val,E_F)\n",
    "        bra_i=self.vec[i,:] # c_i\n",
    "        ket_j=self.vec[j,:] # c_j\n",
    "        return np.sum(bra_i.conj()*ket_j*occupancy)\n",
    "\n",
    "    def c_subregion(self,subregion):\n",
    "        if not hasattr(self,'C'):\n",
    "            self.covariance_matrix()\n",
    "        XX,YY=np.meshgrid(np.arange(2*self.L),np.arange(2*self.L))\n",
    "        mask=np.isin(XX,subregion)*np.isin(YY,subregion)        \n",
    "        return self.C[mask].reshape((subregion.shape[0],subregion.shape[0]))\n",
    "\n",
    "    def von_Neumann_entropy(self,subregion):\n",
    "        c_A=self.c_subregion(subregion)\n",
    "        val,vec=la.eigh(c_A)\n",
    "        self.val_sh=val\n",
    "        # return np.real(-np.sum(val*np.log(val+1e-18j)))\n",
    "        return np.real(-np.sum(val*np.log(val+1e-18j))-np.sum((1-val)*np.log(1-val+1e-18j)))\n",
    "\n",
    "    def mutual_information(self,subregion_A,subregion_B):\n",
    "        s_A=self.von_Neumann_entropy(subregion_A)\n",
    "        s_B=self.von_Neumann_entropy(subregion_B)\n",
    "        subregion_AB=np.hstack([subregion_A,subregion_B])\n",
    "        s_AB=self.von_Neumann_entropy(subregion_AB)\n",
    "        return s_A+s_B-s_AB"
   ]
  },
  {
   "cell_type": "code",
   "execution_count": null,
   "metadata": {},
   "outputs": [],
   "source": [
    "params_o=Params_o(v=1-0.5,w=1+0.5,L=100)"
   ]
  },
  {
   "cell_type": "code",
   "execution_count": null,
   "metadata": {},
   "outputs": [],
   "source": [
    "params_o.mutual_information(np.arange(10),np.arange(10)+10)"
   ]
  },
  {
   "cell_type": "code",
   "execution_count": null,
   "metadata": {},
   "outputs": [],
   "source": [
    "zz=list(map(lambda x:params_o.von_Neumann_entropy(np.arange(x)),range(10,100,2)))"
   ]
  },
  {
   "cell_type": "code",
   "execution_count": null,
   "metadata": {},
   "outputs": [],
   "source": [
    "plt.plot(zz)"
   ]
  },
  {
   "cell_type": "code",
   "execution_count": null,
   "metadata": {},
   "outputs": [],
   "source": [
    "print(np.round(params_o.C[:6,:6],4))"
   ]
  },
  {
   "cell_type": "code",
   "execution_count": null,
   "metadata": {},
   "outputs": [],
   "source": [
    "band_list=[]\n",
    "for v in np.linspace(0,2,100):\n",
    "    params=Params_o(v=v,pbc=False)\n",
    "    params.bandstructure()\n",
    "    band_list.append(params.val)"
   ]
  },
  {
   "cell_type": "code",
   "execution_count": null,
   "metadata": {},
   "outputs": [],
   "source": []
  },
  {
   "cell_type": "code",
   "execution_count": null,
   "metadata": {},
   "outputs": [],
   "source": [
    "band_list=np.array(band_list)"
   ]
  },
  {
   "cell_type": "code",
   "execution_count": null,
   "metadata": {},
   "outputs": [],
   "source": [
    "plt.plot(np.linspace(0,2,100),band_list)\n",
    "plt.ylim([-1,1])"
   ]
  },
  {
   "cell_type": "code",
   "execution_count": null,
   "metadata": {},
   "outputs": [],
   "source": []
  },
  {
   "cell_type": "code",
   "execution_count": null,
   "metadata": {},
   "outputs": [],
   "source": []
  }
 ],
 "metadata": {
  "interpreter": {
   "hash": "6aee4f39eba147985a2c1cbf1db4ebecc02362fa8877deaa860706b7b1b97f3d"
  },
  "kernelspec": {
   "display_name": "Python 3.8.8 64-bit ('base': conda)",
   "name": "python3"
  },
  "language_info": {
   "codemirror_mode": {
    "name": "ipython",
    "version": 3
   },
   "file_extension": ".py",
   "mimetype": "text/x-python",
   "name": "python",
   "nbconvert_exporter": "python",
   "pygments_lexer": "ipython3",
   "version": "3.8.8"
  },
  "orig_nbformat": 2
 },
 "nbformat": 4,
 "nbformat_minor": 2
}